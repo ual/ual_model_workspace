{
 "cells": [
  {
   "cell_type": "code",
   "execution_count": 2,
   "metadata": {},
   "outputs": [],
   "source": [
    "import pandas as pd\n",
    "import requests\n",
    "import json"
   ]
  },
  {
   "cell_type": "markdown",
   "metadata": {},
   "source": [
    "### Get the census data with API for housing type and tenure for 9-county Bay Area"
   ]
  },
  {
   "cell_type": "markdown",
   "metadata": {},
   "source": [
    "#### 1. SF County"
   ]
  },
  {
   "cell_type": "code",
   "execution_count": 3,
   "metadata": {},
   "outputs": [
    {
     "name": "stdout",
     "output_type": "stream",
     "text": [
      "(582, 28)\n"
     ]
    }
   ],
   "source": [
    "#Variable names at http://api.census.gov/data/2015/acs5/variables.html\n",
    "#https://www.census.gov/content/dam/Census/programs-surveys/acs/guidance/training-presentations/ACS_Census_API.pdf\n",
    "\n",
    "# gather all building structure data with tenure from 2015/5-year ACS\n",
    "endpoint_url = \"https://api.census.gov/data/2015/acs5?get=B25032_001E,B25032_002E,\\\n",
    "B25032_003E,B25032_004E,B25032_005E,B25032_006E,B25032_007E,B25032_008E,B25032_009E\\\n",
    ",B25032_010E,B25032_011E,B25032_012E,B25032_013E,B25032_013E,B25032_014E,\\\n",
    "B25032_015E,B25032_016E,B25032_017E,B25032_018E,B25032_019E,B25032_020E,B25032_021E,\\\n",
    "B25032_022E,B25032_023E&for=block group:*&\\\n",
    "in=state:06+county:075&key=181ed8c64531c167176365d52ac460d969d54cf2\"\n",
    "response = requests.get(endpoint_url)\n",
    "moderesults = response.text\n",
    "\n",
    "# send data to dataframe\n",
    "data1 = json.loads(moderesults)\n",
    "SanFrancisco = pd.DataFrame(data1)\n",
    "print(SanFrancisco.shape)"
   ]
  },
  {
   "cell_type": "markdown",
   "metadata": {},
   "source": [
    "#### 2. San Mateo County"
   ]
  },
  {
   "cell_type": "code",
   "execution_count": 4,
   "metadata": {},
   "outputs": [
    {
     "name": "stdout",
     "output_type": "stream",
     "text": [
      "(464, 28)\n"
     ]
    }
   ],
   "source": [
    "#Variable names at http://api.census.gov/data/2015/acs5/variables.html\n",
    "#https://www.census.gov/content/dam/Census/programs-surveys/acs/guidance/training-presentations/ACS_Census_API.pdf\n",
    "\n",
    "# gather all building structure data with tenure from 2015/5-year ACS\n",
    "endpoint_url = \"http://api.census.gov/data/2015/acs5?get=B25032_001E,B25032_002E,\\\n",
    "B25032_003E,B25032_004E,B25032_005E,B25032_006E,B25032_007E,B25032_008E,B25032_009E\\\n",
    ",B25032_010E,B25032_011E,B25032_012E,B25032_013E,B25032_013E,B25032_014E,\\\n",
    "B25032_015E,B25032_016E,B25032_017E,B25032_018E,B25032_019E,B25032_020E,B25032_021E,\\\n",
    "B25032_022E,B25032_023E&for=block group:*&\\\n",
    "in=state:06+county:081&key=1b25b78833bba98e3fcff96e2551f00c71e42a22\"\n",
    "response = requests.get(endpoint_url)\n",
    "moderesults = response.text\n",
    "\n",
    "# send data to dataframe\n",
    "data1 = json.loads(moderesults)\n",
    "SanMateo = pd.DataFrame(data1)\n",
    "print(SanMateo.shape)"
   ]
  },
  {
   "cell_type": "markdown",
   "metadata": {},
   "source": [
    "#### 3. Santa Clara County"
   ]
  },
  {
   "cell_type": "code",
   "execution_count": 5,
   "metadata": {},
   "outputs": [
    {
     "name": "stdout",
     "output_type": "stream",
     "text": [
      "(1076, 28)\n"
     ]
    }
   ],
   "source": [
    "#Variable names at http://api.census.gov/data/2015/acs5/variables.html\n",
    "#https://www.census.gov/content/dam/Census/programs-surveys/acs/guidance/training-presentations/ACS_Census_API.pdf\n",
    "\n",
    "# gather all building structure data with tenure from 2015/5-year ACS\n",
    "endpoint_url = \"http://api.census.gov/data/2015/acs5?get=B25032_001E,B25032_002E,\\\n",
    "B25032_003E,B25032_004E,B25032_005E,B25032_006E,B25032_007E,B25032_008E,B25032_009E\\\n",
    ",B25032_010E,B25032_011E,B25032_012E,B25032_013E,B25032_013E,B25032_014E,\\\n",
    "B25032_015E,B25032_016E,B25032_017E,B25032_018E,B25032_019E,B25032_020E,B25032_021E,\\\n",
    "B25032_022E,B25032_023E&for=block group:*&\\\n",
    "in=state:06+county:085&key=1b25b78833bba98e3fcff96e2551f00c71e42a22\"\n",
    "response = requests.get(endpoint_url)\n",
    "moderesults = response.text\n",
    "\n",
    "# send data to dataframe\n",
    "data1 = json.loads(moderesults)\n",
    "SantaClara = pd.DataFrame(data1)\n",
    "print(SantaClara.shape)"
   ]
  },
  {
   "cell_type": "markdown",
   "metadata": {},
   "source": [
    "#### 4. Marin County"
   ]
  },
  {
   "cell_type": "code",
   "execution_count": 6,
   "metadata": {},
   "outputs": [
    {
     "name": "stdout",
     "output_type": "stream",
     "text": [
      "(176, 28)\n"
     ]
    }
   ],
   "source": [
    "#Variable names at http://api.census.gov/data/2015/acs5/variables.html\n",
    "#https://www.census.gov/content/dam/Census/programs-surveys/acs/guidance/training-presentations/ACS_Census_API.pdf\n",
    "\n",
    "# gather all building structure data with tenure from 2015/5-year ACS\n",
    "endpoint_url = \"http://api.census.gov/data/2015/acs5?get=B25032_001E,B25032_002E,\\\n",
    "B25032_003E,B25032_004E,B25032_005E,B25032_006E,B25032_007E,B25032_008E,B25032_009E\\\n",
    ",B25032_010E,B25032_011E,B25032_012E,B25032_013E,B25032_013E,B25032_014E,\\\n",
    "B25032_015E,B25032_016E,B25032_017E,B25032_018E,B25032_019E,B25032_020E,B25032_021E,\\\n",
    "B25032_022E,B25032_023E&for=block group:*&\\\n",
    "in=state:06+county:041&key=1b25b78833bba98e3fcff96e2551f00c71e42a22\"\n",
    "response = requests.get(endpoint_url)\n",
    "moderesults = response.text\n",
    "\n",
    "# send data to dataframe\n",
    "data1 = json.loads(moderesults)\n",
    "Marin = pd.DataFrame(data1)\n",
    "print(Marin.shape)"
   ]
  },
  {
   "cell_type": "markdown",
   "metadata": {},
   "source": [
    "#### 5. Napa County"
   ]
  },
  {
   "cell_type": "code",
   "execution_count": 7,
   "metadata": {},
   "outputs": [
    {
     "name": "stdout",
     "output_type": "stream",
     "text": [
      "(107, 28)\n"
     ]
    }
   ],
   "source": [
    "#Variable names at http://api.census.gov/data/2015/acs5/variables.html\n",
    "#https://www.census.gov/content/dam/Census/programs-surveys/acs/guidance/training-presentations/ACS_Census_API.pdf\n",
    "\n",
    "# gather all building structure data with tenure from 2015/5-year ACS\n",
    "endpoint_url = \"http://api.census.gov/data/2015/acs5?get=B25032_001E,B25032_002E,\\\n",
    "B25032_003E,B25032_004E,B25032_005E,B25032_006E,B25032_007E,B25032_008E,B25032_009E\\\n",
    ",B25032_010E,B25032_011E,B25032_012E,B25032_013E,B25032_013E,B25032_014E,\\\n",
    "B25032_015E,B25032_016E,B25032_017E,B25032_018E,B25032_019E,B25032_020E,B25032_021E,\\\n",
    "B25032_022E,B25032_023E&for=block group:*&\\\n",
    "in=state:06+county:055&key=1b25b78833bba98e3fcff96e2551f00c71e42a22\"\n",
    "response = requests.get(endpoint_url)\n",
    "moderesults = response.text\n",
    "\n",
    "# send data to dataframe\n",
    "data1 = json.loads(moderesults)\n",
    "Napa = pd.DataFrame(data1)\n",
    "print(Napa.shape)"
   ]
  },
  {
   "cell_type": "markdown",
   "metadata": {},
   "source": [
    "#### 6. Alameda County"
   ]
  },
  {
   "cell_type": "code",
   "execution_count": 8,
   "metadata": {},
   "outputs": [
    {
     "name": "stdout",
     "output_type": "stream",
     "text": [
      "(1048, 28)\n"
     ]
    }
   ],
   "source": [
    "#Variable names at http://api.census.gov/data/2015/acs5/variables.html\n",
    "#https://www.census.gov/content/dam/Census/programs-surveys/acs/guidance/training-presentations/ACS_Census_API.pdf\n",
    "\n",
    "# gather all building structure data with tenure from 2015/5-year ACS\n",
    "endpoint_url = \"http://api.census.gov/data/2015/acs5?get=B25032_001E,B25032_002E,\\\n",
    "B25032_003E,B25032_004E,B25032_005E,B25032_006E,B25032_007E,B25032_008E,B25032_009E\\\n",
    ",B25032_010E,B25032_011E,B25032_012E,B25032_013E,B25032_013E,B25032_014E,\\\n",
    "B25032_015E,B25032_016E,B25032_017E,B25032_018E,B25032_019E,B25032_020E,B25032_021E,\\\n",
    "B25032_022E,B25032_023E&for=block group:*&\\\n",
    "in=state:06+county:001&key=1b25b78833bba98e3fcff96e2551f00c71e42a22\"\n",
    "response = requests.get(endpoint_url)\n",
    "moderesults = response.text\n",
    "\n",
    "# send data to dataframe\n",
    "data1 = json.loads(moderesults)\n",
    "Alameda = pd.DataFrame(data1)\n",
    "print(Alameda.shape)"
   ]
  },
  {
   "cell_type": "markdown",
   "metadata": {},
   "source": [
    "#### 7. Contra Costa County"
   ]
  },
  {
   "cell_type": "code",
   "execution_count": 9,
   "metadata": {},
   "outputs": [
    {
     "name": "stdout",
     "output_type": "stream",
     "text": [
      "(638, 28)\n"
     ]
    }
   ],
   "source": [
    "#Variable names at http://api.census.gov/data/2015/acs5/variables.html\n",
    "#https://www.census.gov/content/dam/Census/programs-surveys/acs/guidance/training-presentations/ACS_Census_API.pdf\n",
    "\n",
    "# gather all building structure data with tenure from 2015/5-year ACS\n",
    "endpoint_url = \"http://api.census.gov/data/2015/acs5?get=B25032_001E,B25032_002E,\\\n",
    "B25032_003E,B25032_004E,B25032_005E,B25032_006E,B25032_007E,B25032_008E,B25032_009E\\\n",
    ",B25032_010E,B25032_011E,B25032_012E,B25032_013E,B25032_013E,B25032_014E,\\\n",
    "B25032_015E,B25032_016E,B25032_017E,B25032_018E,B25032_019E,B25032_020E,B25032_021E,\\\n",
    "B25032_022E,B25032_023E&for=block group:*&\\\n",
    "in=state:06+county:013&key=1b25b78833bba98e3fcff96e2551f00c71e42a22\"\n",
    "response = requests.get(endpoint_url)\n",
    "moderesults = response.text\n",
    "\n",
    "# send data to dataframe\n",
    "data1 = json.loads(moderesults)\n",
    "ContraCosta = pd.DataFrame(data1)\n",
    "print(ContraCosta.shape)"
   ]
  },
  {
   "cell_type": "markdown",
   "metadata": {},
   "source": [
    "#### 8. Solano County"
   ]
  },
  {
   "cell_type": "code",
   "execution_count": 10,
   "metadata": {},
   "outputs": [
    {
     "name": "stdout",
     "output_type": "stream",
     "text": [
      "(286, 28)\n"
     ]
    }
   ],
   "source": [
    "#Variable names at http://api.census.gov/data/2015/acs5/variables.html\n",
    "#https://www.census.gov/content/dam/Census/programs-surveys/acs/guidance/training-presentations/ACS_Census_API.pdf\n",
    "\n",
    "# gather all building structure data with tenure from 2015/5-year ACS\n",
    "endpoint_url = \"http://api.census.gov/data/2015/acs5?get=B25032_001E,B25032_002E,\\\n",
    "B25032_003E,B25032_004E,B25032_005E,B25032_006E,B25032_007E,B25032_008E,B25032_009E\\\n",
    ",B25032_010E,B25032_011E,B25032_012E,B25032_013E,B25032_013E,B25032_014E,\\\n",
    "B25032_015E,B25032_016E,B25032_017E,B25032_018E,B25032_019E,B25032_020E,B25032_021E,\\\n",
    "B25032_022E,B25032_023E&for=block group:*&\\\n",
    "in=state:06+county:095&key=1b25b78833bba98e3fcff96e2551f00c71e42a22\"\n",
    "response = requests.get(endpoint_url)\n",
    "moderesults = response.text\n",
    "\n",
    "# send data to dataframe\n",
    "data1 = json.loads(moderesults)\n",
    "Solano = pd.DataFrame(data1)\n",
    "print(Solano.shape)"
   ]
  },
  {
   "cell_type": "markdown",
   "metadata": {},
   "source": [
    "#### 9. Sonoma County"
   ]
  },
  {
   "cell_type": "code",
   "execution_count": 11,
   "metadata": {},
   "outputs": [
    {
     "name": "stdout",
     "output_type": "stream",
     "text": [
      "(388, 28)\n"
     ]
    }
   ],
   "source": [
    "#Variable names at http://api.census.gov/data/2015/acs5/variables.html\n",
    "#https://www.census.gov/content/dam/Census/programs-surveys/acs/guidance/training-presentations/ACS_Census_API.pdf\n",
    "\n",
    "# gather all building structure data with tenure from 2015/5-year ACS\n",
    "endpoint_url = \"http://api.census.gov/data/2015/acs5?get=B25032_001E,B25032_002E,\\\n",
    "B25032_003E,B25032_004E,B25032_005E,B25032_006E,B25032_007E,B25032_008E,B25032_009E\\\n",
    ",B25032_010E,B25032_011E,B25032_012E,B25032_013E,B25032_013E,B25032_014E,\\\n",
    "B25032_015E,B25032_016E,B25032_017E,B25032_018E,B25032_019E,B25032_020E,B25032_021E,\\\n",
    "B25032_022E,B25032_023E&for=block group:*&\\\n",
    "in=state:06+county:097&key=1b25b78833bba98e3fcff96e2551f00c71e42a22\"\n",
    "response = requests.get(endpoint_url)\n",
    "moderesults = response.text\n",
    "\n",
    "# send data to dataframe\n",
    "data1 = json.loads(moderesults)\n",
    "Sonoma = pd.DataFrame(data1)\n",
    "print(Sonoma.shape)"
   ]
  },
  {
   "cell_type": "markdown",
   "metadata": {},
   "source": [
    "### Merge county tables and format data"
   ]
  },
  {
   "cell_type": "code",
   "execution_count": 12,
   "metadata": {},
   "outputs": [],
   "source": [
    "df = SanFrancisco.append([SanMateo[1:],SantaClara[1:],Marin[1:],Napa[1:],ContraCosta[1:],\\\n",
    "                     Alameda[1:],Solano[1:],Sonoma[1:]], ignore_index=True)"
   ]
  },
  {
   "cell_type": "code",
   "execution_count": 13,
   "metadata": {},
   "outputs": [],
   "source": [
    "# set headers to the intel in the first row\n",
    "df.columns = df.iloc[0]\n",
    "df = df[1:]"
   ]
  },
  {
   "cell_type": "code",
   "execution_count": 14,
   "metadata": {},
   "outputs": [],
   "source": [
    "# rename columns to be intelligible\n",
    "df.rename(columns={'B25032_001E' : 'total',\n",
    "                         'B25032_002E' : 'totalOwner',\n",
    "                         'B25032_003E' : 'singlefamily_detached_own',\n",
    "                         'B25032_004E' : 'singlefamily_attached_own',\n",
    "                         'B25032_005E' : '2units_own',\n",
    "                         'B25032_006E' : '3-4units_own',\n",
    "                         'B25032_007E' : '5-9units_own',\n",
    "                         'B25032_008E' : '10-20units_own',\n",
    "                         'B25032_009E' : '20-50units_own',\n",
    "                         'B25032_010E' : '50_more_own',\n",
    "                         'B25032_011E' : 'mobilehome_own',\n",
    "                         'B25032_012E' : 'other_own',\n",
    "                         'B25032_013E' : 'totalRenter',\n",
    "                         'B25032_014E' : 'singlefamily_detached_rent',\n",
    "                         'B25032_015E' : 'singlefamily_attached_rent',\n",
    "                         'B25032_016E' : '2units_rent',\n",
    "                         'B25032_017E' : '3-4units_rent',\n",
    "                         'B25032_018E' : '5-9units_rent',\n",
    "                         'B25032_019E' : '10-20units_rent',\n",
    "                         'B25032_020E' : '20-50units_rent',\n",
    "                         'B25032_021E' : '50_more_rent',\n",
    "                         'B25032_022E' : 'mobilehome_rent',\n",
    "                         'B25032_023E' : 'other_rent'\n",
    "                          \n",
    "                         }, inplace=True)"
   ]
  },
  {
   "cell_type": "code",
   "execution_count": 15,
   "metadata": {},
   "outputs": [],
   "source": [
    "df['block group'] = df['block group'].astype(str)\n",
    "df['tract'] = df['tract'].astype(str)\n",
    "df['county'] = df['county'].astype(str)\n",
    "df['state'] = df['state'].astype(str)\n",
    "df['bg_id'] = df['state'] + df['county'] + df['tract'] + df['block group']"
   ]
  },
  {
   "cell_type": "code",
   "execution_count": 16,
   "metadata": {},
   "outputs": [],
   "source": [
    "df['singlefamily_detached_own']=pd.to_numeric(df['singlefamily_detached_own'],errors='coerce')\n",
    "df['singlefamily_detached_rent']=pd.to_numeric(df['singlefamily_detached_rent'],errors='coerce')\n",
    "df['singlefamily_attached_own']=pd.to_numeric(df['singlefamily_attached_own'],errors='coerce')\n",
    "df['singlefamily_attached_rent']=pd.to_numeric(df['singlefamily_attached_rent'],errors='coerce')\n",
    "df['sf_own'] = df['singlefamily_detached_own'] + df['singlefamily_attached_own']\n",
    "df['sf_rent'] = df['singlefamily_detached_rent'] + df['singlefamily_attached_rent']\n",
    "\n",
    "df['sf_o'] = df['sf_own'] /(df['sf_own'] + df['sf_rent'])\n",
    "df['sf_r'] = df['sf_rent'] /(df['sf_own'] + df['sf_rent'])\n",
    "\n",
    "df['2units_own']=pd.to_numeric(df['2units_own'],errors='coerce')\n",
    "df['3-4units_own']=pd.to_numeric(df['3-4units_own'],errors='coerce')\n",
    "df['5-9units_own']=pd.to_numeric(df['5-9units_own'],errors='coerce')\n",
    "df['10-20units_own']=pd.to_numeric(df['10-20units_own'],errors='coerce')\n",
    "df['20-50units_own']=pd.to_numeric(df['20-50units_own'],errors='coerce')\n",
    "df['2units_rent']=pd.to_numeric(df['2units_rent'],errors='coerce')\n",
    "df['3-4units_rent']=pd.to_numeric(df['3-4units_rent'],errors='coerce')\n",
    "df['5-9units_rent']=pd.to_numeric(df['5-9units_rent'],errors='coerce')\n",
    "df['10-20units_rent']=pd.to_numeric(df['10-20units_rent'],errors='coerce')\n",
    "df['20-50units_rent']=pd.to_numeric(df['20-50units_rent'],errors='coerce')\n",
    "\n",
    "\n",
    "df['50_more_own']=pd.to_numeric(df['50_more_own'],errors='coerce')\n",
    "df['50_more_rent']=pd.to_numeric(df['50_more_rent'],errors='coerce')\n",
    "\n",
    "\n",
    "df['mf_own'] = df['2units_own'] \\\n",
    "                    + df['3-4units_own'] \\\n",
    "                    + df['5-9units_own'] \\\n",
    "                    + df['10-20units_own'] \\\n",
    "                    + df['20-50units_own'] \\\n",
    "                    + df['50_more_own'] \n",
    "\n",
    "df['mf_rent'] = df['2units_rent'] \\\n",
    "                    + df['3-4units_rent'] \\\n",
    "                    + df['5-9units_rent'] \\\n",
    "                    + df['10-20units_rent'] \\\n",
    "                    + df['20-50units_rent'] \\\n",
    "                    + df['50_more_rent'] \n",
    "\n",
    "df['mf_o'] = df['mf_own'] /(df['mf_own'] + df['mf_rent'])\n",
    "df['mf_r'] = df['mf_rent'] /(df['mf_own'] + df['mf_rent'])"
   ]
  },
  {
   "cell_type": "code",
   "execution_count": 22,
   "metadata": {},
   "outputs": [],
   "source": [
    "hownrent_marginals_by_bldg_type_by_block_group = df[['bg_id', 'sf_o', 'sf_r', 'mf_o', 'mf_r']]"
   ]
  },
  {
   "cell_type": "code",
   "execution_count": 23,
   "metadata": {},
   "outputs": [],
   "source": [
    "hownrent_marginals_by_bldg_type_by_block_group.to_csv('../data/tenure_by_bldg_type_and_block_grp.csv', index=False)"
   ]
  },
  {
   "cell_type": "code",
   "execution_count": 24,
   "metadata": {},
   "outputs": [
    {
     "data": {
      "text/plain": [
       "1    060750101001\n",
       "2    060750101002\n",
       "3    060750102001\n",
       "4    060750102002\n",
       "5    060750102003\n",
       "Name: bg_id, dtype: object"
      ]
     },
     "execution_count": 24,
     "metadata": {},
     "output_type": "execute_result"
    }
   ],
   "source": [
    "hownrent_marginals_by_bldg_type_by_block_group['bg_id'].head()"
   ]
  },
  {
   "cell_type": "code",
   "execution_count": null,
   "metadata": {},
   "outputs": [],
   "source": []
  }
 ],
 "metadata": {
  "kernelspec": {
   "display_name": "Python 3",
   "language": "python",
   "name": "python3"
  },
  "language_info": {
   "codemirror_mode": {
    "name": "ipython",
    "version": 3
   },
   "file_extension": ".py",
   "mimetype": "text/x-python",
   "name": "python",
   "nbconvert_exporter": "python",
   "pygments_lexer": "ipython3",
   "version": "3.6.4"
  }
 },
 "nbformat": 4,
 "nbformat_minor": 2
}
