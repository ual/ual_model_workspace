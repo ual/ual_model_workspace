{
 "cells": [
  {
   "cell_type": "code",
   "execution_count": 1,
   "metadata": {},
   "outputs": [],
   "source": [
    "import os; os.chdir('../')\n",
    "from tqdm import tqdm"
   ]
  },
  {
   "cell_type": "code",
   "execution_count": 2,
   "metadata": {},
   "outputs": [],
   "source": [
    "import pandas as pd\n",
    "import numpy as np\n",
    "from sklearn.neighbors import BallTree\n",
    "%matplotlib inline"
   ]
  },
  {
   "cell_type": "code",
   "execution_count": 133,
   "metadata": {},
   "outputs": [],
   "source": [
    "from urbansim_templates import modelmanager as mm\n",
    "from urbansim_templates.models import MNLDiscreteChoiceStep\n",
    "from urbansim.utils import misc\n",
    "from scripts import datasources, models\n",
    "import orca"
   ]
  },
  {
   "cell_type": "markdown",
   "metadata": {},
   "source": [
    "### Load data"
   ]
  },
  {
   "cell_type": "code",
   "execution_count": 57,
   "metadata": {},
   "outputs": [],
   "source": [
    "chts_persons = pd.read_csv('/home/mgardner/data/chts-orig/data/Deliv_PER.csv', low_memory=False)"
   ]
  },
  {
   "cell_type": "code",
   "execution_count": 58,
   "metadata": {},
   "outputs": [],
   "source": [
    "chts_persons_lookup = pd.read_csv('/home/mgardner/data/chts-orig/data/LookUp_PER.csv')"
   ]
  },
  {
   "cell_type": "code",
   "execution_count": 59,
   "metadata": {},
   "outputs": [],
   "source": [
    "chts_persons = pd.merge(\n",
    "    chts_persons.set_index(['SAMPN','PERNO']),\n",
    "    chts_persons_lookup.set_index(['SAMPN','PERNO']),\n",
    "    left_index=True, right_index=True,\n",
    "    suffixes=('_persons', '_lookup')).reset_index()"
   ]
  },
  {
   "cell_type": "code",
   "execution_count": 60,
   "metadata": {},
   "outputs": [],
   "source": [
    "chts_homes = pd.read_csv('/home/mgardner/data/chts-orig/data/LookUp_Home.csv')"
   ]
  },
  {
   "cell_type": "code",
   "execution_count": 61,
   "metadata": {},
   "outputs": [],
   "source": [
    "chts_persons = pd.merge(chts_persons, chts_homes, on='SAMPN')"
   ]
  },
  {
   "cell_type": "code",
   "execution_count": 62,
   "metadata": {},
   "outputs": [],
   "source": [
    "# SF Bay Area only!\n",
    "chts_persons = chts_persons[chts_persons['HCTFIP'].isin([1, 13, 41, 55, 75, 81, 85, 95, 97])].reset_index()"
   ]
  },
  {
   "cell_type": "code",
   "execution_count": 10,
   "metadata": {},
   "outputs": [],
   "source": [
    "jobs = pd.read_csv('/home/mgardner/data/jobs_w_occup.csv')"
   ]
  },
  {
   "cell_type": "code",
   "execution_count": 121,
   "metadata": {},
   "outputs": [],
   "source": [
    "buildings = pd.read_hdf('./data/bayarea_ual.h5', 'buildings')"
   ]
  },
  {
   "cell_type": "code",
   "execution_count": 12,
   "metadata": {},
   "outputs": [],
   "source": [
    "parcels = pd.read_hdf('./data/bayarea_ual.h5', 'parcels')"
   ]
  },
  {
   "cell_type": "markdown",
   "metadata": {},
   "source": [
    "### Get job coords"
   ]
  },
  {
   "cell_type": "code",
   "execution_count": 122,
   "metadata": {},
   "outputs": [],
   "source": [
    "buildings = pd.merge(buildings, parcels[['x', 'y']], left_on='parcel_id', right_index=True)\n",
    "\n",
    "jobs = pd.merge(jobs, buildings[['x', 'y']], left_on='building_id', right_index=True)\n",
    "jobs.rename(columns={'x': 'lng', 'y': 'lat'}, inplace=True)"
   ]
  },
  {
   "cell_type": "markdown",
   "metadata": {},
   "source": [
    "### Assign jobs a node ID"
   ]
  },
  {
   "cell_type": "code",
   "execution_count": 17,
   "metadata": {},
   "outputs": [],
   "source": [
    "# load the network nodes\n",
    "nodes = pd.read_csv('~/data/bay_area_full_strongly_nodes.csv')\n",
    "nodes = nodes.set_index('osmid')\n",
    "assert nodes.index.is_unique"
   ]
  },
  {
   "cell_type": "code",
   "execution_count": 63,
   "metadata": {},
   "outputs": [],
   "source": [
    "# haversine requires data in form of [lat, lng] and inputs/outputs in units of radians\n",
    "nodes_rad = np.deg2rad(nodes[['y', 'x']])\n",
    "persons_rad = np.deg2rad(chts_persons[['WYCORD_lookup', 'WXCORD_lookup']])\n",
    "jobs_rad = np.deg2rad(jobs[['lng', 'lat']])"
   ]
  },
  {
   "cell_type": "code",
   "execution_count": 19,
   "metadata": {},
   "outputs": [],
   "source": [
    "# build the tree for fast nearest-neighbor search\n",
    "tree = BallTree(nodes_rad, metric='haversine')"
   ]
  },
  {
   "cell_type": "code",
   "execution_count": 20,
   "metadata": {},
   "outputs": [],
   "source": [
    "# query the tree for nearest node to each home\n",
    "idx = tree.query(jobs_rad, return_distance=False)\n",
    "jobs['node_id'] = nodes.iloc[idx[:,0]].index"
   ]
  },
  {
   "cell_type": "code",
   "execution_count": 22,
   "metadata": {},
   "outputs": [],
   "source": [
    "jobs.to_csv('/home/mgardner/data/jobs_w_occup_and_node.csv', index=False)"
   ]
  },
  {
   "cell_type": "markdown",
   "metadata": {},
   "source": [
    "### Assign CHTS persons a job ID"
   ]
  },
  {
   "cell_type": "code",
   "execution_count": 64,
   "metadata": {},
   "outputs": [
    {
     "name": "stderr",
     "output_type": "stream",
     "text": [
      "100%|██████████| 24030/24030 [24:09<00:00, 16.57it/s]\n"
     ]
    }
   ],
   "source": [
    "dists = []\n",
    "no_job_info = []\n",
    "no_work_coords = []\n",
    "\n",
    "# new columnd in CHTS persons to store job_id\n",
    "chts_persons.loc[:, 'job_id'] = None\n",
    "\n",
    "# prepare jobs table\n",
    "jobs.loc[:, 'taken'] = False\n",
    "jobs.loc[:, 'x'] = jobs_rad['lng']\n",
    "jobs.loc[:, 'y'] = jobs_rad['lat']\n",
    "\n",
    "for i, person in tqdm(chts_persons.iterrows(), total=len(chts_persons)):\n",
    "    \n",
    "    # only assign a job ID for employed persons with a fixed work location\n",
    "    if (person['EMPLY'] == 1) & (person['WLOC'] == 1):\n",
    "        \n",
    "        # skip person if no CHTS industry or occupation\n",
    "        if (person['INDUS'] > 96) & (person['OCCUP'] > 96):\n",
    "            no_job_info.append(i)\n",
    "            continue\n",
    "        \n",
    "        # skip person if no work location\n",
    "        elif pd.isnull(person[['WYCORD_lookup', 'WXCORD_lookup']]).any():\n",
    "            no_work_coords.append(i)\n",
    "            continue\n",
    "        \n",
    "        # if CHTS industry is unknown, match jobs based on occupation only\n",
    "        elif person['INDUS'] > 96:\n",
    "            potential_jobs = jobs[\n",
    "                (jobs['occupation_id'] == person['OCCUP']) &\n",
    "                (jobs['taken'] == False)]\n",
    "        \n",
    "        # if occupation is unknown, match jobs based on industry only\n",
    "        elif person['OCCUP'] > 96:\n",
    "            potential_jobs = jobs[\n",
    "                (jobs['naics'] == person['INDUS']) &\n",
    "                (jobs['taken'] == False)]\n",
    "        \n",
    "        elif (person['INDUS'] < 97) & (person['OCCUP'] < 97):\n",
    "            \n",
    "            # define potential jobs based on industry and occupation\n",
    "            potential_jobs = jobs[\n",
    "                (jobs['naics'] == person['INDUS']) &\n",
    "                (jobs['occupation_id'] == person['OCCUP']) &\n",
    "                (jobs['taken'] == False)]\n",
    "            \n",
    "            # if no such jobs exist, define jobs by industry\n",
    "            if len(potential_jobs) == 0:\n",
    "                potential_jobs = jobs[\n",
    "                    (jobs['naics'] == person['INDUS']) &\n",
    "                    (jobs['taken'] == False)]\n",
    "                \n",
    "            # if no such jobs exist, define jobs by occupation\n",
    "            if len(potential_jobs) == 0:\n",
    "                potential_jobs = jobs[\n",
    "                    (jobs['occupation_id'] == person['OCCUP']) &\n",
    "                    (jobs['taken'] == False)]\n",
    "            \n",
    "            # otherwise, continue\n",
    "            if len(potential_jobs) == 0:\n",
    "                continue\n",
    "        \n",
    "        # build the tree of potential jobs for fast nearest-neighbor search\n",
    "        tree = BallTree(potential_jobs[['y','x']], metric='haversine')\n",
    "        \n",
    "        # query the tree for nearest job to each workplace\n",
    "        dist, idx = tree.query(persons_rad.iloc[i].values.reshape(1,-1), return_distance=True)\n",
    "        \n",
    "        # save results\n",
    "        job = potential_jobs.iloc[idx[0][0]]\n",
    "        dists.append(dist[0][0])\n",
    "        chts_persons.loc[i, 'job_id'] = job['job_id']\n",
    "        jobs.loc[jobs['job_id'] == job['job_id'], 'taken'] = True \n"
   ]
  },
  {
   "cell_type": "code",
   "execution_count": 65,
   "metadata": {},
   "outputs": [],
   "source": [
    "chts_persons.to_csv('./data/chts_persons_with_job_id.csv', index=False)"
   ]
  },
  {
   "cell_type": "code",
   "execution_count": 103,
   "metadata": {},
   "outputs": [],
   "source": [
    "# convert dists from radians to kilometers\n",
    "dists = [dist * 6371 for dist in dists]"
   ]
  },
  {
   "cell_type": "code",
   "execution_count": 113,
   "metadata": {},
   "outputs": [
    {
     "data": {
      "text/plain": [
       "<matplotlib.axes._subplots.AxesSubplot at 0x7fb511e8b400>"
      ]
     },
     "execution_count": 113,
     "metadata": {},
     "output_type": "execute_result"
    },
    {
     "data": {
      "image/png": "[encoded data removed]",
      "text/plain": [
       "<matplotlib.figure.Figure at 0x7fb50727b630>"
      ]
     },
     "metadata": {},
     "output_type": "display_data"
    }
   ],
   "source": [
    "pd.Series(dists).plot(kind='hist', bins=20000, xlim=(0, 20), normed=True)"
   ]
  },
  {
   "cell_type": "code",
   "execution_count": 114,
   "metadata": {},
   "outputs": [
    {
     "name": "stdout",
     "output_type": "stream",
     "text": [
      "Assigned job IDs to 98.1% of workers with a fixed work location.\n",
      "1.8% had no industry/occupation info.\n",
      "0.0% had no work coordinates.\n"
     ]
    }
   ],
   "source": [
    "print('Assigned job IDs to {0}% of workers with a fixed work location.'.format(\n",
    "    np.round(chts_persons.job_id.count() / len(\n",
    "        chts_persons[(chts_persons['EMPLY'] == 1)  & (chts_persons['WLOC'] == 1)]) * 100, 1)))\n",
    "print('{0}% had no industry/occupation info.'.format(\n",
    "    np.round(len(no_job_info) / len(\n",
    "        chts_persons[(chts_persons['EMPLY'] == 1)  & (chts_persons['WLOC'] == 1)]) * 100, 1)))\n",
    "print('{0}% had no work coordinates.'.format(\n",
    "    np.round(len(no_work_coords) / len(\n",
    "        chts_persons[(chts_persons['EMPLY'] == 1)  & (chts_persons['WLOC'] == 1)]) * 100, 1)))"
   ]
  }
 ],
 "metadata": {
  "kernelspec": {
   "display_name": "Python 3",
   "language": "python",
   "name": "python3"
  },
  "language_info": {
   "codemirror_mode": {
    "name": "ipython",
    "version": 3
   },
   "file_extension": ".py",
   "mimetype": "text/x-python",
   "name": "python",
   "nbconvert_exporter": "python",
   "pygments_lexer": "ipython3",
   "version": "3.6.6"
  }
 },
 "nbformat": 4,
 "nbformat_minor": 2
}
