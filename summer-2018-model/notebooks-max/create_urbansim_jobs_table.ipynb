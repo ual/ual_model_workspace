{
 "cells": [
  {
   "cell_type": "markdown",
   "metadata": {},
   "source": [
    "# Create UrbanSim Jobs Table"
   ]
  },
  {
   "cell_type": "code",
   "execution_count": 26,
   "metadata": {},
   "outputs": [],
   "source": [
    "import pandas as pd\n",
    "import numpy as np\n",
    "from tqdm import tqdm"
   ]
  },
  {
   "cell_type": "markdown",
   "metadata": {},
   "source": [
    "#### 1. Load data"
   ]
  },
  {
   "cell_type": "code",
   "execution_count": 2,
   "metadata": {},
   "outputs": [],
   "source": [
    "establishments = pd.read_csv('/home/mgardner/data/establishments.csv')"
   ]
  },
  {
   "cell_type": "code",
   "execution_count": 3,
   "metadata": {},
   "outputs": [],
   "source": [
    "buildings = pd.read_hdf('/home/mgardner/data/2015_09_01_bayarea_v3.h5', 'buildings')"
   ]
  },
  {
   "cell_type": "code",
   "execution_count": 4,
   "metadata": {},
   "outputs": [],
   "source": [
    "parcels = pd.read_hdf('/home/mgardner/data/2015_09_01_bayarea_v3.h5', 'parcels')"
   ]
  },
  {
   "cell_type": "code",
   "execution_count": 17,
   "metadata": {},
   "outputs": [
    {
     "name": "stderr",
     "output_type": "stream",
     "text": [
      "/home/mgardner/anaconda3/envs/dcm/lib/python3.6/site-packages/IPython/core/interactiveshell.py:2728: DtypeWarning: Columns (40,60,93,97,104) have mixed types. Specify dtype option on import or set low_memory=False.\n",
      "  interactivity=interactivity, compiler=compiler, result=result)\n"
     ]
    }
   ],
   "source": [
    "persons = pd.read_csv('/home/mgardner/data/chts-orig/data/Deliv_PER.csv')"
   ]
  },
  {
   "cell_type": "code",
   "execution_count": 18,
   "metadata": {},
   "outputs": [],
   "source": [
    "persons_lookup = pd.read_csv('/home/mgardner/data/chts-orig/data/LookUp_PER.csv')"
   ]
  },
  {
   "cell_type": "markdown",
   "metadata": {},
   "source": [
    "#### 2. Expand establishments based on number of employees"
   ]
  },
  {
   "cell_type": "code",
   "execution_count": 6,
   "metadata": {},
   "outputs": [],
   "source": [
    "jobs = pd.DataFrame(columns=['job_id','sector_id','building_id'])"
   ]
  },
  {
   "cell_type": "code",
   "execution_count": 7,
   "metadata": {},
   "outputs": [
    {
     "name": "stderr",
     "output_type": "stream",
     "text": [
      "  0%|          | 1/234956 [00:00<8:32:09,  7.65it/s]/home/mgardner/anaconda3/envs/dcm/lib/python3.6/site-packages/pandas/core/frame.py:5186: FutureWarning: \n",
      "Passing list-likes to .loc or [] with any missing label will raise\n",
      "KeyError in the future, you can use .reindex() as an alternative.\n",
      "\n",
      "See the documentation here:\n",
      "http://pandas.pydata.org/pandas-docs/stable/indexing.html#deprecate-loc-reindex-listlike\n",
      "  other = other.loc[:, self.columns]\n",
      "/home/mgardner/anaconda3/envs/dcm/lib/python3.6/site-packages/pandas/core/indexing.py:1367: FutureWarning: \n",
      "Passing list-likes to .loc or [] with any missing label will raise\n",
      "KeyError in the future, you can use .reindex() as an alternative.\n",
      "\n",
      "See the documentation here:\n",
      "http://pandas.pydata.org/pandas-docs/stable/indexing.html#deprecate-loc-reindex-listlike\n",
      "  return self._getitem_tuple(key)\n",
      "100%|██████████| 234956/234956 [3:31:43<00:00, 18.50it/s]\n"
     ]
    }
   ],
   "source": [
    "for i, establishment in tqdm(establishments.iterrows(), total=len(establishments)):\n",
    "    multiplier = establishment['employees']\n",
    "    if multiplier > 0:\n",
    "        jobs = jobs.append([establishment[['establishment_id','sector_id','building_id']]] * int(multiplier), ignore_index=True)"
   ]
  },
  {
   "cell_type": "markdown",
   "metadata": {},
   "source": [
    "#### 3. Get county ID for jobs"
   ]
  },
  {
   "cell_type": "code",
   "execution_count": 8,
   "metadata": {},
   "outputs": [],
   "source": [
    "bldgs_w_parcel = pd.merge(buildings, parcels, left_on='parcel_id', right_index=True)"
   ]
  },
  {
   "cell_type": "code",
   "execution_count": 14,
   "metadata": {},
   "outputs": [],
   "source": [
    "bldgs_w_parcel.index.name = 'building_id'"
   ]
  },
  {
   "cell_type": "code",
   "execution_count": 15,
   "metadata": {},
   "outputs": [],
   "source": [
    "jobs = pd.merge(jobs, bldgs_w_parcel[['county_id']].reset_index(), on='building_id')"
   ]
  },
  {
   "cell_type": "markdown",
   "metadata": {},
   "source": [
    "#### 4. Compute `county` $\\times$ `industry` $\\times$ `occupation` probabilities from CHTS"
   ]
  },
  {
   "cell_type": "code",
   "execution_count": 19,
   "metadata": {},
   "outputs": [],
   "source": [
    "persons = pd.merge(\n",
    "    persons.set_index(['SAMPN','PERNO']),\n",
    "    persons_lookup.set_index(['SAMPN','PERNO']),\n",
    "    left_index=True, right_index=True,\n",
    "    suffixes=('_persons', '_lookup')).reset_index()"
   ]
  },
  {
   "cell_type": "code",
   "execution_count": 56,
   "metadata": {},
   "outputs": [],
   "source": [
    "county_industry_occupation_counts = persons.groupby(['WCTFIP_lookup','INDUS','OCCUP']).agg({'SAMPN':'count'})"
   ]
  },
  {
   "cell_type": "code",
   "execution_count": 57,
   "metadata": {},
   "outputs": [],
   "source": [
    "county_industry_occupation_probs = county_industry_occupation_counts.groupby(level=[0,1]).apply(\n",
    "    lambda x: x/x.sum()).reset_index().rename(columns={'SAMPN': 'prob', 'WCTFIP_lookup': 'county_FIPS'})"
   ]
  },
  {
   "cell_type": "code",
   "execution_count": 58,
   "metadata": {},
   "outputs": [],
   "source": [
    "county_industry_occupation_probs['county_FIPS'] = county_industry_occupation_probs['county_FIPS'].astype(int).astype(str).str.zfill(3)\n",
    "county_industry_occupation_probs['INDUS'] = county_industry_occupation_probs['INDUS'].astype(int).astype(str)"
   ]
  },
  {
   "cell_type": "code",
   "execution_count": 59,
   "metadata": {},
   "outputs": [],
   "source": [
    "industry_occupation_counts = persons.groupby(['INDUS','OCCUP']).agg({'SAMPN':'count'})"
   ]
  },
  {
   "cell_type": "code",
   "execution_count": 60,
   "metadata": {},
   "outputs": [],
   "source": [
    "industry_occupation_probs = industry_occupation_counts.groupby(level=0).apply(\n",
    "    lambda x: x/x.sum()).reset_index().rename(columns={'SAMPN': 'prob'})"
   ]
  },
  {
   "cell_type": "code",
   "execution_count": 61,
   "metadata": {},
   "outputs": [],
   "source": [
    "industry_occupation_probs['INDUS'] = industry_occupation_probs['INDUS'].astype(int).astype(str)"
   ]
  },
  {
   "cell_type": "code",
   "execution_count": 62,
   "metadata": {},
   "outputs": [],
   "source": [
    "county_occupation_counts = persons.groupby(['WCTFIP_lookup','OCCUP']).agg({'SAMPN':'count'})"
   ]
  },
  {
   "cell_type": "code",
   "execution_count": 63,
   "metadata": {},
   "outputs": [],
   "source": [
    "county_occupation_probs = county_occupation_counts.groupby(level=0).apply(\n",
    "    lambda x: x/x.sum()).reset_index().rename(columns={'SAMPN': 'prob', 'WCTFIP_lookup': 'county_FIPS'})"
   ]
  },
  {
   "cell_type": "code",
   "execution_count": 64,
   "metadata": {},
   "outputs": [],
   "source": [
    "county_occupation_probs['county_FIPS'] = county_occupation_probs['county_FIPS'].astype(int).astype(str).str.zfill(3)"
   ]
  },
  {
   "cell_type": "markdown",
   "metadata": {},
   "source": [
    "#### 5. Impute occupation in jobs table from CHTS data"
   ]
  },
  {
   "cell_type": "code",
   "execution_count": 92,
   "metadata": {},
   "outputs": [],
   "source": [
    "jobs['county_FIPS'] = jobs['county_id'].astype(str).str.zfill(3)\n",
    "jobs['occupation_id'] = -99  # 98 == \"DK\"\n",
    "jobs['2_digit_sector_id'] = jobs['sector_id'].astype(str).str[0:2]"
   ]
  },
  {
   "cell_type": "code",
   "execution_count": 96,
   "metadata": {
    "scrolled": true
   },
   "outputs": [
    {
     "name": "stderr",
     "output_type": "stream",
     "text": [
      "100%|██████████| 2656876/2656876 [12:51:22<00:00, 57.41it/s]  \n"
     ]
    }
   ],
   "source": [
    "for i, row in tqdm(jobs.iterrows(), total=len(jobs)):\n",
    "    \n",
    "    # define occupation probability by industry and county\n",
    "    probs = county_industry_occupation_probs[(\n",
    "        county_industry_occupation_probs['county_FIPS'] == row['county_FIPS']) & (\n",
    "        county_industry_occupation_probs['INDUS'] == row['2_digit_sector_id']\n",
    "    )]\n",
    "    \n",
    "    # if no such entries exist, define probabilities by industry\n",
    "    if len(probs['prob']) == 0:\n",
    "        probs = industry_occupation_probs[(\n",
    "            industry_occupation_probs['INDUS'] == row['2_digit_sector_id'])]\n",
    "        \n",
    "    # if no such entries exist, define probabilities by county\n",
    "    if len(probs['prob']) == 0:\n",
    "        probs = county_occupation_probs[(\n",
    "            county_occupation_probs['county_FIPS'] == row['county_FIPS'])]\n",
    "        \n",
    "    \n",
    "    jobs.loc[i, 'occupation_id'] = np.random.choice(probs['OCCUP'], p=probs.prob)"
   ]
  },
  {
   "cell_type": "code",
   "execution_count": 114,
   "metadata": {},
   "outputs": [],
   "source": [
    "jobs = pd.read_csv('/home/mgardner/data/jobs_w_occup.csv')"
   ]
  },
  {
   "cell_type": "code",
   "execution_count": 123,
   "metadata": {},
   "outputs": [],
   "source": [
    "jobs.index.name = 'job_id'\n",
    "jobs = jobs.rename(columns={'2_digit_sector_id': 'naics'})\n",
    "jobs['occupation_id'] = jobs['occupation_id'].astype(int)"
   ]
  },
  {
   "cell_type": "code",
   "execution_count": 124,
   "metadata": {},
   "outputs": [],
   "source": [
    "jobs[['building_id', 'naics', 'occupation_id']].to_csv('/home/mgardner/data/jobs_w_occup.csv')"
   ]
  }
 ],
 "metadata": {
  "kernelspec": {
   "display_name": "Python 3",
   "language": "python",
   "name": "python3"
  },
  "language_info": {
   "codemirror_mode": {
    "name": "ipython",
    "version": 3
   },
   "file_extension": ".py",
   "mimetype": "text/x-python",
   "name": "python",
   "nbconvert_exporter": "python",
   "pygments_lexer": "ipython3",
   "version": "3.6.4"
  }
 },
 "nbformat": 4,
 "nbformat_minor": 2
}
