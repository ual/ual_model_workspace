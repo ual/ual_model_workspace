{
 "cells": [
  {
   "cell_type": "markdown",
   "metadata": {
    "nbpresent": {
     "id": "3edd1597-7e2e-4707-8b11-d77b3e098a5b"
    }
   },
   "source": [
    "# Create UrbanSim Jobs Table"
   ]
  },
  {
   "cell_type": "code",
   "execution_count": 1,
   "metadata": {
    "nbpresent": {
     "id": "d7d1a056-3083-4f1d-be96-f00453acc2ae"
    }
   },
   "outputs": [],
   "source": [
    "import pandas as pd\n",
    "import numpy as np\n",
    "from tqdm import tqdm\n",
    "import requests\n",
    "from lxml import html"
   ]
  },
  {
   "cell_type": "markdown",
   "metadata": {
    "nbpresent": {
     "id": "e038e599-972b-4f70-863f-85c2bd3dcd0c"
    }
   },
   "source": [
    "#### 1. Load data"
   ]
  },
  {
   "cell_type": "code",
   "execution_count": 2,
   "metadata": {
    "nbpresent": {
     "id": "7d5fd662-3d16-4c88-a346-02e2806f2987"
    }
   },
   "outputs": [],
   "source": [
    "establishments = pd.read_csv('/home/data/spring_2019/base/establishments.csv', index_col='establishment_id')"
   ]
  },
  {
   "cell_type": "code",
   "execution_count": 3,
   "metadata": {
    "nbpresent": {
     "id": "46d9f3e0-4585-4981-b5d0-beafda0d98db"
    }
   },
   "outputs": [
    {
     "name": "stderr",
     "output_type": "stream",
     "text": [
      "/home/max/anaconda3/envs/ual-model/lib/python3.7/site-packages/numpy/lib/arraysetops.py:568: FutureWarning: elementwise comparison failed; returning scalar instead, but in the future will perform elementwise comparison\n",
      "  mask |= (ar1 == a)\n"
     ]
    }
   ],
   "source": [
    "buildings = pd.read_csv('/home/data/spring_2019/base/buildings.csv', index_col='building_id')"
   ]
  },
  {
   "cell_type": "code",
   "execution_count": 4,
   "metadata": {
    "nbpresent": {
     "id": "cd81ed7e-5e5d-4103-afbb-bf4f8dd4f1c2"
    }
   },
   "outputs": [],
   "source": [
    "parcels = pd.read_csv('/home/data/spring_2019/base/parcels.csv', index_col='primary_id',\n",
    "                      dtype={'primary_id': int, 'block_id':str, 'county_id': str})"
   ]
  },
  {
   "cell_type": "markdown",
   "metadata": {
    "nbpresent": {
     "id": "db5eb53b-8113-4c87-94a0-2cb140e59f93"
    }
   },
   "source": [
    "#### 2. Expand establishments based on number of employees"
   ]
  },
  {
   "cell_type": "code",
   "execution_count": 44,
   "metadata": {
    "nbpresent": {
     "id": "9f42a97d-75c3-4f52-8868-c88e2c7b2c62"
    }
   },
   "outputs": [],
   "source": [
    "jobs = pd.DataFrame(columns=['job_id','sector_id','building_id'])"
   ]
  },
  {
   "cell_type": "code",
   "execution_count": 45,
   "metadata": {},
   "outputs": [],
   "source": [
    "jobs = establishments.reset_index()[['establishment_id', 'sector_id', 'building_id', 'employees']]\n",
    "jobs = jobs.reindex(jobs.index.repeat(jobs.employees)).reset_index(drop=True)"
   ]
  },
  {
   "cell_type": "markdown",
   "metadata": {
    "nbpresent": {
     "id": "0d651a0e-d828-41ea-a069-694dc3f090c4"
    }
   },
   "source": [
    "#### 3. Get county ID for jobs"
   ]
  },
  {
   "cell_type": "code",
   "execution_count": 46,
   "metadata": {
    "nbpresent": {
     "id": "9da64ed0-e224-43ec-9b4c-c3c470acb6ca"
    }
   },
   "outputs": [],
   "source": [
    "bldgs_w_parcel = pd.merge(buildings, parcels, left_on='parcel_id', right_index=True)"
   ]
  },
  {
   "cell_type": "code",
   "execution_count": 47,
   "metadata": {
    "nbpresent": {
     "id": "3738bac2-34d3-48ed-81bf-d872c7072ff6"
    }
   },
   "outputs": [],
   "source": [
    "bldgs_w_parcel.index.name = 'building_id'"
   ]
  },
  {
   "cell_type": "code",
   "execution_count": 48,
   "metadata": {
    "nbpresent": {
     "id": "273e6d5d-fe03-42e5-acfb-8c29ce03cf6a"
    }
   },
   "outputs": [],
   "source": [
    "jobs = pd.merge(jobs, bldgs_w_parcel[['county_id', 'block_id', 'x', 'y']].reset_index(), on='building_id')"
   ]
  },
  {
   "cell_type": "code",
   "execution_count": 49,
   "metadata": {},
   "outputs": [],
   "source": [
    "jobs['county_id'] = jobs['county_id'].astype(str).str.zfill(3)"
   ]
  },
  {
   "cell_type": "code",
   "execution_count": 11,
   "metadata": {},
   "outputs": [],
   "source": [
    "naics_to_ctpp_label = {\n",
    "    11: 'Agriculture, forestry, fishing and hunting, and mining',\n",
    "    21: 'Agriculture, forestry, fishing and hunting, and mining',\n",
    "    22: 'Transportation and warehousing, and utilities',\n",
    "    23: 'Construction',\n",
    "    31: 'Manufacturing',\n",
    "    32: 'Manufacturing',\n",
    "    33: 'Manufacturing',\n",
    "    42: 'Wholesale trade',\n",
    "    44: 'Retail trade',\n",
    "    45: 'Retail trade',\n",
    "    48: 'Transportation and warehousing, and utilities',\n",
    "    49: 'Transportation and warehousing, and utilities',\n",
    "    51: 'Information',\n",
    "    52: 'Finance, insurance, real estate and rental and leasing',\n",
    "    53: 'Finance, insurance, real estate and rental and leasing',\n",
    "    54: 'Professional, scientific, management, administrative,  and waste management services',\n",
    "    55: 'Professional, scientific, management, administrative,  and waste management services',\n",
    "    56: 'Professional, scientific, management, administrative,  and waste management services',\n",
    "    61: 'Educational, health and social services',\n",
    "    62: 'Educational, health and social services',\n",
    "    71: 'Arts, entertainment, recreation, accommodation and food services',\n",
    "    72: 'Arts, entertainment, recreation, accommodation and food services',\n",
    "    81: 'Other services (except public administration)',\n",
    "    92: 'Public administration',\n",
    "    99: None\n",
    "}"
   ]
  },
  {
   "cell_type": "markdown",
   "metadata": {
    "nbpresent": {
     "id": "bd39a5e2-bdd0-40b3-9b5b-2c4e7e72a9a1"
    }
   },
   "source": [
    "#### 4. Compute `county` $\\times$ `industry` $\\times$ `occupation` probabilities from CHTS"
   ]
  },
  {
   "cell_type": "code",
   "execution_count": 12,
   "metadata": {},
   "outputs": [],
   "source": [
    "naics_soc_df = pd.read_csv(\n",
    "    \"/home/max/A202212 - Occupation (25) by Industry (15)(Workers 16 years and over) (3).csv\",\n",
    "    skiprows=1\n",
    ")"
   ]
  },
  {
   "cell_type": "code",
   "execution_count": 13,
   "metadata": {},
   "outputs": [],
   "source": [
    "ctpp_occ_to_code_dict = {\n",
    "    'Management occupations': 11,\n",
    "    'Farmers and farm managers': 45,\n",
    "    'Business and financial operations specialists': 13,\n",
    "    'Computer and mathematical occupations': 15,\n",
    "    'Architecture and engineering occupations': 17,\n",
    "    'Life, physical, and social science occupations': 19,\n",
    "    'Community and social service occupations': 21,\n",
    "    'Legal occupations': 23,\n",
    "    'Education, training, and library occupations': 25,\n",
    "    'Arts, design, entertainment, sports, and media occupations': 27,\n",
    "    'Healthcare practitioners and technicians occupations': 29,\n",
    "    'Healthcare support occupations': 31,\n",
    "    'Protective service occupations': 33,\n",
    "    'Food preparation and serving related occupations': 35,\n",
    "    'Building and grounds cleaning and maintenance occupations': 37,\n",
    "    'Personal care and service occupations': 39,\n",
    "    'Sales and related occupations': 41,\n",
    "    'Office and administrative support occupations': 43,\n",
    "    'Farming, fishing, and forestry occupations': 45,\n",
    "    'Construction and extraction occupations': 47,\n",
    "    'Installation, maintenance, and repair occupations': 49,\n",
    "    'Production occupations': 51,\n",
    "    'Transportation and material moving occupations': 53,\n",
    "    'Armed Forces': 55,\n",
    "}"
   ]
  },
  {
   "cell_type": "code",
   "execution_count": 14,
   "metadata": {},
   "outputs": [],
   "source": [
    "naics_soc_df['Occupation 25'] = naics_soc_df['Occupation 25'].map(ctpp_occ_to_code_dict)"
   ]
  },
  {
   "cell_type": "code",
   "execution_count": 15,
   "metadata": {},
   "outputs": [],
   "source": [
    "naics_soc_df['prob'] = naics_soc_df['Workers 16 and Over pct1'] / 100"
   ]
  },
  {
   "cell_type": "code",
   "execution_count": 16,
   "metadata": {},
   "outputs": [
    {
     "data": {
      "text/html": [
       "<div>\n",
       "<style scoped>\n",
       "    .dataframe tbody tr th:only-of-type {\n",
       "        vertical-align: middle;\n",
       "    }\n",
       "\n",
       "    .dataframe tbody tr th {\n",
       "        vertical-align: top;\n",
       "    }\n",
       "\n",
       "    .dataframe thead th {\n",
       "        text-align: right;\n",
       "    }\n",
       "</style>\n",
       "<table border=\"1\" class=\"dataframe\">\n",
       "  <thead>\n",
       "    <tr style=\"text-align: right;\">\n",
       "      <th></th>\n",
       "      <th>WORKPLACE</th>\n",
       "      <th>Industry 15</th>\n",
       "      <th>Occupation 25</th>\n",
       "      <th>Output</th>\n",
       "      <th>Workers 16 and Over pct1</th>\n",
       "      <th>Unnamed: 5</th>\n",
       "      <th>prob</th>\n",
       "    </tr>\n",
       "  </thead>\n",
       "  <tbody>\n",
       "    <tr>\n",
       "      <td>13854</td>\n",
       "      <td>06077</td>\n",
       "      <td>Information</td>\n",
       "      <td>21.0</td>\n",
       "      <td>Estimate</td>\n",
       "      <td>0.36</td>\n",
       "      <td>NaN</td>\n",
       "      <td>0.0036</td>\n",
       "    </tr>\n",
       "    <tr>\n",
       "      <td>18114</td>\n",
       "      <td>06101</td>\n",
       "      <td>Wholesale trade</td>\n",
       "      <td>45.0</td>\n",
       "      <td>Estimate</td>\n",
       "      <td>4.35</td>\n",
       "      <td>NaN</td>\n",
       "      <td>0.0435</td>\n",
       "    </tr>\n",
       "    <tr>\n",
       "      <td>12450</td>\n",
       "      <td>06069</td>\n",
       "      <td>Finance, insurance, real estate and rental and...</td>\n",
       "      <td>45.0</td>\n",
       "      <td>Estimate</td>\n",
       "      <td>0.00</td>\n",
       "      <td>NaN</td>\n",
       "      <td>0.0000</td>\n",
       "    </tr>\n",
       "    <tr>\n",
       "      <td>12607</td>\n",
       "      <td>06071</td>\n",
       "      <td>Total, all industries</td>\n",
       "      <td>23.0</td>\n",
       "      <td>Estimate</td>\n",
       "      <td>0.56</td>\n",
       "      <td>NaN</td>\n",
       "      <td>0.0056</td>\n",
       "    </tr>\n",
       "    <tr>\n",
       "      <td>12135</td>\n",
       "      <td>06067</td>\n",
       "      <td>Educational, health and social services</td>\n",
       "      <td>39.0</td>\n",
       "      <td>Estimate</td>\n",
       "      <td>10.81</td>\n",
       "      <td>NaN</td>\n",
       "      <td>0.1081</td>\n",
       "    </tr>\n",
       "  </tbody>\n",
       "</table>\n",
       "</div>"
      ],
      "text/plain": [
       "      WORKPLACE                                        Industry 15  \\\n",
       "13854     06077                                        Information   \n",
       "18114     06101                                    Wholesale trade   \n",
       "12450     06069  Finance, insurance, real estate and rental and...   \n",
       "12607     06071                              Total, all industries   \n",
       "12135     06067            Educational, health and social services   \n",
       "\n",
       "       Occupation 25    Output  Workers 16 and Over pct1  Unnamed: 5    prob  \n",
       "13854           21.0  Estimate                      0.36         NaN  0.0036  \n",
       "18114           45.0  Estimate                      4.35         NaN  0.0435  \n",
       "12450           45.0  Estimate                      0.00         NaN  0.0000  \n",
       "12607           23.0  Estimate                      0.56         NaN  0.0056  \n",
       "12135           39.0  Estimate                     10.81         NaN  0.1081  "
      ]
     },
     "execution_count": 16,
     "metadata": {},
     "output_type": "execute_result"
    }
   ],
   "source": [
    "naics_soc_df.sample(5)"
   ]
  },
  {
   "cell_type": "code",
   "execution_count": 17,
   "metadata": {},
   "outputs": [],
   "source": [
    "wages = pd.read_csv('/home/max/msa_occ_wages.csv')"
   ]
  },
  {
   "cell_type": "code",
   "execution_count": 18,
   "metadata": {},
   "outputs": [
    {
     "data": {
      "text/plain": [
       "solano    22\n",
       "sf        22\n",
       "sc        22\n",
       "sonoma    22\n",
       "napa      22\n",
       "Name: msa, dtype: int64"
      ]
     },
     "execution_count": 18,
     "metadata": {},
     "output_type": "execute_result"
    }
   ],
   "source": [
    "wages.msa.value_counts()"
   ]
  },
  {
   "cell_type": "code",
   "execution_count": 19,
   "metadata": {},
   "outputs": [],
   "source": [
    "county_to_msa_dict = {\n",
    "    '001': 'sf',\n",
    "    '013': 'sf',\n",
    "    '041': 'sf',\n",
    "    '055': 'napa',\n",
    "    '075': 'sf',\n",
    "    '081': 'sf',\n",
    "    '085': 'sc',\n",
    "    '095': 'solano',\n",
    "    '097': 'sonoma',\n",
    "}"
   ]
  },
  {
   "cell_type": "code",
   "execution_count": 21,
   "metadata": {},
   "outputs": [
    {
     "data": {
      "text/plain": [
       "66130     2\n",
       "46150     1\n",
       "43130     1\n",
       "65350     1\n",
       "127040    1\n",
       "         ..\n",
       "31140     1\n",
       "28070     1\n",
       "45390     1\n",
       "93610     1\n",
       "37890     1\n",
       "Name: ann_mean_wage, Length: 109, dtype: int64"
      ]
     },
     "execution_count": 21,
     "metadata": {},
     "output_type": "execute_result"
    }
   ],
   "source": [
    "wages.ann_mean_wage.value_counts()"
   ]
  },
  {
   "cell_type": "markdown",
   "metadata": {
    "nbpresent": {
     "id": "aca84039-ec7f-478f-8dad-b6d046d684b3"
    }
   },
   "source": [
    "#### 5. Impute occupation in jobs table from CHTS data"
   ]
  },
  {
   "cell_type": "code",
   "execution_count": 51,
   "metadata": {
    "nbpresent": {
     "id": "e376533c-36f7-4ee6-ba07-2ce6941d9aef"
    }
   },
   "outputs": [],
   "source": [
    "jobs['occupation_id'] = -99  # 98 == \"DK\""
   ]
  },
  {
   "cell_type": "code",
   "execution_count": 52,
   "metadata": {},
   "outputs": [],
   "source": [
    "jobs.index.name = 'job_id'"
   ]
  },
  {
   "cell_type": "code",
   "execution_count": 53,
   "metadata": {},
   "outputs": [],
   "source": [
    "jobs.reset_index(inplace=True)"
   ]
  },
  {
   "cell_type": "code",
   "execution_count": 54,
   "metadata": {
    "nbpresent": {
     "id": "0d7c1001-47e3-48f2-ba5a-ea43c70ca8a9"
    },
    "scrolled": true
   },
   "outputs": [
    {
     "name": "stderr",
     "output_type": "stream",
     "text": [
      "  0%|          | 0/225 [00:00<?, ?it/s]/home/max/.local/lib/python3.7/site-packages/ipykernel_launcher.py:9: SettingWithCopyWarning: \n",
      "A value is trying to be set on a copy of a slice from a DataFrame.\n",
      "Try using .loc[row_indexer,col_indexer] = value instead\n",
      "\n",
      "See the caveats in the documentation: http://pandas.pydata.org/pandas-docs/stable/user_guide/indexing.html#returning-a-view-versus-a-copy\n",
      "  if __name__ == '__main__':\n",
      "100%|██████████| 225/225 [00:35<00:00,  6.26it/s]\n"
     ]
    }
   ],
   "source": [
    "missing = []\n",
    "for i, group in tqdm(jobs.groupby(['county_id', 'sector_id'])):\n",
    "    probs = naics_soc_df.loc[\n",
    "        (naics_soc_df['WORKPLACE'] == '06' + i[0]) &\n",
    "        (naics_soc_df['Industry 15'] == naics_to_ctpp_label[i[1]])]\n",
    "    if len(probs) == 0:\n",
    "        missing.append(i)\n",
    "    else:\n",
    "        probs['prob'] = probs['prob'] / probs['prob'].sum()\n",
    "        jobs.loc[jobs['job_id'].isin(group['job_id']), 'occupation_id'] = np.random.choice(\n",
    "            probs['Occupation 25'], size=len(group), p=probs['prob'])"
   ]
  },
  {
   "cell_type": "code",
   "execution_count": 55,
   "metadata": {},
   "outputs": [
    {
     "data": {
      "text/html": [
       "<div>\n",
       "<style scoped>\n",
       "    .dataframe tbody tr th:only-of-type {\n",
       "        vertical-align: middle;\n",
       "    }\n",
       "\n",
       "    .dataframe tbody tr th {\n",
       "        vertical-align: top;\n",
       "    }\n",
       "\n",
       "    .dataframe thead th {\n",
       "        text-align: right;\n",
       "    }\n",
       "</style>\n",
       "<table border=\"1\" class=\"dataframe\">\n",
       "  <thead>\n",
       "    <tr style=\"text-align: right;\">\n",
       "      <th></th>\n",
       "      <th>job_id</th>\n",
       "      <th>establishment_id</th>\n",
       "      <th>sector_id</th>\n",
       "      <th>building_id</th>\n",
       "      <th>employees</th>\n",
       "      <th>county_id</th>\n",
       "      <th>block_id</th>\n",
       "      <th>x</th>\n",
       "      <th>y</th>\n",
       "      <th>occupation_id</th>\n",
       "    </tr>\n",
       "  </thead>\n",
       "  <tbody>\n",
       "    <tr>\n",
       "      <td>671426</td>\n",
       "      <td>671426</td>\n",
       "      <td>61988</td>\n",
       "      <td>33</td>\n",
       "      <td>1660305.0</td>\n",
       "      <td>120.0</td>\n",
       "      <td>085</td>\n",
       "      <td>060855050062023</td>\n",
       "      <td>-121.939180</td>\n",
       "      <td>37.395529</td>\n",
       "      <td>17.0</td>\n",
       "    </tr>\n",
       "    <tr>\n",
       "      <td>1972798</td>\n",
       "      <td>1972798</td>\n",
       "      <td>168424</td>\n",
       "      <td>44</td>\n",
       "      <td>1220941.0</td>\n",
       "      <td>2.0</td>\n",
       "      <td>081</td>\n",
       "      <td>060816041013029</td>\n",
       "      <td>-122.410958</td>\n",
       "      <td>37.626933</td>\n",
       "      <td>37.0</td>\n",
       "    </tr>\n",
       "    <tr>\n",
       "      <td>566866</td>\n",
       "      <td>566866</td>\n",
       "      <td>55458</td>\n",
       "      <td>71</td>\n",
       "      <td>1184036.0</td>\n",
       "      <td>20.0</td>\n",
       "      <td>001</td>\n",
       "      <td>060014507431086</td>\n",
       "      <td>-121.896924</td>\n",
       "      <td>37.683330</td>\n",
       "      <td>53.0</td>\n",
       "    </tr>\n",
       "    <tr>\n",
       "      <td>1403607</td>\n",
       "      <td>1403607</td>\n",
       "      <td>122708</td>\n",
       "      <td>61</td>\n",
       "      <td>1095185.0</td>\n",
       "      <td>15.0</td>\n",
       "      <td>001</td>\n",
       "      <td>060014228001002</td>\n",
       "      <td>-122.257426</td>\n",
       "      <td>37.867373</td>\n",
       "      <td>11.0</td>\n",
       "    </tr>\n",
       "    <tr>\n",
       "      <td>1938571</td>\n",
       "      <td>1938571</td>\n",
       "      <td>165591</td>\n",
       "      <td>56</td>\n",
       "      <td>71292.0</td>\n",
       "      <td>3.0</td>\n",
       "      <td>081</td>\n",
       "      <td>060816001001014</td>\n",
       "      <td>-122.406744</td>\n",
       "      <td>37.698047</td>\n",
       "      <td>11.0</td>\n",
       "    </tr>\n",
       "    <tr>\n",
       "      <td>708187</td>\n",
       "      <td>708187</td>\n",
       "      <td>63395</td>\n",
       "      <td>81</td>\n",
       "      <td>458447.0</td>\n",
       "      <td>25.0</td>\n",
       "      <td>001</td>\n",
       "      <td>060014422004008</td>\n",
       "      <td>-121.945621</td>\n",
       "      <td>37.521426</td>\n",
       "      <td>49.0</td>\n",
       "    </tr>\n",
       "    <tr>\n",
       "      <td>1022385</td>\n",
       "      <td>1022385</td>\n",
       "      <td>89618</td>\n",
       "      <td>92</td>\n",
       "      <td>1306117.0</td>\n",
       "      <td>102.0</td>\n",
       "      <td>013</td>\n",
       "      <td>060133200041061</td>\n",
       "      <td>-122.079010</td>\n",
       "      <td>37.993072</td>\n",
       "      <td>15.0</td>\n",
       "    </tr>\n",
       "    <tr>\n",
       "      <td>1955440</td>\n",
       "      <td>1955440</td>\n",
       "      <td>166129</td>\n",
       "      <td>44</td>\n",
       "      <td>335069.0</td>\n",
       "      <td>23.0</td>\n",
       "      <td>075</td>\n",
       "      <td>060750117002029</td>\n",
       "      <td>-122.407100</td>\n",
       "      <td>37.785155</td>\n",
       "      <td>41.0</td>\n",
       "    </tr>\n",
       "    <tr>\n",
       "      <td>548123</td>\n",
       "      <td>548123</td>\n",
       "      <td>54330</td>\n",
       "      <td>42</td>\n",
       "      <td>1183569.0</td>\n",
       "      <td>65.0</td>\n",
       "      <td>001</td>\n",
       "      <td>060014506071034</td>\n",
       "      <td>-121.883494</td>\n",
       "      <td>37.648203</td>\n",
       "      <td>51.0</td>\n",
       "    </tr>\n",
       "    <tr>\n",
       "      <td>2573807</td>\n",
       "      <td>2573807</td>\n",
       "      <td>239809</td>\n",
       "      <td>42</td>\n",
       "      <td>705876.0</td>\n",
       "      <td>15.0</td>\n",
       "      <td>095</td>\n",
       "      <td>060952534024003</td>\n",
       "      <td>-121.824913</td>\n",
       "      <td>38.445042</td>\n",
       "      <td>35.0</td>\n",
       "    </tr>\n",
       "    <tr>\n",
       "      <td>931264</td>\n",
       "      <td>931264</td>\n",
       "      <td>80712</td>\n",
       "      <td>51</td>\n",
       "      <td>1348752.0</td>\n",
       "      <td>500.0</td>\n",
       "      <td>085</td>\n",
       "      <td>060855091084027</td>\n",
       "      <td>-122.054273</td>\n",
       "      <td>37.398092</td>\n",
       "      <td>27.0</td>\n",
       "    </tr>\n",
       "    <tr>\n",
       "      <td>1909011</td>\n",
       "      <td>1909011</td>\n",
       "      <td>162873</td>\n",
       "      <td>54</td>\n",
       "      <td>963441.0</td>\n",
       "      <td>176.0</td>\n",
       "      <td>075</td>\n",
       "      <td>060750611001015</td>\n",
       "      <td>-122.403527</td>\n",
       "      <td>37.794836</td>\n",
       "      <td>17.0</td>\n",
       "    </tr>\n",
       "    <tr>\n",
       "      <td>2023013</td>\n",
       "      <td>2023013</td>\n",
       "      <td>174196</td>\n",
       "      <td>72</td>\n",
       "      <td>1257981.0</td>\n",
       "      <td>6.0</td>\n",
       "      <td>075</td>\n",
       "      <td>060750208004003</td>\n",
       "      <td>-122.419286</td>\n",
       "      <td>37.755657</td>\n",
       "      <td>11.0</td>\n",
       "    </tr>\n",
       "    <tr>\n",
       "      <td>470483</td>\n",
       "      <td>470483</td>\n",
       "      <td>45633</td>\n",
       "      <td>32</td>\n",
       "      <td>1110062.0</td>\n",
       "      <td>270.0</td>\n",
       "      <td>001</td>\n",
       "      <td>060014511011104</td>\n",
       "      <td>-121.698024</td>\n",
       "      <td>37.706255</td>\n",
       "      <td>51.0</td>\n",
       "    </tr>\n",
       "    <tr>\n",
       "      <td>2548090</td>\n",
       "      <td>2548090</td>\n",
       "      <td>238334</td>\n",
       "      <td>51</td>\n",
       "      <td>893000.0</td>\n",
       "      <td>70.0</td>\n",
       "      <td>095</td>\n",
       "      <td>060952529042082</td>\n",
       "      <td>-121.953658</td>\n",
       "      <td>38.395761</td>\n",
       "      <td>17.0</td>\n",
       "    </tr>\n",
       "    <tr>\n",
       "      <td>1734078</td>\n",
       "      <td>1734078</td>\n",
       "      <td>152573</td>\n",
       "      <td>48</td>\n",
       "      <td>388110.0</td>\n",
       "      <td>50.0</td>\n",
       "      <td>075</td>\n",
       "      <td>060759809001026</td>\n",
       "      <td>-122.394061</td>\n",
       "      <td>37.750325</td>\n",
       "      <td>53.0</td>\n",
       "    </tr>\n",
       "    <tr>\n",
       "      <td>366036</td>\n",
       "      <td>366036</td>\n",
       "      <td>32425</td>\n",
       "      <td>72</td>\n",
       "      <td>650273.0</td>\n",
       "      <td>250.0</td>\n",
       "      <td>085</td>\n",
       "      <td>060855120271006</td>\n",
       "      <td>-121.862056</td>\n",
       "      <td>37.251986</td>\n",
       "      <td>35.0</td>\n",
       "    </tr>\n",
       "    <tr>\n",
       "      <td>2188308</td>\n",
       "      <td>2188308</td>\n",
       "      <td>192790</td>\n",
       "      <td>51</td>\n",
       "      <td>252584.0</td>\n",
       "      <td>2.0</td>\n",
       "      <td>075</td>\n",
       "      <td>060750478021000</td>\n",
       "      <td>-122.493880</td>\n",
       "      <td>37.781357</td>\n",
       "      <td>15.0</td>\n",
       "    </tr>\n",
       "    <tr>\n",
       "      <td>894059</td>\n",
       "      <td>894059</td>\n",
       "      <td>77324</td>\n",
       "      <td>44</td>\n",
       "      <td>1800931.0</td>\n",
       "      <td>51.0</td>\n",
       "      <td>013</td>\n",
       "      <td>060133150001121</td>\n",
       "      <td>-122.034958</td>\n",
       "      <td>38.008755</td>\n",
       "      <td>41.0</td>\n",
       "    </tr>\n",
       "    <tr>\n",
       "      <td>984276</td>\n",
       "      <td>984276</td>\n",
       "      <td>84124</td>\n",
       "      <td>72</td>\n",
       "      <td>1736878.0</td>\n",
       "      <td>25.0</td>\n",
       "      <td>013</td>\n",
       "      <td>060133212003001</td>\n",
       "      <td>-122.064499</td>\n",
       "      <td>37.971848</td>\n",
       "      <td>43.0</td>\n",
       "    </tr>\n",
       "  </tbody>\n",
       "</table>\n",
       "</div>"
      ],
      "text/plain": [
       "          job_id  establishment_id  sector_id  building_id  employees  \\\n",
       "671426    671426             61988         33    1660305.0      120.0   \n",
       "1972798  1972798            168424         44    1220941.0        2.0   \n",
       "566866    566866             55458         71    1184036.0       20.0   \n",
       "1403607  1403607            122708         61    1095185.0       15.0   \n",
       "1938571  1938571            165591         56      71292.0        3.0   \n",
       "708187    708187             63395         81     458447.0       25.0   \n",
       "1022385  1022385             89618         92    1306117.0      102.0   \n",
       "1955440  1955440            166129         44     335069.0       23.0   \n",
       "548123    548123             54330         42    1183569.0       65.0   \n",
       "2573807  2573807            239809         42     705876.0       15.0   \n",
       "931264    931264             80712         51    1348752.0      500.0   \n",
       "1909011  1909011            162873         54     963441.0      176.0   \n",
       "2023013  2023013            174196         72    1257981.0        6.0   \n",
       "470483    470483             45633         32    1110062.0      270.0   \n",
       "2548090  2548090            238334         51     893000.0       70.0   \n",
       "1734078  1734078            152573         48     388110.0       50.0   \n",
       "366036    366036             32425         72     650273.0      250.0   \n",
       "2188308  2188308            192790         51     252584.0        2.0   \n",
       "894059    894059             77324         44    1800931.0       51.0   \n",
       "984276    984276             84124         72    1736878.0       25.0   \n",
       "\n",
       "        county_id         block_id           x          y  occupation_id  \n",
       "671426        085  060855050062023 -121.939180  37.395529           17.0  \n",
       "1972798       081  060816041013029 -122.410958  37.626933           37.0  \n",
       "566866        001  060014507431086 -121.896924  37.683330           53.0  \n",
       "1403607       001  060014228001002 -122.257426  37.867373           11.0  \n",
       "1938571       081  060816001001014 -122.406744  37.698047           11.0  \n",
       "708187        001  060014422004008 -121.945621  37.521426           49.0  \n",
       "1022385       013  060133200041061 -122.079010  37.993072           15.0  \n",
       "1955440       075  060750117002029 -122.407100  37.785155           41.0  \n",
       "548123        001  060014506071034 -121.883494  37.648203           51.0  \n",
       "2573807       095  060952534024003 -121.824913  38.445042           35.0  \n",
       "931264        085  060855091084027 -122.054273  37.398092           27.0  \n",
       "1909011       075  060750611001015 -122.403527  37.794836           17.0  \n",
       "2023013       075  060750208004003 -122.419286  37.755657           11.0  \n",
       "470483        001  060014511011104 -121.698024  37.706255           51.0  \n",
       "2548090       095  060952529042082 -121.953658  38.395761           17.0  \n",
       "1734078       075  060759809001026 -122.394061  37.750325           53.0  \n",
       "366036        085  060855120271006 -121.862056  37.251986           35.0  \n",
       "2188308       075  060750478021000 -122.493880  37.781357           15.0  \n",
       "894059        013  060133150001121 -122.034958  38.008755           41.0  \n",
       "984276        013  060133212003001 -122.064499  37.971848           43.0  "
      ]
     },
     "execution_count": 55,
     "metadata": {},
     "output_type": "execute_result"
    }
   ],
   "source": [
    "jobs.sample(20)"
   ]
  },
  {
   "cell_type": "markdown",
   "metadata": {},
   "source": [
    "OFFICIAL SOC Codes\n",
    "\n",
    "- 11: Management Occupations\n",
    "- 13: Business and Financial Operations Occupations\n",
    "- 15: Computer and Mathematical Occupations\n",
    "- 17: Architecture and Engineering Occupations\n",
    "- 19: Life, Physical, and Social Science Occupations\n",
    "- 21: Community and Social Services Occupations\n",
    "- 23: Legal Occupations\n",
    "- 25: Education, Training, and Library Occupations\n",
    "- 27: Arts, Design, Entertainment, Sports, and Media Occupations\n",
    "- 29: Healthcare Practitioners and Technical Occupations\n",
    "- 31: Healthcare Support Occupations\n",
    "- 33: Protective Service Occupations\n",
    "- 35: Food Preparation and Serving Related Occupations\n",
    "- 37: Building and Grounds Cleaning and Maintenance Occupations\n",
    "- 39: Personal Care and Service Occupations\n",
    "- 41: Sales and Related Occupations\n",
    "- 43: Office and Administrative Support Occupations\n",
    "- 45: Farming, Fishing, and Forestry Occupations\n",
    "- 47: Construction and Extraction Occupations\n",
    "- 49: Installation, Maintenance, and Repair Occupations\n",
    "- 51: Production Occupations\n",
    "- 53: Transportation and Material Moving Occupations\n",
    "- 55: Military Specific Occupations"
   ]
  },
  {
   "cell_type": "code",
   "execution_count": 57,
   "metadata": {},
   "outputs": [
    {
     "data": {
      "text/plain": [
       " 41.0    330147\n",
       " 11.0    321836\n",
       " 43.0    298472\n",
       " 13.0    167627\n",
       " 15.0    148469\n",
       " 35.0    147545\n",
       " 25.0    109567\n",
       " 29.0    108281\n",
       " 53.0    108269\n",
       " 39.0    108060\n",
       " 51.0    101696\n",
       " 47.0     97524\n",
       " 37.0     91747\n",
       " 17.0     82676\n",
       " 27.0     72718\n",
       " 49.0     59300\n",
       " 33.0     50438\n",
       " 19.0     37633\n",
       " 23.0     37308\n",
       " 31.0     37102\n",
       " 21.0     33282\n",
       "-99.0     20771\n",
       " 45.0      7578\n",
       "Name: occupation_id, dtype: int64"
      ]
     },
     "execution_count": 57,
     "metadata": {},
     "output_type": "execute_result"
    }
   ],
   "source": [
    "jobs['occupation_id'].value_counts(dropna=False)"
   ]
  },
  {
   "cell_type": "code",
   "execution_count": 58,
   "metadata": {},
   "outputs": [
    {
     "data": {
      "text/plain": [
       "[('001', 99),\n",
       " ('013', 99),\n",
       " ('041', 99),\n",
       " ('055', 99),\n",
       " ('075', 99),\n",
       " ('081', 99),\n",
       " ('085', 99),\n",
       " ('095', 99),\n",
       " ('097', 99)]"
      ]
     },
     "execution_count": 58,
     "metadata": {},
     "output_type": "execute_result"
    }
   ],
   "source": [
    "missing"
   ]
  },
  {
   "cell_type": "code",
   "execution_count": 59,
   "metadata": {
    "nbpresent": {
     "id": "15ab64d1-63e9-4375-af45-4cd2b316c1db"
    }
   },
   "outputs": [],
   "source": [
    "jobs.set_index('job_id', inplace=True)\n",
    "jobs['occupation_id'] = jobs['occupation_id'].astype(int)"
   ]
  },
  {
   "cell_type": "code",
   "execution_count": 60,
   "metadata": {},
   "outputs": [],
   "source": [
    "jobs = jobs[[col for col in jobs.columns if col not in ['employees']]]"
   ]
  },
  {
   "cell_type": "code",
   "execution_count": 61,
   "metadata": {},
   "outputs": [],
   "source": [
    "jobs['msa'] = jobs['county_id'].map(county_to_msa_dict)"
   ]
  },
  {
   "cell_type": "code",
   "execution_count": 62,
   "metadata": {},
   "outputs": [
    {
     "data": {
      "text/plain": [
       "(2578046, 9)"
      ]
     },
     "execution_count": 62,
     "metadata": {},
     "output_type": "execute_result"
    }
   ],
   "source": [
    "jobs.shape"
   ]
  },
  {
   "cell_type": "code",
   "execution_count": 66,
   "metadata": {},
   "outputs": [],
   "source": [
    "jobs2 = pd.merge(jobs, wages[['occ', 'msa', 'ann_mean_wage']],\n",
    "                left_on=['occupation_id', 'msa'], right_on=['occ', 'msa'])"
   ]
  },
  {
   "cell_type": "code",
   "execution_count": 67,
   "metadata": {},
   "outputs": [
    {
     "data": {
      "text/plain": [
       "(2557275, 11)"
      ]
     },
     "execution_count": 67,
     "metadata": {},
     "output_type": "execute_result"
    }
   ],
   "source": [
    "jobs2.shape"
   ]
  },
  {
   "cell_type": "code",
   "execution_count": 42,
   "metadata": {},
   "outputs": [
    {
     "data": {
      "text/plain": [
       "53970     207934\n",
       "156940    206998\n",
       "49760     194531\n",
       "96580     114947\n",
       "33570      90920\n",
       "           ...  \n",
       "83580        676\n",
       "31140        618\n",
       "86210        494\n",
       "134560       444\n",
       "88120        408\n",
       "Name: ann_mean_wage, Length: 109, dtype: int64"
      ]
     },
     "execution_count": 42,
     "metadata": {},
     "output_type": "execute_result"
    }
   ],
   "source": [
    "jobs['ann_mean_wage'].value_counts()"
   ]
  },
  {
   "cell_type": "code",
   "execution_count": 69,
   "metadata": {},
   "outputs": [
    {
     "data": {
      "text/html": [
       "<div>\n",
       "<style scoped>\n",
       "    .dataframe tbody tr th:only-of-type {\n",
       "        vertical-align: middle;\n",
       "    }\n",
       "\n",
       "    .dataframe tbody tr th {\n",
       "        vertical-align: top;\n",
       "    }\n",
       "\n",
       "    .dataframe thead th {\n",
       "        text-align: right;\n",
       "    }\n",
       "</style>\n",
       "<table border=\"1\" class=\"dataframe\">\n",
       "  <thead>\n",
       "    <tr style=\"text-align: right;\">\n",
       "      <th></th>\n",
       "      <th>establishment_id</th>\n",
       "      <th>sector_id</th>\n",
       "      <th>building_id</th>\n",
       "      <th>county_id</th>\n",
       "      <th>block_id</th>\n",
       "      <th>x</th>\n",
       "      <th>y</th>\n",
       "      <th>occupation_id</th>\n",
       "      <th>msa</th>\n",
       "    </tr>\n",
       "    <tr>\n",
       "      <th>job_id</th>\n",
       "      <th></th>\n",
       "      <th></th>\n",
       "      <th></th>\n",
       "      <th></th>\n",
       "      <th></th>\n",
       "      <th></th>\n",
       "      <th></th>\n",
       "      <th></th>\n",
       "      <th></th>\n",
       "    </tr>\n",
       "  </thead>\n",
       "  <tbody>\n",
       "    <tr>\n",
       "      <td>0</td>\n",
       "      <td>0</td>\n",
       "      <td>42</td>\n",
       "      <td>1546057.0</td>\n",
       "      <td>081</td>\n",
       "      <td>060816138003032</td>\n",
       "      <td>-122.271983</td>\n",
       "      <td>37.320879</td>\n",
       "      <td>49</td>\n",
       "      <td>sf</td>\n",
       "    </tr>\n",
       "    <tr>\n",
       "      <td>1</td>\n",
       "      <td>0</td>\n",
       "      <td>42</td>\n",
       "      <td>1546057.0</td>\n",
       "      <td>081</td>\n",
       "      <td>060816138003032</td>\n",
       "      <td>-122.271983</td>\n",
       "      <td>37.320879</td>\n",
       "      <td>11</td>\n",
       "      <td>sf</td>\n",
       "    </tr>\n",
       "    <tr>\n",
       "      <td>2</td>\n",
       "      <td>3</td>\n",
       "      <td>54</td>\n",
       "      <td>1200520.0</td>\n",
       "      <td>081</td>\n",
       "      <td>060816134003042</td>\n",
       "      <td>-122.267916</td>\n",
       "      <td>37.391072</td>\n",
       "      <td>23</td>\n",
       "      <td>sf</td>\n",
       "    </tr>\n",
       "    <tr>\n",
       "      <td>3</td>\n",
       "      <td>6</td>\n",
       "      <td>62</td>\n",
       "      <td>1545946.0</td>\n",
       "      <td>081</td>\n",
       "      <td>060816132004001</td>\n",
       "      <td>-122.221147</td>\n",
       "      <td>37.372496</td>\n",
       "      <td>43</td>\n",
       "      <td>sf</td>\n",
       "    </tr>\n",
       "    <tr>\n",
       "      <td>4</td>\n",
       "      <td>6</td>\n",
       "      <td>62</td>\n",
       "      <td>1545946.0</td>\n",
       "      <td>081</td>\n",
       "      <td>060816132004001</td>\n",
       "      <td>-122.221147</td>\n",
       "      <td>37.372496</td>\n",
       "      <td>37</td>\n",
       "      <td>sf</td>\n",
       "    </tr>\n",
       "  </tbody>\n",
       "</table>\n",
       "</div>"
      ],
      "text/plain": [
       "        establishment_id  sector_id  building_id county_id         block_id  \\\n",
       "job_id                                                                        \n",
       "0                      0         42    1546057.0       081  060816138003032   \n",
       "1                      0         42    1546057.0       081  060816138003032   \n",
       "2                      3         54    1200520.0       081  060816134003042   \n",
       "3                      6         62    1545946.0       081  060816132004001   \n",
       "4                      6         62    1545946.0       081  060816132004001   \n",
       "\n",
       "                 x          y  occupation_id msa  \n",
       "job_id                                            \n",
       "0      -122.271983  37.320879             49  sf  \n",
       "1      -122.271983  37.320879             11  sf  \n",
       "2      -122.267916  37.391072             23  sf  \n",
       "3      -122.221147  37.372496             43  sf  \n",
       "4      -122.221147  37.372496             37  sf  "
      ]
     },
     "execution_count": 69,
     "metadata": {},
     "output_type": "execute_result"
    }
   ],
   "source": [
    "jobs.head()"
   ]
  },
  {
   "cell_type": "code",
   "execution_count": 70,
   "metadata": {
    "nbpresent": {
     "id": "2b118eef-ee1d-4fa1-a2bd-87fa0a6fc28a"
    }
   },
   "outputs": [],
   "source": [
    "jobs2.to_csv('/home/max/jobs_w_occup_wages.csv')"
   ]
  },
  {
   "cell_type": "code",
   "execution_count": 114,
   "metadata": {
    "nbpresent": {
     "id": "9420d743-0725-452e-b01c-5c88536d472f"
    }
   },
   "outputs": [],
   "source": [
    "jobs = pd.read_csv('/home/max/jobs_w_occup.csv')"
   ]
  },
  {
   "cell_type": "markdown",
   "metadata": {},
   "source": [
    "#### Create NAICS Code Data Dict"
   ]
  },
  {
   "cell_type": "code",
   "execution_count": 89,
   "metadata": {},
   "outputs": [],
   "source": [
    "page = requests.get('https://www.naics.com/business-lists/counts-by-naics-code/?#countsByNAICS')"
   ]
  },
  {
   "cell_type": "code",
   "execution_count": 90,
   "metadata": {},
   "outputs": [],
   "source": [
    "tree = html.fromstring(page.content)"
   ]
  },
  {
   "cell_type": "code",
   "execution_count": 91,
   "metadata": {},
   "outputs": [
    {
     "ename": "IndexError",
     "evalue": "list index out of range",
     "output_type": "error",
     "traceback": [
      "\u001b[0;31m---------------------------------------------------------------------------\u001b[0m",
      "\u001b[0;31mIndexError\u001b[0m                                Traceback (most recent call last)",
      "\u001b[0;32m<ipython-input-91-13d0efa4f356>\u001b[0m in \u001b[0;36m<module>\u001b[0;34m\u001b[0m\n\u001b[0;32m----> 1\u001b[0;31m \u001b[0mtable\u001b[0m \u001b[0;34m=\u001b[0m \u001b[0mtree\u001b[0m\u001b[0;34m.\u001b[0m\u001b[0mxpath\u001b[0m\u001b[0;34m(\u001b[0m\u001b[0;34m'//*[@id=\"post-3900\"]/div/table'\u001b[0m\u001b[0;34m)\u001b[0m\u001b[0;34m[\u001b[0m\u001b[0;36m0\u001b[0m\u001b[0;34m]\u001b[0m\u001b[0;34m\u001b[0m\u001b[0;34m\u001b[0m\u001b[0m\n\u001b[0m",
      "\u001b[0;31mIndexError\u001b[0m: list index out of range"
     ]
    }
   ],
   "source": [
    "table = tree.xpath('//*[@id=\"post-3900\"]/div/table')[0]"
   ]
  },
  {
   "cell_type": "code",
   "execution_count": 92,
   "metadata": {},
   "outputs": [
    {
     "ename": "NameError",
     "evalue": "name 'table' is not defined",
     "output_type": "error",
     "traceback": [
      "\u001b[0;31m---------------------------------------------------------------------------\u001b[0m",
      "\u001b[0;31mNameError\u001b[0m                                 Traceback (most recent call last)",
      "\u001b[0;32m<ipython-input-92-67abd85852c7>\u001b[0m in \u001b[0;36m<module>\u001b[0;34m\u001b[0m\n\u001b[1;32m      1\u001b[0m \u001b[0mdf\u001b[0m \u001b[0;34m=\u001b[0m \u001b[0mpd\u001b[0m\u001b[0;34m.\u001b[0m\u001b[0mDataFrame\u001b[0m\u001b[0;34m(\u001b[0m\u001b[0mcolumns\u001b[0m\u001b[0;34m=\u001b[0m\u001b[0;34m[\u001b[0m\u001b[0;34m'code'\u001b[0m\u001b[0;34m,\u001b[0m \u001b[0;34m'industry'\u001b[0m\u001b[0;34m]\u001b[0m\u001b[0;34m)\u001b[0m\u001b[0;34m\u001b[0m\u001b[0;34m\u001b[0m\u001b[0m\n\u001b[0;32m----> 2\u001b[0;31m \u001b[0;32mfor\u001b[0m \u001b[0mi\u001b[0m\u001b[0;34m,\u001b[0m \u001b[0mrow\u001b[0m \u001b[0;32min\u001b[0m \u001b[0menumerate\u001b[0m\u001b[0;34m(\u001b[0m\u001b[0mtable\u001b[0m\u001b[0;34m.\u001b[0m\u001b[0mgetchildren\u001b[0m\u001b[0;34m(\u001b[0m\u001b[0;34m)\u001b[0m\u001b[0;34m)\u001b[0m\u001b[0;34m:\u001b[0m\u001b[0;34m\u001b[0m\u001b[0;34m\u001b[0m\u001b[0m\n\u001b[0m\u001b[1;32m      3\u001b[0m     \u001b[0;32mif\u001b[0m \u001b[0mi\u001b[0m \u001b[0;34m>\u001b[0m \u001b[0;36m0\u001b[0m \u001b[0;32mand\u001b[0m \u001b[0mi\u001b[0m \u001b[0;34m<\u001b[0m \u001b[0mlen\u001b[0m\u001b[0;34m(\u001b[0m\u001b[0mtable\u001b[0m\u001b[0;34m.\u001b[0m\u001b[0mgetchildren\u001b[0m\u001b[0;34m(\u001b[0m\u001b[0;34m)\u001b[0m\u001b[0;34m)\u001b[0m \u001b[0;34m-\u001b[0m \u001b[0;36m1\u001b[0m\u001b[0;34m:\u001b[0m\u001b[0;34m\u001b[0m\u001b[0;34m\u001b[0m\u001b[0m\n\u001b[1;32m      4\u001b[0m         \u001b[0;32mif\u001b[0m \u001b[0;34m'-'\u001b[0m \u001b[0;32min\u001b[0m \u001b[0mrow\u001b[0m\u001b[0;34m[\u001b[0m\u001b[0;36m0\u001b[0m\u001b[0;34m]\u001b[0m\u001b[0;34m.\u001b[0m\u001b[0mtext_content\u001b[0m\u001b[0;34m(\u001b[0m\u001b[0;34m)\u001b[0m\u001b[0;34m:\u001b[0m\u001b[0;34m\u001b[0m\u001b[0;34m\u001b[0m\u001b[0m\n\u001b[1;32m      5\u001b[0m             \u001b[0mrange_codes\u001b[0m \u001b[0;34m=\u001b[0m \u001b[0;34m[\u001b[0m\u001b[0mint\u001b[0m\u001b[0;34m(\u001b[0m\u001b[0mx\u001b[0m\u001b[0;34m)\u001b[0m \u001b[0;32mfor\u001b[0m \u001b[0mx\u001b[0m \u001b[0;32min\u001b[0m \u001b[0mrow\u001b[0m\u001b[0;34m[\u001b[0m\u001b[0;36m0\u001b[0m\u001b[0;34m]\u001b[0m\u001b[0;34m.\u001b[0m\u001b[0mtext_content\u001b[0m\u001b[0;34m(\u001b[0m\u001b[0;34m)\u001b[0m\u001b[0;34m.\u001b[0m\u001b[0msplit\u001b[0m\u001b[0;34m(\u001b[0m\u001b[0;34m'-'\u001b[0m\u001b[0;34m)\u001b[0m\u001b[0;34m]\u001b[0m\u001b[0;34m\u001b[0m\u001b[0;34m\u001b[0m\u001b[0m\n",
      "\u001b[0;31mNameError\u001b[0m: name 'table' is not defined"
     ]
    }
   ],
   "source": [
    "df = pd.DataFrame(columns=['code', 'industry'])\n",
    "for i, row in enumerate(table.getchildren()):\n",
    "    if i > 0 and i < len(table.getchildren()) - 1:\n",
    "        if '-' in row[0].text_content():\n",
    "            range_codes = [int(x) for x in row[0].text_content().split('-')]\n",
    "            all_codes = list(range(range_nums[0], range_nums[1] + 1))\n",
    "        else:\n",
    "            all_codes = [row[0].text_content()]\n",
    "        for code in all_codes:\n",
    "            df = df.append(\n",
    "                {'code': code, 'industry': row[1].text_content()},\n",
    "                ignore_index=True)\n",
    "    "
   ]
  },
  {
   "cell_type": "code",
   "execution_count": 107,
   "metadata": {},
   "outputs": [],
   "source": [
    "range_nums = [int(x) for x in row[0].text_content().split('-')]"
   ]
  },
  {
   "cell_type": "code",
   "execution_count": 118,
   "metadata": {},
   "outputs": [],
   "source": [
    "df.to_csv('NAICS_2_digit_data_dict.csv', index=False)"
   ]
  }
 ],
 "metadata": {
  "kernelspec": {
   "display_name": "ual-model",
   "language": "python",
   "name": "ual-model"
  },
  "language_info": {
   "codemirror_mode": {
    "name": "ipython",
    "version": 3
   },
   "file_extension": ".py",
   "mimetype": "text/x-python",
   "name": "python",
   "nbconvert_exporter": "python",
   "pygments_lexer": "ipython3",
   "version": "3.7.3"
  }
 },
 "nbformat": 4,
 "nbformat_minor": 2
}
