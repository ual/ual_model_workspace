{
 "cells": [
  {
   "cell_type": "markdown",
   "metadata": {},
   "source": [
    "# Real estate price model workflow\n",
    "\n",
    "Sam Maurer, Feb 2018; Paul Waddell, June 2018\n",
    "\n",
    "Python 3.6, intended to be backward compatible with 2.7"
   ]
  },
  {
   "cell_type": "code",
   "execution_count": 1,
   "metadata": {
    "collapsed": true
   },
   "outputs": [],
   "source": [
    "from __future__ import print_function\n",
    "import warnings;warnings.simplefilter('ignore')\n",
    "\n",
    "import numpy as np\n",
    "import pandas as pd"
   ]
  },
  {
   "cell_type": "code",
   "execution_count": 2,
   "metadata": {
    "collapsed": true
   },
   "outputs": [],
   "source": [
    "# Standard to run UrbanSim from the root level of the project directory\n",
    "\n",
    "import os; os.chdir('..')"
   ]
  },
  {
   "cell_type": "code",
   "execution_count": 3,
   "metadata": {
    "collapsed": true
   },
   "outputs": [],
   "source": [
    "from urbansim_templates import modelmanager as mm\n",
    "from urbansim_templates.models import OLSRegressionStep\n",
    "import orca"
   ]
  },
  {
   "cell_type": "code",
   "execution_count": 4,
   "metadata": {
    "collapsed": true
   },
   "outputs": [],
   "source": [
    "# Load any script-based Orca registrations\n",
    "from scripts import datasources\n",
    "from scripts import models"
   ]
  },
  {
   "cell_type": "markdown",
   "metadata": {},
   "source": [
    "## Explore the Orca registrations"
   ]
  },
  {
   "cell_type": "code",
   "execution_count": 5,
   "metadata": {
    "collapsed": false
   },
   "outputs": [
    {
     "data": {
      "text/plain": [
       "['parcels', 'buildings', 'rentals', 'units', 'households', 'persons', 'jobs']"
      ]
     },
     "execution_count": 5,
     "metadata": {},
     "output_type": "execute_result"
    }
   ],
   "source": [
    "orca.list_tables()"
   ]
  },
  {
   "cell_type": "code",
   "execution_count": 10,
   "metadata": {
    "collapsed": false
   },
   "outputs": [
    {
     "name": "stdout",
     "output_type": "stream",
     "text": [
      "PARCELS\n",
      "['primary_id', 'development_type_id', 'land_value', 'acres', 'county_id', 'zone_id', 'proportion_undevelopable', 'tax_exempt_status', 'apn', 'parcel_id_local', 'geom_id', 'imputation_flag', 'x', 'y', 'shape_area', 'block_id', 'node_id']\n",
      "\n",
      "BUILDINGS\n",
      "['building_id', 'parcel_id', 'development_type_id', 'improvement_value', 'residential_units', 'residential_sqft', 'sqft_per_unit', 'non_residential_sqft', 'building_sqft', 'nonres_rent_per_sqft', 'res_price_per_sqft', 'stories', 'year_built', 'redfin_sale_price', 'redfin_sale_year', 'redfin_home_type', 'costar_property_type', 'costar_rent', 'building_type_id']\n",
      "\n",
      "RENTALS\n",
      "['neighborhood', 'price', 'bedrooms', 'date', 'sqft_per_unit', 'lon', 'lat', 'price_per_sqft']\n",
      "\n",
      "UNITS\n",
      "['Unnamed: 0', 'building_id', 'num_units', 'tenure', 'unit_num', 'unit_residential_price', 'unit_residential_rent']\n",
      "\n",
      "HOUSEHOLDS\n",
      "['household_id', 'serialno', 'persons', 'building_type', 'cars', 'income', 'race_of_head', 'hispanic_head', 'age_of_head', 'workers', 'state', 'county', 'tract', 'block_group', 'children', 'tenure', 'recent_mover', 'block_group_id', 'single_family', 'unit_id', 'building_id']\n",
      "\n",
      "PERSONS\n",
      "['person_id', 'member_id', 'age', 'relate', 'edu', 'sex', 'hours', 'hispanic', 'earning', 'race_id', 'household_id', 'student', 'work_at_home', 'worker']\n",
      "\n",
      "JOBS\n",
      "['job_id', 'building_id', 'sector_id', 'occupation_id']\n",
      "\n"
     ]
    }
   ],
   "source": [
    "for table_name in orca.list_tables():\n",
    "    print(table_name.upper())\n",
    "    print(orca.get_table(table_name).to_frame().columns.tolist())\n",
    "    print()"
   ]
  },
  {
   "cell_type": "code",
   "execution_count": 11,
   "metadata": {
    "collapsed": false
   },
   "outputs": [
    {
     "data": {
      "text/plain": [
       "[('parcels', 'buildings'),\n",
       " ('buildings', 'units'),\n",
       " ('units', 'households'),\n",
       " ('households', 'persons')]"
      ]
     },
     "execution_count": 11,
     "metadata": {},
     "output_type": "execute_result"
    }
   ],
   "source": [
    "orca.list_broadcasts()"
   ]
  },
  {
   "cell_type": "code",
   "execution_count": 12,
   "metadata": {
    "collapsed": false
   },
   "outputs": [
    {
     "data": {
      "text/plain": [
       "['large-mnl-test',\n",
       " 'model_one',\n",
       " 'model_two',\n",
       " 'ols-test',\n",
       " 'small-mnl-test',\n",
       " 'test_manual_registration',\n",
       " 'initialize_network',\n",
       " 'network_aggregations']"
      ]
     },
     "execution_count": 12,
     "metadata": {},
     "output_type": "execute_result"
    }
   ],
   "source": [
    "orca.list_steps()"
   ]
  },
  {
   "cell_type": "code",
   "execution_count": null,
   "metadata": {
    "collapsed": true
   },
   "outputs": [],
   "source": []
  },
  {
   "cell_type": "markdown",
   "metadata": {},
   "source": [
    "## Explore the data\n",
    "\n",
    "Orca doesn't execute code to load the registered objects until it needs to."
   ]
  },
  {
   "cell_type": "code",
   "execution_count": 13,
   "metadata": {
    "collapsed": false
   },
   "outputs": [
    {
     "data": {
      "text/html": [
       "<div>\n",
       "<style scoped>\n",
       "    .dataframe tbody tr th:only-of-type {\n",
       "        vertical-align: middle;\n",
       "    }\n",
       "\n",
       "    .dataframe tbody tr th {\n",
       "        vertical-align: top;\n",
       "    }\n",
       "\n",
       "    .dataframe thead th {\n",
       "        text-align: right;\n",
       "    }\n",
       "</style>\n",
       "<table border=\"1\" class=\"dataframe\">\n",
       "  <thead>\n",
       "    <tr style=\"text-align: right;\">\n",
       "      <th></th>\n",
       "      <th>primary_id</th>\n",
       "      <th>development_type_id</th>\n",
       "      <th>land_value</th>\n",
       "      <th>acres</th>\n",
       "      <th>county_id</th>\n",
       "      <th>zone_id</th>\n",
       "      <th>proportion_undevelopable</th>\n",
       "      <th>tax_exempt_status</th>\n",
       "      <th>geom_id</th>\n",
       "      <th>x</th>\n",
       "      <th>y</th>\n",
       "      <th>shape_area</th>\n",
       "      <th>block_id</th>\n",
       "      <th>node_id</th>\n",
       "    </tr>\n",
       "  </thead>\n",
       "  <tbody>\n",
       "    <tr>\n",
       "      <th>count</th>\n",
       "      <td>1.956207e+06</td>\n",
       "      <td>1.956207e+06</td>\n",
       "      <td>1.956207e+06</td>\n",
       "      <td>1.956207e+06</td>\n",
       "      <td>1.956207e+06</td>\n",
       "      <td>1.956207e+06</td>\n",
       "      <td>1.956207e+06</td>\n",
       "      <td>1.956207e+06</td>\n",
       "      <td>1.956207e+06</td>\n",
       "      <td>1.956207e+06</td>\n",
       "      <td>1.956207e+06</td>\n",
       "      <td>1.956207e+06</td>\n",
       "      <td>1.956207e+06</td>\n",
       "      <td>1.956207e+06</td>\n",
       "    </tr>\n",
       "    <tr>\n",
       "      <th>mean</th>\n",
       "      <td>1.018502e+06</td>\n",
       "      <td>2.607759e+00</td>\n",
       "      <td>2.348019e+05</td>\n",
       "      <td>2.294288e+00</td>\n",
       "      <td>5.393547e+01</td>\n",
       "      <td>8.293200e+02</td>\n",
       "      <td>1.633774e-03</td>\n",
       "      <td>1.256104e-02</td>\n",
       "      <td>8.795114e+12</td>\n",
       "      <td>-1.221763e+02</td>\n",
       "      <td>3.777351e+01</td>\n",
       "      <td>9.284664e+03</td>\n",
       "      <td>6.054294e+13</td>\n",
       "      <td>3.821563e+08</td>\n",
       "    </tr>\n",
       "    <tr>\n",
       "      <th>std</th>\n",
       "      <td>5.972833e+05</td>\n",
       "      <td>5.310605e+00</td>\n",
       "      <td>1.610710e+06</td>\n",
       "      <td>3.612166e+01</td>\n",
       "      <td>3.808734e+01</td>\n",
       "      <td>4.129778e+02</td>\n",
       "      <td>4.038695e-02</td>\n",
       "      <td>1.113700e-01</td>\n",
       "      <td>5.076215e+12</td>\n",
       "      <td>2.991972e-01</td>\n",
       "      <td>3.621875e-01</td>\n",
       "      <td>1.461793e+05</td>\n",
       "      <td>3.807600e+11</td>\n",
       "      <td>9.490913e+08</td>\n",
       "    </tr>\n",
       "    <tr>\n",
       "      <th>min</th>\n",
       "      <td>1.000000e+00</td>\n",
       "      <td>-1.000000e+00</td>\n",
       "      <td>0.000000e+00</td>\n",
       "      <td>4.527090e-07</td>\n",
       "      <td>1.000000e+00</td>\n",
       "      <td>1.000000e+00</td>\n",
       "      <td>0.000000e+00</td>\n",
       "      <td>0.000000e+00</td>\n",
       "      <td>1.706688e+07</td>\n",
       "      <td>-1.235266e+02</td>\n",
       "      <td>3.689751e+01</td>\n",
       "      <td>1.832050e-03</td>\n",
       "      <td>6.001400e+13</td>\n",
       "      <td>3.028780e+05</td>\n",
       "    </tr>\n",
       "    <tr>\n",
       "      <th>25%</th>\n",
       "      <td>4.999735e+05</td>\n",
       "      <td>1.000000e+00</td>\n",
       "      <td>3.995700e+04</td>\n",
       "      <td>1.084042e-01</td>\n",
       "      <td>1.300000e+01</td>\n",
       "      <td>4.920000e+02</td>\n",
       "      <td>0.000000e+00</td>\n",
       "      <td>0.000000e+00</td>\n",
       "      <td>4.405538e+12</td>\n",
       "      <td>-1.224059e+02</td>\n",
       "      <td>3.748103e+01</td>\n",
       "      <td>4.386967e+02</td>\n",
       "      <td>6.013321e+13</td>\n",
       "      <td>5.615974e+07</td>\n",
       "    </tr>\n",
       "    <tr>\n",
       "      <th>50%</th>\n",
       "      <td>1.005872e+06</td>\n",
       "      <td>1.000000e+00</td>\n",
       "      <td>1.008000e+05</td>\n",
       "      <td>1.489650e-01</td>\n",
       "      <td>7.500000e+01</td>\n",
       "      <td>8.440000e+02</td>\n",
       "      <td>0.000000e+00</td>\n",
       "      <td>0.000000e+00</td>\n",
       "      <td>8.793873e+12</td>\n",
       "      <td>-1.221419e+02</td>\n",
       "      <td>3.775390e+01</td>\n",
       "      <td>6.028407e+02</td>\n",
       "      <td>6.075033e+13</td>\n",
       "      <td>6.535137e+07</td>\n",
       "    </tr>\n",
       "    <tr>\n",
       "      <th>75%</th>\n",
       "      <td>1.544652e+06</td>\n",
       "      <td>1.000000e+00</td>\n",
       "      <td>2.254345e+05</td>\n",
       "      <td>2.294452e-01</td>\n",
       "      <td>8.500000e+01</td>\n",
       "      <td>1.189000e+03</td>\n",
       "      <td>0.000000e+00</td>\n",
       "      <td>0.000000e+00</td>\n",
       "      <td>1.318756e+13</td>\n",
       "      <td>-1.219512e+02</td>\n",
       "      <td>3.798583e+01</td>\n",
       "      <td>9.285328e+02</td>\n",
       "      <td>6.085508e+13</td>\n",
       "      <td>6.562580e+07</td>\n",
       "    </tr>\n",
       "    <tr>\n",
       "      <th>max</th>\n",
       "      <td>2.054502e+06</td>\n",
       "      <td>2.500000e+01</td>\n",
       "      <td>1.393464e+09</td>\n",
       "      <td>2.335199e+04</td>\n",
       "      <td>9.700000e+01</td>\n",
       "      <td>1.454000e+03</td>\n",
       "      <td>1.000000e+00</td>\n",
       "      <td>1.000000e+00</td>\n",
       "      <td>1.759217e+13</td>\n",
       "      <td>-1.212109e+02</td>\n",
       "      <td>3.886017e+01</td>\n",
       "      <td>9.450224e+07</td>\n",
       "      <td>6.113012e+13</td>\n",
       "      <td>5.458527e+09</td>\n",
       "    </tr>\n",
       "  </tbody>\n",
       "</table>\n",
       "</div>"
      ],
      "text/plain": [
       "         primary_id  development_type_id    land_value         acres  \\\n",
       "count  1.956207e+06         1.956207e+06  1.956207e+06  1.956207e+06   \n",
       "mean   1.018502e+06         2.607759e+00  2.348019e+05  2.294288e+00   \n",
       "std    5.972833e+05         5.310605e+00  1.610710e+06  3.612166e+01   \n",
       "min    1.000000e+00        -1.000000e+00  0.000000e+00  4.527090e-07   \n",
       "25%    4.999735e+05         1.000000e+00  3.995700e+04  1.084042e-01   \n",
       "50%    1.005872e+06         1.000000e+00  1.008000e+05  1.489650e-01   \n",
       "75%    1.544652e+06         1.000000e+00  2.254345e+05  2.294452e-01   \n",
       "max    2.054502e+06         2.500000e+01  1.393464e+09  2.335199e+04   \n",
       "\n",
       "          county_id       zone_id  proportion_undevelopable  \\\n",
       "count  1.956207e+06  1.956207e+06              1.956207e+06   \n",
       "mean   5.393547e+01  8.293200e+02              1.633774e-03   \n",
       "std    3.808734e+01  4.129778e+02              4.038695e-02   \n",
       "min    1.000000e+00  1.000000e+00              0.000000e+00   \n",
       "25%    1.300000e+01  4.920000e+02              0.000000e+00   \n",
       "50%    7.500000e+01  8.440000e+02              0.000000e+00   \n",
       "75%    8.500000e+01  1.189000e+03              0.000000e+00   \n",
       "max    9.700000e+01  1.454000e+03              1.000000e+00   \n",
       "\n",
       "       tax_exempt_status       geom_id             x             y  \\\n",
       "count       1.956207e+06  1.956207e+06  1.956207e+06  1.956207e+06   \n",
       "mean        1.256104e-02  8.795114e+12 -1.221763e+02  3.777351e+01   \n",
       "std         1.113700e-01  5.076215e+12  2.991972e-01  3.621875e-01   \n",
       "min         0.000000e+00  1.706688e+07 -1.235266e+02  3.689751e+01   \n",
       "25%         0.000000e+00  4.405538e+12 -1.224059e+02  3.748103e+01   \n",
       "50%         0.000000e+00  8.793873e+12 -1.221419e+02  3.775390e+01   \n",
       "75%         0.000000e+00  1.318756e+13 -1.219512e+02  3.798583e+01   \n",
       "max         1.000000e+00  1.759217e+13 -1.212109e+02  3.886017e+01   \n",
       "\n",
       "         shape_area      block_id       node_id  \n",
       "count  1.956207e+06  1.956207e+06  1.956207e+06  \n",
       "mean   9.284664e+03  6.054294e+13  3.821563e+08  \n",
       "std    1.461793e+05  3.807600e+11  9.490913e+08  \n",
       "min    1.832050e-03  6.001400e+13  3.028780e+05  \n",
       "25%    4.386967e+02  6.013321e+13  5.615974e+07  \n",
       "50%    6.028407e+02  6.075033e+13  6.535137e+07  \n",
       "75%    9.285328e+02  6.085508e+13  6.562580e+07  \n",
       "max    9.450224e+07  6.113012e+13  5.458527e+09  "
      ]
     },
     "execution_count": 13,
     "metadata": {},
     "output_type": "execute_result"
    }
   ],
   "source": [
    "orca.get_table('parcels').to_frame().describe()"
   ]
  },
  {
   "cell_type": "code",
   "execution_count": 14,
   "metadata": {
    "collapsed": false
   },
   "outputs": [
    {
     "data": {
      "text/html": [
       "<div>\n",
       "<style scoped>\n",
       "    .dataframe tbody tr th:only-of-type {\n",
       "        vertical-align: middle;\n",
       "    }\n",
       "\n",
       "    .dataframe tbody tr th {\n",
       "        vertical-align: top;\n",
       "    }\n",
       "\n",
       "    .dataframe thead th {\n",
       "        text-align: right;\n",
       "    }\n",
       "</style>\n",
       "<table border=\"1\" class=\"dataframe\">\n",
       "  <thead>\n",
       "    <tr style=\"text-align: right;\">\n",
       "      <th></th>\n",
       "      <th>building_id</th>\n",
       "      <th>parcel_id</th>\n",
       "      <th>development_type_id</th>\n",
       "      <th>improvement_value</th>\n",
       "      <th>residential_units</th>\n",
       "      <th>residential_sqft</th>\n",
       "      <th>sqft_per_unit</th>\n",
       "      <th>non_residential_sqft</th>\n",
       "      <th>building_sqft</th>\n",
       "      <th>nonres_rent_per_sqft</th>\n",
       "      <th>res_price_per_sqft</th>\n",
       "      <th>stories</th>\n",
       "      <th>year_built</th>\n",
       "      <th>redfin_sale_price</th>\n",
       "      <th>redfin_sale_year</th>\n",
       "      <th>building_type_id</th>\n",
       "    </tr>\n",
       "  </thead>\n",
       "  <tbody>\n",
       "    <tr>\n",
       "      <th>count</th>\n",
       "      <td>1.824229e+06</td>\n",
       "      <td>1.824229e+06</td>\n",
       "      <td>1.824229e+06</td>\n",
       "      <td>1.824229e+06</td>\n",
       "      <td>1.824229e+06</td>\n",
       "      <td>1.824229e+06</td>\n",
       "      <td>1.824229e+06</td>\n",
       "      <td>1.824229e+06</td>\n",
       "      <td>1.824229e+06</td>\n",
       "      <td>1.824229e+06</td>\n",
       "      <td>1.824229e+06</td>\n",
       "      <td>1.824229e+06</td>\n",
       "      <td>1.824229e+06</td>\n",
       "      <td>1.081100e+06</td>\n",
       "      <td>1.081100e+06</td>\n",
       "      <td>1.824229e+06</td>\n",
       "    </tr>\n",
       "    <tr>\n",
       "      <th>mean</th>\n",
       "      <td>9.223790e+05</td>\n",
       "      <td>1.012861e+06</td>\n",
       "      <td>1.835162e+00</td>\n",
       "      <td>3.186878e+05</td>\n",
       "      <td>1.534000e+00</td>\n",
       "      <td>2.657113e+03</td>\n",
       "      <td>1.669294e+03</td>\n",
       "      <td>1.280864e+03</td>\n",
       "      <td>3.784462e+03</td>\n",
       "      <td>9.218572e-01</td>\n",
       "      <td>2.927191e+02</td>\n",
       "      <td>1.214429e+00</td>\n",
       "      <td>1.965524e+03</td>\n",
       "      <td>5.287307e+05</td>\n",
       "      <td>2.002828e+03</td>\n",
       "      <td>1.710299e+00</td>\n",
       "    </tr>\n",
       "    <tr>\n",
       "      <th>std</th>\n",
       "      <td>5.317352e+05</td>\n",
       "      <td>5.938065e+05</td>\n",
       "      <td>3.441080e+00</td>\n",
       "      <td>3.571671e+06</td>\n",
       "      <td>6.137263e+00</td>\n",
       "      <td>3.012408e+04</td>\n",
       "      <td>1.063476e+03</td>\n",
       "      <td>2.392226e+04</td>\n",
       "      <td>3.494568e+04</td>\n",
       "      <td>4.053916e+00</td>\n",
       "      <td>2.647712e+02</td>\n",
       "      <td>5.567798e-01</td>\n",
       "      <td>2.501754e+01</td>\n",
       "      <td>7.188123e+05</td>\n",
       "      <td>7.143867e+00</td>\n",
       "      <td>2.396463e+00</td>\n",
       "    </tr>\n",
       "    <tr>\n",
       "      <th>min</th>\n",
       "      <td>1.000000e+00</td>\n",
       "      <td>2.600000e+01</td>\n",
       "      <td>-1.000000e+00</td>\n",
       "      <td>0.000000e+00</td>\n",
       "      <td>0.000000e+00</td>\n",
       "      <td>0.000000e+00</td>\n",
       "      <td>0.000000e+00</td>\n",
       "      <td>0.000000e+00</td>\n",
       "      <td>0.000000e+00</td>\n",
       "      <td>0.000000e+00</td>\n",
       "      <td>0.000000e+00</td>\n",
       "      <td>1.000000e+00</td>\n",
       "      <td>1.790000e+03</td>\n",
       "      <td>0.000000e+00</td>\n",
       "      <td>1.962000e+03</td>\n",
       "      <td>0.000000e+00</td>\n",
       "    </tr>\n",
       "    <tr>\n",
       "      <th>25%</th>\n",
       "      <td>4.623410e+05</td>\n",
       "      <td>4.958500e+05</td>\n",
       "      <td>1.000000e+00</td>\n",
       "      <td>8.267503e+04</td>\n",
       "      <td>1.000000e+00</td>\n",
       "      <td>1.230000e+03</td>\n",
       "      <td>1.176000e+03</td>\n",
       "      <td>0.000000e+00</td>\n",
       "      <td>1.320000e+03</td>\n",
       "      <td>0.000000e+00</td>\n",
       "      <td>1.518671e+02</td>\n",
       "      <td>1.000000e+00</td>\n",
       "      <td>1.952000e+03</td>\n",
       "      <td>2.390000e+05</td>\n",
       "      <td>1.998000e+03</td>\n",
       "      <td>1.000000e+00</td>\n",
       "    </tr>\n",
       "    <tr>\n",
       "      <th>50%</th>\n",
       "      <td>9.224730e+05</td>\n",
       "      <td>1.002691e+06</td>\n",
       "      <td>1.000000e+00</td>\n",
       "      <td>1.675535e+05</td>\n",
       "      <td>1.000000e+00</td>\n",
       "      <td>1.754000e+03</td>\n",
       "      <td>1.564000e+03</td>\n",
       "      <td>0.000000e+00</td>\n",
       "      <td>1.858000e+03</td>\n",
       "      <td>0.000000e+00</td>\n",
       "      <td>2.544594e+02</td>\n",
       "      <td>1.000000e+00</td>\n",
       "      <td>1.966000e+03</td>\n",
       "      <td>4.000000e+05</td>\n",
       "      <td>2.004000e+03</td>\n",
       "      <td>1.000000e+00</td>\n",
       "    </tr>\n",
       "    <tr>\n",
       "      <th>75%</th>\n",
       "      <td>1.382840e+06</td>\n",
       "      <td>1.532117e+06</td>\n",
       "      <td>1.000000e+00</td>\n",
       "      <td>2.853423e+05</td>\n",
       "      <td>1.000000e+00</td>\n",
       "      <td>2.400000e+03</td>\n",
       "      <td>2.029424e+03</td>\n",
       "      <td>0.000000e+00</td>\n",
       "      <td>2.524000e+03</td>\n",
       "      <td>0.000000e+00</td>\n",
       "      <td>3.699121e+02</td>\n",
       "      <td>1.000000e+00</td>\n",
       "      <td>1.983000e+03</td>\n",
       "      <td>6.500000e+05</td>\n",
       "      <td>2.009000e+03</td>\n",
       "      <td>1.000000e+00</td>\n",
       "    </tr>\n",
       "    <tr>\n",
       "      <th>max</th>\n",
       "      <td>1.843350e+06</td>\n",
       "      <td>2.054501e+06</td>\n",
       "      <td>2.400000e+01</td>\n",
       "      <td>3.355514e+09</td>\n",
       "      <td>1.912000e+03</td>\n",
       "      <td>1.458000e+07</td>\n",
       "      <td>3.000000e+04</td>\n",
       "      <td>1.657310e+07</td>\n",
       "      <td>1.458000e+07</td>\n",
       "      <td>1.289625e+02</td>\n",
       "      <td>5.016109e+04</td>\n",
       "      <td>5.900000e+01</td>\n",
       "      <td>2.015000e+03</td>\n",
       "      <td>1.800000e+08</td>\n",
       "      <td>2.014000e+03</td>\n",
       "      <td>1.600000e+01</td>\n",
       "    </tr>\n",
       "  </tbody>\n",
       "</table>\n",
       "</div>"
      ],
      "text/plain": [
       "        building_id     parcel_id  development_type_id  improvement_value  \\\n",
       "count  1.824229e+06  1.824229e+06         1.824229e+06       1.824229e+06   \n",
       "mean   9.223790e+05  1.012861e+06         1.835162e+00       3.186878e+05   \n",
       "std    5.317352e+05  5.938065e+05         3.441080e+00       3.571671e+06   \n",
       "min    1.000000e+00  2.600000e+01        -1.000000e+00       0.000000e+00   \n",
       "25%    4.623410e+05  4.958500e+05         1.000000e+00       8.267503e+04   \n",
       "50%    9.224730e+05  1.002691e+06         1.000000e+00       1.675535e+05   \n",
       "75%    1.382840e+06  1.532117e+06         1.000000e+00       2.853423e+05   \n",
       "max    1.843350e+06  2.054501e+06         2.400000e+01       3.355514e+09   \n",
       "\n",
       "       residential_units  residential_sqft  sqft_per_unit  \\\n",
       "count       1.824229e+06      1.824229e+06   1.824229e+06   \n",
       "mean        1.534000e+00      2.657113e+03   1.669294e+03   \n",
       "std         6.137263e+00      3.012408e+04   1.063476e+03   \n",
       "min         0.000000e+00      0.000000e+00   0.000000e+00   \n",
       "25%         1.000000e+00      1.230000e+03   1.176000e+03   \n",
       "50%         1.000000e+00      1.754000e+03   1.564000e+03   \n",
       "75%         1.000000e+00      2.400000e+03   2.029424e+03   \n",
       "max         1.912000e+03      1.458000e+07   3.000000e+04   \n",
       "\n",
       "       non_residential_sqft  building_sqft  nonres_rent_per_sqft  \\\n",
       "count          1.824229e+06   1.824229e+06          1.824229e+06   \n",
       "mean           1.280864e+03   3.784462e+03          9.218572e-01   \n",
       "std            2.392226e+04   3.494568e+04          4.053916e+00   \n",
       "min            0.000000e+00   0.000000e+00          0.000000e+00   \n",
       "25%            0.000000e+00   1.320000e+03          0.000000e+00   \n",
       "50%            0.000000e+00   1.858000e+03          0.000000e+00   \n",
       "75%            0.000000e+00   2.524000e+03          0.000000e+00   \n",
       "max            1.657310e+07   1.458000e+07          1.289625e+02   \n",
       "\n",
       "       res_price_per_sqft       stories    year_built  redfin_sale_price  \\\n",
       "count        1.824229e+06  1.824229e+06  1.824229e+06       1.081100e+06   \n",
       "mean         2.927191e+02  1.214429e+00  1.965524e+03       5.287307e+05   \n",
       "std          2.647712e+02  5.567798e-01  2.501754e+01       7.188123e+05   \n",
       "min          0.000000e+00  1.000000e+00  1.790000e+03       0.000000e+00   \n",
       "25%          1.518671e+02  1.000000e+00  1.952000e+03       2.390000e+05   \n",
       "50%          2.544594e+02  1.000000e+00  1.966000e+03       4.000000e+05   \n",
       "75%          3.699121e+02  1.000000e+00  1.983000e+03       6.500000e+05   \n",
       "max          5.016109e+04  5.900000e+01  2.015000e+03       1.800000e+08   \n",
       "\n",
       "       redfin_sale_year  building_type_id  \n",
       "count      1.081100e+06      1.824229e+06  \n",
       "mean       2.002828e+03      1.710299e+00  \n",
       "std        7.143867e+00      2.396463e+00  \n",
       "min        1.962000e+03      0.000000e+00  \n",
       "25%        1.998000e+03      1.000000e+00  \n",
       "50%        2.004000e+03      1.000000e+00  \n",
       "75%        2.009000e+03      1.000000e+00  \n",
       "max        2.014000e+03      1.600000e+01  "
      ]
     },
     "execution_count": 14,
     "metadata": {},
     "output_type": "execute_result"
    }
   ],
   "source": [
    "orca.get_table('buildings').to_frame().describe()"
   ]
  },
  {
   "cell_type": "markdown",
   "metadata": {},
   "source": [
    "## Generate accessibility measures for the price model\n",
    "\n",
    "The network accessibility metrics are not stored on disk; for now we'll generate them using legacy code."
   ]
  },
  {
   "cell_type": "code",
   "execution_count": 18,
   "metadata": {
    "collapsed": false
   },
   "outputs": [
    {
     "name": "stdout",
     "output_type": "stream",
     "text": [
      "Running step 'initialize_network'\n",
      "Time to execute step 'initialize_network': 5.81 s\n",
      "Total time to execute iteration 1 with iteration value None: 5.81 s\n"
     ]
    }
   ],
   "source": [
    "orca.run(['initialize_network'])"
   ]
  },
  {
   "cell_type": "code",
   "execution_count": 19,
   "metadata": {
    "collapsed": false,
    "scrolled": true
   },
   "outputs": [
    {
     "name": "stdout",
     "output_type": "stream",
     "text": [
      "Running step 'network_aggregations'\n",
      "Computing accessibility variables\n",
      "Computing residential_units_500\n",
      "Removed 76038 rows because they contain missing values\n",
      "Computing residential_units_1500\n",
      "Removed 76038 rows because they contain missing values\n",
      "Computing population_1500\n",
      "Removed 305829 rows because they contain missing values\n",
      "Computing poor_1500\n",
      "Removed 79602 rows because they contain missing values\n",
      "Computing renters_1500\n",
      "Removed 145852 rows because they contain missing values\n",
      "Computing med_income_1500\n",
      "Removed 305829 rows because they contain missing values\n",
      "Computing job_1500\n",
      "Removed 111044 rows because they contain missing values\n",
      "Computing job_25km\n",
      "Removed 111044 rows because they contain missing values\n",
      "Computing ave_hhsize\n",
      "Removed 305829 rows because they contain missing values\n",
      "Computing med_rent_sqft_1500\n",
      "Computing med_rent_sqft_7000\n",
      "       residential_units_500  residential_units_1500  population_1500  \\\n",
      "count          415716.000000           415716.000000    415716.000000   \n",
      "mean                0.933772                0.933772        15.043681   \n",
      "std                 1.160394                1.160394       938.723022   \n",
      "min                 0.000000                0.000000         0.000000   \n",
      "25%                 0.000000                0.000000         0.000000   \n",
      "50%                 0.000000                0.000000         0.000000   \n",
      "75%                 1.791759                1.791759        12.000000   \n",
      "max                12.288280               12.288280    513248.000000   \n",
      "\n",
      "           poor_1500   renters_1500  med_income_1500       job_1500  \\\n",
      "count  415716.000000  415716.000000     4.157160e+05  415716.000000   \n",
      "mean        0.517259       0.505927     5.496476e+04       2.171956   \n",
      "std         0.900815       0.818097     7.997580e+04       5.515366   \n",
      "min         0.000000       0.000000    -1.150000e+04       0.000000   \n",
      "25%         0.000000       0.000000    -1.000000e+00       0.000000   \n",
      "50%         0.000000       0.000000    -1.000000e+00       0.000000   \n",
      "75%         0.693147       0.693147     9.538000e+04       0.000000   \n",
      "max        11.459641      11.324847     1.397000e+06      26.301216   \n",
      "\n",
      "            job_25km     ave_hhsize  med_rent_sqft_1500  med_rent_sqft_7000  \n",
      "count  415716.000000  415716.000000       415716.000000       415716.000000  \n",
      "mean        2.171956       0.617620           -0.809431           -0.809431  \n",
      "std         5.515366       0.665882           29.531122           29.531122  \n",
      "min         0.000000       0.000000           -1.000000           -1.000000  \n",
      "25%         0.000000       0.000000           -1.000000           -1.000000  \n",
      "50%         0.000000       0.000000           -1.000000           -1.000000  \n",
      "75%         0.000000       1.280934           -1.000000           -1.000000  \n",
      "max        26.301216       2.995732        17960.582031        17960.582031  \n",
      "Time to execute step 'network_aggregations': 21.67 s\n",
      "Total time to execute iteration 1 with iteration value None: 21.67 s\n"
     ]
    }
   ],
   "source": [
    "orca.run(['network_aggregations'])"
   ]
  },
  {
   "cell_type": "code",
   "execution_count": 20,
   "metadata": {
    "collapsed": false
   },
   "outputs": [
    {
     "data": {
      "text/plain": [
       "['parcels',\n",
       " 'buildings',\n",
       " 'rentals',\n",
       " 'units',\n",
       " 'households',\n",
       " 'persons',\n",
       " 'jobs',\n",
       " 'nodes']"
      ]
     },
     "execution_count": 20,
     "metadata": {},
     "output_type": "execute_result"
    }
   ],
   "source": [
    "orca.list_tables()"
   ]
  },
  {
   "cell_type": "code",
   "execution_count": 21,
   "metadata": {
    "collapsed": false
   },
   "outputs": [
    {
     "name": "stdout",
     "output_type": "stream",
     "text": [
      "['residential_units_500', 'residential_units_1500', 'population_1500', 'poor_1500', 'renters_1500', 'med_income_1500', 'job_1500', 'job_25km', 'ave_hhsize', 'med_rent_sqft_1500', 'med_rent_sqft_7000']\n"
     ]
    }
   ],
   "source": [
    "print(orca.get_table('nodes').to_frame().columns.tolist())"
   ]
  },
  {
   "cell_type": "code",
   "execution_count": null,
   "metadata": {
    "collapsed": true
   },
   "outputs": [],
   "source": []
  },
  {
   "cell_type": "markdown",
   "metadata": {},
   "source": [
    "# Estimate a price model\n",
    "\n",
    "The basic idea of the parcel template is that we create model steps by _passing arguments to classes_ rather than by writing Python functions and giving them Orca decorators, as we would for a fully custom model.\n",
    "\n",
    "Much of the functionality for this is already built into UrbanSim and Orca, we'll just need to extend things here and there.\n",
    "\n",
    "This demo uses a new RegressionStep() class that provides a full model development workflow: estimating a model, registering it with Orca, saving it for future use."
   ]
  },
  {
   "cell_type": "markdown",
   "metadata": {},
   "source": [
    "### Specify parameters and pass them to a model object"
   ]
  },
  {
   "cell_type": "code",
   "execution_count": 22,
   "metadata": {
    "collapsed": true
   },
   "outputs": [],
   "source": [
    "# Specify the model expression and names of tables to draw data from (the first table\n",
    "# is the primary one; additional tables must be able to merge onto it unambiguously)\n",
    "\n",
    "tables = ['buildings', 'parcels']\n",
    "\n",
    "model_expression = (\n",
    "    \"np.log1p(res_price_per_sqft) ~ year_built \"\n",
    ")\n",
    "\n",
    "# Give the prospective model step some tags, and a name if desired\n",
    "\n",
    "name = None\n",
    "tags = ['residential-price-hedonic', 'paul', '20180708']\n",
    "\n",
    "# For prediction, specify destination column (if different from the dependent variable\n",
    "# used for estimation), and how to reverse the left-hand-side transformation\n",
    "\n",
    "out_column = 'fitted_price'\n",
    "out_transform = np.exp"
   ]
  },
  {
   "cell_type": "code",
   "execution_count": 23,
   "metadata": {
    "collapsed": true
   },
   "outputs": [],
   "source": [
    "# Generate a new column to store the fitted prices\n",
    "\n",
    "zeros = np.repeat(0.0, len(orca.get_table('buildings')))\n",
    "orca.get_table('buildings').update_col('fitted_price', zeros)"
   ]
  },
  {
   "cell_type": "code",
   "execution_count": 24,
   "metadata": {
    "collapsed": true
   },
   "outputs": [],
   "source": [
    "# Create the model object\n",
    "\n",
    "model = OLSRegressionStep(model_expression, tables, name=name, tags=tags,\n",
    "                       out_column=out_column, out_transform=out_transform)"
   ]
  },
  {
   "cell_type": "code",
   "execution_count": null,
   "metadata": {
    "collapsed": true
   },
   "outputs": [],
   "source": []
  },
  {
   "cell_type": "markdown",
   "metadata": {},
   "source": [
    "### Fit the model"
   ]
  },
  {
   "cell_type": "code",
   "execution_count": 27,
   "metadata": {
    "collapsed": false
   },
   "outputs": [
    {
     "name": "stdout",
     "output_type": "stream",
     "text": [
      "                                 OLS Regression Results                                 \n",
      "========================================================================================\n",
      "Dep. Variable:     np.log1p(res_price_per_sqft)   R-squared:                       0.008\n",
      "Model:                                      OLS   Adj. R-squared:                  0.008\n",
      "Method:                           Least Squares   F-statistic:                 1.429e+04\n",
      "Date:                          Sun, 08 Jul 2018   Prob (F-statistic):               0.00\n",
      "Time:                                  14:26:20   Log-Likelihood:            -3.2330e+06\n",
      "No. Observations:                       1748191   AIC:                         6.466e+06\n",
      "Df Residuals:                           1748189   BIC:                         6.466e+06\n",
      "Df Model:                                     1                                         \n",
      "Covariance Type:                      nonrobust                                         \n",
      "==============================================================================\n",
      "                 coef    std err          t      P>|t|      [0.025      0.975]\n",
      "------------------------------------------------------------------------------\n",
      "Intercept     16.0655      0.091    176.295      0.000      15.887      16.244\n",
      "year_built    -0.0055   4.64e-05   -119.543      0.000      -0.006      -0.005\n",
      "==============================================================================\n",
      "Omnibus:                   891088.559   Durbin-Watson:                   1.379\n",
      "Prob(Omnibus):                  0.000   Jarque-Bera (JB):          4616067.451\n",
      "Skew:                          -2.548   Prob(JB):                         0.00\n",
      "Kurtosis:                       9.116   Cond. No.                     1.54e+05\n",
      "==============================================================================\n",
      "\n",
      "Warnings:\n",
      "[1] Standard Errors assume that the covariance matrix of the errors is correctly specified.\n",
      "[2] The condition number is large, 1.54e+05. This might indicate that there are\n",
      "strong multicollinearity or other numerical problems.\n"
     ]
    }
   ],
   "source": [
    "m = OLSRegressionStep()\n",
    "m.tables = ['buildings', 'parcels']\n",
    "m.model_expression = 'np.log1p(res_price_per_sqft) ~ year_built'\n",
    "m.fit()"
   ]
  },
  {
   "cell_type": "code",
   "execution_count": 28,
   "metadata": {
    "collapsed": false
   },
   "outputs": [
    {
     "name": "stdout",
     "output_type": "stream",
     "text": [
      "                                 OLS Regression Results                                 \n",
      "========================================================================================\n",
      "Dep. Variable:     np.log1p(res_price_per_sqft)   R-squared:                       0.008\n",
      "Model:                                      OLS   Adj. R-squared:                  0.008\n",
      "Method:                           Least Squares   F-statistic:                 1.429e+04\n",
      "Date:                          Sun, 08 Jul 2018   Prob (F-statistic):               0.00\n",
      "Time:                                  14:33:47   Log-Likelihood:            -3.2330e+06\n",
      "No. Observations:                       1748191   AIC:                         6.466e+06\n",
      "Df Residuals:                           1748189   BIC:                         6.466e+06\n",
      "Df Model:                                     1                                         \n",
      "Covariance Type:                      nonrobust                                         \n",
      "==============================================================================\n",
      "                 coef    std err          t      P>|t|      [0.025      0.975]\n",
      "------------------------------------------------------------------------------\n",
      "Intercept     16.0655      0.091    176.295      0.000      15.887      16.244\n",
      "year_built    -0.0055   4.64e-05   -119.543      0.000      -0.006      -0.005\n",
      "==============================================================================\n",
      "Omnibus:                   891088.559   Durbin-Watson:                   1.379\n",
      "Prob(Omnibus):                  0.000   Jarque-Bera (JB):          4616067.451\n",
      "Skew:                          -2.548   Prob(JB):                         0.00\n",
      "Kurtosis:                       9.116   Cond. No.                     1.54e+05\n",
      "==============================================================================\n",
      "\n",
      "Warnings:\n",
      "[1] Standard Errors assume that the covariance matrix of the errors is correctly specified.\n",
      "[2] The condition number is large, 1.54e+05. This might indicate that there are\n",
      "strong multicollinearity or other numerical problems.\n"
     ]
    }
   ],
   "source": [
    "m = OLSRegressionStep(tables=['buildings','parcels'], \n",
    "                      model_expression='np.log1p(res_price_per_sqft) ~ year_built')\n",
    "m.fit()"
   ]
  },
  {
   "cell_type": "code",
   "execution_count": 25,
   "metadata": {
    "collapsed": false
   },
   "outputs": [
    {
     "ename": "UnboundLocalError",
     "evalue": "local variable 'expr_cols' referenced before assignment",
     "output_type": "error",
     "traceback": [
      "\u001b[0;31m---------------------------------------------------------------------------\u001b[0m",
      "\u001b[0;31mUnboundLocalError\u001b[0m                         Traceback (most recent call last)",
      "\u001b[0;32m<ipython-input-25-1938638aa215>\u001b[0m in \u001b[0;36m<module>\u001b[0;34m()\u001b[0m\n\u001b[0;32m----> 1\u001b[0;31m \u001b[0mmodel\u001b[0m\u001b[0;34m.\u001b[0m\u001b[0mfit\u001b[0m\u001b[0;34m(\u001b[0m\u001b[0;34m)\u001b[0m\u001b[0;34m\u001b[0m\u001b[0m\n\u001b[0m",
      "\u001b[0;32m/Users/maurer/Dropbox/Git-imac/udst/urbansim_templates/urbansim_templates/models/regression.py\u001b[0m in \u001b[0;36mfit\u001b[0;34m(self)\u001b[0m\n\u001b[1;32m    165\u001b[0m                 ytransform=self.out_transform, name=self.name)\n\u001b[1;32m    166\u001b[0m \u001b[0;34m\u001b[0m\u001b[0m\n\u001b[0;32m--> 167\u001b[0;31m         \u001b[0mresults\u001b[0m \u001b[0;34m=\u001b[0m \u001b[0mself\u001b[0m\u001b[0;34m.\u001b[0m\u001b[0mmodel\u001b[0m\u001b[0;34m.\u001b[0m\u001b[0mfit\u001b[0m\u001b[0;34m(\u001b[0m\u001b[0mself\u001b[0m\u001b[0;34m.\u001b[0m\u001b[0m_get_data\u001b[0m\u001b[0;34m(\u001b[0m\u001b[0;34m)\u001b[0m\u001b[0;34m)\u001b[0m\u001b[0;34m\u001b[0m\u001b[0m\n\u001b[0m\u001b[1;32m    168\u001b[0m \u001b[0;34m\u001b[0m\u001b[0m\n\u001b[1;32m    169\u001b[0m         \u001b[0mself\u001b[0m\u001b[0;34m.\u001b[0m\u001b[0mname\u001b[0m \u001b[0;34m=\u001b[0m \u001b[0mself\u001b[0m\u001b[0;34m.\u001b[0m\u001b[0m_generate_name\u001b[0m\u001b[0;34m(\u001b[0m\u001b[0;34m)\u001b[0m\u001b[0;34m\u001b[0m\u001b[0m\n",
      "\u001b[0;32m/Users/maurer/Dropbox/Git-imac/udst/urbansim_templates/urbansim_templates/models/shared.py\u001b[0m in \u001b[0;36m_get_data\u001b[0;34m(self, task)\u001b[0m\n\u001b[1;32m    235\u001b[0m         \u001b[0;32mif\u001b[0m \u001b[0;34m(\u001b[0m\u001b[0mtask\u001b[0m \u001b[0;34m==\u001b[0m \u001b[0;34m'fit'\u001b[0m\u001b[0;34m)\u001b[0m\u001b[0;34m:\u001b[0m\u001b[0;34m\u001b[0m\u001b[0m\n\u001b[1;32m    236\u001b[0m             \u001b[0mtables\u001b[0m \u001b[0;34m=\u001b[0m \u001b[0mself\u001b[0m\u001b[0;34m.\u001b[0m\u001b[0mtables\u001b[0m\u001b[0;34m\u001b[0m\u001b[0m\n\u001b[0;32m--> 237\u001b[0;31m             \u001b[0mcolumns\u001b[0m \u001b[0;34m=\u001b[0m \u001b[0mexpr_cols\u001b[0m \u001b[0;34m+\u001b[0m \u001b[0mutil\u001b[0m\u001b[0;34m.\u001b[0m\u001b[0mcolumns_in_filters\u001b[0m\u001b[0;34m(\u001b[0m\u001b[0mself\u001b[0m\u001b[0;34m.\u001b[0m\u001b[0mfilters\u001b[0m\u001b[0;34m)\u001b[0m\u001b[0;34m\u001b[0m\u001b[0m\n\u001b[0m\u001b[1;32m    238\u001b[0m             \u001b[0mfilters\u001b[0m \u001b[0;34m=\u001b[0m \u001b[0mself\u001b[0m\u001b[0;34m.\u001b[0m\u001b[0mfilters\u001b[0m\u001b[0;34m\u001b[0m\u001b[0m\n\u001b[1;32m    239\u001b[0m \u001b[0;34m\u001b[0m\u001b[0m\n",
      "\u001b[0;31mUnboundLocalError\u001b[0m: local variable 'expr_cols' referenced before assignment"
     ]
    }
   ],
   "source": [
    "model.fit()"
   ]
  },
  {
   "cell_type": "code",
   "execution_count": null,
   "metadata": {
    "collapsed": true
   },
   "outputs": [],
   "source": []
  },
  {
   "cell_type": "markdown",
   "metadata": {},
   "source": [
    "### If we like it, register it as an Orca step"
   ]
  },
  {
   "cell_type": "code",
   "execution_count": null,
   "metadata": {
    "collapsed": true
   },
   "outputs": [],
   "source": [
    "model.register()"
   ]
  },
  {
   "cell_type": "code",
   "execution_count": null,
   "metadata": {
    "collapsed": true
   },
   "outputs": [],
   "source": [
    "orca.list_steps()"
   ]
  },
  {
   "cell_type": "code",
   "execution_count": null,
   "metadata": {
    "collapsed": true
   },
   "outputs": [],
   "source": []
  },
  {
   "cell_type": "markdown",
   "metadata": {},
   "source": [
    "### Run the Orca step"
   ]
  },
  {
   "cell_type": "code",
   "execution_count": null,
   "metadata": {
    "collapsed": true
   },
   "outputs": [],
   "source": [
    "orca.run(['RegressionStep-20180214-210159'])"
   ]
  },
  {
   "cell_type": "code",
   "execution_count": null,
   "metadata": {
    "collapsed": true
   },
   "outputs": [],
   "source": []
  },
  {
   "cell_type": "markdown",
   "metadata": {},
   "source": [
    "### Check the fitted values"
   ]
  },
  {
   "cell_type": "code",
   "execution_count": null,
   "metadata": {
    "collapsed": true
   },
   "outputs": [],
   "source": [
    "df = orca.get_table('buildings').to_frame(['res_price_per_sqft', 'fitted_price'])\n",
    "df.loc[df.fitted_price > 0].describe()"
   ]
  },
  {
   "cell_type": "code",
   "execution_count": null,
   "metadata": {
    "collapsed": true
   },
   "outputs": [],
   "source": []
  },
  {
   "cell_type": "markdown",
   "metadata": {},
   "source": [
    "### BONUS\n",
    "\n",
    "Running \"model.register()\" also registered the step with the new ModelManager extention, which saves it to disk so that it can be automatically re-loaded in the future.\n",
    "\n",
    "The \"test\" model steps here were estimated earlier and loaded from disk. They're fully functional: we can run them in Orca, inspect the estimation results, etc."
   ]
  },
  {
   "cell_type": "code",
   "execution_count": null,
   "metadata": {
    "collapsed": true
   },
   "outputs": [],
   "source": [
    "mm.list_steps()"
   ]
  },
  {
   "cell_type": "code",
   "execution_count": null,
   "metadata": {
    "collapsed": true
   },
   "outputs": [],
   "source": [
    "rs = mm.get_step('test-1')\n",
    "type(rs)"
   ]
  },
  {
   "cell_type": "code",
   "execution_count": null,
   "metadata": {
    "collapsed": true
   },
   "outputs": [],
   "source": [
    "rs.model_expression"
   ]
  },
  {
   "cell_type": "code",
   "execution_count": null,
   "metadata": {
    "collapsed": true
   },
   "outputs": [],
   "source": [
    "rs.model.report_fit()"
   ]
  },
  {
   "cell_type": "code",
   "execution_count": null,
   "metadata": {
    "collapsed": true
   },
   "outputs": [],
   "source": []
  },
  {
   "cell_type": "code",
   "execution_count": null,
   "metadata": {
    "collapsed": true
   },
   "outputs": [],
   "source": []
  },
  {
   "cell_type": "code",
   "execution_count": null,
   "metadata": {
    "collapsed": true
   },
   "outputs": [],
   "source": []
  },
  {
   "cell_type": "code",
   "execution_count": null,
   "metadata": {
    "collapsed": true
   },
   "outputs": [],
   "source": []
  },
  {
   "cell_type": "code",
   "execution_count": null,
   "metadata": {
    "collapsed": true
   },
   "outputs": [],
   "source": []
  },
  {
   "cell_type": "code",
   "execution_count": null,
   "metadata": {
    "collapsed": true
   },
   "outputs": [],
   "source": []
  }
 ],
 "metadata": {
  "kernelspec": {
   "display_name": "Python 3",
   "language": "python",
   "name": "python3"
  },
  "language_info": {
   "codemirror_mode": {
    "name": "ipython",
    "version": 3
   },
   "file_extension": ".py",
   "mimetype": "text/x-python",
   "name": "python",
   "nbconvert_exporter": "python",
   "pygments_lexer": "ipython3",
   "version": "3.6.4"
  }
 },
 "nbformat": 4,
 "nbformat_minor": 2
}
