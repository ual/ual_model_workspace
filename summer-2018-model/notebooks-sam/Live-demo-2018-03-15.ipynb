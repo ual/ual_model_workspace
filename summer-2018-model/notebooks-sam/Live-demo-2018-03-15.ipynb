{
 "cells": [
  {
   "cell_type": "markdown",
   "metadata": {},
   "source": [
    "# Live demo from 3/15/2018\n",
    "\n",
    "Sam Maurer, March 2018 | Python 3.6\n",
    "\n",
    "Updated June 2018 to confirm everything still runs\n",
    "\n",
    "This notebook demonstrates working with Orca, UrbanSim Templates, and ModelManager"
   ]
  },
  {
   "cell_type": "code",
   "execution_count": 1,
   "metadata": {
    "collapsed": true
   },
   "outputs": [],
   "source": [
    "import os; os.chdir('../')"
   ]
  },
  {
   "cell_type": "code",
   "execution_count": 2,
   "metadata": {},
   "outputs": [
    {
     "name": "stderr",
     "output_type": "stream",
     "text": [
      "/Users/maurer/anaconda3/lib/python3.6/site-packages/statsmodels/compat/pandas.py:56: FutureWarning: The pandas.core.datetools module is deprecated and will be removed in a future version. Please use the pandas.tseries module instead.\n",
      "  from pandas.core import datetools\n"
     ]
    }
   ],
   "source": [
    "from urbansim_templates import modelmanager as mm\n",
    "from urbansim_templates.models import BinaryLogitStep, OLSRegressionStep\n",
    "import orca"
   ]
  },
  {
   "cell_type": "code",
   "execution_count": 3,
   "metadata": {
    "collapsed": true
   },
   "outputs": [],
   "source": [
    "# Load any script-based Orca registrations\n",
    "from scripts import datasources\n",
    "from scripts import models"
   ]
  },
  {
   "cell_type": "code",
   "execution_count": 4,
   "metadata": {},
   "outputs": [
    {
     "data": {
      "text/plain": [
       "['parcels', 'buildings', 'units', 'households', 'persons']"
      ]
     },
     "execution_count": 4,
     "metadata": {},
     "output_type": "execute_result"
    }
   ],
   "source": [
    "orca.list_tables()"
   ]
  },
  {
   "cell_type": "code",
   "execution_count": 5,
   "metadata": {},
   "outputs": [
    {
     "name": "stdout",
     "output_type": "stream",
     "text": [
      "CPU times: user 9.36 s, sys: 1.05 s, total: 10.4 s\n",
      "Wall time: 10.9 s\n"
     ]
    },
    {
     "data": {
      "text/plain": [
       "pandas.core.frame.DataFrame"
      ]
     },
     "execution_count": 5,
     "metadata": {},
     "output_type": "execute_result"
    }
   ],
   "source": [
    "%%time\n",
    "type(orca.get_table('households').to_frame())"
   ]
  },
  {
   "cell_type": "code",
   "execution_count": 6,
   "metadata": {},
   "outputs": [
    {
     "name": "stdout",
     "output_type": "stream",
     "text": [
      "PARCELS\n",
      "['development_type_id', 'land_value', 'acres', 'county_id', 'zone_id', 'proportion_undevelopable', 'tax_exempt_status', 'apn', 'parcel_id_local', 'geom_id', 'imputation_flag', 'x', 'y', 'shape_area', 'block_id', 'node_id']\n",
      "\n",
      "BUILDINGS\n",
      "['parcel_id', 'development_type_id', 'improvement_value', 'residential_units', 'residential_sqft', 'sqft_per_unit', 'non_residential_sqft', 'building_sqft', 'nonres_rent_per_sqft', 'res_price_per_sqft', 'stories', 'year_built', 'redfin_sale_price', 'redfin_sale_year', 'redfin_home_type', 'costar_property_type', 'costar_rent', 'building_type_id']\n",
      "\n",
      "UNITS\n",
      "['Unnamed: 0', 'building_id', 'num_units', 'tenure', 'unit_num', 'unit_residential_price', 'unit_residential_rent']\n",
      "\n",
      "HOUSEHOLDS\n",
      "['household_id', 'serialno', 'persons', 'building_type', 'cars', 'income', 'race_of_head', 'hispanic_head', 'age_of_head', 'workers', 'state', 'county', 'tract', 'block group', 'children', 'tenure', 'recent_mover', 'block_group_id', 'single_family', 'unit_id']\n",
      "\n",
      "PERSONS\n",
      "['Unnamed: 0', 'member_id', 'age', 'relate', 'edu', 'sex', 'hours', 'hispanic', 'earning', 'race_id', 'hispanic.1', 'household_id', 'student', 'work_at_home', 'worker']\n",
      "\n"
     ]
    }
   ],
   "source": [
    "for table_name in orca.list_tables():\n",
    "    print(table_name.upper())\n",
    "    print(orca.get_table(table_name).to_frame().columns.tolist())\n",
    "    print()"
   ]
  },
  {
   "cell_type": "code",
   "execution_count": null,
   "metadata": {
    "collapsed": true
   },
   "outputs": [],
   "source": []
  },
  {
   "cell_type": "markdown",
   "metadata": {},
   "source": [
    "### Turn 'tenure' into a 0/1 binary variable"
   ]
  },
  {
   "cell_type": "code",
   "execution_count": 7,
   "metadata": {
    "collapsed": true
   },
   "outputs": [],
   "source": [
    "h = orca.get_table('households').to_frame()"
   ]
  },
  {
   "cell_type": "code",
   "execution_count": 8,
   "metadata": {},
   "outputs": [
    {
     "data": {
      "text/plain": [
       "count    2.679684e+06\n",
       "mean     1.427137e+00\n",
       "std      4.946626e-01\n",
       "min      1.000000e+00\n",
       "25%      1.000000e+00\n",
       "50%      1.000000e+00\n",
       "75%      2.000000e+00\n",
       "max      2.000000e+00\n",
       "Name: tenure, dtype: float64"
      ]
     },
     "execution_count": 8,
     "metadata": {},
     "output_type": "execute_result"
    }
   ],
   "source": [
    "h.tenure.describe()"
   ]
  },
  {
   "cell_type": "code",
   "execution_count": 9,
   "metadata": {},
   "outputs": [
    {
     "data": {
      "text/plain": [
       "count    2.679684e+06\n",
       "mean     5.728631e-01\n",
       "std      4.946626e-01\n",
       "min      0.000000e+00\n",
       "25%      0.000000e+00\n",
       "50%      1.000000e+00\n",
       "75%      1.000000e+00\n",
       "max      1.000000e+00\n",
       "Name: tenure, dtype: float64"
      ]
     },
     "execution_count": 9,
     "metadata": {},
     "output_type": "execute_result"
    }
   ],
   "source": [
    "h.loc[h.tenure==2, 'tenure'] = 0\n",
    "h.tenure.describe()"
   ]
  },
  {
   "cell_type": "code",
   "execution_count": 10,
   "metadata": {},
   "outputs": [
    {
     "data": {
      "text/plain": [
       "count    2.679684e+06\n",
       "mean     5.728631e-01\n",
       "std      4.946626e-01\n",
       "min      0.000000e+00\n",
       "25%      0.000000e+00\n",
       "50%      1.000000e+00\n",
       "75%      1.000000e+00\n",
       "max      1.000000e+00\n",
       "Name: tenure, dtype: float64"
      ]
     },
     "execution_count": 10,
     "metadata": {},
     "output_type": "execute_result"
    }
   ],
   "source": [
    "# Update column\n",
    "orca.get_table('households').update_col_from_series('tenure', h.tenure)\n",
    "\n",
    "# Check that it worked\n",
    "orca.get_table('households').to_frame().tenure.describe()"
   ]
  },
  {
   "cell_type": "code",
   "execution_count": null,
   "metadata": {
    "collapsed": true
   },
   "outputs": [],
   "source": []
  },
  {
   "cell_type": "markdown",
   "metadata": {},
   "source": [
    "### Estimate a model"
   ]
  },
  {
   "cell_type": "code",
   "execution_count": 11,
   "metadata": {
    "collapsed": true
   },
   "outputs": [],
   "source": [
    "m = BinaryLogitStep()\n",
    "m.tables = (['households','units','buildings'])\n",
    "m.model_expression = 'tenure ~ income + persons + stories'\n",
    "m.filters = ['income < 500000']"
   ]
  },
  {
   "cell_type": "code",
   "execution_count": 12,
   "metadata": {},
   "outputs": [
    {
     "name": "stdout",
     "output_type": "stream",
     "text": [
      "Optimization terminated successfully.\n",
      "         Current function value: 0.589161\n",
      "         Iterations 6\n",
      "                           Logit Regression Results                           \n",
      "==============================================================================\n",
      "Dep. Variable:                 tenure   No. Observations:              2460070\n",
      "Model:                          Logit   Df Residuals:                  2460066\n",
      "Method:                           MLE   Df Model:                            3\n",
      "Date:                Mon, 18 Jun 2018   Pseudo R-squ.:                  0.1349\n",
      "Time:                        12:15:36   Log-Likelihood:            -1.4494e+06\n",
      "converged:                       True   LL-Null:                   -1.6754e+06\n",
      "                                        LLR p-value:                     0.000\n",
      "==============================================================================\n",
      "                 coef    std err          z      P>|z|      [0.025      0.975]\n",
      "------------------------------------------------------------------------------\n",
      "Intercept      0.1377      0.004     33.241      0.000       0.130       0.146\n",
      "income      1.046e-05   2.22e-08    470.707      0.000    1.04e-05    1.05e-05\n",
      "persons        0.0044      0.001      4.836      0.000       0.003       0.006\n",
      "stories       -0.5791      0.002   -294.541      0.000      -0.583      -0.575\n",
      "==============================================================================\n"
     ]
    }
   ],
   "source": [
    "m.fit()"
   ]
  },
  {
   "cell_type": "code",
   "execution_count": null,
   "metadata": {
    "collapsed": true
   },
   "outputs": [],
   "source": []
  },
  {
   "cell_type": "markdown",
   "metadata": {},
   "source": [
    "### Run the model without saving it"
   ]
  },
  {
   "cell_type": "code",
   "execution_count": 13,
   "metadata": {},
   "outputs": [
    {
     "data": {
      "text/plain": [
       "<orca.orca.DataFrameWrapper at 0x10fe39c88>"
      ]
     },
     "execution_count": 13,
     "metadata": {},
     "output_type": "execute_result"
    }
   ],
   "source": [
    "# Create a new column for predicted tenure\n",
    "df = orca.get_table('households').to_frame()\n",
    "df['predicted_tenure'] = -1\n",
    "orca.add_table('households', df)"
   ]
  },
  {
   "cell_type": "code",
   "execution_count": 14,
   "metadata": {
    "collapsed": true
   },
   "outputs": [],
   "source": [
    "m.out_column = 'predicted_tenure'"
   ]
  },
  {
   "cell_type": "code",
   "execution_count": 15,
   "metadata": {
    "collapsed": true
   },
   "outputs": [],
   "source": [
    "m.run()"
   ]
  },
  {
   "cell_type": "code",
   "execution_count": 16,
   "metadata": {},
   "outputs": [
    {
     "data": {
      "text/plain": [
       "count    2.679684e+06\n",
       "mean     4.706361e-01\n",
       "std      6.251186e-01\n",
       "min     -1.000000e+00\n",
       "25%      0.000000e+00\n",
       "50%      1.000000e+00\n",
       "75%      1.000000e+00\n",
       "max      1.000000e+00\n",
       "Name: predicted_tenure, dtype: float64"
      ]
     },
     "execution_count": 16,
     "metadata": {},
     "output_type": "execute_result"
    }
   ],
   "source": [
    "orca.get_table('households').to_frame().predicted_tenure.describe()"
   ]
  },
  {
   "cell_type": "code",
   "execution_count": null,
   "metadata": {
    "collapsed": true
   },
   "outputs": [],
   "source": []
  },
  {
   "cell_type": "markdown",
   "metadata": {},
   "source": [
    "### Save the model for future use"
   ]
  },
  {
   "cell_type": "code",
   "execution_count": 17,
   "metadata": {
    "collapsed": true
   },
   "outputs": [],
   "source": [
    "m.name = 'binary-tenure-model-test'\n",
    "m.tags = ['demo','sam']"
   ]
  },
  {
   "cell_type": "code",
   "execution_count": 18,
   "metadata": {
    "collapsed": true
   },
   "outputs": [],
   "source": [
    "m.register()"
   ]
  },
  {
   "cell_type": "code",
   "execution_count": 19,
   "metadata": {},
   "outputs": [
    {
     "data": {
      "text/plain": [
       "['model_one',\n",
       " 'model_two',\n",
       " 'small-mnl-test',\n",
       " 'ols-test',\n",
       " 'large-mnl-test',\n",
       " 'test_manual_registration',\n",
       " 'initialize_network',\n",
       " 'network_aggregations',\n",
       " 'binary-tenure-model-test']"
      ]
     },
     "execution_count": 19,
     "metadata": {},
     "output_type": "execute_result"
    }
   ],
   "source": [
    "orca.list_steps()"
   ]
  },
  {
   "cell_type": "code",
   "execution_count": 20,
   "metadata": {},
   "outputs": [
    {
     "data": {
      "text/plain": [
       "[{'name': 'model_one', 'tags': ['sam', 'testing'], 'type': 'BinaryLogitStep'},\n",
       " {'name': 'model_two', 'tags': ['sam', 'testing'], 'type': 'BinaryLogitStep'},\n",
       " {'name': 'small-mnl-test',\n",
       "  'tags': ['sam', 'testing'],\n",
       "  'type': 'SmallMultinomialLogitStep'},\n",
       " {'name': 'ols-test', 'tags': ['sam', 'testing'], 'type': 'OLSRegressionStep'},\n",
       " {'name': 'large-mnl-test',\n",
       "  'tags': ['sam', 'testing'],\n",
       "  'type': 'LargeMultinomialLogitStep'},\n",
       " {'name': 'binary-tenure-model-test',\n",
       "  'tags': ['demo', 'sam'],\n",
       "  'type': 'BinaryLogitStep'}]"
      ]
     },
     "execution_count": 20,
     "metadata": {},
     "output_type": "execute_result"
    }
   ],
   "source": [
    "mm.list_steps()"
   ]
  },
  {
   "cell_type": "code",
   "execution_count": 21,
   "metadata": {},
   "outputs": [
    {
     "data": {
      "text/plain": [
       "urbansim_templates.models.binary_logit.BinaryLogitStep"
      ]
     },
     "execution_count": 21,
     "metadata": {},
     "output_type": "execute_result"
    }
   ],
   "source": [
    "saved_model = mm.get_step('binary-tenure-model-test')\n",
    "type(saved_model)"
   ]
  },
  {
   "cell_type": "code",
   "execution_count": 22,
   "metadata": {},
   "outputs": [
    {
     "name": "stdout",
     "output_type": "stream",
     "text": [
      "                           Logit Regression Results                           \n",
      "==============================================================================\n",
      "Dep. Variable:                 tenure   No. Observations:              2460070\n",
      "Model:                          Logit   Df Residuals:                  2460066\n",
      "Method:                           MLE   Df Model:                            3\n",
      "Date:                Mon, 18 Jun 2018   Pseudo R-squ.:                  0.1349\n",
      "Time:                        12:15:36   Log-Likelihood:            -1.4494e+06\n",
      "converged:                       True   LL-Null:                   -1.6754e+06\n",
      "                                        LLR p-value:                     0.000\n",
      "==============================================================================\n",
      "                 coef    std err          z      P>|z|      [0.025      0.975]\n",
      "------------------------------------------------------------------------------\n",
      "Intercept      0.1377      0.004     33.241      0.000       0.130       0.146\n",
      "income      1.046e-05   2.22e-08    470.707      0.000    1.04e-05    1.05e-05\n",
      "persons        0.0044      0.001      4.836      0.000       0.003       0.006\n",
      "stories       -0.5791      0.002   -294.541      0.000      -0.583      -0.575\n",
      "==============================================================================\n"
     ]
    }
   ],
   "source": [
    "# Re-loaded model can be run, introspected, edited, re-saved, etc.\n",
    "\n",
    "print(saved_model.summary_table)"
   ]
  },
  {
   "cell_type": "code",
   "execution_count": 23,
   "metadata": {},
   "outputs": [
    {
     "data": {
      "text/plain": [
       "[{'name': 'model_one', 'tags': ['sam', 'testing'], 'type': 'BinaryLogitStep'},\n",
       " {'name': 'model_two', 'tags': ['sam', 'testing'], 'type': 'BinaryLogitStep'},\n",
       " {'name': 'small-mnl-test',\n",
       "  'tags': ['sam', 'testing'],\n",
       "  'type': 'SmallMultinomialLogitStep'},\n",
       " {'name': 'ols-test', 'tags': ['sam', 'testing'], 'type': 'OLSRegressionStep'},\n",
       " {'name': 'large-mnl-test',\n",
       "  'tags': ['sam', 'testing'],\n",
       "  'type': 'LargeMultinomialLogitStep'}]"
      ]
     },
     "execution_count": 23,
     "metadata": {},
     "output_type": "execute_result"
    }
   ],
   "source": [
    "# Remove the saved model, to keep the config file tidy\n",
    "\n",
    "mm.remove_step('binary-tenure-model-test')\n",
    "mm.list_steps()"
   ]
  },
  {
   "cell_type": "code",
   "execution_count": null,
   "metadata": {
    "collapsed": true
   },
   "outputs": [],
   "source": []
  },
  {
   "cell_type": "code",
   "execution_count": null,
   "metadata": {
    "collapsed": true
   },
   "outputs": [],
   "source": []
  },
  {
   "cell_type": "code",
   "execution_count": null,
   "metadata": {
    "collapsed": true
   },
   "outputs": [],
   "source": []
  }
 ],
 "metadata": {
  "kernelspec": {
   "display_name": "Python 3",
   "language": "python",
   "name": "python3"
  },
  "language_info": {
   "codemirror_mode": {
    "name": "ipython",
    "version": 3
   },
   "file_extension": ".py",
   "mimetype": "text/x-python",
   "name": "python",
   "nbconvert_exporter": "python",
   "pygments_lexer": "ipython3",
   "version": "3.6.2"
  }
 },
 "nbformat": 4,
 "nbformat_minor": 2
}
