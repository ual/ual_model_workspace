{
 "cells": [
  {
   "cell_type": "markdown",
   "metadata": {},
   "source": [
    "# Notebook for testing UrbanSim Templates cloud infrastructure\n",
    "\n",
    "v1 Sam Maurer, July 2018"
   ]
  },
  {
   "cell_type": "markdown",
   "metadata": {},
   "source": [
    "### Setup\n",
    "\n",
    "This notebook runs on its own, without any required script or config files.\n",
    "\n",
    "#### Install the Conda environment: \n",
    "\n",
    "- [environment.yml](https://github.com/ual/urbansim_parcel_bayarea/blob/master/environment.yml)\n",
    "\n",
    "\n",
    "#### Manually install `urbansim_templates`:\n",
    "\n",
    "\n",
    "```\n",
    "git clone https://github.com/udst/urbansim_templates.git\n",
    "python setup.py develop\n",
    "```\n",
    "\n",
    "- Conda release is coming eventually - if this is a stumbling block we can prioritize it\n",
    "\n",
    "#### Change the data loading cell\n",
    "\n",
    "- Load data from appserver rather than local file"
   ]
  },
  {
   "cell_type": "code",
   "execution_count": 1,
   "metadata": {
    "collapsed": true
   },
   "outputs": [],
   "source": [
    "import pandas as pd\n",
    "import warnings;warnings.simplefilter('ignore')"
   ]
  },
  {
   "cell_type": "code",
   "execution_count": 2,
   "metadata": {},
   "outputs": [],
   "source": [
    "import orca\n",
    "from urbansim_templates import modelmanager as mm\n",
    "from urbansim_templates.models import OLSRegressionStep"
   ]
  },
  {
   "cell_type": "code",
   "execution_count": null,
   "metadata": {
    "collapsed": true
   },
   "outputs": [],
   "source": []
  },
  {
   "cell_type": "markdown",
   "metadata": {},
   "source": [
    "### Load data and register with Orca"
   ]
  },
  {
   "cell_type": "code",
   "execution_count": 3,
   "metadata": {},
   "outputs": [
    {
     "data": {
      "text/plain": [
       "<orca.orca.DataFrameWrapper at 0x11549c630>"
      ]
     },
     "execution_count": 3,
     "metadata": {},
     "output_type": "execute_result"
    }
   ],
   "source": [
    "df = pd.read_csv('../data/mtc_data_platform_format_7-6-18/buildings_v2.csv')\n",
    "orca.add_table('buildings', df)"
   ]
  },
  {
   "cell_type": "code",
   "execution_count": 4,
   "metadata": {},
   "outputs": [
    {
     "data": {
      "text/plain": [
       "['buildings']"
      ]
     },
     "execution_count": 4,
     "metadata": {},
     "output_type": "execute_result"
    }
   ],
   "source": [
    "orca.list_tables()"
   ]
  },
  {
   "cell_type": "code",
   "execution_count": 5,
   "metadata": {},
   "outputs": [
    {
     "data": {
      "text/plain": [
       "['building_id',\n",
       " 'parcel_id',\n",
       " 'development_type_id',\n",
       " 'improvement_value',\n",
       " 'residential_units',\n",
       " 'residential_sqft',\n",
       " 'sqft_per_unit',\n",
       " 'non_residential_sqft',\n",
       " 'building_sqft',\n",
       " 'nonres_rent_per_sqft',\n",
       " 'res_price_per_sqft',\n",
       " 'stories',\n",
       " 'year_built',\n",
       " 'redfin_sale_price',\n",
       " 'redfin_sale_year',\n",
       " 'redfin_home_type',\n",
       " 'costar_property_type',\n",
       " 'costar_rent',\n",
       " 'building_type_id']"
      ]
     },
     "execution_count": 5,
     "metadata": {},
     "output_type": "execute_result"
    }
   ],
   "source": [
    "orca.get_table('buildings').to_frame().columns.tolist()"
   ]
  },
  {
   "cell_type": "code",
   "execution_count": null,
   "metadata": {
    "collapsed": true
   },
   "outputs": [],
   "source": []
  },
  {
   "cell_type": "markdown",
   "metadata": {},
   "source": [
    "### Estimate a model"
   ]
  },
  {
   "cell_type": "code",
   "execution_count": 6,
   "metadata": {},
   "outputs": [
    {
     "name": "stdout",
     "output_type": "stream",
     "text": [
      "                                 OLS Regression Results                                 \n",
      "========================================================================================\n",
      "Dep. Variable:     np.log1p(res_price_per_sqft)   R-squared:                       0.008\n",
      "Model:                                      OLS   Adj. R-squared:                  0.008\n",
      "Method:                           Least Squares   F-statistic:                 1.413e+04\n",
      "Date:                          Mon, 09 Jul 2018   Prob (F-statistic):               0.00\n",
      "Time:                                  16:26:12   Log-Likelihood:            -3.3783e+06\n",
      "No. Observations:                       1824229   AIC:                         6.757e+06\n",
      "Df Residuals:                           1824227   BIC:                         6.757e+06\n",
      "Df Model:                                     1                                         \n",
      "Covariance Type:                      nonrobust                                         \n",
      "==============================================================================\n",
      "                 coef    std err          t      P>|t|      [0.025      0.975]\n",
      "------------------------------------------------------------------------------\n",
      "Intercept     15.8262      0.090    176.446      0.000      15.650      16.002\n",
      "year_built    -0.0054   4.56e-05   -118.885      0.000      -0.006      -0.005\n",
      "==============================================================================\n",
      "Omnibus:                   928466.707   Durbin-Watson:                   1.387\n",
      "Prob(Omnibus):                  0.000   Jarque-Bera (JB):          4774631.125\n",
      "Skew:                          -2.547   Prob(JB):                         0.00\n",
      "Kurtosis:                       9.071   Cond. No.                     1.54e+05\n",
      "==============================================================================\n",
      "\n",
      "Warnings:\n",
      "[1] Standard Errors assume that the covariance matrix of the errors is correctly specified.\n",
      "[2] The condition number is large, 1.54e+05. This might indicate that there are\n",
      "strong multicollinearity or other numerical problems.\n"
     ]
    }
   ],
   "source": [
    "m = OLSRegressionStep()\n",
    "m.tables = ['buildings']\n",
    "m.model_expression = 'np.log1p(res_price_per_sqft) ~ year_built'\n",
    "m.fit()"
   ]
  },
  {
   "cell_type": "code",
   "execution_count": null,
   "metadata": {
    "collapsed": true
   },
   "outputs": [],
   "source": []
  },
  {
   "cell_type": "code",
   "execution_count": null,
   "metadata": {
    "collapsed": true
   },
   "outputs": [],
   "source": []
  },
  {
   "cell_type": "code",
   "execution_count": null,
   "metadata": {
    "collapsed": true
   },
   "outputs": [],
   "source": []
  }
 ],
 "metadata": {
  "kernelspec": {
   "display_name": "Python 3",
   "language": "python",
   "name": "python3"
  },
  "language_info": {
   "codemirror_mode": {
    "name": "ipython",
    "version": 3
   },
   "file_extension": ".py",
   "mimetype": "text/x-python",
   "name": "python",
   "nbconvert_exporter": "python",
   "pygments_lexer": "ipython3",
   "version": "3.6.2"
  }
 },
 "nbformat": 4,
 "nbformat_minor": 2
}
