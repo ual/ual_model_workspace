{
 "cells": [
  {
   "cell_type": "markdown",
   "metadata": {},
   "source": [
    "# HLCM Diagnostic\n"
   ]
  },
  {
   "cell_type": "markdown",
   "metadata": {},
   "source": [
    "Arezoo Besharati, Paul Waddell, UrbanSim, July 2018 "
   ]
  },
  {
   "cell_type": "markdown",
   "metadata": {
    "toc": true
   },
   "source": [
    "<h1>Table of Contents<span class=\"tocSkip\"></span></h1>\n",
    "<div class=\"toc\"><ul class=\"toc-item\"><li><span><a href=\"#Preliminaries\" data-toc-modified-id=\"Preliminaries-1\"><span class=\"toc-item-num\">1&nbsp;&nbsp;</span>Preliminaries</a></span><ul class=\"toc-item\"><li><span><a href=\"#Load-data\" data-toc-modified-id=\"Load-data-1.1\"><span class=\"toc-item-num\">1.1&nbsp;&nbsp;</span>Load data</a></span></li><li><span><a href=\"#Perform-desired-variable-creations-and-transformations\" data-toc-modified-id=\"Perform-desired-variable-creations-and-transformations-1.2\"><span class=\"toc-item-num\">1.2&nbsp;&nbsp;</span>Perform desired variable creations and transformations</a></span></li></ul></li><li><span><a href=\"#Model-Estimation\" data-toc-modified-id=\"Model-Estimation-2\"><span class=\"toc-item-num\">2&nbsp;&nbsp;</span>Model Estimation</a></span><ul class=\"toc-item\"><li><span><a href=\"#HLCM-for-Multi-Family\" data-toc-modified-id=\"HLCM-for-Multi-Family-2.1\"><span class=\"toc-item-num\">2.1&nbsp;&nbsp;</span>HLCM for Multi-Family</a></span></li></ul></li><li><span><a href=\"#Model-Prediction\" data-toc-modified-id=\"Model-Prediction-3\"><span class=\"toc-item-num\">3&nbsp;&nbsp;</span>Model Prediction</a></span></li></ul></div>"
   ]
  },
  {
   "cell_type": "markdown",
   "metadata": {},
   "source": [
    "## Preliminaries"
   ]
  },
  {
   "cell_type": "code",
   "execution_count": 1,
   "metadata": {},
   "outputs": [],
   "source": [
    "import os; os.chdir('../../')\n",
    "import numpy as np, pandas as pd \n",
    "import matplotlib.pyplot as plt\n",
    "import warnings;\n",
    "warnings.simplefilter('ignore')\n",
    "%load_ext autoreload\n",
    "%autoreload 2\n",
    "\n",
    "from urbansim_templates import modelmanager as mm\n",
    "from urbansim_templates.models import LargeMultinomialLogitStep\n",
    "import orca\n",
    "import seaborn as sns\n",
    "%matplotlib notebook\n",
    "pd.set_option('display.float_format', lambda x: '%.2f' % x)"
   ]
  },
  {
   "cell_type": "markdown",
   "metadata": {},
   "source": [
    "### Load data"
   ]
  },
  {
   "cell_type": "code",
   "execution_count": 2,
   "metadata": {},
   "outputs": [],
   "source": [
    "# Load any script-based Orca registrations\n",
    "from scripts import datasources\n",
    "from scripts import models"
   ]
  },
  {
   "cell_type": "code",
   "execution_count": null,
   "metadata": {},
   "outputs": [],
   "source": [
    "## Initialize Networks\n",
    "#orca.run([\"initialize_network_walk\",\"initialize_network_small\"]);"
   ]
  },
  {
   "cell_type": "markdown",
   "metadata": {},
   "source": [
    "### Perform desired variable creations and transformations"
   ]
  },
  {
   "cell_type": "code",
   "execution_count": 3,
   "metadata": {
    "scrolled": false
   },
   "outputs": [],
   "source": [
    "### Data Cleaning\n",
    "\n",
    "parcel = orca.get_table('parcels').to_frame()\n",
    "bld = orca.get_table('buildings').to_frame()\n",
    "hh = orca.get_table('households').to_frame()\n",
    "\n",
    "hh['hh_random'] = np.random.uniform(0,1,len(hh))\n",
    "nodeswalk = orca.get_table('nodeswalk').to_frame()\n",
    "nodessmall = orca.get_table('nodessmall').to_frame()\n",
    "\n",
    "nodessmall_upper = nodessmall.quantile(.99)\n",
    "nodessmall_clipped = nodessmall.clip_upper(nodessmall_upper, axis=1) \n",
    "nsc=nodessmall_clipped\n",
    "\n",
    "nodeswalk_upper = nodeswalk.quantile(.99)\n",
    "nodeswalk_clipped = nodeswalk.clip_upper(nodeswalk_upper, axis=1) \n",
    "nwc=nodeswalk_clipped\n",
    "\n",
    "\n",
    "# scale income and create race dummies\n",
    "hh.income_k = hh.income/1000\n",
    "hh.white = (hh.race_of_head == 1).astype(int)\n",
    "hh.black = (hh.race_of_head == 2).astype(int)\n",
    "hh.asian = (hh.race_of_head == 6).astype(int)\n",
    "hh.hisp = (hh.hispanic_head == 'yes').astype(int)\n",
    "hh.single = (hh.persons == 1).astype(int)\n",
    "hh.elderly = (hh.age_of_head > 65).astype(int)\n",
    "\n",
    "\n",
    "# building_type dummies\n",
    "bld.single_family = (bld.building_type_id == 1).astype(int)\n",
    "bld.multi_family = (bld.building_type_id == 3).astype(int)\n",
    "bld.mixed_use = (bld.building_type_id > 3).astype(int)\n",
    "\n",
    "# add the columns\n",
    "\n",
    "orca.add_column('households', 'income_k', hh.income_k)\n",
    "orca.add_column('households', 'white', hh.white)\n",
    "orca.add_column('households', 'black', hh.black)\n",
    "orca.add_column('households', 'asian', hh.asian)\n",
    "orca.add_column('households', 'hispanic', hh.hisp)\n",
    "orca.add_column('households', 'elderly', hh.elderly)\n",
    "orca.add_column('households', 'single', hh.single)\n",
    "orca.add_column('households', 'hh_random', hh.hh_random)\n",
    "\n",
    "orca.add_column('buildings', 'single_family', bld.single_family)\n",
    "orca.add_column('buildings', 'multi_family', bld.multi_family)\n",
    "orca.add_column('buildings', 'mixed_use', bld.mixed_use);\n",
    "\n",
    "nwc['prop_children_500_walk'] = (nwc['children_500_walk'] > 0).astype(int) / nwc['hh_500_walk']\n",
    "nwc['prop_singles_500_walk'] = nwc['singles_500_walk'] / nwc['hh_500_walk']\n",
    "nwc['prop_elderly_500_walk'] = nwc['elderly_hh_500_walk'] / nwc['hh_500_walk']\n",
    "nwc['prop_black_500_walk'] = nwc['pop_black_500_walk'] / nwc['pop_500_walk']\n",
    "nwc['prop_white_500_walk'] = nwc['pop_white_500_walk'] / nwc['pop_500_walk']\n",
    "nwc['prop_asian_500_walk'] = nwc['pop_asian_500_walk'] / nwc['pop_500_walk']\n",
    "nwc['prop_hisp_500_walk'] = nwc['pop_hisp_500_walk'] / nwc['pop_500_walk']\n",
    "nwc['prop_rich_500_walk'] = nwc['rich_500_walk'] / nwc['pop_500_walk']\n",
    "nwc['prop_poor_500_walk'] = nwc['poor_500_walk'] / nwc['pop_500_walk']\n",
    "\n",
    "nwc['prop_children_1500_walk'] = (nwc['children_1500_walk'] > 0).astype(int) / nwc['hh_1500_walk']\n",
    "nwc['prop_singles_1500_walk'] = nwc['singles_1500_walk'] / nwc['hh_1500_walk']\n",
    "nwc['prop_elderly_1500_walk'] = nwc['elderly_hh_1500_walk'] / nwc['hh_1500_walk']\n",
    "nwc['prop_black_1500_walk'] = nwc['pop_black_1500_walk'] / nwc['pop_1500_walk']\n",
    "nwc['prop_white_1500_walk'] = nwc['pop_white_1500_walk'] / nwc['pop_1500_walk']\n",
    "nwc['prop_asian_1500_walk'] = nwc['pop_asian_1500_walk'] / nwc['pop_1500_walk']\n",
    "nwc['prop_hisp_1500_walk'] = nwc['pop_hisp_1500_walk'] / nwc['pop_1500_walk']\n",
    "nwc['prop_rich_1500_walk'] = nwc['rich_1500_walk'] / nwc['pop_1500_walk']\n",
    "nwc['prop_poor_1500_walk'] = nwc['poor_1500_walk'] / nwc['pop_1500_walk']\n",
    "\n",
    "orca.add_table('nodessmall', nsc);\n",
    "orca.add_table('nodeswalk', nwc);"
   ]
  },
  {
   "cell_type": "code",
   "execution_count": 4,
   "metadata": {},
   "outputs": [
    {
     "data": {
      "text/plain": [
       "15342"
      ]
     },
     "execution_count": 4,
     "metadata": {},
     "output_type": "execute_result"
    }
   ],
   "source": [
    "hh_f = hh[(hh['building_type'] > 2) & (hh['hh_random'] < .2) & (hh['recent_mover'] == 1) \\\n",
    "        & (hh['income'] > 0) & (hh['income'] < 500000)]\n",
    "len(hh_f)"
   ]
  },
  {
   "cell_type": "code",
   "execution_count": 5,
   "metadata": {},
   "outputs": [
    {
     "name": "stdout",
     "output_type": "stream",
     "text": [
      "Loading model step 'hedonic_price_sqft_multi_family'\n",
      "Loading model step 'hedonic_price_sqft_single_family'\n",
      "Loading model step 'hedonic_rent_sqft'\n",
      "Loading model step 'hlcm'\n",
      "Loading model step 'hlcm_multi_family'\n",
      "Loading model step 'hlcm_multi_family2'\n",
      "Loading model step 'hlcm_multi_family3'\n"
     ]
    }
   ],
   "source": [
    "mm.initialize()"
   ]
  },
  {
   "cell_type": "markdown",
   "metadata": {},
   "source": [
    "## Model Estimation"
   ]
  },
  {
   "cell_type": "markdown",
   "metadata": {},
   "source": [
    "### HLCM for Multi-Family "
   ]
  },
  {
   "cell_type": "code",
   "execution_count": 7,
   "metadata": {},
   "outputs": [],
   "source": [
    "orca.broadcast('nodeswalk', 'rentals', cast_index=True, onto_on='node_id_walk')\n",
    "orca.broadcast('nodeswalk', 'parcels', cast_index=True, onto_on='node_id_walk')\n",
    "orca.broadcast('nodessmall', 'rentals', cast_index=True, onto_on='node_id_small')\n",
    "orca.broadcast('nodessmall', 'parcels', cast_index=True, onto_on='node_id_small')\n"
   ]
  },
  {
   "cell_type": "code",
   "execution_count": 8,
   "metadata": {},
   "outputs": [
    {
     "name": "stdout",
     "output_type": "stream",
     "text": [
      "                  CHOICEMODELS ESTIMATION RESULTS                  \n",
      "===================================================================\n",
      "Dep. Var.:                chosen   No. Observations:          9,308\n",
      "Model:         Multinomial Logit   Df Residuals:              9,296\n",
      "Method:       Maximum Likelihood   Df Model:                     12\n",
      "Date:                 2018-07-22   Pseudo R-squ.:             0.375\n",
      "Time:                      14:38   Pseudo R-bar-squ.:         0.375\n",
      "AIC:                  45,511.933   Log-Likelihood:      -22,743.967\n",
      "BIC:                  45,597.597   LL-Null:             -36,413.110\n",
      "================================================================================================\n",
      "                                                 coef   std err         z     P>|z|   Conf. Int.\n",
      "------------------------------------------------------------------------------------------------\n",
      "np.log(residential_units)                      1.2151     0.008   147.737     0.000             \n",
      "np.log1p(res_price_per_sqft)                  -0.1608     0.011   -14.273     0.000             \n",
      "np.log1p(sqft_per_unit)                       -0.7826     0.043   -18.035     0.000             \n",
      "np.log1p(income):np.log1p(sqft_per_unit)       0.0715     0.004    17.109     0.000             \n",
      "np.log1p(jobs_1500_walk)                       0.2434     0.013    19.451     0.000             \n",
      "np.log1p(jobs_25000)                           0.0640     0.026     2.483     0.013             \n",
      "np.log(income):np.log(avg_income_1500_walk)    0.0168     0.002     7.154     0.000             \n",
      "np.log1p(pop_1500_walk)                       -0.1823     0.022    -8.347     0.000             \n",
      "white:prop_white_500_walk                      1.3876     0.053    26.369     0.000             \n",
      "black:prop_black_500_walk                      7.6512     0.372    20.542     0.000             \n",
      "asian:prop_asian_500_walk                      2.7973     0.084    33.207     0.000             \n",
      "hispanic:prop_hisp_500_walk                    3.8742     0.123    31.470     0.000             \n",
      "================================================================================================\n",
      "CPU times: user 40.5 s, sys: 12 s, total: 52.5 s\n",
      "Wall time: 38.4 s\n"
     ]
    }
   ],
   "source": [
    "%%time\n",
    "m_mf = LargeMultinomialLogitStep()\n",
    "m_mf.choosers = ['households']\n",
    "m_mf.alternatives = ['buildings','parcels','nodeswalk','nodessmall']\n",
    "m_mf.choice_column = 'building_id'\n",
    "m_mf.alt_sample_size = 50\n",
    "\n",
    "#Filters on choosers\n",
    "# m_mf2.chooser_filters = ['building_type > 2 &\\\n",
    "#                           household_id % 1000 < 40 &\\\n",
    "#                           recent_mover == 1 &\\\n",
    "#                           0 <income < 500000']\n",
    "\n",
    "\n",
    "m_mf.chooser_filters = ['building_type > 2 &\\\n",
    "                          hh_random < .2 &\\\n",
    "                          recent_mover == 1 &\\\n",
    "                          0 <income < 500000']\n",
    "\n",
    "\n",
    "#Filters on alternatives\n",
    "m_mf.alt_filters = ['residential_units > 1',\n",
    "                     '0 < avg_income_500_walk < 300000',\n",
    "                     'pop_1500_walk > 0',\n",
    "                     'sqft_per_unit > 0']\n",
    "\n",
    "\n",
    "m_mf.model_expression = ' np.log(residential_units) + \\\n",
    "np.log1p(res_price_per_sqft) + \\\n",
    "np.log1p(sqft_per_unit) + \\\n",
    "np.log1p(income):np.log1p(sqft_per_unit) + \\\n",
    "np.log1p(jobs_1500_walk) + \\\n",
    "np.log1p(jobs_25000) + \\\n",
    "np.log(income):np.log(avg_income_1500_walk) + \\\n",
    "np.log1p(pop_1500_walk) + \\\n",
    "white:prop_white_500_walk + \\\n",
    "black:prop_black_500_walk + \\\n",
    "asian:prop_asian_500_walk + \\\n",
    "hispanic:prop_hisp_500_walk\\\n",
    "- 1'\n",
    "\n",
    "\n",
    "m_mf.name = 'hlcm_multi_family1'\n",
    "m_mf.tags = ['multi_family','test']\n",
    "m_mf.fit()"
   ]
  },
  {
   "cell_type": "code",
   "execution_count": 9,
   "metadata": {},
   "outputs": [
    {
     "name": "stdout",
     "output_type": "stream",
     "text": [
      "Saving 'hlcm_multi_family1.yaml': /Users/arezoobzadeh/Documents/GitHub/urbansim_parcel_bayarea/configs\n",
      "Loading model step 'hlcm_multi_family1'\n"
     ]
    }
   ],
   "source": [
    "# register the model\n",
    "m_mf.register()"
   ]
  },
  {
   "cell_type": "code",
   "execution_count": 10,
   "metadata": {},
   "outputs": [
    {
     "data": {
      "text/plain": [
       "15342"
      ]
     },
     "execution_count": 10,
     "metadata": {},
     "output_type": "execute_result"
    }
   ],
   "source": [
    "# number of choosers/agents/households/observations\n",
    "len(m_mf._get_df(tables=m_mf.choosers, filters=m_mf.chooser_filters))"
   ]
  },
  {
   "cell_type": "code",
   "execution_count": 11,
   "metadata": {},
   "outputs": [
    {
     "data": {
      "text/plain": [
       "[1.2150999073602415,\n",
       " -0.16081622246026797,\n",
       " -0.7825795754393018,\n",
       " 0.0714622787597452,\n",
       " 0.2434416214238759,\n",
       " 0.06402322789622927,\n",
       " 0.016778754292451577,\n",
       " -0.18234191605050132,\n",
       " 1.3876137582109558,\n",
       " 7.651173070079466,\n",
       " 2.7973369228007776,\n",
       " 3.8742339624404214]"
      ]
     },
     "execution_count": 11,
     "metadata": {},
     "output_type": "execute_result"
    }
   ],
   "source": [
    "m_mf.fitted_parameters\n",
    "#or\n",
    "#mm.get_step('hlcm_multi_family').fitted_parameters"
   ]
  },
  {
   "cell_type": "markdown",
   "metadata": {},
   "source": [
    "## Model Prediction"
   ]
  },
  {
   "cell_type": "code",
   "execution_count": 12,
   "metadata": {},
   "outputs": [],
   "source": [
    "m_mf.out_chooser_filters = ['building_type > 2 &\\\n",
    "                          hh_random < .2 &\\\n",
    "                          recent_mover == 1 &\\\n",
    "                          0 <income < 500000']\n",
    "\n",
    "m_mf.out_alt_filters = ['residential_units == 1',\n",
    "                         '0 < avg_income_500_walk < 500000',\n",
    "                         'sqft_per_unit > 0']"
   ]
  },
  {
   "cell_type": "code",
   "execution_count": 13,
   "metadata": {},
   "outputs": [
    {
     "name": "stdout",
     "output_type": "stream",
     "text": [
      "Warning: choices are unconstrained; additional functionality in progress\n",
      "CPU times: user 31.2 s, sys: 14.9 s, total: 46.1 s\n",
      "Wall time: 37.3 s\n"
     ]
    }
   ],
   "source": [
    "%%time\n",
    "m_mf.run()"
   ]
  },
  {
   "cell_type": "code",
   "execution_count": 14,
   "metadata": {},
   "outputs": [
    {
     "name": "stdout",
     "output_type": "stream",
     "text": [
      "(767100, 3)\n"
     ]
    },
    {
     "data": {
      "text/html": [
       "<div>\n",
       "<style scoped>\n",
       "    .dataframe tbody tr th:only-of-type {\n",
       "        vertical-align: middle;\n",
       "    }\n",
       "\n",
       "    .dataframe tbody tr th {\n",
       "        vertical-align: top;\n",
       "    }\n",
       "\n",
       "    .dataframe thead th {\n",
       "        text-align: right;\n",
       "    }\n",
       "</style>\n",
       "<table border=\"1\" class=\"dataframe\">\n",
       "  <thead>\n",
       "    <tr style=\"text-align: right;\">\n",
       "      <th></th>\n",
       "      <th>observation_id</th>\n",
       "      <th>building_id</th>\n",
       "      <th>probability</th>\n",
       "    </tr>\n",
       "  </thead>\n",
       "  <tbody>\n",
       "    <tr>\n",
       "      <th>0</th>\n",
       "      <td>169</td>\n",
       "      <td>887036</td>\n",
       "      <td>0.01</td>\n",
       "    </tr>\n",
       "    <tr>\n",
       "      <th>1</th>\n",
       "      <td>169</td>\n",
       "      <td>1751818</td>\n",
       "      <td>0.01</td>\n",
       "    </tr>\n",
       "    <tr>\n",
       "      <th>2</th>\n",
       "      <td>169</td>\n",
       "      <td>1488525</td>\n",
       "      <td>0.03</td>\n",
       "    </tr>\n",
       "    <tr>\n",
       "      <th>3</th>\n",
       "      <td>169</td>\n",
       "      <td>411583</td>\n",
       "      <td>0.01</td>\n",
       "    </tr>\n",
       "    <tr>\n",
       "      <th>4</th>\n",
       "      <td>169</td>\n",
       "      <td>584129</td>\n",
       "      <td>0.01</td>\n",
       "    </tr>\n",
       "  </tbody>\n",
       "</table>\n",
       "</div>"
      ],
      "text/plain": [
       "   observation_id  building_id  probability\n",
       "0             169       887036         0.01\n",
       "1             169      1751818         0.01\n",
       "2             169      1488525         0.03\n",
       "3             169       411583         0.01\n",
       "4             169       584129         0.01"
      ]
     },
     "execution_count": 14,
     "metadata": {},
     "output_type": "execute_result"
    }
   ],
   "source": [
    "print(m_mf.probabilities.shape)\n",
    "m_mf.probabilities.head()"
   ]
  },
  {
   "cell_type": "code",
   "execution_count": 15,
   "metadata": {},
   "outputs": [
    {
     "name": "stdout",
     "output_type": "stream",
     "text": [
      "15342\n",
      "533588\n",
      "767100\n"
     ]
    }
   ],
   "source": [
    "### number of observations/choosers\n",
    "print(len(m_mf.probabilities.observation_id.unique()))\n",
    "### or \n",
    "#len(m_mf.choices)\n",
    "\n",
    "### number of unique alternatives\n",
    "print(len(m_mf.probabilities.building_id.unique()))\n",
    "\n",
    "### number of alternatives\n",
    "print(len(m_mf.probabilities.building_id))"
   ]
  },
  {
   "cell_type": "code",
   "execution_count": 16,
   "metadata": {},
   "outputs": [
    {
     "data": {
      "text/html": [
       "<div>\n",
       "<style scoped>\n",
       "    .dataframe tbody tr th:only-of-type {\n",
       "        vertical-align: middle;\n",
       "    }\n",
       "\n",
       "    .dataframe tbody tr th {\n",
       "        vertical-align: top;\n",
       "    }\n",
       "\n",
       "    .dataframe thead th {\n",
       "        text-align: right;\n",
       "    }\n",
       "</style>\n",
       "<table border=\"1\" class=\"dataframe\">\n",
       "  <thead>\n",
       "    <tr style=\"text-align: right;\">\n",
       "      <th></th>\n",
       "      <th>probability</th>\n",
       "    </tr>\n",
       "    <tr>\n",
       "      <th>building_id</th>\n",
       "      <th></th>\n",
       "    </tr>\n",
       "  </thead>\n",
       "  <tbody>\n",
       "    <tr>\n",
       "      <th>3</th>\n",
       "      <td>0.01</td>\n",
       "    </tr>\n",
       "    <tr>\n",
       "      <th>7</th>\n",
       "      <td>0.16</td>\n",
       "    </tr>\n",
       "    <tr>\n",
       "      <th>378</th>\n",
       "      <td>0.01</td>\n",
       "    </tr>\n",
       "    <tr>\n",
       "      <th>383</th>\n",
       "      <td>0.01</td>\n",
       "    </tr>\n",
       "    <tr>\n",
       "      <th>418</th>\n",
       "      <td>0.02</td>\n",
       "    </tr>\n",
       "  </tbody>\n",
       "</table>\n",
       "</div>"
      ],
      "text/plain": [
       "             probability\n",
       "building_id             \n",
       "3                   0.01\n",
       "7                   0.16\n",
       "378                 0.01\n",
       "383                 0.01\n",
       "418                 0.02"
      ]
     },
     "execution_count": 16,
     "metadata": {},
     "output_type": "execute_result"
    }
   ],
   "source": [
    "# summed probability \n",
    "\n",
    "predict_df=m_mf.probabilities.groupby('building_id')['probability'].sum().to_frame()\n",
    "predict_df.head()"
   ]
  },
  {
   "cell_type": "code",
   "execution_count": 20,
   "metadata": {},
   "outputs": [
    {
     "data": {
      "image/png": "[encoded data removed]",
      "text/plain": [
       "<Figure size 432x288 with 1 Axes>"
      ]
     },
     "metadata": {},
     "output_type": "display_data"
    }
   ],
   "source": [
    "plt.hist(predict_df['probability'],bins= 100);\n"
   ]
  },
  {
   "cell_type": "code",
   "execution_count": null,
   "metadata": {},
   "outputs": [],
   "source": [
    "# Check that choices are plausible\n",
    "choices = pd.DataFrame(m_mf.choices)\n",
    "df = pd.merge(m_mf.probabilities, choices, left_on='observation_id', right_index=True)\n",
    "df['chosen'] = 0\n",
    "df.loc[df.building_id == df.choice, 'chosen'] = 1\n",
    "print(df.head())"
   ]
  },
  {
   "cell_type": "code",
   "execution_count": null,
   "metadata": {},
   "outputs": [],
   "source": [
    "print(np.corrcoef(df.probability, df.chosen))"
   ]
  },
  {
   "cell_type": "code",
   "execution_count": null,
   "metadata": {},
   "outputs": [],
   "source": [
    "### join predicted df and df \n",
    "#hh_f = hh[(hh['building_type'] > 2) & (hh['hh_random'] < .2) & (hh['recent_mover'] == 1)\\\n",
    "#        & (hh['income'] > 0) & (hh['income'] < 500000)]\n",
    "             \n",
    "#df = orca.merge_tables(target = 'buildings', tables = ['buildings','parcels','nodeswalk','nodessmall'])\n",
    "  \n",
    "#hh_f_data = hh_f.merge(df, left_on='building_id', right_index=True)\n",
    "#hh_f_data.columns.tolist()\n",
    "\n",
    "#predict= pd.merge(predict_df,hh_f_data, left_index=True,right_on='building_id',how='left', sort=False)\n",
    "#predict[['probability','building_id']].head()\n",
    "\n",
    "#predict_2= pd.merge(predict_df,df, left_index=True,right_index=True,how='left', sort=False)\n",
    "#predict_2.head()"
   ]
  }
 ],
 "metadata": {
  "kernelspec": {
   "display_name": "Python 3",
   "language": "python",
   "name": "python3"
  },
  "language_info": {
   "codemirror_mode": {
    "name": "ipython",
    "version": 3
   },
   "file_extension": ".py",
   "mimetype": "text/x-python",
   "name": "python",
   "nbconvert_exporter": "python",
   "pygments_lexer": "ipython3",
   "version": "3.6.5"
  },
  "toc": {
   "base_numbering": "1",
   "nav_menu": {},
   "number_sections": true,
   "sideBar": true,
   "skip_h1_title": true,
   "title_cell": "Table of Contents",
   "title_sidebar": "Contents",
   "toc_cell": true,
   "toc_position": {
    "height": "calc(100% - 180px)",
    "left": "10px",
    "top": "150px",
    "width": "185px"
   },
   "toc_section_display": true,
   "toc_window_display": true
  }
 },
 "nbformat": 4,
 "nbformat_minor": 2
}
