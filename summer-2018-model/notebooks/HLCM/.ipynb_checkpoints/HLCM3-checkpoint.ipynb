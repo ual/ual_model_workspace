{
 "cells": [
  {
   "cell_type": "markdown",
   "metadata": {},
   "source": [
    "# Household Location Choice Model (HLCM) for Single and Multi Family Housing  \n"
   ]
  },
  {
   "cell_type": "markdown",
   "metadata": {},
   "source": [
    "Arezoo Besharati, Paul Waddell, UrbanSim, July 2018 \n",
    "\n",
    "This notebook demonstrates the use of the LargeMultinomialLogit model template to construct, estimate, and evaluate a Household Location Choice Model for the San Francisco Bay Area.\n",
    "\n",
    "In the process of developing the model, we also demonstrate some data checking and transformations to improve the model.\n",
    "\n",
    "The model structure and specification are informed and limited by the available data, which is based on the data used by the Metropolitan Transportation Commission for their operational model."
   ]
  },
  {
   "cell_type": "markdown",
   "metadata": {
    "toc": true
   },
   "source": [
    "<h1>Table of Contents<span class=\"tocSkip\"></span></h1>\n",
    "<div class=\"toc\"><ul class=\"toc-item\"><li><span><a href=\"#Preliminaries\" data-toc-modified-id=\"Preliminaries-1\"><span class=\"toc-item-num\">1&nbsp;&nbsp;</span>Preliminaries</a></span><ul class=\"toc-item\"><li><span><a href=\"#Load-data\" data-toc-modified-id=\"Load-data-1.1\"><span class=\"toc-item-num\">1.1&nbsp;&nbsp;</span>Load data</a></span></li><li><span><a href=\"#Initialize-Networks\" data-toc-modified-id=\"Initialize-Networks-1.2\"><span class=\"toc-item-num\">1.2&nbsp;&nbsp;</span>Initialize Networks</a></span></li><li><span><a href=\"#Explore-the-data\" data-toc-modified-id=\"Explore-the-data-1.3\"><span class=\"toc-item-num\">1.3&nbsp;&nbsp;</span>Explore the data</a></span></li><li><span><a href=\"#Data-Cleaning\" data-toc-modified-id=\"Data-Cleaning-1.4\"><span class=\"toc-item-num\">1.4&nbsp;&nbsp;</span>Data Cleaning</a></span></li><li><span><a href=\"#Perform-desired-variable-creations-and-transformations¶\" data-toc-modified-id=\"Perform-desired-variable-creations-and-transformations¶-1.5\"><span class=\"toc-item-num\">1.5&nbsp;&nbsp;</span>Perform desired variable creations and transformations¶</a></span></li><li><span><a href=\"#Check-Distributions\" data-toc-modified-id=\"Check-Distributions-1.6\"><span class=\"toc-item-num\">1.6&nbsp;&nbsp;</span>Check Distributions</a></span></li><li><span><a href=\"#Check-for-Multicollinearity\" data-toc-modified-id=\"Check-for-Multicollinearity-1.7\"><span class=\"toc-item-num\">1.7&nbsp;&nbsp;</span>Check for Multicollinearity</a></span></li></ul></li><li><span><a href=\"#Model-Estimation\" data-toc-modified-id=\"Model-Estimation-2\"><span class=\"toc-item-num\">2&nbsp;&nbsp;</span>Model Estimation</a></span><ul class=\"toc-item\"><li><span><a href=\"#HLCM-for-Multi-Family\" data-toc-modified-id=\"HLCM-for-Multi-Family-2.1\"><span class=\"toc-item-num\">2.1&nbsp;&nbsp;</span>HLCM for Multi-Family</a></span></li><li><span><a href=\"#HLCM-for-Single-Family\" data-toc-modified-id=\"HLCM-for-Single-Family-2.2\"><span class=\"toc-item-num\">2.2&nbsp;&nbsp;</span>HLCM for Single-Family</a></span></li></ul></li></ul></div>"
   ]
  },
  {
   "cell_type": "markdown",
   "metadata": {},
   "source": [
    "## Preliminaries"
   ]
  },
  {
   "cell_type": "code",
   "execution_count": 66,
   "metadata": {},
   "outputs": [
    {
     "name": "stdout",
     "output_type": "stream",
     "text": [
      "The autoreload extension is already loaded. To reload it, use:\n",
      "  %reload_ext autoreload\n"
     ]
    }
   ],
   "source": [
    "import os; os.chdir('../../')\n",
    "import numpy as np, pandas as pd \n",
    "import matplotlib.pyplot as plt\n",
    "import warnings;\n",
    "warnings.simplefilter('ignore')\n",
    "%load_ext autoreload\n",
    "%autoreload 2"
   ]
  },
  {
   "cell_type": "code",
   "execution_count": 67,
   "metadata": {},
   "outputs": [],
   "source": [
    "from urbansim_templates import modelmanager as mm\n",
    "from urbansim_templates.models import LargeMultinomialLogitStep\n",
    "import orca\n",
    "import seaborn as sns\n",
    "%matplotlib notebook"
   ]
  },
  {
   "cell_type": "code",
   "execution_count": 68,
   "metadata": {},
   "outputs": [],
   "source": [
    "pd.set_option('display.float_format', lambda x: '%.2f' % x)"
   ]
  },
  {
   "cell_type": "code",
   "execution_count": 69,
   "metadata": {},
   "outputs": [
    {
     "name": "stdout",
     "output_type": "stream",
     "text": [
      "Path not found: /Users/paul/configs\n"
     ]
    }
   ],
   "source": [
    "# Initialize modelmanager from urbansim_templates\n",
    "mm.initialize()"
   ]
  },
  {
   "cell_type": "markdown",
   "metadata": {},
   "source": [
    "### Load data"
   ]
  },
  {
   "cell_type": "code",
   "execution_count": 70,
   "metadata": {},
   "outputs": [],
   "source": [
    "# Load any script-based Orca registrations\n",
    "from scripts import datasources\n",
    "from scripts import models"
   ]
  },
  {
   "cell_type": "code",
   "execution_count": 6,
   "metadata": {},
   "outputs": [
    {
     "data": {
      "text/plain": [
       "['parcels',\n",
       " 'buildings',\n",
       " 'craigslist',\n",
       " 'rentals',\n",
       " 'nodessmall',\n",
       " 'nodeswalk',\n",
       " 'units',\n",
       " 'households',\n",
       " 'persons',\n",
       " 'jobs']"
      ]
     },
     "execution_count": 6,
     "metadata": {},
     "output_type": "execute_result"
    }
   ],
   "source": [
    "orca.list_tables()"
   ]
  },
  {
   "cell_type": "code",
   "execution_count": 71,
   "metadata": {},
   "outputs": [
    {
     "data": {
      "text/plain": [
       "[('parcels', 'buildings'),\n",
       " ('buildings', 'units'),\n",
       " ('units', 'households'),\n",
       " ('households', 'persons'),\n",
       " ('nodeswalk', 'rentals'),\n",
       " ('nodeswalk', 'parcels'),\n",
       " ('nodessmall', 'rentals'),\n",
       " ('nodessmall', 'parcels')]"
      ]
     },
     "execution_count": 71,
     "metadata": {},
     "output_type": "execute_result"
    }
   ],
   "source": [
    "orca.list_broadcasts()"
   ]
  },
  {
   "cell_type": "code",
   "execution_count": null,
   "metadata": {},
   "outputs": [],
   "source": [
    "mm.list_steps()"
   ]
  },
  {
   "cell_type": "markdown",
   "metadata": {},
   "source": [
    "### Explore the data"
   ]
  },
  {
   "cell_type": "code",
   "execution_count": null,
   "metadata": {},
   "outputs": [],
   "source": [
    "nodeswalk = orca.get_table('nodeswalk').to_frame()\n",
    "nodessmall = orca.get_table('nodessmall').to_frame()"
   ]
  },
  {
   "cell_type": "code",
   "execution_count": null,
   "metadata": {},
   "outputs": [],
   "source": [
    "nodeswalk.describe().transpose()"
   ]
  },
  {
   "cell_type": "code",
   "execution_count": null,
   "metadata": {},
   "outputs": [],
   "source": [
    "nodessmall.describe().transpose()"
   ]
  },
  {
   "cell_type": "code",
   "execution_count": null,
   "metadata": {},
   "outputs": [],
   "source": [
    "parcel = orca.get_table('parcels').to_frame()\n",
    "parcel.columns"
   ]
  },
  {
   "cell_type": "markdown",
   "metadata": {},
   "source": [
    "### Create a Chooser Filter and Tag Their Buildings"
   ]
  },
  {
   "cell_type": "code",
   "execution_count": 8,
   "metadata": {
    "scrolled": false
   },
   "outputs": [
    {
     "data": {
      "text/plain": [
       "['serialno',\n",
       " 'persons',\n",
       " 'building_type',\n",
       " 'cars',\n",
       " 'income',\n",
       " 'race_of_head',\n",
       " 'hispanic_head',\n",
       " 'age_of_head',\n",
       " 'workers',\n",
       " 'state',\n",
       " 'county',\n",
       " 'tract',\n",
       " 'block_group',\n",
       " 'children',\n",
       " 'tenure',\n",
       " 'recent_mover',\n",
       " 'block_group_id',\n",
       " 'single_family',\n",
       " 'unit_id',\n",
       " 'building_id']"
      ]
     },
     "execution_count": 8,
     "metadata": {},
     "output_type": "execute_result"
    }
   ],
   "source": [
    "hh = orca.get_table('households').to_frame()\n",
    "hh.columns.tolist()"
   ]
  },
  {
   "cell_type": "code",
   "execution_count": 9,
   "metadata": {},
   "outputs": [],
   "source": [
    "np.random.seed(12345)\n",
    "hh['hh_random'] = np.random.uniform(0,1,len(hh))"
   ]
  },
  {
   "cell_type": "code",
   "execution_count": null,
   "metadata": {},
   "outputs": [],
   "source": [
    "hh.head()"
   ]
  },
  {
   "cell_type": "code",
   "execution_count": null,
   "metadata": {
    "scrolled": false
   },
   "outputs": [],
   "source": [
    "hh.describe()"
   ]
  },
  {
   "cell_type": "code",
   "execution_count": null,
   "metadata": {},
   "outputs": [],
   "source": [
    "hh.dtypes"
   ]
  },
  {
   "cell_type": "code",
   "execution_count": 10,
   "metadata": {},
   "outputs": [
    {
     "data": {
      "text/plain": [
       "23839"
      ]
     },
     "execution_count": 10,
     "metadata": {},
     "output_type": "execute_result"
    }
   ],
   "source": [
    "hh_sf = hh[(hh['building_type'] == 2)  & (hh['recent_mover'] == 1) \\\n",
    "         & (hh['income'] > 0) & (hh['income'] < 1000000)]\n",
    "len(hh_sf)"
   ]
  },
  {
   "cell_type": "code",
   "execution_count": null,
   "metadata": {},
   "outputs": [],
   "source": [
    "len(hh_sf.building_id.unique())"
   ]
  },
  {
   "cell_type": "code",
   "execution_count": 11,
   "metadata": {},
   "outputs": [],
   "source": [
    "sf_tmp = pd.DataFrame(hh_sf.building_id.unique(), columns=['building_id'])\n",
    "sf_tmp['sf_choice_set'] = 1\n",
    "sf_tmp = sf_tmp.set_index('building_id')\n",
    "#sf_tmp.head()"
   ]
  },
  {
   "cell_type": "code",
   "execution_count": 13,
   "metadata": {},
   "outputs": [
    {
     "data": {
      "text/plain": [
       "38342"
      ]
     },
     "execution_count": 13,
     "metadata": {},
     "output_type": "execute_result"
    }
   ],
   "source": [
    "hh_mf = hh[(hh['building_type'] > 2) &  (hh['hh_random'] < .5) & (hh['recent_mover'] == 1) \\\n",
    "         & (hh['income'] > 0) & (hh['income'] < 500000)]\n",
    "len(hh_mf)"
   ]
  },
  {
   "cell_type": "code",
   "execution_count": null,
   "metadata": {},
   "outputs": [],
   "source": [
    "len(hh_mf.building_id.unique())"
   ]
  },
  {
   "cell_type": "code",
   "execution_count": 14,
   "metadata": {
    "scrolled": true
   },
   "outputs": [],
   "source": [
    "mf_tmp = pd.DataFrame(hh_mf.building_id.unique(), columns=['building_id'])\n",
    "mf_tmp['mf_choice_set'] = 1\n",
    "mf_tmp = mf_tmp.set_index('building_id')\n",
    "#mf_tmp.head()"
   ]
  },
  {
   "cell_type": "markdown",
   "metadata": {},
   "source": [
    "### Add Flag to Buildings Table Identifying Chosen Buildings"
   ]
  },
  {
   "cell_type": "code",
   "execution_count": 15,
   "metadata": {
    "scrolled": false
   },
   "outputs": [
    {
     "data": {
      "text/plain": [
       "Index(['parcel_id', 'development_type_id', 'improvement_value',\n",
       "       'residential_units', 'residential_sqft', 'sqft_per_unit',\n",
       "       'non_residential_sqft', 'building_sqft', 'nonres_rent_per_sqft',\n",
       "       'res_price_per_sqft', 'stories', 'year_built', 'redfin_sale_price',\n",
       "       'redfin_sale_year', 'redfin_home_type', 'costar_property_type',\n",
       "       'costar_rent', 'building_type_id', 'res_sqft_per_unit'],\n",
       "      dtype='object')"
      ]
     },
     "execution_count": 15,
     "metadata": {},
     "output_type": "execute_result"
    }
   ],
   "source": [
    "bld = orca.get_table('buildings').to_frame()\n",
    "bld.columns"
   ]
  },
  {
   "cell_type": "code",
   "execution_count": null,
   "metadata": {},
   "outputs": [],
   "source": [
    "bld.building_type_id.value_counts()"
   ]
  },
  {
   "cell_type": "code",
   "execution_count": null,
   "metadata": {},
   "outputs": [],
   "source": [
    "(bld.residential_units==1).sum()/len(bld)"
   ]
  },
  {
   "cell_type": "code",
   "execution_count": null,
   "metadata": {},
   "outputs": [],
   "source": [
    "len(bld)"
   ]
  },
  {
   "cell_type": "code",
   "execution_count": 16,
   "metadata": {},
   "outputs": [],
   "source": [
    "bld2 = bld.merge(sf_tmp, how='left', left_index=True, right_index=True)"
   ]
  },
  {
   "cell_type": "code",
   "execution_count": 17,
   "metadata": {},
   "outputs": [
    {
     "data": {
      "text/plain": [
       "0.00    1802831\n",
       "1.00      21398\n",
       "Name: sf_choice_set, dtype: int64"
      ]
     },
     "execution_count": 17,
     "metadata": {},
     "output_type": "execute_result"
    }
   ],
   "source": [
    "bld2.sf_choice_set= bld2.sf_choice_set.fillna(0)\n",
    "bld2.sf_choice_set.value_counts()"
   ]
  },
  {
   "cell_type": "code",
   "execution_count": 18,
   "metadata": {},
   "outputs": [
    {
     "data": {
      "text/plain": [
       "0.00    1801473\n",
       "1.00      22756\n",
       "Name: mf_choice_set, dtype: int64"
      ]
     },
     "execution_count": 18,
     "metadata": {},
     "output_type": "execute_result"
    }
   ],
   "source": [
    "bld3 = bld2.merge(mf_tmp, how='left', left_index=True, right_index=True)\n",
    "bld3.mf_choice_set= bld3.mf_choice_set.fillna(0)\n",
    "bld3.mf_choice_set.value_counts()"
   ]
  },
  {
   "cell_type": "code",
   "execution_count": 19,
   "metadata": {},
   "outputs": [],
   "source": [
    "bld = bld3"
   ]
  },
  {
   "cell_type": "code",
   "execution_count": null,
   "metadata": {},
   "outputs": [],
   "source": [
    "#orca.add_table('buildings', bld3)"
   ]
  },
  {
   "cell_type": "code",
   "execution_count": null,
   "metadata": {
    "scrolled": true
   },
   "outputs": [],
   "source": [
    "parcel.describe().transpose()"
   ]
  },
  {
   "cell_type": "code",
   "execution_count": null,
   "metadata": {},
   "outputs": [],
   "source": [
    "bld.describe().transpose()"
   ]
  },
  {
   "cell_type": "code",
   "execution_count": null,
   "metadata": {},
   "outputs": [],
   "source": [
    "df = orca.merge_tables(target = 'buildings', tables = ['buildings','parcels','nodeswalk','nodessmall'])"
   ]
  },
  {
   "cell_type": "code",
   "execution_count": null,
   "metadata": {},
   "outputs": [],
   "source": [
    "df.describe().transpose()"
   ]
  },
  {
   "cell_type": "code",
   "execution_count": null,
   "metadata": {},
   "outputs": [],
   "source": [
    "hh_f.dtypes"
   ]
  },
  {
   "cell_type": "code",
   "execution_count": null,
   "metadata": {},
   "outputs": [],
   "source": [
    "hh_f_data = hh_f.merge(df, left_on='building_id', right_index=True)"
   ]
  },
  {
   "cell_type": "code",
   "execution_count": null,
   "metadata": {},
   "outputs": [],
   "source": [
    "hh_f_data.describe().transpose()"
   ]
  },
  {
   "cell_type": "code",
   "execution_count": null,
   "metadata": {},
   "outputs": [],
   "source": [
    "hh_f.head()"
   ]
  },
  {
   "cell_type": "code",
   "execution_count": null,
   "metadata": {},
   "outputs": [],
   "source": [
    "#bld.groupby('building_type_id')['residential_units'].sum()"
   ]
  },
  {
   "cell_type": "code",
   "execution_count": null,
   "metadata": {
    "scrolled": false
   },
   "outputs": [],
   "source": [
    "#bld.describe().transpose()"
   ]
  },
  {
   "cell_type": "code",
   "execution_count": null,
   "metadata": {},
   "outputs": [],
   "source": [
    "#bld.quantile(.99)"
   ]
  },
  {
   "cell_type": "code",
   "execution_count": null,
   "metadata": {},
   "outputs": [],
   "source": [
    "#bld[['residential_units','residential_sqft', 'non_residential_sqft']].sum()"
   ]
  },
  {
   "cell_type": "code",
   "execution_count": null,
   "metadata": {},
   "outputs": [],
   "source": [
    "#bld.building_type_id.value_counts()"
   ]
  },
  {
   "cell_type": "code",
   "execution_count": null,
   "metadata": {},
   "outputs": [],
   "source": [
    "# hh_sf=hh[hh['building_type']==2]\n",
    "# hh_mf=hh[hh['building_type']!=2]"
   ]
  },
  {
   "cell_type": "markdown",
   "metadata": {},
   "source": [
    "### Data Cleaning"
   ]
  },
  {
   "cell_type": "code",
   "execution_count": 97,
   "metadata": {
    "scrolled": true
   },
   "outputs": [],
   "source": [
    "nodeswalk = orca.get_table('nodeswalk').to_frame()\n",
    "nodessmall = orca.get_table('nodessmall').to_frame()\n",
    "#print(nodeswalk.columns.tolist())\n",
    "#print(nodessmall.columns.tolist())"
   ]
  },
  {
   "cell_type": "code",
   "execution_count": null,
   "metadata": {},
   "outputs": [],
   "source": []
  },
  {
   "cell_type": "code",
   "execution_count": 98,
   "metadata": {},
   "outputs": [],
   "source": [
    "nodeswalk['pop_jobs_ratio_1500_walk'] = nodeswalk['pop_1500_walk'] / (nodeswalk['jobs_500_walk']+1)\n",
    "nodessmall['pop_jobs_ratio_10000'] = nodessmall['pop_10000'] / (nodessmall['jobs_10000'] + 1)\n",
    "nodessmall['pop_jobs_ratio_25000'] = nodessmall['pop_25000'] / (nodessmall['jobs_25000'] + 1)\n",
    "nodeswalk['avg_hhs_500_walk'] = nodeswalk['pop_500_walk'] / (nodeswalk['hh_500_walk']+1)\n",
    "nodeswalk['avg_hhs_1500_walk'] = nodeswalk['pop_1500_walk'] / (nodeswalk['hh_1500_walk']+1)\n"
   ]
  },
  {
   "cell_type": "code",
   "execution_count": 99,
   "metadata": {},
   "outputs": [
    {
     "data": {
      "text/plain": [
       "<orca.orca.DataFrameWrapper at 0x1c1ff95c88>"
      ]
     },
     "execution_count": 99,
     "metadata": {},
     "output_type": "execute_result"
    }
   ],
   "source": [
    "orca.add_table('nodeswalk', nodeswalk)\n",
    "orca.add_table('nodessmall', nodessmall)"
   ]
  },
  {
   "cell_type": "code",
   "execution_count": null,
   "metadata": {
    "scrolled": true
   },
   "outputs": [],
   "source": [
    "#nodessmall.describe().transpose()"
   ]
  },
  {
   "cell_type": "code",
   "execution_count": null,
   "metadata": {},
   "outputs": [],
   "source": [
    "# nodessmall_upper = nodessmall.quantile(.99)\n",
    "#nodessmall_upper"
   ]
  },
  {
   "cell_type": "code",
   "execution_count": null,
   "metadata": {},
   "outputs": [],
   "source": [
    "# nodessmall_clipped = nodessmall.clip_upper(nodessmall_upper, axis=1) \n",
    "# nodessmall_clipped.describe().transpose()\n",
    "# orca.add_table('nodessmall', nodessmall_clipped);"
   ]
  },
  {
   "cell_type": "code",
   "execution_count": null,
   "metadata": {},
   "outputs": [],
   "source": [
    "# nodeswalk.describe().transpose()\n",
    "# nodeswalk_upper = nodeswalk.quantile(.99)\n",
    "#nodeswalk_upper"
   ]
  },
  {
   "cell_type": "code",
   "execution_count": null,
   "metadata": {
    "scrolled": true
   },
   "outputs": [],
   "source": [
    "# nodeswalk_clipped = nodeswalk.clip_upper(nodeswalk_upper, axis=1) \n",
    "# nodeswalk_clipped.describe().transpose()\n",
    "# orca.add_table('nodeswalk', nodeswalk_clipped);"
   ]
  },
  {
   "cell_type": "markdown",
   "metadata": {},
   "source": [
    "### Perform desired variable creations and transformations¶"
   ]
  },
  {
   "cell_type": "code",
   "execution_count": 20,
   "metadata": {},
   "outputs": [
    {
     "data": {
      "text/plain": [
       "<orca.orca._SeriesWrapper at 0x1c4a2eb3c8>"
      ]
     },
     "execution_count": 20,
     "metadata": {},
     "output_type": "execute_result"
    }
   ],
   "source": [
    "# scale income and create race dummies\n",
    "hh.income_k = hh.income/1000\n",
    "hh.white = (hh.race_of_head == 1).astype(int)\n",
    "hh.black = (hh.race_of_head == 2).astype(int)\n",
    "hh.asian = (hh.race_of_head == 6).astype(int)\n",
    "hh.hisp = (hh.hispanic_head == 'yes').astype(int)\n",
    "hh.single = (hh.persons == 1).astype(int)\n",
    "hh.elderly = (hh.age_of_head > 65).astype(int)\n",
    "hh.rich = (hh.income > 150000).astype(int)\n",
    "hh.poor = (hh.income < 40000).astype(int)\n",
    "hh.has_children = (hh.children > 0).astype(int)\n",
    "  \n",
    "# building_type dummies\n",
    "bld.single_family = (bld.building_type_id == 1).astype(int)\n",
    "bld.multi_family = (bld.building_type_id == 3).astype(int)\n",
    "bld.mixed_use = (bld.building_type_id > 3).astype(int)\n",
    "bld.two_four_stories = ((bld.stories > 1) & (bld.stories < 5)).astype(int)\n",
    "bld.five_six_stories = ((bld.stories > 5) & (bld.stories < 7)).astype(int)\n",
    "bld.sevenplus_stories = (bld.stories > 6).astype(int)\n",
    "bld.yrblt_2000 = (bld.year_built > 2000).astype(int)\n",
    "bld.two_four_new = (bld.yrblt_2000 * bld.two_four_stories).astype(int)\n",
    "bld.five_six_new = (bld.yrblt_2000 * bld.five_six_stories).astype(int)\n",
    "bld.sevenplus_new = (bld.yrblt_2000 * bld.sevenplus_stories).astype(int)\n",
    "bld.three_plus_stories = (bld.stories > 2).astype(int)\n",
    "\n",
    "# add the columns\n",
    "\n",
    "orca.add_column('households', 'income_k', hh.income_k)\n",
    "orca.add_column('households', 'white', hh.white)\n",
    "orca.add_column('households', 'black', hh.black)\n",
    "orca.add_column('households', 'asian', hh.asian)\n",
    "orca.add_column('households', 'hispanic', hh.hisp)\n",
    "orca.add_column('households', 'elderly', hh.elderly)\n",
    "orca.add_column('households', 'rich', hh.rich)\n",
    "orca.add_column('households', 'poor', hh.poor)\n",
    "orca.add_column('households', 'has_children', hh.has_children)\n",
    "orca.add_column('households', 'single', hh.single)\n",
    "\n",
    "orca.add_column('households', 'hh_random', hh.hh_random)\n",
    "\n",
    "orca.add_column('buildings', 'single_family', bld.single_family)\n",
    "orca.add_column('buildings', 'multi_family', bld.multi_family)\n",
    "orca.add_column('buildings', 'mixed_use', bld.mixed_use)\n",
    "orca.add_column('buildings', 'two_four_stories', bld.two_four_stories)\n",
    "orca.add_column('buildings', 'five_six_stories', bld.five_six_stories)\n",
    "orca.add_column('buildings', 'yrblt_2000', bld.yrblt_2000)\n",
    "orca.add_column('buildings', 'sf_choice_set', bld.sf_choice_set)\n",
    "orca.add_column('buildings', 'mf_choice_set', bld.mf_choice_set)\n",
    "orca.add_column('buildings', 'two_four_new', bld.two_four_new)\n",
    "orca.add_column('buildings', 'five_six_new', bld.five_six_new)\n",
    "orca.add_column('buildings', 'sevenplus_new', bld.sevenplus_new)\n",
    "orca.add_column('buildings', 'three_plus_stories', bld.three_plus_stories)"
   ]
  },
  {
   "cell_type": "code",
   "execution_count": 21,
   "metadata": {},
   "outputs": [
    {
     "data": {
      "text/html": [
       "<div>\n",
       "<style scoped>\n",
       "    .dataframe tbody tr th:only-of-type {\n",
       "        vertical-align: middle;\n",
       "    }\n",
       "\n",
       "    .dataframe tbody tr th {\n",
       "        vertical-align: top;\n",
       "    }\n",
       "\n",
       "    .dataframe thead th {\n",
       "        text-align: right;\n",
       "    }\n",
       "</style>\n",
       "<table border=\"1\" class=\"dataframe\">\n",
       "  <thead>\n",
       "    <tr style=\"text-align: right;\">\n",
       "      <th></th>\n",
       "      <th>serialno</th>\n",
       "      <th>persons</th>\n",
       "      <th>building_type</th>\n",
       "      <th>cars</th>\n",
       "      <th>income</th>\n",
       "      <th>race_of_head</th>\n",
       "      <th>hispanic_head</th>\n",
       "      <th>age_of_head</th>\n",
       "      <th>workers</th>\n",
       "      <th>state</th>\n",
       "      <th>...</th>\n",
       "      <th>white</th>\n",
       "      <th>black</th>\n",
       "      <th>asian</th>\n",
       "      <th>hispanic</th>\n",
       "      <th>elderly</th>\n",
       "      <th>rich</th>\n",
       "      <th>poor</th>\n",
       "      <th>has_children</th>\n",
       "      <th>single</th>\n",
       "      <th>hh_random</th>\n",
       "    </tr>\n",
       "    <tr>\n",
       "      <th>household_id</th>\n",
       "      <th></th>\n",
       "      <th></th>\n",
       "      <th></th>\n",
       "      <th></th>\n",
       "      <th></th>\n",
       "      <th></th>\n",
       "      <th></th>\n",
       "      <th></th>\n",
       "      <th></th>\n",
       "      <th></th>\n",
       "      <th></th>\n",
       "      <th></th>\n",
       "      <th></th>\n",
       "      <th></th>\n",
       "      <th></th>\n",
       "      <th></th>\n",
       "      <th></th>\n",
       "      <th></th>\n",
       "      <th></th>\n",
       "      <th></th>\n",
       "      <th></th>\n",
       "    </tr>\n",
       "  </thead>\n",
       "  <tbody>\n",
       "    <tr>\n",
       "      <th>0</th>\n",
       "      <td>2010000487191</td>\n",
       "      <td>1</td>\n",
       "      <td>6.00</td>\n",
       "      <td>1.00</td>\n",
       "      <td>85000.00</td>\n",
       "      <td>1</td>\n",
       "      <td>no</td>\n",
       "      <td>47</td>\n",
       "      <td>1.00</td>\n",
       "      <td>6</td>\n",
       "      <td>...</td>\n",
       "      <td>1</td>\n",
       "      <td>0</td>\n",
       "      <td>0</td>\n",
       "      <td>0</td>\n",
       "      <td>0</td>\n",
       "      <td>0</td>\n",
       "      <td>0</td>\n",
       "      <td>0</td>\n",
       "      <td>1</td>\n",
       "      <td>0.93</td>\n",
       "    </tr>\n",
       "    <tr>\n",
       "      <th>1</th>\n",
       "      <td>2013000554587</td>\n",
       "      <td>1</td>\n",
       "      <td>9.00</td>\n",
       "      <td>1.00</td>\n",
       "      <td>27000.00</td>\n",
       "      <td>6</td>\n",
       "      <td>no</td>\n",
       "      <td>52</td>\n",
       "      <td>1.00</td>\n",
       "      <td>6</td>\n",
       "      <td>...</td>\n",
       "      <td>0</td>\n",
       "      <td>0</td>\n",
       "      <td>1</td>\n",
       "      <td>0</td>\n",
       "      <td>0</td>\n",
       "      <td>0</td>\n",
       "      <td>1</td>\n",
       "      <td>0</td>\n",
       "      <td>1</td>\n",
       "      <td>0.32</td>\n",
       "    </tr>\n",
       "    <tr>\n",
       "      <th>2</th>\n",
       "      <td>2011001140920</td>\n",
       "      <td>2</td>\n",
       "      <td>2.00</td>\n",
       "      <td>1.00</td>\n",
       "      <td>6000.00</td>\n",
       "      <td>6</td>\n",
       "      <td>no</td>\n",
       "      <td>60</td>\n",
       "      <td>1.00</td>\n",
       "      <td>6</td>\n",
       "      <td>...</td>\n",
       "      <td>0</td>\n",
       "      <td>0</td>\n",
       "      <td>1</td>\n",
       "      <td>0</td>\n",
       "      <td>0</td>\n",
       "      <td>0</td>\n",
       "      <td>1</td>\n",
       "      <td>0</td>\n",
       "      <td>0</td>\n",
       "      <td>0.18</td>\n",
       "    </tr>\n",
       "    <tr>\n",
       "      <th>3</th>\n",
       "      <td>2012001376432</td>\n",
       "      <td>1</td>\n",
       "      <td>3.00</td>\n",
       "      <td>1.00</td>\n",
       "      <td>28000.00</td>\n",
       "      <td>8</td>\n",
       "      <td>yes</td>\n",
       "      <td>51</td>\n",
       "      <td>1.00</td>\n",
       "      <td>6</td>\n",
       "      <td>...</td>\n",
       "      <td>0</td>\n",
       "      <td>0</td>\n",
       "      <td>0</td>\n",
       "      <td>1</td>\n",
       "      <td>0</td>\n",
       "      <td>0</td>\n",
       "      <td>1</td>\n",
       "      <td>0</td>\n",
       "      <td>1</td>\n",
       "      <td>0.20</td>\n",
       "    </tr>\n",
       "    <tr>\n",
       "      <th>4</th>\n",
       "      <td>2013000186929</td>\n",
       "      <td>1</td>\n",
       "      <td>6.00</td>\n",
       "      <td>1.00</td>\n",
       "      <td>10000.00</td>\n",
       "      <td>1</td>\n",
       "      <td>no</td>\n",
       "      <td>64</td>\n",
       "      <td>0.00</td>\n",
       "      <td>6</td>\n",
       "      <td>...</td>\n",
       "      <td>1</td>\n",
       "      <td>0</td>\n",
       "      <td>0</td>\n",
       "      <td>0</td>\n",
       "      <td>0</td>\n",
       "      <td>0</td>\n",
       "      <td>1</td>\n",
       "      <td>0</td>\n",
       "      <td>1</td>\n",
       "      <td>0.57</td>\n",
       "    </tr>\n",
       "  </tbody>\n",
       "</table>\n",
       "<p>5 rows × 31 columns</p>\n",
       "</div>"
      ],
      "text/plain": [
       "                   serialno  persons  building_type  cars   income  \\\n",
       "household_id                                                         \n",
       "0             2010000487191        1           6.00  1.00 85000.00   \n",
       "1             2013000554587        1           9.00  1.00 27000.00   \n",
       "2             2011001140920        2           2.00  1.00  6000.00   \n",
       "3             2012001376432        1           3.00  1.00 28000.00   \n",
       "4             2013000186929        1           6.00  1.00 10000.00   \n",
       "\n",
       "              race_of_head hispanic_head  age_of_head  workers state  \\\n",
       "household_id                                                           \n",
       "0                        1            no           47     1.00     6   \n",
       "1                        6            no           52     1.00     6   \n",
       "2                        6            no           60     1.00     6   \n",
       "3                        8           yes           51     1.00     6   \n",
       "4                        1            no           64     0.00     6   \n",
       "\n",
       "                ...     white black asian  hispanic  elderly  rich poor  \\\n",
       "household_id    ...                                                       \n",
       "0               ...         1     0     0         0        0     0    0   \n",
       "1               ...         0     0     1         0        0     0    1   \n",
       "2               ...         0     0     1         0        0     0    1   \n",
       "3               ...         0     0     0         1        0     0    1   \n",
       "4               ...         1     0     0         0        0     0    1   \n",
       "\n",
       "              has_children  single  hh_random  \n",
       "household_id                                   \n",
       "0                        0       1       0.93  \n",
       "1                        0       1       0.32  \n",
       "2                        0       0       0.18  \n",
       "3                        0       1       0.20  \n",
       "4                        0       1       0.57  \n",
       "\n",
       "[5 rows x 31 columns]"
      ]
     },
     "execution_count": 21,
     "metadata": {},
     "output_type": "execute_result"
    }
   ],
   "source": [
    "testhh = orca.get_table('households').to_frame().head()\n",
    "testhh"
   ]
  },
  {
   "cell_type": "code",
   "execution_count": 22,
   "metadata": {},
   "outputs": [
    {
     "data": {
      "text/html": [
       "<div>\n",
       "<style scoped>\n",
       "    .dataframe tbody tr th:only-of-type {\n",
       "        vertical-align: middle;\n",
       "    }\n",
       "\n",
       "    .dataframe tbody tr th {\n",
       "        vertical-align: top;\n",
       "    }\n",
       "\n",
       "    .dataframe thead th {\n",
       "        text-align: right;\n",
       "    }\n",
       "</style>\n",
       "<table border=\"1\" class=\"dataframe\">\n",
       "  <thead>\n",
       "    <tr style=\"text-align: right;\">\n",
       "      <th></th>\n",
       "      <th>parcel_id</th>\n",
       "      <th>development_type_id</th>\n",
       "      <th>improvement_value</th>\n",
       "      <th>residential_units</th>\n",
       "      <th>residential_sqft</th>\n",
       "      <th>sqft_per_unit</th>\n",
       "      <th>non_residential_sqft</th>\n",
       "      <th>building_sqft</th>\n",
       "      <th>nonres_rent_per_sqft</th>\n",
       "      <th>res_price_per_sqft</th>\n",
       "      <th>...</th>\n",
       "      <th>mixed_use</th>\n",
       "      <th>two_four_stories</th>\n",
       "      <th>five_six_stories</th>\n",
       "      <th>yrblt_2000</th>\n",
       "      <th>sf_choice_set</th>\n",
       "      <th>mf_choice_set</th>\n",
       "      <th>two_four_new</th>\n",
       "      <th>five_six_new</th>\n",
       "      <th>sevenplus_new</th>\n",
       "      <th>three_plus_stories</th>\n",
       "    </tr>\n",
       "    <tr>\n",
       "      <th>building_id</th>\n",
       "      <th></th>\n",
       "      <th></th>\n",
       "      <th></th>\n",
       "      <th></th>\n",
       "      <th></th>\n",
       "      <th></th>\n",
       "      <th></th>\n",
       "      <th></th>\n",
       "      <th></th>\n",
       "      <th></th>\n",
       "      <th></th>\n",
       "      <th></th>\n",
       "      <th></th>\n",
       "      <th></th>\n",
       "      <th></th>\n",
       "      <th></th>\n",
       "      <th></th>\n",
       "      <th></th>\n",
       "      <th></th>\n",
       "      <th></th>\n",
       "      <th></th>\n",
       "    </tr>\n",
       "  </thead>\n",
       "  <tbody>\n",
       "    <tr>\n",
       "      <th>1</th>\n",
       "      <td>742974</td>\n",
       "      <td>1.00</td>\n",
       "      <td>0.00</td>\n",
       "      <td>1.00</td>\n",
       "      <td>2029.00</td>\n",
       "      <td>2029.42</td>\n",
       "      <td>0.00</td>\n",
       "      <td>2029.42</td>\n",
       "      <td>0.00</td>\n",
       "      <td>302.77</td>\n",
       "      <td>...</td>\n",
       "      <td>0</td>\n",
       "      <td>0</td>\n",
       "      <td>0</td>\n",
       "      <td>0</td>\n",
       "      <td>0.00</td>\n",
       "      <td>0.00</td>\n",
       "      <td>0</td>\n",
       "      <td>0</td>\n",
       "      <td>0</td>\n",
       "      <td>0</td>\n",
       "    </tr>\n",
       "    <tr>\n",
       "      <th>2</th>\n",
       "      <td>744961</td>\n",
       "      <td>1.00</td>\n",
       "      <td>0.00</td>\n",
       "      <td>1.00</td>\n",
       "      <td>2029.00</td>\n",
       "      <td>2029.42</td>\n",
       "      <td>0.00</td>\n",
       "      <td>2029.42</td>\n",
       "      <td>0.00</td>\n",
       "      <td>254.43</td>\n",
       "      <td>...</td>\n",
       "      <td>0</td>\n",
       "      <td>0</td>\n",
       "      <td>0</td>\n",
       "      <td>0</td>\n",
       "      <td>0.00</td>\n",
       "      <td>0.00</td>\n",
       "      <td>0</td>\n",
       "      <td>0</td>\n",
       "      <td>0</td>\n",
       "      <td>0</td>\n",
       "    </tr>\n",
       "    <tr>\n",
       "      <th>3</th>\n",
       "      <td>1442641</td>\n",
       "      <td>1.00</td>\n",
       "      <td>53262.87</td>\n",
       "      <td>1.00</td>\n",
       "      <td>1568.00</td>\n",
       "      <td>1568.00</td>\n",
       "      <td>0.00</td>\n",
       "      <td>1568.00</td>\n",
       "      <td>0.00</td>\n",
       "      <td>183.47</td>\n",
       "      <td>...</td>\n",
       "      <td>0</td>\n",
       "      <td>0</td>\n",
       "      <td>0</td>\n",
       "      <td>0</td>\n",
       "      <td>0.00</td>\n",
       "      <td>0.00</td>\n",
       "      <td>0</td>\n",
       "      <td>0</td>\n",
       "      <td>0</td>\n",
       "      <td>0</td>\n",
       "    </tr>\n",
       "    <tr>\n",
       "      <th>7</th>\n",
       "      <td>328712</td>\n",
       "      <td>1.00</td>\n",
       "      <td>0.00</td>\n",
       "      <td>1.00</td>\n",
       "      <td>1393.00</td>\n",
       "      <td>1393.00</td>\n",
       "      <td>0.00</td>\n",
       "      <td>0.00</td>\n",
       "      <td>0.00</td>\n",
       "      <td>0.00</td>\n",
       "      <td>...</td>\n",
       "      <td>0</td>\n",
       "      <td>0</td>\n",
       "      <td>0</td>\n",
       "      <td>1</td>\n",
       "      <td>0.00</td>\n",
       "      <td>0.00</td>\n",
       "      <td>0</td>\n",
       "      <td>0</td>\n",
       "      <td>0</td>\n",
       "      <td>0</td>\n",
       "    </tr>\n",
       "    <tr>\n",
       "      <th>9</th>\n",
       "      <td>742661</td>\n",
       "      <td>1.00</td>\n",
       "      <td>116580.00</td>\n",
       "      <td>1.00</td>\n",
       "      <td>1018.00</td>\n",
       "      <td>1018.00</td>\n",
       "      <td>0.00</td>\n",
       "      <td>1018.00</td>\n",
       "      <td>0.00</td>\n",
       "      <td>474.35</td>\n",
       "      <td>...</td>\n",
       "      <td>0</td>\n",
       "      <td>0</td>\n",
       "      <td>0</td>\n",
       "      <td>0</td>\n",
       "      <td>0.00</td>\n",
       "      <td>0.00</td>\n",
       "      <td>0</td>\n",
       "      <td>0</td>\n",
       "      <td>0</td>\n",
       "      <td>0</td>\n",
       "    </tr>\n",
       "  </tbody>\n",
       "</table>\n",
       "<p>5 rows × 31 columns</p>\n",
       "</div>"
      ],
      "text/plain": [
       "             parcel_id  development_type_id  improvement_value  \\\n",
       "building_id                                                      \n",
       "1               742974                 1.00               0.00   \n",
       "2               744961                 1.00               0.00   \n",
       "3              1442641                 1.00           53262.87   \n",
       "7               328712                 1.00               0.00   \n",
       "9               742661                 1.00          116580.00   \n",
       "\n",
       "             residential_units  residential_sqft  sqft_per_unit  \\\n",
       "building_id                                                       \n",
       "1                         1.00           2029.00        2029.42   \n",
       "2                         1.00           2029.00        2029.42   \n",
       "3                         1.00           1568.00        1568.00   \n",
       "7                         1.00           1393.00        1393.00   \n",
       "9                         1.00           1018.00        1018.00   \n",
       "\n",
       "             non_residential_sqft  building_sqft  nonres_rent_per_sqft  \\\n",
       "building_id                                                              \n",
       "1                            0.00        2029.42                  0.00   \n",
       "2                            0.00        2029.42                  0.00   \n",
       "3                            0.00        1568.00                  0.00   \n",
       "7                            0.00           0.00                  0.00   \n",
       "9                            0.00        1018.00                  0.00   \n",
       "\n",
       "             res_price_per_sqft         ...          mixed_use  \\\n",
       "building_id                             ...                      \n",
       "1                        302.77         ...                  0   \n",
       "2                        254.43         ...                  0   \n",
       "3                        183.47         ...                  0   \n",
       "7                          0.00         ...                  0   \n",
       "9                        474.35         ...                  0   \n",
       "\n",
       "             two_four_stories  five_six_stories  yrblt_2000 sf_choice_set  \\\n",
       "building_id                                                                 \n",
       "1                           0                 0           0          0.00   \n",
       "2                           0                 0           0          0.00   \n",
       "3                           0                 0           0          0.00   \n",
       "7                           0                 0           1          0.00   \n",
       "9                           0                 0           0          0.00   \n",
       "\n",
       "            mf_choice_set two_four_new  five_six_new  sevenplus_new  \\\n",
       "building_id                                                           \n",
       "1                    0.00            0             0              0   \n",
       "2                    0.00            0             0              0   \n",
       "3                    0.00            0             0              0   \n",
       "7                    0.00            0             0              0   \n",
       "9                    0.00            0             0              0   \n",
       "\n",
       "             three_plus_stories  \n",
       "building_id                      \n",
       "1                             0  \n",
       "2                             0  \n",
       "3                             0  \n",
       "7                             0  \n",
       "9                             0  \n",
       "\n",
       "[5 rows x 31 columns]"
      ]
     },
     "execution_count": 22,
     "metadata": {},
     "output_type": "execute_result"
    }
   ],
   "source": [
    "testbld = orca.get_table('buildings').to_frame().head()\n",
    "testbld"
   ]
  },
  {
   "cell_type": "markdown",
   "metadata": {},
   "source": [
    "### Check Distributions"
   ]
  },
  {
   "cell_type": "code",
   "execution_count": null,
   "metadata": {},
   "outputs": [],
   "source": [
    "# hh_income_upper = hh_singlefamily.income.quantile(0.99)\n",
    "# len(hh[hh['income']>hh_income_upper])"
   ]
  },
  {
   "cell_type": "code",
   "execution_count": null,
   "metadata": {
    "scrolled": false
   },
   "outputs": [],
   "source": [
    "# %matplotlib notebook\n",
    "# hh_sf.income.plot(kind='hist',bins=100)\n",
    "# print(hh_sf.income.quantile([0.10,0.5,0.9,0.99,1]))"
   ]
  },
  {
   "cell_type": "code",
   "execution_count": null,
   "metadata": {
    "scrolled": false
   },
   "outputs": [],
   "source": [
    "# %matplotlib notebook\n",
    "# hh_mf.income.plot(kind='hist',bins=100)\n",
    "# print(hh_mf.income.quantile([0.10,0.5,0.9,0.99,1]))"
   ]
  },
  {
   "cell_type": "code",
   "execution_count": null,
   "metadata": {
    "scrolled": false
   },
   "outputs": [],
   "source": [
    "# %matplotlib notebook\n",
    "# ax = sns.boxplot(x = hh_sf.income,palette=\"Set2\", width=0.5)"
   ]
  },
  {
   "cell_type": "code",
   "execution_count": null,
   "metadata": {
    "scrolled": false
   },
   "outputs": [],
   "source": [
    "# %matplotlib notebook\n",
    "# ax = sns.boxplot(x = hh_mf.income,palette=\"Set2\", width=0.5)"
   ]
  },
  {
   "cell_type": "code",
   "execution_count": null,
   "metadata": {},
   "outputs": [],
   "source": [
    "df = orca.merge_tables(target = 'buildings', tables = ['buildings','parcels','nodeswalk','nodessmall'])\n",
    "#df.columns.tolist()\n",
    "df_sf= df[df['residential_units']==1]\n",
    "df_mf= df[df['residential_units']>1]"
   ]
  },
  {
   "cell_type": "code",
   "execution_count": null,
   "metadata": {},
   "outputs": [],
   "source": [
    "# %matplotlib notebook\n",
    "# df_sf.avg_income_1500_walk.plot(kind='hist',bins=100)\n",
    "# plt.show()\n",
    "# print(df_sf.avg_income_1500_walk.quantile([0.10,0.5,0.9,0.99,1]))"
   ]
  },
  {
   "cell_type": "code",
   "execution_count": null,
   "metadata": {},
   "outputs": [],
   "source": [
    "# %matplotlib notebook\n",
    "# df_mf.avg_income_1500_walk.plot(kind='hist',bins=100)\n",
    "# plt.show()\n",
    "# print(df_mf.avg_income_1500_walk.quantile([0.10,0.5,0.9,0.99,1]))"
   ]
  },
  {
   "cell_type": "code",
   "execution_count": null,
   "metadata": {},
   "outputs": [],
   "source": [
    "#%matplotlib notebook\n",
    "#(df_mf.prop_black_500_walk).plot(kind='hist',bins=100)\n",
    "#(df_mf.prop_asian_500_walk).plot(kind='hist',bins=100)\n",
    "#(df_mf.prop_white_500_walk).plot(kind='hist',bins=100)\n",
    "#(df_mf.prop_hisp_500_walk).plot(kind='hist',bins=100)\n"
   ]
  },
  {
   "cell_type": "markdown",
   "metadata": {},
   "source": [
    "### Check for Multicollinearity"
   ]
  },
  {
   "cell_type": "code",
   "execution_count": null,
   "metadata": {},
   "outputs": [],
   "source": [
    "# %matplotlib inline\n",
    "# plt.subplots(figsize=(20, 20))\n",
    "\n",
    "\n",
    "# # Create correlation matrix\n",
    "# corr_matrix = df_sf.corr().abs()\n",
    "\n",
    "# # Select upper triangle of correlation matrix\n",
    "# upper = corr_matrix.where(np.triu(np.ones(corr_matrix.shape), k=1).astype(np.bool))\n",
    "# high_corr = [column for column in upper.columns if any(upper[column] > 0.98)]\n",
    "# X= df_sf[high_corr]\n",
    "# sns.heatmap(X.corr(), annot=True, cmap=\"RdYlGn\")"
   ]
  },
  {
   "cell_type": "code",
   "execution_count": null,
   "metadata": {},
   "outputs": [],
   "source": [
    "# %matplotlib inline\n",
    "# plt.subplots(figsize=(20, 20))\n",
    "\n",
    "# corr_matrix = df_mf.corr()\n",
    "\n",
    "# upper = corr_matrix.where(np.triu(np.ones(corr_matrix.shape), k=1).astype(np.bool))\n",
    "# high_corr = [column for column in upper.columns if any(upper[column] > 0.95)]\n",
    "# X= df_mf[high_corr]\n",
    "# plt.subplots(figsize=(20, 20))\n",
    "# sns.heatmap(X.corr(), annot=True, cmap=\"RdYlGn\")"
   ]
  },
  {
   "cell_type": "code",
   "execution_count": null,
   "metadata": {
    "scrolled": false
   },
   "outputs": [],
   "source": [
    "%matplotlib inline\n",
    "\n",
    "selected_features = ['residential_units','res_price_per_sqft', 'pop_1500_walk', 'jobs_1500_walk',\n",
    "                     'prop_singles_500_walk','prop_elderly_500_walk','prop_children_500_walk',\n",
    "                     'avg_income_1500_walk', 'sqft_per_unit',\n",
    "                     'jobs_25000','prop_white_500_walk','prop_black_500_walk','prop_asian_500_walk',\n",
    "                     'prop_hisp_500_walk','prop_rich_500_walk','prop_poor_500_walk']\n",
    "\n",
    "X = df_mf[selected_features]\n",
    "\n",
    "plt.subplots(figsize=(12, 12))\n",
    "sns.heatmap(X.corr(), annot=True, cmap=\"RdYlGn\")\n",
    "plt.show()"
   ]
  },
  {
   "cell_type": "markdown",
   "metadata": {},
   "source": [
    "# Model Estimation"
   ]
  },
  {
   "cell_type": "markdown",
   "metadata": {},
   "source": [
    "## Large Choice Set Single-Family "
   ]
  },
  {
   "cell_type": "code",
   "execution_count": 110,
   "metadata": {
    "scrolled": false
   },
   "outputs": [
    {
     "name": "stdout",
     "output_type": "stream",
     "text": [
      "                  CHOICEMODELS ESTIMATION RESULTS                  \n",
      "===================================================================\n",
      "Dep. Var.:                chosen   No. Observations:         15,768\n",
      "Model:         Multinomial Logit   Df Residuals:             15,754\n",
      "Method:       Maximum Likelihood   Df Model:                     14\n",
      "Date:                 2018-07-23   Pseudo R-squ.:             0.135\n",
      "Time:                      22:51   Pseudo R-bar-squ.:         0.134\n",
      "AIC:                 106,793.525   Log-Likelihood:      -53,382.762\n",
      "BIC:                 106,900.845   LL-Null:             -61,684.779\n",
      "=======================================================================================\n",
      "                                        coef   std err         z     P>|z|   Conf. Int.\n",
      "---------------------------------------------------------------------------------------\n",
      "np.log1p(rent_sqft)                  -8.5264     0.151   -56.480     0.000             \n",
      "np.log(income):np.log1p(rent_sqft)    0.6917     0.013    53.173     0.000             \n",
      "persons:np.log1p(sqft_per_unit)       0.0201     0.002     9.262     0.000             \n",
      "np.log1p(income):np.log1p(acres)     -0.0297     0.002   -12.335     0.000             \n",
      "pop_jobs_ratio_25000                  0.2120     0.006    38.428     0.000             \n",
      "persons:avg_hhs_500_walk              0.1675     0.005    35.615     0.000             \n",
      "rich:prop_rich_500_walk              10.1362     0.131    77.464     0.000             \n",
      "poor:prop_poor_500_walk               5.1403     0.234    21.961     0.000             \n",
      "single:prop_singles_500_walk          3.5254     0.103    34.314     0.000             \n",
      "elderly:prop_elderly_500_walk         6.7914     0.101    66.986     0.000             \n",
      "white:prop_white_500_walk             2.8619     0.029    99.916     0.000             \n",
      "black:prop_black_500_walk             8.6822     0.170    51.009     0.000             \n",
      "asian:prop_asian_500_walk             2.7763     0.056    49.917     0.000             \n",
      "hispanic:prop_hisp_500_walk           3.9764     0.070    56.718     0.000             \n",
      "=======================================================================================\n",
      "CPU times: user 1min 52s, sys: 27.8 s, total: 2min 20s\n",
      "Wall time: 48.7 s\n"
     ]
    }
   ],
   "source": [
    "%%time\n",
    "m1 = LargeMultinomialLogitStep()\n",
    "m1.choosers = ['households']\n",
    "m1.alternatives = ['buildings','parcels','nodeswalk','nodessmall']\n",
    "m1.choice_column = 'building_id'\n",
    "m1.alt_sample_size = 50\n",
    "\n",
    "#Filters on choosers\n",
    "m1.chooser_filters = ['building_type == 2 & recent_mover == 1 & 0 <income < 1000000']\n",
    "\n",
    "#Filters on alternatives\n",
    "m1.alt_filters = ['residential_units == 1',\n",
    "                 '0 < avg_income_500_walk < 500000',\n",
    "                 'sqft_per_unit > 0']\n",
    "\n",
    "\n",
    "m1.model_expression = ' \\\n",
    "np.log1p(rent_sqft) + \\\n",
    "np.log(income):np.log1p(rent_sqft) + \\\n",
    "np.log1p(acres) + \\\n",
    "pop_jobs_ratio_25000 + \\\n",
    "persons:avg_hhs_500_walk + \\\n",
    "rich:prop_rich_500_walk + \\\n",
    "poor:prop_poor_500_walk + \\\n",
    "single:prop_singles_500_walk + \\\n",
    "elderly:prop_elderly_500_walk + \\\n",
    "white:prop_white_500_walk + \\\n",
    "black:prop_black_500_walk + \\\n",
    "asian:prop_asian_500_walk + \\\n",
    "hispanic:prop_hisp_500_walk\\\n",
    "- 1'\n",
    "\n",
    "m1.name = 'hlcm'\n",
    "m1.tags = ['single_family', 'test']\n",
    "m1.fit()"
   ]
  },
  {
   "cell_type": "code",
   "execution_count": null,
   "metadata": {},
   "outputs": [],
   "source": [
    "len(m1._get_df(tables=m.choosers, filters=m.chooser_filters))"
   ]
  },
  {
   "cell_type": "markdown",
   "metadata": {},
   "source": [
    "## Large Choice Set Multi-Family "
   ]
  },
  {
   "cell_type": "code",
   "execution_count": 94,
   "metadata": {
    "scrolled": false
   },
   "outputs": [
    {
     "name": "stdout",
     "output_type": "stream",
     "text": [
      "                  CHOICEMODELS ESTIMATION RESULTS                  \n",
      "===================================================================\n",
      "Dep. Var.:                chosen   No. Observations:         23,680\n",
      "Model:         Multinomial Logit   Df Residuals:             23,664\n",
      "Method:       Maximum Likelihood   Df Model:                     16\n",
      "Date:                 2018-07-23   Pseudo R-squ.:             0.414\n",
      "Time:                      22:07   Pseudo R-bar-squ.:         0.414\n",
      "AIC:                 108,588.166   Log-Likelihood:      -54,278.083\n",
      "BIC:                 108,717.324   LL-Null:             -92,636.705\n",
      "=========================================================================================\n",
      "                                          coef   std err         z     P>|z|   Conf. Int.\n",
      "-----------------------------------------------------------------------------------------\n",
      "np.log(residential_units)               1.1641     0.006   197.515     0.000             \n",
      "yrblt_2000:np.log(residential_units)   -0.0684     0.007    -9.961     0.000             \n",
      "year_built                              0.0071     0.000    86.323     0.000             \n",
      "np.log1p(rent_sqft)                    -5.9126     0.107   -55.322     0.000             \n",
      "np.log(income):np.log1p(rent_sqft)      0.5593     0.008    67.082     0.000             \n",
      "persons:np.log1p(sqft_per_unit)        -0.0025     0.001    -1.901     0.057             \n",
      "np.log1p(units_500_walk)                0.1999     0.009    21.048     0.000             \n",
      "np.log1p(jobs_25000)                    0.1190     0.015     7.931     0.000             \n",
      "rich:prop_rich_500_walk                 9.2575     0.174    53.333     0.000             \n",
      "poor:prop_poor_500_walk                 7.0736     0.137    51.514     0.000             \n",
      "single:prop_singles_500_walk            3.6742     0.058    63.762     0.000             \n",
      "elderly:prop_elderly_500_walk           5.4263     0.158    34.409     0.000             \n",
      "white:prop_white_500_walk               1.6995     0.031    54.306     0.000             \n",
      "black:prop_black_500_walk               8.4421     0.183    46.186     0.000             \n",
      "asian:prop_asian_500_walk               3.9701     0.046    86.198     0.000             \n",
      "hispanic:prop_hisp_500_walk             5.0661     0.063    80.473     0.000             \n",
      "=========================================================================================\n",
      "CPU times: user 7min 44s, sys: 45.8 s, total: 8min 29s\n",
      "Wall time: 1min 55s\n"
     ]
    }
   ],
   "source": [
    "%%time\n",
    "m2 = LargeMultinomialLogitStep()\n",
    "m2.choosers = ['households']\n",
    "m2.alternatives = ['buildings','parcels','nodeswalk','nodessmall']\n",
    "m2.choice_column = 'building_id'\n",
    "m2.alt_sample_size = 50\n",
    "\n",
    "#Filters on choosers\n",
    "m2.chooser_filters = ['building_type > 2 &\\\n",
    "                      recent_mover == 1 &\\\n",
    "                      hh_random < .5 & \\\n",
    "                      persons < 8 & \\\n",
    "                      workers < 4 & \\\n",
    "                      0 <income < 500000']\n",
    "\n",
    "#Filters on alternatives\n",
    "m2.alt_filters = ['residential_units > 1',\n",
    "                 '0 < avg_income_500_walk < 500000',\n",
    "                 '0 < rent_sqft < 1000',\n",
    "                 'pop_1500_walk > 0',\n",
    "                 'res_price_per_sqft < 1500',\n",
    "                 'res_sqft_per_unit < 6000',\n",
    "                 'residential_units < 1000',\n",
    "                 'sqft_per_unit > 0']\n",
    "\n",
    "\n",
    "m2.model_expression = ' np.log(residential_units) + \\\n",
    "yrblt_2000:np.log(residential_units) + \\\n",
    "year_built + \\\n",
    "np.log1p(rent_sqft) + \\\n",
    "np.log(income):np.log1p(rent_sqft) + \\\n",
    "persons:np.log1p(sqft_per_unit) + \\\n",
    "np.log1p(units_500_walk) + \\\n",
    "np.log1p(jobs_25000) + \\\n",
    "rich:prop_rich_500_walk + \\\n",
    "poor:prop_poor_500_walk + \\\n",
    "single:prop_singles_500_walk + \\\n",
    "elderly:prop_elderly_500_walk + \\\n",
    "white:prop_white_500_walk + \\\n",
    "black:prop_black_500_walk + \\\n",
    "asian:prop_asian_500_walk + \\\n",
    "hispanic:prop_hisp_500_walk\\\n",
    "- 1'\n",
    "\n",
    "m2.name = 'hlcm'\n",
    "m2.tags = ['multi_family','test']\n",
    "m2.fit()"
   ]
  },
  {
   "cell_type": "code",
   "execution_count": null,
   "metadata": {},
   "outputs": [],
   "source": [
    "len(m2._get_df(tables=m2.choosers, filters=m2.chooser_filters))"
   ]
  },
  {
   "cell_type": "markdown",
   "metadata": {},
   "source": [
    "## Constrained Choice Set Single_Family"
   ]
  },
  {
   "cell_type": "code",
   "execution_count": 114,
   "metadata": {},
   "outputs": [
    {
     "name": "stdout",
     "output_type": "stream",
     "text": [
      "                  CHOICEMODELS ESTIMATION RESULTS                  \n",
      "===================================================================\n",
      "Dep. Var.:                chosen   No. Observations:         22,458\n",
      "Model:         Multinomial Logit   Df Residuals:             22,444\n",
      "Method:       Maximum Likelihood   Df Model:                     14\n",
      "Date:                 2018-07-23   Pseudo R-squ.:             0.109\n",
      "Time:                      23:01   Pseudo R-bar-squ.:         0.109\n",
      "AIC:                 156,549.511   Log-Likelihood:      -78,260.755\n",
      "BIC:                 156,661.782   LL-Null:             -87,856.213\n",
      "=======================================================================================\n",
      "                                        coef   std err         z     P>|z|   Conf. Int.\n",
      "---------------------------------------------------------------------------------------\n",
      "np.log1p(rent_sqft)                  -9.5401     0.136   -70.120     0.000             \n",
      "np.log(income):np.log1p(rent_sqft)    0.7963     0.011    72.615     0.000             \n",
      "np.log(acres)                         0.0570     0.006     9.349     0.000             \n",
      "pop_jobs_ratio_25000                  0.0420     0.006     6.928     0.000             \n",
      "np.log(jobs_25000 + 1)                0.0701     0.005    14.137     0.000             \n",
      "persons:avg_hhs_500_walk              0.0907     0.001    61.331     0.000             \n",
      "rich:prop_rich_500_walk               7.1459     0.117    61.244     0.000             \n",
      "poor:prop_poor_500_walk               6.1493     0.184    33.473     0.000             \n",
      "single:prop_singles_500_walk          4.6780     0.083    56.597     0.000             \n",
      "elderly:prop_elderly_500_walk         6.5009     0.091    71.810     0.000             \n",
      "white:prop_white_500_walk             2.2403     0.024    94.518     0.000             \n",
      "black:prop_black_500_walk             9.0198     0.143    63.150     0.000             \n",
      "asian:prop_asian_500_walk             3.4708     0.046    75.347     0.000             \n",
      "hispanic:prop_hisp_500_walk           4.5987     0.054    84.956     0.000             \n",
      "=======================================================================================\n",
      "CPU times: user 2min 12s, sys: 28.5 s, total: 2min 41s\n",
      "Wall time: 51.3 s\n"
     ]
    }
   ],
   "source": [
    "%%time\n",
    "m3 = LargeMultinomialLogitStep()\n",
    "m3.choosers = ['households']\n",
    "m3.alternatives = ['buildings','parcels','nodeswalk','nodessmall']\n",
    "m3.choice_column = 'building_id'\n",
    "m3.alt_sample_size = 50\n",
    "\n",
    "#Filters on choosers\n",
    "m3.chooser_filters = ['building_type == 2 & recent_mover == 1 & 0 <income < 1000000']\n",
    "\n",
    "m3.alt_filters = ['sf_choice_set == 1 & sqft_per_unit > 0']\n",
    "\n",
    "# np.log(residential_units) +\n",
    "# np.log(income):np.log(avg_income_500_walk) + \\\n",
    "# np.log1p(income):np.log1p(rich_1500_walk) + \\\n",
    "# np.log1p(income):np.log1p(poor_1500_walk) + \\\n",
    "# np.log1p(persons):np.log1p(sqft_per_unit) + \\\n",
    "\n",
    "#np.log1p(res_price_per_sqft) + \\\n",
    "#np.log1p(income):np.log1p(res_price_per_sqft) + \\\n",
    "\n",
    "\n",
    "m3.model_expression = ' \\\n",
    "np.log1p(rent_sqft) + \\\n",
    "np.log(income):np.log1p(rent_sqft) + \\\n",
    "np.log(acres) + \\\n",
    "pop_jobs_ratio_25000 + \\\n",
    "np.log(jobs_25000+1) + \\\n",
    "persons:avg_hhs_500_walk + \\\n",
    "rich:prop_rich_500_walk + \\\n",
    "poor:prop_poor_500_walk + \\\n",
    "single:prop_singles_500_walk + \\\n",
    "elderly:prop_elderly_500_walk + \\\n",
    "white:prop_white_500_walk + \\\n",
    "black:prop_black_500_walk + \\\n",
    "asian:prop_asian_500_walk + \\\n",
    "hispanic:prop_hisp_500_walk\\\n",
    "- 1'\n",
    "\n",
    "m3.name = 'hlcm'\n",
    "m3.tags = ['single_family', 'test']\n",
    "m3.fit()"
   ]
  },
  {
   "cell_type": "code",
   "execution_count": null,
   "metadata": {},
   "outputs": [],
   "source": [
    "len(m3._get_df(tables=m3.choosers, filters=m3.chooser_filters))"
   ]
  },
  {
   "cell_type": "markdown",
   "metadata": {},
   "source": [
    "## Constrained Choice Set Multi_Family"
   ]
  },
  {
   "cell_type": "code",
   "execution_count": 83,
   "metadata": {},
   "outputs": [
    {
     "data": {
      "text/plain": [
       "['buildings', 'parcels', 'nodessmall', 'nodeswalk']"
      ]
     },
     "execution_count": 83,
     "metadata": {},
     "output_type": "execute_result"
    }
   ],
   "source": [
    "mrent = mm.get_step('hedonic_rent_sqft')\n",
    "mrent.tables = ['buildings', 'parcels', 'nodessmall', 'nodeswalk']\n",
    "mrent.filters = ['residential_units > 0']\n",
    "mrent.out_column = 'rent_sqft'\n",
    "mrent.tables"
   ]
  },
  {
   "cell_type": "code",
   "execution_count": 84,
   "metadata": {},
   "outputs": [
    {
     "data": {
      "text/plain": [
       "<orca.orca.DataFrameWrapper at 0x1c1ffa6c50>"
      ]
     },
     "execution_count": 84,
     "metadata": {},
     "output_type": "execute_result"
    }
   ],
   "source": [
    "bld = orca.get_table('buildings').to_frame()\n",
    "bld['rent_sqft'] = 0\n",
    "orca.add_table('buildings', bld)"
   ]
  },
  {
   "cell_type": "code",
   "execution_count": 85,
   "metadata": {},
   "outputs": [],
   "source": [
    "mrent.run()"
   ]
  },
  {
   "cell_type": "code",
   "execution_count": 101,
   "metadata": {
    "scrolled": false
   },
   "outputs": [
    {
     "name": "stdout",
     "output_type": "stream",
     "text": [
      "                  CHOICEMODELS ESTIMATION RESULTS                  \n",
      "===================================================================\n",
      "Dep. Var.:                chosen   No. Observations:         24,581\n",
      "Model:         Multinomial Logit   Df Residuals:             24,565\n",
      "Method:       Maximum Likelihood   Df Model:                     16\n",
      "Date:                 2018-07-23   Pseudo R-squ.:             0.132\n",
      "Time:                      22:21   Pseudo R-bar-squ.:         0.132\n",
      "AIC:                 166,885.520   Log-Likelihood:      -83,426.760\n",
      "BIC:                 167,015.276   LL-Null:             -96,161.437\n",
      "=========================================================================================\n",
      "                                          coef   std err         z     P>|z|   Conf. Int.\n",
      "-----------------------------------------------------------------------------------------\n",
      "np.log(residential_units)               0.4389     0.004    99.372     0.000             \n",
      "yrblt_2000:np.log(residential_units)    0.0429     0.005     9.200     0.000             \n",
      "year_built                             -0.0013     0.000   -17.156     0.000             \n",
      "np.log1p(rent_sqft)                    -5.0715     0.094   -54.076     0.000             \n",
      "np.log(income):np.log1p(rent_sqft)      0.4214     0.007    57.380     0.000             \n",
      "persons:np.log1p(sqft_per_unit)         0.0275     0.001    23.341     0.000             \n",
      "np.log1p(units_500_walk)                0.0267     0.009     3.098     0.002             \n",
      "np.log1p(jobs_25000)                    0.0226     0.013     1.694     0.090             \n",
      "rich:prop_rich_500_walk                 9.8770     0.145    68.294     0.000             \n",
      "poor:prop_poor_500_walk                 4.2851     0.122    35.202     0.000             \n",
      "single:prop_singles_500_walk            2.6425     0.048    54.672     0.000             \n",
      "elderly:prop_elderly_500_walk           5.4875     0.125    43.929     0.000             \n",
      "white:prop_white_500_walk               1.8109     0.028    65.472     0.000             \n",
      "black:prop_black_500_walk               8.6337     0.153    56.524     0.000             \n",
      "asian:prop_asian_500_walk               3.6861     0.039    93.667     0.000             \n",
      "hispanic:prop_hisp_500_walk             4.6650     0.056    82.962     0.000             \n",
      "=========================================================================================\n",
      "CPU times: user 5min 58s, sys: 42.7 s, total: 6min 40s\n",
      "Wall time: 1min 34s\n"
     ]
    }
   ],
   "source": [
    "%%time\n",
    "m4 = LargeMultinomialLogitStep()\n",
    "m4.choosers = ['households']\n",
    "m4.alternatives = ['buildings','parcels','nodeswalk','nodessmall']\n",
    "m4.choice_column = 'building_id'\n",
    "m4.alt_sample_size = 50\n",
    "\n",
    "#Filters on choosers\n",
    "m4.chooser_filters = ['building_type > 2 & \\\n",
    "                      hh_random < .5 & \\\n",
    "                      recent_mover == 1 & \\\n",
    "                      persons < 8 & \\\n",
    "                      workers < 4 & \\\n",
    "                      0 <income < 500000']\n",
    "\n",
    "#Filters on alternatives\n",
    "m4.alt_filters = ['residential_units > 1',\n",
    "                 '0 < avg_income_500_walk < 500000',\n",
    "                 '0 < rent_sqft < 1000',\n",
    "                 'res_sqft_per_unit < 6000',\n",
    "                  'sqft_per_unit > 0',\n",
    "                  'residential_units < 1000',\n",
    "                 'mf_choice_set == 1']\n",
    "\n",
    "m4.model_expression = ' np.log(residential_units) + \\\n",
    "yrblt_2000:np.log(residential_units) + \\\n",
    "year_built + \\\n",
    "np.log1p(rent_sqft) + \\\n",
    "np.log(income):np.log1p(rent_sqft) + \\\n",
    "persons:np.log1p(sqft_per_unit) + \\\n",
    "np.log1p(units_500_walk) + \\\n",
    "np.log1p(jobs_25000) + \\\n",
    "rich:prop_rich_500_walk + \\\n",
    "poor:prop_poor_500_walk + \\\n",
    "single:prop_singles_500_walk + \\\n",
    "elderly:prop_elderly_500_walk + \\\n",
    "white:prop_white_500_walk + \\\n",
    "black:prop_black_500_walk + \\\n",
    "asian:prop_asian_500_walk + \\\n",
    "hispanic:prop_hisp_500_walk\\\n",
    "- 1'\n",
    "\n",
    "m4.name = 'hlcm'\n",
    "m4.tags = ['multi_family','test']\n",
    "m4.fit()"
   ]
  },
  {
   "cell_type": "code",
   "execution_count": 50,
   "metadata": {},
   "outputs": [],
   "source": [
    "tmp = m4.mergedchoicetable.to_frame()"
   ]
  },
  {
   "cell_type": "code",
   "execution_count": 51,
   "metadata": {
    "scrolled": true
   },
   "outputs": [
    {
     "data": {
      "text/html": [
       "<div>\n",
       "<style scoped>\n",
       "    .dataframe tbody tr th:only-of-type {\n",
       "        vertical-align: middle;\n",
       "    }\n",
       "\n",
       "    .dataframe tbody tr th {\n",
       "        vertical-align: top;\n",
       "    }\n",
       "\n",
       "    .dataframe thead th {\n",
       "        text-align: right;\n",
       "    }\n",
       "</style>\n",
       "<table border=\"1\" class=\"dataframe\">\n",
       "  <thead>\n",
       "    <tr style=\"text-align: right;\">\n",
       "      <th></th>\n",
       "      <th>building_id</th>\n",
       "      <th>parcel_id</th>\n",
       "      <th>development_type_id</th>\n",
       "      <th>improvement_value</th>\n",
       "      <th>residential_units</th>\n",
       "      <th>residential_sqft</th>\n",
       "      <th>sqft_per_unit</th>\n",
       "      <th>non_residential_sqft</th>\n",
       "      <th>building_sqft</th>\n",
       "      <th>nonres_rent_per_sqft</th>\n",
       "      <th>...</th>\n",
       "      <th>black</th>\n",
       "      <th>asian</th>\n",
       "      <th>hispanic</th>\n",
       "      <th>elderly</th>\n",
       "      <th>rich</th>\n",
       "      <th>poor</th>\n",
       "      <th>has_children</th>\n",
       "      <th>single</th>\n",
       "      <th>hh_random</th>\n",
       "      <th>chosen</th>\n",
       "    </tr>\n",
       "  </thead>\n",
       "  <tbody>\n",
       "    <tr>\n",
       "      <th>0</th>\n",
       "      <td>1579650</td>\n",
       "      <td>1546676</td>\n",
       "      <td>2.00</td>\n",
       "      <td>149975.00</td>\n",
       "      <td>15.00</td>\n",
       "      <td>21225.00</td>\n",
       "      <td>1415.00</td>\n",
       "      <td>0.00</td>\n",
       "      <td>21225.00</td>\n",
       "      <td>0.00</td>\n",
       "      <td>...</td>\n",
       "      <td>0</td>\n",
       "      <td>1</td>\n",
       "      <td>0</td>\n",
       "      <td>0</td>\n",
       "      <td>0</td>\n",
       "      <td>1</td>\n",
       "      <td>0</td>\n",
       "      <td>1</td>\n",
       "      <td>0.40</td>\n",
       "      <td>1</td>\n",
       "    </tr>\n",
       "    <tr>\n",
       "      <th>1</th>\n",
       "      <td>270503</td>\n",
       "      <td>901308</td>\n",
       "      <td>5.00</td>\n",
       "      <td>379418.00</td>\n",
       "      <td>20.00</td>\n",
       "      <td>15600.00</td>\n",
       "      <td>780.00</td>\n",
       "      <td>280000.00</td>\n",
       "      <td>295600.00</td>\n",
       "      <td>0.00</td>\n",
       "      <td>...</td>\n",
       "      <td>0</td>\n",
       "      <td>1</td>\n",
       "      <td>0</td>\n",
       "      <td>0</td>\n",
       "      <td>0</td>\n",
       "      <td>1</td>\n",
       "      <td>0</td>\n",
       "      <td>1</td>\n",
       "      <td>0.40</td>\n",
       "      <td>0</td>\n",
       "    </tr>\n",
       "    <tr>\n",
       "      <th>2</th>\n",
       "      <td>1522955</td>\n",
       "      <td>1363054</td>\n",
       "      <td>2.00</td>\n",
       "      <td>6031218.20</td>\n",
       "      <td>42.00</td>\n",
       "      <td>56784.00</td>\n",
       "      <td>1352.00</td>\n",
       "      <td>0.00</td>\n",
       "      <td>56784.00</td>\n",
       "      <td>0.00</td>\n",
       "      <td>...</td>\n",
       "      <td>0</td>\n",
       "      <td>1</td>\n",
       "      <td>0</td>\n",
       "      <td>0</td>\n",
       "      <td>0</td>\n",
       "      <td>1</td>\n",
       "      <td>0</td>\n",
       "      <td>1</td>\n",
       "      <td>0.40</td>\n",
       "      <td>0</td>\n",
       "    </tr>\n",
       "    <tr>\n",
       "      <th>3</th>\n",
       "      <td>35024</td>\n",
       "      <td>111489</td>\n",
       "      <td>2.00</td>\n",
       "      <td>172252.00</td>\n",
       "      <td>5.00</td>\n",
       "      <td>5407.00</td>\n",
       "      <td>1081.50</td>\n",
       "      <td>0.00</td>\n",
       "      <td>5407.50</td>\n",
       "      <td>0.00</td>\n",
       "      <td>...</td>\n",
       "      <td>0</td>\n",
       "      <td>1</td>\n",
       "      <td>0</td>\n",
       "      <td>0</td>\n",
       "      <td>0</td>\n",
       "      <td>1</td>\n",
       "      <td>0</td>\n",
       "      <td>1</td>\n",
       "      <td>0.40</td>\n",
       "      <td>0</td>\n",
       "    </tr>\n",
       "    <tr>\n",
       "      <th>4</th>\n",
       "      <td>1185455</td>\n",
       "      <td>406039</td>\n",
       "      <td>2.00</td>\n",
       "      <td>4032000.00</td>\n",
       "      <td>37.00</td>\n",
       "      <td>32301.00</td>\n",
       "      <td>873.00</td>\n",
       "      <td>0.00</td>\n",
       "      <td>32301.00</td>\n",
       "      <td>0.00</td>\n",
       "      <td>...</td>\n",
       "      <td>0</td>\n",
       "      <td>1</td>\n",
       "      <td>0</td>\n",
       "      <td>0</td>\n",
       "      <td>0</td>\n",
       "      <td>1</td>\n",
       "      <td>0</td>\n",
       "      <td>1</td>\n",
       "      <td>0.40</td>\n",
       "      <td>0</td>\n",
       "    </tr>\n",
       "  </tbody>\n",
       "</table>\n",
       "<p>5 rows × 170 columns</p>\n",
       "</div>"
      ],
      "text/plain": [
       "   building_id  parcel_id  development_type_id  improvement_value  \\\n",
       "0      1579650    1546676                 2.00          149975.00   \n",
       "1       270503     901308                 5.00          379418.00   \n",
       "2      1522955    1363054                 2.00         6031218.20   \n",
       "3        35024     111489                 2.00          172252.00   \n",
       "4      1185455     406039                 2.00         4032000.00   \n",
       "\n",
       "   residential_units  residential_sqft  sqft_per_unit  non_residential_sqft  \\\n",
       "0              15.00          21225.00        1415.00                  0.00   \n",
       "1              20.00          15600.00         780.00             280000.00   \n",
       "2              42.00          56784.00        1352.00                  0.00   \n",
       "3               5.00           5407.00        1081.50                  0.00   \n",
       "4              37.00          32301.00         873.00                  0.00   \n",
       "\n",
       "   building_sqft  nonres_rent_per_sqft   ...    black  asian  hispanic  \\\n",
       "0       21225.00                  0.00   ...        0      1         0   \n",
       "1      295600.00                  0.00   ...        0      1         0   \n",
       "2       56784.00                  0.00   ...        0      1         0   \n",
       "3        5407.50                  0.00   ...        0      1         0   \n",
       "4       32301.00                  0.00   ...        0      1         0   \n",
       "\n",
       "   elderly  rich poor has_children single  hh_random  chosen  \n",
       "0        0     0    1            0      1       0.40       1  \n",
       "1        0     0    1            0      1       0.40       0  \n",
       "2        0     0    1            0      1       0.40       0  \n",
       "3        0     0    1            0      1       0.40       0  \n",
       "4        0     0    1            0      1       0.40       0  \n",
       "\n",
       "[5 rows x 170 columns]"
      ]
     },
     "execution_count": 51,
     "metadata": {},
     "output_type": "execute_result"
    }
   ],
   "source": [
    "tmp.head()"
   ]
  },
  {
   "cell_type": "code",
   "execution_count": 26,
   "metadata": {},
   "outputs": [
    {
     "data": {
      "text/plain": [
       "(1304600, 170)"
      ]
     },
     "execution_count": 26,
     "metadata": {},
     "output_type": "execute_result"
    }
   ],
   "source": [
    "tmp.shape"
   ]
  },
  {
   "cell_type": "code",
   "execution_count": 27,
   "metadata": {},
   "outputs": [
    {
     "data": {
      "text/plain": [
       "26092.0"
      ]
     },
     "execution_count": 27,
     "metadata": {},
     "output_type": "execute_result"
    }
   ],
   "source": [
    "tmp.shape[0]/50"
   ]
  },
  {
   "cell_type": "code",
   "execution_count": 28,
   "metadata": {},
   "outputs": [
    {
     "data": {
      "text/plain": [
       "38342"
      ]
     },
     "execution_count": 28,
     "metadata": {},
     "output_type": "execute_result"
    }
   ],
   "source": [
    "len(m4._get_df(tables=m4.choosers, filters=m4.chooser_filters))"
   ]
  },
  {
   "cell_type": "code",
   "execution_count": 52,
   "metadata": {},
   "outputs": [],
   "source": [
    "chosen = tmp[tmp['chosen']==1]"
   ]
  },
  {
   "cell_type": "code",
   "execution_count": 55,
   "metadata": {},
   "outputs": [],
   "source": [
    "tmp_d = chosen.describe().transpose()"
   ]
  },
  {
   "cell_type": "code",
   "execution_count": 60,
   "metadata": {},
   "outputs": [
    {
     "name": "stdout",
     "output_type": "stream",
     "text": [
      "building_id                  1834225.00\n",
      "parcel_id                    2054457.00\n",
      "development_type_id               24.00\n",
      "improvement_value          399670613.00\n",
      "residential_units                991.00\n",
      "residential_sqft             1850486.00\n",
      "sqft_per_unit                   5999.00\n",
      "non_residential_sqft          542743.00\n",
      "building_sqft                1850486.00\n",
      "nonres_rent_per_sqft              31.96\n",
      "res_price_per_sqft              1498.24\n",
      "stories                           27.00\n",
      "year_built                      2015.00\n",
      "redfin_sale_price          115000000.00\n",
      "redfin_sale_year                2014.00\n",
      "building_type_id                  16.00\n",
      "res_sqft_per_unit               5999.00\n",
      "single_family                      1.00\n",
      "multi_family                       1.00\n",
      "mixed_use                          1.00\n",
      "two_four_stories                   1.00\n",
      "five_six_stories                   1.00\n",
      "yrblt_2000                         1.00\n",
      "sf_choice_set                      1.00\n",
      "mf_choice_set                      1.00\n",
      "two_four_new                       1.00\n",
      "five_six_new                       1.00\n",
      "sevenplus_new                      1.00\n",
      "three_plus_stories                 1.00\n",
      "land_value                 265527782.00\n",
      "                             ...       \n",
      "avg_rent_25000                  3774.14\n",
      "pop_white_25000               897961.75\n",
      "pop_black_25000               186097.50\n",
      "pop_asian_25000               664177.00\n",
      "pop_hisp_25000                345586.00\n",
      "observation_id               2676112.00\n",
      "serialno               2013001492492.00\n",
      "persons                            7.00\n",
      "building_type                     10.00\n",
      "cars                               6.00\n",
      "income                        497200.00\n",
      "race_of_head                       9.00\n",
      "age_of_head                       94.00\n",
      "workers                            3.00\n",
      "children                           6.00\n",
      "tenure                             2.00\n",
      "recent_mover                       1.00\n",
      "unit_id                      2781482.00\n",
      "income_k                         497.20\n",
      "white                              1.00\n",
      "black                              1.00\n",
      "asian                              1.00\n",
      "hispanic                           1.00\n",
      "elderly                            1.00\n",
      "rich                               1.00\n",
      "poor                               1.00\n",
      "has_children                       1.00\n",
      "single                             1.00\n",
      "hh_random                          0.50\n",
      "chosen                             1.00\n",
      "Name: max, Length: 156, dtype: float64\n"
     ]
    }
   ],
   "source": [
    "print(tmp_d['max'])"
   ]
  },
  {
   "cell_type": "code",
   "execution_count": null,
   "metadata": {},
   "outputs": [],
   "source": []
  }
 ],
 "metadata": {
  "kernelspec": {
   "display_name": "Python 3",
   "language": "python",
   "name": "python3"
  },
  "language_info": {
   "codemirror_mode": {
    "name": "ipython",
    "version": 3
   },
   "file_extension": ".py",
   "mimetype": "text/x-python",
   "name": "python",
   "nbconvert_exporter": "python",
   "pygments_lexer": "ipython3",
   "version": "3.6.5"
  },
  "toc": {
   "base_numbering": "1",
   "nav_menu": {},
   "number_sections": true,
   "sideBar": true,
   "skip_h1_title": true,
   "title_cell": "Table of Contents",
   "title_sidebar": "Contents",
   "toc_cell": true,
   "toc_position": {
    "height": "calc(100% - 180px)",
    "left": "10px",
    "top": "150px",
    "width": "165px"
   },
   "toc_section_display": true,
   "toc_window_display": true
  }
 },
 "nbformat": 4,
 "nbformat_minor": 2
}
