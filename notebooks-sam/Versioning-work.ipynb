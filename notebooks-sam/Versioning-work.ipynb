{
 "cells": [
  {
   "cell_type": "markdown",
   "metadata": {},
   "source": [
    "# Work for versioning\n",
    "\n",
    "Sam Maurer, May 2018 | Python 3.6\n",
    "\n",
    "Stored model step instances should include both the model manager codebase version (at the file level) and the template codebase version (at the model step level). \n",
    "\n",
    "The rationale for this is that eventually we'll need/want to make changes that introduce incompatibilities with older versions of saved model steps. Tracking version numbers will help us identify deal with (convert, warn, etc) old saved model steps."
   ]
  },
  {
   "cell_type": "code",
   "execution_count": 1,
   "metadata": {
    "collapsed": true
   },
   "outputs": [],
   "source": [
    "import os; os.chdir('../')"
   ]
  },
  {
   "cell_type": "code",
   "execution_count": 2,
   "metadata": {
    "collapsed": false
   },
   "outputs": [
    {
     "name": "stderr",
     "output_type": "stream",
     "text": [
      "/Users/maurer/anaconda/lib/python3.6/site-packages/statsmodels/compat/pandas.py:56: FutureWarning: The pandas.core.datetools module is deprecated and will be removed in a future version. Please use the pandas.tseries module instead.\n",
      "  from pandas.core import datetools\n"
     ]
    }
   ],
   "source": [
    "from urbansim_templates import modelmanager as mm\n",
    "from urbansim_templates.models import OLSRegressionStep\n",
    "import orca"
   ]
  },
  {
   "cell_type": "code",
   "execution_count": null,
   "metadata": {
    "collapsed": true
   },
   "outputs": [],
   "source": []
  },
  {
   "cell_type": "code",
   "execution_count": 3,
   "metadata": {
    "collapsed": false
   },
   "outputs": [
    {
     "data": {
      "text/plain": [
       "[{'name': 'large-mnl-test',\n",
       "  'tags': ['sam', 'testing'],\n",
       "  'type': 'LargeMultinomialLogitStep'},\n",
       " {'name': 'model_one', 'tags': ['sam', 'testing'], 'type': 'BinaryLogitStep'},\n",
       " {'name': 'model_two', 'tags': ['sam', 'testing'], 'type': 'BinaryLogitStep'},\n",
       " {'name': 'small-mnl-test',\n",
       "  'tags': ['sam', 'testing'],\n",
       "  'type': 'SmallMultinomialLogitStep'},\n",
       " {'name': 'ols-test', 'tags': ['sam', 'testing'], 'type': 'OLSRegressionStep'}]"
      ]
     },
     "execution_count": 3,
     "metadata": {},
     "output_type": "execute_result"
    }
   ],
   "source": [
    "mm.list_steps()"
   ]
  },
  {
   "cell_type": "code",
   "execution_count": 4,
   "metadata": {
    "collapsed": true
   },
   "outputs": [],
   "source": [
    "step = mm.get_step('ols-test')"
   ]
  },
  {
   "cell_type": "code",
   "execution_count": 5,
   "metadata": {
    "collapsed": false
   },
   "outputs": [
    {
     "data": {
      "text/plain": [
       "'0.1dev1'"
      ]
     },
     "execution_count": 5,
     "metadata": {},
     "output_type": "execute_result"
    }
   ],
   "source": [
    "step.version"
   ]
  },
  {
   "cell_type": "code",
   "execution_count": 6,
   "metadata": {
    "collapsed": false
   },
   "outputs": [],
   "source": [
    "step.name = 'ols-test-2'"
   ]
  },
  {
   "cell_type": "code",
   "execution_count": 56,
   "metadata": {
    "collapsed": false
   },
   "outputs": [],
   "source": [
    "mm.add_step(step.to_dict())"
   ]
  },
  {
   "cell_type": "code",
   "execution_count": 12,
   "metadata": {
    "collapsed": false
   },
   "outputs": [],
   "source": [
    "mm.remove_step('ols-test-2')"
   ]
  },
  {
   "cell_type": "code",
   "execution_count": 7,
   "metadata": {
    "collapsed": false
   },
   "outputs": [],
   "source": [
    "step.register()"
   ]
  },
  {
   "cell_type": "code",
   "execution_count": 13,
   "metadata": {
    "collapsed": false
   },
   "outputs": [
    {
     "data": {
      "text/plain": [
       "[{'name': 'ols-test', 'tags': ['sam', 'testing'], 'type': 'OLSRegressionStep'},\n",
       " {'name': 'small-mnl-test',\n",
       "  'tags': ['sam', 'testing'],\n",
       "  'type': 'SmallMultinomialLogitStep'},\n",
       " {'name': 'model_two', 'tags': ['sam', 'testing'], 'type': 'BinaryLogitStep'},\n",
       " {'name': 'model_one', 'tags': ['sam', 'testing'], 'type': 'BinaryLogitStep'},\n",
       " {'name': 'large-mnl-test',\n",
       "  'tags': ['sam', 'testing'],\n",
       "  'type': 'LargeMultinomialLogitStep'}]"
      ]
     },
     "execution_count": 13,
     "metadata": {},
     "output_type": "execute_result"
    }
   ],
   "source": [
    "mm.list_steps()"
   ]
  },
  {
   "cell_type": "code",
   "execution_count": 10,
   "metadata": {
    "collapsed": false
   },
   "outputs": [
    {
     "data": {
      "text/plain": [
       "['ols-test',\n",
       " 'small-mnl-test',\n",
       " 'model_two',\n",
       " 'model_one',\n",
       " 'large-mnl-test',\n",
       " 'ols-test-2']"
      ]
     },
     "execution_count": 10,
     "metadata": {},
     "output_type": "execute_result"
    }
   ],
   "source": [
    "orca.list_steps()"
   ]
  },
  {
   "cell_type": "code",
   "execution_count": 15,
   "metadata": {
    "collapsed": false
   },
   "outputs": [],
   "source": [
    "step = mm.get_step('ols-test-2')"
   ]
  },
  {
   "cell_type": "code",
   "execution_count": null,
   "metadata": {
    "collapsed": true
   },
   "outputs": [],
   "source": []
  },
  {
   "cell_type": "code",
   "execution_count": null,
   "metadata": {
    "collapsed": true
   },
   "outputs": [],
   "source": []
  }
 ],
 "metadata": {
  "kernelspec": {
   "display_name": "Python 3",
   "language": "python",
   "name": "python3"
  },
  "language_info": {
   "codemirror_mode": {
    "name": "ipython",
    "version": 3
   },
   "file_extension": ".py",
   "mimetype": "text/x-python",
   "name": "python",
   "nbconvert_exporter": "python",
   "pygments_lexer": "ipython3",
   "version": "3.6.4"
  }
 },
 "nbformat": 4,
 "nbformat_minor": 2
}
