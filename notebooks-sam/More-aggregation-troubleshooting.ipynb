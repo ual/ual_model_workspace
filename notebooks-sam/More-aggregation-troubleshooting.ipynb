{
 "cells": [
  {
   "cell_type": "markdown",
   "metadata": {},
   "source": [
    "# More troubleshooting of network aggregations\n",
    "\n",
    "Sam Maurer, July 2018 - Python 3.6\n",
    "\n",
    "Confirm what's causing the -1 aggregation values"
   ]
  },
  {
   "cell_type": "code",
   "execution_count": 14,
   "metadata": {
    "collapsed": true
   },
   "outputs": [],
   "source": [
    "import numpy as np\n",
    "import orca\n",
    "import pandana as pdna\n",
    "import pandas as pd\n",
    "import os; os.chdir('..')\n",
    "from urbansim.utils import misc, networks\n",
    "import warnings;warnings.simplefilter('ignore')"
   ]
  },
  {
   "cell_type": "code",
   "execution_count": 9,
   "metadata": {},
   "outputs": [
    {
     "data": {
      "text/plain": [
       "'/Users/maurer/Dropbox/Git-mbp13/ual/urbansim_parcel_bayarea'"
      ]
     },
     "execution_count": 9,
     "metadata": {},
     "output_type": "execute_result"
    }
   ],
   "source": [
    "os.getcwd()"
   ]
  },
  {
   "cell_type": "code",
   "execution_count": 8,
   "metadata": {},
   "outputs": [
    {
     "data": {
      "text/plain": [
       "'0.3.0'"
      ]
     },
     "execution_count": 8,
     "metadata": {},
     "output_type": "execute_result"
    }
   ],
   "source": [
    "pdna.__version__"
   ]
  },
  {
   "cell_type": "code",
   "execution_count": 2,
   "metadata": {
    "collapsed": true
   },
   "outputs": [],
   "source": [
    "d = 'data/'"
   ]
  },
  {
   "cell_type": "code",
   "execution_count": 3,
   "metadata": {
    "collapsed": true
   },
   "outputs": [],
   "source": [
    "@orca.table(cache=True)\n",
    "def parcels():\n",
    "    df = pd.read_csv(\n",
    "        d + 'mtc_data_platform_format_7-6-18/' + 'parcel_attr.csv',\n",
    "#        d + 'parcels_with_nodes.csv',\n",
    "        index_col='primary_id', dtype={'primary_id': int, 'block_id':str})\n",
    "    return df\n",
    "\n",
    "@orca.table(cache=True)\n",
    "def buildings():\n",
    "    df = pd.read_csv(\n",
    "        d + 'mtc_data_platform_format_7-6-18/' + 'buildings_v2.csv',\n",
    "        index_col='building_id', dtype={'building_id': int, 'parcel_id': int})\n",
    "    df['res_sqft_per_unit'] = df['residential_sqft'] / df['residential_units']\n",
    "    df['res_sqft_per_unit'][df['res_sqft_per_unit'] == np.inf] = 0\n",
    "    return df\n",
    "\n",
    "@orca.table(cache=True)\n",
    "def units():\n",
    "    df = pd.read_csv(\n",
    "        d + 'mtc_data_platform_format_7-6-18/' + 'units_v2.csv',\n",
    "        index_col='unit_id', dtype={'unit_id': int, 'building_id': int})\n",
    "    return df\n",
    "\n",
    "@orca.table(cache=True)\n",
    "def households():\n",
    "    df = pd.read_csv(\n",
    "        d + 'mtc_data_platform_format_7-6-18/' + 'households_v2.csv',\n",
    "        index_col='household_id', dtype={\n",
    "            'househould_id': int, 'block_group_id': str, 'state': str, \n",
    "            'county': str, 'tract': str, 'block_group': str,\n",
    "            'building_id': int, 'unit_id': int})\n",
    "    return df"
   ]
  },
  {
   "cell_type": "code",
   "execution_count": 4,
   "metadata": {
    "collapsed": true
   },
   "outputs": [],
   "source": [
    "@orca.step()\n",
    "def initialize_network_walk():\n",
    "    \"\"\"\n",
    "    This will be turned into a data loading template.\n",
    "    \"\"\"\n",
    "\n",
    "    @orca.injectable('netwalk', cache=True)\n",
    "    def build_networkwalk():\n",
    "        nodeswalk = pd.read_csv(d + 'bayarea_walk_nodes.csv') \\\n",
    "            .set_index('osmid')\n",
    "        edgeswalk = pd.read_csv(d + 'bayarea_walk_edges.csv')\n",
    "        netwalk = pdna.Network(nodeswalk.x, nodeswalk.y, edgeswalk.u, \\\n",
    "                               edgeswalk.v, edgeswalk[['length']], twoway=True)\n",
    "        netwalk.precompute(2500)\n",
    "        return netwalk\n",
    "\n",
    "    parcels = orca.get_table('parcels').to_frame(columns=['x', 'y'])\n",
    "    idswalk_parcel = orca.get_injectable('netwalk').get_node_ids(parcels.x, parcels.y)\n",
    "    orca.add_column('parcels', 'node_id_walk', idswalk_parcel, cache=False)\n",
    "    orca.broadcast('nodeswalk', 'parcels', cast_index=True, onto_on='node_id_walk')\n",
    "\n",
    "#     rentals = orca.get_table('rentals').to_frame(columns=['longitude', 'latitude'])\n",
    "#     idswalk_rentals = orca.get_injectable('netwalk').get_node_ids(rentals.longitude, rentals.latitude)\n",
    "#     orca.add_column('rentals', 'node_id_walk', idswalk_rentals, cache=False)\n",
    "#     orca.broadcast('nodeswalk', 'rentals', cast_index=True, onto_on='node_id_walk')\n",
    "\n",
    "    @orca.column('buildings', 'node_id_walk')\n",
    "    def node_id(parcels, buildings):\n",
    "        return misc.reindex(parcels.node_id_walk, buildings.parcel_id)\n",
    "\n",
    "    @orca.column('units', 'node_id_walk')\n",
    "    def node_id(buildings, units):\n",
    "        return misc.reindex(buildings.node_id_walk, units.building_id)\n",
    "\n",
    "    @orca.column('households', 'node_id_walk')\n",
    "    def node_id(units, households):\n",
    "        return misc.reindex(units.node_id_walk, households.unit_id)\n",
    "\n",
    "    @orca.column('persons', 'node_id_walk')\n",
    "    def node_id(households, persons):\n",
    "        return misc.reindex(households.node_id_walk, persons.household_id)\n",
    "\n",
    "    @orca.column('jobs', 'node_id_walk')\n",
    "    def node_id(buildings, jobs):\n",
    "        return misc.reindex(buildings.node_id_walk, jobs.building_id)\n",
    "\n",
    "    # While we're at it, we can use these node_id columns to define direct broadcasts\n",
    "    # between the nodes table and lower-level ones, which speeds up merging\n",
    "\n",
    "    orca.broadcast('nodeswalk', 'units', cast_index=True, onto_on='node_id_walk')"
   ]
  },
  {
   "cell_type": "code",
   "execution_count": 5,
   "metadata": {
    "collapsed": true
   },
   "outputs": [],
   "source": [
    "@orca.step()\n",
    "def network_aggregations_walk_test(netwalk):\n",
    "    \"\"\"\n",
    "    This will be turned into a network aggregation template.\n",
    "    \"\"\"\n",
    "\n",
    "    nodeswalk = networks.from_yaml(netwalk, 'network_aggregations_walk_test.yaml')\n",
    "    nodeswalk = nodeswalk.fillna(0)\n",
    "    print(nodeswalk.describe())\n",
    "    orca.add_table('nodeswalk', nodeswalk)"
   ]
  },
  {
   "cell_type": "code",
   "execution_count": null,
   "metadata": {},
   "outputs": [],
   "source": [
    "orca.run([\"initialize_network_walk\"])"
   ]
  },
  {
   "cell_type": "code",
   "execution_count": 17,
   "metadata": {},
   "outputs": [
    {
     "name": "stdout",
     "output_type": "stream",
     "text": [
      "Running step 'network_aggregations_walk_test'\n",
      "Computing accessibility variables\n",
      "Computing pop_500_walk\n",
      "Removed 189769 rows because they contain missing values\n",
      "        pop_500_walk\n",
      "count  619889.000000\n",
      "mean      561.022034\n",
      "std       908.448853\n",
      "min         0.000000\n",
      "25%        11.000000\n",
      "50%       224.000000\n",
      "75%       770.000000\n",
      "max     20222.000000\n",
      "Time to execute step 'network_aggregations_walk_test': 90.43 s\n",
      "Total time to execute iteration 1 with iteration value None: 90.43 s\n"
     ]
    }
   ],
   "source": [
    "orca.run([\"network_aggregations_walk_test\"])"
   ]
  },
  {
   "cell_type": "code",
   "execution_count": null,
   "metadata": {
    "collapsed": true
   },
   "outputs": [],
   "source": []
  },
  {
   "cell_type": "markdown",
   "metadata": {},
   "source": [
    "## Comfirm graph is undirected"
   ]
  },
  {
   "cell_type": "code",
   "execution_count": 18,
   "metadata": {},
   "outputs": [],
   "source": [
    "edgeswalk = pd.read_csv(d + 'bayarea_walk_edges.csv')"
   ]
  },
  {
   "cell_type": "code",
   "execution_count": 19,
   "metadata": {},
   "outputs": [
    {
     "data": {
      "text/html": [
       "<div>\n",
       "<style>\n",
       "    .dataframe thead tr:only-child th {\n",
       "        text-align: right;\n",
       "    }\n",
       "\n",
       "    .dataframe thead th {\n",
       "        text-align: left;\n",
       "    }\n",
       "\n",
       "    .dataframe tbody tr th {\n",
       "        vertical-align: top;\n",
       "    }\n",
       "</style>\n",
       "<table border=\"1\" class=\"dataframe\">\n",
       "  <thead>\n",
       "    <tr style=\"text-align: right;\">\n",
       "      <th></th>\n",
       "      <th>uniqueid</th>\n",
       "      <th>u</th>\n",
       "      <th>v</th>\n",
       "      <th>key</th>\n",
       "      <th>oneway</th>\n",
       "      <th>highway</th>\n",
       "      <th>name</th>\n",
       "      <th>length</th>\n",
       "      <th>lanes</th>\n",
       "      <th>width</th>\n",
       "      <th>est_width</th>\n",
       "      <th>maxspeed</th>\n",
       "      <th>access</th>\n",
       "      <th>service</th>\n",
       "      <th>bridge</th>\n",
       "      <th>tunnel</th>\n",
       "      <th>area</th>\n",
       "      <th>junction</th>\n",
       "      <th>osmid</th>\n",
       "      <th>ref</th>\n",
       "    </tr>\n",
       "  </thead>\n",
       "  <tbody>\n",
       "    <tr>\n",
       "      <th>0</th>\n",
       "      <td>NaN</td>\n",
       "      <td>25457938</td>\n",
       "      <td>2399878404</td>\n",
       "      <td>0</td>\n",
       "      <td>False</td>\n",
       "      <td>tertiary</td>\n",
       "      <td>Camino Arroyo</td>\n",
       "      <td>147.758</td>\n",
       "      <td>NaN</td>\n",
       "      <td>NaN</td>\n",
       "      <td>NaN</td>\n",
       "      <td>NaN</td>\n",
       "      <td>NaN</td>\n",
       "      <td>NaN</td>\n",
       "      <td>NaN</td>\n",
       "      <td>NaN</td>\n",
       "      <td>NaN</td>\n",
       "      <td>NaN</td>\n",
       "      <td>157807061</td>\n",
       "      <td>NaN</td>\n",
       "    </tr>\n",
       "    <tr>\n",
       "      <th>1</th>\n",
       "      <td>NaN</td>\n",
       "      <td>25457938</td>\n",
       "      <td>2876495484</td>\n",
       "      <td>0</td>\n",
       "      <td>False</td>\n",
       "      <td>residential</td>\n",
       "      <td>Lindsteadt Way</td>\n",
       "      <td>17.489</td>\n",
       "      <td>NaN</td>\n",
       "      <td>NaN</td>\n",
       "      <td>NaN</td>\n",
       "      <td>NaN</td>\n",
       "      <td>NaN</td>\n",
       "      <td>NaN</td>\n",
       "      <td>NaN</td>\n",
       "      <td>NaN</td>\n",
       "      <td>NaN</td>\n",
       "      <td>NaN</td>\n",
       "      <td>157807205</td>\n",
       "      <td>NaN</td>\n",
       "    </tr>\n",
       "    <tr>\n",
       "      <th>2</th>\n",
       "      <td>NaN</td>\n",
       "      <td>25457938</td>\n",
       "      <td>2399878306</td>\n",
       "      <td>0</td>\n",
       "      <td>False</td>\n",
       "      <td>residential</td>\n",
       "      <td>Lindsteadt Way</td>\n",
       "      <td>64.719</td>\n",
       "      <td>NaN</td>\n",
       "      <td>NaN</td>\n",
       "      <td>NaN</td>\n",
       "      <td>NaN</td>\n",
       "      <td>NaN</td>\n",
       "      <td>NaN</td>\n",
       "      <td>NaN</td>\n",
       "      <td>NaN</td>\n",
       "      <td>NaN</td>\n",
       "      <td>NaN</td>\n",
       "      <td>157807205</td>\n",
       "      <td>NaN</td>\n",
       "    </tr>\n",
       "  </tbody>\n",
       "</table>\n",
       "</div>"
      ],
      "text/plain": [
       "   uniqueid         u           v  key  oneway      highway            name  \\\n",
       "0       NaN  25457938  2399878404    0   False     tertiary   Camino Arroyo   \n",
       "1       NaN  25457938  2876495484    0   False  residential  Lindsteadt Way   \n",
       "2       NaN  25457938  2399878306    0   False  residential  Lindsteadt Way   \n",
       "\n",
       "    length lanes width  est_width maxspeed access service bridge tunnel area  \\\n",
       "0  147.758   NaN   NaN        NaN      NaN    NaN     NaN    NaN    NaN  NaN   \n",
       "1   17.489   NaN   NaN        NaN      NaN    NaN     NaN    NaN    NaN  NaN   \n",
       "2   64.719   NaN   NaN        NaN      NaN    NaN     NaN    NaN    NaN  NaN   \n",
       "\n",
       "  junction      osmid  ref  \n",
       "0      NaN  157807061  NaN  \n",
       "1      NaN  157807205  NaN  \n",
       "2      NaN  157807205  NaN  "
      ]
     },
     "execution_count": 19,
     "metadata": {},
     "output_type": "execute_result"
    }
   ],
   "source": [
    "edgeswalk.head(3)"
   ]
  },
  {
   "cell_type": "code",
   "execution_count": 21,
   "metadata": {},
   "outputs": [
    {
     "data": {
      "text/html": [
       "<div>\n",
       "<style>\n",
       "    .dataframe thead tr:only-child th {\n",
       "        text-align: right;\n",
       "    }\n",
       "\n",
       "    .dataframe thead th {\n",
       "        text-align: left;\n",
       "    }\n",
       "\n",
       "    .dataframe tbody tr th {\n",
       "        vertical-align: top;\n",
       "    }\n",
       "</style>\n",
       "<table border=\"1\" class=\"dataframe\">\n",
       "  <thead>\n",
       "    <tr style=\"text-align: right;\">\n",
       "      <th></th>\n",
       "      <th>uniqueid</th>\n",
       "      <th>u</th>\n",
       "      <th>v</th>\n",
       "      <th>key</th>\n",
       "      <th>oneway</th>\n",
       "      <th>highway</th>\n",
       "      <th>name</th>\n",
       "      <th>length</th>\n",
       "      <th>lanes</th>\n",
       "      <th>width</th>\n",
       "      <th>est_width</th>\n",
       "      <th>maxspeed</th>\n",
       "      <th>access</th>\n",
       "      <th>service</th>\n",
       "      <th>bridge</th>\n",
       "      <th>tunnel</th>\n",
       "      <th>area</th>\n",
       "      <th>junction</th>\n",
       "      <th>osmid</th>\n",
       "      <th>ref</th>\n",
       "    </tr>\n",
       "  </thead>\n",
       "  <tbody>\n",
       "    <tr>\n",
       "      <th>0</th>\n",
       "      <td>NaN</td>\n",
       "      <td>25457938</td>\n",
       "      <td>2399878404</td>\n",
       "      <td>0</td>\n",
       "      <td>False</td>\n",
       "      <td>tertiary</td>\n",
       "      <td>Camino Arroyo</td>\n",
       "      <td>147.758</td>\n",
       "      <td>NaN</td>\n",
       "      <td>NaN</td>\n",
       "      <td>NaN</td>\n",
       "      <td>NaN</td>\n",
       "      <td>NaN</td>\n",
       "      <td>NaN</td>\n",
       "      <td>NaN</td>\n",
       "      <td>NaN</td>\n",
       "      <td>NaN</td>\n",
       "      <td>NaN</td>\n",
       "      <td>157807061</td>\n",
       "      <td>NaN</td>\n",
       "    </tr>\n",
       "  </tbody>\n",
       "</table>\n",
       "</div>"
      ],
      "text/plain": [
       "   uniqueid         u           v  key  oneway   highway           name  \\\n",
       "0       NaN  25457938  2399878404    0   False  tertiary  Camino Arroyo   \n",
       "\n",
       "    length lanes width  est_width maxspeed access service bridge tunnel area  \\\n",
       "0  147.758   NaN   NaN        NaN      NaN    NaN     NaN    NaN    NaN  NaN   \n",
       "\n",
       "  junction      osmid  ref  \n",
       "0      NaN  157807061  NaN  "
      ]
     },
     "execution_count": 21,
     "metadata": {},
     "output_type": "execute_result"
    }
   ],
   "source": [
    "edgeswalk.loc[(edgeswalk.u==25457938) & (edgeswalk.v==2399878404)]"
   ]
  },
  {
   "cell_type": "markdown",
   "metadata": {},
   "source": [
    "Yes, seems undirected"
   ]
  },
  {
   "cell_type": "code",
   "execution_count": null,
   "metadata": {
    "collapsed": true
   },
   "outputs": [],
   "source": []
  },
  {
   "cell_type": "markdown",
   "metadata": {},
   "source": [
    "## What are the \"missing values\" that were removed?\n",
    "\n",
    "189769 rows"
   ]
  },
  {
   "cell_type": "code",
   "execution_count": 25,
   "metadata": {},
   "outputs": [],
   "source": [
    "hh = orca.get_table('households').to_frame()"
   ]
  },
  {
   "cell_type": "code",
   "execution_count": 28,
   "metadata": {},
   "outputs": [
    {
     "data": {
      "text/plain": [
       "189769"
      ]
     },
     "execution_count": 28,
     "metadata": {},
     "output_type": "execute_result"
    }
   ],
   "source": [
    "sum(hh.node_id_walk.isnull())"
   ]
  },
  {
   "cell_type": "markdown",
   "metadata": {},
   "source": [
    "This ultimately comes from the node id on the parcels table, via buildings and units.."
   ]
  },
  {
   "cell_type": "code",
   "execution_count": 29,
   "metadata": {
    "collapsed": true
   },
   "outputs": [],
   "source": [
    "p = orca.get_table('parcels').to_frame()"
   ]
  },
  {
   "cell_type": "code",
   "execution_count": 30,
   "metadata": {},
   "outputs": [
    {
     "data": {
      "text/plain": [
       "0"
      ]
     },
     "execution_count": 30,
     "metadata": {},
     "output_type": "execute_result"
    }
   ],
   "source": [
    "sum(p.node_id_walk.isnull())"
   ]
  },
  {
   "cell_type": "code",
   "execution_count": 31,
   "metadata": {
    "collapsed": true
   },
   "outputs": [],
   "source": [
    "b = orca.get_table('buildings').to_frame()"
   ]
  },
  {
   "cell_type": "code",
   "execution_count": 32,
   "metadata": {},
   "outputs": [
    {
     "data": {
      "text/plain": [
       "0"
      ]
     },
     "execution_count": 32,
     "metadata": {},
     "output_type": "execute_result"
    }
   ],
   "source": [
    "sum(b.node_id_walk.isnull())"
   ]
  },
  {
   "cell_type": "code",
   "execution_count": 33,
   "metadata": {
    "collapsed": true
   },
   "outputs": [],
   "source": [
    "u = orca.get_table('units').to_frame()"
   ]
  },
  {
   "cell_type": "code",
   "execution_count": 34,
   "metadata": {},
   "outputs": [
    {
     "data": {
      "text/plain": [
       "0"
      ]
     },
     "execution_count": 34,
     "metadata": {},
     "output_type": "execute_result"
    }
   ],
   "source": [
    "sum(u.node_id_walk.isnull())"
   ]
  },
  {
   "cell_type": "markdown",
   "metadata": {},
   "source": [
    "So it's a problem linking the households to units, maybe?"
   ]
  },
  {
   "cell_type": "code",
   "execution_count": 35,
   "metadata": {},
   "outputs": [
    {
     "data": {
      "text/plain": [
       "0"
      ]
     },
     "execution_count": 35,
     "metadata": {},
     "output_type": "execute_result"
    }
   ],
   "source": [
    "sum(hh.unit_id.isnull())"
   ]
  },
  {
   "cell_type": "code",
   "execution_count": 36,
   "metadata": {},
   "outputs": [
    {
     "data": {
      "text/plain": [
       "count    2.677468e+06\n",
       "mean     1.288427e+06\n",
       "std      8.497798e+05\n",
       "min     -1.000000e+00\n",
       "25%      5.409708e+05\n",
       "50%      1.272990e+06\n",
       "75%      2.024749e+06\n",
       "max      2.781489e+06\n",
       "Name: unit_id, dtype: float64"
      ]
     },
     "execution_count": 36,
     "metadata": {},
     "output_type": "execute_result"
    }
   ],
   "source": [
    "hh.unit_id.describe()"
   ]
  },
  {
   "cell_type": "code",
   "execution_count": 38,
   "metadata": {},
   "outputs": [
    {
     "data": {
      "text/plain": [
       "189769"
      ]
     },
     "execution_count": 38,
     "metadata": {},
     "output_type": "execute_result"
    }
   ],
   "source": [
    "sum(hh.unit_id==-1)"
   ]
  },
  {
   "cell_type": "code",
   "execution_count": 39,
   "metadata": {},
   "outputs": [
    {
     "data": {
      "text/plain": [
       "0.070876290584985513"
      ]
     },
     "execution_count": 39,
     "metadata": {},
     "output_type": "execute_result"
    }
   ],
   "source": [
    "sum(hh.unit_id==-1)/len(hh)"
   ]
  },
  {
   "cell_type": "code",
   "execution_count": null,
   "metadata": {
    "collapsed": true
   },
   "outputs": [],
   "source": []
  },
  {
   "cell_type": "markdown",
   "metadata": {},
   "source": [
    "## Why didn't this show up on Sam B's machine?\n",
    "\n",
    "Don't know! I don't see any discrepancies in the code. Best guess is that maybe the message just wasn't printed?"
   ]
  },
  {
   "cell_type": "code",
   "execution_count": null,
   "metadata": {
    "collapsed": true
   },
   "outputs": [],
   "source": []
  },
  {
   "cell_type": "code",
   "execution_count": null,
   "metadata": {
    "collapsed": true
   },
   "outputs": [],
   "source": []
  },
  {
   "cell_type": "code",
   "execution_count": null,
   "metadata": {
    "collapsed": true
   },
   "outputs": [],
   "source": []
  },
  {
   "cell_type": "code",
   "execution_count": null,
   "metadata": {
    "collapsed": true
   },
   "outputs": [],
   "source": []
  }
 ],
 "metadata": {
  "kernelspec": {
   "display_name": "Python 3",
   "language": "python",
   "name": "python3"
  },
  "language_info": {
   "codemirror_mode": {
    "name": "ipython",
    "version": 3
   },
   "file_extension": ".py",
   "mimetype": "text/x-python",
   "name": "python",
   "nbconvert_exporter": "python",
   "pygments_lexer": "ipython3",
   "version": "3.6.2"
  }
 },
 "nbformat": 4,
 "nbformat_minor": 2
}
