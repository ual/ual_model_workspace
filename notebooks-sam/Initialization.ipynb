{
 "cells": [
  {
   "cell_type": "markdown",
   "metadata": {},
   "source": [
    "# Initialization\n",
    "\n",
    "Sam Maurer, July 2018 - Python 3.6\n",
    "\n",
    "This notebook tests and demonstrates the changes to initialization in UrbanSim Templates [PR#17](https://github.com/UDST/urbansim_templates/pull/17)"
   ]
  },
  {
   "cell_type": "code",
   "execution_count": 1,
   "metadata": {
    "collapsed": true
   },
   "outputs": [],
   "source": [
    "import os; os.chdir('../')\n",
    "import warnings;warnings.simplefilter('ignore')"
   ]
  },
  {
   "cell_type": "code",
   "execution_count": 2,
   "metadata": {
    "collapsed": false
   },
   "outputs": [
    {
     "data": {
      "text/plain": [
       "'/Users/maurer/Dropbox/Git-imac/ual/urbansim_parcel_bayarea'"
      ]
     },
     "execution_count": 2,
     "metadata": {},
     "output_type": "execute_result"
    }
   ],
   "source": [
    "os.getcwd()"
   ]
  },
  {
   "cell_type": "code",
   "execution_count": 3,
   "metadata": {
    "collapsed": true
   },
   "outputs": [],
   "source": [
    "import orca\n",
    "from urbansim_templates import modelmanager as mm"
   ]
  },
  {
   "cell_type": "code",
   "execution_count": 4,
   "metadata": {
    "collapsed": false
   },
   "outputs": [
    {
     "data": {
      "text/plain": [
       "[]"
      ]
     },
     "execution_count": 4,
     "metadata": {},
     "output_type": "execute_result"
    }
   ],
   "source": [
    "# No model steps are in memory --\n",
    "\n",
    "mm.list_steps()"
   ]
  },
  {
   "cell_type": "code",
   "execution_count": 5,
   "metadata": {
    "collapsed": false
   },
   "outputs": [
    {
     "name": "stdout",
     "output_type": "stream",
     "text": [
      "Loading model step 'large-mnl-test'\n"
     ]
    }
   ],
   "source": [
    "# Load model steps from the default directory --\n",
    "\n",
    "mm.initialize()"
   ]
  },
  {
   "cell_type": "code",
   "execution_count": 6,
   "metadata": {
    "collapsed": false
   },
   "outputs": [
    {
     "data": {
      "text/plain": [
       "[{'name': 'large-mnl-test',\n",
       "  'tags': ['sam', 'testing'],\n",
       "  'type': 'LargeMultinomialLogitStep'}]"
      ]
     },
     "execution_count": 6,
     "metadata": {},
     "output_type": "execute_result"
    }
   ],
   "source": [
    "mm.list_steps()"
   ]
  },
  {
   "cell_type": "code",
   "execution_count": 7,
   "metadata": {
    "collapsed": false
   },
   "outputs": [
    {
     "name": "stdout",
     "output_type": "stream",
     "text": [
      "                                 OLS Regression Results                                 \n",
      "========================================================================================\n",
      "Dep. Variable:     np.log1p(res_price_per_sqft)   R-squared:                       0.008\n",
      "Model:                                      OLS   Adj. R-squared:                  0.008\n",
      "Method:                           Least Squares   F-statistic:                 1.413e+04\n",
      "Date:                          Thu, 30 Aug 2018   Prob (F-statistic):               0.00\n",
      "Time:                                  14:15:46   Log-Likelihood:            -3.3783e+06\n",
      "No. Observations:                       1824229   AIC:                         6.757e+06\n",
      "Df Residuals:                           1824227   BIC:                         6.757e+06\n",
      "Df Model:                                     1                                         \n",
      "Covariance Type:                      nonrobust                                         \n",
      "==============================================================================\n",
      "                 coef    std err          t      P>|t|      [0.025      0.975]\n",
      "------------------------------------------------------------------------------\n",
      "Intercept     15.8262      0.090    176.446      0.000      15.650      16.002\n",
      "year_built    -0.0054   4.56e-05   -118.885      0.000      -0.006      -0.005\n",
      "==============================================================================\n",
      "Omnibus:                   928466.707   Durbin-Watson:                   1.387\n",
      "Prob(Omnibus):                  0.000   Jarque-Bera (JB):          4774631.125\n",
      "Skew:                          -2.547   Prob(JB):                         0.00\n",
      "Kurtosis:                       9.071   Cond. No.                     1.54e+05\n",
      "==============================================================================\n",
      "\n",
      "Warnings:\n",
      "[1] Standard Errors assume that the covariance matrix of the errors is correctly specified.\n",
      "[2] The condition number is large, 1.54e+05. This might indicate that there are\n",
      "strong multicollinearity or other numerical problems.\n"
     ]
    }
   ],
   "source": [
    "# Build a new model step --\n",
    "\n",
    "import pandas as pd\n",
    "from urbansim_templates.models import OLSRegressionStep\n",
    "\n",
    "df = pd.read_csv('data/mtc_data_platform_format_7-6-18/buildings_v2.csv')\n",
    "orca.add_table('buildings', df)\n",
    "\n",
    "m = OLSRegressionStep()\n",
    "m.tables = ['buildings']\n",
    "m.model_expression = 'np.log1p(res_price_per_sqft) ~ year_built'\n",
    "m.fit()"
   ]
  },
  {
   "cell_type": "code",
   "execution_count": 8,
   "metadata": {
    "collapsed": false
   },
   "outputs": [
    {
     "name": "stdout",
     "output_type": "stream",
     "text": [
      "Saving 'ols-test.yaml': /Users/maurer/Dropbox/Git-imac/ual/urbansim_parcel_bayarea/configs\n",
      "Loading model step 'ols-test'\n"
     ]
    }
   ],
   "source": [
    "# Register it with ModelManager (automatically saves to disk)\n",
    "\n",
    "m.name = 'ols-test'\n",
    "m.register()"
   ]
  },
  {
   "cell_type": "code",
   "execution_count": 9,
   "metadata": {
    "collapsed": false
   },
   "outputs": [
    {
     "data": {
      "text/plain": [
       "[{'name': 'large-mnl-test',\n",
       "  'tags': ['sam', 'testing'],\n",
       "  'type': 'LargeMultinomialLogitStep'},\n",
       " {'name': 'ols-test', 'tags': [], 'type': 'OLSRegressionStep'}]"
      ]
     },
     "execution_count": 9,
     "metadata": {},
     "output_type": "execute_result"
    }
   ],
   "source": [
    "mm.list_steps()"
   ]
  },
  {
   "cell_type": "code",
   "execution_count": 10,
   "metadata": {
    "collapsed": false
   },
   "outputs": [
    {
     "data": {
      "text/plain": [
       "urbansim_templates.models.regression.OLSRegressionStep"
      ]
     },
     "execution_count": 10,
     "metadata": {},
     "output_type": "execute_result"
    }
   ],
   "source": [
    "m2 = mm.get_step('ols-test')\n",
    "type(m2)"
   ]
  },
  {
   "cell_type": "code",
   "execution_count": 11,
   "metadata": {
    "collapsed": false
   },
   "outputs": [
    {
     "name": "stdout",
     "output_type": "stream",
     "text": [
      "                                 OLS Regression Results                                 \n",
      "========================================================================================\n",
      "Dep. Variable:     np.log1p(res_price_per_sqft)   R-squared:                       0.008\n",
      "Model:                                      OLS   Adj. R-squared:                  0.008\n",
      "Method:                           Least Squares   F-statistic:                 1.413e+04\n",
      "Date:                          Thu, 30 Aug 2018   Prob (F-statistic):               0.00\n",
      "Time:                                  14:15:46   Log-Likelihood:            -3.3783e+06\n",
      "No. Observations:                       1824229   AIC:                         6.757e+06\n",
      "Df Residuals:                           1824227   BIC:                         6.757e+06\n",
      "Df Model:                                     1                                         \n",
      "Covariance Type:                      nonrobust                                         \n",
      "==============================================================================\n",
      "                 coef    std err          t      P>|t|      [0.025      0.975]\n",
      "------------------------------------------------------------------------------\n",
      "Intercept     15.8262      0.090    176.446      0.000      15.650      16.002\n",
      "year_built    -0.0054   4.56e-05   -118.885      0.000      -0.006      -0.005\n",
      "==============================================================================\n",
      "Omnibus:                   928466.707   Durbin-Watson:                   1.387\n",
      "Prob(Omnibus):                  0.000   Jarque-Bera (JB):          4774631.125\n",
      "Skew:                          -2.547   Prob(JB):                         0.00\n",
      "Kurtosis:                       9.071   Cond. No.                     1.54e+05\n",
      "==============================================================================\n",
      "\n",
      "Warnings:\n",
      "[1] Standard Errors assume that the covariance matrix of the errors is correctly specified.\n",
      "[2] The condition number is large, 1.54e+05. This might indicate that there are\n",
      "strong multicollinearity or other numerical problems.\n"
     ]
    }
   ],
   "source": [
    "print(m2.summary_table)"
   ]
  },
  {
   "cell_type": "code",
   "execution_count": 12,
   "metadata": {
    "collapsed": false
   },
   "outputs": [
    {
     "name": "stdout",
     "output_type": "stream",
     "text": [
      "Saving 'ols-test-duplicate.yaml': /Users/maurer/Dropbox/Git-imac/ual/urbansim_parcel_bayarea/configs\n",
      "Loading model step 'ols-test-duplicate'\n"
     ]
    }
   ],
   "source": [
    "m2.name = 'ols-test-duplicate'\n",
    "m2.register()"
   ]
  },
  {
   "cell_type": "code",
   "execution_count": 13,
   "metadata": {
    "collapsed": false
   },
   "outputs": [
    {
     "data": {
      "text/plain": [
       "[{'name': 'large-mnl-test',\n",
       "  'tags': ['sam', 'testing'],\n",
       "  'type': 'LargeMultinomialLogitStep'},\n",
       " {'name': 'ols-test', 'tags': [], 'type': 'OLSRegressionStep'},\n",
       " {'name': 'ols-test-duplicate', 'tags': [], 'type': 'OLSRegressionStep'}]"
      ]
     },
     "execution_count": 13,
     "metadata": {},
     "output_type": "execute_result"
    }
   ],
   "source": [
    "mm.list_steps()"
   ]
  },
  {
   "cell_type": "code",
   "execution_count": 14,
   "metadata": {
    "collapsed": false
   },
   "outputs": [
    {
     "name": "stdout",
     "output_type": "stream",
     "text": [
      "Removing 'ols-test-duplicate' and 'ols-test-duplicate.yaml'\n"
     ]
    }
   ],
   "source": [
    "mm.remove_step('ols-test-duplicate')"
   ]
  },
  {
   "cell_type": "code",
   "execution_count": 15,
   "metadata": {
    "collapsed": false
   },
   "outputs": [
    {
     "name": "stdout",
     "output_type": "stream",
     "text": [
      "Removing 'ols-test' and 'ols-test.yaml'\n"
     ]
    }
   ],
   "source": [
    "mm.remove_step('ols-test')"
   ]
  },
  {
   "cell_type": "code",
   "execution_count": 16,
   "metadata": {
    "collapsed": false
   },
   "outputs": [
    {
     "data": {
      "text/plain": [
       "[{'name': 'large-mnl-test',\n",
       "  'tags': ['sam', 'testing'],\n",
       "  'type': 'LargeMultinomialLogitStep'}]"
      ]
     },
     "execution_count": 16,
     "metadata": {},
     "output_type": "execute_result"
    }
   ],
   "source": [
    "mm.list_steps()"
   ]
  },
  {
   "cell_type": "code",
   "execution_count": null,
   "metadata": {
    "collapsed": true
   },
   "outputs": [],
   "source": []
  },
  {
   "cell_type": "code",
   "execution_count": null,
   "metadata": {
    "collapsed": true
   },
   "outputs": [],
   "source": []
  },
  {
   "cell_type": "code",
   "execution_count": null,
   "metadata": {
    "collapsed": true
   },
   "outputs": [],
   "source": []
  }
 ],
 "metadata": {
  "kernelspec": {
   "display_name": "Python 3",
   "language": "python",
   "name": "python3"
  },
  "language_info": {
   "codemirror_mode": {
    "name": "ipython",
    "version": 3
   },
   "file_extension": ".py",
   "mimetype": "text/x-python",
   "name": "python",
   "nbconvert_exporter": "python",
   "pygments_lexer": "ipython3",
   "version": "3.6.4"
  }
 },
 "nbformat": 4,
 "nbformat_minor": 2
}
