{
 "cells": [
  {
   "cell_type": "markdown",
   "metadata": {},
   "source": [
    "# Data exploration\n",
    "\n",
    "Sam Maurer, May 2018 | Python 3.6\n",
    "\n",
    "This notebook is for development and testing of the code to load base data tables into Orca. It also demonstrates ways to explore the registered data."
   ]
  },
  {
   "cell_type": "code",
   "execution_count": 1,
   "metadata": {
    "collapsed": true
   },
   "outputs": [],
   "source": [
    "import os; os.chdir('../')"
   ]
  },
  {
   "cell_type": "code",
   "execution_count": 2,
   "metadata": {
    "collapsed": false
   },
   "outputs": [
    {
     "data": {
      "text/plain": [
       "'/Users/maurer/Dropbox/Git-imac/ual/urbansim_parcel_bayarea'"
      ]
     },
     "execution_count": 2,
     "metadata": {},
     "output_type": "execute_result"
    }
   ],
   "source": [
    "os.getcwd()"
   ]
  },
  {
   "cell_type": "code",
   "execution_count": 3,
   "metadata": {
    "collapsed": true
   },
   "outputs": [],
   "source": [
    "import numpy as np\n",
    "import pandas as pd"
   ]
  },
  {
   "cell_type": "code",
   "execution_count": 4,
   "metadata": {
    "collapsed": false
   },
   "outputs": [
    {
     "name": "stderr",
     "output_type": "stream",
     "text": [
      "/Users/maurer/anaconda/lib/python3.6/site-packages/statsmodels/compat/pandas.py:56: FutureWarning: The pandas.core.datetools module is deprecated and will be removed in a future version. Please use the pandas.tseries module instead.\n",
      "  from pandas.core import datetools\n"
     ]
    }
   ],
   "source": [
    "from urbansim_templates import modelmanager as mm\n",
    "import orca"
   ]
  },
  {
   "cell_type": "code",
   "execution_count": null,
   "metadata": {
    "collapsed": true
   },
   "outputs": [],
   "source": [
    "# Run this cell to override the standard data directory, if needed\n",
    "orca.add_injectable('data_directory', '/home/data/')"
   ]
  },
  {
   "cell_type": "code",
   "execution_count": 5,
   "metadata": {
    "collapsed": true
   },
   "outputs": [],
   "source": [
    "# Load script-based Orca registrations\n",
    "from scripts import datasources\n",
    "from scripts import models"
   ]
  },
  {
   "cell_type": "code",
   "execution_count": null,
   "metadata": {
    "collapsed": true
   },
   "outputs": [],
   "source": []
  },
  {
   "cell_type": "markdown",
   "metadata": {},
   "source": [
    "### Tables loaded by datasources.py"
   ]
  },
  {
   "cell_type": "code",
   "execution_count": 6,
   "metadata": {
    "collapsed": false
   },
   "outputs": [
    {
     "name": "stdout",
     "output_type": "stream",
     "text": [
      "PARCELS\n",
      "['development_type_id', 'land_value', 'acres', 'county_id', 'zone_id', 'proportion_undevelopable', 'tax_exempt_status', 'apn', 'parcel_id_local', 'geom_id', 'imputation_flag', 'x', 'y', 'shape_area', 'block_id', 'node_id']\n",
      "\n",
      "BUILDINGS\n",
      "['parcel_id', 'development_type_id', 'improvement_value', 'residential_units', 'residential_sqft', 'sqft_per_unit', 'non_residential_sqft', 'building_sqft', 'nonres_rent_per_sqft', 'res_price_per_sqft', 'stories', 'year_built', 'redfin_sale_price', 'redfin_sale_year', 'redfin_home_type', 'costar_property_type', 'costar_rent', 'building_type_id']\n",
      "\n",
      "UNITS\n",
      "['Unnamed: 0', 'building_id', 'num_units', 'tenure', 'unit_num', 'unit_residential_price', 'unit_residential_rent']\n",
      "\n",
      "HOUSEHOLDS\n",
      "['household_id', 'serialno', 'persons', 'building_type', 'cars', 'income', 'race_of_head', 'hispanic_head', 'age_of_head', 'workers', 'state', 'county', 'tract', 'block group', 'children', 'tenure', 'recent_mover', 'block_group_id', 'single_family', 'unit_id']\n",
      "\n",
      "PERSONS\n",
      "['Unnamed: 0', 'member_id', 'age', 'relate', 'edu', 'sex', 'hours', 'hispanic', 'earning', 'race_id', 'hispanic.1', 'household_id', 'student', 'work_at_home', 'worker']\n",
      "\n"
     ]
    }
   ],
   "source": [
    "for table_name in orca.list_tables():\n",
    "    print(table_name.upper())\n",
    "    print(orca.get_table(table_name).to_frame().columns.tolist())\n",
    "    print()"
   ]
  },
  {
   "cell_type": "code",
   "execution_count": 6,
   "metadata": {
    "collapsed": false
   },
   "outputs": [
    {
     "data": {
      "text/plain": [
       "'999546390'"
      ]
     },
     "execution_count": 6,
     "metadata": {},
     "output_type": "execute_result"
    }
   ],
   "source": [
    "orca.get_table('parcels').to_frame().node_id.dropna().max()"
   ]
  },
  {
   "cell_type": "code",
   "execution_count": 7,
   "metadata": {
    "collapsed": false
   },
   "outputs": [
    {
     "data": {
      "text/plain": [
       "[]"
      ]
     },
     "execution_count": 7,
     "metadata": {},
     "output_type": "execute_result"
    }
   ],
   "source": [
    "orca.list_injectables()"
   ]
  },
  {
   "cell_type": "code",
   "execution_count": 8,
   "metadata": {
    "collapsed": false
   },
   "outputs": [
    {
     "data": {
      "text/plain": [
       "['ols-test',\n",
       " 'small-mnl-test',\n",
       " 'model_two',\n",
       " 'model_one',\n",
       " 'large-mnl-test',\n",
       " 'test_manual_registration',\n",
       " 'initialize_network',\n",
       " 'network_aggregations']"
      ]
     },
     "execution_count": 8,
     "metadata": {},
     "output_type": "execute_result"
    }
   ],
   "source": [
    "orca.list_steps()"
   ]
  },
  {
   "cell_type": "code",
   "execution_count": null,
   "metadata": {
    "collapsed": true
   },
   "outputs": [],
   "source": []
  },
  {
   "cell_type": "markdown",
   "metadata": {},
   "source": [
    "### Build network"
   ]
  },
  {
   "cell_type": "code",
   "execution_count": 9,
   "metadata": {
    "collapsed": false
   },
   "outputs": [
    {
     "name": "stdout",
     "output_type": "stream",
     "text": [
      "Running step 'initialize_network'\n",
      "Time to execute step 'initialize_network': 9.41 s\n",
      "Total time to execute iteration 1 with iteration value None: 9.41 s\n"
     ]
    }
   ],
   "source": [
    "orca.run(['initialize_network'])"
   ]
  },
  {
   "cell_type": "code",
   "execution_count": 10,
   "metadata": {
    "collapsed": false
   },
   "outputs": [
    {
     "data": {
      "text/plain": [
       "['iter_var', 'iter_step', 'net']"
      ]
     },
     "execution_count": 10,
     "metadata": {},
     "output_type": "execute_result"
    }
   ],
   "source": [
    "orca.list_injectables()"
   ]
  },
  {
   "cell_type": "code",
   "execution_count": 11,
   "metadata": {
    "collapsed": false
   },
   "outputs": [
    {
     "data": {
      "text/plain": [
       "5458526997"
      ]
     },
     "execution_count": 11,
     "metadata": {},
     "output_type": "execute_result"
    }
   ],
   "source": [
    "# It also replaces node_ids with new ones\n",
    "orca.get_table('parcels').to_frame().node_id.dropna().max()"
   ]
  },
  {
   "cell_type": "code",
   "execution_count": null,
   "metadata": {
    "collapsed": true
   },
   "outputs": [],
   "source": []
  },
  {
   "cell_type": "markdown",
   "metadata": {},
   "source": [
    "### Run network aggregations"
   ]
  },
  {
   "cell_type": "code",
   "execution_count": 12,
   "metadata": {
    "collapsed": false
   },
   "outputs": [
    {
     "name": "stdout",
     "output_type": "stream",
     "text": [
      "Running step 'network_aggregations'\n",
      "Computing accessibility variables\n",
      "Computing sum_income_3000\n",
      "Removed 189769 rows because they contain missing values\n",
      "Computing residential_units_500\n",
      "Removed 4 rows because they contain missing values\n",
      "Computing residential_units_1500\n",
      "Removed 4 rows because they contain missing values\n",
      "Computing population\n",
      "Removed 189769 rows because they contain missing values\n",
      "Computing poor\n",
      "Removed 53114 rows because they contain missing values\n",
      "Computing renters\n",
      "Removed 102597 rows because they contain missing values\n",
      "Computing ave_income_500\n",
      "Removed 189769 rows because they contain missing values\n",
      "       sum_income_3000  residential_units_500  residential_units_1500  \\\n",
      "count     3.082600e+04           30826.000000            30826.000000   \n",
      "mean      1.478443e+09               4.360008                6.175417   \n",
      "std       1.927634e+09               2.391189                2.258848   \n",
      "min       0.000000e+00               0.000000                0.000000   \n",
      "25%       4.960627e+08               2.993019                5.718709   \n",
      "50%       1.068240e+09               5.298047                7.001040   \n",
      "75%       1.818217e+09               6.110861                7.536843   \n",
      "max       1.568729e+10               8.692843               10.171852   \n",
      "\n",
      "         population          poor       renters  ave_income_500  \n",
      "count  30826.000000  30826.000000  30826.000000    3.082600e+04  \n",
      "mean       6.964573      5.264169      5.140178            -inf  \n",
      "std        2.421608      2.210165      2.218859             NaN  \n",
      "min        0.000000      0.000000      0.000000            -inf  \n",
      "25%        6.571062      4.496625      4.276326    1.080773e+01  \n",
      "50%        7.884789      5.893643      5.750208    1.128979e+01  \n",
      "75%        8.420608      6.709006      6.635617    1.160824e+01  \n",
      "max       10.476329      9.721747      9.963508    1.382249e+01  \n",
      "Time to execute step 'network_aggregations': 15.33 s\n",
      "Total time to execute iteration 1 with iteration value None: 15.33 s\n"
     ]
    }
   ],
   "source": [
    "orca.run(['network_aggregations'])"
   ]
  },
  {
   "cell_type": "code",
   "execution_count": null,
   "metadata": {
    "collapsed": true
   },
   "outputs": [],
   "source": []
  },
  {
   "cell_type": "markdown",
   "metadata": {},
   "source": [
    "### Look at some data"
   ]
  },
  {
   "cell_type": "code",
   "execution_count": 13,
   "metadata": {
    "collapsed": true
   },
   "outputs": [],
   "source": [
    "households = orca.get_table('households').to_frame()"
   ]
  },
  {
   "cell_type": "code",
   "execution_count": 14,
   "metadata": {
    "collapsed": false
   },
   "outputs": [
    {
     "name": "stdout",
     "output_type": "stream",
     "text": [
      "2679684\n"
     ]
    }
   ],
   "source": [
    "print(len(households))"
   ]
  },
  {
   "cell_type": "code",
   "execution_count": 15,
   "metadata": {
    "collapsed": false
   },
   "outputs": [
    {
     "data": {
      "text/html": [
       "<div>\n",
       "<style scoped>\n",
       "    .dataframe tbody tr th:only-of-type {\n",
       "        vertical-align: middle;\n",
       "    }\n",
       "\n",
       "    .dataframe tbody tr th {\n",
       "        vertical-align: top;\n",
       "    }\n",
       "\n",
       "    .dataframe thead th {\n",
       "        text-align: right;\n",
       "    }\n",
       "</style>\n",
       "<table border=\"1\" class=\"dataframe\">\n",
       "  <thead>\n",
       "    <tr style=\"text-align: right;\">\n",
       "      <th></th>\n",
       "      <th>household_id</th>\n",
       "      <th>serialno</th>\n",
       "      <th>persons</th>\n",
       "      <th>building_type</th>\n",
       "      <th>cars</th>\n",
       "      <th>income</th>\n",
       "      <th>race_of_head</th>\n",
       "      <th>hispanic_head</th>\n",
       "      <th>age_of_head</th>\n",
       "      <th>workers</th>\n",
       "      <th>...</th>\n",
       "      <th>county</th>\n",
       "      <th>tract</th>\n",
       "      <th>block group</th>\n",
       "      <th>children</th>\n",
       "      <th>tenure</th>\n",
       "      <th>recent_mover</th>\n",
       "      <th>block_group_id</th>\n",
       "      <th>single_family</th>\n",
       "      <th>unit_id</th>\n",
       "      <th>node_id</th>\n",
       "    </tr>\n",
       "  </thead>\n",
       "  <tbody>\n",
       "    <tr>\n",
       "      <th>0</th>\n",
       "      <td>0</td>\n",
       "      <td>2010000487191</td>\n",
       "      <td>1</td>\n",
       "      <td>6.0</td>\n",
       "      <td>1.0</td>\n",
       "      <td>85000.0</td>\n",
       "      <td>1</td>\n",
       "      <td>no</td>\n",
       "      <td>47</td>\n",
       "      <td>1.0</td>\n",
       "      <td>...</td>\n",
       "      <td>85</td>\n",
       "      <td>500901</td>\n",
       "      <td>1</td>\n",
       "      <td>NaN</td>\n",
       "      <td>2</td>\n",
       "      <td>0</td>\n",
       "      <td>60855009011</td>\n",
       "      <td>False</td>\n",
       "      <td>1711366</td>\n",
       "      <td>65468916</td>\n",
       "    </tr>\n",
       "    <tr>\n",
       "      <th>1</th>\n",
       "      <td>1</td>\n",
       "      <td>2013000554587</td>\n",
       "      <td>1</td>\n",
       "      <td>9.0</td>\n",
       "      <td>1.0</td>\n",
       "      <td>27000.0</td>\n",
       "      <td>6</td>\n",
       "      <td>no</td>\n",
       "      <td>52</td>\n",
       "      <td>1.0</td>\n",
       "      <td>...</td>\n",
       "      <td>85</td>\n",
       "      <td>500901</td>\n",
       "      <td>1</td>\n",
       "      <td>NaN</td>\n",
       "      <td>2</td>\n",
       "      <td>0</td>\n",
       "      <td>60855009011</td>\n",
       "      <td>False</td>\n",
       "      <td>1711818</td>\n",
       "      <td>65468916</td>\n",
       "    </tr>\n",
       "    <tr>\n",
       "      <th>2</th>\n",
       "      <td>2</td>\n",
       "      <td>2011001140920</td>\n",
       "      <td>2</td>\n",
       "      <td>2.0</td>\n",
       "      <td>1.0</td>\n",
       "      <td>6000.0</td>\n",
       "      <td>6</td>\n",
       "      <td>no</td>\n",
       "      <td>60</td>\n",
       "      <td>1.0</td>\n",
       "      <td>...</td>\n",
       "      <td>85</td>\n",
       "      <td>500901</td>\n",
       "      <td>1</td>\n",
       "      <td>NaN</td>\n",
       "      <td>2</td>\n",
       "      <td>0</td>\n",
       "      <td>60855009011</td>\n",
       "      <td>True</td>\n",
       "      <td>1711727</td>\n",
       "      <td>65468916</td>\n",
       "    </tr>\n",
       "    <tr>\n",
       "      <th>3</th>\n",
       "      <td>3</td>\n",
       "      <td>2012001376432</td>\n",
       "      <td>1</td>\n",
       "      <td>3.0</td>\n",
       "      <td>1.0</td>\n",
       "      <td>28000.0</td>\n",
       "      <td>8</td>\n",
       "      <td>yes</td>\n",
       "      <td>51</td>\n",
       "      <td>1.0</td>\n",
       "      <td>...</td>\n",
       "      <td>85</td>\n",
       "      <td>500901</td>\n",
       "      <td>1</td>\n",
       "      <td>NaN</td>\n",
       "      <td>2</td>\n",
       "      <td>0</td>\n",
       "      <td>60855009011</td>\n",
       "      <td>True</td>\n",
       "      <td>1711548</td>\n",
       "      <td>4182147571</td>\n",
       "    </tr>\n",
       "    <tr>\n",
       "      <th>4</th>\n",
       "      <td>4</td>\n",
       "      <td>2013000186929</td>\n",
       "      <td>1</td>\n",
       "      <td>6.0</td>\n",
       "      <td>1.0</td>\n",
       "      <td>10000.0</td>\n",
       "      <td>1</td>\n",
       "      <td>no</td>\n",
       "      <td>64</td>\n",
       "      <td>NaN</td>\n",
       "      <td>...</td>\n",
       "      <td>85</td>\n",
       "      <td>500901</td>\n",
       "      <td>1</td>\n",
       "      <td>NaN</td>\n",
       "      <td>2</td>\n",
       "      <td>0</td>\n",
       "      <td>60855009011</td>\n",
       "      <td>False</td>\n",
       "      <td>1711121</td>\n",
       "      <td>4182147571</td>\n",
       "    </tr>\n",
       "  </tbody>\n",
       "</table>\n",
       "<p>5 rows × 21 columns</p>\n",
       "</div>"
      ],
      "text/plain": [
       "   household_id       serialno  persons  building_type  cars   income  \\\n",
       "0             0  2010000487191        1            6.0   1.0  85000.0   \n",
       "1             1  2013000554587        1            9.0   1.0  27000.0   \n",
       "2             2  2011001140920        2            2.0   1.0   6000.0   \n",
       "3             3  2012001376432        1            3.0   1.0  28000.0   \n",
       "4             4  2013000186929        1            6.0   1.0  10000.0   \n",
       "\n",
       "   race_of_head hispanic_head  age_of_head  workers     ...      county  \\\n",
       "0             1            no           47      1.0     ...          85   \n",
       "1             6            no           52      1.0     ...          85   \n",
       "2             6            no           60      1.0     ...          85   \n",
       "3             8           yes           51      1.0     ...          85   \n",
       "4             1            no           64      NaN     ...          85   \n",
       "\n",
       "    tract  block group  children  tenure  recent_mover  block_group_id  \\\n",
       "0  500901            1       NaN       2             0     60855009011   \n",
       "1  500901            1       NaN       2             0     60855009011   \n",
       "2  500901            1       NaN       2             0     60855009011   \n",
       "3  500901            1       NaN       2             0     60855009011   \n",
       "4  500901            1       NaN       2             0     60855009011   \n",
       "\n",
       "   single_family  unit_id     node_id  \n",
       "0          False  1711366    65468916  \n",
       "1          False  1711818    65468916  \n",
       "2           True  1711727    65468916  \n",
       "3           True  1711548  4182147571  \n",
       "4          False  1711121  4182147571  \n",
       "\n",
       "[5 rows x 21 columns]"
      ]
     },
     "execution_count": 15,
     "metadata": {},
     "output_type": "execute_result"
    }
   ],
   "source": [
    "households.head()"
   ]
  },
  {
   "cell_type": "code",
   "execution_count": null,
   "metadata": {
    "collapsed": true
   },
   "outputs": [],
   "source": []
  },
  {
   "cell_type": "code",
   "execution_count": null,
   "metadata": {
    "collapsed": true
   },
   "outputs": [],
   "source": []
  },
  {
   "cell_type": "markdown",
   "metadata": {},
   "source": [
    "### Look into an H5 file manually"
   ]
  },
  {
   "cell_type": "code",
   "execution_count": 16,
   "metadata": {
    "collapsed": true
   },
   "outputs": [],
   "source": [
    "hdf = pd.HDFStore('data/bayarea_ual.h5', 'r')"
   ]
  },
  {
   "cell_type": "code",
   "execution_count": 17,
   "metadata": {
    "collapsed": false
   },
   "outputs": [
    {
     "data": {
      "text/plain": [
       "['/buildings',\n",
       " '/establishments',\n",
       " '/households',\n",
       " '/parcels',\n",
       " '/persons',\n",
       " '/zones']"
      ]
     },
     "execution_count": 17,
     "metadata": {},
     "output_type": "execute_result"
    }
   ],
   "source": [
    "hdf.keys()"
   ]
  },
  {
   "cell_type": "code",
   "execution_count": 18,
   "metadata": {
    "collapsed": true
   },
   "outputs": [],
   "source": [
    "parcels = pd.read_hdf('data/bayarea_ual.h5', 'parcels')"
   ]
  },
  {
   "cell_type": "code",
   "execution_count": 19,
   "metadata": {
    "collapsed": false
   },
   "outputs": [
    {
     "data": {
      "text/plain": [
       "['development_type_id',\n",
       " 'land_value',\n",
       " 'acres',\n",
       " 'county_id',\n",
       " 'zone_id',\n",
       " 'proportion_undevelopable',\n",
       " 'tax_exempt_status',\n",
       " 'apn',\n",
       " 'parcel_id_local',\n",
       " 'geom_id',\n",
       " 'imputation_flag',\n",
       " 'x',\n",
       " 'y',\n",
       " 'shape_area',\n",
       " 'block_id',\n",
       " 'node_id']"
      ]
     },
     "execution_count": 19,
     "metadata": {},
     "output_type": "execute_result"
    }
   ],
   "source": [
    "parcels.columns.tolist()"
   ]
  },
  {
   "cell_type": "code",
   "execution_count": null,
   "metadata": {
    "collapsed": true
   },
   "outputs": [],
   "source": []
  },
  {
   "cell_type": "code",
   "execution_count": null,
   "metadata": {
    "collapsed": true
   },
   "outputs": [],
   "source": []
  }
 ],
 "metadata": {
  "kernelspec": {
   "display_name": "Python 3",
   "language": "python",
   "name": "python3"
  },
  "language_info": {
   "codemirror_mode": {
    "name": "ipython",
    "version": 3
   },
   "file_extension": ".py",
   "mimetype": "text/x-python",
   "name": "python",
   "nbconvert_exporter": "python",
   "pygments_lexer": "ipython3",
   "version": "3.6.4"
  }
 },
 "nbformat": 4,
 "nbformat_minor": 2
}
