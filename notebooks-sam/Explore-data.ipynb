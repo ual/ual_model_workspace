{
 "cells": [
  {
   "cell_type": "markdown",
   "metadata": {},
   "source": [
    "# Data exploration\n",
    "\n",
    "Sam Maurer, May 2018 | Python 3.6\n",
    "\n",
    "This notebook is for development and testing of the base data tables being used for the lab model. It also demonstrates ways to explore data registered with Orca."
   ]
  },
  {
   "cell_type": "code",
   "execution_count": 1,
   "metadata": {
    "collapsed": true
   },
   "outputs": [],
   "source": [
    "import os; os.chdir('../')"
   ]
  },
  {
   "cell_type": "code",
   "execution_count": 2,
   "metadata": {
    "collapsed": true
   },
   "outputs": [],
   "source": [
    "import numpy as np\n",
    "import pandas as pd"
   ]
  },
  {
   "cell_type": "code",
   "execution_count": 3,
   "metadata": {
    "collapsed": false
   },
   "outputs": [
    {
     "name": "stderr",
     "output_type": "stream",
     "text": [
      "/Users/maurer/anaconda/lib/python3.6/site-packages/statsmodels/compat/pandas.py:56: FutureWarning: The pandas.core.datetools module is deprecated and will be removed in a future version. Please use the pandas.tseries module instead.\n",
      "  from pandas.core import datetools\n"
     ]
    }
   ],
   "source": [
    "from urbansim_templates import modelmanager as mm\n",
    "import orca"
   ]
  },
  {
   "cell_type": "code",
   "execution_count": 4,
   "metadata": {
    "collapsed": true
   },
   "outputs": [],
   "source": [
    "# Load script-based Orca registrations\n",
    "from scripts import datasources\n",
    "from scripts import models"
   ]
  },
  {
   "cell_type": "code",
   "execution_count": null,
   "metadata": {
    "collapsed": true
   },
   "outputs": [],
   "source": []
  },
  {
   "cell_type": "markdown",
   "metadata": {},
   "source": [
    "### Tables loaded by datasources.py"
   ]
  },
  {
   "cell_type": "code",
   "execution_count": 5,
   "metadata": {
    "collapsed": false
   },
   "outputs": [
    {
     "name": "stdout",
     "output_type": "stream",
     "text": [
      "PARCELS\n",
      "['development_type_id', 'land_value', 'acres', 'county_id', 'zone_id', 'proportion_undevelopable', 'tax_exempt_status', 'apn', 'parcel_id_local', 'geom_id', 'imputation_flag', 'x', 'y', 'shape_area', 'block_id', 'node_id']\n",
      "\n",
      "BUILDINGS\n",
      "['parcel_id', 'development_type_id', 'improvement_value', 'residential_units', 'residential_sqft', 'sqft_per_unit', 'non_residential_sqft', 'building_sqft', 'nonres_rent_per_sqft', 'res_price_per_sqft', 'stories', 'year_built', 'redfin_sale_price', 'redfin_sale_year', 'redfin_home_type', 'costar_property_type', 'costar_rent', 'building_type_id', 'node_id']\n",
      "\n",
      "UNITS\n",
      "['Unnamed: 0', 'building_id', 'num_units', 'tenure', 'unit_num', 'unit_residential_price', 'unit_residential_rent', 'node_id']\n",
      "\n",
      "HOUSEHOLDS\n",
      "['household_id', 'serialno', 'persons', 'building_type', 'cars', 'income', 'race_of_head', 'hispanic_head', 'age_of_head', 'workers', 'state', 'county', 'tract', 'block group', 'children', 'tenure', 'recent_mover', 'block_group_id', 'single_family', 'unit_id', 'node_id']\n",
      "\n",
      "PERSONS\n",
      "['Unnamed: 0', 'member_id', 'age', 'relate', 'edu', 'sex', 'hours', 'hispanic', 'earning', 'race_id', 'hispanic.1', 'household_id', 'student', 'work_at_home', 'worker', 'node_id']\n",
      "\n"
     ]
    }
   ],
   "source": [
    "for table_name in orca.list_tables():\n",
    "    print(table_name.upper())\n",
    "    print(orca.get_table(table_name).to_frame().columns.tolist())\n",
    "    print()"
   ]
  },
  {
   "cell_type": "code",
   "execution_count": null,
   "metadata": {
    "collapsed": true
   },
   "outputs": [],
   "source": []
  },
  {
   "cell_type": "markdown",
   "metadata": {},
   "source": [
    "### Run network aggregations"
   ]
  },
  {
   "cell_type": "code",
   "execution_count": 6,
   "metadata": {
    "collapsed": false
   },
   "outputs": [
    {
     "name": "stdout",
     "output_type": "stream",
     "text": [
      "CPU times: user 17.1 s, sys: 494 ms, total: 17.6 s\n",
      "Wall time: 17.6 s\n"
     ]
    },
    {
     "data": {
      "text/plain": [
       "<pandana.network.Network at 0x11f6e6048>"
      ]
     },
     "execution_count": 6,
     "metadata": {},
     "output_type": "execute_result"
    }
   ],
   "source": [
    "%%time\n",
    "orca.get_injectable('net')"
   ]
  },
  {
   "cell_type": "code",
   "execution_count": 7,
   "metadata": {
    "collapsed": false
   },
   "outputs": [
    {
     "name": "stdout",
     "output_type": "stream",
     "text": [
      "Running step 'network_aggregations'\n",
      "Computing accessibility variables\n",
      "Computing sum_income_3000\n",
      "Removed 2679684 rows because they contain missing values\n",
      "Computing residential_units_500\n",
      "Removed 1843351 rows because they contain missing values\n",
      "Computing residential_units_1500\n",
      "Removed 1843351 rows because they contain missing values\n",
      "Computing population\n",
      "Removed 2679684 rows because they contain missing values\n",
      "Computing poor\n",
      "Removed 648892 rows because they contain missing values\n",
      "Computing renters\n",
      "Removed 1144592 rows because they contain missing values\n",
      "Computing ave_income_1500\n",
      "Removed 2679684 rows because they contain missing values\n",
      "Computing ave_income_500\n",
      "Removed 2679684 rows because they contain missing values\n",
      "       sum_income_3000  residential_units_500  residential_units_1500  \\\n",
      "count         226060.0               226060.0                226060.0   \n",
      "mean               0.0                    0.0                     0.0   \n",
      "std                0.0                    0.0                     0.0   \n",
      "min                0.0                    0.0                     0.0   \n",
      "25%                0.0                    0.0                     0.0   \n",
      "50%                0.0                    0.0                     0.0   \n",
      "75%                0.0                    0.0                     0.0   \n",
      "max                0.0                    0.0                     0.0   \n",
      "\n",
      "       population      poor   renters  ave_income_1500  ave_income_500  \n",
      "count    226060.0  226060.0  226060.0     2.260600e+05    2.260600e+05  \n",
      "mean          0.0       0.0       0.0             -inf            -inf  \n",
      "std           0.0       0.0       0.0              NaN             NaN  \n",
      "min           0.0       0.0       0.0             -inf            -inf  \n",
      "25%           0.0       0.0       0.0             -inf            -inf  \n",
      "50%           0.0       0.0       0.0             -inf            -inf  \n",
      "75%           0.0       0.0       0.0             -inf            -inf  \n",
      "max           0.0       0.0       0.0             -inf            -inf  \n",
      "Time to execute step 'network_aggregations': 21.24 s\n",
      "Total time to execute iteration 1 with iteration value None: 21.24 s\n"
     ]
    }
   ],
   "source": [
    "orca.run(['network_aggregations'])"
   ]
  },
  {
   "cell_type": "code",
   "execution_count": null,
   "metadata": {
    "collapsed": true
   },
   "outputs": [],
   "source": []
  },
  {
   "cell_type": "markdown",
   "metadata": {},
   "source": [
    "### Look at some data"
   ]
  },
  {
   "cell_type": "code",
   "execution_count": 8,
   "metadata": {
    "collapsed": true
   },
   "outputs": [],
   "source": [
    "households = orca.get_table('households').to_frame()"
   ]
  },
  {
   "cell_type": "code",
   "execution_count": 13,
   "metadata": {
    "collapsed": false
   },
   "outputs": [
    {
     "name": "stdout",
     "output_type": "stream",
     "text": [
      "2679684\n"
     ]
    }
   ],
   "source": [
    "print(len(households))"
   ]
  },
  {
   "cell_type": "code",
   "execution_count": 9,
   "metadata": {
    "collapsed": false
   },
   "outputs": [
    {
     "data": {
      "text/html": [
       "<div>\n",
       "<style scoped>\n",
       "    .dataframe tbody tr th:only-of-type {\n",
       "        vertical-align: middle;\n",
       "    }\n",
       "\n",
       "    .dataframe tbody tr th {\n",
       "        vertical-align: top;\n",
       "    }\n",
       "\n",
       "    .dataframe thead th {\n",
       "        text-align: right;\n",
       "    }\n",
       "</style>\n",
       "<table border=\"1\" class=\"dataframe\">\n",
       "  <thead>\n",
       "    <tr style=\"text-align: right;\">\n",
       "      <th></th>\n",
       "      <th>household_id</th>\n",
       "      <th>serialno</th>\n",
       "      <th>persons</th>\n",
       "      <th>building_type</th>\n",
       "      <th>cars</th>\n",
       "      <th>income</th>\n",
       "      <th>race_of_head</th>\n",
       "      <th>hispanic_head</th>\n",
       "      <th>age_of_head</th>\n",
       "      <th>workers</th>\n",
       "      <th>...</th>\n",
       "      <th>county</th>\n",
       "      <th>tract</th>\n",
       "      <th>block group</th>\n",
       "      <th>children</th>\n",
       "      <th>tenure</th>\n",
       "      <th>recent_mover</th>\n",
       "      <th>block_group_id</th>\n",
       "      <th>single_family</th>\n",
       "      <th>unit_id</th>\n",
       "      <th>node_id</th>\n",
       "    </tr>\n",
       "  </thead>\n",
       "  <tbody>\n",
       "    <tr>\n",
       "      <th>0</th>\n",
       "      <td>0</td>\n",
       "      <td>2010000487191</td>\n",
       "      <td>1</td>\n",
       "      <td>6.0</td>\n",
       "      <td>1.0</td>\n",
       "      <td>85000.0</td>\n",
       "      <td>1</td>\n",
       "      <td>no</td>\n",
       "      <td>47</td>\n",
       "      <td>1.0</td>\n",
       "      <td>...</td>\n",
       "      <td>85</td>\n",
       "      <td>500901</td>\n",
       "      <td>1</td>\n",
       "      <td>NaN</td>\n",
       "      <td>2</td>\n",
       "      <td>0</td>\n",
       "      <td>60855009011</td>\n",
       "      <td>False</td>\n",
       "      <td>1711366</td>\n",
       "      <td>65430040</td>\n",
       "    </tr>\n",
       "    <tr>\n",
       "      <th>1</th>\n",
       "      <td>1</td>\n",
       "      <td>2013000554587</td>\n",
       "      <td>1</td>\n",
       "      <td>9.0</td>\n",
       "      <td>1.0</td>\n",
       "      <td>27000.0</td>\n",
       "      <td>6</td>\n",
       "      <td>no</td>\n",
       "      <td>52</td>\n",
       "      <td>1.0</td>\n",
       "      <td>...</td>\n",
       "      <td>85</td>\n",
       "      <td>500901</td>\n",
       "      <td>1</td>\n",
       "      <td>NaN</td>\n",
       "      <td>2</td>\n",
       "      <td>0</td>\n",
       "      <td>60855009011</td>\n",
       "      <td>False</td>\n",
       "      <td>1711818</td>\n",
       "      <td>65529799</td>\n",
       "    </tr>\n",
       "    <tr>\n",
       "      <th>2</th>\n",
       "      <td>2</td>\n",
       "      <td>2011001140920</td>\n",
       "      <td>2</td>\n",
       "      <td>2.0</td>\n",
       "      <td>1.0</td>\n",
       "      <td>6000.0</td>\n",
       "      <td>6</td>\n",
       "      <td>no</td>\n",
       "      <td>60</td>\n",
       "      <td>1.0</td>\n",
       "      <td>...</td>\n",
       "      <td>85</td>\n",
       "      <td>500901</td>\n",
       "      <td>1</td>\n",
       "      <td>NaN</td>\n",
       "      <td>2</td>\n",
       "      <td>0</td>\n",
       "      <td>60855009011</td>\n",
       "      <td>True</td>\n",
       "      <td>1711727</td>\n",
       "      <td>65529802</td>\n",
       "    </tr>\n",
       "    <tr>\n",
       "      <th>3</th>\n",
       "      <td>3</td>\n",
       "      <td>2012001376432</td>\n",
       "      <td>1</td>\n",
       "      <td>3.0</td>\n",
       "      <td>1.0</td>\n",
       "      <td>28000.0</td>\n",
       "      <td>8</td>\n",
       "      <td>yes</td>\n",
       "      <td>51</td>\n",
       "      <td>1.0</td>\n",
       "      <td>...</td>\n",
       "      <td>85</td>\n",
       "      <td>500901</td>\n",
       "      <td>1</td>\n",
       "      <td>NaN</td>\n",
       "      <td>2</td>\n",
       "      <td>0</td>\n",
       "      <td>60855009011</td>\n",
       "      <td>True</td>\n",
       "      <td>1711548</td>\n",
       "      <td>65430040</td>\n",
       "    </tr>\n",
       "    <tr>\n",
       "      <th>4</th>\n",
       "      <td>4</td>\n",
       "      <td>2013000186929</td>\n",
       "      <td>1</td>\n",
       "      <td>6.0</td>\n",
       "      <td>1.0</td>\n",
       "      <td>10000.0</td>\n",
       "      <td>1</td>\n",
       "      <td>no</td>\n",
       "      <td>64</td>\n",
       "      <td>NaN</td>\n",
       "      <td>...</td>\n",
       "      <td>85</td>\n",
       "      <td>500901</td>\n",
       "      <td>1</td>\n",
       "      <td>NaN</td>\n",
       "      <td>2</td>\n",
       "      <td>0</td>\n",
       "      <td>60855009011</td>\n",
       "      <td>False</td>\n",
       "      <td>1711121</td>\n",
       "      <td>65430040</td>\n",
       "    </tr>\n",
       "  </tbody>\n",
       "</table>\n",
       "<p>5 rows × 21 columns</p>\n",
       "</div>"
      ],
      "text/plain": [
       "   household_id       serialno  persons  building_type  cars   income  \\\n",
       "0             0  2010000487191        1            6.0   1.0  85000.0   \n",
       "1             1  2013000554587        1            9.0   1.0  27000.0   \n",
       "2             2  2011001140920        2            2.0   1.0   6000.0   \n",
       "3             3  2012001376432        1            3.0   1.0  28000.0   \n",
       "4             4  2013000186929        1            6.0   1.0  10000.0   \n",
       "\n",
       "   race_of_head hispanic_head  age_of_head  workers    ...     county   tract  \\\n",
       "0             1            no           47      1.0    ...         85  500901   \n",
       "1             6            no           52      1.0    ...         85  500901   \n",
       "2             6            no           60      1.0    ...         85  500901   \n",
       "3             8           yes           51      1.0    ...         85  500901   \n",
       "4             1            no           64      NaN    ...         85  500901   \n",
       "\n",
       "   block group  children  tenure  recent_mover  block_group_id  single_family  \\\n",
       "0            1       NaN       2             0     60855009011          False   \n",
       "1            1       NaN       2             0     60855009011          False   \n",
       "2            1       NaN       2             0     60855009011           True   \n",
       "3            1       NaN       2             0     60855009011           True   \n",
       "4            1       NaN       2             0     60855009011          False   \n",
       "\n",
       "   unit_id   node_id  \n",
       "0  1711366  65430040  \n",
       "1  1711818  65529799  \n",
       "2  1711727  65529802  \n",
       "3  1711548  65430040  \n",
       "4  1711121  65430040  \n",
       "\n",
       "[5 rows x 21 columns]"
      ]
     },
     "execution_count": 9,
     "metadata": {},
     "output_type": "execute_result"
    }
   ],
   "source": [
    "households.head()"
   ]
  },
  {
   "cell_type": "code",
   "execution_count": 12,
   "metadata": {
    "collapsed": false
   },
   "outputs": [
    {
     "data": {
      "text/plain": [
       "count    2.679684e+06\n",
       "mean     1.131234e+05\n",
       "std      1.079445e+05\n",
       "min     -1.160000e+04\n",
       "25%      4.030000e+04\n",
       "50%      8.400000e+04\n",
       "75%      1.501000e+05\n",
       "max      1.397000e+06\n",
       "Name: income, dtype: float64"
      ]
     },
     "execution_count": 12,
     "metadata": {},
     "output_type": "execute_result"
    }
   ],
   "source": [
    "households.income.describe()"
   ]
  },
  {
   "cell_type": "code",
   "execution_count": 10,
   "metadata": {
    "collapsed": true
   },
   "outputs": [],
   "source": [
    "nodes = orca.get_table('nodes').to_frame()"
   ]
  },
  {
   "cell_type": "code",
   "execution_count": 11,
   "metadata": {
    "collapsed": false
   },
   "outputs": [
    {
     "data": {
      "text/html": [
       "<div>\n",
       "<style scoped>\n",
       "    .dataframe tbody tr th:only-of-type {\n",
       "        vertical-align: middle;\n",
       "    }\n",
       "\n",
       "    .dataframe tbody tr th {\n",
       "        vertical-align: top;\n",
       "    }\n",
       "\n",
       "    .dataframe thead th {\n",
       "        text-align: right;\n",
       "    }\n",
       "</style>\n",
       "<table border=\"1\" class=\"dataframe\">\n",
       "  <thead>\n",
       "    <tr style=\"text-align: right;\">\n",
       "      <th></th>\n",
       "      <th>sum_income_3000</th>\n",
       "      <th>residential_units_500</th>\n",
       "      <th>residential_units_1500</th>\n",
       "      <th>population</th>\n",
       "      <th>poor</th>\n",
       "      <th>renters</th>\n",
       "      <th>ave_income_1500</th>\n",
       "      <th>ave_income_500</th>\n",
       "    </tr>\n",
       "  </thead>\n",
       "  <tbody>\n",
       "    <tr>\n",
       "      <th>8</th>\n",
       "      <td>0.0</td>\n",
       "      <td>0.0</td>\n",
       "      <td>0.0</td>\n",
       "      <td>0.0</td>\n",
       "      <td>0.0</td>\n",
       "      <td>0.0</td>\n",
       "      <td>-inf</td>\n",
       "      <td>-inf</td>\n",
       "    </tr>\n",
       "    <tr>\n",
       "      <th>9</th>\n",
       "      <td>0.0</td>\n",
       "      <td>0.0</td>\n",
       "      <td>0.0</td>\n",
       "      <td>0.0</td>\n",
       "      <td>0.0</td>\n",
       "      <td>0.0</td>\n",
       "      <td>-inf</td>\n",
       "      <td>-inf</td>\n",
       "    </tr>\n",
       "    <tr>\n",
       "      <th>10</th>\n",
       "      <td>0.0</td>\n",
       "      <td>0.0</td>\n",
       "      <td>0.0</td>\n",
       "      <td>0.0</td>\n",
       "      <td>0.0</td>\n",
       "      <td>0.0</td>\n",
       "      <td>-inf</td>\n",
       "      <td>-inf</td>\n",
       "    </tr>\n",
       "    <tr>\n",
       "      <th>11</th>\n",
       "      <td>0.0</td>\n",
       "      <td>0.0</td>\n",
       "      <td>0.0</td>\n",
       "      <td>0.0</td>\n",
       "      <td>0.0</td>\n",
       "      <td>0.0</td>\n",
       "      <td>-inf</td>\n",
       "      <td>-inf</td>\n",
       "    </tr>\n",
       "    <tr>\n",
       "      <th>12</th>\n",
       "      <td>0.0</td>\n",
       "      <td>0.0</td>\n",
       "      <td>0.0</td>\n",
       "      <td>0.0</td>\n",
       "      <td>0.0</td>\n",
       "      <td>0.0</td>\n",
       "      <td>-inf</td>\n",
       "      <td>-inf</td>\n",
       "    </tr>\n",
       "  </tbody>\n",
       "</table>\n",
       "</div>"
      ],
      "text/plain": [
       "    sum_income_3000  residential_units_500  residential_units_1500  \\\n",
       "8               0.0                    0.0                     0.0   \n",
       "9               0.0                    0.0                     0.0   \n",
       "10              0.0                    0.0                     0.0   \n",
       "11              0.0                    0.0                     0.0   \n",
       "12              0.0                    0.0                     0.0   \n",
       "\n",
       "    population  poor  renters  ave_income_1500  ave_income_500  \n",
       "8          0.0   0.0      0.0             -inf            -inf  \n",
       "9          0.0   0.0      0.0             -inf            -inf  \n",
       "10         0.0   0.0      0.0             -inf            -inf  \n",
       "11         0.0   0.0      0.0             -inf            -inf  \n",
       "12         0.0   0.0      0.0             -inf            -inf  "
      ]
     },
     "execution_count": 11,
     "metadata": {},
     "output_type": "execute_result"
    }
   ],
   "source": [
    "nodes.head()"
   ]
  },
  {
   "cell_type": "code",
   "execution_count": null,
   "metadata": {
    "collapsed": true
   },
   "outputs": [],
   "source": []
  },
  {
   "cell_type": "markdown",
   "metadata": {},
   "source": [
    "### Debug network aggregations that aren't working"
   ]
  },
  {
   "cell_type": "code",
   "execution_count": 14,
   "metadata": {
    "collapsed": true
   },
   "outputs": [],
   "source": [
    "net = orca.get_injectable('net')"
   ]
  },
  {
   "cell_type": "code",
   "execution_count": 15,
   "metadata": {
    "collapsed": false
   },
   "outputs": [
    {
     "name": "stdout",
     "output_type": "stream",
     "text": [
      "Removed 2679684 rows because they contain missing values\n"
     ]
    }
   ],
   "source": [
    "net.set(households.node_id, households.income)"
   ]
  },
  {
   "cell_type": "code",
   "execution_count": 51,
   "metadata": {
    "collapsed": false
   },
   "outputs": [
    {
     "name": "stdout",
     "output_type": "stream",
     "text": [
      "2679684\n",
      "    node_id   income\n",
      "0  65430040  85000.0\n",
      "1  65529799  27000.0\n",
      "2  65529802   6000.0\n",
      "3  65430040  28000.0\n",
      "4  65430040  10000.0\n"
     ]
    }
   ],
   "source": [
    "hh = households[['node_id','income']]\n",
    "print(len(hh))\n",
    "print(hh.head())"
   ]
  },
  {
   "cell_type": "code",
   "execution_count": 20,
   "metadata": {
    "collapsed": false
   },
   "outputs": [
    {
     "name": "stdout",
     "output_type": "stream",
     "text": [
      "2489915\n"
     ]
    }
   ],
   "source": [
    "df = hh.dropna(how='any')\n",
    "print(len(df))"
   ]
  },
  {
   "cell_type": "code",
   "execution_count": 49,
   "metadata": {
    "collapsed": false
   },
   "outputs": [],
   "source": [
    "ids = pd.Series(net.node_ids)"
   ]
  },
  {
   "cell_type": "code",
   "execution_count": 50,
   "metadata": {
    "collapsed": false
   },
   "outputs": [
    {
     "data": {
      "text/plain": [
       "count    226060.000000\n",
       "mean     142550.592882\n",
       "std      101599.344926\n",
       "min           8.000000\n",
       "25%       63110.750000\n",
       "50%      122479.500000\n",
       "75%      183096.250000\n",
       "max      354696.000000\n",
       "dtype: float64"
      ]
     },
     "execution_count": 50,
     "metadata": {},
     "output_type": "execute_result"
    }
   ],
   "source": [
    "ids.describe()"
   ]
  },
  {
   "cell_type": "code",
   "execution_count": 41,
   "metadata": {
    "collapsed": false
   },
   "outputs": [
    {
     "data": {
      "text/plain": [
       "0"
      ]
     },
     "execution_count": 41,
     "metadata": {},
     "output_type": "execute_result"
    }
   ],
   "source": [
    "len(hh.loc[hh.node_id.isin(ids)])"
   ]
  },
  {
   "cell_type": "markdown",
   "metadata": {},
   "source": [
    "Problem seems to be that the node id's in the network file are different from the node id's in the MTC parcels table."
   ]
  },
  {
   "cell_type": "code",
   "execution_count": 52,
   "metadata": {
    "collapsed": true
   },
   "outputs": [],
   "source": [
    "p = orca.get_table('parcels').to_frame()"
   ]
  },
  {
   "cell_type": "code",
   "execution_count": 61,
   "metadata": {
    "collapsed": false
   },
   "outputs": [
    {
     "data": {
      "text/plain": [
       "b'parcel_id'\n",
       "229116       53091636\n",
       "244166       53059159\n",
       "202378     1852532916\n",
       "2004420    4533108955\n",
       "340332      443532766\n",
       "Name: node_id, dtype: object"
      ]
     },
     "execution_count": 61,
     "metadata": {},
     "output_type": "execute_result"
    }
   ],
   "source": [
    "p.node_id.head()"
   ]
  },
  {
   "cell_type": "markdown",
   "metadata": {},
   "source": [
    "Or maybe the ids are fine and they're just not making it to the other tables correctly."
   ]
  },
  {
   "cell_type": "code",
   "execution_count": null,
   "metadata": {
    "collapsed": true
   },
   "outputs": [],
   "source": []
  },
  {
   "cell_type": "code",
   "execution_count": null,
   "metadata": {
    "collapsed": true
   },
   "outputs": [],
   "source": []
  },
  {
   "cell_type": "markdown",
   "metadata": {},
   "source": [
    "### Look into H5 file manually"
   ]
  },
  {
   "cell_type": "code",
   "execution_count": 6,
   "metadata": {
    "collapsed": true
   },
   "outputs": [],
   "source": [
    "hdf = pd.HDFStore('data/bayarea_ual.h5', 'r')"
   ]
  },
  {
   "cell_type": "code",
   "execution_count": 9,
   "metadata": {
    "collapsed": false
   },
   "outputs": [
    {
     "data": {
      "text/plain": [
       "['/buildings',\n",
       " '/establishments',\n",
       " '/households',\n",
       " '/parcels',\n",
       " '/persons',\n",
       " '/zones']"
      ]
     },
     "execution_count": 9,
     "metadata": {},
     "output_type": "execute_result"
    }
   ],
   "source": [
    "hdf.keys()"
   ]
  },
  {
   "cell_type": "code",
   "execution_count": 10,
   "metadata": {
    "collapsed": true
   },
   "outputs": [],
   "source": [
    "hdf.close()"
   ]
  },
  {
   "cell_type": "code",
   "execution_count": 11,
   "metadata": {
    "collapsed": true
   },
   "outputs": [],
   "source": [
    "buildings = pd.read_hdf('data/bayarea_ual.h5', 'buildings')"
   ]
  },
  {
   "cell_type": "code",
   "execution_count": 14,
   "metadata": {
    "collapsed": false
   },
   "outputs": [
    {
     "data": {
      "text/plain": [
       "['parcel_id',\n",
       " 'development_type_id',\n",
       " 'improvement_value',\n",
       " 'residential_units',\n",
       " 'residential_sqft',\n",
       " 'sqft_per_unit',\n",
       " 'non_residential_sqft',\n",
       " 'building_sqft',\n",
       " 'nonres_rent_per_sqft',\n",
       " 'res_price_per_sqft',\n",
       " 'stories',\n",
       " 'year_built',\n",
       " 'redfin_sale_price',\n",
       " 'redfin_sale_year',\n",
       " 'redfin_home_type',\n",
       " 'costar_property_type',\n",
       " 'costar_rent',\n",
       " 'building_type_id']"
      ]
     },
     "execution_count": 14,
     "metadata": {},
     "output_type": "execute_result"
    }
   ],
   "source": [
    "buildings.columns.tolist()"
   ]
  },
  {
   "cell_type": "code",
   "execution_count": 15,
   "metadata": {
    "collapsed": true
   },
   "outputs": [],
   "source": [
    "parcels = pd.read_hdf('data/bayarea_ual.h5', 'parcels')"
   ]
  },
  {
   "cell_type": "code",
   "execution_count": 16,
   "metadata": {
    "collapsed": false
   },
   "outputs": [
    {
     "data": {
      "text/plain": [
       "['development_type_id',\n",
       " 'land_value',\n",
       " 'acres',\n",
       " 'county_id',\n",
       " 'zone_id',\n",
       " 'proportion_undevelopable',\n",
       " 'tax_exempt_status',\n",
       " 'apn',\n",
       " 'parcel_id_local',\n",
       " 'geom_id',\n",
       " 'imputation_flag',\n",
       " 'x',\n",
       " 'y',\n",
       " 'shape_area',\n",
       " 'block_id',\n",
       " 'node_id']"
      ]
     },
     "execution_count": 16,
     "metadata": {},
     "output_type": "execute_result"
    }
   ],
   "source": [
    "parcels.columns.tolist()"
   ]
  },
  {
   "cell_type": "code",
   "execution_count": null,
   "metadata": {
    "collapsed": true
   },
   "outputs": [],
   "source": []
  },
  {
   "cell_type": "code",
   "execution_count": null,
   "metadata": {
    "collapsed": true
   },
   "outputs": [],
   "source": []
  }
 ],
 "metadata": {
  "kernelspec": {
   "display_name": "Python 3",
   "language": "python",
   "name": "python3"
  },
  "language_info": {
   "codemirror_mode": {
    "name": "ipython",
    "version": 3
   },
   "file_extension": ".py",
   "mimetype": "text/x-python",
   "name": "python",
   "nbconvert_exporter": "python",
   "pygments_lexer": "ipython3",
   "version": "3.6.4"
  }
 },
 "nbformat": 4,
 "nbformat_minor": 2
}
