{
 "cells": [
  {
   "cell_type": "markdown",
   "metadata": {},
   "source": [
    "# Interaction and sampling demo v1\n",
    "\n",
    "This notebook estimates a simple workplace location choice model to demonstrate some new discrete choice functionality in ChoiceModels [PR #37](https://github.com/UDST/choicemodels/pull/37) and UrbanSim Templates [PR #30](https://github.com/UDST/urbansim_templates/pull/30).\n",
    "\n",
    "The headline feature is that we can now do sampling of alternatives using interaction weights that apply to particular combinations of choosers and alternatives."
   ]
  },
  {
   "cell_type": "code",
   "execution_count": 33,
   "metadata": {},
   "outputs": [],
   "source": [
    "import numpy as np\n",
    "import pandas as pd\n",
    "\n",
    "import warnings; warnings.simplefilter('ignore')"
   ]
  },
  {
   "cell_type": "code",
   "execution_count": null,
   "metadata": {},
   "outputs": [],
   "source": []
  },
  {
   "cell_type": "markdown",
   "metadata": {},
   "source": [
    "### Load home and workplace census tracts for CHTS survey participants\n",
    "\n",
    "data download: https://www.nrel.gov/transportation/secure-transportation-data.html"
   ]
  },
  {
   "cell_type": "code",
   "execution_count": 2,
   "metadata": {},
   "outputs": [],
   "source": [
    "import zipfile"
   ]
  },
  {
   "cell_type": "code",
   "execution_count": 3,
   "metadata": {},
   "outputs": [],
   "source": [
    "z = zipfile.ZipFile('/Users/maurer/Dropbox/Data/CHTS/public/caltrans_full_survey.zip')"
   ]
  },
  {
   "cell_type": "code",
   "execution_count": 4,
   "metadata": {},
   "outputs": [
    {
     "data": {
      "text/plain": [
       "42426"
      ]
     },
     "execution_count": 4,
     "metadata": {},
     "output_type": "execute_result"
    }
   ],
   "source": [
    "# Load households tables, which contains home locations\n",
    "\n",
    "households = pd.read_csv(z.open('caltrans_full_survey/survey_households.csv'), low_memory=False)\n",
    "len(households)"
   ]
  },
  {
   "cell_type": "code",
   "execution_count": 5,
   "metadata": {},
   "outputs": [
    {
     "data": {
      "text/plain": [
       "9715"
      ]
     },
     "execution_count": 5,
     "metadata": {},
     "output_type": "execute_result"
    }
   ],
   "source": [
    "# Clean and limit to Bay Area\n",
    "\n",
    "households = households.loc[~households.home_tract_id.isnull() &\n",
    "                            households.home_county_id.isin([1,13,41,55,75,81,85,95,97])]\n",
    "\n",
    "households['home_tract_id'] = households.home_tract_id.astype(int)\n",
    "len(households)"
   ]
  },
  {
   "cell_type": "code",
   "execution_count": 6,
   "metadata": {},
   "outputs": [
    {
     "data": {
      "text/plain": [
       "109113"
      ]
     },
     "execution_count": 6,
     "metadata": {},
     "output_type": "execute_result"
    }
   ],
   "source": [
    "# Load persons table, which contains employment locations\n",
    "\n",
    "persons = pd.read_csv(z.open('caltrans_full_survey/survey_person.csv'), low_memory=False)\n",
    "len(persons)"
   ]
  },
  {
   "cell_type": "code",
   "execution_count": 7,
   "metadata": {},
   "outputs": [
    {
     "data": {
      "text/plain": [
       "10217"
      ]
     },
     "execution_count": 7,
     "metadata": {},
     "output_type": "execute_result"
    }
   ],
   "source": [
    "# Clean and limit to Bay Area\n",
    "\n",
    "persons = persons.loc[~persons.empl_tract_id.isnull() &\n",
    "                      (persons.empl_tract_id // 1e9 == 6) &\n",
    "                      persons.empl_county_id.isin([1,13,41,55,75,81,85,95,97]) & \n",
    "                      persons.sampno.isin(households.sampno)]\n",
    "\n",
    "persons['empl_tract_id'] = persons.empl_tract_id.astype(int)\n",
    "len(persons)"
   ]
  },
  {
   "cell_type": "code",
   "execution_count": 8,
   "metadata": {},
   "outputs": [
    {
     "data": {
      "text/plain": [
       "10217"
      ]
     },
     "execution_count": 8,
     "metadata": {},
     "output_type": "execute_result"
    }
   ],
   "source": [
    "# Merge into a table with one observation per person\n",
    "\n",
    "obs = pd.merge(persons[['sampno', 'empl_tract_id']],\n",
    "               households[['sampno', 'home_tract_id']],\n",
    "               how='left', on='sampno')  # 'sampno' is the household identifier\n",
    "obs.index.name = 'obs_id'\n",
    "obs = obs.drop('sampno', axis='columns')\n",
    "len(obs)"
   ]
  },
  {
   "cell_type": "code",
   "execution_count": 9,
   "metadata": {},
   "outputs": [
    {
     "data": {
      "text/html": [
       "<div>\n",
       "<style scoped>\n",
       "    .dataframe tbody tr th:only-of-type {\n",
       "        vertical-align: middle;\n",
       "    }\n",
       "\n",
       "    .dataframe tbody tr th {\n",
       "        vertical-align: top;\n",
       "    }\n",
       "\n",
       "    .dataframe thead th {\n",
       "        text-align: right;\n",
       "    }\n",
       "</style>\n",
       "<table border=\"1\" class=\"dataframe\">\n",
       "  <thead>\n",
       "    <tr style=\"text-align: right;\">\n",
       "      <th></th>\n",
       "      <th>empl_tract_id</th>\n",
       "      <th>home_tract_id</th>\n",
       "    </tr>\n",
       "    <tr>\n",
       "      <th>obs_id</th>\n",
       "      <th></th>\n",
       "      <th></th>\n",
       "    </tr>\n",
       "  </thead>\n",
       "  <tbody>\n",
       "    <tr>\n",
       "      <th>0</th>\n",
       "      <td>6081608900</td>\n",
       "      <td>6081608800</td>\n",
       "    </tr>\n",
       "    <tr>\n",
       "      <th>1</th>\n",
       "      <td>6081984300</td>\n",
       "      <td>6081608800</td>\n",
       "    </tr>\n",
       "    <tr>\n",
       "      <th>2</th>\n",
       "      <td>6081613400</td>\n",
       "      <td>6081608800</td>\n",
       "    </tr>\n",
       "  </tbody>\n",
       "</table>\n",
       "</div>"
      ],
      "text/plain": [
       "        empl_tract_id  home_tract_id\n",
       "obs_id                              \n",
       "0          6081608900     6081608800\n",
       "1          6081984300     6081608800\n",
       "2          6081613400     6081608800"
      ]
     },
     "execution_count": 9,
     "metadata": {},
     "output_type": "execute_result"
    }
   ],
   "source": [
    "obs.head(3)"
   ]
  },
  {
   "cell_type": "code",
   "execution_count": 10,
   "metadata": {},
   "outputs": [],
   "source": [
    "# Calculate employment density for use as an explantory variable\n",
    "\n",
    "empl_density = persons.groupby('empl_tract_id').perwgt.sum().rename('empl_density').to_frame()"
   ]
  },
  {
   "cell_type": "code",
   "execution_count": 11,
   "metadata": {},
   "outputs": [
    {
     "data": {
      "text/plain": [
       "1241"
      ]
     },
     "execution_count": 11,
     "metadata": {},
     "output_type": "execute_result"
    }
   ],
   "source": [
    "# Build a table of alternative employment locations\n",
    "\n",
    "alts = pd.DataFrame({'empl_tract_id': obs.empl_tract_id.unique()}).set_index('empl_tract_id')\n",
    "alts = alts.join(empl_density, how='left')\n",
    "\n",
    "len(alts)"
   ]
  },
  {
   "cell_type": "code",
   "execution_count": 12,
   "metadata": {},
   "outputs": [
    {
     "data": {
      "text/html": [
       "<div>\n",
       "<style scoped>\n",
       "    .dataframe tbody tr th:only-of-type {\n",
       "        vertical-align: middle;\n",
       "    }\n",
       "\n",
       "    .dataframe tbody tr th {\n",
       "        vertical-align: top;\n",
       "    }\n",
       "\n",
       "    .dataframe thead th {\n",
       "        text-align: right;\n",
       "    }\n",
       "</style>\n",
       "<table border=\"1\" class=\"dataframe\">\n",
       "  <thead>\n",
       "    <tr style=\"text-align: right;\">\n",
       "      <th></th>\n",
       "      <th>empl_density</th>\n",
       "    </tr>\n",
       "    <tr>\n",
       "      <th>empl_tract_id</th>\n",
       "      <th></th>\n",
       "    </tr>\n",
       "  </thead>\n",
       "  <tbody>\n",
       "    <tr>\n",
       "      <th>6081608900</th>\n",
       "      <td>6.699330</td>\n",
       "    </tr>\n",
       "    <tr>\n",
       "      <th>6081984300</th>\n",
       "      <td>33.612902</td>\n",
       "    </tr>\n",
       "    <tr>\n",
       "      <th>6081613400</th>\n",
       "      <td>2.356557</td>\n",
       "    </tr>\n",
       "  </tbody>\n",
       "</table>\n",
       "</div>"
      ],
      "text/plain": [
       "               empl_density\n",
       "empl_tract_id              \n",
       "6081608900         6.699330\n",
       "6081984300        33.612902\n",
       "6081613400         2.356557"
      ]
     },
     "execution_count": 12,
     "metadata": {},
     "output_type": "execute_result"
    }
   ],
   "source": [
    "alts.head(3)"
   ]
  },
  {
   "cell_type": "code",
   "execution_count": null,
   "metadata": {},
   "outputs": [],
   "source": []
  },
  {
   "cell_type": "markdown",
   "metadata": {},
   "source": [
    "### Load census tract outlines to get centroids and Euclidean distances\n",
    "\n",
    "data download: https://www.census.gov/geo/maps-data/data/cbf/cbf_tracts.html"
   ]
  },
  {
   "cell_type": "code",
   "execution_count": 13,
   "metadata": {},
   "outputs": [],
   "source": [
    "import geopandas as gpd"
   ]
  },
  {
   "cell_type": "code",
   "execution_count": 14,
   "metadata": {},
   "outputs": [
    {
     "data": {
      "text/plain": [
       "8048"
      ]
     },
     "execution_count": 14,
     "metadata": {},
     "output_type": "execute_result"
    }
   ],
   "source": [
    "# Load cartographic tract outlines\n",
    "\n",
    "path = '/Users/maurer/Dropbox/Data/Census shapefiles/gz_2010_06_140_00_500k/gz_2010_06_140_00_500k.shp'\n",
    "tgeom = gpd.read_file(path)\n",
    "len(tgeom)"
   ]
  },
  {
   "cell_type": "code",
   "execution_count": 15,
   "metadata": {},
   "outputs": [],
   "source": [
    "# Calculate lat-lon and projected centroids\n",
    "\n",
    "tgeom['centroid_x'] = tgeom.centroid.x\n",
    "tgeom['centroid_y'] = tgeom.centroid.y\n",
    "\n",
    "tgeom = tgeom.to_crs({'init': 'epsg:26910'})  # UTM 10N, units are meters\n",
    "tgeom['x_proj'] = tgeom.centroid.x\n",
    "tgeom['y_proj'] = tgeom.centroid.y"
   ]
  },
  {
   "cell_type": "code",
   "execution_count": 16,
   "metadata": {},
   "outputs": [
    {
     "data": {
      "text/html": [
       "<div>\n",
       "<style scoped>\n",
       "    .dataframe tbody tr th:only-of-type {\n",
       "        vertical-align: middle;\n",
       "    }\n",
       "\n",
       "    .dataframe tbody tr th {\n",
       "        vertical-align: top;\n",
       "    }\n",
       "\n",
       "    .dataframe thead th {\n",
       "        text-align: right;\n",
       "    }\n",
       "</style>\n",
       "<table border=\"1\" class=\"dataframe\">\n",
       "  <thead>\n",
       "    <tr style=\"text-align: right;\">\n",
       "      <th></th>\n",
       "      <th>centroid_x</th>\n",
       "      <th>centroid_y</th>\n",
       "      <th>x_proj</th>\n",
       "      <th>y_proj</th>\n",
       "    </tr>\n",
       "    <tr>\n",
       "      <th>tract_id</th>\n",
       "      <th></th>\n",
       "      <th></th>\n",
       "      <th></th>\n",
       "      <th></th>\n",
       "    </tr>\n",
       "  </thead>\n",
       "  <tbody>\n",
       "    <tr>\n",
       "      <th>6001425103</th>\n",
       "      <td>-122.289857</td>\n",
       "      <td>37.842579</td>\n",
       "      <td>562482.092186</td>\n",
       "      <td>4.188587e+06</td>\n",
       "    </tr>\n",
       "    <tr>\n",
       "      <th>6001425104</th>\n",
       "      <td>-122.283413</td>\n",
       "      <td>37.832637</td>\n",
       "      <td>563057.536773</td>\n",
       "      <td>4.187488e+06</td>\n",
       "    </tr>\n",
       "    <tr>\n",
       "      <th>6001426100</th>\n",
       "      <td>-122.225388</td>\n",
       "      <td>37.821620</td>\n",
       "      <td>568173.854727</td>\n",
       "      <td>4.186306e+06</td>\n",
       "    </tr>\n",
       "  </tbody>\n",
       "</table>\n",
       "</div>"
      ],
      "text/plain": [
       "            centroid_x  centroid_y         x_proj        y_proj\n",
       "tract_id                                                       \n",
       "6001425103 -122.289857   37.842579  562482.092186  4.188587e+06\n",
       "6001425104 -122.283413   37.832637  563057.536773  4.187488e+06\n",
       "6001426100 -122.225388   37.821620  568173.854727  4.186306e+06"
      ]
     },
     "execution_count": 16,
     "metadata": {},
     "output_type": "execute_result"
    }
   ],
   "source": [
    "# Convert the tract id's\n",
    "\n",
    "tgeom['tract_id'] = tgeom.GEO_ID.apply(lambda x: int(x[-10:]))\n",
    "\n",
    "tgeom = tgeom[['tract_id', 'centroid_x', 'centroid_y', 'x_proj', 'y_proj']].set_index('tract_id')\n",
    "tgeom.head(3)"
   ]
  },
  {
   "cell_type": "code",
   "execution_count": 17,
   "metadata": {},
   "outputs": [
    {
     "data": {
      "text/plain": [
       "1549"
      ]
     },
     "execution_count": 17,
     "metadata": {},
     "output_type": "execute_result"
    }
   ],
   "source": [
    "# Limit to Bay Area\n",
    "\n",
    "tgeom = tgeom.loc[tgeom.index.isin(obs.home_tract_id) |\n",
    "                  tgeom.index.isin(obs.empl_tract_id)]\n",
    "len(tgeom)"
   ]
  },
  {
   "cell_type": "code",
   "execution_count": 18,
   "metadata": {},
   "outputs": [
    {
     "name": "stdout",
     "output_type": "stream",
     "text": [
      "0\n",
      "0\n"
     ]
    }
   ],
   "source": [
    "# Check that all the CHTS tracts are covered\n",
    "\n",
    "print(sum(~obs.home_tract_id.isin(tgeom.index.values)))\n",
    "print(sum(~obs.empl_tract_id.isin(tgeom.index.values)))"
   ]
  },
  {
   "cell_type": "code",
   "execution_count": null,
   "metadata": {},
   "outputs": [],
   "source": []
  },
  {
   "cell_type": "markdown",
   "metadata": {
    "collapsed": true
   },
   "source": [
    "### Calculate a matrix of Euclidean distances between tracts"
   ]
  },
  {
   "cell_type": "code",
   "execution_count": 19,
   "metadata": {},
   "outputs": [
    {
     "name": "stderr",
     "output_type": "stream",
     "text": [
      "/Users/maurer/anaconda3/envs/dissertation-env/lib/python3.6/site-packages/statsmodels/compat/pandas.py:56: FutureWarning: The pandas.core.datetools module is deprecated and will be removed in a future version. Please use the pandas.tseries module instead.\n",
      "  from pandas.core import datetools\n"
     ]
    }
   ],
   "source": [
    "from choicemodels.tools.distancematrix import distance_matrix"
   ]
  },
  {
   "cell_type": "code",
   "execution_count": 20,
   "metadata": {},
   "outputs": [
    {
     "name": "stdout",
     "output_type": "stream",
     "text": [
      "CPU times: user 104 ms, sys: 56.5 ms, total: 161 ms\n",
      "Wall time: 152 ms\n"
     ]
    }
   ],
   "source": [
    "%%time\n",
    "data = tgeom[['x_proj', 'y_proj']]\n",
    "dm = distance_matrix(data, x='x_proj', y='y_proj')"
   ]
  },
  {
   "cell_type": "code",
   "execution_count": 21,
   "metadata": {},
   "outputs": [
    {
     "data": {
      "text/plain": [
       "pandas.core.series.Series"
      ]
     },
     "execution_count": 21,
     "metadata": {},
     "output_type": "execute_result"
    }
   ],
   "source": [
    "type(dm)"
   ]
  },
  {
   "cell_type": "code",
   "execution_count": 22,
   "metadata": {},
   "outputs": [
    {
     "name": "stdout",
     "output_type": "stream",
     "text": [
      "2399401\n"
     ]
    },
    {
     "data": {
      "text/html": [
       "<div>\n",
       "<style scoped>\n",
       "    .dataframe tbody tr th:only-of-type {\n",
       "        vertical-align: middle;\n",
       "    }\n",
       "\n",
       "    .dataframe tbody tr th {\n",
       "        vertical-align: top;\n",
       "    }\n",
       "\n",
       "    .dataframe thead th {\n",
       "        text-align: right;\n",
       "    }\n",
       "</style>\n",
       "<table border=\"1\" class=\"dataframe\">\n",
       "  <thead>\n",
       "    <tr style=\"text-align: right;\">\n",
       "      <th></th>\n",
       "      <th></th>\n",
       "      <th>distance_km</th>\n",
       "    </tr>\n",
       "    <tr>\n",
       "      <th>home_tract_id</th>\n",
       "      <th>empl_tract_id</th>\n",
       "      <th></th>\n",
       "    </tr>\n",
       "  </thead>\n",
       "  <tbody>\n",
       "    <tr>\n",
       "      <th rowspan=\"3\" valign=\"top\">6001425103</th>\n",
       "      <th>6001425103</th>\n",
       "      <td>0.000000</td>\n",
       "    </tr>\n",
       "    <tr>\n",
       "      <th>6001425104</th>\n",
       "      <td>1.240268</td>\n",
       "    </tr>\n",
       "    <tr>\n",
       "      <th>6001426100</th>\n",
       "      <td>6.131537</td>\n",
       "    </tr>\n",
       "  </tbody>\n",
       "</table>\n",
       "</div>"
      ],
      "text/plain": [
       "                             distance_km\n",
       "home_tract_id empl_tract_id             \n",
       "6001425103    6001425103        0.000000\n",
       "              6001425104        1.240268\n",
       "              6001426100        6.131537"
      ]
     },
     "execution_count": 22,
     "metadata": {},
     "output_type": "execute_result"
    }
   ],
   "source": [
    "dm.index.set_names(('home_tract_id', 'empl_tract_id'), inplace=True)\n",
    "dm = dm.rename('distance_km').to_frame()\n",
    "dm = dm / 1000\n",
    "\n",
    "print(len(dm))\n",
    "dm.head(3)"
   ]
  },
  {
   "cell_type": "code",
   "execution_count": null,
   "metadata": {},
   "outputs": [],
   "source": []
  },
  {
   "cell_type": "markdown",
   "metadata": {},
   "source": [
    "### Example 1: Uniform sampling of alternatives, with distance as an interaction term"
   ]
  },
  {
   "cell_type": "code",
   "execution_count": 23,
   "metadata": {},
   "outputs": [],
   "source": [
    "from choicemodels import MultinomialLogit\n",
    "from choicemodels.tools import MergedChoiceTable"
   ]
  },
  {
   "cell_type": "code",
   "execution_count": 24,
   "metadata": {},
   "outputs": [
    {
     "name": "stdout",
     "output_type": "stream",
     "text": [
      "CPU times: user 490 ms, sys: 165 ms, total: 654 ms\n",
      "Wall time: 595 ms\n"
     ]
    }
   ],
   "source": [
    "%%time\n",
    "mct = MergedChoiceTable(obs, alts, chosen_alternatives='empl_tract_id',\n",
    "                        sample_size=10, interaction_terms=dm)"
   ]
  },
  {
   "cell_type": "code",
   "execution_count": 25,
   "metadata": {},
   "outputs": [
    {
     "data": {
      "text/plain": [
       "102170"
      ]
     },
     "execution_count": 25,
     "metadata": {},
     "output_type": "execute_result"
    }
   ],
   "source": [
    "len(mct.to_frame())"
   ]
  },
  {
   "cell_type": "code",
   "execution_count": 26,
   "metadata": {},
   "outputs": [
    {
     "data": {
      "text/html": [
       "<div>\n",
       "<style scoped>\n",
       "    .dataframe tbody tr th:only-of-type {\n",
       "        vertical-align: middle;\n",
       "    }\n",
       "\n",
       "    .dataframe tbody tr th {\n",
       "        vertical-align: top;\n",
       "    }\n",
       "\n",
       "    .dataframe thead th {\n",
       "        text-align: right;\n",
       "    }\n",
       "</style>\n",
       "<table border=\"1\" class=\"dataframe\">\n",
       "  <thead>\n",
       "    <tr style=\"text-align: right;\">\n",
       "      <th></th>\n",
       "      <th></th>\n",
       "      <th>home_tract_id</th>\n",
       "      <th>empl_density</th>\n",
       "      <th>chosen</th>\n",
       "      <th>distance_km</th>\n",
       "    </tr>\n",
       "    <tr>\n",
       "      <th>obs_id</th>\n",
       "      <th>empl_tract_id</th>\n",
       "      <th></th>\n",
       "      <th></th>\n",
       "      <th></th>\n",
       "      <th></th>\n",
       "    </tr>\n",
       "  </thead>\n",
       "  <tbody>\n",
       "    <tr>\n",
       "      <th rowspan=\"3\" valign=\"top\">10216</th>\n",
       "      <th>6081605000</th>\n",
       "      <td>6081608100</td>\n",
       "      <td>19.079771</td>\n",
       "      <td>1</td>\n",
       "      <td>11.504308</td>\n",
       "    </tr>\n",
       "    <tr>\n",
       "      <th>6085509403</th>\n",
       "      <td>6081608100</td>\n",
       "      <td>2.703642</td>\n",
       "      <td>0</td>\n",
       "      <td>23.242265</td>\n",
       "    </tr>\n",
       "    <tr>\n",
       "      <th>6085507205</th>\n",
       "      <td>6081608100</td>\n",
       "      <td>1.455352</td>\n",
       "      <td>0</td>\n",
       "      <td>41.858110</td>\n",
       "    </tr>\n",
       "  </tbody>\n",
       "</table>\n",
       "</div>"
      ],
      "text/plain": [
       "                      home_tract_id  empl_density  chosen  distance_km\n",
       "obs_id empl_tract_id                                                  \n",
       "10216  6081605000        6081608100     19.079771       1    11.504308\n",
       "       6085509403        6081608100      2.703642       0    23.242265\n",
       "       6085507205        6081608100      1.455352       0    41.858110"
      ]
     },
     "execution_count": 26,
     "metadata": {},
     "output_type": "execute_result"
    }
   ],
   "source": [
    "mct.to_frame().head(3)"
   ]
  },
  {
   "cell_type": "code",
   "execution_count": 27,
   "metadata": {},
   "outputs": [
    {
     "name": "stderr",
     "output_type": "stream",
     "text": [
      "/Users/maurer/Dropbox/Git-mbp13/udst/choicemodels/choicemodels/mnl.py:219: FutureWarning: Method .as_matrix will be removed in a future version. Use .values instead.\n",
      "  chosen = np.reshape(self._data[[self._choice_col]].as_matrix(),\n",
      "/Users/maurer/Dropbox/Git-mbp13/udst/choicemodels/choicemodels/mnl.py:222: FutureWarning: Method .as_matrix will be removed in a future version. Use .values instead.\n",
      "  log_lik, fit = mnl_estimate(model_design.as_matrix(), chosen, self._numalts)\n"
     ]
    },
    {
     "data": {
      "text/plain": [
       "                  CHOICEMODELS ESTIMATION RESULTS                  \n",
       "===================================================================\n",
       "Dep. Var.:                chosen   No. Observations:         10,217\n",
       "Model:         Multinomial Logit   Df Residuals:             10,215\n",
       "Method:       Maximum Likelihood   Df Model:                      2\n",
       "Date:                 2018-08-27   Pseudo R-squ.:             0.566\n",
       "Time:                      17:33   Pseudo R-bar-squ.:         0.566\n",
       "AIC:                  20,441.334   Log-Likelihood:      -10,218.667\n",
       "BIC:                  20,455.798   LL-Null:             -23,525.512\n",
       "==================================================================\n",
       "                  coef   std err          z     P>|z|   Conf. Int.\n",
       "------------------------------------------------------------------\n",
       "empl_density    0.0370     0.000    110.344     0.000             \n",
       "distance_km    -0.0898     0.001   -152.994     0.000             \n",
       "=================================================================="
      ]
     },
     "execution_count": 27,
     "metadata": {},
     "output_type": "execute_result"
    }
   ],
   "source": [
    "# Estimate a model using ChoiceModels directly\n",
    "\n",
    "model = MultinomialLogit(data=mct.to_frame(),\n",
    "                         observation_id_col=mct.observation_id_col,\n",
    "                         choice_col=mct.choice_col,\n",
    "                         model_expression='empl_density + distance_km - 1')\n",
    "\n",
    "model.fit()"
   ]
  },
  {
   "cell_type": "code",
   "execution_count": null,
   "metadata": {},
   "outputs": [],
   "source": []
  },
  {
   "cell_type": "markdown",
   "metadata": {},
   "source": [
    "### Example 2: Using distance to generate sampling weights"
   ]
  },
  {
   "cell_type": "code",
   "execution_count": 47,
   "metadata": {},
   "outputs": [],
   "source": [
    "# Make distant alternatives less likely to appear in the choice set\n",
    "\n",
    "w = (dm**-0.3).clip(upper=1.0).distance_km.rename('w').to_frame()"
   ]
  },
  {
   "cell_type": "code",
   "execution_count": 48,
   "metadata": {},
   "outputs": [
    {
     "data": {
      "text/html": [
       "<div>\n",
       "<style scoped>\n",
       "    .dataframe tbody tr th:only-of-type {\n",
       "        vertical-align: middle;\n",
       "    }\n",
       "\n",
       "    .dataframe tbody tr th {\n",
       "        vertical-align: top;\n",
       "    }\n",
       "\n",
       "    .dataframe thead th {\n",
       "        text-align: right;\n",
       "    }\n",
       "</style>\n",
       "<table border=\"1\" class=\"dataframe\">\n",
       "  <thead>\n",
       "    <tr style=\"text-align: right;\">\n",
       "      <th></th>\n",
       "      <th></th>\n",
       "      <th>w</th>\n",
       "    </tr>\n",
       "    <tr>\n",
       "      <th>home_tract_id</th>\n",
       "      <th>empl_tract_id</th>\n",
       "      <th></th>\n",
       "    </tr>\n",
       "  </thead>\n",
       "  <tbody>\n",
       "    <tr>\n",
       "      <th rowspan=\"3\" valign=\"top\">6001425103</th>\n",
       "      <th>6001425103</th>\n",
       "      <td>1.000000</td>\n",
       "    </tr>\n",
       "    <tr>\n",
       "      <th>6001425104</th>\n",
       "      <td>0.937444</td>\n",
       "    </tr>\n",
       "    <tr>\n",
       "      <th>6001426100</th>\n",
       "      <td>0.580402</td>\n",
       "    </tr>\n",
       "  </tbody>\n",
       "</table>\n",
       "</div>"
      ],
      "text/plain": [
       "                                    w\n",
       "home_tract_id empl_tract_id          \n",
       "6001425103    6001425103     1.000000\n",
       "              6001425104     0.937444\n",
       "              6001426100     0.580402"
      ]
     },
     "execution_count": 48,
     "metadata": {},
     "output_type": "execute_result"
    }
   ],
   "source": [
    "w.head(3)"
   ]
  },
  {
   "cell_type": "code",
   "execution_count": 49,
   "metadata": {},
   "outputs": [
    {
     "data": {
      "text/html": [
       "<div>\n",
       "<style scoped>\n",
       "    .dataframe tbody tr th:only-of-type {\n",
       "        vertical-align: middle;\n",
       "    }\n",
       "\n",
       "    .dataframe tbody tr th {\n",
       "        vertical-align: top;\n",
       "    }\n",
       "\n",
       "    .dataframe thead th {\n",
       "        text-align: right;\n",
       "    }\n",
       "</style>\n",
       "<table border=\"1\" class=\"dataframe\">\n",
       "  <thead>\n",
       "    <tr style=\"text-align: right;\">\n",
       "      <th></th>\n",
       "      <th></th>\n",
       "      <th>w</th>\n",
       "    </tr>\n",
       "    <tr>\n",
       "      <th>obs_id</th>\n",
       "      <th>empl_tract_id</th>\n",
       "      <th></th>\n",
       "    </tr>\n",
       "  </thead>\n",
       "  <tbody>\n",
       "    <tr>\n",
       "      <th rowspan=\"3\" valign=\"top\">0</th>\n",
       "      <th>6081608900</th>\n",
       "      <td>0.917810</td>\n",
       "    </tr>\n",
       "    <tr>\n",
       "      <th>6081984300</th>\n",
       "      <td>0.460742</td>\n",
       "    </tr>\n",
       "    <tr>\n",
       "      <th>6081613400</th>\n",
       "      <td>0.482608</td>\n",
       "    </tr>\n",
       "  </tbody>\n",
       "</table>\n",
       "</div>"
      ],
      "text/plain": [
       "                             w\n",
       "obs_id empl_tract_id          \n",
       "0      6081608900     0.917810\n",
       "       6081984300     0.460742\n",
       "       6081613400     0.482608"
      ]
     },
     "execution_count": 49,
     "metadata": {},
     "output_type": "execute_result"
    }
   ],
   "source": [
    "# For now, weights have to be specified with respect to the observation id\n",
    "# rather than based on derivative characteristics like the home census tract\n",
    "\n",
    "ids = obs.reset_index()[['obs_id','home_tract_id']].assign(temp=1)\\\n",
    "         .merge(alts.reset_index()[['empl_tract_id']].assign(temp=1))\\\n",
    "         .drop('temp', axis='columns')  # cartesian product of the obs and alt ids\n",
    "\n",
    "weights = ids.merge(w, how='left', on=['home_tract_id', 'empl_tract_id'])\\\n",
    "             .drop('home_tract_id', axis='columns').set_index(['obs_id', 'empl_tract_id'])\n",
    "\n",
    "weights.head(3)"
   ]
  },
  {
   "cell_type": "code",
   "execution_count": 50,
   "metadata": {},
   "outputs": [
    {
     "name": "stdout",
     "output_type": "stream",
     "text": [
      "12679297\n",
      "12679297\n"
     ]
    }
   ],
   "source": [
    "print(len(weights))\n",
    "print(len(obs) * len(alts))"
   ]
  },
  {
   "cell_type": "code",
   "execution_count": 51,
   "metadata": {},
   "outputs": [
    {
     "name": "stdout",
     "output_type": "stream",
     "text": [
      "CPU times: user 14 s, sys: 289 ms, total: 14.3 s\n",
      "Wall time: 14.3 s\n"
     ]
    }
   ],
   "source": [
    "%%time\n",
    "mct = MergedChoiceTable(obs, alts, chosen_alternatives='empl_tract_id',\n",
    "                        sample_size=10, weights=weights.w, interaction_terms=dm)"
   ]
  },
  {
   "cell_type": "code",
   "execution_count": 52,
   "metadata": {},
   "outputs": [
    {
     "data": {
      "text/plain": [
       "102170"
      ]
     },
     "execution_count": 52,
     "metadata": {},
     "output_type": "execute_result"
    }
   ],
   "source": [
    "len(mct.to_frame())"
   ]
  },
  {
   "cell_type": "code",
   "execution_count": 53,
   "metadata": {},
   "outputs": [
    {
     "data": {
      "text/plain": [
       "                  CHOICEMODELS ESTIMATION RESULTS                  \n",
       "===================================================================\n",
       "Dep. Var.:                chosen   No. Observations:         10,217\n",
       "Model:         Multinomial Logit   Df Residuals:             10,215\n",
       "Method:       Maximum Likelihood   Df Model:                      2\n",
       "Date:                 2018-08-27   Pseudo R-squ.:             0.465\n",
       "Time:                      17:51   Pseudo R-bar-squ.:         0.465\n",
       "AIC:                  25,160.626   Log-Likelihood:      -12,578.313\n",
       "BIC:                  25,175.090   LL-Null:             -23,525.512\n",
       "==================================================================\n",
       "                  coef   std err          z     P>|z|   Conf. Int.\n",
       "------------------------------------------------------------------\n",
       "empl_density    0.0348     0.000    115.660     0.000             \n",
       "distance_km    -0.0745     0.001   -131.829     0.000             \n",
       "=================================================================="
      ]
     },
     "execution_count": 53,
     "metadata": {},
     "output_type": "execute_result"
    }
   ],
   "source": [
    "# Estimate a model using ChoiceModels directly\n",
    "\n",
    "model = MultinomialLogit(data=mct.to_frame(),\n",
    "                         observation_id_col=mct.observation_id_col,\n",
    "                         choice_col=mct.choice_col,\n",
    "                         model_expression='empl_density + distance_km - 1')\n",
    "\n",
    "model.fit()"
   ]
  },
  {
   "cell_type": "markdown",
   "metadata": {},
   "source": [
    "This improves our ability to estimate the impact of non-distance factors (z-statistic of employment density is higher), while reducing the precision of the distance term."
   ]
  },
  {
   "cell_type": "code",
   "execution_count": null,
   "metadata": {},
   "outputs": [],
   "source": []
  },
  {
   "cell_type": "markdown",
   "metadata": {},
   "source": [
    "### Example 3: Estimating the model in UrbanSim Templates\n",
    "\n",
    "There is also now a backdoor to pass a MergedChoiceTable directly to the fit() method of the LargeMultinomialLogitStep template. Direct support for weights and interaction terms is in progress."
   ]
  },
  {
   "cell_type": "code",
   "execution_count": 56,
   "metadata": {},
   "outputs": [],
   "source": [
    "from urbansim_templates.models import LargeMultinomialLogitStep"
   ]
  },
  {
   "cell_type": "code",
   "execution_count": 57,
   "metadata": {},
   "outputs": [],
   "source": [
    "m = LargeMultinomialLogitStep()"
   ]
  },
  {
   "cell_type": "code",
   "execution_count": 58,
   "metadata": {},
   "outputs": [],
   "source": [
    "m.model_expression = 'empl_density + distance_km - 1'"
   ]
  },
  {
   "cell_type": "code",
   "execution_count": 59,
   "metadata": {},
   "outputs": [
    {
     "name": "stdout",
     "output_type": "stream",
     "text": [
      "                  CHOICEMODELS ESTIMATION RESULTS                  \n",
      "===================================================================\n",
      "Dep. Var.:                chosen   No. Observations:         10,217\n",
      "Model:         Multinomial Logit   Df Residuals:             10,215\n",
      "Method:       Maximum Likelihood   Df Model:                      2\n",
      "Date:                 2018-08-27   Pseudo R-squ.:             0.465\n",
      "Time:                      18:06   Pseudo R-bar-squ.:         0.465\n",
      "AIC:                  25,160.626   Log-Likelihood:      -12,578.313\n",
      "BIC:                  25,175.090   LL-Null:             -23,525.512\n",
      "==================================================================\n",
      "                  coef   std err          z     P>|z|   Conf. Int.\n",
      "------------------------------------------------------------------\n",
      "empl_density    0.0348     0.000    115.660     0.000             \n",
      "distance_km    -0.0745     0.001   -131.829     0.000             \n",
      "==================================================================\n"
     ]
    }
   ],
   "source": [
    "m.fit(mct)"
   ]
  },
  {
   "cell_type": "code",
   "execution_count": null,
   "metadata": {},
   "outputs": [],
   "source": []
  },
  {
   "cell_type": "code",
   "execution_count": null,
   "metadata": {},
   "outputs": [],
   "source": []
  },
  {
   "cell_type": "code",
   "execution_count": null,
   "metadata": {},
   "outputs": [],
   "source": []
  },
  {
   "cell_type": "code",
   "execution_count": null,
   "metadata": {},
   "outputs": [],
   "source": []
  },
  {
   "cell_type": "code",
   "execution_count": null,
   "metadata": {},
   "outputs": [],
   "source": []
  }
 ],
 "metadata": {
  "kernelspec": {
   "display_name": "Python 3",
   "language": "python",
   "name": "python3"
  },
  "language_info": {
   "codemirror_mode": {
    "name": "ipython",
    "version": 3
   },
   "file_extension": ".py",
   "mimetype": "text/x-python",
   "name": "python",
   "nbconvert_exporter": "python",
   "pygments_lexer": "ipython3",
   "version": "3.6.6"
  }
 },
 "nbformat": 4,
 "nbformat_minor": 2
}
