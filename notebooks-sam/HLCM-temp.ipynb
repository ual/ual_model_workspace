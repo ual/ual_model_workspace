{
 "cells": [
  {
   "cell_type": "markdown",
   "metadata": {},
   "source": [
    "## HLCM  \n",
    "\n",
    "Arezoo Besharati, UrbanSim, June 2018 \n",
    "\n",
    "This notebook is a primary model estimation for HLCM Bay Area\n"
   ]
  },
  {
   "cell_type": "code",
   "execution_count": 1,
   "metadata": {
    "collapsed": true
   },
   "outputs": [],
   "source": [
    "import os; os.chdir('../')\n",
    "import numpy as np, pandas as pd "
   ]
  },
  {
   "cell_type": "code",
   "execution_count": 2,
   "metadata": {
    "collapsed": false
   },
   "outputs": [
    {
     "name": "stderr",
     "output_type": "stream",
     "text": [
      "/Users/maurer/anaconda/lib/python3.6/site-packages/statsmodels/compat/pandas.py:56: FutureWarning: The pandas.core.datetools module is deprecated and will be removed in a future version. Please use the pandas.tseries module instead.\n",
      "  from pandas.core import datetools\n"
     ]
    }
   ],
   "source": [
    "from urbansim_templates import modelmanager as mm\n",
    "from urbansim_templates.models import LargeMultinomialLogitStep\n",
    "import orca"
   ]
  },
  {
   "cell_type": "markdown",
   "metadata": {},
   "source": [
    "### Load data"
   ]
  },
  {
   "cell_type": "code",
   "execution_count": 3,
   "metadata": {
    "collapsed": true
   },
   "outputs": [],
   "source": [
    "# Load any script-based Orca registrations\n",
    "from scripts import datasources\n",
    "from scripts import models"
   ]
  },
  {
   "cell_type": "markdown",
   "metadata": {},
   "source": [
    "#### Tables loaded by datasources.py"
   ]
  },
  {
   "cell_type": "code",
   "execution_count": 4,
   "metadata": {
    "collapsed": false
   },
   "outputs": [
    {
     "name": "stdout",
     "output_type": "stream",
     "text": [
      "PARCELS\n",
      "['development_type_id', 'land_value', 'acres', 'county_id', 'zone_id', 'proportion_undevelopable', 'tax_exempt_status', 'apn', 'parcel_id_local', 'geom_id', 'imputation_flag', 'x', 'y', 'shape_area', 'block_id', 'node_id']\n",
      "\n",
      "BUILDINGS\n",
      "['parcel_id', 'development_type_id', 'improvement_value', 'residential_units', 'residential_sqft', 'sqft_per_unit', 'non_residential_sqft', 'building_sqft', 'nonres_rent_per_sqft', 'res_price_per_sqft', 'stories', 'year_built', 'redfin_sale_price', 'redfin_sale_year', 'redfin_home_type', 'costar_property_type', 'costar_rent', 'building_type_id']\n",
      "\n",
      "UNITS\n",
      "['Unnamed: 0', 'building_id', 'num_units', 'tenure', 'unit_num', 'unit_residential_price', 'unit_residential_rent']\n",
      "\n",
      "HOUSEHOLDS\n",
      "['household_id', 'serialno', 'persons', 'building_type', 'cars', 'income', 'race_of_head', 'hispanic_head', 'age_of_head', 'workers', 'state', 'county', 'tract', 'block group', 'children', 'tenure', 'recent_mover', 'block_group_id', 'single_family', 'unit_id']\n",
      "\n",
      "PERSONS\n",
      "['Unnamed: 0', 'member_id', 'age', 'relate', 'edu', 'sex', 'hours', 'hispanic', 'earning', 'race_id', 'hispanic.1', 'household_id', 'student', 'work_at_home', 'worker']\n",
      "\n"
     ]
    }
   ],
   "source": [
    "for table_name in orca.list_tables():\n",
    "    print(table_name.upper())\n",
    "    print(orca.get_table(table_name).to_frame().columns.tolist())\n",
    "    print()"
   ]
  },
  {
   "cell_type": "code",
   "execution_count": 5,
   "metadata": {
    "collapsed": true
   },
   "outputs": [],
   "source": [
    "## If you wanna make a df for any of the tables\n",
    "#households = orca.get_table('households').to_frame()\n",
    "#units = orca.get_table('units').to_frame()    "
   ]
  },
  {
   "cell_type": "markdown",
   "metadata": {},
   "source": [
    "### Generate accessibility measures"
   ]
  },
  {
   "cell_type": "code",
   "execution_count": 6,
   "metadata": {
    "collapsed": true
   },
   "outputs": [],
   "source": [
    "#orca.list_steps()"
   ]
  },
  {
   "cell_type": "code",
   "execution_count": 7,
   "metadata": {
    "collapsed": false
   },
   "outputs": [
    {
     "name": "stdout",
     "output_type": "stream",
     "text": [
      "Running step 'initialize_network'\n",
      "Time to execute step 'initialize_network': 9.97 s\n",
      "Total time to execute iteration 1 with iteration value None: 9.97 s\n"
     ]
    }
   ],
   "source": [
    "orca.run(['initialize_network'])"
   ]
  },
  {
   "cell_type": "code",
   "execution_count": 8,
   "metadata": {
    "collapsed": false,
    "scrolled": true
   },
   "outputs": [
    {
     "name": "stdout",
     "output_type": "stream",
     "text": [
      "Running step 'network_aggregations'\n",
      "Computing accessibility variables\n",
      "Computing sum_income_3000\n",
      "Removed 189769 rows because they contain missing values\n",
      "Computing residential_units_500\n",
      "Removed 4 rows because they contain missing values\n",
      "Computing residential_units_1500\n",
      "Removed 4 rows because they contain missing values\n",
      "Computing population\n",
      "Removed 189769 rows because they contain missing values\n",
      "Computing poor\n",
      "Removed 53114 rows because they contain missing values\n",
      "Computing renters\n",
      "Removed 102597 rows because they contain missing values\n",
      "Computing ave_income_500\n",
      "Removed 189769 rows because they contain missing values\n",
      "       sum_income_3000  residential_units_500  residential_units_1500  \\\n",
      "count     3.082600e+04           30826.000000            30826.000000   \n",
      "mean      1.478443e+09               4.360008                6.175417   \n",
      "std       1.927634e+09               2.391189                2.258848   \n",
      "min       0.000000e+00               0.000000                0.000000   \n",
      "25%       4.960627e+08               2.993019                5.718709   \n",
      "50%       1.068240e+09               5.298047                7.001040   \n",
      "75%       1.818217e+09               6.110861                7.536843   \n",
      "max       1.568729e+10               8.692843               10.171852   \n",
      "\n",
      "         population          poor       renters  ave_income_500  \n",
      "count  30826.000000  30826.000000  30826.000000    3.082600e+04  \n",
      "mean       6.964573      5.264169      5.140178            -inf  \n",
      "std        2.421608      2.210165      2.218859             NaN  \n",
      "min        0.000000      0.000000      0.000000            -inf  \n",
      "25%        6.571062      4.496625      4.276326    1.080773e+01  \n",
      "50%        7.884789      5.893643      5.750208    1.128979e+01  \n",
      "75%        8.420608      6.709006      6.635617    1.160824e+01  \n",
      "max       10.476329      9.721747      9.963508    1.382249e+01  \n",
      "Time to execute step 'network_aggregations': 15.26 s\n",
      "Total time to execute iteration 1 with iteration value None: 15.26 s\n"
     ]
    }
   ],
   "source": [
    "orca.run(['network_aggregations'])"
   ]
  },
  {
   "cell_type": "code",
   "execution_count": 9,
   "metadata": {
    "collapsed": false,
    "scrolled": false
   },
   "outputs": [
    {
     "name": "stdout",
     "output_type": "stream",
     "text": [
      "PARCELS\n",
      "['development_type_id', 'land_value', 'acres', 'county_id', 'zone_id', 'proportion_undevelopable', 'tax_exempt_status', 'apn', 'parcel_id_local', 'geom_id', 'imputation_flag', 'x', 'y', 'shape_area', 'block_id', 'node_id']\n",
      "\n",
      "BUILDINGS\n",
      "['parcel_id', 'development_type_id', 'improvement_value', 'residential_units', 'residential_sqft', 'sqft_per_unit', 'non_residential_sqft', 'building_sqft', 'nonres_rent_per_sqft', 'res_price_per_sqft', 'stories', 'year_built', 'redfin_sale_price', 'redfin_sale_year', 'redfin_home_type', 'costar_property_type', 'costar_rent', 'building_type_id', 'node_id']\n",
      "\n",
      "UNITS\n",
      "['Unnamed: 0', 'building_id', 'num_units', 'tenure', 'unit_num', 'unit_residential_price', 'unit_residential_rent', 'node_id']\n",
      "\n",
      "HOUSEHOLDS\n",
      "['household_id', 'serialno', 'persons', 'building_type', 'cars', 'income', 'race_of_head', 'hispanic_head', 'age_of_head', 'workers', 'state', 'county', 'tract', 'block group', 'children', 'tenure', 'recent_mover', 'block_group_id', 'single_family', 'unit_id', 'node_id']\n",
      "\n",
      "PERSONS\n",
      "['Unnamed: 0', 'member_id', 'age', 'relate', 'edu', 'sex', 'hours', 'hispanic', 'earning', 'race_id', 'hispanic.1', 'household_id', 'student', 'work_at_home', 'worker', 'node_id']\n",
      "\n",
      "NODES\n",
      "['sum_income_3000', 'residential_units_500', 'residential_units_1500', 'population', 'poor', 'renters', 'ave_income_500']\n",
      "\n"
     ]
    }
   ],
   "source": [
    "for table_name in orca.list_tables():\n",
    "    print(table_name.upper())\n",
    "    print(orca.get_table(table_name).to_frame().columns.tolist())\n",
    "    print()"
   ]
  },
  {
   "cell_type": "markdown",
   "metadata": {},
   "source": [
    "## Model Estimation"
   ]
  },
  {
   "cell_type": "markdown",
   "metadata": {},
   "source": [
    "### First model: includes only building related variables\n"
   ]
  },
  {
   "cell_type": "code",
   "execution_count": 10,
   "metadata": {
    "collapsed": true
   },
   "outputs": [],
   "source": [
    "m1 = LargeMultinomialLogitStep()\n",
    "m1.choosers = ['households']\n",
    "m1.alternatives = ['units', 'buildings']\n",
    "m1.choice_column = 'unit_id'\n",
    "m1.alt_sample_size = 10\n",
    "\n",
    "m1.model_expression = 'res_price_per_sqft + non_residential_sqft - 1'\n",
    "\n",
    "m1.name = 'hlcm1'\n",
    "m1.tags = ['arezoo', 'test', 'buildingsVar']"
   ]
  },
  {
   "cell_type": "code",
   "execution_count": 11,
   "metadata": {
    "collapsed": false
   },
   "outputs": [
    {
     "name": "stdout",
     "output_type": "stream",
     "text": [
      "                   CHOICEMODELS ESTIMATION RESULTS                    \n",
      "======================================================================\n",
      "Dep. Var.:                chosen   No. Observations:                  \n",
      "Model:         Multinomial Logit   Df Residuals:                      \n",
      "Method:       Maximum Likelihood   Df Model:                          \n",
      "Date:                              Pseudo R-squ.:                     \n",
      "Time:                              Pseudo R-bar-squ.:                 \n",
      "AIC:                               Log-Likelihood:      -5,733,227.662\n",
      "BIC:                               LL-Null:             -5,733,241.162\n",
      "=========================================================================\n",
      "                          coef   std err         z     P>|z|   Conf. Int.\n",
      "-------------------------------------------------------------------------\n",
      "res_price_per_sqft      0.0000     0.000     6.064                       \n",
      "non_residential_sqft   -0.0000     0.000    -0.278                       \n",
      "=========================================================================\n",
      "CPU times: user 2min 36s, sys: 1min 27s, total: 4min 4s\n",
      "Wall time: 4min 3s\n"
     ]
    }
   ],
   "source": [
    "%%time\n",
    "m1.fit()"
   ]
  },
  {
   "cell_type": "markdown",
   "metadata": {},
   "source": [
    "### Second model: includes only neighborhood variables "
   ]
  },
  {
   "cell_type": "markdown",
   "metadata": {},
   "source": [
    "Warning: there should be no missing values in columns that we put in model expression"
   ]
  },
  {
   "cell_type": "code",
   "execution_count": 12,
   "metadata": {
    "collapsed": true
   },
   "outputs": [],
   "source": [
    "# Handling missing data"
   ]
  },
  {
   "cell_type": "code",
   "execution_count": 13,
   "metadata": {
    "collapsed": true
   },
   "outputs": [],
   "source": [
    "nds = orca.get_table('nodes').to_frame()  "
   ]
  },
  {
   "cell_type": "code",
   "execution_count": 14,
   "metadata": {
    "collapsed": true
   },
   "outputs": [],
   "source": [
    "#nodes.dropna(axis=0, how='any', inplace = True)\n",
    "nds.fillna(nds.mean())\n",
    "# Update column\n",
    "orca.get_table('nodes').update_col_from_series('residential_units_500', nds.residential_units_500)"
   ]
  },
  {
   "cell_type": "code",
   "execution_count": 15,
   "metadata": {
    "collapsed": true
   },
   "outputs": [],
   "source": [
    "m2 = LargeMultinomialLogitStep()\n",
    "m2.choosers = ['households']\n",
    "m2.alternatives = ['units', 'nodes']\n",
    "m2.choice_column = 'unit_id'\n",
    "m2.alt_sample_size = 10\n",
    "\n",
    "m2.model_expression = 'residential_units_500 - 1'\n",
    "\n",
    "m2.name = 'hlcm2'\n",
    "m2.tags = ['arezoo', 'test', 'neighborhoodVar']"
   ]
  },
  {
   "cell_type": "code",
   "execution_count": 13,
   "metadata": {
    "collapsed": false
   },
   "outputs": [
    {
     "data": {
      "text/plain": [
       "[('parcels', 'buildings'),\n",
       " ('buildings', 'units'),\n",
       " ('units', 'households'),\n",
       " ('households', 'persons'),\n",
       " ('nodes', 'parcels'),\n",
       " ('nodes', 'units')]"
      ]
     },
     "execution_count": 13,
     "metadata": {},
     "output_type": "execute_result"
    }
   ],
   "source": [
    "orca.list_broadcasts()"
   ]
  },
  {
   "cell_type": "code",
   "execution_count": 17,
   "metadata": {
    "collapsed": false
   },
   "outputs": [],
   "source": [
    "df = orca.merge_tables(target='units', tables=['units', 'buildings', 'parcels'])"
   ]
  },
  {
   "cell_type": "code",
   "execution_count": 18,
   "metadata": {
    "collapsed": false
   },
   "outputs": [
    {
     "name": "stdout",
     "output_type": "stream",
     "text": [
      "                   CHOICEMODELS ESTIMATION RESULTS                    \n",
      "======================================================================\n",
      "Dep. Var.:                chosen   No. Observations:                  \n",
      "Model:         Multinomial Logit   Df Residuals:                      \n",
      "Method:       Maximum Likelihood   Df Model:                          \n",
      "Date:                              Pseudo R-squ.:                     \n",
      "Time:                              Pseudo R-bar-squ.:                 \n",
      "AIC:                               Log-Likelihood:      -5,733,152.417\n",
      "BIC:                               LL-Null:             -5,733,241.162\n",
      "===========================================================================\n",
      "                           coef   std err          z     P>|z|   Conf. Int.\n",
      "---------------------------------------------------------------------------\n",
      "residential_units_500   -0.0104     0.000   -101.427                       \n",
      "===========================================================================\n",
      "CPU times: user 1min 16s, sys: 49.5 s, total: 2min 5s\n",
      "Wall time: 2min 9s\n"
     ]
    }
   ],
   "source": [
    "%%time\n",
    "m2.fit()"
   ]
  },
  {
   "cell_type": "markdown",
   "metadata": {},
   "source": [
    "### Third model: includes variables from different tables"
   ]
  },
  {
   "cell_type": "code",
   "execution_count": 11,
   "metadata": {
    "collapsed": true
   },
   "outputs": [],
   "source": [
    "m3 = LargeMultinomialLogitStep()\n",
    "m3.choosers = ['households']\n",
    "m3.alternatives = ['units', 'buildings', 'nodes']\n",
    "m3.choice_column = 'unit_id'\n",
    "m3.alt_sample_size = 10\n",
    "\n",
    "m3.model_expression = 'res_price_per_sqft + residential_units_500 - 1'\n",
    "\n",
    "m3.name = 'hlcm3'\n",
    "m3.tags = ['arezoo', 'test', 'mixedVar']"
   ]
  },
  {
   "cell_type": "code",
   "execution_count": 12,
   "metadata": {
    "collapsed": false
   },
   "outputs": [
    {
     "name": "stdout",
     "output_type": "stream",
     "text": [
      "                   CHOICEMODELS ESTIMATION RESULTS                    \n",
      "======================================================================\n",
      "Dep. Var.:                chosen   No. Observations:                  \n",
      "Model:         Multinomial Logit   Df Residuals:                      \n",
      "Method:       Maximum Likelihood   Df Model:                          \n",
      "Date:                              Pseudo R-squ.:                     \n",
      "Time:                              Pseudo R-bar-squ.:                 \n",
      "AIC:                               Log-Likelihood:      -5,733,126.645\n",
      "BIC:                               LL-Null:             -5,733,241.162\n",
      "==========================================================================\n",
      "                           coef   std err         z     P>|z|   Conf. Int.\n",
      "--------------------------------------------------------------------------\n",
      "res_price_per_sqft       0.0000     0.000     7.319                       \n",
      "residential_units_500   -0.0112     0.000   -89.320                       \n",
      "==========================================================================\n"
     ]
    }
   ],
   "source": [
    "m3.fit()"
   ]
  },
  {
   "cell_type": "code",
   "execution_count": 10,
   "metadata": {
    "collapsed": false
   },
   "outputs": [],
   "source": [
    "df = orca.merge_tables(target='units', tables=['units', 'buildings', 'nodes'])"
   ]
  },
  {
   "cell_type": "code",
   "execution_count": null,
   "metadata": {
    "collapsed": true
   },
   "outputs": [],
   "source": []
  },
  {
   "cell_type": "code",
   "execution_count": null,
   "metadata": {
    "collapsed": true
   },
   "outputs": [],
   "source": []
  }
 ],
 "metadata": {
  "kernelspec": {
   "display_name": "Python 3",
   "language": "python",
   "name": "python3"
  },
  "language_info": {
   "codemirror_mode": {
    "name": "ipython",
    "version": 3
   },
   "file_extension": ".py",
   "mimetype": "text/x-python",
   "name": "python",
   "nbconvert_exporter": "python",
   "pygments_lexer": "ipython3",
   "version": "3.6.4"
  }
 },
 "nbformat": 4,
 "nbformat_minor": 2
}
