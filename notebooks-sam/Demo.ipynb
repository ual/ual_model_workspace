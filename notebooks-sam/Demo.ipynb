{
 "cells": [
  {
   "cell_type": "markdown",
   "metadata": {},
   "source": [
    "# Live demo from 3/15/2018\n",
    "\n",
    "Sam Maurer | Python 3.6\n",
    "\n",
    "Working with Orca, UrbanSim Templates, and ModelManager"
   ]
  },
  {
   "cell_type": "code",
   "execution_count": 1,
   "metadata": {},
   "outputs": [],
   "source": [
    "import os; os.chdir('../')"
   ]
  },
  {
   "cell_type": "code",
   "execution_count": 2,
   "metadata": {},
   "outputs": [
    {
     "name": "stderr",
     "output_type": "stream",
     "text": [
      "/Users/maurer/anaconda/envs/ual-model/lib/python3.6/site-packages/statsmodels-0.8.0-py3.6-macosx-10.9-x86_64.egg/statsmodels/compat/pandas.py:56: FutureWarning: The pandas.core.datetools module is deprecated and will be removed in a future version. Please use the pandas.tseries module instead.\n",
      "  from pandas.core import datetools\n"
     ]
    }
   ],
   "source": [
    "from urbansim_templates import modelmanager as mm\n",
    "from urbansim_templates.models import BinaryLogitStep\n",
    "import orca"
   ]
  },
  {
   "cell_type": "code",
   "execution_count": 3,
   "metadata": {},
   "outputs": [],
   "source": [
    "# Load any script-based Orca registrations\n",
    "from scripts import datasources\n",
    "from scripts import models"
   ]
  },
  {
   "cell_type": "code",
   "execution_count": 4,
   "metadata": {},
   "outputs": [
    {
     "data": {
      "text/plain": [
       "['households', 'buildings']"
      ]
     },
     "execution_count": 4,
     "metadata": {},
     "output_type": "execute_result"
    }
   ],
   "source": [
    "orca.list_tables()"
   ]
  },
  {
   "cell_type": "code",
   "execution_count": 5,
   "metadata": {},
   "outputs": [
    {
     "data": {
      "text/plain": [
       "pandas.core.frame.DataFrame"
      ]
     },
     "execution_count": 5,
     "metadata": {},
     "output_type": "execute_result"
    }
   ],
   "source": [
    "type(orca.get_table('households').to_frame())"
   ]
  },
  {
   "cell_type": "code",
   "execution_count": 6,
   "metadata": {},
   "outputs": [
    {
     "name": "stdout",
     "output_type": "stream",
     "text": [
      "HOUSEHOLDS\n",
      "['household_id', 'taz', 'serialno', 'puma5', 'income', 'persons', 'hht', 'unittype', 'noc', 'bldgsz', 'tenure', 'vehicl', 'hinccat1', 'hinccat2', 'hhagecat', 'hsizecat', 'hfamily', 'hunittype', 'hnoccat', 'hwrkrcat', 'h0004', 'h0511', 'h1215', 'h1617', 'h1824', 'h2534', 'h3549', 'h5064', 'h6579', 'h80up', 'hworkers', 'hwork_f', 'hwork_p', 'huniv', 'hnwork', 'hretire', 'hpresch', 'hschpred', 'hschdriv', 'htypdwel', 'hownrent', 'hadnwst', 'hadwpst', 'hadkids', 'bucketbin', 'originalpuma', 'hmultiunit', 'building_id']\n",
      "\n",
      "BUILDINGS\n",
      "['building_id', 'parcel_id', 'development_type_id', 'improvement_value', 'residential_units', 'residential_sqft', 'sqft_per_unit', 'non_residential_sqft', 'building_sqft', 'nonres_rent_per_sqft', 'res_price_per_sqft', 'stories', 'year_built', 'redfin_sale_price', 'redfin_sale_year', 'redfin_home_type', 'costar_property_type', 'costar_rent', 'building_type_id']\n",
      "\n"
     ]
    }
   ],
   "source": [
    "for table_name in orca.list_tables():\n",
    "    print(table_name.upper())\n",
    "    print(orca.get_table(table_name).to_frame().columns.tolist())\n",
    "    print()"
   ]
  },
  {
   "cell_type": "code",
   "execution_count": null,
   "metadata": {},
   "outputs": [],
   "source": []
  },
  {
   "cell_type": "markdown",
   "metadata": {},
   "source": [
    "### Turn 'hownrent' into a 0/1 binary variable"
   ]
  },
  {
   "cell_type": "code",
   "execution_count": 7,
   "metadata": {},
   "outputs": [],
   "source": [
    "h = orca.get_table('households').to_frame()"
   ]
  },
  {
   "cell_type": "code",
   "execution_count": 8,
   "metadata": {},
   "outputs": [
    {
     "data": {
      "text/plain": [
       "count    2.608019e+06\n",
       "mean     5.869478e-01\n",
       "std      4.923821e-01\n",
       "min      0.000000e+00\n",
       "25%      0.000000e+00\n",
       "50%      1.000000e+00\n",
       "75%      1.000000e+00\n",
       "max      1.000000e+00\n",
       "Name: hownrent, dtype: float64"
      ]
     },
     "execution_count": 8,
     "metadata": {},
     "output_type": "execute_result"
    }
   ],
   "source": [
    "h.loc[h.hownrent==2, 'hownrent'] = 0\n",
    "h.hownrent.describe()"
   ]
  },
  {
   "cell_type": "code",
   "execution_count": 9,
   "metadata": {},
   "outputs": [
    {
     "data": {
      "text/plain": [
       "count    2.608019e+06\n",
       "mean     5.869478e-01\n",
       "std      4.923821e-01\n",
       "min      0.000000e+00\n",
       "25%      0.000000e+00\n",
       "50%      1.000000e+00\n",
       "75%      1.000000e+00\n",
       "max      1.000000e+00\n",
       "Name: hownrent, dtype: float64"
      ]
     },
     "execution_count": 9,
     "metadata": {},
     "output_type": "execute_result"
    }
   ],
   "source": [
    "# Update column\n",
    "orca.get_table('households').update_col_from_series('hownrent', h.hownrent)\n",
    "\n",
    "# Check that it worked\n",
    "orca.get_table('households').to_frame().hownrent.describe()"
   ]
  },
  {
   "cell_type": "code",
   "execution_count": null,
   "metadata": {},
   "outputs": [],
   "source": []
  },
  {
   "cell_type": "markdown",
   "metadata": {},
   "source": [
    "### Estimate a model"
   ]
  },
  {
   "cell_type": "code",
   "execution_count": 10,
   "metadata": {},
   "outputs": [],
   "source": [
    "m = BinaryLogitStep()"
   ]
  },
  {
   "cell_type": "code",
   "execution_count": 11,
   "metadata": {},
   "outputs": [],
   "source": [
    "m.tables = (['households','buildings'])"
   ]
  },
  {
   "cell_type": "code",
   "execution_count": 12,
   "metadata": {},
   "outputs": [],
   "source": [
    "m.model_expression = 'hownrent ~ income + persons + stories'"
   ]
  },
  {
   "cell_type": "code",
   "execution_count": 13,
   "metadata": {},
   "outputs": [],
   "source": [
    "m.filters = ['income < 500000']"
   ]
  },
  {
   "cell_type": "code",
   "execution_count": 14,
   "metadata": {},
   "outputs": [
    {
     "name": "stdout",
     "output_type": "stream",
     "text": [
      "Optimization terminated successfully.\n",
      "         Current function value: 0.618479\n",
      "         Iterations 6\n",
      "                           Logit Regression Results                           \n",
      "==============================================================================\n",
      "Dep. Variable:               hownrent   No. Observations:              2594607\n",
      "Model:                          Logit   Df Residuals:                  2594603\n",
      "Method:                           MLE   Df Model:                            3\n",
      "Date:                Fri, 16 Mar 2018   Pseudo R-squ.:                 0.08808\n",
      "Time:                        15:11:31   Log-Likelihood:            -1.6047e+06\n",
      "converged:                       True   LL-Null:                   -1.7597e+06\n",
      "                                        LLR p-value:                     0.000\n",
      "==============================================================================\n",
      "                 coef    std err          z      P>|z|      [0.025      0.975]\n",
      "------------------------------------------------------------------------------\n",
      "Intercept      0.0793      0.004     19.676      0.000       0.071       0.087\n",
      "income      1.133e-05    2.8e-08    405.251      0.000    1.13e-05    1.14e-05\n",
      "persons        0.0096      0.001     11.272      0.000       0.008       0.011\n",
      "stories       -0.4127      0.002   -200.892      0.000      -0.417      -0.409\n",
      "==============================================================================\n"
     ]
    }
   ],
   "source": [
    "m.fit()"
   ]
  },
  {
   "cell_type": "code",
   "execution_count": 15,
   "metadata": {},
   "outputs": [],
   "source": [
    "m.out_column = 'taz'"
   ]
  },
  {
   "cell_type": "code",
   "execution_count": 16,
   "metadata": {},
   "outputs": [
    {
     "data": {
      "text/plain": [
       "count    2.608019e+06\n",
       "mean     7.526463e+02\n",
       "std      4.301403e+02\n",
       "min      1.000000e+00\n",
       "25%      3.760000e+02\n",
       "50%      7.630000e+02\n",
       "75%      1.146000e+03\n",
       "max      1.454000e+03\n",
       "Name: taz, dtype: float64"
      ]
     },
     "execution_count": 16,
     "metadata": {},
     "output_type": "execute_result"
    }
   ],
   "source": [
    "orca.get_table('households').to_frame().taz.describe()"
   ]
  },
  {
   "cell_type": "code",
   "execution_count": 17,
   "metadata": {},
   "outputs": [],
   "source": [
    "m.run()"
   ]
  },
  {
   "cell_type": "code",
   "execution_count": 18,
   "metadata": {},
   "outputs": [
    {
     "data": {
      "text/plain": [
       "count    2.608019e+06\n",
       "mean     1.126827e+00\n",
       "std      1.808492e+01\n",
       "min      0.000000e+00\n",
       "25%      0.000000e+00\n",
       "50%      1.000000e+00\n",
       "75%      1.000000e+00\n",
       "max      1.252000e+03\n",
       "Name: taz, dtype: float64"
      ]
     },
     "execution_count": 18,
     "metadata": {},
     "output_type": "execute_result"
    }
   ],
   "source": [
    "orca.get_table('households').to_frame().taz.describe()"
   ]
  },
  {
   "cell_type": "code",
   "execution_count": 19,
   "metadata": {},
   "outputs": [],
   "source": [
    "m.register()"
   ]
  },
  {
   "cell_type": "code",
   "execution_count": 20,
   "metadata": {},
   "outputs": [
    {
     "data": {
      "text/plain": [
       "['model_two',\n",
       " 'model_one',\n",
       " 'BinaryLogitStep-20180316-145603',\n",
       " 'BinaryLogitStep-20180316-144717',\n",
       " 'test_automated_registration',\n",
       " 'BinaryLogitStep-20180315-103903',\n",
       " 'BinaryLogitStep-20180316-145008',\n",
       " 'test_manual_registration',\n",
       " 'BinaryLogitStep-20180316-151129']"
      ]
     },
     "execution_count": 20,
     "metadata": {},
     "output_type": "execute_result"
    }
   ],
   "source": [
    "orca.list_steps()"
   ]
  },
  {
   "cell_type": "code",
   "execution_count": 21,
   "metadata": {},
   "outputs": [
    {
     "data": {
      "text/plain": [
       "[{'name': 'model_two', 'tags': None, 'type': 'BinaryLogitStep'},\n",
       " {'name': 'model_one', 'tags': None, 'type': 'BinaryLogitStep'},\n",
       " {'name': 'BinaryLogitStep-20180316-145603',\n",
       "  'tags': None,\n",
       "  'type': 'BinaryLogitStep'},\n",
       " {'name': 'BinaryLogitStep-20180316-144717',\n",
       "  'tags': None,\n",
       "  'type': 'BinaryLogitStep'},\n",
       " {'name': 'test_automated_registration', 'tags': [], 'type': 'RegressionStep'},\n",
       " {'name': 'BinaryLogitStep-20180315-103903',\n",
       "  'tags': None,\n",
       "  'type': 'BinaryLogitStep'},\n",
       " {'name': 'BinaryLogitStep-20180316-145008',\n",
       "  'tags': None,\n",
       "  'type': 'BinaryLogitStep'},\n",
       " {'name': 'BinaryLogitStep-20180316-151129',\n",
       "  'tags': None,\n",
       "  'type': 'BinaryLogitStep'}]"
      ]
     },
     "execution_count": 21,
     "metadata": {},
     "output_type": "execute_result"
    }
   ],
   "source": [
    "mm.list_steps()"
   ]
  },
  {
   "cell_type": "code",
   "execution_count": 22,
   "metadata": {},
   "outputs": [],
   "source": [
    "new = mm.get_step('BinaryLogitStep-20180316-145603')"
   ]
  },
  {
   "cell_type": "code",
   "execution_count": null,
   "metadata": {},
   "outputs": [],
   "source": []
  },
  {
   "cell_type": "markdown",
   "metadata": {},
   "source": [
    "### Check that the orca callable registration is working properly"
   ]
  },
  {
   "cell_type": "code",
   "execution_count": 23,
   "metadata": {},
   "outputs": [
    {
     "data": {
      "text/plain": [
       "count    2.608019e+06\n",
       "mean     1.126827e+00\n",
       "std      1.808492e+01\n",
       "min      0.000000e+00\n",
       "25%      0.000000e+00\n",
       "50%      1.000000e+00\n",
       "75%      1.000000e+00\n",
       "max      1.252000e+03\n",
       "Name: taz, dtype: float64"
      ]
     },
     "execution_count": 23,
     "metadata": {},
     "output_type": "execute_result"
    }
   ],
   "source": [
    "orca.get_table('households').to_frame().taz.describe()"
   ]
  },
  {
   "cell_type": "code",
   "execution_count": 27,
   "metadata": {},
   "outputs": [
    {
     "name": "stdout",
     "output_type": "stream",
     "text": [
      "Optimization terminated successfully.\n",
      "         Current function value: 0.618887\n",
      "         Iterations 6\n",
      "                           Logit Regression Results                           \n",
      "==============================================================================\n",
      "Dep. Variable:               hownrent   No. Observations:              2603610\n",
      "Model:                          Logit   Df Residuals:                  2603606\n",
      "Method:                           MLE   Df Model:                            3\n",
      "Date:                Fri, 16 Mar 2018   Pseudo R-squ.:                 0.08698\n",
      "Time:                        15:13:34   Log-Likelihood:            -1.6113e+06\n",
      "converged:                       True   LL-Null:                   -1.7649e+06\n",
      "                                        LLR p-value:                     0.000\n",
      "==============================================================================\n",
      "                 coef    std err          z      P>|z|      [0.025      0.975]\n",
      "------------------------------------------------------------------------------\n",
      "Intercept      0.0969      0.004     24.134      0.000       0.089       0.105\n",
      "income       1.09e-05   2.74e-08    397.741      0.000    1.08e-05     1.1e-05\n",
      "persons        0.0122      0.001     14.276      0.000       0.011       0.014\n",
      "stories       -0.4117      0.002   -201.179      0.000      -0.416      -0.408\n",
      "==============================================================================\n"
     ]
    }
   ],
   "source": [
    "m = BinaryLogitStep()\n",
    "m.tables = (['households','buildings'])\n",
    "m.model_expression = 'hownrent ~ income + persons + stories'\n",
    "m.out_column = 'taz'\n",
    "m.out_value_true = int(1e6)\n",
    "m.name = 'model_one'\n",
    "m.fit()\n",
    "m.register()"
   ]
  },
  {
   "cell_type": "code",
   "execution_count": 28,
   "metadata": {},
   "outputs": [],
   "source": [
    "m.name = 'model_two'\n",
    "m.out_value_true = int(1e9)\n",
    "m.register()"
   ]
  },
  {
   "cell_type": "code",
   "execution_count": 29,
   "metadata": {},
   "outputs": [
    {
     "name": "stdout",
     "output_type": "stream",
     "text": [
      "Running step 'model_one'\n",
      "Time to execute step 'model_one': 1.88 s\n",
      "Total time to execute iteration 1 with iteration value None: 1.88 s\n"
     ]
    },
    {
     "data": {
      "text/plain": [
       "count    2.608019e+06\n",
       "mean     5.864537e+05\n",
       "std      4.924686e+05\n",
       "min      0.000000e+00\n",
       "25%      0.000000e+00\n",
       "50%      1.000000e+06\n",
       "75%      1.000000e+06\n",
       "max      1.000000e+06\n",
       "Name: taz, dtype: float64"
      ]
     },
     "execution_count": 29,
     "metadata": {},
     "output_type": "execute_result"
    }
   ],
   "source": [
    "orca.run(['model_one'])\n",
    "orca.get_table('households').to_frame().taz.describe()"
   ]
  },
  {
   "cell_type": "code",
   "execution_count": 30,
   "metadata": {},
   "outputs": [
    {
     "name": "stdout",
     "output_type": "stream",
     "text": [
      "Running step 'model_two'\n",
      "Time to execute step 'model_two': 2.03 s\n",
      "Total time to execute iteration 1 with iteration value None: 2.03 s\n"
     ]
    },
    {
     "data": {
      "text/plain": [
       "count    2.608019e+06\n",
       "mean     5.863159e+08\n",
       "std      4.924933e+08\n",
       "min      0.000000e+00\n",
       "25%      0.000000e+00\n",
       "50%      1.000000e+09\n",
       "75%      1.000000e+09\n",
       "max      1.000000e+09\n",
       "Name: taz, dtype: float64"
      ]
     },
     "execution_count": 30,
     "metadata": {},
     "output_type": "execute_result"
    }
   ],
   "source": [
    "orca.run(['model_two'])\n",
    "orca.get_table('households').to_frame().taz.describe()"
   ]
  },
  {
   "cell_type": "code",
   "execution_count": null,
   "metadata": {},
   "outputs": [],
   "source": []
  },
  {
   "cell_type": "code",
   "execution_count": null,
   "metadata": {},
   "outputs": [],
   "source": []
  },
  {
   "cell_type": "code",
   "execution_count": null,
   "metadata": {},
   "outputs": [],
   "source": []
  },
  {
   "cell_type": "code",
   "execution_count": null,
   "metadata": {},
   "outputs": [],
   "source": []
  },
  {
   "cell_type": "code",
   "execution_count": null,
   "metadata": {},
   "outputs": [],
   "source": []
  }
 ],
 "metadata": {
  "kernelspec": {
   "display_name": "Python 3",
   "language": "python",
   "name": "python3"
  },
  "language_info": {
   "codemirror_mode": {
    "name": "ipython",
    "version": 3
   },
   "file_extension": ".py",
   "mimetype": "text/x-python",
   "name": "python",
   "nbconvert_exporter": "python",
   "pygments_lexer": "ipython3",
   "version": "3.6.4"
  }
 },
 "nbformat": 4,
 "nbformat_minor": 2
}
