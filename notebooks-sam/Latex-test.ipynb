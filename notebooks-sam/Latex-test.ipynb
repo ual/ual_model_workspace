{
 "cells": [
  {
   "cell_type": "markdown",
   "metadata": {},
   "source": [
    "# Testing latex export of summary tables\n",
    "\n",
    "Sam Maurer, July 2018"
   ]
  },
  {
   "cell_type": "code",
   "execution_count": 1,
   "metadata": {},
   "outputs": [
    {
     "name": "stderr",
     "output_type": "stream",
     "text": [
      "/Users/maurer/anaconda3/lib/python3.6/site-packages/statsmodels/compat/pandas.py:56: FutureWarning: The pandas.core.datetools module is deprecated and will be removed in a future version. Please use the pandas.tseries module instead.\n",
      "  from pandas.core import datetools\n"
     ]
    }
   ],
   "source": [
    "import orca\n",
    "import pandas as pd\n",
    "from urbansim_templates import modelmanager as mm\n",
    "from urbansim_templates.models import OLSRegressionStep"
   ]
  },
  {
   "cell_type": "code",
   "execution_count": 2,
   "metadata": {},
   "outputs": [
    {
     "data": {
      "text/plain": [
       "<orca.orca.DataFrameWrapper at 0x109b02e10>"
      ]
     },
     "execution_count": 2,
     "metadata": {},
     "output_type": "execute_result"
    }
   ],
   "source": [
    "df = pd.read_csv('../data/mtc_data_platform_format_7-6-18/buildings_v2.csv')\n",
    "orca.add_table('buildings', df)"
   ]
  },
  {
   "cell_type": "code",
   "execution_count": null,
   "metadata": {
    "collapsed": true
   },
   "outputs": [],
   "source": []
  },
  {
   "cell_type": "markdown",
   "metadata": {},
   "source": [
    "## OLS Regression"
   ]
  },
  {
   "cell_type": "code",
   "execution_count": 3,
   "metadata": {},
   "outputs": [
    {
     "name": "stdout",
     "output_type": "stream",
     "text": [
      "                                 OLS Regression Results                                 \n",
      "========================================================================================\n",
      "Dep. Variable:     np.log1p(res_price_per_sqft)   R-squared:                       0.008\n",
      "Model:                                      OLS   Adj. R-squared:                  0.008\n",
      "Method:                           Least Squares   F-statistic:                 1.413e+04\n",
      "Date:                          Mon, 30 Jul 2018   Prob (F-statistic):               0.00\n",
      "Time:                                  10:57:31   Log-Likelihood:            -3.3783e+06\n",
      "No. Observations:                       1824229   AIC:                         6.757e+06\n",
      "Df Residuals:                           1824227   BIC:                         6.757e+06\n",
      "Df Model:                                     1                                         \n",
      "Covariance Type:                      nonrobust                                         \n",
      "==============================================================================\n",
      "                 coef    std err          t      P>|t|      [0.025      0.975]\n",
      "------------------------------------------------------------------------------\n",
      "Intercept     15.8262      0.090    176.446      0.000      15.650      16.002\n",
      "year_built    -0.0054   4.56e-05   -118.885      0.000      -0.006      -0.005\n",
      "==============================================================================\n",
      "Omnibus:                   928466.707   Durbin-Watson:                   1.387\n",
      "Prob(Omnibus):                  0.000   Jarque-Bera (JB):          4774631.125\n",
      "Skew:                          -2.547   Prob(JB):                         0.00\n",
      "Kurtosis:                       9.071   Cond. No.                     1.54e+05\n",
      "==============================================================================\n",
      "\n",
      "Warnings:\n",
      "[1] Standard Errors assume that the covariance matrix of the errors is correctly specified.\n",
      "[2] The condition number is large, 1.54e+05. This might indicate that there are\n",
      "strong multicollinearity or other numerical problems.\n"
     ]
    }
   ],
   "source": [
    "m = OLSRegressionStep()\n",
    "m.tables = ['buildings']\n",
    "m.model_expression = 'np.log1p(res_price_per_sqft) ~ year_built'\n",
    "m.fit()"
   ]
  },
  {
   "cell_type": "code",
   "execution_count": 7,
   "metadata": {},
   "outputs": [
    {
     "data": {
      "text/plain": [
       "'\\\\begin{center}\\n\\\\begin{tabular}{lclc}\\n\\\\toprule\\n\\\\textbf{Dep. Variable:}    & np.log1p(res_price_per_sqft) & \\\\textbf{  R-squared:         } &      0.008   \\\\\\\\\\n\\\\textbf{Model:}            &             OLS              & \\\\textbf{  Adj. R-squared:    } &      0.008   \\\\\\\\\\n\\\\textbf{Method:}           &        Least Squares         & \\\\textbf{  F-statistic:       } &  1.413e+04   \\\\\\\\\\n\\\\textbf{Date:}             &       Mon, 30 Jul 2018       & \\\\textbf{  Prob (F-statistic):} &      0.00    \\\\\\\\\\n\\\\textbf{Time:}             &           11:02:15           & \\\\textbf{  Log-Likelihood:    } & -3.3783e+06  \\\\\\\\\\n\\\\textbf{No. Observations:} &           1824229            & \\\\textbf{  AIC:               } &  6.757e+06   \\\\\\\\\\n\\\\textbf{Df Residuals:}     &           1824227            & \\\\textbf{  BIC:               } &  6.757e+06   \\\\\\\\\\n\\\\textbf{Df Model:}         &                 1            & \\\\textbf{                     } &              \\\\\\\\\\n\\\\bottomrule\\n\\\\end{tabular}\\n\\\\begin{tabular}{lcccccc}\\n                     & \\\\textbf{coef} & \\\\textbf{std err} & \\\\textbf{t} & \\\\textbf{P$>$$|$t$|$} & \\\\textbf{[0.025} & \\\\textbf{0.975]}  \\\\\\\\\\n\\\\midrule\\n\\\\textbf{Intercept}   &      15.8262  &        0.090     &   176.446  &         0.000        &       15.650    &       16.002     \\\\\\\\\\n\\\\textbf{year\\\\_built} &      -0.0054  &     4.56e-05     &  -118.885  &         0.000        &       -0.006    &       -0.005     \\\\\\\\\\n\\\\bottomrule\\n\\\\end{tabular}\\n\\\\begin{tabular}{lclc}\\n\\\\textbf{Omnibus:}       & 928466.707 & \\\\textbf{  Durbin-Watson:     } &      1.387   \\\\\\\\\\n\\\\textbf{Prob(Omnibus):} &    0.000   & \\\\textbf{  Jarque-Bera (JB):  } & 4774631.125  \\\\\\\\\\n\\\\textbf{Skew:}          &   -2.547   & \\\\textbf{  Prob(JB):          } &       0.00   \\\\\\\\\\n\\\\textbf{Kurtosis:}      &    9.071   & \\\\textbf{  Cond. No.          } &   1.54e+05   \\\\\\\\\\n\\\\bottomrule\\n\\\\end{tabular}\\n%\\\\caption{OLS Regression Results}\\n\\\\end{center}'"
      ]
     },
     "execution_count": 7,
     "metadata": {},
     "output_type": "execute_result"
    }
   ],
   "source": [
    "m.model.model_fit.summary().as_latex()"
   ]
  },
  {
   "cell_type": "code",
   "execution_count": 8,
   "metadata": {},
   "outputs": [
    {
     "data": {
      "text/plain": [
       "urbansim.models.regression.RegressionModel"
      ]
     },
     "execution_count": 8,
     "metadata": {},
     "output_type": "execute_result"
    }
   ],
   "source": [
    "type(m.model)"
   ]
  },
  {
   "cell_type": "code",
   "execution_count": 9,
   "metadata": {},
   "outputs": [
    {
     "data": {
      "text/plain": [
       "statsmodels.regression.linear_model.RegressionResultsWrapper"
      ]
     },
     "execution_count": 9,
     "metadata": {},
     "output_type": "execute_result"
    }
   ],
   "source": [
    "type(m.model.model_fit)"
   ]
  },
  {
   "cell_type": "code",
   "execution_count": 11,
   "metadata": {},
   "outputs": [
    {
     "data": {
      "text/plain": [
       "statsmodels.iolib.summary.Summary"
      ]
     },
     "execution_count": 11,
     "metadata": {},
     "output_type": "execute_result"
    }
   ],
   "source": [
    "type(m.model.model_fit.summary())"
   ]
  },
  {
   "cell_type": "code",
   "execution_count": null,
   "metadata": {
    "collapsed": true
   },
   "outputs": [],
   "source": []
  },
  {
   "cell_type": "markdown",
   "metadata": {},
   "source": [
    "## Binary Logit"
   ]
  },
  {
   "cell_type": "code",
   "execution_count": null,
   "metadata": {
    "collapsed": true
   },
   "outputs": [],
   "source": []
  },
  {
   "cell_type": "code",
   "execution_count": null,
   "metadata": {
    "collapsed": true
   },
   "outputs": [],
   "source": []
  },
  {
   "cell_type": "code",
   "execution_count": null,
   "metadata": {
    "collapsed": true
   },
   "outputs": [],
   "source": []
  },
  {
   "cell_type": "code",
   "execution_count": null,
   "metadata": {
    "collapsed": true
   },
   "outputs": [],
   "source": []
  }
 ],
 "metadata": {
  "kernelspec": {
   "display_name": "Python 3",
   "language": "python",
   "name": "python3"
  },
  "language_info": {
   "codemirror_mode": {
    "name": "ipython",
    "version": 3
   },
   "file_extension": ".py",
   "mimetype": "text/x-python",
   "name": "python",
   "nbconvert_exporter": "python",
   "pygments_lexer": "ipython3",
   "version": "3.6.2"
  }
 },
 "nbformat": 4,
 "nbformat_minor": 2
}
