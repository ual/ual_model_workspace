{
 "cells": [
  {
   "cell_type": "markdown",
   "metadata": {},
   "source": [
    "# Troubleshooting node id's\n",
    "\n",
    "Sam Maurer, July 2018\n",
    "\n",
    "The problem is that a large portion of households aren't being matched to walk network aggregations, which might be affecting the regression results."
   ]
  },
  {
   "cell_type": "code",
   "execution_count": 1,
   "metadata": {
    "collapsed": true
   },
   "outputs": [],
   "source": [
    "import numpy as np\n",
    "import pandas as pd"
   ]
  },
  {
   "cell_type": "code",
   "execution_count": 2,
   "metadata": {
    "collapsed": false
   },
   "outputs": [
    {
     "name": "stdout",
     "output_type": "stream",
     "text": [
      "3.6.4 |Anaconda custom (x86_64)| (default, Jan 16 2018, 12:04:33) \n",
      "[GCC 4.2.1 Compatible Clang 4.0.1 (tags/RELEASE_401/final)]\n"
     ]
    }
   ],
   "source": [
    "import sys\n",
    "print(sys.version)"
   ]
  },
  {
   "cell_type": "code",
   "execution_count": null,
   "metadata": {
    "collapsed": true
   },
   "outputs": [],
   "source": []
  },
  {
   "cell_type": "markdown",
   "metadata": {},
   "source": [
    "### Check if saved data tables exhibit the problem"
   ]
  },
  {
   "cell_type": "code",
   "execution_count": 40,
   "metadata": {
    "collapsed": false
   },
   "outputs": [],
   "source": [
    "p = pd.read_csv('../data/parcels_with_nodes.csv').set_index('primary_id')"
   ]
  },
  {
   "cell_type": "code",
   "execution_count": 10,
   "metadata": {
    "collapsed": false
   },
   "outputs": [
    {
     "data": {
      "text/plain": [
       "1956207"
      ]
     },
     "execution_count": 10,
     "metadata": {},
     "output_type": "execute_result"
    }
   ],
   "source": [
    "len(p)"
   ]
  },
  {
   "cell_type": "code",
   "execution_count": 5,
   "metadata": {
    "collapsed": false
   },
   "outputs": [
    {
     "data": {
      "text/plain": [
       "Index(['primary_id', 'development_type_id', 'land_value', 'acres', 'county_id',\n",
       "       'zone_id', 'proportion_undevelopable', 'tax_exempt_status', 'apn',\n",
       "       'parcel_id_local', 'geom_id', 'imputation_flag', 'x', 'y', 'shape_area',\n",
       "       'block_id', 'node_id', 'node_id_small', 'node_id_walk'],\n",
       "      dtype='object')"
      ]
     },
     "execution_count": 5,
     "metadata": {},
     "output_type": "execute_result"
    }
   ],
   "source": [
    "p.columns"
   ]
  },
  {
   "cell_type": "code",
   "execution_count": 17,
   "metadata": {
    "collapsed": false
   },
   "outputs": [],
   "source": [
    "nw = pd.read_csv('../data/nodeswalk_vars.csv').set_index('osmid')"
   ]
  },
  {
   "cell_type": "code",
   "execution_count": 11,
   "metadata": {
    "collapsed": false
   },
   "outputs": [
    {
     "data": {
      "text/plain": [
       "415716"
      ]
     },
     "execution_count": 11,
     "metadata": {},
     "output_type": "execute_result"
    }
   ],
   "source": [
    "len(nw)"
   ]
  },
  {
   "cell_type": "code",
   "execution_count": 8,
   "metadata": {
    "collapsed": false
   },
   "outputs": [
    {
     "data": {
      "text/html": [
       "<div>\n",
       "<style scoped>\n",
       "    .dataframe tbody tr th:only-of-type {\n",
       "        vertical-align: middle;\n",
       "    }\n",
       "\n",
       "    .dataframe tbody tr th {\n",
       "        vertical-align: top;\n",
       "    }\n",
       "\n",
       "    .dataframe thead th {\n",
       "        text-align: right;\n",
       "    }\n",
       "</style>\n",
       "<table border=\"1\" class=\"dataframe\">\n",
       "  <thead>\n",
       "    <tr style=\"text-align: right;\">\n",
       "      <th></th>\n",
       "      <th>osmid</th>\n",
       "      <th>units_500_walk</th>\n",
       "      <th>sqft_unit_500_walk</th>\n",
       "      <th>singles_500_walk</th>\n",
       "      <th>elderly_hh_500_walk</th>\n",
       "      <th>children_500_walk</th>\n",
       "      <th>units_sf_500_walk</th>\n",
       "      <th>units_mf_500_walk</th>\n",
       "      <th>pop_500_walk</th>\n",
       "      <th>hh_500_walk</th>\n",
       "      <th>...</th>\n",
       "      <th>prop_elderly_1500_walk</th>\n",
       "      <th>prop_black_1500_walk</th>\n",
       "      <th>prop_white_1500_walk</th>\n",
       "      <th>prop_asian_1500_walk</th>\n",
       "      <th>prop_hisp_1500_walk</th>\n",
       "      <th>prop_rich_1500_walk</th>\n",
       "      <th>prop_poor_1500_walk</th>\n",
       "      <th>pop_jobs_ratio_1500_walk</th>\n",
       "      <th>avg_hhs_500_walk</th>\n",
       "      <th>avg_hhs_1500_walk</th>\n",
       "    </tr>\n",
       "  </thead>\n",
       "  <tbody>\n",
       "    <tr>\n",
       "      <th>0</th>\n",
       "      <td>25457938</td>\n",
       "      <td>0.0</td>\n",
       "      <td>0.000000</td>\n",
       "      <td>0.0</td>\n",
       "      <td>0.0</td>\n",
       "      <td>0.0</td>\n",
       "      <td>0.0</td>\n",
       "      <td>0.0</td>\n",
       "      <td>0.0</td>\n",
       "      <td>0.0</td>\n",
       "      <td>...</td>\n",
       "      <td>0.103236</td>\n",
       "      <td>0.007344</td>\n",
       "      <td>0.694627</td>\n",
       "      <td>0.011210</td>\n",
       "      <td>0.877464</td>\n",
       "      <td>0.006958</td>\n",
       "      <td>0.124855</td>\n",
       "      <td>2.743372</td>\n",
       "      <td>0.000000</td>\n",
       "      <td>3.980000</td>\n",
       "    </tr>\n",
       "    <tr>\n",
       "      <th>1</th>\n",
       "      <td>25457939</td>\n",
       "      <td>0.0</td>\n",
       "      <td>0.000000</td>\n",
       "      <td>0.0</td>\n",
       "      <td>0.0</td>\n",
       "      <td>0.0</td>\n",
       "      <td>0.0</td>\n",
       "      <td>0.0</td>\n",
       "      <td>0.0</td>\n",
       "      <td>0.0</td>\n",
       "      <td>...</td>\n",
       "      <td>0.125000</td>\n",
       "      <td>0.000000</td>\n",
       "      <td>1.000000</td>\n",
       "      <td>0.000000</td>\n",
       "      <td>0.384615</td>\n",
       "      <td>0.076923</td>\n",
       "      <td>0.038462</td>\n",
       "      <td>0.050290</td>\n",
       "      <td>0.000000</td>\n",
       "      <td>2.888889</td>\n",
       "    </tr>\n",
       "    <tr>\n",
       "      <th>2</th>\n",
       "      <td>26027651</td>\n",
       "      <td>336.0</td>\n",
       "      <td>1000.871399</td>\n",
       "      <td>86.0</td>\n",
       "      <td>153.0</td>\n",
       "      <td>178.0</td>\n",
       "      <td>66.0</td>\n",
       "      <td>270.0</td>\n",
       "      <td>783.0</td>\n",
       "      <td>334.0</td>\n",
       "      <td>...</td>\n",
       "      <td>0.282793</td>\n",
       "      <td>0.010092</td>\n",
       "      <td>0.614254</td>\n",
       "      <td>0.294418</td>\n",
       "      <td>0.098181</td>\n",
       "      <td>0.186020</td>\n",
       "      <td>0.063045</td>\n",
       "      <td>5.803326</td>\n",
       "      <td>2.337313</td>\n",
       "      <td>2.523899</td>\n",
       "    </tr>\n",
       "  </tbody>\n",
       "</table>\n",
       "<p>3 rows × 65 columns</p>\n",
       "</div>"
      ],
      "text/plain": [
       "      osmid  units_500_walk  sqft_unit_500_walk  singles_500_walk  \\\n",
       "0  25457938             0.0            0.000000               0.0   \n",
       "1  25457939             0.0            0.000000               0.0   \n",
       "2  26027651           336.0         1000.871399              86.0   \n",
       "\n",
       "   elderly_hh_500_walk  children_500_walk  units_sf_500_walk  \\\n",
       "0                  0.0                0.0                0.0   \n",
       "1                  0.0                0.0                0.0   \n",
       "2                153.0              178.0               66.0   \n",
       "\n",
       "   units_mf_500_walk  pop_500_walk  hh_500_walk        ...          \\\n",
       "0                0.0           0.0          0.0        ...           \n",
       "1                0.0           0.0          0.0        ...           \n",
       "2              270.0         783.0        334.0        ...           \n",
       "\n",
       "   prop_elderly_1500_walk  prop_black_1500_walk  prop_white_1500_walk  \\\n",
       "0                0.103236              0.007344              0.694627   \n",
       "1                0.125000              0.000000              1.000000   \n",
       "2                0.282793              0.010092              0.614254   \n",
       "\n",
       "   prop_asian_1500_walk  prop_hisp_1500_walk  prop_rich_1500_walk  \\\n",
       "0              0.011210             0.877464             0.006958   \n",
       "1              0.000000             0.384615             0.076923   \n",
       "2              0.294418             0.098181             0.186020   \n",
       "\n",
       "   prop_poor_1500_walk  pop_jobs_ratio_1500_walk  avg_hhs_500_walk  \\\n",
       "0             0.124855                  2.743372          0.000000   \n",
       "1             0.038462                  0.050290          0.000000   \n",
       "2             0.063045                  5.803326          2.337313   \n",
       "\n",
       "   avg_hhs_1500_walk  \n",
       "0           3.980000  \n",
       "1           2.888889  \n",
       "2           2.523899  \n",
       "\n",
       "[3 rows x 65 columns]"
      ]
     },
     "execution_count": 8,
     "metadata": {},
     "output_type": "execute_result"
    }
   ],
   "source": [
    "nw.head(3)"
   ]
  },
  {
   "cell_type": "code",
   "execution_count": 15,
   "metadata": {
    "collapsed": false
   },
   "outputs": [
    {
     "data": {
      "text/plain": [
       "562628"
      ]
     },
     "execution_count": 15,
     "metadata": {},
     "output_type": "execute_result"
    }
   ],
   "source": [
    "len(p.loc[~p.node_id_walk.isin(nw.index)])"
   ]
  },
  {
   "cell_type": "code",
   "execution_count": 16,
   "metadata": {
    "collapsed": false
   },
   "outputs": [
    {
     "data": {
      "text/plain": [
       "0.2876116893559833"
      ]
     },
     "execution_count": 16,
     "metadata": {},
     "output_type": "execute_result"
    }
   ],
   "source": [
    "len(p.loc[~p.node_id_walk.isin(nw.index)])/len(p)"
   ]
  },
  {
   "cell_type": "markdown",
   "metadata": {},
   "source": [
    "Yes, 29% of the parcels have node id's that aren't in the aggregation table"
   ]
  },
  {
   "cell_type": "code",
   "execution_count": 22,
   "metadata": {
    "collapsed": false
   },
   "outputs": [
    {
     "data": {
      "text/plain": [
       "115794"
      ]
     },
     "execution_count": 22,
     "metadata": {},
     "output_type": "execute_result"
    }
   ],
   "source": [
    "# How many nodes is that?\n",
    "\n",
    "len(p.loc[~p.node_id_walk.isin(nw.index)].node_id_walk.unique())"
   ]
  },
  {
   "cell_type": "code",
   "execution_count": 23,
   "metadata": {
    "collapsed": false
   },
   "outputs": [
    {
     "data": {
      "text/plain": [
       "0.35801984361328143"
      ]
     },
     "execution_count": 23,
     "metadata": {},
     "output_type": "execute_result"
    }
   ],
   "source": [
    "len(p.loc[~p.node_id_walk.isin(nw.index)].node_id_walk.unique())/len(p.node_id_walk.unique())"
   ]
  },
  {
   "cell_type": "code",
   "execution_count": null,
   "metadata": {
    "collapsed": true
   },
   "outputs": [],
   "source": []
  },
  {
   "cell_type": "markdown",
   "metadata": {},
   "source": [
    "### What does the network file look like?"
   ]
  },
  {
   "cell_type": "code",
   "execution_count": 18,
   "metadata": {
    "collapsed": false
   },
   "outputs": [
    {
     "name": "stderr",
     "output_type": "stream",
     "text": [
      "/Users/maurer/anaconda/lib/python3.6/site-packages/IPython/core/interactiveshell.py:2717: DtypeWarning: Columns (3) have mixed types. Specify dtype option on import or set low_memory=False.\n",
      "  interactivity=interactivity, compiler=compiler, result=result)\n"
     ]
    }
   ],
   "source": [
    "nodes = pd.read_csv('../data/bayarea_walk_nodes.csv').set_index('osmid')"
   ]
  },
  {
   "cell_type": "code",
   "execution_count": 20,
   "metadata": {
    "collapsed": false
   },
   "outputs": [
    {
     "data": {
      "text/plain": [
       "619889"
      ]
     },
     "execution_count": 20,
     "metadata": {},
     "output_type": "execute_result"
    }
   ],
   "source": [
    "len(nodes)"
   ]
  },
  {
   "cell_type": "code",
   "execution_count": 24,
   "metadata": {
    "collapsed": false
   },
   "outputs": [
    {
     "data": {
      "text/html": [
       "<div>\n",
       "<style scoped>\n",
       "    .dataframe tbody tr th:only-of-type {\n",
       "        vertical-align: middle;\n",
       "    }\n",
       "\n",
       "    .dataframe tbody tr th {\n",
       "        vertical-align: top;\n",
       "    }\n",
       "\n",
       "    .dataframe thead th {\n",
       "        text-align: right;\n",
       "    }\n",
       "</style>\n",
       "<table border=\"1\" class=\"dataframe\">\n",
       "  <thead>\n",
       "    <tr style=\"text-align: right;\">\n",
       "      <th></th>\n",
       "      <th>x</th>\n",
       "      <th>y</th>\n",
       "      <th>ref</th>\n",
       "      <th>highway</th>\n",
       "    </tr>\n",
       "    <tr>\n",
       "      <th>osmid</th>\n",
       "      <th></th>\n",
       "      <th></th>\n",
       "      <th></th>\n",
       "      <th></th>\n",
       "    </tr>\n",
       "  </thead>\n",
       "  <tbody>\n",
       "    <tr>\n",
       "      <th>25457938</th>\n",
       "      <td>-121.553913</td>\n",
       "      <td>37.007868</td>\n",
       "      <td>NaN</td>\n",
       "      <td>traffic_signals</td>\n",
       "    </tr>\n",
       "    <tr>\n",
       "      <th>25457939</th>\n",
       "      <td>-121.550781</td>\n",
       "      <td>37.002077</td>\n",
       "      <td>NaN</td>\n",
       "      <td>NaN</td>\n",
       "    </tr>\n",
       "    <tr>\n",
       "      <th>26392420</th>\n",
       "      <td>-121.384907</td>\n",
       "      <td>36.988574</td>\n",
       "      <td>NaN</td>\n",
       "      <td>NaN</td>\n",
       "    </tr>\n",
       "  </tbody>\n",
       "</table>\n",
       "</div>"
      ],
      "text/plain": [
       "                   x          y  ref          highway\n",
       "osmid                                                \n",
       "25457938 -121.553913  37.007868  NaN  traffic_signals\n",
       "25457939 -121.550781  37.002077  NaN              NaN\n",
       "26392420 -121.384907  36.988574  NaN              NaN"
      ]
     },
     "execution_count": 24,
     "metadata": {},
     "output_type": "execute_result"
    }
   ],
   "source": [
    "nodes.head(3)"
   ]
  },
  {
   "cell_type": "code",
   "execution_count": 21,
   "metadata": {
    "collapsed": false
   },
   "outputs": [
    {
     "data": {
      "text/plain": [
       "0"
      ]
     },
     "execution_count": 21,
     "metadata": {},
     "output_type": "execute_result"
    }
   ],
   "source": [
    "len(p.loc[~p.node_id_walk.isin(nodes.index)])"
   ]
  },
  {
   "cell_type": "code",
   "execution_count": null,
   "metadata": {
    "collapsed": true
   },
   "outputs": [],
   "source": []
  },
  {
   "cell_type": "markdown",
   "metadata": {},
   "source": [
    "### Recreate the aggregations"
   ]
  },
  {
   "cell_type": "code",
   "execution_count": 3,
   "metadata": {
    "collapsed": false
   },
   "outputs": [
    {
     "data": {
      "text/plain": [
       "'/Users/maurer/Dropbox/Git-imac/ual/urbansim_parcel_bayarea'"
      ]
     },
     "execution_count": 3,
     "metadata": {},
     "output_type": "execute_result"
    }
   ],
   "source": [
    "import orca\n",
    "import os; os.chdir('..')\n",
    "import pandana as pdna\n",
    "from urbansim.utils import misc, networks\n",
    "import warnings;warnings.simplefilter('ignore')\n",
    "os.getcwd()"
   ]
  },
  {
   "cell_type": "code",
   "execution_count": 4,
   "metadata": {
    "collapsed": false
   },
   "outputs": [
    {
     "data": {
      "text/plain": [
       "'0.3.0'"
      ]
     },
     "execution_count": 4,
     "metadata": {},
     "output_type": "execute_result"
    }
   ],
   "source": [
    "pdna.__version__"
   ]
  },
  {
   "cell_type": "code",
   "execution_count": 5,
   "metadata": {
    "collapsed": true
   },
   "outputs": [],
   "source": [
    "d = 'data/'"
   ]
  },
  {
   "cell_type": "code",
   "execution_count": 6,
   "metadata": {
    "collapsed": true
   },
   "outputs": [],
   "source": [
    "@orca.table(cache=True)\n",
    "def parcels():\n",
    "    df = pd.read_csv(\n",
    "        d + 'mtc_data_platform_format_7-6-18/' + 'parcel_attr.csv',\n",
    "#        d + 'parcels_with_nodes.csv',\n",
    "        index_col='primary_id', dtype={'primary_id': int, 'block_id':str})\n",
    "    return df\n",
    "\n",
    "@orca.table(cache=True)\n",
    "def buildings():\n",
    "    df = pd.read_csv(\n",
    "        d + 'mtc_data_platform_format_7-6-18/' + 'buildings_v2.csv',\n",
    "        index_col='building_id', dtype={'building_id': int, 'parcel_id': int})\n",
    "    df['res_sqft_per_unit'] = df['residential_sqft'] / df['residential_units']\n",
    "    df['res_sqft_per_unit'][df['res_sqft_per_unit'] == np.inf] = 0\n",
    "    return df\n",
    "\n",
    "@orca.table(cache=True)\n",
    "def units():\n",
    "    df = pd.read_csv(\n",
    "        d + 'mtc_data_platform_format_7-6-18/' + 'units_v2.csv',\n",
    "        index_col='unit_id', dtype={'unit_id': int, 'building_id': int})\n",
    "    return df\n",
    "\n",
    "@orca.table(cache=True)\n",
    "def households():\n",
    "    df = pd.read_csv(\n",
    "        d + 'mtc_data_platform_format_7-6-18/' + 'households_v2.csv',\n",
    "        index_col='household_id', dtype={\n",
    "            'househould_id': int, 'block_group_id': str, 'state': str, \n",
    "            'county': str, 'tract': str, 'block_group': str,\n",
    "            'building_id': int, 'unit_id': int})\n",
    "    return df"
   ]
  },
  {
   "cell_type": "code",
   "execution_count": 7,
   "metadata": {
    "collapsed": true
   },
   "outputs": [],
   "source": [
    "@orca.step()\n",
    "def initialize_network_walk():\n",
    "\n",
    "    @orca.injectable('netwalk', cache=True)\n",
    "    def build_networkwalk():\n",
    "        nodeswalk = pd.read_csv(d + 'bayarea_walk_nodes.csv') \\\n",
    "            .set_index('osmid')\n",
    "        edgeswalk = pd.read_csv(d + 'bayarea_walk_edges.csv')\n",
    "        netwalk = pdna.Network(nodeswalk.x, nodeswalk.y, edgeswalk.u, \\\n",
    "                               edgeswalk.v, edgeswalk[['length']], twoway=True)\n",
    "        netwalk.precompute(2500)\n",
    "        return netwalk\n",
    "\n",
    "    parcels = orca.get_table('parcels').to_frame(columns=['x', 'y'])\n",
    "    idswalk_parcel = orca.get_injectable('netwalk').get_node_ids(parcels.x, parcels.y)\n",
    "    orca.add_column('parcels', 'node_id_walk', idswalk_parcel, cache=False)\n",
    "    orca.broadcast('nodeswalk', 'parcels', cast_index=True, onto_on='node_id_walk')\n",
    "    \n",
    "    @orca.column('buildings', 'node_id_walk')\n",
    "    def node_id(parcels, buildings):\n",
    "        return misc.reindex(parcels.node_id_walk, buildings.parcel_id)\n",
    "\n",
    "    @orca.column('units', 'node_id_walk')\n",
    "    def node_id(buildings, units):\n",
    "        return misc.reindex(buildings.node_id_walk, units.building_id)\n",
    "\n",
    "    @orca.column('households', 'node_id_walk')\n",
    "    def node_id(units, households):\n",
    "        return misc.reindex(units.node_id_walk, households.unit_id)"
   ]
  },
  {
   "cell_type": "code",
   "execution_count": 8,
   "metadata": {
    "collapsed": true
   },
   "outputs": [],
   "source": [
    "@orca.step()\n",
    "def network_aggregations_walk_test(netwalk):\n",
    "\n",
    "    nodeswalk = networks.from_yaml(netwalk, 'network_aggregations_walk_test.yaml')\n",
    "    nodeswalk = nodeswalk.fillna(0)\n",
    "    print(nodeswalk.describe())\n",
    "    orca.add_table('nodeswalk', nodeswalk)"
   ]
  },
  {
   "cell_type": "code",
   "execution_count": 9,
   "metadata": {
    "collapsed": false
   },
   "outputs": [
    {
     "name": "stdout",
     "output_type": "stream",
     "text": [
      "Running step 'initialize_network_walk'\n",
      "Time to execute step 'initialize_network_walk': 119.73 s\n",
      "Total time to execute iteration 1 with iteration value None: 119.74 s\n"
     ]
    }
   ],
   "source": [
    "orca.run([\"initialize_network_walk\"])"
   ]
  },
  {
   "cell_type": "code",
   "execution_count": null,
   "metadata": {
    "collapsed": true
   },
   "outputs": [],
   "source": []
  },
  {
   "cell_type": "markdown",
   "metadata": {},
   "source": [
    "### Aggregations are of households and buildings - what do those id's look like?"
   ]
  },
  {
   "cell_type": "code",
   "execution_count": 11,
   "metadata": {
    "collapsed": true
   },
   "outputs": [],
   "source": [
    "h = orca.get_table('households').to_frame()"
   ]
  },
  {
   "cell_type": "code",
   "execution_count": 18,
   "metadata": {
    "collapsed": false
   },
   "outputs": [
    {
     "data": {
      "text/plain": [
       "768814"
      ]
     },
     "execution_count": 18,
     "metadata": {},
     "output_type": "execute_result"
    }
   ],
   "source": [
    "len(h.loc[~h.node_id_walk.isin(nw.index)])"
   ]
  },
  {
   "cell_type": "code",
   "execution_count": 19,
   "metadata": {
    "collapsed": true
   },
   "outputs": [],
   "source": [
    "b = orca.get_table('buildings').to_frame()"
   ]
  },
  {
   "cell_type": "code",
   "execution_count": 20,
   "metadata": {
    "collapsed": false
   },
   "outputs": [
    {
     "data": {
      "text/plain": [
       "519055"
      ]
     },
     "execution_count": 20,
     "metadata": {},
     "output_type": "execute_result"
    }
   ],
   "source": [
    "len(b.loc[~b.node_id_walk.isin(nw.index)])"
   ]
  },
  {
   "cell_type": "code",
   "execution_count": null,
   "metadata": {
    "collapsed": true
   },
   "outputs": [],
   "source": []
  },
  {
   "cell_type": "markdown",
   "metadata": {},
   "source": [
    "### Ok, do the aggregations"
   ]
  },
  {
   "cell_type": "code",
   "execution_count": 22,
   "metadata": {
    "collapsed": false
   },
   "outputs": [
    {
     "name": "stdout",
     "output_type": "stream",
     "text": [
      "Running step 'network_aggregations_walk_test'\n",
      "Computing accessibility variables\n",
      "Computing pop_500_walk\n",
      "Removed 189769 rows because they contain missing values\n",
      "Computing sqft_unit_500_walk\n",
      "Computing singles_500_walk\n",
      "Removed 52084 rows because they contain missing values\n",
      "Computing elderly_hh_500_walk\n",
      "Removed 34553 rows because they contain missing values\n",
      "Computing children_500_walk\n",
      "Removed 189769 rows because they contain missing values\n",
      "        pop_500_walk  sqft_unit_500_walk  singles_500_walk  \\\n",
      "count  619889.000000       619889.000000     619889.000000   \n",
      "mean      561.022034         1239.638062         67.199196   \n",
      "std       908.448853         1012.501038        212.378616   \n",
      "min         0.000000            0.000000          0.000000   \n",
      "25%        11.000000          449.750000          0.000000   \n",
      "50%       224.000000         1327.473999         13.000000   \n",
      "75%       770.000000         1760.372437         61.000000   \n",
      "max     20222.000000        30000.000000       8822.000000   \n",
      "\n",
      "       elderly_hh_500_walk  children_500_walk  \n",
      "count        619889.000000      619889.000000  \n",
      "mean             42.315105         112.549042  \n",
      "std              91.748474         161.550812  \n",
      "min               0.000000           0.000000  \n",
      "25%               0.000000           1.000000  \n",
      "50%              15.000000          46.000000  \n",
      "75%              52.000000         164.000000  \n",
      "max            2468.000000        1809.000000  \n",
      "Time to execute step 'network_aggregations_walk_test': 16.24 s\n",
      "Total time to execute iteration 1 with iteration value None: 16.24 s\n"
     ]
    }
   ],
   "source": [
    "orca.run([\"network_aggregations_walk_test\"])"
   ]
  },
  {
   "cell_type": "code",
   "execution_count": 24,
   "metadata": {
    "collapsed": false
   },
   "outputs": [],
   "source": [
    "nw2 = orca.get_table('nodeswalk').to_frame()"
   ]
  },
  {
   "cell_type": "code",
   "execution_count": 25,
   "metadata": {
    "collapsed": false
   },
   "outputs": [
    {
     "data": {
      "text/plain": [
       "189769"
      ]
     },
     "execution_count": 25,
     "metadata": {},
     "output_type": "execute_result"
    }
   ],
   "source": [
    "len(h.loc[~h.node_id_walk.isin(nw2.index)])"
   ]
  },
  {
   "cell_type": "code",
   "execution_count": 26,
   "metadata": {
    "collapsed": true
   },
   "outputs": [],
   "source": [
    "ids = orca.get_injectable('netwalk').node_ids"
   ]
  },
  {
   "cell_type": "code",
   "execution_count": 27,
   "metadata": {
    "collapsed": false
   },
   "outputs": [
    {
     "data": {
      "text/plain": [
       "189769"
      ]
     },
     "execution_count": 27,
     "metadata": {},
     "output_type": "execute_result"
    }
   ],
   "source": [
    "len(h.loc[~h.node_id_walk.isin(ids)])"
   ]
  },
  {
   "cell_type": "markdown",
   "metadata": {},
   "source": [
    "Aggregations seem to be returning fewer rows than are nodes in the network, which contradicts the pandana documentation: https://github.com/UDST/pandana/blob/master/pandana/network.py#L315-L319\n",
    "\n",
    "Don't see anything obvious in the helper function either: https://github.com/UDST/urbansim/blob/master/urbansim/utils/networks.py"
   ]
  },
  {
   "cell_type": "code",
   "execution_count": null,
   "metadata": {
    "collapsed": true
   },
   "outputs": [],
   "source": []
  },
  {
   "cell_type": "markdown",
   "metadata": {},
   "source": [
    "### Retry with a single aggregation, for easier troubleshooting"
   ]
  },
  {
   "cell_type": "code",
   "execution_count": 30,
   "metadata": {
    "collapsed": true
   },
   "outputs": [],
   "source": [
    "with open('configs/net_test.yaml', 'w') as t:\n",
    "    t.write('''\n",
    "\n",
    "name: network_aggregations\n",
    "desc: Network aggregations\n",
    "model_type: networks\n",
    "node_col: node_id_walk\n",
    "variable_definitions:\n",
    "\n",
    "  - name: pop_500_walk\n",
    "    dataframe: households\n",
    "    varname: persons\n",
    "    radius: 500\n",
    "    decay: flat\n",
    "''')"
   ]
  },
  {
   "cell_type": "code",
   "execution_count": 31,
   "metadata": {
    "collapsed": true
   },
   "outputs": [],
   "source": [
    "@orca.step()\n",
    "def net_test(netwalk):\n",
    "\n",
    "    nodestest = networks.from_yaml(netwalk, 'net_test.yaml')\n",
    "    nodestest = nodestest.fillna(0)\n",
    "    print(nodestest.describe())\n",
    "    orca.add_table('nodestest', nodestest)"
   ]
  },
  {
   "cell_type": "code",
   "execution_count": 33,
   "metadata": {
    "collapsed": false
   },
   "outputs": [
    {
     "name": "stdout",
     "output_type": "stream",
     "text": [
      "Running step 'net_test'\n",
      "Computing accessibility variables\n",
      "Computing pop_500_walk\n",
      "Removed 189769 rows because they contain missing values\n",
      "        pop_500_walk\n",
      "count  619889.000000\n",
      "mean      561.022034\n",
      "std       908.448853\n",
      "min         0.000000\n",
      "25%        11.000000\n",
      "50%       224.000000\n",
      "75%       770.000000\n",
      "max     20222.000000\n",
      "Time to execute step 'net_test': 3.90 s\n",
      "Total time to execute iteration 1 with iteration value None: 3.90 s\n"
     ]
    }
   ],
   "source": [
    "orca.run([\"net_test\"])"
   ]
  },
  {
   "cell_type": "code",
   "execution_count": 34,
   "metadata": {
    "collapsed": true
   },
   "outputs": [],
   "source": [
    "nt = orca.get_table('nodestest').to_frame()"
   ]
  },
  {
   "cell_type": "code",
   "execution_count": 35,
   "metadata": {
    "collapsed": false
   },
   "outputs": [
    {
     "data": {
      "text/plain": [
       "189769"
      ]
     },
     "execution_count": 35,
     "metadata": {},
     "output_type": "execute_result"
    }
   ],
   "source": [
    "len(h.loc[~h.node_id_walk.isin(nt.index)])"
   ]
  },
  {
   "cell_type": "code",
   "execution_count": 36,
   "metadata": {
    "collapsed": false
   },
   "outputs": [
    {
     "data": {
      "text/plain": [
       "0"
      ]
     },
     "execution_count": 36,
     "metadata": {},
     "output_type": "execute_result"
    }
   ],
   "source": [
    "len(h.loc[(h.building_id>-1) & (~h.node_id_walk.isin(nt.index))])"
   ]
  },
  {
   "cell_type": "code",
   "execution_count": 37,
   "metadata": {
    "collapsed": false
   },
   "outputs": [
    {
     "data": {
      "text/plain": [
       "189769"
      ]
     },
     "execution_count": 37,
     "metadata": {},
     "output_type": "execute_result"
    }
   ],
   "source": [
    "sum(h.node_id_walk.isnull())"
   ]
  },
  {
   "cell_type": "markdown",
   "metadata": {},
   "source": [
    "This is fine - it's just the households that aren't matched to builidngs"
   ]
  },
  {
   "cell_type": "code",
   "execution_count": 42,
   "metadata": {
    "collapsed": false
   },
   "outputs": [
    {
     "data": {
      "text/plain": [
       "619889"
      ]
     },
     "execution_count": 42,
     "metadata": {},
     "output_type": "execute_result"
    }
   ],
   "source": [
    "len(nt)"
   ]
  },
  {
   "cell_type": "code",
   "execution_count": 43,
   "metadata": {
    "collapsed": false
   },
   "outputs": [
    {
     "data": {
      "text/plain": [
       "619889"
      ]
     },
     "execution_count": 43,
     "metadata": {},
     "output_type": "execute_result"
    }
   ],
   "source": [
    "len(orca.get_injectable('netwalk').node_ids)"
   ]
  },
  {
   "cell_type": "code",
   "execution_count": 47,
   "metadata": {
    "collapsed": true
   },
   "outputs": [],
   "source": [
    "p2 = orca.get_table('parcels').to_frame()"
   ]
  },
  {
   "cell_type": "code",
   "execution_count": 48,
   "metadata": {
    "collapsed": false
   },
   "outputs": [
    {
     "data": {
      "text/plain": [
       "323429"
      ]
     },
     "execution_count": 48,
     "metadata": {},
     "output_type": "execute_result"
    }
   ],
   "source": [
    "len(p2.node_id_walk.unique())"
   ]
  },
  {
   "cell_type": "code",
   "execution_count": 49,
   "metadata": {
    "collapsed": false
   },
   "outputs": [
    {
     "data": {
      "text/plain": [
       "0"
      ]
     },
     "execution_count": 49,
     "metadata": {},
     "output_type": "execute_result"
    }
   ],
   "source": [
    "len(p2.loc[~p2.node_id_walk.isin(nt.index)])"
   ]
  },
  {
   "cell_type": "markdown",
   "metadata": {},
   "source": [
    "Problem is not reproduced with this aggregation"
   ]
  },
  {
   "cell_type": "code",
   "execution_count": null,
   "metadata": {
    "collapsed": true
   },
   "outputs": [],
   "source": []
  },
  {
   "cell_type": "code",
   "execution_count": null,
   "metadata": {
    "collapsed": true
   },
   "outputs": [],
   "source": []
  },
  {
   "cell_type": "code",
   "execution_count": null,
   "metadata": {
    "collapsed": true
   },
   "outputs": [],
   "source": []
  },
  {
   "cell_type": "code",
   "execution_count": 21,
   "metadata": {
    "collapsed": true
   },
   "outputs": [],
   "source": [
    "os.chdir('..')"
   ]
  },
  {
   "cell_type": "code",
   "execution_count": 39,
   "metadata": {
    "collapsed": false
   },
   "outputs": [],
   "source": [
    "os.chdir('notebooks-sam')"
   ]
  },
  {
   "cell_type": "code",
   "execution_count": null,
   "metadata": {
    "collapsed": true
   },
   "outputs": [],
   "source": []
  },
  {
   "cell_type": "code",
   "execution_count": null,
   "metadata": {
    "collapsed": true
   },
   "outputs": [],
   "source": []
  },
  {
   "cell_type": "code",
   "execution_count": null,
   "metadata": {
    "collapsed": true
   },
   "outputs": [],
   "source": []
  },
  {
   "cell_type": "code",
   "execution_count": null,
   "metadata": {
    "collapsed": true
   },
   "outputs": [],
   "source": []
  },
  {
   "cell_type": "code",
   "execution_count": null,
   "metadata": {
    "collapsed": true
   },
   "outputs": [],
   "source": []
  },
  {
   "cell_type": "code",
   "execution_count": null,
   "metadata": {
    "collapsed": true
   },
   "outputs": [],
   "source": []
  }
 ],
 "metadata": {
  "kernelspec": {
   "display_name": "Python 3",
   "language": "python",
   "name": "python3"
  },
  "language_info": {
   "codemirror_mode": {
    "name": "ipython",
    "version": 3
   },
   "file_extension": ".py",
   "mimetype": "text/x-python",
   "name": "python",
   "nbconvert_exporter": "python",
   "pygments_lexer": "ipython3",
   "version": "3.6.4"
  }
 },
 "nbformat": 4,
 "nbformat_minor": 2
}
