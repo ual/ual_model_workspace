{
 "cells": [
  {
   "cell_type": "markdown",
   "metadata": {},
   "source": [
    "# MergedChoiceTable feature testing\n",
    "\n",
    "Sam Maurer, August 2018"
   ]
  },
  {
   "cell_type": "code",
   "execution_count": 1,
   "metadata": {
    "collapsed": false
   },
   "outputs": [
    {
     "name": "stdout",
     "output_type": "stream",
     "text": [
      "3.6.4 |Anaconda custom (x86_64)| (default, Jan 16 2018, 12:04:33) \n",
      "[GCC 4.2.1 Compatible Clang 4.0.1 (tags/RELEASE_401/final)]\n"
     ]
    }
   ],
   "source": [
    "import sys\n",
    "print(sys.version)"
   ]
  },
  {
   "cell_type": "code",
   "execution_count": 2,
   "metadata": {
    "collapsed": true
   },
   "outputs": [],
   "source": [
    "import numpy as np\n",
    "import pandas as pd\n",
    "import random"
   ]
  },
  {
   "cell_type": "code",
   "execution_count": 3,
   "metadata": {
    "collapsed": false
   },
   "outputs": [
    {
     "name": "stderr",
     "output_type": "stream",
     "text": [
      "/Users/maurer/anaconda/lib/python3.6/site-packages/statsmodels/compat/pandas.py:56: FutureWarning: The pandas.core.datetools module is deprecated and will be removed in a future version. Please use the pandas.tseries module instead.\n",
      "  from pandas.core import datetools\n"
     ]
    }
   ],
   "source": [
    "import choicemodels"
   ]
  },
  {
   "cell_type": "code",
   "execution_count": null,
   "metadata": {
    "collapsed": true
   },
   "outputs": [],
   "source": []
  },
  {
   "cell_type": "markdown",
   "metadata": {},
   "source": [
    "## Performance comparison\n",
    "\n",
    "`random.choices`: replacement, optional weights  \n",
    "`random.sample`: no replacement  \n",
    "`np.random.choice`: optional replacement, optional weights\n",
    "\n",
    "For each one, draw 100 samples of 10 alternatives from a universe of 100,000"
   ]
  },
  {
   "cell_type": "code",
   "execution_count": 39,
   "metadata": {
    "collapsed": false
   },
   "outputs": [],
   "source": [
    "n = int(1e5)\n",
    "vals = np.random.rand(n)\n",
    "weights = np.random.rand(n)\n",
    "scaled_weights = weights/weights.sum(0)  # probs that sum to 1"
   ]
  },
  {
   "cell_type": "code",
   "execution_count": 29,
   "metadata": {
    "collapsed": false
   },
   "outputs": [
    {
     "name": "stdout",
     "output_type": "stream",
     "text": [
      "1000 loops, best of 3: 302 µs per loop\n"
     ]
    }
   ],
   "source": [
    "%%timeit 3\n",
    "    for i in range(100):\n",
    "        random.choices(vals, k=10)"
   ]
  },
  {
   "cell_type": "code",
   "execution_count": 33,
   "metadata": {
    "collapsed": false
   },
   "outputs": [
    {
     "name": "stdout",
     "output_type": "stream",
     "text": [
      "1 loop, best of 3: 727 ms per loop\n"
     ]
    }
   ],
   "source": [
    "%%timeit 3\n",
    "    for i in range(100):\n",
    "        random.choices(vals, weights, k=10)"
   ]
  },
  {
   "cell_type": "code",
   "execution_count": 32,
   "metadata": {
    "collapsed": false
   },
   "outputs": [
    {
     "name": "stdout",
     "output_type": "stream",
     "text": [
      "10 loops, best of 3: 153 ms per loop\n"
     ]
    }
   ],
   "source": [
    "%%timeit 3\n",
    "    for i in range(100):\n",
    "        random.sample(vals.tolist(), k=10)"
   ]
  },
  {
   "cell_type": "code",
   "execution_count": 36,
   "metadata": {
    "collapsed": false
   },
   "outputs": [
    {
     "name": "stdout",
     "output_type": "stream",
     "text": [
      "1000 loops, best of 3: 701 µs per loop\n"
     ]
    }
   ],
   "source": [
    "%%timeit 3\n",
    "    for i in range(100):\n",
    "        np.random.choice(vals, replace=True, size=10)"
   ]
  },
  {
   "cell_type": "code",
   "execution_count": 42,
   "metadata": {
    "collapsed": false
   },
   "outputs": [
    {
     "name": "stdout",
     "output_type": "stream",
     "text": [
      "10 loops, best of 3: 136 ms per loop\n"
     ]
    }
   ],
   "source": [
    "%%timeit 3\n",
    "    for i in range(100):\n",
    "        np.random.choice(vals, replace=False, size=10)"
   ]
  },
  {
   "cell_type": "code",
   "execution_count": 43,
   "metadata": {
    "collapsed": false
   },
   "outputs": [
    {
     "name": "stdout",
     "output_type": "stream",
     "text": [
      "10 loops, best of 3: 70.2 ms per loop\n"
     ]
    }
   ],
   "source": [
    "%%timeit 3\n",
    "    for i in range(100):\n",
    "        np.random.choice(vals, replace=True, p=scaled_weights, size=10)"
   ]
  },
  {
   "cell_type": "code",
   "execution_count": 44,
   "metadata": {
    "collapsed": false
   },
   "outputs": [
    {
     "name": "stdout",
     "output_type": "stream",
     "text": [
      "10 loops, best of 3: 78.8 ms per loop\n"
     ]
    }
   ],
   "source": [
    "%%timeit 3\n",
    "    for i in range(100):\n",
    "        np.random.choice(vals, replace=False, p=scaled_weights, size=10)"
   ]
  },
  {
   "cell_type": "markdown",
   "metadata": {},
   "source": [
    "Here are the winners, with times scaled to be relative:\n",
    "\n",
    "```\n",
    "1 ms    replacement, core python  \n",
    "200 ms  replacement with weights, numpy\n",
    "\n",
    "400 ms  no replacement, numpy\n",
    "240 ms  no replacement with weights, numpy\n",
    "```"
   ]
  },
  {
   "cell_type": "code",
   "execution_count": 45,
   "metadata": {
    "collapsed": true
   },
   "outputs": [],
   "source": [
    "# What's the real-world hit?\n",
    "\n",
    "n = int(5e6)\n",
    "vals = np.random.rand(n)\n",
    "weights = np.random.rand(n)\n",
    "scaled_weights = weights/weights.sum(0)  # probs that sum to 1"
   ]
  },
  {
   "cell_type": "code",
   "execution_count": 46,
   "metadata": {
    "collapsed": false
   },
   "outputs": [
    {
     "name": "stdout",
     "output_type": "stream",
     "text": [
      "1 loop, best of 3: 5.39 s per loop\n"
     ]
    }
   ],
   "source": [
    "%%timeit 3\n",
    "    for i in range(100):\n",
    "        np.random.choice(vals, replace=False, p=scaled_weights, size=100)"
   ]
  },
  {
   "cell_type": "markdown",
   "metadata": {},
   "source": [
    "So drawing 100k samples of 100 without replacement from a universe of 5 million, with weights, would take 90 minues on a fast iMac"
   ]
  },
  {
   "cell_type": "code",
   "execution_count": null,
   "metadata": {
    "collapsed": true
   },
   "outputs": [],
   "source": []
  },
  {
   "cell_type": "code",
   "execution_count": null,
   "metadata": {
    "collapsed": true
   },
   "outputs": [],
   "source": []
  },
  {
   "cell_type": "code",
   "execution_count": null,
   "metadata": {
    "collapsed": true
   },
   "outputs": [],
   "source": []
  },
  {
   "cell_type": "markdown",
   "metadata": {},
   "source": [
    "## ChoiceModels testing"
   ]
  },
  {
   "cell_type": "code",
   "execution_count": 4,
   "metadata": {
    "collapsed": true
   },
   "outputs": [],
   "source": [
    "obs = pd.DataFrame(np.random.rand(10,1), columns=['a'])"
   ]
  },
  {
   "cell_type": "code",
   "execution_count": 5,
   "metadata": {
    "collapsed": false
   },
   "outputs": [
    {
     "data": {
      "text/html": [
       "<div>\n",
       "<style scoped>\n",
       "    .dataframe tbody tr th:only-of-type {\n",
       "        vertical-align: middle;\n",
       "    }\n",
       "\n",
       "    .dataframe tbody tr th {\n",
       "        vertical-align: top;\n",
       "    }\n",
       "\n",
       "    .dataframe thead th {\n",
       "        text-align: right;\n",
       "    }\n",
       "</style>\n",
       "<table border=\"1\" class=\"dataframe\">\n",
       "  <thead>\n",
       "    <tr style=\"text-align: right;\">\n",
       "      <th></th>\n",
       "      <th>a</th>\n",
       "    </tr>\n",
       "  </thead>\n",
       "  <tbody>\n",
       "    <tr>\n",
       "      <th>0</th>\n",
       "      <td>0.466642</td>\n",
       "    </tr>\n",
       "    <tr>\n",
       "      <th>1</th>\n",
       "      <td>0.496494</td>\n",
       "    </tr>\n",
       "    <tr>\n",
       "      <th>2</th>\n",
       "      <td>0.255071</td>\n",
       "    </tr>\n",
       "  </tbody>\n",
       "</table>\n",
       "</div>"
      ],
      "text/plain": [
       "          a\n",
       "0  0.466642\n",
       "1  0.496494\n",
       "2  0.255071"
      ]
     },
     "execution_count": 5,
     "metadata": {},
     "output_type": "execute_result"
    }
   ],
   "source": [
    "obs.head(3)"
   ]
  },
  {
   "cell_type": "code",
   "execution_count": 6,
   "metadata": {
    "collapsed": true
   },
   "outputs": [],
   "source": [
    "alts = pd.DataFrame(np.random.rand(5,2), columns=['b','weight'])"
   ]
  },
  {
   "cell_type": "code",
   "execution_count": 7,
   "metadata": {
    "collapsed": false
   },
   "outputs": [
    {
     "data": {
      "text/html": [
       "<div>\n",
       "<style scoped>\n",
       "    .dataframe tbody tr th:only-of-type {\n",
       "        vertical-align: middle;\n",
       "    }\n",
       "\n",
       "    .dataframe tbody tr th {\n",
       "        vertical-align: top;\n",
       "    }\n",
       "\n",
       "    .dataframe thead th {\n",
       "        text-align: right;\n",
       "    }\n",
       "</style>\n",
       "<table border=\"1\" class=\"dataframe\">\n",
       "  <thead>\n",
       "    <tr style=\"text-align: right;\">\n",
       "      <th></th>\n",
       "      <th>b</th>\n",
       "      <th>weight</th>\n",
       "    </tr>\n",
       "  </thead>\n",
       "  <tbody>\n",
       "    <tr>\n",
       "      <th>0</th>\n",
       "      <td>0.715194</td>\n",
       "      <td>0.767812</td>\n",
       "    </tr>\n",
       "    <tr>\n",
       "      <th>1</th>\n",
       "      <td>0.385832</td>\n",
       "      <td>0.051211</td>\n",
       "    </tr>\n",
       "    <tr>\n",
       "      <th>2</th>\n",
       "      <td>0.563915</td>\n",
       "      <td>0.468283</td>\n",
       "    </tr>\n",
       "  </tbody>\n",
       "</table>\n",
       "</div>"
      ],
      "text/plain": [
       "          b    weight\n",
       "0  0.715194  0.767812\n",
       "1  0.385832  0.051211\n",
       "2  0.563915  0.468283"
      ]
     },
     "execution_count": 7,
     "metadata": {},
     "output_type": "execute_result"
    }
   ],
   "source": [
    "alts.head(3)"
   ]
  },
  {
   "cell_type": "code",
   "execution_count": 8,
   "metadata": {
    "collapsed": false
   },
   "outputs": [
    {
     "data": {
      "text/html": [
       "<div>\n",
       "<style scoped>\n",
       "    .dataframe tbody tr th:only-of-type {\n",
       "        vertical-align: middle;\n",
       "    }\n",
       "\n",
       "    .dataframe tbody tr th {\n",
       "        vertical-align: top;\n",
       "    }\n",
       "\n",
       "    .dataframe thead th {\n",
       "        text-align: right;\n",
       "    }\n",
       "</style>\n",
       "<table border=\"1\" class=\"dataframe\">\n",
       "  <thead>\n",
       "    <tr style=\"text-align: right;\">\n",
       "      <th></th>\n",
       "      <th></th>\n",
       "      <th>a</th>\n",
       "      <th>b</th>\n",
       "      <th>weight</th>\n",
       "    </tr>\n",
       "    <tr>\n",
       "      <th>obs_id</th>\n",
       "      <th>alt_id</th>\n",
       "      <th></th>\n",
       "      <th></th>\n",
       "      <th></th>\n",
       "    </tr>\n",
       "  </thead>\n",
       "  <tbody>\n",
       "    <tr>\n",
       "      <th rowspan=\"3\" valign=\"top\">0</th>\n",
       "      <th>1</th>\n",
       "      <td>0.466642</td>\n",
       "      <td>0.385832</td>\n",
       "      <td>0.051211</td>\n",
       "    </tr>\n",
       "    <tr>\n",
       "      <th>3</th>\n",
       "      <td>0.466642</td>\n",
       "      <td>0.515843</td>\n",
       "      <td>0.701565</td>\n",
       "    </tr>\n",
       "    <tr>\n",
       "      <th>4</th>\n",
       "      <td>0.466642</td>\n",
       "      <td>0.370468</td>\n",
       "      <td>0.163068</td>\n",
       "    </tr>\n",
       "    <tr>\n",
       "      <th rowspan=\"3\" valign=\"top\">1</th>\n",
       "      <th>2</th>\n",
       "      <td>0.496494</td>\n",
       "      <td>0.563915</td>\n",
       "      <td>0.468283</td>\n",
       "    </tr>\n",
       "    <tr>\n",
       "      <th>2</th>\n",
       "      <td>0.496494</td>\n",
       "      <td>0.563915</td>\n",
       "      <td>0.468283</td>\n",
       "    </tr>\n",
       "    <tr>\n",
       "      <th>4</th>\n",
       "      <td>0.496494</td>\n",
       "      <td>0.370468</td>\n",
       "      <td>0.163068</td>\n",
       "    </tr>\n",
       "    <tr>\n",
       "      <th rowspan=\"3\" valign=\"top\">2</th>\n",
       "      <th>0</th>\n",
       "      <td>0.255071</td>\n",
       "      <td>0.715194</td>\n",
       "      <td>0.767812</td>\n",
       "    </tr>\n",
       "    <tr>\n",
       "      <th>2</th>\n",
       "      <td>0.255071</td>\n",
       "      <td>0.563915</td>\n",
       "      <td>0.468283</td>\n",
       "    </tr>\n",
       "    <tr>\n",
       "      <th>2</th>\n",
       "      <td>0.255071</td>\n",
       "      <td>0.563915</td>\n",
       "      <td>0.468283</td>\n",
       "    </tr>\n",
       "    <tr>\n",
       "      <th rowspan=\"3\" valign=\"top\">3</th>\n",
       "      <th>0</th>\n",
       "      <td>0.117001</td>\n",
       "      <td>0.715194</td>\n",
       "      <td>0.767812</td>\n",
       "    </tr>\n",
       "    <tr>\n",
       "      <th>2</th>\n",
       "      <td>0.117001</td>\n",
       "      <td>0.563915</td>\n",
       "      <td>0.468283</td>\n",
       "    </tr>\n",
       "    <tr>\n",
       "      <th>4</th>\n",
       "      <td>0.117001</td>\n",
       "      <td>0.370468</td>\n",
       "      <td>0.163068</td>\n",
       "    </tr>\n",
       "    <tr>\n",
       "      <th rowspan=\"3\" valign=\"top\">4</th>\n",
       "      <th>0</th>\n",
       "      <td>0.886493</td>\n",
       "      <td>0.715194</td>\n",
       "      <td>0.767812</td>\n",
       "    </tr>\n",
       "    <tr>\n",
       "      <th>1</th>\n",
       "      <td>0.886493</td>\n",
       "      <td>0.385832</td>\n",
       "      <td>0.051211</td>\n",
       "    </tr>\n",
       "    <tr>\n",
       "      <th>4</th>\n",
       "      <td>0.886493</td>\n",
       "      <td>0.370468</td>\n",
       "      <td>0.163068</td>\n",
       "    </tr>\n",
       "    <tr>\n",
       "      <th rowspan=\"3\" valign=\"top\">5</th>\n",
       "      <th>3</th>\n",
       "      <td>0.814932</td>\n",
       "      <td>0.515843</td>\n",
       "      <td>0.701565</td>\n",
       "    </tr>\n",
       "    <tr>\n",
       "      <th>1</th>\n",
       "      <td>0.814932</td>\n",
       "      <td>0.385832</td>\n",
       "      <td>0.051211</td>\n",
       "    </tr>\n",
       "    <tr>\n",
       "      <th>1</th>\n",
       "      <td>0.814932</td>\n",
       "      <td>0.385832</td>\n",
       "      <td>0.051211</td>\n",
       "    </tr>\n",
       "    <tr>\n",
       "      <th rowspan=\"3\" valign=\"top\">6</th>\n",
       "      <th>0</th>\n",
       "      <td>0.346494</td>\n",
       "      <td>0.715194</td>\n",
       "      <td>0.767812</td>\n",
       "    </tr>\n",
       "    <tr>\n",
       "      <th>3</th>\n",
       "      <td>0.346494</td>\n",
       "      <td>0.515843</td>\n",
       "      <td>0.701565</td>\n",
       "    </tr>\n",
       "    <tr>\n",
       "      <th>2</th>\n",
       "      <td>0.346494</td>\n",
       "      <td>0.563915</td>\n",
       "      <td>0.468283</td>\n",
       "    </tr>\n",
       "    <tr>\n",
       "      <th rowspan=\"3\" valign=\"top\">7</th>\n",
       "      <th>4</th>\n",
       "      <td>0.997651</td>\n",
       "      <td>0.370468</td>\n",
       "      <td>0.163068</td>\n",
       "    </tr>\n",
       "    <tr>\n",
       "      <th>1</th>\n",
       "      <td>0.997651</td>\n",
       "      <td>0.385832</td>\n",
       "      <td>0.051211</td>\n",
       "    </tr>\n",
       "    <tr>\n",
       "      <th>0</th>\n",
       "      <td>0.997651</td>\n",
       "      <td>0.715194</td>\n",
       "      <td>0.767812</td>\n",
       "    </tr>\n",
       "    <tr>\n",
       "      <th rowspan=\"3\" valign=\"top\">8</th>\n",
       "      <th>2</th>\n",
       "      <td>0.780016</td>\n",
       "      <td>0.563915</td>\n",
       "      <td>0.468283</td>\n",
       "    </tr>\n",
       "    <tr>\n",
       "      <th>0</th>\n",
       "      <td>0.780016</td>\n",
       "      <td>0.715194</td>\n",
       "      <td>0.767812</td>\n",
       "    </tr>\n",
       "    <tr>\n",
       "      <th>1</th>\n",
       "      <td>0.780016</td>\n",
       "      <td>0.385832</td>\n",
       "      <td>0.051211</td>\n",
       "    </tr>\n",
       "    <tr>\n",
       "      <th rowspan=\"3\" valign=\"top\">9</th>\n",
       "      <th>0</th>\n",
       "      <td>0.253654</td>\n",
       "      <td>0.715194</td>\n",
       "      <td>0.767812</td>\n",
       "    </tr>\n",
       "    <tr>\n",
       "      <th>1</th>\n",
       "      <td>0.253654</td>\n",
       "      <td>0.385832</td>\n",
       "      <td>0.051211</td>\n",
       "    </tr>\n",
       "    <tr>\n",
       "      <th>2</th>\n",
       "      <td>0.253654</td>\n",
       "      <td>0.563915</td>\n",
       "      <td>0.468283</td>\n",
       "    </tr>\n",
       "  </tbody>\n",
       "</table>\n",
       "</div>"
      ],
      "text/plain": [
       "                      a         b    weight\n",
       "obs_id alt_id                              \n",
       "0      1       0.466642  0.385832  0.051211\n",
       "       3       0.466642  0.515843  0.701565\n",
       "       4       0.466642  0.370468  0.163068\n",
       "1      2       0.496494  0.563915  0.468283\n",
       "       2       0.496494  0.563915  0.468283\n",
       "       4       0.496494  0.370468  0.163068\n",
       "2      0       0.255071  0.715194  0.767812\n",
       "       2       0.255071  0.563915  0.468283\n",
       "       2       0.255071  0.563915  0.468283\n",
       "3      0       0.117001  0.715194  0.767812\n",
       "       2       0.117001  0.563915  0.468283\n",
       "       4       0.117001  0.370468  0.163068\n",
       "4      0       0.886493  0.715194  0.767812\n",
       "       1       0.886493  0.385832  0.051211\n",
       "       4       0.886493  0.370468  0.163068\n",
       "5      3       0.814932  0.515843  0.701565\n",
       "       1       0.814932  0.385832  0.051211\n",
       "       1       0.814932  0.385832  0.051211\n",
       "6      0       0.346494  0.715194  0.767812\n",
       "       3       0.346494  0.515843  0.701565\n",
       "       2       0.346494  0.563915  0.468283\n",
       "7      4       0.997651  0.370468  0.163068\n",
       "       1       0.997651  0.385832  0.051211\n",
       "       0       0.997651  0.715194  0.767812\n",
       "8      2       0.780016  0.563915  0.468283\n",
       "       0       0.780016  0.715194  0.767812\n",
       "       1       0.780016  0.385832  0.051211\n",
       "9      0       0.253654  0.715194  0.767812\n",
       "       1       0.253654  0.385832  0.051211\n",
       "       2       0.253654  0.563915  0.468283"
      ]
     },
     "execution_count": 8,
     "metadata": {},
     "output_type": "execute_result"
    }
   ],
   "source": [
    "choicemodels.tools.MCT(obs, alts, sample_size=3).to_frame()"
   ]
  },
  {
   "cell_type": "code",
   "execution_count": 9,
   "metadata": {
    "collapsed": false
   },
   "outputs": [
    {
     "data": {
      "text/html": [
       "<div>\n",
       "<style scoped>\n",
       "    .dataframe tbody tr th:only-of-type {\n",
       "        vertical-align: middle;\n",
       "    }\n",
       "\n",
       "    .dataframe tbody tr th {\n",
       "        vertical-align: top;\n",
       "    }\n",
       "\n",
       "    .dataframe thead th {\n",
       "        text-align: right;\n",
       "    }\n",
       "</style>\n",
       "<table border=\"1\" class=\"dataframe\">\n",
       "  <thead>\n",
       "    <tr style=\"text-align: right;\">\n",
       "      <th></th>\n",
       "      <th></th>\n",
       "      <th>a</th>\n",
       "      <th>b</th>\n",
       "      <th>weight</th>\n",
       "    </tr>\n",
       "    <tr>\n",
       "      <th>obs_id</th>\n",
       "      <th>alt_id</th>\n",
       "      <th></th>\n",
       "      <th></th>\n",
       "      <th></th>\n",
       "    </tr>\n",
       "  </thead>\n",
       "  <tbody>\n",
       "    <tr>\n",
       "      <th rowspan=\"3\" valign=\"top\">0</th>\n",
       "      <th>0</th>\n",
       "      <td>0.466642</td>\n",
       "      <td>0.715194</td>\n",
       "      <td>0.767812</td>\n",
       "    </tr>\n",
       "    <tr>\n",
       "      <th>0</th>\n",
       "      <td>0.466642</td>\n",
       "      <td>0.715194</td>\n",
       "      <td>0.767812</td>\n",
       "    </tr>\n",
       "    <tr>\n",
       "      <th>3</th>\n",
       "      <td>0.466642</td>\n",
       "      <td>0.515843</td>\n",
       "      <td>0.701565</td>\n",
       "    </tr>\n",
       "    <tr>\n",
       "      <th rowspan=\"3\" valign=\"top\">1</th>\n",
       "      <th>3</th>\n",
       "      <td>0.496494</td>\n",
       "      <td>0.515843</td>\n",
       "      <td>0.701565</td>\n",
       "    </tr>\n",
       "    <tr>\n",
       "      <th>3</th>\n",
       "      <td>0.496494</td>\n",
       "      <td>0.515843</td>\n",
       "      <td>0.701565</td>\n",
       "    </tr>\n",
       "    <tr>\n",
       "      <th>0</th>\n",
       "      <td>0.496494</td>\n",
       "      <td>0.715194</td>\n",
       "      <td>0.767812</td>\n",
       "    </tr>\n",
       "    <tr>\n",
       "      <th rowspan=\"3\" valign=\"top\">2</th>\n",
       "      <th>2</th>\n",
       "      <td>0.255071</td>\n",
       "      <td>0.563915</td>\n",
       "      <td>0.468283</td>\n",
       "    </tr>\n",
       "    <tr>\n",
       "      <th>2</th>\n",
       "      <td>0.255071</td>\n",
       "      <td>0.563915</td>\n",
       "      <td>0.468283</td>\n",
       "    </tr>\n",
       "    <tr>\n",
       "      <th>0</th>\n",
       "      <td>0.255071</td>\n",
       "      <td>0.715194</td>\n",
       "      <td>0.767812</td>\n",
       "    </tr>\n",
       "    <tr>\n",
       "      <th rowspan=\"3\" valign=\"top\">3</th>\n",
       "      <th>0</th>\n",
       "      <td>0.117001</td>\n",
       "      <td>0.715194</td>\n",
       "      <td>0.767812</td>\n",
       "    </tr>\n",
       "    <tr>\n",
       "      <th>0</th>\n",
       "      <td>0.117001</td>\n",
       "      <td>0.715194</td>\n",
       "      <td>0.767812</td>\n",
       "    </tr>\n",
       "    <tr>\n",
       "      <th>0</th>\n",
       "      <td>0.117001</td>\n",
       "      <td>0.715194</td>\n",
       "      <td>0.767812</td>\n",
       "    </tr>\n",
       "    <tr>\n",
       "      <th rowspan=\"3\" valign=\"top\">4</th>\n",
       "      <th>0</th>\n",
       "      <td>0.886493</td>\n",
       "      <td>0.715194</td>\n",
       "      <td>0.767812</td>\n",
       "    </tr>\n",
       "    <tr>\n",
       "      <th>0</th>\n",
       "      <td>0.886493</td>\n",
       "      <td>0.715194</td>\n",
       "      <td>0.767812</td>\n",
       "    </tr>\n",
       "    <tr>\n",
       "      <th>0</th>\n",
       "      <td>0.886493</td>\n",
       "      <td>0.715194</td>\n",
       "      <td>0.767812</td>\n",
       "    </tr>\n",
       "    <tr>\n",
       "      <th rowspan=\"3\" valign=\"top\">5</th>\n",
       "      <th>2</th>\n",
       "      <td>0.814932</td>\n",
       "      <td>0.563915</td>\n",
       "      <td>0.468283</td>\n",
       "    </tr>\n",
       "    <tr>\n",
       "      <th>2</th>\n",
       "      <td>0.814932</td>\n",
       "      <td>0.563915</td>\n",
       "      <td>0.468283</td>\n",
       "    </tr>\n",
       "    <tr>\n",
       "      <th>2</th>\n",
       "      <td>0.814932</td>\n",
       "      <td>0.563915</td>\n",
       "      <td>0.468283</td>\n",
       "    </tr>\n",
       "    <tr>\n",
       "      <th rowspan=\"3\" valign=\"top\">6</th>\n",
       "      <th>0</th>\n",
       "      <td>0.346494</td>\n",
       "      <td>0.715194</td>\n",
       "      <td>0.767812</td>\n",
       "    </tr>\n",
       "    <tr>\n",
       "      <th>0</th>\n",
       "      <td>0.346494</td>\n",
       "      <td>0.715194</td>\n",
       "      <td>0.767812</td>\n",
       "    </tr>\n",
       "    <tr>\n",
       "      <th>4</th>\n",
       "      <td>0.346494</td>\n",
       "      <td>0.370468</td>\n",
       "      <td>0.163068</td>\n",
       "    </tr>\n",
       "    <tr>\n",
       "      <th rowspan=\"3\" valign=\"top\">7</th>\n",
       "      <th>2</th>\n",
       "      <td>0.997651</td>\n",
       "      <td>0.563915</td>\n",
       "      <td>0.468283</td>\n",
       "    </tr>\n",
       "    <tr>\n",
       "      <th>2</th>\n",
       "      <td>0.997651</td>\n",
       "      <td>0.563915</td>\n",
       "      <td>0.468283</td>\n",
       "    </tr>\n",
       "    <tr>\n",
       "      <th>3</th>\n",
       "      <td>0.997651</td>\n",
       "      <td>0.515843</td>\n",
       "      <td>0.701565</td>\n",
       "    </tr>\n",
       "    <tr>\n",
       "      <th rowspan=\"3\" valign=\"top\">8</th>\n",
       "      <th>4</th>\n",
       "      <td>0.780016</td>\n",
       "      <td>0.370468</td>\n",
       "      <td>0.163068</td>\n",
       "    </tr>\n",
       "    <tr>\n",
       "      <th>3</th>\n",
       "      <td>0.780016</td>\n",
       "      <td>0.515843</td>\n",
       "      <td>0.701565</td>\n",
       "    </tr>\n",
       "    <tr>\n",
       "      <th>0</th>\n",
       "      <td>0.780016</td>\n",
       "      <td>0.715194</td>\n",
       "      <td>0.767812</td>\n",
       "    </tr>\n",
       "    <tr>\n",
       "      <th rowspan=\"3\" valign=\"top\">9</th>\n",
       "      <th>0</th>\n",
       "      <td>0.253654</td>\n",
       "      <td>0.715194</td>\n",
       "      <td>0.767812</td>\n",
       "    </tr>\n",
       "    <tr>\n",
       "      <th>2</th>\n",
       "      <td>0.253654</td>\n",
       "      <td>0.563915</td>\n",
       "      <td>0.468283</td>\n",
       "    </tr>\n",
       "    <tr>\n",
       "      <th>4</th>\n",
       "      <td>0.253654</td>\n",
       "      <td>0.370468</td>\n",
       "      <td>0.163068</td>\n",
       "    </tr>\n",
       "  </tbody>\n",
       "</table>\n",
       "</div>"
      ],
      "text/plain": [
       "                      a         b    weight\n",
       "obs_id alt_id                              \n",
       "0      0       0.466642  0.715194  0.767812\n",
       "       0       0.466642  0.715194  0.767812\n",
       "       3       0.466642  0.515843  0.701565\n",
       "1      3       0.496494  0.515843  0.701565\n",
       "       3       0.496494  0.515843  0.701565\n",
       "       0       0.496494  0.715194  0.767812\n",
       "2      2       0.255071  0.563915  0.468283\n",
       "       2       0.255071  0.563915  0.468283\n",
       "       0       0.255071  0.715194  0.767812\n",
       "3      0       0.117001  0.715194  0.767812\n",
       "       0       0.117001  0.715194  0.767812\n",
       "       0       0.117001  0.715194  0.767812\n",
       "4      0       0.886493  0.715194  0.767812\n",
       "       0       0.886493  0.715194  0.767812\n",
       "       0       0.886493  0.715194  0.767812\n",
       "5      2       0.814932  0.563915  0.468283\n",
       "       2       0.814932  0.563915  0.468283\n",
       "       2       0.814932  0.563915  0.468283\n",
       "6      0       0.346494  0.715194  0.767812\n",
       "       0       0.346494  0.715194  0.767812\n",
       "       4       0.346494  0.370468  0.163068\n",
       "7      2       0.997651  0.563915  0.468283\n",
       "       2       0.997651  0.563915  0.468283\n",
       "       3       0.997651  0.515843  0.701565\n",
       "8      4       0.780016  0.370468  0.163068\n",
       "       3       0.780016  0.515843  0.701565\n",
       "       0       0.780016  0.715194  0.767812\n",
       "9      0       0.253654  0.715194  0.767812\n",
       "       2       0.253654  0.563915  0.468283\n",
       "       4       0.253654  0.370468  0.163068"
      ]
     },
     "execution_count": 9,
     "metadata": {},
     "output_type": "execute_result"
    }
   ],
   "source": [
    "df = choicemodels.tools.MCT(obs, alts, sample_size=3, weights='weight').to_frame()\n",
    "df"
   ]
  },
  {
   "cell_type": "code",
   "execution_count": 9,
   "metadata": {
    "collapsed": false
   },
   "outputs": [
    {
     "ename": "ValueError",
     "evalue": "Cannot sample without replacement with sample_size 6 and n_alts 5",
     "output_type": "error",
     "traceback": [
      "\u001b[0;31m---------------------------------------------------------------------------\u001b[0m",
      "\u001b[0;31mValueError\u001b[0m                                Traceback (most recent call last)",
      "\u001b[0;32m<ipython-input-9-c921c3efe754>\u001b[0m in \u001b[0;36m<module>\u001b[0;34m()\u001b[0m\n\u001b[0;32m----> 1\u001b[0;31m \u001b[0mchoicemodels\u001b[0m\u001b[0;34m.\u001b[0m\u001b[0mtools\u001b[0m\u001b[0;34m.\u001b[0m\u001b[0mMCT\u001b[0m\u001b[0;34m(\u001b[0m\u001b[0mobs\u001b[0m\u001b[0;34m,\u001b[0m \u001b[0malts\u001b[0m\u001b[0;34m,\u001b[0m \u001b[0msample_size\u001b[0m\u001b[0;34m=\u001b[0m\u001b[0;36m6\u001b[0m\u001b[0;34m,\u001b[0m \u001b[0mreplace\u001b[0m\u001b[0;34m=\u001b[0m\u001b[0;32mFalse\u001b[0m\u001b[0;34m)\u001b[0m\u001b[0;34m.\u001b[0m\u001b[0mto_frame\u001b[0m\u001b[0;34m(\u001b[0m\u001b[0;34m)\u001b[0m\u001b[0;34m\u001b[0m\u001b[0m\n\u001b[0m",
      "\u001b[0;32m/Users/maurer/Dropbox/Git-imac/udst/choicemodels/choicemodels/tools/interaction.py\u001b[0m in \u001b[0;36m__init__\u001b[0;34m(self, observations, alternatives, chosen_alternatives, sample_size, replace, weights, random_state)\u001b[0m\n\u001b[1;32m     58\u001b[0m             \u001b[0;32mif\u001b[0m \u001b[0;34m(\u001b[0m\u001b[0msample_size\u001b[0m \u001b[0;34m>\u001b[0m \u001b[0malternatives\u001b[0m\u001b[0;34m.\u001b[0m\u001b[0mshape\u001b[0m\u001b[0;34m[\u001b[0m\u001b[0;36m0\u001b[0m\u001b[0;34m]\u001b[0m\u001b[0;34m)\u001b[0m\u001b[0;34m:\u001b[0m\u001b[0;34m\u001b[0m\u001b[0m\n\u001b[1;32m     59\u001b[0m                 raise ValueError(\"Cannot sample without replacement with sample_size {} \"\n\u001b[0;32m---> 60\u001b[0;31m                         \"and n_alts {}\".format(sample_size, alternatives.shape[0]))\n\u001b[0m\u001b[1;32m     61\u001b[0m \u001b[0;34m\u001b[0m\u001b[0m\n\u001b[1;32m     62\u001b[0m         \u001b[0;31m# TO DO - check that dfs have unique indexes\u001b[0m\u001b[0;34m\u001b[0m\u001b[0;34m\u001b[0m\u001b[0m\n",
      "\u001b[0;31mValueError\u001b[0m: Cannot sample without replacement with sample_size 6 and n_alts 5"
     ]
    }
   ],
   "source": [
    "choicemodels.tools.MCT(obs, alts, sample_size=6, replace=False).to_frame()"
   ]
  },
  {
   "cell_type": "code",
   "execution_count": 11,
   "metadata": {
    "collapsed": false
   },
   "outputs": [
    {
     "data": {
      "text/plain": [
       "True"
      ]
     },
     "execution_count": 11,
     "metadata": {},
     "output_type": "execute_result"
    }
   ],
   "source": [
    "isinstance(\"hello\", str)"
   ]
  },
  {
   "cell_type": "code",
   "execution_count": 55,
   "metadata": {
    "collapsed": false
   },
   "outputs": [
    {
     "data": {
      "text/html": [
       "<div>\n",
       "<style scoped>\n",
       "    .dataframe tbody tr th:only-of-type {\n",
       "        vertical-align: middle;\n",
       "    }\n",
       "\n",
       "    .dataframe tbody tr th {\n",
       "        vertical-align: top;\n",
       "    }\n",
       "\n",
       "    .dataframe thead th {\n",
       "        text-align: right;\n",
       "    }\n",
       "</style>\n",
       "<table border=\"1\" class=\"dataframe\">\n",
       "  <thead>\n",
       "    <tr style=\"text-align: right;\">\n",
       "      <th></th>\n",
       "      <th></th>\n",
       "      <th>a</th>\n",
       "      <th>b</th>\n",
       "      <th>weight</th>\n",
       "    </tr>\n",
       "    <tr>\n",
       "      <th>obs_id</th>\n",
       "      <th>alt_id</th>\n",
       "      <th></th>\n",
       "      <th></th>\n",
       "      <th></th>\n",
       "    </tr>\n",
       "  </thead>\n",
       "  <tbody>\n",
       "    <tr>\n",
       "      <th rowspan=\"3\" valign=\"top\">0</th>\n",
       "      <th>0</th>\n",
       "      <td>0.526994</td>\n",
       "      <td>0.686536</td>\n",
       "      <td>0.290465</td>\n",
       "    </tr>\n",
       "    <tr>\n",
       "      <th>2</th>\n",
       "      <td>0.526994</td>\n",
       "      <td>0.224750</td>\n",
       "      <td>0.711542</td>\n",
       "    </tr>\n",
       "    <tr>\n",
       "      <th>1</th>\n",
       "      <td>0.526994</td>\n",
       "      <td>0.498730</td>\n",
       "      <td>0.348613</td>\n",
       "    </tr>\n",
       "  </tbody>\n",
       "</table>\n",
       "</div>"
      ],
      "text/plain": [
       "                      a         b    weight\n",
       "obs_id alt_id                              \n",
       "0      0       0.526994  0.686536  0.290465\n",
       "       2       0.526994  0.224750  0.711542\n",
       "       1       0.526994  0.498730  0.348613"
      ]
     },
     "execution_count": 55,
     "metadata": {},
     "output_type": "execute_result"
    }
   ],
   "source": [
    "df[df.index.get_level_values('obs_id').isin([0])]"
   ]
  },
  {
   "cell_type": "code",
   "execution_count": 58,
   "metadata": {
    "collapsed": false
   },
   "outputs": [
    {
     "data": {
      "text/plain": [
       "obs_id  alt_id\n",
       "0       0         0.290465\n",
       "        2         0.711542\n",
       "        1         0.348613\n",
       "Name: weight, dtype: float64"
      ]
     },
     "execution_count": 58,
     "metadata": {},
     "output_type": "execute_result"
    }
   ],
   "source": [
    "df[df.index.get_level_values('obs_id').isin([0])].weight"
   ]
  },
  {
   "cell_type": "code",
   "execution_count": 60,
   "metadata": {
    "collapsed": false
   },
   "outputs": [
    {
     "data": {
      "text/plain": [
       "obs_id  alt_id\n",
       "0       0         0.017042\n",
       "        2         0.041747\n",
       "        1         0.020454\n",
       "1       4         0.045093\n",
       "        4         0.045093\n",
       "        2         0.041747\n",
       "2       4         0.045093\n",
       "        2         0.041747\n",
       "        4         0.045093\n",
       "3       2         0.041747\n",
       "        0         0.017042\n",
       "        2         0.041747\n",
       "4       2         0.041747\n",
       "        2         0.041747\n",
       "        2         0.041747\n",
       "5       3         0.003128\n",
       "        4         0.045093\n",
       "        1         0.020454\n",
       "6       4         0.045093\n",
       "        3         0.003128\n",
       "        1         0.020454\n",
       "7       1         0.020454\n",
       "        4         0.045093\n",
       "        1         0.020454\n",
       "8       4         0.045093\n",
       "        2         0.041747\n",
       "        4         0.045093\n",
       "9       2         0.041747\n",
       "        0         0.017042\n",
       "        0         0.017042\n",
       "Name: weight, dtype: float64"
      ]
     },
     "execution_count": 60,
     "metadata": {},
     "output_type": "execute_result"
    }
   ],
   "source": [
    "df.weight/df.weight.sum()"
   ]
  },
  {
   "cell_type": "code",
   "execution_count": null,
   "metadata": {
    "collapsed": true
   },
   "outputs": [],
   "source": []
  },
  {
   "cell_type": "code",
   "execution_count": 9,
   "metadata": {
    "collapsed": false
   },
   "outputs": [
    {
     "data": {
      "text/plain": [
       "[1, 1, 1, 1, 2, 2, 2, 2, 3, 3, 3, 3]"
      ]
     },
     "execution_count": 9,
     "metadata": {},
     "output_type": "execute_result"
    }
   ],
   "source": [
    "np.repeat([1,2,3], 4).tolist()"
   ]
  },
  {
   "cell_type": "code",
   "execution_count": 1,
   "metadata": {
    "collapsed": false
   },
   "outputs": [
    {
     "name": "stdout",
     "output_type": "stream",
     "text": [
      "yes\n"
     ]
    }
   ],
   "source": [
    "if True:\n",
    "    a = \"yes\"\n",
    "print(a)"
   ]
  },
  {
   "cell_type": "code",
   "execution_count": 14,
   "metadata": {
    "collapsed": false
   },
   "outputs": [
    {
     "data": {
      "text/plain": [
       "array([1, 0, 0, 1, 0, 0, 1, 0, 0])"
      ]
     },
     "execution_count": 14,
     "metadata": {},
     "output_type": "execute_result"
    }
   ],
   "source": [
    "np.tile(np.append([1], np.repeat(0, 2)), 3)"
   ]
  },
  {
   "cell_type": "code",
   "execution_count": 4,
   "metadata": {
    "collapsed": false
   },
   "outputs": [
    {
     "data": {
      "text/plain": [
       "[1, 2]"
      ]
     },
     "execution_count": 4,
     "metadata": {},
     "output_type": "execute_result"
    }
   ],
   "source": [
    "[1] + [2]"
   ]
  },
  {
   "cell_type": "code",
   "execution_count": 12,
   "metadata": {
    "collapsed": false
   },
   "outputs": [
    {
     "name": "stdout",
     "output_type": "stream",
     "text": [
      "[1 0 0]\n"
     ]
    }
   ],
   "source": [
    "print(np.append([1], np.repeat(0, 2)))"
   ]
  },
  {
   "cell_type": "code",
   "execution_count": null,
   "metadata": {
    "collapsed": true
   },
   "outputs": [],
   "source": []
  },
  {
   "cell_type": "code",
   "execution_count": 3,
   "metadata": {
    "collapsed": true
   },
   "outputs": [],
   "source": [
    "df = pd.DataFrame(np.random.randn(10000,4), columns=list('ABCD'))"
   ]
  },
  {
   "cell_type": "code",
   "execution_count": 5,
   "metadata": {
    "collapsed": false
   },
   "outputs": [
    {
     "data": {
      "text/html": [
       "<div>\n",
       "<style>\n",
       "    .dataframe thead tr:only-child th {\n",
       "        text-align: right;\n",
       "    }\n",
       "\n",
       "    .dataframe thead th {\n",
       "        text-align: left;\n",
       "    }\n",
       "\n",
       "    .dataframe tbody tr th {\n",
       "        vertical-align: top;\n",
       "    }\n",
       "</style>\n",
       "<table border=\"1\" class=\"dataframe\">\n",
       "  <thead>\n",
       "    <tr style=\"text-align: right;\">\n",
       "      <th></th>\n",
       "      <th>A</th>\n",
       "      <th>B</th>\n",
       "      <th>C</th>\n",
       "      <th>D</th>\n",
       "    </tr>\n",
       "  </thead>\n",
       "  <tbody>\n",
       "    <tr>\n",
       "      <th>0</th>\n",
       "      <td>0.049604</td>\n",
       "      <td>-0.107076</td>\n",
       "      <td>-1.040623</td>\n",
       "      <td>-0.546538</td>\n",
       "    </tr>\n",
       "    <tr>\n",
       "      <th>1</th>\n",
       "      <td>1.140552</td>\n",
       "      <td>1.434264</td>\n",
       "      <td>-0.110053</td>\n",
       "      <td>-1.238815</td>\n",
       "    </tr>\n",
       "    <tr>\n",
       "      <th>2</th>\n",
       "      <td>1.884469</td>\n",
       "      <td>0.543573</td>\n",
       "      <td>1.562645</td>\n",
       "      <td>-0.358955</td>\n",
       "    </tr>\n",
       "  </tbody>\n",
       "</table>\n",
       "</div>"
      ],
      "text/plain": [
       "          A         B         C         D\n",
       "0  0.049604 -0.107076 -1.040623 -0.546538\n",
       "1  1.140552  1.434264 -0.110053 -1.238815\n",
       "2  1.884469  0.543573  1.562645 -0.358955"
      ]
     },
     "execution_count": 5,
     "metadata": {},
     "output_type": "execute_result"
    }
   ],
   "source": [
    "df.head(3)"
   ]
  },
  {
   "cell_type": "code",
   "execution_count": 8,
   "metadata": {
    "collapsed": false
   },
   "outputs": [
    {
     "data": {
      "text/plain": [
       "50000"
      ]
     },
     "execution_count": 8,
     "metadata": {},
     "output_type": "execute_result"
    }
   ],
   "source": [
    "len(df.A.sample(50000, replace=True))"
   ]
  },
  {
   "cell_type": "code",
   "execution_count": 62,
   "metadata": {
    "collapsed": false
   },
   "outputs": [
    {
     "data": {
      "text/plain": [
       "function"
      ]
     },
     "execution_count": 62,
     "metadata": {},
     "output_type": "execute_result"
    }
   ],
   "source": [
    "def a():\n",
    "    return\n",
    "\n",
    "type(a)"
   ]
  },
  {
   "cell_type": "code",
   "execution_count": 65,
   "metadata": {
    "collapsed": false
   },
   "outputs": [
    {
     "data": {
      "text/plain": [
       "True"
      ]
     },
     "execution_count": 65,
     "metadata": {},
     "output_type": "execute_result"
    }
   ],
   "source": [
    "callable(a)"
   ]
  },
  {
   "cell_type": "code",
   "execution_count": null,
   "metadata": {
    "collapsed": true
   },
   "outputs": [],
   "source": []
  },
  {
   "cell_type": "code",
   "execution_count": null,
   "metadata": {
    "collapsed": true
   },
   "outputs": [],
   "source": []
  },
  {
   "cell_type": "code",
   "execution_count": null,
   "metadata": {
    "collapsed": true
   },
   "outputs": [],
   "source": []
  },
  {
   "cell_type": "markdown",
   "metadata": {},
   "source": [
    "And re our discussion of sampling weights.. Here’s the notebook i mentioned where i estimate an MNL model that includes both (a) custom logic for sampling of alternatives (in this case it does an availability calculation on the fly, but weights can by applied similarly) and (b) attributes that vary based on the interaction of choosers and alternatives (in this case a euclidean distance lookup). I do this by building the long-format estimation table manually -- not much code, but a pain to get it right.\n",
    "\n",
    "The first thing i’ll do to make this more structured is to have ChoiceModels accept either matrices or generator functions for availability, weights, and interaction terms. (Generator functions can be more efficient because you don’t have to compute the whole NxM matrix, but matrices are better if you want to re-use the weights.)\n",
    "\n",
    "But for use in UrbanSim, neither matrices nor generator functions are particularly convenient, because they’re hard to store.. we could store weights as big lookup tables and generator functions as Orca injectables, but i think we should do some experimenting first.\n",
    "\n",
    "So here’s my proposal: First, i’ll update the ChoiceModels MergedChoiceTable API to take these inputs. Then, i’ll create a backdoor in the Large MNL template so we can pass in a custom MergedChoiceTable when we’re working with the class object directly, like in a notebook. This won’t work for saving models and re-running them later, but it will let us experiment pretty easily.\n",
    "\n",
    "https://gist.github.com/smmaurer/c3b4f2f7c4d612a4520de119f9f497cf\n",
    "\n",
    "\n",
    "\n",
    "1. reimplement the interaction dataset\n",
    "2. check accuracy\n",
    "3. check speed\n",
    "4. implement weights"
   ]
  },
  {
   "cell_type": "code",
   "execution_count": null,
   "metadata": {
    "collapsed": true
   },
   "outputs": [],
   "source": []
  }
 ],
 "metadata": {
  "kernelspec": {
   "display_name": "Python 3",
   "language": "python",
   "name": "python3"
  },
  "language_info": {
   "codemirror_mode": {
    "name": "ipython",
    "version": 3
   },
   "file_extension": ".py",
   "mimetype": "text/x-python",
   "name": "python",
   "nbconvert_exporter": "python",
   "pygments_lexer": "ipython3",
   "version": "3.6.4"
  }
 },
 "nbformat": 4,
 "nbformat_minor": 2
}
