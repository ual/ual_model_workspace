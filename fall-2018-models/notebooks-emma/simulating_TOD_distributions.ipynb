{
 "cells": [
  {
   "cell_type": "code",
   "execution_count": 1,
   "metadata": {},
   "outputs": [],
   "source": [
    "import pandas as pd\n",
    "import time\n",
    "import numpy as np\n",
    "import scipy\n",
    "import scipy.stats as st\n",
    "from scipy.stats import skewnorm\n",
    "import statsmodels as sm\n",
    "import matplotlib\n",
    "import matplotlib.pyplot as plt\n",
    "\n",
    "from scipy import stats  \n",
    "\n",
    "# import matplotlib\n",
    "# matplotlib.style.use('ggplot')\n",
    "\n",
    "%matplotlib inline\n",
    "\n",
    "pd.options.display.max_columns = 80"
   ]
  },
  {
   "cell_type": "code",
   "execution_count": 3,
   "metadata": {},
   "outputs": [],
   "source": [
    "trips = pd.read_csv('/home/emma/ual_model_workspace/fall-2018-models/obs_121218.csv')"
   ]
  },
  {
   "cell_type": "code",
   "execution_count": 4,
   "metadata": {},
   "outputs": [],
   "source": [
    "trips02 = trips.loc[trips['TOD'].isin([2])]\n",
    "trips03 = trips.loc[trips['TOD'].isin([3])]\n",
    "trips12 = trips.loc[trips['TOD'].isin([12])]\n",
    "trips13 = trips.loc[trips['TOD'].isin([13])]\n",
    "trips14 = trips.loc[trips['TOD'].isin([14])]\n",
    "trips22 = trips.loc[trips['TOD'].isin([22])]\n",
    "trips23 = trips.loc[trips['TOD'].isin([23])]\n",
    "trips24 = trips.loc[trips['TOD'].isin([24])]"
   ]
  },
  {
   "cell_type": "code",
   "execution_count": 14,
   "metadata": {},
   "outputs": [
    {
     "name": "stderr",
     "output_type": "stream",
     "text": [
      "/home/emma/anaconda/envs/ual-model/lib/python3.6/site-packages/ipykernel_launcher.py:1: SettingWithCopyWarning: \n",
      "A value is trying to be set on a copy of a slice from a DataFrame.\n",
      "Try using .loc[row_indexer,col_indexer] = value instead\n",
      "\n",
      "See the caveats in the documentation: http://pandas.pydata.org/pandas-docs/stable/indexing.html#indexing-view-versus-copy\n",
      "  \"\"\"Entry point for launching an IPython kernel.\n",
      "/home/emma/anaconda/envs/ual-model/lib/python3.6/site-packages/ipykernel_launcher.py:2: SettingWithCopyWarning: \n",
      "A value is trying to be set on a copy of a slice from a DataFrame.\n",
      "Try using .loc[row_indexer,col_indexer] = value instead\n",
      "\n",
      "See the caveats in the documentation: http://pandas.pydata.org/pandas-docs/stable/indexing.html#indexing-view-versus-copy\n",
      "  \n",
      "/home/emma/anaconda/envs/ual-model/lib/python3.6/site-packages/ipykernel_launcher.py:4: SettingWithCopyWarning: \n",
      "A value is trying to be set on a copy of a slice from a DataFrame.\n",
      "Try using .loc[row_indexer,col_indexer] = value instead\n",
      "\n",
      "See the caveats in the documentation: http://pandas.pydata.org/pandas-docs/stable/indexing.html#indexing-view-versus-copy\n",
      "  after removing the cwd from sys.path.\n",
      "/home/emma/anaconda/envs/ual-model/lib/python3.6/site-packages/ipykernel_launcher.py:5: SettingWithCopyWarning: \n",
      "A value is trying to be set on a copy of a slice from a DataFrame.\n",
      "Try using .loc[row_indexer,col_indexer] = value instead\n",
      "\n",
      "See the caveats in the documentation: http://pandas.pydata.org/pandas-docs/stable/indexing.html#indexing-view-versus-copy\n",
      "  \"\"\"\n",
      "/home/emma/anaconda/envs/ual-model/lib/python3.6/site-packages/ipykernel_launcher.py:7: SettingWithCopyWarning: \n",
      "A value is trying to be set on a copy of a slice from a DataFrame.\n",
      "Try using .loc[row_indexer,col_indexer] = value instead\n",
      "\n",
      "See the caveats in the documentation: http://pandas.pydata.org/pandas-docs/stable/indexing.html#indexing-view-versus-copy\n",
      "  import sys\n",
      "/home/emma/anaconda/envs/ual-model/lib/python3.6/site-packages/ipykernel_launcher.py:8: SettingWithCopyWarning: \n",
      "A value is trying to be set on a copy of a slice from a DataFrame.\n",
      "Try using .loc[row_indexer,col_indexer] = value instead\n",
      "\n",
      "See the caveats in the documentation: http://pandas.pydata.org/pandas-docs/stable/indexing.html#indexing-view-versus-copy\n",
      "  \n",
      "/home/emma/anaconda/envs/ual-model/lib/python3.6/site-packages/ipykernel_launcher.py:10: SettingWithCopyWarning: \n",
      "A value is trying to be set on a copy of a slice from a DataFrame.\n",
      "Try using .loc[row_indexer,col_indexer] = value instead\n",
      "\n",
      "See the caveats in the documentation: http://pandas.pydata.org/pandas-docs/stable/indexing.html#indexing-view-versus-copy\n",
      "  # Remove the CWD from sys.path while we load stuff.\n",
      "/home/emma/anaconda/envs/ual-model/lib/python3.6/site-packages/ipykernel_launcher.py:11: SettingWithCopyWarning: \n",
      "A value is trying to be set on a copy of a slice from a DataFrame.\n",
      "Try using .loc[row_indexer,col_indexer] = value instead\n",
      "\n",
      "See the caveats in the documentation: http://pandas.pydata.org/pandas-docs/stable/indexing.html#indexing-view-versus-copy\n",
      "  # This is added back by InteractiveShellApp.init_path()\n",
      "/home/emma/anaconda/envs/ual-model/lib/python3.6/site-packages/ipykernel_launcher.py:13: SettingWithCopyWarning: \n",
      "A value is trying to be set on a copy of a slice from a DataFrame.\n",
      "Try using .loc[row_indexer,col_indexer] = value instead\n",
      "\n",
      "See the caveats in the documentation: http://pandas.pydata.org/pandas-docs/stable/indexing.html#indexing-view-versus-copy\n",
      "  del sys.path[0]\n",
      "/home/emma/anaconda/envs/ual-model/lib/python3.6/site-packages/ipykernel_launcher.py:14: SettingWithCopyWarning: \n",
      "A value is trying to be set on a copy of a slice from a DataFrame.\n",
      "Try using .loc[row_indexer,col_indexer] = value instead\n",
      "\n",
      "See the caveats in the documentation: http://pandas.pydata.org/pandas-docs/stable/indexing.html#indexing-view-versus-copy\n",
      "  \n",
      "/home/emma/anaconda/envs/ual-model/lib/python3.6/site-packages/ipykernel_launcher.py:16: SettingWithCopyWarning: \n",
      "A value is trying to be set on a copy of a slice from a DataFrame.\n",
      "Try using .loc[row_indexer,col_indexer] = value instead\n",
      "\n",
      "See the caveats in the documentation: http://pandas.pydata.org/pandas-docs/stable/indexing.html#indexing-view-versus-copy\n",
      "  app.launch_new_instance()\n",
      "/home/emma/anaconda/envs/ual-model/lib/python3.6/site-packages/ipykernel_launcher.py:17: SettingWithCopyWarning: \n",
      "A value is trying to be set on a copy of a slice from a DataFrame.\n",
      "Try using .loc[row_indexer,col_indexer] = value instead\n",
      "\n",
      "See the caveats in the documentation: http://pandas.pydata.org/pandas-docs/stable/indexing.html#indexing-view-versus-copy\n",
      "/home/emma/anaconda/envs/ual-model/lib/python3.6/site-packages/ipykernel_launcher.py:19: SettingWithCopyWarning: \n",
      "A value is trying to be set on a copy of a slice from a DataFrame.\n",
      "Try using .loc[row_indexer,col_indexer] = value instead\n",
      "\n",
      "See the caveats in the documentation: http://pandas.pydata.org/pandas-docs/stable/indexing.html#indexing-view-versus-copy\n",
      "/home/emma/anaconda/envs/ual-model/lib/python3.6/site-packages/ipykernel_launcher.py:20: SettingWithCopyWarning: \n",
      "A value is trying to be set on a copy of a slice from a DataFrame.\n",
      "Try using .loc[row_indexer,col_indexer] = value instead\n",
      "\n",
      "See the caveats in the documentation: http://pandas.pydata.org/pandas-docs/stable/indexing.html#indexing-view-versus-copy\n",
      "/home/emma/anaconda/envs/ual-model/lib/python3.6/site-packages/ipykernel_launcher.py:22: SettingWithCopyWarning: \n",
      "A value is trying to be set on a copy of a slice from a DataFrame.\n",
      "Try using .loc[row_indexer,col_indexer] = value instead\n",
      "\n",
      "See the caveats in the documentation: http://pandas.pydata.org/pandas-docs/stable/indexing.html#indexing-view-versus-copy\n"
     ]
    }
   ],
   "source": [
    "trips02['HW_ST'] = st.burr.rvs(size= len(trips02), c=104.46,d=0.03,loc=2.13,scale=3.72)\n",
    "trips02['WH_ST'] = st.argus.rvs(size= len(trips02), chi=3.02,loc=7.70,scale=7.66)\n",
    "\n",
    "trips03['HW_ST'] = st.genlogistic.rvs(size= len(trips03), c=0.08,loc=5.86,scale=0.05)\n",
    "trips03['WH_ST'] = st.bradford.rvs(size= len(trips03), c=8.91, loc=15.50, scale=3.01)\n",
    "\n",
    "trips12['HW_ST'] = st.vonmises_line.rvs(size= len(trips12), kappa=0.33,loc=7.48,scale=0.47)\n",
    "trips12['WH_ST'] = st.johnsonsb.rvs(size= len(trips12), a=-0.95, b=0.71, loc=8.69, scale=6.80)\n",
    "\n",
    "trips13['HW_ST'] = st.vonmises_line.rvs(size= len(trips13), kappa=0.46,loc=7.48,scale=0.47)\n",
    "trips13['WH_ST'] = st.vonmises_line.rvs(size= len(trips13), kappa=0.41, loc=16.99, scale=0.47)\n",
    "\n",
    "trips14['HW_ST'] = st.beta.rvs(size= len(trips14), a=1.58,b=1.14,loc=5.90,scale=3.07)\n",
    "trips14['WH_ST'] = st.pareto.rvs(size= len(trips14), b=19.93, loc=-0.36, scale=18.86)\n",
    "\n",
    "trips22['HW_ST'] = st.weibull_min.rvs(size= len(trips22), c=0.95,loc=9.00,scale=1.04)\n",
    "trips22['WH_ST'] = st.burr.rvs(size= len(trips22), c=263.97, d=0.03, loc=-1.00, scale=16.33)\n",
    "\n",
    "trips23['HW_ST'] = st.levy.rvs(size= len(trips23), loc=8.93,scale=0.30)\n",
    "trips23['WH_ST'] = st.triang.rvs(size= len(trips23), c=0.90, loc=15.17, scale=3.34)\n",
    "\n",
    "trips24['WH_ST'] = st.bradford.rvs(size= len(trips24), c=21.60, loc=18.50, scale=7.76)"
   ]
  },
  {
   "cell_type": "code",
   "execution_count": 18,
   "metadata": {},
   "outputs": [
    {
     "name": "stdout",
     "output_type": "stream",
     "text": [
      "3.0006515982265043\n",
      "5.999808743126615\n"
     ]
    },
    {
     "name": "stderr",
     "output_type": "stream",
     "text": [
      "/home/emma/anaconda/envs/ual-model/lib/python3.6/site-packages/pandas/core/indexing.py:537: SettingWithCopyWarning: \n",
      "A value is trying to be set on a copy of a slice from a DataFrame.\n",
      "Try using .loc[row_indexer,col_indexer] = value instead\n",
      "\n",
      "See the caveats in the documentation: http://pandas.pydata.org/pandas-docs/stable/indexing.html#indexing-view-versus-copy\n",
      "  self.obj[item] = s\n"
     ]
    }
   ],
   "source": [
    "while len(trips02.loc[(trips02['HW_ST'] < 3) | (trips02['HW_ST'] >= 6)]) > 0:\n",
    "    trips02.loc[ (trips02['HW_ST'] < 3) | (trips02['HW_ST'] >= 6),\n",
    "           'HW_ST'] = st.burr.rvs(size= len(trips02.loc[(trips02['HW_ST'] < 3) | (trips02['HW_ST'] >= 6)]), c=104.46,d=0.03,loc=2.13,scale=3.72)\n",
    "\n",
    "print (trips02.HW_ST.min())\n",
    "print (trips02.HW_ST.max())"
   ]
  },
  {
   "cell_type": "code",
   "execution_count": 21,
   "metadata": {},
   "outputs": [
    {
     "name": "stdout",
     "output_type": "stream",
     "text": [
      "3.0001127023329346\n",
      "5.999898031107297\n"
     ]
    },
    {
     "name": "stderr",
     "output_type": "stream",
     "text": [
      "/home/emma/anaconda/envs/ual-model/lib/python3.6/site-packages/pandas/core/indexing.py:537: SettingWithCopyWarning: \n",
      "A value is trying to be set on a copy of a slice from a DataFrame.\n",
      "Try using .loc[row_indexer,col_indexer] = value instead\n",
      "\n",
      "See the caveats in the documentation: http://pandas.pydata.org/pandas-docs/stable/indexing.html#indexing-view-versus-copy\n",
      "  self.obj[item] = s\n"
     ]
    }
   ],
   "source": [
    "while len(trips03.loc[(trips03['HW_ST'] < 3) | (trips03['HW_ST'] >= 6)]) > 0:\n",
    "    trips03.loc[ (trips03['HW_ST'] < 3) | (trips03['HW_ST'] >= 6),\n",
    "           'HW_ST'] = st.genlogistic.rvs(size= len(trips03.loc[(trips03['HW_ST'] < 3) | (trips03['HW_ST'] >= 6)]), c=0.08,loc=5.86,scale=0.05)\n",
    "\n",
    "print (trips03.HW_ST.min())\n",
    "print (trips03.HW_ST.max())"
   ]
  },
  {
   "cell_type": "code",
   "execution_count": 22,
   "metadata": {},
   "outputs": [
    {
     "name": "stdout",
     "output_type": "stream",
     "text": [
      "6.00346927806681\n",
      "8.956541249001885\n"
     ]
    },
    {
     "name": "stderr",
     "output_type": "stream",
     "text": [
      "/home/emma/anaconda/envs/ual-model/lib/python3.6/site-packages/pandas/core/indexing.py:537: SettingWithCopyWarning: \n",
      "A value is trying to be set on a copy of a slice from a DataFrame.\n",
      "Try using .loc[row_indexer,col_indexer] = value instead\n",
      "\n",
      "See the caveats in the documentation: http://pandas.pydata.org/pandas-docs/stable/indexing.html#indexing-view-versus-copy\n",
      "  self.obj[item] = s\n"
     ]
    }
   ],
   "source": [
    "while len(trips12.loc[(trips12['HW_ST'] < 6) | (trips12['HW_ST'] >= 9)]) > 0:\n",
    "    trips12.loc[ (trips12['HW_ST'] < 6) | (trips12['HW_ST'] >= 9),\n",
    "           'HW_ST'] = st.vonmises_line.rvs(size= len(trips12.loc[(trips12['HW_ST'] < 6) | (trips12['HW_ST'] >= 9)]), kappa=0.33,loc=7.48,scale=0.47)\n",
    "\n",
    "print (trips12.HW_ST.min())\n",
    "print (trips12.HW_ST.max())"
   ]
  },
  {
   "cell_type": "code",
   "execution_count": 23,
   "metadata": {},
   "outputs": [
    {
     "name": "stdout",
     "output_type": "stream",
     "text": [
      "6.003460051829485\n",
      "8.956545210021533\n"
     ]
    },
    {
     "name": "stderr",
     "output_type": "stream",
     "text": [
      "/home/emma/anaconda/envs/ual-model/lib/python3.6/site-packages/pandas/core/indexing.py:537: SettingWithCopyWarning: \n",
      "A value is trying to be set on a copy of a slice from a DataFrame.\n",
      "Try using .loc[row_indexer,col_indexer] = value instead\n",
      "\n",
      "See the caveats in the documentation: http://pandas.pydata.org/pandas-docs/stable/indexing.html#indexing-view-versus-copy\n",
      "  self.obj[item] = s\n"
     ]
    }
   ],
   "source": [
    "while len(trips13.loc[(trips13['HW_ST'] < 6) | (trips13['HW_ST'] >= 9)]) > 0:\n",
    "    trips13.loc[ (trips13['HW_ST'] < 6) | (trips13['HW_ST'] >= 9),\n",
    "           'HW_ST'] = st.vonmises_line.rvs(size= len(trips13.loc[(trips13['HW_ST'] < 6) | (trips13['HW_ST'] >= 9)]), kappa=0.46,loc=7.48,scale=0.47)\n",
    "\n",
    "print (trips13.HW_ST.min())\n",
    "print (trips13.HW_ST.max())"
   ]
  },
  {
   "cell_type": "code",
   "execution_count": 25,
   "metadata": {},
   "outputs": [
    {
     "name": "stdout",
     "output_type": "stream",
     "text": [
      "6.000271770727116\n",
      "8.969939241274883\n"
     ]
    },
    {
     "name": "stderr",
     "output_type": "stream",
     "text": [
      "/home/emma/anaconda/envs/ual-model/lib/python3.6/site-packages/pandas/core/indexing.py:537: SettingWithCopyWarning: \n",
      "A value is trying to be set on a copy of a slice from a DataFrame.\n",
      "Try using .loc[row_indexer,col_indexer] = value instead\n",
      "\n",
      "See the caveats in the documentation: http://pandas.pydata.org/pandas-docs/stable/indexing.html#indexing-view-versus-copy\n",
      "  self.obj[item] = s\n"
     ]
    }
   ],
   "source": [
    "while len(trips14.loc[(trips14['HW_ST'] < 6) | (trips14['HW_ST'] >= 9)]) > 0:\n",
    "    trips14.loc[ (trips14['HW_ST'] < 6) | (trips14['HW_ST'] >= 9),\n",
    "           'HW_ST'] = st.beta.rvs(size= len(trips14.loc[(trips14['HW_ST'] < 6) | (trips14['HW_ST'] >= 9)]), a=1.58,b=1.14,loc=5.90,scale=3.07)\n",
    "\n",
    "print (trips14.HW_ST.min())\n",
    "print (trips14.HW_ST.max())"
   ]
  },
  {
   "cell_type": "code",
   "execution_count": 28,
   "metadata": {},
   "outputs": [
    {
     "name": "stdout",
     "output_type": "stream",
     "text": [
      "9.000025110654288\n",
      "15.465422005918263\n"
     ]
    },
    {
     "name": "stderr",
     "output_type": "stream",
     "text": [
      "/home/emma/anaconda/envs/ual-model/lib/python3.6/site-packages/pandas/core/indexing.py:537: SettingWithCopyWarning: \n",
      "A value is trying to be set on a copy of a slice from a DataFrame.\n",
      "Try using .loc[row_indexer,col_indexer] = value instead\n",
      "\n",
      "See the caveats in the documentation: http://pandas.pydata.org/pandas-docs/stable/indexing.html#indexing-view-versus-copy\n",
      "  self.obj[item] = s\n"
     ]
    }
   ],
   "source": [
    "while len(trips22.loc[(trips22['HW_ST'] < 9) | (trips22['HW_ST'] >= 15.5)]) > 0:\n",
    "    trips22.loc[ (trips22['HW_ST'] < 9) | (trips22['HW_ST'] >= 15.5),\n",
    "           'HW_ST'] = st.weibull_min.rvs(size= len(trips22.loc[(trips22['HW_ST'] < 9) | (trips22['HW_ST'] >= 15.5)]), c=0.95,loc=9.00,scale=1.04)\n",
    "\n",
    "print (trips22.HW_ST.min())\n",
    "print (trips22.HW_ST.max())"
   ]
  },
  {
   "cell_type": "code",
   "execution_count": 36,
   "metadata": {},
   "outputs": [
    {
     "name": "stdout",
     "output_type": "stream",
     "text": [
      "9.00000087009543\n",
      "15.499911520405977\n"
     ]
    },
    {
     "name": "stderr",
     "output_type": "stream",
     "text": [
      "/home/emma/anaconda/envs/ual-model/lib/python3.6/site-packages/pandas/core/indexing.py:537: SettingWithCopyWarning: \n",
      "A value is trying to be set on a copy of a slice from a DataFrame.\n",
      "Try using .loc[row_indexer,col_indexer] = value instead\n",
      "\n",
      "See the caveats in the documentation: http://pandas.pydata.org/pandas-docs/stable/indexing.html#indexing-view-versus-copy\n",
      "  self.obj[item] = s\n"
     ]
    }
   ],
   "source": [
    "while len(trips23.loc[(trips23['HW_ST'] < 9) | (trips23['HW_ST'] >= 15.5)]) > 0:\n",
    "    trips23.loc[ (trips23['HW_ST'] < 9) | (trips23['HW_ST'] >= 15.5),\n",
    "           'HW_ST'] = st.levy.rvs(size= len(trips23.loc[(trips23['HW_ST'] < 9) | (trips23['HW_ST'] >= 15.5)]), loc=8.93,scale=0.30)\n",
    "\n",
    "print (trips23.HW_ST.min())\n",
    "print (trips23.HW_ST.max())"
   ]
  },
  {
   "cell_type": "code",
   "execution_count": 37,
   "metadata": {},
   "outputs": [
    {
     "name": "stdout",
     "output_type": "stream",
     "text": [
      "9.001278262687217\n",
      "15.359561404091407\n"
     ]
    },
    {
     "name": "stderr",
     "output_type": "stream",
     "text": [
      "/home/emma/anaconda/envs/ual-model/lib/python3.6/site-packages/pandas/core/indexing.py:537: SettingWithCopyWarning: \n",
      "A value is trying to be set on a copy of a slice from a DataFrame.\n",
      "Try using .loc[row_indexer,col_indexer] = value instead\n",
      "\n",
      "See the caveats in the documentation: http://pandas.pydata.org/pandas-docs/stable/indexing.html#indexing-view-versus-copy\n",
      "  self.obj[item] = s\n"
     ]
    }
   ],
   "source": [
    "while len(trips02.loc[(trips02['WH_ST'] < 9) | (trips02['WH_ST'] >= 15.5)]) > 0:\n",
    "    trips02.loc[ (trips02['WH_ST'] < 9) | (trips02['WH_ST'] >= 15.5),\n",
    "           'WH_ST'] = st.argus.rvs(size= len(trips02.loc[(trips02['WH_ST'] < 9) | (trips02['WH_ST'] >= 15.5)]), chi=3.02,loc=7.70,scale=7.66)\n",
    "\n",
    "print (trips02.WH_ST.min())\n",
    "print (trips02.WH_ST.max())"
   ]
  },
  {
   "cell_type": "code",
   "execution_count": 38,
   "metadata": {},
   "outputs": [
    {
     "name": "stdout",
     "output_type": "stream",
     "text": [
      "9.00019944721012\n",
      "15.487725142812177\n"
     ]
    },
    {
     "name": "stderr",
     "output_type": "stream",
     "text": [
      "/home/emma/anaconda/envs/ual-model/lib/python3.6/site-packages/pandas/core/indexing.py:537: SettingWithCopyWarning: \n",
      "A value is trying to be set on a copy of a slice from a DataFrame.\n",
      "Try using .loc[row_indexer,col_indexer] = value instead\n",
      "\n",
      "See the caveats in the documentation: http://pandas.pydata.org/pandas-docs/stable/indexing.html#indexing-view-versus-copy\n",
      "  self.obj[item] = s\n"
     ]
    }
   ],
   "source": [
    "while len(trips12.loc[(trips12['WH_ST'] < 9) | (trips12['WH_ST'] >= 15.5)]) > 0:\n",
    "    trips12.loc[ (trips12['WH_ST'] < 9) | (trips12['WH_ST'] >= 15.5),\n",
    "           'WH_ST'] = st.johnsonsb.rvs(size= len(trips12.loc[(trips12['WH_ST'] < 9) | (trips12['WH_ST'] >= 15.5)]), a=-0.95, b=0.71, loc=8.69, scale=6.80)\n",
    "\n",
    "print (trips12.WH_ST.min())\n",
    "print (trips12.WH_ST.max())"
   ]
  },
  {
   "cell_type": "code",
   "execution_count": 94,
   "metadata": {},
   "outputs": [
    {
     "name": "stdout",
     "output_type": "stream",
     "text": [
      "9.052367371385193\n",
      "15.499295720852697\n",
      "2\n"
     ]
    },
    {
     "name": "stderr",
     "output_type": "stream",
     "text": [
      "/home/emma/anaconda/envs/ual-model/lib/python3.6/site-packages/pandas/core/indexing.py:537: SettingWithCopyWarning: \n",
      "A value is trying to be set on a copy of a slice from a DataFrame.\n",
      "Try using .loc[row_indexer,col_indexer] = value instead\n",
      "\n",
      "See the caveats in the documentation: http://pandas.pydata.org/pandas-docs/stable/indexing.html#indexing-view-versus-copy\n",
      "  self.obj[item] = s\n"
     ]
    }
   ],
   "source": [
    "while len(trips22.loc[(trips22['WH_ST'] < 9) | (trips22['WH_ST'] >= 15.5)]) > 0:\n",
    "    trips22.loc[ (trips22['WH_ST'] < 9) | (trips22['WH_ST'] >= 15.5),\n",
    "           'WH_ST'] = st.burr.rvs(size= len(trips22.loc[(trips22['WH_ST'] < 9) | (trips22['WH_ST'] >= 15.5)]), c=263.97, d=0.03, loc=-1.00, scale=16.33)\n",
    "\n",
    "print (trips22.WH_ST.min())\n",
    "print (trips22.WH_ST.max())"
   ]
  },
  {
   "cell_type": "code",
   "execution_count": 95,
   "metadata": {},
   "outputs": [
    {
     "name": "stdout",
     "output_type": "stream",
     "text": [
      "1\n"
     ]
    },
    {
     "name": "stderr",
     "output_type": "stream",
     "text": [
      "/home/emma/anaconda/envs/ual-model/lib/python3.6/site-packages/pandas/core/indexing.py:537: SettingWithCopyWarning: \n",
      "A value is trying to be set on a copy of a slice from a DataFrame.\n",
      "Try using .loc[row_indexer,col_indexer] = value instead\n",
      "\n",
      "See the caveats in the documentation: http://pandas.pydata.org/pandas-docs/stable/indexing.html#indexing-view-versus-copy\n",
      "  self.obj[item] = s\n"
     ]
    }
   ],
   "source": [
    "while len(trips22.loc[(trips22['HW_ST'] >= trips22['WH_ST'])]) > 0:\n",
    "    trips22.loc[ (trips22['HW_ST'] >= trips22['WH_ST']),\n",
    "           'WH_ST'] = st.burr.rvs(size= len(trips22.loc[(trips22['HW_ST'] >= trips22['WH_ST'])]), c=263.97, d=0.03, loc=-1.00, scale=16.33)\n",
    "\n",
    "    trips22.loc[ (trips22['HW_ST'] >= trips22['WH_ST']),\n",
    "           'HW_ST'] = st.weibull_min.rvs(size= len(trips22.loc[(trips22['HW_ST'] >= trips22['WH_ST'])]), c=0.95,loc=9.00,scale=1.04)\n",
    "\n",
    "print (len(trips22.loc[trips22['HW_ST'] >= trips22['WH_ST']]))"
   ]
  },
  {
   "cell_type": "code",
   "execution_count": 98,
   "metadata": {},
   "outputs": [
    {
     "name": "stdout",
     "output_type": "stream",
     "text": [
      "15.500008459401617\n",
      "18.499902168022423\n"
     ]
    },
    {
     "name": "stderr",
     "output_type": "stream",
     "text": [
      "/home/emma/anaconda/envs/ual-model/lib/python3.6/site-packages/pandas/core/indexing.py:537: SettingWithCopyWarning: \n",
      "A value is trying to be set on a copy of a slice from a DataFrame.\n",
      "Try using .loc[row_indexer,col_indexer] = value instead\n",
      "\n",
      "See the caveats in the documentation: http://pandas.pydata.org/pandas-docs/stable/indexing.html#indexing-view-versus-copy\n",
      "  self.obj[item] = s\n"
     ]
    }
   ],
   "source": [
    "while len(trips03.loc[(trips03['WH_ST'] < 15.5) | (trips03['WH_ST'] >= 18.5)]) > 0:\n",
    "    trips03.loc[ (trips03['WH_ST'] < 15.5) | (trips03['WH_ST'] >= 18.5),\n",
    "           'WH_ST'] = st.bradford.rvs(size= len(trips03.loc[(trips03['WH_ST'] < 15.5) | (trips03['WH_ST'] >= 18.5)]), c=8.91, loc=15.50, scale=3.01)\n",
    "    \n",
    "print (trips03.WH_ST.min())\n",
    "print (trips03.WH_ST.max())"
   ]
  },
  {
   "cell_type": "code",
   "execution_count": 99,
   "metadata": {},
   "outputs": [
    {
     "name": "stdout",
     "output_type": "stream",
     "text": [
      "15.513451568318231\n",
      "18.46654097551528\n"
     ]
    }
   ],
   "source": [
    "while len(trips13.loc[(trips13['WH_ST'] < 15.5) | (trips13['WH_ST'] >= 18.5)]) > 0:\n",
    "    trips13.loc[ (trips13['WH_ST'] < 15.5) | (trips13['WH_ST'] >= 18.5),\n",
    "           'WH_ST'] = st.vonmises_line.rvs(size= len(trips13.loc[(trips13['WH_ST'] < 15.5) | (trips13['WH_ST'] >= 18.5)]), kappa=0.41, loc=16.99, scale=0.47)\n",
    "    \n",
    "print (trips13.WH_ST.min())\n",
    "print (trips13.WH_ST.max())"
   ]
  },
  {
   "cell_type": "code",
   "execution_count": 100,
   "metadata": {},
   "outputs": [
    {
     "name": "stdout",
     "output_type": "stream",
     "text": [
      "15.500140867585344\n",
      "18.499081630015606\n"
     ]
    },
    {
     "name": "stderr",
     "output_type": "stream",
     "text": [
      "/home/emma/anaconda/envs/ual-model/lib/python3.6/site-packages/pandas/core/indexing.py:537: SettingWithCopyWarning: \n",
      "A value is trying to be set on a copy of a slice from a DataFrame.\n",
      "Try using .loc[row_indexer,col_indexer] = value instead\n",
      "\n",
      "See the caveats in the documentation: http://pandas.pydata.org/pandas-docs/stable/indexing.html#indexing-view-versus-copy\n",
      "  self.obj[item] = s\n"
     ]
    }
   ],
   "source": [
    "while len(trips23.loc[(trips23['WH_ST'] < 15.5) | (trips23['WH_ST'] >= 18.5)]) > 0:\n",
    "    trips23.loc[ (trips23['WH_ST'] < 15.5) | (trips23['WH_ST'] >= 18.5),\n",
    "           'WH_ST'] = st.triang.rvs(size= len(trips23.loc[(trips23['WH_ST'] < 15.5) | (trips23['WH_ST'] >= 18.5)]), c=0.90, loc=15.17, scale=3.34)\n",
    "    \n",
    "print (trips23.WH_ST.min())\n",
    "print (trips23.WH_ST.max())"
   ]
  },
  {
   "cell_type": "code",
   "execution_count": 101,
   "metadata": {},
   "outputs": [
    {
     "name": "stdout",
     "output_type": "stream",
     "text": [
      "18.50000971482593\n",
      "26.992030252023348\n"
     ]
    },
    {
     "name": "stderr",
     "output_type": "stream",
     "text": [
      "/home/emma/anaconda/envs/ual-model/lib/python3.6/site-packages/pandas/core/indexing.py:537: SettingWithCopyWarning: \n",
      "A value is trying to be set on a copy of a slice from a DataFrame.\n",
      "Try using .loc[row_indexer,col_indexer] = value instead\n",
      "\n",
      "See the caveats in the documentation: http://pandas.pydata.org/pandas-docs/stable/indexing.html#indexing-view-versus-copy\n",
      "  self.obj[item] = s\n"
     ]
    }
   ],
   "source": [
    "while len(trips14.loc[(trips14['WH_ST'] < 18.5) | (trips14['WH_ST'] >= 27)]) > 0:\n",
    "    trips14.loc[ (trips14['WH_ST'] < 18.5) | (trips14['WH_ST'] >= 27),\n",
    "           'WH_ST'] = st.pareto.rvs(size= len(trips14.loc[(trips14['WH_ST'] < 18.5) | (trips14['WH_ST'] >= 27)]), b=19.93, loc=-0.36, scale=18.86)\n",
    "    \n",
    "print (trips14.WH_ST.min())\n",
    "print (trips14.WH_ST.max())"
   ]
  },
  {
   "cell_type": "code",
   "execution_count": 103,
   "metadata": {},
   "outputs": [
    {
     "name": "stdout",
     "output_type": "stream",
     "text": [
      "0.0006385621462996482\n",
      "23.998245703853303\n"
     ]
    },
    {
     "name": "stderr",
     "output_type": "stream",
     "text": [
      "/home/emma/anaconda/envs/ual-model/lib/python3.6/site-packages/pandas/core/indexing.py:537: SettingWithCopyWarning: \n",
      "A value is trying to be set on a copy of a slice from a DataFrame.\n",
      "Try using .loc[row_indexer,col_indexer] = value instead\n",
      "\n",
      "See the caveats in the documentation: http://pandas.pydata.org/pandas-docs/stable/indexing.html#indexing-view-versus-copy\n",
      "  self.obj[item] = s\n"
     ]
    }
   ],
   "source": [
    "trips14.loc[ (trips14['WH_ST'] > 24),\n",
    "    'WH_ST'] = trips14['WH_ST'] - 24\n",
    "\n",
    "print (trips14.WH_ST.min())\n",
    "print (trips14.WH_ST.max())"
   ]
  },
  {
   "cell_type": "code",
   "execution_count": 104,
   "metadata": {},
   "outputs": [
    {
     "name": "stdout",
     "output_type": "stream",
     "text": [
      "18.500010169955736\n",
      "26.259425038736552\n"
     ]
    }
   ],
   "source": [
    "while len(trips24.loc[(trips24['WH_ST'] < 18.5) | (trips24['WH_ST'] >= 27)]) > 0:\n",
    "    trips24.loc[ (trips24['WH_ST'] < 18.5) | (trips24['WH_ST'] >= 27),\n",
    "           'WH_ST'] = st.bradford.rvs(size= len(trips24.loc[(trips24['WH_ST'] < 18.5) | (trips24['WH_ST'] >= 27)]), c=21.60, loc=18.50, scale=7.76)\n",
    "    \n",
    "print (trips24.WH_ST.min())\n",
    "print (trips24.WH_ST.max())"
   ]
  },
  {
   "cell_type": "code",
   "execution_count": 105,
   "metadata": {},
   "outputs": [
    {
     "name": "stdout",
     "output_type": "stream",
     "text": [
      "0.0002680521672004943\n",
      "23.999964961709342\n"
     ]
    },
    {
     "name": "stderr",
     "output_type": "stream",
     "text": [
      "/home/emma/anaconda/envs/ual-model/lib/python3.6/site-packages/pandas/core/indexing.py:537: SettingWithCopyWarning: \n",
      "A value is trying to be set on a copy of a slice from a DataFrame.\n",
      "Try using .loc[row_indexer,col_indexer] = value instead\n",
      "\n",
      "See the caveats in the documentation: http://pandas.pydata.org/pandas-docs/stable/indexing.html#indexing-view-versus-copy\n",
      "  self.obj[item] = s\n"
     ]
    }
   ],
   "source": [
    "trips24.loc[ (trips24['WH_ST'] > 24),\n",
    "    'WH_ST'] = trips24['WH_ST'] - 24\n",
    "\n",
    "print (trips24.WH_ST.min())\n",
    "print (trips24.WH_ST.max())"
   ]
  },
  {
   "cell_type": "code",
   "execution_count": 106,
   "metadata": {},
   "outputs": [
    {
     "data": {
      "text/plain": [
       "0.36074012847841536"
      ]
     },
     "execution_count": 106,
     "metadata": {},
     "output_type": "execute_result"
    }
   ],
   "source": [
    "trips24a = trips24.sample(int(round(len(trips24)*(241/377))))\n",
    "\n",
    "AM = trips24a.index.unique()\n",
    "\n",
    "trips24b = trips24[~trips24.index.isin(AM)] \n",
    "\n",
    "len(trips24b)/len(trips24)"
   ]
  },
  {
   "cell_type": "code",
   "execution_count": 107,
   "metadata": {},
   "outputs": [
    {
     "name": "stderr",
     "output_type": "stream",
     "text": [
      "/home/emma/anaconda/envs/ual-model/lib/python3.6/site-packages/ipykernel_launcher.py:2: SettingWithCopyWarning: \n",
      "A value is trying to be set on a copy of a slice from a DataFrame.\n",
      "Try using .loc[row_indexer,col_indexer] = value instead\n",
      "\n",
      "See the caveats in the documentation: http://pandas.pydata.org/pandas-docs/stable/indexing.html#indexing-view-versus-copy\n",
      "  \n"
     ]
    }
   ],
   "source": [
    "trips24a['HW_ST'] = st.bradford.rvs(size= len(trips24a), c=9.63, loc=9.00, scale=2.83)\n",
    "trips24b['HW_ST'] = st.exponweib.rvs(size= len(trips24b), a=0.05, c=21.50, loc=11.99, scale=3.23)"
   ]
  },
  {
   "cell_type": "code",
   "execution_count": 108,
   "metadata": {},
   "outputs": [
    {
     "name": "stdout",
     "output_type": "stream",
     "text": [
      "9.0000000976796\n",
      "11.829979844159856\n"
     ]
    }
   ],
   "source": [
    "while len(trips24a.loc[(trips24a['HW_ST'] < 9) | (trips24a['HW_ST'] >= 12)]) > 0:\n",
    "    trips24a.loc[ (trips24a['HW_ST'] < 9) | (trips24a['HW_ST'] >= 12),\n",
    "           'HW_ST'] = st.bradford.rvs(size= len(trips24a.loc[(trips24a['HW_ST'] < 9) | (trips24a['HW_ST'] >= 12)]), c=9.63, loc=9.00, scale=2.83)\n",
    "\n",
    "print (trips24a.HW_ST.min())\n",
    "print (trips24a.HW_ST.max())"
   ]
  },
  {
   "cell_type": "code",
   "execution_count": 109,
   "metadata": {},
   "outputs": [
    {
     "name": "stdout",
     "output_type": "stream",
     "text": [
      "12.000024735933138\n",
      "15.495148706514694\n"
     ]
    },
    {
     "name": "stderr",
     "output_type": "stream",
     "text": [
      "/home/emma/anaconda/envs/ual-model/lib/python3.6/site-packages/pandas/core/indexing.py:537: SettingWithCopyWarning: \n",
      "A value is trying to be set on a copy of a slice from a DataFrame.\n",
      "Try using .loc[row_indexer,col_indexer] = value instead\n",
      "\n",
      "See the caveats in the documentation: http://pandas.pydata.org/pandas-docs/stable/indexing.html#indexing-view-versus-copy\n",
      "  self.obj[item] = s\n"
     ]
    }
   ],
   "source": [
    "while len(trips24b.loc[(trips24b['HW_ST'] < 12) | (trips24b['HW_ST'] >= 15.5)]) > 0:\n",
    "    trips24b.loc[ (trips24b['HW_ST'] < 12) | (trips24b['HW_ST'] >= 15.5),\n",
    "           'HW_ST'] = st.exponweib.rvs(size= len(trips24b.loc[(trips24b['HW_ST'] < 12) | (trips24b['HW_ST'] >= 15.5)]), a=0.05, c=21.50, loc=11.99, scale=3.23)\n",
    "\n",
    "print (trips24b.HW_ST.min())\n",
    "print (trips24b.HW_ST.max())"
   ]
  },
  {
   "cell_type": "code",
   "execution_count": 113,
   "metadata": {},
   "outputs": [
    {
     "data": {
      "text/html": [
       "<div>\n",
       "<style scoped>\n",
       "    .dataframe tbody tr th:only-of-type {\n",
       "        vertical-align: middle;\n",
       "    }\n",
       "\n",
       "    .dataframe tbody tr th {\n",
       "        vertical-align: top;\n",
       "    }\n",
       "\n",
       "    .dataframe thead th {\n",
       "        text-align: right;\n",
       "    }\n",
       "</style>\n",
       "<table border=\"1\" class=\"dataframe\">\n",
       "  <thead>\n",
       "    <tr style=\"text-align: right;\">\n",
       "      <th></th>\n",
       "      <th>Unnamed: 0</th>\n",
       "      <th>Unnamed: 0.1</th>\n",
       "      <th>zone_id_home</th>\n",
       "      <th>zone_id_work</th>\n",
       "      <th>age</th>\n",
       "      <th>edu</th>\n",
       "      <th>sex</th>\n",
       "      <th>hours</th>\n",
       "      <th>hispanic</th>\n",
       "      <th>race_id</th>\n",
       "      <th>income</th>\n",
       "      <th>persons</th>\n",
       "      <th>sector_id</th>\n",
       "      <th>occupation_id</th>\n",
       "      <th>da_Time_AM_MD</th>\n",
       "      <th>da_Time_AM_PM</th>\n",
       "      <th>da_Time_AM_EV</th>\n",
       "      <th>da_Time_MD_MD</th>\n",
       "      <th>da_Time_MD_PM</th>\n",
       "      <th>da_Time_MD_EV</th>\n",
       "      <th>150kplus</th>\n",
       "      <th>lessGED</th>\n",
       "      <th>GED</th>\n",
       "      <th>someBach</th>\n",
       "      <th>Assoc</th>\n",
       "      <th>Bach</th>\n",
       "      <th>female</th>\n",
       "      <th>white</th>\n",
       "      <th>minority</th>\n",
       "      <th>16less25</th>\n",
       "      <th>1per</th>\n",
       "      <th>sector_retail</th>\n",
       "      <th>health</th>\n",
       "      <th>info</th>\n",
       "      <th>scitech</th>\n",
       "      <th>manufacturing</th>\n",
       "      <th>educ</th>\n",
       "      <th>services</th>\n",
       "      <th>construction</th>\n",
       "      <th>gov</th>\n",
       "      <th>finance</th>\n",
       "      <th>HOURS</th>\n",
       "      <th>TOD</th>\n",
       "      <th>HW_ST</th>\n",
       "      <th>WH_ST</th>\n",
       "    </tr>\n",
       "  </thead>\n",
       "  <tbody>\n",
       "    <tr>\n",
       "      <th>62</th>\n",
       "      <td>62</td>\n",
       "      <td>62</td>\n",
       "      <td>534.0</td>\n",
       "      <td>356.0</td>\n",
       "      <td>47</td>\n",
       "      <td>22.0</td>\n",
       "      <td>1</td>\n",
       "      <td>40.0</td>\n",
       "      <td>1</td>\n",
       "      <td>1</td>\n",
       "      <td>85000.0</td>\n",
       "      <td>1</td>\n",
       "      <td>53.0</td>\n",
       "      <td>11.0</td>\n",
       "      <td>62.67</td>\n",
       "      <td>65.21</td>\n",
       "      <td>61.87</td>\n",
       "      <td>60.88</td>\n",
       "      <td>63.42</td>\n",
       "      <td>60.08</td>\n",
       "      <td>0</td>\n",
       "      <td>0</td>\n",
       "      <td>0</td>\n",
       "      <td>0</td>\n",
       "      <td>0</td>\n",
       "      <td>0</td>\n",
       "      <td>0</td>\n",
       "      <td>1</td>\n",
       "      <td>0</td>\n",
       "      <td>0</td>\n",
       "      <td>1</td>\n",
       "      <td>0</td>\n",
       "      <td>0</td>\n",
       "      <td>0</td>\n",
       "      <td>0</td>\n",
       "      <td>0</td>\n",
       "      <td>0</td>\n",
       "      <td>0</td>\n",
       "      <td>0</td>\n",
       "      <td>0</td>\n",
       "      <td>0</td>\n",
       "      <td>40.0</td>\n",
       "      <td>2</td>\n",
       "      <td>4.665695</td>\n",
       "      <td>13.752330</td>\n",
       "    </tr>\n",
       "    <tr>\n",
       "      <th>73</th>\n",
       "      <td>73</td>\n",
       "      <td>73</td>\n",
       "      <td>557.0</td>\n",
       "      <td>1311.0</td>\n",
       "      <td>52</td>\n",
       "      <td>16.0</td>\n",
       "      <td>1</td>\n",
       "      <td>30.0</td>\n",
       "      <td>1</td>\n",
       "      <td>6</td>\n",
       "      <td>27000.0</td>\n",
       "      <td>1</td>\n",
       "      <td>72.0</td>\n",
       "      <td>35.0</td>\n",
       "      <td>203.16</td>\n",
       "      <td>209.25</td>\n",
       "      <td>200.53</td>\n",
       "      <td>198.56</td>\n",
       "      <td>204.65</td>\n",
       "      <td>195.93</td>\n",
       "      <td>0</td>\n",
       "      <td>0</td>\n",
       "      <td>1</td>\n",
       "      <td>0</td>\n",
       "      <td>0</td>\n",
       "      <td>0</td>\n",
       "      <td>0</td>\n",
       "      <td>0</td>\n",
       "      <td>1</td>\n",
       "      <td>0</td>\n",
       "      <td>1</td>\n",
       "      <td>0</td>\n",
       "      <td>0</td>\n",
       "      <td>0</td>\n",
       "      <td>0</td>\n",
       "      <td>0</td>\n",
       "      <td>0</td>\n",
       "      <td>0</td>\n",
       "      <td>0</td>\n",
       "      <td>0</td>\n",
       "      <td>0</td>\n",
       "      <td>30.0</td>\n",
       "      <td>2</td>\n",
       "      <td>4.779274</td>\n",
       "      <td>15.061060</td>\n",
       "    </tr>\n",
       "    <tr>\n",
       "      <th>76</th>\n",
       "      <td>76</td>\n",
       "      <td>76</td>\n",
       "      <td>541.0</td>\n",
       "      <td>24.0</td>\n",
       "      <td>52</td>\n",
       "      <td>16.0</td>\n",
       "      <td>1</td>\n",
       "      <td>30.0</td>\n",
       "      <td>1</td>\n",
       "      <td>6</td>\n",
       "      <td>27000.0</td>\n",
       "      <td>1</td>\n",
       "      <td>54.0</td>\n",
       "      <td>23.0</td>\n",
       "      <td>129.65</td>\n",
       "      <td>134.57</td>\n",
       "      <td>126.59</td>\n",
       "      <td>128.77</td>\n",
       "      <td>133.69</td>\n",
       "      <td>125.71</td>\n",
       "      <td>0</td>\n",
       "      <td>0</td>\n",
       "      <td>1</td>\n",
       "      <td>0</td>\n",
       "      <td>0</td>\n",
       "      <td>0</td>\n",
       "      <td>0</td>\n",
       "      <td>0</td>\n",
       "      <td>1</td>\n",
       "      <td>0</td>\n",
       "      <td>1</td>\n",
       "      <td>0</td>\n",
       "      <td>0</td>\n",
       "      <td>0</td>\n",
       "      <td>1</td>\n",
       "      <td>0</td>\n",
       "      <td>0</td>\n",
       "      <td>0</td>\n",
       "      <td>0</td>\n",
       "      <td>0</td>\n",
       "      <td>0</td>\n",
       "      <td>30.0</td>\n",
       "      <td>2</td>\n",
       "      <td>5.281725</td>\n",
       "      <td>15.343820</td>\n",
       "    </tr>\n",
       "    <tr>\n",
       "      <th>80</th>\n",
       "      <td>80</td>\n",
       "      <td>80</td>\n",
       "      <td>546.0</td>\n",
       "      <td>395.0</td>\n",
       "      <td>52</td>\n",
       "      <td>16.0</td>\n",
       "      <td>1</td>\n",
       "      <td>30.0</td>\n",
       "      <td>1</td>\n",
       "      <td>6</td>\n",
       "      <td>27000.0</td>\n",
       "      <td>1</td>\n",
       "      <td>44.0</td>\n",
       "      <td>41.0</td>\n",
       "      <td>35.29</td>\n",
       "      <td>36.81</td>\n",
       "      <td>34.91</td>\n",
       "      <td>33.94</td>\n",
       "      <td>35.46</td>\n",
       "      <td>33.56</td>\n",
       "      <td>0</td>\n",
       "      <td>0</td>\n",
       "      <td>1</td>\n",
       "      <td>0</td>\n",
       "      <td>0</td>\n",
       "      <td>0</td>\n",
       "      <td>0</td>\n",
       "      <td>0</td>\n",
       "      <td>1</td>\n",
       "      <td>0</td>\n",
       "      <td>1</td>\n",
       "      <td>1</td>\n",
       "      <td>0</td>\n",
       "      <td>0</td>\n",
       "      <td>0</td>\n",
       "      <td>0</td>\n",
       "      <td>0</td>\n",
       "      <td>0</td>\n",
       "      <td>0</td>\n",
       "      <td>0</td>\n",
       "      <td>0</td>\n",
       "      <td>30.0</td>\n",
       "      <td>2</td>\n",
       "      <td>3.497191</td>\n",
       "      <td>14.844087</td>\n",
       "    </tr>\n",
       "    <tr>\n",
       "      <th>104</th>\n",
       "      <td>104</td>\n",
       "      <td>104</td>\n",
       "      <td>551.0</td>\n",
       "      <td>506.0</td>\n",
       "      <td>52</td>\n",
       "      <td>16.0</td>\n",
       "      <td>1</td>\n",
       "      <td>30.0</td>\n",
       "      <td>1</td>\n",
       "      <td>6</td>\n",
       "      <td>27000.0</td>\n",
       "      <td>1</td>\n",
       "      <td>72.0</td>\n",
       "      <td>35.0</td>\n",
       "      <td>35.90</td>\n",
       "      <td>37.45</td>\n",
       "      <td>35.55</td>\n",
       "      <td>35.28</td>\n",
       "      <td>36.83</td>\n",
       "      <td>34.93</td>\n",
       "      <td>0</td>\n",
       "      <td>0</td>\n",
       "      <td>1</td>\n",
       "      <td>0</td>\n",
       "      <td>0</td>\n",
       "      <td>0</td>\n",
       "      <td>0</td>\n",
       "      <td>0</td>\n",
       "      <td>1</td>\n",
       "      <td>0</td>\n",
       "      <td>1</td>\n",
       "      <td>0</td>\n",
       "      <td>0</td>\n",
       "      <td>0</td>\n",
       "      <td>0</td>\n",
       "      <td>0</td>\n",
       "      <td>0</td>\n",
       "      <td>0</td>\n",
       "      <td>0</td>\n",
       "      <td>0</td>\n",
       "      <td>0</td>\n",
       "      <td>30.0</td>\n",
       "      <td>2</td>\n",
       "      <td>4.866377</td>\n",
       "      <td>15.302671</td>\n",
       "    </tr>\n",
       "  </tbody>\n",
       "</table>\n",
       "</div>"
      ],
      "text/plain": [
       "     Unnamed: 0  Unnamed: 0.1  zone_id_home  zone_id_work  age   edu  sex  \\\n",
       "62           62            62         534.0         356.0   47  22.0    1   \n",
       "73           73            73         557.0        1311.0   52  16.0    1   \n",
       "76           76            76         541.0          24.0   52  16.0    1   \n",
       "80           80            80         546.0         395.0   52  16.0    1   \n",
       "104         104           104         551.0         506.0   52  16.0    1   \n",
       "\n",
       "     hours  hispanic  race_id   income  persons  sector_id  occupation_id  \\\n",
       "62    40.0         1        1  85000.0        1       53.0           11.0   \n",
       "73    30.0         1        6  27000.0        1       72.0           35.0   \n",
       "76    30.0         1        6  27000.0        1       54.0           23.0   \n",
       "80    30.0         1        6  27000.0        1       44.0           41.0   \n",
       "104   30.0         1        6  27000.0        1       72.0           35.0   \n",
       "\n",
       "     da_Time_AM_MD  da_Time_AM_PM  da_Time_AM_EV  da_Time_MD_MD  \\\n",
       "62           62.67          65.21          61.87          60.88   \n",
       "73          203.16         209.25         200.53         198.56   \n",
       "76          129.65         134.57         126.59         128.77   \n",
       "80           35.29          36.81          34.91          33.94   \n",
       "104          35.90          37.45          35.55          35.28   \n",
       "\n",
       "     da_Time_MD_PM  da_Time_MD_EV  150kplus  lessGED  GED  someBach  Assoc  \\\n",
       "62           63.42          60.08         0        0    0         0      0   \n",
       "73          204.65         195.93         0        0    1         0      0   \n",
       "76          133.69         125.71         0        0    1         0      0   \n",
       "80           35.46          33.56         0        0    1         0      0   \n",
       "104          36.83          34.93         0        0    1         0      0   \n",
       "\n",
       "     Bach  female  white  minority  16less25  1per  sector_retail  health  \\\n",
       "62      0       0      1         0         0     1              0       0   \n",
       "73      0       0      0         1         0     1              0       0   \n",
       "76      0       0      0         1         0     1              0       0   \n",
       "80      0       0      0         1         0     1              1       0   \n",
       "104     0       0      0         1         0     1              0       0   \n",
       "\n",
       "     info  scitech  manufacturing  educ  services  construction  gov  finance  \\\n",
       "62      0        0              0     0         0             0    0        0   \n",
       "73      0        0              0     0         0             0    0        0   \n",
       "76      0        1              0     0         0             0    0        0   \n",
       "80      0        0              0     0         0             0    0        0   \n",
       "104     0        0              0     0         0             0    0        0   \n",
       "\n",
       "     HOURS  TOD     HW_ST      WH_ST  \n",
       "62    40.0    2  4.665695  13.752330  \n",
       "73    30.0    2  4.779274  15.061060  \n",
       "76    30.0    2  5.281725  15.343820  \n",
       "80    30.0    2  3.497191  14.844087  \n",
       "104   30.0    2  4.866377  15.302671  "
      ]
     },
     "execution_count": 113,
     "metadata": {},
     "output_type": "execute_result"
    }
   ],
   "source": [
    "cols = list(trips02.columns.values)\n",
    "\n",
    "frames = [trips02, trips03, trips12, trips13, trips14, trips22, trips23, trips24a, trips24b]\n",
    "\n",
    "obs = pd.concat(frames)\n",
    "\n",
    "obs = obs[cols]\n",
    "\n",
    "obs.head()"
   ]
  },
  {
   "cell_type": "code",
   "execution_count": 116,
   "metadata": {},
   "outputs": [
    {
     "name": "stdout",
     "output_type": "stream",
     "text": [
      "1425585\n",
      "1425585\n"
     ]
    }
   ],
   "source": [
    "print (len(trips))\n",
    "print (len(obs))"
   ]
  },
  {
   "cell_type": "code",
   "execution_count": 117,
   "metadata": {},
   "outputs": [],
   "source": [
    "obs.to_csv('obs_121418.csv')"
   ]
  }
 ],
 "metadata": {
  "kernelspec": {
   "display_name": "Python 3",
   "language": "python",
   "name": "python3"
  },
  "language_info": {
   "codemirror_mode": {
    "name": "ipython",
    "version": 3
   },
   "file_extension": ".py",
   "mimetype": "text/x-python",
   "name": "python",
   "nbconvert_exporter": "python",
   "pygments_lexer": "ipython3",
   "version": "3.6.6"
  }
 },
 "nbformat": 4,
 "nbformat_minor": 2
}
