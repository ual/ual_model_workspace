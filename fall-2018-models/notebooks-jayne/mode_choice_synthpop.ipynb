{
 "cells": [
  {
   "cell_type": "code",
   "execution_count": 1,
   "metadata": {},
   "outputs": [
    {
     "name": "stdout",
     "output_type": "stream",
     "text": [
      "Registering model step 'auto_ownership'\n",
      "Registering model step 'primary_mode_choice'\n"
     ]
    }
   ],
   "source": [
    "import os; os.chdir('..')\n",
    "import numpy as np, pandas as pd \n",
    "import matplotlib.pyplot as plt\n",
    "import warnings;\n",
    "import glob\n",
    "warnings.simplefilter('ignore')\n",
    "\n",
    "from collections import OrderedDict\n",
    "from urbansim_templates import modelmanager as mm\n",
    "from urbansim_templates.models import SmallMultinomialLogitStep\n",
    "import orca\n",
    "import seaborn as sns\n",
    "%matplotlib notebook\n",
    "\n",
    "import glob\n",
    "\n",
    "from scripts import datasources, models, variables\n",
    "\n",
    "mm.initialize()"
   ]
  },
  {
   "cell_type": "code",
   "execution_count": 2,
   "metadata": {},
   "outputs": [
    {
     "name": "stdout",
     "output_type": "stream",
     "text": [
      "Running step 'initialize_network_small'\n",
      "Time to execute step 'initialize_network_small': 0.00 s\n",
      "Running step 'initialize_network_walk'\n",
      "Time to execute step 'initialize_network_walk': 0.00 s\n",
      "Total time to execute iteration 1 with iteration value None: 0.00 s\n"
     ]
    }
   ],
   "source": [
    "@orca.table(cache=False)\n",
    "def nodessmall():\n",
    "    df = pd.read_csv('/home/data/2018-07/nodessmall_vars.csv')\n",
    "    df.rename(columns = {'osmid':'node_id_small'}, inplace = True)\n",
    "    df.set_index('node_id_small',inplace = True)\n",
    "    return df\n",
    "\n",
    "@orca.table(cache=False)\n",
    "def nodeswalk():\n",
    "    df = pd.read_csv('/home/data/2018-07/nodeswalk_vars.csv')\n",
    "    df.rename(columns = {'osmid':'node_id_walk'}, inplace = True)\n",
    "    df.set_index('node_id_walk',inplace = True)\n",
    "    return df\n",
    "\n",
    "\n",
    "#initialization only\n",
    "orca.run(['initialize_network_small','initialize_network_walk'])"
   ]
  },
  {
   "cell_type": "markdown",
   "metadata": {},
   "source": [
    "# Generate synthpop table for simulation"
   ]
  },
  {
   "cell_type": "code",
   "execution_count": 7,
   "metadata": {},
   "outputs": [],
   "source": [
    "d = '/home/jayne/activitysynth/'\n",
    "@orca.table()\n",
    "def persons_CHTS_format():\n",
    "# use persons with jobs for persons\n",
    "    persons_with_job = pd.read_csv(d+'data/persons_w_jobs.csv')\n",
    "    persons_with_TOD = orca.get_table('persons').to_frame()[['person_id','TOD']]\n",
    "\n",
    "    hh_df = orca.get_table('households').to_frame()[['household_id','cars','tenure','income','persons','building_id']]\n",
    "    jobs_df = orca.get_table('jobs').to_frame()[['job_id','building_id']]\n",
    "    buildings_df = orca.get_table('buildings')[['building_id','parcel_id']]\n",
    "    parcels_df = orca.get_table('parcels')[['parcel_id','zone_id']]\n",
    "\n",
    "    persons_with_job = persons_with_job[['person_id','sex','age','race_id','worker','edu','household_id','job_id']]\n",
    "\n",
    "    # merge time of day\n",
    "    persons_with_job= persons_with_job.merge(persons_with_TOD, how = 'left', on = 'person_id')\n",
    "\n",
    "    # rename columns/change values to match CHTS\n",
    "    persons_with_job.columns = ['person_id','GEND','AGE','RACE1','JOBS','EDUCA','household_id','job_id','TOD']\n",
    "    persons_with_job.RACE1 = persons_with_job.RACE1.map({1:1,2:2,3:3,4:3,5:3,6:4,7:5,8:97,9:97})\n",
    "    persons_with_job.EDUCA = persons_with_job.EDUCA.map({0:1,1:1,2:1,3:1,4:1,5:1,6:1,7:1,8:1,9:1,\n",
    "                                                        10:1,11:1,12:1,13:1,14:1,15:1,16:2,17:2,18:3,19:3,\n",
    "                                                        20:4,21:5,22:6,23:6,24:6})\n",
    "    persons_with_job.TOD = persons_with_job.TOD.map({2:'EA',3:'EA',12:'AM',14:'AM',22:'MD',23:'MD',24:'MD'})\n",
    "\n",
    "    # read skim\n",
    "    skim = pd.read_csv('./data/skims_110118.csv',index_col = 0)\n",
    "\n",
    "    EA_skim = skim[['orig','dest']+list(skim.filter(like = 'EA').columns)]\n",
    "    EA_skim.columns = EA_skim.columns.str.replace('_EA','')\n",
    "    EA_skim['TOD'] = 'EA'\n",
    "    AM_skim = skim[['orig','dest']+list(skim.filter(like = 'AM').columns)]\n",
    "    AM_skim.columns = AM_skim.columns.str.replace('_AM','')\n",
    "    AM_skim['TOD'] = 'AM'\n",
    "    MD_skim = skim[['orig','dest']+list(skim.filter(like = 'MD').columns)]\n",
    "    MD_skim.columns = MD_skim.columns.str.replace('_MD','')\n",
    "    MD_skim['TOD'] = 'MD'\n",
    "\n",
    "    skim_combined = pd.concat([EA_skim,AM_skim,MD_skim],axis = 1)\n",
    "\n",
    "    MTC_acc = pd.read_csv('/home/jayne/activitysynth/data/MTC_TAZ_accessibility.csv')\n",
    "\n",
    "    # merge attributes onto persons\n",
    "    # want household as origin zone and job as destination zone.\n",
    "\n",
    "    hh_df = hh_df.merge(buildings, how = 'left', on = 'building_id').merge(parcels_df, how = 'left', on = 'parcel_id')\n",
    "    hh_df.rename(columns = {'zone_id':'orig'},inplace = True)\n",
    "\n",
    "    jobs_df = jobs_df.merge(buildings,how = 'left', on = 'building_id').merge(parcels_df, how = 'left', on = 'parcel_id')\n",
    "    jobs_df.rename(columns = {'zone_id':'dest'}, inplace = True)\n",
    "\n",
    "    persons_with_job = persons_with_job.merge(hh_df, how = 'left', on = 'household_id').merge(jobs_df, how = 'left',on = 'job_id')\n",
    "\n",
    "    persons_with_job = persons_with_job.merge(MTC_acc, how = 'left',left_on = 'orig', right_on = 'taz1454')\n",
    "    persons_with_job[MTC_acc.columns] = persons_with_job[MTC_acc.columns].fillna(0)\n",
    "\n",
    "    persons_with_job = persons_with_job.merge(skim_combined, how = 'left', on = ['orig','dest','TOD'])\n",
    "\n",
    "    return persons_with_job"
   ]
  },
  {
   "cell_type": "code",
   "execution_count": 35,
   "metadata": {},
   "outputs": [],
   "source": [
    "persons_with_job = pd.read_csv(d+'data/persons_w_jobs.csv')\n",
    "persons_with_TOD = orca.get_table('persons').to_frame().reset_index()[['person_id']]\n",
    "persons_with_TOD['TOD'] = np.random.choice([2,3,12,14,22,23,24],size = len(persons_with_TOD)) # temporary getaround\n",
    "\n",
    "hh_df = orca.get_table('households').to_frame().reset_index()[['household_id','cars','tenure','income','persons','building_id']]\n",
    "jobs_df = orca.get_table('jobs').to_frame().reset_index()[['job_id','building_id']]\n",
    "buildings_df = orca.get_table('buildings').to_frame().reset_index()[['building_id','parcel_id']]\n",
    "parcels_df = orca.get_table('parcels').to_frame().reset_index()[['primary_id','zone_id']]\n",
    "\n",
    "persons_with_job = persons_with_job[['person_id','sex','age','race_id','worker','edu','household_id','job_id']]\n",
    "\n",
    "# merge time of day\n",
    "persons_with_job= persons_with_job.merge(persons_with_TOD, how = 'left', on = 'person_id')\n",
    "\n",
    "# rename columns/change values to match CHTS\n",
    "persons_with_job.columns = ['person_id','GEND','AGE','RACE1','JOBS','EDUCA','household_id','job_id','TOD']\n",
    "persons_with_job.RACE1 = persons_with_job.RACE1.map({1:1,2:2,3:3,4:3,5:3,6:4,7:5,8:97,9:97})\n",
    "persons_with_job.EDUCA = persons_with_job.EDUCA.map({0:1,1:1,2:1,3:1,4:1,5:1,6:1,7:1,8:1,9:1,\n",
    "                                                    10:1,11:1,12:1,13:1,14:1,15:1,16:2,17:2,18:3,19:3,\n",
    "                                                    20:4,21:5,22:6,23:6,24:6})\n",
    "persons_with_job.TOD = persons_with_job.TOD.map({2:'EA',3:'EA',12:'AM',14:'AM',22:'MD',23:'MD',24:'MD'})\n",
    "\n",
    "\n"
   ]
  },
  {
   "cell_type": "code",
   "execution_count": 36,
   "metadata": {},
   "outputs": [],
   "source": [
    "# read skim\n",
    "skim = pd.read_csv('/home/emma/ual_model_workspace/fall-2018-models/skims_110118.csv',index_col = 0)\n",
    "\n",
    "EA_skim = skim[['orig','dest']+list(skim.filter(like = 'EA').columns)]\n",
    "EA_skim.columns = EA_skim.columns.str.replace('_EA','')\n",
    "EA_skim['TOD'] = 'EA'\n",
    "AM_skim = skim[['orig','dest']+list(skim.filter(like = 'AM').columns)]\n",
    "AM_skim.columns = AM_skim.columns.str.replace('_AM','')\n",
    "AM_skim['TOD'] = 'AM'\n",
    "MD_skim = skim[['orig','dest']+list(skim.filter(like = 'MD').columns)]\n",
    "MD_skim.columns = MD_skim.columns.str.replace('_MD','')\n",
    "MD_skim['TOD'] = 'MD'\n",
    "\n",
    "skim_combined = pd.concat([EA_skim,AM_skim,MD_skim])\n",
    "\n"
   ]
  },
  {
   "cell_type": "code",
   "execution_count": 37,
   "metadata": {},
   "outputs": [],
   "source": [
    "MTC_acc = pd.read_csv(d+'data/MTC_TAZ_accessibility.csv')\n",
    "\n",
    "parcels_df.rename(columns = {'primary_id':'parcel_id'}, inplace = True)\n",
    "\n"
   ]
  },
  {
   "cell_type": "code",
   "execution_count": 38,
   "metadata": {},
   "outputs": [],
   "source": [
    "# merge attributes onto persons\n",
    "# want household as origin zone and job as destination zone.\n",
    "\n",
    "hh_df = hh_df.merge(buildings_df, how = 'left', on = 'building_id').merge(parcels_df, how = 'left', on = 'parcel_id')\n",
    "hh_df.rename(columns = {'zone_id':'orig'},inplace = True)\n",
    "\n",
    "jobs_df = jobs_df.merge(buildings_df,how = 'left', on = 'building_id').merge(parcels_df, how = 'left', on = 'parcel_id')\n",
    "jobs_df.rename(columns = {'zone_id':'dest'}, inplace = True)\n",
    "\n"
   ]
  },
  {
   "cell_type": "code",
   "execution_count": 39,
   "metadata": {},
   "outputs": [
    {
     "data": {
      "text/plain": [
       "(Index(['household_id', 'cars', 'tenure', 'income', 'persons', 'building_id',\n",
       "        'parcel_id', 'orig'],\n",
       "       dtype='object'),\n",
       " Index(['job_id', 'building_id', 'parcel_id', 'dest'], dtype='object'))"
      ]
     },
     "execution_count": 39,
     "metadata": {},
     "output_type": "execute_result"
    }
   ],
   "source": [
    "hh_df.columns,jobs_df.columns"
   ]
  },
  {
   "cell_type": "code",
   "execution_count": null,
   "metadata": {},
   "outputs": [],
   "source": [
    "persons_with_job = persons_with_job.merge(hh_df, how = 'left', on = 'household_id')\n",
    "persons_with_job.drop(['building_id','parcel_id'],axis = 1,inplace = True)\n",
    "\n",
    "persons_with_job = persons_with_job.merge(jobs_df, how = 'inner',on = 'job_id')\n",
    "persons_with_job.drop(['building_id','parcel_id'],axis = 1,inplace = True)\n",
    "\n",
    "persons_with_job = persons_with_job.merge(MTC_acc, how = 'left',left_on = 'orig', right_on = 'taz1454')\n",
    "persons_with_job[MTC_acc.columns] = persons_with_job[MTC_acc.columns].fillna(0)\n"
   ]
  },
  {
   "cell_type": "code",
   "execution_count": 52,
   "metadata": {},
   "outputs": [],
   "source": [
    "persons_with_job = persons_with_job.merge(skim_combined, how = 'left', on = ['orig','dest','TOD'])\n"
   ]
  },
  {
   "cell_type": "code",
   "execution_count": 53,
   "metadata": {},
   "outputs": [],
   "source": [
    "\n",
    "# rename the remaning attributes\n",
    "persons_with_job['OWN'] = (persons_with_job['tenure']==1).astype(int)\n",
    "persons_with_job.rename(columns = {'cars':'HHVEH','income':'INCOM','persons':'HHSIZ'},inplace = True)"
   ]
  },
  {
   "cell_type": "code",
   "execution_count": 58,
   "metadata": {},
   "outputs": [],
   "source": [
    "persons_with_job.dropna(inplace = True)"
   ]
  },
  {
   "cell_type": "code",
   "execution_count": 60,
   "metadata": {},
   "outputs": [],
   "source": [
    "@orca.table()\n",
    "def persons_CHTS_format():\n",
    "    return persons_with_job"
   ]
  },
  {
   "cell_type": "code",
   "execution_count": null,
   "metadata": {},
   "outputs": [],
   "source": []
  },
  {
   "cell_type": "code",
   "execution_count": null,
   "metadata": {},
   "outputs": [],
   "source": []
  },
  {
   "cell_type": "code",
   "execution_count": null,
   "metadata": {},
   "outputs": [],
   "source": []
  },
  {
   "cell_type": "code",
   "execution_count": null,
   "metadata": {},
   "outputs": [],
   "source": []
  },
  {
   "cell_type": "code",
   "execution_count": null,
   "metadata": {},
   "outputs": [],
   "source": []
  },
  {
   "cell_type": "code",
   "execution_count": null,
   "metadata": {},
   "outputs": [],
   "source": []
  },
  {
   "cell_type": "markdown",
   "metadata": {},
   "source": [
    "# CHTS procedure for estimation"
   ]
  },
  {
   "cell_type": "code",
   "execution_count": 62,
   "metadata": {},
   "outputs": [],
   "source": [
    "persons_df = pd.read_csv('/home/data/CHTS_csv_format/data/Deliv_PER.csv')[\n",
    "    ['SAMPN','PERNO','GEND', 'AGE', 'RACE1', 'JOBS','EDUCA']\n",
    "]"
   ]
  },
  {
   "cell_type": "code",
   "execution_count": 63,
   "metadata": {},
   "outputs": [],
   "source": [
    "hh_df = pd.read_csv('/home/data/CHTS_csv_format/data/Deliv_HH.csv')[\n",
    "  ['SAMPN','HHVEH','OWN','INCOM','HHSIZ']]"
   ]
  },
  {
   "cell_type": "code",
   "execution_count": 64,
   "metadata": {},
   "outputs": [
    {
     "data": {
      "text/html": [
       "<div>\n",
       "<style scoped>\n",
       "    .dataframe tbody tr th:only-of-type {\n",
       "        vertical-align: middle;\n",
       "    }\n",
       "\n",
       "    .dataframe tbody tr th {\n",
       "        vertical-align: top;\n",
       "    }\n",
       "\n",
       "    .dataframe thead th {\n",
       "        text-align: right;\n",
       "    }\n",
       "</style>\n",
       "<table border=\"1\" class=\"dataframe\">\n",
       "  <thead>\n",
       "    <tr style=\"text-align: right;\">\n",
       "      <th></th>\n",
       "      <th>SAMPN</th>\n",
       "      <th>PERNO</th>\n",
       "      <th>GEND</th>\n",
       "      <th>AGE</th>\n",
       "      <th>RACE1</th>\n",
       "      <th>JOBS</th>\n",
       "      <th>EDUCA</th>\n",
       "    </tr>\n",
       "  </thead>\n",
       "  <tbody>\n",
       "    <tr>\n",
       "      <th>0</th>\n",
       "      <td>1031985</td>\n",
       "      <td>1</td>\n",
       "      <td>1</td>\n",
       "      <td>74</td>\n",
       "      <td>1.0</td>\n",
       "      <td>NaN</td>\n",
       "      <td>6</td>\n",
       "    </tr>\n",
       "    <tr>\n",
       "      <th>1</th>\n",
       "      <td>1031985</td>\n",
       "      <td>2</td>\n",
       "      <td>2</td>\n",
       "      <td>73</td>\n",
       "      <td>1.0</td>\n",
       "      <td>NaN</td>\n",
       "      <td>6</td>\n",
       "    </tr>\n",
       "    <tr>\n",
       "      <th>2</th>\n",
       "      <td>1032036</td>\n",
       "      <td>1</td>\n",
       "      <td>1</td>\n",
       "      <td>46</td>\n",
       "      <td>1.0</td>\n",
       "      <td>1.0</td>\n",
       "      <td>6</td>\n",
       "    </tr>\n",
       "    <tr>\n",
       "      <th>3</th>\n",
       "      <td>1032036</td>\n",
       "      <td>2</td>\n",
       "      <td>2</td>\n",
       "      <td>47</td>\n",
       "      <td>1.0</td>\n",
       "      <td>NaN</td>\n",
       "      <td>6</td>\n",
       "    </tr>\n",
       "    <tr>\n",
       "      <th>4</th>\n",
       "      <td>1032036</td>\n",
       "      <td>3</td>\n",
       "      <td>1</td>\n",
       "      <td>15</td>\n",
       "      <td>1.0</td>\n",
       "      <td>NaN</td>\n",
       "      <td>1</td>\n",
       "    </tr>\n",
       "  </tbody>\n",
       "</table>\n",
       "</div>"
      ],
      "text/plain": [
       "     SAMPN  PERNO  GEND  AGE  RACE1  JOBS  EDUCA\n",
       "0  1031985      1     1   74    1.0   NaN      6\n",
       "1  1031985      2     2   73    1.0   NaN      6\n",
       "2  1032036      1     1   46    1.0   1.0      6\n",
       "3  1032036      2     2   47    1.0   NaN      6\n",
       "4  1032036      3     1   15    1.0   NaN      1"
      ]
     },
     "execution_count": 64,
     "metadata": {},
     "output_type": "execute_result"
    }
   ],
   "source": [
    "persons_df.head()"
   ]
  },
  {
   "cell_type": "code",
   "execution_count": 65,
   "metadata": {},
   "outputs": [
    {
     "data": {
      "text/html": [
       "<div>\n",
       "<style scoped>\n",
       "    .dataframe tbody tr th:only-of-type {\n",
       "        vertical-align: middle;\n",
       "    }\n",
       "\n",
       "    .dataframe tbody tr th {\n",
       "        vertical-align: top;\n",
       "    }\n",
       "\n",
       "    .dataframe thead th {\n",
       "        text-align: right;\n",
       "    }\n",
       "</style>\n",
       "<table border=\"1\" class=\"dataframe\">\n",
       "  <thead>\n",
       "    <tr style=\"text-align: right;\">\n",
       "      <th></th>\n",
       "      <th>SAMPN</th>\n",
       "      <th>HHVEH</th>\n",
       "      <th>OWN</th>\n",
       "      <th>INCOM</th>\n",
       "      <th>HHSIZ</th>\n",
       "    </tr>\n",
       "  </thead>\n",
       "  <tbody>\n",
       "    <tr>\n",
       "      <th>0</th>\n",
       "      <td>1031985</td>\n",
       "      <td>2</td>\n",
       "      <td>1</td>\n",
       "      <td>3</td>\n",
       "      <td>2</td>\n",
       "    </tr>\n",
       "    <tr>\n",
       "      <th>1</th>\n",
       "      <td>1032036</td>\n",
       "      <td>1</td>\n",
       "      <td>1</td>\n",
       "      <td>7</td>\n",
       "      <td>5</td>\n",
       "    </tr>\n",
       "    <tr>\n",
       "      <th>2</th>\n",
       "      <td>1032053</td>\n",
       "      <td>2</td>\n",
       "      <td>2</td>\n",
       "      <td>2</td>\n",
       "      <td>6</td>\n",
       "    </tr>\n",
       "    <tr>\n",
       "      <th>3</th>\n",
       "      <td>1032425</td>\n",
       "      <td>2</td>\n",
       "      <td>1</td>\n",
       "      <td>7</td>\n",
       "      <td>2</td>\n",
       "    </tr>\n",
       "    <tr>\n",
       "      <th>4</th>\n",
       "      <td>1032558</td>\n",
       "      <td>0</td>\n",
       "      <td>2</td>\n",
       "      <td>1</td>\n",
       "      <td>1</td>\n",
       "    </tr>\n",
       "  </tbody>\n",
       "</table>\n",
       "</div>"
      ],
      "text/plain": [
       "     SAMPN  HHVEH  OWN  INCOM  HHSIZ\n",
       "0  1031985      2    1      3      2\n",
       "1  1032036      1    1      7      5\n",
       "2  1032053      2    2      2      6\n",
       "3  1032425      2    1      7      2\n",
       "4  1032558      0    2      1      1"
      ]
     },
     "execution_count": 65,
     "metadata": {},
     "output_type": "execute_result"
    }
   ],
   "source": [
    "hh_df.head()"
   ]
  },
  {
   "cell_type": "code",
   "execution_count": 66,
   "metadata": {},
   "outputs": [],
   "source": [
    "# accessibility tables\n",
    "MTC_acc = pd.read_csv('/home/jayne/ual_model_workspace/fall-2018-models/data/MTC_TAZ_accessibility.csv')"
   ]
  },
  {
   "cell_type": "code",
   "execution_count": 67,
   "metadata": {},
   "outputs": [],
   "source": [
    "trips_table = pd.read_csv('/home/emma/ual_model_workspace/fall-2018-models/notebooks-emma/HWtrips_101418.csv',index_col = 0)\n",
    "\n",
    "trips_table['SAMPN'] = trips_table['HHPER'].astype(str).str.slice(0,-1).astype(int)\n",
    "trips_table['PERNO'] = trips_table['HHPER'].astype(str).str.slice(-1).astype(int)\n",
    "\n",
    "trips_table = trips_table.merge(persons_df, on = ['SAMPN','PERNO'], how = 'left').merge(hh_df, on = 'SAMPN', how = 'left')\n"
   ]
  },
  {
   "cell_type": "code",
   "execution_count": 68,
   "metadata": {},
   "outputs": [],
   "source": [
    "na_dict = {\n",
    "    'GEND':[9],\n",
    "    'AGE':[998,999],\n",
    "    'RACE1':[97,98,99],\n",
    "    'JOBS':[98,99],\n",
    "    'EDUCA':[7,8,9],\n",
    "    'HHVEH':[98,99],\n",
    "    'OWN':[7,8,9],\n",
    "    'INCOM':[98,99],\n",
    "    'HHSIZ':[98,99]\n",
    "}\n",
    "\n",
    "for col in na_dict:\n",
    "    for vals in na_dict[col]:\n",
    "        trips_table[col] = trips_table[col].replace(vals,np.nan)\n",
    "        \n",
    "trips_table.dropna(inplace = True)"
   ]
  },
  {
   "cell_type": "code",
   "execution_count": 69,
   "metadata": {},
   "outputs": [],
   "source": [
    "TOD_list = ['EA','AM','MD','PM','EV']\n",
    "var_list = ['Distance','Cost','Time']\n",
    "skim_dir = '/home/data/fall_2018/mtc_skims'\n",
    "skim_dict = dict()\n",
    "for var in var_list:\n",
    "    df_base = pd.read_csv(skim_dir + f'/{var}SkimsDatabaseEA.csv').replace(-999, 9999)\n",
    "    df_base['TOD'] = 'EA'\n",
    "    for TOD in TOD_list[1:]:\n",
    "        df_tod = pd.read_csv(skim_dir + f'/{var}SkimsDatabase{TOD}.csv').replace(-999, 9999)\n",
    "        df_tod['TOD'] = TOD\n",
    "        df_base = pd.concat([df_base, df_tod])\n",
    "    skim_dict[var] = df_base\n",
    "        \n"
   ]
  },
  {
   "cell_type": "markdown",
   "metadata": {},
   "source": [
    "# Time of day definitions\n",
    "\n",
    "• Early (3:00 AM to 5:59 AM)\n",
    "• AM peak (6:00 AM to 8:59 AM)\n",
    "• Midday (9:00 AM to 3:29 PM)\n",
    "• PM peak (3:30 PM to 6:29 PM)\n",
    "• Late (6:30 PM to 2:59 AM)\n",
    "EA, AM, MD, PM, EV"
   ]
  },
  {
   "cell_type": "code",
   "execution_count": 70,
   "metadata": {},
   "outputs": [],
   "source": [
    "mode_dict = dict(zip(['drive_alone', 'shared',\n",
    "                      'WTranW','DrTranW','WTranDr',\n",
    "                      'bike', 'walk'],range(7)))\n",
    "trips_table['MODE'] = trips_table['MODE'].replace(mode_dict)"
   ]
  },
  {
   "cell_type": "code",
   "execution_count": 71,
   "metadata": {},
   "outputs": [],
   "source": [
    "trips_table['TOD'] = (\n",
    "    ((trips_table.origin_ET.between(3,6,inclusive = False)) | (trips_table.origin_ET==3))*1 +\n",
    "    ((trips_table.origin_ET.between(6,9,inclusive = False)) | (trips_table.origin_ET==6))*2 +\n",
    "    ((trips_table.origin_ET.between(9,15.5,inclusive = False)) | (trips_table.origin_ET==9))*3 +\n",
    "    ((trips_table.origin_ET.between(15.5,18.5,inclusive = False)) | (trips_table.origin_ET==15.5))*4 +\n",
    "    ((trips_table.origin_ET>=18.5))*5 +\n",
    "    ((trips_table.origin_ET.between(0,3,inclusive = False)) | (trips_table.origin_ET==0))*5\n",
    ")\n",
    "TOD_dict = dict(zip(range(1,6),TOD_list))\n",
    "trips_table['TOD'] = trips_table['TOD'].replace(TOD_dict)\n"
   ]
  },
  {
   "cell_type": "code",
   "execution_count": 72,
   "metadata": {},
   "outputs": [],
   "source": [
    "trips_table1 = trips_table.copy()\n",
    "for var in var_list:\n",
    "    trips_table1 = trips_table1.merge(skim_dict[var].rename(\n",
    "        columns = dict(zip([i for i in skim_dict[var].columns if i not in ['orig','dest','TOD']],\n",
    "         [i+ f'_{var}' for i in skim_dict[var].columns if i not in ['orig','dest','TOD']]))                                          \n",
    "                                           ), how = 'left',left_on = ['Ozone','Dzone','TOD'], \n",
    "    right_on = ['orig','dest','TOD'])\n",
    "    trips_table1.drop(['orig','dest'],axis = 1,inplace = True)"
   ]
  },
  {
   "cell_type": "code",
   "execution_count": 73,
   "metadata": {},
   "outputs": [],
   "source": [
    "# join accessibility\n",
    "trips_table1 = trips_table1.merge(MTC_acc, how = 'left',left_on = 'Ozone', right_on = 'taz1454')\n",
    "trips_table1[MTC_acc.columns] = trips_table1[MTC_acc.columns].fillna(0)"
   ]
  },
  {
   "cell_type": "code",
   "execution_count": null,
   "metadata": {},
   "outputs": [],
   "source": []
  },
  {
   "cell_type": "code",
   "execution_count": 82,
   "metadata": {},
   "outputs": [],
   "source": [
    "@orca.table(cache=True)\n",
    "def trips1():\n",
    "    return trips_table1.set_index('HHPERTRIP')"
   ]
  },
  {
   "cell_type": "code",
   "execution_count": 83,
   "metadata": {},
   "outputs": [],
   "source": [
    "# mode_dict = dict(zip(['drive_alone', 'shared','WTranW','DrTranW','WTranDr','bike', 'walk'],range(7)))\n",
    "        \n",
    "m = SmallMultinomialLogitStep()\n",
    "m.name = 'primary_mode_choice'\n",
    "m.tables = ['trips1']\n",
    "m.choice_column = 'MODE'\n",
    "m.model_expression = OrderedDict([\n",
    "        ('intercept', [1,2,3,4,5,6]), \n",
    "    ('GEND',[2,3,4,5,6]),\n",
    "    ('AGE',[2,3,4,5,6]),\n",
    "    ('RACE1',[2,3,4,5,6]),\n",
    "    ('JOBS',[2,3,4,5,6]), # equals 1\n",
    "    ('EDUCA',[2,3,4,5,6]), #recode\n",
    "    ('HHVEH',[2,3,4,5,6]), # join hh\n",
    "    ('OWN',[2,3,4,5,6]), #tenure\n",
    "    ('INCOM',[2,3,4,5,6]),\n",
    "    ('HHSIZ',[2,3,4,5,6]),\n",
    "    ('da_Distance',[0]),\n",
    "    ('da_Cost',[0]),\n",
    "    ('da_Time',[0]),\n",
    "    ('da_15',[0]),\n",
    "    ('s2_Distance',[1]),\n",
    "    ('s2_Cost',[1]),\n",
    "    ('s2_Time',[1]),    \n",
    "    ('da_15',[1]),\n",
    "    ('wTrnW_Cost',[2]),\n",
    "    ('wTrnW_Time',[2]),\n",
    "    ('wTrnW_15',[2]),\n",
    "    ('dTrnW_Cost',[3]),\n",
    "    ('dTrnW_Time',[3]),\n",
    "    ('wTrnD_Time',[4]),\n",
    "    ('wTrnD_Cost',[5]),\n",
    "    ('bike_Distance',[5]),\n",
    "    ('bike_Time',[5]),   \n",
    "    ('bike_15',[5]),\n",
    "    ('walk_Distance',[6]),\n",
    "    ('walk_Time',[6]),  \n",
    "    ('walk_15',[6])\n",
    "])"
   ]
  },
  {
   "cell_type": "code",
   "execution_count": 84,
   "metadata": {},
   "outputs": [
    {
     "name": "stdout",
     "output_type": "stream",
     "text": [
      "Log-likelihood at zero: -9,729.5507\n",
      "Initial Log-likelihood: -9,729.5507\n",
      "Estimation Time for Point Estimation: 4.35 seconds.\n",
      "Final log-likelihood: -3,589.7646\n",
      "                     Multinomial Logit Model Regression Results                    \n",
      "===================================================================================\n",
      "Dep. Variable:                     _chosen   No. Observations:                5,000\n",
      "Model:             Multinomial Logit Model   Df Residuals:                    4,929\n",
      "Method:                                MLE   Df Model:                           71\n",
      "Date:                     Tue, 18 Dec 2018   Pseudo R-squ.:                   0.631\n",
      "Time:                             03:45:04   Pseudo R-bar-squ.:               0.624\n",
      "AIC:                             7,321.529   Log-Likelihood:             -3,589.765\n",
      "BIC:                             7,784.250   LL-Null:                    -9,729.551\n",
      "===================================================================================\n",
      "                      coef    std err          z      P>|z|      [0.025      0.975]\n",
      "-----------------------------------------------------------------------------------\n",
      "intercept_1        -2.9788      0.167    -17.824      0.000      -3.306      -2.651\n",
      "intercept_2        -1.6976      0.702     -2.418      0.016      -3.074      -0.321\n",
      "intercept_3        -4.8152      1.016     -4.737      0.000      -6.807      -2.823\n",
      "intercept_4        -3.9672      1.003     -3.957      0.000      -5.932      -2.002\n",
      "intercept_5        -0.0439      0.871     -0.050      0.960      -1.750       1.663\n",
      "intercept_6        -0.8615      1.005     -0.858      0.391      -2.831       1.108\n",
      "GEND_2             -0.1894      0.138     -1.369      0.171      -0.461       0.082\n",
      "GEND_3             -0.0494      0.181     -0.273      0.785      -0.404       0.305\n",
      "GEND_4             -0.1433      0.181     -0.793      0.428      -0.498       0.211\n",
      "GEND_5             -0.9269      0.181     -5.122      0.000      -1.282      -0.572\n",
      "GEND_6              0.3186      0.221      1.443      0.149      -0.114       0.751\n",
      "AGE_2              -0.0062      0.006     -0.955      0.340      -0.019       0.006\n",
      "AGE_3               0.0031      0.009      0.350      0.727      -0.014       0.021\n",
      "AGE_4              -0.0167      0.009     -1.916      0.055      -0.034       0.000\n",
      "AGE_5              -0.0231      0.008     -2.976      0.003      -0.038      -0.008\n",
      "AGE_6              -0.0197      0.009     -2.237      0.025      -0.037      -0.002\n",
      "RACE1_2            -0.0514      0.063     -0.813      0.416      -0.175       0.072\n",
      "RACE1_3             0.1119      0.076      1.467      0.142      -0.038       0.261\n",
      "RACE1_4             0.0775      0.076      1.024      0.306      -0.071       0.226\n",
      "RACE1_5            -0.4819      0.117     -4.119      0.000      -0.711      -0.253\n",
      "RACE1_6            -0.1268      0.109     -1.162      0.245      -0.341       0.087\n",
      "JOBS_2              0.1283      0.192      0.670      0.503      -0.247       0.504\n",
      "JOBS_3             -0.0948      0.299     -0.317      0.751      -0.680       0.491\n",
      "JOBS_4             -0.1000      0.301     -0.333      0.739      -0.689       0.489\n",
      "JOBS_5              0.1300      0.260      0.500      0.617      -0.380       0.640\n",
      "JOBS_6              0.0906      0.299      0.303      0.762      -0.495       0.676\n",
      "EDUCA_2             0.1396      0.056      2.472      0.013       0.029       0.250\n",
      "EDUCA_3             0.1310      0.081      1.614      0.107      -0.028       0.290\n",
      "EDUCA_4             0.2249      0.086      2.620      0.009       0.057       0.393\n",
      "EDUCA_5             0.3648      0.080      4.534      0.000       0.207       0.522\n",
      "EDUCA_6             0.1855      0.085      2.182      0.029       0.019       0.352\n",
      "HHVEH_2            -1.6888      0.110    -15.331      0.000      -1.905      -1.473\n",
      "HHVEH_3            -0.3636      0.127     -2.869      0.004      -0.612      -0.115\n",
      "HHVEH_4            -0.4062      0.130     -3.133      0.002      -0.660      -0.152\n",
      "HHVEH_5            -0.8846      0.123     -7.185      0.000      -1.126      -0.643\n",
      "HHVEH_6            -0.7953      0.153     -5.209      0.000      -1.095      -0.496\n",
      "OWN_2               0.5212      0.157      3.318      0.001       0.213       0.829\n",
      "OWN_3              -0.1171      0.265     -0.442      0.659      -0.637       0.403\n",
      "OWN_4              -0.0730      0.258     -0.284      0.777      -0.578       0.432\n",
      "OWN_5              -0.4562      0.235     -1.938      0.053      -0.918       0.005\n",
      "OWN_6               0.5794      0.249      2.330      0.020       0.092       1.067\n",
      "INCOM_2            -0.0657      0.041     -1.611      0.107      -0.146       0.014\n",
      "INCOM_3             0.0690      0.056      1.231      0.218      -0.041       0.179\n",
      "INCOM_4             0.0717      0.056      1.273      0.203      -0.039       0.182\n",
      "INCOM_5             0.0949      0.051      1.847      0.065      -0.006       0.196\n",
      "INCOM_6             0.0049      0.063      0.077      0.938      -0.118       0.128\n",
      "HHSIZ_2             0.1685      0.062      2.699      0.007       0.046       0.291\n",
      "HHSIZ_3            -0.0485      0.088     -0.554      0.580      -0.220       0.123\n",
      "HHSIZ_4            -0.0734      0.087     -0.842      0.400      -0.244       0.097\n",
      "HHSIZ_5             0.2215      0.078      2.829      0.005       0.068       0.375\n",
      "HHSIZ_6             0.0760      0.094      0.809      0.418      -0.108       0.260\n",
      "da_Distance_0       0.0956      0.011      8.544      0.000       0.074       0.117\n",
      "da_Cost_0          -0.0004      0.000     -0.873      0.383      -0.001       0.000\n",
      "da_Time_0          -0.1086      0.010    -11.041      0.000      -0.128      -0.089\n",
      "da_15_1          8.805e-07   5.27e-07      1.672      0.094   -1.51e-07    1.91e-06\n",
      "s2_Distance_1       0.0315      0.020      1.601      0.109      -0.007       0.070\n",
      "s2_Cost_1           0.0018      0.001      1.448      0.148      -0.001       0.004\n",
      "s2_Time_1          -0.0876      0.017     -5.097      0.000      -0.121      -0.054\n",
      "wTrnW_Cost_2       -0.0003   8.71e-05     -2.931      0.003      -0.000   -8.46e-05\n",
      "wTrnW_Time_2     -3.11e-05   8.08e-05     -0.385      0.700      -0.000       0.000\n",
      "wTrnW_15_2       9.944e-06    1.1e-06      9.039      0.000    7.79e-06    1.21e-05\n",
      "dTrnW_Cost_3    -6.162e-06      0.000     -0.057      0.954      -0.000       0.000\n",
      "dTrnW_Time_3       -0.0002      0.000     -2.216      0.027      -0.000   -2.75e-05\n",
      "wTrnD_Time_4       -0.0003   5.27e-05     -5.837      0.000      -0.000      -0.000\n",
      "wTrnD_Cost_5    -7.762e-05   2.95e-05     -2.632      0.008      -0.000   -1.98e-05\n",
      "bike_Distance_5    -0.2822      0.050     -5.597      0.000      -0.381      -0.183\n",
      "bike_Time_5         0.0013      0.008      0.160      0.873      -0.015       0.017\n",
      "bike_15_5        1.345e-06   9.22e-07      1.459      0.144   -4.61e-07    3.15e-06\n",
      "walk_Distance_6     0.0001      0.025      0.005      0.996      -0.049       0.049\n",
      "walk_Time_6        -0.0484      0.005    -10.542      0.000      -0.057      -0.039\n",
      "walk_15_6        1.049e-05   2.76e-06      3.802      0.000    5.08e-06    1.59e-05\n",
      "===================================================================================\n"
     ]
    }
   ],
   "source": [
    "chooser_ids = orca.get_table('trips1').to_frame().sample(5000,random_state = 2).index.values \n",
    "m.filters = ['HHPERTRIP in [{0}]'.format(','.join(map(str, chooser_ids)))]\n",
    "\n",
    "m.fit()"
   ]
  },
  {
   "cell_type": "code",
   "execution_count": 87,
   "metadata": {},
   "outputs": [],
   "source": [
    "m.run()"
   ]
  },
  {
   "cell_type": "code",
   "execution_count": 89,
   "metadata": {},
   "outputs": [
    {
     "data": {
      "text/plain": [
       "['_TemplateStep__out_tables',\n",
       " '_TemplateStep__tables',\n",
       " '__class__',\n",
       " '__delattr__',\n",
       " '__dict__',\n",
       " '__dir__',\n",
       " '__doc__',\n",
       " '__eq__',\n",
       " '__format__',\n",
       " '__ge__',\n",
       " '__getattribute__',\n",
       " '__gt__',\n",
       " '__hash__',\n",
       " '__init__',\n",
       " '__init_subclass__',\n",
       " '__le__',\n",
       " '__lt__',\n",
       " '__module__',\n",
       " '__ne__',\n",
       " '__new__',\n",
       " '__reduce__',\n",
       " '__reduce_ex__',\n",
       " '__repr__',\n",
       " '__setattr__',\n",
       " '__sizeof__',\n",
       " '__str__',\n",
       " '__subclasshook__',\n",
       " '__weakref__',\n",
       " '_generate_name',\n",
       " '_get_alts',\n",
       " '_get_data',\n",
       " '_get_filter_columns',\n",
       " '_get_out_column',\n",
       " '_get_out_table',\n",
       " '_get_param_count',\n",
       " '_normalize_table_param',\n",
       " '_to_long',\n",
       " 'choice_column',\n",
       " 'choices',\n",
       " 'filters',\n",
       " 'fit',\n",
       " 'from_dict',\n",
       " 'initial_coefs',\n",
       " 'model',\n",
       " 'model_expression',\n",
       " 'model_labels',\n",
       " 'name',\n",
       " 'out_column',\n",
       " 'out_filters',\n",
       " 'out_tables',\n",
       " 'out_transform',\n",
       " 'probabilities',\n",
       " 'run',\n",
       " 'summary_table',\n",
       " 'tables',\n",
       " 'tags',\n",
       " 'template',\n",
       " 'template_version',\n",
       " 'to_dict']"
      ]
     },
     "execution_count": 89,
     "metadata": {},
     "output_type": "execute_result"
    }
   ],
   "source": [
    "dir(m)"
   ]
  },
  {
   "cell_type": "code",
   "execution_count": 90,
   "metadata": {},
   "outputs": [
    {
     "name": "stdout",
     "output_type": "stream",
     "text": [
      "Saving 'primary_mode_choice.yaml': /home/jayne/ual_model_workspace/fall-2018-models/configs\n",
      "Model saved to configs/primary_mode_choice-model-object.pkl\n"
     ]
    }
   ],
   "source": [
    "mm.save_step_to_disk(m)"
   ]
  },
  {
   "cell_type": "code",
   "execution_count": 88,
   "metadata": {
    "scrolled": true
   },
   "outputs": [
    {
     "ename": "AttributeError",
     "evalue": "'SmallMultinomialLogitStep' object has no attribute 'register'",
     "output_type": "error",
     "traceback": [
      "\u001b[0;31m---------------------------------------------------------------------------\u001b[0m",
      "\u001b[0;31mAttributeError\u001b[0m                            Traceback (most recent call last)",
      "\u001b[0;32m<ipython-input-88-c90364431277>\u001b[0m in \u001b[0;36m<module>\u001b[0;34m()\u001b[0m\n\u001b[1;32m      1\u001b[0m \u001b[0mm\u001b[0m\u001b[0;34m.\u001b[0m\u001b[0mtags\u001b[0m \u001b[0;34m=\u001b[0m \u001b[0;34m[\u001b[0m\u001b[0;34m'mode_choice'\u001b[0m\u001b[0;34m,\u001b[0m\u001b[0;34m'jayne'\u001b[0m\u001b[0;34m,\u001b[0m\u001b[0;34m'test'\u001b[0m\u001b[0;34m]\u001b[0m\u001b[0;34m\u001b[0m\u001b[0m\n\u001b[0;32m----> 2\u001b[0;31m \u001b[0mm\u001b[0m\u001b[0;34m.\u001b[0m\u001b[0mregister\u001b[0m\u001b[0;34m(\u001b[0m\u001b[0;34m)\u001b[0m\u001b[0;34m\u001b[0m\u001b[0m\n\u001b[0m",
      "\u001b[0;31mAttributeError\u001b[0m: 'SmallMultinomialLogitStep' object has no attribute 'register'"
     ]
    }
   ],
   "source": [
    "m.tags = ['mode_choice','jayne','test']\n",
    "mm.save_step_to_disk(m)"
   ]
  },
  {
   "cell_type": "code",
   "execution_count": 18,
   "metadata": {
    "scrolled": true
   },
   "outputs": [
    {
     "data": {
      "text/html": [
       "<div>\n",
       "<style scoped>\n",
       "    .dataframe tbody tr th:only-of-type {\n",
       "        vertical-align: middle;\n",
       "    }\n",
       "\n",
       "    .dataframe tbody tr th {\n",
       "        vertical-align: top;\n",
       "    }\n",
       "\n",
       "    .dataframe thead th {\n",
       "        text-align: right;\n",
       "    }\n",
       "</style>\n",
       "<table border=\"1\" class=\"dataframe\">\n",
       "  <thead>\n",
       "    <tr style=\"text-align: right;\">\n",
       "      <th></th>\n",
       "      <th>0</th>\n",
       "      <th>1</th>\n",
       "      <th>2</th>\n",
       "      <th>3</th>\n",
       "      <th>4</th>\n",
       "      <th>5</th>\n",
       "      <th>6</th>\n",
       "      <th>all</th>\n",
       "    </tr>\n",
       "  </thead>\n",
       "  <tbody>\n",
       "    <tr>\n",
       "      <th>True Positive rate</th>\n",
       "      <td>0.981719</td>\n",
       "      <td>0</td>\n",
       "      <td>0.493952</td>\n",
       "      <td>0.0564516</td>\n",
       "      <td>0.0136986</td>\n",
       "      <td>0.123675</td>\n",
       "      <td>0.176829</td>\n",
       "      <td>0.801791</td>\n",
       "    </tr>\n",
       "  </tbody>\n",
       "</table>\n",
       "</div>"
      ],
      "text/plain": [
       "                           0  1         2          3          4         5  \\\n",
       "True Positive rate  0.981719  0  0.493952  0.0564516  0.0136986  0.123675   \n",
       "\n",
       "                           6       all  \n",
       "True Positive rate  0.176829  0.801791  "
      ]
     },
     "execution_count": 18,
     "metadata": {},
     "output_type": "execute_result"
    }
   ],
   "source": [
    "# Validation process\n",
    "from scripts import validate\n",
    "validate.tp_rates(m)"
   ]
  },
  {
   "cell_type": "code",
   "execution_count": 19,
   "metadata": {},
   "outputs": [
    {
     "data": {
      "text/html": [
       "<div>\n",
       "<style scoped>\n",
       "    .dataframe tbody tr th:only-of-type {\n",
       "        vertical-align: middle;\n",
       "    }\n",
       "\n",
       "    .dataframe tbody tr th {\n",
       "        vertical-align: top;\n",
       "    }\n",
       "\n",
       "    .dataframe thead th {\n",
       "        text-align: right;\n",
       "    }\n",
       "</style>\n",
       "<table border=\"1\" class=\"dataframe\">\n",
       "  <thead>\n",
       "    <tr style=\"text-align: right;\">\n",
       "      <th>predicted</th>\n",
       "      <th>0</th>\n",
       "      <th>2</th>\n",
       "      <th>3</th>\n",
       "      <th>4</th>\n",
       "      <th>5</th>\n",
       "      <th>6</th>\n",
       "      <th>All</th>\n",
       "    </tr>\n",
       "    <tr>\n",
       "      <th>observed</th>\n",
       "      <th></th>\n",
       "      <th></th>\n",
       "      <th></th>\n",
       "      <th></th>\n",
       "      <th></th>\n",
       "      <th></th>\n",
       "      <th></th>\n",
       "    </tr>\n",
       "  </thead>\n",
       "  <tbody>\n",
       "    <tr>\n",
       "      <th>0</th>\n",
       "      <td>6122</td>\n",
       "      <td>77</td>\n",
       "      <td>9</td>\n",
       "      <td>3</td>\n",
       "      <td>16</td>\n",
       "      <td>9</td>\n",
       "      <td>6236</td>\n",
       "    </tr>\n",
       "    <tr>\n",
       "      <th>1</th>\n",
       "      <td>390</td>\n",
       "      <td>5</td>\n",
       "      <td>0</td>\n",
       "      <td>0</td>\n",
       "      <td>1</td>\n",
       "      <td>0</td>\n",
       "      <td>396</td>\n",
       "    </tr>\n",
       "    <tr>\n",
       "      <th>2</th>\n",
       "      <td>225</td>\n",
       "      <td>245</td>\n",
       "      <td>2</td>\n",
       "      <td>3</td>\n",
       "      <td>7</td>\n",
       "      <td>14</td>\n",
       "      <td>496</td>\n",
       "    </tr>\n",
       "    <tr>\n",
       "      <th>3</th>\n",
       "      <td>206</td>\n",
       "      <td>19</td>\n",
       "      <td>14</td>\n",
       "      <td>9</td>\n",
       "      <td>0</td>\n",
       "      <td>0</td>\n",
       "      <td>248</td>\n",
       "    </tr>\n",
       "    <tr>\n",
       "      <th>4</th>\n",
       "      <td>191</td>\n",
       "      <td>23</td>\n",
       "      <td>1</td>\n",
       "      <td>3</td>\n",
       "      <td>1</td>\n",
       "      <td>0</td>\n",
       "      <td>219</td>\n",
       "    </tr>\n",
       "    <tr>\n",
       "      <th>5</th>\n",
       "      <td>221</td>\n",
       "      <td>21</td>\n",
       "      <td>1</td>\n",
       "      <td>0</td>\n",
       "      <td>35</td>\n",
       "      <td>5</td>\n",
       "      <td>283</td>\n",
       "    </tr>\n",
       "    <tr>\n",
       "      <th>6</th>\n",
       "      <td>96</td>\n",
       "      <td>33</td>\n",
       "      <td>0</td>\n",
       "      <td>0</td>\n",
       "      <td>6</td>\n",
       "      <td>29</td>\n",
       "      <td>164</td>\n",
       "    </tr>\n",
       "    <tr>\n",
       "      <th>All</th>\n",
       "      <td>7451</td>\n",
       "      <td>423</td>\n",
       "      <td>27</td>\n",
       "      <td>18</td>\n",
       "      <td>66</td>\n",
       "      <td>57</td>\n",
       "      <td>8042</td>\n",
       "    </tr>\n",
       "  </tbody>\n",
       "</table>\n",
       "</div>"
      ],
      "text/plain": [
       "predicted     0    2   3   4   5   6   All\n",
       "observed                                  \n",
       "0          6122   77   9   3  16   9  6236\n",
       "1           390    5   0   0   1   0   396\n",
       "2           225  245   2   3   7  14   496\n",
       "3           206   19  14   9   0   0   248\n",
       "4           191   23   1   3   1   0   219\n",
       "5           221   21   1   0  35   5   283\n",
       "6            96   33   0   0   6  29   164\n",
       "All        7451  423  27  18  66  57  8042"
      ]
     },
     "execution_count": 19,
     "metadata": {},
     "output_type": "execute_result"
    }
   ],
   "source": [
    "predicted_choices = validate.get_predicted_choices(m)\n",
    "pd.crosstab(m.choices.rename('observed'), predicted_choices, margins=True) # unnormalized"
   ]
  },
  {
   "cell_type": "code",
   "execution_count": 20,
   "metadata": {},
   "outputs": [
    {
     "data": {
      "text/html": [
       "<div>\n",
       "<style scoped>\n",
       "    .dataframe tbody tr th:only-of-type {\n",
       "        vertical-align: middle;\n",
       "    }\n",
       "\n",
       "    .dataframe tbody tr th {\n",
       "        vertical-align: top;\n",
       "    }\n",
       "\n",
       "    .dataframe thead th {\n",
       "        text-align: right;\n",
       "    }\n",
       "</style>\n",
       "<table border=\"1\" class=\"dataframe\">\n",
       "  <thead>\n",
       "    <tr style=\"text-align: right;\">\n",
       "      <th>predicted</th>\n",
       "      <th>0</th>\n",
       "      <th>2</th>\n",
       "      <th>3</th>\n",
       "      <th>4</th>\n",
       "      <th>5</th>\n",
       "      <th>6</th>\n",
       "    </tr>\n",
       "    <tr>\n",
       "      <th>observed</th>\n",
       "      <th></th>\n",
       "      <th></th>\n",
       "      <th></th>\n",
       "      <th></th>\n",
       "      <th></th>\n",
       "      <th></th>\n",
       "    </tr>\n",
       "  </thead>\n",
       "  <tbody>\n",
       "    <tr>\n",
       "      <th>0</th>\n",
       "      <td>0.981719</td>\n",
       "      <td>0.012348</td>\n",
       "      <td>0.001443</td>\n",
       "      <td>0.000481</td>\n",
       "      <td>0.002566</td>\n",
       "      <td>0.001443</td>\n",
       "    </tr>\n",
       "    <tr>\n",
       "      <th>1</th>\n",
       "      <td>0.984848</td>\n",
       "      <td>0.012626</td>\n",
       "      <td>0.000000</td>\n",
       "      <td>0.000000</td>\n",
       "      <td>0.002525</td>\n",
       "      <td>0.000000</td>\n",
       "    </tr>\n",
       "    <tr>\n",
       "      <th>2</th>\n",
       "      <td>0.453629</td>\n",
       "      <td>0.493952</td>\n",
       "      <td>0.004032</td>\n",
       "      <td>0.006048</td>\n",
       "      <td>0.014113</td>\n",
       "      <td>0.028226</td>\n",
       "    </tr>\n",
       "    <tr>\n",
       "      <th>3</th>\n",
       "      <td>0.830645</td>\n",
       "      <td>0.076613</td>\n",
       "      <td>0.056452</td>\n",
       "      <td>0.036290</td>\n",
       "      <td>0.000000</td>\n",
       "      <td>0.000000</td>\n",
       "    </tr>\n",
       "    <tr>\n",
       "      <th>4</th>\n",
       "      <td>0.872146</td>\n",
       "      <td>0.105023</td>\n",
       "      <td>0.004566</td>\n",
       "      <td>0.013699</td>\n",
       "      <td>0.004566</td>\n",
       "      <td>0.000000</td>\n",
       "    </tr>\n",
       "    <tr>\n",
       "      <th>5</th>\n",
       "      <td>0.780919</td>\n",
       "      <td>0.074205</td>\n",
       "      <td>0.003534</td>\n",
       "      <td>0.000000</td>\n",
       "      <td>0.123675</td>\n",
       "      <td>0.017668</td>\n",
       "    </tr>\n",
       "    <tr>\n",
       "      <th>6</th>\n",
       "      <td>0.585366</td>\n",
       "      <td>0.201220</td>\n",
       "      <td>0.000000</td>\n",
       "      <td>0.000000</td>\n",
       "      <td>0.036585</td>\n",
       "      <td>0.176829</td>\n",
       "    </tr>\n",
       "  </tbody>\n",
       "</table>\n",
       "</div>"
      ],
      "text/plain": [
       "predicted         0         2         3         4         5         6\n",
       "observed                                                             \n",
       "0          0.981719  0.012348  0.001443  0.000481  0.002566  0.001443\n",
       "1          0.984848  0.012626  0.000000  0.000000  0.002525  0.000000\n",
       "2          0.453629  0.493952  0.004032  0.006048  0.014113  0.028226\n",
       "3          0.830645  0.076613  0.056452  0.036290  0.000000  0.000000\n",
       "4          0.872146  0.105023  0.004566  0.013699  0.004566  0.000000\n",
       "5          0.780919  0.074205  0.003534  0.000000  0.123675  0.017668\n",
       "6          0.585366  0.201220  0.000000  0.000000  0.036585  0.176829"
      ]
     },
     "execution_count": 20,
     "metadata": {},
     "output_type": "execute_result"
    }
   ],
   "source": [
    "validate.model_crosstab(m) # normalized by index"
   ]
  },
  {
   "cell_type": "code",
   "execution_count": 21,
   "metadata": {},
   "outputs": [
    {
     "data": {
      "text/plain": [
       "<matplotlib.axes._subplots.AxesSubplot at 0x7fdd947d0630>"
      ]
     },
     "execution_count": 21,
     "metadata": {},
     "output_type": "execute_result"
    },
    {
     "data": {
      "image/png": "[encoded data removed]",
      "text/plain": [
       "<Figure size 432x288 with 2 Axes>"
      ]
     },
     "metadata": {},
     "output_type": "display_data"
    }
   ],
   "source": [
    "sns.heatmap(validate.model_crosstab(m))"
   ]
  },
  {
   "cell_type": "code",
   "execution_count": null,
   "metadata": {},
   "outputs": [],
   "source": []
  }
 ],
 "metadata": {
  "kernelspec": {
   "display_name": "Python 3",
   "language": "python",
   "name": "python3"
  },
  "language_info": {
   "codemirror_mode": {
    "name": "ipython",
    "version": 3
   },
   "file_extension": ".py",
   "mimetype": "text/x-python",
   "name": "python",
   "nbconvert_exporter": "python",
   "pygments_lexer": "ipython3",
   "version": "3.6.6"
  }
 },
 "nbformat": 4,
 "nbformat_minor": 2
}
