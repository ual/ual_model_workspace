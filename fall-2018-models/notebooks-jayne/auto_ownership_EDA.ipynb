{
 "cells": [
  {
   "cell_type": "markdown",
   "metadata": {},
   "source": [
    "# Auto ownership exploratory data analysis notebook\n",
    "This notebook explores:\n",
    "\n",
    "    (1) Correlation between household attributes and accessibility\n",
    "    (2) Whether a decision heuristics could be applied before discrete choice (aka, if there are sets of conditions that definitely lead to vehicle ownership). This could be based on a binary regression.\n"
    "    (3) Feasibility of machine learning models.\n"
    
   ]
  },
  {
   "cell_type": "code",
   "execution_count": null,
   "metadata": {},
   "outputs": [],
   "source": []
  }
 ],
 "metadata": {
  "kernelspec": {
   "display_name": "Python 3",
   "language": "python",
   "name": "python3"
  },
  "language_info": {
   "codemirror_mode": {
    "name": "ipython",
    "version": 3
   },
   "file_extension": ".py",
   "mimetype": "text/x-python",
   "name": "python",
   "nbconvert_exporter": "python",
   "pygments_lexer": "ipython3",
   "version": "3.6.6"
  }
 },
 "nbformat": 4,
 "nbformat_minor": 2
}
