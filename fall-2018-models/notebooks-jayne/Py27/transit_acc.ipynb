{
 "cells": [
  {
   "cell_type": "markdown",
   "metadata": {},
   "source": [
    "# UrbanAccess transit accessiblity calculation for auto ownership model\n",
    "\n",
    "This notebook only works in Python 2.7 and is meant to generate a table of transit accessiblity indicators for Bay Area parcels to be used in the auto ownership model."
   ]
  },
  {
   "cell_type": "code",
   "execution_count": 1,
   "metadata": {},
   "outputs": [],
   "source": [
    "import pandas as pd\n",
    "import pandana as pdna\n",
    "import time\n",
    "\n",
    "import urbanaccess as ua\n",
    "from urbanaccess.config import settings\n",
    "from urbanaccess.gtfsfeeds import feeds\n",
    "from urbanaccess import gtfsfeeds\n",
    "from urbanaccess.gtfs.gtfsfeeds_dataframe import gtfsfeeds_dfs\n",
    "from urbanaccess.network import ua_network, load_network\n",
    "\n",
    "%matplotlib inline"
   ]
  },
  {
   "cell_type": "code",
   "execution_count": 3,
   "metadata": {
    "collapsed": true
   },
   "outputs": [
    {
     "name": "stdout",
     "output_type": "stream",
     "text": [
      "Note: Your use of a GTFS feed is governed by each GTFS feed author license terms. It is suggested you read the respective license terms for the appropriate use of a GTFS feed.\n",
      "Warning: The GTFSDataExchange is no longer being maintained as of Summer 2016. Data accessed here may be out of date.\n",
      "Found 1 records that matched ['Bay Area Rapid Transit'] inside ['name', 'url', 'dataexchange_id', 'feed_baseurl'] columns:\n",
      "Added 1 feeds to gtfs_feeds: {'Bay Area Rapid Transit': 'http://www.gtfs-data-exchange.com/agency/bay-area-rapid-transit/latest.zip'}\n",
      "Added 1 records to gtfs_feed list:\n",
      "Note: Your use of a GTFS feed is governed by each GTFS feed author license terms. It is suggested you read the respective license terms for the appropriate use of a GTFS feed.\n",
      "Warning: The GTFSDataExchange is no longer being maintained as of Summer 2016. Data accessed here may be out of date.\n",
      "Found 1 records that matched ['AC transit'] inside ['name', 'url', 'dataexchange_id', 'feed_baseurl'] columns:\n",
      "Added 1 feeds to gtfs_feeds: {'AC Transit': 'http://www.gtfs-data-exchange.com/agency/ac-transit/latest.zip'}\n",
      "Added 1 records to gtfs_feed list:\n",
      "Note: Your use of a GTFS feed is governed by each GTFS feed author license terms. It is suggested you read the respective license terms for the appropriate use of a GTFS feed.\n",
      "Warning: The GTFSDataExchange is no longer being maintained as of Summer 2016. Data accessed here may be out of date.\n",
      "Found 3 records that matched ['Caltrain'] inside ['name', 'url', 'dataexchange_id', 'feed_baseurl'] columns:\n",
      "Added 3 feeds to gtfs_feeds: {'Caltrain': 'http://www.gtfs-data-exchange.com/agency/caltrain/latest.zip', 'Caltrain Commuter Shuttle (call for pick-up)': 'http://www.gtfs-data-exchange.com/agency/caltrain-commuter-shuttle-call-for-pick-up/latest.zip', 'Caltrain Shuttles': 'http://www.gtfs-data-exchange.com/agency/caltrain-shuttles/latest.zip'}\n",
      "Added 3 records to gtfs_feed list:\n",
      "Note: Your use of a GTFS feed is governed by each GTFS feed author license terms. It is suggested you read the respective license terms for the appropriate use of a GTFS feed.\n",
      "Warning: The GTFSDataExchange is no longer being maintained as of Summer 2016. Data accessed here may be out of date.\n",
      "Found 1 records that matched ['County Connection'] inside ['name', 'url', 'dataexchange_id', 'feed_baseurl'] columns:\n",
      "Added 1 feeds to gtfs_feeds: {'County Connection': 'http://www.gtfs-data-exchange.com/agency/county-connection/latest.zip'}\n",
      "Added 1 records to gtfs_feed list:\n",
      "Note: Your use of a GTFS feed is governed by each GTFS feed author license terms. It is suggested you read the respective license terms for the appropriate use of a GTFS feed.\n",
      "Warning: The GTFSDataExchange is no longer being maintained as of Summer 2016. Data accessed here may be out of date.\n",
      "Found 1 records that matched ['Fairfield and Suisun Transit'] inside ['name', 'url', 'dataexchange_id', 'feed_baseurl'] columns:\n",
      "Added 1 feeds to gtfs_feeds: {'Fairfield and Suisun Transit': 'http://www.gtfs-data-exchange.com/agency/fairfield-and-suisun-transit/latest.zip'}\n",
      "Added 1 records to gtfs_feed list:\n",
      "Note: Your use of a GTFS feed is governed by each GTFS feed author license terms. It is suggested you read the respective license terms for the appropriate use of a GTFS feed.\n",
      "Warning: The GTFSDataExchange is no longer being maintained as of Summer 2016. Data accessed here may be out of date.\n",
      "Found 1 records that matched ['Golden Gate Transit'] inside ['name', 'url', 'dataexchange_id', 'feed_baseurl'] columns:\n",
      "Added 1 feeds to gtfs_feeds: {'Golden Gate Transit': 'http://www.gtfs-data-exchange.com/agency/golden-gate-transit/latest.zip'}\n",
      "Added 1 records to gtfs_feed list:\n",
      "Note: Your use of a GTFS feed is governed by each GTFS feed author license terms. It is suggested you read the respective license terms for the appropriate use of a GTFS feed.\n",
      "Warning: The GTFSDataExchange is no longer being maintained as of Summer 2016. Data accessed here may be out of date.\n",
      "Found 1 records that matched ['SFMTA'] inside ['name', 'url', 'dataexchange_id', 'feed_baseurl'] columns:\n",
      "Added 1 feeds to gtfs_feeds: {'San Francisco Municipal Transportation Agency': 'http://www.gtfs-data-exchange.com/agency/san-francisco-municipal-transportation-agency/latest.zip'}\n",
      "Added 1 records to gtfs_feed list:\n",
      "Note: Your use of a GTFS feed is governed by each GTFS feed author license terms. It is suggested you read the respective license terms for the appropriate use of a GTFS feed.\n",
      "Warning: The GTFSDataExchange is no longer being maintained as of Summer 2016. Data accessed here may be out of date.\n",
      "Found 1 records that matched ['SamTrans'] inside ['name', 'url', 'dataexchange_id', 'feed_baseurl'] columns:\n",
      "Added 1 feeds to gtfs_feeds: {'SamTrans': 'http://www.gtfs-data-exchange.com/agency/samtrans/latest.zip'}\n",
      "Added 1 records to gtfs_feed list:\n",
      "Note: Your use of a GTFS feed is governed by each GTFS feed author license terms. It is suggested you read the respective license terms for the appropriate use of a GTFS feed.\n",
      "Warning: The GTFSDataExchange is no longer being maintained as of Summer 2016. Data accessed here may be out of date.\n",
      "Found 1 records that matched ['Soltrans'] inside ['name', 'url', 'dataexchange_id', 'feed_baseurl'] columns:\n",
      "Added 1 feeds to gtfs_feeds: {'SolTrans': 'http://www.gtfs-data-exchange.com/agency/soltrans/latest.zip'}\n",
      "Added 1 records to gtfs_feed list:\n",
      "Note: Your use of a GTFS feed is governed by each GTFS feed author license terms. It is suggested you read the respective license terms for the appropriate use of a GTFS feed.\n",
      "Warning: The GTFSDataExchange is no longer being maintained as of Summer 2016. Data accessed here may be out of date.\n",
      "Found 1 records that matched ['Marin Transit'] inside ['name', 'url', 'dataexchange_id', 'feed_baseurl'] columns:\n",
      "Added 1 feeds to gtfs_feeds: {'Marin Transit': 'http://www.gtfs-data-exchange.com/agency/marin-transit/latest.zip'}\n",
      "Added 1 records to gtfs_feed list:\n",
      "Note: Your use of a GTFS feed is governed by each GTFS feed author license terms. It is suggested you read the respective license terms for the appropriate use of a GTFS feed.\n",
      "Warning: The GTFSDataExchange is no longer being maintained as of Summer 2016. Data accessed here may be out of date.\n",
      "Found 1 records that matched ['Sonoma County Transit'] inside ['name', 'url', 'dataexchange_id', 'feed_baseurl'] columns:\n",
      "Added 1 feeds to gtfs_feeds: {'Sonoma County Transit': 'http://www.gtfs-data-exchange.com/agency/sonoma-county-transit/latest.zip'}\n",
      "Added 1 records to gtfs_feed list:\n"
     ]
    }
   ],
   "source": [
    "agencies = ['Bay Area Rapid Transit','AC transit','Caltrain','County Connection','Fairfield and Suisun Transit',\n",
    "           'Golden Gate Transit','SFMTA','SamTrans','Soltrans','Marin Transit',\n",
    "           'Sonoma County Transit']\n",
    "\n",
    "for agency in agencies:\n",
    "    gtfsfeeds.search(search_text=agency,\n",
    "                 search_field=None,\n",
    "                 match='contains',\n",
    "                 add_feed=True)"
   ]
  },
  {
   "cell_type": "code",
   "execution_count": 4,
   "metadata": {},
   "outputs": [
    {
     "name": "stdout",
     "output_type": "stream",
     "text": [
      "Added 4 feeds to gtfs_feeds: {'VTA': 'https://transitfeeds.com/p/vta/45/latest/download', 'Emery Go-Round': 'https://transitfeeds.com/p/emery-go-round/769/latest/download', 'WestCAT': 'https://transitfeeds.com/p/westcat/682/latest/download', 'Petaluma Transit': 'https://transitfeeds.com/p/petaluma-transit-gtfs/675/latest/download'}\n"
     ]
    }
   ],
   "source": [
    "# requiring manual download\n",
    "\n",
    "feeds.add_feed(add_dict={\n",
    "'Petaluma Transit':'https://transitfeeds.com/p/petaluma-transit-gtfs/675/latest/download',\n",
    "'Emery Go-Round':'https://transitfeeds.com/p/emery-go-round/769/latest/download',\n",
    "'VTA':'https://transitfeeds.com/p/vta/45/latest/download',\n",
    "'WestCAT':'https://transitfeeds.com/p/westcat/682/latest/download',\n",
    "})"
   ]
  },
  {
   "cell_type": "code",
   "execution_count": 5,
   "metadata": {
    "collapsed": true
   },
   "outputs": [
    {
     "name": "stdout",
     "output_type": "stream",
     "text": [
      "17 GTFS feeds will be downloaded here: data/gtfsfeed_zips\n",
      "VTA GTFS feed downloaded successfully. Took 1.07 seconds for 4,109,295.0KB\n",
      "Sonoma County Transit GTFS feed downloaded successfully. Took 1.18 seconds for 728,755.0KB\n",
      "Caltrain Shuttles GTFS feed downloaded successfully. Took 0.96 seconds for 68,198.0KB\n",
      "Golden Gate Transit GTFS feed downloaded successfully. Took 1.40 seconds for 2,629,268.0KB\n",
      "AC Transit GTFS feed downloaded successfully. Took 1.58 seconds for 5,269,792.0KB\n",
      "WestCAT GTFS feed downloaded successfully. Took 0.57 seconds for 453,300.0KB\n",
      "Marin Transit GTFS feed downloaded successfully. Took 1.24 seconds for 878,923.0KB\n",
      "Emery Go-Round GTFS feed downloaded successfully. Took 0.68 seconds for 103,347.0KB\n",
      "San Francisco Municipal Transportation Agency GTFS feed downloaded successfully. Took 1.55 seconds for 8,287,793.0KB\n",
      "Caltrain Commuter Shuttle (call for pick-up) GTFS feed downloaded successfully. Took 0.82 seconds for 100,970.0KB\n",
      "SolTrans GTFS feed downloaded successfully. Took 1.04 seconds for 466,379.0KB\n",
      "Petaluma Transit GTFS feed downloaded successfully. Took 0.54 seconds for 120,112.0KB\n",
      "County Connection GTFS feed downloaded successfully. Took 1.28 seconds for 1,254,388.0KB\n",
      "SamTrans GTFS feed downloaded successfully. Took 1.39 seconds for 5,486,267.0KB\n",
      "Caltrain GTFS feed downloaded successfully. Took 1.16 seconds for 101,937.0KB\n",
      "Fairfield and Suisun Transit GTFS feed downloaded successfully. Took 1.30 seconds for 237,208.0KB\n",
      "Bay Area Rapid Transit GTFS feed downloaded successfully. Took 1.45 seconds for 343,657.0KB\n",
      "GTFS feed download completed. Took 19.20 seconds\n",
      "County Connection.zip successfully extracted to: data/gtfsfeed_text/County Connection\n",
      "ACE.zip successfully extracted to: data/gtfsfeed_text/ACE\n",
      "WestCAT.zip successfully extracted to: data/gtfsfeed_text/WestCAT\n",
      "AC Transit.zip successfully extracted to: data/gtfsfeed_text/AC Transit\n",
      "Sonoma County Transit.zip successfully extracted to: data/gtfsfeed_text/Sonoma County Transit\n",
      "Marin Transit.zip successfully extracted to: data/gtfsfeed_text/Marin Transit\n",
      "SolTrans.zip successfully extracted to: data/gtfsfeed_text/SolTrans\n",
      "Emery Go-Round.zip successfully extracted to: data/gtfsfeed_text/Emery Go-Round\n",
      "Fairfield and Suisun Transit.zip successfully extracted to: data/gtfsfeed_text/Fairfield and Suisun Transit\n",
      "SamTrans.zip successfully extracted to: data/gtfsfeed_text/SamTrans\n",
      "VTA.zip successfully extracted to: data/gtfsfeed_text/VTA\n",
      "Golden Gate Transit.zip successfully extracted to: data/gtfsfeed_text/Golden Gate Transit\n",
      "Caltrain Commuter Shuttle (call for pick-up).zip successfully extracted to: data/gtfsfeed_text/Caltrain Commuter Shuttle (call for pick-up)\n",
      "San Francisco Municipal Transportation Agency.zip successfully extracted to: data/gtfsfeed_text/San Francisco Municipal Transportation Agency\n",
      "Petaluma Transit.zip successfully extracted to: data/gtfsfeed_text/Petaluma Transit\n",
      "Caltrain.zip successfully extracted to: data/gtfsfeed_text/Caltrain\n",
      "Caltrain Shuttles.zip successfully extracted to: data/gtfsfeed_text/Caltrain Shuttles\n",
      "Bay Area Rapid Transit.zip successfully extracted to: data/gtfsfeed_text/Bay Area Rapid Transit\n",
      "GTFS feed zipfile extraction completed. Took 0.89 seconds for 18 files\n"
     ]
    }
   ],
   "source": [
    "gtfsfeeds.download()"
   ]
  },
  {
   "cell_type": "code",
   "execution_count": 8,
   "metadata": {
    "collapsed": true
   },
   "outputs": [
    {
     "name": "stdout",
     "output_type": "stream",
     "text": [
      "GTFS text file encoding check completed. Took 0.08 seconds\n",
      "GTFS text file header whitespace check completed. Took 0.67 seconds\n",
      "--------------------------------\n",
      "Processing GTFS feed: San Francisco Municipal Transportation Agency\n",
      "The unique agency id: san_francisco_municipal_transportation_agency was generated using the name of the agency in the agency.txt file.\n",
      "Unique agency id operation complete. Took 0.08 seconds\n",
      "Unique GTFS feed id operation complete. Took 0.02 seconds\n",
      "WARNING: San Francisco Municipal Transportation Agency GTFS feed stops: 12 of 4,627 (0.26 percent of total) record(s) are outside the bounding box coordinates\n",
      "Removed identified stops that are outside of bounding box.\n",
      "San Francisco Municipal Transportation Agency GTFS feed stops: coordinates are in northwest hemisphere. Latitude = North (90); Longitude = West (-90).\n",
      "Appended route type to stops\n",
      "Appended route type to stop_times\n",
      "--------------------------------\n",
      "--------------------------------\n",
      "Processing GTFS feed: WestCAT\n",
      "The unique agency id: westcat_(western_contra_costa) was generated using the name of the agency in the agency.txt file.\n",
      "Unique agency id operation complete. Took 0.01 seconds\n",
      "Unique GTFS feed id operation complete. Took 0.00 seconds\n",
      "No GTFS feed stops were found to be outside the bounding box coordinates\n",
      "WestCAT GTFS feed stops: coordinates are in northwest hemisphere. Latitude = North (90); Longitude = West (-90).\n",
      "Appended route type to stops\n",
      "Appended route type to stop_times\n",
      "--------------------------------\n",
      "--------------------------------\n",
      "Processing GTFS feed: Caltrain Shuttles\n",
      "agency.txt agency_name column has more than one agency name listed. Unique agency id was assigned using the agency id and associated agency name.\n",
      "Unique agency id operation complete. Took 0.13 seconds\n",
      "Unique GTFS feed id operation complete. Took 0.00 seconds\n",
      "No GTFS feed stops were found to be outside the bounding box coordinates\n",
      "Caltrain Shuttles GTFS feed stops: coordinates are in northwest hemisphere. Latitude = North (90); Longitude = West (-90).\n",
      "Appended route type to stops\n",
      "Appended route type to stop_times\n",
      "--------------------------------\n",
      "--------------------------------\n",
      "Processing GTFS feed: Marin Transit\n",
      "The unique agency id: marin_transit was generated using the name of the agency in the agency.txt file.\n",
      "Unique agency id operation complete. Took 0.01 seconds\n",
      "Unique GTFS feed id operation complete. Took 0.00 seconds\n",
      "No GTFS feed stops were found to be outside the bounding box coordinates\n",
      "Marin Transit GTFS feed stops: coordinates are in northwest hemisphere. Latitude = North (90); Longitude = West (-90).\n",
      "Appended route type to stops\n",
      "Appended route type to stop_times\n",
      "--------------------------------\n",
      "--------------------------------\n",
      "Processing GTFS feed: SamTrans\n",
      "The unique agency id: samtrans was generated using the name of the agency in the agency.txt file.\n",
      "Unique agency id operation complete. Took 0.04 seconds\n",
      "Unique GTFS feed id operation complete. Took 0.01 seconds\n",
      "No GTFS feed stops were found to be outside the bounding box coordinates\n",
      "SamTrans GTFS feed stops: coordinates are in northwest hemisphere. Latitude = North (90); Longitude = West (-90).\n",
      "Appended route type to stops\n",
      "Appended route type to stop_times\n",
      "--------------------------------\n",
      "--------------------------------\n",
      "Processing GTFS feed: Petaluma Transit\n",
      "The unique agency id: petaluma_transit was generated using the name of the agency in the agency.txt file.\n",
      "Unique agency id operation complete. Took 0.01 seconds\n",
      "Unique GTFS feed id operation complete. Took 0.00 seconds\n",
      "No GTFS feed stops were found to be outside the bounding box coordinates\n",
      "Petaluma Transit GTFS feed stops: coordinates are in northwest hemisphere. Latitude = North (90); Longitude = West (-90).\n",
      "Appended route type to stops\n",
      "Appended route type to stop_times\n",
      "--------------------------------\n",
      "--------------------------------\n",
      "Processing GTFS feed: Caltrain Commuter Shuttle (call for pick-up)\n",
      "agency.txt agency_name column has more than one agency name listed. Unique agency id was assigned using the agency id and associated agency name.\n",
      "Unique agency id operation complete. Took 0.13 seconds\n",
      "Unique GTFS feed id operation complete. Took 0.00 seconds\n",
      "No GTFS feed stops were found to be outside the bounding box coordinates\n",
      "Caltrain Commuter Shuttle (call for pick-up) GTFS feed stops: coordinates are in northwest hemisphere. Latitude = North (90); Longitude = West (-90).\n",
      "Appended route type to stops\n",
      "Appended route type to stop_times\n",
      "--------------------------------\n",
      "--------------------------------\n",
      "Processing GTFS feed: Golden Gate Transit\n",
      "The agency.txt or agency_id column was not found. The unique agency id: golden_gate_transit was generated using the name of the folder containing the GTFS feed text files.\n",
      "Unique agency id operation complete. Took 0.01 seconds\n",
      "Unique GTFS feed id operation complete. Took 0.00 seconds\n",
      "No GTFS feed stops were found to be outside the bounding box coordinates\n",
      "Golden Gate Transit GTFS feed stops: coordinates are in northwest hemisphere. Latitude = North (90); Longitude = West (-90).\n",
      "Appended route type to stops\n",
      "Appended route type to stop_times\n",
      "--------------------------------\n",
      "--------------------------------\n",
      "Processing GTFS feed: Caltrain\n",
      "The unique agency id: caltrain was generated using the name of the agency in the agency.txt file.\n",
      "Unique agency id operation complete. Took 0.01 seconds\n",
      "Unique GTFS feed id operation complete. Took 0.00 seconds\n",
      "No GTFS feed stops were found to be outside the bounding box coordinates\n",
      "Caltrain GTFS feed stops: coordinates are in northwest hemisphere. Latitude = North (90); Longitude = West (-90).\n",
      "Appended route type to stops\n",
      "Appended route type to stop_times\n",
      "--------------------------------\n",
      "--------------------------------\n",
      "Processing GTFS feed: Emery Go-Round\n",
      "The unique agency id: emery_go-round was generated using the name of the agency in the agency.txt file.\n",
      "Unique agency id operation complete. Took 0.01 seconds\n",
      "Unique GTFS feed id operation complete. Took 0.00 seconds\n",
      "No GTFS feed stops were found to be outside the bounding box coordinates\n",
      "Emery Go-Round GTFS feed stops: coordinates are in northwest hemisphere. Latitude = North (90); Longitude = West (-90).\n",
      "Appended route type to stops\n",
      "Appended route type to stop_times\n",
      "--------------------------------\n",
      "--------------------------------\n",
      "Processing GTFS feed: AC Transit\n",
      "The unique agency id: ac_transit was generated using the name of the agency in the agency.txt file.\n",
      "Unique agency id operation complete. Took 0.04 seconds\n",
      "Unique GTFS feed id operation complete. Took 0.01 seconds\n",
      "No GTFS feed stops were found to be outside the bounding box coordinates\n",
      "AC Transit GTFS feed stops: coordinates are in northwest hemisphere. Latitude = North (90); Longitude = West (-90).\n",
      "Appended route type to stops\n",
      "Appended route type to stop_times\n",
      "--------------------------------\n",
      "--------------------------------\n",
      "Processing GTFS feed: County Connection\n",
      "The unique agency id: county_connection was generated using the name of the agency in the agency.txt file.\n",
      "Unique agency id operation complete. Took 0.02 seconds\n",
      "Unique GTFS feed id operation complete. Took 0.01 seconds\n",
      "No GTFS feed stops were found to be outside the bounding box coordinates\n",
      "County Connection GTFS feed stops: coordinates are in northwest hemisphere. Latitude = North (90); Longitude = West (-90).\n",
      "Appended route type to stops\n",
      "Appended route type to stop_times\n",
      "--------------------------------\n",
      "--------------------------------\n",
      "Processing GTFS feed: VTA\n",
      "The unique agency id: vta was generated using the name of the agency in the agency.txt file.\n",
      "Unique agency id operation complete. Took 0.03 seconds\n",
      "Unique GTFS feed id operation complete. Took 0.01 seconds\n",
      "No GTFS feed stops were found to be outside the bounding box coordinates\n",
      "VTA GTFS feed stops: coordinates are in northwest hemisphere. Latitude = North (90); Longitude = West (-90).\n",
      "Appended route type to stops\n",
      "Appended route type to stop_times\n",
      "--------------------------------\n",
      "--------------------------------\n",
      "Processing GTFS feed: SolTrans\n",
      "The unique agency id: soltrans was generated using the name of the agency in the agency.txt file.\n",
      "Unique agency id operation complete. Took 0.01 seconds\n",
      "Unique GTFS feed id operation complete. Took 0.00 seconds\n",
      "No GTFS feed stops were found to be outside the bounding box coordinates\n",
      "SolTrans GTFS feed stops: coordinates are in northwest hemisphere. Latitude = North (90); Longitude = West (-90).\n",
      "Appended route type to stops\n",
      "Appended route type to stop_times\n"
     ]
    },
    {
     "name": "stdout",
     "output_type": "stream",
     "text": [
      "--------------------------------\n",
      "--------------------------------\n",
      "Processing GTFS feed: Fairfield and Suisun Transit\n",
      "The unique agency id: fairfield_and_suisun_transit was generated using the name of the agency in the agency.txt file.\n",
      "Unique agency id operation complete. Took 0.01 seconds\n",
      "Unique GTFS feed id operation complete. Took 0.00 seconds\n",
      "No GTFS feed stops were found to be outside the bounding box coordinates\n",
      "Fairfield and Suisun Transit GTFS feed stops: coordinates are in northwest hemisphere. Latitude = North (90); Longitude = West (-90).\n",
      "Appended route type to stops\n",
      "Appended route type to stop_times\n",
      "--------------------------------\n",
      "--------------------------------\n",
      "Processing GTFS feed: Bay Area Rapid Transit\n",
      "The unique agency id: bay_area_rapid_transit was generated using the name of the agency in the agency.txt file.\n",
      "Unique agency id operation complete. Took 0.01 seconds\n",
      "Unique GTFS feed id operation complete. Took 0.00 seconds\n",
      "No GTFS feed stops were found to be outside the bounding box coordinates\n",
      "Bay Area Rapid Transit GTFS feed stops: coordinates are in northwest hemisphere. Latitude = North (90); Longitude = West (-90).\n",
      "Appended route type to stops\n",
      "Appended route type to stop_times\n",
      "--------------------------------\n",
      "--------------------------------\n",
      "Processing GTFS feed: Sonoma County Transit\n",
      "The unique agency id: sonoma_county_transit was generated using the name of the agency in the agency.txt file.\n",
      "Unique agency id operation complete. Took 0.01 seconds\n",
      "Unique GTFS feed id operation complete. Took 0.00 seconds\n",
      "WARNING: Sonoma County Transit GTFS feed stops: 19 of 1,054 (1.80 percent of total) record(s) are outside the bounding box coordinates\n",
      "Removed identified stops that are outside of bounding box.\n",
      "Sonoma County Transit GTFS feed stops: coordinates are in northwest hemisphere. Latitude = North (90); Longitude = West (-90).\n",
      "Appended route type to stops\n",
      "Appended route type to stop_times\n",
      "--------------------------------\n",
      "Added descriptive definitions to stops, routes, stop_times, and trips tables\n",
      "Successfully converted ['departure_time'] to seconds past midnight and appended new columns to stop_times. Took 9.67 seconds\n",
      "17 GTFS feed file(s) successfully read as dataframes:\n",
      "     San Francisco Municipal Transportation Agency\n",
      "     WestCAT\n",
      "     Caltrain Shuttles\n",
      "     Marin Transit\n",
      "     SamTrans\n",
      "     Petaluma Transit\n",
      "     Caltrain Commuter Shuttle (call for pick-up)\n",
      "     Golden Gate Transit\n",
      "     Caltrain\n",
      "     Emery Go-Round\n",
      "     AC Transit\n",
      "     County Connection\n",
      "     VTA\n",
      "     SolTrans\n",
      "     Fairfield and Suisun Transit\n",
      "     Bay Area Rapid Transit\n",
      "     Sonoma County Transit\n",
      "     Took 57.79 seconds\n"
     ]
    }
   ],
   "source": [
    "validation = True\n",
    "verbose = False\n",
    "# bbox for the Bay Area\n",
    "bbox = (-123.024607,36.894196,-121.207972,38.863927)\n",
    "remove_stops_outsidebbox = True\n",
    "append_definitions = True\n",
    "\n",
    "loaded_feeds = ua.gtfs.load.gtfsfeed_to_df(gtfsfeed_path=None,\n",
    "                                           validation=validation,\n",
    "                                           verbose=verbose,\n",
    "                                           bbox=bbox,\n",
    "                                           remove_stops_outsidebbox=remove_stops_outsidebbox,\n",
    "                                           append_definitions=append_definitions)"
   ]
  },
  {
   "cell_type": "code",
   "execution_count": 9,
   "metadata": {
    "collapsed": true
   },
   "outputs": [
    {
     "name": "stdout",
     "output_type": "stream",
     "text": [
      "Using calendar to extract service_ids to select trips.\n",
      "101 service_ids were extracted from calendar\n",
      "39,898 trip(s) 48.27 percent of 82,658 total trip records were found in calendar for GTFS feed(s): ['san francisco municipal transportation agency', 'westcat', 'caltrain shuttles', 'marin transit', 'samtrans', 'petaluma transit', 'caltrain commuter shuttle (call for pick-up)', 'golden gate transit', 'caltrain', 'emery go-round', 'ac transit', 'county connection', 'vta', 'soltrans', 'fairfield and suisun transit', 'bay area rapid transit', 'sonoma county transit']\n",
      "NOTE: If you expected more trips to have been extracted and your GTFS feed(s) have a calendar_dates file, consider utilizing the calendar_dates_lookup parameter in order to add additional trips based on information inside of calendar_dates. This should only be done if you know the corresponding GTFS feed is using calendar_dates instead of calendar to specify service_ids. When in doubt do not use the calendar_dates_lookup parameter.\n",
      "39,898 trip(s) 48.27 percent of 82,658 total trip records were not found in calendar for GTFS feed: san francisco municipal transportation agency\n",
      "39,898 trip(s) 48.27 percent of 82,658 total trip records were not found in calendar for GTFS feed: westcat\n",
      "39,898 trip(s) 48.27 percent of 82,658 total trip records were not found in calendar for GTFS feed: caltrain shuttles\n",
      "39,898 trip(s) 48.27 percent of 82,658 total trip records were not found in calendar for GTFS feed: marin transit\n",
      "39,898 trip(s) 48.27 percent of 82,658 total trip records were not found in calendar for GTFS feed: samtrans\n",
      "39,898 trip(s) 48.27 percent of 82,658 total trip records were not found in calendar for GTFS feed: petaluma transit\n",
      "39,898 trip(s) 48.27 percent of 82,658 total trip records were not found in calendar for GTFS feed: golden gate transit\n",
      "39,898 trip(s) 48.27 percent of 82,658 total trip records were not found in calendar for GTFS feed: caltrain\n",
      "39,898 trip(s) 48.27 percent of 82,658 total trip records were not found in calendar for GTFS feed: emery go-round\n",
      "39,898 trip(s) 48.27 percent of 82,658 total trip records were not found in calendar for GTFS feed: ac transit\n",
      "39,898 trip(s) 48.27 percent of 82,658 total trip records were not found in calendar for GTFS feed: county connection\n",
      "39,898 trip(s) 48.27 percent of 82,658 total trip records were not found in calendar for GTFS feed: vta\n",
      "39,898 trip(s) 48.27 percent of 82,658 total trip records were not found in calendar for GTFS feed: soltrans\n",
      "39,898 trip(s) 48.27 percent of 82,658 total trip records were not found in calendar for GTFS feed: fairfield and suisun transit\n",
      "39,898 trip(s) 48.27 percent of 82,658 total trip records were not found in calendar for GTFS feed: bay area rapid transit\n",
      "39,898 trip(s) 48.27 percent of 82,658 total trip records were not found in calendar for GTFS feed: sonoma county transit\n",
      "39,898 of 82,658 total trips were extracted representing calendar day: monday. Took 0.15 seconds\n",
      "Note: Processing may take a long time depending on the number of records. Total unique trips to assess: 39,898\n",
      "Starting departure stop time interpolation...\n",
      "Departure time records missing from trips following monday schedule: 438,723 (30.52 percent of 1,437,266 total records)\n",
      "Interpolating...\n",
      "WARNING: Number of records unable to interpolate: 322. These records have been removed.\n",
      "Departure stop time interpolation complete. Took 23.62 seconds\n",
      "Difference between stop times has been successfully calculated. Took 9.94 seconds\n",
      "Stop times from 07:00:00 to 10:00:00 successfully selected 295,492 records out of 1,436,944 total records (20.56 percent of total). Took 0.14 seconds\n",
      "Starting transformation process for 10,352 total trips...\n",
      "stop time table transformation to Pandana format edge table completed. Took 23.58 seconds\n",
      "Time conversion completed: seconds converted to minutes.\n",
      "18,618 of 21,222 records selected from stops. Took 0.05 seconds\n",
      "stop time table transformation to Pandana format node table completed. Took 0.02 seconds\n",
      "route type successfully joined to transit edges. Took 8.53 seconds\n",
      "route id successfully joined to transit edges. Took 0.23 seconds\n",
      "Successfully created transit network. Took 66.62 seconds\n"
     ]
    },
    {
     "data": {
      "text/plain": [
       "<urbanaccess.network.urbanaccess_network at 0x7fe47db53d90>"
      ]
     },
     "execution_count": 9,
     "metadata": {},
     "output_type": "execute_result"
    }
   ],
   "source": [
    "# create transit network\n",
    "ua.gtfs.network.create_transit_net(gtfsfeeds_dfs=loaded_feeds,\n",
    "                                   day='monday',\n",
    "                                   timerange=['07:00:00', '10:00:00'],\n",
    "                                   calendar_dates_lookup=None)\n"
   ]
  },
  {
   "cell_type": "code",
   "execution_count": 13,
   "metadata": {
    "collapsed": true
   },
   "outputs": [
    {
     "name": "stdout",
     "output_type": "stream",
     "text": [
      "Requesting network data within bounding box from Overpass API in 20 request(s)\n",
      "Posting to http://www.overpass-api.de/api/interpreter with timeout=180, \"{'data': '[out:json][timeout:180];(way[\"highway\"][\"highway\"!~\"motor|proposed|construction|abandoned|platform|raceway\"][\"foot\"!~\"no\"][\"pedestrians\"!~\"no\"](36.89419600,-123.02460700,37.29094537,-122.56818792);>;);out;'}\"\n",
      "Downloaded 0.3KB from www.overpass-api.de in 0.51 seconds\n",
      "Posting to http://www.overpass-api.de/api/interpreter with timeout=180, \"{'data': '[out:json][timeout:180];(way[\"highway\"][\"highway\"!~\"motor|proposed|construction|abandoned|platform|raceway\"][\"foot\"!~\"no\"][\"pedestrians\"!~\"no\"](37.29016027,-123.02460468,37.68766809,-122.56589827);>;);out;'}\"\n",
      "Downloaded 0.3KB from www.overpass-api.de in 0.62 seconds\n",
      "Posting to http://www.overpass-api.de/api/interpreter with timeout=180, \"{'data': '[out:json][timeout:180];(way[\"highway\"][\"highway\"!~\"motor|proposed|construction|abandoned|platform|raceway\"][\"foot\"!~\"no\"][\"pedestrians\"!~\"no\"](37.68687169,-123.02460353,38.08436405,-122.56356327);>;);out;'}\"\n",
      "Downloaded 8,312.0KB from www.overpass-api.de in 2.56 seconds\n",
      "Posting to http://www.overpass-api.de/api/interpreter with timeout=180, \"{'data': '[out:json][timeout:180];(way[\"highway\"][\"highway\"!~\"motor|proposed|construction|abandoned|platform|raceway\"][\"foot\"!~\"no\"][\"pedestrians\"!~\"no\"](38.08355624,-123.02460472,38.48103316,-122.56118196);>;);out;'}\"\n",
      "Downloaded 18,993.5KB from www.overpass-api.de in 2.86 seconds\n",
      "Posting to http://www.overpass-api.de/api/interpreter with timeout=180, \"{'data': '[out:json][timeout:180];(way[\"highway\"][\"highway\"!~\"motor|proposed|construction|abandoned|platform|raceway\"][\"foot\"!~\"no\"][\"pedestrians\"!~\"no\"](38.48021382,-123.02460700,38.86662117,-122.55881654);>;);out;'}\"\n",
      "Downloaded 16,287.2KB from www.overpass-api.de in 2.97 seconds\n",
      "Posting to http://www.overpass-api.de/api/interpreter with timeout=180, \"{'data': '[out:json][timeout:180];(way[\"highway\"][\"highway\"!~\"motor|proposed|construction|abandoned|platform|raceway\"][\"foot\"!~\"no\"][\"pedestrians\"!~\"no\"](38.47755722,-122.56118196,38.86745729,-122.09235656);>;);out;'}\"\n",
      "Downloaded 8,591.6KB from www.overpass-api.de in 2.08 seconds\n",
      "Posting to http://www.overpass-api.de/api/interpreter with timeout=180, \"{'data': '[out:json][timeout:180];(way[\"highway\"][\"highway\"!~\"motor|proposed|construction|abandoned|platform|raceway\"][\"foot\"!~\"no\"][\"pedestrians\"!~\"no\"](38.47306400,-122.09726694,38.86745729,-121.62593445);>;);out;'}\"\n",
      "Downloaded 11,046.0KB from www.overpass-api.de in 2.46 seconds\n",
      "Posting to http://www.overpass-api.de/api/interpreter with timeout=180, \"{'data': '[out:json][timeout:180];(way[\"highway\"][\"highway\"!~\"motor|proposed|construction|abandoned|platform|raceway\"][\"foot\"!~\"no\"][\"pedestrians\"!~\"no\"](38.46732948,-121.63343415,38.86643026,-121.20797200);>;);out;'}\"\n",
      "Downloaded 58,187.2KB from www.overpass-api.de in 6.18 seconds\n",
      "Posting to http://www.overpass-api.de/api/interpreter with timeout=180, \"{'data': '[out:json][timeout:180];(way[\"highway\"][\"highway\"!~\"motor|proposed|construction|abandoned|platform|raceway\"][\"foot\"!~\"no\"][\"pedestrians\"!~\"no\"](38.07070632,-121.64084753,38.47306400,-121.20814249);>;);out;'}\"\n",
      "Downloaded 14,993.8KB from www.overpass-api.de in 6.64 seconds\n",
      "Posting to http://www.overpass-api.de/api/interpreter with timeout=180, \"{'data': '[out:json][timeout:180];(way[\"highway\"][\"highway\"!~\"motor|proposed|construction|abandoned|platform|raceway\"][\"foot\"!~\"no\"][\"pedestrians\"!~\"no\"](37.67405762,-121.64811677,38.07650684,-121.20822373);>;);out;'}\"\n",
      "Downloaded 19,002.8KB from www.overpass-api.de in 7.04 seconds\n",
      "Posting to http://www.overpass-api.de/api/interpreter with timeout=180, \"{'data': '[out:json][timeout:180];(way[\"highway\"][\"highway\"!~\"motor|proposed|construction|abandoned|platform|raceway\"][\"foot\"!~\"no\"][\"pedestrians\"!~\"no\"](37.27738350,-121.65524485,37.67992164,-121.20813634);>;);out;'}\"\n",
      "Downloaded 4,178.0KB from www.overpass-api.de in 3.31 seconds\n",
      "Posting to http://www.overpass-api.de/api/interpreter with timeout=180, \"{'data': '[out:json][timeout:180];(way[\"highway\"][\"highway\"!~\"motor|proposed|construction|abandoned|platform|raceway\"][\"foot\"!~\"no\"][\"pedestrians\"!~\"no\"](36.89419600,-121.66205780,37.28330853,-121.20797200);>;);out;'}\"\n",
      "Downloaded 0.7KB from www.overpass-api.de in 15.54 seconds\n",
      "Server at www.overpass-api.de returned status code 429 and no JSON data. Re-trying request in 1.00 seconds.\n",
      "Posting to http://www.overpass-api.de/api/interpreter with timeout=180, \"{'data': '[out:json][timeout:180];(way[\"highway\"][\"highway\"!~\"motor|proposed|construction|abandoned|platform|raceway\"][\"foot\"!~\"no\"][\"pedestrians\"!~\"no\"](36.89419600,-121.66205780,37.28330853,-121.20797200);>;);out;'}\"\n",
      "Downloaded 10,668.5KB from www.overpass-api.de in 5.00 seconds\n",
      "Posting to http://www.overpass-api.de/api/interpreter with timeout=180, \"{'data': '[out:json][timeout:180];(way[\"highway\"][\"highway\"!~\"motor|proposed|construction|abandoned|platform|raceway\"][\"foot\"!~\"no\"][\"pedestrians\"!~\"no\"](36.89680012,-122.11621817,37.28761443,-121.65524485);>;);out;'}\"\n",
      "Downloaded 48,197.1KB from www.overpass-api.de in 12.47 seconds\n",
      "Posting to http://www.overpass-api.de/api/interpreter with timeout=180, \"{'data': '[out:json][timeout:180];(way[\"highway\"][\"highway\"!~\"motor|proposed|construction|abandoned|platform|raceway\"][\"foot\"!~\"no\"][\"pedestrians\"!~\"no\"](36.89680039,-122.57041420,37.29016027,-122.11167777);>;);out;'}\"\n",
      "Downloaded 0.7KB from www.overpass-api.de in 14.81 seconds\n",
      "Server at www.overpass-api.de returned status code 429 and no JSON data. Re-trying request in 16.00 seconds.\n",
      "Posting to http://www.overpass-api.de/api/interpreter with timeout=180, \"{'data': '[out:json][timeout:180];(way[\"highway\"][\"highway\"!~\"motor|proposed|construction|abandoned|platform|raceway\"][\"foot\"!~\"no\"][\"pedestrians\"!~\"no\"](36.89680039,-122.57041420,37.29016027,-122.11167777);>;);out;'}\"\n",
      "Downloaded 6,969.0KB from www.overpass-api.de in 3.17 seconds\n",
      "Posting to http://www.overpass-api.de/api/interpreter with timeout=180, \"{'data': '[out:json][timeout:180];(way[\"highway\"][\"highway\"!~\"motor|proposed|construction|abandoned|platform|raceway\"][\"foot\"!~\"no\"][\"pedestrians\"!~\"no\"](38.08093695,-122.56356327,38.48021381,-122.09726694);>;);out;'}\"\n",
      "Downloaded 19,085.3KB from www.overpass-api.de in 12.42 seconds\n",
      "Posting to http://www.overpass-api.de/api/interpreter with timeout=180, \"{'data': '[out:json][timeout:180];(way[\"highway\"][\"highway\"!~\"motor|proposed|construction|abandoned|platform|raceway\"][\"foot\"!~\"no\"][\"pedestrians\"!~\"no\"](37.68428932,-122.56589827,38.08355624,-122.10216515);>;);out;'}\"\n",
      "Downloaded 0.7KB from www.overpass-api.de in 14.87 seconds\n",
      "Server at www.overpass-api.de returned status code 429 and no JSON data. Re-trying request in 4.00 seconds.\n",
      "Posting to http://www.overpass-api.de/api/interpreter with timeout=180, \"{'data': '[out:json][timeout:180];(way[\"highway\"][\"highway\"!~\"motor|proposed|construction|abandoned|platform|raceway\"][\"foot\"!~\"no\"][\"pedestrians\"!~\"no\"](37.68428932,-122.56589827,38.08355624,-122.10216515);>;);out;'}\"\n",
      "Downloaded 76,548.9KB from www.overpass-api.de in 10.30 seconds\n",
      "Posting to http://www.overpass-api.de/api/interpreter with timeout=180, \"{'data': '[out:json][timeout:180];(way[\"highway\"][\"highway\"!~\"motor|proposed|construction|abandoned|platform|raceway\"][\"foot\"!~\"no\"][\"pedestrians\"!~\"no\"](38.07650684,-122.10216514,38.47755722,-121.63343416);>;);out;'}\"\n",
      "Downloaded 19,149.0KB from www.overpass-api.de in 3.88 seconds\n",
      "Posting to http://www.overpass-api.de/api/interpreter with timeout=180, \"{'data': '[out:json][timeout:180];(way[\"highway\"][\"highway\"!~\"motor|proposed|construction|abandoned|platform|raceway\"][\"foot\"!~\"no\"][\"pedestrians\"!~\"no\"](37.67992164,-122.10696810,38.08093695,-121.64084754);>;);out;'}\"\n",
      "Downloaded 47,284.6KB from www.overpass-api.de in 8.64 seconds\n",
      "Posting to http://www.overpass-api.de/api/interpreter with timeout=180, \"{'data': '[out:json][timeout:180];(way[\"highway\"][\"highway\"!~\"motor|proposed|construction|abandoned|platform|raceway\"][\"foot\"!~\"no\"][\"pedestrians\"!~\"no\"](37.28330853,-122.11167777,37.68428932,-121.64811677);>;);out;'}\"\n",
      "Downloaded 82,708.6KB from www.overpass-api.de in 8.74 seconds\n",
      "Posting to http://www.overpass-api.de/api/interpreter with timeout=180, \"{'data': '[out:json][timeout:180];(way[\"highway\"][\"highway\"!~\"motor|proposed|construction|abandoned|platform|raceway\"][\"foot\"!~\"no\"][\"pedestrians\"!~\"no\"](37.28761444,-122.56818792,37.68687169,-122.10696810);>;);out;'}\"\n"
     ]
    },
    {
     "name": "stdout",
     "output_type": "stream",
     "text": [
      "Downloaded 39,387.5KB from www.overpass-api.de in 5.83 seconds\n",
      "Downloaded OSM network data within bounding box from Overpass API in 20 request(s) and 193.69 seconds\n",
      "132,883 duplicate records removed. Took 161.88 seconds\n",
      "Returning OSM data with 3,571,033 nodes and 578,039 ways...\n",
      "Edge node pairs completed. Took 1,443.66 seconds\n",
      "Returning processed graph with 774,016 nodes and 2,182,006 edges...\n",
      "Completed OSM data download and Pandana node and edge table creation in 1,838.48 seconds\n",
      "checking for low connectivity nodes...\n",
      "1,965 out of 774,016 nodes (0.25 percent of total) were identified as having low connectivity and have been removed.\n",
      "Completed OSM data download and graph node and edge table creation in 2,120.89 seconds\n"
     ]
    }
   ],
   "source": [
    "# create OSM network\n",
    "nodes, edges = ua.osm.load.ua_network_from_bbox(bbox=bbox,\n",
    "                                                remove_lcn=True)\n"
   ]
  },
  {
   "cell_type": "code",
   "execution_count": 15,
   "metadata": {},
   "outputs": [
    {
     "name": "stdout",
     "output_type": "stream",
     "text": [
      "Created OSM network with travel time impedance using a travel speed of 3 MPH. Took 0.44 seconds\n"
     ]
    },
    {
     "data": {
      "text/plain": [
       "<urbanaccess.network.urbanaccess_network at 0x7fe47db53d90>"
      ]
     },
     "execution_count": 15,
     "metadata": {},
     "output_type": "execute_result"
    }
   ],
   "source": [
    "#Create a pedestrian network\n",
    "urbanaccess_net = ua.network.ua_network\n",
    "ua.osm.network.create_osm_net(osm_edges=edges,\n",
    "                              osm_nodes=nodes,\n",
    "                              travel_speed_mph=3)"
   ]
  },
  {
   "cell_type": "code",
   "execution_count": 16,
   "metadata": {},
   "outputs": [
    {
     "name": "stdout",
     "output_type": "stream",
     "text": [
      "Loaded UrbanAccess network components comprised of:\n",
      "     Transit: 18,618 nodes and 285,140 edges;\n",
      "     OSM: 772,051 nodes and 2,178,060 edges\n",
      "Connector edges between the OSM and transit network nodes successfully completed. Took 9.40 seconds\n",
      "Fixed unicode error in name column\n",
      "Edge and node tables formatted for Pandana with integer node ids: id_int, to_int, and from_int. Took 32.57 seconds\n",
      "Network edge and node network integration completed successfully resulting in a total of 790,669 nodes and 2,500,436 edges:\n",
      "     Transit: 18,618 nodes 285,140 edges;\n",
      "     OSM: 772,051 nodes 2,178,060 edges; and\n",
      "     OSM/Transit connector: 37,236 edges.\n"
     ]
    },
    {
     "data": {
      "text/plain": [
       "<urbanaccess.network.urbanaccess_network at 0x7fe47db53d90>"
      ]
     },
     "execution_count": 16,
     "metadata": {},
     "output_type": "execute_result"
    }
   ],
   "source": [
    "# integrate transit and ped\n",
    "\n",
    "\n",
    "ua.network.integrate_network(urbanaccess_network=urbanaccess_net,\n",
    "                             headways=False)"
   ]
  },
  {
   "cell_type": "code",
   "execution_count": 68,
   "metadata": {},
   "outputs": [],
   "source": [
    "urbanaccess_net.net_nodes.location_type.replace(' ',0,inplace = True)\n",
    "urbanaccess_net.net_nodes.location_type.fillna(0,inplace = True)"
   ]
  },
  {
   "cell_type": "code",
   "execution_count": 72,
   "metadata": {},
   "outputs": [],
   "source": [
    "urbanaccess_net.net_nodes.zone_id.replace(' ',0,inplace = True)\n",
    "urbanaccess_net.net_nodes.zone_id.fillna(0,inplace = True)\n",
    "urbanaccess_net.net_nodes.zone_id = urbanaccess_net.net_nodes.zone_id.astype(str)"
   ]
  },
  {
   "cell_type": "code",
   "execution_count": 79,
   "metadata": {},
   "outputs": [],
   "source": [
    "store = pd.HDFStore('transit_net_bay_area.h5')\n",
    "store.close()\n",
    "\n",
    "urbanaccess_net.net_edges.to_hdf('transit_net_bay_area.h5', key='edges', mode='a', format='table')\n",
    "urbanaccess_net.net_nodes.to_hdf('transit_net_bay_area.h5', key='nodes',mode='a', format='table')\n"
   ]
  },
  {
   "cell_type": "code",
   "execution_count": 100,
   "metadata": {},
   "outputs": [],
   "source": [
    "# use with census\n",
    "parcels = pd.read_csv('/home/data/fall_2018/parcel_attr.csv')\n"
   ]
  },
  {
   "cell_type": "code",
   "execution_count": 101,
   "metadata": {},
   "outputs": [
    {
     "name": "stdout",
     "output_type": "stream",
     "text": [
      "Total number of subset parcels: 1,945,762\n"
     ]
    }
   ],
   "source": [
    "lng_max, lat_min, lng_min, lat_max = bbox\n",
    "outside_bbox = parcels.loc[~(((lng_max < parcels[\"x\"]) & (parcels[\"x\"] < lng_min)) & ((lat_min < parcels[\"y\"]) & (parcels[\"y\"] < lat_max)))]\n",
    "parcels_subset = parcels.drop(outside_bbox.index)\n",
    "print 'Total number of subset parcels: {:,}'.format(len(parcels_subset))"
   ]
  },
  {
   "cell_type": "code",
   "execution_count": 102,
   "metadata": {},
   "outputs": [
    {
     "name": "stdout",
     "output_type": "stream",
     "text": [
      "Took 15.28 seconds\n"
     ]
    }
   ],
   "source": [
    "s_time = time.time()\n",
    "transit_ped_net = pdna.Network(urbanaccess_net.net_nodes[\"x\"],\n",
    "                               urbanaccess_net.net_nodes[\"y\"],\n",
    "                               urbanaccess_net.net_edges[\"from_int\"],\n",
    "                               urbanaccess_net.net_edges[\"to_int\"],\n",
    "                               urbanaccess_net.net_edges[[\"weight\"]], \n",
    "                               twoway=False)\n",
    "print('Took {:,.2f} seconds'.format(time.time() - s_time))"
   ]
  },
  {
   "cell_type": "code",
   "execution_count": 103,
   "metadata": {},
   "outputs": [],
   "source": [
    "parcels_subset['net_node_id'] = transit_ped_net.get_node_ids(parcels_subset['x'], parcels_subset['y'])"
   ]
  },
  {
   "cell_type": "code",
   "execution_count": 104,
   "metadata": {},
   "outputs": [],
   "source": [
    "# join jobs onto parcels_subset\n",
    "jobs_by_parcel = pd.concat([pd.read_csv('/home/data/fall_2018/buildings_v2.csv').set_index('building_id'),\n",
    "jobs.groupby('building_id').size().rename('jobs')],axis = 1).groupby('parcel_id')['jobs'].sum()"
   ]
  },
  {
   "cell_type": "code",
   "execution_count": 105,
   "metadata": {},
   "outputs": [],
   "source": [
    "parcels_subset = parcels_subset.merge(jobs_by_parcel.to_frame(),how = 'left', left_on = parcels_subset.index, right_on = 'parcel_id')\n",
    "parcels_subset['jobs'].fillna(0, inplace = True)"
   ]
  },
  {
   "cell_type": "code",
   "execution_count": 106,
   "metadata": {},
   "outputs": [],
   "source": [
    "transit_ped_net.set(parcels_subset.net_node_id, variable = parcels_subset.jobs, name='jobs')"
   ]
  },
  {
   "cell_type": "code",
   "execution_count": null,
   "metadata": {},
   "outputs": [],
   "source": []
  },
  {
   "cell_type": "code",
   "execution_count": 80,
   "metadata": {},
   "outputs": [],
   "source": [
    "jobs_45 = transit_ped_net.aggregate(45, type='sum', decay='linear', name='jobs')\n",
    "jobs_30 = transit_ped_net.aggregate(30, type='sum', decay='linear', name='jobs')\n",
    "jobs_15 = transit_ped_net.aggregate(15, type='sum', decay='linear', name='jobs')"
   ]
  },
  {
   "cell_type": "code",
   "execution_count": 110,
   "metadata": {},
   "outputs": [],
   "source": [
    "jobs_45 = jobs_45.to_frame().rename('jobs_45')\n",
    "jobs_30 = jobs_30.to_frame().rename('jobs_30')\n",
    "jobs_15 = jobs_15.to_frame().rename('jobs_15')"
   ]
  },
  {
   "cell_type": "code",
   "execution_count": 112,
   "metadata": {},
   "outputs": [],
   "source": [
    "parcels_subset = parcels_subset.merge(jobs_45, on = 'net_node_id', how = 'left').merge(\n",
    "jobs_30, left_on = 'net_node_id', right_index = True, how = 'left').merge(\n",
    "jobs_15, left_on = 'net_node_id', right_index = True, how = 'left')"
   ]
  },
  {
   "cell_type": "code",
   "execution_count": 90,
   "metadata": {},
   "outputs": [],
   "source": [
    "# Export\n",
    "jobs_45.to_csv('/home/jayne/ual_model_workspace/fall-2018-models/notebooks-jayne/Py27/jobs_45.csv',index = False)\n",
    "jobs_30.to_csv('/home/jayne/ual_model_workspace/fall-2018-models/notebooks-jayne/Py27/jobs_30.csv',index = False)\n",
    "jobs_15.to_csv('/home/jayne/ual_model_workspace/fall-2018-models/notebooks-jayne/Py27/jobs_15.csv', index = False)"
   ]
  },
  {
   "cell_type": "code",
   "execution_count": 113,
   "metadata": {},
   "outputs": [],
   "source": [
    "parcels_subset.to_csv('/home/jayne/ual_model_workspace/fall-2018-models/notebooks-jayne/Py27/parcels_w_trn_acc.csv',index = False)"
   ]
  },
  {
   "cell_type": "code",
   "execution_count": null,
   "metadata": {},
   "outputs": [],
   "source": []
  }
 ],
 "metadata": {
  "kernelspec": {
   "display_name": "Python 2",
   "language": "python",
   "name": "python2"
  },
  "language_info": {
   "codemirror_mode": {
    "name": "ipython",
    "version": 2
   },
   "file_extension": ".py",
   "mimetype": "text/x-python",
   "name": "python",
   "nbconvert_exporter": "python",
   "pygments_lexer": "ipython2",
   "version": "2.7.15"
  }
 },
 "nbformat": 4,
 "nbformat_minor": 2
}
