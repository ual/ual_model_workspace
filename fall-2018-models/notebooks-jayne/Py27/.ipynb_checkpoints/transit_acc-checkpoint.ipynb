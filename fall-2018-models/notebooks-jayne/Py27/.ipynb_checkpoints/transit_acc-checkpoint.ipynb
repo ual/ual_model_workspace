{
 "cells": [
  {
   "cell_type": "markdown",
   "metadata": {},
   "source": [
    "# UrbanAccess transit accessiblity calculation for auto ownership model\n",
    "\n",
    "This notebook only works in Python 2.7 and is meant to generate a table of transit accessiblity indicators for Bay Area parcels to be used in the auto ownership model."
   ]
  },
  {
   "cell_type": "code",
   "execution_count": 1,
   "metadata": {},
   "outputs": [],
   "source": [
    "import pandas as pd\n",
    "import pandana as pdna\n",
    "import time\n",
    "\n",
    "import urbanaccess as ua\n",
    "from urbanaccess.config import settings\n",
    "from urbanaccess.gtfsfeeds import feeds\n",
    "from urbanaccess import gtfsfeeds\n",
    "from urbanaccess.gtfs.gtfsfeeds_dataframe import gtfsfeeds_dfs\n",
    "from urbanaccess.network import ua_network, load_network\n",
    "\n",
    "%matplotlib inline"
   ]
  },
  {
   "cell_type": "code",
   "execution_count": 3,
   "metadata": {},
   "outputs": [
    {
     "name": "stdout",
     "output_type": "stream",
     "text": [
      "Note: Your use of a GTFS feed is governed by each GTFS feed author license terms. It is suggested you read the respective license terms for the appropriate use of a GTFS feed.\n",
      "Warning: The GTFSDataExchange is no longer being maintained as of Summer 2016. Data accessed here may be out of date.\n",
      "Found 1 records that matched ['Bay Area Rapid Transit'] inside ['name', 'url', 'dataexchange_id', 'feed_baseurl'] columns:\n",
      "Added 1 feeds to gtfs_feeds: {'Bay Area Rapid Transit': 'http://www.gtfs-data-exchange.com/agency/bay-area-rapid-transit/latest.zip'}\n",
      "Added 1 records to gtfs_feed list:\n",
      "Note: Your use of a GTFS feed is governed by each GTFS feed author license terms. It is suggested you read the respective license terms for the appropriate use of a GTFS feed.\n",
      "Warning: The GTFSDataExchange is no longer being maintained as of Summer 2016. Data accessed here may be out of date.\n",
      "Found 1 records that matched ['AC transit'] inside ['name', 'url', 'dataexchange_id', 'feed_baseurl'] columns:\n",
      "Added 1 feeds to gtfs_feeds: {'AC Transit': 'http://www.gtfs-data-exchange.com/agency/ac-transit/latest.zip'}\n",
      "Added 1 records to gtfs_feed list:\n",
      "Note: Your use of a GTFS feed is governed by each GTFS feed author license terms. It is suggested you read the respective license terms for the appropriate use of a GTFS feed.\n",
      "Warning: The GTFSDataExchange is no longer being maintained as of Summer 2016. Data accessed here may be out of date.\n",
      "Found 0 records that matched ['Altamount Commuter Express'] inside ['name', 'url', 'dataexchange_id', 'feed_baseurl'] columns:\n",
      "Note: Your use of a GTFS feed is governed by each GTFS feed author license terms. It is suggested you read the respective license terms for the appropriate use of a GTFS feed.\n",
      "Warning: The GTFSDataExchange is no longer being maintained as of Summer 2016. Data accessed here may be out of date.\n",
      "Found 3 records that matched ['Caltrain'] inside ['name', 'url', 'dataexchange_id', 'feed_baseurl'] columns:\n",
      "Added 3 feeds to gtfs_feeds: {'Caltrain': 'http://www.gtfs-data-exchange.com/agency/caltrain/latest.zip', 'Caltrain Commuter Shuttle (call for pick-up)': 'http://www.gtfs-data-exchange.com/agency/caltrain-commuter-shuttle-call-for-pick-up/latest.zip', 'Caltrain Shuttles': 'http://www.gtfs-data-exchange.com/agency/caltrain-shuttles/latest.zip'}\n",
      "Added 3 records to gtfs_feed list:\n",
      "Note: Your use of a GTFS feed is governed by each GTFS feed author license terms. It is suggested you read the respective license terms for the appropriate use of a GTFS feed.\n",
      "Warning: The GTFSDataExchange is no longer being maintained as of Summer 2016. Data accessed here may be out of date.\n",
      "Found 1 records that matched ['County Connection'] inside ['name', 'url', 'dataexchange_id', 'feed_baseurl'] columns:\n",
      "Added 1 feeds to gtfs_feeds: {'County Connection': 'http://www.gtfs-data-exchange.com/agency/county-connection/latest.zip'}\n",
      "Added 1 records to gtfs_feed list:\n",
      "Note: Your use of a GTFS feed is governed by each GTFS feed author license terms. It is suggested you read the respective license terms for the appropriate use of a GTFS feed.\n",
      "Warning: The GTFSDataExchange is no longer being maintained as of Summer 2016. Data accessed here may be out of date.\n",
      "Found 6 records that matched ['FAST'] inside ['name', 'url', 'dataexchange_id', 'feed_baseurl'] columns:\n",
      "Added 6 feeds to gtfs_feeds: {'New England Fast Ferry': 'http://www.gtfs-data-exchange.com/agency/new-england-fast-ferry/latest.zip', 'T.Paulavi\\xc4\\x8dien\\xc4\\x97s \\xc4\\xafmon\\xc4\\x97': 'http://www.gtfs-data-exchange.com/agency/tpaulaviiens-mon/latest.zip', 'Centvalis': 'http://www.gtfs-data-exchange.com/agency/centvalis/latest.zip', 'Leilandas': 'http://www.gtfs-data-exchange.com/agency/leilandas/latest.zip', 'FASTCOM GROUP - VESUVIANA': 'http://www.gtfs-data-exchange.com/agency/fastcom-group-vesuviana/latest.zip', 'Fairfield and Suisun Transit': 'http://www.gtfs-data-exchange.com/agency/fairfield-and-suisun-transit/latest.zip'}\n",
      "Added 6 records to gtfs_feed list:\n",
      "Note: Your use of a GTFS feed is governed by each GTFS feed author license terms. It is suggested you read the respective license terms for the appropriate use of a GTFS feed.\n",
      "Warning: The GTFSDataExchange is no longer being maintained as of Summer 2016. Data accessed here may be out of date.\n",
      "Found 1 records that matched ['Golden Gate Transit'] inside ['name', 'url', 'dataexchange_id', 'feed_baseurl'] columns:\n",
      "Added 1 feeds to gtfs_feeds: {'Golden Gate Transit': 'http://www.gtfs-data-exchange.com/agency/golden-gate-transit/latest.zip'}\n",
      "Added 1 records to gtfs_feed list:\n",
      "Note: Your use of a GTFS feed is governed by each GTFS feed author license terms. It is suggested you read the respective license terms for the appropriate use of a GTFS feed.\n",
      "Warning: The GTFSDataExchange is no longer being maintained as of Summer 2016. Data accessed here may be out of date.\n",
      "Found 0 records that matched ['Napa VINE'] inside ['name', 'url', 'dataexchange_id', 'feed_baseurl'] columns:\n",
      "Note: Your use of a GTFS feed is governed by each GTFS feed author license terms. It is suggested you read the respective license terms for the appropriate use of a GTFS feed.\n",
      "Warning: The GTFSDataExchange is no longer being maintained as of Summer 2016. Data accessed here may be out of date.\n",
      "Found 0 records that matched ['Petaluma Transit'] inside ['name', 'url', 'dataexchange_id', 'feed_baseurl'] columns:\n",
      "Note: Your use of a GTFS feed is governed by each GTFS feed author license terms. It is suggested you read the respective license terms for the appropriate use of a GTFS feed.\n",
      "Warning: The GTFSDataExchange is no longer being maintained as of Summer 2016. Data accessed here may be out of date.\n",
      "Found 1 records that matched ['SFMTA'] inside ['name', 'url', 'dataexchange_id', 'feed_baseurl'] columns:\n",
      "Added 1 feeds to gtfs_feeds: {'San Francisco Municipal Transportation Agency': 'http://www.gtfs-data-exchange.com/agency/san-francisco-municipal-transportation-agency/latest.zip'}\n",
      "Added 1 records to gtfs_feed list:\n",
      "Note: Your use of a GTFS feed is governed by each GTFS feed author license terms. It is suggested you read the respective license terms for the appropriate use of a GTFS feed.\n",
      "Warning: The GTFSDataExchange is no longer being maintained as of Summer 2016. Data accessed here may be out of date.\n",
      "Found 1 records that matched ['SamTrans'] inside ['name', 'url', 'dataexchange_id', 'feed_baseurl'] columns:\n",
      "Added 1 feeds to gtfs_feeds: {'SamTrans': 'http://www.gtfs-data-exchange.com/agency/samtrans/latest.zip'}\n",
      "Added 1 records to gtfs_feed list:\n",
      "Note: Your use of a GTFS feed is governed by each GTFS feed author license terms. It is suggested you read the respective license terms for the appropriate use of a GTFS feed.\n",
      "Warning: The GTFSDataExchange is no longer being maintained as of Summer 2016. Data accessed here may be out of date.\n",
      "Found 5 records that matched ['VTA'] inside ['name', 'url', 'dataexchange_id', 'feed_baseurl'] columns:\n",
      "Added 5 feeds to gtfs_feeds: {'MVTA': 'http://www.gtfs-data-exchange.com/agency/mvta/latest.zip', 'VTA': 'http://www.gtfs-data-exchange.com/agency/vta/latest.zip', 'Minnesota Valley': 'http://www.gtfs-data-exchange.com/agency/minnesota-valley/latest.zip', 'Palo Verde Valley Transit Agency': 'http://www.gtfs-data-exchange.com/agency/palo-verde-valley-transit-agency/latest.zip', 'PVTA': 'http://www.gtfs-data-exchange.com/agency/pvta/latest.zip'}\n",
      "Added 5 records to gtfs_feed list:\n",
      "Note: Your use of a GTFS feed is governed by each GTFS feed author license terms. It is suggested you read the respective license terms for the appropriate use of a GTFS feed.\n",
      "Warning: The GTFSDataExchange is no longer being maintained as of Summer 2016. Data accessed here may be out of date.\n",
      "Found 1 records that matched ['Soltrans'] inside ['name', 'url', 'dataexchange_id', 'feed_baseurl'] columns:\n",
      "Added 1 feeds to gtfs_feeds: {'SolTrans': 'http://www.gtfs-data-exchange.com/agency/soltrans/latest.zip'}\n",
      "Added 1 records to gtfs_feed list:\n",
      "Note: Your use of a GTFS feed is governed by each GTFS feed author license terms. It is suggested you read the respective license terms for the appropriate use of a GTFS feed.\n",
      "Warning: The GTFSDataExchange is no longer being maintained as of Summer 2016. Data accessed here may be out of date.\n"
     ]
    },
    {
     "name": "stdout",
     "output_type": "stream",
     "text": [
      "Found 0 records that matched ['WestCAT'] inside ['name', 'url', 'dataexchange_id', 'feed_baseurl'] columns:\n",
      "Note: Your use of a GTFS feed is governed by each GTFS feed author license terms. It is suggested you read the respective license terms for the appropriate use of a GTFS feed.\n",
      "Warning: The GTFSDataExchange is no longer being maintained as of Summer 2016. Data accessed here may be out of date.\n",
      "Found 1 records that matched ['Sonoma County Transit'] inside ['name', 'url', 'dataexchange_id', 'feed_baseurl'] columns:\n",
      "Added 1 feeds to gtfs_feeds: {'Sonoma County Transit': 'http://www.gtfs-data-exchange.com/agency/sonoma-county-transit/latest.zip'}\n",
      "Added 1 records to gtfs_feed list:\n",
      "Note: Your use of a GTFS feed is governed by each GTFS feed author license terms. It is suggested you read the respective license terms for the appropriate use of a GTFS feed.\n",
      "Warning: The GTFSDataExchange is no longer being maintained as of Summer 2016. Data accessed here may be out of date.\n",
      "Found 3 records that matched ['SMART'] inside ['name', 'url', 'dataexchange_id', 'feed_baseurl'] columns:\n",
      "Added 3 feeds to gtfs_feeds: {'South Metro Area Regional Transit': 'http://www.gtfs-data-exchange.com/agency/south-metro-area-regional-transit/latest.zip', 'SMART': 'http://www.gtfs-data-exchange.com/agency/smart/latest.zip', 'Metropolitan Atlanta Rapid Transit Authority': 'http://www.gtfs-data-exchange.com/agency/metropolitan-atlanta-rapid-transit-authority/latest.zip'}\n",
      "Added 3 records to gtfs_feed list:\n"
     ]
    }
   ],
   "source": [
    "agencies = ['Bay Area Rapid Transit','AC transit','Altamount Commuter Express','Caltrain','County Connection',\n",
    "           'FAST','Golden Gate Transit','Napa VINE','Petaluma Transit','SFMTA','SamTrans','VTA','Soltrans',\n",
    "           'WestCAT','Sonoma County Transit','SMART']\n",
    "for agency in agencies:\n",
    "    gtfsfeeds.search(search_text=agency,\n",
    "                 search_field=None,\n",
    "                 match='contains',\n",
    "                 add_feed=True)"
   ]
  },
  {
   "cell_type": "code",
   "execution_count": null,
   "metadata": {},
   "outputs": [],
   "source": [
    "gtfsfeeds.download()"
   ]
  },
  {
   "cell_type": "code",
   "execution_count": null,
   "metadata": {},
   "outputs": [],
   "source": [
    "validation = True\n",
    "verbose = True\n",
    "# bbox for the Bay Area\n",
    "bbox = (-123.024607,36.894196,-121.207972,38.863927)\n",
    "remove_stops_outsidebbox = True\n",
    "append_definitions = True\n",
    "\n",
    "loaded_feeds = ua.gtfs.load.gtfsfeed_to_df(gtfsfeed_path=None,\n",
    "                                           validation=validation,\n",
    "                                           verbose=verbose,\n",
    "                                           bbox=bbox,\n",
    "                                           remove_stops_outsidebbox=remove_stops_outsidebbox,\n",
    "                                           append_definitions=append_definitions)"
   ]
  },
  {
   "cell_type": "code",
   "execution_count": null,
   "metadata": {},
   "outputs": [],
   "source": [
    "# create transit network\n",
    "ua.gtfs.network.create_transit_net(gtfsfeeds_dfs=loaded_feeds,\n",
    "                                   day='monday',\n",
    "                                   timerange=['07:00:00', '10:00:00'],\n",
    "                                   calendar_dates_lookup=None)\n"
   ]
  },
  {
   "cell_type": "code",
   "execution_count": null,
   "metadata": {},
   "outputs": [],
   "source": [
    "# create OSM network\n",
    "nodes, edges = ua.osm.load.ua_network_from_bbox(bbox=bbox,\n",
    "                                                remove_lcn=True)\n"
   ]
  },
  {
   "cell_type": "code",
   "execution_count": null,
   "metadata": {},
   "outputs": [],
   "source": [
    "# integrate transit and ped\n",
    "ua.network.integrate_network(urbanaccess_network=urbanaccess_net,\n",
    "                             headways=False)"
   ]
  },
  {
   "cell_type": "code",
   "execution_count": null,
   "metadata": {},
   "outputs": [],
   "source": [
    "ua.network.save_network(urbanaccess_network=urbanaccess_net,\n",
    "                        filename='transit_net_bay_area.h5',\n",
    "                        overwrite_key = True)"
   ]
  },
  {
   "cell_type": "code",
   "execution_count": null,
   "metadata": {},
   "outputs": [],
   "source": [
    "# use with census\n",
    "blocks = pd.read_hdf('bay_area_demo_data.h5','blocks')\n",
    "# remove blocks that contain all water\n",
    "blocks = blocks[blocks['square_meters_land'] != 0]\n",
    "print 'Total number of blocks: {:,}'.format(len(blocks))\n"
   ]
  },
  {
   "cell_type": "code",
   "execution_count": null,
   "metadata": {},
   "outputs": [],
   "source": [
    "lng_max, lat_min, lng_min, lat_max = bbox\n",
    "outside_bbox = blocks.loc[~(((lng_max < blocks[\"x\"]) & (blocks[\"x\"] < lng_min)) & ((lat_min < blocks[\"y\"]) & (blocks[\"y\"] < lat_max)))]\n",
    "blocks_subset = blocks.drop(outside_bbox.index)\n",
    "print 'Total number of subset blocks: {:,}'.format(len(blocks_subset))"
   ]
  },
  {
   "cell_type": "code",
   "execution_count": null,
   "metadata": {},
   "outputs": [],
   "source": [
    "s_time = time.time()\n",
    "transit_ped_net = pdna.Network(urbanaccess_net.net_nodes[\"x\"],\n",
    "                               urbanaccess_net.net_nodes[\"y\"],\n",
    "                               urbanaccess_net.net_edges[\"from_int\"],\n",
    "                               urbanaccess_net.net_edges[\"to_int\"],\n",
    "                               urbanaccess_net.net_edges[[\"weight\"]], \n",
    "                               twoway=False)\n",
    "print('Took {:,.2f} seconds'.format(time.time() - s_time))"
   ]
  },
  {
   "cell_type": "code",
   "execution_count": null,
   "metadata": {},
   "outputs": [],
   "source": [
    "blocks_subset['node_id'] = transit_ped_net.get_node_ids(blocks_subset['x'], blocks_subset['y'])"
   ]
  },
  {
   "cell_type": "code",
   "execution_count": null,
   "metadata": {},
   "outputs": [],
   "source": [
    "transit_ped_net.set(blocks_subset.node_id, variable = blocks_subset.jobs, name='jobs')"
   ]
  },
  {
   "cell_type": "code",
   "execution_count": null,
   "metadata": {},
   "outputs": [],
   "source": [
    "jobs_45 = transit_ped_net.aggregate(45, type='sum', decay='linear', name='jobs')\n",
    "jobs_30 = transit_ped_net.aggregate(30, type='sum', decay='linear', name='jobs')\n",
    "jobs_15 = transit_ped_net.aggregate(15, type='sum', decay='linear', name='jobs')"
   ]
  },
  {
   "cell_type": "code",
   "execution_count": null,
   "metadata": {},
   "outputs": [],
   "source": [
    "# How to export?"
   ]
  }
 ],
 "metadata": {
  "kernelspec": {
   "display_name": "Python 2",
   "language": "python",
   "name": "python2"
  },
  "language_info": {
   "codemirror_mode": {
    "name": "ipython",
    "version": 2
   },
   "file_extension": ".py",
   "mimetype": "text/x-python",
   "name": "python",
   "nbconvert_exporter": "python",
   "pygments_lexer": "ipython2",
   "version": "2.7.15"
  }
 },
 "nbformat": 4,
 "nbformat_minor": 2
}
