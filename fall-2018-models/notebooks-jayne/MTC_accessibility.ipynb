{
 "cells": [
  {
   "cell_type": "markdown",
   "metadata": {},
   "source": [
    "End goal:\n",
    "accessibility table by MTC zone\n",
    "by mode, 15 / 30 / 45 min\n",
    "\n",
    "Process:\n",
    "    1. MTC TAZ shapefile\n",
    "    2. Load skims\n",
    "    3. Get number of jobs within each zone\n",
    "    4. For each zone, perform accessibility calculations by mode and time limit"
   ]
  },
  {
   "cell_type": "code",
   "execution_count": 81,
   "metadata": {},
   "outputs": [],
   "source": [
    "import os; os.chdir('..')\n",
    "import pandas as pd\n",
    "import numpy as np\n",
    "import orca\n",
    "from scripts import datasources, models, variables\n",
    "\n",
    "import pyproj as proj\n",
    "from shapely.geometry import Point\n",
    "from shapely import geometry\n",
    "import geopandas as gpd\n"
   ]
  },
  {
   "cell_type": "code",
   "execution_count": 5,
   "metadata": {},
   "outputs": [
    {
     "name": "stdout",
     "output_type": "stream",
     "text": [
      "Running step 'initialize_network_small'\n",
      "Time to execute step 'initialize_network_small': 0.00 s\n",
      "Running step 'initialize_network_walk'\n",
      "Time to execute step 'initialize_network_walk': 0.00 s\n",
      "Total time to execute iteration 1 with iteration value None: 0.00 s\n"
     ]
    }
   ],
   "source": [
    "@orca.table(cache=False)\n",
    "def nodessmall():\n",
    "    df = pd.read_csv('/home/data/2018-07/nodessmall_vars.csv')\n",
    "    df.rename(columns = {'osmid':'node_id_small'}, inplace = True)\n",
    "    df.set_index('node_id_small',inplace = True)\n",
    "    return df\n",
    "\n",
    "@orca.table(cache=False)\n",
    "def nodeswalk():\n",
    "    df = pd.read_csv('/home/data/2018-07/nodeswalk_vars.csv')\n",
    "    df.rename(columns = {'osmid':'node_id_walk'}, inplace = True)\n",
    "    df.set_index('node_id_walk',inplace = True)\n",
    "    return df\n",
    "\n",
    "#initialization only\n",
    "orca.run(['initialize_network_small','initialize_network_walk'])"
   ]
  },
  {
   "cell_type": "code",
   "execution_count": 63,
   "metadata": {},
   "outputs": [],
   "source": [
    "df['job_count'] = df.groupby('node_id').transform('count')['job_id']\n",
    "df = df[['node_id','x','y','job_count']].drop_duplicates('node_id')"
   ]
  },
  {
   "cell_type": "code",
   "execution_count": null,
   "metadata": {
    "scrolled": true
   },
   "outputs": [],
   "source": [
    "df = orca.merge_tables(target = 'jobs',tables = ['jobs','buildings','parcels'])\n",
    "print(len(df))\n",
    "df = df.reset_index()[['job_id','node_id','x','y']]\n",
    "df['job_count'] = df.groupby('node_id').transform('count')['job_id']\n",
    "df = df[['node_id','x','y','job_count']].drop_duplicates('node_id')"
   ]
  },
  {
   "cell_type": "code",
   "execution_count": 66,
   "metadata": {},
   "outputs": [],
   "source": [
    "TAZ = gpd.read_file('/home/jayne/ual_model_workspace/fall-2018-models/notebooks-jayne/mtc_TAZ/Transportation_Analysis_Zones.shp')\n",
    "\n",
    "\n",
    "from geopandas import GeoDataFrame\n",
    "from shapely.geometry import Point\n",
    "\n",
    "geometry = [Point(xy) for xy in zip(df.x, df.y)]\n",
    "df = df.drop(['x', 'y'], axis=1)\n",
    "crs = {'init': 'epsg:4326'}\n",
    "parcel_gdf = GeoDataFrame(df, crs=crs, geometry=geometry)\n"
   ]
  },
  {
   "cell_type": "code",
   "execution_count": 67,
   "metadata": {},
   "outputs": [],
   "source": [
    "parcel_with_TAZ = gpd.sjoin(parcel_gdf, TAZ, how=\"left\", op='within')\n",
    "TAZ_jobs = parcel_with_TAZ.groupby('taz1454').sum()['job_count'].reset_index()"
   ]
  },
  {
   "cell_type": "code",
   "execution_count": null,
   "metadata": {},
   "outputs": [],
   "source": [
    "skim = pd.read_csv('/home/data/fall_2018/mtc_skims/TimeSkimsDatabaseMD.csv')\n",
    "skim.replace(-999,999,inplace = True) # negative impedance to positive impedance"
   ]
  },
  {
   "cell_type": "code",
   "execution_count": 41,
   "metadata": {},
   "outputs": [],
   "source": [
    "def jobs_by_mode(orig_zone, mode, tt_limit):\n",
    "    travel_times = skim[skim.orig == orig_zone][[mode,'dest']]\n",
    "    return travel_times.query(f'{mode}<={tt_limit}').merge(TAZ_jobs,\n",
    "            how = 'left', left_on = 'dest',right_on = 'taz1454').job_count.sum()"
   ]
  },
  {
   "cell_type": "code",
   "execution_count": 76,
   "metadata": {},
   "outputs": [],
   "source": [
    "modes = ['da','walk','bike','wTrnW']\n",
    "for mode in modes:\n",
    "    for tt_limit in [15,30,45]:\n",
    "        TAZ_jobs[f'{mode}_{tt_limit}'] = TAZ_jobs.apply(lambda row: jobs_by_mode(row.taz1454, mode, tt_limit), axis = 1)"
   ]
  },
  {
   "cell_type": "code",
   "execution_count": 78,
   "metadata": {},
   "outputs": [],
   "source": [
    "TAZ_jobs.to_csv('/home/jayne/ual_model_workspace/fall-2018-models/data/MTC_TAZ_accessibility.csv',index = False)"
   ]
  },
  {
   "cell_type": "code",
   "execution_count": null,
   "metadata": {},
   "outputs": [],
   "source": []
  }
 ],
 "metadata": {
  "kernelspec": {
   "display_name": "Python 3",
   "language": "python",
   "name": "python3"
  },
  "language_info": {
   "codemirror_mode": {
    "name": "ipython",
    "version": 3
   },
   "file_extension": ".py",
   "mimetype": "text/x-python",
   "name": "python",
   "nbconvert_exporter": "python",
   "pygments_lexer": "ipython3",
   "version": "3.6.6"
  }
 },
 "nbformat": 4,
 "nbformat_minor": 2
}
