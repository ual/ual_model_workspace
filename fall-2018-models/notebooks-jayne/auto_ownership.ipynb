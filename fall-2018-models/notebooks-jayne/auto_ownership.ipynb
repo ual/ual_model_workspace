{
 "cells": [
  {
   "cell_type": "code",
   "execution_count": null,
   "metadata": {},
   "outputs": [],
   "source": [
    "import os; os.chdir('..')\n",
    "import numpy as np, pandas as pd \n",
    "import matplotlib.pyplot as plt\n",
    "import warnings;\n",
    "import glob\n",
    "warnings.simplefilter('ignore')\n",
    "\n",
    "from urbansim_templates import modelmanager as mm\n",
    "from urbansim_templates.models import SmallMultinomialLogitStep\n",
    "import orca\n",
    "import seaborn as sns\n",
    "%matplotlib notebook\n",
    "\n",
    "from scripts import datasources\n",
    "from scripts import models\n",
    "\n"
   ]
  },
  {
   "cell_type": "code",
   "execution_count": null,
   "metadata": {},
   "outputs": [],
   "source": [
    "orca.run(['initialize_network_small', 'network_aggregations_small'])\n",
    "orca.run(['initialize_network_walk','network_aggregations_walk'])\n",
    "orca.list_broadcasts()\n",
    "\n",
    "data_path = '/home/data/'\n",
    "\n",
    "list(glob.iglob(data_path+ '2018-07/mtc_data_platform_format_7-6-18/*'))\n",
    "\n",
    "data_path = '/home/data/'\n",
    "df = pd.read_csv(data_path + '2018-07/mtc_data_platform_format_7-6-18/households_v2.csv')\n",
    "orca.add_table('households', df)\n",
    "\n",
    "m = SmallMultinomialLogitStep()\n",
    "m.choosers = ['households']\n",
    "m.tables = ['households']\n",
    "m.alternatives = ['cars']\n",
    "m.choice_column = 'cars'\n",
    "m.model_expression = 'np.log(income)' # this needs to be an ordereddict\n",
    "m.fit()\n",
    "print(m.summary_table)"
   ]
  }
 ],
 "metadata": {
  "kernelspec": {
   "display_name": "Python 3",
   "language": "python",
   "name": "python3"
  },
  "language_info": {
   "codemirror_mode": {
    "name": "ipython",
    "version": 3
   },
   "file_extension": ".py",
   "mimetype": "text/x-python",
   "name": "python",
   "nbconvert_exporter": "python",
   "pygments_lexer": "ipython3",
   "version": "3.6.6"
  }
 },
 "nbformat": 4,
 "nbformat_minor": 2
}
