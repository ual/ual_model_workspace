{
 "cells": [
  {
   "cell_type": "markdown",
   "metadata": {},
   "source": [
    "# Auto ownership estimation"
   ]
  },
  {
   "cell_type": "code",
   "execution_count": 1,
   "metadata": {},
   "outputs": [],
   "source": [
    "import os; os.chdir('..')\n",
    "import numpy as np, pandas as pd \n",
    "import matplotlib.pyplot as plt\n",
    "import warnings;\n",
    "import glob\n",
    "warnings.simplefilter('ignore')\n",
    "\n",
    "import pyproj as proj\n",
    "from shapely.geometry import MultiPoint\n",
    "from shapely import geometry\n",
    "\n",
    "from collections import OrderedDict\n",
    "from urbansim_templates import modelmanager as mm\n",
    "from urbansim_templates.models import SmallMultinomialLogitStep\n",
    "import orca\n",
    "import seaborn as sns\n",
    "%matplotlib notebook\n",
    "\n",
    "from scripts import datasources, models, variables\n",
    "\n"
   ]
  },
  {
   "cell_type": "code",
   "execution_count": 2,
   "metadata": {},
   "outputs": [
    {
     "name": "stdout",
     "output_type": "stream",
     "text": [
      "Loading model step 'WLCM'\n"
     ]
    }
   ],
   "source": [
    "mm.initialize()"
   ]
  },
  {
   "cell_type": "code",
   "execution_count": 3,
   "metadata": {
    "scrolled": true
   },
   "outputs": [
    {
     "name": "stdout",
     "output_type": "stream",
     "text": [
      "Running step 'initialize_network_small'\n",
      "Time to execute step 'initialize_network_small': 0.00 s\n",
      "Running step 'network_aggregations_small'\n",
      "Computing accessibility variables\n",
      "Computing units_10000\n",
      "Computing units_sf_10000\n",
      "Computing units_mf_10000\n",
      "Computing pop_10000\n",
      "Removed 189769 rows because they contain missing values\n",
      "Computing hh_10000\n",
      "Removed 189769 rows because they contain missing values\n",
      "Computing poor_10000\n",
      "Removed 53114 rows because they contain missing values\n",
      "Computing renters_10000\n",
      "Removed 102597 rows because they contain missing values\n",
      "Computing avg_income_10000\n",
      "Removed 189769 rows because they contain missing values\n",
      "Computing jobs_10000\n",
      "Computing avg_rent_10000\n",
      "Computing pop_white_10000\n",
      "Removed 107372 rows because they contain missing values\n",
      "Computing pop_black_10000\n",
      "Removed 10541 rows because they contain missing values\n",
      "Computing pop_asian_10000\n",
      "Removed 51048 rows because they contain missing values\n",
      "Computing pop_hisp_10000\n",
      "Removed 31685 rows because they contain missing values\n",
      "Computing units_25000\n",
      "Computing units_sf_25000\n",
      "Computing units_mf_25000\n",
      "Computing pop_25000\n",
      "Removed 189769 rows because they contain missing values\n",
      "Computing hh_25000\n",
      "Removed 189769 rows because they contain missing values\n",
      "Computing poor_25000\n",
      "Removed 53114 rows because they contain missing values\n",
      "Computing renters_25000\n",
      "Removed 102597 rows because they contain missing values\n",
      "Computing avg_income_25000\n",
      "Removed 189769 rows because they contain missing values\n",
      "Computing jobs_25000\n",
      "Computing avg_rent_25000\n",
      "Computing pop_white_25000\n",
      "Removed 107372 rows because they contain missing values\n",
      "Computing pop_black_25000\n",
      "Removed 10541 rows because they contain missing values\n",
      "Computing pop_asian_25000\n",
      "Removed 51048 rows because they contain missing values\n",
      "Computing pop_hisp_25000\n",
      "Removed 31685 rows because they contain missing values\n",
      "Computing jobs_10000_retail\n",
      "Computing jobs_25000_retail\n",
      "Computing jobs_10000_fire\n",
      "Computing jobs_25000_fire\n",
      "Computing jobs_10000_tech\n",
      "Computing jobs_25000_tech\n",
      "Computing jobs_10000_serv\n",
      "Computing jobs_25000_serv\n",
      "         units_10000  units_sf_10000  units_mf_10000      pop_10000  \\\n",
      "count   30826.000000    30826.000000    30826.000000   30826.000000   \n",
      "mean   111656.078125    60759.140625    45984.058594  260260.421875   \n",
      "std     87205.929688    37438.925781    46023.648438  188418.093750   \n",
      "min         0.000000        0.000000        0.000000       0.000000   \n",
      "25%     43964.500000    31221.500000    10558.000000  106498.750000   \n",
      "50%     96821.500000    59398.000000    32530.500000  231983.000000   \n",
      "75%    163121.750000    90068.500000    69672.000000  392361.000000   \n",
      "max    406854.000000   147995.000000   205873.000000  838934.000000   \n",
      "\n",
      "            hh_10000     poor_10000  renters_10000  avg_income_10000  \\\n",
      "count   30826.000000   30826.000000   30826.000000      30826.000000   \n",
      "mean    99092.796875   24263.931641   47250.296875     111233.140625   \n",
      "std     78053.578125   22118.812500   47935.484375      30336.044922   \n",
      "min         0.000000       0.000000       0.000000          0.000000   \n",
      "25%     39192.000000    7992.250000   13226.750000      93095.601562   \n",
      "50%     85626.000000   17596.500000   33240.500000     111716.902344   \n",
      "75%    143069.500000   34093.750000   65630.000000     129615.742188   \n",
      "max    370549.000000  100943.000000  225495.000000     265525.000000   \n",
      "\n",
      "         jobs_10000  avg_rent_10000       ...         pop_asian_25000  \\\n",
      "count   30826.00000    30826.000000       ...             30826.00000   \n",
      "mean   118229.84375     2631.133057       ...            294670.71875   \n",
      "std    107967.21875      755.853394       ...            217588.75000   \n",
      "min         0.00000        0.000000       ...                 0.00000   \n",
      "25%     28940.25000     2328.386353       ...             73012.25000   \n",
      "50%     92305.00000     2704.731201       ...            312618.50000   \n",
      "75%    176939.00000     2981.966370       ...            477998.25000   \n",
      "max    428602.00000     5900.000000       ...            693127.00000   \n",
      "\n",
      "       pop_hisp_25000  jobs_10000_retail  jobs_25000_retail  jobs_10000_fire  \\\n",
      "count    30826.000000       30826.000000       30826.000000     30826.000000   \n",
      "mean    183838.812500       15896.663086       55484.597656      8651.133789   \n",
      "std     110234.398438       14089.761719       33833.371094     10032.525391   \n",
      "min          0.000000           0.000000           0.000000         0.000000   \n",
      "25%      88483.750000        4315.250000       21935.500000      2093.000000   \n",
      "50%     181110.000000       13276.000000       61066.000000      5932.500000   \n",
      "75%     298581.500000       21232.750000       87063.000000     10849.000000   \n",
      "max     351718.000000       61048.000000      103905.000000     48870.000000   \n",
      "\n",
      "       jobs_25000_fire  jobs_10000_tech  jobs_25000_tech  jobs_10000_serv  \\\n",
      "count     30826.000000     30826.000000     30826.000000     30826.000000   \n",
      "mean      30371.357422     18315.990234     63948.664062     10135.660156   \n",
      "std       20591.972656     21676.605469     46754.714844     11016.259766   \n",
      "min           0.000000         0.000000         0.000000         0.000000   \n",
      "25%       10932.000000      2208.000000     16480.250000      2744.000000   \n",
      "50%       31111.500000      9142.500000     64656.000000      6776.000000   \n",
      "75%       42118.000000     28645.000000     98837.000000     13249.750000   \n",
      "max       73607.000000    103005.000000    149697.000000     51636.000000   \n",
      "\n",
      "       jobs_25000_serv  \n",
      "count     30826.000000  \n",
      "mean      34162.972656  \n",
      "std       23409.492188  \n",
      "min           0.000000  \n",
      "25%       11541.000000  \n",
      "50%       32524.000000  \n",
      "75%       50603.750000  \n",
      "max       82062.000000  \n",
      "\n",
      "[8 rows x 36 columns]\n",
      "Time to execute step 'network_aggregations_small': 201.93 s\n",
      "Total time to execute iteration 1 with iteration value None: 201.93 s\n"
     ]
    }
   ],
   "source": [
    "orca.run(['initialize_network_small', 'network_aggregations_small'])"
   ]
  },
  {
   "cell_type": "code",
   "execution_count": null,
   "metadata": {
    "scrolled": true
   },
   "outputs": [
    {
     "name": "stdout",
     "output_type": "stream",
     "text": [
      "Running step 'initialize_network_walk'\n",
      "Time to execute step 'initialize_network_walk': 0.00 s\n",
      "Running step 'network_aggregations_walk'\n",
      "Computing accessibility variables\n",
      "Computing units_500_walk\n",
      "Computing sqft_unit_500_walk\n",
      "Computing singles_500_walk\n",
      "Removed 52084 rows because they contain missing values\n",
      "Computing elderly_hh_500_walk\n",
      "Removed 34553 rows because they contain missing values\n",
      "Computing children_500_walk\n",
      "Removed 189769 rows because they contain missing values\n",
      "Computing units_sf_500_walk\n",
      "Computing units_mf_500_walk\n",
      "Computing pop_500_walk\n",
      "Removed 189769 rows because they contain missing values\n",
      "Computing hh_500_walk\n",
      "Removed 189769 rows because they contain missing values\n",
      "Computing poor_500_walk\n",
      "Removed 53114 rows because they contain missing values\n",
      "Computing rich_500_walk\n",
      "Removed 38964 rows because they contain missing values\n",
      "Computing renters_500_walk\n",
      "Removed 102597 rows because they contain missing values\n",
      "Computing avg_income_500_walk\n",
      "Removed 189769 rows because they contain missing values\n",
      "Computing jobs_500_walk\n",
      "Computing avg_rent_500_walk\n",
      "Computing pop_white_500_walk\n",
      "Removed 107372 rows because they contain missing values\n",
      "Computing pop_black_500_walk\n",
      "Removed 10541 rows because they contain missing values\n",
      "Computing pop_asian_500_walk\n",
      "Removed 51048 rows because they contain missing values\n",
      "Computing pop_hisp_500_walk\n",
      "Removed 31685 rows because they contain missing values\n",
      "Computing units_1500_walk\n",
      "Computing sqft_unit_1500_walk\n",
      "Computing singles_1500_walk\n",
      "Removed 52084 rows because they contain missing values\n",
      "Computing elderly_hh_1500_walk\n",
      "Removed 34553 rows because they contain missing values\n",
      "Computing children_1500_walk\n",
      "Removed 189769 rows because they contain missing values\n",
      "Computing units_sf_1500_walk\n",
      "Computing units_mf_1500_walk\n",
      "Computing pop_1500_walk\n",
      "Removed 189769 rows because they contain missing values\n",
      "Computing hh_1500_walk\n",
      "Removed 189769 rows because they contain missing values\n",
      "Computing poor_1500_walk\n",
      "Removed 53114 rows because they contain missing values\n",
      "Computing rich_1500_walk\n"
     ]
    }
   ],
   "source": [
    "# orca.run(['initialize_network_walk','network_aggregations_walk']);"
   ]
  },
  {
   "cell_type": "code",
   "execution_count": 4,
   "metadata": {},
   "outputs": [
    {
     "data": {
      "text/plain": [
       "<orca.orca._SeriesWrapper at 0x7f6dea559f98>"
      ]
     },
     "execution_count": 4,
     "metadata": {},
     "output_type": "execute_result"
    }
   ],
   "source": [
    "cars_alt = orca.get_table('households').to_frame()['cars'].apply(lambda x: 0*(x==0)+ 1*(x==1)+2*(x==2)+3*(x>=3))\n",
    "orca.add_column('households', 'cars_alt', cars_alt)"
   ]
  },
  {
   "cell_type": "code",
   "execution_count": null,
   "metadata": {},
   "outputs": [],
   "source": []
  },
  {
   "cell_type": "code",
   "execution_count": 5,
   "metadata": {},
   "outputs": [
    {
     "data": {
      "text/plain": [
       "<orca.orca._SeriesWrapper at 0x7f6dea53ff28>"
      ]
     },
     "execution_count": 5,
     "metadata": {},
     "output_type": "execute_result"
    }
   ],
   "source": [
    "# income bins\n",
    "income_bins = pd.cut(orca.get_table('households').to_frame().income,\n",
    "      bins = [0,20000,40000,60000,80000,100000,120000,np.inf],\n",
    "      labels = ['2','4','6','8','10','12','12p'],include_lowest = True)\n",
    "income_bin_dummies = pd.get_dummies(income_bins,prefix = 'income')\n",
    "for i in income_bin_dummies.columns:\n",
    "    orca.add_column('households',i,income_bin_dummies[i])\n",
    "\n",
    "# tenure type dummy\n",
    "orca.add_column('households','tenure_1',(orca.get_table('households').to_frame()['tenure']==1).astype(int))\n",
    "orca.add_column('households','tenure_2',(orca.get_table('households').to_frame()['tenure']==2).astype(int))\n",
    "orca.add_column('households','tenure_3',(orca.get_table('households').to_frame()['tenure']==3).astype(int))\n",
    "orca.add_column('households','tenure_4',(orca.get_table('households').to_frame()['tenure']==4).astype(int))\n",
    "\n",
    "# single family as integer\n",
    "orca.add_column('households','single_family_int',(orca.get_table('households').to_frame()['single_family'].astype(int)))\n",
    "\n",
    "# building type dummy\n",
    "orca.add_column('households','building_type_2',(orca.get_table('households').to_frame()['building_type']==2).astype(int))"
   ]
  },
  {
   "cell_type": "code",
   "execution_count": 6,
   "metadata": {},
   "outputs": [],
   "source": [
    "parcels = orca.get_table('parcels').to_frame()"
   ]
  },
  {
   "cell_type": "code",
   "execution_count": 7,
   "metadata": {},
   "outputs": [
    {
     "data": {
      "text/plain": [
       "<orca.orca._SeriesWrapper at 0x7f6dedb70940>"
      ]
     },
     "execution_count": 7,
     "metadata": {},
     "output_type": "execute_result"
    }
   ],
   "source": [
    "# bart station within 1/4 mile:\n",
    "from sklearn.neighbors import BallTree\n",
    "\n",
    "bart = pd.read_csv('./gtfs/stops.txt')[['stop_id','stop_lat','stop_lon']].set_index('stop_id')\n",
    "bart_rad = np.deg2rad(bart[['stop_lat','stop_lon']])\n",
    "parcels_rad = np.deg2rad(parcels[['y','x']])\n",
    "tree = BallTree(bart_rad,metric = 'haversine')\n",
    "dist, ind = tree.query(parcels_rad,k=1)\n",
    "parcel_has_bart = (dist*6371<=0.5).astype(int)\n",
    "orca.add_column('parcels','has_bart',parcel_has_bart)"
   ]
  },
  {
   "cell_type": "code",
   "execution_count": 8,
   "metadata": {},
   "outputs": [],
   "source": [
    "county_dummies = pd.get_dummies(parcels['county_id'].astype(int),prefix='county')\n",
    "for i in county_dummies.columns:\n",
    "    orca.add_column('parcels',i,county_dummies[i])\n"
   ]
  },
  {
   "cell_type": "code",
   "execution_count": null,
   "metadata": {},
   "outputs": [],
   "source": []
  },
  {
   "cell_type": "code",
   "execution_count": 9,
   "metadata": {},
   "outputs": [],
   "source": [
    "@orca.table(cache=True)\n",
    "def hh_merged():\n",
    "    df = orca.merge_tables(target = 'households',tables = ['households','units','buildings','parcels','nodessmall'])\n",
    "    return df"
   ]
  },
  {
   "cell_type": "code",
   "execution_count": 10,
   "metadata": {},
   "outputs": [],
   "source": [
    "m2 = SmallMultinomialLogitStep()\n",
    "m2.name = 'auto_ownership'"
   ]
  },
  {
   "cell_type": "code",
   "execution_count": 11,
   "metadata": {},
   "outputs": [],
   "source": [
    "m2.tables = ['hh_merged']\n",
    "m2.choice_column = 'cars_alt'"
   ]
  },
  {
   "cell_type": "code",
   "execution_count": 17,
   "metadata": {},
   "outputs": [],
   "source": [
    "m2.model_expression = OrderedDict([\n",
    "    ('intercept', [1,2,3]), \n",
    "    ('income_2',[0]),\n",
    "    ('income_4',[0]),\n",
    "    ('income_6',[1]),\n",
    "    ('income_8',[1]),\n",
    "    ('income_10',[1,2,3]),\n",
    "    ('income_12',[1,2,3]),\n",
    "    ('income_12p',[1,2,3]),\n",
    "    ('persons',[1,2,3]),\n",
    "    ('age_of_head',[1,2,3]),\n",
    "    ('workers',[2,3]),\n",
    "    ('children',[1,3]),\n",
    "    ('single_family_int',[1,2,3]),\n",
    "    ('tenure_1',[[1,2,3]]),\n",
    "    ('has_bart',[[1,2,3]]),\n",
    "    ('county_1',[[1,2,3]]),\n",
    "    ('county_75', [[1,2,3]]),\n",
    "    ('units_sf_10000',[1,2,3]),\n",
    "     ('renters_10000',[1,2,3]),\n",
    "    \n",
    "     ])\n"
   ]
  },
  {
   "cell_type": "code",
   "execution_count": 13,
   "metadata": {},
   "outputs": [],
   "source": [
    "chooser_ids = orca.get_table('households').to_frame().sample(15000,random_state = 3).index.values # sample 15000 based on household ID\n",
    "m2.filters = ['household_id in [{0}]'.format(','.join(map(str, chooser_ids)))]"
   ]
  },
  {
   "cell_type": "code",
   "execution_count": 18,
   "metadata": {},
   "outputs": [
    {
     "name": "stdout",
     "output_type": "stream",
     "text": [
      "Log-likelihood at zero: -19,406.7348\n",
      "Initial Log-likelihood: -19,406.7348\n",
      "Estimation Time for Point Estimation: 1.59 seconds.\n",
      "Final log-likelihood: -13,060.9650\n",
      "                     Multinomial Logit Model Regression Results                    \n",
      "===================================================================================\n",
      "Dep. Variable:                     _chosen   No. Observations:               13,999\n",
      "Model:             Multinomial Logit Model   Df Residuals:                   13,960\n",
      "Method:                                MLE   Df Model:                           39\n",
      "Date:                     Fri, 28 Sep 2018   Pseudo R-squ.:                   0.327\n",
      "Time:                             20:31:57   Pseudo R-bar-squ.:               0.325\n",
      "AIC:                            26,199.930   Log-Likelihood:            -13,060.965\n",
      "BIC:                            26,494.253   LL-Null:                   -19,406.735\n",
      "=======================================================================================\n",
      "                          coef    std err          z      P>|z|      [0.025      0.975]\n",
      "---------------------------------------------------------------------------------------\n",
      "intercept_1             3.9850      0.210     18.964      0.000       3.573       4.397\n",
      "intercept_2             1.4809      0.227      6.528      0.000       1.036       1.926\n",
      "intercept_3            -2.2603      0.262     -8.634      0.000      -2.773      -1.747\n",
      "income_2_0              1.7353      0.116     15.018      0.000       1.509       1.962\n",
      "income_4_0              1.0126      0.120      8.424      0.000       0.777       1.248\n",
      "income_6_1             -0.4178      0.074     -5.641      0.000      -0.563      -0.273\n",
      "income_8_1             -0.4973      0.078     -6.389      0.000      -0.650      -0.345\n",
      "income_10_1             0.0044      0.197      0.023      0.982      -0.381       0.390\n",
      "income_10_2             0.8117      0.196      4.151      0.000       0.428       1.195\n",
      "income_10_3             0.9164      0.207      4.435      0.000       0.511       1.321\n",
      "income_12_1             0.3961      0.242      1.635      0.102      -0.079       0.871\n",
      "income_12_2             1.2714      0.243      5.235      0.000       0.795       1.747\n",
      "income_12_3             1.5730      0.251      6.263      0.000       1.081       2.065\n",
      "income_12p_1           -0.3960      0.137     -2.886      0.004      -0.665      -0.127\n",
      "income_12p_2            0.7594      0.131      5.782      0.000       0.502       1.017\n",
      "income_12p_3            1.0947      0.138      7.927      0.000       0.824       1.365\n",
      "persons_1              -0.4155      0.048     -8.673      0.000      -0.509      -0.322\n",
      "persons_2               0.4803      0.042     11.336      0.000       0.397       0.563\n",
      "persons_3               1.2755      0.052     24.720      0.000       1.174       1.377\n",
      "age_of_head_1          -0.0159      0.002     -6.746      0.000      -0.021      -0.011\n",
      "age_of_head_2          -0.0199      0.003     -7.370      0.000      -0.025      -0.015\n",
      "age_of_head_3          -0.0158      0.003     -5.000      0.000      -0.022      -0.010\n",
      "workers_2               0.2672      0.039      6.854      0.000       0.191       0.344\n",
      "workers_3               0.4947      0.045     10.908      0.000       0.406       0.584\n",
      "children_1              0.6408      0.051     12.529      0.000       0.541       0.741\n",
      "children_3             -0.8263      0.044    -18.921      0.000      -0.912      -0.741\n",
      "single_family_int_1     0.3190      0.100      3.201      0.001       0.124       0.514\n",
      "single_family_int_2     1.1489      0.105     10.929      0.000       0.943       1.355\n",
      "single_family_int_3     2.2309      0.126     17.684      0.000       1.984       2.478\n",
      "tenure_1_[1, 2, 3]      1.0140      0.108      9.422      0.000       0.803       1.225\n",
      "has_bart_[1, 2, 3]     -0.4433      0.156     -2.848      0.004      -0.748      -0.138\n",
      "county_1_[1, 2, 3]     -0.1543      0.115     -1.340      0.180      -0.380       0.071\n",
      "county_75_[1, 2, 3]    -0.4146      0.267     -1.551      0.121      -0.938       0.109\n",
      "units_sf_10000_1     4.198e-06   1.82e-06      2.312      0.021    6.39e-07    7.76e-06\n",
      "units_sf_10000_2     8.344e-06   1.93e-06      4.322      0.000    4.56e-06    1.21e-05\n",
      "units_sf_10000_3     7.316e-06   2.14e-06      3.423      0.001    3.13e-06    1.15e-05\n",
      "renters_10000_1     -8.758e-06   1.87e-06     -4.679      0.000   -1.24e-05   -5.09e-06\n",
      "renters_10000_2     -1.866e-05   1.93e-06     -9.648      0.000   -2.25e-05   -1.49e-05\n",
      "renters_10000_3     -2.373e-05   2.09e-06    -11.347      0.000   -2.78e-05   -1.96e-05\n",
      "=======================================================================================\n"
     ]
    }
   ],
   "source": [
    "m2.fit()"
   ]
  },
  {
   "cell_type": "code",
   "execution_count": 19,
   "metadata": {},
   "outputs": [
    {
     "name": "stdout",
     "output_type": "stream",
     "text": [
      "Model saved to configs/auto_ownership.pkl\n",
      "Saving 'auto_ownership.yaml': /home/jayne/ual_model_workspace/fall-2018-models/configs\n",
      "Loading model step 'auto_ownership'\n"
     ]
    }
   ],
   "source": [
    "m2.tags = ['auto','auto ownership','jayne','test']\n",
    "m2.register()"
   ]
  },
  {
   "cell_type": "code",
   "execution_count": 20,
   "metadata": {},
   "outputs": [],
   "source": [
    "# Random forest\n",
    "from sklearn.ensemble import RandomForestClassifier\n",
    "from sklearn.model_selection import cross_val_score\n",
    "clf0 = RandomForestClassifier(n_estimators=100, max_depth=2,\n",
    "                              random_state=0)\n",
    "df = orca.get_table('hh_merged').to_frame().sample(15000,random_state = 2)\n",
    "\n"
   ]
  },
  {
   "cell_type": "code",
   "execution_count": 21,
   "metadata": {},
   "outputs": [
    {
     "data": {
      "image/png": "[encoded data removed]",
      "text/plain": [
       "<Figure size 1440x1440 with 1 Axes>"
      ]
     },
     "metadata": {},
     "output_type": "display_data"
    }
   ],
   "source": [
    "acc_cols = list(orca.get_table('nodessmall').to_frame().columns)\n",
    "X0 = df[acc_cols + ['income','persons','age_of_head','workers','children',\n",
    "         'single_family_int','tenure_1','tenure_2','tenure_3','has_bart','county_1', 'county_13', 'county_41',\n",
    "       'county_55', 'county_75', 'county_81', 'county_85', 'county_95',\n",
    "       'county_97'\n",
    "         \n",
    "        ]]\n",
    "y = df['cars_alt']\n",
    "\n",
    "clf0.fit(X0,y)\n",
    "importances = clf0.feature_importances_\n",
    "indices = np.argsort(importances)[::-1]\n",
    "\n",
    "plt.figure(figsize = (20,20))\n",
    "plt.title(\"Feature importances\")\n",
    "plt.bar(range(X0.shape[1]), importances[indices],\n",
    "       color=\"r\", align=\"center\")\n",
    "plt.xticks(range(X0.shape[1]), X0.columns[indices],rotation = 90)\n",
    "plt.xlim([-1, X0.shape[1]])\n",
    "plt.show()"
   ]
  },
  {
   "cell_type": "code",
   "execution_count": 22,
   "metadata": {},
   "outputs": [
    {
     "data": {
      "text/plain": [
       "array([0.55211943, 0.5483871 , 0.54467858, 0.55028007])"
      ]
     },
     "execution_count": 22,
     "metadata": {},
     "output_type": "execute_result"
    }
   ],
   "source": [
    "X1 = X0[X0.columns[importances>0.01]]\n",
    "cross_val_score(clf0, X1, y, cv=4)"
   ]
  },
  {
   "cell_type": "code",
   "execution_count": 23,
   "metadata": {},
   "outputs": [
    {
     "data": {
      "text/plain": [
       "Index(['units_mf_10000', 'renters_10000', 'units_25000', 'units_mf_25000',\n",
       "       'hh_25000', 'renters_25000', 'jobs_25000', 'jobs_10000_retail',\n",
       "       'jobs_25000_fire', 'jobs_10000_tech', 'jobs_25000_tech',\n",
       "       'jobs_10000_serv', 'jobs_25000_serv', 'income', 'persons', 'workers',\n",
       "       'children', 'single_family_int', 'tenure_1', 'tenure_2'],\n",
       "      dtype='object')"
      ]
     },
     "execution_count": 23,
     "metadata": {},
     "output_type": "execute_result"
    }
   ],
   "source": [
    "# feature used in X1\n",
    "X1.columns"
   ]
  },
  {
   "cell_type": "code",
   "execution_count": null,
   "metadata": {},
   "outputs": [],
   "source": []
  }
 ],
 "metadata": {
  "kernelspec": {
   "display_name": "Python 3",
   "language": "python",
   "name": "python3"
  },
  "language_info": {
   "codemirror_mode": {
    "name": "ipython",
    "version": 3
   },
   "file_extension": ".py",
   "mimetype": "text/x-python",
   "name": "python",
   "nbconvert_exporter": "python",
   "pygments_lexer": "ipython3",
   "version": "3.6.6"
  }
 },
 "nbformat": 4,
 "nbformat_minor": 2
}
