{
 "cells": [
  {
   "cell_type": "code",
   "execution_count": 1,
   "metadata": {},
   "outputs": [
    {
     "name": "stdout",
     "output_type": "stream",
     "text": [
      "Loading model step 'auto_ownership'\n",
      "Loading model step 'WLCM'\n"
     ]
    }
   ],
   "source": [
    "import os; os.chdir('..')\n",
    "import numpy as np, pandas as pd \n",
    "import matplotlib.pyplot as plt\n",
    "import warnings;\n",
    "import glob\n",
    "warnings.simplefilter('ignore')\n",
    "\n",
    "from collections import OrderedDict\n",
    "from urbansim_templates import modelmanager as mm\n",
    "from urbansim_templates.models import SmallMultinomialLogitStep\n",
    "import orca\n",
    "import seaborn as sns\n",
    "%matplotlib notebook\n",
    "\n",
    "import glob\n",
    "\n",
    "from scripts import datasources, models, variables\n",
    "\n",
    "mm.initialize()"
   ]
  },
  {
   "cell_type": "code",
   "execution_count": 2,
   "metadata": {},
   "outputs": [],
   "source": [
    "persons_df = pd.read_csv('/home/data/CHTS_csv_format/data/Deliv_PER.csv')[\n",
    "    ['SAMPN','PERNO','GEND', 'AGE', 'RACE1', 'NTVTY', 'LIC', 'JOBS', 'HOURS', 'WSCHED', 'EDUCA', 'DISAB']\n",
    "]"
   ]
  },
  {
   "cell_type": "code",
   "execution_count": 3,
   "metadata": {},
   "outputs": [],
   "source": [
    "hh_df = pd.read_csv('/home/data/CHTS_csv_format/data/Deliv_HH.csv')[\n",
    "  ['SAMPN','HHVEH','HHBIC','VEHNEW','OWN','INCOM','HHSIZ']]"
   ]
  },
  {
   "cell_type": "code",
   "execution_count": 4,
   "metadata": {},
   "outputs": [],
   "source": [
    "# accessibility tables\n",
    "MTC_acc = pd.read_csv('/home/jayne/ual_model_workspace/fall-2018-models/data/MTC_TAZ_accessibility.csv')"
   ]
  },
  {
   "cell_type": "code",
   "execution_count": 5,
   "metadata": {},
   "outputs": [],
   "source": [
    "trips_table = pd.read_csv('/home/emma/ual_model_workspace/fall-2018-models/notebooks-emma/HWtrips_101418.csv',index_col = 0)\n",
    "\n",
    "trips_table['SAMPN'] = trips_table['HHPER'].astype(str).str.slice(0,-1).astype(int)\n",
    "trips_table['PERNO'] = trips_table['HHPER'].astype(str).str.slice(-1).astype(int)\n",
    "\n",
    "trips_table = trips_table.merge(persons_df, on = ['SAMPN','PERNO'], how = 'left').merge(hh_df, on = 'SAMPN', how = 'left')\n"
   ]
  },
  {
   "cell_type": "code",
   "execution_count": 6,
   "metadata": {},
   "outputs": [],
   "source": [
    "# Each row is a single trip.\n",
    "# attributes wanted:\n",
    "# Time of day leaving home for work, time of day leaving work\n",
    "# home zone, work zone\n",
    "# mode (recode)\n",
    "# gender, age, race, ntvty, lic, jobs (>1 binary), full_time (hours<40 binary), education, disability, flexible work schedule (to dummies?)\n",
    "# attributes from skims"
   ]
  },
  {
   "cell_type": "code",
   "execution_count": 7,
   "metadata": {},
   "outputs": [],
   "source": [
    "na_dict = {\n",
    "    'GEND':[9],\n",
    "    'AGE':[998,999],\n",
    "    'RACE1':[97,98,99],\n",
    "    'NTVTY':[8,9],\n",
    "    'LIC':[8,9],\n",
    "    'JOBS':[98,99],\n",
    "    'HOURS':[998,999],\n",
    "    'EDUCA':[7,8,9],\n",
    "    'WSCHED':[8,9],\n",
    "    'DISAB':[8,9],\n",
    "    'HHVEH':[98,99],\n",
    "    'HHBIC':[98,99],\n",
    "    'VEHNEW':[8,9],\n",
    "    'OWN':[7,8,9],\n",
    "    'INCOM':[98,99],\n",
    "    'HHSIZ':[98,99]\n",
    "}\n",
    "\n",
    "for col in na_dict:\n",
    "    for vals in na_dict[col]:\n",
    "        trips_table[col] = trips_table[col].replace(vals,np.nan)\n",
    "        \n",
    "trips_table.dropna(inplace = True)"
   ]
  },
  {
   "cell_type": "code",
   "execution_count": 8,
   "metadata": {},
   "outputs": [],
   "source": [
    "TOD_list = ['EA','AM','MD','PM','EV']\n",
    "var_list = ['Distance','Cost','Time']\n",
    "skim_dir = '/home/data/fall_2018/mtc_skims'\n",
    "skim_dict = dict()\n",
    "for var in var_list:\n",
    "    df_base = pd.read_csv(skim_dir + f'/{var}SkimsDatabaseEA.csv').replace(-999, 9999)\n",
    "    df_base['TOD'] = 'EA'\n",
    "    for TOD in TOD_list[1:]:\n",
    "        df_tod = pd.read_csv(skim_dir + f'/{var}SkimsDatabase{TOD}.csv').replace(-999, 9999)\n",
    "        df_tod['TOD'] = TOD\n",
    "        df_base = pd.concat([df_base, df_tod])\n",
    "    skim_dict[var] = df_base\n",
    "        \n"
   ]
  },
  {
   "cell_type": "markdown",
   "metadata": {},
   "source": [
    "# Time of day definitions\n",
    "\n",
    "• Early (3:00 AM to 5:59 AM)\n",
    "• AM peak (6:00 AM to 8:59 AM)\n",
    "• Midday (9:00 AM to 3:29 PM)\n",
    "• PM peak (3:30 PM to 6:29 PM)\n",
    "• Late (6:30 PM to 2:59 AM)\n",
    "EA, AM, MD, PM, EV"
   ]
  },
  {
   "cell_type": "code",
   "execution_count": 9,
   "metadata": {},
   "outputs": [],
   "source": [
    "mode_dict = dict(zip(['drive_alone', 'shared',\n",
    "                      'WTranW','DrTranW','WTranDr',\n",
    "                      'bike', 'walk'],range(7)))\n",
    "trips_table['MODE'] = trips_table['MODE'].replace(mode_dict)"
   ]
  },
  {
   "cell_type": "code",
   "execution_count": 10,
   "metadata": {},
   "outputs": [],
   "source": [
    "trips_table['TOD'] = (\n",
    "    ((trips_table.origin_ET.between(3,6,inclusive = False)) | (trips_table.origin_ET==3))*1 +\n",
    "    ((trips_table.origin_ET.between(6,9,inclusive = False)) | (trips_table.origin_ET==6))*2 +\n",
    "    ((trips_table.origin_ET.between(9,15.5,inclusive = False)) | (trips_table.origin_ET==9))*3 +\n",
    "    ((trips_table.origin_ET.between(15.5,18.5,inclusive = False)) | (trips_table.origin_ET==15.5))*4 +\n",
    "    ((trips_table.origin_ET>=18.5))*5 +\n",
    "    ((trips_table.origin_ET.between(0,3,inclusive = False)) | (trips_table.origin_ET==0))*5\n",
    ")\n",
    "TOD_dict = dict(zip(range(1,6),TOD_list))\n",
    "trips_table['TOD'] = trips_table['TOD'].replace(TOD_dict)\n"
   ]
  },
  {
   "cell_type": "code",
   "execution_count": 11,
   "metadata": {},
   "outputs": [],
   "source": [
    "trips_table1 = trips_table.copy()\n",
    "for var in var_list:\n",
    "    trips_table1 = trips_table1.merge(skim_dict[var].rename(\n",
    "        columns = dict(zip([i for i in skim_dict[var].columns if i not in ['orig','dest','TOD']],\n",
    "         [i+ f'_{var}' for i in skim_dict[var].columns if i not in ['orig','dest','TOD']]))                                          \n",
    "                                           ), how = 'left',left_on = ['Ozone','Dzone','TOD'], \n",
    "    right_on = ['orig','dest','TOD'])\n",
    "    trips_table1.drop(['orig','dest'],axis = 1,inplace = True)"
   ]
  },
  {
   "cell_type": "code",
   "execution_count": 12,
   "metadata": {},
   "outputs": [],
   "source": [
    "# join accessibility\n",
    "trips_table1 = trips_table1.merge(MTC_acc, how = 'left',left_on = 'Ozone', right_on = 'taz1454')\n",
    "trips_table1[MTC_acc.columns] = trips_table1[MTC_acc.columns].fillna(0)"
   ]
  },
  {
   "cell_type": "code",
   "execution_count": 19,
   "metadata": {},
   "outputs": [],
   "source": []
  },
  {
   "cell_type": "code",
   "execution_count": 21,
   "metadata": {},
   "outputs": [],
   "source": [
    "@orca.table(cache=True)\n",
    "def trips():\n",
    "    return trips_table1"
   ]
  },
  {
   "cell_type": "code",
   "execution_count": 30,
   "metadata": {},
   "outputs": [],
   "source": [
    "# mode_dict = dict(zip(['drive_alone', 'shared','WTranW','DrTranW','WTranDr','bike', 'walk'],range(7)))\n",
    "        \n",
    "m = SmallMultinomialLogitStep()\n",
    "m.name = 'primary_mode_choice'\n",
    "m.tables = ['trips']\n",
    "m.choice_column = 'MODE'\n",
    "m.model_expression = OrderedDict([\n",
    "    ('intercept', [1,2,3,4,5,6]), \n",
    "    ('GEND',[2,3,4,5,6]),\n",
    "    ('AGE',[2,3,4,5,6]),\n",
    "    ('RACE1',[2,3,4,5,6]),\n",
    "    ('NTVTY',[2,3,4,5,6]),\n",
    "    ('LIC',[2,3,4,5,6]),\n",
    "    ('JOBS',[2,3,4,5,6]),\n",
    "    ('HOURS',[2,3,4,5,6]),\n",
    "    ('WSCHED',[2,3,4,5,6]),\n",
    "    ('EDUCA',[2,3,4,5,6]),\n",
    "    ('DISAB',[2,3,4,5,6]),\n",
    "    ('HHVEH',[2,3,4,5,6]),\n",
    "       ('HHBIC',[2,3,4,5,6]),\n",
    "    ('VEHNEW',[2,3,4,5,6]),\n",
    "    ('OWN',[2,3,4,5,6]),\n",
    "    ('INCOM',[2,3,4,5,6]),\n",
    "    ('HHSIZ',[2,3,4,5,6]),\n",
    "    \n",
    "    \n",
    "    ('da_Distance',[0]),\n",
    "    ('da_Cost',[0]),\n",
    "    ('da_Time',[0]),\n",
    "    ('da_15',[0]),\n",
    "    ('s2_Distance',[1]),\n",
    "    ('s2_Cost',[1]),\n",
    "    ('s2_Time',[1]),    \n",
    "    ('da_15',[1]),\n",
    "    ('wTrnW_Cost',[2]),\n",
    "    ('wTrnW_Time',[2]),\n",
    "    ('wTrnW_15',[2]),\n",
    "    ('dTrnW_Cost',[3]),\n",
    "    ('dTrnW_Time',[3]),\n",
    "    ('wTrnD_Time',[4]),\n",
    "    ('wTrnD_Cost',[5]),\n",
    "    ('bike_Distance',[5]),\n",
    "    ('bike_Time',[5]),   \n",
    "    ('bike_15',[5]),\n",
    "    ('walk_Distance',[6]),\n",
    "    ('walk_Time',[6]),  \n",
    "    ('walk_15',[6])\n",
    "    \n",
    "    \n",
    "    \n",
    "    \n",
    "])"
   ]
  },
  {
   "cell_type": "code",
   "execution_count": 31,
   "metadata": {},
   "outputs": [
    {
     "name": "stdout",
     "output_type": "stream",
     "text": [
      "Log-likelihood at zero: -15,649.0094\n",
      "Initial Log-likelihood: -15,649.0094\n",
      "Estimation Time for Point Estimation: 37.81 seconds.\n",
      "Final log-likelihood: -5,514.4482\n",
      "                     Multinomial Logit Model Regression Results                    \n",
      "===================================================================================\n",
      "Dep. Variable:                     _chosen   No. Observations:                8,042\n",
      "Model:             Multinomial Logit Model   Df Residuals:                    7,936\n",
      "Method:                                MLE   Df Model:                          106\n",
      "Date:                     Wed, 07 Nov 2018   Pseudo R-squ.:                   0.648\n",
      "Time:                             22:00:23   Pseudo R-bar-squ.:               0.641\n",
      "AIC:                            11,240.896   Log-Likelihood:             -5,514.448\n",
      "BIC:                            11,982.094   LL-Null:                   -15,649.009\n",
      "===================================================================================\n",
      "                      coef    std err          z      P>|z|      [0.025      0.975]\n",
      "-----------------------------------------------------------------------------------\n",
      "intercept_1        -3.0717      0.131    -23.519      0.000      -3.328      -2.816\n",
      "intercept_2        -4.5174      1.102     -4.100      0.000      -6.677      -2.358\n",
      "intercept_3        -5.6023      1.625     -3.448      0.001      -8.787      -2.418\n",
      "intercept_4        -6.4467      1.794     -3.594      0.000      -9.963      -2.931\n",
      "intercept_5        -4.3569      1.821     -2.392      0.017      -7.927      -0.787\n",
      "intercept_6        -6.5928      1.650     -3.995      0.000      -9.828      -3.358\n",
      "GEND_2             -0.4298      0.118     -3.629      0.000      -0.662      -0.198\n",
      "GEND_3             -0.0972      0.148     -0.656      0.512      -0.388       0.193\n",
      "GEND_4             -0.1189      0.143     -0.834      0.404      -0.398       0.160\n",
      "GEND_5             -1.2029      0.155     -7.772      0.000      -1.506      -0.900\n",
      "GEND_6              0.1966      0.183      1.075      0.282      -0.162       0.555\n",
      "AGE_2              -0.0116      0.005     -2.158      0.031      -0.022      -0.001\n",
      "AGE_3              -0.0138      0.007     -2.005      0.045      -0.027      -0.000\n",
      "AGE_4              -0.0179      0.007     -2.725      0.006      -0.031      -0.005\n",
      "AGE_5              -0.0294      0.007     -4.477      0.000      -0.042      -0.017\n",
      "AGE_6              -0.0184      0.007     -2.465      0.014      -0.033      -0.004\n",
      "RACE1_2             0.0157      0.060      0.264      0.792      -0.101       0.133\n",
      "RACE1_3             0.1809      0.069      2.618      0.009       0.045       0.316\n",
      "RACE1_4             0.1526      0.066      2.296      0.022       0.022       0.283\n",
      "RACE1_5            -0.3232      0.094     -3.436      0.001      -0.508      -0.139\n",
      "RACE1_6            -0.1029      0.099     -1.037      0.300      -0.297       0.092\n",
      "NTVTY_2            -0.8010      0.168     -4.777      0.000      -1.130      -0.472\n",
      "NTVTY_3            -0.3412      0.202     -1.692      0.091      -0.736       0.054\n",
      "NTVTY_4            -0.3861      0.194     -1.991      0.047      -0.766      -0.006\n",
      "NTVTY_5            -0.4792      0.202     -2.375      0.018      -0.875      -0.084\n",
      "NTVTY_6            -0.6087      0.258     -2.356      0.018      -1.115      -0.102\n",
      "LIC_2               3.4897      0.272     12.813      0.000       2.956       4.023\n",
      "LIC_3               2.4113      0.432      5.576      0.000       1.564       3.259\n",
      "LIC_4               2.3832      0.430      5.545      0.000       1.541       3.226\n",
      "LIC_5               2.9574      0.362      8.177      0.000       2.249       3.666\n",
      "LIC_6               3.2487      0.334      9.739      0.000       2.595       3.902\n",
      "JOBS_2              0.1870      0.153      1.222      0.222      -0.113       0.487\n",
      "JOBS_3             -0.2961      0.287     -1.032      0.302      -0.858       0.266\n",
      "JOBS_4             -0.0707      0.225     -0.313      0.754      -0.513       0.371\n",
      "JOBS_5              0.2757      0.177      1.554      0.120      -0.072       0.623\n",
      "JOBS_6             -0.2374      0.291     -0.816      0.415      -0.808       0.333\n",
      "HOURS_2            -0.0204      0.005     -3.903      0.000      -0.031      -0.010\n",
      "HOURS_3             0.0006      0.007      0.089      0.929      -0.013       0.014\n",
      "HOURS_4            -0.0006      0.007     -0.095      0.925      -0.014       0.012\n",
      "HOURS_5            -0.0124      0.006     -2.151      0.031      -0.024      -0.001\n",
      "HOURS_6            -0.0244      0.007     -3.336      0.001      -0.039      -0.010\n",
      "WSCHED_2            0.1009      0.095      1.059      0.290      -0.086       0.288\n",
      "WSCHED_3            0.0110      0.121      0.091      0.928      -0.226       0.248\n",
      "WSCHED_4            0.0547      0.118      0.464      0.642      -0.176       0.285\n",
      "WSCHED_5           -0.0477      0.110     -0.434      0.664      -0.263       0.168\n",
      "WSCHED_6           -0.1002      0.135     -0.740      0.459      -0.366       0.165\n",
      "EDUCA_2             0.2655      0.054      4.877      0.000       0.159       0.372\n",
      "EDUCA_3             0.1215      0.067      1.807      0.071      -0.010       0.253\n",
      "EDUCA_4             0.1408      0.065      2.169      0.030       0.014       0.268\n",
      "EDUCA_5             0.3551      0.068      5.201      0.000       0.221       0.489\n",
      "EDUCA_6             0.2028      0.078      2.593      0.010       0.049       0.356\n",
      "DISAB_2             0.1167      0.403      0.289      0.772      -0.674       0.907\n",
      "DISAB_3             0.2275      0.616      0.369      0.712      -0.980       1.435\n",
      "DISAB_4             0.6934      0.738      0.940      0.347      -0.753       2.140\n",
      "DISAB_5             1.2344      0.776      1.591      0.112      -0.286       2.755\n",
      "DISAB_6             1.1766      0.669      1.760      0.078      -0.134       2.487\n",
      "HHVEH_2            -1.8883      0.099    -18.995      0.000      -2.083      -1.693\n",
      "HHVEH_3            -0.4551      0.109     -4.183      0.000      -0.668      -0.242\n",
      "HHVEH_4            -0.5105      0.105     -4.854      0.000      -0.717      -0.304\n",
      "HHVEH_5            -0.9627      0.105     -9.147      0.000      -1.169      -0.756\n",
      "HHVEH_6            -0.8799      0.130     -6.792      0.000      -1.134      -0.626\n",
      "HHBIC_2            -0.0063      0.037     -0.171      0.865      -0.079       0.067\n",
      "HHBIC_3            -0.0633      0.048     -1.314      0.189      -0.158       0.031\n",
      "HHBIC_4            -0.0387      0.045     -0.866      0.386      -0.126       0.049\n",
      "HHBIC_5             0.3215      0.032     10.086      0.000       0.259       0.384\n",
      "HHBIC_6             0.1710      0.051      3.334      0.001       0.070       0.272\n",
      "VEHNEW_2            0.2380      0.119      1.994      0.046       0.004       0.472\n",
      "VEHNEW_3           -0.2052      0.156     -1.314      0.189      -0.511       0.101\n",
      "VEHNEW_4           -0.2416      0.151     -1.599      0.110      -0.538       0.055\n",
      "VEHNEW_5            0.1010      0.147      0.685      0.493      -0.188       0.390\n",
      "VEHNEW_6            0.3344      0.181      1.844      0.065      -0.021       0.690\n",
      "OWN_2               0.3114      0.141      2.209      0.027       0.035       0.588\n",
      "OWN_3              -0.3107      0.220     -1.414      0.157      -0.741       0.120\n",
      "OWN_4              -0.2397      0.209     -1.148      0.251      -0.649       0.170\n",
      "OWN_5              -0.3723      0.204     -1.827      0.068      -0.772       0.027\n",
      "OWN_6               0.7878      0.210      3.751      0.000       0.376       1.199\n",
      "INCOM_2            -0.0026      0.037     -0.070      0.944      -0.075       0.070\n",
      "INCOM_3             0.0934      0.048      1.955      0.051      -0.000       0.187\n",
      "INCOM_4             0.0919      0.046      2.014      0.044       0.002       0.181\n",
      "INCOM_5             0.1027      0.044      2.358      0.018       0.017       0.188\n",
      "INCOM_6             0.1145      0.054      2.129      0.033       0.009       0.220\n",
      "HHSIZ_2             0.1956      0.059      3.320      0.001       0.080       0.311\n",
      "HHSIZ_3            -0.0892      0.077     -1.160      0.246      -0.240       0.061\n",
      "HHSIZ_4            -0.0465      0.073     -0.636      0.525      -0.190       0.097\n",
      "HHSIZ_5             0.0055      0.069      0.080      0.936      -0.130       0.141\n",
      "HHSIZ_6            -0.0566      0.089     -0.633      0.527      -0.232       0.119\n",
      "da_Distance_0       0.0781      0.009      8.651      0.000       0.060       0.096\n",
      "da_Cost_0          -0.0012      0.000     -3.728      0.000      -0.002      -0.001\n",
      "da_Time_0          -0.0846      0.008    -10.952      0.000      -0.100      -0.069\n",
      "da_15_1          6.455e-07   4.19e-07      1.541      0.123   -1.75e-07    1.47e-06\n",
      "s2_Distance_1       0.0434      0.016      2.692      0.007       0.012       0.075\n",
      "s2_Cost_1          -0.0005      0.001     -0.468      0.640      -0.002       0.001\n",
      "s2_Time_1          -0.0696      0.013     -5.236      0.000      -0.096      -0.044\n",
      "wTrnW_Cost_2       -0.0002   6.44e-05     -3.098      0.002      -0.000   -7.33e-05\n",
      "wTrnW_Time_2    -6.706e-05   5.98e-05     -1.120      0.263      -0.000    5.02e-05\n",
      "wTrnW_15_2       1.139e-05   9.03e-07     12.619      0.000    9.62e-06    1.32e-05\n",
      "dTrnW_Cost_3     -9.51e-06   9.24e-05     -0.103      0.918      -0.000       0.000\n",
      "dTrnW_Time_3       -0.0002   9.22e-05     -2.472      0.013      -0.000   -4.72e-05\n",
      "wTrnD_Time_4       -0.0003      4e-05     -7.696      0.000      -0.000      -0.000\n",
      "wTrnD_Cost_5    -8.291e-05   2.31e-05     -3.583      0.000      -0.000   -3.76e-05\n",
      "bike_Distance_5    -0.2700      0.066     -4.105      0.000      -0.399      -0.141\n",
      "bike_Time_5         0.0012      0.012      0.097      0.923      -0.023       0.025\n",
      "bike_15_5        6.097e-07   8.03e-07      0.759      0.448   -9.64e-07    2.18e-06\n",
      "walk_Distance_6    -0.0005      0.018     -0.030      0.976      -0.036       0.034\n",
      "walk_Time_6        -0.0300      0.003    -10.733      0.000      -0.035      -0.025\n",
      "walk_15_6        1.246e-05   2.09e-06      5.966      0.000    8.37e-06    1.66e-05\n",
      "===================================================================================\n"
     ]
    }
   ],
   "source": [
    "m.fit()"
   ]
  },
  {
   "cell_type": "code",
   "execution_count": 32,
   "metadata": {},
   "outputs": [],
   "source": [
    "m.run()"
   ]
  },
  {
   "cell_type": "code",
   "execution_count": 28,
   "metadata": {
    "scrolled": true
   },
   "outputs": [
    {
     "name": "stdout",
     "output_type": "stream",
     "text": [
      "Model saved to configs/primary_mode_choice.pkl\n",
      "Saving 'primary_mode_choice.yaml': /home/jayne/ual_model_workspace/fall-2018-models/configs\n",
      "Loading model step 'primary_mode_choice'\n"
     ]
    }
   ],
   "source": [
    "m.tags = ['mode_choice','jayne','test']\n",
    "m.register()"
   ]
  },
  {
   "cell_type": "code",
   "execution_count": 34,
   "metadata": {
    "scrolled": true
   },
   "outputs": [
    {
     "data": {
      "text/html": [
       "<div>\n",
       "<style scoped>\n",
       "    .dataframe tbody tr th:only-of-type {\n",
       "        vertical-align: middle;\n",
       "    }\n",
       "\n",
       "    .dataframe tbody tr th {\n",
       "        vertical-align: top;\n",
       "    }\n",
       "\n",
       "    .dataframe thead th {\n",
       "        text-align: right;\n",
       "    }\n",
       "</style>\n",
       "<table border=\"1\" class=\"dataframe\">\n",
       "  <thead>\n",
       "    <tr style=\"text-align: right;\">\n",
       "      <th></th>\n",
       "      <th>0</th>\n",
       "      <th>1</th>\n",
       "      <th>2</th>\n",
       "      <th>3</th>\n",
       "      <th>4</th>\n",
       "      <th>5</th>\n",
       "      <th>6</th>\n",
       "      <th>all</th>\n",
       "    </tr>\n",
       "  </thead>\n",
       "  <tbody>\n",
       "    <tr>\n",
       "      <th>True Positive rate</th>\n",
       "      <td>0.97921</td>\n",
       "      <td>0</td>\n",
       "      <td>0.473896</td>\n",
       "      <td>0.0570175</td>\n",
       "      <td>0.0333333</td>\n",
       "      <td>0.114865</td>\n",
       "      <td>0.1375</td>\n",
       "      <td>0.794454</td>\n",
       "    </tr>\n",
       "  </tbody>\n",
       "</table>\n",
       "</div>"
      ],
      "text/plain": [
       "                          0  1         2          3          4         5  \\\n",
       "True Positive rate  0.97921  0  0.473896  0.0570175  0.0333333  0.114865   \n",
       "\n",
       "                         6       all  \n",
       "True Positive rate  0.1375  0.794454  "
      ]
     },
     "execution_count": 34,
     "metadata": {},
     "output_type": "execute_result"
    }
   ],
   "source": [
    "# Validation process\n",
    "from scripts import validate\n",
    "validate.tp_rates(m)"
   ]
  },
  {
   "cell_type": "code",
   "execution_count": 35,
   "metadata": {},
   "outputs": [
    {
     "data": {
      "image/png": "[encoded data removed]",
      "text/plain": [
       "<Figure size 432x288 with 2 Axes>"
      ]
     },
     "metadata": {},
     "output_type": "display_data"
    }
   ],
   "source": [
    "validate.model_crosstab(m)"
   ]
  },
  {
   "cell_type": "code",
   "execution_count": 37,
   "metadata": {},
   "outputs": [],
   "source": [
    "predicted_choices = m.probabilities[\n",
    "    m.probabilities.groupby(['_obs_id'])['_probability'].transform('max') ==  m.probabilities['_probability']\n",
    "]['_alt_id'].reset_index(drop=True)\n",
    "    \n",
    "crosstab = pd.crosstab(m.choices, predicted_choices)"
   ]
  },
  {
   "cell_type": "code",
   "execution_count": 39,
   "metadata": {},
   "outputs": [
    {
     "data": {
      "text/html": [
       "<div>\n",
       "<style scoped>\n",
       "    .dataframe tbody tr th:only-of-type {\n",
       "        vertical-align: middle;\n",
       "    }\n",
       "\n",
       "    .dataframe tbody tr th {\n",
       "        vertical-align: top;\n",
       "    }\n",
       "\n",
       "    .dataframe thead th {\n",
       "        text-align: right;\n",
       "    }\n",
       "</style>\n",
       "<table border=\"1\" class=\"dataframe\">\n",
       "  <thead>\n",
       "    <tr style=\"text-align: right;\">\n",
       "      <th>_alt_id</th>\n",
       "      <th>0</th>\n",
       "      <th>2</th>\n",
       "      <th>3</th>\n",
       "      <th>4</th>\n",
       "      <th>5</th>\n",
       "      <th>6</th>\n",
       "      <th>All</th>\n",
       "    </tr>\n",
       "    <tr>\n",
       "      <th>_choices</th>\n",
       "      <th></th>\n",
       "      <th></th>\n",
       "      <th></th>\n",
       "      <th></th>\n",
       "      <th></th>\n",
       "      <th></th>\n",
       "      <th></th>\n",
       "    </tr>\n",
       "  </thead>\n",
       "  <tbody>\n",
       "    <tr>\n",
       "      <th>0</th>\n",
       "      <td>6076</td>\n",
       "      <td>83</td>\n",
       "      <td>11</td>\n",
       "      <td>4</td>\n",
       "      <td>20</td>\n",
       "      <td>11</td>\n",
       "      <td>6205</td>\n",
       "    </tr>\n",
       "    <tr>\n",
       "      <th>1</th>\n",
       "      <td>404</td>\n",
       "      <td>8</td>\n",
       "      <td>2</td>\n",
       "      <td>0</td>\n",
       "      <td>0</td>\n",
       "      <td>1</td>\n",
       "      <td>415</td>\n",
       "    </tr>\n",
       "    <tr>\n",
       "      <th>2</th>\n",
       "      <td>241</td>\n",
       "      <td>236</td>\n",
       "      <td>0</td>\n",
       "      <td>2</td>\n",
       "      <td>6</td>\n",
       "      <td>13</td>\n",
       "      <td>498</td>\n",
       "    </tr>\n",
       "    <tr>\n",
       "      <th>3</th>\n",
       "      <td>190</td>\n",
       "      <td>20</td>\n",
       "      <td>13</td>\n",
       "      <td>4</td>\n",
       "      <td>1</td>\n",
       "      <td>0</td>\n",
       "      <td>228</td>\n",
       "    </tr>\n",
       "    <tr>\n",
       "      <th>4</th>\n",
       "      <td>208</td>\n",
       "      <td>22</td>\n",
       "      <td>1</td>\n",
       "      <td>8</td>\n",
       "      <td>1</td>\n",
       "      <td>0</td>\n",
       "      <td>240</td>\n",
       "    </tr>\n",
       "    <tr>\n",
       "      <th>5</th>\n",
       "      <td>231</td>\n",
       "      <td>21</td>\n",
       "      <td>0</td>\n",
       "      <td>0</td>\n",
       "      <td>34</td>\n",
       "      <td>10</td>\n",
       "      <td>296</td>\n",
       "    </tr>\n",
       "    <tr>\n",
       "      <th>6</th>\n",
       "      <td>101</td>\n",
       "      <td>33</td>\n",
       "      <td>0</td>\n",
       "      <td>0</td>\n",
       "      <td>4</td>\n",
       "      <td>22</td>\n",
       "      <td>160</td>\n",
       "    </tr>\n",
       "    <tr>\n",
       "      <th>All</th>\n",
       "      <td>7451</td>\n",
       "      <td>423</td>\n",
       "      <td>27</td>\n",
       "      <td>18</td>\n",
       "      <td>66</td>\n",
       "      <td>57</td>\n",
       "      <td>8042</td>\n",
       "    </tr>\n",
       "  </tbody>\n",
       "</table>\n",
       "</div>"
      ],
      "text/plain": [
       "_alt_id      0    2   3   4   5   6   All\n",
       "_choices                                 \n",
       "0         6076   83  11   4  20  11  6205\n",
       "1          404    8   2   0   0   1   415\n",
       "2          241  236   0   2   6  13   498\n",
       "3          190   20  13   4   1   0   228\n",
       "4          208   22   1   8   1   0   240\n",
       "5          231   21   0   0  34  10   296\n",
       "6          101   33   0   0   4  22   160\n",
       "All       7451  423  27  18  66  57  8042"
      ]
     },
     "execution_count": 39,
     "metadata": {},
     "output_type": "execute_result"
    }
   ],
   "source": [
    "pd.crosstab(m.choices, predicted_choices,margins=True)"
   ]
  },
  {
   "cell_type": "code",
   "execution_count": null,
   "metadata": {},
   "outputs": [],
   "source": []
  }
 ],
 "metadata": {
  "kernelspec": {
   "display_name": "Python 3",
   "language": "python",
   "name": "python3"
  },
  "language_info": {
   "codemirror_mode": {
    "name": "ipython",
    "version": 3
   },
   "file_extension": ".py",
   "mimetype": "text/x-python",
   "name": "python",
   "nbconvert_exporter": "python",
   "pygments_lexer": "ipython3",
   "version": "3.6.6"
  }
 },
 "nbformat": 4,
 "nbformat_minor": 2
}
