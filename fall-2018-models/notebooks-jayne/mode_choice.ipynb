{
 "cells": [
  {
   "cell_type": "code",
   "execution_count": 2,
   "metadata": {},
   "outputs": [
    {
     "name": "stdout",
     "output_type": "stream",
     "text": [
      "Loading model step 'auto_ownership'\n",
      "Loading model step 'WLCM'\n"
     ]
    }
   ],
   "source": [
    "import os; os.chdir('..')\n",
    "import numpy as np, pandas as pd \n",
    "import matplotlib.pyplot as plt\n",
    "import warnings;\n",
    "import glob\n",
    "warnings.simplefilter('ignore')\n",
    "\n",
    "from collections import OrderedDict\n",
    "from urbansim_templates import modelmanager as mm\n",
    "from urbansim_templates.models import SmallMultinomialLogitStep\n",
    "import orca\n",
    "import seaborn as sns\n",
    "%matplotlib notebook\n",
    "\n",
    "import glob\n",
    "\n",
    "from scripts import datasources, models, variables\n",
    "\n",
    "mm.initialize()"
   ]
  },
  {
   "cell_type": "code",
   "execution_count": 79,
   "metadata": {},
   "outputs": [],
   "source": [
    "trips = pd.read_csv('notebooks-jayne/mode_choice/trips_101218.csv',index_col =0)\n",
    "trips.rename(columns = {'LIC_y':'LIC','HOURS_y':'HOURS'},inplace = True)"
   ]
  },
  {
   "cell_type": "code",
   "execution_count": null,
   "metadata": {},
   "outputs": [],
   "source": [
    "# Each row is a single trip.\n",
    "# attributes wanted:\n",
    "# Time of day leaving home for work, time of day leaving work\n",
    "# home zone, work zone\n",
    "# mode (recode)\n",
    "# gender, age, race, ntvty, lic, jobs (>1 binary), full_time (hours<40 binary), education, disability, flexible work schedule (to dummies?)\n",
    "# attributes from skims"
   ]
  },
  {
   "cell_type": "code",
   "execution_count": 80,
   "metadata": {},
   "outputs": [],
   "source": [
    "hh_df = pd.read_csv('/home/data/CHTS_csv_format/data/Deliv_HH.csv')[\n",
    "  ['SAMPN','HHVEH','HHBIC','VEHNEW','OWN','INCOM','HHSIZ']]\n",
    "trips = trips.merge(hh_df,on = 'SAMPN',how = 'left')"
   ]
  },
  {
   "cell_type": "code",
   "execution_count": 81,
   "metadata": {},
   "outputs": [],
   "source": [
    "na_dict = {\n",
    "    'GEND':[9],\n",
    "    'AGE':[998,999],\n",
    "    'RACE':[97,98,99],\n",
    "    'NTVTY':[8,9],\n",
    "    'LIC':[8,9],\n",
    "    'JOBS':[98,99],\n",
    "    'HOURS':[998,999],\n",
    "    'EDUCA':[7,8,9],\n",
    "    'WSCHED':[8,9],\n",
    "    'DISAB':[8,9],\n",
    "    'HHVEH':[98,99],\n",
    "    'HHBIC':[98,99],\n",
    "    'VEHNEW':[8,9],\n",
    "    'OWN':[7,8,9],\n",
    "    'INCOM':[98,99],\n",
    "    'HHSIZ':[98,99]\n",
    "}\n",
    "\n",
    "for col in na_dict:\n",
    "    for vals in na_dict[col]:\n",
    "        trips[col] = trips[col].replace(vals,np.nan)\n",
    "        \n",
    "trips.dropna(inplace = True)"
   ]
  },
  {
   "cell_type": "code",
   "execution_count": 168,
   "metadata": {},
   "outputs": [],
   "source": [
    "TOD_list = ['EA','AM','MD','PM','EV']\n",
    "var_list = ['Distance','Cost','Time']\n",
    "skim_dir = '/home/data/fall_2018/mtc_skims'\n",
    "skim_dict = dict()\n",
    "for var in var_list:\n",
    "    df_base = pd.read_csv(skim_dir + f'/{var}SkimsDatabaseEA.csv').replace(-999, 9999)\n",
    "    df_base['TOD'] = 'EA'\n",
    "    for TOD in TOD_list[1:]:\n",
    "        df_tod = pd.read_csv(skim_dir + f'/{var}SkimsDatabase{TOD}.csv').replace(-999, 9999)\n",
    "        df_tod['TOD'] = TOD\n",
    "        df_base = pd.concat([df_base, df_tod])\n",
    "    skim_dict[var] = df_base\n",
    "        \n"
   ]
  },
  {
   "cell_type": "markdown",
   "metadata": {},
   "source": [
    "# Time of day definitions\n",
    "\n",
    "• Early (3:00 AM to 5:59 AM)\n",
    "• AM peak (6:00 AM to 8:59 AM)\n",
    "• Midday (9:00 AM to 3:29 PM)\n",
    "• PM peak (3:30 PM to 6:29 PM)\n",
    "• Late (6:30 PM to 2:59 AM)\n",
    "EA, AM, MD, PM, EV"
   ]
  },
  {
   "cell_type": "code",
   "execution_count": 87,
   "metadata": {},
   "outputs": [],
   "source": [
    "mode_dict = dict(zip(['drive', 'walk_transit', 'bike', 'drive_transit', 'walk'],range(1,6)))\n",
    "trips['MODE'] = trips['MODE'].replace(mode_dict)"
   ]
  },
  {
   "cell_type": "code",
   "execution_count": 134,
   "metadata": {},
   "outputs": [],
   "source": [
    "trips['TOD'] = (\n",
    "    ((trips.loc_ET.between(3,6,inclusive = False)) | (trips.loc_ET==3))*1 +\n",
    "    ((trips.loc_ET.between(6,9,inclusive = False)) | (trips.loc_ET==6))*2 +\n",
    "    ((trips.loc_ET.between(9,15.5,inclusive = False)) | (trips.loc_ET==9))*3 +\n",
    "    ((trips.loc_ET.between(15.5,18.5,inclusive = False)) | (trips.loc_ET==15.5))*4 +\n",
    "    ((trips.loc_ET>=18.5))*5 +\n",
    "    ((trips.loc_ET.between(0,3,inclusive = False)) | (trips.loc_ET==0))*5\n",
    ")\n",
    "TOD_dict = dict(zip(range(1,6),TOD_list))\n",
    "trips['TOD'] = trips['TOD'].replace(TOD_dict)\n"
   ]
  },
  {
   "cell_type": "code",
   "execution_count": 160,
   "metadata": {},
   "outputs": [],
   "source": [
    "for var in var_list: trips[var] = 0\n",
    "trips['O'] = trips.place == 'home' * trips.zone_id_home + trips.place == 'work' * trips.zone_id_work\n",
    "trips['D'] = trips.place == 'work' * trips.zone_id_home + trips.place == 'home' * trips.zone_id_work"
   ]
  },
  {
   "cell_type": "code",
   "execution_count": 174,
   "metadata": {},
   "outputs": [
    {
     "data": {
      "text/plain": [
       "Index(['SAMPN', 'PERNO', 'HHPER', 'HHPERTRIP', 'place', 'dwell', 'loc_ST',\n",
       "       'loc_ET', 'trip_ET', 'TT', 'MODE', 'zone_id_home', 'zone_id_work',\n",
       "       'HXCORD', 'HYCORD', 'WXCORD_lookup', 'WYCORD_lookup', 'GEND', 'AGE',\n",
       "       'RACE', 'NTVTY', 'LIC', 'JOBS', 'HOURS', 'WSCHED', 'EDUCA', 'DISAB',\n",
       "       'HHVEH', 'HHBIC', 'VEHNEW', 'OWN', 'INCOM', 'HHSIZ', 'TOD', 'Distance',\n",
       "       'Cost', 'Time'],\n",
       "      dtype='object')"
      ]
     },
     "execution_count": 174,
     "metadata": {},
     "output_type": "execute_result"
    }
   ],
   "source": [
    "trips.columns"
   ]
  },
  {
   "cell_type": "code",
   "execution_count": 197,
   "metadata": {},
   "outputs": [],
   "source": [
    "trips1 = trips.copy()\n",
    "for var in var_list:\n",
    "    trips1 = trips1.merge(skim_dict[var].rename(\n",
    "        columns = dict(zip([i for i in skim_dict[var].columns if i not in ['orig','dest','TOD']],\n",
    "         [i+ f'_{var}' for i in skim_dict[var].columns if i not in ['orig','dest','TOD']]))                                          \n",
    "                                           ), how = 'left',left_on = ['O','D','TOD'], \n",
    "    right_on = ['orig','dest','TOD'])\n",
    "    trips1.drop(['orig','dest'],axis = 1,inplace = True)"
   ]
  },
  {
   "cell_type": "code",
   "execution_count": null,
   "metadata": {},
   "outputs": [],
   "source": []
  },
  {
   "cell_type": "code",
   "execution_count": null,
   "metadata": {},
   "outputs": [],
   "source": []
  },
  {
   "cell_type": "code",
   "execution_count": null,
   "metadata": {},
   "outputs": [],
   "source": []
  },
  {
   "cell_type": "code",
   "execution_count": null,
   "metadata": {},
   "outputs": [],
   "source": []
  },
  {
   "cell_type": "code",
   "execution_count": null,
   "metadata": {},
   "outputs": [],
   "source": []
  },
  {
   "cell_type": "code",
   "execution_count": null,
   "metadata": {},
   "outputs": [],
   "source": []
  },
  {
   "cell_type": "code",
   "execution_count": null,
   "metadata": {},
   "outputs": [],
   "source": []
  },
  {
   "cell_type": "code",
   "execution_count": 200,
   "metadata": {},
   "outputs": [],
   "source": [
    "@orca.table(cache=True)\n",
    "def trips():\n",
    "    return trips1"
   ]
  },
  {
   "cell_type": "code",
   "execution_count": 202,
   "metadata": {},
   "outputs": [
    {
     "data": {
      "text/plain": [
       "Index(['SAMPN', 'PERNO', 'HHPER', 'HHPERTRIP', 'place', 'dwell', 'loc_ST',\n",
       "       'loc_ET', 'trip_ET', 'TT', 'MODE', 'zone_id_home', 'zone_id_work',\n",
       "       'HXCORD', 'HYCORD', 'WXCORD_lookup', 'WYCORD_lookup', 'GEND', 'AGE',\n",
       "       'RACE', 'NTVTY', 'LIC', 'JOBS', 'HOURS', 'WSCHED', 'EDUCA', 'DISAB',\n",
       "       'HHVEH', 'HHBIC', 'VEHNEW', 'OWN', 'INCOM', 'HHSIZ', 'TOD', 'Distance',\n",
       "       'Cost', 'Time', 'O', 'D', 'da_Distance', 'daToll_Distance',\n",
       "       's2_Distance', 's2Toll_Distance', 's3_Distance', 's3Toll_Distance',\n",
       "       'walk_Distance', 'bike_Distance', 'da_Cost', 'daToll_Cost', 's2_Cost',\n",
       "       's2Toll_Cost', 's3_Cost', 's3Toll_Cost', 'wTrnW_Cost', 'dTrnW_Cost',\n",
       "       'wTrnD_Cost', 'da_Time', 'daToll_Time', 's2_Time', 's2Toll_Time',\n",
       "       's3_Time', 's3Toll_Time', 'walk_Time', 'bike_Time', 'wTrnW_Time',\n",
       "       'dTrnW_Time', 'wTrnD_Time'],\n",
       "      dtype='object')"
      ]
     },
     "execution_count": 202,
     "metadata": {},
     "output_type": "execute_result"
    }
   ],
   "source": [
    "trips1.columns"
   ]
  },
  {
   "cell_type": "code",
   "execution_count": 215,
   "metadata": {},
   "outputs": [],
   "source": [
    "# mode_dict = dict(zip(['drive', 'walk_transit', 'bike', 'drive_transit', 'walk'],range(1,6)))\n",
    "m = SmallMultinomialLogitStep()\n",
    "m.name = 'primary_mode_choice'\n",
    "m.tables = ['trips']\n",
    "m.choice_column = 'MODE'\n",
    "m.model_expression = OrderedDict([\n",
    "    ('intercept', [0,1,2,3]), \n",
    "    ('da_Distance',[0]),\n",
    "    ('da_Cost',[0]),\n",
    "    ('da_Time',[0]),\n",
    "    ('wTrnW_Cost',[1]),\n",
    "    ('wTrnW_Time',[1]),\n",
    "    ('bike_Distance',[2]),\n",
    "    ('bike_Time',[2]),    \n",
    "    ('wTrnD_Cost',[3]),\n",
    "    ('dTrnW_Cost',[3]),\n",
    "    ('wTrnD_Time',[3]),\n",
    "    ('dTrnW_Time',[3]),\n",
    "    ('walk_Distance',[4]),\n",
    "    ('walk_Time',[4]),  \n",
    "    \n",
    "    \n",
    "])"
   ]
  },
  {
   "cell_type": "code",
   "execution_count": 216,
   "metadata": {},
   "outputs": [
    {
     "name": "stdout",
     "output_type": "stream",
     "text": [
      "Log-likelihood at zero: -13,377.6479\n",
      "Initial Log-likelihood: -13,377.6479\n",
      "Estimation Time for Point Estimation: 0.98 seconds.\n",
      "Final log-likelihood: -4,625.8747\n",
      "                     Multinomial Logit Model Regression Results                    \n",
      "===================================================================================\n",
      "Dep. Variable:                     _chosen   No. Observations:                8,496\n",
      "Model:             Multinomial Logit Model   Df Residuals:                    8,479\n",
      "Method:                                MLE   Df Model:                           17\n",
      "Date:                     Wed, 17 Oct 2018   Pseudo R-squ.:                   0.654\n",
      "Time:                             21:51:28   Pseudo R-bar-squ.:               0.653\n",
      "AIC:                             9,285.749   Log-Likelihood:             -4,625.875\n",
      "BIC:                             9,405.554   LL-Null:                   -13,377.648\n",
      "===================================================================================\n",
      "                      coef    std err          z      P>|z|      [0.025      0.975]\n",
      "-----------------------------------------------------------------------------------\n",
      "intercept_0        -3.7617      1.016     -3.704      0.000      -5.752      -1.771\n",
      "intercept_1         2.3240      0.052     44.500      0.000       2.222       2.426\n",
      "intercept_2        -0.0415      0.067     -0.619      0.536      -0.173       0.090\n",
      "intercept_3        -0.4925      0.084     -5.848      0.000      -0.658      -0.327\n",
      "da_Distance_0      -0.2766      0.223     -1.241      0.215      -0.714       0.160\n",
      "da_Cost_0           0.0005      0.007      0.075      0.940      -0.012       0.013\n",
      "da_Time_0           0.0822      0.165      0.499      0.617      -0.240       0.405\n",
      "wTrnW_Cost_1    -1.064e-05   3.92e-05     -0.272      0.786   -8.74e-05    6.61e-05\n",
      "wTrnW_Time_1        0.0001   3.81e-05      3.330      0.001    5.22e-05       0.000\n",
      "bike_Distance_2   9.45e-05   3.27e-05      2.887      0.004    3.03e-05       0.000\n",
      "bike_Time_2      5.903e-05   3.44e-05      1.715      0.086   -8.44e-06       0.000\n",
      "wTrnD_Cost_3    -7.679e-05   8.31e-05     -0.925      0.355      -0.000     8.6e-05\n",
      "dTrnW_Cost_3    -7.272e-05   8.25e-05     -0.882      0.378      -0.000    8.89e-05\n",
      "wTrnD_Time_3     5.724e-05   8.03e-05      0.713      0.476      -0.000       0.000\n",
      "dTrnW_Time_3     5.326e-05   7.97e-05      0.668      0.504      -0.000       0.000\n",
      "walk_Distance_4     0.0001   2.98e-05      3.786      0.000    5.45e-05       0.000\n",
      "walk_Time_4      9.291e-05   3.17e-05      2.935      0.003    3.09e-05       0.000\n",
      "===================================================================================\n"
     ]
    }
   ],
   "source": [
    "m.fit()"
   ]
  },
  {
   "cell_type": "code",
   "execution_count": null,
   "metadata": {},
   "outputs": [],
   "source": []
  },
  {
   "cell_type": "code",
   "execution_count": null,
   "metadata": {},
   "outputs": [],
   "source": []
  },
  {
   "cell_type": "code",
   "execution_count": null,
   "metadata": {},
   "outputs": [],
   "source": []
  },
  {
   "cell_type": "code",
   "execution_count": null,
   "metadata": {},
   "outputs": [],
   "source": []
  },
  {
   "cell_type": "code",
   "execution_count": null,
   "metadata": {},
   "outputs": [],
   "source": []
  },
  {
   "cell_type": "code",
   "execution_count": null,
   "metadata": {},
   "outputs": [],
   "source": []
  },
  {
   "cell_type": "code",
   "execution_count": null,
   "metadata": {},
   "outputs": [],
   "source": []
  }
 ],
 "metadata": {
  "kernelspec": {
   "display_name": "Python 3",
   "language": "python",
   "name": "python3"
  },
  "language_info": {
   "codemirror_mode": {
    "name": "ipython",
    "version": 3
   },
   "file_extension": ".py",
   "mimetype": "text/x-python",
   "name": "python",
   "nbconvert_exporter": "python",
   "pygments_lexer": "ipython3",
   "version": "3.6.6"
  }
 },
 "nbformat": 4,
 "nbformat_minor": 2
}
