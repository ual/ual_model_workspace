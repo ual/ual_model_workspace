{
 "cells": [
  {
   "cell_type": "code",
   "execution_count": 1,
   "metadata": {},
   "outputs": [
    {
     "name": "stderr",
     "output_type": "stream",
     "text": [
      "/home/max/anaconda3/envs/ual-model/lib/python3.6/importlib/_bootstrap.py:219: RuntimeWarning: numpy.dtype size changed, may indicate binary incompatibility. Expected 96, got 88\n",
      "  return f(*args, **kwds)\n"
     ]
    }
   ],
   "source": [
    "from urbansim_templates import modelmanager as mm\n",
    "from urbansim_templates.models import LargeMultinomialLogitStep\n",
    "import orca\n",
    "import os; os.chdir('../')\n",
    "import warnings;warnings.simplefilter('ignore')"
   ]
  },
  {
   "cell_type": "markdown",
   "metadata": {},
   "source": [
    "### Load Data"
   ]
  },
  {
   "cell_type": "code",
   "execution_count": 2,
   "metadata": {},
   "outputs": [],
   "source": [
    "from scripts import datasources\n",
    "from scripts import models"
   ]
  },
  {
   "cell_type": "markdown",
   "metadata": {},
   "source": [
    "### Generate Accessibility Vars"
   ]
  },
  {
   "cell_type": "markdown",
   "metadata": {},
   "source": [
    "#### This step can be skipped if previously computed network vars tables have been loaded via datasources.py"
   ]
  },
  {
   "cell_type": "code",
   "execution_count": 3,
   "metadata": {},
   "outputs": [
    {
     "name": "stdout",
     "output_type": "stream",
     "text": [
      "Running step 'initialize_network_small'\n"
     ]
    },
    {
     "ename": "OSError",
     "evalue": "Initializing from file failed",
     "output_type": "error",
     "traceback": [
      "\u001b[0;31m---------------------------------------------------------------------------\u001b[0m",
      "\u001b[0;31mOSError\u001b[0m                                   Traceback (most recent call last)",
      "\u001b[0;32m<timed eval>\u001b[0m in \u001b[0;36m<module>\u001b[0;34m()\u001b[0m\n",
      "\u001b[0;32m~/anaconda3/envs/ual-model/lib/python3.6/site-packages/orca/orca.py\u001b[0m in \u001b[0;36mrun\u001b[0;34m(steps, iter_vars, data_out, out_interval, out_base_tables, out_run_tables, compress, out_base_local, out_run_local)\u001b[0m\n\u001b[1;32m   1985\u001b[0m                 \u001b[0mstep\u001b[0m \u001b[0;34m=\u001b[0m \u001b[0mget_step\u001b[0m\u001b[0;34m(\u001b[0m\u001b[0mstep_name\u001b[0m\u001b[0;34m)\u001b[0m\u001b[0;34m\u001b[0m\u001b[0m\n\u001b[1;32m   1986\u001b[0m                 \u001b[0mt2\u001b[0m \u001b[0;34m=\u001b[0m \u001b[0mtime\u001b[0m\u001b[0;34m.\u001b[0m\u001b[0mtime\u001b[0m\u001b[0;34m(\u001b[0m\u001b[0;34m)\u001b[0m\u001b[0;34m\u001b[0m\u001b[0m\n\u001b[0;32m-> 1987\u001b[0;31m                 \u001b[0mstep\u001b[0m\u001b[0;34m(\u001b[0m\u001b[0;34m)\u001b[0m\u001b[0;34m\u001b[0m\u001b[0m\n\u001b[0m\u001b[1;32m   1988\u001b[0m                 print(\"Time to execute step '{}': {:.2f} s\".format(\n\u001b[1;32m   1989\u001b[0m                       step_name, time.time() - t2))\n",
      "\u001b[0;32m~/anaconda3/envs/ual-model/lib/python3.6/site-packages/orca/orca.py\u001b[0m in \u001b[0;36m__call__\u001b[0;34m(self)\u001b[0m\n\u001b[1;32m    790\u001b[0m             kwargs = _collect_variables(names=self._argspec.args,\n\u001b[1;32m    791\u001b[0m                                         expressions=self._argspec.defaults)\n\u001b[0;32m--> 792\u001b[0;31m             \u001b[0;32mreturn\u001b[0m \u001b[0mself\u001b[0m\u001b[0;34m.\u001b[0m\u001b[0m_func\u001b[0m\u001b[0;34m(\u001b[0m\u001b[0;34m**\u001b[0m\u001b[0mkwargs\u001b[0m\u001b[0;34m)\u001b[0m\u001b[0;34m\u001b[0m\u001b[0m\n\u001b[0m\u001b[1;32m    793\u001b[0m \u001b[0;34m\u001b[0m\u001b[0m\n\u001b[1;32m    794\u001b[0m     \u001b[0;32mdef\u001b[0m \u001b[0m_tables_used\u001b[0m\u001b[0;34m(\u001b[0m\u001b[0mself\u001b[0m\u001b[0;34m)\u001b[0m\u001b[0;34m:\u001b[0m\u001b[0;34m\u001b[0m\u001b[0m\n",
      "\u001b[0;32m~/projects/ual_model_workspace/fall-2018-models/scripts/models.py\u001b[0m in \u001b[0;36minitialize_network_small\u001b[0;34m()\u001b[0m\n\u001b[1;32m     38\u001b[0m \u001b[0;34m\u001b[0m\u001b[0m\n\u001b[1;32m     39\u001b[0m     \u001b[0mparcels\u001b[0m \u001b[0;34m=\u001b[0m \u001b[0morca\u001b[0m\u001b[0;34m.\u001b[0m\u001b[0mget_table\u001b[0m\u001b[0;34m(\u001b[0m\u001b[0;34m'parcels'\u001b[0m\u001b[0;34m)\u001b[0m\u001b[0;34m.\u001b[0m\u001b[0mto_frame\u001b[0m\u001b[0;34m(\u001b[0m\u001b[0mcolumns\u001b[0m\u001b[0;34m=\u001b[0m\u001b[0;34m[\u001b[0m\u001b[0;34m'x'\u001b[0m\u001b[0;34m,\u001b[0m \u001b[0;34m'y'\u001b[0m\u001b[0;34m]\u001b[0m\u001b[0;34m)\u001b[0m\u001b[0;34m\u001b[0m\u001b[0m\n\u001b[0;32m---> 40\u001b[0;31m     idssmall_parcel = orca.get_injectable('netsmall').get_node_ids(\n\u001b[0m\u001b[1;32m     41\u001b[0m         parcels.x, parcels.y)\n\u001b[1;32m     42\u001b[0m     \u001b[0morca\u001b[0m\u001b[0;34m.\u001b[0m\u001b[0madd_column\u001b[0m\u001b[0;34m(\u001b[0m\u001b[0;34m'parcels'\u001b[0m\u001b[0;34m,\u001b[0m \u001b[0;34m'node_id_small'\u001b[0m\u001b[0;34m,\u001b[0m \u001b[0midssmall_parcel\u001b[0m\u001b[0;34m,\u001b[0m \u001b[0mcache\u001b[0m\u001b[0;34m=\u001b[0m\u001b[0;32mFalse\u001b[0m\u001b[0;34m)\u001b[0m\u001b[0;34m\u001b[0m\u001b[0m\n",
      "\u001b[0;32m~/anaconda3/envs/ual-model/lib/python3.6/site-packages/orca/orca.py\u001b[0m in \u001b[0;36mget_injectable\u001b[0;34m(name)\u001b[0m\n\u001b[1;32m   1442\u001b[0m     \"\"\"\n\u001b[1;32m   1443\u001b[0m     \u001b[0mi\u001b[0m \u001b[0;34m=\u001b[0m \u001b[0mget_raw_injectable\u001b[0m\u001b[0;34m(\u001b[0m\u001b[0mname\u001b[0m\u001b[0;34m)\u001b[0m\u001b[0;34m\u001b[0m\u001b[0m\n\u001b[0;32m-> 1444\u001b[0;31m     \u001b[0;32mreturn\u001b[0m \u001b[0mi\u001b[0m\u001b[0;34m(\u001b[0m\u001b[0;34m)\u001b[0m \u001b[0;32mif\u001b[0m \u001b[0misinstance\u001b[0m\u001b[0;34m(\u001b[0m\u001b[0mi\u001b[0m\u001b[0;34m,\u001b[0m \u001b[0m_InjectableFuncWrapper\u001b[0m\u001b[0;34m)\u001b[0m \u001b[0;32melse\u001b[0m \u001b[0mi\u001b[0m\u001b[0;34m\u001b[0m\u001b[0m\n\u001b[0m\u001b[1;32m   1445\u001b[0m \u001b[0;34m\u001b[0m\u001b[0m\n\u001b[1;32m   1446\u001b[0m \u001b[0;34m\u001b[0m\u001b[0m\n",
      "\u001b[0;32m~/anaconda3/envs/ual-model/lib/python3.6/site-packages/orca/orca.py\u001b[0m in \u001b[0;36m__call__\u001b[0;34m(self)\u001b[0m\n\u001b[1;32m    747\u001b[0m             kwargs = _collect_variables(names=self._argspec.args,\n\u001b[1;32m    748\u001b[0m                                         expressions=self._argspec.defaults)\n\u001b[0;32m--> 749\u001b[0;31m             \u001b[0mresult\u001b[0m \u001b[0;34m=\u001b[0m \u001b[0mself\u001b[0m\u001b[0;34m.\u001b[0m\u001b[0m_func\u001b[0m\u001b[0;34m(\u001b[0m\u001b[0;34m**\u001b[0m\u001b[0mkwargs\u001b[0m\u001b[0;34m)\u001b[0m\u001b[0;34m\u001b[0m\u001b[0m\n\u001b[0m\u001b[1;32m    750\u001b[0m \u001b[0;34m\u001b[0m\u001b[0m\n\u001b[1;32m    751\u001b[0m         \u001b[0;32mif\u001b[0m \u001b[0mself\u001b[0m\u001b[0;34m.\u001b[0m\u001b[0mcache\u001b[0m\u001b[0;34m:\u001b[0m\u001b[0;34m\u001b[0m\u001b[0m\n",
      "\u001b[0;32m~/projects/ual_model_workspace/fall-2018-models/scripts/models.py\u001b[0m in \u001b[0;36mbuild_networksmall\u001b[0;34m()\u001b[0m\n\u001b[1;32m     28\u001b[0m     \u001b[0;34m@\u001b[0m\u001b[0morca\u001b[0m\u001b[0;34m.\u001b[0m\u001b[0minjectable\u001b[0m\u001b[0;34m(\u001b[0m\u001b[0;34m'netsmall'\u001b[0m\u001b[0;34m,\u001b[0m \u001b[0mcache\u001b[0m\u001b[0;34m=\u001b[0m\u001b[0;32mTrue\u001b[0m\u001b[0;34m)\u001b[0m\u001b[0;34m\u001b[0m\u001b[0m\n\u001b[1;32m     29\u001b[0m     \u001b[0;32mdef\u001b[0m \u001b[0mbuild_networksmall\u001b[0m\u001b[0;34m(\u001b[0m\u001b[0;34m)\u001b[0m\u001b[0;34m:\u001b[0m\u001b[0;34m\u001b[0m\u001b[0m\n\u001b[0;32m---> 30\u001b[0;31m         \u001b[0mnodessmall\u001b[0m \u001b[0;34m=\u001b[0m \u001b[0mpd\u001b[0m\u001b[0;34m.\u001b[0m\u001b[0mread_csv\u001b[0m\u001b[0;34m(\u001b[0m\u001b[0md\u001b[0m \u001b[0;34m+\u001b[0m \u001b[0;34m'bay_area_tertiary_strongly_nodes.csv'\u001b[0m\u001b[0;34m)\u001b[0m\u001b[0;31m \u001b[0m\u001b[0;31m\\\u001b[0m\u001b[0;34m\u001b[0m\u001b[0m\n\u001b[0m\u001b[1;32m     31\u001b[0m             \u001b[0;34m.\u001b[0m\u001b[0mset_index\u001b[0m\u001b[0;34m(\u001b[0m\u001b[0;34m'osmid'\u001b[0m\u001b[0;34m)\u001b[0m\u001b[0;34m\u001b[0m\u001b[0m\n\u001b[1;32m     32\u001b[0m         \u001b[0medgessmall\u001b[0m \u001b[0;34m=\u001b[0m \u001b[0mpd\u001b[0m\u001b[0;34m.\u001b[0m\u001b[0mread_csv\u001b[0m\u001b[0;34m(\u001b[0m\u001b[0md\u001b[0m \u001b[0;34m+\u001b[0m \u001b[0;34m'bay_area_tertiary_strongly_edges.csv'\u001b[0m\u001b[0;34m)\u001b[0m\u001b[0;34m\u001b[0m\u001b[0m\n",
      "\u001b[0;32m~/anaconda3/envs/ual-model/lib/python3.6/site-packages/pandas/io/parsers.py\u001b[0m in \u001b[0;36mparser_f\u001b[0;34m(filepath_or_buffer, sep, delimiter, header, names, index_col, usecols, squeeze, prefix, mangle_dupe_cols, dtype, engine, converters, true_values, false_values, skipinitialspace, skiprows, nrows, na_values, keep_default_na, na_filter, verbose, skip_blank_lines, parse_dates, infer_datetime_format, keep_date_col, date_parser, dayfirst, iterator, chunksize, compression, thousands, decimal, lineterminator, quotechar, quoting, escapechar, comment, encoding, dialect, tupleize_cols, error_bad_lines, warn_bad_lines, skipfooter, doublequote, delim_whitespace, low_memory, memory_map, float_precision)\u001b[0m\n\u001b[1;32m    676\u001b[0m                     skip_blank_lines=skip_blank_lines)\n\u001b[1;32m    677\u001b[0m \u001b[0;34m\u001b[0m\u001b[0m\n\u001b[0;32m--> 678\u001b[0;31m         \u001b[0;32mreturn\u001b[0m \u001b[0m_read\u001b[0m\u001b[0;34m(\u001b[0m\u001b[0mfilepath_or_buffer\u001b[0m\u001b[0;34m,\u001b[0m \u001b[0mkwds\u001b[0m\u001b[0;34m)\u001b[0m\u001b[0;34m\u001b[0m\u001b[0m\n\u001b[0m\u001b[1;32m    679\u001b[0m \u001b[0;34m\u001b[0m\u001b[0m\n\u001b[1;32m    680\u001b[0m     \u001b[0mparser_f\u001b[0m\u001b[0;34m.\u001b[0m\u001b[0m__name__\u001b[0m \u001b[0;34m=\u001b[0m \u001b[0mname\u001b[0m\u001b[0;34m\u001b[0m\u001b[0m\n",
      "\u001b[0;32m~/anaconda3/envs/ual-model/lib/python3.6/site-packages/pandas/io/parsers.py\u001b[0m in \u001b[0;36m_read\u001b[0;34m(filepath_or_buffer, kwds)\u001b[0m\n\u001b[1;32m    438\u001b[0m \u001b[0;34m\u001b[0m\u001b[0m\n\u001b[1;32m    439\u001b[0m     \u001b[0;31m# Create the parser.\u001b[0m\u001b[0;34m\u001b[0m\u001b[0;34m\u001b[0m\u001b[0m\n\u001b[0;32m--> 440\u001b[0;31m     \u001b[0mparser\u001b[0m \u001b[0;34m=\u001b[0m \u001b[0mTextFileReader\u001b[0m\u001b[0;34m(\u001b[0m\u001b[0mfilepath_or_buffer\u001b[0m\u001b[0;34m,\u001b[0m \u001b[0;34m**\u001b[0m\u001b[0mkwds\u001b[0m\u001b[0;34m)\u001b[0m\u001b[0;34m\u001b[0m\u001b[0m\n\u001b[0m\u001b[1;32m    441\u001b[0m \u001b[0;34m\u001b[0m\u001b[0m\n\u001b[1;32m    442\u001b[0m     \u001b[0;32mif\u001b[0m \u001b[0mchunksize\u001b[0m \u001b[0;32mor\u001b[0m \u001b[0miterator\u001b[0m\u001b[0;34m:\u001b[0m\u001b[0;34m\u001b[0m\u001b[0m\n",
      "\u001b[0;32m~/anaconda3/envs/ual-model/lib/python3.6/site-packages/pandas/io/parsers.py\u001b[0m in \u001b[0;36m__init__\u001b[0;34m(self, f, engine, **kwds)\u001b[0m\n\u001b[1;32m    785\u001b[0m             \u001b[0mself\u001b[0m\u001b[0;34m.\u001b[0m\u001b[0moptions\u001b[0m\u001b[0;34m[\u001b[0m\u001b[0;34m'has_index_names'\u001b[0m\u001b[0;34m]\u001b[0m \u001b[0;34m=\u001b[0m \u001b[0mkwds\u001b[0m\u001b[0;34m[\u001b[0m\u001b[0;34m'has_index_names'\u001b[0m\u001b[0;34m]\u001b[0m\u001b[0;34m\u001b[0m\u001b[0m\n\u001b[1;32m    786\u001b[0m \u001b[0;34m\u001b[0m\u001b[0m\n\u001b[0;32m--> 787\u001b[0;31m         \u001b[0mself\u001b[0m\u001b[0;34m.\u001b[0m\u001b[0m_make_engine\u001b[0m\u001b[0;34m(\u001b[0m\u001b[0mself\u001b[0m\u001b[0;34m.\u001b[0m\u001b[0mengine\u001b[0m\u001b[0;34m)\u001b[0m\u001b[0;34m\u001b[0m\u001b[0m\n\u001b[0m\u001b[1;32m    788\u001b[0m \u001b[0;34m\u001b[0m\u001b[0m\n\u001b[1;32m    789\u001b[0m     \u001b[0;32mdef\u001b[0m \u001b[0mclose\u001b[0m\u001b[0;34m(\u001b[0m\u001b[0mself\u001b[0m\u001b[0;34m)\u001b[0m\u001b[0;34m:\u001b[0m\u001b[0;34m\u001b[0m\u001b[0m\n",
      "\u001b[0;32m~/anaconda3/envs/ual-model/lib/python3.6/site-packages/pandas/io/parsers.py\u001b[0m in \u001b[0;36m_make_engine\u001b[0;34m(self, engine)\u001b[0m\n\u001b[1;32m   1012\u001b[0m     \u001b[0;32mdef\u001b[0m \u001b[0m_make_engine\u001b[0m\u001b[0;34m(\u001b[0m\u001b[0mself\u001b[0m\u001b[0;34m,\u001b[0m \u001b[0mengine\u001b[0m\u001b[0;34m=\u001b[0m\u001b[0;34m'c'\u001b[0m\u001b[0;34m)\u001b[0m\u001b[0;34m:\u001b[0m\u001b[0;34m\u001b[0m\u001b[0m\n\u001b[1;32m   1013\u001b[0m         \u001b[0;32mif\u001b[0m \u001b[0mengine\u001b[0m \u001b[0;34m==\u001b[0m \u001b[0;34m'c'\u001b[0m\u001b[0;34m:\u001b[0m\u001b[0;34m\u001b[0m\u001b[0m\n\u001b[0;32m-> 1014\u001b[0;31m             \u001b[0mself\u001b[0m\u001b[0;34m.\u001b[0m\u001b[0m_engine\u001b[0m \u001b[0;34m=\u001b[0m \u001b[0mCParserWrapper\u001b[0m\u001b[0;34m(\u001b[0m\u001b[0mself\u001b[0m\u001b[0;34m.\u001b[0m\u001b[0mf\u001b[0m\u001b[0;34m,\u001b[0m \u001b[0;34m**\u001b[0m\u001b[0mself\u001b[0m\u001b[0;34m.\u001b[0m\u001b[0moptions\u001b[0m\u001b[0;34m)\u001b[0m\u001b[0;34m\u001b[0m\u001b[0m\n\u001b[0m\u001b[1;32m   1015\u001b[0m         \u001b[0;32melse\u001b[0m\u001b[0;34m:\u001b[0m\u001b[0;34m\u001b[0m\u001b[0m\n\u001b[1;32m   1016\u001b[0m             \u001b[0;32mif\u001b[0m \u001b[0mengine\u001b[0m \u001b[0;34m==\u001b[0m \u001b[0;34m'python'\u001b[0m\u001b[0;34m:\u001b[0m\u001b[0;34m\u001b[0m\u001b[0m\n",
      "\u001b[0;32m~/anaconda3/envs/ual-model/lib/python3.6/site-packages/pandas/io/parsers.py\u001b[0m in \u001b[0;36m__init__\u001b[0;34m(self, src, **kwds)\u001b[0m\n\u001b[1;32m   1706\u001b[0m         \u001b[0mkwds\u001b[0m\u001b[0;34m[\u001b[0m\u001b[0;34m'usecols'\u001b[0m\u001b[0;34m]\u001b[0m \u001b[0;34m=\u001b[0m \u001b[0mself\u001b[0m\u001b[0;34m.\u001b[0m\u001b[0musecols\u001b[0m\u001b[0;34m\u001b[0m\u001b[0m\n\u001b[1;32m   1707\u001b[0m \u001b[0;34m\u001b[0m\u001b[0m\n\u001b[0;32m-> 1708\u001b[0;31m         \u001b[0mself\u001b[0m\u001b[0;34m.\u001b[0m\u001b[0m_reader\u001b[0m \u001b[0;34m=\u001b[0m \u001b[0mparsers\u001b[0m\u001b[0;34m.\u001b[0m\u001b[0mTextReader\u001b[0m\u001b[0;34m(\u001b[0m\u001b[0msrc\u001b[0m\u001b[0;34m,\u001b[0m \u001b[0;34m**\u001b[0m\u001b[0mkwds\u001b[0m\u001b[0;34m)\u001b[0m\u001b[0;34m\u001b[0m\u001b[0m\n\u001b[0m\u001b[1;32m   1709\u001b[0m \u001b[0;34m\u001b[0m\u001b[0m\n\u001b[1;32m   1710\u001b[0m         \u001b[0mpassed_names\u001b[0m \u001b[0;34m=\u001b[0m \u001b[0mself\u001b[0m\u001b[0;34m.\u001b[0m\u001b[0mnames\u001b[0m \u001b[0;32mis\u001b[0m \u001b[0;32mNone\u001b[0m\u001b[0;34m\u001b[0m\u001b[0m\n",
      "\u001b[0;32mpandas/_libs/parsers.pyx\u001b[0m in \u001b[0;36mpandas._libs.parsers.TextReader.__cinit__\u001b[0;34m()\u001b[0m\n",
      "\u001b[0;32mpandas/_libs/parsers.pyx\u001b[0m in \u001b[0;36mpandas._libs.parsers.TextReader._setup_parser_source\u001b[0;34m()\u001b[0m\n",
      "\u001b[0;31mOSError\u001b[0m: Initializing from file failed"
     ]
    }
   ],
   "source": [
    "%%time\n",
    "orca.run(['initialize_network_small', 'network_aggregations_small'])"
   ]
  },
  {
   "cell_type": "code",
   "execution_count": 4,
   "metadata": {},
   "outputs": [
    {
     "name": "stdout",
     "output_type": "stream",
     "text": [
      "Running step 'initialize_network_walk'\n",
      "Time to execute step 'initialize_network_walk': 31.94 s\n",
      "Running step 'network_aggregations_walk'\n",
      "Computing accessibility variables\n"
     ]
    },
    {
     "ename": "FileNotFoundError",
     "evalue": "[Errno 2] No such file or directory: './configs/network_aggregations_walk.yaml'",
     "output_type": "error",
     "traceback": [
      "\u001b[0;31m---------------------------------------------------------------------------\u001b[0m",
      "\u001b[0;31mFileNotFoundError\u001b[0m                         Traceback (most recent call last)",
      "\u001b[0;32m<timed eval>\u001b[0m in \u001b[0;36m<module>\u001b[0;34m()\u001b[0m\n",
      "\u001b[0;32m~/anaconda3/envs/ual-model/lib/python3.6/site-packages/orca/orca.py\u001b[0m in \u001b[0;36mrun\u001b[0;34m(steps, iter_vars, data_out, out_interval, out_base_tables, out_run_tables, compress, out_base_local, out_run_local)\u001b[0m\n\u001b[1;32m   1985\u001b[0m                 \u001b[0mstep\u001b[0m \u001b[0;34m=\u001b[0m \u001b[0mget_step\u001b[0m\u001b[0;34m(\u001b[0m\u001b[0mstep_name\u001b[0m\u001b[0;34m)\u001b[0m\u001b[0;34m\u001b[0m\u001b[0m\n\u001b[1;32m   1986\u001b[0m                 \u001b[0mt2\u001b[0m \u001b[0;34m=\u001b[0m \u001b[0mtime\u001b[0m\u001b[0;34m.\u001b[0m\u001b[0mtime\u001b[0m\u001b[0;34m(\u001b[0m\u001b[0;34m)\u001b[0m\u001b[0;34m\u001b[0m\u001b[0m\n\u001b[0;32m-> 1987\u001b[0;31m                 \u001b[0mstep\u001b[0m\u001b[0;34m(\u001b[0m\u001b[0;34m)\u001b[0m\u001b[0;34m\u001b[0m\u001b[0m\n\u001b[0m\u001b[1;32m   1988\u001b[0m                 print(\"Time to execute step '{}': {:.2f} s\".format(\n\u001b[1;32m   1989\u001b[0m                       step_name, time.time() - t2))\n",
      "\u001b[0;32m~/anaconda3/envs/ual-model/lib/python3.6/site-packages/orca/orca.py\u001b[0m in \u001b[0;36m__call__\u001b[0;34m(self)\u001b[0m\n\u001b[1;32m    790\u001b[0m             kwargs = _collect_variables(names=self._argspec.args,\n\u001b[1;32m    791\u001b[0m                                         expressions=self._argspec.defaults)\n\u001b[0;32m--> 792\u001b[0;31m             \u001b[0;32mreturn\u001b[0m \u001b[0mself\u001b[0m\u001b[0;34m.\u001b[0m\u001b[0m_func\u001b[0m\u001b[0;34m(\u001b[0m\u001b[0;34m**\u001b[0m\u001b[0mkwargs\u001b[0m\u001b[0;34m)\u001b[0m\u001b[0;34m\u001b[0m\u001b[0m\n\u001b[0m\u001b[1;32m    793\u001b[0m \u001b[0;34m\u001b[0m\u001b[0m\n\u001b[1;32m    794\u001b[0m     \u001b[0;32mdef\u001b[0m \u001b[0m_tables_used\u001b[0m\u001b[0;34m(\u001b[0m\u001b[0mself\u001b[0m\u001b[0;34m)\u001b[0m\u001b[0;34m:\u001b[0m\u001b[0;34m\u001b[0m\u001b[0m\n",
      "\u001b[0;32m~/projects/ual_model_workspace/fall-2018-models/scripts/models.py\u001b[0m in \u001b[0;36mnetwork_aggregations_walk\u001b[0;34m(netwalk)\u001b[0m\n\u001b[1;32m    232\u001b[0m     \"\"\"\n\u001b[1;32m    233\u001b[0m \u001b[0;34m\u001b[0m\u001b[0m\n\u001b[0;32m--> 234\u001b[0;31m     \u001b[0mnodeswalk\u001b[0m \u001b[0;34m=\u001b[0m \u001b[0mnetworks\u001b[0m\u001b[0;34m.\u001b[0m\u001b[0mfrom_yaml\u001b[0m\u001b[0;34m(\u001b[0m\u001b[0mnetwalk\u001b[0m\u001b[0;34m,\u001b[0m \u001b[0;34m'network_aggregations_walk.yaml'\u001b[0m\u001b[0;34m)\u001b[0m\u001b[0;34m\u001b[0m\u001b[0m\n\u001b[0m\u001b[1;32m    235\u001b[0m     \u001b[0mnodeswalk\u001b[0m \u001b[0;34m=\u001b[0m \u001b[0mnodeswalk\u001b[0m\u001b[0;34m.\u001b[0m\u001b[0mfillna\u001b[0m\u001b[0;34m(\u001b[0m\u001b[0;36m0\u001b[0m\u001b[0;34m)\u001b[0m\u001b[0;34m\u001b[0m\u001b[0m\n\u001b[1;32m    236\u001b[0m     \u001b[0mprint\u001b[0m\u001b[0;34m(\u001b[0m\u001b[0mnodeswalk\u001b[0m\u001b[0;34m.\u001b[0m\u001b[0mdescribe\u001b[0m\u001b[0;34m(\u001b[0m\u001b[0;34m)\u001b[0m\u001b[0;34m)\u001b[0m\u001b[0;34m\u001b[0m\u001b[0m\n",
      "\u001b[0;32m~/anaconda3/envs/ual-model/lib/python3.6/site-packages/urbansim-3.1.1-py3.6.egg/urbansim/utils/networks.py\u001b[0m in \u001b[0;36mfrom_yaml\u001b[0;34m(net, cfgname)\u001b[0m\n\u001b[1;32m     16\u001b[0m \u001b[0;32mdef\u001b[0m \u001b[0mfrom_yaml\u001b[0m\u001b[0;34m(\u001b[0m\u001b[0mnet\u001b[0m\u001b[0;34m,\u001b[0m \u001b[0mcfgname\u001b[0m\u001b[0;34m)\u001b[0m\u001b[0;34m:\u001b[0m\u001b[0;34m\u001b[0m\u001b[0m\n\u001b[1;32m     17\u001b[0m     \u001b[0mprint\u001b[0m\u001b[0;34m(\u001b[0m\u001b[0;34m\"Computing accessibility variables\"\u001b[0m\u001b[0;34m)\u001b[0m\u001b[0;34m\u001b[0m\u001b[0m\n\u001b[0;32m---> 18\u001b[0;31m     \u001b[0mcfg\u001b[0m \u001b[0;34m=\u001b[0m \u001b[0myaml\u001b[0m\u001b[0;34m.\u001b[0m\u001b[0mload\u001b[0m\u001b[0;34m(\u001b[0m\u001b[0mopen\u001b[0m\u001b[0;34m(\u001b[0m\u001b[0mmisc\u001b[0m\u001b[0;34m.\u001b[0m\u001b[0mconfig\u001b[0m\u001b[0;34m(\u001b[0m\u001b[0mcfgname\u001b[0m\u001b[0;34m)\u001b[0m\u001b[0;34m)\u001b[0m\u001b[0;34m)\u001b[0m\u001b[0;34m\u001b[0m\u001b[0m\n\u001b[0m\u001b[1;32m     19\u001b[0m \u001b[0;34m\u001b[0m\u001b[0m\n\u001b[1;32m     20\u001b[0m     \u001b[0mnodes\u001b[0m \u001b[0;34m=\u001b[0m \u001b[0mpd\u001b[0m\u001b[0;34m.\u001b[0m\u001b[0mDataFrame\u001b[0m\u001b[0;34m(\u001b[0m\u001b[0mindex\u001b[0m\u001b[0;34m=\u001b[0m\u001b[0mnet\u001b[0m\u001b[0;34m.\u001b[0m\u001b[0mnode_ids\u001b[0m\u001b[0;34m)\u001b[0m\u001b[0;34m\u001b[0m\u001b[0m\n",
      "\u001b[0;31mFileNotFoundError\u001b[0m: [Errno 2] No such file or directory: './configs/network_aggregations_walk.yaml'"
     ]
    }
   ],
   "source": [
    "%%time\n",
    "orca.run(['initialize_network_walk','network_aggregations_walk'])"
   ]
  },
  {
   "cell_type": "code",
   "execution_count": null,
   "metadata": {},
   "outputs": [],
   "source": [
    "orca.list_broadcasts()"
   ]
  },
  {
   "cell_type": "markdown",
   "metadata": {},
   "source": [
    "### List data tables and columns"
   ]
  },
  {
   "cell_type": "code",
   "execution_count": 7,
   "metadata": {
    "scrolled": true
   },
   "outputs": [
    {
     "name": "stdout",
     "output_type": "stream",
     "text": [
      "PARCELS\n",
      "['development_type_id', 'land_value', 'acres', 'county_id', 'zone_id', 'proportion_undevelopable', 'tax_exempt_status', 'apn', 'parcel_id_local', 'geom_id', 'imputation_flag', 'x', 'y', 'shape_area', 'block_id', 'node_id', 'node_id_small', 'node_id_walk']\n",
      "\n",
      "BUILDINGS\n",
      "['parcel_id', 'development_type_id', 'improvement_value', 'residential_units', 'residential_sqft', 'sqft_per_unit', 'non_residential_sqft', 'building_sqft', 'nonres_rent_per_sqft', 'res_price_per_sqft', 'stories', 'year_built', 'redfin_sale_price', 'redfin_sale_year', 'redfin_home_type', 'costar_property_type', 'costar_rent', 'building_type_id', 'res_sqft_per_unit', 'node_id_small', 'node_id_walk']\n",
      "\n",
      "CRAIGSLIST\n",
      "['date', 'region', 'neighborhood', 'rent', 'bedrooms', 'sqft', 'rent_sqft', 'longitude', 'latitude', 'county', 'fips_block', 'state', 'bathrooms']\n",
      "\n",
      "RENTALS\n",
      "['Unnamed: 0', 'date', 'region', 'neighborhood', 'rent', 'bedrooms', 'sqft', 'rent_sqft', 'longitude', 'latitude', 'county', 'fips_block', 'state', 'bathrooms', 'node_id_small', 'node_id_walk']\n",
      "\n",
      "UNITS\n",
      "['building_id', 'num_units', 'tenure', 'unit_num', 'unit_residential_price', 'unit_residential_rent', 'node_id_small', 'node_id_walk']\n",
      "\n",
      "HOUSEHOLDS\n",
      "['serialno', 'persons', 'building_type', 'cars', 'income', 'race_of_head', 'hispanic_head', 'age_of_head', 'workers', 'state', 'county', 'tract', 'block_group', 'children', 'tenure', 'recent_mover', 'block_group_id', 'single_family', 'unit_id', 'building_id', 'node_id_small', 'node_id_walk']\n",
      "\n",
      "PERSONS\n",
      "['member_id', 'age', 'relate', 'edu', 'sex', 'hours', 'hispanic', 'earning', 'race_id', 'household_id', 'student', 'work_at_home', 'worker', 'node_id_small', 'node_id_walk']\n",
      "\n",
      "JOBS\n",
      "['building_id', 'sector_id', 'occupation_id', 'node_id_small', 'node_id_walk']\n",
      "\n",
      "NODESSMALL\n",
      "['units_10000', 'units_sf_10000', 'units_mf_10000', 'pop_10000', 'hh_10000', 'poor_10000', 'renters_10000', 'avg_income_10000', 'jobs_10000', 'avg_rent_10000', 'pop_white_10000', 'pop_black_10000', 'pop_asian_10000', 'pop_hisp_10000', 'units_25000', 'units_sf_25000', 'units_mf_25000', 'pop_25000', 'hh_25000', 'poor_25000', 'renters_25000', 'avg_income_25000', 'jobs_25000', 'avg_rent_25000', 'pop_white_25000', 'pop_black_25000', 'pop_asian_25000', 'pop_hisp_25000', 'jobs_10000_retail', 'jobs_25000_retail', 'jobs_10000_fire', 'jobs_25000_fire', 'jobs_10000_tech', 'jobs_25000_tech', 'jobs_10000_serv', 'jobs_25000_serv']\n",
      "\n",
      "NODESWALK\n",
      "['units_500_walk', 'sqft_unit_500_walk', 'singles_500_walk', 'elderly_hh_500_walk', 'children_500_walk', 'units_sf_500_walk', 'units_mf_500_walk', 'pop_500_walk', 'hh_500_walk', 'poor_500_walk', 'rich_500_walk', 'renters_500_walk', 'avg_income_500_walk', 'jobs_500_walk', 'avg_rent_500_walk', 'pop_white_500_walk', 'pop_black_500_walk', 'pop_asian_500_walk', 'pop_hisp_500_walk', 'units_1500_walk', 'sqft_unit_1500_walk', 'singles_1500_walk', 'elderly_hh_1500_walk', 'children_1500_walk', 'units_sf_1500_walk', 'units_mf_1500_walk', 'pop_1500_walk', 'hh_1500_walk', 'poor_1500_walk', 'rich_1500_walk', 'renters_1500_walk', 'avg_income_1500_walk', 'jobs_1500_walk', 'avg_rent_1500_walk', 'pop_white_1500_walk', 'pop_black_1500_walk', 'pop_asian_1500_walk', 'pop_hisp_1500_walk', 'pop_2500_walk', 'pop_white_2500_walk', 'pop_black_2500_walk', 'pop_asian_2500_walk', 'pop_hisp_2500_walk', 'jobs_500_walk_retail', 'jobs_1500_walk_retail', 'jobs_2500_walk_retail', 'jobs_500_walk_fire', 'jobs_1500_walk_fire', 'jobs_2500_walk_fire', 'jobs_500_walk_tech', 'jobs_1500_walk_tech', 'jobs_2500_walk_tech', 'jobs_500_walk_serv', 'jobs_1500_walk_serv', 'jobs_2500_walk_serv']\n",
      "\n"
     ]
    }
   ],
   "source": [
    "for table_name in orca.list_tables():\n",
    "    print(table_name.upper())\n",
    "    print(orca.get_table(table_name).to_frame().columns.tolist())\n",
    "    print()"
   ]
  },
  {
   "cell_type": "code",
   "execution_count": 30,
   "metadata": {},
   "outputs": [
    {
     "data": {
      "text/plain": [
       "[('parcels', 'buildings'),\n",
       " ('buildings', 'units'),\n",
       " ('units', 'households'),\n",
       " ('households', 'persons'),\n",
       " ('nodeswalk', 'rentals'),\n",
       " ('nodeswalk', 'parcels'),\n",
       " ('nodessmall', 'rentals'),\n",
       " ('nodessmall', 'parcels'),\n",
       " ('nodessmall', 'units'),\n",
       " ('nodeswalk', 'units')]"
      ]
     },
     "execution_count": 30,
     "metadata": {},
     "output_type": "execute_result"
    }
   ],
   "source": [
    "orca.list_broadcasts()"
   ]
  },
  {
   "cell_type": "code",
   "execution_count": 31,
   "metadata": {},
   "outputs": [
    {
     "data": {
      "text/html": [
       "<div>\n",
       "<style scoped>\n",
       "    .dataframe tbody tr th:only-of-type {\n",
       "        vertical-align: middle;\n",
       "    }\n",
       "\n",
       "    .dataframe tbody tr th {\n",
       "        vertical-align: top;\n",
       "    }\n",
       "\n",
       "    .dataframe thead th {\n",
       "        text-align: right;\n",
       "    }\n",
       "</style>\n",
       "<table border=\"1\" class=\"dataframe\">\n",
       "  <thead>\n",
       "    <tr style=\"text-align: right;\">\n",
       "      <th></th>\n",
       "      <th>parcel_id</th>\n",
       "      <th>development_type_id</th>\n",
       "      <th>improvement_value</th>\n",
       "      <th>residential_units</th>\n",
       "      <th>residential_sqft</th>\n",
       "      <th>sqft_per_unit</th>\n",
       "      <th>non_residential_sqft</th>\n",
       "      <th>building_sqft</th>\n",
       "      <th>nonres_rent_per_sqft</th>\n",
       "      <th>res_price_per_sqft</th>\n",
       "      <th>stories</th>\n",
       "      <th>year_built</th>\n",
       "      <th>redfin_sale_price</th>\n",
       "      <th>redfin_sale_year</th>\n",
       "      <th>building_type_id</th>\n",
       "      <th>res_sqft_per_unit</th>\n",
       "      <th>node_id_small</th>\n",
       "      <th>node_id_walk</th>\n",
       "    </tr>\n",
       "  </thead>\n",
       "  <tbody>\n",
       "    <tr>\n",
       "      <th>count</th>\n",
       "      <td>1.824229e+06</td>\n",
       "      <td>1.824229e+06</td>\n",
       "      <td>1.824229e+06</td>\n",
       "      <td>1.824229e+06</td>\n",
       "      <td>1.824229e+06</td>\n",
       "      <td>1.824229e+06</td>\n",
       "      <td>1.824229e+06</td>\n",
       "      <td>1.824229e+06</td>\n",
       "      <td>1.824229e+06</td>\n",
       "      <td>1.824229e+06</td>\n",
       "      <td>1.824229e+06</td>\n",
       "      <td>1.824229e+06</td>\n",
       "      <td>1.081100e+06</td>\n",
       "      <td>1.081100e+06</td>\n",
       "      <td>1.824229e+06</td>\n",
       "      <td>1.715474e+06</td>\n",
       "      <td>1.824229e+06</td>\n",
       "      <td>1.824229e+06</td>\n",
       "    </tr>\n",
       "    <tr>\n",
       "      <th>mean</th>\n",
       "      <td>1.012861e+06</td>\n",
       "      <td>1.835162e+00</td>\n",
       "      <td>3.186878e+05</td>\n",
       "      <td>1.534000e+00</td>\n",
       "      <td>2.657113e+03</td>\n",
       "      <td>1.669294e+03</td>\n",
       "      <td>1.280864e+03</td>\n",
       "      <td>3.784462e+03</td>\n",
       "      <td>9.218572e-01</td>\n",
       "      <td>2.927191e+02</td>\n",
       "      <td>1.214429e+00</td>\n",
       "      <td>1.965524e+03</td>\n",
       "      <td>5.287307e+05</td>\n",
       "      <td>2.002828e+03</td>\n",
       "      <td>1.710299e+00</td>\n",
       "      <td>1.781741e+03</td>\n",
       "      <td>7.901671e+08</td>\n",
       "      <td>8.926345e+08</td>\n",
       "    </tr>\n",
       "    <tr>\n",
       "      <th>std</th>\n",
       "      <td>5.938065e+05</td>\n",
       "      <td>3.441080e+00</td>\n",
       "      <td>3.571671e+06</td>\n",
       "      <td>6.137263e+00</td>\n",
       "      <td>3.012408e+04</td>\n",
       "      <td>1.063476e+03</td>\n",
       "      <td>2.392226e+04</td>\n",
       "      <td>3.494568e+04</td>\n",
       "      <td>4.053916e+00</td>\n",
       "      <td>2.647712e+02</td>\n",
       "      <td>5.567798e-01</td>\n",
       "      <td>2.501754e+01</td>\n",
       "      <td>7.188123e+05</td>\n",
       "      <td>7.143867e+00</td>\n",
       "      <td>2.396463e+00</td>\n",
       "      <td>6.803636e+03</td>\n",
       "      <td>1.400113e+09</td>\n",
       "      <td>1.622640e+09</td>\n",
       "    </tr>\n",
       "    <tr>\n",
       "      <th>min</th>\n",
       "      <td>2.600000e+01</td>\n",
       "      <td>-1.000000e+00</td>\n",
       "      <td>0.000000e+00</td>\n",
       "      <td>0.000000e+00</td>\n",
       "      <td>0.000000e+00</td>\n",
       "      <td>0.000000e+00</td>\n",
       "      <td>0.000000e+00</td>\n",
       "      <td>0.000000e+00</td>\n",
       "      <td>0.000000e+00</td>\n",
       "      <td>0.000000e+00</td>\n",
       "      <td>1.000000e+00</td>\n",
       "      <td>1.790000e+03</td>\n",
       "      <td>0.000000e+00</td>\n",
       "      <td>1.962000e+03</td>\n",
       "      <td>0.000000e+00</td>\n",
       "      <td>1.015556e+02</td>\n",
       "      <td>2.812660e+05</td>\n",
       "      <td>2.545794e+07</td>\n",
       "    </tr>\n",
       "    <tr>\n",
       "      <th>25%</th>\n",
       "      <td>4.958500e+05</td>\n",
       "      <td>1.000000e+00</td>\n",
       "      <td>8.267503e+04</td>\n",
       "      <td>1.000000e+00</td>\n",
       "      <td>1.230000e+03</td>\n",
       "      <td>1.176000e+03</td>\n",
       "      <td>0.000000e+00</td>\n",
       "      <td>1.320000e+03</td>\n",
       "      <td>0.000000e+00</td>\n",
       "      <td>1.518671e+02</td>\n",
       "      <td>1.000000e+00</td>\n",
       "      <td>1.952000e+03</td>\n",
       "      <td>2.390000e+05</td>\n",
       "      <td>1.998000e+03</td>\n",
       "      <td>1.000000e+00</td>\n",
       "      <td>1.200000e+03</td>\n",
       "      <td>5.788284e+07</td>\n",
       "      <td>5.789370e+07</td>\n",
       "    </tr>\n",
       "    <tr>\n",
       "      <th>50%</th>\n",
       "      <td>1.002691e+06</td>\n",
       "      <td>1.000000e+00</td>\n",
       "      <td>1.675535e+05</td>\n",
       "      <td>1.000000e+00</td>\n",
       "      <td>1.754000e+03</td>\n",
       "      <td>1.564000e+03</td>\n",
       "      <td>0.000000e+00</td>\n",
       "      <td>1.858000e+03</td>\n",
       "      <td>0.000000e+00</td>\n",
       "      <td>2.544594e+02</td>\n",
       "      <td>1.000000e+00</td>\n",
       "      <td>1.966000e+03</td>\n",
       "      <td>4.000000e+05</td>\n",
       "      <td>2.004000e+03</td>\n",
       "      <td>1.000000e+00</td>\n",
       "      <td>1.626000e+03</td>\n",
       "      <td>6.550126e+07</td>\n",
       "      <td>6.551237e+07</td>\n",
       "    </tr>\n",
       "    <tr>\n",
       "      <th>75%</th>\n",
       "      <td>1.532117e+06</td>\n",
       "      <td>1.000000e+00</td>\n",
       "      <td>2.853423e+05</td>\n",
       "      <td>1.000000e+00</td>\n",
       "      <td>2.400000e+03</td>\n",
       "      <td>2.029424e+03</td>\n",
       "      <td>0.000000e+00</td>\n",
       "      <td>2.524000e+03</td>\n",
       "      <td>0.000000e+00</td>\n",
       "      <td>3.699121e+02</td>\n",
       "      <td>1.000000e+00</td>\n",
       "      <td>1.983000e+03</td>\n",
       "      <td>6.500000e+05</td>\n",
       "      <td>2.009000e+03</td>\n",
       "      <td>1.000000e+00</td>\n",
       "      <td>2.042000e+03</td>\n",
       "      <td>6.120713e+08</td>\n",
       "      <td>4.161833e+08</td>\n",
       "    </tr>\n",
       "    <tr>\n",
       "      <th>max</th>\n",
       "      <td>2.054501e+06</td>\n",
       "      <td>2.400000e+01</td>\n",
       "      <td>3.355514e+09</td>\n",
       "      <td>1.912000e+03</td>\n",
       "      <td>1.458000e+07</td>\n",
       "      <td>3.000000e+04</td>\n",
       "      <td>1.657310e+07</td>\n",
       "      <td>1.458000e+07</td>\n",
       "      <td>1.289625e+02</td>\n",
       "      <td>5.016109e+04</td>\n",
       "      <td>5.900000e+01</td>\n",
       "      <td>2.015000e+03</td>\n",
       "      <td>1.800000e+08</td>\n",
       "      <td>2.014000e+03</td>\n",
       "      <td>1.600000e+01</td>\n",
       "      <td>7.283880e+06</td>\n",
       "      <td>5.458527e+09</td>\n",
       "      <td>5.471137e+09</td>\n",
       "    </tr>\n",
       "  </tbody>\n",
       "</table>\n",
       "</div>"
      ],
      "text/plain": [
       "          parcel_id  development_type_id  improvement_value  \\\n",
       "count  1.824229e+06         1.824229e+06       1.824229e+06   \n",
       "mean   1.012861e+06         1.835162e+00       3.186878e+05   \n",
       "std    5.938065e+05         3.441080e+00       3.571671e+06   \n",
       "min    2.600000e+01        -1.000000e+00       0.000000e+00   \n",
       "25%    4.958500e+05         1.000000e+00       8.267503e+04   \n",
       "50%    1.002691e+06         1.000000e+00       1.675535e+05   \n",
       "75%    1.532117e+06         1.000000e+00       2.853423e+05   \n",
       "max    2.054501e+06         2.400000e+01       3.355514e+09   \n",
       "\n",
       "       residential_units  residential_sqft  sqft_per_unit  \\\n",
       "count       1.824229e+06      1.824229e+06   1.824229e+06   \n",
       "mean        1.534000e+00      2.657113e+03   1.669294e+03   \n",
       "std         6.137263e+00      3.012408e+04   1.063476e+03   \n",
       "min         0.000000e+00      0.000000e+00   0.000000e+00   \n",
       "25%         1.000000e+00      1.230000e+03   1.176000e+03   \n",
       "50%         1.000000e+00      1.754000e+03   1.564000e+03   \n",
       "75%         1.000000e+00      2.400000e+03   2.029424e+03   \n",
       "max         1.912000e+03      1.458000e+07   3.000000e+04   \n",
       "\n",
       "       non_residential_sqft  building_sqft  nonres_rent_per_sqft  \\\n",
       "count          1.824229e+06   1.824229e+06          1.824229e+06   \n",
       "mean           1.280864e+03   3.784462e+03          9.218572e-01   \n",
       "std            2.392226e+04   3.494568e+04          4.053916e+00   \n",
       "min            0.000000e+00   0.000000e+00          0.000000e+00   \n",
       "25%            0.000000e+00   1.320000e+03          0.000000e+00   \n",
       "50%            0.000000e+00   1.858000e+03          0.000000e+00   \n",
       "75%            0.000000e+00   2.524000e+03          0.000000e+00   \n",
       "max            1.657310e+07   1.458000e+07          1.289625e+02   \n",
       "\n",
       "       res_price_per_sqft       stories    year_built  redfin_sale_price  \\\n",
       "count        1.824229e+06  1.824229e+06  1.824229e+06       1.081100e+06   \n",
       "mean         2.927191e+02  1.214429e+00  1.965524e+03       5.287307e+05   \n",
       "std          2.647712e+02  5.567798e-01  2.501754e+01       7.188123e+05   \n",
       "min          0.000000e+00  1.000000e+00  1.790000e+03       0.000000e+00   \n",
       "25%          1.518671e+02  1.000000e+00  1.952000e+03       2.390000e+05   \n",
       "50%          2.544594e+02  1.000000e+00  1.966000e+03       4.000000e+05   \n",
       "75%          3.699121e+02  1.000000e+00  1.983000e+03       6.500000e+05   \n",
       "max          5.016109e+04  5.900000e+01  2.015000e+03       1.800000e+08   \n",
       "\n",
       "       redfin_sale_year  building_type_id  res_sqft_per_unit  node_id_small  \\\n",
       "count      1.081100e+06      1.824229e+06       1.715474e+06   1.824229e+06   \n",
       "mean       2.002828e+03      1.710299e+00       1.781741e+03   7.901671e+08   \n",
       "std        7.143867e+00      2.396463e+00       6.803636e+03   1.400113e+09   \n",
       "min        1.962000e+03      0.000000e+00       1.015556e+02   2.812660e+05   \n",
       "25%        1.998000e+03      1.000000e+00       1.200000e+03   5.788284e+07   \n",
       "50%        2.004000e+03      1.000000e+00       1.626000e+03   6.550126e+07   \n",
       "75%        2.009000e+03      1.000000e+00       2.042000e+03   6.120713e+08   \n",
       "max        2.014000e+03      1.600000e+01       7.283880e+06   5.458527e+09   \n",
       "\n",
       "       node_id_walk  \n",
       "count  1.824229e+06  \n",
       "mean   8.926345e+08  \n",
       "std    1.622640e+09  \n",
       "min    2.545794e+07  \n",
       "25%    5.789370e+07  \n",
       "50%    6.551237e+07  \n",
       "75%    4.161833e+08  \n",
       "max    5.471137e+09  "
      ]
     },
     "execution_count": 31,
     "metadata": {},
     "output_type": "execute_result"
    }
   ],
   "source": [
    "orca.get_table('buildings').to_frame().describe()"
   ]
  },
  {
   "cell_type": "markdown",
   "metadata": {},
   "source": [
    "### Make an ELCM for retail model"
   ]
  },
  {
   "cell_type": "code",
   "execution_count": 19,
   "metadata": {},
   "outputs": [],
   "source": [
    "m = LargeMultinomialLogitStep()\n",
    "m.name = 'ELCM_retail'"
   ]
  },
  {
   "cell_type": "code",
   "execution_count": 20,
   "metadata": {},
   "outputs": [],
   "source": [
    "m.choosers = ['jobs']\n",
    "chooser_ids = orca.get_table('jobs').to_frame().sample(15000).index.values\n",
    "m.alternatives = ['buildings','parcels', 'nodessmall', 'nodeswalk']\n",
    "m.choice_column = 'building_id'"
   ]
  },
  {
   "cell_type": "code",
   "execution_count": 21,
   "metadata": {},
   "outputs": [],
   "source": [
    "m.alt_sample_size = 50\n",
    "m.chooser_filters = ['job_id in [{0}]'.format(','.join(map(str, chooser_ids))), 'sector_id in [44,45]']\n",
    "m.alt_filters = ['0 < avg_income_10000 < 500000']"
   ]
  },
  {
   "cell_type": "code",
   "execution_count": 28,
   "metadata": {
    "scrolled": false
   },
   "outputs": [
    {
     "name": "stdout",
     "output_type": "stream",
     "text": [
      "                  CHOICEMODELS ESTIMATION RESULTS                  \n",
      "===================================================================\n",
      "Dep. Var.:                chosen   No. Observations:               \n",
      "Model:         Multinomial Logit   Df Residuals:                   \n",
      "Method:       Maximum Likelihood   Df Model:                       \n",
      "Date:                              Pseudo R-squ.:                  \n",
      "Time:                              Pseudo R-bar-squ.:              \n",
      "AIC:                               Log-Likelihood:       -3,023.893\n",
      "BIC:                               LL-Null:              -8,125.272\n",
      "===================================================================================\n",
      "                                    coef   std err         z     P>|z|   Conf. Int.\n",
      "-----------------------------------------------------------------------------------\n",
      "Intercept                         0.0000     2.436     0.000                       \n",
      "np.log(avg_income_10000)         -0.1453     0.180    -0.805                       \n",
      "np.log(pop_25000)                 0.2574     0.076     3.407                       \n",
      "nonres_rent_per_sqft              0.1933     0.003    64.429                       \n",
      "np.log1p(jobs_10000)              1.3678     0.130    10.523                       \n",
      "np.log1p(jobs_500_walk_retail)    0.8807     0.023    37.816                       \n",
      "np.log1p(jobs_1500_walk_fire)    -0.5375     0.034   -15.940                       \n",
      "np.log1p(jobs_10000_tech)        -0.7148     0.096    -7.468                       \n",
      "np.log1p(jobs_1500_walk_serv)    -0.2565     0.031    -8.323                       \n",
      "===================================================================================\n"
     ]
    }
   ],
   "source": [
    "m.model_expression = ('np.log(avg_income_10000) + np.log(pop_25000) + nonres_rent_per_sqft + '\n",
    "                      'np.log1p(jobs_10000) + np.log1p(jobs_500_walk_retail) + '\n",
    "                      'np.log1p(jobs_1500_walk_fire) + np.log1p(jobs_10000_tech) + '\n",
    "                      'np.log1p(jobs_1500_walk_serv)'\n",
    "                     )\n",
    "m.name = 'elcm'\n",
    "m.tags = ['max', 'test']\n",
    "m.fit()"
   ]
  },
  {
   "cell_type": "code",
   "execution_count": 29,
   "metadata": {},
   "outputs": [
    {
     "name": "stdout",
     "output_type": "stream",
     "text": [
      "                  CHOICEMODELS ESTIMATION RESULTS                  \n",
      "===================================================================\n",
      "Dep. Var.:                chosen   No. Observations:               \n",
      "Model:         Multinomial Logit   Df Residuals:                   \n",
      "Method:       Maximum Likelihood   Df Model:                       \n",
      "Date:                              Pseudo R-squ.:                  \n",
      "Time:                              Pseudo R-bar-squ.:              \n",
      "AIC:                               Log-Likelihood:       -3,030.908\n",
      "BIC:                               LL-Null:              -8,125.272\n",
      "===================================================================================\n",
      "                                    coef   std err         z     P>|z|   Conf. Int.\n",
      "-----------------------------------------------------------------------------------\n",
      "Intercept                        -0.0000     0.813    -0.000                       \n",
      "np.log(pop_25000)                 0.3804     0.077     4.946                       \n",
      "nonres_rent_per_sqft              0.1935     0.003    70.681                       \n",
      "np.log1p(jobs_10000)              1.2346     0.114    10.858                       \n",
      "np.log1p(jobs_500_walk_retail)    0.8968     0.024    37.944                       \n",
      "np.log1p(jobs_1500_walk_fire)    -0.5262     0.034   -15.413                       \n",
      "np.log1p(jobs_10000_tech)        -0.6715     0.079    -8.540                       \n",
      "np.log1p(jobs_1500_walk_serv)    -0.2761     0.031    -8.805                       \n",
      "===================================================================================\n"
     ]
    }
   ],
   "source": [
    "m.model_expression = ('np.log(pop_25000) + nonres_rent_per_sqft + '\n",
    "                      'np.log1p(jobs_10000) + np.log1p(jobs_500_walk_retail) + '\n",
    "                      'np.log1p(jobs_1500_walk_fire) + np.log1p(jobs_10000_tech) + '\n",
    "                      'np.log1p(jobs_1500_walk_serv)'\n",
    "                     )\n",
    "m.name = 'elcm'\n",
    "m.tags = ['max', 'test']\n",
    "m.fit()"
   ]
  },
  {
   "cell_type": "code",
   "execution_count": null,
   "metadata": {},
   "outputs": [],
   "source": []
  }
 ],
 "metadata": {
  "kernelspec": {
   "display_name": "Python 3",
   "language": "python",
   "name": "python3"
  },
  "language_info": {
   "codemirror_mode": {
    "name": "ipython",
    "version": 3
   },
   "file_extension": ".py",
   "mimetype": "text/x-python",
   "name": "python",
   "nbconvert_exporter": "python",
   "pygments_lexer": "ipython3",
   "version": "3.6.6"
  }
 },
 "nbformat": 4,
 "nbformat_minor": 2
}
