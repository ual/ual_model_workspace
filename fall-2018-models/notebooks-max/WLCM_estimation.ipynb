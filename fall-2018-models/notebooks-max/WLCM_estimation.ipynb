{
 "cells": [
  {
   "cell_type": "code",
   "execution_count": 1,
   "metadata": {},
   "outputs": [],
   "source": [
    "import pandas as pd\n",
    "import numpy as np\n",
    "from tqdm import tqdm\n",
    "from sklearn.neighbors import BallTree\n",
    "import seaborn as sns\n",
    "import geopandas as gpd\n",
    "from shapely.geometry import Point, LineString\n",
    "from pyproj import Proj, transform\n",
    "from matplotlib import pyplot as plt\n",
    "%matplotlib inline"
   ]
  },
  {
   "cell_type": "code",
   "execution_count": 2,
   "metadata": {},
   "outputs": [],
   "source": [
    "from urbansim_templates import modelmanager as mm\n",
    "from urbansim_templates.models import LargeMultinomialLogitStep\n",
    "import orca\n",
    "import os; os.chdir('../')\n",
    "import warnings;warnings.simplefilter('ignore')\n",
    "from scripts import datasources, models, variables\n",
    "from choicemodels import MultinomialLogit\n",
    "from choicemodels.tools import MergedChoiceTable"
   ]
  },
  {
   "cell_type": "markdown",
   "metadata": {},
   "source": [
    "### Load data"
   ]
  },
  {
   "cell_type": "markdown",
   "metadata": {},
   "source": [
    "Load UrbanSim data"
   ]
  },
  {
   "cell_type": "code",
   "execution_count": 90,
   "metadata": {},
   "outputs": [],
   "source": [
    "jobs = orca.get_table('jobs').to_frame()\n",
    "buildings = orca.get_table('buildings').to_frame()\n",
    "parcels = orca.get_table('parcels').to_frame()"
   ]
  },
  {
   "cell_type": "markdown",
   "metadata": {},
   "source": [
    "Load and format CHTS data for estimation"
   ]
  },
  {
   "cell_type": "code",
   "execution_count": 4,
   "metadata": {},
   "outputs": [],
   "source": [
    "data_dir = '/home/data/fall_2018/'\n",
    "chts_dir = 'CHTS_csv_format/'\n",
    "chts_persons = pd.read_csv(data_dir + chts_dir + 'data/Deliv_PER.csv', low_memory=False)\n",
    "chts_persons_lookup = pd.read_csv(data_dir + chts_dir + 'data/LookUp_PER.csv')\n",
    "chts_households_lookup = pd.read_csv(data_dir + chts_dir + 'data/LookUp_Home.csv')"
   ]
  },
  {
   "cell_type": "code",
   "execution_count": 5,
   "metadata": {},
   "outputs": [],
   "source": [
    "chts_persons = pd.merge(\n",
    "    chts_persons.set_index(['SAMPN','PERNO']),\n",
    "    chts_persons_lookup.set_index(['SAMPN','PERNO']),\n",
    "    left_index=True, right_index=True,\n",
    "    suffixes=('_persons', '_lookup')).reset_index()\n",
    "\n",
    "chts_persons = pd.merge(\n",
    "    chts_persons.set_index(['SAMPN']),\n",
    "    chts_households_lookup.set_index(['SAMPN']),\n",
    "    left_index=True, right_index=True).reset_index()\n",
    "\n",
    "chts_persons = chts_persons[chts_persons['HCTFIP'].isin([1, 13, 41, 55, 75, 81, 85, 95, 97])].reset_index()"
   ]
  },
  {
   "cell_type": "markdown",
   "metadata": {},
   "source": [
    "### Identify in-region workers"
   ]
  },
  {
   "cell_type": "code",
   "execution_count": 6,
   "metadata": {},
   "outputs": [],
   "source": [
    "chts_persons['work_in_region'] = chts_persons['WCTFIP_lookup'].isin([1, 13, 41, 55, 75, 81, 85, 95, 97])"
   ]
  },
  {
   "cell_type": "code",
   "execution_count": 7,
   "metadata": {},
   "outputs": [
    {
     "data": {
      "text/plain": [
       "False    13810\n",
       "True     10220\n",
       "Name: work_in_region, dtype: int64"
      ]
     },
     "execution_count": 7,
     "metadata": {},
     "output_type": "execute_result"
    }
   ],
   "source": [
    "chts_persons['work_in_region'].value_counts()"
   ]
  },
  {
   "cell_type": "markdown",
   "metadata": {},
   "source": [
    "### Get job coords"
   ]
  },
  {
   "cell_type": "code",
   "execution_count": 8,
   "metadata": {},
   "outputs": [],
   "source": [
    "buildings = pd.merge(buildings, parcels[['x', 'y']], left_on='parcel_id', right_index=True)\n",
    "jobs = pd.merge(jobs, buildings[['x', 'y']], left_on='building_id', right_index=True)\n",
    "jobs.rename(columns={'x': 'lng', 'y': 'lat'}, inplace=True)"
   ]
  },
  {
   "cell_type": "markdown",
   "metadata": {},
   "source": [
    "### Prepare jobs table and CHTS persons table for job assignment"
   ]
  },
  {
   "cell_type": "code",
   "execution_count": 9,
   "metadata": {},
   "outputs": [],
   "source": [
    "jobs.loc[:,'taken'] = False\n",
    "chts_persons.loc[:, 'job_id'] = None"
   ]
  },
  {
   "cell_type": "code",
   "execution_count": 10,
   "metadata": {},
   "outputs": [],
   "source": [
    "# haversine requires data in form of [lat, lng] and inputs/outputs in units of radians\n",
    "persons_work_rad = np.deg2rad(chts_persons[['WYCORD_lookup', 'WXCORD_lookup']])\n",
    "jobs_rad = np.deg2rad(jobs[['lng', 'lat']])\n",
    "jobs.loc[:, 'x'] = jobs_rad['lng']\n",
    "jobs.loc[:, 'y'] = jobs_rad['lat']"
   ]
  },
  {
   "cell_type": "markdown",
   "metadata": {},
   "source": [
    "### Assign CHTS persons a job ID"
   ]
  },
  {
   "cell_type": "code",
   "execution_count": 11,
   "metadata": {},
   "outputs": [
    {
     "name": "stderr",
     "output_type": "stream",
     "text": [
      "100%|██████████| 24030/24030 [26:41<00:00, 15.00it/s]"
     ]
    },
    {
     "name": "stdout",
     "output_type": "stream",
     "text": [
      "CPU times: user 26min 42s, sys: 3.94 s, total: 26min 46s\n",
      "Wall time: 26min 41s\n"
     ]
    },
    {
     "name": "stderr",
     "output_type": "stream",
     "text": [
      "\n"
     ]
    }
   ],
   "source": [
    "%%time\n",
    "\n",
    "dists = []\n",
    "no_job_info = []\n",
    "no_work_coords = []\n",
    "matched_on_industry = 0\n",
    "matched_on_occupation = 0\n",
    "matched_on_both = 0\n",
    "matched_on_none = 0\n",
    "\n",
    "for i, person in tqdm(chts_persons.iterrows(), total=len(chts_persons)):\n",
    "    # only assign a job ID for employed persons with a fixed\n",
    "    # work location other than their home\n",
    "    if (person['EMPLY'] == 1) & (person['WLOC'] == 1) & (person['work_in_region'] == True):\n",
    "        \n",
    "        # skip person if no CHTS industry or occupation\n",
    "        if (person['INDUS'] > 96) & (person['OCCUP'] > 96):\n",
    "            no_job_info.append(i)\n",
    "            continue\n",
    "        \n",
    "        # skip person if no work location\n",
    "        elif pd.isnull(person[['WYCORD_lookup', 'WXCORD_lookup']]).any():\n",
    "            no_work_coords.append(i)\n",
    "            continue\n",
    "        \n",
    "        # if CHTS industry is unknown, match jobs based on occupation only\n",
    "        elif person['INDUS'] > 96:\n",
    "            potential_jobs = jobs[\n",
    "                (jobs['occupation_id'] == person['OCCUP']) &\n",
    "                (jobs['taken'] == False)]\n",
    "            matched_on_occupation += 1\n",
    "        \n",
    "        # if occupation is unknown, match jobs based on industry only\n",
    "        elif person['OCCUP'] > 96:\n",
    "            potential_jobs = jobs[\n",
    "                (jobs['sector_id'] == person['INDUS']) &\n",
    "                (jobs['taken'] == False)]\n",
    "            matched_on_industry += 1\n",
    "            \n",
    "        elif (person['INDUS'] < 97) & (person['OCCUP'] < 97):\n",
    "            \n",
    "            # define potential jobs based on industry and occupation\n",
    "            potential_jobs = jobs[\n",
    "                (jobs['sector_id'] == person['INDUS']) &\n",
    "                (jobs['occupation_id'] == person['OCCUP']) &\n",
    "                (jobs['taken'] == False)]\n",
    "            \n",
    "            # if no such jobs exist, define jobs by industry\n",
    "            if len(potential_jobs) == 0:\n",
    "                potential_jobs = jobs[\n",
    "                    (jobs['sector_id'] == person['INDUS']) &\n",
    "                    (jobs['taken'] == False)]\n",
    "                matched_on_industry += 1\n",
    "                \n",
    "            # if no such jobs exist, define jobs by occupation\n",
    "            if len(potential_jobs) == 0:\n",
    "                potential_jobs = jobs[\n",
    "                    (jobs['occupation_id'] == person['OCCUP']) &\n",
    "                    (jobs['taken'] == False)]\n",
    "                matched_on_occupation += 1\n",
    "            \n",
    "            # otherwise, continue\n",
    "            if len(potential_jobs) == 0:\n",
    "                matched_on_none += 1\n",
    "                continue\n",
    "            \n",
    "            else:\n",
    "                matched_on_both += 1\n",
    "        \n",
    "        # build the tree of potential jobs for fast nearest-neighbor search\n",
    "        tree = BallTree(potential_jobs[['y','x']], metric='haversine')\n",
    "        \n",
    "        # query the tree for nearest job to each workplace\n",
    "        dist, idx = tree.query(persons_work_rad.iloc[i].values.reshape(1,-1), return_distance=True)\n",
    "        \n",
    "        # save results\n",
    "        job = potential_jobs.iloc[idx[0]]\n",
    "        dists.append(dist[0][0])\n",
    "        chts_persons.loc[i, 'job_id'] = job.index.values[0]\n",
    "        jobs.loc[jobs.index.values == job.index.values[0], 'taken'] = True \n"
   ]
  },
  {
   "cell_type": "code",
   "execution_count": 17,
   "metadata": {},
   "outputs": [
    {
     "name": "stdout",
     "output_type": "stream",
     "text": [
      "Assigned job IDs to 96.5% of workers with a fixed work location.\n",
      "1.7% had no industry/occupation info.\n",
      "0.0% had no work coordinates.\n",
      "0 workers were not assigned to jobs based on industry OR occupation.\n",
      "8477 workers were assigned to jobs based on industry AND occupation.\n",
      "283 workers were assigned to jobs based on industry only.\n",
      "158 workers were assigned to jobs based on occupation only.\n"
     ]
    }
   ],
   "source": [
    "print('Assigned job IDs to {0}% of workers with a fixed work location.'.format(\n",
    "    np.round(chts_persons.job_id.count() / len(\n",
    "        chts_persons[(chts_persons['EMPLY'] == 1)  & (chts_persons['WLOC'] == 1)]) * 100, 1)))\n",
    "print('{0}% had no industry/occupation info.'.format(\n",
    "    np.round(len(no_job_info) / len(\n",
    "        chts_persons[(chts_persons['EMPLY'] == 1)  & (chts_persons['WLOC'] == 1)]) * 100, 1)))\n",
    "print('{0}% had no work coordinates.'.format(\n",
    "    np.round(len(no_work_coords) / len(\n",
    "        chts_persons[(chts_persons['EMPLY'] == 1)  & (chts_persons['WLOC'] == 1)]) * 100, 1)))\n",
    "print('{0} workers were not assigned to jobs based on industry OR occupation.'.format(\n",
    "    str(matched_on_none)))\n",
    "print('{0} workers were assigned to jobs based on industry AND occupation.'.format(\n",
    "    str(matched_on_both)))\n",
    "print('{0} workers were assigned to jobs based on industry only.'.format(\n",
    "    str(matched_on_industry)))\n",
    "print('{0} workers were assigned to jobs based on occupation only.'.format(\n",
    "    str(matched_on_occupation)))"
   ]
  },
  {
   "cell_type": "code",
   "execution_count": 18,
   "metadata": {},
   "outputs": [],
   "source": [
    "chts_persons.to_csv('data/chts_persons_w_jobs.csv', index=False)"
   ]
  },
  {
   "cell_type": "markdown",
   "metadata": {},
   "source": [
    "Save the table so we don't have to re-run every time:"
   ]
  },
  {
   "cell_type": "code",
   "execution_count": 19,
   "metadata": {},
   "outputs": [],
   "source": [
    "chts_persons = pd.read_csv('data/chts_persons_w_jobs.csv')"
   ]
  },
  {
   "cell_type": "markdown",
   "metadata": {},
   "source": [
    "### Validate the work assignements"
   ]
  },
  {
   "cell_type": "markdown",
   "metadata": {},
   "source": [
    "Compare the distance between the observed work location and the location of the job ID assigned in UrbanSim:"
   ]
  },
  {
   "cell_type": "code",
   "execution_count": 20,
   "metadata": {},
   "outputs": [],
   "source": [
    "km_dists = [dist * 6371 for dist in dists]"
   ]
  },
  {
   "cell_type": "code",
   "execution_count": 21,
   "metadata": {},
   "outputs": [
    {
     "data": {
      "text/plain": [
       "<matplotlib.axes._subplots.AxesSubplot at 0x7fcda02db390>"
      ]
     },
     "execution_count": 21,
     "metadata": {},
     "output_type": "execute_result"
    },
    {
     "data": {
      "image/png": "[encoded data removed]",
      "text/plain": [
       "<Figure size 432x288 with 1 Axes>"
      ]
     },
     "metadata": {},
     "output_type": "display_data"
    }
   ],
   "source": [
    "pd.Series(km_dists).plot(kind='hist', bins=1000, xlim=(0, 2.5))"
   ]
  },
  {
   "cell_type": "markdown",
   "metadata": {},
   "source": [
    "Compare the distribution of jobs per census tract for the observed work locations versus those we assigned:"
   ]
  },
  {
   "cell_type": "code",
   "execution_count": 22,
   "metadata": {},
   "outputs": [],
   "source": [
    "chts_workers = chts_persons[~pd.isnull(chts_persons['job_id'])]"
   ]
  },
  {
   "cell_type": "code",
   "execution_count": 23,
   "metadata": {},
   "outputs": [],
   "source": [
    "# chts data\n",
    "perwgt_tract_count = chts_workers.groupby('WTRACT_lookup').PERWGT.sum()\n",
    "perwgt_cumsum = chts_workers.groupby('WTRACT_lookup').PERWGT.sum().reset_index().sort_values('WTRACT_lookup')['PERWGT'].cumsum().values\n",
    "wtract_sorted = chts_workers.groupby('WTRACT_lookup').PERWGT.sum().reset_index().sort_values('WTRACT_lookup')['WTRACT_lookup'].values"
   ]
  },
  {
   "cell_type": "code",
   "execution_count": 24,
   "metadata": {},
   "outputs": [],
   "source": [
    "# assignment data\n",
    "merged = pd.merge(chts_workers, jobs, left_on='job_id', right_index=True)\n",
    "merged = pd.merge(merged, buildings, left_on='building_id', right_index=True)\n",
    "merged = pd.merge(merged, parcels, left_on='parcel_id', right_index=True)\n",
    "merged['WTRACT_assigned'] = merged['block_id'].str[5:11].astype(int)\n",
    "perwgt_tract_count_assigned = merged.groupby('WTRACT_assigned').PERWGT.sum()\n",
    "perwgt_cumsum_assigned = merged.groupby('WTRACT_assigned').PERWGT.sum().reset_index().sort_values('WTRACT_assigned')['PERWGT'].cumsum().values\n",
    "wtract_sorted_assigned = merged.groupby('WTRACT_assigned').PERWGT.sum().reset_index().sort_values('WTRACT_assigned')['WTRACT_assigned'].values"
   ]
  },
  {
   "cell_type": "code",
   "execution_count": 25,
   "metadata": {},
   "outputs": [],
   "source": [
    "perwgts = pd.concat([perwgt_tract_count, perwgt_tract_count_assigned], axis=1)\n",
    "perwgts.columns = ['chts', 'assigned']"
   ]
  },
  {
   "cell_type": "code",
   "execution_count": 26,
   "metadata": {},
   "outputs": [
    {
     "data": {
      "text/plain": [
       "Text(0,0.5,'assigned perwgt')"
      ]
     },
     "execution_count": 26,
     "metadata": {},
     "output_type": "execute_result"
    },
    {
     "data": {
      "image/png": "[encoded data removed]",
      "text/plain": [
       "<Figure size 504x360 with 1 Axes>"
      ]
     },
     "metadata": {},
     "output_type": "display_data"
    }
   ],
   "source": [
    "fig, ax = plt.subplots(figsize=(7,5))\n",
    "ax.scatter(perwgts['chts'], perwgts['assigned'], alpha=0.2, s=10)\n",
    "ax.set_xlim([0,15])\n",
    "ax.set_ylim([0,15])\n",
    "ax.set_xlabel('CHTS perwgt')\n",
    "ax.set_ylabel('assigned perwgt')"
   ]
  },
  {
   "cell_type": "code",
   "execution_count": 27,
   "metadata": {},
   "outputs": [
    {
     "data": {
      "text/plain": [
       "<matplotlib.legend.Legend at 0x7fcd877a6a20>"
      ]
     },
     "execution_count": 27,
     "metadata": {},
     "output_type": "execute_result"
    },
    {
     "data": {
      "image/png": "[encoded data removed]",
      "text/plain": [
       "<Figure size 504x360 with 1 Axes>"
      ]
     },
     "metadata": {},
     "output_type": "display_data"
    }
   ],
   "source": [
    "fig, ax = plt.subplots(figsize=(7,5))\n",
    "ax.plot(wtract_sorted, perwgt_cumsum, label='CHTS', lw=2, alpha=0.6)\n",
    "ax.plot(wtract_sorted_assigned, perwgt_cumsum_assigned, label='assigned', lw=2, alpha=0.6)\n",
    "ax.set_xlabel('work tract')\n",
    "ax.set_ylabel('perwgt cumsum')\n",
    "ax.legend()"
   ]
  },
  {
   "cell_type": "markdown",
   "metadata": {},
   "source": [
    "### Assign CHTS persons to buildings"
   ]
  },
  {
   "cell_type": "code",
   "execution_count": 28,
   "metadata": {},
   "outputs": [
    {
     "name": "stdout",
     "output_type": "stream",
     "text": [
      "CPU times: user 20.8 s, sys: 388 ms, total: 21.2 s\n",
      "Wall time: 21.2 s\n"
     ]
    }
   ],
   "source": [
    "%%time\n",
    "persons_home_rad = np.deg2rad(chts_persons[['HYCORD', 'HXCORD']])\n",
    "bldg_rad = np.deg2rad(buildings[['y', 'x']])\n",
    "buildings.loc[:, 'x_rad'] = bldg_rad['x']\n",
    "buildings.loc[:, 'y_rad'] = bldg_rad['y']\n",
    "tree = BallTree(buildings[['y_rad','x_rad']], metric='haversine')\n",
    "dists, idxs = tree.query(persons_home_rad, return_distance=True)"
   ]
  },
  {
   "cell_type": "code",
   "execution_count": 29,
   "metadata": {},
   "outputs": [],
   "source": [
    "km_dists = pd.Series([dist[0] * 6371 for dist in dists])"
   ]
  },
  {
   "cell_type": "code",
   "execution_count": 30,
   "metadata": {},
   "outputs": [
    {
     "data": {
      "text/plain": [
       "<matplotlib.axes._subplots.AxesSubplot at 0x7fcd877658d0>"
      ]
     },
     "execution_count": 30,
     "metadata": {},
     "output_type": "execute_result"
    },
    {
     "data": {
      "image/png": "[encoded data removed]",
      "text/plain": [
       "<Figure size 432x288 with 1 Axes>"
      ]
     },
     "metadata": {},
     "output_type": "display_data"
    }
   ],
   "source": [
    "pd.Series(km_dists).plot(kind='hist', bins=100, xlim=(0,0.5))"
   ]
  },
  {
   "cell_type": "markdown",
   "metadata": {},
   "source": [
    "Save the updated persons table so we don't have to re-run every time:"
   ]
  },
  {
   "cell_type": "code",
   "execution_count": 31,
   "metadata": {},
   "outputs": [],
   "source": [
    "chts_persons['building_id'] = buildings.iloc[idxs[:,0]].index\n",
    "chts_persons.to_csv('./data/chts_persons_w_jobs_and_res_bldgs.csv', index=False)"
   ]
  },
  {
   "cell_type": "code",
   "execution_count": 6,
   "metadata": {},
   "outputs": [],
   "source": [
    "chts_persons = pd.read_csv('./data/chts_persons_w_jobs_and_res_bldgs.csv')"
   ]
  },
  {
   "cell_type": "markdown",
   "metadata": {},
   "source": [
    "### Generate Accessibility Vars"
   ]
  },
  {
   "cell_type": "code",
   "execution_count": 8,
   "metadata": {},
   "outputs": [
    {
     "name": "stdout",
     "output_type": "stream",
     "text": [
      "Running step 'initialize_network_small'\n",
      "Time to execute step 'initialize_network_small': 13.01 s\n",
      "Running step 'network_aggregations_small'\n",
      "Computing accessibility variables\n",
      "Computing units_10000\n",
      "Computing units_sf_10000\n",
      "Computing units_mf_10000\n",
      "Computing pop_10000\n",
      "Removed 189769 rows because they contain missing values\n",
      "Computing hh_10000\n",
      "Removed 189769 rows because they contain missing values\n",
      "Computing poor_10000\n",
      "Removed 53114 rows because they contain missing values\n",
      "Computing renters_10000\n",
      "Removed 102597 rows because they contain missing values\n",
      "Computing avg_income_10000\n",
      "Removed 189769 rows because they contain missing values\n",
      "Computing jobs_10000\n",
      "Computing avg_rent_10000\n",
      "Computing pop_white_10000\n",
      "Removed 107372 rows because they contain missing values\n",
      "Computing pop_black_10000\n",
      "Removed 10541 rows because they contain missing values\n",
      "Computing pop_asian_10000\n",
      "Removed 51048 rows because they contain missing values\n",
      "Computing pop_hisp_10000\n",
      "Removed 31685 rows because they contain missing values\n",
      "Computing units_25000\n",
      "Computing units_sf_25000\n",
      "Computing units_mf_25000\n",
      "Computing pop_25000\n",
      "Removed 189769 rows because they contain missing values\n",
      "Computing hh_25000\n",
      "Removed 189769 rows because they contain missing values\n",
      "Computing poor_25000\n",
      "Removed 53114 rows because they contain missing values\n",
      "Computing renters_25000\n",
      "Removed 102597 rows because they contain missing values\n",
      "Computing avg_income_25000\n",
      "Removed 189769 rows because they contain missing values\n",
      "Computing jobs_25000\n",
      "Computing avg_rent_25000\n",
      "Computing pop_white_25000\n",
      "Removed 107372 rows because they contain missing values\n",
      "Computing pop_black_25000\n",
      "Removed 10541 rows because they contain missing values\n",
      "Computing pop_asian_25000\n",
      "Removed 51048 rows because they contain missing values\n",
      "Computing pop_hisp_25000\n",
      "Removed 31685 rows because they contain missing values\n",
      "Computing jobs_10000_retail\n",
      "Computing jobs_25000_retail\n",
      "Computing jobs_10000_fire\n",
      "Computing jobs_25000_fire\n",
      "Computing jobs_10000_tech\n",
      "Computing jobs_25000_tech\n",
      "Computing jobs_10000_serv\n",
      "Computing jobs_25000_serv\n",
      "         units_10000  units_sf_10000  units_mf_10000      pop_10000  \\\n",
      "count   30826.000000    30826.000000    30826.000000   30826.000000   \n",
      "mean   111656.078125    60759.140625    45984.058594  260260.421875   \n",
      "std     87205.929688    37438.925781    46023.648438  188418.093750   \n",
      "min         0.000000        0.000000        0.000000       0.000000   \n",
      "25%     43964.500000    31221.500000    10558.000000  106498.750000   \n",
      "50%     96821.500000    59398.000000    32530.500000  231983.000000   \n",
      "75%    163121.750000    90068.500000    69672.000000  392361.000000   \n",
      "max    406854.000000   147995.000000   205873.000000  838934.000000   \n",
      "\n",
      "            hh_10000     poor_10000  renters_10000  avg_income_10000  \\\n",
      "count   30826.000000   30826.000000   30826.000000      30826.000000   \n",
      "mean    99092.796875   24263.931641   47250.296875     111233.140625   \n",
      "std     78053.578125   22118.812500   47935.484375      30336.044922   \n",
      "min         0.000000       0.000000       0.000000          0.000000   \n",
      "25%     39192.000000    7992.250000   13226.750000      93095.601562   \n",
      "50%     85626.000000   17596.500000   33240.500000     111716.902344   \n",
      "75%    143069.500000   34093.750000   65630.000000     129615.742188   \n",
      "max    370549.000000  100943.000000  225495.000000     265525.000000   \n",
      "\n",
      "         jobs_10000  avg_rent_10000       ...         pop_asian_25000  \\\n",
      "count   30826.00000    30826.000000       ...             30826.00000   \n",
      "mean   118229.84375     2631.133057       ...            294670.71875   \n",
      "std    107967.21875      755.853394       ...            217588.75000   \n",
      "min         0.00000        0.000000       ...                 0.00000   \n",
      "25%     28940.25000     2328.386353       ...             73012.25000   \n",
      "50%     92305.00000     2704.731201       ...            312618.50000   \n",
      "75%    176939.00000     2981.966370       ...            477998.25000   \n",
      "max    428602.00000     5900.000000       ...            693127.00000   \n",
      "\n",
      "       pop_hisp_25000  jobs_10000_retail  jobs_25000_retail  jobs_10000_fire  \\\n",
      "count    30826.000000       30826.000000       30826.000000     30826.000000   \n",
      "mean    183838.812500       15896.663086       55484.597656      8651.133789   \n",
      "std     110234.398438       14089.761719       33833.371094     10032.525391   \n",
      "min          0.000000           0.000000           0.000000         0.000000   \n",
      "25%      88483.750000        4315.250000       21935.500000      2093.000000   \n",
      "50%     181110.000000       13276.000000       61066.000000      5932.500000   \n",
      "75%     298581.500000       21232.750000       87063.000000     10849.000000   \n",
      "max     351718.000000       61048.000000      103905.000000     48870.000000   \n",
      "\n",
      "       jobs_25000_fire  jobs_10000_tech  jobs_25000_tech  jobs_10000_serv  \\\n",
      "count     30826.000000     30826.000000     30826.000000     30826.000000   \n",
      "mean      30371.357422     18315.990234     63948.664062     10135.660156   \n",
      "std       20591.972656     21676.605469     46754.714844     11016.259766   \n",
      "min           0.000000         0.000000         0.000000         0.000000   \n",
      "25%       10932.000000      2208.000000     16480.250000      2744.000000   \n",
      "50%       31111.500000      9142.500000     64656.000000      6776.000000   \n",
      "75%       42118.000000     28645.000000     98837.000000     13249.750000   \n",
      "max       73607.000000    103005.000000    149697.000000     51636.000000   \n",
      "\n",
      "       jobs_25000_serv  \n",
      "count     30826.000000  \n",
      "mean      34162.972656  \n",
      "std       23409.492188  \n",
      "min           0.000000  \n",
      "25%       11541.000000  \n",
      "50%       32524.000000  \n",
      "75%       50603.750000  \n",
      "max       82062.000000  \n",
      "\n",
      "[8 rows x 36 columns]\n",
      "Time to execute step 'network_aggregations_small': 90.74 s\n",
      "Total time to execute iteration 1 with iteration value None: 103.76 s\n",
      "CPU times: user 11min 50s, sys: 1min 56s, total: 13min 47s\n",
      "Wall time: 1min 43s\n"
     ]
    }
   ],
   "source": [
    "%%time\n",
    "orca.run(['initialize_network_small', 'network_aggregations_small'])"
   ]
  },
  {
   "cell_type": "code",
   "execution_count": 9,
   "metadata": {},
   "outputs": [
    {
     "name": "stdout",
     "output_type": "stream",
     "text": [
      "Running step 'initialize_network_walk'\n",
      "Time to execute step 'initialize_network_walk': 19.03 s\n",
      "Running step 'network_aggregations_walk'\n",
      "Computing accessibility variables\n",
      "Computing units_500_walk\n",
      "Computing sqft_unit_500_walk\n",
      "Computing singles_500_walk\n",
      "Removed 52084 rows because they contain missing values\n",
      "Computing elderly_hh_500_walk\n",
      "Removed 34553 rows because they contain missing values\n",
      "Computing children_500_walk\n",
      "Removed 189769 rows because they contain missing values\n",
      "Computing units_sf_500_walk\n",
      "Computing units_mf_500_walk\n",
      "Computing pop_500_walk\n",
      "Removed 189769 rows because they contain missing values\n",
      "Computing hh_500_walk\n",
      "Removed 189769 rows because they contain missing values\n",
      "Computing poor_500_walk\n",
      "Removed 53114 rows because they contain missing values\n",
      "Computing rich_500_walk\n",
      "Removed 38964 rows because they contain missing values\n",
      "Computing renters_500_walk\n",
      "Removed 102597 rows because they contain missing values\n",
      "Computing avg_income_500_walk\n",
      "Removed 189769 rows because they contain missing values\n",
      "Computing jobs_500_walk\n",
      "Computing avg_rent_500_walk\n",
      "Computing pop_white_500_walk\n",
      "Removed 107372 rows because they contain missing values\n",
      "Computing pop_black_500_walk\n",
      "Removed 10541 rows because they contain missing values\n",
      "Computing pop_asian_500_walk\n",
      "Removed 51048 rows because they contain missing values\n",
      "Computing pop_hisp_500_walk\n",
      "Removed 31685 rows because they contain missing values\n",
      "Computing units_1500_walk\n",
      "Computing sqft_unit_1500_walk\n",
      "Computing singles_1500_walk\n",
      "Removed 52084 rows because they contain missing values\n",
      "Computing elderly_hh_1500_walk\n",
      "Removed 34553 rows because they contain missing values\n",
      "Computing children_1500_walk\n",
      "Removed 189769 rows because they contain missing values\n",
      "Computing units_sf_1500_walk\n",
      "Computing units_mf_1500_walk\n",
      "Computing pop_1500_walk\n",
      "Removed 189769 rows because they contain missing values\n",
      "Computing hh_1500_walk\n",
      "Removed 189769 rows because they contain missing values\n",
      "Computing poor_1500_walk\n",
      "Removed 53114 rows because they contain missing values\n",
      "Computing rich_1500_walk\n",
      "Removed 38964 rows because they contain missing values\n",
      "Computing renters_1500_walk\n",
      "Removed 102597 rows because they contain missing values\n",
      "Computing avg_income_1500_walk\n",
      "Removed 189769 rows because they contain missing values\n",
      "Computing jobs_1500_walk\n",
      "Computing avg_rent_1500_walk\n",
      "Computing pop_white_1500_walk\n",
      "Removed 107372 rows because they contain missing values\n",
      "Computing pop_black_1500_walk\n",
      "Removed 10541 rows because they contain missing values\n",
      "Computing pop_asian_1500_walk\n",
      "Removed 51048 rows because they contain missing values\n",
      "Computing pop_hisp_1500_walk\n",
      "Removed 31685 rows because they contain missing values\n",
      "Computing pop_2500_walk\n",
      "Removed 189769 rows because they contain missing values\n",
      "Computing pop_white_2500_walk\n",
      "Removed 107372 rows because they contain missing values\n",
      "Computing pop_black_2500_walk\n",
      "Removed 10541 rows because they contain missing values\n",
      "Computing pop_asian_2500_walk\n",
      "Removed 51048 rows because they contain missing values\n",
      "Computing pop_hisp_2500_walk\n",
      "Removed 31685 rows because they contain missing values\n",
      "Computing jobs_500_walk_retail\n",
      "Computing jobs_1500_walk_retail\n",
      "Computing jobs_2500_walk_retail\n",
      "Computing jobs_500_walk_fire\n",
      "Computing jobs_1500_walk_fire\n",
      "Computing jobs_2500_walk_fire\n",
      "Computing jobs_500_walk_tech\n",
      "Computing jobs_1500_walk_tech\n",
      "Computing jobs_2500_walk_tech\n",
      "Computing jobs_500_walk_serv\n",
      "Computing jobs_1500_walk_serv\n",
      "Computing jobs_2500_walk_serv\n",
      "       units_500_walk  sqft_unit_500_walk  singles_500_walk  \\\n",
      "count   415716.000000       415716.000000     415716.000000   \n",
      "mean       356.008972         1245.544556         94.347931   \n",
      "std       1097.037720          979.879944        344.431244   \n",
      "min          0.000000            0.000000          0.000000   \n",
      "25%          9.000000          458.249519          1.000000   \n",
      "50%        188.000000         1315.694275         27.000000   \n",
      "75%        440.000000         1761.837921         87.000000   \n",
      "max     184995.000000        30000.000000      45809.000000   \n",
      "\n",
      "       elderly_hh_500_walk  children_500_walk  units_sf_500_walk  \\\n",
      "count        415716.000000      415716.000000      415716.000000   \n",
      "mean             58.482273         158.034760         163.916275   \n",
      "std             241.357803         443.152496         704.597778   \n",
      "min               0.000000           0.000000           0.000000   \n",
      "25%               1.000000           3.000000           2.000000   \n",
      "50%              28.000000          93.000000          98.000000   \n",
      "75%              70.000000         231.000000         247.000000   \n",
      "max           41748.000000       81194.000000      136971.000000   \n",
      "\n",
      "       units_mf_500_walk   pop_500_walk    hh_500_walk  poor_500_walk  \\\n",
      "count      415716.000000  415716.000000  415716.000000  415716.000000   \n",
      "mean          165.668030     792.460144     315.900543      85.833946   \n",
      "std           469.333771    2241.259277     956.908142     320.218262   \n",
      "min             0.000000       0.000000       0.000000       0.000000   \n",
      "25%             0.000000      20.000000       7.000000       1.000000   \n",
      "50%             2.000000     462.000000     170.000000      25.000000   \n",
      "75%           159.000000    1085.000000     395.000000      83.000000   \n",
      "max         48024.000000  396980.000000  162471.000000   42785.000000   \n",
      "\n",
      "              ...           jobs_2500_walk_retail  jobs_500_walk_fire  \\\n",
      "count         ...                   415716.000000       415716.000000   \n",
      "mean          ...                     1581.148926           53.822426   \n",
      "std           ...                     3031.134277          428.136566   \n",
      "min           ...                        0.000000            0.000000   \n",
      "25%           ...                      223.000000            0.000000   \n",
      "50%           ...                      842.000000            3.000000   \n",
      "75%           ...                     1990.000000           23.000000   \n",
      "max           ...                    35938.000000        20526.000000   \n",
      "\n",
      "       jobs_1500_walk_fire  jobs_2500_walk_fire  jobs_500_walk_tech  \\\n",
      "count        415716.000000        415716.000000       415716.000000   \n",
      "mean            420.108704           979.885498          106.462120   \n",
      "std            1995.809814          3202.999268          790.943481   \n",
      "min               0.000000             0.000000            0.000000   \n",
      "25%              19.000000           113.000000            0.000000   \n",
      "50%             101.000000           366.000000            4.000000   \n",
      "75%             278.000000           857.000000           30.000000   \n",
      "max           34682.000000         38378.000000        31572.000000   \n",
      "\n",
      "       jobs_1500_walk_tech  jobs_2500_walk_tech  jobs_500_walk_serv  \\\n",
      "count        415716.000000        415716.000000       415716.000000   \n",
      "mean            815.707397          1950.819824           60.115826   \n",
      "std            3808.567383          6458.846680          270.231689   \n",
      "min               0.000000             0.000000            0.000000   \n",
      "25%              25.000000           126.000000            0.000000   \n",
      "50%             117.000000           455.000000            0.000000   \n",
      "75%             463.000000          1449.000000           35.000000   \n",
      "max           68294.000000         77926.000000        12480.000000   \n",
      "\n",
      "       jobs_1500_walk_serv  jobs_2500_walk_serv  \n",
      "count        415716.000000        415716.000000  \n",
      "mean            436.379059          1104.810425  \n",
      "std            1438.846191          2959.999268  \n",
      "min               0.000000             0.000000  \n",
      "25%              12.000000           116.000000  \n",
      "50%             126.000000           494.000000  \n",
      "75%             416.000000          1107.000000  \n",
      "max           25447.000000         34317.000000  \n",
      "\n",
      "[8 rows x 55 columns]\n",
      "Time to execute step 'network_aggregations_walk': 128.69 s\n",
      "Total time to execute iteration 1 with iteration value None: 147.72 s\n",
      "CPU times: user 17min 2s, sys: 3min 40s, total: 20min 42s\n",
      "Wall time: 2min 27s\n"
     ]
    }
   ],
   "source": [
    "%%time\n",
    "orca.run(['initialize_network_walk','network_aggregations_walk'])"
   ]
  },
  {
   "cell_type": "code",
   "execution_count": 10,
   "metadata": {},
   "outputs": [],
   "source": [
    "walk_net_vars = orca.get_table('nodeswalk').to_frame()\n",
    "drive_net_vars = orca.get_table('nodessmall').to_frame()"
   ]
  },
  {
   "cell_type": "code",
   "execution_count": 88,
   "metadata": {},
   "outputs": [
    {
     "data": {
      "text/html": [
       "<div>\n",
       "<style scoped>\n",
       "    .dataframe tbody tr th:only-of-type {\n",
       "        vertical-align: middle;\n",
       "    }\n",
       "\n",
       "    .dataframe tbody tr th {\n",
       "        vertical-align: top;\n",
       "    }\n",
       "\n",
       "    .dataframe thead th {\n",
       "        text-align: right;\n",
       "    }\n",
       "</style>\n",
       "<table border=\"1\" class=\"dataframe\">\n",
       "  <thead>\n",
       "    <tr style=\"text-align: right;\">\n",
       "      <th></th>\n",
       "      <th>units_500_walk</th>\n",
       "      <th>sqft_unit_500_walk</th>\n",
       "      <th>singles_500_walk</th>\n",
       "      <th>elderly_hh_500_walk</th>\n",
       "      <th>children_500_walk</th>\n",
       "      <th>units_sf_500_walk</th>\n",
       "      <th>units_mf_500_walk</th>\n",
       "      <th>pop_500_walk</th>\n",
       "      <th>hh_500_walk</th>\n",
       "      <th>poor_500_walk</th>\n",
       "      <th>...</th>\n",
       "      <th>jobs_2500_walk_retail</th>\n",
       "      <th>jobs_500_walk_fire</th>\n",
       "      <th>jobs_1500_walk_fire</th>\n",
       "      <th>jobs_2500_walk_fire</th>\n",
       "      <th>jobs_500_walk_tech</th>\n",
       "      <th>jobs_1500_walk_tech</th>\n",
       "      <th>jobs_2500_walk_tech</th>\n",
       "      <th>jobs_500_walk_serv</th>\n",
       "      <th>jobs_1500_walk_serv</th>\n",
       "      <th>jobs_2500_walk_serv</th>\n",
       "    </tr>\n",
       "    <tr>\n",
       "      <th>osmid</th>\n",
       "      <th></th>\n",
       "      <th></th>\n",
       "      <th></th>\n",
       "      <th></th>\n",
       "      <th></th>\n",
       "      <th></th>\n",
       "      <th></th>\n",
       "      <th></th>\n",
       "      <th></th>\n",
       "      <th></th>\n",
       "      <th></th>\n",
       "      <th></th>\n",
       "      <th></th>\n",
       "      <th></th>\n",
       "      <th></th>\n",
       "      <th></th>\n",
       "      <th></th>\n",
       "      <th></th>\n",
       "      <th></th>\n",
       "      <th></th>\n",
       "      <th></th>\n",
       "    </tr>\n",
       "  </thead>\n",
       "  <tbody>\n",
       "    <tr>\n",
       "      <th>25457938</th>\n",
       "      <td>0.0</td>\n",
       "      <td>0.000000</td>\n",
       "      <td>0.0</td>\n",
       "      <td>0.0</td>\n",
       "      <td>0.0</td>\n",
       "      <td>0.0</td>\n",
       "      <td>0.0</td>\n",
       "      <td>0.0</td>\n",
       "      <td>0.0</td>\n",
       "      <td>0.0</td>\n",
       "      <td>...</td>\n",
       "      <td>2311.0</td>\n",
       "      <td>11.0</td>\n",
       "      <td>22.0</td>\n",
       "      <td>145.0</td>\n",
       "      <td>7.0</td>\n",
       "      <td>56.0</td>\n",
       "      <td>217.0</td>\n",
       "      <td>128.0</td>\n",
       "      <td>502.0</td>\n",
       "      <td>894.0</td>\n",
       "    </tr>\n",
       "    <tr>\n",
       "      <th>25457939</th>\n",
       "      <td>0.0</td>\n",
       "      <td>0.000000</td>\n",
       "      <td>0.0</td>\n",
       "      <td>0.0</td>\n",
       "      <td>0.0</td>\n",
       "      <td>0.0</td>\n",
       "      <td>0.0</td>\n",
       "      <td>0.0</td>\n",
       "      <td>0.0</td>\n",
       "      <td>0.0</td>\n",
       "      <td>...</td>\n",
       "      <td>1712.0</td>\n",
       "      <td>5.0</td>\n",
       "      <td>34.0</td>\n",
       "      <td>105.0</td>\n",
       "      <td>14.0</td>\n",
       "      <td>55.0</td>\n",
       "      <td>220.0</td>\n",
       "      <td>295.0</td>\n",
       "      <td>563.0</td>\n",
       "      <td>712.0</td>\n",
       "    </tr>\n",
       "    <tr>\n",
       "      <th>26027651</th>\n",
       "      <td>336.0</td>\n",
       "      <td>1000.871399</td>\n",
       "      <td>86.0</td>\n",
       "      <td>153.0</td>\n",
       "      <td>178.0</td>\n",
       "      <td>66.0</td>\n",
       "      <td>270.0</td>\n",
       "      <td>783.0</td>\n",
       "      <td>334.0</td>\n",
       "      <td>68.0</td>\n",
       "      <td>...</td>\n",
       "      <td>2806.0</td>\n",
       "      <td>64.0</td>\n",
       "      <td>222.0</td>\n",
       "      <td>1139.0</td>\n",
       "      <td>92.0</td>\n",
       "      <td>750.0</td>\n",
       "      <td>4801.0</td>\n",
       "      <td>31.0</td>\n",
       "      <td>353.0</td>\n",
       "      <td>942.0</td>\n",
       "    </tr>\n",
       "    <tr>\n",
       "      <th>26027655</th>\n",
       "      <td>340.0</td>\n",
       "      <td>2389.937500</td>\n",
       "      <td>126.0</td>\n",
       "      <td>27.0</td>\n",
       "      <td>114.0</td>\n",
       "      <td>46.0</td>\n",
       "      <td>294.0</td>\n",
       "      <td>616.0</td>\n",
       "      <td>310.0</td>\n",
       "      <td>52.0</td>\n",
       "      <td>...</td>\n",
       "      <td>3366.0</td>\n",
       "      <td>76.0</td>\n",
       "      <td>434.0</td>\n",
       "      <td>940.0</td>\n",
       "      <td>66.0</td>\n",
       "      <td>526.0</td>\n",
       "      <td>1402.0</td>\n",
       "      <td>26.0</td>\n",
       "      <td>886.0</td>\n",
       "      <td>1541.0</td>\n",
       "    </tr>\n",
       "    <tr>\n",
       "      <th>26027656</th>\n",
       "      <td>154.0</td>\n",
       "      <td>884.079224</td>\n",
       "      <td>44.0</td>\n",
       "      <td>50.0</td>\n",
       "      <td>94.0</td>\n",
       "      <td>102.0</td>\n",
       "      <td>52.0</td>\n",
       "      <td>362.0</td>\n",
       "      <td>143.0</td>\n",
       "      <td>25.0</td>\n",
       "      <td>...</td>\n",
       "      <td>3271.0</td>\n",
       "      <td>217.0</td>\n",
       "      <td>663.0</td>\n",
       "      <td>956.0</td>\n",
       "      <td>327.0</td>\n",
       "      <td>737.0</td>\n",
       "      <td>1068.0</td>\n",
       "      <td>373.0</td>\n",
       "      <td>1152.0</td>\n",
       "      <td>1763.0</td>\n",
       "    </tr>\n",
       "  </tbody>\n",
       "</table>\n",
       "<p>5 rows × 55 columns</p>\n",
       "</div>"
      ],
      "text/plain": [
       "          units_500_walk  sqft_unit_500_walk  singles_500_walk  \\\n",
       "osmid                                                            \n",
       "25457938             0.0            0.000000               0.0   \n",
       "25457939             0.0            0.000000               0.0   \n",
       "26027651           336.0         1000.871399              86.0   \n",
       "26027655           340.0         2389.937500             126.0   \n",
       "26027656           154.0          884.079224              44.0   \n",
       "\n",
       "          elderly_hh_500_walk  children_500_walk  units_sf_500_walk  \\\n",
       "osmid                                                                 \n",
       "25457938                  0.0                0.0                0.0   \n",
       "25457939                  0.0                0.0                0.0   \n",
       "26027651                153.0              178.0               66.0   \n",
       "26027655                 27.0              114.0               46.0   \n",
       "26027656                 50.0               94.0              102.0   \n",
       "\n",
       "          units_mf_500_walk  pop_500_walk  hh_500_walk  poor_500_walk  \\\n",
       "osmid                                                                   \n",
       "25457938                0.0           0.0          0.0            0.0   \n",
       "25457939                0.0           0.0          0.0            0.0   \n",
       "26027651              270.0         783.0        334.0           68.0   \n",
       "26027655              294.0         616.0        310.0           52.0   \n",
       "26027656               52.0         362.0        143.0           25.0   \n",
       "\n",
       "                 ...           jobs_2500_walk_retail  jobs_500_walk_fire  \\\n",
       "osmid            ...                                                       \n",
       "25457938         ...                          2311.0                11.0   \n",
       "25457939         ...                          1712.0                 5.0   \n",
       "26027651         ...                          2806.0                64.0   \n",
       "26027655         ...                          3366.0                76.0   \n",
       "26027656         ...                          3271.0               217.0   \n",
       "\n",
       "          jobs_1500_walk_fire  jobs_2500_walk_fire  jobs_500_walk_tech  \\\n",
       "osmid                                                                    \n",
       "25457938                 22.0                145.0                 7.0   \n",
       "25457939                 34.0                105.0                14.0   \n",
       "26027651                222.0               1139.0                92.0   \n",
       "26027655                434.0                940.0                66.0   \n",
       "26027656                663.0                956.0               327.0   \n",
       "\n",
       "          jobs_1500_walk_tech  jobs_2500_walk_tech  jobs_500_walk_serv  \\\n",
       "osmid                                                                    \n",
       "25457938                 56.0                217.0               128.0   \n",
       "25457939                 55.0                220.0               295.0   \n",
       "26027651                750.0               4801.0                31.0   \n",
       "26027655                526.0               1402.0                26.0   \n",
       "26027656                737.0               1068.0               373.0   \n",
       "\n",
       "          jobs_1500_walk_serv  jobs_2500_walk_serv  \n",
       "osmid                                               \n",
       "25457938                502.0                894.0  \n",
       "25457939                563.0                712.0  \n",
       "26027651                353.0                942.0  \n",
       "26027655                886.0               1541.0  \n",
       "26027656               1152.0               1763.0  \n",
       "\n",
       "[5 rows x 55 columns]"
      ]
     },
     "execution_count": 88,
     "metadata": {},
     "output_type": "execute_result"
    }
   ],
   "source": [
    "walk_net_vars.head()"
   ]
  },
  {
   "cell_type": "code",
   "execution_count": 108,
   "metadata": {},
   "outputs": [
    {
     "data": {
      "text/html": [
       "<div>\n",
       "<style scoped>\n",
       "    .dataframe tbody tr th:only-of-type {\n",
       "        vertical-align: middle;\n",
       "    }\n",
       "\n",
       "    .dataframe tbody tr th {\n",
       "        vertical-align: top;\n",
       "    }\n",
       "\n",
       "    .dataframe thead th {\n",
       "        text-align: right;\n",
       "    }\n",
       "</style>\n",
       "<table border=\"1\" class=\"dataframe\">\n",
       "  <thead>\n",
       "    <tr style=\"text-align: right;\">\n",
       "      <th></th>\n",
       "      <th>units_10000</th>\n",
       "      <th>units_sf_10000</th>\n",
       "      <th>units_mf_10000</th>\n",
       "      <th>pop_10000</th>\n",
       "      <th>hh_10000</th>\n",
       "      <th>poor_10000</th>\n",
       "      <th>renters_10000</th>\n",
       "      <th>avg_income_10000</th>\n",
       "      <th>jobs_10000</th>\n",
       "      <th>avg_rent_10000</th>\n",
       "      <th>...</th>\n",
       "      <th>pop_asian_25000</th>\n",
       "      <th>pop_hisp_25000</th>\n",
       "      <th>jobs_10000_retail</th>\n",
       "      <th>jobs_25000_retail</th>\n",
       "      <th>jobs_10000_fire</th>\n",
       "      <th>jobs_25000_fire</th>\n",
       "      <th>jobs_10000_tech</th>\n",
       "      <th>jobs_25000_tech</th>\n",
       "      <th>jobs_10000_serv</th>\n",
       "      <th>jobs_25000_serv</th>\n",
       "    </tr>\n",
       "    <tr>\n",
       "      <th>osmid</th>\n",
       "      <th></th>\n",
       "      <th></th>\n",
       "      <th></th>\n",
       "      <th></th>\n",
       "      <th></th>\n",
       "      <th></th>\n",
       "      <th></th>\n",
       "      <th></th>\n",
       "      <th></th>\n",
       "      <th></th>\n",
       "      <th></th>\n",
       "      <th></th>\n",
       "      <th></th>\n",
       "      <th></th>\n",
       "      <th></th>\n",
       "      <th></th>\n",
       "      <th></th>\n",
       "      <th></th>\n",
       "      <th></th>\n",
       "      <th></th>\n",
       "      <th></th>\n",
       "    </tr>\n",
       "  </thead>\n",
       "  <tbody>\n",
       "    <tr>\n",
       "      <th>281266</th>\n",
       "      <td>92842.0</td>\n",
       "      <td>57296.0</td>\n",
       "      <td>35188.0</td>\n",
       "      <td>202694.0</td>\n",
       "      <td>81570.0</td>\n",
       "      <td>12582.0</td>\n",
       "      <td>30775.0</td>\n",
       "      <td>144690.687500</td>\n",
       "      <td>114844.0</td>\n",
       "      <td>3243.214111</td>\n",
       "      <td>...</td>\n",
       "      <td>200427.0</td>\n",
       "      <td>165284.0</td>\n",
       "      <td>15786.0</td>\n",
       "      <td>50250.0</td>\n",
       "      <td>16376.0</td>\n",
       "      <td>31264.0</td>\n",
       "      <td>29478.0</td>\n",
       "      <td>61302.0</td>\n",
       "      <td>7645.0</td>\n",
       "      <td>28414.0</td>\n",
       "    </tr>\n",
       "    <tr>\n",
       "      <th>302878</th>\n",
       "      <td>127751.0</td>\n",
       "      <td>75954.0</td>\n",
       "      <td>51797.0</td>\n",
       "      <td>294196.0</td>\n",
       "      <td>110588.0</td>\n",
       "      <td>16770.0</td>\n",
       "      <td>45203.0</td>\n",
       "      <td>155366.765625</td>\n",
       "      <td>83311.0</td>\n",
       "      <td>3053.273926</td>\n",
       "      <td>...</td>\n",
       "      <td>450411.0</td>\n",
       "      <td>274079.0</td>\n",
       "      <td>14775.0</td>\n",
       "      <td>84271.0</td>\n",
       "      <td>6719.0</td>\n",
       "      <td>39882.0</td>\n",
       "      <td>10979.0</td>\n",
       "      <td>92341.0</td>\n",
       "      <td>8247.0</td>\n",
       "      <td>48141.0</td>\n",
       "    </tr>\n",
       "    <tr>\n",
       "      <th>302883</th>\n",
       "      <td>141337.0</td>\n",
       "      <td>85085.0</td>\n",
       "      <td>56252.0</td>\n",
       "      <td>325863.0</td>\n",
       "      <td>122376.0</td>\n",
       "      <td>18621.0</td>\n",
       "      <td>49176.0</td>\n",
       "      <td>154314.421875</td>\n",
       "      <td>88282.0</td>\n",
       "      <td>3027.604980</td>\n",
       "      <td>...</td>\n",
       "      <td>470964.0</td>\n",
       "      <td>302104.0</td>\n",
       "      <td>15616.0</td>\n",
       "      <td>85593.0</td>\n",
       "      <td>7638.0</td>\n",
       "      <td>41506.0</td>\n",
       "      <td>11141.0</td>\n",
       "      <td>92970.0</td>\n",
       "      <td>9367.0</td>\n",
       "      <td>48975.0</td>\n",
       "    </tr>\n",
       "    <tr>\n",
       "      <th>302888</th>\n",
       "      <td>141378.0</td>\n",
       "      <td>86772.0</td>\n",
       "      <td>54606.0</td>\n",
       "      <td>329189.0</td>\n",
       "      <td>122302.0</td>\n",
       "      <td>19061.0</td>\n",
       "      <td>48626.0</td>\n",
       "      <td>151341.765625</td>\n",
       "      <td>84517.0</td>\n",
       "      <td>3022.447754</td>\n",
       "      <td>...</td>\n",
       "      <td>483542.0</td>\n",
       "      <td>298849.0</td>\n",
       "      <td>15554.0</td>\n",
       "      <td>85543.0</td>\n",
       "      <td>7311.0</td>\n",
       "      <td>41104.0</td>\n",
       "      <td>8861.0</td>\n",
       "      <td>91751.0</td>\n",
       "      <td>9366.0</td>\n",
       "      <td>49327.0</td>\n",
       "    </tr>\n",
       "    <tr>\n",
       "      <th>15972513</th>\n",
       "      <td>0.0</td>\n",
       "      <td>0.0</td>\n",
       "      <td>0.0</td>\n",
       "      <td>0.0</td>\n",
       "      <td>0.0</td>\n",
       "      <td>0.0</td>\n",
       "      <td>0.0</td>\n",
       "      <td>0.000000</td>\n",
       "      <td>0.0</td>\n",
       "      <td>0.000000</td>\n",
       "      <td>...</td>\n",
       "      <td>14.0</td>\n",
       "      <td>9.0</td>\n",
       "      <td>0.0</td>\n",
       "      <td>0.0</td>\n",
       "      <td>0.0</td>\n",
       "      <td>0.0</td>\n",
       "      <td>0.0</td>\n",
       "      <td>0.0</td>\n",
       "      <td>0.0</td>\n",
       "      <td>0.0</td>\n",
       "    </tr>\n",
       "  </tbody>\n",
       "</table>\n",
       "<p>5 rows × 36 columns</p>\n",
       "</div>"
      ],
      "text/plain": [
       "          units_10000  units_sf_10000  units_mf_10000  pop_10000  hh_10000  \\\n",
       "osmid                                                                        \n",
       "281266        92842.0         57296.0         35188.0   202694.0   81570.0   \n",
       "302878       127751.0         75954.0         51797.0   294196.0  110588.0   \n",
       "302883       141337.0         85085.0         56252.0   325863.0  122376.0   \n",
       "302888       141378.0         86772.0         54606.0   329189.0  122302.0   \n",
       "15972513          0.0             0.0             0.0        0.0       0.0   \n",
       "\n",
       "          poor_10000  renters_10000  avg_income_10000  jobs_10000  \\\n",
       "osmid                                                               \n",
       "281266       12582.0        30775.0     144690.687500    114844.0   \n",
       "302878       16770.0        45203.0     155366.765625     83311.0   \n",
       "302883       18621.0        49176.0     154314.421875     88282.0   \n",
       "302888       19061.0        48626.0     151341.765625     84517.0   \n",
       "15972513         0.0            0.0          0.000000         0.0   \n",
       "\n",
       "          avg_rent_10000       ...         pop_asian_25000  pop_hisp_25000  \\\n",
       "osmid                          ...                                           \n",
       "281266       3243.214111       ...                200427.0        165284.0   \n",
       "302878       3053.273926       ...                450411.0        274079.0   \n",
       "302883       3027.604980       ...                470964.0        302104.0   \n",
       "302888       3022.447754       ...                483542.0        298849.0   \n",
       "15972513        0.000000       ...                    14.0             9.0   \n",
       "\n",
       "          jobs_10000_retail  jobs_25000_retail  jobs_10000_fire  \\\n",
       "osmid                                                             \n",
       "281266              15786.0            50250.0          16376.0   \n",
       "302878              14775.0            84271.0           6719.0   \n",
       "302883              15616.0            85593.0           7638.0   \n",
       "302888              15554.0            85543.0           7311.0   \n",
       "15972513                0.0                0.0              0.0   \n",
       "\n",
       "          jobs_25000_fire  jobs_10000_tech  jobs_25000_tech  jobs_10000_serv  \\\n",
       "osmid                                                                          \n",
       "281266            31264.0          29478.0          61302.0           7645.0   \n",
       "302878            39882.0          10979.0          92341.0           8247.0   \n",
       "302883            41506.0          11141.0          92970.0           9367.0   \n",
       "302888            41104.0           8861.0          91751.0           9366.0   \n",
       "15972513              0.0              0.0              0.0              0.0   \n",
       "\n",
       "          jobs_25000_serv  \n",
       "osmid                      \n",
       "281266            28414.0  \n",
       "302878            48141.0  \n",
       "302883            48975.0  \n",
       "302888            49327.0  \n",
       "15972513              0.0  \n",
       "\n",
       "[5 rows x 36 columns]"
      ]
     },
     "execution_count": 108,
     "metadata": {},
     "output_type": "execute_result"
    }
   ],
   "source": [
    "drive_net_vars.head()"
   ]
  },
  {
   "cell_type": "markdown",
   "metadata": {},
   "source": [
    "Save the network accessibility variables tables so we don't have to re-run every time:"
   ]
  },
  {
   "cell_type": "code",
   "execution_count": 80,
   "metadata": {},
   "outputs": [],
   "source": [
    "walk_net_vars.to_csv('./data/walk_net_vars.csv')\n",
    "drive_net_vars.to_csv('./data/drive_net_vars.csv')"
   ]
  },
  {
   "cell_type": "markdown",
   "metadata": {},
   "source": [
    "### Generate the interaction terms (travel time)"
   ]
  },
  {
   "cell_type": "code",
   "execution_count": 3,
   "metadata": {},
   "outputs": [],
   "source": [
    "skims = pd.read_csv('./data/TimeSkimsDatabaseAM.csv')"
   ]
  },
  {
   "cell_type": "code",
   "execution_count": 4,
   "metadata": {},
   "outputs": [],
   "source": [
    "interaction_terms = skims[['orig', 'dest', 'da', 'wTrnW']].rename(\n",
    "    columns={'orig': 'zone_id_home', 'dest': 'zone_id_work', 'da': 'tt_da', 'wTrnW': 'tt_wTrnW'})"
   ]
  },
  {
   "cell_type": "code",
   "execution_count": 5,
   "metadata": {},
   "outputs": [],
   "source": [
    "interaction_terms.set_index(['zone_id_home', 'zone_id_work'], inplace=True)"
   ]
  },
  {
   "cell_type": "code",
   "execution_count": 6,
   "metadata": {},
   "outputs": [
    {
     "data": {
      "text/html": [
       "<div>\n",
       "<style scoped>\n",
       "    .dataframe tbody tr th:only-of-type {\n",
       "        vertical-align: middle;\n",
       "    }\n",
       "\n",
       "    .dataframe tbody tr th {\n",
       "        vertical-align: top;\n",
       "    }\n",
       "\n",
       "    .dataframe thead th {\n",
       "        text-align: right;\n",
       "    }\n",
       "</style>\n",
       "<table border=\"1\" class=\"dataframe\">\n",
       "  <thead>\n",
       "    <tr style=\"text-align: right;\">\n",
       "      <th></th>\n",
       "      <th></th>\n",
       "      <th>tt_da</th>\n",
       "      <th>tt_wTrnW</th>\n",
       "    </tr>\n",
       "    <tr>\n",
       "      <th>zone_id_home</th>\n",
       "      <th>zone_id_work</th>\n",
       "      <th></th>\n",
       "      <th></th>\n",
       "    </tr>\n",
       "  </thead>\n",
       "  <tbody>\n",
       "    <tr>\n",
       "      <th rowspan=\"5\" valign=\"top\">1</th>\n",
       "      <th>1</th>\n",
       "      <td>5.80</td>\n",
       "      <td>-999.00</td>\n",
       "    </tr>\n",
       "    <tr>\n",
       "      <th>2</th>\n",
       "      <td>6.13</td>\n",
       "      <td>7.20</td>\n",
       "    </tr>\n",
       "    <tr>\n",
       "      <th>3</th>\n",
       "      <td>6.59</td>\n",
       "      <td>9.70</td>\n",
       "    </tr>\n",
       "    <tr>\n",
       "      <th>4</th>\n",
       "      <td>6.63</td>\n",
       "      <td>6.10</td>\n",
       "    </tr>\n",
       "    <tr>\n",
       "      <th>5</th>\n",
       "      <td>7.28</td>\n",
       "      <td>7.42</td>\n",
       "    </tr>\n",
       "  </tbody>\n",
       "</table>\n",
       "</div>"
      ],
      "text/plain": [
       "                           tt_da  tt_wTrnW\n",
       "zone_id_home zone_id_work                 \n",
       "1            1              5.80   -999.00\n",
       "             2              6.13      7.20\n",
       "             3              6.59      9.70\n",
       "             4              6.63      6.10\n",
       "             5              7.28      7.42"
      ]
     },
     "execution_count": 6,
     "metadata": {},
     "output_type": "execute_result"
    }
   ],
   "source": [
    "interaction_terms.head()"
   ]
  },
  {
   "cell_type": "code",
   "execution_count": 7,
   "metadata": {},
   "outputs": [],
   "source": [
    "interaction_terms.to_csv('./data/WLCM_interaction_terms.csv')"
   ]
  },
  {
   "cell_type": "markdown",
   "metadata": {},
   "source": [
    "### Generate the merged choice table"
   ]
  },
  {
   "cell_type": "code",
   "execution_count": 6,
   "metadata": {},
   "outputs": [
    {
     "name": "stdout",
     "output_type": "stream",
     "text": [
      "Running step 'initialize_network_walk'\n",
      "Time to execute step 'initialize_network_walk': 0.00 s\n",
      "Running step 'initialize_network_small'\n",
      "Time to execute step 'initialize_network_small': 0.00 s\n",
      "Total time to execute iteration 1 with iteration value None: 0.00 s\n"
     ]
    }
   ],
   "source": [
    "chts_persons = pd.read_csv('./data/chts_persons_w_jobs_and_res_bldgs.csv')\n",
    "chts_workers = chts_persons[~pd.isnull(chts_persons['job_id'])]\n",
    "orca.run(['initialize_network_walk', 'initialize_network_small'])\n",
    "buildings = orca.get_table('buildings').to_frame()\n",
    "parcels = orca.get_table('parcels').to_frame()\n",
    "jobs = orca.get_table('jobs').to_frame()\n",
    "interaction_terms = pd.read_csv('./data/WLCM_interaction_terms.csv', index_col=['zone_id_home', 'zone_id_work'])\n",
    "walk_net_vars = pd.read_csv('./data/walk_net_vars.csv', index_col='osmid')\n",
    "drive_net_vars = pd.read_csv('./data/drive_net_vars.csv', index_col='osmid')"
   ]
  },
  {
   "cell_type": "code",
   "execution_count": 8,
   "metadata": {},
   "outputs": [],
   "source": [
    "obs = chts_workers.merge(buildings, left_on='building_id', right_index=True).merge(\n",
    "    parcels, left_on='parcel_id', right_index=True)[['job_id', 'zone_id']].rename(columns={'zone_id':'zone_id_home'})\n",
    "obs.index.name = 'obs_id'"
   ]
  },
  {
   "cell_type": "code",
   "execution_count": 9,
   "metadata": {},
   "outputs": [],
   "source": [
    "alts = jobs.merge(buildings, left_on='building_id', right_index=True).merge(\n",
    "    parcels, left_on='parcel_id', right_index=True).merge(\n",
    "    walk_net_vars, left_on='node_id_walk', right_index=True).merge(\n",
    "    drive_net_vars, left_on='node_id_small', right_index=True).rename(columns={'zone_id': 'zone_id_work'})"
   ]
  },
  {
   "cell_type": "code",
   "execution_count": 10,
   "metadata": {},
   "outputs": [],
   "source": [
    "alts = alts[['jobs_1500_walk', 'jobs_25000', 'zone_id_work']]"
   ]
  },
  {
   "cell_type": "code",
   "execution_count": 11,
   "metadata": {},
   "outputs": [
    {
     "name": "stdout",
     "output_type": "stream",
     "text": [
      "CPU times: user 654 ms, sys: 77.6 ms, total: 732 ms\n",
      "Wall time: 738 ms\n"
     ]
    }
   ],
   "source": [
    "%%time\n",
    "mct = MergedChoiceTable(obs, alts, chosen_alternatives='job_id',\n",
    "                        sample_size=10, interaction_terms=interaction_terms)"
   ]
  },
  {
   "cell_type": "code",
   "execution_count": 12,
   "metadata": {},
   "outputs": [
    {
     "data": {
      "text/html": [
       "<div>\n",
       "<style scoped>\n",
       "    .dataframe tbody tr th:only-of-type {\n",
       "        vertical-align: middle;\n",
       "    }\n",
       "\n",
       "    .dataframe tbody tr th {\n",
       "        vertical-align: top;\n",
       "    }\n",
       "\n",
       "    .dataframe thead th {\n",
       "        text-align: right;\n",
       "    }\n",
       "</style>\n",
       "<table border=\"1\" class=\"dataframe\">\n",
       "  <thead>\n",
       "    <tr style=\"text-align: right;\">\n",
       "      <th></th>\n",
       "      <th></th>\n",
       "      <th>zone_id_home</th>\n",
       "      <th>jobs_1500_walk</th>\n",
       "      <th>jobs_25000</th>\n",
       "      <th>zone_id_work</th>\n",
       "      <th>chosen</th>\n",
       "      <th>tt_da</th>\n",
       "      <th>tt_wTrnW</th>\n",
       "    </tr>\n",
       "    <tr>\n",
       "      <th>obs_id</th>\n",
       "      <th>job_id</th>\n",
       "      <th></th>\n",
       "      <th></th>\n",
       "      <th></th>\n",
       "      <th></th>\n",
       "      <th></th>\n",
       "      <th></th>\n",
       "      <th></th>\n",
       "    </tr>\n",
       "  </thead>\n",
       "  <tbody>\n",
       "    <tr>\n",
       "      <th rowspan=\"10\" valign=\"top\">24022</th>\n",
       "      <th>13503.0</th>\n",
       "      <td>654</td>\n",
       "      <td>4060.0</td>\n",
       "      <td>658449.0</td>\n",
       "      <td>383</td>\n",
       "      <td>1</td>\n",
       "      <td>41.47</td>\n",
       "      <td>158.59</td>\n",
       "    </tr>\n",
       "    <tr>\n",
       "      <th>659800.0</th>\n",
       "      <td>654</td>\n",
       "      <td>2455.0</td>\n",
       "      <td>617767.0</td>\n",
       "      <td>750</td>\n",
       "      <td>0</td>\n",
       "      <td>32.77</td>\n",
       "      <td>112.09</td>\n",
       "    </tr>\n",
       "    <tr>\n",
       "      <th>309068.0</th>\n",
       "      <td>654</td>\n",
       "      <td>1077.0</td>\n",
       "      <td>496964.0</td>\n",
       "      <td>685</td>\n",
       "      <td>0</td>\n",
       "      <td>26.76</td>\n",
       "      <td>120.22</td>\n",
       "    </tr>\n",
       "    <tr>\n",
       "      <th>1518679.0</th>\n",
       "      <td>654</td>\n",
       "      <td>36812.0</td>\n",
       "      <td>777759.0</td>\n",
       "      <td>967</td>\n",
       "      <td>0</td>\n",
       "      <td>71.21</td>\n",
       "      <td>-999.00</td>\n",
       "    </tr>\n",
       "    <tr>\n",
       "      <th>1163028.0</th>\n",
       "      <td>654</td>\n",
       "      <td>3626.0</td>\n",
       "      <td>352113.0</td>\n",
       "      <td>810</td>\n",
       "      <td>0</td>\n",
       "      <td>56.75</td>\n",
       "      <td>-999.00</td>\n",
       "    </tr>\n",
       "    <tr>\n",
       "      <th>1522374.0</th>\n",
       "      <td>654</td>\n",
       "      <td>45218.0</td>\n",
       "      <td>806298.0</td>\n",
       "      <td>970</td>\n",
       "      <td>0</td>\n",
       "      <td>74.02</td>\n",
       "      <td>-999.00</td>\n",
       "    </tr>\n",
       "    <tr>\n",
       "      <th>430273.0</th>\n",
       "      <td>654</td>\n",
       "      <td>282.0</td>\n",
       "      <td>425964.0</td>\n",
       "      <td>656</td>\n",
       "      <td>0</td>\n",
       "      <td>16.91</td>\n",
       "      <td>-999.00</td>\n",
       "    </tr>\n",
       "    <tr>\n",
       "      <th>1576764.0</th>\n",
       "      <td>654</td>\n",
       "      <td>22699.0</td>\n",
       "      <td>777707.0</td>\n",
       "      <td>966</td>\n",
       "      <td>0</td>\n",
       "      <td>69.58</td>\n",
       "      <td>-999.00</td>\n",
       "    </tr>\n",
       "    <tr>\n",
       "      <th>230219.0</th>\n",
       "      <td>654</td>\n",
       "      <td>9365.0</td>\n",
       "      <td>615698.0</td>\n",
       "      <td>534</td>\n",
       "      <td>0</td>\n",
       "      <td>28.74</td>\n",
       "      <td>107.29</td>\n",
       "    </tr>\n",
       "    <tr>\n",
       "      <th>2577533.0</th>\n",
       "      <td>654</td>\n",
       "      <td>1204.0</td>\n",
       "      <td>171571.0</td>\n",
       "      <td>1214</td>\n",
       "      <td>0</td>\n",
       "      <td>84.27</td>\n",
       "      <td>-999.00</td>\n",
       "    </tr>\n",
       "    <tr>\n",
       "      <th>24021</th>\n",
       "      <th>160706.0</th>\n",
       "      <td>654</td>\n",
       "      <td>7243.0</td>\n",
       "      <td>724837.0</td>\n",
       "      <td>414</td>\n",
       "      <td>1</td>\n",
       "      <td>30.42</td>\n",
       "      <td>108.09</td>\n",
       "    </tr>\n",
       "  </tbody>\n",
       "</table>\n",
       "</div>"
      ],
      "text/plain": [
       "                  zone_id_home  jobs_1500_walk  jobs_25000  zone_id_work  \\\n",
       "obs_id job_id                                                              \n",
       "24022  13503.0             654          4060.0    658449.0           383   \n",
       "       659800.0            654          2455.0    617767.0           750   \n",
       "       309068.0            654          1077.0    496964.0           685   \n",
       "       1518679.0           654         36812.0    777759.0           967   \n",
       "       1163028.0           654          3626.0    352113.0           810   \n",
       "       1522374.0           654         45218.0    806298.0           970   \n",
       "       430273.0            654           282.0    425964.0           656   \n",
       "       1576764.0           654         22699.0    777707.0           966   \n",
       "       230219.0            654          9365.0    615698.0           534   \n",
       "       2577533.0           654          1204.0    171571.0          1214   \n",
       "24021  160706.0            654          7243.0    724837.0           414   \n",
       "\n",
       "                  chosen  tt_da  tt_wTrnW  \n",
       "obs_id job_id                              \n",
       "24022  13503.0         1  41.47    158.59  \n",
       "       659800.0        0  32.77    112.09  \n",
       "       309068.0        0  26.76    120.22  \n",
       "       1518679.0       0  71.21   -999.00  \n",
       "       1163028.0       0  56.75   -999.00  \n",
       "       1522374.0       0  74.02   -999.00  \n",
       "       430273.0        0  16.91   -999.00  \n",
       "       1576764.0       0  69.58   -999.00  \n",
       "       230219.0        0  28.74    107.29  \n",
       "       2577533.0       0  84.27   -999.00  \n",
       "24021  160706.0        1  30.42    108.09  "
      ]
     },
     "execution_count": 12,
     "metadata": {},
     "output_type": "execute_result"
    }
   ],
   "source": [
    "mct.to_frame().head(11)"
   ]
  },
  {
   "cell_type": "markdown",
   "metadata": {},
   "source": [
    "### Occupation counts"
   ]
  },
  {
   "cell_type": "code",
   "execution_count": 83,
   "metadata": {},
   "outputs": [
    {
     "data": {
      "text/plain": [
       "11    1437\n",
       "25    1066\n",
       "13     776\n",
       "43     720\n",
       "15     676\n",
       "41     654\n",
       "17     574\n",
       "29     518\n",
       "19     297\n",
       "35     285\n",
       "31     242\n",
       "23     227\n",
       "53     182\n",
       "27     180\n",
       "21     179\n",
       "49     169\n",
       "39     150\n",
       "51     141\n",
       "37     139\n",
       "33     139\n",
       "47     102\n",
       "45      34\n",
       "55      18\n",
       "97       7\n",
       "99       4\n",
       "98       2\n",
       "Name: occupation_id, dtype: int64"
      ]
     },
     "execution_count": 83,
     "metadata": {},
     "output_type": "execute_result"
    }
   ],
   "source": [
    "chts_workers.merge(jobs, left_on='job_id', right_index=True)['occupation_id'].value_counts()"
   ]
  },
  {
   "cell_type": "markdown",
   "metadata": {},
   "source": [
    "### Estimate the WLCM"
   ]
  },
  {
   "cell_type": "code",
   "execution_count": 13,
   "metadata": {},
   "outputs": [],
   "source": [
    "m = LargeMultinomialLogitStep()\n",
    "m.name = 'WLCM'"
   ]
  },
  {
   "cell_type": "code",
   "execution_count": 38,
   "metadata": {},
   "outputs": [],
   "source": [
    "m.model_expression = 'np.log1p(jobs_1500_walk) + np.log(jobs_25000) + np.log1p(tt_da) + tt_wTrnW - 1'"
   ]
  },
  {
   "cell_type": "code",
   "execution_count": 39,
   "metadata": {},
   "outputs": [
    {
     "name": "stdout",
     "output_type": "stream",
     "text": [
      "                  CHOICEMODELS ESTIMATION RESULTS                  \n",
      "===================================================================\n",
      "Dep. Var.:                chosen   No. Observations:          8,918\n",
      "Model:         Multinomial Logit   Df Residuals:              8,914\n",
      "Method:       Maximum Likelihood   Df Model:                      4\n",
      "Date:                 2018-09-26   Pseudo R-squ.:             0.411\n",
      "Time:                      20:29   Pseudo R-bar-squ.:         0.411\n",
      "AIC:                  24,200.705   Log-Likelihood:      -12,096.352\n",
      "BIC:                  24,229.088   LL-Null:             -20,534.454\n",
      "==============================================================================\n",
      "                              coef   std err          z     P>|z|   Conf. Int.\n",
      "------------------------------------------------------------------------------\n",
      "np.log1p(jobs_1500_walk)    0.0719     0.008      9.003     0.000             \n",
      "np.log(jobs_25000)          0.1237     0.007     17.655     0.000             \n",
      "np.log1p(tt_da)            -2.3485     0.022   -108.200     0.000             \n",
      "tt_wTrnW                    0.0001     0.000      4.800     0.000             \n",
      "==============================================================================\n"
     ]
    }
   ],
   "source": [
    "m.fit(mct)"
   ]
  },
  {
   "cell_type": "code",
   "execution_count": 42,
   "metadata": {},
   "outputs": [
    {
     "name": "stdout",
     "output_type": "stream",
     "text": [
      "No files from ModelManager 0.1.dev8 or later found in path 'configs'\n"
     ]
    }
   ],
   "source": [
    "mm.initialize()"
   ]
  },
  {
   "cell_type": "code",
   "execution_count": 43,
   "metadata": {},
   "outputs": [
    {
     "name": "stdout",
     "output_type": "stream",
     "text": [
      "Saving 'WLCM.yaml': /home/max/projects/ual_model_workspace/fall-2018-models/configs\n",
      "Registering model step 'WLCM'\n"
     ]
    }
   ],
   "source": [
    "mm.register(m)"
   ]
  }
 ],
 "metadata": {
  "kernelspec": {
   "display_name": "Python 3",
   "language": "python",
   "name": "python3"
  },
  "language_info": {
   "codemirror_mode": {
    "name": "ipython",
    "version": 3
   },
   "file_extension": ".py",
   "mimetype": "text/x-python",
   "name": "python",
   "nbconvert_exporter": "python",
   "pygments_lexer": "ipython3",
   "version": "3.6.6"
  }
 },
 "nbformat": 4,
 "nbformat_minor": 2
}
