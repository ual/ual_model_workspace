{
 "cells": [
  {
   "cell_type": "code",
   "execution_count": 1,
   "metadata": {},
   "outputs": [],
   "source": [
    "import pandas as pd\n",
    "import numpy as np\n",
    "from tqdm import tqdm\n",
    "from sklearn.neighbors import BallTree\n",
    "# import seaborn as sns\n",
    "import geopandas as gpd\n",
    "from shapely.geometry import Point, LineString\n",
    "from pyproj import Proj, transform\n",
    "from matplotlib import pyplot as plt\n",
    "%matplotlib inline\n",
    "# %load_ext memory_profiler"
   ]
  },
  {
   "cell_type": "code",
   "execution_count": 2,
   "metadata": {},
   "outputs": [
    {
     "name": "stdout",
     "output_type": "stream",
     "text": [
      "Registering model step 'WLCM_constrained-higher_ed_x_sector-tt_x_dist-cost_x_income'\n"
     ]
    }
   ],
   "source": [
    "from urbansim_templates import modelmanager as mm\n",
    "from urbansim_templates.models import LargeMultinomialLogitStep\n",
    "import orca\n",
    "import os; os.chdir('../')\n",
    "import warnings;warnings.simplefilter('ignore')\n",
    "from scripts import datasources, models, variables\n",
    "from choicemodels import MultinomialLogit\n",
    "from choicemodels.tools import MergedChoiceTable"
   ]
  },
  {
   "cell_type": "markdown",
   "metadata": {},
   "source": [
    "### Load Data"
   ]
  },
  {
   "cell_type": "code",
   "execution_count": 3,
   "metadata": {},
   "outputs": [
    {
     "name": "stdout",
     "output_type": "stream",
     "text": [
      "Running step 'initialize_network_walk'\n",
      "Time to execute step 'initialize_network_walk': 0.00 s\n",
      "Running step 'initialize_network_small'\n",
      "Time to execute step 'initialize_network_small': 0.00 s\n",
      "Total time to execute iteration 1 with iteration value None: 0.00 s\n"
     ]
    }
   ],
   "source": [
    "chts_households = pd.read_csv('/home/data/fall_2018/CHTS_csv_format/data/Deliv_HH.csv')\n",
    "chts_persons = pd.read_csv('./data/chts_persons_w_jobs_and_res_bldgs.csv')\n",
    "chts_persons.loc[:, 'worker'] = chts_persons[chts_persons['EMPLY'] == 1]\n",
    "chts_persons.loc[:, 'work_at_home'] = chts_persons[chts_persons['WLOC'] == 2]\n",
    "chts_workers = chts_persons[~pd.isnull(chts_persons['job_id'])]\n",
    "orca.run(['initialize_network_walk', 'initialize_network_small'])\n",
    "buildings = orca.get_table('buildings').to_frame()\n",
    "parcels = orca.get_table('parcels').to_frame()\n",
    "jobs = orca.get_table('jobs').to_frame()\n",
    "interaction_terms_tt = pd.read_csv('./data/WLCM_interaction_terms_tt.csv', index_col=['zone_id_home', 'zone_id_work'])\n",
    "interaction_terms_dist = pd.read_csv('./data/WLCM_interaction_terms_dist.csv', index_col=['zone_id_home', 'zone_id_work'])\n",
    "interaction_terms_cost = pd.read_csv('./data/WLCM_interaction_terms_cost.csv', index_col=['zone_id_home', 'zone_id_work'])\n",
    "walk_net_vars = pd.read_csv('./data/walk_net_vars.csv', index_col='osmid')\n",
    "drive_net_vars = pd.read_csv('./data/drive_net_vars.csv', index_col='osmid')"
   ]
  },
  {
   "cell_type": "markdown",
   "metadata": {},
   "source": [
    "### Generate distance-based sampling weights"
   ]
  },
  {
   "cell_type": "code",
   "execution_count": 4,
   "metadata": {},
   "outputs": [],
   "source": [
    "# w = (interaction_terms_dist**-0.3).clip(upper=1.0).dist_da.rename('w').to_frame()"
   ]
  },
  {
   "cell_type": "markdown",
   "metadata": {},
   "source": [
    "### Generate the merged choice table"
   ]
  },
  {
   "cell_type": "markdown",
   "metadata": {},
   "source": [
    "This step must be done manually for now by calling the `choicemodels.MergedChoiceTable()` method directly instead of using a template because `urbansim_templates` does not yet have functionality for interaction terms such as home-to-work distances"
   ]
  },
  {
   "cell_type": "code",
   "execution_count": 5,
   "metadata": {},
   "outputs": [],
   "source": [
    "obs = chts_workers.merge(\n",
    "    chts_households[['SAMPN', 'INCOM']], on='SAMPN').merge(\n",
    "    buildings, left_on='building_id', right_index=True).merge(\n",
    "    parcels, left_on='parcel_id', right_index=True).rename(\n",
    "    columns={\n",
    "        'zone_id': 'zone_id_home', 'AGE': 'age', 'EDUCA': 'edu', 'INCOM': 'income'})\n",
    "obs.index.name = 'obs_id'"
   ]
  },
  {
   "cell_type": "code",
   "execution_count": 6,
   "metadata": {},
   "outputs": [],
   "source": [
    "obs['no_higher_ed'] = (obs['edu'] < 5).astype(int)\n",
    "obs['age_under_45'] = (obs['age'] < 45).astype(int)\n",
    "obs['hh_inc_under_25k'] = (obs['income'] < 3).astype(int)\n",
    "obs['hh_inc_25_to_75k'] = ((obs['income'] > 2) & (obs['income'] < 6)).astype(int)\n",
    "obs['hh_inc_75_to_200k'] = ((obs['income'] > 5) & (obs['income'] < 9)).astype(int)\n",
    "obs = obs[[\n",
    "    'job_id', 'zone_id_home', 'age_under_45', 'no_higher_ed', 'age',\n",
    "    'hh_inc_under_25k', 'hh_inc_25_to_75k', 'hh_inc_75_to_200k', 'income']]"
   ]
  },
  {
   "cell_type": "code",
   "execution_count": 7,
   "metadata": {},
   "outputs": [],
   "source": [
    "alts = jobs.merge(buildings, left_on='building_id', right_index=True).merge(\n",
    "    parcels, left_on='parcel_id', right_index=True).merge(\n",
    "    walk_net_vars, left_on='node_id_walk', right_index=True).merge(\n",
    "    drive_net_vars, left_on='node_id_small', right_index=True).rename(columns={'zone_id': 'zone_id_work'})"
   ]
  },
  {
   "cell_type": "code",
   "execution_count": 8,
   "metadata": {},
   "outputs": [],
   "source": [
    "# industry of alternatives\n",
    "alts['sector_retail'] = alts['sector_id'].isin([44, 45]).astype(int)\n",
    "alts['sector_healthcare'] = alts['sector_id'].isin([62]).astype(int)\n",
    "alts['sector_tech'] = alts['sector_id'].isin([51, 54]).astype(int)\n",
    "alts['sector_food_and_hosp'] = alts['sector_id'].isin([72]).astype(int)\n",
    "alts['sector_mfg'] = alts['sector_id'].isin([31, 32, 33]).astype(int)\n",
    "alts['sector_edu_serv'] = alts['sector_id'].isin([61]).astype(int)\n",
    "alts['sector_oth_serv'] = alts['sector_id'].isin([81]).astype(int)\n",
    "alts['sector_constr'] = alts['sector_id'].isin([23]).astype(int)\n",
    "alts['sector_gov'] = alts['sector_id'].isin([92]).astype(int)\n",
    "alts['sector_fire'] = alts['sector_id'].isin([52, 53]).astype(int)\n",
    "alts['sector_whlsale'] = alts['sector_id'].isin([42]).astype(int)\n",
    "alts['sector_admin'] = alts['sector_id'].isin([56]).astype(int)\n",
    "alts['sector_transport'] = alts['sector_id'].isin([48]).astype(int)\n",
    "alts['sector_arts'] = alts['sector_id'].isin([71]).astype(int)\n",
    "alts['sector_util'] = alts['sector_id'].isin([22]).astype(int)\n",
    "\n",
    "# # occupation of alternatives\n",
    "# alts['occup_mgmt'] = alts['occupation_id'].isin([11]).astype(int)\n",
    "# alts['occup_sales'] = alts['occupation_id'].isin([41]).astype(int)\n",
    "# alts['occup_biz'] = alts['occupation_id'].isin([13]).astype(int)\n",
    "# alts['occup_admin'] = alts['occupation_id'].isin([43]).astype(int)\n",
    "# alts['occup_edu'] = alts['occupation_id'].isin([25]).astype(int)\n",
    "# alts['occup_food'] = alts['occupation_id'].isin([35]).astype(int)\n",
    "# alts['occup_health'] = alts['occupation_id'].isin([29, 31]).astype(int)\n",
    "# alts['occup_tech'] = alts['occupation_id'].isin([15]).astype(int)\n",
    "# alts['occup_eng'] = alts['occupation_id'].isin([17]).astype(int)\n",
    "# alts['occup_transp'] = alts['occupation_id'].isin([53]).astype(int)\n",
    "# alts['occup_constr'] = alts['occupation_id'].isin([47]).astype(int)"
   ]
  },
  {
   "cell_type": "code",
   "execution_count": 9,
   "metadata": {},
   "outputs": [],
   "source": [
    "alts = alts[[\n",
    "    'jobs_1500_walk', 'jobs_1500_walk_tech', 'jobs_2500_walk_tech', 'jobs_2500_walk_retail',\n",
    "    'jobs_1500_walk_retail', 'jobs_1500_walk_fire', 'jobs_2500_walk_fire',\n",
    "    'zone_id_work', 'sector_retail', 'sector_healthcare', 'sector_tech', 'sector_food_and_hosp',\n",
    "    'sector_mfg', 'sector_edu_serv', 'sector_oth_serv', 'sector_constr', 'sector_gov', 'sector_fire',\n",
    "    'sector_whlsale', 'sector_admin', 'sector_transport', 'sector_arts', 'sector_util',\n",
    "#     'occup_mgmt', 'occup_sales', 'occup_biz', 'occup_admin', 'occup_edu', 'occup_food', 'occup_health',\n",
    "#     'occup_tech', 'occup_eng', 'occup_transp', 'occup_constr'\n",
    "]]"
   ]
  },
  {
   "cell_type": "code",
   "execution_count": 18,
   "metadata": {},
   "outputs": [
    {
     "name": "stdout",
     "output_type": "stream",
     "text": [
      "CPU times: user 3.19 s, sys: 888 ms, total: 4.08 s\n",
      "Wall time: 4.09 s\n"
     ]
    }
   ],
   "source": [
    "%%time\n",
    "# %memit\n",
    "mct = MergedChoiceTable(obs, alts, chosen_alternatives='job_id',\n",
    "                        sample_size=100, interaction_terms=[\n",
    "                            interaction_terms_tt, interaction_terms_dist, interaction_terms_cost])"
   ]
  },
  {
   "cell_type": "code",
   "execution_count": 11,
   "metadata": {},
   "outputs": [
    {
     "data": {
      "text/html": [
       "<div>\n",
       "<style scoped>\n",
       "    .dataframe tbody tr th:only-of-type {\n",
       "        vertical-align: middle;\n",
       "    }\n",
       "\n",
       "    .dataframe tbody tr th {\n",
       "        vertical-align: top;\n",
       "    }\n",
       "\n",
       "    .dataframe thead th {\n",
       "        text-align: right;\n",
       "    }\n",
       "</style>\n",
       "<table border=\"1\" class=\"dataframe\">\n",
       "  <thead>\n",
       "    <tr style=\"text-align: right;\">\n",
       "      <th></th>\n",
       "      <th></th>\n",
       "      <th>zone_id_home</th>\n",
       "      <th>age_under_45</th>\n",
       "      <th>no_higher_ed</th>\n",
       "      <th>age</th>\n",
       "      <th>hh_inc_under_25k</th>\n",
       "      <th>hh_inc_25_to_75k</th>\n",
       "      <th>hh_inc_75_to_200k</th>\n",
       "      <th>income</th>\n",
       "      <th>jobs_1500_walk</th>\n",
       "      <th>jobs_1500_walk_tech</th>\n",
       "      <th>...</th>\n",
       "      <th>sector_transport</th>\n",
       "      <th>sector_arts</th>\n",
       "      <th>sector_util</th>\n",
       "      <th>chosen</th>\n",
       "      <th>tt_da</th>\n",
       "      <th>tt_wTrnW</th>\n",
       "      <th>dist_da</th>\n",
       "      <th>dist_walk</th>\n",
       "      <th>cost_da_toll</th>\n",
       "      <th>cost_wTrnW</th>\n",
       "    </tr>\n",
       "    <tr>\n",
       "      <th>obs_id</th>\n",
       "      <th>job_id</th>\n",
       "      <th></th>\n",
       "      <th></th>\n",
       "      <th></th>\n",
       "      <th></th>\n",
       "      <th></th>\n",
       "      <th></th>\n",
       "      <th></th>\n",
       "      <th></th>\n",
       "      <th></th>\n",
       "      <th></th>\n",
       "      <th></th>\n",
       "      <th></th>\n",
       "      <th></th>\n",
       "      <th></th>\n",
       "      <th></th>\n",
       "      <th></th>\n",
       "      <th></th>\n",
       "      <th></th>\n",
       "      <th></th>\n",
       "      <th></th>\n",
       "      <th></th>\n",
       "    </tr>\n",
       "  </thead>\n",
       "  <tbody>\n",
       "    <tr>\n",
       "      <th rowspan=\"5\" valign=\"top\">8917</th>\n",
       "      <th>13503.0</th>\n",
       "      <td>654</td>\n",
       "      <td>0</td>\n",
       "      <td>0</td>\n",
       "      <td>49</td>\n",
       "      <td>0</td>\n",
       "      <td>0</td>\n",
       "      <td>1</td>\n",
       "      <td>7</td>\n",
       "      <td>4060.0</td>\n",
       "      <td>101.0</td>\n",
       "      <td>...</td>\n",
       "      <td>0</td>\n",
       "      <td>0</td>\n",
       "      <td>0</td>\n",
       "      <td>1</td>\n",
       "      <td>41.47</td>\n",
       "      <td>158.59</td>\n",
       "      <td>24.50</td>\n",
       "      <td>24.22</td>\n",
       "      <td>519.40</td>\n",
       "      <td>161.0</td>\n",
       "    </tr>\n",
       "    <tr>\n",
       "      <th>635806.0</th>\n",
       "      <td>654</td>\n",
       "      <td>0</td>\n",
       "      <td>0</td>\n",
       "      <td>49</td>\n",
       "      <td>0</td>\n",
       "      <td>0</td>\n",
       "      <td>1</td>\n",
       "      <td>7</td>\n",
       "      <td>7483.0</td>\n",
       "      <td>1148.0</td>\n",
       "      <td>...</td>\n",
       "      <td>0</td>\n",
       "      <td>0</td>\n",
       "      <td>0</td>\n",
       "      <td>0</td>\n",
       "      <td>30.49</td>\n",
       "      <td>82.63</td>\n",
       "      <td>15.76</td>\n",
       "      <td>15.30</td>\n",
       "      <td>334.11</td>\n",
       "      <td>161.0</td>\n",
       "    </tr>\n",
       "    <tr>\n",
       "      <th>1169030.0</th>\n",
       "      <td>654</td>\n",
       "      <td>0</td>\n",
       "      <td>0</td>\n",
       "      <td>49</td>\n",
       "      <td>0</td>\n",
       "      <td>0</td>\n",
       "      <td>1</td>\n",
       "      <td>7</td>\n",
       "      <td>401.0</td>\n",
       "      <td>10.0</td>\n",
       "      <td>...</td>\n",
       "      <td>0</td>\n",
       "      <td>0</td>\n",
       "      <td>0</td>\n",
       "      <td>0</td>\n",
       "      <td>64.85</td>\n",
       "      <td>-999.00</td>\n",
       "      <td>44.34</td>\n",
       "      <td>44.16</td>\n",
       "      <td>948.92</td>\n",
       "      <td>-999.0</td>\n",
       "    </tr>\n",
       "    <tr>\n",
       "      <th>1360647.0</th>\n",
       "      <td>654</td>\n",
       "      <td>0</td>\n",
       "      <td>0</td>\n",
       "      <td>49</td>\n",
       "      <td>0</td>\n",
       "      <td>0</td>\n",
       "      <td>1</td>\n",
       "      <td>7</td>\n",
       "      <td>8116.0</td>\n",
       "      <td>1171.0</td>\n",
       "      <td>...</td>\n",
       "      <td>0</td>\n",
       "      <td>0</td>\n",
       "      <td>0</td>\n",
       "      <td>0</td>\n",
       "      <td>55.74</td>\n",
       "      <td>155.50</td>\n",
       "      <td>33.35</td>\n",
       "      <td>34.98</td>\n",
       "      <td>707.02</td>\n",
       "      <td>570.0</td>\n",
       "    </tr>\n",
       "    <tr>\n",
       "      <th>1194067.0</th>\n",
       "      <td>654</td>\n",
       "      <td>0</td>\n",
       "      <td>0</td>\n",
       "      <td>49</td>\n",
       "      <td>0</td>\n",
       "      <td>0</td>\n",
       "      <td>1</td>\n",
       "      <td>7</td>\n",
       "      <td>18737.0</td>\n",
       "      <td>683.0</td>\n",
       "      <td>...</td>\n",
       "      <td>0</td>\n",
       "      <td>0</td>\n",
       "      <td>0</td>\n",
       "      <td>0</td>\n",
       "      <td>60.89</td>\n",
       "      <td>150.00</td>\n",
       "      <td>41.43</td>\n",
       "      <td>41.38</td>\n",
       "      <td>887.23</td>\n",
       "      <td>591.0</td>\n",
       "    </tr>\n",
       "  </tbody>\n",
       "</table>\n",
       "<p>5 rows × 38 columns</p>\n",
       "</div>"
      ],
      "text/plain": [
       "                  zone_id_home  age_under_45  no_higher_ed  age  \\\n",
       "obs_id job_id                                                     \n",
       "8917   13503.0             654             0             0   49   \n",
       "       635806.0            654             0             0   49   \n",
       "       1169030.0           654             0             0   49   \n",
       "       1360647.0           654             0             0   49   \n",
       "       1194067.0           654             0             0   49   \n",
       "\n",
       "                  hh_inc_under_25k  hh_inc_25_to_75k  hh_inc_75_to_200k  \\\n",
       "obs_id job_id                                                             \n",
       "8917   13503.0                   0                 0                  1   \n",
       "       635806.0                  0                 0                  1   \n",
       "       1169030.0                 0                 0                  1   \n",
       "       1360647.0                 0                 0                  1   \n",
       "       1194067.0                 0                 0                  1   \n",
       "\n",
       "                  income  jobs_1500_walk  jobs_1500_walk_tech  ...  \\\n",
       "obs_id job_id                                                  ...   \n",
       "8917   13503.0         7          4060.0                101.0  ...   \n",
       "       635806.0        7          7483.0               1148.0  ...   \n",
       "       1169030.0       7           401.0                 10.0  ...   \n",
       "       1360647.0       7          8116.0               1171.0  ...   \n",
       "       1194067.0       7         18737.0                683.0  ...   \n",
       "\n",
       "                  sector_transport  sector_arts  sector_util  chosen  tt_da  \\\n",
       "obs_id job_id                                                                 \n",
       "8917   13503.0                   0            0            0       1  41.47   \n",
       "       635806.0                  0            0            0       0  30.49   \n",
       "       1169030.0                 0            0            0       0  64.85   \n",
       "       1360647.0                 0            0            0       0  55.74   \n",
       "       1194067.0                 0            0            0       0  60.89   \n",
       "\n",
       "                  tt_wTrnW  dist_da  dist_walk  cost_da_toll  cost_wTrnW  \n",
       "obs_id job_id                                                             \n",
       "8917   13503.0      158.59    24.50      24.22        519.40       161.0  \n",
       "       635806.0      82.63    15.76      15.30        334.11       161.0  \n",
       "       1169030.0   -999.00    44.34      44.16        948.92      -999.0  \n",
       "       1360647.0    155.50    33.35      34.98        707.02       570.0  \n",
       "       1194067.0    150.00    41.43      41.38        887.23       591.0  \n",
       "\n",
       "[5 rows x 38 columns]"
      ]
     },
     "execution_count": 11,
     "metadata": {},
     "output_type": "execute_result"
    }
   ],
   "source": [
    "mct.to_frame().head()"
   ]
  },
  {
   "cell_type": "markdown",
   "metadata": {},
   "source": [
    "### Estimate the WLCM"
   ]
  },
  {
   "cell_type": "code",
   "execution_count": 19,
   "metadata": {},
   "outputs": [
    {
     "name": "stdout",
     "output_type": "stream",
     "text": [
      "Registering model step 'WLCM_constrained-higher_ed_x_sector-tt_x_dist-cost_x_income'\n"
     ]
    }
   ],
   "source": [
    "mm.initialize()"
   ]
  },
  {
   "cell_type": "code",
   "execution_count": 20,
   "metadata": {},
   "outputs": [],
   "source": [
    "m = LargeMultinomialLogitStep(\n",
    "    chooser_filters=['age < 115', 'income < 98', 'edu < 98'], constrained_choices=True,\n",
    "    alt_sample_size=100\n",
    ")"
   ]
  },
  {
   "cell_type": "code",
   "execution_count": 21,
   "metadata": {},
   "outputs": [],
   "source": [
    "m.model_expression = (\n",
    "    'dist_da/tt_da + tt_wTrnW + np.log1p(jobs_1500_walk_retail) + '\n",
    "    'np.log1p(cost_da_toll):(hh_inc_under_25k + hh_inc_25_to_75k + hh_inc_75_to_200k) + '\n",
    "    'no_higher_ed:(sector_retail + sector_fire + sector_healthcare + sector_tech + sector_mfg + '\n",
    "    'sector_food_and_hosp + sector_edu_serv + sector_gov + sector_whlsale) + '\n",
    "    'sector_retail + sector_tech + sector_mfg + sector_food_and_hosp + sector_edu_serv + sector_oth_serv + '\n",
    "    'sector_constr + sector_gov + sector_whlsale + sector_admin + sector_util - 1'\n",
    ")"
   ]
  },
  {
   "cell_type": "code",
   "execution_count": 22,
   "metadata": {},
   "outputs": [
    {
     "name": "stderr",
     "output_type": "stream",
     "text": [
      "WARNING:choicemodels.mnl:mnl did not converge correctly: (array([-1.15485164e-01,  2.42414178e-04, -1.42387479e-04,  3.29549564e-03,\n",
      "       -6.26353105e-01, -4.92359861e-01, -2.64377742e-01,  5.23251404e-01,\n",
      "       -1.09476407e+00, -7.19217541e-01, -1.56288006e+00, -6.13501437e-01,\n",
      "        1.09435176e+00, -1.46427523e+00, -7.01324674e-01,  5.51569518e-01,\n",
      "       -1.15546463e+00,  6.18100102e-01, -5.55207124e-01, -1.91906642e+00,\n",
      "        1.22632717e+00, -5.57587897e-01, -1.25653225e+00,  4.47698930e-01,\n",
      "       -2.27388137e+00, -1.12884394e+00,  6.05754425e-01]), array([[27560.70022855]]), {'grad': array([-0.03166736, -0.08453475, -0.11535843,  0.04644688,  0.02001229,\n",
      "       -0.00805658,  0.02415927, -0.00785179,  0.00445038, -0.02243847,\n",
      "        0.00155468,  0.0001496 , -0.0102652 ,  0.00577386,  0.01130301,\n",
      "        0.0358884 , -0.00069574, -0.0793092 , -0.00531949, -0.01909658,\n",
      "        0.04425809, -0.00665129,  0.00572571,  0.02786018,  0.00971504,\n",
      "        0.00560601, -0.01078316]), 'task': b'ABNORMAL_TERMINATION_IN_LNSRCH', 'funcalls': 7298, 'nit': 6331, 'warnflag': 2})\n"
     ]
    },
    {
     "name": "stdout",
     "output_type": "stream",
     "text": [
      "                  CHOICEMODELS ESTIMATION RESULTS                  \n",
      "===================================================================\n",
      "Dep. Var.:                chosen   No. Observations:          8,918\n",
      "Model:         Multinomial Logit   Df Residuals:              8,891\n",
      "Method:       Maximum Likelihood   Df Model:                     27\n",
      "Date:                 2019-06-17   Pseudo R-squ.:             0.329\n",
      "Time:                      09:57   Pseudo R-bar-squ.:         0.328\n",
      "AIC:                  55,175.400   Log-Likelihood:      -27,560.700\n",
      "BIC:                  55,366.988   LL-Null:             -41,068.908\n",
      "=============================================================================================\n",
      "                                              coef   std err         z     P>|z|   Conf. Int.\n",
      "---------------------------------------------------------------------------------------------\n",
      "dist_da                                    -0.1155     0.002   -52.828     0.000             \n",
      "dist_da:tt_da                               0.0002     0.000     8.676     0.000             \n",
      "tt_wTrnW                                   -0.0001     0.000    -6.063     0.000             \n",
      "np.log1p(jobs_1500_walk_retail)             0.0033     0.004     0.890     0.373             \n",
      "np.log1p(cost_da_toll):hh_inc_under_25k    -0.6264     0.013   -47.854     0.000             \n",
      "np.log1p(cost_da_toll):hh_inc_25_to_75k    -0.4924     0.006   -76.520     0.000             \n",
      "np.log1p(cost_da_toll):hh_inc_75_to_200k   -0.2644     0.005   -54.177     0.000             \n",
      "no_higher_ed:sector_retail                  0.5233     0.081     6.461     0.000             \n",
      "no_higher_ed:sector_fire                   -1.0948     0.086   -12.801     0.000             \n",
      "no_higher_ed:sector_healthcare             -0.7192     0.061   -11.771     0.000             \n",
      "no_higher_ed:sector_tech                   -1.5629     0.064   -24.313     0.000             \n",
      "no_higher_ed:sector_mfg                    -0.6135     0.093    -6.574     0.000             \n",
      "no_higher_ed:sector_food_and_hosp           1.0944     0.134     8.170     0.000             \n",
      "no_higher_ed:sector_edu_serv               -1.4643     0.079   -18.598     0.000             \n",
      "no_higher_ed:sector_gov                    -0.7013     0.085    -8.250     0.000             \n",
      "no_higher_ed:sector_whlsale                 0.5516     0.248     2.225     0.026             \n",
      "sector_retail                              -1.1555     0.067   -17.315     0.000             \n",
      "sector_tech                                 0.6181     0.033    18.579     0.000             \n",
      "sector_mfg                                 -0.5552     0.058    -9.645     0.000             \n",
      "sector_food_and_hosp                       -1.9191     0.116   -16.490     0.000             \n",
      "sector_edu_serv                             1.2263     0.040    30.662     0.000             \n",
      "sector_oth_serv                            -0.5576     0.060    -9.294     0.000             \n",
      "sector_constr                              -1.2565     0.082   -15.330     0.000             \n",
      "sector_gov                                  0.4477     0.054     8.352     0.000             \n",
      "sector_whlsale                             -2.2739     0.198   -11.492     0.000             \n",
      "sector_admin                               -1.1288     0.089   -12.657     0.000             \n",
      "sector_util                                 0.6058     0.099     6.088     0.000             \n",
      "=============================================================================================\n"
     ]
    }
   ],
   "source": [
    "# %mprun -f m.fit \n",
    "m.fit(mct)"
   ]
  },
  {
   "cell_type": "code",
   "execution_count": 51,
   "metadata": {},
   "outputs": [],
   "source": [
    "m.name = 'WLCM_constrained-higher_ed_x_sector-tt_x_dist-cost_x_income'\n",
    "m.tags = ['max']"
   ]
  },
  {
   "cell_type": "code",
   "execution_count": 52,
   "metadata": {
    "scrolled": true
   },
   "outputs": [
    {
     "name": "stdout",
     "output_type": "stream",
     "text": [
      "Saving 'WLCM_constrained-higher_ed_x_sector-tt_x_dist-cost_x_income.yaml': /home/max/projects/ual_model_workspace/fall-2018-models/configs\n",
      "Registering model step 'WLCM_constrained-higher_ed_x_sector-tt_x_dist-cost_x_income'\n"
     ]
    }
   ],
   "source": [
    "mm.register(m)"
   ]
  },
  {
   "cell_type": "code",
   "execution_count": null,
   "metadata": {},
   "outputs": [],
   "source": []
  }
 ],
 "metadata": {
  "kernelspec": {
   "display_name": "Python 3",
   "language": "python",
   "name": "python3"
  },
  "language_info": {
   "codemirror_mode": {
    "name": "ipython",
    "version": 3
   },
   "file_extension": ".py",
   "mimetype": "text/x-python",
   "name": "python",
   "nbconvert_exporter": "python",
   "pygments_lexer": "ipython3",
   "version": "3.6.7"
  }
 },
 "nbformat": 4,
 "nbformat_minor": 2
}
