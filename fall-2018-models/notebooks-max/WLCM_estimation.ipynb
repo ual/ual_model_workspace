{
 "cells": [
  {
   "cell_type": "code",
   "execution_count": 1,
   "metadata": {},
   "outputs": [],
   "source": [
    "import pandas as pd\n",
    "import numpy as np\n",
    "from tqdm import tqdm\n",
    "from sklearn.neighbors import BallTree\n",
    "import seaborn as sns\n",
    "import geopandas as gpd\n",
    "from shapely.geometry import Point, LineString\n",
    "from pyproj import Proj, transform\n",
    "from matplotlib import pyplot as plt\n",
    "%matplotlib inline"
   ]
  },
  {
   "cell_type": "code",
   "execution_count": 2,
   "metadata": {},
   "outputs": [],
   "source": [
    "from urbansim_templates import modelmanager as mm\n",
    "from urbansim_templates.models import LargeMultinomialLogitStep\n",
    "import orca\n",
    "import os; os.chdir('../')\n",
    "import warnings;warnings.simplefilter('ignore')\n",
    "from scripts import datasources, models, variables\n",
    "from choicemodels import MultinomialLogit\n",
    "from choicemodels.tools import MergedChoiceTable"
   ]
  },
  {
   "cell_type": "markdown",
   "metadata": {},
   "source": [
    "### Load Data"
   ]
  },
  {
   "cell_type": "code",
   "execution_count": 5,
   "metadata": {},
   "outputs": [
    {
     "name": "stdout",
     "output_type": "stream",
     "text": [
      "Running step 'initialize_network_walk'\n",
      "Time to execute step 'initialize_network_walk': 0.01 s\n",
      "Running step 'initialize_network_small'\n",
      "Time to execute step 'initialize_network_small': 0.00 s\n",
      "Total time to execute iteration 1 with iteration value None: 0.01 s\n"
     ]
    }
   ],
   "source": [
    "chts_households = pd.read_csv('/home/data/fall_2018/CHTS_csv_format/data/Deliv_HH.csv')\n",
    "chts_persons = pd.read_csv('./data/chts_persons_w_jobs_and_res_bldgs.csv')\n",
    "chts_persons.loc[:, 'worker'] = chts_persons[chts_persons['EMPLY'] == 1]\n",
    "chts_persons.loc[:, 'work_at_home'] = chts_persons[chts_persons['WLOC'] == 2]\n",
    "chts_workers = chts_persons[~pd.isnull(chts_persons['job_id'])]\n",
    "orca.run(['initialize_network_walk', 'initialize_network_small'])\n",
    "buildings = orca.get_table('buildings').to_frame()\n",
    "parcels = orca.get_table('parcels').to_frame()\n",
    "jobs = orca.get_table('jobs').to_frame()\n",
    "interaction_terms_tt = pd.read_csv('./data/WLCM_interaction_terms_tt.csv', index_col=['zone_id_home', 'zone_id_work'])\n",
    "interaction_terms_dist = pd.read_csv('./data/WLCM_interaction_terms_dist.csv', index_col=['zone_id_home', 'zone_id_work'])\n",
    "interaction_terms_cost = pd.read_csv('./data/WLCM_interaction_terms_cost.csv', index_col=['zone_id_home', 'zone_id_work'])\n",
    "walk_net_vars = pd.read_csv('./data/walk_net_vars.csv', index_col='osmid')\n",
    "drive_net_vars = pd.read_csv('./data/drive_net_vars.csv', index_col='osmid')"
   ]
  },
  {
   "cell_type": "markdown",
   "metadata": {},
   "source": [
    "### Generate distance-based sampling weights"
   ]
  },
  {
   "cell_type": "code",
   "execution_count": 4,
   "metadata": {},
   "outputs": [],
   "source": [
    "# w = (interaction_terms_dist**-0.3).clip(upper=1.0).dist_da.rename('w').to_frame()"
   ]
  },
  {
   "cell_type": "markdown",
   "metadata": {},
   "source": [
    "### Generate the merged choice table"
   ]
  },
  {
   "cell_type": "markdown",
   "metadata": {},
   "source": [
    "This step must be done manually for now by calling the `choicemodels.MergedChoiceTable()` method directly instead of using a template because `urbansim_templates` does not yet have functionality for interaction terms such as home-to-work distances"
   ]
  },
  {
   "cell_type": "code",
   "execution_count": 6,
   "metadata": {},
   "outputs": [],
   "source": [
    "obs = chts_workers.merge(\n",
    "    chts_households[['SAMPN', 'INCOM']], on='SAMPN').merge(\n",
    "    buildings, left_on='building_id', right_index=True).merge(\n",
    "    parcels, left_on='parcel_id', right_index=True).rename(\n",
    "    columns={\n",
    "        'zone_id': 'zone_id_home', 'AGE': 'age', 'EDUCA': 'edu', 'INCOM': 'income'})\n",
    "obs.index.name = 'obs_id'"
   ]
  },
  {
   "cell_type": "code",
   "execution_count": 7,
   "metadata": {},
   "outputs": [],
   "source": [
    "obs['no_higher_ed'] = (obs['edu'] < 5).astype(int)\n",
    "obs['age_under_45'] = (obs['age'] < 45).astype(int)\n",
    "obs['hh_inc_under_25k'] = (obs['income'] < 3).astype(int)\n",
    "obs['hh_inc_25_to_75k'] = ((obs['income'] > 2) & (obs['income'] < 6)).astype(int)\n",
    "obs['hh_inc_75_to_200k'] = ((obs['income'] > 5) & (obs['income'] < 9)).astype(int)\n",
    "obs = obs[[\n",
    "    'job_id', 'zone_id_home', 'age_under_45', 'no_higher_ed', 'age',\n",
    "    'hh_inc_under_25k', 'hh_inc_25_to_75k', 'hh_inc_75_to_200k', 'income']]"
   ]
  },
  {
   "cell_type": "code",
   "execution_count": 8,
   "metadata": {},
   "outputs": [],
   "source": [
    "alts = jobs.merge(buildings, left_on='building_id', right_index=True).merge(\n",
    "    parcels, left_on='parcel_id', right_index=True).merge(\n",
    "    walk_net_vars, left_on='node_id_walk', right_index=True).merge(\n",
    "    drive_net_vars, left_on='node_id_small', right_index=True).rename(columns={'zone_id': 'zone_id_work'})"
   ]
  },
  {
   "cell_type": "code",
   "execution_count": 9,
   "metadata": {},
   "outputs": [],
   "source": [
    "# industry of alternatives\n",
    "alts['sector_retail'] = alts['sector_id'].isin([44, 45]).astype(int)\n",
    "alts['sector_healthcare'] = alts['sector_id'].isin([62]).astype(int)\n",
    "alts['sector_tech'] = alts['sector_id'].isin([51, 54]).astype(int)\n",
    "alts['sector_food_and_hosp'] = alts['sector_id'].isin([72]).astype(int)\n",
    "alts['sector_mfg'] = alts['sector_id'].isin([31, 32, 33]).astype(int)\n",
    "alts['sector_edu_serv'] = alts['sector_id'].isin([61]).astype(int)\n",
    "alts['sector_oth_serv'] = alts['sector_id'].isin([81]).astype(int)\n",
    "alts['sector_constr'] = alts['sector_id'].isin([23]).astype(int)\n",
    "alts['sector_gov'] = alts['sector_id'].isin([92]).astype(int)\n",
    "alts['sector_fire'] = alts['sector_id'].isin([52, 53]).astype(int)\n",
    "alts['sector_whlsale'] = alts['sector_id'].isin([42]).astype(int)\n",
    "alts['sector_admin'] = alts['sector_id'].isin([56]).astype(int)\n",
    "alts['sector_transport'] = alts['sector_id'].isin([48]).astype(int)\n",
    "alts['sector_arts'] = alts['sector_id'].isin([71]).astype(int)\n",
    "alts['sector_util'] = alts['sector_id'].isin([22]).astype(int)\n",
    "\n",
    "# # occupation of alternatives\n",
    "# alts['occup_mgmt'] = alts['occupation_id'].isin([11]).astype(int)\n",
    "# alts['occup_sales'] = alts['occupation_id'].isin([41]).astype(int)\n",
    "# alts['occup_biz'] = alts['occupation_id'].isin([13]).astype(int)\n",
    "# alts['occup_admin'] = alts['occupation_id'].isin([43]).astype(int)\n",
    "# alts['occup_edu'] = alts['occupation_id'].isin([25]).astype(int)\n",
    "# alts['occup_food'] = alts['occupation_id'].isin([35]).astype(int)\n",
    "# alts['occup_health'] = alts['occupation_id'].isin([29, 31]).astype(int)\n",
    "# alts['occup_tech'] = alts['occupation_id'].isin([15]).astype(int)\n",
    "# alts['occup_eng'] = alts['occupation_id'].isin([17]).astype(int)\n",
    "# alts['occup_transp'] = alts['occupation_id'].isin([53]).astype(int)\n",
    "# alts['occup_constr'] = alts['occupation_id'].isin([47]).astype(int)"
   ]
  },
  {
   "cell_type": "code",
   "execution_count": 11,
   "metadata": {},
   "outputs": [],
   "source": [
    "alts = alts[[\n",
    "    'jobs_1500_walk', 'jobs_1500_walk_tech', 'jobs_2500_walk_tech', 'jobs_2500_walk_retail',\n",
    "    'jobs_1500_walk_retail', 'jobs_1500_walk_fire', 'jobs_2500_walk_fire',\n",
    "    'zone_id_work', 'sector_retail', 'sector_healthcare', 'sector_tech', 'sector_food_and_hosp',\n",
    "    'sector_mfg', 'sector_edu_serv', 'sector_oth_serv', 'sector_constr', 'sector_gov', 'sector_fire',\n",
    "    'sector_whlsale', 'sector_admin', 'sector_transport', 'sector_arts', 'sector_util',\n",
    "#     'occup_mgmt', 'occup_sales', 'occup_biz', 'occup_admin', 'occup_edu', 'occup_food', 'occup_health',\n",
    "#     'occup_tech', 'occup_eng', 'occup_transp', 'occup_constr'\n",
    "]]"
   ]
  },
  {
   "cell_type": "code",
   "execution_count": 12,
   "metadata": {},
   "outputs": [
    {
     "name": "stdout",
     "output_type": "stream",
     "text": [
      "CPU times: user 1.17 s, sys: 339 ms, total: 1.51 s\n",
      "Wall time: 1.53 s\n"
     ]
    }
   ],
   "source": [
    "%%time\n",
    "mct = MergedChoiceTable(obs, alts, chosen_alternatives='job_id',\n",
    "                        sample_size=10, interaction_terms=[\n",
    "                            interaction_terms_tt, interaction_terms_dist, interaction_terms_cost])"
   ]
  },
  {
   "cell_type": "code",
   "execution_count": 13,
   "metadata": {},
   "outputs": [
    {
     "data": {
      "text/html": [
       "<div>\n",
       "<style scoped>\n",
       "    .dataframe tbody tr th:only-of-type {\n",
       "        vertical-align: middle;\n",
       "    }\n",
       "\n",
       "    .dataframe tbody tr th {\n",
       "        vertical-align: top;\n",
       "    }\n",
       "\n",
       "    .dataframe thead th {\n",
       "        text-align: right;\n",
       "    }\n",
       "</style>\n",
       "<table border=\"1\" class=\"dataframe\">\n",
       "  <thead>\n",
       "    <tr style=\"text-align: right;\">\n",
       "      <th></th>\n",
       "      <th></th>\n",
       "      <th>zone_id_home</th>\n",
       "      <th>age_under_45</th>\n",
       "      <th>no_higher_ed</th>\n",
       "      <th>age</th>\n",
       "      <th>hh_inc_under_25k</th>\n",
       "      <th>hh_inc_25_to_75k</th>\n",
       "      <th>hh_inc_75_to_200k</th>\n",
       "      <th>income</th>\n",
       "      <th>jobs_1500_walk</th>\n",
       "      <th>jobs_1500_walk_tech</th>\n",
       "      <th>...</th>\n",
       "      <th>sector_transport</th>\n",
       "      <th>sector_arts</th>\n",
       "      <th>sector_util</th>\n",
       "      <th>chosen</th>\n",
       "      <th>tt_da</th>\n",
       "      <th>tt_wTrnW</th>\n",
       "      <th>dist_da</th>\n",
       "      <th>dist_walk</th>\n",
       "      <th>cost_da_toll</th>\n",
       "      <th>cost_wTrnW</th>\n",
       "    </tr>\n",
       "    <tr>\n",
       "      <th>obs_id</th>\n",
       "      <th>job_id</th>\n",
       "      <th></th>\n",
       "      <th></th>\n",
       "      <th></th>\n",
       "      <th></th>\n",
       "      <th></th>\n",
       "      <th></th>\n",
       "      <th></th>\n",
       "      <th></th>\n",
       "      <th></th>\n",
       "      <th></th>\n",
       "      <th></th>\n",
       "      <th></th>\n",
       "      <th></th>\n",
       "      <th></th>\n",
       "      <th></th>\n",
       "      <th></th>\n",
       "      <th></th>\n",
       "      <th></th>\n",
       "      <th></th>\n",
       "      <th></th>\n",
       "      <th></th>\n",
       "    </tr>\n",
       "  </thead>\n",
       "  <tbody>\n",
       "    <tr>\n",
       "      <th rowspan=\"5\" valign=\"top\">8917</th>\n",
       "      <th>13503.0</th>\n",
       "      <td>654</td>\n",
       "      <td>0</td>\n",
       "      <td>0</td>\n",
       "      <td>49</td>\n",
       "      <td>0</td>\n",
       "      <td>0</td>\n",
       "      <td>1</td>\n",
       "      <td>7</td>\n",
       "      <td>4060.0</td>\n",
       "      <td>101.0</td>\n",
       "      <td>...</td>\n",
       "      <td>0</td>\n",
       "      <td>0</td>\n",
       "      <td>0</td>\n",
       "      <td>1</td>\n",
       "      <td>41.47</td>\n",
       "      <td>158.59</td>\n",
       "      <td>24.50</td>\n",
       "      <td>24.22</td>\n",
       "      <td>519.40</td>\n",
       "      <td>161.0</td>\n",
       "    </tr>\n",
       "    <tr>\n",
       "      <th>2128603.0</th>\n",
       "      <td>654</td>\n",
       "      <td>0</td>\n",
       "      <td>0</td>\n",
       "      <td>49</td>\n",
       "      <td>0</td>\n",
       "      <td>0</td>\n",
       "      <td>1</td>\n",
       "      <td>7</td>\n",
       "      <td>31091.0</td>\n",
       "      <td>2706.0</td>\n",
       "      <td>...</td>\n",
       "      <td>0</td>\n",
       "      <td>0</td>\n",
       "      <td>0</td>\n",
       "      <td>0</td>\n",
       "      <td>86.82</td>\n",
       "      <td>-999.00</td>\n",
       "      <td>59.86</td>\n",
       "      <td>60.74</td>\n",
       "      <td>1269.03</td>\n",
       "      <td>-999.0</td>\n",
       "    </tr>\n",
       "    <tr>\n",
       "      <th>1227436.0</th>\n",
       "      <td>654</td>\n",
       "      <td>0</td>\n",
       "      <td>0</td>\n",
       "      <td>49</td>\n",
       "      <td>0</td>\n",
       "      <td>0</td>\n",
       "      <td>1</td>\n",
       "      <td>7</td>\n",
       "      <td>18358.0</td>\n",
       "      <td>648.0</td>\n",
       "      <td>...</td>\n",
       "      <td>0</td>\n",
       "      <td>0</td>\n",
       "      <td>0</td>\n",
       "      <td>0</td>\n",
       "      <td>62.14</td>\n",
       "      <td>-999.00</td>\n",
       "      <td>41.98</td>\n",
       "      <td>42.10</td>\n",
       "      <td>898.89</td>\n",
       "      <td>-999.0</td>\n",
       "    </tr>\n",
       "    <tr>\n",
       "      <th>783058.0</th>\n",
       "      <td>654</td>\n",
       "      <td>0</td>\n",
       "      <td>0</td>\n",
       "      <td>49</td>\n",
       "      <td>0</td>\n",
       "      <td>0</td>\n",
       "      <td>1</td>\n",
       "      <td>7</td>\n",
       "      <td>1378.0</td>\n",
       "      <td>586.0</td>\n",
       "      <td>...</td>\n",
       "      <td>0</td>\n",
       "      <td>0</td>\n",
       "      <td>0</td>\n",
       "      <td>0</td>\n",
       "      <td>38.37</td>\n",
       "      <td>114.30</td>\n",
       "      <td>18.70</td>\n",
       "      <td>19.12</td>\n",
       "      <td>396.44</td>\n",
       "      <td>161.0</td>\n",
       "    </tr>\n",
       "    <tr>\n",
       "      <th>427177.0</th>\n",
       "      <td>654</td>\n",
       "      <td>0</td>\n",
       "      <td>0</td>\n",
       "      <td>49</td>\n",
       "      <td>0</td>\n",
       "      <td>0</td>\n",
       "      <td>1</td>\n",
       "      <td>7</td>\n",
       "      <td>133.0</td>\n",
       "      <td>43.0</td>\n",
       "      <td>...</td>\n",
       "      <td>0</td>\n",
       "      <td>0</td>\n",
       "      <td>0</td>\n",
       "      <td>0</td>\n",
       "      <td>11.24</td>\n",
       "      <td>48.84</td>\n",
       "      <td>3.14</td>\n",
       "      <td>3.14</td>\n",
       "      <td>66.57</td>\n",
       "      <td>161.0</td>\n",
       "    </tr>\n",
       "  </tbody>\n",
       "</table>\n",
       "<p>5 rows × 38 columns</p>\n",
       "</div>"
      ],
      "text/plain": [
       "                  zone_id_home  age_under_45  no_higher_ed  age  \\\n",
       "obs_id job_id                                                     \n",
       "8917   13503.0             654             0             0   49   \n",
       "       2128603.0           654             0             0   49   \n",
       "       1227436.0           654             0             0   49   \n",
       "       783058.0            654             0             0   49   \n",
       "       427177.0            654             0             0   49   \n",
       "\n",
       "                  hh_inc_under_25k  hh_inc_25_to_75k  hh_inc_75_to_200k  \\\n",
       "obs_id job_id                                                             \n",
       "8917   13503.0                   0                 0                  1   \n",
       "       2128603.0                 0                 0                  1   \n",
       "       1227436.0                 0                 0                  1   \n",
       "       783058.0                  0                 0                  1   \n",
       "       427177.0                  0                 0                  1   \n",
       "\n",
       "                  income  jobs_1500_walk  jobs_1500_walk_tech     ...      \\\n",
       "obs_id job_id                                                     ...       \n",
       "8917   13503.0         7          4060.0                101.0     ...       \n",
       "       2128603.0       7         31091.0               2706.0     ...       \n",
       "       1227436.0       7         18358.0                648.0     ...       \n",
       "       783058.0        7          1378.0                586.0     ...       \n",
       "       427177.0        7           133.0                 43.0     ...       \n",
       "\n",
       "                  sector_transport  sector_arts  sector_util  chosen  tt_da  \\\n",
       "obs_id job_id                                                                 \n",
       "8917   13503.0                   0            0            0       1  41.47   \n",
       "       2128603.0                 0            0            0       0  86.82   \n",
       "       1227436.0                 0            0            0       0  62.14   \n",
       "       783058.0                  0            0            0       0  38.37   \n",
       "       427177.0                  0            0            0       0  11.24   \n",
       "\n",
       "                  tt_wTrnW  dist_da  dist_walk  cost_da_toll  cost_wTrnW  \n",
       "obs_id job_id                                                             \n",
       "8917   13503.0      158.59    24.50      24.22        519.40       161.0  \n",
       "       2128603.0   -999.00    59.86      60.74       1269.03      -999.0  \n",
       "       1227436.0   -999.00    41.98      42.10        898.89      -999.0  \n",
       "       783058.0     114.30    18.70      19.12        396.44       161.0  \n",
       "       427177.0      48.84     3.14       3.14         66.57       161.0  \n",
       "\n",
       "[5 rows x 38 columns]"
      ]
     },
     "execution_count": 13,
     "metadata": {},
     "output_type": "execute_result"
    }
   ],
   "source": [
    "mct.to_frame().head()"
   ]
  },
  {
   "cell_type": "markdown",
   "metadata": {},
   "source": [
    "### Estimate the WLCM"
   ]
  },
  {
   "cell_type": "code",
   "execution_count": 45,
   "metadata": {},
   "outputs": [
    {
     "name": "stdout",
     "output_type": "stream",
     "text": [
      "Registering model step 'WLCM-baseline'\n",
      "Registering model step 'WLCM-age-sector'\n",
      "Registering model step 'WLCM-higher_ed_x_sector-tt_x_dist-cost_x_income'\n",
      "Registering model step 'WLCM-higher_ed_x_sector-tt_x_dist'\n",
      "Registering model step 'WLCM-edu-sector'\n",
      "Registering model step 'WLCM-higher_ed_x_sector'\n",
      "Registering model step 'WLCM'\n"
     ]
    }
   ],
   "source": [
    "mm.initialize()"
   ]
  },
  {
   "cell_type": "code",
   "execution_count": 15,
   "metadata": {},
   "outputs": [],
   "source": [
    "m = LargeMultinomialLogitStep(chooser_filters=['age < 115', 'income < 98', 'edu < 98'], constrained_choices=True)"
   ]
  },
  {
   "cell_type": "code",
   "execution_count": 16,
   "metadata": {},
   "outputs": [],
   "source": [
    "m.model_expression = (\n",
    "    'dist_da/tt_da + tt_wTrnW + np.log1p(jobs_1500_walk_retail) + '\n",
    "    'np.log1p(cost_da_toll):(hh_inc_under_25k + hh_inc_25_to_75k + hh_inc_75_to_200k) + '\n",
    "    'no_higher_ed:(sector_retail + sector_fire + sector_healthcare + sector_tech + sector_mfg + '\n",
    "    'sector_food_and_hosp + sector_edu_serv + sector_gov + sector_whlsale) + '\n",
    "    'sector_retail + sector_tech + sector_mfg + sector_food_and_hosp + sector_edu_serv + sector_oth_serv + '\n",
    "    'sector_constr + sector_gov + sector_whlsale + sector_admin + sector_util - 1'\n",
    ")"
   ]
  },
  {
   "cell_type": "code",
   "execution_count": 17,
   "metadata": {},
   "outputs": [
    {
     "name": "stdout",
     "output_type": "stream",
     "text": [
      "                  CHOICEMODELS ESTIMATION RESULTS                  \n",
      "===================================================================\n",
      "Dep. Var.:                chosen   No. Observations:          8,918\n",
      "Model:         Multinomial Logit   Df Residuals:              8,891\n",
      "Method:       Maximum Likelihood   Df Model:                     27\n",
      "Date:                 2018-10-24   Pseudo R-squ.:             0.504\n",
      "Time:                      01:11   Pseudo R-bar-squ.:         0.503\n",
      "AIC:                  20,407.853   Log-Likelihood:      -10,176.927\n",
      "BIC:                  20,599.441   LL-Null:             -20,534.454\n",
      "=============================================================================================\n",
      "                                              coef   std err         z     P>|z|   Conf. Int.\n",
      "---------------------------------------------------------------------------------------------\n",
      "dist_da                                    -0.1109     0.003   -43.178     0.000             \n",
      "dist_da:tt_da                               0.0002     0.000     6.954     0.000             \n",
      "tt_wTrnW                                   -0.0001     0.000    -3.334     0.001             \n",
      "np.log1p(jobs_1500_walk_retail)             0.0124     0.005     2.581     0.010             \n",
      "np.log1p(cost_da_toll):hh_inc_under_25k    -0.5690     0.017   -34.058     0.000             \n",
      "np.log1p(cost_da_toll):hh_inc_25_to_75k    -0.4791     0.008   -60.751     0.000             \n",
      "np.log1p(cost_da_toll):hh_inc_75_to_200k   -0.2584     0.006   -44.013     0.000             \n",
      "no_higher_ed:sector_retail                  0.3597     0.103     3.479     0.001             \n",
      "no_higher_ed:sector_fire                   -1.0087     0.108    -9.326     0.000             \n",
      "no_higher_ed:sector_healthcare             -0.7370     0.081    -9.073     0.000             \n",
      "no_higher_ed:sector_tech                   -1.5648     0.077   -20.229     0.000             \n",
      "no_higher_ed:sector_mfg                    -0.6125     0.113    -5.431     0.000             \n",
      "no_higher_ed:sector_food_and_hosp           1.1384     0.164     6.946     0.000             \n",
      "no_higher_ed:sector_edu_serv               -1.5509     0.116   -13.406     0.000             \n",
      "no_higher_ed:sector_gov                    -0.6051     0.115    -5.245     0.000             \n",
      "no_higher_ed:sector_whlsale                 0.5763     0.277     2.083     0.037             \n",
      "sector_retail                              -1.2032     0.079   -15.237     0.000             \n",
      "sector_tech                                 0.6910     0.043    16.011     0.000             \n",
      "sector_mfg                                 -0.5332     0.067    -7.951     0.000             \n",
      "sector_food_and_hosp                       -2.0472     0.134   -15.324     0.000             \n",
      "sector_edu_serv                             1.1642     0.059    19.804     0.000             \n",
      "sector_oth_serv                            -0.5929     0.078    -7.613     0.000             \n",
      "sector_constr                              -1.1921     0.097   -12.228     0.000             \n",
      "sector_gov                                  0.4550     0.069     6.557     0.000             \n",
      "sector_whlsale                             -2.2617     0.214   -10.560     0.000             \n",
      "sector_admin                               -1.1840     0.103   -11.452     0.000             \n",
      "sector_util                                 0.5491     0.142     3.858     0.000             \n",
      "=============================================================================================\n"
     ]
    }
   ],
   "source": [
    "m.fit(mct)"
   ]
  },
  {
   "cell_type": "code",
   "execution_count": 46,
   "metadata": {},
   "outputs": [],
   "source": [
    "m.name = 'WLCM_constrained-higher_ed_x_sector-tt_x_dist-cost_x_income'\n",
    "m.tags = ['max']"
   ]
  },
  {
   "cell_type": "code",
   "execution_count": 47,
   "metadata": {
    "scrolled": true
   },
   "outputs": [
    {
     "name": "stdout",
     "output_type": "stream",
     "text": [
      "Saving 'WLCM_constrained-higher_ed_x_sector-tt_x_dist-cost_x_income.yaml': /home/max/projects/ual_model_workspace/fall-2018-models/configs\n",
      "Registering model step 'WLCM_constrained-higher_ed_x_sector-tt_x_dist-cost_x_income'\n"
     ]
    }
   ],
   "source": [
    "mm.register(m)"
   ]
  }
 ],
 "metadata": {
  "kernelspec": {
   "display_name": "Python 3",
   "language": "python",
   "name": "python3"
  },
  "language_info": {
   "codemirror_mode": {
    "name": "ipython",
    "version": 3
   },
   "file_extension": ".py",
   "mimetype": "text/x-python",
   "name": "python",
   "nbconvert_exporter": "python",
   "pygments_lexer": "ipython3",
   "version": "3.6.6"
  }
 },
 "nbformat": 4,
 "nbformat_minor": 2
}
