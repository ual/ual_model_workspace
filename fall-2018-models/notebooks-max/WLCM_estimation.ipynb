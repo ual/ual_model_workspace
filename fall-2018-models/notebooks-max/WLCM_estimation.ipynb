{
 "cells": [
  {
   "cell_type": "code",
   "execution_count": 4,
   "metadata": {},
   "outputs": [],
   "source": [
    "import pandas as pd\n",
    "import numpy as np\n",
    "from tqdm import tqdm\n",
    "from sklearn.neighbors import BallTree\n",
    "import seaborn as sns\n",
    "import geopandas as gpd\n",
    "from shapely.geometry import Point, LineString\n",
    "from pyproj import Proj, transform\n",
    "from matplotlib import pyplot as plt\n",
    "%matplotlib inline\n",
    "%load_ext memory_profiler"
   ]
  },
  {
   "cell_type": "code",
   "execution_count": 6,
   "metadata": {},
   "outputs": [],
   "source": [
    "from urbansim_templates import modelmanager as mm\n",
    "from urbansim_templates.models import LargeMultinomialLogitStep\n",
    "import orca\n",
    "import os; os.chdir('../')\n",
    "import warnings;warnings.simplefilter('ignore')\n",
    "from scripts import datasources, models, variables\n",
    "from choicemodels import MultinomialLogit\n",
    "from choicemodels.tools import MergedChoiceTable"
   ]
  },
  {
   "cell_type": "markdown",
   "metadata": {},
   "source": [
    "### Load Data"
   ]
  },
  {
   "cell_type": "code",
   "execution_count": 7,
   "metadata": {},
   "outputs": [
    {
     "name": "stdout",
     "output_type": "stream",
     "text": [
      "Running step 'initialize_network_walk'\n",
      "Time to execute step 'initialize_network_walk': 0.00 s\n",
      "Running step 'initialize_network_small'\n",
      "Time to execute step 'initialize_network_small': 0.00 s\n",
      "Total time to execute iteration 1 with iteration value None: 0.00 s\n"
     ]
    }
   ],
   "source": [
    "chts_households = pd.read_csv('/home/data/fall_2018/CHTS_csv_format/data/Deliv_HH.csv')\n",
    "chts_persons = pd.read_csv('./data/chts_persons_w_jobs_and_res_bldgs.csv')\n",
    "chts_persons.loc[:, 'worker'] = chts_persons[chts_persons['EMPLY'] == 1]\n",
    "chts_persons.loc[:, 'work_at_home'] = chts_persons[chts_persons['WLOC'] == 2]\n",
    "chts_workers = chts_persons[~pd.isnull(chts_persons['job_id'])]\n",
    "orca.run(['initialize_network_walk', 'initialize_network_small'])\n",
    "buildings = orca.get_table('buildings').to_frame\n",
    "parcels = orca.get_table('parcels').to_frame()\n",
    "jobs = orca.get_table('jobs').to_frame()\n",
    "interaction_terms_tt = pd.read_csv('./data/WLCM_interaction_terms_tt.csv', index_col=['zone_id_home', 'zone_id_work'])\n",
    "interaction_terms_dist = pd.read_csv('./data/WLCM_interaction_terms_dist.csv', index_col=['zone_id_home', 'zone_id_work'])\n",
    "interaction_terms_cost = pd.read_csv('./data/WLCM_interaction_terms_cost.csv', index_col=['zone_id_home', 'zone_id_work'])\n",
    "walk_net_vars = pd.read_csv('./data/walk_net_vars.csv', index_col='osmid')\n",
    "drive_net_vars = pd.read_csv('./data/drive_net_vars.csv', index_col='osmid')"
   ]
  },
  {
   "cell_type": "markdown",
   "metadata": {},
   "source": [
    "### Generate distance-based sampling weights"
   ]
  },
  {
   "cell_type": "code",
   "execution_count": 4,
   "metadata": {},
   "outputs": [],
   "source": [
    "# w = (interaction_terms_dist**-0.3).clip(upper=1.0).dist_da.rename('w').to_frame()"
   ]
  },
  {
   "cell_type": "markdown",
   "metadata": {},
   "source": [
    "### Generate the merged choice table"
   ]
  },
  {
   "cell_type": "markdown",
   "metadata": {},
   "source": [
    "This step must be done manually for now by calling the `choicemodels.MergedChoiceTable()` method directly instead of using a template because `urbansim_templates` does not yet have functionality for interaction terms such as home-to-work distances"
   ]
  },
  {
   "cell_type": "code",
   "execution_count": 8,
   "metadata": {},
   "outputs": [],
   "source": [
    "obs = chts_workers.merge(\n",
    "    chts_households[['SAMPN', 'INCOM']], on='SAMPN').merge(\n",
    "    buildings, left_on='building_id', right_index=True).merge(\n",
    "    parcels, left_on='parcel_id', right_index=True).rename(\n",
    "    columns={\n",
    "        'zone_id': 'zone_id_home', 'AGE': 'age', 'EDUCA': 'edu', 'INCOM': 'income'})\n",
    "obs.index.name = 'obs_id'"
   ]
  },
  {
   "cell_type": "code",
   "execution_count": 9,
   "metadata": {},
   "outputs": [],
   "source": [
    "obs['no_higher_ed'] = (obs['edu'] < 5).astype(int)\n",
    "obs['age_under_45'] = (obs['age'] < 45).astype(int)\n",
    "obs['hh_inc_under_25k'] = (obs['income'] < 3).astype(int)\n",
    "obs['hh_inc_25_to_75k'] = ((obs['income'] > 2) & (obs['income'] < 6)).astype(int)\n",
    "obs['hh_inc_75_to_200k'] = ((obs['income'] > 5) & (obs['income'] < 9)).astype(int)\n",
    "obs = obs[[\n",
    "    'job_id', 'zone_id_home', 'age_under_45', 'no_higher_ed', 'age',\n",
    "    'hh_inc_under_25k', 'hh_inc_25_to_75k', 'hh_inc_75_to_200k', 'income']]"
   ]
  },
  {
   "cell_type": "code",
   "execution_count": 10,
   "metadata": {},
   "outputs": [],
   "source": [
    "alts = jobs.merge(buildings, left_on='building_id', right_index=True).merge(\n",
    "    parcels, left_on='parcel_id', right_index=True).merge(\n",
    "    walk_net_vars, left_on='node_id_walk', right_index=True).merge(\n",
    "    drive_net_vars, left_on='node_id_small', right_index=True).rename(columns={'zone_id': 'zone_id_work'})"
   ]
  },
  {
   "cell_type": "code",
   "execution_count": 11,
   "metadata": {},
   "outputs": [],
   "source": [
    "# industry of alternatives\n",
    "alts['sector_retail'] = alts['sector_id'].isin([44, 45]).astype(int)\n",
    "alts['sector_healthcare'] = alts['sector_id'].isin([62]).astype(int)\n",
    "alts['sector_tech'] = alts['sector_id'].isin([51, 54]).astype(int)\n",
    "alts['sector_food_and_hosp'] = alts['sector_id'].isin([72]).astype(int)\n",
    "alts['sector_mfg'] = alts['sector_id'].isin([31, 32, 33]).astype(int)\n",
    "alts['sector_edu_serv'] = alts['sector_id'].isin([61]).astype(int)\n",
    "alts['sector_oth_serv'] = alts['sector_id'].isin([81]).astype(int)\n",
    "alts['sector_constr'] = alts['sector_id'].isin([23]).astype(int)\n",
    "alts['sector_gov'] = alts['sector_id'].isin([92]).astype(int)\n",
    "alts['sector_fire'] = alts['sector_id'].isin([52, 53]).astype(int)\n",
    "alts['sector_whlsale'] = alts['sector_id'].isin([42]).astype(int)\n",
    "alts['sector_admin'] = alts['sector_id'].isin([56]).astype(int)\n",
    "alts['sector_transport'] = alts['sector_id'].isin([48]).astype(int)\n",
    "alts['sector_arts'] = alts['sector_id'].isin([71]).astype(int)\n",
    "alts['sector_util'] = alts['sector_id'].isin([22]).astype(int)\n",
    "\n",
    "# # occupation of alternatives\n",
    "# alts['occup_mgmt'] = alts['occupation_id'].isin([11]).astype(int)\n",
    "# alts['occup_sales'] = alts['occupation_id'].isin([41]).astype(int)\n",
    "# alts['occup_biz'] = alts['occupation_id'].isin([13]).astype(int)\n",
    "# alts['occup_admin'] = alts['occupation_id'].isin([43]).astype(int)\n",
    "# alts['occup_edu'] = alts['occupation_id'].isin([25]).astype(int)\n",
    "# alts['occup_food'] = alts['occupation_id'].isin([35]).astype(int)\n",
    "# alts['occup_health'] = alts['occupation_id'].isin([29, 31]).astype(int)\n",
    "# alts['occup_tech'] = alts['occupation_id'].isin([15]).astype(int)\n",
    "# alts['occup_eng'] = alts['occupation_id'].isin([17]).astype(int)\n",
    "# alts['occup_transp'] = alts['occupation_id'].isin([53]).astype(int)\n",
    "# alts['occup_constr'] = alts['occupation_id'].isin([47]).astype(int)"
   ]
  },
  {
   "cell_type": "code",
   "execution_count": 12,
   "metadata": {},
   "outputs": [],
   "source": [
    "alts = alts[[\n",
    "    'jobs_1500_walk', 'jobs_1500_walk_tech', 'jobs_2500_walk_tech', 'jobs_2500_walk_retail',\n",
    "    'jobs_1500_walk_retail', 'jobs_1500_walk_fire', 'jobs_2500_walk_fire',\n",
    "    'zone_id_work', 'sector_retail', 'sector_healthcare', 'sector_tech', 'sector_food_and_hosp',\n",
    "    'sector_mfg', 'sector_edu_serv', 'sector_oth_serv', 'sector_constr', 'sector_gov', 'sector_fire',\n",
    "    'sector_whlsale', 'sector_admin', 'sector_transport', 'sector_arts', 'sector_util',\n",
    "#     'occup_mgmt', 'occup_sales', 'occup_biz', 'occup_admin', 'occup_edu', 'occup_food', 'occup_health',\n",
    "#     'occup_tech', 'occup_eng', 'occup_transp', 'occup_constr'\n",
    "]]"
   ]
  },
  {
   "cell_type": "code",
   "execution_count": 13,
   "metadata": {},
   "outputs": [
    {
     "name": "stdout",
     "output_type": "stream",
     "text": [
      "peak memory: 10562.37 MiB, increment: 0.01 MiB\n",
      "CPU times: user 1.25 s, sys: 2.1 s, total: 3.35 s\n",
      "Wall time: 3.84 s\n"
     ]
    }
   ],
   "source": [
    "%%time\n",
    "%memit\n",
    "mct = MergedChoiceTable(obs, alts, chosen_alternatives='job_id',\n",
    "                        sample_size=10, interaction_terms=[\n",
    "                            interaction_terms_tt, interaction_terms_dist, interaction_terms_cost])"
   ]
  },
  {
   "cell_type": "code",
   "execution_count": 14,
   "metadata": {},
   "outputs": [
    {
     "data": {
      "text/html": [
       "<div>\n",
       "<style scoped>\n",
       "    .dataframe tbody tr th:only-of-type {\n",
       "        vertical-align: middle;\n",
       "    }\n",
       "\n",
       "    .dataframe tbody tr th {\n",
       "        vertical-align: top;\n",
       "    }\n",
       "\n",
       "    .dataframe thead th {\n",
       "        text-align: right;\n",
       "    }\n",
       "</style>\n",
       "<table border=\"1\" class=\"dataframe\">\n",
       "  <thead>\n",
       "    <tr style=\"text-align: right;\">\n",
       "      <th></th>\n",
       "      <th></th>\n",
       "      <th>zone_id_home</th>\n",
       "      <th>age_under_45</th>\n",
       "      <th>no_higher_ed</th>\n",
       "      <th>age</th>\n",
       "      <th>hh_inc_under_25k</th>\n",
       "      <th>hh_inc_25_to_75k</th>\n",
       "      <th>hh_inc_75_to_200k</th>\n",
       "      <th>income</th>\n",
       "      <th>jobs_1500_walk</th>\n",
       "      <th>jobs_1500_walk_tech</th>\n",
       "      <th>...</th>\n",
       "      <th>sector_transport</th>\n",
       "      <th>sector_arts</th>\n",
       "      <th>sector_util</th>\n",
       "      <th>chosen</th>\n",
       "      <th>tt_da</th>\n",
       "      <th>tt_wTrnW</th>\n",
       "      <th>dist_da</th>\n",
       "      <th>dist_walk</th>\n",
       "      <th>cost_da_toll</th>\n",
       "      <th>cost_wTrnW</th>\n",
       "    </tr>\n",
       "    <tr>\n",
       "      <th>obs_id</th>\n",
       "      <th>job_id</th>\n",
       "      <th></th>\n",
       "      <th></th>\n",
       "      <th></th>\n",
       "      <th></th>\n",
       "      <th></th>\n",
       "      <th></th>\n",
       "      <th></th>\n",
       "      <th></th>\n",
       "      <th></th>\n",
       "      <th></th>\n",
       "      <th></th>\n",
       "      <th></th>\n",
       "      <th></th>\n",
       "      <th></th>\n",
       "      <th></th>\n",
       "      <th></th>\n",
       "      <th></th>\n",
       "      <th></th>\n",
       "      <th></th>\n",
       "      <th></th>\n",
       "      <th></th>\n",
       "    </tr>\n",
       "  </thead>\n",
       "  <tbody>\n",
       "    <tr>\n",
       "      <th rowspan=\"5\" valign=\"top\">8917</th>\n",
       "      <th>13503.0</th>\n",
       "      <td>654</td>\n",
       "      <td>0</td>\n",
       "      <td>0</td>\n",
       "      <td>49</td>\n",
       "      <td>0</td>\n",
       "      <td>0</td>\n",
       "      <td>1</td>\n",
       "      <td>7</td>\n",
       "      <td>4060.0</td>\n",
       "      <td>101.0</td>\n",
       "      <td>...</td>\n",
       "      <td>0</td>\n",
       "      <td>0</td>\n",
       "      <td>0</td>\n",
       "      <td>1</td>\n",
       "      <td>41.47</td>\n",
       "      <td>158.59</td>\n",
       "      <td>24.50</td>\n",
       "      <td>24.22</td>\n",
       "      <td>519.40</td>\n",
       "      <td>161.0</td>\n",
       "    </tr>\n",
       "    <tr>\n",
       "      <th>427836.0</th>\n",
       "      <td>654</td>\n",
       "      <td>0</td>\n",
       "      <td>0</td>\n",
       "      <td>49</td>\n",
       "      <td>0</td>\n",
       "      <td>0</td>\n",
       "      <td>1</td>\n",
       "      <td>7</td>\n",
       "      <td>2296.0</td>\n",
       "      <td>731.0</td>\n",
       "      <td>...</td>\n",
       "      <td>0</td>\n",
       "      <td>0</td>\n",
       "      <td>0</td>\n",
       "      <td>0</td>\n",
       "      <td>21.93</td>\n",
       "      <td>96.28</td>\n",
       "      <td>9.30</td>\n",
       "      <td>9.58</td>\n",
       "      <td>197.16</td>\n",
       "      <td>161.0</td>\n",
       "    </tr>\n",
       "    <tr>\n",
       "      <th>2492604.0</th>\n",
       "      <td>654</td>\n",
       "      <td>0</td>\n",
       "      <td>0</td>\n",
       "      <td>49</td>\n",
       "      <td>0</td>\n",
       "      <td>0</td>\n",
       "      <td>1</td>\n",
       "      <td>7</td>\n",
       "      <td>65075.0</td>\n",
       "      <td>3989.0</td>\n",
       "      <td>...</td>\n",
       "      <td>0</td>\n",
       "      <td>0</td>\n",
       "      <td>0</td>\n",
       "      <td>0</td>\n",
       "      <td>129.70</td>\n",
       "      <td>-999.00</td>\n",
       "      <td>107.24</td>\n",
       "      <td>-999.00</td>\n",
       "      <td>2675.49</td>\n",
       "      <td>-999.0</td>\n",
       "    </tr>\n",
       "    <tr>\n",
       "      <th>1324438.0</th>\n",
       "      <td>654</td>\n",
       "      <td>0</td>\n",
       "      <td>0</td>\n",
       "      <td>49</td>\n",
       "      <td>0</td>\n",
       "      <td>0</td>\n",
       "      <td>1</td>\n",
       "      <td>7</td>\n",
       "      <td>1260.0</td>\n",
       "      <td>116.0</td>\n",
       "      <td>...</td>\n",
       "      <td>0</td>\n",
       "      <td>1</td>\n",
       "      <td>0</td>\n",
       "      <td>0</td>\n",
       "      <td>71.24</td>\n",
       "      <td>-999.00</td>\n",
       "      <td>50.66</td>\n",
       "      <td>51.43</td>\n",
       "      <td>1082.90</td>\n",
       "      <td>-999.0</td>\n",
       "    </tr>\n",
       "    <tr>\n",
       "      <th>94646.0</th>\n",
       "      <td>654</td>\n",
       "      <td>0</td>\n",
       "      <td>0</td>\n",
       "      <td>49</td>\n",
       "      <td>0</td>\n",
       "      <td>0</td>\n",
       "      <td>1</td>\n",
       "      <td>7</td>\n",
       "      <td>25641.0</td>\n",
       "      <td>2658.0</td>\n",
       "      <td>...</td>\n",
       "      <td>0</td>\n",
       "      <td>0</td>\n",
       "      <td>0</td>\n",
       "      <td>0</td>\n",
       "      <td>33.87</td>\n",
       "      <td>141.01</td>\n",
       "      <td>17.80</td>\n",
       "      <td>18.50</td>\n",
       "      <td>377.36</td>\n",
       "      <td>161.0</td>\n",
       "    </tr>\n",
       "  </tbody>\n",
       "</table>\n",
       "<p>5 rows × 38 columns</p>\n",
       "</div>"
      ],
      "text/plain": [
       "                  zone_id_home  age_under_45  no_higher_ed  age  \\\n",
       "obs_id job_id                                                     \n",
       "8917   13503.0             654             0             0   49   \n",
       "       427836.0            654             0             0   49   \n",
       "       2492604.0           654             0             0   49   \n",
       "       1324438.0           654             0             0   49   \n",
       "       94646.0             654             0             0   49   \n",
       "\n",
       "                  hh_inc_under_25k  hh_inc_25_to_75k  hh_inc_75_to_200k  \\\n",
       "obs_id job_id                                                             \n",
       "8917   13503.0                   0                 0                  1   \n",
       "       427836.0                  0                 0                  1   \n",
       "       2492604.0                 0                 0                  1   \n",
       "       1324438.0                 0                 0                  1   \n",
       "       94646.0                   0                 0                  1   \n",
       "\n",
       "                  income  jobs_1500_walk  jobs_1500_walk_tech     ...      \\\n",
       "obs_id job_id                                                     ...       \n",
       "8917   13503.0         7          4060.0                101.0     ...       \n",
       "       427836.0        7          2296.0                731.0     ...       \n",
       "       2492604.0       7         65075.0               3989.0     ...       \n",
       "       1324438.0       7          1260.0                116.0     ...       \n",
       "       94646.0         7         25641.0               2658.0     ...       \n",
       "\n",
       "                  sector_transport  sector_arts  sector_util  chosen   tt_da  \\\n",
       "obs_id job_id                                                                  \n",
       "8917   13503.0                   0            0            0       1   41.47   \n",
       "       427836.0                  0            0            0       0   21.93   \n",
       "       2492604.0                 0            0            0       0  129.70   \n",
       "       1324438.0                 0            1            0       0   71.24   \n",
       "       94646.0                   0            0            0       0   33.87   \n",
       "\n",
       "                  tt_wTrnW  dist_da  dist_walk  cost_da_toll  cost_wTrnW  \n",
       "obs_id job_id                                                             \n",
       "8917   13503.0      158.59    24.50      24.22        519.40       161.0  \n",
       "       427836.0      96.28     9.30       9.58        197.16       161.0  \n",
       "       2492604.0   -999.00   107.24    -999.00       2675.49      -999.0  \n",
       "       1324438.0   -999.00    50.66      51.43       1082.90      -999.0  \n",
       "       94646.0      141.01    17.80      18.50        377.36       161.0  \n",
       "\n",
       "[5 rows x 38 columns]"
      ]
     },
     "execution_count": 14,
     "metadata": {},
     "output_type": "execute_result"
    }
   ],
   "source": [
    "mct.to_frame().head()"
   ]
  },
  {
   "cell_type": "markdown",
   "metadata": {},
   "source": [
    "### Estimate the WLCM"
   ]
  },
  {
   "cell_type": "code",
   "execution_count": 15,
   "metadata": {},
   "outputs": [
    {
     "name": "stdout",
     "output_type": "stream",
     "text": [
      "Registering model step 'WLCM-baseline'\n",
      "Registering model step 'WLCM-age-sector'\n",
      "Registering model step 'WLCM-higher_ed_x_sector-tt_x_dist-cost_x_income'\n",
      "Registering model step 'WLCM-higher_ed_x_sector-tt_x_dist'\n",
      "Registering model step 'WLCM_constrained-higher_ed_x_sector-tt_x_dist-cost_x_income'\n",
      "Registering model step 'WLCM-edu-sector'\n",
      "Registering model step 'WLCM-higher_ed_x_sector'\n",
      "Registering model step 'WLCM'\n"
     ]
    }
   ],
   "source": [
    "mm.initialize()"
   ]
  },
  {
   "cell_type": "code",
   "execution_count": 16,
   "metadata": {},
   "outputs": [],
   "source": [
    "m = LargeMultinomialLogitStep(\n",
    "    chooser_filters=['age < 115', 'income < 98', 'edu < 98'], constrained_choices=True,\n",
    "    alt_sample_size=10\n",
    ")"
   ]
  },
  {
   "cell_type": "code",
   "execution_count": 17,
   "metadata": {},
   "outputs": [],
   "source": [
    "m.model_expression = (\n",
    "    'dist_da/tt_da + tt_wTrnW + np.log1p(jobs_1500_walk_retail) + '\n",
    "    'np.log1p(cost_da_toll):(hh_inc_under_25k + hh_inc_25_to_75k + hh_inc_75_to_200k) + '\n",
    "    'no_higher_ed:(sector_retail + sector_fire + sector_healthcare + sector_tech + sector_mfg + '\n",
    "    'sector_food_and_hosp + sector_edu_serv + sector_gov + sector_whlsale) + '\n",
    "    'sector_retail + sector_tech + sector_mfg + sector_food_and_hosp + sector_edu_serv + sector_oth_serv + '\n",
    "    'sector_constr + sector_gov + sector_whlsale + sector_admin + sector_util - 1'\n",
    ")"
   ]
  },
  {
   "cell_type": "code",
   "execution_count": 21,
   "metadata": {},
   "outputs": [
    {
     "name": "stdout",
     "output_type": "stream",
     "text": [
      "                  CHOICEMODELS ESTIMATION RESULTS                  \n",
      "===================================================================\n",
      "Dep. Var.:                chosen   No. Observations:          8,918\n",
      "Model:         Multinomial Logit   Df Residuals:              8,891\n",
      "Method:       Maximum Likelihood   Df Model:                     27\n",
      "Date:                 2018-11-09   Pseudo R-squ.:             0.500\n",
      "Time:                      22:57   Pseudo R-bar-squ.:         0.498\n",
      "AIC:                  20,596.659   Log-Likelihood:      -10,271.330\n",
      "BIC:                  20,788.247   LL-Null:             -20,534.454\n",
      "=============================================================================================\n",
      "                                              coef   std err         z     P>|z|   Conf. Int.\n",
      "---------------------------------------------------------------------------------------------\n",
      "dist_da                                    -0.1100     0.003   -42.814     0.000             \n",
      "dist_da:tt_da                               0.0002     0.000     7.097     0.000             \n",
      "tt_wTrnW                                   -0.0001     0.000    -2.324     0.020             \n",
      "np.log1p(jobs_1500_walk_retail)             0.0143     0.005     2.977     0.003             \n",
      "np.log1p(cost_da_toll):hh_inc_under_25k    -0.5949     0.016   -36.116     0.000             \n",
      "np.log1p(cost_da_toll):hh_inc_25_to_75k    -0.5051     0.008   -64.047     0.000             \n",
      "np.log1p(cost_da_toll):hh_inc_75_to_200k   -0.2568     0.006   -43.669     0.000             \n",
      "no_higher_ed:sector_retail                  0.4539     0.104     4.370     0.000             \n",
      "no_higher_ed:sector_fire                   -1.0312     0.106    -9.754     0.000             \n",
      "no_higher_ed:sector_healthcare             -0.7556     0.082    -9.224     0.000             \n",
      "no_higher_ed:sector_tech                   -1.5958     0.077   -20.657     0.000             \n",
      "no_higher_ed:sector_mfg                    -0.6781     0.111    -6.128     0.000             \n",
      "no_higher_ed:sector_food_and_hosp           1.0370     0.161     6.436     0.000             \n",
      "no_higher_ed:sector_edu_serv               -1.5178     0.119   -12.755     0.000             \n",
      "no_higher_ed:sector_gov                    -0.6681     0.114    -5.865     0.000             \n",
      "no_higher_ed:sector_whlsale                 0.5440     0.282     1.931     0.053             \n",
      "sector_retail                              -1.2525     0.077   -16.169     0.000             \n",
      "sector_tech                                 0.6978     0.043    16.159     0.000             \n",
      "sector_mfg                                 -0.5554     0.066    -8.404     0.000             \n",
      "sector_food_and_hosp                       -1.9841     0.130   -15.230     0.000             \n",
      "sector_edu_serv                             1.1158     0.058    19.165     0.000             \n",
      "sector_oth_serv                            -0.6355     0.078    -8.136     0.000             \n",
      "sector_constr                              -1.2447     0.097   -12.860     0.000             \n",
      "sector_gov                                  0.4439     0.068     6.547     0.000             \n",
      "sector_whlsale                             -2.3139     0.225   -10.273     0.000             \n",
      "sector_admin                               -1.1188     0.103   -10.815     0.000             \n",
      "sector_util                                 0.5423     0.140     3.874     0.000             \n",
      "=============================================================================================\n",
      "\n"
     ]
    }
   ],
   "source": [
    "%mprun -f m.fit m.fit(mct)"
   ]
  },
  {
   "cell_type": "code",
   "execution_count": 51,
   "metadata": {},
   "outputs": [],
   "source": [
    "m.name = 'WLCM_constrained-higher_ed_x_sector-tt_x_dist-cost_x_income'\n",
    "m.tags = ['max']"
   ]
  },
  {
   "cell_type": "code",
   "execution_count": 52,
   "metadata": {
    "scrolled": true
   },
   "outputs": [
    {
     "name": "stdout",
     "output_type": "stream",
     "text": [
      "Saving 'WLCM_constrained-higher_ed_x_sector-tt_x_dist-cost_x_income.yaml': /home/max/projects/ual_model_workspace/fall-2018-models/configs\n",
      "Registering model step 'WLCM_constrained-higher_ed_x_sector-tt_x_dist-cost_x_income'\n"
     ]
    }
   ],
   "source": [
    "mm.register(m)"
   ]
  },
  {
   "cell_type": "code",
   "execution_count": null,
   "metadata": {},
   "outputs": [],
   "source": []
  }
 ],
 "metadata": {
  "kernelspec": {
   "display_name": "Python 3",
   "language": "python",
   "name": "python3"
  },
  "language_info": {
   "codemirror_mode": {
    "name": "ipython",
    "version": 3
   },
   "file_extension": ".py",
   "mimetype": "text/x-python",
   "name": "python",
   "nbconvert_exporter": "python",
   "pygments_lexer": "ipython3",
   "version": "3.6.6"
  }
 },
 "nbformat": 4,
 "nbformat_minor": 2
}
