{
 "cells": [
  {
   "cell_type": "code",
   "execution_count": 1,
   "metadata": {},
   "outputs": [],
   "source": [
    "import pandas as pd"
   ]
  },
  {
   "cell_type": "code",
   "execution_count": 2,
   "metadata": {},
   "outputs": [],
   "source": [
    "import orca"
   ]
  },
  {
   "cell_type": "code",
   "execution_count": 3,
   "metadata": {},
   "outputs": [],
   "source": [
    "import os; os.chdir('../')"
   ]
  },
  {
   "cell_type": "code",
   "execution_count": 4,
   "metadata": {},
   "outputs": [],
   "source": [
    "from scripts import datasources"
   ]
  },
  {
   "cell_type": "code",
   "execution_count": 5,
   "metadata": {},
   "outputs": [],
   "source": [
    "trips = pd.read_csv('./data/persons_HWtrips.csv')"
   ]
  },
  {
   "cell_type": "code",
   "execution_count": 6,
   "metadata": {},
   "outputs": [
    {
     "data": {
      "text/html": [
       "<div>\n",
       "<style scoped>\n",
       "    .dataframe tbody tr th:only-of-type {\n",
       "        vertical-align: middle;\n",
       "    }\n",
       "\n",
       "    .dataframe tbody tr th {\n",
       "        vertical-align: top;\n",
       "    }\n",
       "\n",
       "    .dataframe thead th {\n",
       "        text-align: right;\n",
       "    }\n",
       "</style>\n",
       "<table border=\"1\" class=\"dataframe\">\n",
       "  <thead>\n",
       "    <tr style=\"text-align: right;\">\n",
       "      <th></th>\n",
       "      <th>person_id</th>\n",
       "      <th>member_id</th>\n",
       "      <th>age</th>\n",
       "      <th>primary_commute_mode</th>\n",
       "      <th>relate</th>\n",
       "      <th>edu</th>\n",
       "      <th>sex</th>\n",
       "      <th>hours</th>\n",
       "      <th>hispanic</th>\n",
       "      <th>earning</th>\n",
       "      <th>...</th>\n",
       "      <th>work_at_home</th>\n",
       "      <th>worker</th>\n",
       "      <th>household_id</th>\n",
       "      <th>node_id_small</th>\n",
       "      <th>node_id_walk</th>\n",
       "      <th>job_id</th>\n",
       "      <th>MODE</th>\n",
       "      <th>HW_departure_time</th>\n",
       "      <th>WH_departure_time</th>\n",
       "      <th>dwell</th>\n",
       "    </tr>\n",
       "  </thead>\n",
       "  <tbody>\n",
       "    <tr>\n",
       "      <th>0</th>\n",
       "      <td>0</td>\n",
       "      <td>1</td>\n",
       "      <td>47</td>\n",
       "      <td>1</td>\n",
       "      <td>0</td>\n",
       "      <td>22</td>\n",
       "      <td>1</td>\n",
       "      <td>40</td>\n",
       "      <td>1</td>\n",
       "      <td>85000</td>\n",
       "      <td>...</td>\n",
       "      <td>0</td>\n",
       "      <td>1</td>\n",
       "      <td>0</td>\n",
       "      <td>6.546892e+07</td>\n",
       "      <td>5.125306e+09</td>\n",
       "      <td>413751.0</td>\n",
       "      <td>drive</td>\n",
       "      <td>10.254347</td>\n",
       "      <td>13.220331</td>\n",
       "      <td>2.965985</td>\n",
       "    </tr>\n",
       "    <tr>\n",
       "      <th>1</th>\n",
       "      <td>2</td>\n",
       "      <td>1</td>\n",
       "      <td>47</td>\n",
       "      <td>1</td>\n",
       "      <td>0</td>\n",
       "      <td>22</td>\n",
       "      <td>1</td>\n",
       "      <td>40</td>\n",
       "      <td>1</td>\n",
       "      <td>85000</td>\n",
       "      <td>...</td>\n",
       "      <td>0</td>\n",
       "      <td>1</td>\n",
       "      <td>740</td>\n",
       "      <td>2.279076e+09</td>\n",
       "      <td>2.860970e+08</td>\n",
       "      <td>1258351.0</td>\n",
       "      <td>drive</td>\n",
       "      <td>7.080983</td>\n",
       "      <td>8.064803</td>\n",
       "      <td>0.983820</td>\n",
       "    </tr>\n",
       "    <tr>\n",
       "      <th>2</th>\n",
       "      <td>3</td>\n",
       "      <td>1</td>\n",
       "      <td>47</td>\n",
       "      <td>1</td>\n",
       "      <td>0</td>\n",
       "      <td>22</td>\n",
       "      <td>1</td>\n",
       "      <td>40</td>\n",
       "      <td>1</td>\n",
       "      <td>85000</td>\n",
       "      <td>...</td>\n",
       "      <td>0</td>\n",
       "      <td>1</td>\n",
       "      <td>975</td>\n",
       "      <td>3.969451e+09</td>\n",
       "      <td>6.546673e+07</td>\n",
       "      <td>343693.0</td>\n",
       "      <td>drive</td>\n",
       "      <td>8.481918</td>\n",
       "      <td>11.704230</td>\n",
       "      <td>3.222312</td>\n",
       "    </tr>\n",
       "    <tr>\n",
       "      <th>3</th>\n",
       "      <td>4</td>\n",
       "      <td>1</td>\n",
       "      <td>47</td>\n",
       "      <td>1</td>\n",
       "      <td>0</td>\n",
       "      <td>22</td>\n",
       "      <td>1</td>\n",
       "      <td>40</td>\n",
       "      <td>1</td>\n",
       "      <td>85000</td>\n",
       "      <td>...</td>\n",
       "      <td>0</td>\n",
       "      <td>1</td>\n",
       "      <td>977</td>\n",
       "      <td>6.561551e+07</td>\n",
       "      <td>6.554853e+07</td>\n",
       "      <td>447704.0</td>\n",
       "      <td>drive</td>\n",
       "      <td>8.544929</td>\n",
       "      <td>17.337526</td>\n",
       "      <td>8.792596</td>\n",
       "    </tr>\n",
       "    <tr>\n",
       "      <th>4</th>\n",
       "      <td>5</td>\n",
       "      <td>1</td>\n",
       "      <td>47</td>\n",
       "      <td>1</td>\n",
       "      <td>0</td>\n",
       "      <td>22</td>\n",
       "      <td>1</td>\n",
       "      <td>40</td>\n",
       "      <td>1</td>\n",
       "      <td>85000</td>\n",
       "      <td>...</td>\n",
       "      <td>0</td>\n",
       "      <td>1</td>\n",
       "      <td>2321</td>\n",
       "      <td>3.531401e+08</td>\n",
       "      <td>6.555442e+07</td>\n",
       "      <td>193894.0</td>\n",
       "      <td>drive</td>\n",
       "      <td>9.975130</td>\n",
       "      <td>15.818964</td>\n",
       "      <td>5.843834</td>\n",
       "    </tr>\n",
       "  </tbody>\n",
       "</table>\n",
       "<p>5 rows × 22 columns</p>\n",
       "</div>"
      ],
      "text/plain": [
       "   person_id  member_id  age  primary_commute_mode  relate  edu  sex  hours  \\\n",
       "0          0          1   47                     1       0   22    1     40   \n",
       "1          2          1   47                     1       0   22    1     40   \n",
       "2          3          1   47                     1       0   22    1     40   \n",
       "3          4          1   47                     1       0   22    1     40   \n",
       "4          5          1   47                     1       0   22    1     40   \n",
       "\n",
       "   hispanic  earning    ...     work_at_home  worker  household_id  \\\n",
       "0         1    85000    ...                0       1             0   \n",
       "1         1    85000    ...                0       1           740   \n",
       "2         1    85000    ...                0       1           975   \n",
       "3         1    85000    ...                0       1           977   \n",
       "4         1    85000    ...                0       1          2321   \n",
       "\n",
       "   node_id_small  node_id_walk     job_id   MODE  HW_departure_time  \\\n",
       "0   6.546892e+07  5.125306e+09   413751.0  drive          10.254347   \n",
       "1   2.279076e+09  2.860970e+08  1258351.0  drive           7.080983   \n",
       "2   3.969451e+09  6.546673e+07   343693.0  drive           8.481918   \n",
       "3   6.561551e+07  6.554853e+07   447704.0  drive           8.544929   \n",
       "4   3.531401e+08  6.555442e+07   193894.0  drive           9.975130   \n",
       "\n",
       "  WH_departure_time     dwell  \n",
       "0         13.220331  2.965985  \n",
       "1          8.064803  0.983820  \n",
       "2         11.704230  3.222312  \n",
       "3         17.337526  8.792596  \n",
       "4         15.818964  5.843834  \n",
       "\n",
       "[5 rows x 22 columns]"
      ]
     },
     "execution_count": 6,
     "metadata": {},
     "output_type": "execute_result"
    }
   ],
   "source": [
    "trips.head()"
   ]
  },
  {
   "cell_type": "code",
   "execution_count": 6,
   "metadata": {},
   "outputs": [
    {
     "name": "stderr",
     "output_type": "stream",
     "text": [
      "/home/max/anaconda3/envs/ual-model/lib/python3.6/site-packages/numpy/lib/arraysetops.py:522: FutureWarning: elementwise comparison failed; returning scalar instead, but in the future will perform elementwise comparison\n",
      "  mask |= (ar1 == a)\n",
      "/home/max/projects/ual_model_workspace/fall-2018-models/scripts/datasources.py:36: SettingWithCopyWarning: \n",
      "A value is trying to be set on a copy of a slice from a DataFrame\n",
      "\n",
      "See the caveats in the documentation: http://pandas.pydata.org/pandas-docs/stable/indexing.html#indexing-view-versus-copy\n",
      "  df['res_sqft_per_unit'][df['res_sqft_per_unit'] == np.inf] = 0\n"
     ]
    }
   ],
   "source": [
    "job_coords = orca.merge_tables('jobs', ['jobs', 'buildings', 'parcels'])\n",
    "job_coords = job_coords[['x', 'y']]"
   ]
  },
  {
   "cell_type": "code",
   "execution_count": 7,
   "metadata": {},
   "outputs": [
    {
     "name": "stderr",
     "output_type": "stream",
     "text": [
      "/home/max/anaconda3/envs/ual-model/lib/python3.6/site-packages/numpy/lib/arraysetops.py:522: FutureWarning: elementwise comparison failed; returning scalar instead, but in the future will perform elementwise comparison\n",
      "  mask |= (ar1 == a)\n"
     ]
    }
   ],
   "source": [
    "hh_coords = orca.merge_tables('households', ['households', 'units', 'buildings', 'parcels'])\n",
    "hh_coords = hh_coords[['x', 'y']]"
   ]
  },
  {
   "cell_type": "code",
   "execution_count": 8,
   "metadata": {},
   "outputs": [],
   "source": [
    "trips = trips[['person_id', 'household_id', 'job_id', 'MODE', 'HW_departure_time', 'WH_departure_time']].rename(\n",
    "    columns={'HW_departure_time': 'Home', 'WH_departure_time': 'Work'})"
   ]
  },
  {
   "cell_type": "code",
   "execution_count": 9,
   "metadata": {},
   "outputs": [],
   "source": [
    "trip_data = trips.merge(\n",
    "    hh_coords, left_on='household_id', right_index=True).merge(\n",
    "    job_coords, left_on='job_id', right_index=True, suffixes=('_home', '_work'))\n",
    "trip_data = trip_data[['person_id', 'MODE', 'Home', 'Work', 'x_home', 'y_home', 'x_work', 'y_work']]"
   ]
  },
  {
   "cell_type": "code",
   "execution_count": 10,
   "metadata": {},
   "outputs": [],
   "source": [
    "melted = trip_data.melt(\n",
    "    id_vars=['person_id', 'MODE', 'x_home', 'y_home', 'x_work', 'y_work'],\n",
    "    var_name='activityType', value_name='endTime')"
   ]
  },
  {
   "cell_type": "code",
   "execution_count": 11,
   "metadata": {},
   "outputs": [],
   "source": [
    "melted['x'] = None\n",
    "melted['y'] = None\n",
    "melted.loc[melted['activityType'] == 'Home', 'x'] = melted.loc[melted['activityType'] == 'Home', 'x_home']\n",
    "melted.loc[melted['activityType'] == 'Home', 'y'] = melted.loc[melted['activityType'] == 'Home', 'y_home']\n",
    "melted.loc[melted['activityType'] == 'Work', 'x'] = melted.loc[melted['activityType'] == 'Work', 'x_work']\n",
    "melted.loc[melted['activityType'] == 'Work', 'y'] = melted.loc[melted['activityType'] == 'Work', 'y_work']"
   ]
  },
  {
   "cell_type": "code",
   "execution_count": 13,
   "metadata": {},
   "outputs": [],
   "source": [
    "plans = melted.sort_values(['person_id', 'endTime'])[['person_id', 'MODE', 'activityType', 'endTime', 'x', 'y']].reset_index(drop=True)"
   ]
  },
  {
   "cell_type": "code",
   "execution_count": 21,
   "metadata": {},
   "outputs": [],
   "source": [
    "plans['planElement'] = 'activity'\n",
    "plans['planElementIndex'] = plans.groupby('person_id').cumcount() * 2 + 1"
   ]
  },
  {
   "cell_type": "code",
   "execution_count": 23,
   "metadata": {},
   "outputs": [],
   "source": [
    "returnActivity = plans[plans['planElementIndex'] == 1]"
   ]
  },
  {
   "cell_type": "code",
   "execution_count": 24,
   "metadata": {},
   "outputs": [
    {
     "name": "stderr",
     "output_type": "stream",
     "text": [
      "/home/max/anaconda3/envs/ual-model/lib/python3.6/site-packages/pandas/core/indexing.py:543: SettingWithCopyWarning: \n",
      "A value is trying to be set on a copy of a slice from a DataFrame.\n",
      "Try using .loc[row_indexer,col_indexer] = value instead\n",
      "\n",
      "See the caveats in the documentation: http://pandas.pydata.org/pandas-docs/stable/indexing.html#indexing-view-versus-copy\n",
      "  self.obj[item] = s\n"
     ]
    }
   ],
   "source": [
    "returnActivity.loc[:, 'planElementIndex'] = 5\n",
    "returnActivity.loc[:, 'endTime'] = ''"
   ]
  },
  {
   "cell_type": "code",
   "execution_count": 25,
   "metadata": {},
   "outputs": [],
   "source": [
    "plans = plans.append(returnActivity, ignore_index=True).sort_values(['person_id', 'planElementIndex'])"
   ]
  },
  {
   "cell_type": "code",
   "execution_count": 26,
   "metadata": {},
   "outputs": [],
   "source": [
    "legs = plans[plans['planElementIndex'].isin([1,3])]"
   ]
  },
  {
   "cell_type": "code",
   "execution_count": 27,
   "metadata": {},
   "outputs": [
    {
     "name": "stderr",
     "output_type": "stream",
     "text": [
      "/home/max/anaconda3/envs/ual-model/lib/python3.6/site-packages/pandas/core/indexing.py:543: SettingWithCopyWarning: \n",
      "A value is trying to be set on a copy of a slice from a DataFrame.\n",
      "Try using .loc[row_indexer,col_indexer] = value instead\n",
      "\n",
      "See the caveats in the documentation: http://pandas.pydata.org/pandas-docs/stable/indexing.html#indexing-view-versus-copy\n",
      "  self.obj[item] = s\n"
     ]
    }
   ],
   "source": [
    "legs.loc[:, 'planElementIndex'] = legs.loc[:, 'planElementIndex'] + 1"
   ]
  },
  {
   "cell_type": "code",
   "execution_count": 28,
   "metadata": {},
   "outputs": [
    {
     "name": "stderr",
     "output_type": "stream",
     "text": [
      "/home/max/anaconda3/envs/ual-model/lib/python3.6/site-packages/pandas/core/indexing.py:543: SettingWithCopyWarning: \n",
      "A value is trying to be set on a copy of a slice from a DataFrame.\n",
      "Try using .loc[row_indexer,col_indexer] = value instead\n",
      "\n",
      "See the caveats in the documentation: http://pandas.pydata.org/pandas-docs/stable/indexing.html#indexing-view-versus-copy\n",
      "  self.obj[item] = s\n"
     ]
    }
   ],
   "source": [
    "legs.loc[:, 'activityType'] = ''\n",
    "legs.loc[:, 'endTime'] = ''\n",
    "legs.loc[:, 'x'] = ''\n",
    "legs.loc[:, 'y'] = ''\n",
    "legs.loc[:, 'planElement'] = 'leg'"
   ]
  },
  {
   "cell_type": "code",
   "execution_count": 29,
   "metadata": {},
   "outputs": [],
   "source": [
    "plans = plans.append(legs, ignore_index=True).sort_values(['person_id', 'planElementIndex']).rename(\n",
    "    columns={'person_id': 'personId', 'MODE': 'mode'}).reset_index(drop=True)\n",
    "plans = plans[['personId', 'planElement', 'planElementIndex', 'activityType', 'x', 'y', 'endTime', 'mode']]"
   ]
  },
  {
   "cell_type": "code",
   "execution_count": 35,
   "metadata": {},
   "outputs": [],
   "source": [
    "plans.loc[plans['planElement'] == 'activity', 'mode'] = ''"
   ]
  },
  {
   "cell_type": "code",
   "execution_count": 38,
   "metadata": {},
   "outputs": [],
   "source": [
    "plans.to_csv('./data/urbansim_beam_plans.csv', index=False)"
   ]
  }
 ],
 "metadata": {
  "kernelspec": {
   "display_name": "Python 3",
   "language": "python",
   "name": "python3"
  },
  "language_info": {
   "codemirror_mode": {
    "name": "ipython",
    "version": 3
   },
   "file_extension": ".py",
   "mimetype": "text/x-python",
   "name": "python",
   "nbconvert_exporter": "python",
   "pygments_lexer": "ipython3",
   "version": "3.6.6"
  }
 },
 "nbformat": 4,
 "nbformat_minor": 2
}
