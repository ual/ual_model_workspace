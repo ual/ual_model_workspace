{
 "cells": [
  {
   "cell_type": "code",
   "execution_count": 1,
   "metadata": {},
   "outputs": [],
   "source": [
    "import pandas as pd"
   ]
  },
  {
   "cell_type": "code",
   "execution_count": 2,
   "metadata": {},
   "outputs": [],
   "source": [
    "import orca"
   ]
  },
  {
   "cell_type": "code",
   "execution_count": 3,
   "metadata": {},
   "outputs": [],
   "source": [
    "import os; os.chdir('../')"
   ]
  },
  {
   "cell_type": "code",
   "execution_count": 4,
   "metadata": {},
   "outputs": [],
   "source": [
    "from scripts import datasources"
   ]
  },
  {
   "cell_type": "code",
   "execution_count": 5,
   "metadata": {},
   "outputs": [],
   "source": [
    "trips = pd.read_csv('./data/persons_HWtrips.csv')"
   ]
  },
  {
   "cell_type": "code",
   "execution_count": 6,
   "metadata": {},
   "outputs": [
    {
     "name": "stderr",
     "output_type": "stream",
     "text": [
      "/home/max/anaconda3/envs/ual-model/lib/python3.6/site-packages/numpy/lib/arraysetops.py:522: FutureWarning: elementwise comparison failed; returning scalar instead, but in the future will perform elementwise comparison\n",
      "  mask |= (ar1 == a)\n",
      "/home/max/projects/ual_model_workspace/fall-2018-models/scripts/datasources.py:36: SettingWithCopyWarning: \n",
      "A value is trying to be set on a copy of a slice from a DataFrame\n",
      "\n",
      "See the caveats in the documentation: http://pandas.pydata.org/pandas-docs/stable/indexing.html#indexing-view-versus-copy\n",
      "  df['res_sqft_per_unit'][df['res_sqft_per_unit'] == np.inf] = 0\n"
     ]
    }
   ],
   "source": [
    "job_coords = orca.merge_tables('jobs', ['jobs', 'buildings', 'parcels'])\n",
    "job_coords = job_coords[['x', 'y']]"
   ]
  },
  {
   "cell_type": "code",
   "execution_count": 7,
   "metadata": {},
   "outputs": [
    {
     "name": "stderr",
     "output_type": "stream",
     "text": [
      "/home/max/anaconda3/envs/ual-model/lib/python3.6/site-packages/numpy/lib/arraysetops.py:522: FutureWarning: elementwise comparison failed; returning scalar instead, but in the future will perform elementwise comparison\n",
      "  mask |= (ar1 == a)\n"
     ]
    }
   ],
   "source": [
    "hh_coords = orca.merge_tables('households', ['households', 'units', 'buildings', 'parcels'])\n",
    "hh_coords = hh_coords[['x', 'y']]"
   ]
  },
  {
   "cell_type": "code",
   "execution_count": 8,
   "metadata": {},
   "outputs": [],
   "source": [
    "trips = trips[['person_id', 'household_id', 'job_id', 'MODE', 'HW_departure_time', 'WH_departure_time']].rename(\n",
    "    columns={'HW_departure_time': 'Home', 'WH_departure_time': 'Work'})"
   ]
  },
  {
   "cell_type": "code",
   "execution_count": 9,
   "metadata": {},
   "outputs": [],
   "source": [
    "trip_data = trips.merge(\n",
    "    hh_coords, left_on='household_id', right_index=True).merge(\n",
    "    job_coords, left_on='job_id', right_index=True, suffixes=('_home', '_work'))\n",
    "trip_data = trip_data[['person_id', 'MODE', 'Home', 'Work', 'x_home', 'y_home', 'x_work', 'y_work']]"
   ]
  },
  {
   "cell_type": "code",
   "execution_count": 10,
   "metadata": {},
   "outputs": [],
   "source": [
    "melted = trip_data.melt(\n",
    "    id_vars=['person_id', 'MODE', 'x_home', 'y_home', 'x_work', 'y_work'],\n",
    "    var_name='activityType', value_name='endTime')"
   ]
  },
  {
   "cell_type": "code",
   "execution_count": 11,
   "metadata": {},
   "outputs": [],
   "source": [
    "melted['x'] = None\n",
    "melted['y'] = None\n",
    "melted.loc[melted['activityType'] == 'Home', 'x'] = melted.loc[melted['activityType'] == 'Home', 'x_home']\n",
    "melted.loc[melted['activityType'] == 'Home', 'y'] = melted.loc[melted['activityType'] == 'Home', 'y_home']\n",
    "melted.loc[melted['activityType'] == 'Work', 'x'] = melted.loc[melted['activityType'] == 'Work', 'x_work']\n",
    "melted.loc[melted['activityType'] == 'Work', 'y'] = melted.loc[melted['activityType'] == 'Work', 'y_work']"
   ]
  },
  {
   "cell_type": "code",
   "execution_count": 13,
   "metadata": {},
   "outputs": [],
   "source": [
    "plans = melted.sort_values(['person_id', 'endTime'])[['person_id', 'MODE', 'activityType', 'endTime', 'x', 'y']].reset_index(drop=True)"
   ]
  },
  {
   "cell_type": "code",
   "execution_count": 21,
   "metadata": {},
   "outputs": [],
   "source": [
    "plans['planElement'] = 'activity'\n",
    "plans['planElementIndex'] = plans.groupby('person_id').cumcount() * 2 + 1"
   ]
  },
  {
   "cell_type": "code",
   "execution_count": 23,
   "metadata": {},
   "outputs": [],
   "source": [
    "returnActivity = plans[plans['planElementIndex'] == 1]"
   ]
  },
  {
   "cell_type": "code",
   "execution_count": 24,
   "metadata": {},
   "outputs": [
    {
     "name": "stderr",
     "output_type": "stream",
     "text": [
      "/home/max/anaconda3/envs/ual-model/lib/python3.6/site-packages/pandas/core/indexing.py:543: SettingWithCopyWarning: \n",
      "A value is trying to be set on a copy of a slice from a DataFrame.\n",
      "Try using .loc[row_indexer,col_indexer] = value instead\n",
      "\n",
      "See the caveats in the documentation: http://pandas.pydata.org/pandas-docs/stable/indexing.html#indexing-view-versus-copy\n",
      "  self.obj[item] = s\n"
     ]
    }
   ],
   "source": [
    "returnActivity.loc[:, 'planElementIndex'] = 5\n",
    "returnActivity.loc[:, 'endTime'] = ''"
   ]
  },
  {
   "cell_type": "code",
   "execution_count": 25,
   "metadata": {},
   "outputs": [],
   "source": [
    "plans = plans.append(returnActivity, ignore_index=True).sort_values(['person_id', 'planElementIndex'])"
   ]
  },
  {
   "cell_type": "code",
   "execution_count": 26,
   "metadata": {},
   "outputs": [],
   "source": [
    "legs = plans[plans['planElementIndex'].isin([1,3])]"
   ]
  },
  {
   "cell_type": "code",
   "execution_count": 27,
   "metadata": {},
   "outputs": [
    {
     "name": "stderr",
     "output_type": "stream",
     "text": [
      "/home/max/anaconda3/envs/ual-model/lib/python3.6/site-packages/pandas/core/indexing.py:543: SettingWithCopyWarning: \n",
      "A value is trying to be set on a copy of a slice from a DataFrame.\n",
      "Try using .loc[row_indexer,col_indexer] = value instead\n",
      "\n",
      "See the caveats in the documentation: http://pandas.pydata.org/pandas-docs/stable/indexing.html#indexing-view-versus-copy\n",
      "  self.obj[item] = s\n"
     ]
    }
   ],
   "source": [
    "legs.loc[:, 'planElementIndex'] = legs.loc[:, 'planElementIndex'] + 1"
   ]
  },
  {
   "cell_type": "code",
   "execution_count": 28,
   "metadata": {},
   "outputs": [
    {
     "name": "stderr",
     "output_type": "stream",
     "text": [
      "/home/max/anaconda3/envs/ual-model/lib/python3.6/site-packages/pandas/core/indexing.py:543: SettingWithCopyWarning: \n",
      "A value is trying to be set on a copy of a slice from a DataFrame.\n",
      "Try using .loc[row_indexer,col_indexer] = value instead\n",
      "\n",
      "See the caveats in the documentation: http://pandas.pydata.org/pandas-docs/stable/indexing.html#indexing-view-versus-copy\n",
      "  self.obj[item] = s\n"
     ]
    }
   ],
   "source": [
    "legs.loc[:, 'activityType'] = ''\n",
    "legs.loc[:, 'endTime'] = ''\n",
    "legs.loc[:, 'x'] = ''\n",
    "legs.loc[:, 'y'] = ''\n",
    "legs.loc[:, 'planElement'] = 'leg'"
   ]
  },
  {
   "cell_type": "code",
   "execution_count": 29,
   "metadata": {},
   "outputs": [],
   "source": [
    "plans = plans.append(legs, ignore_index=True).sort_values(['person_id', 'planElementIndex']).rename(\n",
    "    columns={'person_id': 'personId', 'MODE': 'mode'}).reset_index(drop=True)\n",
    "plans = plans[['personId', 'planElement', 'planElementIndex', 'activityType', 'x', 'y', 'endTime', 'mode']]"
   ]
  },
  {
   "cell_type": "code",
   "execution_count": 35,
   "metadata": {},
   "outputs": [],
   "source": [
    "plans.loc[plans['planElement'] == 'activity', 'mode'] = ''"
   ]
  },
  {
   "cell_type": "code",
   "execution_count": 38,
   "metadata": {},
   "outputs": [],
   "source": [
    "plans.to_csv('./data/urbansim_beam_plans.csv', index=False)"
   ]
  }
 ],
 "metadata": {
  "kernelspec": {
   "display_name": "Python 3",
   "language": "python",
   "name": "python3"
  },
  "language_info": {
   "codemirror_mode": {
    "name": "ipython",
    "version": 3
   },
   "file_extension": ".py",
   "mimetype": "text/x-python",
   "name": "python",
   "nbconvert_exporter": "python",
   "pygments_lexer": "ipython3",
   "version": "3.6.6"
  }
 },
 "nbformat": 4,
 "nbformat_minor": 2
}
