{
 "cells": [
  {
   "cell_type": "code",
   "execution_count": 1,
   "metadata": {},
   "outputs": [],
   "source": [
    "import pandas as pd\n",
    "import patsy\n",
    "import numpy as np"
   ]
  },
  {
   "cell_type": "code",
   "execution_count": 18,
   "metadata": {},
   "outputs": [],
   "source": [
    "from urbansim_templates import modelmanager as mm\n",
    "from urbansim_templates.models import LargeMultinomialLogitStep\n",
    "import orca\n",
    "import os; os.chdir('../')\n",
    "import warnings;warnings.simplefilter('ignore')\n",
    "from scripts import datasources, models, variables\n",
    "from choicemodels import MultinomialLogit\n",
    "from choicemodels import mnl\n",
    "from choicemodels.tools import MergedChoiceTable\n",
    "from urbansim.models import util"
   ]
  },
  {
   "cell_type": "code",
   "execution_count": 3,
   "metadata": {},
   "outputs": [
    {
     "name": "stdout",
     "output_type": "stream",
     "text": [
      "Running step 'initialize_network_small'\n",
      "Time to execute step 'initialize_network_small': 0.00 s\n",
      "Running step 'initialize_network_walk'\n",
      "Time to execute step 'initialize_network_walk': 0.00 s\n",
      "Total time to execute iteration 1 with iteration value None: 0.00 s\n"
     ]
    }
   ],
   "source": [
    "orca.run(['initialize_network_small', 'initialize_network_walk'])"
   ]
  },
  {
   "cell_type": "code",
   "execution_count": 4,
   "metadata": {},
   "outputs": [
    {
     "data": {
      "text/plain": [
       "<orca.orca.DataFrameWrapper at 0x7f4cba392f60>"
      ]
     },
     "execution_count": 4,
     "metadata": {},
     "output_type": "execute_result"
    }
   ],
   "source": [
    "interaction_terms_tt = pd.read_csv(\n",
    "    './data/WLCM_interaction_terms_tt.csv', index_col=[\n",
    "        'zone_id_home', 'zone_id_work'])\n",
    "interaction_terms_dist = pd.read_csv(\n",
    "    './data/WLCM_interaction_terms_dist.csv', index_col=[\n",
    "        'zone_id_home', 'zone_id_work'])\n",
    "interaction_terms_cost = pd.read_csv(\n",
    "    './data/WLCM_interaction_terms_cost.csv', index_col=[\n",
    "        'zone_id_home', 'zone_id_work'])\n",
    "walk_net_vars = pd.read_csv('./data/walk_net_vars.csv', index_col='osmid')\n",
    "drive_net_vars = pd.read_csv('./data/drive_net_vars.csv', index_col='osmid')\n",
    "orca.add_table('nodeswalk', walk_net_vars)\n",
    "orca.add_table('nodessmall', drive_net_vars)"
   ]
  },
  {
   "cell_type": "code",
   "execution_count": 15,
   "metadata": {
    "scrolled": true
   },
   "outputs": [
    {
     "name": "stdout",
     "output_type": "stream",
     "text": [
      "Registering model step 'WLCM-baseline'\n",
      "Registering model step 'WLCM-age-sector'\n",
      "Registering model step 'WLCM-higher_ed_x_sector-tt_x_dist-cost_x_income'\n",
      "Registering model step 'WLCM-higher_ed_x_sector-tt_x_dist'\n",
      "Registering model step 'WLCM-edu-sector'\n",
      "Registering model step 'WLCM-higher_ed_x_sector'\n",
      "Registering model step 'WLCM'\n"
     ]
    }
   ],
   "source": [
    "mm.initialize()"
   ]
  },
  {
   "cell_type": "code",
   "execution_count": 29,
   "metadata": {},
   "outputs": [],
   "source": [
    "m.chooser_filters = ['age < 115', 'worker == 1', 'work_at_home == 0']\n",
    "query = ' and '.join(m.chooser_filters)"
   ]
  },
  {
   "cell_type": "code",
   "execution_count": 31,
   "metadata": {},
   "outputs": [],
   "source": [
    "obs = orca.merge_tables('persons', [\n",
    "    'persons', 'households', 'units', 'buildings', 'parcels']).rename(\n",
    "    columns={'zone_id': 'zone_id_home'})\n",
    "obs.index.name = 'obs_id'\n",
    "obs = obs.query(query)\n",
    "obs = obs[[\n",
    "    'zone_id_home', 'age', 'edu', 'income']]"
   ]
  },
  {
   "cell_type": "code",
   "execution_count": 6,
   "metadata": {},
   "outputs": [],
   "source": [
    "alts = orca.merge_tables(\n",
    "    'jobs', [\n",
    "        'jobs', 'buildings', 'parcels', 'nodeswalk', 'nodessmall']).rename(\n",
    "    columns={'zone_id': 'zone_id_work'})\n",
    "alts = alts[[\n",
    "    'jobs_1500_walk_retail', 'sector_id', 'zone_id_work'\n",
    "]]"
   ]
  },
  {
   "cell_type": "code",
   "execution_count": 33,
   "metadata": {},
   "outputs": [],
   "source": [
    "mct = MergedChoiceTable(\n",
    "    obs, alts, sample_size=10, interaction_terms=[\n",
    "        interaction_terms_tt, interaction_terms_dist,\n",
    "        interaction_terms_cost])"
   ]
  },
  {
   "cell_type": "code",
   "execution_count": 34,
   "metadata": {},
   "outputs": [],
   "source": [
    "mct_df = mct.to_frame()"
   ]
  },
  {
   "cell_type": "code",
   "execution_count": 39,
   "metadata": {},
   "outputs": [],
   "source": [
    "mct_df['sector_retail'] = mct_df['sector_id'].isin([44, 45]).astype(int)\n",
    "mct_df['sector_healthcare'] = mct_df['sector_id'].isin([62]).astype(int)\n",
    "mct_df['sector_tech'] = mct_df['sector_id'].isin([51, 54]).astype(int)\n",
    "mct_df['sector_food_and_hosp'] = mct_df['sector_id'].isin([72]).astype(int)\n",
    "mct_df['sector_mfg'] = mct_df['sector_id'].isin([31, 32, 33]).astype(int)\n",
    "mct_df['sector_edu_serv'] = mct_df['sector_id'].isin([61]).astype(int)\n",
    "mct_df['sector_oth_serv'] = mct_df['sector_id'].isin([81]).astype(int)\n",
    "mct_df['sector_constr'] = mct_df['sector_id'].isin([23]).astype(int)\n",
    "mct_df['sector_gov'] = mct_df['sector_id'].isin([92]).astype(int)\n",
    "mct_df['sector_fire'] = mct_df['sector_id'].isin([52, 53]).astype(int)\n",
    "mct_df['sector_whlsale'] = mct_df['sector_id'].isin([42]).astype(int)\n",
    "mct_df['sector_admin'] = mct_df['sector_id'].isin([56]).astype(int)\n",
    "mct_df['sector_transport'] = mct_df['sector_id'].isin([48]).astype(int)\n",
    "mct_df['sector_arts'] = mct_df['sector_id'].isin([71]).astype(int)\n",
    "mct_df['sector_util'] = mct_df['sector_id'].isin([22]).astype(int)\n",
    "mct_df['no_higher_ed'] = (mct_df['edu'] < 21).astype(int)\n",
    "mct_df['age_under_45'] = (mct_df['age'] < 45).astype(int)\n",
    "mct_df['hh_inc_under_25k'] = ((mct_df['income'] < 25000) & (mct_df['income'] > 10)).astype(int)\n",
    "mct_df['hh_inc_25_to_75k'] = (\n",
    "    (mct_df['income'] >= 25000) & (mct_df['income'] < 75000)).astype(int)\n",
    "mct_df['hh_inc_75_to_200k'] = (\n",
    "    (mct_df['income'] >= 75000) & (mct_df['income'] < 200000)).astype(int)"
   ]
  },
  {
   "cell_type": "code",
   "execution_count": 42,
   "metadata": {},
   "outputs": [],
   "source": [
    "dm = patsy.dmatrix(m.model_expression, data=mct_df, return_type='dataframe')"
   ]
  },
  {
   "cell_type": "code",
   "execution_count": 44,
   "metadata": {},
   "outputs": [],
   "source": [
    "probs = mnl.mnl_simulate(data = dm, coeff = m.fitted_parameters, \n",
    "                                 numalts = 10, returnprobs=True)"
   ]
  },
  {
   "cell_type": "code",
   "execution_count": 45,
   "metadata": {},
   "outputs": [],
   "source": [
    "choice_positions = mnl.mnl_simulate(data = dm, coeff = m.fitted_parameters, \n",
    "                                            numalts = 10, returnprobs=False)"
   ]
  },
  {
   "cell_type": "code",
   "execution_count": 48,
   "metadata": {},
   "outputs": [],
   "source": [
    "ids = mct_df.reset_index()[mct.alternative_id_col].tolist()"
   ]
  },
  {
   "cell_type": "code",
   "execution_count": 49,
   "metadata": {},
   "outputs": [],
   "source": [
    "N = len(choice_positions)\n",
    "J = len(ids) // N\n",
    "ids_by_obs = np.reshape(ids, (N,J))\n",
    "choices = [ids_by_obs[i][choice_positions[i]] for i in range(N)]"
   ]
  },
  {
   "cell_type": "code",
   "execution_count": 50,
   "metadata": {},
   "outputs": [],
   "source": [
    "mct_df['probability'] = np.reshape(probs, (probs.size, 1))"
   ]
  },
  {
   "cell_type": "code",
   "execution_count": 55,
   "metadata": {},
   "outputs": [],
   "source": [
    "obs['choice'] = choices"
   ]
  },
  {
   "cell_type": "code",
   "execution_count": 64,
   "metadata": {},
   "outputs": [],
   "source": [
    "persons = orca.get_table('persons').to_frame()"
   ]
  },
  {
   "cell_type": "code",
   "execution_count": 65,
   "metadata": {},
   "outputs": [],
   "source": [
    "merged = pd.merge(persons, obs[['choice']], left_index=True, right_index=True, how='left').rename(columns={'choice': 'job_id'})"
   ]
  },
  {
   "cell_type": "code",
   "execution_count": 70,
   "metadata": {},
   "outputs": [],
   "source": [
    "merged.to_csv('/home/max/projects/ual_model_workspace/fall-2018-models/data/persons_w_jobs_2018_10_16.csv')"
   ]
  }
 ],
 "metadata": {
  "kernelspec": {
   "display_name": "Python 3",
   "language": "python",
   "name": "python3"
  },
  "language_info": {
   "codemirror_mode": {
    "name": "ipython",
    "version": 3
   },
   "file_extension": ".py",
   "mimetype": "text/x-python",
   "name": "python",
   "nbconvert_exporter": "python",
   "pygments_lexer": "ipython3",
   "version": "3.6.6"
  }
 },
 "nbformat": 4,
 "nbformat_minor": 2
}
