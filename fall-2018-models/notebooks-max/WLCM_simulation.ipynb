{
 "cells": [
  {
   "cell_type": "code",
   "execution_count": 1,
   "metadata": {},
   "outputs": [],
   "source": [
    "import pandas as pd\n",
    "import patsy\n",
    "from patsy import dmatrix\n",
    "import numpy as np"
   ]
  },
  {
   "cell_type": "code",
   "execution_count": 2,
   "metadata": {},
   "outputs": [],
   "source": [
    "from urbansim_templates import modelmanager as mm\n",
    "from urbansim_templates.models import LargeMultinomialLogitStep\n",
    "import orca\n",
    "import os; os.chdir('../')\n",
    "import warnings;warnings.simplefilter('ignore')\n",
    "from scripts import datasources, models, variables\n",
    "from choicemodels import MultinomialLogit, MultinomialLogitResults\n",
    "from choicemodels import mnl\n",
    "from choicemodels.tools import MergedChoiceTable, simulation\n",
    "from urbansim.models import util"
   ]
  },
  {
   "cell_type": "markdown",
   "metadata": {},
   "source": [
    "### Generate accessibility variables (or load them if they already exist)"
   ]
  },
  {
   "cell_type": "code",
   "execution_count": 3,
   "metadata": {},
   "outputs": [
    {
     "name": "stdout",
     "output_type": "stream",
     "text": [
      "Running step 'initialize_network_small'\n",
      "Time to execute step 'initialize_network_small': 0.00 s\n",
      "Running step 'initialize_network_walk'\n",
      "Time to execute step 'initialize_network_walk': 0.00 s\n",
      "Total time to execute iteration 1 with iteration value None: 0.00 s\n"
     ]
    }
   ],
   "source": [
    "orca.run(['initialize_network_small', 'initialize_network_walk'])"
   ]
  },
  {
   "cell_type": "markdown",
   "metadata": {},
   "source": [
    "If they exist already:"
   ]
  },
  {
   "cell_type": "code",
   "execution_count": null,
   "metadata": {},
   "outputs": [],
   "source": [
    "walk_net_vars = pd.read_csv('./data/walk_net_vars.csv', index_col='osmid')\n",
    "drive_net_vars = pd.read_csv('./data/drive_net_vars.csv', index_col='osmid')\n",
    "orca.add_table('nodeswalk', walk_net_vars)\n",
    "orca.add_table('nodessmall', drive_net_vars)"
   ]
  },
  {
   "cell_type": "markdown",
   "metadata": {},
   "source": [
    "If generating on the fly:"
   ]
  },
  {
   "cell_type": "code",
   "execution_count": null,
   "metadata": {},
   "outputs": [],
   "source": [
    "orca.run(['network_aggregations_small', 'network_aggregations_walk'])"
   ]
  },
  {
   "cell_type": "markdown",
   "metadata": {},
   "source": [
    "### Load interaction terms"
   ]
  },
  {
   "cell_type": "markdown",
   "metadata": {},
   "source": [
    "Created in WLCM_pre-processing.ipynb"
   ]
  },
  {
   "cell_type": "code",
   "execution_count": 4,
   "metadata": {},
   "outputs": [
    {
     "data": {
      "text/plain": [
       "<orca.orca.DataFrameWrapper at 0x7fe9c4839438>"
      ]
     },
     "execution_count": 4,
     "metadata": {},
     "output_type": "execute_result"
    }
   ],
   "source": [
    "interaction_terms_tt = pd.read_csv(\n",
    "    './data/WLCM_interaction_terms_tt.csv', index_col=[\n",
    "        'zone_id_home', 'zone_id_work'])\n",
    "interaction_terms_dist = pd.read_csv(\n",
    "    './data/WLCM_interaction_terms_dist.csv', index_col=[\n",
    "        'zone_id_home', 'zone_id_work'])\n",
    "interaction_terms_cost = pd.read_csv(\n",
    "    './data/WLCM_interaction_terms_cost.csv', index_col=[\n",
    "        'zone_id_home', 'zone_id_work'])"
   ]
  },
  {
   "cell_type": "markdown",
   "metadata": {},
   "source": [
    "### Load estimated model specification"
   ]
  },
  {
   "cell_type": "code",
   "execution_count": 5,
   "metadata": {
    "scrolled": true
   },
   "outputs": [
    {
     "name": "stdout",
     "output_type": "stream",
     "text": [
      "Registering model step 'WLCM-baseline'\n",
      "Registering model step 'WLCM-age-sector'\n",
      "Registering model step 'WLCM-higher_ed_x_sector-tt_x_dist-cost_x_income'\n",
      "Registering model step 'WLCM-higher_ed_x_sector-tt_x_dist'\n",
      "Registering model step 'WLCM_constrained-higher_ed_x_sector-tt_x_dist-cost_x_income'\n",
      "Registering model step 'WLCM-edu-sector'\n",
      "Registering model step 'WLCM-higher_ed_x_sector'\n",
      "Registering model step 'WLCM'\n"
     ]
    }
   ],
   "source": [
    "mm.initialize()"
   ]
  },
  {
   "cell_type": "code",
   "execution_count": 6,
   "metadata": {},
   "outputs": [],
   "source": [
    "m = mm.get_step('WLCM_constrained-higher_ed_x_sector-tt_x_dist-cost_x_income')"
   ]
  },
  {
   "cell_type": "markdown",
   "metadata": {},
   "source": [
    "### Format the simulation input data"
   ]
  },
  {
   "cell_type": "code",
   "execution_count": 7,
   "metadata": {},
   "outputs": [],
   "source": [
    "chooser_filters = ['worker == 1', 'work_at_home == 0']\n",
    "query = ' and '.join(chooser_filters)"
   ]
  },
  {
   "cell_type": "code",
   "execution_count": 8,
   "metadata": {},
   "outputs": [],
   "source": [
    "obs = orca.merge_tables('persons', [\n",
    "    'persons', 'households', 'units', 'buildings', 'parcels']).rename(\n",
    "    columns={'zone_id': 'zone_id_home'})\n",
    "obs.index.name = 'obs_id'\n",
    "obs = obs.query(query)\n",
    "obs = obs[[\n",
    "    'zone_id_home', 'age', 'edu', 'income']]"
   ]
  },
  {
   "cell_type": "code",
   "execution_count": 9,
   "metadata": {},
   "outputs": [],
   "source": [
    "obs['no_higher_ed'] = (obs['edu'] < 21).astype(int)\n",
    "obs['age_under_45'] = (obs['age'] < 45).astype(int)\n",
    "obs['hh_inc_under_25k'] = ((obs['income'] < 25000) & (obs['income'] > 10)).astype(int)\n",
    "obs['hh_inc_25_to_75k'] = (\n",
    "    (obs['income'] >= 25000) & (obs['income'] < 75000)).astype(int)\n",
    "obs['hh_inc_75_to_200k'] = (\n",
    "    (obs['income'] >= 75000) & (obs['income'] < 200000)).astype(int)"
   ]
  },
  {
   "cell_type": "code",
   "execution_count": 10,
   "metadata": {},
   "outputs": [],
   "source": [
    "alts = orca.merge_tables(\n",
    "    'jobs', [\n",
    "        'jobs', 'buildings', 'parcels', 'nodeswalk', 'nodessmall']).rename(\n",
    "    columns={'zone_id': 'zone_id_work'})\n",
    "alts = alts[[\n",
    "    'jobs_1500_walk_retail', 'sector_id', 'zone_id_work'\n",
    "]]"
   ]
  },
  {
   "cell_type": "code",
   "execution_count": 11,
   "metadata": {},
   "outputs": [],
   "source": [
    "alts['sector_retail'] = alts['sector_id'].isin([44, 45]).astype(int)\n",
    "alts['sector_healthcare'] = alts['sector_id'].isin([62]).astype(int)\n",
    "alts['sector_tech'] = alts['sector_id'].isin([51, 54]).astype(int)\n",
    "alts['sector_food_and_hosp'] = alts['sector_id'].isin([72]).astype(int)\n",
    "alts['sector_mfg'] = alts['sector_id'].isin([31, 32, 33]).astype(int)\n",
    "alts['sector_edu_serv'] = alts['sector_id'].isin([61]).astype(int)\n",
    "alts['sector_oth_serv'] = alts['sector_id'].isin([81]).astype(int)\n",
    "alts['sector_constr'] = alts['sector_id'].isin([23]).astype(int)\n",
    "alts['sector_gov'] = alts['sector_id'].isin([92]).astype(int)\n",
    "alts['sector_fire'] = alts['sector_id'].isin([52, 53]).astype(int)\n",
    "alts['sector_whlsale'] = alts['sector_id'].isin([42]).astype(int)\n",
    "alts['sector_admin'] = alts['sector_id'].isin([56]).astype(int)\n",
    "alts['sector_transport'] = alts['sector_id'].isin([48]).astype(int)\n",
    "alts['sector_arts'] = alts['sector_id'].isin([71]).astype(int)\n",
    "alts['sector_util'] = alts['sector_id'].isin([22]).astype(int)"
   ]
  },
  {
   "cell_type": "markdown",
   "metadata": {},
   "source": [
    "### Simulation with constrained choices"
   ]
  },
  {
   "cell_type": "code",
   "execution_count": 13,
   "metadata": {},
   "outputs": [],
   "source": [
    "model = MultinomialLogitResults(model_expression = m.model_expression, \n",
    "                fitted_parameters = m.fitted_parameters)"
   ]
  },
  {
   "cell_type": "code",
   "execution_count": 14,
   "metadata": {},
   "outputs": [],
   "source": [
    "def mct_callable(obs, alts):\n",
    "    return MergedChoiceTable(obs, alts, sample_size=m.alt_sample_size, interaction_terms=[\n",
    "                            interaction_terms_tt, interaction_terms_dist, interaction_terms_cost])\n",
    "        \n",
    "def probs_callable(mct):\n",
    "    return model.probabilities(mct)"
   ]
  },
  {
   "cell_type": "markdown",
   "metadata": {},
   "source": [
    "#### Iterative Lottery Choices with Sampling"
   ]
  },
  {
   "cell_type": "code",
   "execution_count": 15,
   "metadata": {},
   "outputs": [
    {
     "name": "stdout",
     "output_type": "stream",
     "text": [
      "Iteration 1: 191037 of 3060996 valid choices\n",
      "Iteration 2: 381357 of 3060996 valid choices\n",
      "Iteration 3: 570936 of 3060996 valid choices\n",
      "Iteration 4: 759624 of 3060996 valid choices\n",
      "Iteration 5: 947045 of 3060996 valid choices\n",
      "Iteration 6: 1133057 of 3060996 valid choices\n",
      "Iteration 7: 1317464 of 3060996 valid choices\n",
      "Iteration 8: 1499610 of 3060996 valid choices\n",
      "Iteration 9: 1678750 of 3060996 valid choices\n",
      "Iteration 10: 1854013 of 3060996 valid choices\n",
      "Iteration 11: 2023881 of 3060996 valid choices\n",
      "Iteration 12: 2185574 of 3060996 valid choices\n",
      "Iteration 13: 2333662 of 3060996 valid choices\n",
      "Iteration 14: 2458778 of 3060996 valid choices\n",
      "Iteration 15: 2541441 of 3060996 valid choices\n",
      "Iteration 16: 2574427 of 3060996 valid choices\n",
      "Iteration 17: 2578046 of 3060996 valid choices\n",
      "No valid alternatives for the remaining choosers\n"
     ]
    }
   ],
   "source": [
    "choices = simulation.iterative_lottery_choices(\n",
    "    obs, alts, mct_callable=mct_callable, probs_callable=probs_callable, alt_capacity=m.alt_capacity,\n",
    "    chooser_size=m.chooser_size, max_iter=m.max_iter, chooser_batch_size=200000)"
   ]
  },
  {
   "cell_type": "code",
   "execution_count": 16,
   "metadata": {},
   "outputs": [
    {
     "name": "stdout",
     "output_type": "stream",
     "text": [
      "WLCM placed 2578046 of 3060996 workers 84.2% during simulation.\n"
     ]
    }
   ],
   "source": [
    "print(\"WLCM placed {0} of {1} workers {2}% during simulation.\".format(\n",
    "    len(choices), len(obs), np.round(len(choices)/len(obs) * 100, 1)))"
   ]
  },
  {
   "cell_type": "markdown",
   "metadata": {},
   "source": [
    "### Save results"
   ]
  },
  {
   "cell_type": "code",
   "execution_count": 17,
   "metadata": {},
   "outputs": [],
   "source": [
    "persons = orca.get_table('persons')"
   ]
  },
  {
   "cell_type": "code",
   "execution_count": 18,
   "metadata": {},
   "outputs": [],
   "source": [
    "persons.update_col('job_id', pd.Series())"
   ]
  },
  {
   "cell_type": "code",
   "execution_count": 19,
   "metadata": {},
   "outputs": [],
   "source": [
    "persons.update_col_from_series('job_id', choices, cast=True)"
   ]
  },
  {
   "cell_type": "code",
   "execution_count": 21,
   "metadata": {},
   "outputs": [],
   "source": [
    "persons.to_frame().to_csv('./data/persons_w_jobs_2018_10_26.csv')"
   ]
  },
  {
   "cell_type": "markdown",
   "metadata": {},
   "source": [
    "### Old way"
   ]
  },
  {
   "cell_type": "code",
   "execution_count": 13,
   "metadata": {},
   "outputs": [],
   "source": [
    "dm = patsy.dmatrix(m.model_expression, data=mct_df, return_type='matrix')"
   ]
  },
  {
   "cell_type": "code",
   "execution_count": 12,
   "metadata": {},
   "outputs": [
    {
     "name": "stdout",
     "output_type": "stream",
     "text": [
      "CPU times: user 37.5 s, sys: 8.63 s, total: 46.1 s\n",
      "Wall time: 46.2 s\n"
     ]
    }
   ],
   "source": [
    "%%time\n",
    "dm = patsy.dmatrix(m.model_expression, data=mct_df, return_type='dataframe')"
   ]
  },
  {
   "cell_type": "code",
   "execution_count": 16,
   "metadata": {},
   "outputs": [],
   "source": [
    "probs = mnl.mnl_simulate(data = dm, coeff = m.fitted_parameters, \n",
    "                                 numalts = 10, returnprobs=True)"
   ]
  },
  {
   "cell_type": "code",
   "execution_count": 21,
   "metadata": {},
   "outputs": [],
   "source": [
    "choice_positions = mnl.mnl_simulate(data = dm, coeff = m.fitted_parameters, \n",
    "                                            numalts = 10, returnprobs=False)"
   ]
  },
  {
   "cell_type": "code",
   "execution_count": 24,
   "metadata": {},
   "outputs": [],
   "source": [
    "ids = mct_df.reset_index()['job_id'].tolist()"
   ]
  },
  {
   "cell_type": "code",
   "execution_count": 49,
   "metadata": {},
   "outputs": [],
   "source": [
    "N = len(choice_positions)\n",
    "J = len(ids) // N\n",
    "ids_by_obs = np.reshape(ids, (N,J))\n",
    "choices = [ids_by_obs[i][choice_positions[i]] for i in range(N)]"
   ]
  },
  {
   "cell_type": "code",
   "execution_count": 50,
   "metadata": {},
   "outputs": [],
   "source": [
    "mct_df['probability'] = np.reshape(probs, (probs.size, 1))"
   ]
  },
  {
   "cell_type": "code",
   "execution_count": 55,
   "metadata": {},
   "outputs": [],
   "source": [
    "obs['choice'] = choices"
   ]
  },
  {
   "cell_type": "code",
   "execution_count": 64,
   "metadata": {},
   "outputs": [],
   "source": [
    "persons = orca.get_table('persons').to_frame()"
   ]
  },
  {
   "cell_type": "code",
   "execution_count": 65,
   "metadata": {},
   "outputs": [],
   "source": [
    "merged = pd.merge(persons, obs[['choice']], left_index=True, right_index=True, how='left').rename(columns={'choice': 'job_id'})"
   ]
  },
  {
   "cell_type": "code",
   "execution_count": 70,
   "metadata": {},
   "outputs": [],
   "source": [
    "merged.to_csv('/home/max/projects/ual_model_workspace/fall-2018-models/data/persons_w_jobs_2018_10_16.csv')"
   ]
  }
 ],
 "metadata": {
  "kernelspec": {
   "display_name": "Python 3",
   "language": "python",
   "name": "python3"
  },
  "language_info": {
   "codemirror_mode": {
    "name": "ipython",
    "version": 3
   },
   "file_extension": ".py",
   "mimetype": "text/x-python",
   "name": "python",
   "nbconvert_exporter": "python",
   "pygments_lexer": "ipython3",
   "version": "3.6.6"
  }
 },
 "nbformat": 4,
 "nbformat_minor": 2
}
