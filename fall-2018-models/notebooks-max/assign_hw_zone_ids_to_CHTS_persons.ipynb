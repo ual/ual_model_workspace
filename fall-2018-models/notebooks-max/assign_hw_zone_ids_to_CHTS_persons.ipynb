{
 "cells": [
  {
   "cell_type": "code",
   "execution_count": 14,
   "metadata": {},
   "outputs": [],
   "source": [
    "import pandas as pd\n",
    "import numpy as np\n",
    "from sklearn.neighbors import BallTree"
   ]
  },
  {
   "cell_type": "code",
   "execution_count": 3,
   "metadata": {},
   "outputs": [],
   "source": [
    "import orca\n",
    "import os; os.chdir('../')\n",
    "from scripts import datasources, models, variables\n",
    "import warnings;warnings.simplefilter('ignore')"
   ]
  },
  {
   "cell_type": "code",
   "execution_count": 4,
   "metadata": {},
   "outputs": [
    {
     "name": "stdout",
     "output_type": "stream",
     "text": [
      "Running step 'initialize_network_small'\n",
      "Time to execute step 'initialize_network_small': 0.00 s\n",
      "Running step 'initialize_network_walk'\n",
      "Time to execute step 'initialize_network_walk': 0.00 s\n",
      "Total time to execute iteration 1 with iteration value None: 0.00 s\n"
     ]
    }
   ],
   "source": [
    "orca.run(['initialize_network_small', 'initialize_network_walk'])"
   ]
  },
  {
   "cell_type": "code",
   "execution_count": 5,
   "metadata": {},
   "outputs": [],
   "source": [
    "jobs = orca.get_table('jobs').to_frame()\n",
    "buildings = orca.get_table('buildings').to_frame()\n",
    "parcels = orca.get_table('parcels').to_frame()"
   ]
  },
  {
   "cell_type": "code",
   "execution_count": 8,
   "metadata": {},
   "outputs": [],
   "source": [
    "parcels_rad = np.deg2rad(parcels[['y', 'x']])"
   ]
  },
  {
   "cell_type": "code",
   "execution_count": 9,
   "metadata": {},
   "outputs": [],
   "source": [
    "data_dir = '/home/data/fall_2018/'\n",
    "chts_dir = 'CHTS_csv_format/'\n",
    "chts_persons = pd.read_csv(data_dir + chts_dir + 'data/Deliv_PER.csv', low_memory=False)\n",
    "chts_persons_lookup = pd.read_csv(data_dir + chts_dir + 'data/LookUp_PER.csv')\n",
    "chts_households_lookup = pd.read_csv(data_dir + chts_dir + 'data/LookUp_Home.csv')"
   ]
  },
  {
   "cell_type": "code",
   "execution_count": 12,
   "metadata": {},
   "outputs": [],
   "source": [
    "chts_persons = pd.merge(\n",
    "    chts_persons.set_index(['SAMPN','PERNO']),\n",
    "    chts_persons_lookup.set_index(['SAMPN','PERNO']),\n",
    "    left_index=True, right_index=True,\n",
    "    suffixes=('_persons', '_lookup')).reset_index()\n",
    "\n",
    "chts_persons = pd.merge(\n",
    "    chts_persons.set_index(['SAMPN']),\n",
    "    chts_households_lookup.set_index(['SAMPN']),\n",
    "    left_index=True, right_index=True).reset_index()\n",
    "\n",
    "chts_persons = chts_persons[chts_persons['HCTFIP'].isin([1, 13, 41, 55, 75, 81, 85, 95, 97])].reset_index()"
   ]
  },
  {
   "cell_type": "code",
   "execution_count": 13,
   "metadata": {},
   "outputs": [],
   "source": [
    "persons_work_rad = np.deg2rad(chts_persons[['WYCORD_lookup', 'WXCORD_lookup']])\n",
    "persons_home_rad = np.deg2rad(chts_persons[['HYCORD', 'HXCORD']])"
   ]
  },
  {
   "cell_type": "code",
   "execution_count": 15,
   "metadata": {},
   "outputs": [],
   "source": [
    "tree = BallTree(parcels_rad, metric='haversine')\n",
    "\n",
    "dists, idxs = tree.query(persons_home_rad, return_distance=True)\n",
    "chts_persons['parcel_id_home'] = parcels.iloc[idxs[:,0]].index\n",
    "\n",
    "chts_persons['parcel_id_work'] = None\n",
    "dists, idxs = tree.query(persons_work_rad[~pd.isnull(persons_work_rad['WYCORD_lookup'])], return_distance=True)\n",
    "chts_persons.loc[~pd.isnull(chts_persons['WYCORD_lookup']), 'parcel_id_work'] = parcels.iloc[idxs[:,0]].index"
   ]
  },
  {
   "cell_type": "code",
   "execution_count": 16,
   "metadata": {},
   "outputs": [],
   "source": [
    "tmp_parcels = parcels.reset_index()\n",
    "tmp_parcels['primary_id'] = tmp_parcels['primary_id'].astype(object)"
   ]
  },
  {
   "cell_type": "code",
   "execution_count": 17,
   "metadata": {},
   "outputs": [],
   "source": [
    "chts_persons_w_zone_ids = chts_persons.merge(\n",
    "    parcels, left_on='parcel_id_home', right_index=True).merge(\n",
    "    tmp_parcels, left_on='parcel_id_work', right_on='primary_id', suffixes=('_home', '_work'), how='left')[\n",
    "    list(chts_persons.columns) + ['zone_id_home', 'zone_id_work']]"
   ]
  },
  {
   "cell_type": "code",
   "execution_count": 19,
   "metadata": {},
   "outputs": [],
   "source": [
    "chts_persons_w_zone_ids.to_csv('/home/data/fall_2018/chts_persons_w_zone_ids.csv')"
   ]
  },
  {
   "cell_type": "code",
   "execution_count": null,
   "metadata": {},
   "outputs": [],
   "source": []
  }
 ],
 "metadata": {
  "kernelspec": {
   "display_name": "Python 3",
   "language": "python",
   "name": "python3"
  },
  "language_info": {
   "codemirror_mode": {
    "name": "ipython",
    "version": 3
   },
   "file_extension": ".py",
   "mimetype": "text/x-python",
   "name": "python",
   "nbconvert_exporter": "python",
   "pygments_lexer": "ipython3",
   "version": "3.6.6"
  }
 },
 "nbformat": 4,
 "nbformat_minor": 2
}
