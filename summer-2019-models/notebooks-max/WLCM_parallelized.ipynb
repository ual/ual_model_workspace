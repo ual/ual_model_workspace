{
 "cells": [
  {
   "cell_type": "code",
   "execution_count": 1,
   "metadata": {},
   "outputs": [
    {
     "name": "stdout",
     "output_type": "stream",
     "text": [
      "Registering model step 'auto_ownership'\n",
      "Registering model step 'TOD_choice'\n",
      "Registering model step 'primary_mode_choice'\n",
      "Registering model step 'WLCM'\n"
     ]
    }
   ],
   "source": [
    "import orca\n",
    "import pandas as pd\n",
    "import warnings\n",
    "import time\n",
    "from tqdm import tqdm\n",
    "from matplotlib import pyplot as plt\n",
    "import numpy as np\n",
    "import os; os.chdir('../')\n",
    "from urbansim_templates import modelmanager as mm\n",
    "from urbansim_templates import utils\n",
    "from urbansim_templates.models import LargeMultinomialLogitStep\n",
    "from urbansim.models.util import columns_in_formula\n",
    "import warnings;warnings.simplefilter('ignore')\n",
    "from choicemodels import MultinomialLogit\n",
    "from choicemodels.tools import (MergedChoiceTable, monte_carlo_choices, \n",
    "        iterative_lottery_choices, parallel_lottery_choices, monte_carlo_choices)\n",
    "\n",
    "from scripts import datasources, models, variables\n",
    "\n",
    "%matplotlib inline"
   ]
  },
  {
   "cell_type": "markdown",
   "metadata": {},
   "source": [
    "### Load data"
   ]
  },
  {
   "cell_type": "code",
   "execution_count": 2,
   "metadata": {},
   "outputs": [
    {
     "name": "stdout",
     "output_type": "stream",
     "text": [
      "Running step 'initialize_network_small'\n",
      "Time to execute step 'initialize_network_small': 0.00 s\n",
      "Running step 'initialize_network_walk'\n",
      "Time to execute step 'initialize_network_walk': 0.00 s\n",
      "Total time to execute iteration 1 with iteration value None: 0.00 s\n"
     ]
    }
   ],
   "source": [
    "orca.run(['initialize_network_small', 'initialize_network_walk'])"
   ]
  },
  {
   "cell_type": "code",
   "execution_count": 3,
   "metadata": {},
   "outputs": [
    {
     "data": {
      "text/plain": [
       "<orca.orca.DataFrameWrapper at 0x7fc01e8516a0>"
      ]
     },
     "execution_count": 3,
     "metadata": {},
     "output_type": "execute_result"
    }
   ],
   "source": [
    "walk_net_vars = pd.read_csv('./data/walk_net_vars.csv', index_col='osmid')\n",
    "drive_net_vars = pd.read_csv('./data/drive_net_vars.csv', index_col='osmid')\n",
    "orca.add_table('nodeswalk', walk_net_vars)\n",
    "orca.add_table('nodessmall', drive_net_vars)"
   ]
  },
  {
   "cell_type": "code",
   "execution_count": 4,
   "metadata": {},
   "outputs": [],
   "source": [
    "interaction_terms_tt = pd.read_csv(\n",
    "    './data/WLCM_interaction_terms_tt.csv', index_col=[\n",
    "        'zone_id_home', 'zone_id_work'])\n",
    "interaction_terms_dist = pd.read_csv(\n",
    "    './data/WLCM_interaction_terms_dist.csv', index_col=[\n",
    "        'zone_id_home', 'zone_id_work'])\n",
    "interaction_terms_cost = pd.read_csv(\n",
    "    './data/WLCM_interaction_terms_cost.csv', index_col=[\n",
    "        'zone_id_home', 'zone_id_work'])"
   ]
  },
  {
   "cell_type": "code",
   "execution_count": 5,
   "metadata": {},
   "outputs": [],
   "source": [
    "interaction_terms = [interaction_terms_tt, interaction_terms_dist, interaction_terms_cost]"
   ]
  },
  {
   "cell_type": "markdown",
   "metadata": {},
   "source": [
    "### Prepare data"
   ]
  },
  {
   "cell_type": "code",
   "execution_count": 6,
   "metadata": {},
   "outputs": [],
   "source": [
    "m = mm.get_step('WLCM')"
   ]
  },
  {
   "cell_type": "code",
   "execution_count": 7,
   "metadata": {},
   "outputs": [],
   "source": [
    "uniq_intx_idx_names = set([idx for intx in interaction_terms for idx in intx.index.names])\n",
    "obs_extra_cols = [m.chooser_size] + list(uniq_intx_idx_names)\n",
    "alts_extra_cols = [m.alt_capacity] + list(uniq_intx_idx_names)"
   ]
  },
  {
   "cell_type": "code",
   "execution_count": 8,
   "metadata": {},
   "outputs": [],
   "source": [
    "observations = utils.get_data(\n",
    "    tables = m.out_choosers, \n",
    "    fallback_tables = m.choosers, \n",
    "    filters = m.out_chooser_filters,\n",
    "    model_expression = m.model_expression,\n",
    "    extra_columns = obs_extra_cols)"
   ]
  },
  {
   "cell_type": "code",
   "execution_count": 9,
   "metadata": {},
   "outputs": [],
   "source": [
    "alternatives = utils.get_data(\n",
    "    tables = m.out_alternatives, \n",
    "    fallback_tables = m.alternatives, \n",
    "    filters = m.out_alt_filters,\n",
    "    model_expression = m.model_expression,\n",
    "    extra_columns = alts_extra_cols)"
   ]
  },
  {
   "cell_type": "code",
   "execution_count": 10,
   "metadata": {},
   "outputs": [],
   "source": [
    "expr_cols = columns_in_formula(m.model_expression)\n",
    "\n",
    "obs_cols = set(observations.columns) & set(expr_cols + utils.to_list(obs_extra_cols))\n",
    "observations = observations[list(obs_cols)]\n",
    "\n",
    "alt_cols = set(alternatives.columns) & set(expr_cols + utils.to_list(alts_extra_cols))\n",
    "alternatives = alternatives[list(alt_cols)]"
   ]
  },
  {
   "cell_type": "markdown",
   "metadata": {},
   "source": [
    "### Parallelized `choicemodels` code"
   ]
  },
  {
   "cell_type": "code",
   "execution_count": 11,
   "metadata": {},
   "outputs": [],
   "source": [
    "def mct_callable(obs, alts):\n",
    "    return MergedChoiceTable(\n",
    "        obs, alts,\n",
    "        sample_size=m.alt_sample_size,\n",
    "        interaction_terms=interaction_terms)\n",
    "\n",
    "def probs_callable(mct):\n",
    "    return m.model.probabilities(mct)"
   ]
  },
  {
   "cell_type": "markdown",
   "metadata": {},
   "source": [
    "Choosers: ALL // Alts: 10 // Batch size: 200k"
   ]
  },
  {
   "cell_type": "code",
   "execution_count": 12,
   "metadata": {},
   "outputs": [
    {
     "name": "stderr",
     "output_type": "stream",
     "text": [
      "100%|██████████| 16/16 [01:50<00:00,  6.90s/it]\n"
     ]
    }
   ],
   "source": [
    "choices = parallel_lottery_choices(\n",
    "    observations, alternatives, mct_callable, probs_callable, m.alt_capacity, m.chooser_size,\n",
    "    chooser_batch_size=200000)"
   ]
  },
  {
   "cell_type": "code",
   "execution_count": 13,
   "metadata": {},
   "outputs": [],
   "source": [
    "assert len(np.unique(choices.values)) == len(alternatives) - 1"
   ]
  },
  {
   "cell_type": "markdown",
   "metadata": {},
   "source": [
    "Choosers: 16 // Alts: 10 // Batch size: 1"
   ]
  },
  {
   "cell_type": "code",
   "execution_count": 14,
   "metadata": {},
   "outputs": [],
   "source": [
    "obs = observations.sample(16)"
   ]
  },
  {
   "cell_type": "code",
   "execution_count": 15,
   "metadata": {},
   "outputs": [
    {
     "name": "stderr",
     "output_type": "stream",
     "text": [
      "100%|██████████| 16/16 [00:18<00:00,  1.17s/it]\n"
     ]
    }
   ],
   "source": [
    "choices = parallel_lottery_choices(\n",
    "    obs, alternatives, mct_callable, probs_callable, m.alt_capacity, m.chooser_size,\n",
    "    chooser_batch_size=1)"
   ]
  },
  {
   "cell_type": "code",
   "execution_count": 16,
   "metadata": {},
   "outputs": [],
   "source": [
    "assert len(np.unique(list(choices.values))) == min(len(alternatives) - 1, len(obs))"
   ]
  },
  {
   "cell_type": "markdown",
   "metadata": {},
   "source": [
    "Choosers: 16 // Alts: ALL // Batch size: 1"
   ]
  },
  {
   "cell_type": "code",
   "execution_count": 17,
   "metadata": {},
   "outputs": [],
   "source": [
    "def mct_callable(obs, alts):\n",
    "    return MergedChoiceTable(\n",
    "        obs, alts,\n",
    "        sample_size=len(alts),\n",
    "        interaction_terms=interaction_terms)"
   ]
  },
  {
   "cell_type": "code",
   "execution_count": 18,
   "metadata": {},
   "outputs": [],
   "source": [
    "obs = observations.sample(16)"
   ]
  },
  {
   "cell_type": "code",
   "execution_count": 19,
   "metadata": {},
   "outputs": [
    {
     "name": "stderr",
     "output_type": "stream",
     "text": [
      "100%|██████████| 16/16 [00:35<00:00,  2.24s/it]\n"
     ]
    }
   ],
   "source": [
    "choices = parallel_lottery_choices(\n",
    "    obs, alternatives, mct_callable, probs_callable, m.alt_capacity, m.chooser_size,\n",
    "    chooser_batch_size=1)"
   ]
  },
  {
   "cell_type": "code",
   "execution_count": 20,
   "metadata": {},
   "outputs": [],
   "source": [
    "assert len(np.unique(list(choices.values))) == min(len(alternatives) - 1, len(obs))"
   ]
  },
  {
   "cell_type": "markdown",
   "metadata": {},
   "source": [
    "Choosers: 16 // Alts: ALL // Batch size: 16"
   ]
  },
  {
   "cell_type": "code",
   "execution_count": 12,
   "metadata": {},
   "outputs": [],
   "source": [
    "def mct_callable(obs, alts):\n",
    "    return MergedChoiceTable(\n",
    "        obs, alts,\n",
    "        sample_size=len(alts),\n",
    "        interaction_terms=interaction_terms)"
   ]
  },
  {
   "cell_type": "code",
   "execution_count": 13,
   "metadata": {},
   "outputs": [],
   "source": [
    "obs = observations.sample(16)"
   ]
  },
  {
   "cell_type": "code",
   "execution_count": 14,
   "metadata": {},
   "outputs": [
    {
     "name": "stderr",
     "output_type": "stream",
     "text": [
      "100%|██████████| 1/1 [05:23<00:00, 323.21s/it]\n"
     ]
    }
   ],
   "source": [
    "choices = parallel_lottery_choices(\n",
    "    obs, alternatives, mct_callable, probs_callable, m.alt_capacity, m.chooser_size,\n",
    "    chooser_batch_size=16)"
   ]
  },
  {
   "cell_type": "markdown",
   "metadata": {},
   "source": [
    "Choosers: 300 // Alts: ALL // Batch size: 15"
   ]
  },
  {
   "cell_type": "code",
   "execution_count": 21,
   "metadata": {},
   "outputs": [],
   "source": [
    "obs = observations.sample(32)"
   ]
  },
  {
   "cell_type": "code",
   "execution_count": 22,
   "metadata": {},
   "outputs": [],
   "source": [
    "def mct_callable(obs, alts):\n",
    "    return MergedChoiceTable(\n",
    "        obs, alts,\n",
    "        sample_size=len(alts),\n",
    "        interaction_terms=interaction_terms)"
   ]
  },
  {
   "cell_type": "code",
   "execution_count": 23,
   "metadata": {},
   "outputs": [
    {
     "name": "stderr",
     "output_type": "stream",
     "text": [
      "  0%|          | 0/16 [00:00<?, ?it/s]Process Process-62:\n",
      "Traceback (most recent call last):\n",
      "  File \"/home/max/anaconda3/envs/wlcm/lib/python3.6/multiprocessing/process.py\", line 258, in _bootstrap\n",
      "    self.run()\n",
      "  File \"/home/max/anaconda3/envs/wlcm/lib/python3.6/multiprocessing/process.py\", line 93, in run\n",
      "    self._target(*self._args, **self._kwargs)\n",
      "  File \"/home/max/projects/choicemodels/choicemodels/tools/simulation.py\", line 308, in _parallel_lottery_choices_worker\n",
      "    probs = probs_callable(mct)\n",
      "  File \"<ipython-input-11-6545052b8ef7>\", line 8, in probs_callable\n",
      "    return m.model.probabilities(mct)\n",
      "  File \"/home/max/projects/choicemodels/choicemodels/mnl.py\", line 313, in probabilities\n",
      "    dm = dmatrix(self.model_expression, data=df)\n",
      "  File \"/home/max/anaconda3/envs/wlcm/lib/python3.6/site-packages/patsy/highlevel.py\", line 291, in dmatrix\n",
      "    NA_action, return_type)\n",
      "  File \"/home/max/anaconda3/envs/wlcm/lib/python3.6/site-packages/patsy/highlevel.py\", line 169, in _do_highlevel_design\n",
      "    return_type=return_type)\n",
      "  File \"/home/max/anaconda3/envs/wlcm/lib/python3.6/site-packages/patsy/build.py\", line 933, in build_design_matrices\n",
      "    dtype))\n",
      "  File \"/home/max/anaconda3/envs/wlcm/lib/python3.6/site-packages/patsy/build.py\", line 762, in _build_design_matrix\n",
      "    m = DesignMatrix(np.empty(shape, dtype=dtype), design_info)\n",
      "MemoryError\n",
      "100%|██████████| 16/16 [01:11<00:00,  4.45s/it]\n"
     ]
    }
   ],
   "source": [
    "choices = parallel_lottery_choices(\n",
    "    obs, alternatives, mct_callable, probs_callable, m.alt_capacity, m.chooser_size,\n",
    "    chooser_batch_size=2)"
   ]
  },
  {
   "cell_type": "code",
   "execution_count": 25,
   "metadata": {},
   "outputs": [
    {
     "data": {
      "text/plain": [
       "30"
      ]
     },
     "execution_count": 25,
     "metadata": {},
     "output_type": "execute_result"
    }
   ],
   "source": [
    "len(choices)"
   ]
  },
  {
   "cell_type": "code",
   "execution_count": null,
   "metadata": {},
   "outputs": [],
   "source": []
  }
 ],
 "metadata": {
  "kernelspec": {
   "display_name": "Python 3",
   "language": "python",
   "name": "python3"
  },
  "language_info": {
   "codemirror_mode": {
    "name": "ipython",
    "version": 3
   },
   "file_extension": ".py",
   "mimetype": "text/x-python",
   "name": "python",
   "nbconvert_exporter": "python",
   "pygments_lexer": "ipython3",
   "version": "3.6.7"
  }
 },
 "nbformat": 4,
 "nbformat_minor": 2
}
