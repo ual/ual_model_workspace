{
 "cells": [
  {
   "cell_type": "code",
   "execution_count": 1,
   "metadata": {},
   "outputs": [],
   "source": [
    "import pandas as pd\n",
    "import numpy as np\n",
    "import pandana as pdna"
   ]
  },
  {
   "cell_type": "code",
   "execution_count": 2,
   "metadata": {},
   "outputs": [],
   "source": [
    "from urbansim_templates import modelmanager as mm\n",
    "from urbansim_templates.models import LargeMultinomialLogitStep\n",
    "\n",
    "import orca\n",
    "import os; os.chdir('../')\n",
    "import warnings;warnings.simplefilter('ignore')"
   ]
  },
  {
   "cell_type": "code",
   "execution_count": 3,
   "metadata": {},
   "outputs": [],
   "source": [
    "%matplotlib inline"
   ]
  },
  {
   "cell_type": "markdown",
   "metadata": {},
   "source": [
    "### Required runtime Orca injectables"
   ]
  },
  {
   "cell_type": "code",
   "execution_count": 4,
   "metadata": {},
   "outputs": [],
   "source": [
    "data_mode = 'csv'\n",
    "local_data_dir = '/home/data/spring_2019/base/'\n",
    "csv_fnames = {\n",
    "    'parcels': 'parcel_attr.csv',\n",
    "    'buildings': 'buildings_v2.csv',\n",
    "    'jobs': 'jobs_v2.csv',\n",
    "    'establishments': 'establishments_v2.csv',\n",
    "    'households': 'households_v2.csv',\n",
    "    'persons': 'persons_v3.csv',\n",
    "    'rentals': 'MTC_craigslist_listings_7-10-18.csv',\n",
    "    'units': 'units_v2.csv',\n",
    "    'skims': 'skims_110118.csv',\n",
    "    'drive_nodes': 'bay_area_tertiary_strongly_nodes.csv',\n",
    "    'drive_edges': 'bay_area_tertiary_strongly_edges.csv',\n",
    "    'drive_access_vars': 'drive_net_vars.csv',\n",
    "    'walk_nodes': 'bayarea_walk_nodes.csv',\n",
    "    'walk_edges': 'bayarea_walk_edges.csv',\n",
    "    'walk_access_vars': 'walk_net_vars.csv',\n",
    "}"
   ]
  },
  {
   "cell_type": "code",
   "execution_count": 5,
   "metadata": {},
   "outputs": [],
   "source": [
    "orca.add_injectable('data_mode', data_mode)\n",
    "orca.add_injectable('csv_fnames', csv_fnames)\n",
    "orca.add_injectable('store', None)\n",
    "orca.add_injectable('s3_input_data_url', None)\n",
    "orca.add_injectable('local_data_dir', local_data_dir)"
   ]
  },
  {
   "cell_type": "markdown",
   "metadata": {},
   "source": [
    "### Load Data"
   ]
  },
  {
   "cell_type": "code",
   "execution_count": 6,
   "metadata": {},
   "outputs": [
    {
     "name": "stdout",
     "output_type": "stream",
     "text": [
      "Registering model step 'auto_ownership'\n",
      "Registering model step 'TOD_choice'\n",
      "Registering model step 'primary_mode_choice'\n",
      "Registering model step 'ELCM_finance'\n",
      "Registering model step 'WLCM'\n"
     ]
    }
   ],
   "source": [
    "from scripts import datasources, models, variables"
   ]
  },
  {
   "cell_type": "markdown",
   "metadata": {},
   "source": [
    "Accessibility Variables"
   ]
  },
  {
   "cell_type": "code",
   "execution_count": 7,
   "metadata": {},
   "outputs": [
    {
     "name": "stdout",
     "output_type": "stream",
     "text": [
      "Running step 'initialize_network_small'\n",
      "Time to execute step 'initialize_network_small': 0.00 s\n",
      "Running step 'initialize_network_walk'\n",
      "Time to execute step 'initialize_network_walk': 0.00 s\n",
      "Total time to execute iteration 1 with iteration value None: 0.00 s\n"
     ]
    }
   ],
   "source": [
    "orca.run(['initialize_network_small','initialize_network_walk'])"
   ]
  },
  {
   "cell_type": "code",
   "execution_count": 8,
   "metadata": {},
   "outputs": [
    {
     "data": {
      "text/plain": [
       "<orca.orca.DataFrameWrapper at 0x7f0855b84240>"
      ]
     },
     "execution_count": 8,
     "metadata": {},
     "output_type": "execute_result"
    }
   ],
   "source": [
    "# if network vars have been previously computed and saved:\n",
    "walk_net_vars = pd.read_csv(\n",
    "    local_data_dir + csv_fnames['walk_access_vars'],\n",
    "    index_col='osmid')\n",
    "drive_net_vars = pd.read_csv(\n",
    "    local_data_dir + csv_fnames['drive_access_vars'],\n",
    "    index_col='osmid')\n",
    "orca.add_table('nodeswalk', walk_net_vars)\n",
    "orca.add_table('nodessmall', drive_net_vars)"
   ]
  },
  {
   "cell_type": "code",
   "execution_count": 10,
   "metadata": {},
   "outputs": [],
   "source": [
    "# # else\n",
    "# orca.run(['network_aggregations_small', 'network_aggregations_walk'])\n",
    "# orca.get_table('nodeswalk').to_frame().to_csv(\n",
    "#     local_data_dir + csv_fnames['walk_access_vars'])\n",
    "# orca.get_table('nodessmall').to_frame().to_csv(\n",
    "#     local_data_dir + csv_fnames['drive_access_vars'])"
   ]
  },
  {
   "cell_type": "markdown",
   "metadata": {},
   "source": [
    "### List data tables and columns"
   ]
  },
  {
   "cell_type": "code",
   "execution_count": 153,
   "metadata": {},
   "outputs": [
    {
     "name": "stdout",
     "output_type": "stream",
     "text": [
      "PARCELS\n",
      "['development_type_id', 'land_value', 'acres', 'county_id', 'zone_id', 'proportion_undevelopable', 'tax_exempt_status', 'apn', 'parcel_id_local', 'geom_id', 'imputation_flag', 'x', 'y', 'shape_area', 'block_id', 'node_id', 'node_id_small', 'node_id_walk', 'average_income_20', 'above_jobs_20', 'above_jobs_40', 'above_jobs_60', 'below_jobs_20', 'below_jobs_40', 'below_jobs_60', 'employment_20', 'employment_40', 'employment_60', 'population_20', 'population_40', 'population_60']\n",
      "\n",
      "BUILDINGS\n",
      "['parcel_id', 'development_type_id', 'improvement_value', 'residential_units', 'residential_sqft', 'sqft_per_unit', 'non_residential_sqft', 'building_sqft', 'nonres_rent_per_sqft', 'res_price_per_sqft', 'stories', 'year_built', 'redfin_sale_price', 'redfin_sale_year', 'redfin_home_type', 'costar_property_type', 'costar_rent', 'building_type_id', 'res_sqft_per_unit', 'node_id_small', 'node_id_walk']\n",
      "\n",
      "JOBS\n",
      "['building_id', 'sector_id', 'occupation_id', 'node_id_small', 'node_id_walk', 'sector_retail', 'sector_healthcare', 'sector_tech', 'sector_food_and_hosp', 'sector_mfg', 'sector_edu_serv', 'sector_oth_serv', 'sector_constr', 'sector_gov', 'sector_fire', 'sector_whlsale', 'sector_admin', 'sector_transport', 'sector_arts', 'sector_util', 'parcel_id', 'zone_id_work', 'finance', 'info', 'scitech']\n",
      "\n",
      "ESTABLISHMENTS\n",
      "['name', 'street', 'city', 'state', 'zip', 'naics', 'sic', 'sales_vol', 'hdbrch', 'employees', 'frncod', 'iscode', 'sqftcode', 'loc_name', 'status', 'score', 'source', 'primary_id', 'building_id', 'sector_id']\n",
      "\n",
      "HOUSEHOLDS\n",
      "['serialno', 'persons', 'building_type', 'cars', 'income', 'race_of_head', 'hispanic_head', 'age_of_head', 'workers', 'state', 'county', 'tract', 'block_group', 'children', 'tenure', 'recent_mover', 'block_group_id', 'single_family', 'unit_id', 'building_id', 'node_id_small', 'node_id_walk', 'hh_inc_under_25k', 'hh_inc_25_to_75k', 'hh_inc_75_to_200k', 'income_2', 'income_4', 'income_6', 'income_8', 'income_10', 'income_12', 'income_12p', 'tenure_1', 'tenure_2', 'tenure_3', 'tenure_4', 'single_family_int', 'building_type_2', 'hh_inc_150kplus', 'hh_size_1per']\n",
      "\n",
      "PERSONS\n",
      "['member_id', 'age', 'primary_commute_mode', 'relate', 'edu', 'sex', 'hours', 'hispanic', 'earning', 'race_id', 'student', 'work_at_home', 'worker', 'household_id', 'node_id_small', 'node_id_walk', 'no_higher_ed', 'age_under_45', 'zone_id_home', 'lessGED', 'GED', 'somebach', 'Assoc', 'Bach', 'female', 'white', 'minority', 'age_16less25']\n",
      "\n",
      "RENTALS\n",
      "['date', 'region', 'neighborhood', 'rent', 'bedrooms', 'sqft', 'rent_sqft', 'longitude', 'latitude', 'county', 'fips_block', 'state', 'bathrooms', 'node_id_small', 'node_id_walk']\n",
      "\n",
      "UNITS\n",
      "['building_id', 'num_units', 'tenure', 'unit_num', 'unit_residential_price', 'unit_residential_rent', 'node_id_small', 'node_id_walk']\n",
      "\n",
      "ACCESS_INDICATORS_AMPEAK\n",
      "['above_jobs_20', 'above_jobs_40', 'above_jobs_60', 'average_income_20', 'below_jobs_20', 'below_jobs_40', 'below_jobs_60', 'employment_20', 'employment_40', 'employment_60', 'population_20', 'population_40', 'population_60']\n",
      "\n",
      "SKIMS\n",
      "['orig', 'dest', 'da_distance_EA', 'daToll_distance_EA', 's2_distance_EA', 's2Toll_distance_EA', 's3_distance_EA', 's3Toll_distance_EA', 'walk_distance_EA', 'bike_distance_EA', 'da_distance_AM', 'daToll_distance_AM', 's2_distance_AM', 's2Toll_distance_AM', 's3_distance_AM', 's3Toll_distance_AM', 'walk_distance_AM', 'bike_distance_AM', 'da_distance_MD', 'daToll_distance_MD', 's2_distance_MD', 's2Toll_distance_MD', 's3_distance_MD', 's3Toll_distance_MD', 'walk_distance_MD', 'bike_distance_MD', 'da_distance_PM', 'daToll_distance_PM', 's2_distance_PM', 's2Toll_distance_PM', 's3_distance_PM', 's3Toll_distance_PM', 'walk_distance_PM', 'bike_distance_PM', 'da_distance_EV', 'daToll_distance_EV', 's2_distance_EV', 's2Toll_distance_EV', 's3_distance_EV', 's3Toll_distance_EV', 'walk_distance_EV', 'bike_distance_EV', 'da_cost_EA', 'daToll_cost_EA', 's2_cost_EA', 's2Toll_cost_EA', 's3_cost_EA', 's3Toll_cost_EA', 'wTrnW_cost_EA', 'dTrnW_cost_EA', 'wTrnD_cost_EA', 'da_cost_AM', 'daToll_cost_AM', 's2_cost_AM', 's2Toll_cost_AM', 's3_cost_AM', 's3Toll_cost_AM', 'wTrnW_cost_AM', 'dTrnW_cost_AM', 'wTrnD_cost_AM', 'da_cost_MD', 'daToll_cost_MD', 's2_cost_MD', 's2Toll_cost_MD', 's3_cost_MD', 's3Toll_cost_MD', 'wTrnW_cost_MD', 'dTrnW_cost_MD', 'wTrnD_cost_MD', 'da_cost_PM', 'daToll_cost_PM', 's2_cost_PM', 's2Toll_cost_PM', 's3_cost_PM', 's3Toll_cost_PM', 'wTrnW_cost_PM', 'dTrnW_cost_PM', 'wTrnD_cost_PM', 'da_cost_EV', 'daToll_cost_EV', 's2_cost_EV', 's2Toll_cost_EV', 's3_cost_EV', 's3Toll_cost_EV', 'wTrnW_cost_EV', 'dTrnW_cost_EV', 'wTrnD_cost_EV', 'da_Time_EA', 'daToll_Time_EA', 's2_Time_EA', 's2Toll_Time_EA', 's3_Time_EA', 's3Toll_Time_EA', 'walk_Time_EA', 'bike_Time_EA', 'wTrnW_Time_EA', 'dTrnW_Time_EA', 'wTrnD_Time_EA', 'da_Time_AM', 'daToll_Time_AM', 's2_Time_AM', 's2Toll_Time_AM', 's3_Time_AM', 's3Toll_Time_AM', 'walk_Time_AM', 'bike_Time_AM', 'wTrnW_Time_AM', 'dTrnW_Time_AM', 'wTrnD_Time_AM', 'da_Time_MD', 'daToll_Time_MD', 's2_Time_MD', 's2Toll_Time_MD', 's3_Time_MD', 's3Toll_Time_MD', 'walk_Time_MD', 'bike_Time_MD', 'wTrnW_Time_MD', 'dTrnW_Time_MD', 'wTrnD_Time_MD', 'da_Time_PM', 'daToll_Time_PM', 's2_Time_PM', 's2Toll_Time_PM', 's3_Time_PM', 's3Toll_Time_PM', 'walk_Time_PM', 'bike_Time_PM', 'wTrnW_Time_PM', 'dTrnW_Time_PM', 'wTrnD_Time_PM', 'da_Time_EV', 'daToll_Time_EV', 's2_Time_EV', 's2Toll_Time_EV', 's3_Time_EV', 's3Toll_Time_EV', 'walk_Time_EV', 'bike_Time_EV', 'wTrnW_Time_EV', 'dTrnW_Time_EV', 'wTrnD_Time_EV']\n",
      "\n",
      "NODESWALK\n",
      "['nonres_sqft_2500', 'sqft_2500', 'units_500_walk', 'sqft_unit_500_walk', 'singles_500_walk', 'elderly_hh_500_walk', 'children_500_walk', 'units_sf_500_walk', 'units_mf_500_walk', 'pop_500_walk', 'hh_500_walk', 'poor_500_walk', 'rich_500_walk', 'renters_500_walk', 'avg_income_500_walk', 'jobs_500_walk', 'avg_rent_500_walk', 'pop_white_500_walk', 'pop_black_500_walk', 'pop_asian_500_walk', 'pop_hisp_500_walk', 'units_1500_walk', 'sqft_unit_1500_walk', 'singles_1500_walk', 'elderly_hh_1500_walk', 'children_1500_walk', 'units_sf_1500_walk', 'units_mf_1500_walk', 'pop_1500_walk', 'hh_1500_walk', 'poor_1500_walk', 'rich_1500_walk', 'renters_1500_walk', 'avg_income_1500_walk', 'jobs_1500_walk', 'avg_rent_1500_walk', 'pop_white_1500_walk', 'pop_black_1500_walk', 'pop_asian_1500_walk', 'pop_hisp_1500_walk', 'pop_2500_walk', 'pop_white_2500_walk', 'pop_black_2500_walk', 'pop_asian_2500_walk', 'pop_hisp_2500_walk', 'jobs_500_walk_retail', 'jobs_1500_walk_retail', 'jobs_2500_walk_retail', 'jobs_500_walk_fire', 'jobs_1500_walk_fire', 'jobs_2500_walk_fire', 'jobs_500_walk_finance', 'jobs_1500_walk_finance', 'jobs_2500_walk_finance', 'jobs_500_walk_tech', 'jobs_1500_walk_tech', 'jobs_2500_walk_tech', 'jobs_500_walk_serv', 'jobs_1500_walk_serv', 'jobs_2500_walk_serv', 'prop_children_500_walk', 'prop_singles_500_walk', 'prop_elderly_500_walk', 'prop_black_500_walk', 'prop_white_500_walk', 'prop_asian_500_walk', 'prop_hisp_500_walk', 'prop_rich_500_walk', 'prop_poor_500_walk', 'prop_children_1500_walk', 'prop_singles_1500_walk', 'prop_elderly_1500_walk', 'prop_black_1500_walk', 'prop_white_1500_walk', 'prop_asian_1500_walk', 'prop_hisp_1500_walk', 'prop_rich_1500_walk', 'prop_poor_1500_walk', 'pop_jobs_ratio_1500_walk', 'avg_hhs_500_walk', 'avg_hhs_1500_walk']\n",
      "\n",
      "NODESSMALL\n",
      "['nonres_sqft_10000', 'sqft_10000', 'units_10000', 'units_sf_10000', 'units_mf_10000', 'pop_10000', 'hh_10000', 'poor_10000', 'renters_10000', 'avg_income_10000', 'jobs_10000', 'avg_rent_10000', 'med_rent_10000', 'pop_white_10000', 'pop_black_10000', 'pop_asian_10000', 'pop_hisp_10000', 'units_25000', 'units_sf_25000', 'units_mf_25000', 'pop_25000', 'hh_25000', 'poor_25000', 'renters_25000', 'avg_income_25000', 'jobs_25000', 'avg_rent_25000', 'pop_white_25000', 'pop_black_25000', 'pop_asian_25000', 'pop_hisp_25000', 'jobs_10000_retail', 'jobs_25000_retail', 'jobs_10000_fire', 'jobs_25000_fire', 'jobs_10000_finance', 'jobs_25000_finance', 'jobs_10000_tech', 'jobs_25000_tech', 'jobs_10000_serv', 'jobs_25000_serv', 'pop_jobs_ratio_10000', 'pop_jobs_ratio_25000']\n",
      "\n"
     ]
    }
   ],
   "source": [
    "for table_name in orca.list_tables():\n",
    "\n",
    "    print(table_name.upper())\n",
    "    print(orca.get_table(table_name).to_frame().columns.tolist())\n",
    "        \n",
    "    print()"
   ]
  },
  {
   "cell_type": "code",
   "execution_count": 12,
   "metadata": {},
   "outputs": [],
   "source": [
    "f = mm.get_step('ELCM_finance')"
   ]
  },
  {
   "cell_type": "code",
   "execution_count": 14,
   "metadata": {},
   "outputs": [],
   "source": [
    "latest_exp = f.model_expression"
   ]
  },
  {
   "cell_type": "code",
   "execution_count": 15,
   "metadata": {},
   "outputs": [
    {
     "data": {
      "text/plain": [
       "'np.log1p(avg_income_500_walk) + nonres_rent_per_sqft*np.log1p(jobs_10000) + np.log1p(jobs_500_walk)*np.log1p(jobs_10000_retail) + np.log1p(jobs_2500_walk_finance) + np.log1p(units_mf_1500_walk) + np.log1p(units_sf_10000) + np.log1p(land_value)*nonres_rent_per_sqft + nonres_rent_per_sqft/np.log1p(sales_vol) + np.log1p(nonres_sqft_2500)/np.log1p(sqft_2500) + np.log1p(pop_10000)'"
      ]
     },
     "execution_count": 15,
     "metadata": {},
     "output_type": "execute_result"
    }
   ],
   "source": [
    "latest_exp"
   ]
  },
  {
   "cell_type": "markdown",
   "metadata": {},
   "source": [
    "### Make an ELCM for retail model"
   ]
  },
  {
   "cell_type": "code",
   "execution_count": 61,
   "metadata": {},
   "outputs": [],
   "source": [
    "m = LargeMultinomialLogitStep()\n",
    "m.name = 'ELCM_finance'"
   ]
  },
  {
   "cell_type": "code",
   "execution_count": 79,
   "metadata": {},
   "outputs": [],
   "source": [
    "m.chooser_filters = ['sector_id == 52']\n",
    "\n",
    "m.choosers = ['establishments']\n",
    "m.alternatives = ['buildings', 'parcels', 'nodessmall', 'nodeswalk']\n",
    "m.choice_column = 'building_id'\n",
    "\n",
    "m.alt_sample_size = 100\n",
    "m.alt_filters = ['0 < jobs_25000 < 1000000']"
   ]
  },
  {
   "cell_type": "code",
   "execution_count": 56,
   "metadata": {
    "scrolled": false
   },
   "outputs": [],
   "source": [
    "m.model_expression = ('np.log1p(avg_income_500_walk) + np.log1p(pop_2500_walk) + nonres_rent_per_sqft + '\n",
    "                      'np.log1p(jobs_10000) + np.log1p(jobs_500_walk_retail) + '\n",
    "                      'np.log1p(jobs_1500_walk_fire) + np.log1p(jobs_10000_tech) + '\n",
    "                      'np.log1p(jobs_1500_walk_serv) + np.log1p(jobs_2500_walk_finance)'\n",
    "                     )"
   ]
  },
  {
   "cell_type": "code",
   "execution_count": 57,
   "metadata": {},
   "outputs": [
    {
     "name": "stdout",
     "output_type": "stream",
     "text": [
      "                  CHOICEMODELS ESTIMATION RESULTS                  \n",
      "===================================================================\n",
      "Dep. Var.:                chosen   No. Observations:         15,588\n",
      "Model:         Multinomial Logit   Df Residuals:             15,578\n",
      "Method:       Maximum Likelihood   Df Model:                     10\n",
      "Date:                 2019-05-22   Pseudo R-squ.:             0.459\n",
      "Time:                      14:58   Pseudo R-bar-squ.:         0.458\n",
      "AIC:                  77,759.780   Log-Likelihood:      -38,869.890\n",
      "BIC:                  77,836.323   LL-Null:             -71,785.393\n",
      "=====================================================================================\n",
      "                                      coef   std err         z     P>|z|   Conf. Int.\n",
      "-------------------------------------------------------------------------------------\n",
      "Intercept                          -0.0000     0.173    -0.000     1.000             \n",
      "np.log1p(avg_income_500_walk)      -0.0397     0.004   -11.115     0.000             \n",
      "np.log1p(pop_2500_walk)            -0.3153     0.011   -28.833     0.000             \n",
      "nonres_rent_per_sqft                0.1702     0.001   211.521     0.000             \n",
      "np.log1p(jobs_10000)                0.8487     0.032    26.316     0.000             \n",
      "np.log1p(jobs_500_walk_retail)      0.1905     0.007    28.815     0.000             \n",
      "np.log1p(jobs_1500_walk_fire)      -0.1516     0.025    -6.176     0.000             \n",
      "np.log1p(jobs_10000_tech)          -0.5308     0.024   -22.042     0.000             \n",
      "np.log1p(jobs_1500_walk_serv)      -0.1397     0.010   -13.487     0.000             \n",
      "np.log1p(jobs_1500_walk_finance)    0.3967     0.020    19.852     0.000             \n",
      "=====================================================================================\n"
     ]
    }
   ],
   "source": [
    "m.fit()"
   ]
  },
  {
   "cell_type": "code",
   "execution_count": 89,
   "metadata": {},
   "outputs": [],
   "source": [
    "m.model_expression = ('np.log1p(avg_income_500_walk) + np.log1p(pop_2500_walk) + nonres_rent_per_sqft + '\n",
    "                      'np.log1p(jobs_500_walk) + np.log1p(jobs_2500_walk_finance)'\n",
    "                      ' + np.log1p(units_mf_1500_walk) + np.log1p(units_sf_10000)'\n",
    "                     )"
   ]
  },
  {
   "cell_type": "code",
   "execution_count": 90,
   "metadata": {},
   "outputs": [
    {
     "name": "stdout",
     "output_type": "stream",
     "text": [
      "                  CHOICEMODELS ESTIMATION RESULTS                  \n",
      "===================================================================\n",
      "Dep. Var.:                chosen   No. Observations:         15,588\n",
      "Model:         Multinomial Logit   Df Residuals:             15,580\n",
      "Method:       Maximum Likelihood   Df Model:                      8\n",
      "Date:                 2019-05-22   Pseudo R-squ.:             0.460\n",
      "Time:                      15:27   Pseudo R-bar-squ.:         0.460\n",
      "AIC:                  77,484.754   Log-Likelihood:      -38,734.377\n",
      "BIC:                  77,545.988   LL-Null:             -71,785.393\n",
      "=====================================================================================\n",
      "                                      coef   std err         z     P>|z|   Conf. Int.\n",
      "-------------------------------------------------------------------------------------\n",
      "Intercept                          -0.0000     0.171    -0.000     1.000             \n",
      "np.log1p(avg_income_500_walk)      -0.0194     0.004    -5.255     0.000             \n",
      "np.log1p(pop_2500_walk)            -0.3353     0.013   -26.330     0.000             \n",
      "nonres_rent_per_sqft                0.1675     0.001   207.874     0.000             \n",
      "np.log1p(jobs_500_walk)             0.3363     0.007    46.008     0.000             \n",
      "np.log1p(jobs_2500_walk_finance)    0.0502     0.008     6.154     0.000             \n",
      "np.log1p(units_mf_1500_walk)       -0.0774     0.007   -10.532     0.000             \n",
      "np.log1p(units_sf_10000)            0.4157     0.014    30.659     0.000             \n",
      "=====================================================================================\n"
     ]
    }
   ],
   "source": [
    "m.fit()"
   ]
  },
  {
   "cell_type": "code",
   "execution_count": 105,
   "metadata": {},
   "outputs": [],
   "source": [
    "m.model_expression = ('np.log1p(avg_income_500_walk) + np.log1p(pop_2500_walk) + nonres_rent_per_sqft + '\n",
    "                      'np.log1p(jobs_500_walk)/np.log1p(jobs_10000_retail) + np.log1p(jobs_2500_walk_finance)'\n",
    "                      ' + np.log1p(units_mf_1500_walk) + np.log1p(units_sf_10000)'\n",
    "                     )"
   ]
  },
  {
   "cell_type": "code",
   "execution_count": 106,
   "metadata": {},
   "outputs": [
    {
     "name": "stdout",
     "output_type": "stream",
     "text": [
      "                  CHOICEMODELS ESTIMATION RESULTS                  \n",
      "===================================================================\n",
      "Dep. Var.:                chosen   No. Observations:         15,588\n",
      "Model:         Multinomial Logit   Df Residuals:             15,579\n",
      "Method:       Maximum Likelihood   Df Model:                      9\n",
      "Date:                 2019-05-22   Pseudo R-squ.:             0.461\n",
      "Time:                      15:37   Pseudo R-bar-squ.:         0.461\n",
      "AIC:                  77,353.610   Log-Likelihood:      -38,667.805\n",
      "BIC:                  77,422.498   LL-Null:             -71,785.393\n",
      "========================================================================================================\n",
      "                                                         coef   std err         z     P>|z|   Conf. Int.\n",
      "--------------------------------------------------------------------------------------------------------\n",
      "Intercept                                             -0.0000     0.253    -0.000     1.000             \n",
      "np.log1p(avg_income_500_walk)                         -0.0137     0.004    -3.694     0.000             \n",
      "np.log1p(pop_2500_walk)                               -0.3566     0.013   -28.400     0.000             \n",
      "nonres_rent_per_sqft                                   0.1684     0.001   204.826     0.000             \n",
      "np.log1p(jobs_500_walk)                                0.4396     0.017    25.739     0.000             \n",
      "np.log1p(jobs_500_walk):np.log1p(jobs_10000_retail)   -0.0113     0.002    -6.408     0.000             \n",
      "np.log1p(jobs_2500_walk_finance)                       0.0675     0.009     7.643     0.000             \n",
      "np.log1p(units_mf_1500_walk)                          -0.0806     0.007   -10.986     0.000             \n",
      "np.log1p(units_sf_10000)                               0.5336     0.022    23.893     0.000             \n",
      "========================================================================================================\n"
     ]
    }
   ],
   "source": [
    "m.fit()"
   ]
  },
  {
   "cell_type": "code",
   "execution_count": 123,
   "metadata": {},
   "outputs": [],
   "source": [
    "m.model_expression = ('np.log1p(avg_income_500_walk) + nonres_rent_per_sqft/np.log1p(jobs_10000) + '\n",
    "                      'np.log1p(jobs_500_walk)/np.log1p(jobs_10000_retail) + np.log1p(jobs_2500_walk_finance)'\n",
    "                      ' + np.log1p(units_mf_1500_walk) + np.log1p(units_sf_10000)'\n",
    "                     )"
   ]
  },
  {
   "cell_type": "code",
   "execution_count": 124,
   "metadata": {},
   "outputs": [
    {
     "name": "stdout",
     "output_type": "stream",
     "text": [
      "                  CHOICEMODELS ESTIMATION RESULTS                  \n",
      "===================================================================\n",
      "Dep. Var.:                chosen   No. Observations:         15,588\n",
      "Model:         Multinomial Logit   Df Residuals:             15,579\n",
      "Method:       Maximum Likelihood   Df Model:                      9\n",
      "Date:                 2019-05-22   Pseudo R-squ.:             0.472\n",
      "Time:                      15:48   Pseudo R-bar-squ.:         0.472\n",
      "AIC:                  75,807.301   Log-Likelihood:      -37,894.651\n",
      "BIC:                  75,876.189   LL-Null:             -71,785.393\n",
      "========================================================================================================\n",
      "                                                         coef   std err         z     P>|z|   Conf. Int.\n",
      "--------------------------------------------------------------------------------------------------------\n",
      "Intercept                                             -0.0000     0.247    -0.000     1.000             \n",
      "np.log1p(avg_income_500_walk)                         -0.0413     0.004   -11.467     0.000             \n",
      "nonres_rent_per_sqft                                   0.5968     0.007    81.370     0.000             \n",
      "nonres_rent_per_sqft:np.log1p(jobs_10000)             -0.0370     0.001   -58.644     0.000             \n",
      "np.log1p(jobs_500_walk)                               -0.0791     0.017    -4.599     0.000             \n",
      "np.log1p(jobs_500_walk):np.log1p(jobs_10000_retail)    0.0413     0.002    22.832     0.000             \n",
      "np.log1p(jobs_2500_walk_finance)                       0.0804     0.009     8.924     0.000             \n",
      "np.log1p(units_mf_1500_walk)                          -0.1733     0.006   -28.081     0.000             \n",
      "np.log1p(units_sf_10000)                               0.6367     0.022    29.587     0.000             \n",
      "========================================================================================================\n"
     ]
    }
   ],
   "source": [
    "m.fit()"
   ]
  },
  {
   "cell_type": "code",
   "execution_count": 129,
   "metadata": {},
   "outputs": [],
   "source": [
    "m.model_expression = ('np.log1p(avg_income_500_walk) + nonres_rent_per_sqft/np.log1p(jobs_10000) + '\n",
    "                      'np.log1p(jobs_500_walk)/np.log1p(jobs_10000_retail) + np.log1p(jobs_2500_walk_finance) + '\n",
    "                      'np.log1p(units_mf_1500_walk) + np.log1p(units_sf_10000) + '\n",
    "                      'np.log1p(jobs_10000_serv)'\n",
    "                     )"
   ]
  },
  {
   "cell_type": "code",
   "execution_count": 130,
   "metadata": {},
   "outputs": [
    {
     "name": "stdout",
     "output_type": "stream",
     "text": [
      "                  CHOICEMODELS ESTIMATION RESULTS                  \n",
      "===================================================================\n",
      "Dep. Var.:                chosen   No. Observations:         15,588\n",
      "Model:         Multinomial Logit   Df Residuals:             15,578\n",
      "Method:       Maximum Likelihood   Df Model:                     10\n",
      "Date:                 2019-05-23   Pseudo R-squ.:             0.474\n",
      "Time:                      08:01   Pseudo R-bar-squ.:         0.474\n",
      "AIC:                  75,530.960   Log-Likelihood:      -37,755.480\n",
      "BIC:                  75,607.502   LL-Null:             -71,785.393\n",
      "========================================================================================================\n",
      "                                                         coef   std err         z     P>|z|   Conf. Int.\n",
      "--------------------------------------------------------------------------------------------------------\n",
      "Intercept                                             -0.0000     0.260    -0.000     1.000             \n",
      "np.log1p(avg_income_500_walk)                         -0.0453     0.004   -12.565     0.000             \n",
      "nonres_rent_per_sqft                                   0.5950     0.008    78.549     0.000             \n",
      "nonres_rent_per_sqft:np.log1p(jobs_10000)             -0.0368     0.001   -56.578     0.000             \n",
      "np.log1p(jobs_500_walk)                               -0.1910     0.023    -8.401     0.000             \n",
      "np.log1p(jobs_500_walk):np.log1p(jobs_10000_retail)    0.0524     0.002    21.753     0.000             \n",
      "np.log1p(jobs_2500_walk_finance)                       0.0927     0.009    10.159     0.000             \n",
      "np.log1p(units_mf_1500_walk)                          -0.1630     0.006   -26.220     0.000             \n",
      "np.log1p(units_sf_10000)                               0.7166     0.023    30.952     0.000             \n",
      "np.log1p(jobs_10000_serv)                             -0.1609     0.022    -7.252     0.000             \n",
      "========================================================================================================\n"
     ]
    }
   ],
   "source": [
    "m.fit()"
   ]
  },
  {
   "cell_type": "code",
   "execution_count": 131,
   "metadata": {},
   "outputs": [],
   "source": [
    "m.model_expression = ('np.log1p(avg_income_500_walk) + nonres_rent_per_sqft/np.log1p(jobs_10000) + '\n",
    "                      'np.log1p(jobs_500_walk)/np.log1p(jobs_10000_retail) + np.log1p(jobs_2500_walk_finance) + '\n",
    "                      'np.log1p(units_mf_1500_walk) + np.log1p(units_sf_10000) + '\n",
    "                      'np.log1p(jobs_10000_serv) + np.log1p(land_value)'\n",
    "                     )"
   ]
  },
  {
   "cell_type": "code",
   "execution_count": 133,
   "metadata": {},
   "outputs": [
    {
     "name": "stdout",
     "output_type": "stream",
     "text": [
      "                  CHOICEMODELS ESTIMATION RESULTS                  \n",
      "===================================================================\n",
      "Dep. Var.:                chosen   No. Observations:         15,588\n",
      "Model:         Multinomial Logit   Df Residuals:             15,577\n",
      "Method:       Maximum Likelihood   Df Model:                     11\n",
      "Date:                 2019-05-23   Pseudo R-squ.:             0.484\n",
      "Time:                      08:03   Pseudo R-bar-squ.:         0.484\n",
      "AIC:                  74,054.631   Log-Likelihood:      -37,016.315\n",
      "BIC:                  74,138.828   LL-Null:             -71,785.393\n",
      "========================================================================================================\n",
      "                                                         coef   std err         z     P>|z|   Conf. Int.\n",
      "--------------------------------------------------------------------------------------------------------\n",
      "Intercept                                             -0.0000     0.265    -0.000     1.000             \n",
      "np.log1p(avg_income_500_walk)                         -0.0337     0.004    -9.247     0.000             \n",
      "nonres_rent_per_sqft                                   0.5642     0.008    73.367     0.000             \n",
      "nonres_rent_per_sqft:np.log1p(jobs_10000)             -0.0349     0.001   -52.944     0.000             \n",
      "np.log1p(jobs_500_walk)                               -0.1055     0.023    -4.521     0.000             \n",
      "np.log1p(jobs_500_walk):np.log1p(jobs_10000_retail)    0.0432     0.002    17.414     0.000             \n",
      "np.log1p(jobs_2500_walk_finance)                       0.0450     0.009     4.816     0.000             \n",
      "np.log1p(units_mf_1500_walk)                          -0.1294     0.006   -20.438     0.000             \n",
      "np.log1p(units_sf_10000)                               0.7461     0.023    32.293     0.000             \n",
      "np.log1p(jobs_10000_serv)                             -0.1700     0.023    -7.511     0.000             \n",
      "np.log1p(land_value)                                   0.2062     0.003    71.756     0.000             \n",
      "========================================================================================================\n"
     ]
    }
   ],
   "source": [
    "m.fit()"
   ]
  },
  {
   "cell_type": "code",
   "execution_count": 147,
   "metadata": {},
   "outputs": [],
   "source": [
    "m.model_expression = ('np.log1p(avg_income_500_walk) + nonres_rent_per_sqft/np.log1p(jobs_10000) + '\n",
    "                      'np.log1p(jobs_500_walk)/np.log1p(jobs_10000_retail) + np.log1p(jobs_2500_walk_finance) + '\n",
    "                      'np.log1p(units_mf_1500_walk) + np.log1p(units_sf_10000) + '\n",
    "                      'np.log1p(jobs_10000_serv) + np.log1p(land_value) + nonres_rent_per_sqft/np.log1p(sales_vol)'\n",
    "                     )"
   ]
  },
  {
   "cell_type": "code",
   "execution_count": 148,
   "metadata": {},
   "outputs": [
    {
     "name": "stdout",
     "output_type": "stream",
     "text": [
      "                  CHOICEMODELS ESTIMATION RESULTS                  \n",
      "===================================================================\n",
      "Dep. Var.:                chosen   No. Observations:         15,588\n",
      "Model:         Multinomial Logit   Df Residuals:             15,576\n",
      "Method:       Maximum Likelihood   Df Model:                     12\n",
      "Date:                 2019-05-23   Pseudo R-squ.:             0.485\n",
      "Time:                      08:37   Pseudo R-bar-squ.:         0.484\n",
      "AIC:                  74,027.801   Log-Likelihood:      -37,001.900\n",
      "BIC:                  74,119.652   LL-Null:             -71,785.393\n",
      "========================================================================================================\n",
      "                                                         coef   std err         z     P>|z|   Conf. Int.\n",
      "--------------------------------------------------------------------------------------------------------\n",
      "Intercept                                             -0.0000     0.259    -0.000     1.000             \n",
      "np.log1p(avg_income_500_walk)                         -0.0347     0.004    -9.436     0.000             \n",
      "nonres_rent_per_sqft                                   0.5716     0.008    73.621     0.000             \n",
      "nonres_rent_per_sqft:np.log1p(jobs_10000)             -0.0345     0.001   -51.961     0.000             \n",
      "np.log1p(jobs_500_walk)                               -0.1376     0.023    -5.977     0.000             \n",
      "np.log1p(jobs_500_walk):np.log1p(jobs_10000_retail)    0.0460     0.002    18.741     0.000             \n",
      "np.log1p(jobs_2500_walk_finance)                       0.0566     0.009     6.017     0.000             \n",
      "np.log1p(units_mf_1500_walk)                          -0.1305     0.006   -20.599     0.000             \n",
      "np.log1p(units_sf_10000)                               0.7132     0.023    31.632     0.000             \n",
      "np.log1p(jobs_10000_serv)                             -0.1784     0.023    -7.818     0.000             \n",
      "np.log1p(land_value)                                   0.2082     0.003    72.504     0.000             \n",
      "nonres_rent_per_sqft:np.log1p(sales_vol)              -0.0026     0.000   -21.355     0.000             \n",
      "========================================================================================================\n"
     ]
    }
   ],
   "source": [
    "m.fit()"
   ]
  },
  {
   "cell_type": "code",
   "execution_count": 173,
   "metadata": {},
   "outputs": [],
   "source": [
    "m.model_expression = ('np.log1p(avg_income_500_walk) + nonres_rent_per_sqft*np.log1p(jobs_10000) + '\n",
    "                      'np.log1p(jobs_500_walk)*np.log1p(jobs_10000_retail) + np.log1p(jobs_2500_walk_finance) + '\n",
    "                      'np.log1p(units_mf_1500_walk) + np.log1p(units_sf_10000) + '\n",
    "                      'np.log1p(land_value)*nonres_rent_per_sqft + '\n",
    "                      'nonres_rent_per_sqft/np.log1p(sales_vol) + '\n",
    "                      'np.log1p(nonres_sqft_2500)/np.log1p(sqft_2500) + np.log1p(pop_10000)'\n",
    "                     )"
   ]
  },
  {
   "cell_type": "code",
   "execution_count": 13,
   "metadata": {
    "scrolled": true
   },
   "outputs": [
    {
     "data": {
      "text/plain": [
       "'np.log1p(avg_income_500_walk) + nonres_rent_per_sqft*np.log1p(jobs_10000) + np.log1p(jobs_500_walk)*np.log1p(jobs_10000_retail) + np.log1p(jobs_2500_walk_finance) + np.log1p(units_mf_1500_walk) + np.log1p(units_sf_10000) + np.log1p(land_value)*nonres_rent_per_sqft + nonres_rent_per_sqft/np.log1p(sales_vol) + np.log1p(nonres_sqft_2500)/np.log1p(sqft_2500) + np.log1p(pop_10000)'"
      ]
     },
     "execution_count": 13,
     "metadata": {},
     "output_type": "execute_result"
    }
   ],
   "source": [
    "f.model_expression"
   ]
  },
  {
   "cell_type": "code",
   "execution_count": 174,
   "metadata": {},
   "outputs": [
    {
     "name": "stdout",
     "output_type": "stream",
     "text": [
      "                  CHOICEMODELS ESTIMATION RESULTS                  \n",
      "===================================================================\n",
      "Dep. Var.:                chosen   No. Observations:         15,588\n",
      "Model:         Multinomial Logit   Df Residuals:             15,571\n",
      "Method:       Maximum Likelihood   Df Model:                     17\n",
      "Date:                 2019-05-23   Pseudo R-squ.:             0.497\n",
      "Time:                      13:56   Pseudo R-bar-squ.:         0.496\n",
      "AIC:                  72,305.008   Log-Likelihood:      -36,135.504\n",
      "BIC:                  72,435.131   LL-Null:             -71,785.393\n",
      "========================================================================================================\n",
      "                                                         coef   std err         z     P>|z|   Conf. Int.\n",
      "--------------------------------------------------------------------------------------------------------\n",
      "Intercept                                              0.0000     0.385     0.000     1.000             \n",
      "np.log1p(avg_income_500_walk)                         -0.0214     0.004    -5.503     0.000             \n",
      "nonres_rent_per_sqft                                   0.5881     0.008    69.314     0.000             \n",
      "np.log1p(jobs_10000)                                   0.1423     0.046     3.075     0.002             \n",
      "nonres_rent_per_sqft:np.log1p(jobs_10000)             -0.0298     0.001   -42.155     0.000             \n",
      "np.log1p(jobs_500_walk)                                0.2639     0.033     7.934     0.000             \n",
      "np.log1p(jobs_10000_retail)                           -0.3116     0.048    -6.469     0.000             \n",
      "np.log1p(jobs_500_walk):np.log1p(jobs_10000_retail)    0.0248     0.003     7.248     0.000             \n",
      "np.log1p(jobs_2500_walk_finance)                       0.2675     0.011    24.213     0.000             \n",
      "np.log1p(units_mf_1500_walk)                          -0.0409     0.007    -5.795     0.000             \n",
      "np.log1p(units_sf_10000)                              -0.3845     0.056    -6.905     0.000             \n",
      "np.log1p(land_value)                                   0.3181     0.005    66.477     0.000             \n",
      "np.log1p(land_value):nonres_rent_per_sqft             -0.0066     0.000   -25.375     0.000             \n",
      "nonres_rent_per_sqft:np.log1p(sales_vol)              -0.0031     0.000   -24.680     0.000             \n",
      "np.log1p(nonres_sqft_2500)                             0.7538     0.035    21.746     0.000             \n",
      "np.log1p(nonres_sqft_2500):np.log1p(sqft_2500)        -0.0485     0.001   -37.657     0.000             \n",
      "np.log1p(pop_10000)                                    1.0624     0.061    17.450     0.000             \n",
      "========================================================================================================\n"
     ]
    }
   ],
   "source": [
    "m.fit()"
   ]
  },
  {
   "cell_type": "code",
   "execution_count": 175,
   "metadata": {},
   "outputs": [
    {
     "name": "stdout",
     "output_type": "stream",
     "text": [
      "Saving 'ELCM_finance.yaml': /home/max/projects/ual_model_workspace/summer-2019-models/configs\n",
      "Registering model step 'ELCM_finance'\n"
     ]
    }
   ],
   "source": [
    "mm.register(m)"
   ]
  },
  {
   "cell_type": "code",
   "execution_count": null,
   "metadata": {},
   "outputs": [],
   "source": []
  }
 ],
 "metadata": {
  "kernelspec": {
   "display_name": "Python 3",
   "language": "python",
   "name": "python3"
  },
  "language_info": {
   "codemirror_mode": {
    "name": "ipython",
    "version": 3
   },
   "file_extension": ".py",
   "mimetype": "text/x-python",
   "name": "python",
   "nbconvert_exporter": "python",
   "pygments_lexer": "ipython3",
   "version": "3.6.7"
  }
 },
 "nbformat": 4,
 "nbformat_minor": 2
}
