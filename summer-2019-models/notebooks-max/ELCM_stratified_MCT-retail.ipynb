{
 "cells": [
  {
   "cell_type": "code",
   "execution_count": 1,
   "metadata": {},
   "outputs": [],
   "source": [
    "import pandas as pd\n",
    "import numpy as np\n",
    "\n",
    "from urbansim_templates import modelmanager as mm\n",
    "from urbansim_templates.models import LargeMultinomialLogitStep\n",
    "from urbansim_templates.utils import get_data\n",
    "from choicemodels import MultinomialLogit\n",
    "from choicemodels.tools import MergedChoiceTable\n",
    "\n",
    "import orca\n",
    "import os; os.chdir('../')\n",
    "import warnings;warnings.simplefilter('ignore')"
   ]
  },
  {
   "cell_type": "code",
   "execution_count": 2,
   "metadata": {},
   "outputs": [],
   "source": [
    "from urbansim.utils import misc"
   ]
  },
  {
   "cell_type": "markdown",
   "metadata": {},
   "source": [
    "### Load data"
   ]
  },
  {
   "cell_type": "code",
   "execution_count": 3,
   "metadata": {},
   "outputs": [],
   "source": [
    "data_mode = 'csv'\n",
    "local_data_dir = '/home/data/spring_2019/base/'\n",
    "csv_fnames = {\n",
    "    'parcels': 'parcels.csv',\n",
    "    'buildings': 'buildings.csv',\n",
    "    'jobs': 'jobs.csv',\n",
    "    'establishments': 'establishments.csv',\n",
    "    'households': 'households.csv',\n",
    "    'persons': 'persons.csv',\n",
    "    'rentals': 'craigslist.csv',\n",
    "    'units': 'units.csv',\n",
    "    'skims': 'mtc_skims.csv',\n",
    "    'drive_nodes': 'drive_nodes.csv',\n",
    "    'drive_edges': 'drive_edges.csv',\n",
    "    'drive_access_vars': 'drive_net_vars.csv',\n",
    "    'walk_nodes': 'walk_nodes.csv',\n",
    "    'walk_edges': 'walk_edges.csv',\n",
    "    'walk_access_vars': 'walk_net_vars.csv',\n",
    "}\n",
    "orca.add_injectable('data_mode', data_mode)\n",
    "orca.add_injectable('csv_fnames', csv_fnames)\n",
    "orca.add_injectable('store', None)\n",
    "orca.add_injectable('s3_input_data_url', None)\n",
    "orca.add_injectable('local_data_dir', local_data_dir)"
   ]
  },
  {
   "cell_type": "code",
   "execution_count": 4,
   "metadata": {},
   "outputs": [
    {
     "name": "stdout",
     "output_type": "stream",
     "text": [
      "Registering model step 'auto_ownership'\n",
      "Registering model step 'TOD_choice'\n",
      "Registering model step 'primary_mode_choice'\n",
      "Registering model step 'ELCM_finance'\n",
      "Registering model step 'WLCM'\n"
     ]
    }
   ],
   "source": [
    "from scripts import datasources, models, variables"
   ]
  },
  {
   "cell_type": "code",
   "execution_count": 5,
   "metadata": {},
   "outputs": [
    {
     "name": "stdout",
     "output_type": "stream",
     "text": [
      "Running step 'initialize_network_small'\n",
      "Time to execute step 'initialize_network_small': 0.00 s\n",
      "Running step 'initialize_network_walk'\n",
      "Time to execute step 'initialize_network_walk': 0.00 s\n",
      "Total time to execute iteration 1 with iteration value None: 0.00 s\n"
     ]
    }
   ],
   "source": [
    "orca.run(['initialize_network_small','initialize_network_walk'])"
   ]
  },
  {
   "cell_type": "code",
   "execution_count": 6,
   "metadata": {},
   "outputs": [
    {
     "data": {
      "text/plain": [
       "<orca.orca.DataFrameWrapper at 0x7f6cb6fa0080>"
      ]
     },
     "execution_count": 6,
     "metadata": {},
     "output_type": "execute_result"
    }
   ],
   "source": [
    "# if network vars have been previously computed and saved:\n",
    "walk_net_vars = pd.read_csv(\n",
    "    local_data_dir + csv_fnames['walk_access_vars'],\n",
    "    index_col='osmid')\n",
    "drive_net_vars = pd.read_csv(\n",
    "    local_data_dir + csv_fnames['drive_access_vars'],\n",
    "    index_col='osmid')\n",
    "orca.add_table('nodeswalk', walk_net_vars)\n",
    "orca.add_table('nodessmall', drive_net_vars)"
   ]
  },
  {
   "cell_type": "markdown",
   "metadata": {},
   "source": [
    "### Get observations"
   ]
  },
  {
   "cell_type": "code",
   "execution_count": 7,
   "metadata": {},
   "outputs": [],
   "source": [
    "elcm_retail = mm.get_step('ELCM_finance')"
   ]
  },
  {
   "cell_type": "code",
   "execution_count": 8,
   "metadata": {},
   "outputs": [
    {
     "data": {
      "text/plain": [
       "'building_id'"
      ]
     },
     "execution_count": 8,
     "metadata": {},
     "output_type": "execute_result"
    }
   ],
   "source": [
    "elcm_retail.choice_column"
   ]
  },
  {
   "cell_type": "code",
   "execution_count": 9,
   "metadata": {},
   "outputs": [
    {
     "data": {
      "text/plain": [
       "'establishments'"
      ]
     },
     "execution_count": 9,
     "metadata": {},
     "output_type": "execute_result"
    }
   ],
   "source": [
    "elcm_retail.choosers"
   ]
  },
  {
   "cell_type": "code",
   "execution_count": 10,
   "metadata": {},
   "outputs": [
    {
     "data": {
      "text/plain": [
       "['sector_id == 52']"
      ]
     },
     "execution_count": 10,
     "metadata": {},
     "output_type": "execute_result"
    }
   ],
   "source": [
    "elcm_retail.chooser_filters"
   ]
  },
  {
   "cell_type": "code",
   "execution_count": 11,
   "metadata": {},
   "outputs": [
    {
     "data": {
      "text/plain": [
       "'np.log1p(avg_income_500_walk) + nonres_rent_per_sqft*np.log1p(jobs_10000) + np.log1p(jobs_500_walk)*np.log1p(jobs_10000_retail) + np.log1p(jobs_2500_walk_finance) + np.log1p(units_mf_1500_walk) + np.log1p(units_sf_10000) + np.log1p(land_value)*nonres_rent_per_sqft + nonres_rent_per_sqft/np.log1p(sales_vol) + np.log1p(nonres_sqft_2500)/np.log1p(sqft_2500) + np.log1p(pop_10000)'"
      ]
     },
     "execution_count": 11,
     "metadata": {},
     "output_type": "execute_result"
    }
   ],
   "source": [
    "elcm_retail.model_expression"
   ]
  },
  {
   "cell_type": "code",
   "execution_count": 109,
   "metadata": {},
   "outputs": [],
   "source": [
    "obs = get_data(\n",
    "    tables=elcm_retail.choosers, filters=elcm_retail.chooser_filters,\n",
    "    model_expression=elcm_retail.model_expression, extra_columns=elcm_retail.choice_column\n",
    ")"
   ]
  },
  {
   "cell_type": "code",
   "execution_count": 110,
   "metadata": {},
   "outputs": [
    {
     "data": {
      "text/html": [
       "<div>\n",
       "<style scoped>\n",
       "    .dataframe tbody tr th:only-of-type {\n",
       "        vertical-align: middle;\n",
       "    }\n",
       "\n",
       "    .dataframe tbody tr th {\n",
       "        vertical-align: top;\n",
       "    }\n",
       "\n",
       "    .dataframe thead th {\n",
       "        text-align: right;\n",
       "    }\n",
       "</style>\n",
       "<table border=\"1\" class=\"dataframe\">\n",
       "  <thead>\n",
       "    <tr style=\"text-align: right;\">\n",
       "      <th></th>\n",
       "      <th>building_id</th>\n",
       "      <th>sector_id</th>\n",
       "      <th>sales_vol</th>\n",
       "    </tr>\n",
       "    <tr>\n",
       "      <th>establishment_id</th>\n",
       "      <th></th>\n",
       "      <th></th>\n",
       "      <th></th>\n",
       "    </tr>\n",
       "  </thead>\n",
       "  <tbody>\n",
       "    <tr>\n",
       "      <th>23</th>\n",
       "      <td>1200840</td>\n",
       "      <td>52</td>\n",
       "      <td>18642.0</td>\n",
       "    </tr>\n",
       "    <tr>\n",
       "      <th>54</th>\n",
       "      <td>1200551</td>\n",
       "      <td>52</td>\n",
       "      <td>1434.0</td>\n",
       "    </tr>\n",
       "    <tr>\n",
       "      <th>55</th>\n",
       "      <td>1200840</td>\n",
       "      <td>52</td>\n",
       "      <td>1434.0</td>\n",
       "    </tr>\n",
       "    <tr>\n",
       "      <th>105</th>\n",
       "      <td>78135</td>\n",
       "      <td>52</td>\n",
       "      <td>0.0</td>\n",
       "    </tr>\n",
       "    <tr>\n",
       "      <th>106</th>\n",
       "      <td>1291617</td>\n",
       "      <td>52</td>\n",
       "      <td>0.0</td>\n",
       "    </tr>\n",
       "  </tbody>\n",
       "</table>\n",
       "</div>"
      ],
      "text/plain": [
       "                  building_id  sector_id  sales_vol\n",
       "establishment_id                                   \n",
       "23                    1200840         52    18642.0\n",
       "54                    1200551         52     1434.0\n",
       "55                    1200840         52     1434.0\n",
       "105                     78135         52        0.0\n",
       "106                   1291617         52        0.0"
      ]
     },
     "execution_count": 110,
     "metadata": {},
     "output_type": "execute_result"
    }
   ],
   "source": [
    "obs.head()"
   ]
  },
  {
   "cell_type": "markdown",
   "metadata": {},
   "source": [
    "### Get alternatives"
   ]
  },
  {
   "cell_type": "code",
   "execution_count": 14,
   "metadata": {},
   "outputs": [
    {
     "data": {
      "text/plain": [
       "['buildings', 'parcels', 'nodessmall', 'nodeswalk']"
      ]
     },
     "execution_count": 14,
     "metadata": {},
     "output_type": "execute_result"
    }
   ],
   "source": [
    "elcm_retail.alternatives"
   ]
  },
  {
   "cell_type": "code",
   "execution_count": 41,
   "metadata": {},
   "outputs": [
    {
     "data": {
      "text/plain": [
       "['0 < jobs_25000 < 1000000', 'node_id_small == node_id_small']"
      ]
     },
     "execution_count": 41,
     "metadata": {},
     "output_type": "execute_result"
    }
   ],
   "source": [
    "elcm_retail.alt_filters + ['node_id_small == node_id_small']"
   ]
  },
  {
   "cell_type": "code",
   "execution_count": 16,
   "metadata": {},
   "outputs": [
    {
     "data": {
      "text/plain": [
       "'np.log1p(avg_income_500_walk) + nonres_rent_per_sqft*np.log1p(jobs_10000) + np.log1p(jobs_500_walk)*np.log1p(jobs_10000_retail) + np.log1p(jobs_2500_walk_finance) + np.log1p(units_mf_1500_walk) + np.log1p(units_sf_10000) + np.log1p(land_value)*nonres_rent_per_sqft + nonres_rent_per_sqft/np.log1p(sales_vol) + np.log1p(nonres_sqft_2500)/np.log1p(sqft_2500) + np.log1p(pop_10000)'"
      ]
     },
     "execution_count": 16,
     "metadata": {},
     "output_type": "execute_result"
    }
   ],
   "source": [
    "elcm_retail.model_expression"
   ]
  },
  {
   "cell_type": "code",
   "execution_count": 42,
   "metadata": {},
   "outputs": [],
   "source": [
    "alts = get_data(\n",
    "    tables = elcm_retail.alternatives, filters = elcm_retail.alt_filters + ['node_id_small == node_id_small'], \n",
    "    model_expression = elcm_retail.model_expression, extra_columns='node_id_small')"
   ]
  },
  {
   "cell_type": "code",
   "execution_count": 43,
   "metadata": {},
   "outputs": [],
   "source": [
    "alts.reset_index(inplace=True)"
   ]
  },
  {
   "cell_type": "code",
   "execution_count": 44,
   "metadata": {},
   "outputs": [
    {
     "data": {
      "text/html": [
       "<div>\n",
       "<style scoped>\n",
       "    .dataframe tbody tr th:only-of-type {\n",
       "        vertical-align: middle;\n",
       "    }\n",
       "\n",
       "    .dataframe tbody tr th {\n",
       "        vertical-align: top;\n",
       "    }\n",
       "\n",
       "    .dataframe thead th {\n",
       "        text-align: right;\n",
       "    }\n",
       "</style>\n",
       "<table border=\"1\" class=\"dataframe\">\n",
       "  <thead>\n",
       "    <tr style=\"text-align: right;\">\n",
       "      <th></th>\n",
       "      <th>building_id</th>\n",
       "      <th>node_id_small</th>\n",
       "      <th>jobs_500_walk</th>\n",
       "      <th>land_value</th>\n",
       "      <th>nonres_rent_per_sqft</th>\n",
       "      <th>avg_income_500_walk</th>\n",
       "      <th>jobs_25000</th>\n",
       "      <th>jobs_10000</th>\n",
       "      <th>units_sf_10000</th>\n",
       "      <th>sqft_2500</th>\n",
       "      <th>pop_10000</th>\n",
       "      <th>jobs_10000_retail</th>\n",
       "      <th>nonres_sqft_2500</th>\n",
       "      <th>jobs_2500_walk_finance</th>\n",
       "      <th>units_mf_1500_walk</th>\n",
       "    </tr>\n",
       "  </thead>\n",
       "  <tbody>\n",
       "    <tr>\n",
       "      <th>0</th>\n",
       "      <td>1</td>\n",
       "      <td>110407631</td>\n",
       "      <td>146582.0</td>\n",
       "      <td>5706.00</td>\n",
       "      <td>0.0</td>\n",
       "      <td>106636.341155</td>\n",
       "      <td>108367.0</td>\n",
       "      <td>40439.0</td>\n",
       "      <td>24928.0</td>\n",
       "      <td>4.235416e+08</td>\n",
       "      <td>83693.0</td>\n",
       "      <td>5624.0</td>\n",
       "      <td>111884117.0</td>\n",
       "      <td>7319.0</td>\n",
       "      <td>48024.0</td>\n",
       "    </tr>\n",
       "    <tr>\n",
       "      <th>1</th>\n",
       "      <td>2</td>\n",
       "      <td>407087343</td>\n",
       "      <td>146582.0</td>\n",
       "      <td>429.00</td>\n",
       "      <td>0.0</td>\n",
       "      <td>106636.341155</td>\n",
       "      <td>92884.0</td>\n",
       "      <td>21043.0</td>\n",
       "      <td>15628.0</td>\n",
       "      <td>4.235416e+08</td>\n",
       "      <td>49805.0</td>\n",
       "      <td>2911.0</td>\n",
       "      <td>111884117.0</td>\n",
       "      <td>7319.0</td>\n",
       "      <td>48024.0</td>\n",
       "    </tr>\n",
       "    <tr>\n",
       "      <th>2</th>\n",
       "      <td>3</td>\n",
       "      <td>65545753</td>\n",
       "      <td>1.0</td>\n",
       "      <td>23662.13</td>\n",
       "      <td>0.0</td>\n",
       "      <td>151178.224806</td>\n",
       "      <td>669839.0</td>\n",
       "      <td>231023.0</td>\n",
       "      <td>109907.0</td>\n",
       "      <td>4.949167e+07</td>\n",
       "      <td>459476.0</td>\n",
       "      <td>32814.0</td>\n",
       "      <td>8552002.0</td>\n",
       "      <td>124.0</td>\n",
       "      <td>2490.0</td>\n",
       "    </tr>\n",
       "    <tr>\n",
       "      <th>3</th>\n",
       "      <td>7</td>\n",
       "      <td>1695636890</td>\n",
       "      <td>693.0</td>\n",
       "      <td>0.00</td>\n",
       "      <td>0.0</td>\n",
       "      <td>164983.076923</td>\n",
       "      <td>628975.0</td>\n",
       "      <td>132509.0</td>\n",
       "      <td>34929.0</td>\n",
       "      <td>1.798210e+07</td>\n",
       "      <td>143267.0</td>\n",
       "      <td>19094.0</td>\n",
       "      <td>8212156.0</td>\n",
       "      <td>61.0</td>\n",
       "      <td>435.0</td>\n",
       "    </tr>\n",
       "    <tr>\n",
       "      <th>4</th>\n",
       "      <td>9</td>\n",
       "      <td>110407631</td>\n",
       "      <td>146582.0</td>\n",
       "      <td>413329.00</td>\n",
       "      <td>0.0</td>\n",
       "      <td>106636.341155</td>\n",
       "      <td>108367.0</td>\n",
       "      <td>40439.0</td>\n",
       "      <td>24928.0</td>\n",
       "      <td>4.235416e+08</td>\n",
       "      <td>83693.0</td>\n",
       "      <td>5624.0</td>\n",
       "      <td>111884117.0</td>\n",
       "      <td>7319.0</td>\n",
       "      <td>48024.0</td>\n",
       "    </tr>\n",
       "  </tbody>\n",
       "</table>\n",
       "</div>"
      ],
      "text/plain": [
       "   building_id  node_id_small  jobs_500_walk  land_value  \\\n",
       "0            1      110407631       146582.0     5706.00   \n",
       "1            2      407087343       146582.0      429.00   \n",
       "2            3       65545753            1.0    23662.13   \n",
       "3            7     1695636890          693.0        0.00   \n",
       "4            9      110407631       146582.0   413329.00   \n",
       "\n",
       "   nonres_rent_per_sqft  avg_income_500_walk  jobs_25000  jobs_10000  \\\n",
       "0                   0.0        106636.341155    108367.0     40439.0   \n",
       "1                   0.0        106636.341155     92884.0     21043.0   \n",
       "2                   0.0        151178.224806    669839.0    231023.0   \n",
       "3                   0.0        164983.076923    628975.0    132509.0   \n",
       "4                   0.0        106636.341155    108367.0     40439.0   \n",
       "\n",
       "   units_sf_10000     sqft_2500  pop_10000  jobs_10000_retail  \\\n",
       "0         24928.0  4.235416e+08    83693.0             5624.0   \n",
       "1         15628.0  4.235416e+08    49805.0             2911.0   \n",
       "2        109907.0  4.949167e+07   459476.0            32814.0   \n",
       "3         34929.0  1.798210e+07   143267.0            19094.0   \n",
       "4         24928.0  4.235416e+08    83693.0             5624.0   \n",
       "\n",
       "   nonres_sqft_2500  jobs_2500_walk_finance  units_mf_1500_walk  \n",
       "0       111884117.0                  7319.0             48024.0  \n",
       "1       111884117.0                  7319.0             48024.0  \n",
       "2         8552002.0                   124.0              2490.0  \n",
       "3         8212156.0                    61.0               435.0  \n",
       "4       111884117.0                  7319.0             48024.0  "
      ]
     },
     "execution_count": 44,
     "metadata": {},
     "output_type": "execute_result"
    }
   ],
   "source": [
    "alts.head()"
   ]
  },
  {
   "cell_type": "code",
   "execution_count": 45,
   "metadata": {},
   "outputs": [
    {
     "data": {
      "text/plain": [
       "(1824150, 15)"
      ]
     },
     "execution_count": 45,
     "metadata": {},
     "output_type": "execute_result"
    }
   ],
   "source": [
    "alts.shape"
   ]
  },
  {
   "cell_type": "markdown",
   "metadata": {},
   "source": [
    "### Load node-based location quotients for retail"
   ]
  },
  {
   "cell_type": "code",
   "execution_count": 21,
   "metadata": {},
   "outputs": [],
   "source": [
    "lq = pd.read_csv('data/nodes_w_establishment_lq.csv', usecols=['osmid', 'retail_lq'])"
   ]
  },
  {
   "cell_type": "code",
   "execution_count": 22,
   "metadata": {},
   "outputs": [
    {
     "data": {
      "text/html": [
       "<div>\n",
       "<style scoped>\n",
       "    .dataframe tbody tr th:only-of-type {\n",
       "        vertical-align: middle;\n",
       "    }\n",
       "\n",
       "    .dataframe tbody tr th {\n",
       "        vertical-align: top;\n",
       "    }\n",
       "\n",
       "    .dataframe thead th {\n",
       "        text-align: right;\n",
       "    }\n",
       "</style>\n",
       "<table border=\"1\" class=\"dataframe\">\n",
       "  <thead>\n",
       "    <tr style=\"text-align: right;\">\n",
       "      <th></th>\n",
       "      <th>osmid</th>\n",
       "      <th>retail_lq</th>\n",
       "    </tr>\n",
       "  </thead>\n",
       "  <tbody>\n",
       "    <tr>\n",
       "      <th>0</th>\n",
       "      <td>281266</td>\n",
       "      <td>0.312298</td>\n",
       "    </tr>\n",
       "    <tr>\n",
       "      <th>1</th>\n",
       "      <td>302878</td>\n",
       "      <td>0.428800</td>\n",
       "    </tr>\n",
       "    <tr>\n",
       "      <th>2</th>\n",
       "      <td>302883</td>\n",
       "      <td>0.298295</td>\n",
       "    </tr>\n",
       "    <tr>\n",
       "      <th>3</th>\n",
       "      <td>302888</td>\n",
       "      <td>0.842069</td>\n",
       "    </tr>\n",
       "    <tr>\n",
       "      <th>4</th>\n",
       "      <td>25457926</td>\n",
       "      <td>2.898093</td>\n",
       "    </tr>\n",
       "  </tbody>\n",
       "</table>\n",
       "</div>"
      ],
      "text/plain": [
       "      osmid  retail_lq\n",
       "0    281266   0.312298\n",
       "1    302878   0.428800\n",
       "2    302883   0.298295\n",
       "3    302888   0.842069\n",
       "4  25457926   2.898093"
      ]
     },
     "execution_count": 22,
     "metadata": {},
     "output_type": "execute_result"
    }
   ],
   "source": [
    "lq.head()"
   ]
  },
  {
   "cell_type": "code",
   "execution_count": 23,
   "metadata": {},
   "outputs": [
    {
     "data": {
      "text/plain": [
       "(29012, 2)"
      ]
     },
     "execution_count": 23,
     "metadata": {},
     "output_type": "execute_result"
    }
   ],
   "source": [
    "lq.shape"
   ]
  },
  {
   "cell_type": "markdown",
   "metadata": {},
   "source": [
    "### Merge location quotients to alts"
   ]
  },
  {
   "cell_type": "code",
   "execution_count": 24,
   "metadata": {},
   "outputs": [
    {
     "data": {
      "text/plain": [
       "22265"
      ]
     },
     "execution_count": 24,
     "metadata": {},
     "output_type": "execute_result"
    }
   ],
   "source": [
    "len(alts['node_id_small'].unique())"
   ]
  },
  {
   "cell_type": "code",
   "execution_count": 25,
   "metadata": {},
   "outputs": [
    {
     "data": {
      "text/plain": [
       "896"
      ]
     },
     "execution_count": 25,
     "metadata": {},
     "output_type": "execute_result"
    }
   ],
   "source": [
    "len(alts[~alts['node_id_small'].isin(lq['osmid'])])"
   ]
  },
  {
   "cell_type": "code",
   "execution_count": 104,
   "metadata": {},
   "outputs": [],
   "source": [
    "alts2 = pd.merge(alts, lq[['osmid', 'retail_lq']], left_on='node_id_small', right_on='osmid')\n",
    "alts2.set_index('building_id', inplace=True)"
   ]
  },
  {
   "cell_type": "code",
   "execution_count": 105,
   "metadata": {},
   "outputs": [
    {
     "data": {
      "text/html": [
       "<div>\n",
       "<style scoped>\n",
       "    .dataframe tbody tr th:only-of-type {\n",
       "        vertical-align: middle;\n",
       "    }\n",
       "\n",
       "    .dataframe tbody tr th {\n",
       "        vertical-align: top;\n",
       "    }\n",
       "\n",
       "    .dataframe thead th {\n",
       "        text-align: right;\n",
       "    }\n",
       "</style>\n",
       "<table border=\"1\" class=\"dataframe\">\n",
       "  <thead>\n",
       "    <tr style=\"text-align: right;\">\n",
       "      <th></th>\n",
       "      <th>node_id_small</th>\n",
       "      <th>jobs_500_walk</th>\n",
       "      <th>land_value</th>\n",
       "      <th>nonres_rent_per_sqft</th>\n",
       "      <th>avg_income_500_walk</th>\n",
       "      <th>jobs_25000</th>\n",
       "      <th>jobs_10000</th>\n",
       "      <th>units_sf_10000</th>\n",
       "      <th>sqft_2500</th>\n",
       "      <th>pop_10000</th>\n",
       "      <th>jobs_10000_retail</th>\n",
       "      <th>nonres_sqft_2500</th>\n",
       "      <th>jobs_2500_walk_finance</th>\n",
       "      <th>units_mf_1500_walk</th>\n",
       "      <th>osmid</th>\n",
       "      <th>retail_lq</th>\n",
       "    </tr>\n",
       "    <tr>\n",
       "      <th>building_id</th>\n",
       "      <th></th>\n",
       "      <th></th>\n",
       "      <th></th>\n",
       "      <th></th>\n",
       "      <th></th>\n",
       "      <th></th>\n",
       "      <th></th>\n",
       "      <th></th>\n",
       "      <th></th>\n",
       "      <th></th>\n",
       "      <th></th>\n",
       "      <th></th>\n",
       "      <th></th>\n",
       "      <th></th>\n",
       "      <th></th>\n",
       "      <th></th>\n",
       "    </tr>\n",
       "  </thead>\n",
       "  <tbody>\n",
       "    <tr>\n",
       "      <th>1</th>\n",
       "      <td>110407631</td>\n",
       "      <td>146582.0</td>\n",
       "      <td>5706.0</td>\n",
       "      <td>0.0</td>\n",
       "      <td>106636.341155</td>\n",
       "      <td>108367.0</td>\n",
       "      <td>40439.0</td>\n",
       "      <td>24928.0</td>\n",
       "      <td>4.235416e+08</td>\n",
       "      <td>83693.0</td>\n",
       "      <td>5624.0</td>\n",
       "      <td>111884117.0</td>\n",
       "      <td>7319.0</td>\n",
       "      <td>48024.0</td>\n",
       "      <td>110407631</td>\n",
       "      <td>1.062728</td>\n",
       "    </tr>\n",
       "    <tr>\n",
       "      <th>9</th>\n",
       "      <td>110407631</td>\n",
       "      <td>146582.0</td>\n",
       "      <td>413329.0</td>\n",
       "      <td>0.0</td>\n",
       "      <td>106636.341155</td>\n",
       "      <td>108367.0</td>\n",
       "      <td>40439.0</td>\n",
       "      <td>24928.0</td>\n",
       "      <td>4.235416e+08</td>\n",
       "      <td>83693.0</td>\n",
       "      <td>5624.0</td>\n",
       "      <td>111884117.0</td>\n",
       "      <td>7319.0</td>\n",
       "      <td>48024.0</td>\n",
       "      <td>110407631</td>\n",
       "      <td>1.062728</td>\n",
       "    </tr>\n",
       "    <tr>\n",
       "      <th>12</th>\n",
       "      <td>110407631</td>\n",
       "      <td>146582.0</td>\n",
       "      <td>204073.0</td>\n",
       "      <td>0.0</td>\n",
       "      <td>106636.341155</td>\n",
       "      <td>108367.0</td>\n",
       "      <td>40439.0</td>\n",
       "      <td>24928.0</td>\n",
       "      <td>4.235416e+08</td>\n",
       "      <td>83693.0</td>\n",
       "      <td>5624.0</td>\n",
       "      <td>111884117.0</td>\n",
       "      <td>7319.0</td>\n",
       "      <td>48024.0</td>\n",
       "      <td>110407631</td>\n",
       "      <td>1.062728</td>\n",
       "    </tr>\n",
       "    <tr>\n",
       "      <th>13</th>\n",
       "      <td>110407631</td>\n",
       "      <td>146582.0</td>\n",
       "      <td>32530.0</td>\n",
       "      <td>0.0</td>\n",
       "      <td>106636.341155</td>\n",
       "      <td>108367.0</td>\n",
       "      <td>40439.0</td>\n",
       "      <td>24928.0</td>\n",
       "      <td>4.235416e+08</td>\n",
       "      <td>83693.0</td>\n",
       "      <td>5624.0</td>\n",
       "      <td>111884117.0</td>\n",
       "      <td>7319.0</td>\n",
       "      <td>48024.0</td>\n",
       "      <td>110407631</td>\n",
       "      <td>1.062728</td>\n",
       "    </tr>\n",
       "    <tr>\n",
       "      <th>14</th>\n",
       "      <td>110407631</td>\n",
       "      <td>146582.0</td>\n",
       "      <td>21096.0</td>\n",
       "      <td>0.0</td>\n",
       "      <td>106636.341155</td>\n",
       "      <td>108367.0</td>\n",
       "      <td>40439.0</td>\n",
       "      <td>24928.0</td>\n",
       "      <td>4.235416e+08</td>\n",
       "      <td>83693.0</td>\n",
       "      <td>5624.0</td>\n",
       "      <td>111884117.0</td>\n",
       "      <td>7319.0</td>\n",
       "      <td>48024.0</td>\n",
       "      <td>110407631</td>\n",
       "      <td>1.062728</td>\n",
       "    </tr>\n",
       "  </tbody>\n",
       "</table>\n",
       "</div>"
      ],
      "text/plain": [
       "             node_id_small  jobs_500_walk  land_value  nonres_rent_per_sqft  \\\n",
       "building_id                                                                   \n",
       "1                110407631       146582.0      5706.0                   0.0   \n",
       "9                110407631       146582.0    413329.0                   0.0   \n",
       "12               110407631       146582.0    204073.0                   0.0   \n",
       "13               110407631       146582.0     32530.0                   0.0   \n",
       "14               110407631       146582.0     21096.0                   0.0   \n",
       "\n",
       "             avg_income_500_walk  jobs_25000  jobs_10000  units_sf_10000  \\\n",
       "building_id                                                                \n",
       "1                  106636.341155    108367.0     40439.0         24928.0   \n",
       "9                  106636.341155    108367.0     40439.0         24928.0   \n",
       "12                 106636.341155    108367.0     40439.0         24928.0   \n",
       "13                 106636.341155    108367.0     40439.0         24928.0   \n",
       "14                 106636.341155    108367.0     40439.0         24928.0   \n",
       "\n",
       "                sqft_2500  pop_10000  jobs_10000_retail  nonres_sqft_2500  \\\n",
       "building_id                                                                 \n",
       "1            4.235416e+08    83693.0             5624.0       111884117.0   \n",
       "9            4.235416e+08    83693.0             5624.0       111884117.0   \n",
       "12           4.235416e+08    83693.0             5624.0       111884117.0   \n",
       "13           4.235416e+08    83693.0             5624.0       111884117.0   \n",
       "14           4.235416e+08    83693.0             5624.0       111884117.0   \n",
       "\n",
       "             jobs_2500_walk_finance  units_mf_1500_walk      osmid  retail_lq  \n",
       "building_id                                                                    \n",
       "1                            7319.0             48024.0  110407631   1.062728  \n",
       "9                            7319.0             48024.0  110407631   1.062728  \n",
       "12                           7319.0             48024.0  110407631   1.062728  \n",
       "13                           7319.0             48024.0  110407631   1.062728  \n",
       "14                           7319.0             48024.0  110407631   1.062728  "
      ]
     },
     "execution_count": 105,
     "metadata": {},
     "output_type": "execute_result"
    }
   ],
   "source": [
    "alts2.head()"
   ]
  },
  {
   "cell_type": "code",
   "execution_count": 106,
   "metadata": {},
   "outputs": [
    {
     "data": {
      "text/plain": [
       "(1823254, 16)"
      ]
     },
     "execution_count": 106,
     "metadata": {},
     "output_type": "execute_result"
    }
   ],
   "source": [
    "alts2.shape"
   ]
  },
  {
   "cell_type": "code",
   "execution_count": 114,
   "metadata": {},
   "outputs": [],
   "source": [
    "obs = obs[obs['building_id'].isin(alts2.index.values)]"
   ]
  },
  {
   "cell_type": "code",
   "execution_count": 123,
   "metadata": {},
   "outputs": [
    {
     "data": {
      "text/plain": [
       "(15579, 3)"
      ]
     },
     "execution_count": 123,
     "metadata": {},
     "output_type": "execute_result"
    }
   ],
   "source": [
    "obs.shape"
   ]
  },
  {
   "cell_type": "markdown",
   "metadata": {},
   "source": [
    "### Generate strata"
   ]
  },
  {
   "cell_type": "code",
   "execution_count": 117,
   "metadata": {},
   "outputs": [],
   "source": [
    "strata = pd.qcut(alts2['retail_lq'], 5, retbins=True, labels=False)"
   ]
  },
  {
   "cell_type": "code",
   "execution_count": 118,
   "metadata": {},
   "outputs": [],
   "source": [
    "alts2['stratum'] = strata[0]"
   ]
  },
  {
   "cell_type": "code",
   "execution_count": 119,
   "metadata": {},
   "outputs": [
    {
     "data": {
      "text/html": [
       "<div>\n",
       "<style scoped>\n",
       "    .dataframe tbody tr th:only-of-type {\n",
       "        vertical-align: middle;\n",
       "    }\n",
       "\n",
       "    .dataframe tbody tr th {\n",
       "        vertical-align: top;\n",
       "    }\n",
       "\n",
       "    .dataframe thead th {\n",
       "        text-align: right;\n",
       "    }\n",
       "</style>\n",
       "<table border=\"1\" class=\"dataframe\">\n",
       "  <thead>\n",
       "    <tr style=\"text-align: right;\">\n",
       "      <th></th>\n",
       "      <th>node_id_small</th>\n",
       "      <th>jobs_500_walk</th>\n",
       "      <th>land_value</th>\n",
       "      <th>nonres_rent_per_sqft</th>\n",
       "      <th>avg_income_500_walk</th>\n",
       "      <th>jobs_25000</th>\n",
       "      <th>jobs_10000</th>\n",
       "      <th>units_sf_10000</th>\n",
       "      <th>sqft_2500</th>\n",
       "      <th>pop_10000</th>\n",
       "      <th>jobs_10000_retail</th>\n",
       "      <th>nonres_sqft_2500</th>\n",
       "      <th>jobs_2500_walk_finance</th>\n",
       "      <th>units_mf_1500_walk</th>\n",
       "      <th>osmid</th>\n",
       "      <th>retail_lq</th>\n",
       "      <th>stratum</th>\n",
       "    </tr>\n",
       "    <tr>\n",
       "      <th>building_id</th>\n",
       "      <th></th>\n",
       "      <th></th>\n",
       "      <th></th>\n",
       "      <th></th>\n",
       "      <th></th>\n",
       "      <th></th>\n",
       "      <th></th>\n",
       "      <th></th>\n",
       "      <th></th>\n",
       "      <th></th>\n",
       "      <th></th>\n",
       "      <th></th>\n",
       "      <th></th>\n",
       "      <th></th>\n",
       "      <th></th>\n",
       "      <th></th>\n",
       "      <th></th>\n",
       "    </tr>\n",
       "  </thead>\n",
       "  <tbody>\n",
       "    <tr>\n",
       "      <th>1</th>\n",
       "      <td>110407631</td>\n",
       "      <td>146582.0</td>\n",
       "      <td>5706.0</td>\n",
       "      <td>0.0</td>\n",
       "      <td>106636.341155</td>\n",
       "      <td>108367.0</td>\n",
       "      <td>40439.0</td>\n",
       "      <td>24928.0</td>\n",
       "      <td>4.235416e+08</td>\n",
       "      <td>83693.0</td>\n",
       "      <td>5624.0</td>\n",
       "      <td>111884117.0</td>\n",
       "      <td>7319.0</td>\n",
       "      <td>48024.0</td>\n",
       "      <td>110407631</td>\n",
       "      <td>1.062728</td>\n",
       "      <td>3</td>\n",
       "    </tr>\n",
       "    <tr>\n",
       "      <th>9</th>\n",
       "      <td>110407631</td>\n",
       "      <td>146582.0</td>\n",
       "      <td>413329.0</td>\n",
       "      <td>0.0</td>\n",
       "      <td>106636.341155</td>\n",
       "      <td>108367.0</td>\n",
       "      <td>40439.0</td>\n",
       "      <td>24928.0</td>\n",
       "      <td>4.235416e+08</td>\n",
       "      <td>83693.0</td>\n",
       "      <td>5624.0</td>\n",
       "      <td>111884117.0</td>\n",
       "      <td>7319.0</td>\n",
       "      <td>48024.0</td>\n",
       "      <td>110407631</td>\n",
       "      <td>1.062728</td>\n",
       "      <td>3</td>\n",
       "    </tr>\n",
       "    <tr>\n",
       "      <th>12</th>\n",
       "      <td>110407631</td>\n",
       "      <td>146582.0</td>\n",
       "      <td>204073.0</td>\n",
       "      <td>0.0</td>\n",
       "      <td>106636.341155</td>\n",
       "      <td>108367.0</td>\n",
       "      <td>40439.0</td>\n",
       "      <td>24928.0</td>\n",
       "      <td>4.235416e+08</td>\n",
       "      <td>83693.0</td>\n",
       "      <td>5624.0</td>\n",
       "      <td>111884117.0</td>\n",
       "      <td>7319.0</td>\n",
       "      <td>48024.0</td>\n",
       "      <td>110407631</td>\n",
       "      <td>1.062728</td>\n",
       "      <td>3</td>\n",
       "    </tr>\n",
       "    <tr>\n",
       "      <th>13</th>\n",
       "      <td>110407631</td>\n",
       "      <td>146582.0</td>\n",
       "      <td>32530.0</td>\n",
       "      <td>0.0</td>\n",
       "      <td>106636.341155</td>\n",
       "      <td>108367.0</td>\n",
       "      <td>40439.0</td>\n",
       "      <td>24928.0</td>\n",
       "      <td>4.235416e+08</td>\n",
       "      <td>83693.0</td>\n",
       "      <td>5624.0</td>\n",
       "      <td>111884117.0</td>\n",
       "      <td>7319.0</td>\n",
       "      <td>48024.0</td>\n",
       "      <td>110407631</td>\n",
       "      <td>1.062728</td>\n",
       "      <td>3</td>\n",
       "    </tr>\n",
       "    <tr>\n",
       "      <th>14</th>\n",
       "      <td>110407631</td>\n",
       "      <td>146582.0</td>\n",
       "      <td>21096.0</td>\n",
       "      <td>0.0</td>\n",
       "      <td>106636.341155</td>\n",
       "      <td>108367.0</td>\n",
       "      <td>40439.0</td>\n",
       "      <td>24928.0</td>\n",
       "      <td>4.235416e+08</td>\n",
       "      <td>83693.0</td>\n",
       "      <td>5624.0</td>\n",
       "      <td>111884117.0</td>\n",
       "      <td>7319.0</td>\n",
       "      <td>48024.0</td>\n",
       "      <td>110407631</td>\n",
       "      <td>1.062728</td>\n",
       "      <td>3</td>\n",
       "    </tr>\n",
       "  </tbody>\n",
       "</table>\n",
       "</div>"
      ],
      "text/plain": [
       "             node_id_small  jobs_500_walk  land_value  nonres_rent_per_sqft  \\\n",
       "building_id                                                                   \n",
       "1                110407631       146582.0      5706.0                   0.0   \n",
       "9                110407631       146582.0    413329.0                   0.0   \n",
       "12               110407631       146582.0    204073.0                   0.0   \n",
       "13               110407631       146582.0     32530.0                   0.0   \n",
       "14               110407631       146582.0     21096.0                   0.0   \n",
       "\n",
       "             avg_income_500_walk  jobs_25000  jobs_10000  units_sf_10000  \\\n",
       "building_id                                                                \n",
       "1                  106636.341155    108367.0     40439.0         24928.0   \n",
       "9                  106636.341155    108367.0     40439.0         24928.0   \n",
       "12                 106636.341155    108367.0     40439.0         24928.0   \n",
       "13                 106636.341155    108367.0     40439.0         24928.0   \n",
       "14                 106636.341155    108367.0     40439.0         24928.0   \n",
       "\n",
       "                sqft_2500  pop_10000  jobs_10000_retail  nonres_sqft_2500  \\\n",
       "building_id                                                                 \n",
       "1            4.235416e+08    83693.0             5624.0       111884117.0   \n",
       "9            4.235416e+08    83693.0             5624.0       111884117.0   \n",
       "12           4.235416e+08    83693.0             5624.0       111884117.0   \n",
       "13           4.235416e+08    83693.0             5624.0       111884117.0   \n",
       "14           4.235416e+08    83693.0             5624.0       111884117.0   \n",
       "\n",
       "             jobs_2500_walk_finance  units_mf_1500_walk      osmid  retail_lq  \\\n",
       "building_id                                                                     \n",
       "1                            7319.0             48024.0  110407631   1.062728   \n",
       "9                            7319.0             48024.0  110407631   1.062728   \n",
       "12                           7319.0             48024.0  110407631   1.062728   \n",
       "13                           7319.0             48024.0  110407631   1.062728   \n",
       "14                           7319.0             48024.0  110407631   1.062728   \n",
       "\n",
       "             stratum  \n",
       "building_id           \n",
       "1                  3  \n",
       "9                  3  \n",
       "12                 3  \n",
       "13                 3  \n",
       "14                 3  "
      ]
     },
     "execution_count": 119,
     "metadata": {},
     "output_type": "execute_result"
    }
   ],
   "source": [
    "alts2.head()"
   ]
  },
  {
   "cell_type": "code",
   "execution_count": 120,
   "metadata": {},
   "outputs": [
    {
     "data": {
      "text/plain": [
       "2    364841\n",
       "0    364732\n",
       "3    364700\n",
       "1    364598\n",
       "4    364383\n",
       "Name: stratum, dtype: int64"
      ]
     },
     "execution_count": 120,
     "metadata": {},
     "output_type": "execute_result"
    }
   ],
   "source": [
    "alts2['stratum'].value_counts()"
   ]
  },
  {
   "cell_type": "markdown",
   "metadata": {},
   "source": [
    "### Make MergedChoiceTable"
   ]
  },
  {
   "cell_type": "code",
   "execution_count": 124,
   "metadata": {},
   "outputs": [],
   "source": [
    "mct = MergedChoiceTable(obs, alts2, chosen_alternatives='building_id',\n",
    "                        sample_size=100, sampling_regime='stratified', strata='stratum')"
   ]
  },
  {
   "cell_type": "code",
   "execution_count": 125,
   "metadata": {},
   "outputs": [
    {
     "data": {
      "text/plain": [
       "(1573479, 20)"
      ]
     },
     "execution_count": 125,
     "metadata": {},
     "output_type": "execute_result"
    }
   ],
   "source": [
    "mct.to_frame().shape"
   ]
  },
  {
   "cell_type": "code",
   "execution_count": 126,
   "metadata": {},
   "outputs": [],
   "source": [
    "mct_df = mct.to_frame()"
   ]
  },
  {
   "cell_type": "code",
   "execution_count": 127,
   "metadata": {},
   "outputs": [
    {
     "data": {
      "text/html": [
       "<div>\n",
       "<style scoped>\n",
       "    .dataframe tbody tr th:only-of-type {\n",
       "        vertical-align: middle;\n",
       "    }\n",
       "\n",
       "    .dataframe tbody tr th {\n",
       "        vertical-align: top;\n",
       "    }\n",
       "\n",
       "    .dataframe thead th {\n",
       "        text-align: right;\n",
       "    }\n",
       "</style>\n",
       "<table border=\"1\" class=\"dataframe\">\n",
       "  <thead>\n",
       "    <tr style=\"text-align: right;\">\n",
       "      <th></th>\n",
       "      <th></th>\n",
       "      <th>sector_id</th>\n",
       "      <th>sales_vol</th>\n",
       "      <th>node_id_small</th>\n",
       "      <th>jobs_500_walk</th>\n",
       "      <th>land_value</th>\n",
       "      <th>nonres_rent_per_sqft</th>\n",
       "      <th>avg_income_500_walk</th>\n",
       "      <th>jobs_25000</th>\n",
       "      <th>jobs_10000</th>\n",
       "      <th>units_sf_10000</th>\n",
       "      <th>sqft_2500</th>\n",
       "      <th>pop_10000</th>\n",
       "      <th>jobs_10000_retail</th>\n",
       "      <th>nonres_sqft_2500</th>\n",
       "      <th>jobs_2500_walk_finance</th>\n",
       "      <th>units_mf_1500_walk</th>\n",
       "      <th>osmid</th>\n",
       "      <th>retail_lq</th>\n",
       "      <th>stratum</th>\n",
       "      <th>chosen</th>\n",
       "    </tr>\n",
       "    <tr>\n",
       "      <th>establishment_id</th>\n",
       "      <th>building_id</th>\n",
       "      <th></th>\n",
       "      <th></th>\n",
       "      <th></th>\n",
       "      <th></th>\n",
       "      <th></th>\n",
       "      <th></th>\n",
       "      <th></th>\n",
       "      <th></th>\n",
       "      <th></th>\n",
       "      <th></th>\n",
       "      <th></th>\n",
       "      <th></th>\n",
       "      <th></th>\n",
       "      <th></th>\n",
       "      <th></th>\n",
       "      <th></th>\n",
       "      <th></th>\n",
       "      <th></th>\n",
       "      <th></th>\n",
       "      <th></th>\n",
       "    </tr>\n",
       "  </thead>\n",
       "  <tbody>\n",
       "  </tbody>\n",
       "</table>\n",
       "</div>"
      ],
      "text/plain": [
       "Empty DataFrame\n",
       "Columns: [sector_id, sales_vol, node_id_small, jobs_500_walk, land_value, nonres_rent_per_sqft, avg_income_500_walk, jobs_25000, jobs_10000, units_sf_10000, sqft_2500, pop_10000, jobs_10000_retail, nonres_sqft_2500, jobs_2500_walk_finance, units_mf_1500_walk, osmid, retail_lq, stratum, chosen]\n",
       "Index: []"
      ]
     },
     "execution_count": 127,
     "metadata": {},
     "output_type": "execute_result"
    }
   ],
   "source": [
    "mct_df[mct_df.isnull().any(axis=1)]"
   ]
  },
  {
   "cell_type": "markdown",
   "metadata": {},
   "source": [
    "### Fit the model"
   ]
  },
  {
   "cell_type": "code",
   "execution_count": 128,
   "metadata": {},
   "outputs": [
    {
     "name": "stdout",
     "output_type": "stream",
     "text": [
      "                  CHOICEMODELS ESTIMATION RESULTS                  \n",
      "===================================================================\n",
      "Dep. Var.:                chosen   No. Observations:         15,579\n",
      "Model:         Multinomial Logit   Df Residuals:             15,562\n",
      "Method:       Maximum Likelihood   Df Model:                     17\n",
      "Date:                 2019-08-24   Pseudo R-squ.:             0.498\n",
      "Time:                      12:28   Pseudo R-bar-squ.:         0.498\n",
      "AIC:                  72,189.923   Log-Likelihood:      -36,077.962\n",
      "BIC:                  72,320.036   LL-Null:             -71,898.963\n",
      "========================================================================================================\n",
      "                                                         coef   std err         z     P>|z|   Conf. Int.\n",
      "--------------------------------------------------------------------------------------------------------\n",
      "Intercept                                             -0.0000     0.389    -0.000     1.000             \n",
      "np.log1p(avg_income_500_walk)                         -0.0214     0.004    -5.531     0.000             \n",
      "nonres_rent_per_sqft                                   0.5979     0.009    69.107     0.000             \n",
      "np.log1p(jobs_10000)                                   0.1520     0.047     3.254     0.001             \n",
      "nonres_rent_per_sqft:np.log1p(jobs_10000)             -0.0313     0.001   -43.090     0.000             \n",
      "np.log1p(jobs_500_walk)                                0.2427     0.034     7.153     0.000             \n",
      "np.log1p(jobs_10000_retail)                           -0.3702     0.049    -7.584     0.000             \n",
      "np.log1p(jobs_500_walk):np.log1p(jobs_10000_retail)    0.0270     0.003     7.752     0.000             \n",
      "np.log1p(jobs_2500_walk_finance)                       0.2685     0.011    24.205     0.000             \n",
      "np.log1p(units_mf_1500_walk)                          -0.0284     0.007    -4.029     0.000             \n",
      "np.log1p(units_sf_10000)                              -0.4097     0.056    -7.343     0.000             \n",
      "np.log1p(land_value)                                   0.3090     0.005    64.780     0.000             \n",
      "np.log1p(land_value):nonres_rent_per_sqft             -0.0060     0.000   -23.403     0.000             \n",
      "nonres_rent_per_sqft:np.log1p(sales_vol)              -0.0028     0.000   -22.341     0.000             \n",
      "np.log1p(nonres_sqft_2500)                             0.7221     0.035    20.811     0.000             \n",
      "np.log1p(nonres_sqft_2500):np.log1p(sqft_2500)        -0.0481     0.001   -37.242     0.000             \n",
      "np.log1p(pop_10000)                                    1.1259     0.061    18.409     0.000             \n",
      "========================================================================================================\n"
     ]
    }
   ],
   "source": [
    "elcm_retail.fit(mct)"
   ]
  },
  {
   "cell_type": "markdown",
   "metadata": {},
   "source": [
    "### TESTING"
   ]
  },
  {
   "cell_type": "code",
   "execution_count": 69,
   "metadata": {},
   "outputs": [],
   "source": [
    "# TEST MCT METHODS\n",
    "chosen_alternatives = obs[elcm_retail.choice_column].copy()\n",
    "obs = obs.drop(chosen_alternatives.name, axis='columns')\n",
    "chosen_alternatives.name = '_' + alts2.index.name"
   ]
  },
  {
   "cell_type": "code",
   "execution_count": 70,
   "metadata": {},
   "outputs": [],
   "source": [
    "n_obs = obs.shape[0]\n",
    "\n",
    "oid_name = obs.index.name\n",
    "aid_name = alts2.index.name\n",
    "\n",
    "samp_size=100\n",
    "\n",
    "obs_ids = list(obs.index.values) * samp_size\n",
    "\n",
    "alt_ids = []\n",
    "\n",
    "strata_vals = alts2['stratum'].unique()\n",
    "num_strata = float(len(strata_vals))\n",
    "samp_size_per_strata = int(np.ceil(samp_size / num_strata))\n",
    "new_samp_size = int(num_strata * samp_size_per_strata)\n",
    "\n",
    "if new_samp_size != samp_size:\n",
    "    samp_size = new_samp_size\n",
    "    obs_ids = list(obs.index.values) * samp_size\n",
    "\n",
    "for stratum in strata_vals:\n",
    "    stratum_alts = alts2.loc[alts2['stratum'] == stratum]\n",
    "    sampled_alts = np.random.choice(stratum_alts.index.values, \n",
    "                       replace = True,\n",
    "                       size = n_obs * samp_size_per_strata).tolist()\n",
    "    alt_ids += sampled_alts"
   ]
  },
  {
   "cell_type": "code",
   "execution_count": 71,
   "metadata": {},
   "outputs": [],
   "source": [
    "obs_ids = np.append(obs_ids, obs.index.values)\n",
    "alt_ids = np.append(alt_ids, chosen_alternatives)\n",
    "chosen = np.append(np.repeat(0, samp_size * n_obs), np.repeat(1, n_obs))"
   ]
  },
  {
   "cell_type": "code",
   "execution_count": 72,
   "metadata": {},
   "outputs": [],
   "source": [
    "df = pd.DataFrame({oid_name: obs_ids, aid_name: alt_ids})"
   ]
  },
  {
   "cell_type": "code",
   "execution_count": 73,
   "metadata": {},
   "outputs": [],
   "source": [
    "df = df.join(obs, how='left', on=oid_name)"
   ]
  },
  {
   "cell_type": "code",
   "execution_count": 74,
   "metadata": {},
   "outputs": [],
   "source": [
    "df = df.join(alts2, how='left', on=aid_name)"
   ]
  },
  {
   "cell_type": "code",
   "execution_count": 75,
   "metadata": {},
   "outputs": [],
   "source": [
    "df['chosen'] = chosen"
   ]
  },
  {
   "cell_type": "code",
   "execution_count": 76,
   "metadata": {},
   "outputs": [],
   "source": [
    "df.sort_values([oid_name, 'chosen'], ascending=False, inplace=True)"
   ]
  },
  {
   "cell_type": "code",
   "execution_count": 77,
   "metadata": {},
   "outputs": [],
   "source": [
    "df.set_index([oid_name, aid_name], inplace=True)"
   ]
  },
  {
   "cell_type": "code",
   "execution_count": 78,
   "metadata": {},
   "outputs": [
    {
     "data": {
      "text/html": [
       "<div>\n",
       "<style scoped>\n",
       "    .dataframe tbody tr th:only-of-type {\n",
       "        vertical-align: middle;\n",
       "    }\n",
       "\n",
       "    .dataframe tbody tr th {\n",
       "        vertical-align: top;\n",
       "    }\n",
       "\n",
       "    .dataframe thead th {\n",
       "        text-align: right;\n",
       "    }\n",
       "</style>\n",
       "<table border=\"1\" class=\"dataframe\">\n",
       "  <thead>\n",
       "    <tr style=\"text-align: right;\">\n",
       "      <th></th>\n",
       "      <th></th>\n",
       "      <th>sector_id</th>\n",
       "      <th>sales_vol</th>\n",
       "      <th>node_id_small</th>\n",
       "      <th>jobs_500_walk</th>\n",
       "      <th>land_value</th>\n",
       "      <th>nonres_rent_per_sqft</th>\n",
       "      <th>avg_income_500_walk</th>\n",
       "      <th>jobs_25000</th>\n",
       "      <th>jobs_10000</th>\n",
       "      <th>units_sf_10000</th>\n",
       "      <th>sqft_2500</th>\n",
       "      <th>pop_10000</th>\n",
       "      <th>jobs_10000_retail</th>\n",
       "      <th>nonres_sqft_2500</th>\n",
       "      <th>jobs_2500_walk_finance</th>\n",
       "      <th>units_mf_1500_walk</th>\n",
       "      <th>osmid</th>\n",
       "      <th>retail_lq</th>\n",
       "      <th>stratum</th>\n",
       "      <th>chosen</th>\n",
       "    </tr>\n",
       "    <tr>\n",
       "      <th>establishment_id</th>\n",
       "      <th>building_id</th>\n",
       "      <th></th>\n",
       "      <th></th>\n",
       "      <th></th>\n",
       "      <th></th>\n",
       "      <th></th>\n",
       "      <th></th>\n",
       "      <th></th>\n",
       "      <th></th>\n",
       "      <th></th>\n",
       "      <th></th>\n",
       "      <th></th>\n",
       "      <th></th>\n",
       "      <th></th>\n",
       "      <th></th>\n",
       "      <th></th>\n",
       "      <th></th>\n",
       "      <th></th>\n",
       "      <th></th>\n",
       "      <th></th>\n",
       "      <th></th>\n",
       "    </tr>\n",
       "  </thead>\n",
       "  <tbody>\n",
       "    <tr>\n",
       "      <th rowspan=\"5\" valign=\"top\">240445</th>\n",
       "      <th>522059</th>\n",
       "      <td>52</td>\n",
       "      <td>0.0</td>\n",
       "      <td>56031926.0</td>\n",
       "      <td>78468.0</td>\n",
       "      <td>111476.0000</td>\n",
       "      <td>14.297285</td>\n",
       "      <td>90938.150310</td>\n",
       "      <td>2946.0</td>\n",
       "      <td>1517.0</td>\n",
       "      <td>3530.0</td>\n",
       "      <td>2.317513e+08</td>\n",
       "      <td>9663.0</td>\n",
       "      <td>301.0</td>\n",
       "      <td>69130735.0</td>\n",
       "      <td>3260.0</td>\n",
       "      <td>28070.0</td>\n",
       "      <td>56031926.0</td>\n",
       "      <td>1.299392</td>\n",
       "      <td>4.0</td>\n",
       "      <td>1</td>\n",
       "    </tr>\n",
       "    <tr>\n",
       "      <th>288437</th>\n",
       "      <td>52</td>\n",
       "      <td>0.0</td>\n",
       "      <td>318285761.0</td>\n",
       "      <td>146582.0</td>\n",
       "      <td>164000.0000</td>\n",
       "      <td>0.000000</td>\n",
       "      <td>106636.341155</td>\n",
       "      <td>115807.0</td>\n",
       "      <td>52006.0</td>\n",
       "      <td>26586.0</td>\n",
       "      <td>4.235416e+08</td>\n",
       "      <td>95029.0</td>\n",
       "      <td>7330.0</td>\n",
       "      <td>111884117.0</td>\n",
       "      <td>7319.0</td>\n",
       "      <td>48024.0</td>\n",
       "      <td>318285761.0</td>\n",
       "      <td>1.093184</td>\n",
       "      <td>3.0</td>\n",
       "      <td>0</td>\n",
       "    </tr>\n",
       "    <tr>\n",
       "      <th>57167</th>\n",
       "      <td>52</td>\n",
       "      <td>0.0</td>\n",
       "      <td>640504457.0</td>\n",
       "      <td>314.0</td>\n",
       "      <td>287131.0000</td>\n",
       "      <td>0.000000</td>\n",
       "      <td>184341.484185</td>\n",
       "      <td>327456.0</td>\n",
       "      <td>113888.0</td>\n",
       "      <td>66600.0</td>\n",
       "      <td>2.056903e+07</td>\n",
       "      <td>232270.0</td>\n",
       "      <td>16305.0</td>\n",
       "      <td>3878323.0</td>\n",
       "      <td>182.0</td>\n",
       "      <td>417.0</td>\n",
       "      <td>640504457.0</td>\n",
       "      <td>1.067301</td>\n",
       "      <td>3.0</td>\n",
       "      <td>0</td>\n",
       "    </tr>\n",
       "    <tr>\n",
       "      <th>393391</th>\n",
       "      <td>52</td>\n",
       "      <td>0.0</td>\n",
       "      <td>65403114.0</td>\n",
       "      <td>2868.0</td>\n",
       "      <td>117769.0000</td>\n",
       "      <td>32.477049</td>\n",
       "      <td>153802.035519</td>\n",
       "      <td>492406.0</td>\n",
       "      <td>128615.0</td>\n",
       "      <td>65087.0</td>\n",
       "      <td>2.857296e+07</td>\n",
       "      <td>242102.0</td>\n",
       "      <td>19861.0</td>\n",
       "      <td>13938118.0</td>\n",
       "      <td>961.0</td>\n",
       "      <td>2522.0</td>\n",
       "      <td>65403114.0</td>\n",
       "      <td>1.049234</td>\n",
       "      <td>3.0</td>\n",
       "      <td>0</td>\n",
       "    </tr>\n",
       "    <tr>\n",
       "      <th>858360</th>\n",
       "      <td>52</td>\n",
       "      <td>0.0</td>\n",
       "      <td>65589455.0</td>\n",
       "      <td>44.0</td>\n",
       "      <td>67277.9576</td>\n",
       "      <td>0.000000</td>\n",
       "      <td>151515.950820</td>\n",
       "      <td>463272.0</td>\n",
       "      <td>42093.0</td>\n",
       "      <td>71031.0</td>\n",
       "      <td>2.305986e+07</td>\n",
       "      <td>322452.0</td>\n",
       "      <td>8081.0</td>\n",
       "      <td>3162378.0</td>\n",
       "      <td>113.0</td>\n",
       "      <td>302.0</td>\n",
       "      <td>65589455.0</td>\n",
       "      <td>1.160338</td>\n",
       "      <td>3.0</td>\n",
       "      <td>0</td>\n",
       "    </tr>\n",
       "  </tbody>\n",
       "</table>\n",
       "</div>"
      ],
      "text/plain": [
       "                              sector_id  sales_vol  node_id_small  \\\n",
       "establishment_id building_id                                        \n",
       "240445           522059              52        0.0     56031926.0   \n",
       "                 288437              52        0.0    318285761.0   \n",
       "                 57167               52        0.0    640504457.0   \n",
       "                 393391              52        0.0     65403114.0   \n",
       "                 858360              52        0.0     65589455.0   \n",
       "\n",
       "                              jobs_500_walk   land_value  \\\n",
       "establishment_id building_id                               \n",
       "240445           522059             78468.0  111476.0000   \n",
       "                 288437            146582.0  164000.0000   \n",
       "                 57167                314.0  287131.0000   \n",
       "                 393391              2868.0  117769.0000   \n",
       "                 858360                44.0   67277.9576   \n",
       "\n",
       "                              nonres_rent_per_sqft  avg_income_500_walk  \\\n",
       "establishment_id building_id                                              \n",
       "240445           522059                  14.297285         90938.150310   \n",
       "                 288437                   0.000000        106636.341155   \n",
       "                 57167                    0.000000        184341.484185   \n",
       "                 393391                  32.477049        153802.035519   \n",
       "                 858360                   0.000000        151515.950820   \n",
       "\n",
       "                              jobs_25000  jobs_10000  units_sf_10000  \\\n",
       "establishment_id building_id                                           \n",
       "240445           522059           2946.0      1517.0          3530.0   \n",
       "                 288437         115807.0     52006.0         26586.0   \n",
       "                 57167          327456.0    113888.0         66600.0   \n",
       "                 393391         492406.0    128615.0         65087.0   \n",
       "                 858360         463272.0     42093.0         71031.0   \n",
       "\n",
       "                                 sqft_2500  pop_10000  jobs_10000_retail  \\\n",
       "establishment_id building_id                                               \n",
       "240445           522059       2.317513e+08     9663.0              301.0   \n",
       "                 288437       4.235416e+08    95029.0             7330.0   \n",
       "                 57167        2.056903e+07   232270.0            16305.0   \n",
       "                 393391       2.857296e+07   242102.0            19861.0   \n",
       "                 858360       2.305986e+07   322452.0             8081.0   \n",
       "\n",
       "                              nonres_sqft_2500  jobs_2500_walk_finance  \\\n",
       "establishment_id building_id                                             \n",
       "240445           522059             69130735.0                  3260.0   \n",
       "                 288437            111884117.0                  7319.0   \n",
       "                 57167               3878323.0                   182.0   \n",
       "                 393391             13938118.0                   961.0   \n",
       "                 858360              3162378.0                   113.0   \n",
       "\n",
       "                              units_mf_1500_walk        osmid  retail_lq  \\\n",
       "establishment_id building_id                                               \n",
       "240445           522059                  28070.0   56031926.0   1.299392   \n",
       "                 288437                  48024.0  318285761.0   1.093184   \n",
       "                 57167                     417.0  640504457.0   1.067301   \n",
       "                 393391                   2522.0   65403114.0   1.049234   \n",
       "                 858360                    302.0   65589455.0   1.160338   \n",
       "\n",
       "                              stratum  chosen  \n",
       "establishment_id building_id                   \n",
       "240445           522059           4.0       1  \n",
       "                 288437           3.0       0  \n",
       "                 57167            3.0       0  \n",
       "                 393391           3.0       0  \n",
       "                 858360           3.0       0  "
      ]
     },
     "execution_count": 78,
     "metadata": {},
     "output_type": "execute_result"
    }
   ],
   "source": [
    "df.head()"
   ]
  },
  {
   "cell_type": "code",
   "execution_count": 79,
   "metadata": {},
   "outputs": [
    {
     "data": {
      "text/html": [
       "<div>\n",
       "<style scoped>\n",
       "    .dataframe tbody tr th:only-of-type {\n",
       "        vertical-align: middle;\n",
       "    }\n",
       "\n",
       "    .dataframe tbody tr th {\n",
       "        vertical-align: top;\n",
       "    }\n",
       "\n",
       "    .dataframe thead th {\n",
       "        text-align: right;\n",
       "    }\n",
       "</style>\n",
       "<table border=\"1\" class=\"dataframe\">\n",
       "  <thead>\n",
       "    <tr style=\"text-align: right;\">\n",
       "      <th></th>\n",
       "      <th></th>\n",
       "      <th>sector_id</th>\n",
       "      <th>sales_vol</th>\n",
       "      <th>node_id_small</th>\n",
       "      <th>jobs_500_walk</th>\n",
       "      <th>land_value</th>\n",
       "      <th>nonres_rent_per_sqft</th>\n",
       "      <th>avg_income_500_walk</th>\n",
       "      <th>jobs_25000</th>\n",
       "      <th>jobs_10000</th>\n",
       "      <th>units_sf_10000</th>\n",
       "      <th>sqft_2500</th>\n",
       "      <th>pop_10000</th>\n",
       "      <th>jobs_10000_retail</th>\n",
       "      <th>nonres_sqft_2500</th>\n",
       "      <th>jobs_2500_walk_finance</th>\n",
       "      <th>units_mf_1500_walk</th>\n",
       "      <th>osmid</th>\n",
       "      <th>retail_lq</th>\n",
       "      <th>stratum</th>\n",
       "      <th>chosen</th>\n",
       "    </tr>\n",
       "    <tr>\n",
       "      <th>establishment_id</th>\n",
       "      <th>building_id</th>\n",
       "      <th></th>\n",
       "      <th></th>\n",
       "      <th></th>\n",
       "      <th></th>\n",
       "      <th></th>\n",
       "      <th></th>\n",
       "      <th></th>\n",
       "      <th></th>\n",
       "      <th></th>\n",
       "      <th></th>\n",
       "      <th></th>\n",
       "      <th></th>\n",
       "      <th></th>\n",
       "      <th></th>\n",
       "      <th></th>\n",
       "      <th></th>\n",
       "      <th></th>\n",
       "      <th></th>\n",
       "      <th></th>\n",
       "      <th></th>\n",
       "    </tr>\n",
       "  </thead>\n",
       "  <tbody>\n",
       "    <tr>\n",
       "      <th>239140</th>\n",
       "      <th>1745430</th>\n",
       "      <td>52</td>\n",
       "      <td>0.0</td>\n",
       "      <td>NaN</td>\n",
       "      <td>NaN</td>\n",
       "      <td>NaN</td>\n",
       "      <td>NaN</td>\n",
       "      <td>NaN</td>\n",
       "      <td>NaN</td>\n",
       "      <td>NaN</td>\n",
       "      <td>NaN</td>\n",
       "      <td>NaN</td>\n",
       "      <td>NaN</td>\n",
       "      <td>NaN</td>\n",
       "      <td>NaN</td>\n",
       "      <td>NaN</td>\n",
       "      <td>NaN</td>\n",
       "      <td>NaN</td>\n",
       "      <td>NaN</td>\n",
       "      <td>NaN</td>\n",
       "      <td>1</td>\n",
       "    </tr>\n",
       "    <tr>\n",
       "      <th>233826</th>\n",
       "      <th>273834</th>\n",
       "      <td>52</td>\n",
       "      <td>0.0</td>\n",
       "      <td>NaN</td>\n",
       "      <td>NaN</td>\n",
       "      <td>NaN</td>\n",
       "      <td>NaN</td>\n",
       "      <td>NaN</td>\n",
       "      <td>NaN</td>\n",
       "      <td>NaN</td>\n",
       "      <td>NaN</td>\n",
       "      <td>NaN</td>\n",
       "      <td>NaN</td>\n",
       "      <td>NaN</td>\n",
       "      <td>NaN</td>\n",
       "      <td>NaN</td>\n",
       "      <td>NaN</td>\n",
       "      <td>NaN</td>\n",
       "      <td>NaN</td>\n",
       "      <td>NaN</td>\n",
       "      <td>1</td>\n",
       "    </tr>\n",
       "    <tr>\n",
       "      <th>216905</th>\n",
       "      <th>523319</th>\n",
       "      <td>52</td>\n",
       "      <td>0.0</td>\n",
       "      <td>NaN</td>\n",
       "      <td>NaN</td>\n",
       "      <td>NaN</td>\n",
       "      <td>NaN</td>\n",
       "      <td>NaN</td>\n",
       "      <td>NaN</td>\n",
       "      <td>NaN</td>\n",
       "      <td>NaN</td>\n",
       "      <td>NaN</td>\n",
       "      <td>NaN</td>\n",
       "      <td>NaN</td>\n",
       "      <td>NaN</td>\n",
       "      <td>NaN</td>\n",
       "      <td>NaN</td>\n",
       "      <td>NaN</td>\n",
       "      <td>NaN</td>\n",
       "      <td>NaN</td>\n",
       "      <td>1</td>\n",
       "    </tr>\n",
       "    <tr>\n",
       "      <th>132848</th>\n",
       "      <th>158442</th>\n",
       "      <td>52</td>\n",
       "      <td>2295.0</td>\n",
       "      <td>NaN</td>\n",
       "      <td>NaN</td>\n",
       "      <td>NaN</td>\n",
       "      <td>NaN</td>\n",
       "      <td>NaN</td>\n",
       "      <td>NaN</td>\n",
       "      <td>NaN</td>\n",
       "      <td>NaN</td>\n",
       "      <td>NaN</td>\n",
       "      <td>NaN</td>\n",
       "      <td>NaN</td>\n",
       "      <td>NaN</td>\n",
       "      <td>NaN</td>\n",
       "      <td>NaN</td>\n",
       "      <td>NaN</td>\n",
       "      <td>NaN</td>\n",
       "      <td>NaN</td>\n",
       "      <td>1</td>\n",
       "    </tr>\n",
       "    <tr>\n",
       "      <th>132623</th>\n",
       "      <th>158442</th>\n",
       "      <td>52</td>\n",
       "      <td>372.0</td>\n",
       "      <td>NaN</td>\n",
       "      <td>NaN</td>\n",
       "      <td>NaN</td>\n",
       "      <td>NaN</td>\n",
       "      <td>NaN</td>\n",
       "      <td>NaN</td>\n",
       "      <td>NaN</td>\n",
       "      <td>NaN</td>\n",
       "      <td>NaN</td>\n",
       "      <td>NaN</td>\n",
       "      <td>NaN</td>\n",
       "      <td>NaN</td>\n",
       "      <td>NaN</td>\n",
       "      <td>NaN</td>\n",
       "      <td>NaN</td>\n",
       "      <td>NaN</td>\n",
       "      <td>NaN</td>\n",
       "      <td>1</td>\n",
       "    </tr>\n",
       "    <tr>\n",
       "      <th>84019</th>\n",
       "      <th>1312512</th>\n",
       "      <td>52</td>\n",
       "      <td>2748.0</td>\n",
       "      <td>NaN</td>\n",
       "      <td>NaN</td>\n",
       "      <td>NaN</td>\n",
       "      <td>NaN</td>\n",
       "      <td>NaN</td>\n",
       "      <td>NaN</td>\n",
       "      <td>NaN</td>\n",
       "      <td>NaN</td>\n",
       "      <td>NaN</td>\n",
       "      <td>NaN</td>\n",
       "      <td>NaN</td>\n",
       "      <td>NaN</td>\n",
       "      <td>NaN</td>\n",
       "      <td>NaN</td>\n",
       "      <td>NaN</td>\n",
       "      <td>NaN</td>\n",
       "      <td>NaN</td>\n",
       "      <td>1</td>\n",
       "    </tr>\n",
       "    <tr>\n",
       "      <th>82932</th>\n",
       "      <th>1312512</th>\n",
       "      <td>52</td>\n",
       "      <td>2232.0</td>\n",
       "      <td>NaN</td>\n",
       "      <td>NaN</td>\n",
       "      <td>NaN</td>\n",
       "      <td>NaN</td>\n",
       "      <td>NaN</td>\n",
       "      <td>NaN</td>\n",
       "      <td>NaN</td>\n",
       "      <td>NaN</td>\n",
       "      <td>NaN</td>\n",
       "      <td>NaN</td>\n",
       "      <td>NaN</td>\n",
       "      <td>NaN</td>\n",
       "      <td>NaN</td>\n",
       "      <td>NaN</td>\n",
       "      <td>NaN</td>\n",
       "      <td>NaN</td>\n",
       "      <td>NaN</td>\n",
       "      <td>1</td>\n",
       "    </tr>\n",
       "    <tr>\n",
       "      <th>43498</th>\n",
       "      <th>1597782</th>\n",
       "      <td>52</td>\n",
       "      <td>0.0</td>\n",
       "      <td>NaN</td>\n",
       "      <td>NaN</td>\n",
       "      <td>NaN</td>\n",
       "      <td>NaN</td>\n",
       "      <td>NaN</td>\n",
       "      <td>NaN</td>\n",
       "      <td>NaN</td>\n",
       "      <td>NaN</td>\n",
       "      <td>NaN</td>\n",
       "      <td>NaN</td>\n",
       "      <td>NaN</td>\n",
       "      <td>NaN</td>\n",
       "      <td>NaN</td>\n",
       "      <td>NaN</td>\n",
       "      <td>NaN</td>\n",
       "      <td>NaN</td>\n",
       "      <td>NaN</td>\n",
       "      <td>1</td>\n",
       "    </tr>\n",
       "    <tr>\n",
       "      <th>38961</th>\n",
       "      <th>862613</th>\n",
       "      <td>52</td>\n",
       "      <td>1644.0</td>\n",
       "      <td>NaN</td>\n",
       "      <td>NaN</td>\n",
       "      <td>NaN</td>\n",
       "      <td>NaN</td>\n",
       "      <td>NaN</td>\n",
       "      <td>NaN</td>\n",
       "      <td>NaN</td>\n",
       "      <td>NaN</td>\n",
       "      <td>NaN</td>\n",
       "      <td>NaN</td>\n",
       "      <td>NaN</td>\n",
       "      <td>NaN</td>\n",
       "      <td>NaN</td>\n",
       "      <td>NaN</td>\n",
       "      <td>NaN</td>\n",
       "      <td>NaN</td>\n",
       "      <td>NaN</td>\n",
       "      <td>1</td>\n",
       "    </tr>\n",
       "  </tbody>\n",
       "</table>\n",
       "</div>"
      ],
      "text/plain": [
       "                              sector_id  sales_vol  node_id_small  \\\n",
       "establishment_id building_id                                        \n",
       "239140           1745430             52        0.0            NaN   \n",
       "233826           273834              52        0.0            NaN   \n",
       "216905           523319              52        0.0            NaN   \n",
       "132848           158442              52     2295.0            NaN   \n",
       "132623           158442              52      372.0            NaN   \n",
       "84019            1312512             52     2748.0            NaN   \n",
       "82932            1312512             52     2232.0            NaN   \n",
       "43498            1597782             52        0.0            NaN   \n",
       "38961            862613              52     1644.0            NaN   \n",
       "\n",
       "                              jobs_500_walk  land_value  nonres_rent_per_sqft  \\\n",
       "establishment_id building_id                                                    \n",
       "239140           1745430                NaN         NaN                   NaN   \n",
       "233826           273834                 NaN         NaN                   NaN   \n",
       "216905           523319                 NaN         NaN                   NaN   \n",
       "132848           158442                 NaN         NaN                   NaN   \n",
       "132623           158442                 NaN         NaN                   NaN   \n",
       "84019            1312512                NaN         NaN                   NaN   \n",
       "82932            1312512                NaN         NaN                   NaN   \n",
       "43498            1597782                NaN         NaN                   NaN   \n",
       "38961            862613                 NaN         NaN                   NaN   \n",
       "\n",
       "                              avg_income_500_walk  jobs_25000  jobs_10000  \\\n",
       "establishment_id building_id                                                \n",
       "239140           1745430                      NaN         NaN         NaN   \n",
       "233826           273834                       NaN         NaN         NaN   \n",
       "216905           523319                       NaN         NaN         NaN   \n",
       "132848           158442                       NaN         NaN         NaN   \n",
       "132623           158442                       NaN         NaN         NaN   \n",
       "84019            1312512                      NaN         NaN         NaN   \n",
       "82932            1312512                      NaN         NaN         NaN   \n",
       "43498            1597782                      NaN         NaN         NaN   \n",
       "38961            862613                       NaN         NaN         NaN   \n",
       "\n",
       "                              units_sf_10000  sqft_2500  pop_10000  \\\n",
       "establishment_id building_id                                         \n",
       "239140           1745430                 NaN        NaN        NaN   \n",
       "233826           273834                  NaN        NaN        NaN   \n",
       "216905           523319                  NaN        NaN        NaN   \n",
       "132848           158442                  NaN        NaN        NaN   \n",
       "132623           158442                  NaN        NaN        NaN   \n",
       "84019            1312512                 NaN        NaN        NaN   \n",
       "82932            1312512                 NaN        NaN        NaN   \n",
       "43498            1597782                 NaN        NaN        NaN   \n",
       "38961            862613                  NaN        NaN        NaN   \n",
       "\n",
       "                              jobs_10000_retail  nonres_sqft_2500  \\\n",
       "establishment_id building_id                                        \n",
       "239140           1745430                    NaN               NaN   \n",
       "233826           273834                     NaN               NaN   \n",
       "216905           523319                     NaN               NaN   \n",
       "132848           158442                     NaN               NaN   \n",
       "132623           158442                     NaN               NaN   \n",
       "84019            1312512                    NaN               NaN   \n",
       "82932            1312512                    NaN               NaN   \n",
       "43498            1597782                    NaN               NaN   \n",
       "38961            862613                     NaN               NaN   \n",
       "\n",
       "                              jobs_2500_walk_finance  units_mf_1500_walk  \\\n",
       "establishment_id building_id                                               \n",
       "239140           1745430                         NaN                 NaN   \n",
       "233826           273834                          NaN                 NaN   \n",
       "216905           523319                          NaN                 NaN   \n",
       "132848           158442                          NaN                 NaN   \n",
       "132623           158442                          NaN                 NaN   \n",
       "84019            1312512                         NaN                 NaN   \n",
       "82932            1312512                         NaN                 NaN   \n",
       "43498            1597782                         NaN                 NaN   \n",
       "38961            862613                          NaN                 NaN   \n",
       "\n",
       "                              osmid  retail_lq  stratum  chosen  \n",
       "establishment_id building_id                                     \n",
       "239140           1745430        NaN        NaN      NaN       1  \n",
       "233826           273834         NaN        NaN      NaN       1  \n",
       "216905           523319         NaN        NaN      NaN       1  \n",
       "132848           158442         NaN        NaN      NaN       1  \n",
       "132623           158442         NaN        NaN      NaN       1  \n",
       "84019            1312512        NaN        NaN      NaN       1  \n",
       "82932            1312512        NaN        NaN      NaN       1  \n",
       "43498            1597782        NaN        NaN      NaN       1  \n",
       "38961            862613         NaN        NaN      NaN       1  "
      ]
     },
     "execution_count": 79,
     "metadata": {},
     "output_type": "execute_result"
    }
   ],
   "source": [
    "df[df.isnull().any(axis=1)]"
   ]
  },
  {
   "cell_type": "code",
   "execution_count": 85,
   "metadata": {},
   "outputs": [
    {
     "data": {
      "text/html": [
       "<div>\n",
       "<style scoped>\n",
       "    .dataframe tbody tr th:only-of-type {\n",
       "        vertical-align: middle;\n",
       "    }\n",
       "\n",
       "    .dataframe tbody tr th {\n",
       "        vertical-align: top;\n",
       "    }\n",
       "\n",
       "    .dataframe thead th {\n",
       "        text-align: right;\n",
       "    }\n",
       "</style>\n",
       "<table border=\"1\" class=\"dataframe\">\n",
       "  <thead>\n",
       "    <tr style=\"text-align: right;\">\n",
       "      <th></th>\n",
       "      <th>node_id_small</th>\n",
       "      <th>jobs_500_walk</th>\n",
       "      <th>land_value</th>\n",
       "      <th>nonres_rent_per_sqft</th>\n",
       "      <th>avg_income_500_walk</th>\n",
       "      <th>jobs_25000</th>\n",
       "      <th>jobs_10000</th>\n",
       "      <th>units_sf_10000</th>\n",
       "      <th>sqft_2500</th>\n",
       "      <th>pop_10000</th>\n",
       "      <th>jobs_10000_retail</th>\n",
       "      <th>nonres_sqft_2500</th>\n",
       "      <th>jobs_2500_walk_finance</th>\n",
       "      <th>units_mf_1500_walk</th>\n",
       "      <th>osmid</th>\n",
       "      <th>retail_lq</th>\n",
       "      <th>stratum</th>\n",
       "    </tr>\n",
       "    <tr>\n",
       "      <th>building_id</th>\n",
       "      <th></th>\n",
       "      <th></th>\n",
       "      <th></th>\n",
       "      <th></th>\n",
       "      <th></th>\n",
       "      <th></th>\n",
       "      <th></th>\n",
       "      <th></th>\n",
       "      <th></th>\n",
       "      <th></th>\n",
       "      <th></th>\n",
       "      <th></th>\n",
       "      <th></th>\n",
       "      <th></th>\n",
       "      <th></th>\n",
       "      <th></th>\n",
       "      <th></th>\n",
       "    </tr>\n",
       "  </thead>\n",
       "  <tbody>\n",
       "  </tbody>\n",
       "</table>\n",
       "</div>"
      ],
      "text/plain": [
       "Empty DataFrame\n",
       "Columns: [node_id_small, jobs_500_walk, land_value, nonres_rent_per_sqft, avg_income_500_walk, jobs_25000, jobs_10000, units_sf_10000, sqft_2500, pop_10000, jobs_10000_retail, nonres_sqft_2500, jobs_2500_walk_finance, units_mf_1500_walk, osmid, retail_lq, stratum]\n",
       "Index: []"
      ]
     },
     "execution_count": 85,
     "metadata": {},
     "output_type": "execute_result"
    }
   ],
   "source": [
    "alts2[alts2.index.values == 1745430]"
   ]
  },
  {
   "cell_type": "code",
   "execution_count": null,
   "metadata": {},
   "outputs": [],
   "source": []
  }
 ],
 "metadata": {
  "kernelspec": {
   "display_name": "elcm",
   "language": "python",
   "name": "elcm"
  },
  "language_info": {
   "codemirror_mode": {
    "name": "ipython",
    "version": 3
   },
   "file_extension": ".py",
   "mimetype": "text/x-python",
   "name": "python",
   "nbconvert_exporter": "python",
   "pygments_lexer": "ipython3",
   "version": "3.6.7"
  }
 },
 "nbformat": 4,
 "nbformat_minor": 2
}
