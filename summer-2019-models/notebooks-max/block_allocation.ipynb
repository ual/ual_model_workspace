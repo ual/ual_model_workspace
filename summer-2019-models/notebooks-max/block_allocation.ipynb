{
 "cells": [
  {
   "cell_type": "markdown",
   "metadata": {},
   "source": [
    "### Introduction\n",
    "This notebook is to allocate the synthesized population from block groups to the block level"
   ]
  },
  {
   "cell_type": "code",
   "execution_count": 1,
   "metadata": {},
   "outputs": [],
   "source": [
    "import pandas as pd\n",
    "import numpy as np"
   ]
  },
  {
   "cell_type": "code",
   "execution_count": 2,
   "metadata": {},
   "outputs": [],
   "source": [
    "# Function to change the sf1 data structure to crerate one row per households\n",
    "def disaggregate_sf1(code_num,sf1):\n",
    "    sf_i=[]\n",
    "    for tenure in range (1,3):\n",
    "        for size in range (1,8):\n",
    "            if tenure==1:\n",
    "                col_name='own'+str(size)\n",
    "            else:\n",
    "                col_name='rent'+str(size)\n",
    "                \n",
    "            sf1_filter=sf1[sf1[col_name]>0]\n",
    "            hh=np.repeat(sf1_filter.reset_index()['blockid10'], sf1_filter[col_name]).tolist()\n",
    "            if len(hh)>0:\n",
    "                sf1_dis=pd.DataFrame(index=[list(range(len(hh)))],columns=['block_id','tenure','size'])\n",
    "                sf1_dis.loc[:,'block_id']=hh\n",
    "                sf1_dis.loc[:,'state']=sf1_dis['block_id'].apply(lambda x: x[0:2])\n",
    "                sf1_dis.loc[:,'county']=sf1_dis['block_id'].apply(lambda x: x[2:5])\n",
    "                sf1_dis.loc[:,'tract']=sf1_dis['block_id'].apply(lambda x: x[5:11])\n",
    "                sf1_dis.loc[:,'block_group']=sf1_dis['block_id'].apply(lambda x: x[11])\n",
    "                sf1_dis.loc[:,'tenure']=tenure\n",
    "                sf1_dis.loc[:,'size']=size\n",
    "                sf_i.append(sf1_dis)\n",
    "    return pd.concat(sf_i).reset_index().drop('level_0',axis=1)"
   ]
  },
  {
   "cell_type": "code",
   "execution_count": 3,
   "metadata": {},
   "outputs": [],
   "source": [
    "# Allocate household from synthetic population to sf1 based household type\n",
    "def allocate_from_blockgroup_by_hhtype(sf1_county,synth_hh_county,county):\n",
    "    list_sf1_filt=[]\n",
    "\n",
    "    for tract in sf1_county['tract'].unique():\n",
    "        sf1_tract=sf1_county[sf1_county['tract']==tract]\n",
    "        for group in sf1_tract['block_group'].unique():\n",
    "            for tenure in range (1,3):\n",
    "                for size in range (1,8):\n",
    "                    # Filter the synthpop and sf1 by the case we are studying, block group, tenure and size\n",
    "                    synth_hh_filt=synth_hh_county[(synth_hh_county['tract']==tract)&\\\n",
    "                                           (synth_hh_county['block group']==int(group))&\n",
    "                                           (synth_hh_county['size_group']==size)&(synth_hh_county['tenure']==tenure)]\n",
    "\n",
    "                    sf1_filt=sf1_county[(sf1_county['tract']==tract)&(sf1_county['block_group']==group)&\\\n",
    "                                         (sf1_county['tenure']==tenure)&(sf1_county['size']==size)]\n",
    "\n",
    "\n",
    "                    if not (synth_hh_filt.empty | sf1_filt.empty):\n",
    "                        # If sf1 smaller than hh_block, all sf1 hh will be filled with hh from synthpop\n",
    "                        if len(sf1_filt) < len(synth_hh_filt):\n",
    "                            sf1_filt.loc[:,'synth_hh_id']=np.random.choice(synth_hh_filt['household_id'],\\\n",
    "                                                                       size=len(sf1_filt), replace=False)\n",
    "                        # If sf1 greater than hh_block, not all sf1 hh will be filled in with the hh from syntpop. \n",
    "                        # First we will allocate by hh type as we did in the above step      \n",
    "                        else:\n",
    "                            # random sample the households that will get an agent in this step\n",
    "                            sf1_filt_sample=sf1_filt.sample(n=len(synth_hh_filt))\n",
    "                            sf1_filt_sample['synth_hh_id']=np.random.choice(synth_hh_filt['household_id'],\\\n",
    "                                                                        size=len(sf1_filt_sample), replace=False)\n",
    "\n",
    "                            sf1_filt['synth_hh_id']=sf1_filt_sample['synth_hh_id']         \n",
    "\n",
    "\n",
    "                        list_sf1_filt.append(sf1_filt)\n",
    "\n",
    "    df_sf1_filt=pd.concat(list_sf1_filt) \n",
    "    sf1_county.loc[df_sf1_filt.index,'synth_hh_id']=df_sf1_filt['synth_hh_id']\n",
    "\n",
    "    return sf1_county                       \n",
    "            "
   ]
  },
  {
   "cell_type": "code",
   "execution_count": 4,
   "metadata": {},
   "outputs": [],
   "source": [
    "def allocate_from_tract_by_hhtype(sf1_county,synth_hh_county,county):\n",
    "    list_sf1_null_filt=[]\n",
    "    # Get all the records from sf1 that were not filled in from the country we are looking at.\n",
    "    sf1_county_null=sf1_county[(sf1_county['synth_hh_id'].isnull())]\n",
    "    # Get all the records from the synthpop that were not used yet\n",
    "    synth_hh_county_notused=synth_hh_county[(~synth_hh_county['household_id'].isin(sf1_county['synth_hh_id'].tolist()))]\n",
    "\n",
    "    for tract in sf1_county_null['tract'].unique():\n",
    "        for tenure in range (1,3):\n",
    "            for size in range (1,8):\n",
    "                synth_hh_notused_filt=synth_hh_county_notused[(synth_hh_county_notused['tract']==tract)&\\\n",
    "                                                             (synth_hh_county_notused['size_group']==size)&\\\n",
    "                                                             (synth_hh_county_notused['tenure']==tenure)]\n",
    "\n",
    "                sf1_county_null_filt=sf1_county_null[(sf1_county_null['tract']==tract)&\\\n",
    "                                                     (sf1_county_null['tenure']==tenure)&(sf1_county_null['size']==size)]\n",
    "                \n",
    "                if not (synth_hh_notused_filt.empty | sf1_county_null_filt.empty):\n",
    "                    # If sf1 smaller than what is in the tract, all sf1 will be filled with synth pop from the tract\n",
    "                    if len(sf1_county_null_filt) < len(synth_hh_notused_filt):\n",
    "                        sf1_county_null_filt.loc[:,'synth_hh_id']=np.random.choice(synth_hh_notused_filt['household_id'],\\\n",
    "                                                                       size=len(sf1_county_null_filt), replace=False)\n",
    "                    else:\n",
    "                        sf1_filt_sample=sf1_county_null_filt.sample(n=len(synth_hh_notused_filt))\n",
    "                        sf1_filt_sample['synth_hh_id']=np.random.choice(synth_hh_notused_filt['household_id'],\\\n",
    "                                                                        size=len(sf1_filt_sample), replace=False)\n",
    "                                                \n",
    "                        sf1_county_null_filt['synth_hh_id']=sf1_filt_sample['synth_hh_id']   \n",
    "\n",
    "\n",
    "                list_sf1_null_filt.append(sf1_county_null_filt)\n",
    "                \n",
    "    df_sf1_null_filt=pd.concat(list_sf1_null_filt) \n",
    "    sf1_county.loc[df_sf1_null_filt.index,'synth_hh_id']=df_sf1_null_filt['synth_hh_id']\n",
    "    return sf1_county"
   ]
  },
  {
   "cell_type": "code",
   "execution_count": 5,
   "metadata": {},
   "outputs": [],
   "source": [
    "def any_notused_hh_tract(sf1_county,synth_hh_county):\n",
    "    list_sf1_null_filt=[]\n",
    "    # Get all the records from sf1 that were not filled in from the country we are looking at.\n",
    "    sf1_county_null=sf1_county[(sf1_county['synth_hh_id'].isnull())]\n",
    "    # Get all the records from the synthpop that were not used yet\n",
    "    synth_hh_county_notused=synth_hh_county[(~synth_hh_county['household_id'].isin(sf1_county['synth_hh_id'].tolist()))]\n",
    "    \n",
    "    for tract in sf1_county_null['tract'].unique():\n",
    "        synth_hh_county_notused_filt=synth_hh_county_notused[(synth_hh_county_notused['tract']==tract)]\n",
    "\n",
    "        sf1_county_null_filt=sf1_county_null[(sf1_county_null['tract']==tract)]    \n",
    "        \n",
    "    \n",
    "    if not (synth_hh_county_notused_filt.empty | sf1_county_null_filt.empty):\n",
    "        # If sf1 smaller than what is in the tract, all sf1 will be filled with synth pop from the tract\n",
    "        if len(sf1_county_null_filt) < len(synth_hh_county_notused_filt):\n",
    "            sf1_county_null_filt.loc[:,'synth_hh_id']=np.random.choice(synth_hh_county_notused_filt['household_id'],\\\n",
    "                                                                       size=len(sf1_county_null_filt), replace=False)\n",
    "    \n",
    "        else:\n",
    "            sf1_filt_sample=sf1_county_null_filt.sample(n=len(synth_hh_county_notused_filt))\n",
    "            sf1_filt_sample['synth_hh_id']=np.random.choice(synth_hh_county_notused_filt['household_id'],\\\n",
    "                                                            size=len(sf1_filt_sample), replace=False)\n",
    "\n",
    "            sf1_county_null_filt['synth_hh_id']=sf1_filt_sample['synth_hh_id']   \n",
    "    \n",
    "    \n",
    "    list_sf1_null_filt.append(sf1_county_null_filt)\n",
    "                \n",
    "    df_sf1_null_filt=pd.concat(list_sf1_null_filt) \n",
    "    sf1_county.loc[df_sf1_null_filt.index,'synth_hh_id']=df_sf1_null_filt['synth_hh_id']\n",
    "    return sf1_county    "
   ]
  },
  {
   "cell_type": "code",
   "execution_count": 6,
   "metadata": {},
   "outputs": [],
   "source": [
    "def repeat_from_tract_hhtype(sf1_county,synth_hh_county):\n",
    "    list_sf1_null_filt=[]\n",
    "    # Get all the records from sf1 that were not filled in from the country we are looking at.\n",
    "    sf1_county_null=sf1_county[(sf1_county['synth_hh_id'].isnull())]\n",
    "\n",
    "    for tract in sf1_county_null['tract'].unique():\n",
    "        for tenure in range (1,3):\n",
    "            for size in range (1,8):\n",
    "                synth_hh_filt=synth_hh_county[(synth_hh_county['tract']==tract)&\\\n",
    "                                                (synth_hh_county['size_group']==size)&\\\n",
    "                                                (synth_hh_county['tenure']==tenure)]\n",
    "\n",
    "                sf1_county_null_filt=sf1_county_null[(sf1_county_null['tract']==tract)&\\\n",
    "                                                     (sf1_county_null['tenure']==tenure)&(sf1_county_null['size']==size)]\n",
    "                \n",
    "                if not (synth_hh_filt.empty | sf1_county_null_filt.empty):\n",
    "                    sf1_county_null_filt.loc[:,'synth_hh_id']=np.random.choice(synth_hh_filt['household_id'],\\\n",
    "                                                                       size=len(sf1_county_null_filt), replace=True)\n",
    "    \n",
    "                list_sf1_null_filt.append(sf1_county_null_filt)\n",
    "                \n",
    "    df_sf1_null_filt=pd.concat(list_sf1_null_filt) \n",
    "    sf1_county.loc[df_sf1_null_filt.index,'synth_hh_id']=df_sf1_null_filt['synth_hh_id']\n",
    "    return sf1_county    "
   ]
  },
  {
   "cell_type": "code",
   "execution_count": 7,
   "metadata": {},
   "outputs": [],
   "source": [
    "def repeat_from_tract(sf1_county,synth_hh_county):\n",
    "    list_sf1_null_filt=[]\n",
    "    # Get all the records from sf1 that were not filled in from the country we are looking at.\n",
    "    sf1_county_null=sf1_county[(sf1_county['synth_hh_id'].isnull())]\n",
    "\n",
    "    for tract in sf1_county_null['tract'].unique():\n",
    "        synth_hh_filt=synth_hh_county[(synth_hh_county['tract']==tract)]\n",
    "\n",
    "        sf1_county_null_filt=sf1_county_null[(sf1_county_null['tract']==tract)]\n",
    "\n",
    "        if not (synth_hh_filt.empty | sf1_county_null_filt.empty):\n",
    "            sf1_county_null_filt.loc[:,'synth_hh_id']=np.random.choice(synth_hh_filt['household_id'],\\\n",
    "                                                               size=len(sf1_county_null_filt), replace=True)\n",
    "\n",
    "        list_sf1_null_filt.append(sf1_county_null_filt)\n",
    "                \n",
    "    df_sf1_null_filt=pd.concat(list_sf1_null_filt) \n",
    "    sf1_county.loc[df_sf1_null_filt.index,'synth_hh_id']=df_sf1_null_filt['synth_hh_id']\n",
    "    return sf1_county    "
   ]
  },
  {
   "cell_type": "code",
   "execution_count": 8,
   "metadata": {},
   "outputs": [],
   "source": [
    "code_num={        \n",
    "        'Cook': '031',\n",
    "        'DuPage': '043',\n",
    "        'Kane': '089',\n",
    "        'Kendall': '093',\n",
    "        'Lake': '097',\n",
    "        'McHenry': '111',\n",
    "        'Will': '197',\n",
    "        }"
   ]
  },
  {
   "cell_type": "code",
   "execution_count": 9,
   "metadata": {},
   "outputs": [],
   "source": [
    "# Create the tenure list to filter sf1 \n",
    "tenure_list=[]\n",
    "for i in range(1,8):\n",
    "    tenure_list.append('own'+str(i))\n",
    "    tenure_list.append('rent'+str(i))"
   ]
  },
  {
   "cell_type": "code",
   "execution_count": 82,
   "metadata": {},
   "outputs": [],
   "source": [
    "# Upload the sf1 table \n",
    "sf1=pd.read_csv('./illinois_sf1.csv', dtype={'blockid10':'str','state':'str','county':'str','tract':'str'})\n",
    "sf1.loc[:,'total']=sf1[tenure_list].sum(axis=1)\n",
    "sf1['blockid10']=sf1['blockid10'].astype('str')\n",
    "sf1.set_index('blockid10',inplace=True)\n",
    "sf1_mpo=sf1[sf1['county'].isin(code_num.values())]\n",
    "sf_counties=disaggregate_sf1(code_num,sf1_mpo)"
   ]
  },
  {
   "cell_type": "code",
   "execution_count": 11,
   "metadata": {},
   "outputs": [],
   "source": [
    "dis=disaggregate_sf1(code_num,sf1_mpo)"
   ]
  },
  {
   "cell_type": "code",
   "execution_count": 12,
   "metadata": {},
   "outputs": [],
   "source": [
    "# Upload the synthetic population hh\n",
    "hh=pd.read_csv('synthetic_households.csv',\n",
    "    dtype={'serialno':'str','state':'str','county':'str','tract':'str'})"
   ]
  },
  {
   "cell_type": "code",
   "execution_count": 13,
   "metadata": {},
   "outputs": [
    {
     "data": {
      "text/plain": [
       "Index(['household_id', 'serialno', 'persons', 'group_quarters',\n",
       "       'building_type', 'cars', 'income', 'race_of_head', 'hispanic_head',\n",
       "       'age_of_head', 'workers', 'state', 'county', 'tract', 'block group',\n",
       "       'children', 'tenure', 'recent_mover'],\n",
       "      dtype='object')"
      ]
     },
     "execution_count": 13,
     "metadata": {},
     "output_type": "execute_result"
    }
   ],
   "source": [
    "hh.columns"
   ]
  },
  {
   "cell_type": "code",
   "execution_count": null,
   "metadata": {
    "scrolled": false
   },
   "outputs": [
    {
     "name": "stdout",
     "output_type": "stream",
     "text": [
      "Cook\n",
      "The number of sf1 hh is  1966356\n",
      "The number of synthetic hh is 1947737\n"
     ]
    },
    {
     "name": "stderr",
     "output_type": "stream",
     "text": [
      "/home/max/.local/lib/python3.6/site-packages/ipykernel_launcher.py:10: SettingWithCopyWarning: \n",
      "A value is trying to be set on a copy of a slice from a DataFrame.\n",
      "Try using .loc[row_indexer,col_indexer] = value instead\n",
      "\n",
      "See the caveats in the documentation: http://pandas.pydata.org/pandas-docs/stable/indexing.html#indexing-view-versus-copy\n",
      "  # Remove the CWD from sys.path while we load stuff.\n"
     ]
    },
    {
     "name": "stdout",
     "output_type": "stream",
     "text": [
      "Running allocation\n"
     ]
    },
    {
     "name": "stderr",
     "output_type": "stream",
     "text": [
      "/home/max/.local/lib/python3.6/site-packages/ipykernel_launcher.py:32: SettingWithCopyWarning: \n",
      "A value is trying to be set on a copy of a slice from a DataFrame.\n",
      "Try using .loc[row_indexer,col_indexer] = value instead\n",
      "\n",
      "See the caveats in the documentation: http://pandas.pydata.org/pandas-docs/stable/indexing.html#indexing-view-versus-copy\n",
      "/home/max/anaconda3/envs/activitysynth/lib/python3.6/site-packages/pandas/core/indexing.py:362: SettingWithCopyWarning: \n",
      "A value is trying to be set on a copy of a slice from a DataFrame.\n",
      "Try using .loc[row_indexer,col_indexer] = value instead\n",
      "\n",
      "See the caveats in the documentation: http://pandas.pydata.org/pandas-docs/stable/indexing.html#indexing-view-versus-copy\n",
      "  self.obj[key] = _infer_fill_value(value)\n",
      "/home/max/anaconda3/envs/activitysynth/lib/python3.6/site-packages/pandas/core/indexing.py:543: SettingWithCopyWarning: \n",
      "A value is trying to be set on a copy of a slice from a DataFrame.\n",
      "Try using .loc[row_indexer,col_indexer] = value instead\n",
      "\n",
      "See the caveats in the documentation: http://pandas.pydata.org/pandas-docs/stable/indexing.html#indexing-view-versus-copy\n",
      "  self.obj[item] = s\n"
     ]
    }
   ],
   "source": [
    "sf1_all_counties=[]\n",
    "for key,value in code_num.items():\n",
    "    county=value\n",
    "    print (key)\n",
    "    synth_hh=hh[hh['county']==county]\n",
    "    print ('The number of sf1 hh is ', sf1[sf1['county']==county][tenure_list].sum().sum())\n",
    "    print ('The number of synthetic hh is',synth_hh['block group'].value_counts().sum())\n",
    "    # Create the size_groups to match sf1\n",
    "    size_group=pd.cut(synth_hh.persons,[0,2,3,4,5,6,7,1000],right=False,labels=[1,2,3,4,5,6,7])\n",
    "    synth_hh['size_group']=size_group\n",
    "    \n",
    "    sf1_county=sf_counties[sf_counties['county']==county]\n",
    "    synth_hh_county=synth_hh[synth_hh['county']==county]\n",
    "    \n",
    "    print('Running allocation')\n",
    "    sf1_county=allocate_from_blockgroup_by_hhtype(sf1_county,synth_hh_county,county)  \n",
    "    \n",
    "    if not (sf1_county[sf1_county['synth_hh_id'].isnull()].empty):        \n",
    "        sf1_county=allocate_from_tract_by_hhtype(sf1_county,synth_hh_county,county)\n",
    "        \n",
    "    if not (sf1_county[sf1_county['synth_hh_id'].isnull()].empty):        \n",
    "        sf1_county=any_notused_hh_tract(sf1_county,synth_hh_county)\n",
    "        \n",
    "    if not (sf1_county[sf1_county['synth_hh_id'].isnull()].empty):    \n",
    "        sf1_county=repeat_from_tract_hhtype(sf1_county,synth_hh_county)  \n",
    "        \n",
    "    if not (sf1_county[sf1_county['synth_hh_id'].isnull()].empty):    \n",
    "        sf1_county=repeat_from_tract(sf1_county,synth_hh_county) \n",
    "        \n",
    "    sf1_all_counties.append(sf1_county)"
   ]
  },
  {
   "cell_type": "code",
   "execution_count": 20,
   "metadata": {},
   "outputs": [
    {
     "data": {
      "text/plain": [
       "'Will'"
      ]
     },
     "execution_count": 20,
     "metadata": {},
     "output_type": "execute_result"
    }
   ],
   "source": [
    "key"
   ]
  },
  {
   "cell_type": "code",
   "execution_count": null,
   "metadata": {},
   "outputs": [],
   "source": [
    "sf_counties=pd.concat(sf1_all_counties)"
   ]
  },
  {
   "cell_type": "code",
   "execution_count": null,
   "metadata": {},
   "outputs": [],
   "source": [
    "sf_counties.to_csv('il_counties.csv')"
   ]
  },
  {
   "cell_type": "code",
   "execution_count": null,
   "metadata": {},
   "outputs": [],
   "source": [
    "sf1.loc['250158208021005']"
   ]
  },
  {
   "cell_type": "code",
   "execution_count": null,
   "metadata": {},
   "outputs": [],
   "source": [
    "hh[(hh['county']=='015')&(hh['tract']=='820802')]"
   ]
  },
  {
   "cell_type": "markdown",
   "metadata": {},
   "source": [
    "# Check the data"
   ]
  },
  {
   "cell_type": "code",
   "execution_count": 83,
   "metadata": {},
   "outputs": [],
   "source": [
    "sf_counties=pd.read_csv('il_counties.csv', dtype={'block_id':'str','state':'str','county':'str',\\\n",
    "                                                         'tract':'str','block_group':'str'})"
   ]
  },
  {
   "cell_type": "code",
   "execution_count": 76,
   "metadata": {},
   "outputs": [],
   "source": [
    "a=pd.merge(sf_counties,hh[['household_id','state','county','tract','block group']],left_on='synth_hh_id',right_on='household_id',how='left')"
   ]
  },
  {
   "cell_type": "code",
   "execution_count": 77,
   "metadata": {},
   "outputs": [
    {
     "data": {
      "text/html": [
       "<div>\n",
       "<style scoped>\n",
       "    .dataframe tbody tr th:only-of-type {\n",
       "        vertical-align: middle;\n",
       "    }\n",
       "\n",
       "    .dataframe tbody tr th {\n",
       "        vertical-align: top;\n",
       "    }\n",
       "\n",
       "    .dataframe thead th {\n",
       "        text-align: right;\n",
       "    }\n",
       "</style>\n",
       "<table border=\"1\" class=\"dataframe\">\n",
       "  <thead>\n",
       "    <tr style=\"text-align: right;\">\n",
       "      <th></th>\n",
       "      <th>Unnamed: 0</th>\n",
       "      <th>block_id</th>\n",
       "      <th>tenure</th>\n",
       "      <th>size</th>\n",
       "      <th>state_x</th>\n",
       "      <th>county_x</th>\n",
       "      <th>tract_x</th>\n",
       "      <th>block_group</th>\n",
       "      <th>synth_hh_id</th>\n",
       "      <th>household_id</th>\n",
       "      <th>state_y</th>\n",
       "      <th>county_y</th>\n",
       "      <th>tract_y</th>\n",
       "      <th>block group</th>\n",
       "    </tr>\n",
       "  </thead>\n",
       "  <tbody>\n",
       "    <tr>\n",
       "      <th>2706254</th>\n",
       "      <td>2394617</td>\n",
       "      <td>170978630051000</td>\n",
       "      <td>2</td>\n",
       "      <td>1</td>\n",
       "      <td>17</td>\n",
       "      <td>097</td>\n",
       "      <td>863005</td>\n",
       "      <td>1</td>\n",
       "      <td>NaN</td>\n",
       "      <td>NaN</td>\n",
       "      <td>NaN</td>\n",
       "      <td>NaN</td>\n",
       "      <td>NaN</td>\n",
       "      <td>NaN</td>\n",
       "    </tr>\n",
       "  </tbody>\n",
       "</table>\n",
       "</div>"
      ],
      "text/plain": [
       "         Unnamed: 0         block_id  tenure  size state_x county_x tract_x  \\\n",
       "2706254     2394617  170978630051000       2     1      17      097  863005   \n",
       "\n",
       "        block_group  synth_hh_id  household_id state_y county_y tract_y  \\\n",
       "2706254           1          NaN           NaN     NaN      NaN     NaN   \n",
       "\n",
       "         block group  \n",
       "2706254          NaN  "
      ]
     },
     "execution_count": 77,
     "metadata": {},
     "output_type": "execute_result"
    }
   ],
   "source": [
    "# Check the allocation worked by county\n",
    "a[a['county_x']!=a['county_y']]"
   ]
  },
  {
   "cell_type": "code",
   "execution_count": 78,
   "metadata": {},
   "outputs": [
    {
     "data": {
      "text/html": [
       "<div>\n",
       "<style scoped>\n",
       "    .dataframe tbody tr th:only-of-type {\n",
       "        vertical-align: middle;\n",
       "    }\n",
       "\n",
       "    .dataframe tbody tr th {\n",
       "        vertical-align: top;\n",
       "    }\n",
       "\n",
       "    .dataframe thead th {\n",
       "        text-align: right;\n",
       "    }\n",
       "</style>\n",
       "<table border=\"1\" class=\"dataframe\">\n",
       "  <thead>\n",
       "    <tr style=\"text-align: right;\">\n",
       "      <th></th>\n",
       "      <th>Unnamed: 0</th>\n",
       "      <th>block_id</th>\n",
       "      <th>tenure</th>\n",
       "      <th>size</th>\n",
       "      <th>state_x</th>\n",
       "      <th>county_x</th>\n",
       "      <th>tract_x</th>\n",
       "      <th>block_group</th>\n",
       "      <th>synth_hh_id</th>\n",
       "      <th>household_id</th>\n",
       "      <th>state_y</th>\n",
       "      <th>county_y</th>\n",
       "      <th>tract_y</th>\n",
       "      <th>block group</th>\n",
       "    </tr>\n",
       "  </thead>\n",
       "  <tbody>\n",
       "    <tr>\n",
       "      <th>2706254</th>\n",
       "      <td>2394617</td>\n",
       "      <td>170978630051000</td>\n",
       "      <td>2</td>\n",
       "      <td>1</td>\n",
       "      <td>17</td>\n",
       "      <td>097</td>\n",
       "      <td>863005</td>\n",
       "      <td>1</td>\n",
       "      <td>NaN</td>\n",
       "      <td>NaN</td>\n",
       "      <td>NaN</td>\n",
       "      <td>NaN</td>\n",
       "      <td>NaN</td>\n",
       "      <td>NaN</td>\n",
       "    </tr>\n",
       "  </tbody>\n",
       "</table>\n",
       "</div>"
      ],
      "text/plain": [
       "         Unnamed: 0         block_id  tenure  size state_x county_x tract_x  \\\n",
       "2706254     2394617  170978630051000       2     1      17      097  863005   \n",
       "\n",
       "        block_group  synth_hh_id  household_id state_y county_y tract_y  \\\n",
       "2706254           1          NaN           NaN     NaN      NaN     NaN   \n",
       "\n",
       "         block group  \n",
       "2706254          NaN  "
      ]
     },
     "execution_count": 78,
     "metadata": {},
     "output_type": "execute_result"
    }
   ],
   "source": [
    "# Check the allocation worked by tract\n",
    "a[a['tract_x']!=a['tract_y']]"
   ]
  },
  {
   "cell_type": "code",
   "execution_count": 79,
   "metadata": {},
   "outputs": [
    {
     "data": {
      "text/html": [
       "<div>\n",
       "<style scoped>\n",
       "    .dataframe tbody tr th:only-of-type {\n",
       "        vertical-align: middle;\n",
       "    }\n",
       "\n",
       "    .dataframe tbody tr th {\n",
       "        vertical-align: top;\n",
       "    }\n",
       "\n",
       "    .dataframe thead th {\n",
       "        text-align: right;\n",
       "    }\n",
       "</style>\n",
       "<table border=\"1\" class=\"dataframe\">\n",
       "  <thead>\n",
       "    <tr style=\"text-align: right;\">\n",
       "      <th></th>\n",
       "      <th>Unnamed: 0</th>\n",
       "      <th>block_id</th>\n",
       "      <th>tenure</th>\n",
       "      <th>size</th>\n",
       "      <th>state</th>\n",
       "      <th>county</th>\n",
       "      <th>tract</th>\n",
       "      <th>block_group</th>\n",
       "      <th>synth_hh_id</th>\n",
       "    </tr>\n",
       "  </thead>\n",
       "  <tbody>\n",
       "    <tr>\n",
       "      <th>2706254</th>\n",
       "      <td>2394617</td>\n",
       "      <td>170978630051000</td>\n",
       "      <td>2</td>\n",
       "      <td>1</td>\n",
       "      <td>17</td>\n",
       "      <td>097</td>\n",
       "      <td>863005</td>\n",
       "      <td>1</td>\n",
       "      <td>NaN</td>\n",
       "    </tr>\n",
       "  </tbody>\n",
       "</table>\n",
       "</div>"
      ],
      "text/plain": [
       "         Unnamed: 0         block_id  tenure  size state county   tract  \\\n",
       "2706254     2394617  170978630051000       2     1    17    097  863005   \n",
       "\n",
       "        block_group  synth_hh_id  \n",
       "2706254           1          NaN  "
      ]
     },
     "execution_count": 79,
     "metadata": {},
     "output_type": "execute_result"
    }
   ],
   "source": [
    "# Check if a county was not allocated\n",
    "sf_counties[sf_counties['synth_hh_id'].isnull()]"
   ]
  },
  {
   "cell_type": "code",
   "execution_count": 80,
   "metadata": {},
   "outputs": [
    {
     "data": {
      "text/plain": [
       "(389274, 9)"
      ]
     },
     "execution_count": 80,
     "metadata": {},
     "output_type": "execute_result"
    }
   ],
   "source": [
    "# check the amount of records that were duplicated\n",
    "sf_counties[sf_counties['synth_hh_id'].duplicated()].shape"
   ]
  },
  {
   "cell_type": "code",
   "execution_count": 84,
   "metadata": {},
   "outputs": [
    {
     "data": {
      "text/plain": [
       "0"
      ]
     },
     "execution_count": 84,
     "metadata": {},
     "output_type": "execute_result"
    }
   ],
   "source": [
    "sf1[sf1['county'].isin(code_num.values())]['total'].sum()-len(sf_counties)"
   ]
  },
  {
   "cell_type": "markdown",
   "metadata": {},
   "source": [
    "Delete the value with null results since this is part of a campus and does not have any value in the synthetic population"
   ]
  },
  {
   "cell_type": "code",
   "execution_count": 85,
   "metadata": {},
   "outputs": [],
   "source": [
    "sf_counties=sf_counties[sf_counties['synth_hh_id'].notnull()]"
   ]
  },
  {
   "cell_type": "markdown",
   "metadata": {},
   "source": [
    "# Process the data"
   ]
  },
  {
   "cell_type": "code",
   "execution_count": 118,
   "metadata": {},
   "outputs": [],
   "source": [
    "# Add the rest of the household characteristic to the sf_counties frame\n",
    "final_hh=pd.merge(hh[['household_id', 'serialno', 'persons', 'group_quarters',\n",
    "       'building_type', 'cars', 'income', 'race_of_head', 'hispanic_head',\n",
    "       'age_of_head', 'workers', 'children', 'tenure', 'recent_mover']],\\\n",
    "                  sf_counties[['block_id','state','county','tract','block_group','synth_hh_id']]\\\n",
    "                  ,left_on='household_id',right_on='synth_hh_id',how='right')"
   ]
  },
  {
   "cell_type": "code",
   "execution_count": 119,
   "metadata": {},
   "outputs": [
    {
     "data": {
      "text/plain": [
       "((3088155, 20), (3075951, 18), (3088155, 9))"
      ]
     },
     "execution_count": 119,
     "metadata": {},
     "output_type": "execute_result"
    }
   ],
   "source": [
    "final_hh.shape,hh.shape,sf_counties.shape"
   ]
  },
  {
   "cell_type": "code",
   "execution_count": 120,
   "metadata": {},
   "outputs": [],
   "source": [
    "final_hh.drop('synth_hh_id',axis=1,inplace=True)"
   ]
  },
  {
   "cell_type": "code",
   "execution_count": 121,
   "metadata": {},
   "outputs": [],
   "source": [
    "final_hh['block_group']=final_hh['block_group'].astype('str')"
   ]
  },
  {
   "cell_type": "code",
   "execution_count": 122,
   "metadata": {},
   "outputs": [],
   "source": [
    "ppl=pd.read_csv('./synthetic_persons.csv', dtype={'serialno':'str','county':'str'})"
   ]
  },
  {
   "cell_type": "code",
   "execution_count": 123,
   "metadata": {},
   "outputs": [
    {
     "data": {
      "text/plain": [
       "(7955397, 19)"
      ]
     },
     "execution_count": 123,
     "metadata": {},
     "output_type": "execute_result"
    }
   ],
   "source": [
    "ppl.shape"
   ]
  },
  {
   "cell_type": "code",
   "execution_count": 124,
   "metadata": {},
   "outputs": [],
   "source": [
    "final_pp=ppl[ppl['household_id'].isin(final_hh['household_id'].tolist())]"
   ]
  },
  {
   "cell_type": "code",
   "execution_count": 125,
   "metadata": {},
   "outputs": [
    {
     "data": {
      "text/plain": [
       "(6996488, 19)"
      ]
     },
     "execution_count": 125,
     "metadata": {},
     "output_type": "execute_result"
    }
   ],
   "source": [
    "final_pp.shape"
   ]
  },
  {
   "cell_type": "markdown",
   "metadata": {},
   "source": [
    "Reindex"
   ]
  },
  {
   "cell_type": "code",
   "execution_count": 127,
   "metadata": {},
   "outputs": [],
   "source": [
    "final_hh.loc[:,'household_id_new']=list(range(len(final_hh)))"
   ]
  },
  {
   "cell_type": "code",
   "execution_count": 129,
   "metadata": {},
   "outputs": [
    {
     "data": {
      "text/plain": [
       "(3088155, 20)"
      ]
     },
     "execution_count": 129,
     "metadata": {},
     "output_type": "execute_result"
    }
   ],
   "source": [
    "final_hh.shape"
   ]
  },
  {
   "cell_type": "code",
   "execution_count": 128,
   "metadata": {},
   "outputs": [],
   "source": [
    "final_pp.loc[:,'person_id_new']=list(range(len(final_pp)))"
   ]
  },
  {
   "cell_type": "code",
   "execution_count": 130,
   "metadata": {},
   "outputs": [
    {
     "data": {
      "text/plain": [
       "(6996488, 20)"
      ]
     },
     "execution_count": 130,
     "metadata": {},
     "output_type": "execute_result"
    }
   ],
   "source": [
    "final_pp.shape"
   ]
  },
  {
   "cell_type": "code",
   "execution_count": 131,
   "metadata": {},
   "outputs": [],
   "source": [
    "final_pp=pd.merge(final_pp,final_hh[['household_id','household_id_new']],\n",
    "                  left_on='household_id',right_on='household_id',how='left')"
   ]
  },
  {
   "cell_type": "code",
   "execution_count": 135,
   "metadata": {},
   "outputs": [
    {
     "data": {
      "text/plain": [
       "(8262885, 21)"
      ]
     },
     "execution_count": 135,
     "metadata": {},
     "output_type": "execute_result"
    }
   ],
   "source": [
    "final_pp.shape"
   ]
  },
  {
   "cell_type": "code",
   "execution_count": 136,
   "metadata": {},
   "outputs": [],
   "source": [
    "final_hh.drop('household_id',inplace=True,axis=1)"
   ]
  },
  {
   "cell_type": "code",
   "execution_count": 137,
   "metadata": {},
   "outputs": [],
   "source": [
    "final_hh.rename(columns={'household_id_new':'household_id'},inplace=True)"
   ]
  },
  {
   "cell_type": "code",
   "execution_count": 138,
   "metadata": {},
   "outputs": [],
   "source": [
    "final_hh.set_index('household_id',inplace=True)"
   ]
  },
  {
   "cell_type": "code",
   "execution_count": 139,
   "metadata": {},
   "outputs": [],
   "source": [
    "final_pp.drop(['household_id','person_id'],axis=1,inplace=True)"
   ]
  },
  {
   "cell_type": "code",
   "execution_count": 140,
   "metadata": {},
   "outputs": [],
   "source": [
    "final_pp.rename(columns={'household_id_new':'household_id','person_id_new':'person_id'},inplace=True)"
   ]
  },
  {
   "cell_type": "code",
   "execution_count": 141,
   "metadata": {},
   "outputs": [],
   "source": [
    "final_pp.set_index('person_id',inplace=True)"
   ]
  },
  {
   "cell_type": "code",
   "execution_count": 142,
   "metadata": {},
   "outputs": [
    {
     "data": {
      "text/plain": [
       "((8262885, 18), 8262885)"
      ]
     },
     "execution_count": 142,
     "metadata": {},
     "output_type": "execute_result"
    }
   ],
   "source": [
    "final_pp.shape,final_hh['persons'].sum()"
   ]
  },
  {
   "cell_type": "code",
   "execution_count": 143,
   "metadata": {},
   "outputs": [
    {
     "data": {
      "text/html": [
       "<div>\n",
       "<style scoped>\n",
       "    .dataframe tbody tr th:only-of-type {\n",
       "        vertical-align: middle;\n",
       "    }\n",
       "\n",
       "    .dataframe tbody tr th {\n",
       "        vertical-align: top;\n",
       "    }\n",
       "\n",
       "    .dataframe thead th {\n",
       "        text-align: right;\n",
       "    }\n",
       "</style>\n",
       "<table border=\"1\" class=\"dataframe\">\n",
       "  <thead>\n",
       "    <tr style=\"text-align: right;\">\n",
       "      <th></th>\n",
       "      <th>member_id</th>\n",
       "      <th>age</th>\n",
       "      <th>relate</th>\n",
       "      <th>edu</th>\n",
       "      <th>sex</th>\n",
       "      <th>hours</th>\n",
       "      <th>hispanic</th>\n",
       "      <th>earning</th>\n",
       "      <th>race_id</th>\n",
       "      <th>hispanic.1</th>\n",
       "      <th>student</th>\n",
       "      <th>work_at_home</th>\n",
       "      <th>worker</th>\n",
       "      <th>self_employed</th>\n",
       "      <th>unemployed</th>\n",
       "      <th>nilf</th>\n",
       "      <th>county</th>\n",
       "      <th>household_id</th>\n",
       "    </tr>\n",
       "    <tr>\n",
       "      <th>person_id</th>\n",
       "      <th></th>\n",
       "      <th></th>\n",
       "      <th></th>\n",
       "      <th></th>\n",
       "      <th></th>\n",
       "      <th></th>\n",
       "      <th></th>\n",
       "      <th></th>\n",
       "      <th></th>\n",
       "      <th></th>\n",
       "      <th></th>\n",
       "      <th></th>\n",
       "      <th></th>\n",
       "      <th></th>\n",
       "      <th></th>\n",
       "      <th></th>\n",
       "      <th></th>\n",
       "      <th></th>\n",
       "    </tr>\n",
       "  </thead>\n",
       "  <tbody>\n",
       "    <tr>\n",
       "      <th>0</th>\n",
       "      <td>1</td>\n",
       "      <td>30</td>\n",
       "      <td>0</td>\n",
       "      <td>21.0</td>\n",
       "      <td>1</td>\n",
       "      <td>45.0</td>\n",
       "      <td>1</td>\n",
       "      <td>59000.0</td>\n",
       "      <td>1</td>\n",
       "      <td>no</td>\n",
       "      <td>0</td>\n",
       "      <td>0</td>\n",
       "      <td>1</td>\n",
       "      <td>0</td>\n",
       "      <td>0</td>\n",
       "      <td>0</td>\n",
       "      <td>031</td>\n",
       "      <td>54</td>\n",
       "    </tr>\n",
       "    <tr>\n",
       "      <th>1</th>\n",
       "      <td>2</td>\n",
       "      <td>30</td>\n",
       "      <td>1</td>\n",
       "      <td>21.0</td>\n",
       "      <td>2</td>\n",
       "      <td>35.0</td>\n",
       "      <td>1</td>\n",
       "      <td>35000.0</td>\n",
       "      <td>1</td>\n",
       "      <td>no</td>\n",
       "      <td>0</td>\n",
       "      <td>0</td>\n",
       "      <td>1</td>\n",
       "      <td>0</td>\n",
       "      <td>0</td>\n",
       "      <td>0</td>\n",
       "      <td>031</td>\n",
       "      <td>54</td>\n",
       "    </tr>\n",
       "    <tr>\n",
       "      <th>2</th>\n",
       "      <td>2</td>\n",
       "      <td>28</td>\n",
       "      <td>12</td>\n",
       "      <td>21.0</td>\n",
       "      <td>1</td>\n",
       "      <td>50.0</td>\n",
       "      <td>1</td>\n",
       "      <td>100000.0</td>\n",
       "      <td>1</td>\n",
       "      <td>no</td>\n",
       "      <td>1</td>\n",
       "      <td>0</td>\n",
       "      <td>1</td>\n",
       "      <td>0</td>\n",
       "      <td>0</td>\n",
       "      <td>0</td>\n",
       "      <td>031</td>\n",
       "      <td>136</td>\n",
       "    </tr>\n",
       "    <tr>\n",
       "      <th>3</th>\n",
       "      <td>2</td>\n",
       "      <td>28</td>\n",
       "      <td>12</td>\n",
       "      <td>21.0</td>\n",
       "      <td>1</td>\n",
       "      <td>50.0</td>\n",
       "      <td>1</td>\n",
       "      <td>100000.0</td>\n",
       "      <td>1</td>\n",
       "      <td>no</td>\n",
       "      <td>1</td>\n",
       "      <td>0</td>\n",
       "      <td>1</td>\n",
       "      <td>0</td>\n",
       "      <td>0</td>\n",
       "      <td>0</td>\n",
       "      <td>031</td>\n",
       "      <td>137</td>\n",
       "    </tr>\n",
       "    <tr>\n",
       "      <th>4</th>\n",
       "      <td>2</td>\n",
       "      <td>28</td>\n",
       "      <td>12</td>\n",
       "      <td>21.0</td>\n",
       "      <td>1</td>\n",
       "      <td>50.0</td>\n",
       "      <td>1</td>\n",
       "      <td>100000.0</td>\n",
       "      <td>1</td>\n",
       "      <td>no</td>\n",
       "      <td>1</td>\n",
       "      <td>0</td>\n",
       "      <td>1</td>\n",
       "      <td>0</td>\n",
       "      <td>0</td>\n",
       "      <td>0</td>\n",
       "      <td>031</td>\n",
       "      <td>289</td>\n",
       "    </tr>\n",
       "  </tbody>\n",
       "</table>\n",
       "</div>"
      ],
      "text/plain": [
       "           member_id  age  relate   edu  sex  hours  hispanic   earning  \\\n",
       "person_id                                                                 \n",
       "0                  1   30       0  21.0    1   45.0         1   59000.0   \n",
       "1                  2   30       1  21.0    2   35.0         1   35000.0   \n",
       "2                  2   28      12  21.0    1   50.0         1  100000.0   \n",
       "3                  2   28      12  21.0    1   50.0         1  100000.0   \n",
       "4                  2   28      12  21.0    1   50.0         1  100000.0   \n",
       "\n",
       "           race_id hispanic.1  student  work_at_home  worker  self_employed  \\\n",
       "person_id                                                                     \n",
       "0                1         no        0             0       1              0   \n",
       "1                1         no        0             0       1              0   \n",
       "2                1         no        1             0       1              0   \n",
       "3                1         no        1             0       1              0   \n",
       "4                1         no        1             0       1              0   \n",
       "\n",
       "           unemployed  nilf county  household_id  \n",
       "person_id                                         \n",
       "0                   0     0    031            54  \n",
       "1                   0     0    031            54  \n",
       "2                   0     0    031           136  \n",
       "3                   0     0    031           137  \n",
       "4                   0     0    031           289  "
      ]
     },
     "execution_count": 143,
     "metadata": {},
     "output_type": "execute_result"
    }
   ],
   "source": [
    "final_pp.head()"
   ]
  },
  {
   "cell_type": "markdown",
   "metadata": {},
   "source": [
    "# Check we reached the desired targets at each block group"
   ]
  },
  {
   "cell_type": "code",
   "execution_count": 144,
   "metadata": {},
   "outputs": [
    {
     "data": {
      "text/plain": [
       "0.0"
      ]
     },
     "execution_count": 144,
     "metadata": {},
     "output_type": "execute_result"
    }
   ],
   "source": [
    "group_hh=final_hh.groupby(['county','tract','state','block_group']).size()\n",
    "sf1_mpo['blkgrp']=sf1_mpo['blkgrp'].astype('str')\n",
    "sf1=sf1_mpo.groupby(['county','tract','state','blkgrp'])[['total']].sum()\n",
    "sf1['total_2']=group_hh\n",
    "sf1['diff']=sf1['total']-sf1['total_2']\n",
    "sf1['diff'].sum()"
   ]
  },
  {
   "cell_type": "code",
   "execution_count": 145,
   "metadata": {},
   "outputs": [
    {
     "data": {
      "text/plain": [
       "0"
      ]
     },
     "execution_count": 145,
     "metadata": {},
     "output_type": "execute_result"
    }
   ],
   "source": [
    "sf1_mpo[(sf1_mpo['tract']=='007801')&(sf1_mpo['blkgrp']=='2')]['total'].sum()"
   ]
  },
  {
   "cell_type": "markdown",
   "metadata": {},
   "source": [
    "# Check we reached the desired targets at each block"
   ]
  },
  {
   "cell_type": "code",
   "execution_count": 146,
   "metadata": {},
   "outputs": [],
   "source": [
    "group_block_final=final_hh.groupby('block_id').size()"
   ]
  },
  {
   "cell_type": "code",
   "execution_count": 147,
   "metadata": {},
   "outputs": [],
   "source": [
    "sf1_mpo['allocation']=group_block_final\n",
    "sf1_mpo['allocation'].fillna(0,inplace=True)"
   ]
  },
  {
   "cell_type": "code",
   "execution_count": 148,
   "metadata": {},
   "outputs": [],
   "source": [
    "sf1_mpo['error']=sf1_mpo['total']-sf1_mpo['allocation']"
   ]
  },
  {
   "cell_type": "code",
   "execution_count": 149,
   "metadata": {},
   "outputs": [
    {
     "data": {
      "text/plain": [
       "1.0"
      ]
     },
     "execution_count": 149,
     "metadata": {},
     "output_type": "execute_result"
    }
   ],
   "source": [
    "sf1_mpo['error'].sum()"
   ]
  },
  {
   "cell_type": "code",
   "execution_count": 150,
   "metadata": {},
   "outputs": [
    {
     "data": {
      "text/html": [
       "<div>\n",
       "<style scoped>\n",
       "    .dataframe tbody tr th:only-of-type {\n",
       "        vertical-align: middle;\n",
       "    }\n",
       "\n",
       "    .dataframe tbody tr th {\n",
       "        vertical-align: top;\n",
       "    }\n",
       "\n",
       "    .dataframe thead th {\n",
       "        text-align: right;\n",
       "    }\n",
       "</style>\n",
       "<table border=\"1\" class=\"dataframe\">\n",
       "  <thead>\n",
       "    <tr style=\"text-align: right;\">\n",
       "      <th></th>\n",
       "      <th>state</th>\n",
       "      <th>county</th>\n",
       "      <th>tract</th>\n",
       "      <th>blkgrp</th>\n",
       "      <th>own1</th>\n",
       "      <th>own2</th>\n",
       "      <th>own3</th>\n",
       "      <th>own4</th>\n",
       "      <th>own5</th>\n",
       "      <th>own6</th>\n",
       "      <th>own7</th>\n",
       "      <th>rent1</th>\n",
       "      <th>rent2</th>\n",
       "      <th>rent3</th>\n",
       "      <th>rent4</th>\n",
       "      <th>rent5</th>\n",
       "      <th>rent6</th>\n",
       "      <th>rent7</th>\n",
       "      <th>residential_units</th>\n",
       "      <th>state_county</th>\n",
       "      <th>total_own</th>\n",
       "      <th>total_rent</th>\n",
       "      <th>total</th>\n",
       "      <th>allocation</th>\n",
       "      <th>error</th>\n",
       "    </tr>\n",
       "    <tr>\n",
       "      <th>blockid10</th>\n",
       "      <th></th>\n",
       "      <th></th>\n",
       "      <th></th>\n",
       "      <th></th>\n",
       "      <th></th>\n",
       "      <th></th>\n",
       "      <th></th>\n",
       "      <th></th>\n",
       "      <th></th>\n",
       "      <th></th>\n",
       "      <th></th>\n",
       "      <th></th>\n",
       "      <th></th>\n",
       "      <th></th>\n",
       "      <th></th>\n",
       "      <th></th>\n",
       "      <th></th>\n",
       "      <th></th>\n",
       "      <th></th>\n",
       "      <th></th>\n",
       "      <th></th>\n",
       "      <th></th>\n",
       "      <th></th>\n",
       "      <th></th>\n",
       "      <th></th>\n",
       "    </tr>\n",
       "  </thead>\n",
       "  <tbody>\n",
       "    <tr>\n",
       "      <th>170978630051000</th>\n",
       "      <td>17</td>\n",
       "      <td>097</td>\n",
       "      <td>863005</td>\n",
       "      <td>1</td>\n",
       "      <td>0</td>\n",
       "      <td>0</td>\n",
       "      <td>0</td>\n",
       "      <td>0</td>\n",
       "      <td>0</td>\n",
       "      <td>0</td>\n",
       "      <td>0</td>\n",
       "      <td>1</td>\n",
       "      <td>0</td>\n",
       "      <td>0</td>\n",
       "      <td>0</td>\n",
       "      <td>0</td>\n",
       "      <td>0</td>\n",
       "      <td>0</td>\n",
       "      <td>1</td>\n",
       "      <td>17097</td>\n",
       "      <td>0</td>\n",
       "      <td>1</td>\n",
       "      <td>1</td>\n",
       "      <td>0.0</td>\n",
       "      <td>1.0</td>\n",
       "    </tr>\n",
       "  </tbody>\n",
       "</table>\n",
       "</div>"
      ],
      "text/plain": [
       "                state county   tract blkgrp  own1  own2  own3  own4  own5  \\\n",
       "blockid10                                                                   \n",
       "170978630051000    17    097  863005      1     0     0     0     0     0   \n",
       "\n",
       "                 own6  own7  rent1  rent2  rent3  rent4  rent5  rent6  rent7  \\\n",
       "blockid10                                                                      \n",
       "170978630051000     0     0      1      0      0      0      0      0      0   \n",
       "\n",
       "                 residential_units  state_county  total_own  total_rent  \\\n",
       "blockid10                                                                 \n",
       "170978630051000                  1         17097          0           1   \n",
       "\n",
       "                 total  allocation  error  \n",
       "blockid10                                  \n",
       "170978630051000      1         0.0    1.0  "
      ]
     },
     "execution_count": 150,
     "metadata": {},
     "output_type": "execute_result"
    }
   ],
   "source": [
    "pd.set_option('display.max_columns',500)\n",
    "sf1_mpo[sf1_mpo['error']==1]"
   ]
  },
  {
   "cell_type": "markdown",
   "metadata": {},
   "source": [
    "# Check the tracts"
   ]
  },
  {
   "cell_type": "code",
   "execution_count": 151,
   "metadata": {},
   "outputs": [
    {
     "data": {
      "text/html": [
       "<div>\n",
       "<style scoped>\n",
       "    .dataframe tbody tr th:only-of-type {\n",
       "        vertical-align: middle;\n",
       "    }\n",
       "\n",
       "    .dataframe tbody tr th {\n",
       "        vertical-align: top;\n",
       "    }\n",
       "\n",
       "    .dataframe thead th {\n",
       "        text-align: right;\n",
       "    }\n",
       "</style>\n",
       "<table border=\"1\" class=\"dataframe\">\n",
       "  <thead>\n",
       "    <tr style=\"text-align: right;\">\n",
       "      <th></th>\n",
       "      <th>serialno</th>\n",
       "      <th>persons</th>\n",
       "      <th>group_quarters</th>\n",
       "      <th>building_type</th>\n",
       "      <th>cars</th>\n",
       "      <th>income</th>\n",
       "      <th>race_of_head</th>\n",
       "      <th>hispanic_head</th>\n",
       "      <th>age_of_head</th>\n",
       "      <th>workers</th>\n",
       "      <th>children</th>\n",
       "      <th>tenure</th>\n",
       "      <th>recent_mover</th>\n",
       "      <th>block_id</th>\n",
       "      <th>state</th>\n",
       "      <th>county</th>\n",
       "      <th>tract</th>\n",
       "      <th>block_group</th>\n",
       "      <th>test_tract</th>\n",
       "    </tr>\n",
       "    <tr>\n",
       "      <th>household_id</th>\n",
       "      <th></th>\n",
       "      <th></th>\n",
       "      <th></th>\n",
       "      <th></th>\n",
       "      <th></th>\n",
       "      <th></th>\n",
       "      <th></th>\n",
       "      <th></th>\n",
       "      <th></th>\n",
       "      <th></th>\n",
       "      <th></th>\n",
       "      <th></th>\n",
       "      <th></th>\n",
       "      <th></th>\n",
       "      <th></th>\n",
       "      <th></th>\n",
       "      <th></th>\n",
       "      <th></th>\n",
       "      <th></th>\n",
       "    </tr>\n",
       "  </thead>\n",
       "  <tbody>\n",
       "  </tbody>\n",
       "</table>\n",
       "</div>"
      ],
      "text/plain": [
       "Empty DataFrame\n",
       "Columns: [serialno, persons, group_quarters, building_type, cars, income, race_of_head, hispanic_head, age_of_head, workers, children, tenure, recent_mover, block_id, state, county, tract, block_group, test_tract]\n",
       "Index: []"
      ]
     },
     "execution_count": 151,
     "metadata": {},
     "output_type": "execute_result"
    }
   ],
   "source": [
    "final_hh['test_tract']=final_hh['block_id'].apply(lambda x:str(x)[5:11])\n",
    "final_hh[final_hh['test_tract']!=final_hh['tract']]"
   ]
  },
  {
   "cell_type": "code",
   "execution_count": 152,
   "metadata": {},
   "outputs": [
    {
     "data": {
      "text/plain": [
       "3088155"
      ]
     },
     "execution_count": 152,
     "metadata": {},
     "output_type": "execute_result"
    }
   ],
   "source": [
    "len(final_pp['household_id'].unique())"
   ]
  },
  {
   "cell_type": "code",
   "execution_count": 153,
   "metadata": {},
   "outputs": [
    {
     "data": {
      "text/plain": [
       "3088155"
      ]
     },
     "execution_count": 153,
     "metadata": {},
     "output_type": "execute_result"
    }
   ],
   "source": [
    "len(final_hh.index.unique())"
   ]
  },
  {
   "cell_type": "code",
   "execution_count": 154,
   "metadata": {},
   "outputs": [
    {
     "data": {
      "text/plain": [
       "(8262885, 18)"
      ]
     },
     "execution_count": 154,
     "metadata": {},
     "output_type": "execute_result"
    }
   ],
   "source": [
    "final_pp.shape"
   ]
  },
  {
   "cell_type": "code",
   "execution_count": 155,
   "metadata": {},
   "outputs": [
    {
     "data": {
      "text/html": [
       "<div>\n",
       "<style scoped>\n",
       "    .dataframe tbody tr th:only-of-type {\n",
       "        vertical-align: middle;\n",
       "    }\n",
       "\n",
       "    .dataframe tbody tr th {\n",
       "        vertical-align: top;\n",
       "    }\n",
       "\n",
       "    .dataframe thead th {\n",
       "        text-align: right;\n",
       "    }\n",
       "</style>\n",
       "<table border=\"1\" class=\"dataframe\">\n",
       "  <thead>\n",
       "    <tr style=\"text-align: right;\">\n",
       "      <th></th>\n",
       "      <th>member_id</th>\n",
       "      <th>age</th>\n",
       "      <th>relate</th>\n",
       "      <th>edu</th>\n",
       "      <th>sex</th>\n",
       "      <th>hours</th>\n",
       "      <th>hispanic</th>\n",
       "      <th>earning</th>\n",
       "      <th>race_id</th>\n",
       "      <th>hispanic.1</th>\n",
       "      <th>student</th>\n",
       "      <th>work_at_home</th>\n",
       "      <th>worker</th>\n",
       "      <th>self_employed</th>\n",
       "      <th>unemployed</th>\n",
       "      <th>nilf</th>\n",
       "      <th>county</th>\n",
       "      <th>household_id</th>\n",
       "    </tr>\n",
       "    <tr>\n",
       "      <th>person_id</th>\n",
       "      <th></th>\n",
       "      <th></th>\n",
       "      <th></th>\n",
       "      <th></th>\n",
       "      <th></th>\n",
       "      <th></th>\n",
       "      <th></th>\n",
       "      <th></th>\n",
       "      <th></th>\n",
       "      <th></th>\n",
       "      <th></th>\n",
       "      <th></th>\n",
       "      <th></th>\n",
       "      <th></th>\n",
       "      <th></th>\n",
       "      <th></th>\n",
       "      <th></th>\n",
       "      <th></th>\n",
       "    </tr>\n",
       "  </thead>\n",
       "  <tbody>\n",
       "    <tr>\n",
       "      <th>0</th>\n",
       "      <td>1</td>\n",
       "      <td>30</td>\n",
       "      <td>0</td>\n",
       "      <td>21.0</td>\n",
       "      <td>1</td>\n",
       "      <td>45.0</td>\n",
       "      <td>1</td>\n",
       "      <td>59000.0</td>\n",
       "      <td>1</td>\n",
       "      <td>no</td>\n",
       "      <td>0</td>\n",
       "      <td>0</td>\n",
       "      <td>1</td>\n",
       "      <td>0</td>\n",
       "      <td>0</td>\n",
       "      <td>0</td>\n",
       "      <td>031</td>\n",
       "      <td>54</td>\n",
       "    </tr>\n",
       "    <tr>\n",
       "      <th>1</th>\n",
       "      <td>2</td>\n",
       "      <td>30</td>\n",
       "      <td>1</td>\n",
       "      <td>21.0</td>\n",
       "      <td>2</td>\n",
       "      <td>35.0</td>\n",
       "      <td>1</td>\n",
       "      <td>35000.0</td>\n",
       "      <td>1</td>\n",
       "      <td>no</td>\n",
       "      <td>0</td>\n",
       "      <td>0</td>\n",
       "      <td>1</td>\n",
       "      <td>0</td>\n",
       "      <td>0</td>\n",
       "      <td>0</td>\n",
       "      <td>031</td>\n",
       "      <td>54</td>\n",
       "    </tr>\n",
       "    <tr>\n",
       "      <th>2</th>\n",
       "      <td>2</td>\n",
       "      <td>28</td>\n",
       "      <td>12</td>\n",
       "      <td>21.0</td>\n",
       "      <td>1</td>\n",
       "      <td>50.0</td>\n",
       "      <td>1</td>\n",
       "      <td>100000.0</td>\n",
       "      <td>1</td>\n",
       "      <td>no</td>\n",
       "      <td>1</td>\n",
       "      <td>0</td>\n",
       "      <td>1</td>\n",
       "      <td>0</td>\n",
       "      <td>0</td>\n",
       "      <td>0</td>\n",
       "      <td>031</td>\n",
       "      <td>136</td>\n",
       "    </tr>\n",
       "    <tr>\n",
       "      <th>3</th>\n",
       "      <td>2</td>\n",
       "      <td>28</td>\n",
       "      <td>12</td>\n",
       "      <td>21.0</td>\n",
       "      <td>1</td>\n",
       "      <td>50.0</td>\n",
       "      <td>1</td>\n",
       "      <td>100000.0</td>\n",
       "      <td>1</td>\n",
       "      <td>no</td>\n",
       "      <td>1</td>\n",
       "      <td>0</td>\n",
       "      <td>1</td>\n",
       "      <td>0</td>\n",
       "      <td>0</td>\n",
       "      <td>0</td>\n",
       "      <td>031</td>\n",
       "      <td>137</td>\n",
       "    </tr>\n",
       "    <tr>\n",
       "      <th>4</th>\n",
       "      <td>2</td>\n",
       "      <td>28</td>\n",
       "      <td>12</td>\n",
       "      <td>21.0</td>\n",
       "      <td>1</td>\n",
       "      <td>50.0</td>\n",
       "      <td>1</td>\n",
       "      <td>100000.0</td>\n",
       "      <td>1</td>\n",
       "      <td>no</td>\n",
       "      <td>1</td>\n",
       "      <td>0</td>\n",
       "      <td>1</td>\n",
       "      <td>0</td>\n",
       "      <td>0</td>\n",
       "      <td>0</td>\n",
       "      <td>031</td>\n",
       "      <td>289</td>\n",
       "    </tr>\n",
       "  </tbody>\n",
       "</table>\n",
       "</div>"
      ],
      "text/plain": [
       "           member_id  age  relate   edu  sex  hours  hispanic   earning  \\\n",
       "person_id                                                                 \n",
       "0                  1   30       0  21.0    1   45.0         1   59000.0   \n",
       "1                  2   30       1  21.0    2   35.0         1   35000.0   \n",
       "2                  2   28      12  21.0    1   50.0         1  100000.0   \n",
       "3                  2   28      12  21.0    1   50.0         1  100000.0   \n",
       "4                  2   28      12  21.0    1   50.0         1  100000.0   \n",
       "\n",
       "           race_id hispanic.1  student  work_at_home  worker  self_employed  \\\n",
       "person_id                                                                     \n",
       "0                1         no        0             0       1              0   \n",
       "1                1         no        0             0       1              0   \n",
       "2                1         no        1             0       1              0   \n",
       "3                1         no        1             0       1              0   \n",
       "4                1         no        1             0       1              0   \n",
       "\n",
       "           unemployed  nilf county  household_id  \n",
       "person_id                                         \n",
       "0                   0     0    031            54  \n",
       "1                   0     0    031            54  \n",
       "2                   0     0    031           136  \n",
       "3                   0     0    031           137  \n",
       "4                   0     0    031           289  "
      ]
     },
     "execution_count": 155,
     "metadata": {},
     "output_type": "execute_result"
    }
   ],
   "source": [
    "final_pp.head()"
   ]
  },
  {
   "cell_type": "markdown",
   "metadata": {},
   "source": [
    "# Check the serialno"
   ]
  },
  {
   "cell_type": "code",
   "execution_count": null,
   "metadata": {},
   "outputs": [],
   "source": [
    "# pums_pp=pd.read_csv('puma_p_08.csv',dtype={'serialno':'str'})"
   ]
  },
  {
   "cell_type": "code",
   "execution_count": null,
   "metadata": {},
   "outputs": [],
   "source": [
    "# pums_hh=pd.read_csv('puma_h_08.csv',dtype={'serialno':'str'})"
   ]
  },
  {
   "cell_type": "code",
   "execution_count": null,
   "metadata": {},
   "outputs": [],
   "source": [
    "# merge=pd.merge(final_hh,pums_hh,left_on='serialno',right_on='serialno',how='left')"
   ]
  },
  {
   "cell_type": "code",
   "execution_count": null,
   "metadata": {},
   "outputs": [],
   "source": [
    "# # if the resulting df is empty it means the serialno works\n",
    "# merge[merge['WGTP'].isnull()]"
   ]
  },
  {
   "cell_type": "code",
   "execution_count": null,
   "metadata": {},
   "outputs": [],
   "source": [
    "# # add seriano to people\n",
    "# merge_p=pd.merge(final_pp,final_hh[['serialno']],left_on='household_id',right_index=True,how='left')"
   ]
  },
  {
   "cell_type": "code",
   "execution_count": null,
   "metadata": {},
   "outputs": [],
   "source": [
    "# merge_p.shape,final_pp.shape"
   ]
  },
  {
   "cell_type": "code",
   "execution_count": null,
   "metadata": {},
   "outputs": [],
   "source": [
    "# (merge_p['serialno'][0])"
   ]
  },
  {
   "cell_type": "code",
   "execution_count": null,
   "metadata": {},
   "outputs": [],
   "source": [
    "# (pums_pp['serialno'][0])"
   ]
  },
  {
   "cell_type": "code",
   "execution_count": null,
   "metadata": {},
   "outputs": [],
   "source": [
    "# merge_pp=pd.merge(merge_p,pums_pp[['serialno','PUMA00']],left_on='serialno',right_on='serialno',how='left')"
   ]
  },
  {
   "cell_type": "code",
   "execution_count": null,
   "metadata": {},
   "outputs": [],
   "source": [
    "# merge_pp[merge_pp['PUMA00'].isnull()]"
   ]
  },
  {
   "cell_type": "code",
   "execution_count": null,
   "metadata": {},
   "outputs": [],
   "source": []
  },
  {
   "cell_type": "markdown",
   "metadata": {},
   "source": [
    "# Save the data"
   ]
  },
  {
   "cell_type": "code",
   "execution_count": 156,
   "metadata": {},
   "outputs": [],
   "source": [
    "final_hh.to_csv('./data/final_hh.csv')"
   ]
  },
  {
   "cell_type": "code",
   "execution_count": 157,
   "metadata": {},
   "outputs": [],
   "source": [
    "final_pp.to_csv('./data/final_pp.csv')"
   ]
  },
  {
   "cell_type": "code",
   "execution_count": null,
   "metadata": {},
   "outputs": [],
   "source": []
  }
 ],
 "metadata": {
  "kernelspec": {
   "display_name": "Python 3",
   "language": "python",
   "name": "python3"
  },
  "language_info": {
   "codemirror_mode": {
    "name": "ipython",
    "version": 3
   },
   "file_extension": ".py",
   "mimetype": "text/x-python",
   "name": "python",
   "nbconvert_exporter": "python",
   "pygments_lexer": "ipython3",
   "version": "3.6.7"
  }
 },
 "nbformat": 4,
 "nbformat_minor": 2
}
