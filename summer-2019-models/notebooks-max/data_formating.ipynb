{
 "cells": [
  {
   "cell_type": "code",
   "execution_count": 1,
   "metadata": {},
   "outputs": [],
   "source": [
    "import pandas as pd"
   ]
  },
  {
   "cell_type": "code",
   "execution_count": 2,
   "metadata": {},
   "outputs": [],
   "source": [
    "code_num={        \n",
    "        'Cook': '031',\n",
    "        'DuPage': '043',\n",
    "        'Kane': '089',\n",
    "        'Kendall': '093',\n",
    "        'Lake': '097',\n",
    "        'McHenry': '111',\n",
    "        'Will': '197',\n",
    "        }"
   ]
  },
  {
   "cell_type": "code",
   "execution_count": 35,
   "metadata": {},
   "outputs": [],
   "source": [
    "hh_list=[]\n",
    "p_list=[]\n",
    "for key,value in code_num.items():\n",
    "    path='/home/max/projects/synthpop/scripts/'\n",
    "    try:\n",
    "        filename_hh='{0}_County_hh_synth_parallel_2019-07-24.csv'.format(key.replace(' ',''))\n",
    "        filename_p='{0}_County_p_synth_parallel_2019-07-24.csv'.format(key.replace(' ',''))\n",
    "        synth_hh=pd.read_csv(path+filename_hh,dtype={'serialno':'str','state':'str','county':'str','tract':'str'})\n",
    "        synth_p=pd.read_csv(path+filename_p)\n",
    "    except:\n",
    "        filename_hh='{0}_County_hh_synth_parallel_2019-07-29.csv'.format(key.replace(' ',''))\n",
    "        filename_p='{0}_County_p_synth_parallel_2019-07-29.csv'.format(key.replace(' ',''))\n",
    "        synth_hh=pd.read_csv(path+filename_hh,dtype={'serialno':'str','state':'str','county':'str','tract':'str'})\n",
    "        synth_p=pd.read_csv(path+filename_p)\n",
    "    \n",
    "    synth_p.loc[:,'county']=value\n",
    "    hh_list.append(synth_hh)\n",
    "    p_list.append(synth_p)"
   ]
  },
  {
   "cell_type": "code",
   "execution_count": 36,
   "metadata": {},
   "outputs": [],
   "source": [
    "hh=pd.concat(hh_list)\n",
    "p=pd.concat(p_list)"
   ]
  },
  {
   "cell_type": "code",
   "execution_count": 38,
   "metadata": {},
   "outputs": [],
   "source": [
    "hh.loc[:,'household_id_new']=list(range(len(hh)))"
   ]
  },
  {
   "cell_type": "code",
   "execution_count": 39,
   "metadata": {},
   "outputs": [],
   "source": [
    "p.loc[:,'person_id_new']=list(range(len(p)))"
   ]
  },
  {
   "cell_type": "code",
   "execution_count": 40,
   "metadata": {},
   "outputs": [],
   "source": [
    "p_new_ids=pd.merge(p,hh[['household_id','county','household_id_new']],left_on=['household_id','county'],right_on=['household_id','county'],how='left')"
   ]
  },
  {
   "cell_type": "code",
   "execution_count": 41,
   "metadata": {},
   "outputs": [],
   "source": [
    "hh.drop('household_id',axis=1,inplace=True)"
   ]
  },
  {
   "cell_type": "code",
   "execution_count": 42,
   "metadata": {},
   "outputs": [],
   "source": [
    "hh.rename(columns={'household_id_new':'household_id'},inplace=True)"
   ]
  },
  {
   "cell_type": "code",
   "execution_count": 43,
   "metadata": {},
   "outputs": [],
   "source": [
    "hh.set_index('household_id',inplace=True)"
   ]
  },
  {
   "cell_type": "code",
   "execution_count": 44,
   "metadata": {},
   "outputs": [],
   "source": [
    "p_new_ids.drop(['household_id'],axis=1,inplace=True)"
   ]
  },
  {
   "cell_type": "code",
   "execution_count": 45,
   "metadata": {},
   "outputs": [],
   "source": [
    "p_new_ids.rename(columns={'person_id_new':'person_id','household_id_new':'household_id'},inplace=True)"
   ]
  },
  {
   "cell_type": "code",
   "execution_count": 46,
   "metadata": {},
   "outputs": [],
   "source": [
    "p_new_ids.set_index('person_id',inplace=True)"
   ]
  },
  {
   "cell_type": "code",
   "execution_count": 47,
   "metadata": {},
   "outputs": [],
   "source": [
    "hh.to_csv('./synthetic_households.csv')\n",
    "p_new_ids.to_csv('./synthetic_persons.csv')"
   ]
  },
  {
   "cell_type": "code",
   "execution_count": null,
   "metadata": {},
   "outputs": [],
   "source": []
  }
 ],
 "metadata": {
  "kernelspec": {
   "display_name": "Python 3",
   "language": "python",
   "name": "python3"
  },
  "language_info": {
   "codemirror_mode": {
    "name": "ipython",
    "version": 3
   },
   "file_extension": ".py",
   "mimetype": "text/x-python",
   "name": "python",
   "nbconvert_exporter": "python",
   "pygments_lexer": "ipython3",
   "version": "3.6.7"
  }
 },
 "nbformat": 4,
 "nbformat_minor": 2
}
