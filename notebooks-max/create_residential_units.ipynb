{
 "cells": [
  {
   "cell_type": "markdown",
   "metadata": {},
   "source": [
    "Primarily adapted from Sam Maurer's UAL code"
   ]
  },
  {
   "cell_type": "code",
   "execution_count": 1,
   "metadata": {},
   "outputs": [],
   "source": [
    "import os; os.chdir('../')"
   ]
  },
  {
   "cell_type": "code",
   "execution_count": 2,
   "metadata": {},
   "outputs": [],
   "source": [
    "import pandas as pd\n",
    "import numpy as np\n",
    "import orca\n",
    "from scripts import datasources, models\n",
    "from urbansim.utils import misc"
   ]
  },
  {
   "cell_type": "markdown",
   "metadata": {},
   "source": [
    "### Create empty units"
   ]
  },
  {
   "cell_type": "code",
   "execution_count": 3,
   "metadata": {},
   "outputs": [],
   "source": [
    "def _ual_create_empty_units(buildings):\n",
    "    df = pd.DataFrame({\n",
    "        'unit_residential_price': 0,\n",
    "        'unit_residential_rent': 0,\n",
    "        'num_units': 1,\n",
    "        'building_id': np.repeat(buildings.index.values,\n",
    "                                 buildings.residential_units.values.astype(int)),\n",
    "        # counter of the units in a building\n",
    "        'unit_num': np.concatenate([np.arange(i) for i in \\\n",
    "                                    buildings.residential_units.values.astype(int)]),\n",
    "        'tenure': -1\n",
    "    }).sort_values(by=['building_id', 'unit_num']).reset_index(drop=True)\n",
    "    df.index.name = 'unit_id'\n",
    "    return df"
   ]
  },
  {
   "cell_type": "markdown",
   "metadata": {},
   "source": [
    "### Initialize residential units"
   ]
  },
  {
   "cell_type": "code",
   "execution_count": 4,
   "metadata": {},
   "outputs": [],
   "source": [
    "@orca.table('residential_units', cache=True)\n",
    "def residential_units(buildings):\n",
    "    return _ual_create_empty_units(buildings)"
   ]
  },
  {
   "cell_type": "markdown",
   "metadata": {},
   "source": [
    "### Subtract occupied units (\\*\\*\\**cannot be called until households have been assigned to units*\\*\\*\\*)"
   ]
  },
  {
   "cell_type": "code",
   "execution_count": 6,
   "metadata": {},
   "outputs": [],
   "source": [
    "# @orca.column('residential_units', 'vacant_units')\n",
    "# def vacant_units(residential_units, households):\n",
    "#     return residential_units.num_units.sub(\n",
    "#             households.unit_id[households.unit_id != -1].value_counts(), fill_value=0)"
   ]
  },
  {
   "cell_type": "markdown",
   "metadata": {},
   "source": [
    "### Big merge to get data we need for tenure imputation"
   ]
  },
  {
   "cell_type": "code",
   "execution_count": 5,
   "metadata": {},
   "outputs": [],
   "source": [
    "units = orca.merge_tables('residential_units', [\n",
    "    'buildings', 'residential_units', 'parcels', 'geog_mappings', 'bldg_type_tenure_by_block_group'])"
   ]
  },
  {
   "cell_type": "markdown",
   "metadata": {},
   "source": [
    "### Assign tenure to units"
   ]
  },
  {
   "cell_type": "code",
   "execution_count": 6,
   "metadata": {},
   "outputs": [],
   "source": [
    "# if building type == 1, sample tenure from rate of single-family ownership\n",
    "units.loc[units['building_type_id'] == 1, 'tenure'] = [\n",
    "    1 if x else 2 for x in \n",
    "    np.random.random(len(units[units['building_type_id'] == 1])) <= units.loc[units['building_type_id'] == 1, 'sf_o']]"
   ]
  },
  {
   "cell_type": "code",
   "execution_count": 7,
   "metadata": {},
   "outputs": [],
   "source": [
    "# if building type > 1, sample_tenure from rate of multi-family ownership\n",
    "units.loc[units['building_type_id'] > 1, 'tenure'] = [\n",
    "    1 if x else 2 for x in \n",
    "    np.random.random(len(units[units['building_type_id'] > 1])) <= units.loc[units['building_type_id'] > 1, 'mf_o']]"
   ]
  },
  {
   "cell_type": "code",
   "execution_count": 8,
   "metadata": {},
   "outputs": [],
   "source": [
    "# if building type > 1 and redfin_home_type == 'Condo/Coop', tenure = 1\n",
    "units.loc[(units['redfin_home_type'] == 'Condo/Coop') & (units['building_type_id'] > 1), 'tenure'] = 1 "
   ]
  },
  {
   "cell_type": "code",
   "execution_count": 11,
   "metadata": {},
   "outputs": [],
   "source": [
    "units[orca.get_table('residential_units').columns].to_csv('./data/units_w_tenure.csv')"
   ]
  }
 ],
 "metadata": {
  "kernelspec": {
   "display_name": "Python 3",
   "language": "python",
   "name": "python3"
  },
  "language_info": {
   "codemirror_mode": {
    "name": "ipython",
    "version": 3
   },
   "file_extension": ".py",
   "mimetype": "text/x-python",
   "name": "python",
   "nbconvert_exporter": "python",
   "pygments_lexer": "ipython3",
   "version": "3.6.4"
  }
 },
 "nbformat": 4,
 "nbformat_minor": 2
}
