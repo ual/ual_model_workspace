{
 "cells": [
  {
   "cell_type": "markdown",
   "metadata": {},
   "source": [
    "Primarily adapted from Sam Maurer's UAL code"
   ]
  },
  {
   "cell_type": "code",
   "execution_count": 1,
   "metadata": {},
   "outputs": [],
   "source": [
    "import os; os.chdir('../')"
   ]
  },
  {
   "cell_type": "code",
   "execution_count": 2,
   "metadata": {},
   "outputs": [],
   "source": [
    "import pandas as pd\n",
    "import numpy as np\n",
    "import orca\n",
    "from scripts import datasources, models\n",
    "from urbansim.utils import misc"
   ]
  },
  {
   "cell_type": "markdown",
   "metadata": {},
   "source": [
    "### Create empty units"
   ]
  },
  {
   "cell_type": "code",
   "execution_count": 3,
   "metadata": {},
   "outputs": [],
   "source": [
    "def _ual_create_empty_units(buildings):\n",
    "    df = pd.DataFrame({\n",
    "        'unit_residential_price': 0,\n",
    "        'unit_residential_rent': 0,\n",
    "        'num_units': 1,\n",
    "        'building_id': np.repeat(buildings.index.values,\n",
    "                                 buildings.residential_units.values.astype(int)),\n",
    "        # counter of the units in a building\n",
    "        'unit_num': np.concatenate([np.arange(i) for i in \\\n",
    "                                    buildings.residential_units.values.astype(int)]),\n",
    "        'tenure': -1\n",
    "    }).sort_values(by=['building_id', 'unit_num']).reset_index(drop=True)\n",
    "    df.index.name = 'unit_id'\n",
    "    return df"
   ]
  },
  {
   "cell_type": "markdown",
   "metadata": {},
   "source": [
    "### Initialize residential units"
   ]
  },
  {
   "cell_type": "code",
   "execution_count": 4,
   "metadata": {},
   "outputs": [],
   "source": [
    "@orca.table('residential_units', cache=True)\n",
    "def residential_units(buildings):\n",
    "    return _ual_create_empty_units(buildings)"
   ]
  },
  {
   "cell_type": "markdown",
   "metadata": {},
   "source": [
    "### Subtract occupied units (\\*\\*\\**cannot be called until households have been assigned to units*\\*\\*\\*)"
   ]
  },
  {
   "cell_type": "code",
   "execution_count": 6,
   "metadata": {},
   "outputs": [],
   "source": [
    "# @orca.column('residential_units', 'vacant_units')\n",
    "# def vacant_units(residential_units, households):\n",
    "#     return residential_units.num_units.sub(\n",
    "#             households.unit_id[households.unit_id != -1].value_counts(), fill_value=0)"
   ]
  },
  {
   "cell_type": "markdown",
   "metadata": {},
   "source": [
    "### Big merge to get data we need for tenure imputation"
   ]
  },
  {
   "cell_type": "code",
   "execution_count": 8,
   "metadata": {},
   "outputs": [],
   "source": [
    "units = orca.merge_tables('residential_units', [\n",
    "    'buildings', 'residential_units', \n",
    "])"
   ]
  },
  {
   "cell_type": "code",
   "execution_count": 9,
   "metadata": {},
   "outputs": [
    {
     "data": {
      "text/plain": [
       "2785868"
      ]
     },
     "execution_count": 9,
     "metadata": {},
     "output_type": "execute_result"
    }
   ],
   "source": [
    "len(units)"
   ]
  },
  {
   "cell_type": "code",
   "execution_count": 20,
   "metadata": {},
   "outputs": [],
   "source": [
    "geog_mappings = pd.read_csv('./data/parcels_blocks_nodes.csv', dtype={'block_id': str})"
   ]
  },
  {
   "cell_type": "code",
   "execution_count": 38,
   "metadata": {},
   "outputs": [
    {
     "name": "stdout",
     "output_type": "stream",
     "text": [
      "1843 units (0.07%) have parcels that do not exist in the geography table\n",
      "The units with missing parcels are distributed among the following parcels:\n",
      " {2054505: 1843}\n"
     ]
    }
   ],
   "source": [
    "print('{0} units ({1}%) have parcels that do not exist in the geography table'.format(\n",
    "    len(units[~units.parcel_id.isin(geog_mappings.parcel_id)]),\n",
    "    round(len(units[~units.parcel_id.isin(geog_mappings.parcel_id)])/len(units) * 100, 2),\n",
    "))\n",
    "print('The units with missing parcels are distributed among the following parcels:\\n', \n",
    "      dict(units[~units.parcel_id.isin(geog_mappings.parcel_id)]['parcel_id'].value_counts()))"
   ]
  },
  {
   "cell_type": "code",
   "execution_count": 30,
   "metadata": {},
   "outputs": [],
   "source": [
    "units_w_block_groups = pd.merge(units, geog_mappings, on='parcel_id')\n",
    "units_w_block_groups['bg_id'] = units_w_block_groups['block_id'].str[:12]"
   ]
  },
  {
   "cell_type": "code",
   "execution_count": 27,
   "metadata": {},
   "outputs": [],
   "source": [
    "block_group_characteristics = pd.read_csv('./data/tenure_by_bldg_type_and_block_grp.csv', dtype={'bg_id': str})"
   ]
  },
  {
   "cell_type": "code",
   "execution_count": 39,
   "metadata": {},
   "outputs": [
    {
     "name": "stdout",
     "output_type": "stream",
     "text": [
      "17 units with block group IDs (0.001%) have block groups that are not in the block group characteristics table\n",
      "The units with missing block group characteristics are distributed among the following block groups: \n",
      " {'060871205002': 8, '060871210002': 3, '060871205001': 2, '060871233001': 2, '060330013001': 2}\n"
     ]
    }
   ],
   "source": [
    "print('{0} units with block group IDs ({1}%) have block groups that are not in the block group characteristics table'.format(\n",
    "    len(units_w_block_groups[~units_w_block_groups.bg_id.isin(block_group_characteristics['bg_id'])]),\n",
    "    round(len(units_w_block_groups[~units_w_block_groups.bg_id.isin(block_group_characteristics['bg_id'])]) / len(units_w_block_groups) * 100, 3) \n",
    "))\n",
    "print('The units with missing block group characteristics are distributed among the following block groups: \\n',\n",
    "      dict(units_w_block_groups[~units_w_block_groups.bg_id.isin(block_group_characteristics['bg_id'])]['bg_id'].value_counts())\n",
    ")"
   ]
  },
  {
   "cell_type": "code",
   "execution_count": 40,
   "metadata": {},
   "outputs": [],
   "source": [
    "units_w_block_group_char = pd.merge(units_w_block_groups, block_group_characteristics, on='bg_id')"
   ]
  },
  {
   "cell_type": "markdown",
   "metadata": {},
   "source": [
    "### Assign tenure to units"
   ]
  },
  {
   "cell_type": "markdown",
   "metadata": {},
   "source": [
    "Tenure Types: 1 = own, 2 = rent"
   ]
  },
  {
   "cell_type": "code",
   "execution_count": 45,
   "metadata": {},
   "outputs": [],
   "source": [
    "# if building type == 1, sample tenure from rate of single-family ownership\n",
    "units_w_block_group_char.loc[units_w_block_group_char['building_type_id'] == 1, 'tenure'] = [\n",
    "    1 if x else 2 for x in \n",
    "    np.random.random(len(units_w_block_group_char[units_w_block_group_char['building_type_id'] == 1])) \n",
    "    <= units_w_block_group_char.loc[units_w_block_group_char['building_type_id'] == 1, 'sf_o']]"
   ]
  },
  {
   "cell_type": "code",
   "execution_count": 46,
   "metadata": {},
   "outputs": [],
   "source": [
    "# if building type > 1, sample_tenure from rate of multi-family ownership\n",
    "units_w_block_group_char.loc[units_w_block_group_char['building_type_id'] > 1, 'tenure'] = [\n",
    "    1 if x else 2 for x in \n",
    "    np.random.random(len(units_w_block_group_char[units_w_block_group_char['building_type_id'] > 1])) <= \n",
    "    units_w_block_group_char.loc[units_w_block_group_char['building_type_id'] > 1, 'mf_o']]"
   ]
  },
  {
   "cell_type": "code",
   "execution_count": 47,
   "metadata": {},
   "outputs": [],
   "source": [
    "# if building type > 1 and redfin_home_type == 'Condo/Coop', tenure = 1\n",
    "units_w_block_group_char.loc[\n",
    "    (units_w_block_group_char['redfin_home_type'] == 'Condo/Coop') & \n",
    "    (units_w_block_group_char['building_type_id'] > 1), 'tenure'] = 1 "
   ]
  },
  {
   "cell_type": "code",
   "execution_count": 48,
   "metadata": {},
   "outputs": [
    {
     "data": {
      "text/plain": [
       " 1    1576764\n",
       " 2    1207161\n",
       "-1         83\n",
       "Name: tenure, dtype: int64"
      ]
     },
     "execution_count": 48,
     "metadata": {},
     "output_type": "execute_result"
    }
   ],
   "source": [
    "units_w_block_group_char.tenure.value_counts()"
   ]
  },
  {
   "cell_type": "code",
   "execution_count": null,
   "metadata": {},
   "outputs": [],
   "source": [
    "units_w_block_group_char.index.name = 'unit_id'"
   ]
  },
  {
   "cell_type": "code",
   "execution_count": 53,
   "metadata": {},
   "outputs": [],
   "source": [
    "units_w_block_group_char[orca.get_table('residential_units').columns].to_csv('./data/units_w_tenure.csv')"
   ]
  },
  {
   "cell_type": "code",
   "execution_count": null,
   "metadata": {},
   "outputs": [],
   "source": []
  }
 ],
 "metadata": {
  "kernelspec": {
   "display_name": "Python 3",
   "language": "python",
   "name": "python3"
  },
  "language_info": {
   "codemirror_mode": {
    "name": "ipython",
    "version": 3
   },
   "file_extension": ".py",
   "mimetype": "text/x-python",
   "name": "python",
   "nbconvert_exporter": "python",
   "pygments_lexer": "ipython3",
   "version": "3.6.5"
  }
 },
 "nbformat": 4,
 "nbformat_minor": 2
}
