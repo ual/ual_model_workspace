{
 "cells": [
  {
   "cell_type": "markdown",
   "metadata": {
    "nbpresent": {
     "id": "3edd1597-7e2e-4707-8b11-d77b3e098a5b"
    }
   },
   "source": [
    "# Create UrbanSim Jobs Table"
   ]
  },
  {
   "cell_type": "code",
   "execution_count": 1,
   "metadata": {
    "nbpresent": {
     "id": "d7d1a056-3083-4f1d-be96-f00453acc2ae"
    }
   },
   "outputs": [],
   "source": [
    "import pandas as pd\n",
    "import numpy as np\n",
    "from tqdm import tqdm\n",
    "import requests\n",
    "from lxml import html"
   ]
  },
  {
   "cell_type": "markdown",
   "metadata": {
    "nbpresent": {
     "id": "e038e599-972b-4f70-863f-85c2bd3dcd0c"
    }
   },
   "source": [
    "#### 1. Load data"
   ]
  },
  {
   "cell_type": "code",
   "execution_count": 3,
   "metadata": {
    "nbpresent": {
     "id": "705c3bd2-b249-42bc-83b4-503fd98cdc79"
    }
   },
   "outputs": [
    {
     "name": "stdout",
     "output_type": "stream",
     "text": [
      "Opening /home/data/bayarea_ual.h5 in read-only mode\n"
     ]
    }
   ],
   "source": [
    "store = pd.HDFStore('/home/data/bayarea_ual.h5')"
   ]
  },
  {
   "cell_type": "code",
   "execution_count": 4,
   "metadata": {
    "nbpresent": {
     "id": "7d5fd662-3d16-4c88-a346-02e2806f2987"
    }
   },
   "outputs": [],
   "source": [
    "establishments = store['establishments']"
   ]
  },
  {
   "cell_type": "code",
   "execution_count": 3,
   "metadata": {
    "nbpresent": {
     "id": "46d9f3e0-4585-4981-b5d0-beafda0d98db"
    }
   },
   "outputs": [],
   "source": [
    "buildings = pd.read_hdf('/home/mgardner/data/2015_09_01_bayarea_v3.h5', 'buildings')"
   ]
  },
  {
   "cell_type": "code",
   "execution_count": 4,
   "metadata": {
    "nbpresent": {
     "id": "cd81ed7e-5e5d-4103-afbb-bf4f8dd4f1c2"
    }
   },
   "outputs": [],
   "source": [
    "parcels = pd.read_hdf('/home/mgardner/data/2015_09_01_bayarea_v3.h5', 'parcels')"
   ]
  },
  {
   "cell_type": "code",
   "execution_count": 17,
   "metadata": {
    "nbpresent": {
     "id": "660b3ea1-f605-4d77-bbe9-3bb2ae9e81cd"
    }
   },
   "outputs": [
    {
     "name": "stderr",
     "output_type": "stream",
     "text": [
      "/home/mgardner/anaconda3/envs/dcm/lib/python3.6/site-packages/IPython/core/interactiveshell.py:2728: DtypeWarning: Columns (40,60,93,97,104) have mixed types. Specify dtype option on import or set low_memory=False.\n",
      "  interactivity=interactivity, compiler=compiler, result=result)\n"
     ]
    }
   ],
   "source": [
    "persons = pd.read_csv('/home/mgardner/data/chts-orig/data/Deliv_PER.csv')"
   ]
  },
  {
   "cell_type": "code",
   "execution_count": 18,
   "metadata": {
    "nbpresent": {
     "id": "9662fdf5-bbe7-4e99-9463-599734cf766b"
    }
   },
   "outputs": [],
   "source": [
    "persons_lookup = pd.read_csv('/home/mgardner/data/chts-orig/data/LookUp_PER.csv')"
   ]
  },
  {
   "cell_type": "markdown",
   "metadata": {
    "nbpresent": {
     "id": "db5eb53b-8113-4c87-94a0-2cb140e59f93"
    }
   },
   "source": [
    "#### 2. Expand establishments based on number of employees"
   ]
  },
  {
   "cell_type": "code",
   "execution_count": 6,
   "metadata": {
    "nbpresent": {
     "id": "9f42a97d-75c3-4f52-8868-c88e2c7b2c62"
    }
   },
   "outputs": [],
   "source": [
    "jobs = pd.DataFrame(columns=['job_id','sector_id','building_id'])"
   ]
  },
  {
   "cell_type": "code",
   "execution_count": 7,
   "metadata": {
    "nbpresent": {
     "id": "c8eeb903-22b5-43b3-b7bf-7dbcdb72d429"
    }
   },
   "outputs": [
    {
     "name": "stderr",
     "output_type": "stream",
     "text": [
      "  0%|          | 1/234956 [00:00<8:32:09,  7.65it/s]/home/mgardner/anaconda3/envs/dcm/lib/python3.6/site-packages/pandas/core/frame.py:5186: FutureWarning: \n",
      "Passing list-likes to .loc or [] with any missing label will raise\n",
      "KeyError in the future, you can use .reindex() as an alternative.\n",
      "\n",
      "See the documentation here:\n",
      "http://pandas.pydata.org/pandas-docs/stable/indexing.html#deprecate-loc-reindex-listlike\n",
      "  other = other.loc[:, self.columns]\n",
      "/home/mgardner/anaconda3/envs/dcm/lib/python3.6/site-packages/pandas/core/indexing.py:1367: FutureWarning: \n",
      "Passing list-likes to .loc or [] with any missing label will raise\n",
      "KeyError in the future, you can use .reindex() as an alternative.\n",
      "\n",
      "See the documentation here:\n",
      "http://pandas.pydata.org/pandas-docs/stable/indexing.html#deprecate-loc-reindex-listlike\n",
      "  return self._getitem_tuple(key)\n",
      "100%|██████████| 234956/234956 [3:31:43<00:00, 18.50it/s]\n"
     ]
    }
   ],
   "source": [
    "for i, establishment in tqdm(establishments.iterrows(), total=len(establishments)):\n",
    "    multiplier = establishment['employees']\n",
    "    if multiplier > 0:\n",
    "        jobs = jobs.append([establishment[['establishment_id','sector_id','building_id']]] * int(multiplier), ignore_index=True)"
   ]
  },
  {
   "cell_type": "markdown",
   "metadata": {
    "nbpresent": {
     "id": "0d651a0e-d828-41ea-a069-694dc3f090c4"
    }
   },
   "source": [
    "#### 3. Get county ID for jobs"
   ]
  },
  {
   "cell_type": "code",
   "execution_count": 8,
   "metadata": {
    "nbpresent": {
     "id": "9da64ed0-e224-43ec-9b4c-c3c470acb6ca"
    }
   },
   "outputs": [],
   "source": [
    "bldgs_w_parcel = pd.merge(buildings, parcels, left_on='parcel_id', right_index=True)"
   ]
  },
  {
   "cell_type": "code",
   "execution_count": 14,
   "metadata": {
    "nbpresent": {
     "id": "3738bac2-34d3-48ed-81bf-d872c7072ff6"
    }
   },
   "outputs": [],
   "source": [
    "bldgs_w_parcel.index.name = 'building_id'"
   ]
  },
  {
   "cell_type": "code",
   "execution_count": 15,
   "metadata": {
    "nbpresent": {
     "id": "273e6d5d-fe03-42e5-acfb-8c29ce03cf6a"
    }
   },
   "outputs": [],
   "source": [
    "jobs = pd.merge(jobs, bldgs_w_parcel[['county_id']].reset_index(), on='building_id')"
   ]
  },
  {
   "cell_type": "markdown",
   "metadata": {
    "nbpresent": {
     "id": "bd39a5e2-bdd0-40b3-9b5b-2c4e7e72a9a1"
    }
   },
   "source": [
    "#### 4. Compute `county` $\\times$ `industry` $\\times$ `occupation` probabilities from CHTS"
   ]
  },
  {
   "cell_type": "code",
   "execution_count": 19,
   "metadata": {
    "nbpresent": {
     "id": "432eb245-3a43-4301-af5c-7478eac64e28"
    }
   },
   "outputs": [],
   "source": [
    "persons = pd.merge(\n",
    "    persons.set_index(['SAMPN','PERNO']),\n",
    "    persons_lookup.set_index(['SAMPN','PERNO']),\n",
    "    left_index=True, right_index=True,\n",
    "    suffixes=('_persons', '_lookup')).reset_index()"
   ]
  },
  {
   "cell_type": "code",
   "execution_count": 56,
   "metadata": {
    "nbpresent": {
     "id": "ab0173af-223c-4f25-a3cc-014f89973f0c"
    }
   },
   "outputs": [],
   "source": [
    "county_industry_occupation_counts = persons.groupby(['WCTFIP_lookup','INDUS','OCCUP']).agg({'SAMPN':'count'})"
   ]
  },
  {
   "cell_type": "code",
   "execution_count": 57,
   "metadata": {
    "nbpresent": {
     "id": "d3acb35b-c33f-453b-b5f9-dee32697839c"
    }
   },
   "outputs": [],
   "source": [
    "county_industry_occupation_probs = county_industry_occupation_counts.groupby(level=[0,1]).apply(\n",
    "    lambda x: x/x.sum()).reset_index().rename(columns={'SAMPN': 'prob', 'WCTFIP_lookup': 'county_FIPS'})"
   ]
  },
  {
   "cell_type": "code",
   "execution_count": 58,
   "metadata": {
    "nbpresent": {
     "id": "3629b853-5103-4add-9236-720f0e106202"
    }
   },
   "outputs": [],
   "source": [
    "county_industry_occupation_probs['county_FIPS'] = county_industry_occupation_probs['county_FIPS'].astype(int).astype(str).str.zfill(3)\n",
    "county_industry_occupation_probs['INDUS'] = county_industry_occupation_probs['INDUS'].astype(int).astype(str)"
   ]
  },
  {
   "cell_type": "code",
   "execution_count": 59,
   "metadata": {
    "nbpresent": {
     "id": "58dbc087-585a-4a65-9c8e-ce3cfbb174cc"
    }
   },
   "outputs": [],
   "source": [
    "industry_occupation_counts = persons.groupby(['INDUS','OCCUP']).agg({'SAMPN':'count'})"
   ]
  },
  {
   "cell_type": "code",
   "execution_count": 60,
   "metadata": {
    "nbpresent": {
     "id": "8cadbe57-4065-4484-a055-85b4790e89a2"
    }
   },
   "outputs": [],
   "source": [
    "industry_occupation_probs = industry_occupation_counts.groupby(level=0).apply(\n",
    "    lambda x: x/x.sum()).reset_index().rename(columns={'SAMPN': 'prob'})"
   ]
  },
  {
   "cell_type": "code",
   "execution_count": 61,
   "metadata": {
    "nbpresent": {
     "id": "39ee76d7-dcf2-4716-aa72-9b0bc15babe7"
    }
   },
   "outputs": [],
   "source": [
    "industry_occupation_probs['INDUS'] = industry_occupation_probs['INDUS'].astype(int).astype(str)"
   ]
  },
  {
   "cell_type": "code",
   "execution_count": 62,
   "metadata": {
    "nbpresent": {
     "id": "684e4481-6c33-421b-aa5e-d13e3617e108"
    }
   },
   "outputs": [],
   "source": [
    "county_occupation_counts = persons.groupby(['WCTFIP_lookup','OCCUP']).agg({'SAMPN':'count'})"
   ]
  },
  {
   "cell_type": "code",
   "execution_count": 63,
   "metadata": {
    "nbpresent": {
     "id": "43d07a49-d0cc-49c6-8b0d-9e5ccf97d199"
    }
   },
   "outputs": [],
   "source": [
    "county_occupation_probs = county_occupation_counts.groupby(level=0).apply(\n",
    "    lambda x: x/x.sum()).reset_index().rename(columns={'SAMPN': 'prob', 'WCTFIP_lookup': 'county_FIPS'})"
   ]
  },
  {
   "cell_type": "code",
   "execution_count": 64,
   "metadata": {
    "nbpresent": {
     "id": "e19262ac-db51-475e-ad48-4448220f9f09"
    }
   },
   "outputs": [],
   "source": [
    "county_occupation_probs['county_FIPS'] = county_occupation_probs['county_FIPS'].astype(int).astype(str).str.zfill(3)"
   ]
  },
  {
   "cell_type": "markdown",
   "metadata": {
    "nbpresent": {
     "id": "aca84039-ec7f-478f-8dad-b6d046d684b3"
    }
   },
   "source": [
    "#### 5. Impute occupation in jobs table from CHTS data"
   ]
  },
  {
   "cell_type": "code",
   "execution_count": 92,
   "metadata": {
    "nbpresent": {
     "id": "e376533c-36f7-4ee6-ba07-2ce6941d9aef"
    }
   },
   "outputs": [],
   "source": [
    "jobs['county_FIPS'] = jobs['county_id'].astype(str).str.zfill(3)\n",
    "jobs['occupation_id'] = -99  # 98 == \"DK\"\n",
    "jobs['2_digit_sector_id'] = jobs['sector_id'].astype(str).str[0:2]"
   ]
  },
  {
   "cell_type": "code",
   "execution_count": 96,
   "metadata": {
    "nbpresent": {
     "id": "0d7c1001-47e3-48f2-ba5a-ea43c70ca8a9"
    },
    "scrolled": true
   },
   "outputs": [
    {
     "name": "stderr",
     "output_type": "stream",
     "text": [
      "100%|██████████| 2656876/2656876 [12:51:22<00:00, 57.41it/s]  \n"
     ]
    }
   ],
   "source": [
    "for i, row in tqdm(jobs.iterrows(), total=len(jobs)):\n",
    "    \n",
    "    # define occupation probability by industry and county\n",
    "    probs = county_industry_occupation_probs[(\n",
    "        county_industry_occupation_probs['county_FIPS'] == row['county_FIPS']) & (\n",
    "        county_industry_occupation_probs['INDUS'] == row['2_digit_sector_id']\n",
    "    )]\n",
    "    \n",
    "    # if no such entries exist, define probabilities by industry\n",
    "    if len(probs['prob']) == 0:\n",
    "        probs = industry_occupation_probs[(\n",
    "            industry_occupation_probs['INDUS'] == row['2_digit_sector_id'])]\n",
    "        \n",
    "    # if no such entries exist, define probabilities by county\n",
    "    if len(probs['prob']) == 0:\n",
    "        probs = county_occupation_probs[(\n",
    "            county_occupation_probs['county_FIPS'] == row['county_FIPS'])]\n",
    "        \n",
    "    \n",
    "    jobs.loc[i, 'occupation_id'] = np.random.choice(probs['OCCUP'], p=probs.prob)"
   ]
  },
  {
   "cell_type": "code",
   "execution_count": 114,
   "metadata": {
    "nbpresent": {
     "id": "9420d743-0725-452e-b01c-5c88536d472f"
    }
   },
   "outputs": [],
   "source": [
    "jobs = pd.read_csv('/home/mgardner/data/jobs_w_occup.csv')"
   ]
  },
  {
   "cell_type": "code",
   "execution_count": 123,
   "metadata": {
    "nbpresent": {
     "id": "15ab64d1-63e9-4375-af45-4cd2b316c1db"
    }
   },
   "outputs": [],
   "source": [
    "jobs.index.name = 'job_id'\n",
    "jobs = jobs.rename(columns={'2_digit_sector_id': 'naics'})\n",
    "jobs['occupation_id'] = jobs['occupation_id'].astype(int)"
   ]
  },
  {
   "cell_type": "code",
   "execution_count": 124,
   "metadata": {
    "nbpresent": {
     "id": "2b118eef-ee1d-4fa1-a2bd-87fa0a6fc28a"
    }
   },
   "outputs": [],
   "source": [
    "jobs[['building_id', 'naics', 'occupation_id']].to_csv('/home/mgardner/data/jobs_w_occup.csv')"
   ]
  },
  {
   "cell_type": "markdown",
   "metadata": {},
   "source": [
    "#### Create NAICS Code Data Dict"
   ]
  },
  {
   "cell_type": "code",
   "execution_count": 2,
   "metadata": {},
   "outputs": [],
   "source": [
    "page = requests.get('https://www.naics.com/business-lists/counts-by-naics-code/?#countsByNAICS')"
   ]
  },
  {
   "cell_type": "code",
   "execution_count": 4,
   "metadata": {},
   "outputs": [],
   "source": [
    "tree = html.fromstring(page.content)"
   ]
  },
  {
   "cell_type": "code",
   "execution_count": 34,
   "metadata": {},
   "outputs": [],
   "source": [
    "table = tree.xpath('//*[@id=\"post-3900\"]/div/table')[0]"
   ]
  },
  {
   "cell_type": "code",
   "execution_count": 116,
   "metadata": {},
   "outputs": [],
   "source": [
    "df = pd.DataFrame(columns=['code', 'industry'])\n",
    "for i, row in enumerate(table.getchildren()):\n",
    "    if i > 0 and i < len(table.getchildren()) - 1:\n",
    "        if '-' in row[0].text_content():\n",
    "            range_codes = [int(x) for x in row[0].text_content().split('-')]\n",
    "            all_codes = list(range(range_nums[0], range_nums[1] + 1))\n",
    "        else:\n",
    "            all_codes = [row[0].text_content()]\n",
    "        for code in all_codes:\n",
    "            df = df.append(\n",
    "                {'code': code, 'industry': row[1].text_content()},\n",
    "                ignore_index=True)\n",
    "    "
   ]
  },
  {
   "cell_type": "code",
   "execution_count": 107,
   "metadata": {},
   "outputs": [],
   "source": [
    "range_nums = [int(x) for x in row[0].text_content().split('-')]"
   ]
  },
  {
   "cell_type": "code",
   "execution_count": 118,
   "metadata": {},
   "outputs": [],
   "source": [
    "df.to_csv('NAICS_2_digit_data_dict.csv', index=False)"
   ]
  }
 ],
 "metadata": {
  "kernelspec": {
   "display_name": "Python [default]",
   "language": "python",
   "name": "python3"
  },
  "language_info": {
   "codemirror_mode": {
    "name": "ipython",
    "version": 3
   },
   "file_extension": ".py",
   "mimetype": "text/x-python",
   "name": "python",
   "nbconvert_exporter": "python",
   "pygments_lexer": "ipython3",
   "version": "3.6.5"
  }
 },
 "nbformat": 4,
 "nbformat_minor": 2
}
