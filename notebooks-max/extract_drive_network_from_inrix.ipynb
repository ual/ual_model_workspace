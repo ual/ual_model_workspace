{
 "cells": [
  {
   "cell_type": "markdown",
   "metadata": {},
   "source": [
    "# Extracting a weighted drive network from INRIX"
   ]
  },
  {
   "cell_type": "markdown",
   "metadata": {},
   "source": [
    "INRIX stores road network links using TMCs (Traffic Monitoring Codes). This notebook provides a recipe for extracting nodes and weighted edges from INRIX data extracts for use with various network analysis tools. In our case, we'll primarily be performing our analyses with Pandana, which requires 5 pieces of network data: node_x, node_y, edge_start_node, edge_end_node, edge_weight."
   ]
  },
  {
   "cell_type": "code",
   "execution_count": 101,
   "metadata": {},
   "outputs": [],
   "source": [
    "import requests\n",
    "import pandas as pd\n",
    "from pyproj import Proj, transform"
   ]
  },
  {
   "cell_type": "markdown",
   "metadata": {},
   "source": [
    "## Alameda County"
   ]
  },
  {
   "cell_type": "markdown",
   "metadata": {},
   "source": [
    "*N.B.* - For some reason, the actual file of travel times/speeds (i.e. edge weights) extracted from INRIX has fewer edges (exactly 4,000) than are present in the network file (4,678). Is the travel time file getting clipped at 4k records? Either way, when we merge the speeds with the network we will be dropping ~700 edges."
   ]
  },
  {
   "cell_type": "markdown",
   "metadata": {},
   "source": [
    "### Load Inrix Data"
   ]
  },
  {
   "cell_type": "markdown",
   "metadata": {},
   "source": [
    "When you generate a data extract from Inrix's [Massive Data Downloader](https://inrix.ritis.org/analytics/download/) tool store the TMC configuration data (i.e. the network) in a file called TMC_Indentification.csv"
   ]
  },
  {
   "cell_type": "code",
   "execution_count": 148,
   "metadata": {},
   "outputs": [],
   "source": [
    "df = pd.read_csv('/home/max/TMC_Identification.csv')"
   ]
  },
  {
   "cell_type": "code",
   "execution_count": 149,
   "metadata": {},
   "outputs": [
    {
     "data": {
      "text/html": [
       "<div>\n",
       "<style scoped>\n",
       "    .dataframe tbody tr th:only-of-type {\n",
       "        vertical-align: middle;\n",
       "    }\n",
       "\n",
       "    .dataframe tbody tr th {\n",
       "        vertical-align: top;\n",
       "    }\n",
       "\n",
       "    .dataframe thead th {\n",
       "        text-align: right;\n",
       "    }\n",
       "</style>\n",
       "<table border=\"1\" class=\"dataframe\">\n",
       "  <thead>\n",
       "    <tr style=\"text-align: right;\">\n",
       "      <th></th>\n",
       "      <th>tmc</th>\n",
       "      <th>road</th>\n",
       "      <th>direction</th>\n",
       "      <th>intersection</th>\n",
       "      <th>state</th>\n",
       "      <th>county</th>\n",
       "      <th>zip</th>\n",
       "      <th>start_latitude</th>\n",
       "      <th>start_longitude</th>\n",
       "      <th>end_latitude</th>\n",
       "      <th>end_longitude</th>\n",
       "      <th>miles</th>\n",
       "      <th>road_order</th>\n",
       "    </tr>\n",
       "  </thead>\n",
       "  <tbody>\n",
       "    <tr>\n",
       "      <th>0</th>\n",
       "      <td>105+22231</td>\n",
       "      <td>105TH AVE</td>\n",
       "      <td>EASTBOUND</td>\n",
       "      <td>CA-185/INTERNATIONAL BLVD/E 14TH ST</td>\n",
       "      <td>CA</td>\n",
       "      <td>ALAMEDA</td>\n",
       "      <td>94603</td>\n",
       "      <td>37.735439</td>\n",
       "      <td>-122.174808</td>\n",
       "      <td>37.739259</td>\n",
       "      <td>-122.166718</td>\n",
       "      <td>0.514912</td>\n",
       "      <td>1.0</td>\n",
       "    </tr>\n",
       "    <tr>\n",
       "      <th>1</th>\n",
       "      <td>105-22230</td>\n",
       "      <td>105TH AVE</td>\n",
       "      <td>WESTBOUND</td>\n",
       "      <td>SAN LEANDRO ST</td>\n",
       "      <td>CA</td>\n",
       "      <td>ALAMEDA</td>\n",
       "      <td>94603</td>\n",
       "      <td>37.739259</td>\n",
       "      <td>-122.166718</td>\n",
       "      <td>37.735439</td>\n",
       "      <td>-122.174808</td>\n",
       "      <td>0.514912</td>\n",
       "      <td>1.0</td>\n",
       "    </tr>\n",
       "    <tr>\n",
       "      <th>2</th>\n",
       "      <td>105P22223</td>\n",
       "      <td>106TH AVE</td>\n",
       "      <td>EASTBOUND</td>\n",
       "      <td>BANCROFT AVE/LINK ST</td>\n",
       "      <td>CA</td>\n",
       "      <td>ALAMEDA</td>\n",
       "      <td>94603</td>\n",
       "      <td>37.741482</td>\n",
       "      <td>-122.156987</td>\n",
       "      <td>37.741561</td>\n",
       "      <td>-122.156799</td>\n",
       "      <td>0.011632</td>\n",
       "      <td>1.0</td>\n",
       "    </tr>\n",
       "    <tr>\n",
       "      <th>3</th>\n",
       "      <td>105+22224</td>\n",
       "      <td>106TH AVE</td>\n",
       "      <td>EASTBOUND</td>\n",
       "      <td>MACARTHUR BLVD</td>\n",
       "      <td>CA</td>\n",
       "      <td>ALAMEDA</td>\n",
       "      <td>94603</td>\n",
       "      <td>37.741561</td>\n",
       "      <td>-122.156799</td>\n",
       "      <td>37.742957</td>\n",
       "      <td>-122.152482</td>\n",
       "      <td>0.256061</td>\n",
       "      <td>2.0</td>\n",
       "    </tr>\n",
       "    <tr>\n",
       "      <th>4</th>\n",
       "      <td>105+22225</td>\n",
       "      <td>106TH AVE</td>\n",
       "      <td>EASTBOUND</td>\n",
       "      <td>I-580</td>\n",
       "      <td>CA</td>\n",
       "      <td>ALAMEDA</td>\n",
       "      <td>94605</td>\n",
       "      <td>37.742957</td>\n",
       "      <td>-122.152482</td>\n",
       "      <td>37.744939</td>\n",
       "      <td>-122.148928</td>\n",
       "      <td>0.238327</td>\n",
       "      <td>3.0</td>\n",
       "    </tr>\n",
       "  </tbody>\n",
       "</table>\n",
       "</div>"
      ],
      "text/plain": [
       "         tmc       road  direction                         intersection state  \\\n",
       "0  105+22231  105TH AVE  EASTBOUND  CA-185/INTERNATIONAL BLVD/E 14TH ST    CA   \n",
       "1  105-22230  105TH AVE  WESTBOUND                       SAN LEANDRO ST    CA   \n",
       "2  105P22223  106TH AVE  EASTBOUND                 BANCROFT AVE/LINK ST    CA   \n",
       "3  105+22224  106TH AVE  EASTBOUND                       MACARTHUR BLVD    CA   \n",
       "4  105+22225  106TH AVE  EASTBOUND                                I-580    CA   \n",
       "\n",
       "    county    zip  start_latitude  start_longitude  end_latitude  \\\n",
       "0  ALAMEDA  94603       37.735439      -122.174808     37.739259   \n",
       "1  ALAMEDA  94603       37.739259      -122.166718     37.735439   \n",
       "2  ALAMEDA  94603       37.741482      -122.156987     37.741561   \n",
       "3  ALAMEDA  94603       37.741561      -122.156799     37.742957   \n",
       "4  ALAMEDA  94605       37.742957      -122.152482     37.744939   \n",
       "\n",
       "   end_longitude     miles  road_order  \n",
       "0    -122.166718  0.514912         1.0  \n",
       "1    -122.174808  0.514912         1.0  \n",
       "2    -122.156799  0.011632         1.0  \n",
       "3    -122.152482  0.256061         2.0  \n",
       "4    -122.148928  0.238327         3.0  "
      ]
     },
     "execution_count": 149,
     "metadata": {},
     "output_type": "execute_result"
    }
   ],
   "source": [
    "df.head()"
   ]
  },
  {
   "cell_type": "code",
   "execution_count": 150,
   "metadata": {},
   "outputs": [
    {
     "data": {
      "text/plain": [
       "4678"
      ]
     },
     "execution_count": 150,
     "metadata": {},
     "output_type": "execute_result"
    }
   ],
   "source": [
    "len(df)"
   ]
  },
  {
   "cell_type": "code",
   "execution_count": 151,
   "metadata": {},
   "outputs": [],
   "source": [
    "# The name of this file is specified by the user in the INRIX data download portal\n",
    "weights = pd.read_csv('/home/max/alameda_tmc_weights.csv')"
   ]
  },
  {
   "cell_type": "code",
   "execution_count": 117,
   "metadata": {},
   "outputs": [
    {
     "data": {
      "text/html": [
       "<div>\n",
       "<style scoped>\n",
       "    .dataframe tbody tr th:only-of-type {\n",
       "        vertical-align: middle;\n",
       "    }\n",
       "\n",
       "    .dataframe tbody tr th {\n",
       "        vertical-align: top;\n",
       "    }\n",
       "\n",
       "    .dataframe thead th {\n",
       "        text-align: right;\n",
       "    }\n",
       "</style>\n",
       "<table border=\"1\" class=\"dataframe\">\n",
       "  <thead>\n",
       "    <tr style=\"text-align: right;\">\n",
       "      <th></th>\n",
       "      <th>tmc_code</th>\n",
       "      <th>measurement_tstamp</th>\n",
       "      <th>speed</th>\n",
       "      <th>average_speed</th>\n",
       "      <th>reference_speed</th>\n",
       "      <th>travel_time_minutes</th>\n",
       "      <th>confidence_score</th>\n",
       "      <th>cvalue</th>\n",
       "    </tr>\n",
       "  </thead>\n",
       "  <tbody>\n",
       "    <tr>\n",
       "      <th>0</th>\n",
       "      <td>105-04494</td>\n",
       "      <td>2018-06-04 09:00:00</td>\n",
       "      <td>45.29</td>\n",
       "      <td>43.0</td>\n",
       "      <td>59.0</td>\n",
       "      <td>2.15</td>\n",
       "      <td>30.00</td>\n",
       "      <td>100.00</td>\n",
       "    </tr>\n",
       "    <tr>\n",
       "      <th>1</th>\n",
       "      <td>105P10962</td>\n",
       "      <td>2018-06-04 09:00:00</td>\n",
       "      <td>24.59</td>\n",
       "      <td>23.0</td>\n",
       "      <td>28.0</td>\n",
       "      <td>0.50</td>\n",
       "      <td>30.00</td>\n",
       "      <td>72.46</td>\n",
       "    </tr>\n",
       "    <tr>\n",
       "      <th>2</th>\n",
       "      <td>105+13377</td>\n",
       "      <td>2018-06-04 09:00:00</td>\n",
       "      <td>14.02</td>\n",
       "      <td>14.0</td>\n",
       "      <td>17.0</td>\n",
       "      <td>1.09</td>\n",
       "      <td>24.29</td>\n",
       "      <td>41.25</td>\n",
       "    </tr>\n",
       "    <tr>\n",
       "      <th>3</th>\n",
       "      <td>105+10988</td>\n",
       "      <td>2018-06-04 09:00:00</td>\n",
       "      <td>13.98</td>\n",
       "      <td>14.0</td>\n",
       "      <td>13.0</td>\n",
       "      <td>0.24</td>\n",
       "      <td>26.79</td>\n",
       "      <td>67.86</td>\n",
       "    </tr>\n",
       "    <tr>\n",
       "      <th>4</th>\n",
       "      <td>105-13898</td>\n",
       "      <td>2018-06-04 09:00:00</td>\n",
       "      <td>35.29</td>\n",
       "      <td>35.0</td>\n",
       "      <td>39.0</td>\n",
       "      <td>1.31</td>\n",
       "      <td>21.96</td>\n",
       "      <td>17.86</td>\n",
       "    </tr>\n",
       "  </tbody>\n",
       "</table>\n",
       "</div>"
      ],
      "text/plain": [
       "    tmc_code   measurement_tstamp  speed  average_speed  reference_speed  \\\n",
       "0  105-04494  2018-06-04 09:00:00  45.29           43.0             59.0   \n",
       "1  105P10962  2018-06-04 09:00:00  24.59           23.0             28.0   \n",
       "2  105+13377  2018-06-04 09:00:00  14.02           14.0             17.0   \n",
       "3  105+10988  2018-06-04 09:00:00  13.98           14.0             13.0   \n",
       "4  105-13898  2018-06-04 09:00:00  35.29           35.0             39.0   \n",
       "\n",
       "   travel_time_minutes  confidence_score  cvalue  \n",
       "0                 2.15             30.00  100.00  \n",
       "1                 0.50             30.00   72.46  \n",
       "2                 1.09             24.29   41.25  \n",
       "3                 0.24             26.79   67.86  \n",
       "4                 1.31             21.96   17.86  "
      ]
     },
     "execution_count": 117,
     "metadata": {},
     "output_type": "execute_result"
    }
   ],
   "source": [
    "weights.head()"
   ]
  },
  {
   "cell_type": "code",
   "execution_count": 119,
   "metadata": {},
   "outputs": [
    {
     "data": {
      "text/plain": [
       "4000"
      ]
     },
     "execution_count": 119,
     "metadata": {},
     "output_type": "execute_result"
    }
   ],
   "source": [
    "len(weights)"
   ]
  },
  {
   "cell_type": "markdown",
   "metadata": {},
   "source": [
    "### Expand network file"
   ]
  },
  {
   "cell_type": "code",
   "execution_count": 61,
   "metadata": {},
   "outputs": [],
   "source": [
    "exploded_nodes = pd.concat([\n",
    "    df[['start_latitude', 'start_longitude']].rename(columns={'start_latitude':'latitude', 'start_longitude':'longitude'}), \n",
    "    df[['end_latitude', 'end_longitude']].rename(columns={'end_latitude':'latitude', 'end_longitude':'longitude'})])"
   ]
  },
  {
   "cell_type": "markdown",
   "metadata": {},
   "source": [
    "### Extract nodes and edges"
   ]
  },
  {
   "cell_type": "code",
   "execution_count": 108,
   "metadata": {},
   "outputs": [],
   "source": [
    "nodes = exploded_nodes.drop_duplicates()\n",
    "nodes.index.name = 'node_id'\n",
    "nodes.reset_index(inplace=True)"
   ]
  },
  {
   "cell_type": "code",
   "execution_count": 109,
   "metadata": {},
   "outputs": [
    {
     "data": {
      "text/html": [
       "<div>\n",
       "<style scoped>\n",
       "    .dataframe tbody tr th:only-of-type {\n",
       "        vertical-align: middle;\n",
       "    }\n",
       "\n",
       "    .dataframe tbody tr th {\n",
       "        vertical-align: top;\n",
       "    }\n",
       "\n",
       "    .dataframe thead th {\n",
       "        text-align: right;\n",
       "    }\n",
       "</style>\n",
       "<table border=\"1\" class=\"dataframe\">\n",
       "  <thead>\n",
       "    <tr style=\"text-align: right;\">\n",
       "      <th></th>\n",
       "      <th>node_id</th>\n",
       "      <th>latitude</th>\n",
       "      <th>longitude</th>\n",
       "    </tr>\n",
       "  </thead>\n",
       "  <tbody>\n",
       "    <tr>\n",
       "      <th>0</th>\n",
       "      <td>0</td>\n",
       "      <td>37.735439</td>\n",
       "      <td>-122.174808</td>\n",
       "    </tr>\n",
       "    <tr>\n",
       "      <th>1</th>\n",
       "      <td>1</td>\n",
       "      <td>37.739259</td>\n",
       "      <td>-122.166718</td>\n",
       "    </tr>\n",
       "    <tr>\n",
       "      <th>2</th>\n",
       "      <td>2</td>\n",
       "      <td>37.741482</td>\n",
       "      <td>-122.156987</td>\n",
       "    </tr>\n",
       "    <tr>\n",
       "      <th>3</th>\n",
       "      <td>3</td>\n",
       "      <td>37.741561</td>\n",
       "      <td>-122.156799</td>\n",
       "    </tr>\n",
       "    <tr>\n",
       "      <th>4</th>\n",
       "      <td>4</td>\n",
       "      <td>37.742957</td>\n",
       "      <td>-122.152482</td>\n",
       "    </tr>\n",
       "  </tbody>\n",
       "</table>\n",
       "</div>"
      ],
      "text/plain": [
       "   node_id   latitude   longitude\n",
       "0        0  37.735439 -122.174808\n",
       "1        1  37.739259 -122.166718\n",
       "2        2  37.741482 -122.156987\n",
       "3        3  37.741561 -122.156799\n",
       "4        4  37.742957 -122.152482"
      ]
     },
     "execution_count": 109,
     "metadata": {},
     "output_type": "execute_result"
    }
   ],
   "source": [
    "nodes.head()"
   ]
  },
  {
   "cell_type": "markdown",
   "metadata": {},
   "source": [
    "#### Project nodes to x,y"
   ]
  },
  {
   "cell_type": "code",
   "execution_count": 99,
   "metadata": {},
   "outputs": [],
   "source": [
    "inProj = Proj(init='epsg:4326')\n",
    "outProj = Proj(init='epsg:2768')"
   ]
  },
  {
   "cell_type": "code",
   "execution_count": 134,
   "metadata": {},
   "outputs": [],
   "source": [
    "x, y = [pd.Series(x) for x in transform(inProj, outProj, nodes['longitude'].values, nodes['latitude'].values)]\n",
    "nodes['x'] = x\n",
    "nodes['y'] = y"
   ]
  },
  {
   "cell_type": "code",
   "execution_count": 135,
   "metadata": {},
   "outputs": [
    {
     "data": {
      "text/html": [
       "<div>\n",
       "<style scoped>\n",
       "    .dataframe tbody tr th:only-of-type {\n",
       "        vertical-align: middle;\n",
       "    }\n",
       "\n",
       "    .dataframe tbody tr th {\n",
       "        vertical-align: top;\n",
       "    }\n",
       "\n",
       "    .dataframe thead th {\n",
       "        text-align: right;\n",
       "    }\n",
       "</style>\n",
       "<table border=\"1\" class=\"dataframe\">\n",
       "  <thead>\n",
       "    <tr style=\"text-align: right;\">\n",
       "      <th></th>\n",
       "      <th>node_id</th>\n",
       "      <th>latitude</th>\n",
       "      <th>longitude</th>\n",
       "      <th>x</th>\n",
       "      <th>y</th>\n",
       "    </tr>\n",
       "  </thead>\n",
       "  <tbody>\n",
       "    <tr>\n",
       "      <th>0</th>\n",
       "      <td>0.0</td>\n",
       "      <td>37.735439</td>\n",
       "      <td>-122.174808</td>\n",
       "      <td>1.852389e+06</td>\n",
       "      <td>638430.990963</td>\n",
       "    </tr>\n",
       "    <tr>\n",
       "      <th>1</th>\n",
       "      <td>1.0</td>\n",
       "      <td>37.739259</td>\n",
       "      <td>-122.166718</td>\n",
       "      <td>1.853109e+06</td>\n",
       "      <td>638842.128354</td>\n",
       "    </tr>\n",
       "    <tr>\n",
       "      <th>2</th>\n",
       "      <td>2.0</td>\n",
       "      <td>37.741482</td>\n",
       "      <td>-122.156987</td>\n",
       "      <td>1.853971e+06</td>\n",
       "      <td>639073.555769</td>\n",
       "    </tr>\n",
       "    <tr>\n",
       "      <th>3</th>\n",
       "      <td>3.0</td>\n",
       "      <td>37.741561</td>\n",
       "      <td>-122.156799</td>\n",
       "      <td>1.853988e+06</td>\n",
       "      <td>639082.028775</td>\n",
       "    </tr>\n",
       "    <tr>\n",
       "      <th>4</th>\n",
       "      <td>4.0</td>\n",
       "      <td>37.742957</td>\n",
       "      <td>-122.152482</td>\n",
       "      <td>1.854371e+06</td>\n",
       "      <td>639230.211297</td>\n",
       "    </tr>\n",
       "  </tbody>\n",
       "</table>\n",
       "</div>"
      ],
      "text/plain": [
       "   node_id   latitude   longitude             x              y\n",
       "0      0.0  37.735439 -122.174808  1.852389e+06  638430.990963\n",
       "1      1.0  37.739259 -122.166718  1.853109e+06  638842.128354\n",
       "2      2.0  37.741482 -122.156987  1.853971e+06  639073.555769\n",
       "3      3.0  37.741561 -122.156799  1.853988e+06  639082.028775\n",
       "4      4.0  37.742957 -122.152482  1.854371e+06  639230.211297"
      ]
     },
     "execution_count": 135,
     "metadata": {},
     "output_type": "execute_result"
    }
   ],
   "source": [
    "nodes.head()"
   ]
  },
  {
   "cell_type": "code",
   "execution_count": 66,
   "metadata": {},
   "outputs": [],
   "source": [
    "edges = df[['tmc', 'start_latitude', 'start_longitude', 'end_latitude', 'end_longitude']]"
   ]
  },
  {
   "cell_type": "code",
   "execution_count": 67,
   "metadata": {},
   "outputs": [
    {
     "data": {
      "text/html": [
       "<div>\n",
       "<style scoped>\n",
       "    .dataframe tbody tr th:only-of-type {\n",
       "        vertical-align: middle;\n",
       "    }\n",
       "\n",
       "    .dataframe tbody tr th {\n",
       "        vertical-align: top;\n",
       "    }\n",
       "\n",
       "    .dataframe thead th {\n",
       "        text-align: right;\n",
       "    }\n",
       "</style>\n",
       "<table border=\"1\" class=\"dataframe\">\n",
       "  <thead>\n",
       "    <tr style=\"text-align: right;\">\n",
       "      <th></th>\n",
       "      <th>tmc</th>\n",
       "      <th>start_latitude</th>\n",
       "      <th>start_longitude</th>\n",
       "      <th>end_latitude</th>\n",
       "      <th>end_longitude</th>\n",
       "    </tr>\n",
       "  </thead>\n",
       "  <tbody>\n",
       "    <tr>\n",
       "      <th>0</th>\n",
       "      <td>105+22231</td>\n",
       "      <td>37.735439</td>\n",
       "      <td>-122.174808</td>\n",
       "      <td>37.739259</td>\n",
       "      <td>-122.166718</td>\n",
       "    </tr>\n",
       "    <tr>\n",
       "      <th>1</th>\n",
       "      <td>105-22230</td>\n",
       "      <td>37.739259</td>\n",
       "      <td>-122.166718</td>\n",
       "      <td>37.735439</td>\n",
       "      <td>-122.174808</td>\n",
       "    </tr>\n",
       "    <tr>\n",
       "      <th>2</th>\n",
       "      <td>105P22223</td>\n",
       "      <td>37.741482</td>\n",
       "      <td>-122.156987</td>\n",
       "      <td>37.741561</td>\n",
       "      <td>-122.156799</td>\n",
       "    </tr>\n",
       "    <tr>\n",
       "      <th>3</th>\n",
       "      <td>105+22224</td>\n",
       "      <td>37.741561</td>\n",
       "      <td>-122.156799</td>\n",
       "      <td>37.742957</td>\n",
       "      <td>-122.152482</td>\n",
       "    </tr>\n",
       "    <tr>\n",
       "      <th>4</th>\n",
       "      <td>105+22225</td>\n",
       "      <td>37.742957</td>\n",
       "      <td>-122.152482</td>\n",
       "      <td>37.744939</td>\n",
       "      <td>-122.148928</td>\n",
       "    </tr>\n",
       "  </tbody>\n",
       "</table>\n",
       "</div>"
      ],
      "text/plain": [
       "         tmc  start_latitude  start_longitude  end_latitude  end_longitude\n",
       "0  105+22231       37.735439      -122.174808     37.739259    -122.166718\n",
       "1  105-22230       37.739259      -122.166718     37.735439    -122.174808\n",
       "2  105P22223       37.741482      -122.156987     37.741561    -122.156799\n",
       "3  105+22224       37.741561      -122.156799     37.742957    -122.152482\n",
       "4  105+22225       37.742957      -122.152482     37.744939    -122.148928"
      ]
     },
     "execution_count": 67,
     "metadata": {},
     "output_type": "execute_result"
    }
   ],
   "source": [
    "edges.head()"
   ]
  },
  {
   "cell_type": "markdown",
   "metadata": {},
   "source": [
    "### Get edge weights"
   ]
  },
  {
   "cell_type": "code",
   "execution_count": 142,
   "metadata": {},
   "outputs": [],
   "source": [
    "merged = pd.merge(df, nodes, left_on=['start_latitude', 'start_longitude'], right_on=['latitude','longitude'], suffixes=('','_from'))"
   ]
  },
  {
   "cell_type": "code",
   "execution_count": 143,
   "metadata": {},
   "outputs": [],
   "source": [
    "merged = pd.merge(merged, nodes, left_on=['end_latitude', 'end_longitude'], right_on=['latitude','longitude'], suffixes=('','_to'))"
   ]
  },
  {
   "cell_type": "code",
   "execution_count": 144,
   "metadata": {},
   "outputs": [],
   "source": [
    "merged = merged[['tmc', 'node_id', 'node_id_to']].rename(columns={'node_id': 'from', 'node_id_to':'to'})"
   ]
  },
  {
   "cell_type": "code",
   "execution_count": 145,
   "metadata": {},
   "outputs": [
    {
     "data": {
      "text/html": [
       "<div>\n",
       "<style scoped>\n",
       "    .dataframe tbody tr th:only-of-type {\n",
       "        vertical-align: middle;\n",
       "    }\n",
       "\n",
       "    .dataframe tbody tr th {\n",
       "        vertical-align: top;\n",
       "    }\n",
       "\n",
       "    .dataframe thead th {\n",
       "        text-align: right;\n",
       "    }\n",
       "</style>\n",
       "<table border=\"1\" class=\"dataframe\">\n",
       "  <thead>\n",
       "    <tr style=\"text-align: right;\">\n",
       "      <th></th>\n",
       "      <th>tmc</th>\n",
       "      <th>from</th>\n",
       "      <th>to</th>\n",
       "    </tr>\n",
       "  </thead>\n",
       "  <tbody>\n",
       "    <tr>\n",
       "      <th>0</th>\n",
       "      <td>105+22231</td>\n",
       "      <td>0.0</td>\n",
       "      <td>1.0</td>\n",
       "    </tr>\n",
       "    <tr>\n",
       "      <th>1</th>\n",
       "      <td>105-06481</td>\n",
       "      <td>436.0</td>\n",
       "      <td>1.0</td>\n",
       "    </tr>\n",
       "    <tr>\n",
       "      <th>2</th>\n",
       "      <td>105+08310</td>\n",
       "      <td>903.0</td>\n",
       "      <td>1.0</td>\n",
       "    </tr>\n",
       "    <tr>\n",
       "      <th>3</th>\n",
       "      <td>105-13400</td>\n",
       "      <td>0.0</td>\n",
       "      <td>980.0</td>\n",
       "    </tr>\n",
       "    <tr>\n",
       "      <th>4</th>\n",
       "      <td>105P10860</td>\n",
       "      <td>981.0</td>\n",
       "      <td>980.0</td>\n",
       "    </tr>\n",
       "  </tbody>\n",
       "</table>\n",
       "</div>"
      ],
      "text/plain": [
       "         tmc   from     to\n",
       "0  105+22231    0.0    1.0\n",
       "1  105-06481  436.0    1.0\n",
       "2  105+08310  903.0    1.0\n",
       "3  105-13400    0.0  980.0\n",
       "4  105P10860  981.0  980.0"
      ]
     },
     "execution_count": 145,
     "metadata": {},
     "output_type": "execute_result"
    }
   ],
   "source": [
    "merged.head()"
   ]
  },
  {
   "cell_type": "code",
   "execution_count": 146,
   "metadata": {},
   "outputs": [],
   "source": [
    "edges = pd.merge(edges, weights, left_on='tmc', right_on='tmc_code')[['from', 'to', 'travel_time_minutes']]"
   ]
  },
  {
   "cell_type": "code",
   "execution_count": 147,
   "metadata": {},
   "outputs": [
    {
     "data": {
      "text/html": [
       "<div>\n",
       "<style scoped>\n",
       "    .dataframe tbody tr th:only-of-type {\n",
       "        vertical-align: middle;\n",
       "    }\n",
       "\n",
       "    .dataframe tbody tr th {\n",
       "        vertical-align: top;\n",
       "    }\n",
       "\n",
       "    .dataframe thead th {\n",
       "        text-align: right;\n",
       "    }\n",
       "</style>\n",
       "<table border=\"1\" class=\"dataframe\">\n",
       "  <thead>\n",
       "    <tr style=\"text-align: right;\">\n",
       "      <th></th>\n",
       "      <th>from</th>\n",
       "      <th>to</th>\n",
       "      <th>travel_time_minutes</th>\n",
       "    </tr>\n",
       "  </thead>\n",
       "  <tbody>\n",
       "    <tr>\n",
       "      <th>0</th>\n",
       "      <td>0</td>\n",
       "      <td>1</td>\n",
       "      <td>1.52</td>\n",
       "    </tr>\n",
       "    <tr>\n",
       "      <th>1</th>\n",
       "      <td>436</td>\n",
       "      <td>1</td>\n",
       "      <td>1.44</td>\n",
       "    </tr>\n",
       "    <tr>\n",
       "      <th>2</th>\n",
       "      <td>903</td>\n",
       "      <td>1</td>\n",
       "      <td>3.98</td>\n",
       "    </tr>\n",
       "    <tr>\n",
       "      <th>3</th>\n",
       "      <td>0</td>\n",
       "      <td>980</td>\n",
       "      <td>2.25</td>\n",
       "    </tr>\n",
       "    <tr>\n",
       "      <th>4</th>\n",
       "      <td>981</td>\n",
       "      <td>980</td>\n",
       "      <td>0.08</td>\n",
       "    </tr>\n",
       "  </tbody>\n",
       "</table>\n",
       "</div>"
      ],
      "text/plain": [
       "   from   to  travel_time_minutes\n",
       "0     0    1                 1.52\n",
       "1   436    1                 1.44\n",
       "2   903    1                 3.98\n",
       "3     0  980                 2.25\n",
       "4   981  980                 0.08"
      ]
     },
     "execution_count": 147,
     "metadata": {},
     "output_type": "execute_result"
    }
   ],
   "source": [
    "edges.head()"
   ]
  }
 ],
 "metadata": {
  "kernelspec": {
   "display_name": "Python 3",
   "language": "python",
   "name": "python3"
  },
  "language_info": {
   "codemirror_mode": {
    "name": "ipython",
    "version": 3
   },
   "file_extension": ".py",
   "mimetype": "text/x-python",
   "name": "python",
   "nbconvert_exporter": "python",
   "pygments_lexer": "ipython3",
   "version": "3.6.6"
  }
 },
 "nbformat": 4,
 "nbformat_minor": 2
}
