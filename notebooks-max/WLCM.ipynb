{
 "cells": [
  {
   "cell_type": "code",
   "execution_count": 1,
   "metadata": {},
   "outputs": [],
   "source": [
    "import pandas as pd\n",
    "import numpy as np\n",
    "from tqdm import tqdm\n",
    "from sklearn.neighbors import BallTree\n",
    "import seaborn as sns\n",
    "import geopandas as gpd\n",
    "from shapely.geometry import Point, LineString\n",
    "from pyproj import Proj, transform\n",
    "from choicemodels.tools.distancematrix import distance_matrix\n",
    "# from scipy.spatial import distance_matrix\n",
    "from matplotlib import pyplot as plt\n",
    "%matplotlib inline"
   ]
  },
  {
   "cell_type": "code",
   "execution_count": 2,
   "metadata": {},
   "outputs": [
    {
     "name": "stderr",
     "output_type": "stream",
     "text": [
      "/home/max/anaconda3/envs/ual-model/lib/python3.6/importlib/_bootstrap.py:219: RuntimeWarning: numpy.dtype size changed, may indicate binary incompatibility. Expected 96, got 88\n",
      "  return f(*args, **kwds)\n"
     ]
    }
   ],
   "source": [
    "from urbansim_templates import modelmanager as mm\n",
    "from urbansim_templates.models import LargeMultinomialLogitStep\n",
    "import orca\n",
    "import os; os.chdir('../')\n",
    "import warnings;warnings.simplefilter('ignore')"
   ]
  },
  {
   "cell_type": "markdown",
   "metadata": {},
   "source": [
    "### Load data"
   ]
  },
  {
   "cell_type": "code",
   "execution_count": 6,
   "metadata": {},
   "outputs": [],
   "source": [
    "data_dir = '/home/data/'\n",
    "chts_dir = 'CHTS_csv_format/'"
   ]
  },
  {
   "cell_type": "code",
   "execution_count": 7,
   "metadata": {},
   "outputs": [],
   "source": [
    "chts_persons = pd.read_csv(data_dir + chts_dir + 'data/Deliv_PER.csv', low_memory=False)"
   ]
  },
  {
   "cell_type": "code",
   "execution_count": 5,
   "metadata": {},
   "outputs": [],
   "source": [
    "chts_persons_lookup = pd.read_csv(data_dir + chts_dir + 'data/LookUp_PER.csv')"
   ]
  },
  {
   "cell_type": "code",
   "execution_count": 6,
   "metadata": {},
   "outputs": [],
   "source": [
    "chts_households_lookup = pd.read_csv(data_dir + chts_dir + 'data/LookUp_Home.csv')"
   ]
  },
  {
   "cell_type": "code",
   "execution_count": 7,
   "metadata": {},
   "outputs": [],
   "source": [
    "chts_persons = pd.merge(\n",
    "    chts_persons.set_index(['SAMPN','PERNO']),\n",
    "    chts_persons_lookup.set_index(['SAMPN','PERNO']),\n",
    "    left_index=True, right_index=True,\n",
    "    suffixes=('_persons', '_lookup')).reset_index()\n",
    "\n",
    "chts_persons = pd.merge(\n",
    "    chts_persons.set_index(['SAMPN']),\n",
    "    chts_households_lookup.set_index(['SAMPN']),\n",
    "    left_index=True, right_index=True).reset_index()\n",
    "\n",
    "chts_persons = chts_persons[chts_persons['HCTFIP'].isin([1, 13, 41, 55, 75, 81, 85, 95, 97])].reset_index()"
   ]
  },
  {
   "cell_type": "code",
   "execution_count": 3,
   "metadata": {},
   "outputs": [],
   "source": [
    "orca.add_injectable('data_directory', '/home/data/2018-07/')\n",
    "\n",
    "from scripts import datasources\n",
    "from scripts import models"
   ]
  },
  {
   "cell_type": "code",
   "execution_count": 4,
   "metadata": {},
   "outputs": [],
   "source": [
    "jobs = orca.get_table('jobs').to_frame()"
   ]
  },
  {
   "cell_type": "code",
   "execution_count": 5,
   "metadata": {},
   "outputs": [],
   "source": [
    "buildings = orca.get_table('buildings').to_frame()"
   ]
  },
  {
   "cell_type": "code",
   "execution_count": 6,
   "metadata": {},
   "outputs": [],
   "source": [
    "parcels = orca.get_table('parcels').to_frame()"
   ]
  },
  {
   "cell_type": "markdown",
   "metadata": {},
   "source": [
    "### Identify in-region workers"
   ]
  },
  {
   "cell_type": "code",
   "execution_count": 12,
   "metadata": {},
   "outputs": [],
   "source": [
    "chts_persons['work_in_region'] = chts_persons['WCTFIP_lookup'].isin([1, 13, 41, 55, 75, 81, 85, 95, 97])"
   ]
  },
  {
   "cell_type": "code",
   "execution_count": 13,
   "metadata": {},
   "outputs": [
    {
     "data": {
      "text/plain": [
       "False    13810\n",
       "True     10220\n",
       "Name: work_in_region, dtype: int64"
      ]
     },
     "execution_count": 13,
     "metadata": {},
     "output_type": "execute_result"
    }
   ],
   "source": [
    "chts_persons['work_in_region'].value_counts()"
   ]
  },
  {
   "cell_type": "markdown",
   "metadata": {},
   "source": [
    "### Get job coords"
   ]
  },
  {
   "cell_type": "code",
   "execution_count": 7,
   "metadata": {},
   "outputs": [],
   "source": [
    "buildings = pd.merge(buildings, parcels[['x', 'y']], left_on='parcel_id', right_index=True)\n",
    "jobs = pd.merge(jobs, buildings[['x', 'y']], left_on='building_id', right_index=True)\n",
    "jobs.rename(columns={'x': 'lng', 'y': 'lat'}, inplace=True)"
   ]
  },
  {
   "cell_type": "markdown",
   "metadata": {},
   "source": [
    "### Prepare jobs table and CHTS persons table for job assignment"
   ]
  },
  {
   "cell_type": "code",
   "execution_count": 15,
   "metadata": {},
   "outputs": [],
   "source": [
    "jobs.loc[:,'taken'] = False"
   ]
  },
  {
   "cell_type": "code",
   "execution_count": 16,
   "metadata": {},
   "outputs": [],
   "source": [
    "chts_persons.loc[:, 'job_id'] = None"
   ]
  },
  {
   "cell_type": "code",
   "execution_count": 17,
   "metadata": {},
   "outputs": [],
   "source": [
    "# haversine requires data in form of [lat, lng] and inputs/outputs in units of radians\n",
    "persons_work_rad = np.deg2rad(chts_persons[['WYCORD_lookup', 'WXCORD_lookup']])\n",
    "jobs_rad = np.deg2rad(jobs[['lng', 'lat']])\n",
    "jobs.loc[:, 'x'] = jobs_rad['lng']\n",
    "jobs.loc[:, 'y'] = jobs_rad['lat']"
   ]
  },
  {
   "cell_type": "markdown",
   "metadata": {},
   "source": [
    "### Assign CHTS persons a job ID"
   ]
  },
  {
   "cell_type": "code",
   "execution_count": 30,
   "metadata": {},
   "outputs": [
    {
     "name": "stderr",
     "output_type": "stream",
     "text": [
      "100%|██████████| 24030/24030 [34:31<00:00, 11.60it/s]\n"
     ]
    }
   ],
   "source": [
    "dists = []\n",
    "no_job_info = []\n",
    "no_work_coords = []\n",
    "\n",
    "for i, person in tqdm(chts_persons.iterrows(), total=len(chts_persons)):\n",
    "    # only assign a job ID for employed persons with a fixed\n",
    "    # work location other than their home\n",
    "    if (person['EMPLY'] == 1) & (person['WLOC'] == 1) & (person['work_in_region'] == True):\n",
    "        \n",
    "        # skip person if no CHTS industry or occupation\n",
    "        if (person['INDUS'] > 96) & (person['OCCUP'] > 96):\n",
    "            no_job_info.append(i)\n",
    "            continue\n",
    "        \n",
    "        # skip person if no work location\n",
    "        elif pd.isnull(person[['WYCORD_lookup', 'WXCORD_lookup']]).any():\n",
    "            no_work_coords.append(i)\n",
    "            continue\n",
    "        \n",
    "        # if CHTS industry is unknown, match jobs based on occupation only\n",
    "        elif person['INDUS'] > 96:\n",
    "            potential_jobs = jobs[\n",
    "                (jobs['occupation_id'] == person['OCCUP']) &\n",
    "                (jobs['taken'] == False)]\n",
    "        \n",
    "        # if occupation is unknown, match jobs based on industry only\n",
    "        elif person['OCCUP'] > 96:\n",
    "            potential_jobs = jobs[\n",
    "                (jobs['sector_id'] == person['INDUS']) &\n",
    "                (jobs['taken'] == False)]\n",
    "        \n",
    "        elif (person['INDUS'] < 97) & (person['OCCUP'] < 97):\n",
    "            \n",
    "            # define potential jobs based on industry and occupation\n",
    "            potential_jobs = jobs[\n",
    "                (jobs['sector_id'] == person['INDUS']) &\n",
    "                (jobs['occupation_id'] == person['OCCUP']) &\n",
    "                (jobs['taken'] == False)]\n",
    "            \n",
    "            # if no such jobs exist, define jobs by industry\n",
    "            if len(potential_jobs) == 0:\n",
    "                potential_jobs = jobs[\n",
    "                    (jobs['sector_id'] == person['INDUS']) &\n",
    "                    (jobs['taken'] == False)]\n",
    "                \n",
    "            # if no such jobs exist, define jobs by occupation\n",
    "            if len(potential_jobs) == 0:\n",
    "                potential_jobs = jobs[\n",
    "                    (jobs['occupation_id'] == person['OCCUP']) &\n",
    "                    (jobs['taken'] == False)]\n",
    "            \n",
    "            # otherwise, continue\n",
    "            if len(potential_jobs) == 0:\n",
    "                continue\n",
    "        \n",
    "        # build the tree of potential jobs for fast nearest-neighbor search\n",
    "        tree = BallTree(potential_jobs[['y','x']], metric='haversine')\n",
    "        \n",
    "        # query the tree for nearest job to each workplace\n",
    "        dist, idx = tree.query(persons_work_rad.iloc[i].values.reshape(1,-1), return_distance=True)\n",
    "        \n",
    "        # save results\n",
    "        job = potential_jobs.iloc[idx[0]]\n",
    "        dists.append(dist[0][0])\n",
    "        chts_persons.loc[i, 'job_id'] = job.index.values[0]\n",
    "        jobs.loc[jobs.index.values == job.index.values[0], 'taken'] = True \n"
   ]
  },
  {
   "cell_type": "code",
   "execution_count": 60,
   "metadata": {},
   "outputs": [
    {
     "data": {
      "text/plain": [
       "array([ 0.65923277, -2.1363285 ])"
      ]
     },
     "execution_count": 60,
     "metadata": {},
     "output_type": "execute_result"
    }
   ],
   "source": [
    "persons_rad.iloc[2].values"
   ]
  },
  {
   "cell_type": "code",
   "execution_count": 31,
   "metadata": {},
   "outputs": [
    {
     "name": "stdout",
     "output_type": "stream",
     "text": [
      "Assigned job IDs to 96.5% of workers with a fixed work location.\n",
      "1.7% had no industry/occupation info.\n",
      "0.0% had no work coordinates.\n"
     ]
    }
   ],
   "source": [
    "print('Assigned job IDs to {0}% of workers with a fixed work location.'.format(\n",
    "    np.round(chts_persons.job_id.count() / len(\n",
    "        chts_persons[(chts_persons['EMPLY'] == 1)  & (chts_persons['WLOC'] == 1)]) * 100, 1)))\n",
    "print('{0}% had no industry/occupation info.'.format(\n",
    "    np.round(len(no_job_info) / len(\n",
    "        chts_persons[(chts_persons['EMPLY'] == 1)  & (chts_persons['WLOC'] == 1)]) * 100, 1)))\n",
    "print('{0}% had no work coordinates.'.format(\n",
    "    np.round(len(no_work_coords) / len(\n",
    "        chts_persons[(chts_persons['EMPLY'] == 1)  & (chts_persons['WLOC'] == 1)]) * 100, 1)))"
   ]
  },
  {
   "cell_type": "code",
   "execution_count": 38,
   "metadata": {},
   "outputs": [],
   "source": [
    "km_dists = [dist * 6371 for dist in dists]"
   ]
  },
  {
   "cell_type": "code",
   "execution_count": 41,
   "metadata": {},
   "outputs": [
    {
     "data": {
      "text/plain": [
       "<matplotlib.axes._subplots.AxesSubplot at 0x7ff31922b828>"
      ]
     },
     "execution_count": 41,
     "metadata": {},
     "output_type": "execute_result"
    },
    {
     "data": {
      "image/png": "[encoded data removed]",
      "text/plain": [
       "<Figure size 432x288 with 1 Axes>"
      ]
     },
     "metadata": {},
     "output_type": "display_data"
    }
   ],
   "source": [
    "pd.Series(km_dists).plot(kind='hist', bins=1000, xlim=(0, 2.5))"
   ]
  },
  {
   "cell_type": "code",
   "execution_count": 43,
   "metadata": {},
   "outputs": [],
   "source": [
    "chts_persons.to_csv('chts_persons_w_jobs.csv', index=False)"
   ]
  },
  {
   "cell_type": "code",
   "execution_count": 8,
   "metadata": {},
   "outputs": [],
   "source": [
    "chts_persons = pd.read_csv('chts_persons_w_jobs.csv')"
   ]
  },
  {
   "cell_type": "markdown",
   "metadata": {},
   "source": [
    "### Assign CHTS persons to buildings"
   ]
  },
  {
   "cell_type": "code",
   "execution_count": 17,
   "metadata": {},
   "outputs": [],
   "source": [
    "persons_home_rad = np.deg2rad(chts_persons[['HYCORD', 'HXCORD']])\n",
    "bldg_rad = np.deg2rad(buildings[['y', 'x']])\n",
    "\n",
    "buildings.loc[:, 'x_rad'] = bldg_rad['x']\n",
    "buildings.loc[:, 'y_rad'] = bldg_rad['y']"
   ]
  },
  {
   "cell_type": "code",
   "execution_count": 19,
   "metadata": {},
   "outputs": [],
   "source": [
    "tree = BallTree(buildings[['y_rad','x_rad']], metric='haversine')"
   ]
  },
  {
   "cell_type": "code",
   "execution_count": 20,
   "metadata": {},
   "outputs": [],
   "source": [
    "dists, idxs = tree.query(persons_home_rad, return_distance=True)"
   ]
  },
  {
   "cell_type": "code",
   "execution_count": 21,
   "metadata": {},
   "outputs": [],
   "source": [
    "km_dists = pd.Series([dist[0] * 6371 for dist in dists])"
   ]
  },
  {
   "cell_type": "code",
   "execution_count": 22,
   "metadata": {},
   "outputs": [
    {
     "data": {
      "text/plain": [
       "<matplotlib.axes._subplots.AxesSubplot at 0x7f2ca896eb00>"
      ]
     },
     "execution_count": 22,
     "metadata": {},
     "output_type": "execute_result"
    },
    {
     "data": {
      "image/png": "[encoded data removed]",
      "text/plain": [
       "<Figure size 432x288 with 1 Axes>"
      ]
     },
     "metadata": {},
     "output_type": "display_data"
    }
   ],
   "source": [
    "pd.Series(km_dists).plot(kind='hist', bins=100, xlim=(0,0.5))"
   ]
  },
  {
   "cell_type": "code",
   "execution_count": 23,
   "metadata": {},
   "outputs": [],
   "source": [
    "chts_persons['building_id'] = buildings.iloc[idxs[:,0]].index"
   ]
  },
  {
   "cell_type": "code",
   "execution_count": 24,
   "metadata": {},
   "outputs": [
    {
     "data": {
      "text/plain": [
       "<orca.orca.DataFrameWrapper at 0x7f2ca869bd68>"
      ]
     },
     "execution_count": 24,
     "metadata": {},
     "output_type": "execute_result"
    }
   ],
   "source": [
    "orca.add_table('chts_persons', chts_persons)"
   ]
  },
  {
   "cell_type": "code",
   "execution_count": 25,
   "metadata": {},
   "outputs": [],
   "source": [
    "orca.broadcast('buildings', 'chts_persons', cast_index=True, onto_on='building_id')"
   ]
  },
  {
   "cell_type": "markdown",
   "metadata": {},
   "source": [
    "### Generate Accessibility Vars"
   ]
  },
  {
   "cell_type": "code",
   "execution_count": 26,
   "metadata": {},
   "outputs": [
    {
     "name": "stdout",
     "output_type": "stream",
     "text": [
      "Running step 'initialize_network_small'\n",
      "Time to execute step 'initialize_network_small': 7.73 s\n",
      "Running step 'network_aggregations_small'\n",
      "Computing accessibility variables\n",
      "Computing units_10000\n",
      "Computing units_sf_10000\n",
      "Computing units_mf_10000\n",
      "Computing pop_10000\n",
      "Removed 189769 rows because they contain missing values\n",
      "Computing hh_10000\n",
      "Removed 189769 rows because they contain missing values\n",
      "Computing poor_10000\n",
      "Removed 53114 rows because they contain missing values\n",
      "Computing renters_10000\n",
      "Removed 102597 rows because they contain missing values\n",
      "Computing avg_income_10000\n",
      "Removed 189769 rows because they contain missing values\n",
      "Computing jobs_10000\n",
      "Computing avg_rent_10000\n",
      "Computing pop_white_10000\n",
      "Removed 107372 rows because they contain missing values\n",
      "Computing pop_black_10000\n",
      "Removed 10541 rows because they contain missing values\n",
      "Computing pop_asian_10000\n",
      "Removed 51048 rows because they contain missing values\n",
      "Computing pop_hisp_10000\n",
      "Removed 31685 rows because they contain missing values\n",
      "Computing units_25000\n",
      "Computing units_sf_25000\n",
      "Computing units_mf_25000\n",
      "Computing pop_25000\n",
      "Removed 189769 rows because they contain missing values\n",
      "Computing hh_25000\n",
      "Removed 189769 rows because they contain missing values\n",
      "Computing poor_25000\n",
      "Removed 53114 rows because they contain missing values\n",
      "Computing renters_25000\n",
      "Removed 102597 rows because they contain missing values\n",
      "Computing avg_income_25000\n",
      "Removed 189769 rows because they contain missing values\n",
      "Computing jobs_25000\n",
      "Computing avg_rent_25000\n",
      "Computing pop_white_25000\n",
      "Removed 107372 rows because they contain missing values\n",
      "Computing pop_black_25000\n",
      "Removed 10541 rows because they contain missing values\n",
      "Computing pop_asian_25000\n",
      "Removed 51048 rows because they contain missing values\n",
      "Computing pop_hisp_25000\n",
      "Removed 31685 rows because they contain missing values\n",
      "Computing jobs_10000_retail\n",
      "Computing jobs_25000_retail\n",
      "Computing jobs_10000_fire\n",
      "Computing jobs_25000_fire\n",
      "Computing jobs_10000_tech\n",
      "Computing jobs_25000_tech\n",
      "Computing jobs_10000_serv\n",
      "Computing jobs_25000_serv\n",
      "         units_10000  units_sf_10000  units_mf_10000      pop_10000  \\\n",
      "count   30826.000000    30826.000000    30826.000000   30826.000000   \n",
      "mean   111656.078125    60759.140625    45984.058594  260260.421875   \n",
      "std     87205.929688    37438.925781    46023.648438  188418.093750   \n",
      "min         0.000000        0.000000        0.000000       0.000000   \n",
      "25%     43964.500000    31221.500000    10558.000000  106498.750000   \n",
      "50%     96821.500000    59398.000000    32530.500000  231983.000000   \n",
      "75%    163121.750000    90068.500000    69672.000000  392361.000000   \n",
      "max    406854.000000   147995.000000   205873.000000  838934.000000   \n",
      "\n",
      "            hh_10000     poor_10000  renters_10000  avg_income_10000  \\\n",
      "count   30826.000000   30826.000000   30826.000000      30826.000000   \n",
      "mean    99092.796875   24263.931641   47250.296875     111233.140625   \n",
      "std     78053.578125   22118.812500   47935.484375      30336.044922   \n",
      "min         0.000000       0.000000       0.000000          0.000000   \n",
      "25%     39192.000000    7992.250000   13226.750000      93095.601562   \n",
      "50%     85626.000000   17596.500000   33240.500000     111716.902344   \n",
      "75%    143069.500000   34093.750000   65630.000000     129615.742188   \n",
      "max    370549.000000  100943.000000  225495.000000     265525.000000   \n",
      "\n",
      "         jobs_10000  avg_rent_10000       ...         pop_asian_25000  \\\n",
      "count   30826.00000    30826.000000       ...             30826.00000   \n",
      "mean   118229.84375     2631.133057       ...            294670.71875   \n",
      "std    107967.21875      755.853394       ...            217588.75000   \n",
      "min         0.00000        0.000000       ...                 0.00000   \n",
      "25%     28940.25000     2328.386353       ...             73012.25000   \n",
      "50%     92305.00000     2704.731201       ...            312618.50000   \n",
      "75%    176939.00000     2981.966370       ...            477998.25000   \n",
      "max    428602.00000     5900.000000       ...            693127.00000   \n",
      "\n",
      "       pop_hisp_25000  jobs_10000_retail  jobs_25000_retail  jobs_10000_fire  \\\n",
      "count    30826.000000       30826.000000       30826.000000     30826.000000   \n",
      "mean    183838.812500       15896.663086       55484.597656      8651.133789   \n",
      "std     110234.398438       14089.761719       33833.371094     10032.525391   \n",
      "min          0.000000           0.000000           0.000000         0.000000   \n",
      "25%      88483.750000        4315.250000       21935.500000      2093.000000   \n",
      "50%     181110.000000       13276.000000       61066.000000      5932.500000   \n",
      "75%     298581.500000       21232.750000       87063.000000     10849.000000   \n",
      "max     351718.000000       61048.000000      103905.000000     48870.000000   \n",
      "\n",
      "       jobs_25000_fire  jobs_10000_tech  jobs_25000_tech  jobs_10000_serv  \\\n",
      "count     30826.000000     30826.000000     30826.000000     30826.000000   \n",
      "mean      30371.357422     18315.990234     63948.664062     10135.660156   \n",
      "std       20591.972656     21676.605469     46754.714844     11016.259766   \n",
      "min           0.000000         0.000000         0.000000         0.000000   \n",
      "25%       10932.000000      2208.000000     16480.250000      2744.000000   \n",
      "50%       31111.500000      9142.500000     64656.000000      6776.000000   \n",
      "75%       42118.000000     28645.000000     98837.000000     13249.750000   \n",
      "max       73607.000000    103005.000000    149697.000000     51636.000000   \n",
      "\n",
      "       jobs_25000_serv  \n",
      "count     30826.000000  \n",
      "mean      34162.972656  \n",
      "std       23409.492188  \n",
      "min           0.000000  \n",
      "25%       11541.000000  \n",
      "50%       32524.000000  \n",
      "75%       50603.750000  \n",
      "max       82062.000000  \n",
      "\n",
      "[8 rows x 36 columns]\n",
      "Time to execute step 'network_aggregations_small': 85.48 s\n",
      "Total time to execute iteration 1 with iteration value None: 93.21 s\n",
      "CPU times: user 16min 20s, sys: 1min 57s, total: 18min 18s\n",
      "Wall time: 1min 33s\n"
     ]
    }
   ],
   "source": [
    "%%time\n",
    "orca.run(['initialize_network_small', 'network_aggregations_small'])"
   ]
  },
  {
   "cell_type": "code",
   "execution_count": 27,
   "metadata": {},
   "outputs": [
    {
     "name": "stdout",
     "output_type": "stream",
     "text": [
      "Running step 'initialize_network_walk'\n",
      "Time to execute step 'initialize_network_walk': 20.62 s\n",
      "Running step 'network_aggregations_walk'\n",
      "Computing accessibility variables\n",
      "Computing units_500_walk\n",
      "Computing sqft_unit_500_walk\n",
      "Computing singles_500_walk\n",
      "Removed 52084 rows because they contain missing values\n",
      "Computing elderly_hh_500_walk\n",
      "Removed 34553 rows because they contain missing values\n",
      "Computing children_500_walk\n",
      "Removed 189769 rows because they contain missing values\n",
      "Computing units_sf_500_walk\n",
      "Computing units_mf_500_walk\n",
      "Computing pop_500_walk\n",
      "Removed 189769 rows because they contain missing values\n",
      "Computing hh_500_walk\n",
      "Removed 189769 rows because they contain missing values\n",
      "Computing poor_500_walk\n",
      "Removed 53114 rows because they contain missing values\n",
      "Computing rich_500_walk\n",
      "Removed 38964 rows because they contain missing values\n",
      "Computing renters_500_walk\n",
      "Removed 102597 rows because they contain missing values\n",
      "Computing avg_income_500_walk\n",
      "Removed 189769 rows because they contain missing values\n",
      "Computing jobs_500_walk\n",
      "Computing avg_rent_500_walk\n",
      "Computing pop_white_500_walk\n",
      "Removed 107372 rows because they contain missing values\n",
      "Computing pop_black_500_walk\n",
      "Removed 10541 rows because they contain missing values\n",
      "Computing pop_asian_500_walk\n",
      "Removed 51048 rows because they contain missing values\n",
      "Computing pop_hisp_500_walk\n",
      "Removed 31685 rows because they contain missing values\n",
      "Computing units_1500_walk\n",
      "Computing sqft_unit_1500_walk\n",
      "Computing singles_1500_walk\n",
      "Removed 52084 rows because they contain missing values\n",
      "Computing elderly_hh_1500_walk\n",
      "Removed 34553 rows because they contain missing values\n",
      "Computing children_1500_walk\n",
      "Removed 189769 rows because they contain missing values\n",
      "Computing units_sf_1500_walk\n",
      "Computing units_mf_1500_walk\n",
      "Computing pop_1500_walk\n",
      "Removed 189769 rows because they contain missing values\n",
      "Computing hh_1500_walk\n",
      "Removed 189769 rows because they contain missing values\n",
      "Computing poor_1500_walk\n",
      "Removed 53114 rows because they contain missing values\n",
      "Computing rich_1500_walk\n",
      "Removed 38964 rows because they contain missing values\n",
      "Computing renters_1500_walk\n",
      "Removed 102597 rows because they contain missing values\n",
      "Computing avg_income_1500_walk\n",
      "Removed 189769 rows because they contain missing values\n",
      "Computing jobs_1500_walk\n",
      "Computing avg_rent_1500_walk\n",
      "Computing pop_white_1500_walk\n",
      "Removed 107372 rows because they contain missing values\n",
      "Computing pop_black_1500_walk\n",
      "Removed 10541 rows because they contain missing values\n",
      "Computing pop_asian_1500_walk\n",
      "Removed 51048 rows because they contain missing values\n",
      "Computing pop_hisp_1500_walk\n",
      "Removed 31685 rows because they contain missing values\n",
      "Computing pop_2500_walk\n",
      "Removed 189769 rows because they contain missing values\n",
      "Computing pop_white_2500_walk\n",
      "Removed 107372 rows because they contain missing values\n",
      "Computing pop_black_2500_walk\n",
      "Removed 10541 rows because they contain missing values\n",
      "Computing pop_asian_2500_walk\n",
      "Removed 51048 rows because they contain missing values\n",
      "Computing pop_hisp_2500_walk\n",
      "Removed 31685 rows because they contain missing values\n",
      "Computing jobs_500_walk_retail\n",
      "Computing jobs_1500_walk_retail\n",
      "Computing jobs_2500_walk_retail\n",
      "Computing jobs_500_walk_fire\n",
      "Computing jobs_1500_walk_fire\n",
      "Computing jobs_2500_walk_fire\n",
      "Computing jobs_500_walk_tech\n",
      "Computing jobs_1500_walk_tech\n",
      "Computing jobs_2500_walk_tech\n",
      "Computing jobs_500_walk_serv\n",
      "Computing jobs_1500_walk_serv\n",
      "Computing jobs_2500_walk_serv\n",
      "       units_500_walk  sqft_unit_500_walk  singles_500_walk  \\\n",
      "count   415716.000000       415716.000000     415716.000000   \n",
      "mean       356.008972         1245.544556         94.347931   \n",
      "std       1097.037720          979.879944        344.431244   \n",
      "min          0.000000            0.000000          0.000000   \n",
      "25%          9.000000          458.249519          1.000000   \n",
      "50%        188.000000         1315.694275         27.000000   \n",
      "75%        440.000000         1761.837921         87.000000   \n",
      "max     184995.000000        30000.000000      45809.000000   \n",
      "\n",
      "       elderly_hh_500_walk  children_500_walk  units_sf_500_walk  \\\n",
      "count        415716.000000      415716.000000      415716.000000   \n",
      "mean             58.482273         158.034760         163.916275   \n",
      "std             241.357803         443.152496         704.597778   \n",
      "min               0.000000           0.000000           0.000000   \n",
      "25%               1.000000           3.000000           2.000000   \n",
      "50%              28.000000          93.000000          98.000000   \n",
      "75%              70.000000         231.000000         247.000000   \n",
      "max           41748.000000       81194.000000      136971.000000   \n",
      "\n",
      "       units_mf_500_walk   pop_500_walk    hh_500_walk  poor_500_walk  \\\n",
      "count      415716.000000  415716.000000  415716.000000  415716.000000   \n",
      "mean          165.668030     792.460144     315.900543      85.833946   \n",
      "std           469.333771    2241.259277     956.908142     320.218262   \n",
      "min             0.000000       0.000000       0.000000       0.000000   \n",
      "25%             0.000000      20.000000       7.000000       1.000000   \n",
      "50%             2.000000     462.000000     170.000000      25.000000   \n",
      "75%           159.000000    1085.000000     395.000000      83.000000   \n",
      "max         48024.000000  396980.000000  162471.000000   42785.000000   \n",
      "\n",
      "              ...           jobs_2500_walk_retail  jobs_500_walk_fire  \\\n",
      "count         ...                   415716.000000       415716.000000   \n",
      "mean          ...                     1581.148926           53.822426   \n",
      "std           ...                     3031.134277          428.136566   \n",
      "min           ...                        0.000000            0.000000   \n",
      "25%           ...                      223.000000            0.000000   \n",
      "50%           ...                      842.000000            3.000000   \n",
      "75%           ...                     1990.000000           23.000000   \n",
      "max           ...                    35938.000000        20526.000000   \n",
      "\n",
      "       jobs_1500_walk_fire  jobs_2500_walk_fire  jobs_500_walk_tech  \\\n",
      "count        415716.000000        415716.000000       415716.000000   \n",
      "mean            420.108704           979.885498          106.462120   \n",
      "std            1995.809814          3202.999268          790.943481   \n",
      "min               0.000000             0.000000            0.000000   \n",
      "25%              19.000000           113.000000            0.000000   \n",
      "50%             101.000000           366.000000            4.000000   \n",
      "75%             278.000000           857.000000           30.000000   \n",
      "max           34682.000000         38378.000000        31572.000000   \n",
      "\n",
      "       jobs_1500_walk_tech  jobs_2500_walk_tech  jobs_500_walk_serv  \\\n",
      "count        415716.000000        415716.000000       415716.000000   \n",
      "mean            815.707397          1950.819824           60.115826   \n",
      "std            3808.567383          6458.846680          270.231689   \n",
      "min               0.000000             0.000000            0.000000   \n",
      "25%              25.000000           126.000000            0.000000   \n",
      "50%             117.000000           455.000000            0.000000   \n",
      "75%             463.000000          1449.000000           35.000000   \n",
      "max           68294.000000         77926.000000        12480.000000   \n",
      "\n",
      "       jobs_1500_walk_serv  jobs_2500_walk_serv  \n",
      "count        415716.000000        415716.000000  \n",
      "mean            436.379059          1104.810425  \n",
      "std            1438.846191          2959.999268  \n",
      "min               0.000000             0.000000  \n",
      "25%              12.000000           116.000000  \n",
      "50%             126.000000           494.000000  \n",
      "75%             416.000000          1107.000000  \n",
      "max           25447.000000         34317.000000  \n",
      "\n",
      "[8 rows x 55 columns]\n",
      "Time to execute step 'network_aggregations_walk': 135.10 s\n",
      "Total time to execute iteration 1 with iteration value None: 155.72 s\n",
      "CPU times: user 26min 29s, sys: 3min 1s, total: 29min 30s\n",
      "Wall time: 2min 35s\n"
     ]
    }
   ],
   "source": [
    "%%time\n",
    "orca.run(['initialize_network_walk','network_aggregations_walk'])"
   ]
  },
  {
   "cell_type": "markdown",
   "metadata": {},
   "source": [
    "### List data tables, columns, and merge relationships"
   ]
  },
  {
   "cell_type": "code",
   "execution_count": 112,
   "metadata": {},
   "outputs": [
    {
     "name": "stdout",
     "output_type": "stream",
     "text": [
      "PARCELS\n",
      "['development_type_id', 'land_value', 'acres', 'county_id', 'zone_id', 'proportion_undevelopable', 'tax_exempt_status', 'apn', 'parcel_id_local', 'geom_id', 'imputation_flag', 'x', 'y', 'shape_area', 'block_id', 'node_id', 'node_id_small', 'node_id_walk']\n",
      "\n",
      "BUILDINGS\n",
      "['parcel_id', 'development_type_id', 'improvement_value', 'residential_units', 'residential_sqft', 'sqft_per_unit', 'non_residential_sqft', 'building_sqft', 'nonres_rent_per_sqft', 'res_price_per_sqft', 'stories', 'year_built', 'redfin_sale_price', 'redfin_sale_year', 'redfin_home_type', 'costar_property_type', 'costar_rent', 'building_type_id', 'res_sqft_per_unit', 'node_id_small', 'node_id_walk']\n",
      "\n",
      "CRAIGSLIST\n",
      "['date', 'region', 'neighborhood', 'rent', 'bedrooms', 'sqft', 'rent_sqft', 'longitude', 'latitude', 'county', 'fips_block', 'state', 'bathrooms']\n",
      "\n",
      "RENTALS\n",
      "['Unnamed: 0', 'date', 'region', 'neighborhood', 'rent', 'bedrooms', 'sqft', 'rent_sqft', 'longitude', 'latitude', 'county', 'fips_block', 'state', 'bathrooms', 'node_id_small', 'node_id_walk']\n",
      "\n",
      "UNITS\n",
      "['building_id', 'num_units', 'tenure', 'unit_num', 'unit_residential_price', 'unit_residential_rent', 'node_id_small', 'node_id_walk']\n",
      "\n",
      "HOUSEHOLDS\n",
      "['serialno', 'persons', 'building_type', 'cars', 'income', 'race_of_head', 'hispanic_head', 'age_of_head', 'workers', 'state', 'county', 'tract', 'block_group', 'children', 'tenure', 'recent_mover', 'block_group_id', 'single_family', 'unit_id', 'building_id', 'node_id_small', 'node_id_walk']\n",
      "\n",
      "PERSONS\n",
      "['member_id', 'age', 'relate', 'edu', 'sex', 'hours', 'hispanic', 'earning', 'race_id', 'household_id', 'student', 'work_at_home', 'worker', 'node_id_small', 'node_id_walk']\n",
      "\n",
      "JOBS\n",
      "['building_id', 'sector_id', 'occupation_id', 'node_id_small', 'node_id_walk']\n",
      "\n",
      "CHTS_PERSONS\n",
      "['index', 'SAMPN', 'PERNO', 'RELAT', 'GEND', 'AGE', 'AGEB', 'HISP', 'RACE1', 'RACE2', 'RACE3', 'RACE4', 'O_RACE', 'NTVTY', 'CNTRY', 'LIC', 'USER', 'TRANS', 'TPTYP1', 'TPTYP2', 'TPTYP3', 'TPTYP4', 'TPTYP5', 'TPTYP6', 'TPTYP7', 'O_TPTYP', 'CLIP1', 'CLIP2', 'CLIP3', 'COMP', 'MET', 'PASSTL', 'FLEX', 'EMPLY', 'WKSTAT', 'O_WKSTAT', 'JOBS', 'WLOC', 'WNAME_persons', 'WCITY_persons', 'WSTAT', 'WZIP_persons', 'WXST1_persons', 'WXST2_persons', 'WXCORD_persons', 'WYCORD_persons', 'WDAYS', 'WDAY1', 'WDAY2', 'WDAY3', 'WDAY4', 'WDAY5', 'WDAY6', 'WDAY7', 'HOURS', 'WSCHED', 'COMPR', 'WMODE', 'INDUS', 'O_INDUS', 'OCCUP', 'O_OCCUP', 'WLOC2', 'WNAME2_persons', 'WCITY2_persons', 'WSTAT2', 'WZIP2_persons', 'WXST2_1_persons', 'WXST2_2_persons', 'WDAYS2', 'DISAB', 'DTYPE1', 'DTYPE2', 'DTYPE3', 'DTYPE4', 'DTYPE5', 'DTYPE6', 'DTYPE7', 'O_DTYPE', 'DSLIC', 'EDIS', 'TTRIP', 'TRNSUB', 'SUBAMT', 'SUBUNT', 'O_SUBUNT', 'WTRIP', 'BTRIP', 'STUDE', 'SCHOL', 'O_SCHOL', 'SLOC', 'SONLN', 'PRESCH', 'O_PRESCH', 'SNAME_persons', 'SCITY_persons', 'SSTAT', 'SZIP_persons', 'SXST1_persons', 'SXST2_persons', 'SXCORD_persons', 'SYCORD_persons', 'SMODE', 'EDUCA', 'O_EDUCA', 'INTRV', 'PROXY', 'CMPLG', 'HVLOG', 'PTRIPS', 'TOLLF', 'TOLLR1', 'TOLLR2', 'TOLLR3', 'TOLLR4', 'TOLLR5', 'TOLLR6', 'TOLLR7', 'TOLLR8', 'TOLLR9', 'TOLLR10', 'TOLLB1', 'TOLLB2', 'TOLLB3', 'TOLLB4', 'TOLLB5', 'TOLLB6', 'TOLLB7', 'TOLLB8', 'TOLLB9', 'TOLLB10', 'HOVL', 'NOGOWHY', 'NOGOWHY_O', 'InComplete', 'Moto_trip', 'WCTFIP_persons', 'WTRACT_persons', 'SCTFIP_persons', 'STRACT_persons', 'WPrimaryCity_persons', 'WSTFIP_persons', 'W2PrimaryCity_persons', 'W2STFIP_persons', 'SPrimaryCity_persons', 'SSTFIP_persons', 'PERWGT', 'EXPPERWGT', 'WNAME_lookup', 'WCITY_lookup', 'WZIP_lookup', 'WXST1_lookup', 'WXST2_lookup', 'WXCORD_lookup', 'WYCORD_lookup', 'WNAME2_lookup', 'WCITY2_lookup', 'WZIP2_lookup', 'WXST2_1_lookup', 'WXST2_2_lookup', 'SNAME_lookup', 'SCITY_lookup', 'SZIP_lookup', 'SXST1_lookup', 'SXST2_lookup', 'SXCORD_lookup', 'SYCORD_lookup', 'WCTFIP_lookup', 'WTRACT_lookup', 'WBLOCK', 'WPrimaryCity_lookup', 'WSTFIP_lookup', 'W2PrimaryCity_lookup', 'W2STFIP_lookup', 'SCTFIP_lookup', 'STRACT_lookup', 'SBLOCK', 'SPrimaryCity_lookup', 'SSTFIP_lookup', 'HCITY', 'HZIP', 'HXCORD', 'HYCORD', 'HBLOCK', 'HTRACT', 'HCTFIP', 'HPrimaryCity', 'geometry', 'work_in_region', 'job_id', 'building_id']\n",
      "\n",
      "NODESSMALL\n",
      "['units_10000', 'units_sf_10000', 'units_mf_10000', 'pop_10000', 'hh_10000', 'poor_10000', 'renters_10000', 'avg_income_10000', 'jobs_10000', 'avg_rent_10000', 'pop_white_10000', 'pop_black_10000', 'pop_asian_10000', 'pop_hisp_10000', 'units_25000', 'units_sf_25000', 'units_mf_25000', 'pop_25000', 'hh_25000', 'poor_25000', 'renters_25000', 'avg_income_25000', 'jobs_25000', 'avg_rent_25000', 'pop_white_25000', 'pop_black_25000', 'pop_asian_25000', 'pop_hisp_25000', 'jobs_10000_retail', 'jobs_25000_retail', 'jobs_10000_fire', 'jobs_25000_fire', 'jobs_10000_tech', 'jobs_25000_tech', 'jobs_10000_serv', 'jobs_25000_serv']\n",
      "\n",
      "NODESWALK\n",
      "['units_500_walk', 'sqft_unit_500_walk', 'singles_500_walk', 'elderly_hh_500_walk', 'children_500_walk', 'units_sf_500_walk', 'units_mf_500_walk', 'pop_500_walk', 'hh_500_walk', 'poor_500_walk', 'rich_500_walk', 'renters_500_walk', 'avg_income_500_walk', 'jobs_500_walk', 'avg_rent_500_walk', 'pop_white_500_walk', 'pop_black_500_walk', 'pop_asian_500_walk', 'pop_hisp_500_walk', 'units_1500_walk', 'sqft_unit_1500_walk', 'singles_1500_walk', 'elderly_hh_1500_walk', 'children_1500_walk', 'units_sf_1500_walk', 'units_mf_1500_walk', 'pop_1500_walk', 'hh_1500_walk', 'poor_1500_walk', 'rich_1500_walk', 'renters_1500_walk', 'avg_income_1500_walk', 'jobs_1500_walk', 'avg_rent_1500_walk', 'pop_white_1500_walk', 'pop_black_1500_walk', 'pop_asian_1500_walk', 'pop_hisp_1500_walk', 'pop_2500_walk', 'pop_white_2500_walk', 'pop_black_2500_walk', 'pop_asian_2500_walk', 'pop_hisp_2500_walk', 'jobs_500_walk_retail', 'jobs_1500_walk_retail', 'jobs_2500_walk_retail', 'jobs_500_walk_fire', 'jobs_1500_walk_fire', 'jobs_2500_walk_fire', 'jobs_500_walk_tech', 'jobs_1500_walk_tech', 'jobs_2500_walk_tech', 'jobs_500_walk_serv', 'jobs_1500_walk_serv', 'jobs_2500_walk_serv']\n",
      "\n"
     ]
    }
   ],
   "source": [
    "for table_name in orca.list_tables():\n",
    "    print(table_name.upper())\n",
    "    print(orca.get_table(table_name).to_frame().columns.tolist())\n",
    "    print()"
   ]
  },
  {
   "cell_type": "code",
   "execution_count": 8,
   "metadata": {},
   "outputs": [
    {
     "data": {
      "text/plain": [
       "[('parcels', 'buildings'),\n",
       " ('buildings', 'units'),\n",
       " ('units', 'households'),\n",
       " ('households', 'persons')]"
      ]
     },
     "execution_count": 8,
     "metadata": {},
     "output_type": "execute_result"
    }
   ],
   "source": [
    "orca.list_broadcasts()"
   ]
  },
  {
   "cell_type": "code",
   "execution_count": 11,
   "metadata": {},
   "outputs": [],
   "source": [
    "orca.broadcast('buildings', 'jobs', cast_index=True, onto_on='building_id')"
   ]
  },
  {
   "cell_type": "markdown",
   "metadata": {},
   "source": [
    "### tract-to-tract distance matrix"
   ]
  },
  {
   "cell_type": "code",
   "execution_count": 38,
   "metadata": {},
   "outputs": [],
   "source": [
    "tract_geoms = gpd.read_file('notebooks-max/tl_2010_06_tract10.shp')"
   ]
  },
  {
   "cell_type": "code",
   "execution_count": 45,
   "metadata": {},
   "outputs": [],
   "source": [
    "tract_geoms.to_crs({'init':'epsg:26910'}, inplace=True)"
   ]
  },
  {
   "cell_type": "code",
   "execution_count": 46,
   "metadata": {},
   "outputs": [],
   "source": [
    "tract_geoms['x'] = tract_geoms.centroid.x\n",
    "tract_geoms['y'] = tract_geoms.centroid.y"
   ]
  },
  {
   "cell_type": "code",
   "execution_count": 51,
   "metadata": {},
   "outputs": [],
   "source": [
    "data = tract_geoms[['GEOID10', 'x', 'y']].set_index('GEOID10')"
   ]
  },
  {
   "cell_type": "code",
   "execution_count": 52,
   "metadata": {},
   "outputs": [
    {
     "name": "stdout",
     "output_type": "stream",
     "text": [
      "CPU times: user 5.08 s, sys: 2.37 s, total: 7.46 s\n",
      "Wall time: 2.63 s\n"
     ]
    }
   ],
   "source": [
    "%%time\n",
    "dm = distance_matrix(data, x='x', y='y')\n",
    "dm.index.set_names(('home_tract', 'work_tract'), inplace=True)\n",
    "dm = dm.rename('distance').to_frame()"
   ]
  },
  {
   "cell_type": "code",
   "execution_count": 53,
   "metadata": {},
   "outputs": [
    {
     "data": {
      "text/html": [
       "<div>\n",
       "<style scoped>\n",
       "    .dataframe tbody tr th:only-of-type {\n",
       "        vertical-align: middle;\n",
       "    }\n",
       "\n",
       "    .dataframe tbody tr th {\n",
       "        vertical-align: top;\n",
       "    }\n",
       "\n",
       "    .dataframe thead th {\n",
       "        text-align: right;\n",
       "    }\n",
       "</style>\n",
       "<table border=\"1\" class=\"dataframe\">\n",
       "  <thead>\n",
       "    <tr style=\"text-align: right;\">\n",
       "      <th></th>\n",
       "      <th></th>\n",
       "      <th>distance</th>\n",
       "    </tr>\n",
       "    <tr>\n",
       "      <th>home_tract</th>\n",
       "      <th>work_tract</th>\n",
       "      <th></th>\n",
       "    </tr>\n",
       "  </thead>\n",
       "  <tbody>\n",
       "    <tr>\n",
       "      <th rowspan=\"5\" valign=\"top\">06083002103</th>\n",
       "      <th>06083002103</th>\n",
       "      <td>0.000000</td>\n",
       "    </tr>\n",
       "    <tr>\n",
       "      <th>06083002402</th>\n",
       "      <td>3699.332629</td>\n",
       "    </tr>\n",
       "    <tr>\n",
       "      <th>06083002102</th>\n",
       "      <td>1262.585664</td>\n",
       "    </tr>\n",
       "    <tr>\n",
       "      <th>06083002010</th>\n",
       "      <td>6764.024701</td>\n",
       "    </tr>\n",
       "    <tr>\n",
       "      <th>06083002009</th>\n",
       "      <td>6486.302663</td>\n",
       "    </tr>\n",
       "  </tbody>\n",
       "</table>\n",
       "</div>"
      ],
      "text/plain": [
       "                            distance\n",
       "home_tract  work_tract              \n",
       "06083002103 06083002103     0.000000\n",
       "            06083002402  3699.332629\n",
       "            06083002102  1262.585664\n",
       "            06083002010  6764.024701\n",
       "            06083002009  6486.302663"
      ]
     },
     "execution_count": 53,
     "metadata": {},
     "output_type": "execute_result"
    }
   ],
   "source": [
    "dm.head()"
   ]
  },
  {
   "cell_type": "code",
   "execution_count": 12,
   "metadata": {},
   "outputs": [],
   "source": [
    "parcel_attrs = pd.read_csv('/home/data/2018-07/mtc_data_platform_format_7-6-18/parcel_attr.csv', dtype={'block_id':str})"
   ]
  },
  {
   "cell_type": "code",
   "execution_count": 13,
   "metadata": {},
   "outputs": [],
   "source": [
    "parcel_attrs['tract_id'] = parcel_attrs['block_id'].str[0:11]"
   ]
  },
  {
   "cell_type": "code",
   "execution_count": 17,
   "metadata": {},
   "outputs": [],
   "source": [
    "tracts = parcel_attrs[['tract_id', 'x', 'y']].drop_duplicates(['tract_id']).set_index('tract_id')"
   ]
  },
  {
   "cell_type": "code",
   "execution_count": 19,
   "metadata": {},
   "outputs": [],
   "source": [
    "tracts['geometry'] = [Point(xy) for xy in tracts[['x', 'y']].values]"
   ]
  },
  {
   "cell_type": "code",
   "execution_count": 22,
   "metadata": {},
   "outputs": [],
   "source": [
    "gdf = gpd.GeoDataFrame(tracts, geometry='geometry')"
   ]
  },
  {
   "cell_type": "code",
   "execution_count": 24,
   "metadata": {},
   "outputs": [],
   "source": [
    "gdf.crs = {'init': 'epsg:4326'}"
   ]
  },
  {
   "cell_type": "code",
   "execution_count": 25,
   "metadata": {},
   "outputs": [],
   "source": [
    "gdf = gdf.to_crs({'init': 'epsg:26910'})"
   ]
  },
  {
   "cell_type": "code",
   "execution_count": 26,
   "metadata": {},
   "outputs": [],
   "source": [
    "gdf['x_proj'] = [pt.xy[0][0] for pt in gdf['geometry']]\n",
    "gdf['y_proj'] = [pt.xy[1][0] for pt in gdf['geometry']]"
   ]
  },
  {
   "cell_type": "code",
   "execution_count": 27,
   "metadata": {},
   "outputs": [],
   "source": [
    "data = pd.DataFrame(gdf[['x_proj','y_proj']])"
   ]
  },
  {
   "cell_type": "code",
   "execution_count": 28,
   "metadata": {},
   "outputs": [
    {
     "name": "stdout",
     "output_type": "stream",
     "text": [
      "CPU times: user 181 ms, sys: 24.1 ms, total: 205 ms\n",
      "Wall time: 79.3 ms\n"
     ]
    }
   ],
   "source": [
    "%%time\n",
    "dm = distance_matrix(data, x='x_proj', y='y_proj')"
   ]
  },
  {
   "cell_type": "code",
   "execution_count": 30,
   "metadata": {},
   "outputs": [],
   "source": [
    "dm.index.set_names(('home_tract', 'work_tract'), inplace=True)\n",
    "dm = dm.rename('distance').to_frame()"
   ]
  },
  {
   "cell_type": "code",
   "execution_count": 33,
   "metadata": {},
   "outputs": [
    {
     "data": {
      "text/html": [
       "<div>\n",
       "<style scoped>\n",
       "    .dataframe tbody tr th:only-of-type {\n",
       "        vertical-align: middle;\n",
       "    }\n",
       "\n",
       "    .dataframe tbody tr th {\n",
       "        vertical-align: top;\n",
       "    }\n",
       "\n",
       "    .dataframe thead th {\n",
       "        text-align: right;\n",
       "    }\n",
       "</style>\n",
       "<table border=\"1\" class=\"dataframe\">\n",
       "  <thead>\n",
       "    <tr style=\"text-align: right;\">\n",
       "      <th></th>\n",
       "      <th>development_type_id</th>\n",
       "      <th>land_value</th>\n",
       "      <th>acres</th>\n",
       "      <th>county_id</th>\n",
       "      <th>zone_id</th>\n",
       "      <th>proportion_undevelopable</th>\n",
       "      <th>tax_exempt_status</th>\n",
       "      <th>apn</th>\n",
       "      <th>parcel_id_local</th>\n",
       "      <th>geom_id</th>\n",
       "      <th>imputation_flag</th>\n",
       "      <th>x</th>\n",
       "      <th>y</th>\n",
       "      <th>shape_area</th>\n",
       "      <th>block_id</th>\n",
       "      <th>node_id</th>\n",
       "      <th>node_id_small</th>\n",
       "      <th>node_id_walk</th>\n",
       "    </tr>\n",
       "    <tr>\n",
       "      <th>primary_id</th>\n",
       "      <th></th>\n",
       "      <th></th>\n",
       "      <th></th>\n",
       "      <th></th>\n",
       "      <th></th>\n",
       "      <th></th>\n",
       "      <th></th>\n",
       "      <th></th>\n",
       "      <th></th>\n",
       "      <th></th>\n",
       "      <th></th>\n",
       "      <th></th>\n",
       "      <th></th>\n",
       "      <th></th>\n",
       "      <th></th>\n",
       "      <th></th>\n",
       "      <th></th>\n",
       "      <th></th>\n",
       "    </tr>\n",
       "  </thead>\n",
       "  <tbody>\n",
       "    <tr>\n",
       "      <th>229116</th>\n",
       "      <td>1</td>\n",
       "      <td>0.0</td>\n",
       "      <td>3.360520</td>\n",
       "      <td>1</td>\n",
       "      <td>725</td>\n",
       "      <td>0.0</td>\n",
       "      <td>0</td>\n",
       "      <td>099 029001700</td>\n",
       "      <td></td>\n",
       "      <td>10305106092872</td>\n",
       "      <td>_</td>\n",
       "      <td>-121.795620</td>\n",
       "      <td>37.655379</td>\n",
       "      <td>1.359956e+04</td>\n",
       "      <td>060014511022061</td>\n",
       "      <td>53091636</td>\n",
       "      <td>53103254</td>\n",
       "      <td>53091636</td>\n",
       "    </tr>\n",
       "    <tr>\n",
       "      <th>244166</th>\n",
       "      <td>1</td>\n",
       "      <td>0.0</td>\n",
       "      <td>1.294423</td>\n",
       "      <td>1</td>\n",
       "      <td>715</td>\n",
       "      <td>0.0</td>\n",
       "      <td>0</td>\n",
       "      <td>099B540210200</td>\n",
       "      <td></td>\n",
       "      <td>11107351665227</td>\n",
       "      <td>_</td>\n",
       "      <td>-121.713004</td>\n",
       "      <td>37.717277</td>\n",
       "      <td>5.238348e+03</td>\n",
       "      <td>060014511011025</td>\n",
       "      <td>53059159</td>\n",
       "      <td>53026359</td>\n",
       "      <td>53059159</td>\n",
       "    </tr>\n",
       "    <tr>\n",
       "      <th>202378</th>\n",
       "      <td>25</td>\n",
       "      <td>6036500.0</td>\n",
       "      <td>14.993605</td>\n",
       "      <td>1</td>\n",
       "      <td>820</td>\n",
       "      <td>0.0</td>\n",
       "      <td>1</td>\n",
       "      <td>085A643106000</td>\n",
       "      <td></td>\n",
       "      <td>11030175960628</td>\n",
       "      <td>merged</td>\n",
       "      <td>-122.014199</td>\n",
       "      <td>37.655260</td>\n",
       "      <td>6.067702e+04</td>\n",
       "      <td>060014351031029</td>\n",
       "      <td>1852532916</td>\n",
       "      <td>1706630465</td>\n",
       "      <td>1852532916</td>\n",
       "    </tr>\n",
       "    <tr>\n",
       "      <th>2004420</th>\n",
       "      <td>-1</td>\n",
       "      <td>179954.0</td>\n",
       "      <td>316.247146</td>\n",
       "      <td>97</td>\n",
       "      <td>1401</td>\n",
       "      <td>0.0</td>\n",
       "      <td>0</td>\n",
       "      <td>141-100-012</td>\n",
       "      <td></td>\n",
       "      <td>6381677629073</td>\n",
       "      <td>_, nr_zone_yrblt, bsqft_from_nrsqft, stories1</td>\n",
       "      <td>-122.771868</td>\n",
       "      <td>38.727893</td>\n",
       "      <td>1.279808e+06</td>\n",
       "      <td>060971541003180</td>\n",
       "      <td>4533108955</td>\n",
       "      <td>4533108955</td>\n",
       "      <td>3749542723</td>\n",
       "    </tr>\n",
       "    <tr>\n",
       "      <th>340332</th>\n",
       "      <td>2</td>\n",
       "      <td>0.0</td>\n",
       "      <td>0.621275</td>\n",
       "      <td>1</td>\n",
       "      <td>763</td>\n",
       "      <td>0.0</td>\n",
       "      <td>0</td>\n",
       "      <td>525 166004800</td>\n",
       "      <td></td>\n",
       "      <td>314875459798</td>\n",
       "      <td>_</td>\n",
       "      <td>-121.974508</td>\n",
       "      <td>37.546277</td>\n",
       "      <td>2.514215e+03</td>\n",
       "      <td>060014419272014</td>\n",
       "      <td>443532766</td>\n",
       "      <td>1666841915</td>\n",
       "      <td>2397935818</td>\n",
       "    </tr>\n",
       "  </tbody>\n",
       "</table>\n",
       "</div>"
      ],
      "text/plain": [
       "            development_type_id  land_value       acres  county_id  zone_id  \\\n",
       "primary_id                                                                    \n",
       "229116                        1         0.0    3.360520          1      725   \n",
       "244166                        1         0.0    1.294423          1      715   \n",
       "202378                       25   6036500.0   14.993605          1      820   \n",
       "2004420                      -1    179954.0  316.247146         97     1401   \n",
       "340332                        2         0.0    0.621275          1      763   \n",
       "\n",
       "            proportion_undevelopable  tax_exempt_status            apn  \\\n",
       "primary_id                                                               \n",
       "229116                           0.0                  0  099 029001700   \n",
       "244166                           0.0                  0  099B540210200   \n",
       "202378                           0.0                  1  085A643106000   \n",
       "2004420                          0.0                  0    141-100-012   \n",
       "340332                           0.0                  0  525 166004800   \n",
       "\n",
       "           parcel_id_local         geom_id  \\\n",
       "primary_id                                   \n",
       "229116                      10305106092872   \n",
       "244166                      11107351665227   \n",
       "202378                      11030175960628   \n",
       "2004420                      6381677629073   \n",
       "340332                        314875459798   \n",
       "\n",
       "                                          imputation_flag           x  \\\n",
       "primary_id                                                              \n",
       "229116                                                  _ -121.795620   \n",
       "244166                                                  _ -121.713004   \n",
       "202378                                             merged -122.014199   \n",
       "2004420     _, nr_zone_yrblt, bsqft_from_nrsqft, stories1 -122.771868   \n",
       "340332                                                  _ -121.974508   \n",
       "\n",
       "                    y    shape_area         block_id     node_id  \\\n",
       "primary_id                                                         \n",
       "229116      37.655379  1.359956e+04  060014511022061    53091636   \n",
       "244166      37.717277  5.238348e+03  060014511011025    53059159   \n",
       "202378      37.655260  6.067702e+04  060014351031029  1852532916   \n",
       "2004420     38.727893  1.279808e+06  060971541003180  4533108955   \n",
       "340332      37.546277  2.514215e+03  060014419272014   443532766   \n",
       "\n",
       "            node_id_small  node_id_walk  \n",
       "primary_id                               \n",
       "229116           53103254      53091636  \n",
       "244166           53026359      53059159  \n",
       "202378         1706630465    1852532916  \n",
       "2004420        4533108955    3749542723  \n",
       "340332         1666841915    2397935818  "
      ]
     },
     "execution_count": 33,
     "metadata": {},
     "output_type": "execute_result"
    }
   ],
   "source": [
    "parcels.head()"
   ]
  },
  {
   "cell_type": "code",
   "execution_count": 31,
   "metadata": {},
   "outputs": [
    {
     "data": {
      "text/html": [
       "<div>\n",
       "<style scoped>\n",
       "    .dataframe tbody tr th:only-of-type {\n",
       "        vertical-align: middle;\n",
       "    }\n",
       "\n",
       "    .dataframe tbody tr th {\n",
       "        vertical-align: top;\n",
       "    }\n",
       "\n",
       "    .dataframe thead th {\n",
       "        text-align: right;\n",
       "    }\n",
       "</style>\n",
       "<table border=\"1\" class=\"dataframe\">\n",
       "  <thead>\n",
       "    <tr style=\"text-align: right;\">\n",
       "      <th></th>\n",
       "      <th></th>\n",
       "      <th>distance</th>\n",
       "    </tr>\n",
       "    <tr>\n",
       "      <th>home_tract</th>\n",
       "      <th>work_tract</th>\n",
       "      <th></th>\n",
       "    </tr>\n",
       "  </thead>\n",
       "  <tbody>\n",
       "    <tr>\n",
       "      <th rowspan=\"5\" valign=\"top\">06001451102</th>\n",
       "      <th>06001451102</th>\n",
       "      <td>0.000000</td>\n",
       "    </tr>\n",
       "    <tr>\n",
       "      <th>06001451101</th>\n",
       "      <td>10012.516344</td>\n",
       "    </tr>\n",
       "    <tr>\n",
       "      <th>06001435103</th>\n",
       "      <td>19282.301491</td>\n",
       "    </tr>\n",
       "    <tr>\n",
       "      <th>06097154100</th>\n",
       "      <td>146531.235653</td>\n",
       "    </tr>\n",
       "    <tr>\n",
       "      <th>06001441927</th>\n",
       "      <td>19898.537208</td>\n",
       "    </tr>\n",
       "  </tbody>\n",
       "</table>\n",
       "</div>"
      ],
      "text/plain": [
       "                              distance\n",
       "home_tract  work_tract                \n",
       "06001451102 06001451102       0.000000\n",
       "            06001451101   10012.516344\n",
       "            06001435103   19282.301491\n",
       "            06097154100  146531.235653\n",
       "            06001441927   19898.537208"
      ]
     },
     "execution_count": 31,
     "metadata": {},
     "output_type": "execute_result"
    }
   ],
   "source": [
    "dm.head()"
   ]
  },
  {
   "cell_type": "markdown",
   "metadata": {},
   "source": [
    "### Estimate ELCM for retail workers with fixed work location other than their home"
   ]
  },
  {
   "cell_type": "code",
   "execution_count": 123,
   "metadata": {},
   "outputs": [],
   "source": [
    "m = LargeMultinomialLogitStep()\n",
    "m.name = 'WLCM'"
   ]
  },
  {
   "cell_type": "code",
   "execution_count": 124,
   "metadata": {},
   "outputs": [],
   "source": [
    "m.choosers = ['chts_persons']\n",
    "# chooser_ids = orca.get_table('jobs').to_frame().sample(15000).index.values\n",
    "m.alternatives = ['jobs', 'buildings', 'parcels', 'nodessmall', 'nodeswalk']\n",
    "m.choice_column = 'job_id'"
   ]
  },
  {
   "cell_type": "code",
   "execution_count": 126,
   "metadata": {},
   "outputs": [],
   "source": [
    "m.alt_sample_size = 50\n",
    "m.chooser_filters = ['EMPLY == 1', 'WLOC == 1', 'work_in_region == True', 'INDUS in [44,45]']\n",
    "m.alt_filters = ['0 < avg_income_10000 < 500000', 'sector_id in [44,45]']"
   ]
  },
  {
   "cell_type": "code",
   "execution_count": 139,
   "metadata": {},
   "outputs": [
    {
     "name": "stdout",
     "output_type": "stream",
     "text": [
      "                  CHOICEMODELS ESTIMATION RESULTS                  \n",
      "===================================================================\n",
      "Dep. Var.:                chosen   No. Observations:               \n",
      "Model:         Multinomial Logit   Df Residuals:                   \n",
      "Method:       Maximum Likelihood   Df Model:                       \n",
      "Date:                              Pseudo R-squ.:                  \n",
      "Time:                              Pseudo R-bar-squ.:              \n",
      "AIC:                               Log-Likelihood:       -2,771.909\n",
      "BIC:                               LL-Null:              -2,801.008\n",
      "====================================================================================\n",
      "                                     coef   std err         z     P>|z|   Conf. Int.\n",
      "------------------------------------------------------------------------------------\n",
      "Intercept                         -0.0000     0.524    -0.000                       \n",
      "np.log1p(jobs_1500_walk_retail)   -0.0576     0.030    -1.890                       \n",
      "np.log(units_10000)               -0.1723     0.040    -4.340                       \n",
      "np.log1p(pop_1500_walk)            0.1199     0.021     5.617                       \n",
      "====================================================================================\n"
     ]
    }
   ],
   "source": [
    "m.model_expression = ('np.log1p(jobs_1500_walk_retail) + np.log(units_10000) + np.log1p(pop_1500_walk)')\n",
    "m.name = 'elcm'\n",
    "m.tags = ['max', 'test']\n",
    "m.fit()"
   ]
  },
  {
   "cell_type": "code",
   "execution_count": null,
   "metadata": {},
   "outputs": [],
   "source": []
  }
 ],
 "metadata": {
  "kernelspec": {
   "display_name": "Python 3",
   "language": "python",
   "name": "python3"
  },
  "language_info": {
   "codemirror_mode": {
    "name": "ipython",
    "version": 3
   },
   "file_extension": ".py",
   "mimetype": "text/x-python",
   "name": "python",
   "nbconvert_exporter": "python",
   "pygments_lexer": "ipython3",
   "version": "3.6.6"
  }
 },
 "nbformat": 4,
 "nbformat_minor": 2
}
