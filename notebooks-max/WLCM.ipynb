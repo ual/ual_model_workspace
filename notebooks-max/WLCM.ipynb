{
 "cells": [
  {
   "cell_type": "code",
   "execution_count": 1,
   "metadata": {},
   "outputs": [],
   "source": [
    "import os; os.chdir('../')\n",
    "from tqdm import tqdm"
   ]
  },
  {
   "cell_type": "code",
   "execution_count": 2,
   "metadata": {},
   "outputs": [],
   "source": [
    "import pandas as pd\n",
    "import numpy as np\n",
    "from sklearn.neighbors import BallTree"
   ]
  },
  {
   "cell_type": "code",
   "execution_count": 3,
   "metadata": {},
   "outputs": [
    {
     "name": "stderr",
     "output_type": "stream",
     "text": [
      "/home/mgardner/anaconda3/envs/dcm/lib/python3.6/site-packages/statsmodels-0.8.0-py3.6-linux-x86_64.egg/statsmodels/compat/pandas.py:56: FutureWarning: The pandas.core.datetools module is deprecated and will be removed in a future version. Please use the pandas.tseries module instead.\n",
      "  from pandas.core import datetools\n"
     ]
    }
   ],
   "source": [
    "from urbansim_templates import modelmanager as mm\n",
    "from urbansim_templates.models import MNLDiscreteChoiceStep\n",
    "import orca"
   ]
  },
  {
   "cell_type": "markdown",
   "metadata": {},
   "source": [
    "### Load data"
   ]
  },
  {
   "cell_type": "code",
   "execution_count": 4,
   "metadata": {},
   "outputs": [],
   "source": [
    "chts_persons = pd.read_csv('/home/mgardner/data/chts-orig/data/Deliv_PER.csv', low_memory=False)"
   ]
  },
  {
   "cell_type": "code",
   "execution_count": 5,
   "metadata": {},
   "outputs": [],
   "source": [
    "chts_persons_lookup = pd.read_csv('/home/mgardner/data/chts-orig/data/LookUp_PER.csv')"
   ]
  },
  {
   "cell_type": "code",
   "execution_count": 6,
   "metadata": {},
   "outputs": [],
   "source": [
    "chts_persons = pd.merge(\n",
    "    chts_persons.set_index(['SAMPN','PERNO']),\n",
    "    chts_persons_lookup.set_index(['SAMPN','PERNO']),\n",
    "    left_index=True, right_index=True,\n",
    "    suffixes=('_persons', '_lookup')).reset_index()"
   ]
  },
  {
   "cell_type": "code",
   "execution_count": 7,
   "metadata": {},
   "outputs": [],
   "source": [
    "jobs = pd.read_csv('/home/mgardner/data/jobs_w_occup.csv')"
   ]
  },
  {
   "cell_type": "code",
   "execution_count": 10,
   "metadata": {},
   "outputs": [],
   "source": [
    "buildings = pd.read_hdf('./data/bayarea_ual.h5', 'buildings')"
   ]
  },
  {
   "cell_type": "code",
   "execution_count": 11,
   "metadata": {},
   "outputs": [],
   "source": [
    "parcels = pd.read_hdf('./data/bayarea_ual.h5', 'parcels')"
   ]
  },
  {
   "cell_type": "markdown",
   "metadata": {},
   "source": [
    "### Get job coords"
   ]
  },
  {
   "cell_type": "code",
   "execution_count": 12,
   "metadata": {},
   "outputs": [],
   "source": [
    "buildings = pd.merge(buildings, parcels[['x', 'y']], left_on='parcel_id', right_index=True)"
   ]
  },
  {
   "cell_type": "code",
   "execution_count": 14,
   "metadata": {},
   "outputs": [],
   "source": [
    "jobs = pd.merge(jobs, buildings[['x', 'y']], left_on='building_id', right_index=True)"
   ]
  },
  {
   "cell_type": "markdown",
   "metadata": {},
   "source": [
    "### Prepare jobs table and CHTS persons table for job assignment"
   ]
  },
  {
   "cell_type": "code",
   "execution_count": 43,
   "metadata": {},
   "outputs": [],
   "source": [
    "jobs.loc[:,'taken'] = False\n",
    "jobs.rename(columns={'x': 'lng', 'y': 'lat'}, inplace=True)"
   ]
  },
  {
   "cell_type": "code",
   "execution_count": 44,
   "metadata": {},
   "outputs": [],
   "source": [
    "chts_persons.loc[:, 'job_id'] = None"
   ]
  },
  {
   "cell_type": "code",
   "execution_count": 19,
   "metadata": {},
   "outputs": [],
   "source": [
    "# haversine requires data in form of [lat, lng] and inputs/outputs in units of radians\n",
    "persons_rad = np.deg2rad(chts_persons[['WYCORD_lookup', 'WXCORD_lookup']])\n",
    "jobs_rad = np.deg2rad(jobs[['lng', 'lat']])\n",
    "jobs.loc[:, 'x'] = jobs_rad['lng']\n",
    "jobs.loc[:, 'y'] = jobs_rad['lat']"
   ]
  },
  {
   "cell_type": "markdown",
   "metadata": {},
   "source": [
    "### Assign CHTS persons a job ID"
   ]
  },
  {
   "cell_type": "code",
   "execution_count": null,
   "metadata": {},
   "outputs": [
    {
     "name": "stderr",
     "output_type": "stream",
     "text": [
      "  1%|          | 1330/109113 [01:14<1:40:18, 17.91it/s]"
     ]
    }
   ],
   "source": [
    "dists = []\n",
    "no_job_info = []\n",
    "no_work_coords = []\n",
    "\n",
    "for i, person in tqdm(chts_persons.iterrows(), total=len(chts_persons)):\n",
    "    \n",
    "    # only assign a job ID for employed persons with a fixed work location\n",
    "    if (person['EMPLY'] == 1) & (person['WLOC'] == 1):\n",
    "        \n",
    "        # skip person if no CHTS industry or occupation\n",
    "        if (person['INDUS'] > 96) & (person['OCCUP'] > 96):\n",
    "            no_job_info.append(i)\n",
    "            continue\n",
    "        \n",
    "        # skip person if no work location\n",
    "        elif pd.isnull(person[['WYCORD_lookup', 'WXCORD_lookup']]).any():\n",
    "            no_work_coords.append(i)\n",
    "            continue\n",
    "        \n",
    "        # if CHTS industry is unknown, match jobs based on occupation only\n",
    "        elif person['INDUS'] > 96:\n",
    "            potential_jobs = jobs[\n",
    "                (jobs['occupation_id'] == person['OCCUP']) &\n",
    "                (jobs['taken'] == False)]\n",
    "        \n",
    "        # if occupation is unknown, match jobs based on industry only\n",
    "        elif person['OCCUP'] > 96:\n",
    "            potential_jobs = jobs[\n",
    "                (jobs['naics'] == person['INDUS']) &\n",
    "                (jobs['taken'] == False)]\n",
    "        \n",
    "        elif (person['INDUS'] < 97) & (person['OCCUP'] < 97):\n",
    "            \n",
    "            # define potential jobs based on industry and occupation\n",
    "            potential_jobs = jobs[\n",
    "                (jobs['naics'] == person['INDUS']) &\n",
    "                (jobs['occupation_id'] == person['OCCUP']) &\n",
    "                (jobs['taken'] == False)]\n",
    "            \n",
    "            # if no such jobs exist, define jobs by industry\n",
    "            if len(potential_jobs) == 0:\n",
    "                potential_jobs = jobs[\n",
    "                    (jobs['naics'] == person['INDUS']) &\n",
    "                    (jobs['taken'] == False)]\n",
    "                \n",
    "            # if no such jobs exist, define jobs by occupation\n",
    "            if len(potential_jobs) == 0:\n",
    "                potential_jobs = jobs[\n",
    "                    (jobs['occupation_id'] == person['OCCUP']) &\n",
    "                    (jobs['taken'] == False)]\n",
    "            \n",
    "            # otherwise, continue\n",
    "            if len(potential_jobs) == 0:\n",
    "                continue\n",
    "        \n",
    "        # build the tree of potential jobs for fast nearest-neighbor search\n",
    "        tree = BallTree(potential_jobs[['y','x']], metric='haversine')\n",
    "        \n",
    "        # query the tree for nearest job to each workplace\n",
    "        idx, dist = tree.query(persons_rad.iloc[i].values.reshape(1,-1), return_distance=True)\n",
    "        \n",
    "        # save results\n",
    "        job = potential_jobs.iloc[idx[0]]\n",
    "        dists.append(dist[0][0])\n",
    "        chts_persons.loc[i, 'job_id'] = job['job_id'].values[0]\n",
    "        jobs.loc[jobs['job_id'] == job['job_id'].values[0], 'taken'] = True \n"
   ]
  },
  {
   "cell_type": "code",
   "execution_count": 33,
   "metadata": {},
   "outputs": [
    {
     "data": {
      "text/plain": [
       "INDUS    62\n",
       "OCCUP    29\n",
       "Name: 8567, dtype: object"
      ]
     },
     "execution_count": 33,
     "metadata": {},
     "output_type": "execute_result"
    }
   ],
   "source": [
    "person[['INDUS','OCCUP']]"
   ]
  },
  {
   "cell_type": "code",
   "execution_count": 36,
   "metadata": {},
   "outputs": [
    {
     "data": {
      "text/plain": [
       "array([[nan, nan]])"
      ]
     },
     "execution_count": 36,
     "metadata": {},
     "output_type": "execute_result"
    }
   ],
   "source": [
    "persons_rad.iloc[i].values.reshape(1,-1)"
   ]
  },
  {
   "cell_type": "code",
   "execution_count": 37,
   "metadata": {},
   "outputs": [
    {
     "data": {
      "text/plain": [
       "WYCORD_lookup   NaN\n",
       "WXCORD_lookup   NaN\n",
       "Name: 8567, dtype: float64"
      ]
     },
     "execution_count": 37,
     "metadata": {},
     "output_type": "execute_result"
    }
   ],
   "source": [
    "persons_rad.iloc[i]"
   ]
  },
  {
   "cell_type": "code",
   "execution_count": 40,
   "metadata": {},
   "outputs": [
    {
     "data": {
      "text/plain": [
       "True"
      ]
     },
     "execution_count": 40,
     "metadata": {},
     "output_type": "execute_result"
    }
   ],
   "source": [
    "pd.isnull(person[['WYCORD_lookup', 'WXCORD_lookup']]).any()"
   ]
  },
  {
   "cell_type": "code",
   "execution_count": null,
   "metadata": {},
   "outputs": [],
   "source": []
  }
 ],
 "metadata": {
  "kernelspec": {
   "display_name": "Python 3",
   "language": "python",
   "name": "python3"
  },
  "language_info": {
   "codemirror_mode": {
    "name": "ipython",
    "version": 3
   },
   "file_extension": ".py",
   "mimetype": "text/x-python",
   "name": "python",
   "nbconvert_exporter": "python",
   "pygments_lexer": "ipython3",
   "version": "3.6.4"
  }
 },
 "nbformat": 4,
 "nbformat_minor": 2
}
