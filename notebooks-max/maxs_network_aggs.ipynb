{
 "cells": [
  {
   "cell_type": "code",
   "execution_count": 1,
   "metadata": {},
   "outputs": [],
   "source": [
    "from urbansim_templates import modelmanager as mm\n",
    "from urbansim_templates.models import LargeMultinomialLogitStep\n",
    "import orca\n",
    "import os; os.chdir('../')\n",
    "import warnings;warnings.simplefilter('ignore')"
   ]
  },
  {
   "cell_type": "code",
   "execution_count": 2,
   "metadata": {},
   "outputs": [],
   "source": [
    "orca.add_injectable('data_directory', '/home/data/2018-07/')"
   ]
  },
  {
   "cell_type": "code",
   "execution_count": 17,
   "metadata": {},
   "outputs": [],
   "source": [
    "import pandana as pdna\n",
    "import numpy as np"
   ]
  },
  {
   "cell_type": "code",
   "execution_count": 3,
   "metadata": {},
   "outputs": [],
   "source": [
    "from scripts import datasources\n",
    "from scripts import models"
   ]
  },
  {
   "cell_type": "code",
   "execution_count": 4,
   "metadata": {},
   "outputs": [],
   "source": [
    "from urbansim.utils import misc, networks\n",
    "import pandas as pd"
   ]
  },
  {
   "cell_type": "code",
   "execution_count": 7,
   "metadata": {},
   "outputs": [
    {
     "name": "stdout",
     "output_type": "stream",
     "text": [
      "Running step 'initialize_network_walk'\n",
      "Time to execute step 'initialize_network_walk': 20.69 s\n",
      "Total time to execute iteration 1 with iteration value None: 20.69 s\n",
      "CPU times: user 4min 17s, sys: 13 s, total: 4min 30s\n",
      "Wall time: 20.7 s\n"
     ]
    }
   ],
   "source": [
    "%%time\n",
    "orca.run(['initialize_network_walk'])"
   ]
  },
  {
   "cell_type": "code",
   "execution_count": 8,
   "metadata": {},
   "outputs": [
    {
     "name": "stdout",
     "output_type": "stream",
     "text": [
      "Running step 'network_aggregations_walk'\n",
      "Computing accessibility variables\n",
      "Computing units_500_walk\n",
      "Computing sqft_unit_500_walk\n",
      "Computing singles_500_walk\n",
      "Removed 52084 rows because they contain missing values\n",
      "Computing elderly_hh_500_walk\n",
      "Removed 34553 rows because they contain missing values\n",
      "Computing children_500_walk\n",
      "Removed 189769 rows because they contain missing values\n",
      "Computing units_sf_500_walk\n",
      "Computing units_mf_500_walk\n",
      "Computing pop_500_walk\n",
      "Removed 189769 rows because they contain missing values\n",
      "Computing hh_500_walk\n",
      "Removed 189769 rows because they contain missing values\n",
      "Computing poor_500_walk\n",
      "Removed 53114 rows because they contain missing values\n",
      "Computing rich_500_walk\n",
      "Removed 38964 rows because they contain missing values\n",
      "Computing renters_500_walk\n",
      "Removed 102597 rows because they contain missing values\n",
      "Computing avg_income_500_walk\n",
      "Removed 189769 rows because they contain missing values\n",
      "Computing jobs_500_walk\n",
      "Computing avg_rent_500_walk\n",
      "Computing pop_white_500_walk\n",
      "Removed 107372 rows because they contain missing values\n",
      "Computing pop_black_500_walk\n",
      "Removed 10541 rows because they contain missing values\n",
      "Computing pop_asian_500_walk\n",
      "Removed 51048 rows because they contain missing values\n",
      "Computing pop_hisp_500_walk\n",
      "Removed 31685 rows because they contain missing values\n",
      "Computing units_1500_walk\n",
      "Computing sqft_unit_1500_walk\n",
      "Computing singles_1500_walk\n",
      "Removed 52084 rows because they contain missing values\n",
      "Computing elderly_hh_1500_walk\n",
      "Removed 34553 rows because they contain missing values\n",
      "Computing children_1500_walk\n",
      "Removed 189769 rows because they contain missing values\n",
      "Computing units_sf_1500_walk\n",
      "Computing units_mf_1500_walk\n",
      "Computing pop_1500_walk\n",
      "Removed 189769 rows because they contain missing values\n",
      "Computing hh_1500_walk\n",
      "Removed 189769 rows because they contain missing values\n",
      "Computing poor_1500_walk\n",
      "Removed 53114 rows because they contain missing values\n",
      "Computing rich_1500_walk\n",
      "Removed 38964 rows because they contain missing values\n",
      "Computing renters_1500_walk\n",
      "Removed 102597 rows because they contain missing values\n",
      "Computing avg_income_1500_walk\n",
      "Removed 189769 rows because they contain missing values\n",
      "Computing jobs_1500_walk\n",
      "Computing avg_rent_1500_walk\n",
      "Computing pop_white_1500_walk\n",
      "Removed 107372 rows because they contain missing values\n",
      "Computing pop_black_1500_walk\n",
      "Removed 10541 rows because they contain missing values\n",
      "Computing pop_asian_1500_walk\n",
      "Removed 51048 rows because they contain missing values\n",
      "Computing pop_hisp_1500_walk\n",
      "Removed 31685 rows because they contain missing values\n",
      "Computing pop_2500_walk\n",
      "Removed 189769 rows because they contain missing values\n",
      "Computing pop_white_2500_walk\n",
      "Removed 107372 rows because they contain missing values\n",
      "Computing pop_black_2500_walk\n",
      "Removed 10541 rows because they contain missing values\n",
      "Computing pop_asian_2500_walk\n",
      "Removed 51048 rows because they contain missing values\n",
      "Computing pop_hisp_2500_walk\n",
      "Removed 31685 rows because they contain missing values\n",
      "       units_500_walk  sqft_unit_500_walk  singles_500_walk  \\\n",
      "count   415716.000000       415716.000000     415716.000000   \n",
      "mean       356.008972         1245.544556         94.347931   \n",
      "std       1097.037720          979.879944        344.431244   \n",
      "min          0.000000            0.000000          0.000000   \n",
      "25%          9.000000          458.249519          1.000000   \n",
      "50%        188.000000         1315.694275         27.000000   \n",
      "75%        440.000000         1761.837921         87.000000   \n",
      "max     184995.000000        30000.000000      45809.000000   \n",
      "\n",
      "       elderly_hh_500_walk  children_500_walk  units_sf_500_walk  \\\n",
      "count        415716.000000      415716.000000      415716.000000   \n",
      "mean             58.482273         158.034760         163.916275   \n",
      "std             241.357803         443.152496         704.597778   \n",
      "min               0.000000           0.000000           0.000000   \n",
      "25%               1.000000           3.000000           2.000000   \n",
      "50%              28.000000          93.000000          98.000000   \n",
      "75%              70.000000         231.000000         247.000000   \n",
      "max           41748.000000       81194.000000      136971.000000   \n",
      "\n",
      "       units_mf_500_walk   pop_500_walk    hh_500_walk  poor_500_walk  \\\n",
      "count      415716.000000  415716.000000  415716.000000  415716.000000   \n",
      "mean          165.668030     792.460144     315.900543      85.833946   \n",
      "std           469.333771    2241.259277     956.908142     320.218262   \n",
      "min             0.000000       0.000000       0.000000       0.000000   \n",
      "25%             0.000000      20.000000       7.000000       1.000000   \n",
      "50%             2.000000     462.000000     170.000000      25.000000   \n",
      "75%           159.000000    1085.000000     395.000000      83.000000   \n",
      "max         48024.000000  396980.000000  162471.000000   42785.000000   \n",
      "\n",
      "              ...          avg_rent_1500_walk  pop_white_1500_walk  \\\n",
      "count         ...               415716.000000        415716.000000   \n",
      "mean          ...                 2544.887939          4070.983887   \n",
      "std           ...                 1191.996460          5996.936035   \n",
      "min           ...                   -1.000000             0.000000   \n",
      "25%           ...                 2200.000000           851.000000   \n",
      "50%           ...                 2617.000000          2855.000000   \n",
      "75%           ...                 3200.000000          5577.000000   \n",
      "max           ...                 9800.000000        336639.000000   \n",
      "\n",
      "       pop_black_1500_walk  pop_asian_1500_walk  pop_hisp_1500_walk  \\\n",
      "count        415716.000000        415716.000000       415716.000000   \n",
      "mean            445.464813          2294.927734         1554.443848   \n",
      "std            1162.894043          3266.359131         2585.466064   \n",
      "min               0.000000             0.000000            0.000000   \n",
      "25%               7.000000           229.000000          100.000000   \n",
      "50%              71.000000          1114.000000          590.000000   \n",
      "75%             274.000000          3061.000000         1800.000000   \n",
      "max           18841.000000         34438.000000        64427.000000   \n",
      "\n",
      "       pop_2500_walk  pop_white_2500_walk  pop_black_2500_walk  \\\n",
      "count  415716.000000        415716.000000        415716.000000   \n",
      "mean    22407.646484         11744.225586          1248.331665   \n",
      "std     23424.025391         13806.313477          2843.297607   \n",
      "min         0.000000             0.000000             0.000000   \n",
      "25%      7311.000000          3585.000000            59.000000   \n",
      "50%     17409.000000          8750.000000           242.000000   \n",
      "75%     30427.000000         16036.000000           877.000000   \n",
      "max    406089.000000        345115.000000         24201.000000   \n",
      "\n",
      "       pop_asian_2500_walk  pop_hisp_2500_walk  \n",
      "count        415716.000000       415716.000000  \n",
      "mean           6545.954590         4479.669434  \n",
      "std            8124.616211         6155.737793  \n",
      "min               0.000000            0.000000  \n",
      "25%            1018.000000          506.000000  \n",
      "50%            3727.000000         2076.000000  \n",
      "75%            8671.000000         5615.000000  \n",
      "max           57724.000000        64823.000000  \n",
      "\n",
      "[8 rows x 43 columns]\n",
      "Time to execute step 'network_aggregations_walk': 124.90 s\n",
      "Total time to execute iteration 1 with iteration value None: 124.90 s\n",
      "CPU times: user 20min 24s, sys: 59.3 s, total: 21min 24s\n",
      "Wall time: 2min 4s\n"
     ]
    }
   ],
   "source": [
    "%%time\n",
    "orca.run(['network_aggregations_walk'])"
   ]
  },
  {
   "cell_type": "code",
   "execution_count": 10,
   "metadata": {},
   "outputs": [],
   "source": [
    "nodeswalk = orca.get_table('nodeswalk').to_frame()"
   ]
  },
  {
   "cell_type": "code",
   "execution_count": 11,
   "metadata": {},
   "outputs": [],
   "source": [
    "parcels = orca.get_table('parcels').to_frame()"
   ]
  },
  {
   "cell_type": "code",
   "execution_count": 15,
   "metadata": {},
   "outputs": [],
   "source": [
    "merged = pd.merge(nodeswalk, parcels, left_index=True, right_on='node_id_walk')"
   ]
  },
  {
   "cell_type": "code",
   "execution_count": 16,
   "metadata": {},
   "outputs": [
    {
     "data": {
      "text/plain": [
       "1956207"
      ]
     },
     "execution_count": 16,
     "metadata": {},
     "output_type": "execute_result"
    }
   ],
   "source": [
    "len(merged)"
   ]
  },
  {
   "cell_type": "code",
   "execution_count": 19,
   "metadata": {},
   "outputs": [],
   "source": [
    "nodeswalk_upper = nodeswalk.quantile(.99)\n",
    "nodeswalk_c = nodeswalk.clip_upper(nodeswalk_upper, axis=1)\n",
    "\n",
    "nodeswalk_c['prop_children_500_walk'] = (nodeswalk_c['children_500_walk'] > 0).astype(int) / nodeswalk_c['hh_500_walk']\n",
    "nodeswalk_c['prop_singles_500_walk'] = nodeswalk_c['singles_500_walk'] / nodeswalk_c['hh_500_walk']\n",
    "nodeswalk_c['prop_elderly_500_walk'] = nodeswalk_c['elderly_hh_500_walk'] / nodeswalk_c['hh_500_walk']\n",
    "nodeswalk_c['prop_black_500_walk'] = nodeswalk_c['pop_black_500_walk'] / nodeswalk_c['pop_500_walk']\n",
    "nodeswalk_c['prop_white_500_walk'] = nodeswalk_c['pop_white_500_walk'] / nodeswalk_c['pop_500_walk']\n",
    "nodeswalk_c['prop_asian_500_walk'] = nodeswalk_c['pop_asian_500_walk'] / nodeswalk_c['pop_500_walk']\n",
    "nodeswalk_c['prop_hisp_500_walk'] = nodeswalk_c['pop_hisp_500_walk'] / nodeswalk_c['pop_500_walk']\n",
    "nodeswalk_c['prop_rich_500_walk'] = nodeswalk_c['rich_500_walk'] / nodeswalk_c['pop_500_walk']\n",
    "nodeswalk_c['prop_poor_500_walk'] = nodeswalk_c['poor_500_walk'] / nodeswalk_c['pop_500_walk']\n",
    "\n",
    "nodeswalk_c['prop_children_1500_walk'] = (nodeswalk_c['children_1500_walk'] > 0).astype(int)/nodeswalk_c['hh_1500_walk']\n",
    "nodeswalk_c['prop_singles_1500_walk'] = nodeswalk_c['singles_1500_walk'] / nodeswalk_c['hh_1500_walk']\n",
    "nodeswalk_c['prop_elderly_1500_walk'] = nodeswalk_c['elderly_hh_1500_walk'] / nodeswalk_c['hh_1500_walk']\n",
    "nodeswalk_c['prop_black_1500_walk'] = nodeswalk_c['pop_black_1500_walk'] / nodeswalk_c['pop_1500_walk']\n",
    "nodeswalk_c['prop_white_1500_walk'] = nodeswalk_c['pop_white_1500_walk'] / nodeswalk_c['pop_1500_walk']\n",
    "nodeswalk_c['prop_asian_1500_walk'] = nodeswalk_c['pop_asian_1500_walk'] / nodeswalk_c['pop_1500_walk']\n",
    "nodeswalk_c['prop_hisp_1500_walk'] = nodeswalk_c['pop_hisp_1500_walk'] / nodeswalk_c['pop_1500_walk']\n",
    "nodeswalk_c['prop_rich_1500_walk'] = nodeswalk_c['rich_1500_walk'] / nodeswalk_c['pop_1500_walk']\n",
    "nodeswalk_c['prop_poor_1500_walk'] = nodeswalk_c['poor_1500_walk'] / nodeswalk_c['pop_1500_walk']\n",
    "\n",
    "nodeswalk_c['pop_jobs_ratio_1500_walk'] = nodeswalk_c['pop_1500_walk'] / (nodeswalk_c['jobs_500_walk']+1)\n",
    "nodeswalk_c['avg_hhs_500_walk'] = nodeswalk_c['pop_500_walk'] / (nodeswalk_c['hh_500_walk']+1)\n",
    "nodeswalk_c['avg_hhs_1500_walk'] = nodeswalk_c['pop_1500_walk'] / (nodeswalk_c['hh_1500_walk']+1)\n",
    "\n",
    "nodeswalk_c['pop_jobs_ratio_1500_walk'] = nodeswalk_c['pop_1500_walk'] / (nodeswalk_c['jobs_500_walk']+1)\n",
    "nodeswalk_c['avg_hhs_500_walk'] = nodeswalk_c['pop_500_walk'] / (nodeswalk_c['hh_500_walk']+1)\n",
    "nodeswalk_c['avg_hhs_1500_walk'] = nodeswalk_c['pop_1500_walk'] / (nodeswalk_c['hh_1500_walk']+1)"
   ]
  },
  {
   "cell_type": "code",
   "execution_count": 24,
   "metadata": {},
   "outputs": [
    {
     "data": {
      "text/plain": [
       "1956207"
      ]
     },
     "execution_count": 24,
     "metadata": {},
     "output_type": "execute_result"
    }
   ],
   "source": [
    "len(pd.merge(nodeswalk_c, parcels, left_index=True, right_on='node_id_walk'))"
   ]
  },
  {
   "cell_type": "code",
   "execution_count": 23,
   "metadata": {},
   "outputs": [],
   "source": [
    "nodeswalk_c.to_csv('/home/data/2018-07/nodeswalk_c_max.csv')"
   ]
  },
  {
   "cell_type": "code",
   "execution_count": 28,
   "metadata": {},
   "outputs": [],
   "source": [
    "nodeswalk = pd.read_csv('/home/data/2018-07/nodeswalk_c_max.csv', index_col='osmid')"
   ]
  },
  {
   "cell_type": "code",
   "execution_count": 29,
   "metadata": {},
   "outputs": [
    {
     "data": {
      "text/plain": [
       "1956207"
      ]
     },
     "execution_count": 29,
     "metadata": {},
     "output_type": "execute_result"
    }
   ],
   "source": [
    "len(pd.merge(nodeswalk, parcels, left_index=True, right_on='node_id_walk'))"
   ]
  },
  {
   "cell_type": "code",
   "execution_count": 30,
   "metadata": {},
   "outputs": [
    {
     "name": "stdout",
     "output_type": "stream",
     "text": [
      "Running step 'initialize_network_small'\n",
      "Time to execute step 'initialize_network_small': 6.55 s\n",
      "Total time to execute iteration 1 with iteration value None: 6.56 s\n",
      "CPU times: user 1min 34s, sys: 4.67 s, total: 1min 39s\n",
      "Wall time: 6.56 s\n"
     ]
    }
   ],
   "source": [
    "%%time\n",
    "orca.run(['initialize_network_small'])"
   ]
  },
  {
   "cell_type": "code",
   "execution_count": 31,
   "metadata": {},
   "outputs": [
    {
     "name": "stdout",
     "output_type": "stream",
     "text": [
      "Running step 'network_aggregations_small'\n",
      "Computing accessibility variables\n",
      "Computing units_10000\n",
      "Computing units_sf_10000\n",
      "Computing units_mf_10000\n",
      "Computing pop_10000\n",
      "Removed 189769 rows because they contain missing values\n",
      "Computing hh_10000\n",
      "Removed 189769 rows because they contain missing values\n",
      "Computing poor_10000\n",
      "Removed 53114 rows because they contain missing values\n",
      "Computing renters_10000\n",
      "Removed 102597 rows because they contain missing values\n",
      "Computing avg_income_10000\n",
      "Removed 189769 rows because they contain missing values\n",
      "Computing jobs_10000\n",
      "Computing avg_rent_10000\n",
      "Computing pop_white_10000\n",
      "Removed 107372 rows because they contain missing values\n",
      "Computing pop_black_10000\n",
      "Removed 10541 rows because they contain missing values\n",
      "Computing pop_asian_10000\n",
      "Removed 51048 rows because they contain missing values\n",
      "Computing pop_hisp_10000\n",
      "Removed 31685 rows because they contain missing values\n",
      "Computing units_25000\n",
      "Computing units_sf_25000\n",
      "Computing units_mf_25000\n",
      "Computing pop_25000\n",
      "Removed 189769 rows because they contain missing values\n",
      "Computing hh_25000\n",
      "Removed 189769 rows because they contain missing values\n",
      "Computing poor_25000\n",
      "Removed 53114 rows because they contain missing values\n",
      "Computing renters_25000\n",
      "Removed 102597 rows because they contain missing values\n",
      "Computing avg_income_25000\n",
      "Removed 189769 rows because they contain missing values\n",
      "Computing jobs_25000\n",
      "Computing avg_rent_25000\n",
      "Computing pop_white_25000\n",
      "Removed 107372 rows because they contain missing values\n",
      "Computing pop_black_25000\n",
      "Removed 10541 rows because they contain missing values\n",
      "Computing pop_asian_25000\n",
      "Removed 51048 rows because they contain missing values\n",
      "Computing pop_hisp_25000\n",
      "Removed 31685 rows because they contain missing values\n",
      "         units_10000  units_sf_10000  units_mf_10000      pop_10000  \\\n",
      "count   30826.000000    30826.000000    30826.000000   30826.000000   \n",
      "mean   111656.078125    60759.140625    45984.058594  260260.421875   \n",
      "std     87205.929688    37438.925781    46023.648438  188418.093750   \n",
      "min         0.000000        0.000000        0.000000       0.000000   \n",
      "25%     43964.500000    31221.500000    10558.000000  106498.750000   \n",
      "50%     96821.500000    59398.000000    32530.500000  231983.000000   \n",
      "75%    163121.750000    90068.500000    69672.000000  392361.000000   \n",
      "max    406854.000000   147995.000000   205873.000000  838934.000000   \n",
      "\n",
      "            hh_10000     poor_10000  renters_10000  avg_income_10000  \\\n",
      "count   30826.000000   30826.000000   30826.000000      30826.000000   \n",
      "mean    99092.796875   24263.931641   47250.296875     111233.140625   \n",
      "std     78053.578125   22118.812500   47935.484375      30336.044922   \n",
      "min         0.000000       0.000000       0.000000          0.000000   \n",
      "25%     39192.000000    7992.250000   13226.750000      93095.601562   \n",
      "50%     85626.000000   17596.500000   33240.500000     111716.902344   \n",
      "75%    143069.500000   34093.750000   65630.000000     129615.742188   \n",
      "max    370549.000000  100943.000000  225495.000000     265525.000000   \n",
      "\n",
      "         jobs_10000  avg_rent_10000       ...            hh_25000  \\\n",
      "count   30826.00000    30826.000000       ...         30826.00000   \n",
      "mean   118229.84375     2631.133057       ...        351807.15625   \n",
      "std    107967.21875      755.853394       ...        202958.56250   \n",
      "min         0.00000        0.000000       ...             0.00000   \n",
      "25%     28940.25000     2328.386353       ...        156057.25000   \n",
      "50%     92305.00000     2704.731201       ...        396963.00000   \n",
      "75%    176939.00000     2981.966370       ...        516275.75000   \n",
      "max    428602.00000     5900.000000       ...        757567.00000   \n",
      "\n",
      "          poor_25000  renters_25000  avg_income_25000    jobs_25000  \\\n",
      "count   30826.000000    30826.00000      30826.000000   30826.00000   \n",
      "mean    81909.664062   156652.34375     115859.375000  410622.28125   \n",
      "std     53371.652344   109177.56250      19291.945312  255574.00000   \n",
      "min         0.000000        0.00000          0.000000       0.00000   \n",
      "25%     38391.250000    55661.75000     101898.654297  143147.00000   \n",
      "50%     86556.500000   166408.50000     119517.230469  451703.50000   \n",
      "75%    108759.250000   213822.00000     128839.578125  646091.00000   \n",
      "max    225288.000000   423132.00000     211509.453125  813752.00000   \n",
      "\n",
      "       avg_rent_25000  pop_white_25000  pop_black_25000  pop_asian_25000  \\\n",
      "count    30826.000000      30826.00000     30826.000000      30826.00000   \n",
      "mean      2788.855713     482548.03125     43787.035156     294670.71875   \n",
      "std        544.982483     245375.18750     48555.058594     217588.75000   \n",
      "min          0.000000          0.00000         0.000000          0.00000   \n",
      "25%       2523.128296     268482.25000     18805.000000      73012.25000   \n",
      "50%       2853.225708     532600.50000     25066.000000     312618.50000   \n",
      "75%       3086.598633     692151.50000     44312.000000     477998.25000   \n",
      "max       4500.000000     932288.00000    190794.000000     693127.00000   \n",
      "\n",
      "       pop_hisp_25000  \n",
      "count    30826.000000  \n",
      "mean    183838.812500  \n",
      "std     110234.398438  \n",
      "min          0.000000  \n",
      "25%      88483.750000  \n",
      "50%     181110.000000  \n",
      "75%     298581.500000  \n",
      "max     351718.000000  \n",
      "\n",
      "[8 rows x 28 columns]\n",
      "Time to execute step 'network_aggregations_small': 70.52 s\n",
      "Total time to execute iteration 1 with iteration value None: 70.52 s\n",
      "CPU times: user 14min 1s, sys: 23.7 s, total: 14min 25s\n",
      "Wall time: 1min 10s\n"
     ]
    }
   ],
   "source": [
    "%%time\n",
    "orca.run(['network_aggregations_small'])"
   ]
  },
  {
   "cell_type": "code",
   "execution_count": 33,
   "metadata": {},
   "outputs": [],
   "source": [
    "nodessmall = orca.get_table('nodessmall').to_frame()"
   ]
  },
  {
   "cell_type": "code",
   "execution_count": 34,
   "metadata": {},
   "outputs": [],
   "source": [
    "merged = pd.merge(nodessmall, parcels, left_index=True, right_on='node_id_small')"
   ]
  },
  {
   "cell_type": "code",
   "execution_count": 35,
   "metadata": {},
   "outputs": [
    {
     "data": {
      "text/plain": [
       "1956207"
      ]
     },
     "execution_count": 35,
     "metadata": {},
     "output_type": "execute_result"
    }
   ],
   "source": [
    "len(merged)"
   ]
  },
  {
   "cell_type": "code",
   "execution_count": 39,
   "metadata": {},
   "outputs": [],
   "source": [
    "nodessmall_upper = nodessmall.quantile(.99)\n",
    "nodessmall_c = nodessmall.clip_upper(nodessmall_upper, axis=1)\n",
    "nodessmall_c['pop_jobs_ratio_10000'] = nodessmall_c['pop_10000'] / (nodessmall_c['jobs_10000'] + 1)\n",
    "nodessmall_c['pop_jobs_ratio_25000'] = nodessmall_c['pop_25000'] / (nodessmall_c['jobs_25000'] + 1)"
   ]
  },
  {
   "cell_type": "code",
   "execution_count": 50,
   "metadata": {},
   "outputs": [],
   "source": [
    "merged = pd.merge(nodessmall_c, parcels, left_index=True, right_on='node_id_small')"
   ]
  },
  {
   "cell_type": "code",
   "execution_count": 51,
   "metadata": {},
   "outputs": [
    {
     "data": {
      "text/plain": [
       "1956207"
      ]
     },
     "execution_count": 51,
     "metadata": {},
     "output_type": "execute_result"
    }
   ],
   "source": [
    "len(merged)"
   ]
  },
  {
   "cell_type": "code",
   "execution_count": 42,
   "metadata": {},
   "outputs": [],
   "source": [
    "nodessmall_c.to_csv('/home/data/2018-07/nodessmall_c_max.csv')"
   ]
  },
  {
   "cell_type": "code",
   "execution_count": 47,
   "metadata": {},
   "outputs": [],
   "source": [
    "nodessmall = pd.read_csv('/home/data/2018-07/nodessmall_c_max.csv', index_col='osmid')"
   ]
  },
  {
   "cell_type": "code",
   "execution_count": 48,
   "metadata": {},
   "outputs": [],
   "source": [
    "merged = pd.merge(nodessmall, parcels, left_index=True, right_on='node_id_small')"
   ]
  },
  {
   "cell_type": "code",
   "execution_count": 49,
   "metadata": {},
   "outputs": [
    {
     "data": {
      "text/plain": [
       "1956207"
      ]
     },
     "execution_count": 49,
     "metadata": {},
     "output_type": "execute_result"
    }
   ],
   "source": [
    "len(merged)"
   ]
  },
  {
   "cell_type": "code",
   "execution_count": null,
   "metadata": {},
   "outputs": [],
   "source": []
  }
 ],
 "metadata": {
  "kernelspec": {
   "display_name": "Python 3",
   "language": "python",
   "name": "python3"
  },
  "language_info": {
   "codemirror_mode": {
    "name": "ipython",
    "version": 3
   },
   "file_extension": ".py",
   "mimetype": "text/x-python",
   "name": "python",
   "nbconvert_exporter": "python",
   "pygments_lexer": "ipython3",
   "version": "3.6.6"
  }
 },
 "nbformat": 4,
 "nbformat_minor": 2
}
