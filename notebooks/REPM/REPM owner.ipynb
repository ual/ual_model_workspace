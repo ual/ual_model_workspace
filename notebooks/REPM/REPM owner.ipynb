{
 "cells": [
  {
   "cell_type": "markdown",
   "metadata": {},
   "source": [
    "# Real estate price model workflow\n",
    "\n",
    "Sam Maurer, Feb 2018; Paul Waddell, June 2018\n",
    "\n",
    "Python 3.6, intended to be backward compatible with 2.7"
   ]
  },
  {
   "cell_type": "code",
   "execution_count": 1,
   "metadata": {},
   "outputs": [],
   "source": [
    "from __future__ import print_function\n",
    "import warnings;warnings.simplefilter('ignore')\n",
    "\n",
    "import numpy as np\n",
    "import pandas as pd"
   ]
  },
  {
   "cell_type": "code",
   "execution_count": 2,
   "metadata": {},
   "outputs": [],
   "source": [
    "from scipy.stats import norm\n",
    "%matplotlib inline\n",
    "\n",
    "import matplotlib.pyplot as plt, matplotlib.cm as cm, matplotlib.font_manager as fm\n",
    "import matplotlib.mlab as mlab\n",
    "import seaborn as sns\n",
    "sns.set()"
   ]
  },
  {
   "cell_type": "code",
   "execution_count": 3,
   "metadata": {},
   "outputs": [],
   "source": [
    "# Standard to run UrbanSim from the root level of the project directory\n",
    "\n",
    "import os; os.chdir('../..')"
   ]
  },
  {
   "cell_type": "code",
   "execution_count": 4,
   "metadata": {},
   "outputs": [],
   "source": [
    "from urbansim_templates import modelmanager as mm\n",
    "from urbansim_templates.models import OLSRegressionStep\n",
    "import orca"
   ]
  },
  {
   "cell_type": "code",
   "execution_count": 5,
   "metadata": {},
   "outputs": [],
   "source": [
    "# Load any script-based Orca registrations\n",
    "from scripts import datasources\n",
    "from scripts import models"
   ]
  },
  {
   "cell_type": "code",
   "execution_count": 6,
   "metadata": {},
   "outputs": [],
   "source": [
    "import datashader as ds\n",
    "import holoviews as hv\n",
    "import geoviews as gv"
   ]
  },
  {
   "cell_type": "code",
   "execution_count": 7,
   "metadata": {},
   "outputs": [
    {
     "data": {
      "text/plain": [
       "'0.6.6'"
      ]
     },
     "execution_count": 7,
     "metadata": {},
     "output_type": "execute_result"
    }
   ],
   "source": [
    "ds.__version__"
   ]
  },
  {
   "cell_type": "markdown",
   "metadata": {},
   "source": [
    "## Explore the Orca registrations"
   ]
  },
  {
   "cell_type": "code",
   "execution_count": null,
   "metadata": {},
   "outputs": [],
   "source": [
    "orca.list_tables()"
   ]
  },
  {
   "cell_type": "code",
   "execution_count": null,
   "metadata": {},
   "outputs": [],
   "source": [
    "for table_name in orca.list_tables():\n",
    "    print(table_name.upper())\n",
    "    print(orca.get_table(table_name).to_frame().columns.tolist())\n",
    "    print()"
   ]
  },
  {
   "cell_type": "code",
   "execution_count": null,
   "metadata": {},
   "outputs": [],
   "source": [
    "orca.list_broadcasts()"
   ]
  },
  {
   "cell_type": "code",
   "execution_count": null,
   "metadata": {},
   "outputs": [],
   "source": [
    "orca.list_steps()"
   ]
  },
  {
   "cell_type": "code",
   "execution_count": null,
   "metadata": {},
   "outputs": [],
   "source": []
  },
  {
   "cell_type": "markdown",
   "metadata": {},
   "source": [
    "## Explore the data\n",
    "\n",
    "Orca doesn't execute code to load the registered objects until it needs to."
   ]
  },
  {
   "cell_type": "code",
   "execution_count": null,
   "metadata": {},
   "outputs": [],
   "source": [
    "orca.get_table('parcels').to_frame().describe()"
   ]
  },
  {
   "cell_type": "code",
   "execution_count": null,
   "metadata": {},
   "outputs": [],
   "source": [
    "buildings = orca.get_table('buildings').to_frame()\n",
    "buildings.describe()"
   ]
  },
  {
   "cell_type": "markdown",
   "metadata": {},
   "source": [
    "## Generate accessibility measures for the price model\n",
    "\n",
    "The network accessibility metrics are not stored on disk; for now we'll generate them using legacy code."
   ]
  },
  {
   "cell_type": "code",
   "execution_count": 8,
   "metadata": {
    "scrolled": true
   },
   "outputs": [
    {
     "name": "stderr",
     "output_type": "stream",
     "text": [
      "INFO:orca.orca:start: run step 'initialize_network_small'\n"
     ]
    },
    {
     "name": "stdout",
     "output_type": "stream",
     "text": [
      "Running step 'initialize_network_small'\n"
     ]
    },
    {
     "name": "stderr",
     "output_type": "stream",
     "text": [
      "INFO:orca.orca:finish: run step 'initialize_network_small'\n"
     ]
    },
    {
     "name": "stdout",
     "output_type": "stream",
     "text": [
      "Time to execute step 'initialize_network_small': 30.04 s\n",
      "Total time to execute iteration 1 with iteration value None: 30.04 s\n"
     ]
    }
   ],
   "source": [
    "orca.run(['initialize_network_small'])"
   ]
  },
  {
   "cell_type": "code",
   "execution_count": 9,
   "metadata": {
    "scrolled": true
   },
   "outputs": [
    {
     "name": "stderr",
     "output_type": "stream",
     "text": [
      "INFO:orca.orca:start: run step 'initialize_network_walk'\n"
     ]
    },
    {
     "name": "stdout",
     "output_type": "stream",
     "text": [
      "Running step 'initialize_network_walk'\n"
     ]
    },
    {
     "name": "stderr",
     "output_type": "stream",
     "text": [
      "INFO:orca.orca:finish: run step 'initialize_network_walk'\n"
     ]
    },
    {
     "name": "stdout",
     "output_type": "stream",
     "text": [
      "Time to execute step 'initialize_network_walk': 106.08 s\n",
      "Total time to execute iteration 1 with iteration value None: 106.08 s\n"
     ]
    }
   ],
   "source": [
    "orca.run(['initialize_network_walk'])"
   ]
  },
  {
   "cell_type": "code",
   "execution_count": 10,
   "metadata": {},
   "outputs": [],
   "source": [
    "orca.broadcast('nodessmall', 'rentals', cast_index=True, onto_on='node_id_small')\n",
    "orca.broadcast('nodeswalk', 'rentals', cast_index=True, onto_on='node_id_walk')"
   ]
  },
  {
   "cell_type": "code",
   "execution_count": null,
   "metadata": {},
   "outputs": [],
   "source": [
    "orca.run(['network_aggregations_small'])"
   ]
  },
  {
   "cell_type": "code",
   "execution_count": 12,
   "metadata": {
    "scrolled": false
   },
   "outputs": [
    {
     "name": "stderr",
     "output_type": "stream",
     "text": [
      "INFO:orca.orca:start: run step 'network_aggregations_walk'\n",
      "INFO:urbansim.utils.networks:    Fields available to aggregate = residential_units, node_id_walk\n"
     ]
    },
    {
     "name": "stdout",
     "output_type": "stream",
     "text": [
      "Running step 'network_aggregations_walk'\n",
      "Computing accessibility variables\n",
      "Computing units_500_walk\n"
     ]
    },
    {
     "name": "stderr",
     "output_type": "stream",
     "text": [
      "INFO:urbansim.utils.networks:    dataframe = buildings, varname=residential_units\n",
      "INFO:urbansim.utils.networks:    radius = 500, aggregation = sum, decay = flat\n",
      "INFO:urbansim.utils.networks:    Fields available to aggregate = sqft_per_unit, node_id_walk\n"
     ]
    },
    {
     "name": "stdout",
     "output_type": "stream",
     "text": [
      "Computing sqft_unit_500_walk\n"
     ]
    },
    {
     "name": "stderr",
     "output_type": "stream",
     "text": [
      "INFO:urbansim.utils.networks:    dataframe = buildings, varname=sqft_per_unit\n",
      "INFO:urbansim.utils.networks:    radius = 500, aggregation = ave, decay = flat\n",
      "INFO:urbansim.utils.networks:    Fields available to aggregate = node_id_walk, persons\n"
     ]
    },
    {
     "name": "stdout",
     "output_type": "stream",
     "text": [
      "Computing singles_500_walk\n"
     ]
    },
    {
     "name": "stderr",
     "output_type": "stream",
     "text": [
      "INFO:urbansim.utils.networks:    Filters = ['persons == 1']\n",
      "INFO:urbansim.utils.networks:    dataframe = households, varname=None\n",
      "INFO:urbansim.utils.networks:    radius = 500, aggregation = sum, decay = flat\n"
     ]
    },
    {
     "name": "stdout",
     "output_type": "stream",
     "text": [
      "Removed 52731 rows because they contain missing values\n"
     ]
    },
    {
     "name": "stderr",
     "output_type": "stream",
     "text": [
      "INFO:urbansim.utils.networks:    Fields available to aggregate = node_id_walk, age_of_head\n"
     ]
    },
    {
     "name": "stdout",
     "output_type": "stream",
     "text": [
      "Computing elderly_hh_500_walk\n"
     ]
    },
    {
     "name": "stderr",
     "output_type": "stream",
     "text": [
      "INFO:urbansim.utils.networks:    Filters = ['age_of_head > 65']\n",
      "INFO:urbansim.utils.networks:    dataframe = households, varname=None\n",
      "INFO:urbansim.utils.networks:    radius = 500, aggregation = sum, decay = flat\n"
     ]
    },
    {
     "name": "stdout",
     "output_type": "stream",
     "text": [
      "Removed 34788 rows because they contain missing values\n"
     ]
    },
    {
     "name": "stderr",
     "output_type": "stream",
     "text": [
      "INFO:urbansim.utils.networks:    Fields available to aggregate = children, node_id_walk\n"
     ]
    },
    {
     "name": "stdout",
     "output_type": "stream",
     "text": [
      "Computing children_500_walk\n"
     ]
    },
    {
     "name": "stderr",
     "output_type": "stream",
     "text": [
      "INFO:urbansim.utils.networks:    dataframe = households, varname=children\n",
      "INFO:urbansim.utils.networks:    radius = 500, aggregation = sum, decay = flat\n"
     ]
    },
    {
     "name": "stdout",
     "output_type": "stream",
     "text": [
      "Removed 191599 rows because they contain missing values\n"
     ]
    },
    {
     "name": "stderr",
     "output_type": "stream",
     "text": [
      "INFO:urbansim.utils.networks:    Fields available to aggregate = residential_units, node_id_walk, building_type_id\n"
     ]
    },
    {
     "name": "stdout",
     "output_type": "stream",
     "text": [
      "Computing units_sf_500_walk\n"
     ]
    },
    {
     "name": "stderr",
     "output_type": "stream",
     "text": [
      "INFO:urbansim.utils.networks:    Filters = ['building_type_id == 1']\n",
      "INFO:urbansim.utils.networks:    dataframe = buildings, varname=residential_units\n",
      "INFO:urbansim.utils.networks:    radius = 500, aggregation = sum, decay = flat\n",
      "INFO:urbansim.utils.networks:    Fields available to aggregate = residential_units, node_id_walk, building_type_id\n"
     ]
    },
    {
     "name": "stdout",
     "output_type": "stream",
     "text": [
      "Computing units_mf_500_walk\n"
     ]
    },
    {
     "name": "stderr",
     "output_type": "stream",
     "text": [
      "INFO:urbansim.utils.networks:    Filters = ['building_type_id == 3']\n",
      "INFO:urbansim.utils.networks:    dataframe = buildings, varname=residential_units\n",
      "INFO:urbansim.utils.networks:    radius = 500, aggregation = sum, decay = flat\n",
      "INFO:urbansim.utils.networks:    Fields available to aggregate = persons, node_id_walk\n"
     ]
    },
    {
     "name": "stdout",
     "output_type": "stream",
     "text": [
      "Computing pop_500_walk\n"
     ]
    },
    {
     "name": "stderr",
     "output_type": "stream",
     "text": [
      "INFO:urbansim.utils.networks:    dataframe = households, varname=persons\n",
      "INFO:urbansim.utils.networks:    radius = 500, aggregation = sum, decay = flat\n"
     ]
    },
    {
     "name": "stdout",
     "output_type": "stream",
     "text": [
      "Removed 191599 rows because they contain missing values\n"
     ]
    },
    {
     "name": "stderr",
     "output_type": "stream",
     "text": [
      "INFO:urbansim.utils.networks:    Fields available to aggregate = node_id_walk\n"
     ]
    },
    {
     "name": "stdout",
     "output_type": "stream",
     "text": [
      "Computing hh_500_walk\n"
     ]
    },
    {
     "name": "stderr",
     "output_type": "stream",
     "text": [
      "INFO:urbansim.utils.networks:    dataframe = households, varname=None\n",
      "INFO:urbansim.utils.networks:    radius = 500, aggregation = sum, decay = flat\n"
     ]
    },
    {
     "name": "stdout",
     "output_type": "stream",
     "text": [
      "Removed 191599 rows because they contain missing values\n"
     ]
    },
    {
     "name": "stderr",
     "output_type": "stream",
     "text": [
      "INFO:urbansim.utils.networks:    Fields available to aggregate = node_id_walk, income\n"
     ]
    },
    {
     "name": "stdout",
     "output_type": "stream",
     "text": [
      "Computing poor_500_walk\n"
     ]
    },
    {
     "name": "stderr",
     "output_type": "stream",
     "text": [
      "INFO:urbansim.utils.networks:    Filters = ['income < 40000']\n",
      "INFO:urbansim.utils.networks:    dataframe = households, varname=None\n",
      "INFO:urbansim.utils.networks:    radius = 500, aggregation = sum, decay = flat\n"
     ]
    },
    {
     "name": "stdout",
     "output_type": "stream",
     "text": [
      "Removed 53660 rows because they contain missing values\n"
     ]
    },
    {
     "name": "stderr",
     "output_type": "stream",
     "text": [
      "INFO:urbansim.utils.networks:    Fields available to aggregate = node_id_walk, income\n"
     ]
    },
    {
     "name": "stdout",
     "output_type": "stream",
     "text": [
      "Computing rich_500_walk\n"
     ]
    },
    {
     "name": "stderr",
     "output_type": "stream",
     "text": [
      "INFO:urbansim.utils.networks:    Filters = ['income > 150000']\n",
      "INFO:urbansim.utils.networks:    dataframe = households, varname=None\n",
      "INFO:urbansim.utils.networks:    radius = 500, aggregation = sum, decay = flat\n"
     ]
    },
    {
     "name": "stdout",
     "output_type": "stream",
     "text": [
      "Removed 39177 rows because they contain missing values\n"
     ]
    },
    {
     "name": "stderr",
     "output_type": "stream",
     "text": [
      "INFO:urbansim.utils.networks:    Fields available to aggregate = node_id_walk, tenure\n"
     ]
    },
    {
     "name": "stdout",
     "output_type": "stream",
     "text": [
      "Computing renters_500_walk\n"
     ]
    },
    {
     "name": "stderr",
     "output_type": "stream",
     "text": [
      "INFO:urbansim.utils.networks:    Filters = ['tenure == 2']\n",
      "INFO:urbansim.utils.networks:    dataframe = households, varname=None\n",
      "INFO:urbansim.utils.networks:    radius = 500, aggregation = sum, decay = flat\n"
     ]
    },
    {
     "name": "stdout",
     "output_type": "stream",
     "text": [
      "Removed 103635 rows because they contain missing values\n"
     ]
    },
    {
     "name": "stderr",
     "output_type": "stream",
     "text": [
      "INFO:urbansim.utils.networks:    Fields available to aggregate = income, node_id_walk\n"
     ]
    },
    {
     "name": "stdout",
     "output_type": "stream",
     "text": [
      "Computing avg_income_500_walk\n"
     ]
    },
    {
     "name": "stderr",
     "output_type": "stream",
     "text": [
      "INFO:urbansim.utils.networks:    dataframe = households, varname=income\n",
      "INFO:urbansim.utils.networks:    radius = 500, aggregation = ave, decay = flat\n"
     ]
    },
    {
     "name": "stdout",
     "output_type": "stream",
     "text": [
      "Removed 191599 rows because they contain missing values\n"
     ]
    },
    {
     "name": "stderr",
     "output_type": "stream",
     "text": [
      "INFO:urbansim.utils.networks:    Fields available to aggregate = node_id_walk\n"
     ]
    },
    {
     "name": "stdout",
     "output_type": "stream",
     "text": [
      "Computing jobs_500_walk\n"
     ]
    },
    {
     "name": "stderr",
     "output_type": "stream",
     "text": [
      "INFO:urbansim.utils.networks:    dataframe = jobs, varname=None\n",
      "INFO:urbansim.utils.networks:    radius = 500, aggregation = sum, decay = flat\n",
      "INFO:urbansim.utils.networks:    Fields available to aggregate = rent, node_id_walk\n",
      "INFO:urbansim.utils.networks:    dataframe = rentals, varname=rent\n",
      "INFO:urbansim.utils.networks:    radius = 500, aggregation = ave, decay = flat\n"
     ]
    },
    {
     "name": "stdout",
     "output_type": "stream",
     "text": [
      "Computing avg_rent_500_walk\n"
     ]
    },
    {
     "name": "stderr",
     "output_type": "stream",
     "text": [
      "INFO:urbansim.utils.networks:    Fields available to aggregate = persons, node_id_walk, race_of_head\n"
     ]
    },
    {
     "name": "stdout",
     "output_type": "stream",
     "text": [
      "Computing pop_white_500_walk\n"
     ]
    },
    {
     "name": "stderr",
     "output_type": "stream",
     "text": [
      "INFO:urbansim.utils.networks:    Filters = ['race_of_head == 1']\n",
      "INFO:urbansim.utils.networks:    dataframe = households, varname=persons\n",
      "INFO:urbansim.utils.networks:    radius = 500, aggregation = sum, decay = flat\n"
     ]
    },
    {
     "name": "stdout",
     "output_type": "stream",
     "text": [
      "Removed 108381 rows because they contain missing values\n"
     ]
    },
    {
     "name": "stderr",
     "output_type": "stream",
     "text": [
      "INFO:urbansim.utils.networks:    Fields available to aggregate = persons, node_id_walk, race_of_head\n"
     ]
    },
    {
     "name": "stdout",
     "output_type": "stream",
     "text": [
      "Computing pop_black_500_walk\n"
     ]
    },
    {
     "name": "stderr",
     "output_type": "stream",
     "text": [
      "INFO:urbansim.utils.networks:    Filters = ['race_of_head == 2']\n",
      "INFO:urbansim.utils.networks:    dataframe = households, varname=persons\n",
      "INFO:urbansim.utils.networks:    radius = 500, aggregation = sum, decay = flat\n"
     ]
    },
    {
     "name": "stdout",
     "output_type": "stream",
     "text": [
      "Removed 10605 rows because they contain missing values\n"
     ]
    },
    {
     "name": "stderr",
     "output_type": "stream",
     "text": [
      "INFO:urbansim.utils.networks:    Fields available to aggregate = persons, node_id_walk, race_of_head\n"
     ]
    },
    {
     "name": "stdout",
     "output_type": "stream",
     "text": [
      "Computing pop_asian_500_walk\n"
     ]
    },
    {
     "name": "stderr",
     "output_type": "stream",
     "text": [
      "INFO:urbansim.utils.networks:    Filters = ['race_of_head == 6']\n",
      "INFO:urbansim.utils.networks:    dataframe = households, varname=persons\n",
      "INFO:urbansim.utils.networks:    radius = 500, aggregation = sum, decay = flat\n"
     ]
    },
    {
     "name": "stdout",
     "output_type": "stream",
     "text": [
      "Removed 51665 rows because they contain missing values\n"
     ]
    },
    {
     "name": "stderr",
     "output_type": "stream",
     "text": [
      "INFO:urbansim.utils.networks:    Fields available to aggregate = persons, node_id_walk, hispanic_head\n"
     ]
    },
    {
     "name": "stdout",
     "output_type": "stream",
     "text": [
      "Computing pop_hisp_500_walk\n"
     ]
    },
    {
     "name": "stderr",
     "output_type": "stream",
     "text": [
      "INFO:urbansim.utils.networks:    Filters = [\"hispanic_head == 'yes'\"]\n",
      "INFO:urbansim.utils.networks:    dataframe = households, varname=persons\n",
      "INFO:urbansim.utils.networks:    radius = 500, aggregation = sum, decay = flat\n"
     ]
    },
    {
     "name": "stdout",
     "output_type": "stream",
     "text": [
      "Removed 31878 rows because they contain missing values\n"
     ]
    },
    {
     "name": "stderr",
     "output_type": "stream",
     "text": [
      "INFO:urbansim.utils.networks:    Fields available to aggregate = residential_units, node_id_walk\n"
     ]
    },
    {
     "name": "stdout",
     "output_type": "stream",
     "text": [
      "Computing units_1500_walk\n"
     ]
    },
    {
     "name": "stderr",
     "output_type": "stream",
     "text": [
      "INFO:urbansim.utils.networks:    dataframe = buildings, varname=residential_units\n",
      "INFO:urbansim.utils.networks:    radius = 1500, aggregation = sum, decay = flat\n",
      "INFO:urbansim.utils.networks:    Fields available to aggregate = sqft_per_unit, node_id_walk\n"
     ]
    },
    {
     "name": "stdout",
     "output_type": "stream",
     "text": [
      "Computing sqft_unit_1500_walk\n"
     ]
    },
    {
     "name": "stderr",
     "output_type": "stream",
     "text": [
      "INFO:urbansim.utils.networks:    dataframe = buildings, varname=sqft_per_unit\n",
      "INFO:urbansim.utils.networks:    radius = 1500, aggregation = ave, decay = flat\n",
      "INFO:urbansim.utils.networks:    Fields available to aggregate = node_id_walk, persons\n"
     ]
    },
    {
     "name": "stdout",
     "output_type": "stream",
     "text": [
      "Computing singles_1500_walk\n"
     ]
    },
    {
     "name": "stderr",
     "output_type": "stream",
     "text": [
      "INFO:urbansim.utils.networks:    Filters = ['persons == 1']\n",
      "INFO:urbansim.utils.networks:    dataframe = households, varname=None\n",
      "INFO:urbansim.utils.networks:    radius = 1500, aggregation = sum, decay = flat\n"
     ]
    },
    {
     "name": "stdout",
     "output_type": "stream",
     "text": [
      "Removed 52731 rows because they contain missing values\n"
     ]
    },
    {
     "name": "stderr",
     "output_type": "stream",
     "text": [
      "INFO:urbansim.utils.networks:    Fields available to aggregate = node_id_walk, age_of_head\n"
     ]
    },
    {
     "name": "stdout",
     "output_type": "stream",
     "text": [
      "Computing elderly_hh_1500_walk\n"
     ]
    },
    {
     "name": "stderr",
     "output_type": "stream",
     "text": [
      "INFO:urbansim.utils.networks:    Filters = ['age_of_head > 65']\n",
      "INFO:urbansim.utils.networks:    dataframe = households, varname=None\n",
      "INFO:urbansim.utils.networks:    radius = 1500, aggregation = sum, decay = flat\n"
     ]
    },
    {
     "name": "stdout",
     "output_type": "stream",
     "text": [
      "Removed 34788 rows because they contain missing values\n"
     ]
    },
    {
     "name": "stderr",
     "output_type": "stream",
     "text": [
      "INFO:urbansim.utils.networks:    Fields available to aggregate = children, node_id_walk\n"
     ]
    },
    {
     "name": "stdout",
     "output_type": "stream",
     "text": [
      "Computing children_1500_walk\n"
     ]
    },
    {
     "name": "stderr",
     "output_type": "stream",
     "text": [
      "INFO:urbansim.utils.networks:    dataframe = households, varname=children\n",
      "INFO:urbansim.utils.networks:    radius = 1500, aggregation = sum, decay = flat\n"
     ]
    },
    {
     "name": "stdout",
     "output_type": "stream",
     "text": [
      "Removed 191599 rows because they contain missing values\n"
     ]
    },
    {
     "name": "stderr",
     "output_type": "stream",
     "text": [
      "INFO:urbansim.utils.networks:    Fields available to aggregate = residential_units, node_id_walk, building_type_id\n"
     ]
    },
    {
     "name": "stdout",
     "output_type": "stream",
     "text": [
      "Computing units_sf_1500_walk\n"
     ]
    },
    {
     "name": "stderr",
     "output_type": "stream",
     "text": [
      "INFO:urbansim.utils.networks:    Filters = ['building_type_id == 1']\n",
      "INFO:urbansim.utils.networks:    dataframe = buildings, varname=residential_units\n",
      "INFO:urbansim.utils.networks:    radius = 1500, aggregation = sum, decay = flat\n",
      "INFO:urbansim.utils.networks:    Fields available to aggregate = residential_units, node_id_walk, building_type_id\n"
     ]
    },
    {
     "name": "stdout",
     "output_type": "stream",
     "text": [
      "Computing units_mf_1500_walk\n"
     ]
    },
    {
     "name": "stderr",
     "output_type": "stream",
     "text": [
      "INFO:urbansim.utils.networks:    Filters = ['building_type_id == 3']\n",
      "INFO:urbansim.utils.networks:    dataframe = buildings, varname=residential_units\n",
      "INFO:urbansim.utils.networks:    radius = 1500, aggregation = sum, decay = flat\n",
      "INFO:urbansim.utils.networks:    Fields available to aggregate = persons, node_id_walk\n"
     ]
    },
    {
     "name": "stdout",
     "output_type": "stream",
     "text": [
      "Computing pop_1500_walk\n"
     ]
    },
    {
     "name": "stderr",
     "output_type": "stream",
     "text": [
      "INFO:urbansim.utils.networks:    dataframe = households, varname=persons\n",
      "INFO:urbansim.utils.networks:    radius = 1500, aggregation = sum, decay = flat\n"
     ]
    },
    {
     "name": "stdout",
     "output_type": "stream",
     "text": [
      "Removed 191599 rows because they contain missing values\n"
     ]
    },
    {
     "name": "stderr",
     "output_type": "stream",
     "text": [
      "INFO:urbansim.utils.networks:    Fields available to aggregate = node_id_walk\n"
     ]
    },
    {
     "name": "stdout",
     "output_type": "stream",
     "text": [
      "Computing hh_1500_walk\n"
     ]
    },
    {
     "name": "stderr",
     "output_type": "stream",
     "text": [
      "INFO:urbansim.utils.networks:    dataframe = households, varname=None\n",
      "INFO:urbansim.utils.networks:    radius = 1500, aggregation = sum, decay = flat\n"
     ]
    },
    {
     "name": "stdout",
     "output_type": "stream",
     "text": [
      "Removed 191599 rows because they contain missing values\n"
     ]
    },
    {
     "name": "stderr",
     "output_type": "stream",
     "text": [
      "INFO:urbansim.utils.networks:    Fields available to aggregate = node_id_walk, income\n"
     ]
    },
    {
     "name": "stdout",
     "output_type": "stream",
     "text": [
      "Computing poor_1500_walk\n"
     ]
    },
    {
     "name": "stderr",
     "output_type": "stream",
     "text": [
      "INFO:urbansim.utils.networks:    Filters = ['income < 40000']\n",
      "INFO:urbansim.utils.networks:    dataframe = households, varname=None\n",
      "INFO:urbansim.utils.networks:    radius = 1500, aggregation = sum, decay = flat\n"
     ]
    },
    {
     "name": "stdout",
     "output_type": "stream",
     "text": [
      "Removed 53660 rows because they contain missing values\n"
     ]
    },
    {
     "name": "stderr",
     "output_type": "stream",
     "text": [
      "INFO:urbansim.utils.networks:    Fields available to aggregate = node_id_walk, income\n"
     ]
    },
    {
     "name": "stdout",
     "output_type": "stream",
     "text": [
      "Computing rich_1500_walk\n"
     ]
    },
    {
     "name": "stderr",
     "output_type": "stream",
     "text": [
      "INFO:urbansim.utils.networks:    Filters = ['income > 150000']\n",
      "INFO:urbansim.utils.networks:    dataframe = households, varname=None\n",
      "INFO:urbansim.utils.networks:    radius = 1500, aggregation = sum, decay = flat\n"
     ]
    },
    {
     "name": "stdout",
     "output_type": "stream",
     "text": [
      "Removed 39177 rows because they contain missing values\n"
     ]
    },
    {
     "name": "stderr",
     "output_type": "stream",
     "text": [
      "INFO:urbansim.utils.networks:    Fields available to aggregate = node_id_walk, tenure\n"
     ]
    },
    {
     "name": "stdout",
     "output_type": "stream",
     "text": [
      "Computing renters_1500_walk\n"
     ]
    },
    {
     "name": "stderr",
     "output_type": "stream",
     "text": [
      "INFO:urbansim.utils.networks:    Filters = ['tenure == 2']\n",
      "INFO:urbansim.utils.networks:    dataframe = households, varname=None\n",
      "INFO:urbansim.utils.networks:    radius = 1500, aggregation = sum, decay = flat\n"
     ]
    },
    {
     "name": "stdout",
     "output_type": "stream",
     "text": [
      "Removed 103635 rows because they contain missing values\n"
     ]
    },
    {
     "name": "stderr",
     "output_type": "stream",
     "text": [
      "INFO:urbansim.utils.networks:    Fields available to aggregate = income, node_id_walk\n"
     ]
    },
    {
     "name": "stdout",
     "output_type": "stream",
     "text": [
      "Computing avg_income_1500_walk\n"
     ]
    },
    {
     "name": "stderr",
     "output_type": "stream",
     "text": [
      "INFO:urbansim.utils.networks:    dataframe = households, varname=income\n",
      "INFO:urbansim.utils.networks:    radius = 1500, aggregation = median, decay = flat\n"
     ]
    },
    {
     "name": "stdout",
     "output_type": "stream",
     "text": [
      "Removed 191599 rows because they contain missing values\n"
     ]
    },
    {
     "name": "stderr",
     "output_type": "stream",
     "text": [
      "INFO:urbansim.utils.networks:    Fields available to aggregate = node_id_walk\n"
     ]
    },
    {
     "name": "stdout",
     "output_type": "stream",
     "text": [
      "Computing jobs_1500_walk\n"
     ]
    },
    {
     "name": "stderr",
     "output_type": "stream",
     "text": [
      "INFO:urbansim.utils.networks:    dataframe = jobs, varname=None\n",
      "INFO:urbansim.utils.networks:    radius = 1500, aggregation = sum, decay = flat\n",
      "INFO:urbansim.utils.networks:    Fields available to aggregate = rent, node_id_walk\n",
      "INFO:urbansim.utils.networks:    dataframe = rentals, varname=rent\n",
      "INFO:urbansim.utils.networks:    radius = 1500, aggregation = median, decay = flat\n"
     ]
    },
    {
     "name": "stdout",
     "output_type": "stream",
     "text": [
      "Computing avg_rent_1500_walk\n"
     ]
    },
    {
     "name": "stderr",
     "output_type": "stream",
     "text": [
      "INFO:urbansim.utils.networks:    Fields available to aggregate = persons, node_id_walk, race_of_head\n"
     ]
    },
    {
     "name": "stdout",
     "output_type": "stream",
     "text": [
      "Computing pop_white_1500_walk\n"
     ]
    },
    {
     "name": "stderr",
     "output_type": "stream",
     "text": [
      "INFO:urbansim.utils.networks:    Filters = ['race_of_head == 1']\n",
      "INFO:urbansim.utils.networks:    dataframe = households, varname=persons\n",
      "INFO:urbansim.utils.networks:    radius = 1500, aggregation = sum, decay = flat\n"
     ]
    },
    {
     "name": "stdout",
     "output_type": "stream",
     "text": [
      "Removed 108381 rows because they contain missing values\n"
     ]
    },
    {
     "name": "stderr",
     "output_type": "stream",
     "text": [
      "INFO:urbansim.utils.networks:    Fields available to aggregate = persons, node_id_walk, race_of_head\n"
     ]
    },
    {
     "name": "stdout",
     "output_type": "stream",
     "text": [
      "Computing pop_black_1500_walk\n"
     ]
    },
    {
     "name": "stderr",
     "output_type": "stream",
     "text": [
      "INFO:urbansim.utils.networks:    Filters = ['race_of_head == 2']\n",
      "INFO:urbansim.utils.networks:    dataframe = households, varname=persons\n",
      "INFO:urbansim.utils.networks:    radius = 1500, aggregation = sum, decay = flat\n"
     ]
    },
    {
     "name": "stdout",
     "output_type": "stream",
     "text": [
      "Removed 10605 rows because they contain missing values\n"
     ]
    },
    {
     "name": "stderr",
     "output_type": "stream",
     "text": [
      "INFO:urbansim.utils.networks:    Fields available to aggregate = persons, node_id_walk, race_of_head\n"
     ]
    },
    {
     "name": "stdout",
     "output_type": "stream",
     "text": [
      "Computing pop_asian_1500_walk\n"
     ]
    },
    {
     "name": "stderr",
     "output_type": "stream",
     "text": [
      "INFO:urbansim.utils.networks:    Filters = ['race_of_head == 6']\n",
      "INFO:urbansim.utils.networks:    dataframe = households, varname=persons\n",
      "INFO:urbansim.utils.networks:    radius = 1500, aggregation = sum, decay = flat\n"
     ]
    },
    {
     "name": "stdout",
     "output_type": "stream",
     "text": [
      "Removed 51665 rows because they contain missing values\n"
     ]
    },
    {
     "name": "stderr",
     "output_type": "stream",
     "text": [
      "INFO:urbansim.utils.networks:    Fields available to aggregate = persons, node_id_walk, hispanic_head\n"
     ]
    },
    {
     "name": "stdout",
     "output_type": "stream",
     "text": [
      "Computing pop_hisp_1500_walk\n"
     ]
    },
    {
     "name": "stderr",
     "output_type": "stream",
     "text": [
      "INFO:urbansim.utils.networks:    Filters = [\"hispanic_head == 'yes'\"]\n",
      "INFO:urbansim.utils.networks:    dataframe = households, varname=persons\n",
      "INFO:urbansim.utils.networks:    radius = 1500, aggregation = sum, decay = flat\n"
     ]
    },
    {
     "name": "stdout",
     "output_type": "stream",
     "text": [
      "Removed 31878 rows because they contain missing values\n"
     ]
    },
    {
     "name": "stderr",
     "output_type": "stream",
     "text": [
      "INFO:urbansim.utils.networks:    Fields available to aggregate = persons, node_id_walk\n"
     ]
    },
    {
     "name": "stdout",
     "output_type": "stream",
     "text": [
      "Computing pop_2500_walk\n"
     ]
    },
    {
     "name": "stderr",
     "output_type": "stream",
     "text": [
      "INFO:urbansim.utils.networks:    dataframe = households, varname=persons\n",
      "INFO:urbansim.utils.networks:    radius = 2500, aggregation = sum, decay = flat\n"
     ]
    },
    {
     "name": "stdout",
     "output_type": "stream",
     "text": [
      "Removed 191599 rows because they contain missing values\n"
     ]
    },
    {
     "name": "stderr",
     "output_type": "stream",
     "text": [
      "INFO:urbansim.utils.networks:    Fields available to aggregate = persons, node_id_walk, race_of_head\n"
     ]
    },
    {
     "name": "stdout",
     "output_type": "stream",
     "text": [
      "Computing pop_white_2500_walk\n"
     ]
    },
    {
     "name": "stderr",
     "output_type": "stream",
     "text": [
      "INFO:urbansim.utils.networks:    Filters = ['race_of_head == 1']\n",
      "INFO:urbansim.utils.networks:    dataframe = households, varname=persons\n",
      "INFO:urbansim.utils.networks:    radius = 2500, aggregation = sum, decay = flat\n"
     ]
    },
    {
     "name": "stdout",
     "output_type": "stream",
     "text": [
      "Removed 108381 rows because they contain missing values\n"
     ]
    },
    {
     "name": "stderr",
     "output_type": "stream",
     "text": [
      "INFO:urbansim.utils.networks:    Fields available to aggregate = persons, node_id_walk, race_of_head\n"
     ]
    },
    {
     "name": "stdout",
     "output_type": "stream",
     "text": [
      "Computing pop_black_2500_walk\n"
     ]
    },
    {
     "name": "stderr",
     "output_type": "stream",
     "text": [
      "INFO:urbansim.utils.networks:    Filters = ['race_of_head == 2']\n",
      "INFO:urbansim.utils.networks:    dataframe = households, varname=persons\n",
      "INFO:urbansim.utils.networks:    radius = 2500, aggregation = sum, decay = flat\n"
     ]
    },
    {
     "name": "stdout",
     "output_type": "stream",
     "text": [
      "Removed 10605 rows because they contain missing values\n"
     ]
    },
    {
     "name": "stderr",
     "output_type": "stream",
     "text": [
      "INFO:urbansim.utils.networks:    Fields available to aggregate = persons, node_id_walk, race_of_head\n"
     ]
    },
    {
     "name": "stdout",
     "output_type": "stream",
     "text": [
      "Computing pop_asian_2500_walk\n"
     ]
    },
    {
     "name": "stderr",
     "output_type": "stream",
     "text": [
      "INFO:urbansim.utils.networks:    Filters = ['race_of_head == 6']\n",
      "INFO:urbansim.utils.networks:    dataframe = households, varname=persons\n",
      "INFO:urbansim.utils.networks:    radius = 2500, aggregation = sum, decay = flat\n"
     ]
    },
    {
     "name": "stdout",
     "output_type": "stream",
     "text": [
      "Removed 51665 rows because they contain missing values\n"
     ]
    },
    {
     "name": "stderr",
     "output_type": "stream",
     "text": [
      "INFO:urbansim.utils.networks:    Fields available to aggregate = persons, node_id_walk, hispanic_head\n"
     ]
    },
    {
     "name": "stdout",
     "output_type": "stream",
     "text": [
      "Computing pop_hisp_2500_walk\n"
     ]
    },
    {
     "name": "stderr",
     "output_type": "stream",
     "text": [
      "INFO:urbansim.utils.networks:    Filters = [\"hispanic_head == 'yes'\"]\n",
      "INFO:urbansim.utils.networks:    dataframe = households, varname=persons\n",
      "INFO:urbansim.utils.networks:    radius = 2500, aggregation = sum, decay = flat\n"
     ]
    },
    {
     "name": "stdout",
     "output_type": "stream",
     "text": [
      "Removed 31878 rows because they contain missing values\n"
     ]
    },
    {
     "name": "stderr",
     "output_type": "stream",
     "text": [
      "INFO:orca.orca:finish: run step 'network_aggregations_walk'\n"
     ]
    },
    {
     "name": "stdout",
     "output_type": "stream",
     "text": [
      "       units_500_walk  sqft_unit_500_walk  singles_500_walk  \\\n",
      "count   415716.000000       415716.000000     415716.000000   \n",
      "mean       356.008972         1245.544556         89.887329   \n",
      "std       1097.037720          979.879944        323.945648   \n",
      "min          0.000000            0.000000          0.000000   \n",
      "25%          9.000000          458.249519          1.000000   \n",
      "50%        188.000000         1315.694275         28.000000   \n",
      "75%        440.000000         1761.837921         86.000000   \n",
      "max     184995.000000        30000.000000      45986.000000   \n",
      "\n",
      "       elderly_hh_500_walk  children_500_walk  units_sf_500_walk  \\\n",
      "count        415716.000000      415716.000000      415716.000000   \n",
      "mean             60.195038         161.779861         163.916275   \n",
      "std             240.503342         448.370270         704.597778   \n",
      "min               0.000000           0.000000           0.000000   \n",
      "25%               1.000000           4.000000           2.000000   \n",
      "50%              29.000000          97.000000          98.000000   \n",
      "75%              73.000000         233.000000         247.000000   \n",
      "max           41032.000000       81448.000000      136971.000000   \n",
      "\n",
      "       units_mf_500_walk   pop_500_walk    hh_500_walk  poor_500_walk  \\\n",
      "count      415716.000000  415716.000000  415716.000000  415716.000000   \n",
      "mean          165.668030     802.340454     315.202332      81.442619   \n",
      "std           469.333771    2292.176270     964.219971     291.422577   \n",
      "min             0.000000       0.000000       0.000000       0.000000   \n",
      "25%             0.000000      20.750000       7.000000       1.000000   \n",
      "50%             2.000000     458.000000     168.000000      27.000000   \n",
      "75%           159.000000    1082.000000     392.000000      83.000000   \n",
      "max         48024.000000  397670.000000  162582.000000   42787.000000   \n",
      "\n",
      "              ...          avg_rent_1500_walk  pop_white_1500_walk  \\\n",
      "count         ...               415716.000000        415716.000000   \n",
      "mean          ...                 2544.887939          4185.757324   \n",
      "std           ...                 1191.996460          6079.309082   \n",
      "min           ...                   -1.000000             0.000000   \n",
      "25%           ...                 2200.000000           895.000000   \n",
      "50%           ...                 2617.000000          3023.000000   \n",
      "75%           ...                 3200.000000          5636.000000   \n",
      "max           ...                 9800.000000        326129.000000   \n",
      "\n",
      "       pop_black_1500_walk  pop_asian_1500_walk  pop_hisp_1500_walk  \\\n",
      "count        415716.000000        415716.000000       415716.000000   \n",
      "mean            440.785187          2271.882568         1535.479004   \n",
      "std             980.706726          3078.791748         2156.729248   \n",
      "min               0.000000             0.000000            0.000000   \n",
      "25%              17.000000           296.000000          150.000000   \n",
      "50%             118.000000          1302.000000          840.000000   \n",
      "75%             390.000000          3095.000000         2076.000000   \n",
      "max           18039.000000         34932.000000        67438.000000   \n",
      "\n",
      "       pop_2500_walk  pop_white_2500_walk  pop_black_2500_walk  \\\n",
      "count  415716.000000        415716.000000        415716.000000   \n",
      "mean    22549.050781         11993.463867          1231.324829   \n",
      "std     24397.166016         13934.759766          2429.742676   \n",
      "min         0.000000             0.000000             0.000000   \n",
      "25%      7446.750000          3808.000000           113.000000   \n",
      "50%     17378.000000          9132.000000           430.000000   \n",
      "75%     30321.000000         16124.000000          1089.000000   \n",
      "max    406786.000000        334616.000000         21836.000000   \n",
      "\n",
      "       pop_asian_2500_walk  pop_hisp_2500_walk  \n",
      "count        415716.000000       415716.000000  \n",
      "mean           6494.532227         4404.454590  \n",
      "std            7756.704102         5093.802246  \n",
      "min               0.000000            0.000000  \n",
      "25%            1408.000000          768.000000  \n",
      "50%            4214.000000         2818.000000  \n",
      "75%            8783.250000         6145.000000  \n",
      "max           58877.000000        67835.000000  \n",
      "\n",
      "[8 rows x 43 columns]\n",
      "Time to execute step 'network_aggregations_walk': 289.84 s\n",
      "Total time to execute iteration 1 with iteration value None: 289.84 s\n"
     ]
    }
   ],
   "source": [
    "orca.run(['network_aggregations_walk'])"
   ]
  },
  {
   "cell_type": "code",
   "execution_count": 14,
   "metadata": {},
   "outputs": [],
   "source": [
    "nodeswalk = orca.get_table('nodeswalk').to_frame()"
   ]
  },
  {
   "cell_type": "code",
   "execution_count": 15,
   "metadata": {},
   "outputs": [],
   "source": [
    "nodeswalk.to_csv('data/nodeswalk_vars.csv')"
   ]
  },
  {
   "cell_type": "code",
   "execution_count": null,
   "metadata": {},
   "outputs": [],
   "source": [
    "orca.list_tables()"
   ]
  },
  {
   "cell_type": "code",
   "execution_count": null,
   "metadata": {},
   "outputs": [],
   "source": [
    "print(orca.get_table('nodesdrive').to_frame().columns.tolist())"
   ]
  },
  {
   "cell_type": "code",
   "execution_count": null,
   "metadata": {
    "scrolled": true
   },
   "outputs": [],
   "source": [
    "nodesdrive = orca.get_table('nodesdrive').to_frame()"
   ]
  },
  {
   "cell_type": "code",
   "execution_count": null,
   "metadata": {},
   "outputs": [],
   "source": [
    "nodessmall = orca.get_table('nodessmall').to_frame()"
   ]
  },
  {
   "cell_type": "code",
   "execution_count": null,
   "metadata": {},
   "outputs": [],
   "source": [
    "from scipy.stats import norm\n",
    "%matplotlib inline\n",
    "\n",
    "import matplotlib.pyplot as plt, matplotlib.cm as cm, matplotlib.font_manager as fm\n",
    "import matplotlib.mlab as mlab\n",
    "import seaborn as sns\n",
    "sns.set()"
   ]
  },
  {
   "cell_type": "code",
   "execution_count": null,
   "metadata": {
    "scrolled": true
   },
   "outputs": [],
   "source": [
    "plt.rcParams['figure.figsize']=8,8\n",
    "%matplotlib inline\n",
    "\n",
    "sns.set_style(\"white\")\n",
    "sns.set_style(\"ticks\")\n",
    "ax = sns.distplot(nodessmall.med_income_10000, bins=500,  fit=norm, kde=False)"
   ]
  },
  {
   "cell_type": "code",
   "execution_count": null,
   "metadata": {},
   "outputs": [],
   "source": [
    "print('{} nodes have median income zero or below'.format(len(nodessmall[nodessmall.med_income_10000 == -1])))\n",
    "\n",
    "print('Total nodes count {}'.format(len (nodessmall)))"
   ]
  },
  {
   "cell_type": "markdown",
   "metadata": {},
   "source": [
    "# Estimate a price model\n",
    "\n",
    "The basic idea of the parcel template is that we create model steps by _passing arguments to classes_ rather than by writing Python functions and giving them Orca decorators, as we would for a fully custom model.\n",
    "\n",
    "Much of the functionality for this is already built into UrbanSim and Orca, we'll just need to extend things here and there.\n",
    "\n",
    "This demo uses a new RegressionStep() class that provides a full model development workflow: estimating a model, registering it with Orca, saving it for future use."
   ]
  },
  {
   "cell_type": "markdown",
   "metadata": {},
   "source": [
    "### Specify parameters and pass them to a model object"
   ]
  },
  {
   "cell_type": "code",
   "execution_count": 35,
   "metadata": {
    "scrolled": true
   },
   "outputs": [
    {
     "name": "stdout",
     "output_type": "stream",
     "text": [
      "                                 OLS Regression Results                                 \n",
      "========================================================================================\n",
      "Dep. Variable:     np.log1p(res_price_per_sqft)   R-squared:                       0.311\n",
      "Model:                                      OLS   Adj. R-squared:                  0.311\n",
      "Method:                           Least Squares   F-statistic:                     4525.\n",
      "Date:                          Mon, 16 Jul 2018   Prob (F-statistic):               0.00\n",
      "Time:                                  22:54:48   Log-Likelihood:            -1.7544e+05\n",
      "No. Observations:                        160286   AIC:                         3.509e+05\n",
      "Df Residuals:                            160269   BIC:                         3.511e+05\n",
      "Df Model:                                    16                                         \n",
      "Covariance Type:                      nonrobust                                         \n",
      "===================================================================================================\n",
      "                                      coef    std err          t      P>|t|      [0.025      0.975]\n",
      "---------------------------------------------------------------------------------------------------\n",
      "Intercept                          11.4397      0.223     51.267      0.000      11.002      11.877\n",
      "year_built > 2010[T.True]           0.3541      0.016     22.374      0.000       0.323       0.385\n",
      "year_built                         -0.0057   9.45e-05    -59.897      0.000      -0.006      -0.005\n",
      "np.log(sqft_per_unit + 1)          -0.3225      0.006    -53.018      0.000      -0.334      -0.311\n",
      "np.log(sqft_unit_500_walk + 2)      0.6133      0.010     59.952      0.000       0.593       0.633\n",
      "np.log(units_500_walk + 1)         -1.3808      0.009   -148.413      0.000      -1.399      -1.363\n",
      "np.log(avg_income_500_walk + 1)     0.2063      0.009     21.907      0.000       0.188       0.225\n",
      "np.log(rich_500_walk + 1)           0.1787      0.005     33.776      0.000       0.168       0.189\n",
      "np.log(singles_500_walk + 1)        0.4444      0.005     91.987      0.000       0.435       0.454\n",
      "np.log(elderly_hh_500_walk + 1)     0.2742      0.005     56.888      0.000       0.265       0.284\n",
      "np.log(children_500_walk + 1)       0.4577      0.005     83.580      0.000       0.447       0.468\n",
      "np.log(jobs_500_walk + 1)           0.0170      0.002     10.209      0.000       0.014       0.020\n",
      "np.log(jobs_25000 + 1)              0.1181      0.002     48.119      0.000       0.113       0.123\n",
      "np.log(pop_2500_walk + 1)           0.2180      0.008     27.650      0.000       0.203       0.233\n",
      "np.log(pop_black_2500_walk + 1)    -0.0809      0.002    -43.211      0.000      -0.085      -0.077\n",
      "np.log(pop_hisp_2500_walk + 1)     -0.0948      0.004    -23.394      0.000      -0.103      -0.087\n",
      "np.log(pop_asian_2500_walk + 1)     0.0163      0.004      4.451      0.000       0.009       0.023\n",
      "==============================================================================\n",
      "Omnibus:                   125163.064   Durbin-Watson:                   1.455\n",
      "Prob(Omnibus):                  0.000   Jarque-Bera (JB):          3876803.403\n",
      "Skew:                          -3.536   Prob(JB):                         0.00\n",
      "Kurtosis:                      26.032   Cond. No.                     2.43e+05\n",
      "==============================================================================\n",
      "\n",
      "Warnings:\n",
      "[1] Standard Errors assume that the covariance matrix of the errors is correctly specified.\n",
      "[2] The condition number is large, 2.43e+05. This might indicate that there are\n",
      "strong multicollinearity or other numerical problems.\n"
     ]
    }
   ],
   "source": [
    "m = OLSRegressionStep()\n",
    "m.tables = ['buildings', 'parcels', 'nodeswalk', 'nodessmall']\n",
    "m.filters = 'redfin_sale_year > 2010 & residential_units == 1 & sqft_per_unit > 50'\n",
    "m.model_expression = 'np.log1p(res_price_per_sqft) ~ + year_built + year_built > 2010 + \\\n",
    "    np.log(sqft_per_unit+1) + np.log(sqft_unit_500_walk+2)  + np.log(units_500_walk+1) + \\\n",
    "    np.log(avg_income_500_walk+1) +\\\n",
    "    np.log(rich_500_walk + 1) + np.log(singles_500_walk + 1) + np.log(elderly_hh_500_walk + 1) + \\\n",
    "    np.log(children_500_walk + 1) + \\\n",
    "    np.log(jobs_500_walk + 1) + np.log(jobs_25000 + 1) + \\\n",
    "    np.log(pop_2500_walk+1) + np.log(pop_black_2500_walk+1) + np.log(pop_hisp_2500_walk+1) + \\\n",
    "    np.log(pop_asian_2500_walk+1)  '\n",
    "m.name = 'hedonic_price_sqft_single_family'\n",
    "m.tags = ['paul', 'version 1']\n",
    "m.fit()"
   ]
  },
  {
   "cell_type": "code",
   "execution_count": 37,
   "metadata": {},
   "outputs": [],
   "source": [
    "buildings = orca.get_table('buildings').to_frame()\n",
    "buildings['predicted_ln_price_sqft'] = 0.0\n",
    "orca.add_table('buildings', buildings)\n",
    "m.out_column = 'predicted_ln_price_sqft'\n",
    "m.run()"
   ]
  },
  {
   "cell_type": "code",
   "execution_count": 41,
   "metadata": {},
   "outputs": [],
   "source": [
    "buildings['predicted_price_sqft_sf'] = np.exp(buildings['predicted_ln_price_sqft']) - 1"
   ]
  },
  {
   "cell_type": "code",
   "execution_count": 42,
   "metadata": {},
   "outputs": [],
   "source": [
    "buildings['residuals_price_sqft_sf'] = buildings.predicted_price_sqft - buildings.res_price_per_sqft"
   ]
  },
  {
   "cell_type": "code",
   "execution_count": 43,
   "metadata": {
    "scrolled": true
   },
   "outputs": [
    {
     "data": {
      "text/html": [
       "<div>\n",
       "<style scoped>\n",
       "    .dataframe tbody tr th:only-of-type {\n",
       "        vertical-align: middle;\n",
       "    }\n",
       "\n",
       "    .dataframe tbody tr th {\n",
       "        vertical-align: top;\n",
       "    }\n",
       "\n",
       "    .dataframe thead th {\n",
       "        text-align: right;\n",
       "    }\n",
       "</style>\n",
       "<table border=\"1\" class=\"dataframe\">\n",
       "  <thead>\n",
       "    <tr style=\"text-align: right;\">\n",
       "      <th></th>\n",
       "      <th>res_price_per_sqft</th>\n",
       "      <th>predicted_price_sqft_sf</th>\n",
       "      <th>residuals_price_sqft_sf</th>\n",
       "    </tr>\n",
       "  </thead>\n",
       "  <tbody>\n",
       "    <tr>\n",
       "      <th>count</th>\n",
       "      <td>1.418200e+06</td>\n",
       "      <td>1.418200e+06</td>\n",
       "      <td>1.418200e+06</td>\n",
       "    </tr>\n",
       "    <tr>\n",
       "      <th>mean</th>\n",
       "      <td>2.984734e+02</td>\n",
       "      <td>2.632624e+02</td>\n",
       "      <td>-3.521100e+01</td>\n",
       "    </tr>\n",
       "    <tr>\n",
       "      <th>std</th>\n",
       "      <td>2.037363e+02</td>\n",
       "      <td>1.385219e+02</td>\n",
       "      <td>1.898188e+02</td>\n",
       "    </tr>\n",
       "    <tr>\n",
       "      <th>min</th>\n",
       "      <td>0.000000e+00</td>\n",
       "      <td>-6.306730e-01</td>\n",
       "      <td>-5.007211e+04</td>\n",
       "    </tr>\n",
       "    <tr>\n",
       "      <th>25%</th>\n",
       "      <td>1.720888e+02</td>\n",
       "      <td>1.757738e+02</td>\n",
       "      <td>-9.511069e+01</td>\n",
       "    </tr>\n",
       "    <tr>\n",
       "      <th>50%</th>\n",
       "      <td>2.633638e+02</td>\n",
       "      <td>2.388858e+02</td>\n",
       "      <td>-1.977555e+01</td>\n",
       "    </tr>\n",
       "    <tr>\n",
       "      <th>75%</th>\n",
       "      <td>3.712024e+02</td>\n",
       "      <td>3.210489e+02</td>\n",
       "      <td>4.591868e+01</td>\n",
       "    </tr>\n",
       "    <tr>\n",
       "      <th>max</th>\n",
       "      <td>5.016109e+04</td>\n",
       "      <td>1.302269e+04</td>\n",
       "      <td>1.302269e+04</td>\n",
       "    </tr>\n",
       "  </tbody>\n",
       "</table>\n",
       "</div>"
      ],
      "text/plain": [
       "       res_price_per_sqft  predicted_price_sqft_sf  residuals_price_sqft_sf\n",
       "count        1.418200e+06             1.418200e+06             1.418200e+06\n",
       "mean         2.984734e+02             2.632624e+02            -3.521100e+01\n",
       "std          2.037363e+02             1.385219e+02             1.898188e+02\n",
       "min          0.000000e+00            -6.306730e-01            -5.007211e+04\n",
       "25%          1.720888e+02             1.757738e+02            -9.511069e+01\n",
       "50%          2.633638e+02             2.388858e+02            -1.977555e+01\n",
       "75%          3.712024e+02             3.210489e+02             4.591868e+01\n",
       "max          5.016109e+04             1.302269e+04             1.302269e+04"
      ]
     },
     "execution_count": 43,
     "metadata": {},
     "output_type": "execute_result"
    }
   ],
   "source": [
    "buildings[['res_price_per_sqft','predicted_price_sqft_sf','residuals_price_sqft_sf']][buildings.residential_units == 1].describe()"
   ]
  },
  {
   "cell_type": "code",
   "execution_count": 44,
   "metadata": {
    "scrolled": true
   },
   "outputs": [
    {
     "data": {
      "image/png": "[encoded data removed]",
      "text/plain": [
       "<Figure size 576x576 with 1 Axes>"
      ]
     },
     "metadata": {},
     "output_type": "display_data"
    }
   ],
   "source": [
    "from scipy.stats import norm\n",
    "plt.rcParams['figure.figsize']=8,8\n",
    "#plot(residuals.mean(),0, residuals.mean(), 2.25)\n",
    "sns.set_style(\"white\")\n",
    "sns.set_style(\"ticks\")\n",
    "ax = sns.distplot(buildings.residuals_price_sqft_sf, fit=norm, kde=False)"
   ]
  },
  {
   "cell_type": "code",
   "execution_count": 52,
   "metadata": {
    "scrolled": true
   },
   "outputs": [
    {
     "name": "stdout",
     "output_type": "stream",
     "text": [
      "                                 OLS Regression Results                                 \n",
      "========================================================================================\n",
      "Dep. Variable:     np.log1p(res_price_per_sqft)   R-squared:                       0.357\n",
      "Model:                                      OLS   Adj. R-squared:                  0.357\n",
      "Method:                           Least Squares   F-statistic:                     1006.\n",
      "Date:                          Mon, 16 Jul 2018   Prob (F-statistic):               0.00\n",
      "Time:                                  23:10:06   Log-Likelihood:                -28648.\n",
      "No. Observations:                         29016   AIC:                         5.733e+04\n",
      "Df Residuals:                             28999   BIC:                         5.747e+04\n",
      "Df Model:                                    16                                         \n",
      "Covariance Type:                      nonrobust                                         \n",
      "===================================================================================================\n",
      "                                      coef    std err          t      P>|t|      [0.025      0.975]\n",
      "---------------------------------------------------------------------------------------------------\n",
      "Intercept                           8.2779      0.537     15.420      0.000       7.226       9.330\n",
      "year_built > 2010[T.True]           0.1800      0.023      7.713      0.000       0.134       0.226\n",
      "year_built                         -0.0032      0.000    -20.227      0.000      -0.004      -0.003\n",
      "np.log(sqft_per_unit + 1)          -0.5493      0.009    -63.881      0.000      -0.566      -0.532\n",
      "np.log(sqft_unit_500_walk + 2)      0.2958      0.018     16.531      0.000       0.261       0.331\n",
      "np.log(units_500_walk + 1)         -0.3432      0.025    -13.646      0.000      -0.393      -0.294\n",
      "np.log(avg_income_500_walk + 1)     0.2938      0.033      8.882      0.000       0.229       0.359\n",
      "np.log(rich_500_walk + 1)           0.0314      0.015      2.036      0.042       0.001       0.062\n",
      "np.log(singles_500_walk + 1)        0.0350      0.012      2.854      0.004       0.011       0.059\n",
      "np.log(elderly_hh_500_walk + 1)     0.2332      0.010     23.641      0.000       0.214       0.252\n",
      "np.log(children_500_walk + 1)      -0.0788      0.012     -6.770      0.000      -0.102      -0.056\n",
      "np.log(jobs_500_walk + 1)           0.0372      0.003     11.047      0.000       0.031       0.044\n",
      "np.log(jobs_25000 + 1)              0.0256      0.006      3.998      0.000       0.013       0.038\n",
      "np.log(pop_2500_walk + 1)           0.7256      0.018     39.554      0.000       0.690       0.762\n",
      "np.log(pop_black_2500_walk + 1)     0.0274      0.004      6.178      0.000       0.019       0.036\n",
      "np.log(pop_hisp_2500_walk + 1)     -0.4655      0.008    -55.400      0.000      -0.482      -0.449\n",
      "np.log(pop_asian_2500_walk + 1)    -0.1090      0.008    -12.858      0.000      -0.126      -0.092\n",
      "==============================================================================\n",
      "Omnibus:                     4756.888   Durbin-Watson:                   1.174\n",
      "Prob(Omnibus):                  0.000   Jarque-Bera (JB):            21244.528\n",
      "Skew:                          -0.742   Prob(JB):                         0.00\n",
      "Kurtosis:                       6.920   Cond. No.                     2.76e+05\n",
      "==============================================================================\n",
      "\n",
      "Warnings:\n",
      "[1] Standard Errors assume that the covariance matrix of the errors is correctly specified.\n",
      "[2] The condition number is large, 2.76e+05. This might indicate that there are\n",
      "strong multicollinearity or other numerical problems.\n"
     ]
    }
   ],
   "source": [
    "m2 = OLSRegressionStep()\n",
    "m2.tables = ['buildings', 'parcels', 'nodeswalk', 'nodessmall']\n",
    "m2.filters = 'redfin_sale_year > 2010 & residential_units > 1 & sqft_per_unit > 50 & res_price_per_sqft < 5000'\n",
    "m2.model_expression = 'np.log1p(res_price_per_sqft) ~ + year_built + year_built > 2010 +\\\n",
    "    np.log(sqft_per_unit+1) + np.log(sqft_unit_500_walk+2)  + np.log(units_500_walk+1) +\\\n",
    "    np.log(avg_income_500_walk+1) +\\\n",
    "    np.log(rich_500_walk + 1) + np.log(singles_500_walk + 1) + np.log(elderly_hh_500_walk + 1) + \\\n",
    "    np.log(children_500_walk + 1) + \\\n",
    "    np.log(jobs_500_walk + 1) + np.log(jobs_25000 + 1) + \\\n",
    "    np.log(pop_2500_walk+1) + np.log(pop_black_2500_walk+1) + np.log(pop_hisp_2500_walk+1) + \\\n",
    "    np.log(pop_asian_2500_walk+1) '\n",
    "m2.name = 'hedonic_price_sqft_multi_family'\n",
    "m2.tags = ['paul', 'version 1']\n",
    "m2.fit()"
   ]
  },
  {
   "cell_type": "code",
   "execution_count": 53,
   "metadata": {},
   "outputs": [],
   "source": [
    "buildings = orca.get_table('buildings').to_frame()\n",
    "buildings['predicted_ln_price_sqft_mf'] = 0.0\n",
    "orca.add_table('buildings', buildings)\n",
    "m2.out_column = 'predicted_ln_price_sqft_mf'\n",
    "m2.run()"
   ]
  },
  {
   "cell_type": "code",
   "execution_count": 54,
   "metadata": {},
   "outputs": [],
   "source": [
    "buildings['predicted_price_sqft_mf'] = np.exp(buildings['predicted_ln_price_sqft_mf']) - 1"
   ]
  },
  {
   "cell_type": "code",
   "execution_count": 55,
   "metadata": {},
   "outputs": [],
   "source": [
    "buildings['residuals_price_sqft_mf'] = buildings.predicted_price_sqft_mf - buildings.res_price_per_sqft"
   ]
  },
  {
   "cell_type": "code",
   "execution_count": 61,
   "metadata": {
    "scrolled": true
   },
   "outputs": [
    {
     "data": {
      "text/html": [
       "<div>\n",
       "<style scoped>\n",
       "    .dataframe tbody tr th:only-of-type {\n",
       "        vertical-align: middle;\n",
       "    }\n",
       "\n",
       "    .dataframe tbody tr th {\n",
       "        vertical-align: top;\n",
       "    }\n",
       "\n",
       "    .dataframe thead th {\n",
       "        text-align: right;\n",
       "    }\n",
       "</style>\n",
       "<table border=\"1\" class=\"dataframe\">\n",
       "  <thead>\n",
       "    <tr style=\"text-align: right;\">\n",
       "      <th></th>\n",
       "      <th>res_price_per_sqft</th>\n",
       "      <th>predicted_price_sqft_mf</th>\n",
       "      <th>residuals_price_sqft_mf</th>\n",
       "    </tr>\n",
       "  </thead>\n",
       "  <tbody>\n",
       "    <tr>\n",
       "      <th>count</th>\n",
       "      <td>297274.000000</td>\n",
       "      <td>297274.000000</td>\n",
       "      <td>297274.000000</td>\n",
       "    </tr>\n",
       "    <tr>\n",
       "      <th>mean</th>\n",
       "      <td>372.355890</td>\n",
       "      <td>290.421967</td>\n",
       "      <td>-81.933923</td>\n",
       "    </tr>\n",
       "    <tr>\n",
       "      <th>std</th>\n",
       "      <td>440.821092</td>\n",
       "      <td>157.799026</td>\n",
       "      <td>380.984332</td>\n",
       "    </tr>\n",
       "    <tr>\n",
       "      <th>min</th>\n",
       "      <td>0.000000</td>\n",
       "      <td>0.001653</td>\n",
       "      <td>-25965.837989</td>\n",
       "    </tr>\n",
       "    <tr>\n",
       "      <th>25%</th>\n",
       "      <td>168.864792</td>\n",
       "      <td>187.380096</td>\n",
       "      <td>-140.137816</td>\n",
       "    </tr>\n",
       "    <tr>\n",
       "      <th>50%</th>\n",
       "      <td>276.573207</td>\n",
       "      <td>251.875884</td>\n",
       "      <td>-27.423936</td>\n",
       "    </tr>\n",
       "    <tr>\n",
       "      <th>75%</th>\n",
       "      <td>443.358982</td>\n",
       "      <td>354.108242</td>\n",
       "      <td>62.440213</td>\n",
       "    </tr>\n",
       "    <tr>\n",
       "      <th>max</th>\n",
       "      <td>26233.219136</td>\n",
       "      <td>4139.747790</td>\n",
       "      <td>3597.754421</td>\n",
       "    </tr>\n",
       "  </tbody>\n",
       "</table>\n",
       "</div>"
      ],
      "text/plain": [
       "       res_price_per_sqft  predicted_price_sqft_mf  residuals_price_sqft_mf\n",
       "count       297274.000000            297274.000000            297274.000000\n",
       "mean           372.355890               290.421967               -81.933923\n",
       "std            440.821092               157.799026               380.984332\n",
       "min              0.000000                 0.001653            -25965.837989\n",
       "25%            168.864792               187.380096              -140.137816\n",
       "50%            276.573207               251.875884               -27.423936\n",
       "75%            443.358982               354.108242                62.440213\n",
       "max          26233.219136              4139.747790              3597.754421"
      ]
     },
     "execution_count": 61,
     "metadata": {},
     "output_type": "execute_result"
    }
   ],
   "source": [
    "buildings[['res_price_per_sqft','predicted_price_sqft_mf','residuals_price_sqft_mf']][buildings.residential_units > 1].describe()"
   ]
  },
  {
   "cell_type": "code",
   "execution_count": 57,
   "metadata": {
    "scrolled": false
   },
   "outputs": [
    {
     "data": {
      "image/png": "[encoded data removed]",
      "text/plain": [
       "<Figure size 576x576 with 1 Axes>"
      ]
     },
     "metadata": {},
     "output_type": "display_data"
    }
   ],
   "source": [
    "from scipy.stats import norm\n",
    "plt.rcParams['figure.figsize']=8,8\n",
    "#plot(residuals.mean(),0, residuals.mean(), 2.25)\n",
    "sns.set_style(\"white\")\n",
    "sns.set_style(\"ticks\")\n",
    "ax = sns.distplot(buildings.residuals_price_sqft_mf, fit=norm, kde=False)"
   ]
  },
  {
   "cell_type": "code",
   "execution_count": null,
   "metadata": {},
   "outputs": [],
   "source": []
  },
  {
   "cell_type": "code",
   "execution_count": null,
   "metadata": {},
   "outputs": [],
   "source": []
  },
  {
   "cell_type": "code",
   "execution_count": null,
   "metadata": {},
   "outputs": [],
   "source": []
  },
  {
   "cell_type": "code",
   "execution_count": null,
   "metadata": {},
   "outputs": [],
   "source": []
  },
  {
   "cell_type": "code",
   "execution_count": null,
   "metadata": {},
   "outputs": [],
   "source": []
  },
  {
   "cell_type": "code",
   "execution_count": null,
   "metadata": {},
   "outputs": [],
   "source": []
  },
  {
   "cell_type": "code",
   "execution_count": null,
   "metadata": {},
   "outputs": [],
   "source": []
  },
  {
   "cell_type": "code",
   "execution_count": 23,
   "metadata": {},
   "outputs": [
    {
     "name": "stdout",
     "output_type": "stream",
     "text": [
      "                                 OLS Regression Results                                 \n",
      "========================================================================================\n",
      "Dep. Variable:     np.log1p(res_price_per_sqft)   R-squared:                       0.424\n",
      "Model:                                      OLS   Adj. R-squared:                  0.424\n",
      "Method:                           Least Squares   F-statistic:                     5413.\n",
      "Date:                          Mon, 16 Jul 2018   Prob (F-statistic):               0.00\n",
      "Time:                                  22:42:19   Log-Likelihood:            -2.2577e+05\n",
      "No. Observations:                        191518   AIC:                         4.516e+05\n",
      "Df Residuals:                            191491   BIC:                         4.519e+05\n",
      "Df Model:                                    26                                         \n",
      "Covariance Type:                      nonrobust                                         \n",
      "===================================================================================================\n",
      "                                      coef    std err          t      P>|t|      [0.025      0.975]\n",
      "---------------------------------------------------------------------------------------------------\n",
      "Intercept                           6.3508      0.201     31.551      0.000       5.956       6.745\n",
      "C(building_type_id)[T.1.0]          5.2074      0.080     65.465      0.000       5.052       5.363\n",
      "C(building_type_id)[T.3.0]          5.3431      0.080     66.993      0.000       5.187       5.499\n",
      "C(building_type_id)[T.4.0]         -0.1210      0.114     -1.065      0.287      -0.344       0.102\n",
      "C(building_type_id)[T.5.0]         -0.3355      0.182     -1.840      0.066      -0.693       0.022\n",
      "C(building_type_id)[T.6.0]         -0.2538      0.250     -1.015      0.310      -0.744       0.236\n",
      "C(building_type_id)[T.7.0]          0.0227      0.189      0.120      0.905      -0.348       0.394\n",
      "C(building_type_id)[T.8.0]         -0.1475      0.182     -0.809      0.419      -0.505       0.210\n",
      "C(building_type_id)[T.10.0]        -0.0166      0.116     -0.144      0.885      -0.243       0.210\n",
      "C(building_type_id)[T.12.0]         4.8792      0.089     54.773      0.000       4.705       5.054\n",
      "C(building_type_id)[T.16.0]         1.8514      0.081     22.865      0.000       1.693       2.010\n",
      "year_built                         -0.0043   8.65e-05    -49.339      0.000      -0.004      -0.004\n",
      "np.log(sqft_per_unit + 1)          -0.3818      0.005    -69.435      0.000      -0.393      -0.371\n",
      "np.log(sqft_unit_500_walk + 2)      0.5169      0.010     53.841      0.000       0.498       0.536\n",
      "np.log(units_500_walk + 1)         -1.2038      0.009   -130.856      0.000      -1.222      -1.186\n",
      "np.log(rich_500_walk + 1)           0.2494      0.004     65.024      0.000       0.242       0.257\n",
      "np.log(singles_500_walk + 1)        0.3567      0.005     74.927      0.000       0.347       0.366\n",
      "np.log(elderly_hh_500_walk + 1)     0.2345      0.005     49.262      0.000       0.225       0.244\n",
      "np.log(children_500_walk + 1)       0.3324      0.005     62.582      0.000       0.322       0.343\n",
      "np.log(jobs_500_walk + 1)           0.0167      0.002      9.337      0.000       0.013       0.020\n",
      "np.log(jobs_1500_walk + 1)          0.0035      0.002      1.491      0.136      -0.001       0.008\n",
      "np.log(jobs_10000 + 1)             -0.0484      0.003    -16.132      0.000      -0.054      -0.042\n",
      "np.log(jobs_25000 + 1)              0.1703      0.004     47.914      0.000       0.163       0.177\n",
      "np.log(pop_2500_walk + 1)           0.3351      0.008     42.459      0.000       0.320       0.351\n",
      "np.log(pop_black_2500_walk + 1)    -0.0543      0.002    -28.897      0.000      -0.058      -0.051\n",
      "np.log(pop_hisp_2500_walk + 1)     -0.1839      0.004    -46.794      0.000      -0.192      -0.176\n",
      "np.log(pop_asian_2500_walk + 1)    -0.0113      0.004     -3.103      0.002      -0.018      -0.004\n",
      "==============================================================================\n",
      "Omnibus:                   107377.172   Durbin-Watson:                   1.447\n",
      "Prob(Omnibus):                  0.000   Jarque-Bera (JB):          2529427.301\n",
      "Skew:                          -2.233   Prob(JB):                         0.00\n",
      "Kurtosis:                      20.235   Cond. No.                     3.33e+05\n",
      "==============================================================================\n",
      "\n",
      "Warnings:\n",
      "[1] Standard Errors assume that the covariance matrix of the errors is correctly specified.\n",
      "[2] The condition number is large, 3.33e+05. This might indicate that there are\n",
      "strong multicollinearity or other numerical problems.\n"
     ]
    }
   ],
   "source": [
    "m3 = OLSRegressionStep()\n",
    "m3.tables = ['buildings', 'parcels', 'nodeswalk', 'nodessmall']\n",
    "m3.filters = 'redfin_sale_year > 2010 & sqft_per_unit > 50'\n",
    "m3.model_expression = 'np.log1p(res_price_per_sqft) ~ + year_built + C(building_type_id) + \\\n",
    "    np.log(sqft_per_unit+1) + np.log(sqft_unit_500_walk+2)  + np.log(units_500_walk+1) + \\\n",
    "    np.log(rich_500_walk + 1) + np.log(singles_500_walk + 1) + np.log(elderly_hh_500_walk + 1) + \\\n",
    "    np.log(children_500_walk + 1) + \\\n",
    "    np.log(jobs_500_walk + 1) + np.log(jobs_1500_walk+1) + np.log(jobs_10000+1) + np.log(jobs_25000 + 1) + \\\n",
    "    np.log(pop_2500_walk+1) + np.log(pop_black_2500_walk+1) + np.log(pop_hisp_2500_walk+1) + \\\n",
    "    np.log(pop_asian_2500_walk+1) '\n",
    "m3.name = 'hedonic_price_sqft_multi_family'\n",
    "m3.tags = ['paul', 'version 1']\n",
    "m3.fit()"
   ]
  },
  {
   "cell_type": "code",
   "execution_count": null,
   "metadata": {},
   "outputs": [],
   "source": [
    "#    np.log(pop_10000+1) + np.log(pop_black_10000+1) + np.log(pop_hisp_10000+1) + \\\n",
    "#    np.log(pop_asian_10000+1) "
   ]
  },
  {
   "cell_type": "markdown",
   "metadata": {},
   "source": [
    "### If we like it, register it as an Orca step"
   ]
  },
  {
   "cell_type": "code",
   "execution_count": null,
   "metadata": {},
   "outputs": [],
   "source": [
    "model.register()"
   ]
  },
  {
   "cell_type": "code",
   "execution_count": null,
   "metadata": {},
   "outputs": [],
   "source": [
    "orca.list_steps()"
   ]
  },
  {
   "cell_type": "code",
   "execution_count": null,
   "metadata": {},
   "outputs": [],
   "source": []
  },
  {
   "cell_type": "markdown",
   "metadata": {},
   "source": [
    "### Run the Orca step"
   ]
  },
  {
   "cell_type": "code",
   "execution_count": null,
   "metadata": {},
   "outputs": [],
   "source": [
    "orca.run(['RegressionStep-20180214-210159'])"
   ]
  },
  {
   "cell_type": "code",
   "execution_count": null,
   "metadata": {},
   "outputs": [],
   "source": []
  },
  {
   "cell_type": "markdown",
   "metadata": {},
   "source": [
    "### Check the fitted values"
   ]
  },
  {
   "cell_type": "code",
   "execution_count": null,
   "metadata": {},
   "outputs": [],
   "source": [
    "df = orca.get_table('buildings').to_frame(['res_price_per_sqft', 'fitted_price'])\n",
    "df.loc[df.fitted_price > 0].describe()"
   ]
  },
  {
   "cell_type": "code",
   "execution_count": null,
   "metadata": {},
   "outputs": [],
   "source": []
  },
  {
   "cell_type": "markdown",
   "metadata": {},
   "source": [
    "### BONUS\n",
    "\n",
    "Running \"model.register()\" also registered the step with the new ModelManager extention, which saves it to disk so that it can be automatically re-loaded in the future.\n",
    "\n",
    "The \"test\" model steps here were estimated earlier and loaded from disk. They're fully functional: we can run them in Orca, inspect the estimation results, etc."
   ]
  },
  {
   "cell_type": "code",
   "execution_count": null,
   "metadata": {},
   "outputs": [],
   "source": [
    "mm.list_steps()"
   ]
  },
  {
   "cell_type": "code",
   "execution_count": null,
   "metadata": {},
   "outputs": [],
   "source": [
    "rs = mm.get_step('test-1')\n",
    "type(rs)"
   ]
  },
  {
   "cell_type": "code",
   "execution_count": null,
   "metadata": {},
   "outputs": [],
   "source": [
    "rs.model_expression"
   ]
  },
  {
   "cell_type": "code",
   "execution_count": null,
   "metadata": {},
   "outputs": [],
   "source": [
    "rs.model.report_fit()"
   ]
  },
  {
   "cell_type": "code",
   "execution_count": null,
   "metadata": {},
   "outputs": [],
   "source": []
  },
  {
   "cell_type": "code",
   "execution_count": null,
   "metadata": {},
   "outputs": [],
   "source": []
  },
  {
   "cell_type": "code",
   "execution_count": null,
   "metadata": {},
   "outputs": [],
   "source": []
  },
  {
   "cell_type": "code",
   "execution_count": null,
   "metadata": {},
   "outputs": [],
   "source": []
  },
  {
   "cell_type": "code",
   "execution_count": null,
   "metadata": {},
   "outputs": [],
   "source": []
  },
  {
   "cell_type": "code",
   "execution_count": null,
   "metadata": {},
   "outputs": [],
   "source": []
  }
 ],
 "metadata": {
  "kernelspec": {
   "display_name": "Python 3",
   "language": "python",
   "name": "python3"
  },
  "language_info": {
   "codemirror_mode": {
    "name": "ipython",
    "version": 3
   },
   "file_extension": ".py",
   "mimetype": "text/x-python",
   "name": "python",
   "nbconvert_exporter": "python",
   "pygments_lexer": "ipython3",
   "version": "3.6.5"
  }
 },
 "nbformat": 4,
 "nbformat_minor": 2
}
