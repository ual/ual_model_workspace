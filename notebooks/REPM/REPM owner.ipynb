{
 "cells": [
  {
   "cell_type": "markdown",
   "metadata": {},
   "source": [
    "# Real estate price model workflow\n",
    "\n",
    "Sam Maurer, Feb 2018; Paul Waddell, June 2018\n",
    "\n",
    "Python 3.6, intended to be backward compatible with 2.7"
   ]
  },
  {
   "cell_type": "code",
   "execution_count": 1,
   "metadata": {},
   "outputs": [],
   "source": [
    "from __future__ import print_function\n",
    "import warnings;warnings.simplefilter('ignore')\n",
    "\n",
    "import numpy as np\n",
    "import pandas as pd"
   ]
  },
  {
   "cell_type": "code",
   "execution_count": 2,
   "metadata": {},
   "outputs": [],
   "source": [
    "# Standard to run UrbanSim from the root level of the project directory\n",
    "\n",
    "import os; os.chdir('../..')"
   ]
  },
  {
   "cell_type": "code",
   "execution_count": 3,
   "metadata": {},
   "outputs": [
    {
     "name": "stderr",
     "output_type": "stream",
     "text": [
      "/Users/Paul/anaconda3/envs/ual-model/lib/python3.6/site-packages/statsmodels/compat/pandas.py:56: FutureWarning: The pandas.core.datetools module is deprecated and will be removed in a future version. Please use the pandas.tseries module instead.\n",
      "  from pandas.core import datetools\n"
     ]
    }
   ],
   "source": [
    "from urbansim_templates import modelmanager as mm\n",
    "from urbansim_templates.models import OLSRegressionStep\n",
    "import orca"
   ]
  },
  {
   "cell_type": "code",
   "execution_count": 4,
   "metadata": {},
   "outputs": [],
   "source": [
    "# Load any script-based Orca registrations\n",
    "from scripts import datasources\n",
    "from scripts import models"
   ]
  },
  {
   "cell_type": "markdown",
   "metadata": {},
   "source": [
    "## Explore the Orca registrations"
   ]
  },
  {
   "cell_type": "code",
   "execution_count": 5,
   "metadata": {},
   "outputs": [
    {
     "data": {
      "text/plain": [
       "['parcels', 'buildings', 'rentals', 'units', 'households', 'persons', 'jobs']"
      ]
     },
     "execution_count": 5,
     "metadata": {},
     "output_type": "execute_result"
    }
   ],
   "source": [
    "orca.list_tables()"
   ]
  },
  {
   "cell_type": "code",
   "execution_count": null,
   "metadata": {},
   "outputs": [],
   "source": [
    "for table_name in orca.list_tables():\n",
    "    print(table_name.upper())\n",
    "    print(orca.get_table(table_name).to_frame().columns.tolist())\n",
    "    print()"
   ]
  },
  {
   "cell_type": "code",
   "execution_count": 6,
   "metadata": {},
   "outputs": [
    {
     "data": {
      "text/plain": [
       "[('parcels', 'buildings'),\n",
       " ('buildings', 'units'),\n",
       " ('units', 'households'),\n",
       " ('households', 'persons')]"
      ]
     },
     "execution_count": 6,
     "metadata": {},
     "output_type": "execute_result"
    }
   ],
   "source": [
    "orca.list_broadcasts()"
   ]
  },
  {
   "cell_type": "code",
   "execution_count": 7,
   "metadata": {},
   "outputs": [
    {
     "data": {
      "text/plain": [
       "['large-mnl-test',\n",
       " 'model_one',\n",
       " 'model_two',\n",
       " 'ols-test',\n",
       " 'small-mnl-test',\n",
       " 'test_manual_registration',\n",
       " 'initialize_network',\n",
       " 'network_aggregations']"
      ]
     },
     "execution_count": 7,
     "metadata": {},
     "output_type": "execute_result"
    }
   ],
   "source": [
    "orca.list_steps()"
   ]
  },
  {
   "cell_type": "code",
   "execution_count": null,
   "metadata": {},
   "outputs": [],
   "source": []
  },
  {
   "cell_type": "markdown",
   "metadata": {},
   "source": [
    "## Explore the data\n",
    "\n",
    "Orca doesn't execute code to load the registered objects until it needs to."
   ]
  },
  {
   "cell_type": "code",
   "execution_count": 8,
   "metadata": {},
   "outputs": [
    {
     "data": {
      "text/html": [
       "<div>\n",
       "<style scoped>\n",
       "    .dataframe tbody tr th:only-of-type {\n",
       "        vertical-align: middle;\n",
       "    }\n",
       "\n",
       "    .dataframe tbody tr th {\n",
       "        vertical-align: top;\n",
       "    }\n",
       "\n",
       "    .dataframe thead th {\n",
       "        text-align: right;\n",
       "    }\n",
       "</style>\n",
       "<table border=\"1\" class=\"dataframe\">\n",
       "  <thead>\n",
       "    <tr style=\"text-align: right;\">\n",
       "      <th></th>\n",
       "      <th>primary_id</th>\n",
       "      <th>development_type_id</th>\n",
       "      <th>land_value</th>\n",
       "      <th>acres</th>\n",
       "      <th>county_id</th>\n",
       "      <th>zone_id</th>\n",
       "      <th>proportion_undevelopable</th>\n",
       "      <th>tax_exempt_status</th>\n",
       "      <th>geom_id</th>\n",
       "      <th>x</th>\n",
       "      <th>y</th>\n",
       "      <th>shape_area</th>\n",
       "      <th>block_id</th>\n",
       "      <th>node_id</th>\n",
       "    </tr>\n",
       "  </thead>\n",
       "  <tbody>\n",
       "    <tr>\n",
       "      <th>count</th>\n",
       "      <td>1.956207e+06</td>\n",
       "      <td>1.956207e+06</td>\n",
       "      <td>1.956207e+06</td>\n",
       "      <td>1.956207e+06</td>\n",
       "      <td>1.956207e+06</td>\n",
       "      <td>1.956207e+06</td>\n",
       "      <td>1.956207e+06</td>\n",
       "      <td>1.956207e+06</td>\n",
       "      <td>1.956207e+06</td>\n",
       "      <td>1.956207e+06</td>\n",
       "      <td>1.956207e+06</td>\n",
       "      <td>1.956207e+06</td>\n",
       "      <td>1.956207e+06</td>\n",
       "      <td>1.956207e+06</td>\n",
       "    </tr>\n",
       "    <tr>\n",
       "      <th>mean</th>\n",
       "      <td>1.018502e+06</td>\n",
       "      <td>2.607759e+00</td>\n",
       "      <td>2.348019e+05</td>\n",
       "      <td>2.294288e+00</td>\n",
       "      <td>5.393547e+01</td>\n",
       "      <td>8.293200e+02</td>\n",
       "      <td>1.633774e-03</td>\n",
       "      <td>1.256104e-02</td>\n",
       "      <td>8.795114e+12</td>\n",
       "      <td>-1.221763e+02</td>\n",
       "      <td>3.777351e+01</td>\n",
       "      <td>9.284664e+03</td>\n",
       "      <td>6.054294e+13</td>\n",
       "      <td>3.821563e+08</td>\n",
       "    </tr>\n",
       "    <tr>\n",
       "      <th>std</th>\n",
       "      <td>5.972833e+05</td>\n",
       "      <td>5.310605e+00</td>\n",
       "      <td>1.610710e+06</td>\n",
       "      <td>3.612166e+01</td>\n",
       "      <td>3.808734e+01</td>\n",
       "      <td>4.129778e+02</td>\n",
       "      <td>4.038695e-02</td>\n",
       "      <td>1.113700e-01</td>\n",
       "      <td>5.076215e+12</td>\n",
       "      <td>2.991972e-01</td>\n",
       "      <td>3.621875e-01</td>\n",
       "      <td>1.461793e+05</td>\n",
       "      <td>3.807600e+11</td>\n",
       "      <td>9.490913e+08</td>\n",
       "    </tr>\n",
       "    <tr>\n",
       "      <th>min</th>\n",
       "      <td>1.000000e+00</td>\n",
       "      <td>-1.000000e+00</td>\n",
       "      <td>0.000000e+00</td>\n",
       "      <td>4.527090e-07</td>\n",
       "      <td>1.000000e+00</td>\n",
       "      <td>1.000000e+00</td>\n",
       "      <td>0.000000e+00</td>\n",
       "      <td>0.000000e+00</td>\n",
       "      <td>1.706688e+07</td>\n",
       "      <td>-1.235266e+02</td>\n",
       "      <td>3.689751e+01</td>\n",
       "      <td>1.832050e-03</td>\n",
       "      <td>6.001400e+13</td>\n",
       "      <td>3.028780e+05</td>\n",
       "    </tr>\n",
       "    <tr>\n",
       "      <th>25%</th>\n",
       "      <td>4.999735e+05</td>\n",
       "      <td>1.000000e+00</td>\n",
       "      <td>3.995700e+04</td>\n",
       "      <td>1.084042e-01</td>\n",
       "      <td>1.300000e+01</td>\n",
       "      <td>4.920000e+02</td>\n",
       "      <td>0.000000e+00</td>\n",
       "      <td>0.000000e+00</td>\n",
       "      <td>4.405538e+12</td>\n",
       "      <td>-1.224059e+02</td>\n",
       "      <td>3.748103e+01</td>\n",
       "      <td>4.386967e+02</td>\n",
       "      <td>6.013321e+13</td>\n",
       "      <td>5.615974e+07</td>\n",
       "    </tr>\n",
       "    <tr>\n",
       "      <th>50%</th>\n",
       "      <td>1.005872e+06</td>\n",
       "      <td>1.000000e+00</td>\n",
       "      <td>1.008000e+05</td>\n",
       "      <td>1.489650e-01</td>\n",
       "      <td>7.500000e+01</td>\n",
       "      <td>8.440000e+02</td>\n",
       "      <td>0.000000e+00</td>\n",
       "      <td>0.000000e+00</td>\n",
       "      <td>8.793873e+12</td>\n",
       "      <td>-1.221419e+02</td>\n",
       "      <td>3.775390e+01</td>\n",
       "      <td>6.028407e+02</td>\n",
       "      <td>6.075033e+13</td>\n",
       "      <td>6.535137e+07</td>\n",
       "    </tr>\n",
       "    <tr>\n",
       "      <th>75%</th>\n",
       "      <td>1.544652e+06</td>\n",
       "      <td>1.000000e+00</td>\n",
       "      <td>2.254345e+05</td>\n",
       "      <td>2.294452e-01</td>\n",
       "      <td>8.500000e+01</td>\n",
       "      <td>1.189000e+03</td>\n",
       "      <td>0.000000e+00</td>\n",
       "      <td>0.000000e+00</td>\n",
       "      <td>1.318756e+13</td>\n",
       "      <td>-1.219512e+02</td>\n",
       "      <td>3.798583e+01</td>\n",
       "      <td>9.285328e+02</td>\n",
       "      <td>6.085508e+13</td>\n",
       "      <td>6.562580e+07</td>\n",
       "    </tr>\n",
       "    <tr>\n",
       "      <th>max</th>\n",
       "      <td>2.054502e+06</td>\n",
       "      <td>2.500000e+01</td>\n",
       "      <td>1.393464e+09</td>\n",
       "      <td>2.335199e+04</td>\n",
       "      <td>9.700000e+01</td>\n",
       "      <td>1.454000e+03</td>\n",
       "      <td>1.000000e+00</td>\n",
       "      <td>1.000000e+00</td>\n",
       "      <td>1.759217e+13</td>\n",
       "      <td>-1.212109e+02</td>\n",
       "      <td>3.886017e+01</td>\n",
       "      <td>9.450224e+07</td>\n",
       "      <td>6.113012e+13</td>\n",
       "      <td>5.458527e+09</td>\n",
       "    </tr>\n",
       "  </tbody>\n",
       "</table>\n",
       "</div>"
      ],
      "text/plain": [
       "         primary_id  development_type_id    land_value         acres  \\\n",
       "count  1.956207e+06         1.956207e+06  1.956207e+06  1.956207e+06   \n",
       "mean   1.018502e+06         2.607759e+00  2.348019e+05  2.294288e+00   \n",
       "std    5.972833e+05         5.310605e+00  1.610710e+06  3.612166e+01   \n",
       "min    1.000000e+00        -1.000000e+00  0.000000e+00  4.527090e-07   \n",
       "25%    4.999735e+05         1.000000e+00  3.995700e+04  1.084042e-01   \n",
       "50%    1.005872e+06         1.000000e+00  1.008000e+05  1.489650e-01   \n",
       "75%    1.544652e+06         1.000000e+00  2.254345e+05  2.294452e-01   \n",
       "max    2.054502e+06         2.500000e+01  1.393464e+09  2.335199e+04   \n",
       "\n",
       "          county_id       zone_id  proportion_undevelopable  \\\n",
       "count  1.956207e+06  1.956207e+06              1.956207e+06   \n",
       "mean   5.393547e+01  8.293200e+02              1.633774e-03   \n",
       "std    3.808734e+01  4.129778e+02              4.038695e-02   \n",
       "min    1.000000e+00  1.000000e+00              0.000000e+00   \n",
       "25%    1.300000e+01  4.920000e+02              0.000000e+00   \n",
       "50%    7.500000e+01  8.440000e+02              0.000000e+00   \n",
       "75%    8.500000e+01  1.189000e+03              0.000000e+00   \n",
       "max    9.700000e+01  1.454000e+03              1.000000e+00   \n",
       "\n",
       "       tax_exempt_status       geom_id             x             y  \\\n",
       "count       1.956207e+06  1.956207e+06  1.956207e+06  1.956207e+06   \n",
       "mean        1.256104e-02  8.795114e+12 -1.221763e+02  3.777351e+01   \n",
       "std         1.113700e-01  5.076215e+12  2.991972e-01  3.621875e-01   \n",
       "min         0.000000e+00  1.706688e+07 -1.235266e+02  3.689751e+01   \n",
       "25%         0.000000e+00  4.405538e+12 -1.224059e+02  3.748103e+01   \n",
       "50%         0.000000e+00  8.793873e+12 -1.221419e+02  3.775390e+01   \n",
       "75%         0.000000e+00  1.318756e+13 -1.219512e+02  3.798583e+01   \n",
       "max         1.000000e+00  1.759217e+13 -1.212109e+02  3.886017e+01   \n",
       "\n",
       "         shape_area      block_id       node_id  \n",
       "count  1.956207e+06  1.956207e+06  1.956207e+06  \n",
       "mean   9.284664e+03  6.054294e+13  3.821563e+08  \n",
       "std    1.461793e+05  3.807600e+11  9.490913e+08  \n",
       "min    1.832050e-03  6.001400e+13  3.028780e+05  \n",
       "25%    4.386967e+02  6.013321e+13  5.615974e+07  \n",
       "50%    6.028407e+02  6.075033e+13  6.535137e+07  \n",
       "75%    9.285328e+02  6.085508e+13  6.562580e+07  \n",
       "max    9.450224e+07  6.113012e+13  5.458527e+09  "
      ]
     },
     "execution_count": 8,
     "metadata": {},
     "output_type": "execute_result"
    }
   ],
   "source": [
    "orca.get_table('parcels').to_frame().describe()"
   ]
  },
  {
   "cell_type": "code",
   "execution_count": 9,
   "metadata": {},
   "outputs": [
    {
     "data": {
      "text/html": [
       "<div>\n",
       "<style scoped>\n",
       "    .dataframe tbody tr th:only-of-type {\n",
       "        vertical-align: middle;\n",
       "    }\n",
       "\n",
       "    .dataframe tbody tr th {\n",
       "        vertical-align: top;\n",
       "    }\n",
       "\n",
       "    .dataframe thead th {\n",
       "        text-align: right;\n",
       "    }\n",
       "</style>\n",
       "<table border=\"1\" class=\"dataframe\">\n",
       "  <thead>\n",
       "    <tr style=\"text-align: right;\">\n",
       "      <th></th>\n",
       "      <th>building_id</th>\n",
       "      <th>parcel_id</th>\n",
       "      <th>development_type_id</th>\n",
       "      <th>improvement_value</th>\n",
       "      <th>residential_units</th>\n",
       "      <th>residential_sqft</th>\n",
       "      <th>sqft_per_unit</th>\n",
       "      <th>non_residential_sqft</th>\n",
       "      <th>building_sqft</th>\n",
       "      <th>nonres_rent_per_sqft</th>\n",
       "      <th>res_price_per_sqft</th>\n",
       "      <th>stories</th>\n",
       "      <th>year_built</th>\n",
       "      <th>redfin_sale_price</th>\n",
       "      <th>redfin_sale_year</th>\n",
       "      <th>building_type_id</th>\n",
       "    </tr>\n",
       "  </thead>\n",
       "  <tbody>\n",
       "    <tr>\n",
       "      <th>count</th>\n",
       "      <td>1.824229e+06</td>\n",
       "      <td>1.824229e+06</td>\n",
       "      <td>1.824229e+06</td>\n",
       "      <td>1.824229e+06</td>\n",
       "      <td>1.824229e+06</td>\n",
       "      <td>1.824229e+06</td>\n",
       "      <td>1.824229e+06</td>\n",
       "      <td>1.824229e+06</td>\n",
       "      <td>1.824229e+06</td>\n",
       "      <td>1.824229e+06</td>\n",
       "      <td>1.824229e+06</td>\n",
       "      <td>1.824229e+06</td>\n",
       "      <td>1.824229e+06</td>\n",
       "      <td>1.081100e+06</td>\n",
       "      <td>1.081100e+06</td>\n",
       "      <td>1.824229e+06</td>\n",
       "    </tr>\n",
       "    <tr>\n",
       "      <th>mean</th>\n",
       "      <td>9.223790e+05</td>\n",
       "      <td>1.012861e+06</td>\n",
       "      <td>1.835162e+00</td>\n",
       "      <td>3.186878e+05</td>\n",
       "      <td>1.534000e+00</td>\n",
       "      <td>2.657113e+03</td>\n",
       "      <td>1.669294e+03</td>\n",
       "      <td>1.280864e+03</td>\n",
       "      <td>3.784462e+03</td>\n",
       "      <td>9.218572e-01</td>\n",
       "      <td>2.927191e+02</td>\n",
       "      <td>1.214429e+00</td>\n",
       "      <td>1.965524e+03</td>\n",
       "      <td>5.287307e+05</td>\n",
       "      <td>2.002828e+03</td>\n",
       "      <td>1.710299e+00</td>\n",
       "    </tr>\n",
       "    <tr>\n",
       "      <th>std</th>\n",
       "      <td>5.317352e+05</td>\n",
       "      <td>5.938065e+05</td>\n",
       "      <td>3.441080e+00</td>\n",
       "      <td>3.571671e+06</td>\n",
       "      <td>6.137263e+00</td>\n",
       "      <td>3.012408e+04</td>\n",
       "      <td>1.063476e+03</td>\n",
       "      <td>2.392226e+04</td>\n",
       "      <td>3.494568e+04</td>\n",
       "      <td>4.053916e+00</td>\n",
       "      <td>2.647712e+02</td>\n",
       "      <td>5.567798e-01</td>\n",
       "      <td>2.501754e+01</td>\n",
       "      <td>7.188123e+05</td>\n",
       "      <td>7.143867e+00</td>\n",
       "      <td>2.396463e+00</td>\n",
       "    </tr>\n",
       "    <tr>\n",
       "      <th>min</th>\n",
       "      <td>1.000000e+00</td>\n",
       "      <td>2.600000e+01</td>\n",
       "      <td>-1.000000e+00</td>\n",
       "      <td>0.000000e+00</td>\n",
       "      <td>0.000000e+00</td>\n",
       "      <td>0.000000e+00</td>\n",
       "      <td>0.000000e+00</td>\n",
       "      <td>0.000000e+00</td>\n",
       "      <td>0.000000e+00</td>\n",
       "      <td>0.000000e+00</td>\n",
       "      <td>0.000000e+00</td>\n",
       "      <td>1.000000e+00</td>\n",
       "      <td>1.790000e+03</td>\n",
       "      <td>0.000000e+00</td>\n",
       "      <td>1.962000e+03</td>\n",
       "      <td>0.000000e+00</td>\n",
       "    </tr>\n",
       "    <tr>\n",
       "      <th>25%</th>\n",
       "      <td>4.623410e+05</td>\n",
       "      <td>4.958500e+05</td>\n",
       "      <td>1.000000e+00</td>\n",
       "      <td>8.267503e+04</td>\n",
       "      <td>1.000000e+00</td>\n",
       "      <td>1.230000e+03</td>\n",
       "      <td>1.176000e+03</td>\n",
       "      <td>0.000000e+00</td>\n",
       "      <td>1.320000e+03</td>\n",
       "      <td>0.000000e+00</td>\n",
       "      <td>1.518671e+02</td>\n",
       "      <td>1.000000e+00</td>\n",
       "      <td>1.952000e+03</td>\n",
       "      <td>2.390000e+05</td>\n",
       "      <td>1.998000e+03</td>\n",
       "      <td>1.000000e+00</td>\n",
       "    </tr>\n",
       "    <tr>\n",
       "      <th>50%</th>\n",
       "      <td>9.224730e+05</td>\n",
       "      <td>1.002691e+06</td>\n",
       "      <td>1.000000e+00</td>\n",
       "      <td>1.675535e+05</td>\n",
       "      <td>1.000000e+00</td>\n",
       "      <td>1.754000e+03</td>\n",
       "      <td>1.564000e+03</td>\n",
       "      <td>0.000000e+00</td>\n",
       "      <td>1.858000e+03</td>\n",
       "      <td>0.000000e+00</td>\n",
       "      <td>2.544594e+02</td>\n",
       "      <td>1.000000e+00</td>\n",
       "      <td>1.966000e+03</td>\n",
       "      <td>4.000000e+05</td>\n",
       "      <td>2.004000e+03</td>\n",
       "      <td>1.000000e+00</td>\n",
       "    </tr>\n",
       "    <tr>\n",
       "      <th>75%</th>\n",
       "      <td>1.382840e+06</td>\n",
       "      <td>1.532117e+06</td>\n",
       "      <td>1.000000e+00</td>\n",
       "      <td>2.853423e+05</td>\n",
       "      <td>1.000000e+00</td>\n",
       "      <td>2.400000e+03</td>\n",
       "      <td>2.029424e+03</td>\n",
       "      <td>0.000000e+00</td>\n",
       "      <td>2.524000e+03</td>\n",
       "      <td>0.000000e+00</td>\n",
       "      <td>3.699121e+02</td>\n",
       "      <td>1.000000e+00</td>\n",
       "      <td>1.983000e+03</td>\n",
       "      <td>6.500000e+05</td>\n",
       "      <td>2.009000e+03</td>\n",
       "      <td>1.000000e+00</td>\n",
       "    </tr>\n",
       "    <tr>\n",
       "      <th>max</th>\n",
       "      <td>1.843350e+06</td>\n",
       "      <td>2.054501e+06</td>\n",
       "      <td>2.400000e+01</td>\n",
       "      <td>3.355514e+09</td>\n",
       "      <td>1.912000e+03</td>\n",
       "      <td>1.458000e+07</td>\n",
       "      <td>3.000000e+04</td>\n",
       "      <td>1.657310e+07</td>\n",
       "      <td>1.458000e+07</td>\n",
       "      <td>1.289625e+02</td>\n",
       "      <td>5.016109e+04</td>\n",
       "      <td>5.900000e+01</td>\n",
       "      <td>2.015000e+03</td>\n",
       "      <td>1.800000e+08</td>\n",
       "      <td>2.014000e+03</td>\n",
       "      <td>1.600000e+01</td>\n",
       "    </tr>\n",
       "  </tbody>\n",
       "</table>\n",
       "</div>"
      ],
      "text/plain": [
       "        building_id     parcel_id  development_type_id  improvement_value  \\\n",
       "count  1.824229e+06  1.824229e+06         1.824229e+06       1.824229e+06   \n",
       "mean   9.223790e+05  1.012861e+06         1.835162e+00       3.186878e+05   \n",
       "std    5.317352e+05  5.938065e+05         3.441080e+00       3.571671e+06   \n",
       "min    1.000000e+00  2.600000e+01        -1.000000e+00       0.000000e+00   \n",
       "25%    4.623410e+05  4.958500e+05         1.000000e+00       8.267503e+04   \n",
       "50%    9.224730e+05  1.002691e+06         1.000000e+00       1.675535e+05   \n",
       "75%    1.382840e+06  1.532117e+06         1.000000e+00       2.853423e+05   \n",
       "max    1.843350e+06  2.054501e+06         2.400000e+01       3.355514e+09   \n",
       "\n",
       "       residential_units  residential_sqft  sqft_per_unit  \\\n",
       "count       1.824229e+06      1.824229e+06   1.824229e+06   \n",
       "mean        1.534000e+00      2.657113e+03   1.669294e+03   \n",
       "std         6.137263e+00      3.012408e+04   1.063476e+03   \n",
       "min         0.000000e+00      0.000000e+00   0.000000e+00   \n",
       "25%         1.000000e+00      1.230000e+03   1.176000e+03   \n",
       "50%         1.000000e+00      1.754000e+03   1.564000e+03   \n",
       "75%         1.000000e+00      2.400000e+03   2.029424e+03   \n",
       "max         1.912000e+03      1.458000e+07   3.000000e+04   \n",
       "\n",
       "       non_residential_sqft  building_sqft  nonres_rent_per_sqft  \\\n",
       "count          1.824229e+06   1.824229e+06          1.824229e+06   \n",
       "mean           1.280864e+03   3.784462e+03          9.218572e-01   \n",
       "std            2.392226e+04   3.494568e+04          4.053916e+00   \n",
       "min            0.000000e+00   0.000000e+00          0.000000e+00   \n",
       "25%            0.000000e+00   1.320000e+03          0.000000e+00   \n",
       "50%            0.000000e+00   1.858000e+03          0.000000e+00   \n",
       "75%            0.000000e+00   2.524000e+03          0.000000e+00   \n",
       "max            1.657310e+07   1.458000e+07          1.289625e+02   \n",
       "\n",
       "       res_price_per_sqft       stories    year_built  redfin_sale_price  \\\n",
       "count        1.824229e+06  1.824229e+06  1.824229e+06       1.081100e+06   \n",
       "mean         2.927191e+02  1.214429e+00  1.965524e+03       5.287307e+05   \n",
       "std          2.647712e+02  5.567798e-01  2.501754e+01       7.188123e+05   \n",
       "min          0.000000e+00  1.000000e+00  1.790000e+03       0.000000e+00   \n",
       "25%          1.518671e+02  1.000000e+00  1.952000e+03       2.390000e+05   \n",
       "50%          2.544594e+02  1.000000e+00  1.966000e+03       4.000000e+05   \n",
       "75%          3.699121e+02  1.000000e+00  1.983000e+03       6.500000e+05   \n",
       "max          5.016109e+04  5.900000e+01  2.015000e+03       1.800000e+08   \n",
       "\n",
       "       redfin_sale_year  building_type_id  \n",
       "count      1.081100e+06      1.824229e+06  \n",
       "mean       2.002828e+03      1.710299e+00  \n",
       "std        7.143867e+00      2.396463e+00  \n",
       "min        1.962000e+03      0.000000e+00  \n",
       "25%        1.998000e+03      1.000000e+00  \n",
       "50%        2.004000e+03      1.000000e+00  \n",
       "75%        2.009000e+03      1.000000e+00  \n",
       "max        2.014000e+03      1.600000e+01  "
      ]
     },
     "execution_count": 9,
     "metadata": {},
     "output_type": "execute_result"
    }
   ],
   "source": [
    "orca.get_table('buildings').to_frame().describe()"
   ]
  },
  {
   "cell_type": "markdown",
   "metadata": {},
   "source": [
    "## Generate accessibility measures for the price model\n",
    "\n",
    "The network accessibility metrics are not stored on disk; for now we'll generate them using legacy code."
   ]
  },
  {
   "cell_type": "code",
   "execution_count": 6,
   "metadata": {},
   "outputs": [
    {
     "name": "stdout",
     "output_type": "stream",
     "text": [
      "Running step 'initialize_network'\n"
     ]
    },
    {
     "name": "stderr",
     "output_type": "stream",
     "text": [
      "/Users/Paul/src/urbansim_parcel_bayarea/scripts/models.py:38: DtypeWarning: Columns (3) have mixed types. Specify dtype option on import or set low_memory=False.\n",
      "  ids = orca.get_injectable('net').get_node_ids(parcels.x, parcels.y)\n",
      "/Users/Paul/src/urbansim_parcel_bayarea/scripts/models.py:38: DtypeWarning: Columns (9,16) have mixed types. Specify dtype option on import or set low_memory=False.\n",
      "  ids = orca.get_injectable('net').get_node_ids(parcels.x, parcels.y)\n"
     ]
    },
    {
     "name": "stdout",
     "output_type": "stream",
     "text": [
      "Time to execute step 'initialize_network': 11.05 s\n",
      "Total time to execute iteration 1 with iteration value None: 11.05 s\n"
     ]
    }
   ],
   "source": [
    "orca.run(['initialize_network'])"
   ]
  },
  {
   "cell_type": "code",
   "execution_count": 7,
   "metadata": {
    "scrolled": true
   },
   "outputs": [
    {
     "name": "stdout",
     "output_type": "stream",
     "text": [
      "Running step 'network_aggregations'\n",
      "Computing accessibility variables\n",
      "Computing residential_units_500\n",
      "Removed 76038 rows because they contain missing values\n",
      "Computing residential_units_1500\n",
      "Removed 76038 rows because they contain missing values\n",
      "Computing population_1500\n",
      "Removed 305829 rows because they contain missing values\n",
      "Computing poor_1500\n",
      "Removed 79602 rows because they contain missing values\n",
      "Computing renters_1500\n",
      "Removed 145852 rows because they contain missing values\n",
      "Computing med_income_1500\n",
      "Removed 305829 rows because they contain missing values\n",
      "Computing job_1500\n",
      "Removed 111044 rows because they contain missing values\n",
      "Computing job_25km\n",
      "Removed 111044 rows because they contain missing values\n",
      "Computing ave_hhsize\n",
      "Removed 305829 rows because they contain missing values\n",
      "Computing med_rent_sqft_1500\n",
      "Computing med_rent_sqft_7000\n",
      "       residential_units_500  residential_units_1500  population_1500  \\\n",
      "count          415716.000000           415716.000000    415716.000000   \n",
      "mean                0.934492                0.934492        15.043681   \n",
      "std                 1.159340                1.159340       938.823547   \n",
      "min                 0.000000                0.000000         0.000000   \n",
      "25%                 0.000000                0.000000         0.000000   \n",
      "50%                 0.000000                0.000000         0.000000   \n",
      "75%                 1.791759                1.791759        12.000000   \n",
      "max                12.288280               12.288280    513248.000000   \n",
      "\n",
      "           poor_1500   renters_1500  med_income_1500       job_1500  \\\n",
      "count  415716.000000  415716.000000     4.157160e+05  415716.000000   \n",
      "mean        0.517438       0.506333     5.496531e+04       2.171957   \n",
      "std         0.898765       0.820453     7.989624e+04       5.503386   \n",
      "min         0.000000       0.000000    -1.150000e+04       0.000000   \n",
      "25%         0.000000       0.000000    -1.000000e+00       0.000000   \n",
      "50%         0.000000       0.000000    -1.000000e+00       0.000000   \n",
      "75%         0.693147       0.693147     9.538000e+04       0.000000   \n",
      "max        11.459641      11.324847     1.397000e+06      26.301216   \n",
      "\n",
      "            job_25km     ave_hhsize  med_rent_sqft_1500  med_rent_sqft_7000  \n",
      "count  415716.000000  415716.000000       415716.000000       415716.000000  \n",
      "mean        2.171957       0.617790           -0.809431           -0.809431  \n",
      "std         5.503386       0.666341           29.532650           29.532650  \n",
      "min         0.000000       0.000000           -1.000000           -1.000000  \n",
      "25%         0.000000       0.000000           -1.000000           -1.000000  \n",
      "50%         0.000000       0.000000           -1.000000           -1.000000  \n",
      "75%         0.000000       1.280934           -1.000000           -1.000000  \n",
      "max        26.301216       2.995732        17960.582031        17960.582031  \n",
      "Time to execute step 'network_aggregations': 35.78 s\n",
      "Total time to execute iteration 1 with iteration value None: 35.78 s\n"
     ]
    }
   ],
   "source": [
    "orca.run(['network_aggregations'])"
   ]
  },
  {
   "cell_type": "code",
   "execution_count": 9,
   "metadata": {},
   "outputs": [
    {
     "data": {
      "text/plain": [
       "['parcels',\n",
       " 'buildings',\n",
       " 'rentals',\n",
       " 'units',\n",
       " 'households',\n",
       " 'persons',\n",
       " 'jobs',\n",
       " 'nodes']"
      ]
     },
     "execution_count": 9,
     "metadata": {},
     "output_type": "execute_result"
    }
   ],
   "source": [
    "orca.list_tables()"
   ]
  },
  {
   "cell_type": "code",
   "execution_count": 10,
   "metadata": {},
   "outputs": [
    {
     "name": "stdout",
     "output_type": "stream",
     "text": [
      "['residential_units_500', 'residential_units_1500', 'population_1500', 'poor_1500', 'renters_1500', 'med_income_1500', 'job_1500', 'job_25km', 'ave_hhsize', 'med_rent_sqft_1500', 'med_rent_sqft_7000']\n"
     ]
    }
   ],
   "source": [
    "print(orca.get_table('nodes').to_frame().columns.tolist())"
   ]
  },
  {
   "cell_type": "code",
   "execution_count": null,
   "metadata": {},
   "outputs": [],
   "source": []
  },
  {
   "cell_type": "markdown",
   "metadata": {},
   "source": [
    "# Estimate a price model\n",
    "\n",
    "The basic idea of the parcel template is that we create model steps by _passing arguments to classes_ rather than by writing Python functions and giving them Orca decorators, as we would for a fully custom model.\n",
    "\n",
    "Much of the functionality for this is already built into UrbanSim and Orca, we'll just need to extend things here and there.\n",
    "\n",
    "This demo uses a new RegressionStep() class that provides a full model development workflow: estimating a model, registering it with Orca, saving it for future use."
   ]
  },
  {
   "cell_type": "markdown",
   "metadata": {},
   "source": [
    "### Specify parameters and pass them to a model object"
   ]
  },
  {
   "cell_type": "code",
   "execution_count": null,
   "metadata": {},
   "outputs": [],
   "source": [
    "# Specify the model expression and names of tables to draw data from (the first table\n",
    "# is the primary one; additional tables must be able to merge onto it unambiguously)\n",
    "\n",
    "tables = ['buildings', 'parcels', 'nodes']\n",
    "\n",
    "model_expression = (\n",
    "    \"np.log1p(res_price_per_sqft) ~ \"\n",
    "        \"parcel_acres + \"\n",
    "        \"year_built + \"\n",
    "        \"ave_income + \"\n",
    "        \"distance_to_freeway + \"\n",
    "        \"population_400m + \"\n",
    "        \"jobs_3000m\")\n",
    "\n",
    "# Give the prospective model step some tags, and a name if desired\n",
    "\n",
    "name = None\n",
    "tags = ['residential-price-hedonic', 'sam', '201802']\n",
    "\n",
    "# For prediction, specify destination column (if different from the dependent variable\n",
    "# used for estimation), and how to reverse the left-hand-side transformation\n",
    "\n",
    "out_fname = 'fitted_price'\n",
    "ytransform = np.exp"
   ]
  },
  {
   "cell_type": "code",
   "execution_count": null,
   "metadata": {},
   "outputs": [],
   "source": [
    "# Generate a new column to store the fitted prices\n",
    "\n",
    "zeros = np.repeat(0.0, len(orca.get_table('buildings')))\n",
    "orca.get_table('buildings').update_col('fitted_price', zeros)"
   ]
  },
  {
   "cell_type": "code",
   "execution_count": null,
   "metadata": {},
   "outputs": [],
   "source": [
    "# Create the model object\n",
    "\n",
    "model = RegressionStep(model_expression, tables, name=name, tags=tags,\n",
    "                       out_fname=out_fname, ytransform=ytransform)"
   ]
  },
  {
   "cell_type": "code",
   "execution_count": null,
   "metadata": {},
   "outputs": [],
   "source": []
  },
  {
   "cell_type": "markdown",
   "metadata": {},
   "source": [
    "### Fit the model"
   ]
  },
  {
   "cell_type": "code",
   "execution_count": null,
   "metadata": {},
   "outputs": [],
   "source": [
    "model.fit()"
   ]
  },
  {
   "cell_type": "code",
   "execution_count": null,
   "metadata": {},
   "outputs": [],
   "source": []
  },
  {
   "cell_type": "markdown",
   "metadata": {},
   "source": [
    "### If we like it, register it as an Orca step"
   ]
  },
  {
   "cell_type": "code",
   "execution_count": null,
   "metadata": {},
   "outputs": [],
   "source": [
    "model.register()"
   ]
  },
  {
   "cell_type": "code",
   "execution_count": null,
   "metadata": {},
   "outputs": [],
   "source": [
    "orca.list_steps()"
   ]
  },
  {
   "cell_type": "code",
   "execution_count": null,
   "metadata": {},
   "outputs": [],
   "source": []
  },
  {
   "cell_type": "markdown",
   "metadata": {},
   "source": [
    "### Run the Orca step"
   ]
  },
  {
   "cell_type": "code",
   "execution_count": null,
   "metadata": {},
   "outputs": [],
   "source": [
    "orca.run(['RegressionStep-20180214-210159'])"
   ]
  },
  {
   "cell_type": "code",
   "execution_count": null,
   "metadata": {},
   "outputs": [],
   "source": []
  },
  {
   "cell_type": "markdown",
   "metadata": {},
   "source": [
    "### Check the fitted values"
   ]
  },
  {
   "cell_type": "code",
   "execution_count": null,
   "metadata": {},
   "outputs": [],
   "source": [
    "df = orca.get_table('buildings').to_frame(['res_price_per_sqft', 'fitted_price'])\n",
    "df.loc[df.fitted_price > 0].describe()"
   ]
  },
  {
   "cell_type": "code",
   "execution_count": null,
   "metadata": {},
   "outputs": [],
   "source": []
  },
  {
   "cell_type": "markdown",
   "metadata": {},
   "source": [
    "### BONUS\n",
    "\n",
    "Running \"model.register()\" also registered the step with the new ModelManager extention, which saves it to disk so that it can be automatically re-loaded in the future.\n",
    "\n",
    "The \"test\" model steps here were estimated earlier and loaded from disk. They're fully functional: we can run them in Orca, inspect the estimation results, etc."
   ]
  },
  {
   "cell_type": "code",
   "execution_count": null,
   "metadata": {},
   "outputs": [],
   "source": [
    "mm.list_steps()"
   ]
  },
  {
   "cell_type": "code",
   "execution_count": null,
   "metadata": {},
   "outputs": [],
   "source": [
    "rs = mm.get_step('test-1')\n",
    "type(rs)"
   ]
  },
  {
   "cell_type": "code",
   "execution_count": null,
   "metadata": {},
   "outputs": [],
   "source": [
    "rs.model_expression"
   ]
  },
  {
   "cell_type": "code",
   "execution_count": null,
   "metadata": {},
   "outputs": [],
   "source": [
    "rs.model.report_fit()"
   ]
  },
  {
   "cell_type": "code",
   "execution_count": null,
   "metadata": {},
   "outputs": [],
   "source": []
  },
  {
   "cell_type": "code",
   "execution_count": null,
   "metadata": {},
   "outputs": [],
   "source": []
  },
  {
   "cell_type": "code",
   "execution_count": null,
   "metadata": {},
   "outputs": [],
   "source": []
  },
  {
   "cell_type": "code",
   "execution_count": null,
   "metadata": {},
   "outputs": [],
   "source": []
  },
  {
   "cell_type": "code",
   "execution_count": null,
   "metadata": {},
   "outputs": [],
   "source": []
  },
  {
   "cell_type": "code",
   "execution_count": null,
   "metadata": {},
   "outputs": [],
   "source": []
  }
 ],
 "metadata": {
  "kernelspec": {
   "display_name": "Python 3",
   "language": "python",
   "name": "python3"
  },
  "language_info": {
   "codemirror_mode": {
    "name": "ipython",
    "version": 3
   },
   "file_extension": ".py",
   "mimetype": "text/x-python",
   "name": "python",
   "nbconvert_exporter": "python",
   "pygments_lexer": "ipython3",
   "version": "3.6.5"
  }
 },
 "nbformat": 4,
 "nbformat_minor": 2
}
