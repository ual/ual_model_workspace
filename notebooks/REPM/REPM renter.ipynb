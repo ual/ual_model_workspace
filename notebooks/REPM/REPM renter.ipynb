{
 "cells": [
  {
   "cell_type": "markdown",
   "metadata": {},
   "source": [
    "# Real estate rental hedonic model workflow\n",
    "\n",
    "Paul Waddell, July 2018\n",
    "\n",
    "Python 3.6, intended to be backward compatible with 2.7"
   ]
  },
  {
   "cell_type": "code",
   "execution_count": 1,
   "metadata": {},
   "outputs": [],
   "source": [
    "from __future__ import print_function\n",
    "import warnings;warnings.simplefilter('ignore')\n",
    "\n",
    "import numpy as np\n",
    "import pandas as pd\n",
    "%load_ext autoreload\n",
    "%autoreload 2"
   ]
  },
  {
   "cell_type": "code",
   "execution_count": 2,
   "metadata": {},
   "outputs": [],
   "source": [
    "from scipy.stats import norm\n",
    "%matplotlib inline\n",
    "\n",
    "import matplotlib.pyplot as plt, matplotlib.cm as cm, matplotlib.font_manager as fm\n",
    "import matplotlib.mlab as mlab\n",
    "import seaborn as sns\n",
    "sns.set()"
   ]
  },
  {
   "cell_type": "code",
   "execution_count": 3,
   "metadata": {},
   "outputs": [],
   "source": [
    "# Standard to run UrbanSim from the root level of the project directory\n",
    "\n",
    "import os; os.chdir('../..')"
   ]
  },
  {
   "cell_type": "code",
   "execution_count": 4,
   "metadata": {},
   "outputs": [],
   "source": [
    "from urbansim_templates import modelmanager as mm\n",
    "from urbansim_templates.models import OLSRegressionStep\n",
    "import orca"
   ]
  },
  {
   "cell_type": "code",
   "execution_count": 130,
   "metadata": {},
   "outputs": [],
   "source": [
    "# Load any script-based Orca registrations\n",
    "from scripts import datasources\n",
    "from scripts import models"
   ]
  },
  {
   "cell_type": "markdown",
   "metadata": {},
   "source": [
    "## Explore the Orca registrations"
   ]
  },
  {
   "cell_type": "code",
   "execution_count": 6,
   "metadata": {},
   "outputs": [
    {
     "data": {
      "text/plain": [
       "['parcels',\n",
       " 'buildings',\n",
       " 'craigslist',\n",
       " 'rentals',\n",
       " 'units',\n",
       " 'households',\n",
       " 'persons',\n",
       " 'jobs']"
      ]
     },
     "execution_count": 6,
     "metadata": {},
     "output_type": "execute_result"
    }
   ],
   "source": [
    "orca.list_tables()"
   ]
  },
  {
   "cell_type": "code",
   "execution_count": null,
   "metadata": {},
   "outputs": [],
   "source": [
    "for table_name in orca.list_tables():\n",
    "    print(table_name.upper())\n",
    "    print(orca.get_table(table_name).to_frame().columns.tolist())\n",
    "    print()"
   ]
  },
  {
   "cell_type": "code",
   "execution_count": null,
   "metadata": {},
   "outputs": [],
   "source": [
    "orca.list_broadcasts()"
   ]
  },
  {
   "cell_type": "code",
   "execution_count": null,
   "metadata": {},
   "outputs": [],
   "source": [
    "orca.list_steps()"
   ]
  },
  {
   "cell_type": "code",
   "execution_count": null,
   "metadata": {},
   "outputs": [],
   "source": []
  },
  {
   "cell_type": "markdown",
   "metadata": {},
   "source": [
    "## Explore the data\n",
    "\n",
    "Orca doesn't execute code to load the registered objects until it needs to."
   ]
  },
  {
   "cell_type": "code",
   "execution_count": null,
   "metadata": {},
   "outputs": [],
   "source": [
    "orca.get_table('parcels').to_frame().describe()"
   ]
  },
  {
   "cell_type": "code",
   "execution_count": 131,
   "metadata": {
    "scrolled": true
   },
   "outputs": [
    {
     "data": {
      "text/plain": [
       "Index(['parcel_id', 'development_type_id', 'improvement_value',\n",
       "       'residential_units', 'residential_sqft', 'sqft_per_unit',\n",
       "       'non_residential_sqft', 'building_sqft', 'nonres_rent_per_sqft',\n",
       "       'res_price_per_sqft', 'stories', 'year_built', 'redfin_sale_price',\n",
       "       'redfin_sale_year', 'redfin_home_type', 'costar_property_type',\n",
       "       'costar_rent', 'building_type_id', 'res_sqft_per_unit', 'node_id_small',\n",
       "       'node_id_walk'],\n",
       "      dtype='object')"
      ]
     },
     "execution_count": 131,
     "metadata": {},
     "output_type": "execute_result"
    }
   ],
   "source": [
    "buildings = orca.get_table('buildings').to_frame()\n",
    "buildings.columns"
   ]
  },
  {
   "cell_type": "code",
   "execution_count": 132,
   "metadata": {},
   "outputs": [
    {
     "data": {
      "text/plain": [
       "count    1.824229e+06\n",
       "mean     1.669294e+03\n",
       "std      1.063476e+03\n",
       "min      0.000000e+00\n",
       "25%      1.176000e+03\n",
       "50%      1.564000e+03\n",
       "75%      2.029424e+03\n",
       "max      3.000000e+04\n",
       "Name: sqft_per_unit, dtype: float64"
      ]
     },
     "execution_count": 132,
     "metadata": {},
     "output_type": "execute_result"
    }
   ],
   "source": [
    "buildings.sqft_per_unit.describe()"
   ]
  },
  {
   "cell_type": "code",
   "execution_count": null,
   "metadata": {
    "scrolled": false
   },
   "outputs": [],
   "source": [
    "buildings.building_type_id.value_counts()"
   ]
  },
  {
   "cell_type": "code",
   "execution_count": null,
   "metadata": {},
   "outputs": [],
   "source": [
    "buildings.residential_units.value_counts()"
   ]
  },
  {
   "cell_type": "code",
   "execution_count": 104,
   "metadata": {},
   "outputs": [
    {
     "data": {
      "text/plain": [
       "Index(['serialno', 'persons', 'building_type', 'cars', 'income',\n",
       "       'race_of_head', 'hispanic_head', 'age_of_head', 'workers', 'state',\n",
       "       'county', 'tract', 'block_group', 'children', 'tenure', 'recent_mover',\n",
       "       'block_group_id', 'single_family', 'unit_id', 'building_id',\n",
       "       'node_id_small', 'node_id_walk'],\n",
       "      dtype='object')"
      ]
     },
     "execution_count": 104,
     "metadata": {},
     "output_type": "execute_result"
    }
   ],
   "source": [
    "households = orca.get_table('households').to_frame()\n",
    "households.columns"
   ]
  },
  {
   "cell_type": "code",
   "execution_count": 105,
   "metadata": {},
   "outputs": [
    {
     "data": {
      "text/html": [
       "<div>\n",
       "<style scoped>\n",
       "    .dataframe tbody tr th:only-of-type {\n",
       "        vertical-align: middle;\n",
       "    }\n",
       "\n",
       "    .dataframe tbody tr th {\n",
       "        vertical-align: top;\n",
       "    }\n",
       "\n",
       "    .dataframe thead th {\n",
       "        text-align: right;\n",
       "    }\n",
       "</style>\n",
       "<table border=\"1\" class=\"dataframe\">\n",
       "  <thead>\n",
       "    <tr style=\"text-align: right;\">\n",
       "      <th></th>\n",
       "      <th>serialno</th>\n",
       "      <th>persons</th>\n",
       "      <th>building_type</th>\n",
       "      <th>cars</th>\n",
       "      <th>income</th>\n",
       "      <th>race_of_head</th>\n",
       "      <th>age_of_head</th>\n",
       "      <th>workers</th>\n",
       "      <th>state</th>\n",
       "      <th>county</th>\n",
       "      <th>tract</th>\n",
       "      <th>block_group</th>\n",
       "      <th>children</th>\n",
       "      <th>tenure</th>\n",
       "      <th>recent_mover</th>\n",
       "      <th>block_group_id</th>\n",
       "      <th>unit_id</th>\n",
       "      <th>building_id</th>\n",
       "      <th>node_id_small</th>\n",
       "      <th>node_id_walk</th>\n",
       "    </tr>\n",
       "  </thead>\n",
       "  <tbody>\n",
       "    <tr>\n",
       "      <th>count</th>\n",
       "      <td>2.677468e+06</td>\n",
       "      <td>2.677468e+06</td>\n",
       "      <td>2.677468e+06</td>\n",
       "      <td>2.677468e+06</td>\n",
       "      <td>2.677468e+06</td>\n",
       "      <td>2.677468e+06</td>\n",
       "      <td>2.677468e+06</td>\n",
       "      <td>2.677468e+06</td>\n",
       "      <td>2677468.0</td>\n",
       "      <td>2.677468e+06</td>\n",
       "      <td>2.677468e+06</td>\n",
       "      <td>2.677468e+06</td>\n",
       "      <td>2.677468e+06</td>\n",
       "      <td>2.677468e+06</td>\n",
       "      <td>2.677468e+06</td>\n",
       "      <td>2.677468e+06</td>\n",
       "      <td>2.677468e+06</td>\n",
       "      <td>2.677468e+06</td>\n",
       "      <td>2.485869e+06</td>\n",
       "      <td>2.485869e+06</td>\n",
       "    </tr>\n",
       "    <tr>\n",
       "      <th>mean</th>\n",
       "      <td>2.011048e+12</td>\n",
       "      <td>2.637121e+00</td>\n",
       "      <td>3.586621e+00</td>\n",
       "      <td>1.882801e+00</td>\n",
       "      <td>1.131284e+05</td>\n",
       "      <td>2.837879e+00</td>\n",
       "      <td>5.296986e+01</td>\n",
       "      <td>1.302752e+00</td>\n",
       "      <td>6.0</td>\n",
       "      <td>5.435264e+01</td>\n",
       "      <td>3.526555e+05</td>\n",
       "      <td>2.118013e+00</td>\n",
       "      <td>5.626338e-01</td>\n",
       "      <td>1.426969e+00</td>\n",
       "      <td>3.883258e-02</td>\n",
       "      <td>6.054705e+10</td>\n",
       "      <td>1.288427e+06</td>\n",
       "      <td>8.580958e+05</td>\n",
       "      <td>7.846705e+08</td>\n",
       "      <td>1.433347e+09</td>\n",
       "    </tr>\n",
       "    <tr>\n",
       "      <th>std</th>\n",
       "      <td>1.416906e+09</td>\n",
       "      <td>1.573306e+00</td>\n",
       "      <td>2.335401e+00</td>\n",
       "      <td>1.139782e+00</td>\n",
       "      <td>1.079526e+05</td>\n",
       "      <td>2.662159e+00</td>\n",
       "      <td>1.568676e+01</td>\n",
       "      <td>9.979341e-01</td>\n",
       "      <td>0.0</td>\n",
       "      <td>3.761145e+01</td>\n",
       "      <td>1.832935e+05</td>\n",
       "      <td>1.119816e+00</td>\n",
       "      <td>9.710445e-01</td>\n",
       "      <td>4.946378e-01</td>\n",
       "      <td>1.931958e-01</td>\n",
       "      <td>3.759562e+08</td>\n",
       "      <td>8.497798e+05</td>\n",
       "      <td>5.611658e+05</td>\n",
       "      <td>1.387397e+09</td>\n",
       "      <td>2.045733e+09</td>\n",
       "    </tr>\n",
       "    <tr>\n",
       "      <th>min</th>\n",
       "      <td>2.009000e+12</td>\n",
       "      <td>1.000000e+00</td>\n",
       "      <td>1.000000e+00</td>\n",
       "      <td>0.000000e+00</td>\n",
       "      <td>-1.160000e+04</td>\n",
       "      <td>1.000000e+00</td>\n",
       "      <td>1.500000e+01</td>\n",
       "      <td>0.000000e+00</td>\n",
       "      <td>6.0</td>\n",
       "      <td>1.000000e+00</td>\n",
       "      <td>1.010000e+04</td>\n",
       "      <td>1.000000e+00</td>\n",
       "      <td>0.000000e+00</td>\n",
       "      <td>1.000000e+00</td>\n",
       "      <td>0.000000e+00</td>\n",
       "      <td>6.001400e+10</td>\n",
       "      <td>-1.000000e+00</td>\n",
       "      <td>-1.000000e+00</td>\n",
       "      <td>2.812660e+05</td>\n",
       "      <td>2.602875e+07</td>\n",
       "    </tr>\n",
       "    <tr>\n",
       "      <th>25%</th>\n",
       "      <td>2.010000e+12</td>\n",
       "      <td>1.000000e+00</td>\n",
       "      <td>2.000000e+00</td>\n",
       "      <td>1.000000e+00</td>\n",
       "      <td>4.032000e+04</td>\n",
       "      <td>1.000000e+00</td>\n",
       "      <td>4.100000e+01</td>\n",
       "      <td>1.000000e+00</td>\n",
       "      <td>6.0</td>\n",
       "      <td>1.300000e+01</td>\n",
       "      <td>2.007070e+05</td>\n",
       "      <td>1.000000e+00</td>\n",
       "      <td>0.000000e+00</td>\n",
       "      <td>1.000000e+00</td>\n",
       "      <td>0.000000e+00</td>\n",
       "      <td>6.013322e+10</td>\n",
       "      <td>5.409708e+05</td>\n",
       "      <td>3.599548e+05</td>\n",
       "      <td>5.793535e+07</td>\n",
       "      <td>5.789404e+07</td>\n",
       "    </tr>\n",
       "    <tr>\n",
       "      <th>50%</th>\n",
       "      <td>2.011001e+12</td>\n",
       "      <td>2.000000e+00</td>\n",
       "      <td>2.000000e+00</td>\n",
       "      <td>2.000000e+00</td>\n",
       "      <td>8.400000e+04</td>\n",
       "      <td>1.000000e+00</td>\n",
       "      <td>5.300000e+01</td>\n",
       "      <td>1.000000e+00</td>\n",
       "      <td>6.0</td>\n",
       "      <td>7.500000e+01</td>\n",
       "      <td>4.070000e+05</td>\n",
       "      <td>2.000000e+00</td>\n",
       "      <td>0.000000e+00</td>\n",
       "      <td>1.000000e+00</td>\n",
       "      <td>0.000000e+00</td>\n",
       "      <td>6.075026e+10</td>\n",
       "      <td>1.272990e+06</td>\n",
       "      <td>8.378585e+05</td>\n",
       "      <td>6.550172e+07</td>\n",
       "      <td>6.549642e+07</td>\n",
       "    </tr>\n",
       "    <tr>\n",
       "      <th>75%</th>\n",
       "      <td>2.012001e+12</td>\n",
       "      <td>4.000000e+00</td>\n",
       "      <td>5.000000e+00</td>\n",
       "      <td>2.000000e+00</td>\n",
       "      <td>1.501000e+05</td>\n",
       "      <td>6.000000e+00</td>\n",
       "      <td>6.300000e+01</td>\n",
       "      <td>2.000000e+00</td>\n",
       "      <td>6.0</td>\n",
       "      <td>8.500000e+01</td>\n",
       "      <td>5.044140e+05</td>\n",
       "      <td>3.000000e+00</td>\n",
       "      <td>1.000000e+00</td>\n",
       "      <td>2.000000e+00</td>\n",
       "      <td>0.000000e+00</td>\n",
       "      <td>6.085506e+10</td>\n",
       "      <td>2.024749e+06</td>\n",
       "      <td>1.341263e+06</td>\n",
       "      <td>6.125957e+08</td>\n",
       "      <td>3.049074e+09</td>\n",
       "    </tr>\n",
       "    <tr>\n",
       "      <th>max</th>\n",
       "      <td>2.013001e+12</td>\n",
       "      <td>2.000000e+01</td>\n",
       "      <td>1.000000e+01</td>\n",
       "      <td>6.000000e+00</td>\n",
       "      <td>1.397000e+06</td>\n",
       "      <td>9.000000e+00</td>\n",
       "      <td>9.400000e+01</td>\n",
       "      <td>1.300000e+01</td>\n",
       "      <td>6.0</td>\n",
       "      <td>9.700000e+01</td>\n",
       "      <td>9.832000e+05</td>\n",
       "      <td>7.000000e+00</td>\n",
       "      <td>9.000000e+00</td>\n",
       "      <td>2.000000e+00</td>\n",
       "      <td>1.000000e+00</td>\n",
       "      <td>6.097154e+10</td>\n",
       "      <td>2.781489e+06</td>\n",
       "      <td>1.843272e+06</td>\n",
       "      <td>5.458527e+09</td>\n",
       "      <td>5.466634e+09</td>\n",
       "    </tr>\n",
       "  </tbody>\n",
       "</table>\n",
       "</div>"
      ],
      "text/plain": [
       "           serialno       persons  building_type          cars        income  \\\n",
       "count  2.677468e+06  2.677468e+06   2.677468e+06  2.677468e+06  2.677468e+06   \n",
       "mean   2.011048e+12  2.637121e+00   3.586621e+00  1.882801e+00  1.131284e+05   \n",
       "std    1.416906e+09  1.573306e+00   2.335401e+00  1.139782e+00  1.079526e+05   \n",
       "min    2.009000e+12  1.000000e+00   1.000000e+00  0.000000e+00 -1.160000e+04   \n",
       "25%    2.010000e+12  1.000000e+00   2.000000e+00  1.000000e+00  4.032000e+04   \n",
       "50%    2.011001e+12  2.000000e+00   2.000000e+00  2.000000e+00  8.400000e+04   \n",
       "75%    2.012001e+12  4.000000e+00   5.000000e+00  2.000000e+00  1.501000e+05   \n",
       "max    2.013001e+12  2.000000e+01   1.000000e+01  6.000000e+00  1.397000e+06   \n",
       "\n",
       "       race_of_head   age_of_head       workers      state        county  \\\n",
       "count  2.677468e+06  2.677468e+06  2.677468e+06  2677468.0  2.677468e+06   \n",
       "mean   2.837879e+00  5.296986e+01  1.302752e+00        6.0  5.435264e+01   \n",
       "std    2.662159e+00  1.568676e+01  9.979341e-01        0.0  3.761145e+01   \n",
       "min    1.000000e+00  1.500000e+01  0.000000e+00        6.0  1.000000e+00   \n",
       "25%    1.000000e+00  4.100000e+01  1.000000e+00        6.0  1.300000e+01   \n",
       "50%    1.000000e+00  5.300000e+01  1.000000e+00        6.0  7.500000e+01   \n",
       "75%    6.000000e+00  6.300000e+01  2.000000e+00        6.0  8.500000e+01   \n",
       "max    9.000000e+00  9.400000e+01  1.300000e+01        6.0  9.700000e+01   \n",
       "\n",
       "              tract   block_group      children        tenure  recent_mover  \\\n",
       "count  2.677468e+06  2.677468e+06  2.677468e+06  2.677468e+06  2.677468e+06   \n",
       "mean   3.526555e+05  2.118013e+00  5.626338e-01  1.426969e+00  3.883258e-02   \n",
       "std    1.832935e+05  1.119816e+00  9.710445e-01  4.946378e-01  1.931958e-01   \n",
       "min    1.010000e+04  1.000000e+00  0.000000e+00  1.000000e+00  0.000000e+00   \n",
       "25%    2.007070e+05  1.000000e+00  0.000000e+00  1.000000e+00  0.000000e+00   \n",
       "50%    4.070000e+05  2.000000e+00  0.000000e+00  1.000000e+00  0.000000e+00   \n",
       "75%    5.044140e+05  3.000000e+00  1.000000e+00  2.000000e+00  0.000000e+00   \n",
       "max    9.832000e+05  7.000000e+00  9.000000e+00  2.000000e+00  1.000000e+00   \n",
       "\n",
       "       block_group_id       unit_id   building_id  node_id_small  node_id_walk  \n",
       "count    2.677468e+06  2.677468e+06  2.677468e+06   2.485869e+06  2.485869e+06  \n",
       "mean     6.054705e+10  1.288427e+06  8.580958e+05   7.846705e+08  1.433347e+09  \n",
       "std      3.759562e+08  8.497798e+05  5.611658e+05   1.387397e+09  2.045733e+09  \n",
       "min      6.001400e+10 -1.000000e+00 -1.000000e+00   2.812660e+05  2.602875e+07  \n",
       "25%      6.013322e+10  5.409708e+05  3.599548e+05   5.793535e+07  5.789404e+07  \n",
       "50%      6.075026e+10  1.272990e+06  8.378585e+05   6.550172e+07  6.549642e+07  \n",
       "75%      6.085506e+10  2.024749e+06  1.341263e+06   6.125957e+08  3.049074e+09  \n",
       "max      6.097154e+10  2.781489e+06  1.843272e+06   5.458527e+09  5.466634e+09  "
      ]
     },
     "execution_count": 105,
     "metadata": {},
     "output_type": "execute_result"
    }
   ],
   "source": [
    "households.describe()"
   ]
  },
  {
   "cell_type": "code",
   "execution_count": null,
   "metadata": {},
   "outputs": [],
   "source": [
    "households.race_of_head.value_counts()"
   ]
  },
  {
   "cell_type": "code",
   "execution_count": null,
   "metadata": {},
   "outputs": [],
   "source": [
    "households.hispanic_head.value_counts()"
   ]
  },
  {
   "cell_type": "code",
   "execution_count": null,
   "metadata": {},
   "outputs": [],
   "source": [
    "rentals = orca.get_table('craigslist').to_frame()\n",
    "rentals.columns"
   ]
  },
  {
   "cell_type": "code",
   "execution_count": null,
   "metadata": {},
   "outputs": [],
   "source": [
    "rentals.describe()"
   ]
  },
  {
   "cell_type": "code",
   "execution_count": null,
   "metadata": {},
   "outputs": [],
   "source": [
    "rents_nodup = rentals.drop_duplicates(['pid'])\n",
    "rents_nodup.describe()"
   ]
  },
  {
   "cell_type": "code",
   "execution_count": null,
   "metadata": {},
   "outputs": [],
   "source": [
    "rents_nodup.rent.quantile([0.005, 0.995])"
   ]
  },
  {
   "cell_type": "code",
   "execution_count": null,
   "metadata": {},
   "outputs": [],
   "source": [
    "rents_nodup.bedrooms.quantile([0.005, 0.995])"
   ]
  },
  {
   "cell_type": "code",
   "execution_count": null,
   "metadata": {},
   "outputs": [],
   "source": [
    "rents_nodup.sqft.quantile([0.005, 0.995])"
   ]
  },
  {
   "cell_type": "code",
   "execution_count": null,
   "metadata": {},
   "outputs": [],
   "source": [
    "rentlow = rents_nodup.rent.quantile(0.005)\n",
    "renthigh = rents_nodup.rent.quantile(0.995)\n",
    "bedshigh = rents_nodup.bedrooms.quantile(0.995)\n",
    "sqftlow = rents_nodup.sqft.quantile(0.005)\n",
    "sqfthigh = rents_nodup.sqft.quantile(0.995)"
   ]
  },
  {
   "cell_type": "code",
   "execution_count": null,
   "metadata": {},
   "outputs": [],
   "source": [
    "rent_mask = (rents_nodup['rent'] > rentlow) & (rents_nodup['rent'] <= renthigh)\n",
    "beds_mask = (rents_nodup['bedrooms'] <= bedshigh)\n",
    "sqft_mask = (rents_nodup['sqft'] > sqftlow) & (rents_nodup['sqft'] <= sqfthigh)\n",
    "\n",
    "# filter the thorough listings according to these masks\n",
    "filtered_rents = pd.DataFrame(rents_nodup[rent_mask & beds_mask & sqft_mask])\n",
    "len(filtered_rents)"
   ]
  },
  {
   "cell_type": "code",
   "execution_count": null,
   "metadata": {
    "scrolled": true
   },
   "outputs": [],
   "source": [
    "plt.rcParams['figure.figsize']=10,10\n",
    "%matplotlib inline\n",
    "\n",
    "sns.set_style(\"white\")\n",
    "sns.set_style(\"ticks\")\n",
    "ax = sns.distplot(filtered_rents.rent, bins=50, fit=norm,  kde=False)"
   ]
  },
  {
   "cell_type": "code",
   "execution_count": null,
   "metadata": {},
   "outputs": [],
   "source": [
    "plt.rcParams['figure.figsize']=10,10\n",
    "%matplotlib inline\n",
    "\n",
    "sns.set_style(\"white\")\n",
    "sns.set_style(\"ticks\")\n",
    "ax = sns.distplot(np.log(filtered_rents.rent), bins=50, fit=norm, kde=False)"
   ]
  },
  {
   "cell_type": "code",
   "execution_count": null,
   "metadata": {
    "scrolled": true
   },
   "outputs": [],
   "source": [
    "filtered_rents.describe()"
   ]
  },
  {
   "cell_type": "code",
   "execution_count": null,
   "metadata": {},
   "outputs": [],
   "source": [
    "filtered_rents.to_csv('data/rental_listings_cleaned.csv')"
   ]
  },
  {
   "cell_type": "markdown",
   "metadata": {},
   "source": [
    "## Generate accessibility measures for the price model\n",
    "\n",
    "The network accessibility metrics are not stored on disk; for now we'll generate them using legacy code."
   ]
  },
  {
   "cell_type": "code",
   "execution_count": 7,
   "metadata": {
    "scrolled": false
   },
   "outputs": [
    {
     "name": "stdout",
     "output_type": "stream",
     "text": [
      "Running step 'initialize_network_small'\n",
      "Time to execute step 'initialize_network_small': 29.52 s\n",
      "Total time to execute iteration 1 with iteration value None: 29.52 s\n"
     ]
    }
   ],
   "source": [
    "orca.run(['initialize_network_small'])"
   ]
  },
  {
   "cell_type": "code",
   "execution_count": 8,
   "metadata": {},
   "outputs": [
    {
     "name": "stdout",
     "output_type": "stream",
     "text": [
      "Running step 'network_aggregations_small'\n",
      "Computing accessibility variables\n",
      "Computing units_10000\n",
      "Computing units_sf_10000\n",
      "Computing units_mf_10000\n",
      "Computing pop_10000\n",
      "Removed 191599 rows because they contain missing values\n",
      "Computing hh_10000\n",
      "Removed 191599 rows because they contain missing values\n",
      "Computing poor_10000\n",
      "Removed 53660 rows because they contain missing values\n",
      "Computing renters_10000\n",
      "Removed 103635 rows because they contain missing values\n",
      "Computing med_income_10000\n",
      "Removed 191599 rows because they contain missing values\n",
      "Computing jobs_10000\n",
      "Computing med_rent_10000\n",
      "Computing pop_white_10000\n",
      "Removed 108381 rows because they contain missing values\n",
      "Computing pop_black_10000\n",
      "Removed 10605 rows because they contain missing values\n",
      "Computing pop_asian_10000\n",
      "Removed 51665 rows because they contain missing values\n",
      "Computing pop_hisp_10000\n",
      "Removed 31878 rows because they contain missing values\n",
      "Computing units_25000\n",
      "Computing units_sf_25000\n",
      "Computing units_mf_25000\n",
      "Computing pop_25000\n",
      "Removed 191599 rows because they contain missing values\n",
      "Computing hh_25000\n",
      "Removed 191599 rows because they contain missing values\n",
      "Computing poor_25000\n",
      "Removed 53660 rows because they contain missing values\n",
      "Computing renters_25000\n",
      "Removed 103635 rows because they contain missing values\n",
      "Computing med_income_25000\n",
      "Removed 191599 rows because they contain missing values\n",
      "Computing jobs_25000\n",
      "Computing med_rent_25000\n",
      "Computing pop_white_25000\n",
      "Removed 108381 rows because they contain missing values\n",
      "Computing pop_black_25000\n",
      "Removed 10605 rows because they contain missing values\n",
      "Computing pop_asian_25000\n",
      "Removed 51665 rows because they contain missing values\n",
      "Computing pop_hisp_25000\n",
      "Removed 31878 rows because they contain missing values\n",
      "         units_10000  units_sf_10000  units_mf_10000      pop_10000  \\\n",
      "count   30826.000000    30826.000000    30826.000000   30826.000000   \n",
      "mean   111656.078125    60759.140625    45984.058594  259194.703125   \n",
      "std     87205.929688    37438.925781    46023.648438  187603.703125   \n",
      "min         0.000000        0.000000        0.000000       0.000000   \n",
      "25%     43964.500000    31221.500000    10558.000000  107475.750000   \n",
      "50%     96821.500000    59398.000000    32530.500000  233979.000000   \n",
      "75%    163121.750000    90068.500000    69672.000000  387446.000000   \n",
      "max    406854.000000   147995.000000   205873.000000  848002.000000   \n",
      "\n",
      "            hh_10000    poor_10000  renters_10000  med_income_10000  \\\n",
      "count   30826.000000  30826.000000   30826.000000      30826.000000   \n",
      "mean    98975.984375  24028.119141   46257.820312      86880.750000   \n",
      "std     77820.148438  21383.816406   46188.039062      23418.171875   \n",
      "min         0.000000      0.000000       0.000000         -1.000000   \n",
      "25%     39254.500000   8298.500000   13271.000000      75000.000000   \n",
      "50%     85946.500000  18126.500000   32305.000000      86100.000000   \n",
      "75%    142956.750000  33361.500000   64805.000000     101100.000000   \n",
      "max    368466.000000  99261.000000  216731.000000     457450.000000   \n",
      "\n",
      "         jobs_10000  med_rent_10000       ...             hh_25000  \\\n",
      "count   30826.00000    30826.000000       ...         30826.000000   \n",
      "mean   118229.84375     2516.380859       ...        351324.031250   \n",
      "std    107967.21875      713.935913       ...        202557.546875   \n",
      "min         0.00000       -1.000000       ...             0.000000   \n",
      "25%     28940.25000     2225.000000       ...        156322.250000   \n",
      "50%     92305.00000     2570.000000       ...        396819.500000   \n",
      "75%    176939.00000     2854.750000       ...        515375.500000   \n",
      "max    428602.00000     7300.000000       ...        756890.000000   \n",
      "\n",
      "         poor_25000  renters_25000  med_income_25000    jobs_25000  \\\n",
      "count   30826.00000   30826.000000      30826.000000   30826.00000   \n",
      "mean    82062.40625  155390.515625      89057.968750  410622.28125   \n",
      "std     51970.84375  105860.250000      16577.587891  255574.00000   \n",
      "min         0.00000       0.000000         -1.000000       0.00000   \n",
      "25%     38758.00000   55830.000000      75100.000000  143147.00000   \n",
      "50%     87120.50000  166488.500000      88800.000000  451703.50000   \n",
      "75%    111002.75000  214889.500000     100000.000000  646091.00000   \n",
      "max    215953.00000  409886.000000     403000.000000  813752.00000   \n",
      "\n",
      "       med_rent_25000  pop_white_25000  pop_black_25000  pop_asian_25000  \\\n",
      "count    30826.000000      30826.00000     30826.000000     30826.000000   \n",
      "mean      2631.686035     489698.34375     43239.691406    284510.875000   \n",
      "std        500.502380     253497.00000     43157.660156    201601.734375   \n",
      "min         -1.000000          0.00000         0.000000         0.000000   \n",
      "25%       2400.000000     266102.00000     18882.000000     80108.000000   \n",
      "50%       2699.000000     540515.50000     26983.000000    310642.500000   \n",
      "75%       2877.000000     704318.50000     46682.000000    461615.000000   \n",
      "max       4800.000000     974413.00000    169359.000000    646124.000000   \n",
      "\n",
      "       pop_hisp_25000  \n",
      "count     30826.00000  \n",
      "mean     182151.71875  \n",
      "std      104272.68750  \n",
      "min           0.00000  \n",
      "25%       90548.75000  \n",
      "50%      189083.00000  \n",
      "75%      283935.50000  \n",
      "max      342997.00000  \n",
      "\n",
      "[8 rows x 28 columns]\n",
      "Time to execute step 'network_aggregations_small': 892.75 s\n",
      "Total time to execute iteration 1 with iteration value None: 892.75 s\n"
     ]
    }
   ],
   "source": [
    "orca.run(['network_aggregations_small'])"
   ]
  },
  {
   "cell_type": "code",
   "execution_count": null,
   "metadata": {},
   "outputs": [],
   "source": [
    "#orca.run(['initialize_network_drive'])"
   ]
  },
  {
   "cell_type": "code",
   "execution_count": null,
   "metadata": {
    "scrolled": false
   },
   "outputs": [],
   "source": [
    "#orca.run(['network_aggregations_drive'])"
   ]
  },
  {
   "cell_type": "code",
   "execution_count": 118,
   "metadata": {},
   "outputs": [
    {
     "name": "stdout",
     "output_type": "stream",
     "text": [
      "Running step 'initialize_network_walk'\n",
      "Time to execute step 'initialize_network_walk': 60.22 s\n",
      "Total time to execute iteration 1 with iteration value None: 60.22 s\n"
     ]
    }
   ],
   "source": [
    "orca.run(['initialize_network_walk'])"
   ]
  },
  {
   "cell_type": "code",
   "execution_count": 133,
   "metadata": {},
   "outputs": [
    {
     "name": "stdout",
     "output_type": "stream",
     "text": [
      "Running step 'network_aggregations_walk'\n",
      "Computing accessibility variables\n",
      "Computing units_500_walk\n",
      "Computing sqft_unit_500_walk\n",
      "Computing units_sf_500_walk\n",
      "Computing units_mf_500_walk\n",
      "Computing pop_500_walk\n",
      "Removed 191599 rows because they contain missing values\n",
      "Computing hh_500_walk\n",
      "Removed 191599 rows because they contain missing values\n",
      "Computing poor_500_walk\n",
      "Removed 53660 rows because they contain missing values\n",
      "Computing rich_500_walk\n",
      "Removed 39177 rows because they contain missing values\n",
      "Computing renters_500_walk\n",
      "Removed 103635 rows because they contain missing values\n",
      "Computing med_income_500_walk\n",
      "Removed 191599 rows because they contain missing values\n",
      "Computing jobs_500_walk\n",
      "Computing med_rent_500_walk\n",
      "Computing pop_white_500_walk\n",
      "Removed 108381 rows because they contain missing values\n",
      "Computing pop_black_500_walk\n",
      "Removed 10605 rows because they contain missing values\n",
      "Computing pop_asian_500_walk\n",
      "Removed 51665 rows because they contain missing values\n",
      "Computing pop_hisp_500_walk\n",
      "Removed 31878 rows because they contain missing values\n",
      "Computing units_1500_walk\n",
      "Computing sqft_unit_1500_walk\n",
      "Computing units_sf_1500_walk\n",
      "Computing units_mf_1500_walk\n",
      "Computing pop_1500_walk\n",
      "Removed 191599 rows because they contain missing values\n",
      "Computing hh_1500_walk\n",
      "Removed 191599 rows because they contain missing values\n",
      "Computing poor_1500_walk\n",
      "Removed 53660 rows because they contain missing values\n",
      "Computing rich_1500_walk\n",
      "Removed 39177 rows because they contain missing values\n",
      "Computing renters_1500_walk\n",
      "Removed 103635 rows because they contain missing values\n",
      "Computing med_income_1500_walk\n",
      "Removed 191599 rows because they contain missing values\n",
      "Computing jobs_1500_walk\n",
      "Computing med_rent_1500_walk\n",
      "Computing pop_white_1500_walk\n",
      "Removed 108381 rows because they contain missing values\n",
      "Computing pop_black_1500_walk\n",
      "Removed 10605 rows because they contain missing values\n",
      "Computing pop_asian_1500_walk\n",
      "Removed 51665 rows because they contain missing values\n",
      "Computing pop_hisp_1500_walk\n",
      "Removed 31878 rows because they contain missing values\n",
      "       units_500_walk  sqft_unit_500_walk  units_sf_500_walk  \\\n",
      "count   619889.000000       619889.000000      619889.000000   \n",
      "mean       253.120102         1174.658325         118.184433   \n",
      "std        499.942993         1035.766479         160.558090   \n",
      "min          0.000000           -1.000000           0.000000   \n",
      "25%          5.000000            0.000000           2.000000   \n",
      "50%         91.000000         1252.000000          52.000000   \n",
      "75%        318.000000         1758.000000         179.000000   \n",
      "max      14845.000000        30000.000000        1727.000000   \n",
      "\n",
      "       units_mf_500_walk   pop_500_walk    hh_500_walk  poor_500_walk  \\\n",
      "count      619889.000000  619889.000000  619889.000000  619889.000000   \n",
      "mean          116.741402     569.284485     224.196060      58.778866   \n",
      "std           335.730347     962.929260     440.972015     153.828735   \n",
      "min             0.000000       0.000000       0.000000       0.000000   \n",
      "25%             0.000000      11.000000       4.000000       0.000000   \n",
      "50%             0.000000     222.000000      80.000000      15.000000   \n",
      "75%            86.000000     762.000000     281.000000      59.000000   \n",
      "max          7508.000000   26192.000000   13736.000000    6463.000000   \n",
      "\n",
      "       rich_500_walk  renters_500_walk  med_income_500_walk  \\\n",
      "count  619889.000000     619889.000000         6.198890e+05   \n",
      "mean       54.175533        110.705559         7.624005e+04   \n",
      "std       109.763214        313.911224         5.606168e+04   \n",
      "min         0.000000          0.000000        -5.800000e+03   \n",
      "25%         0.000000          1.000000         4.200000e+04   \n",
      "50%        16.000000         22.000000         7.740000e+04   \n",
      "75%        64.000000         99.000000         1.094000e+05   \n",
      "max      1908.000000      11601.000000         1.397000e+06   \n",
      "\n",
      "              ...          poor_1500_walk  rich_1500_walk  renters_1500_walk  \\\n",
      "count         ...           619889.000000   619889.000000      619889.000000   \n",
      "mean          ...              571.908997      523.535339        1083.708740   \n",
      "std           ...             1278.851807      920.972656        2687.584717   \n",
      "min           ...                0.000000        0.000000           0.000000   \n",
      "25%           ...               12.000000       16.000000          18.000000   \n",
      "50%           ...              232.000000      253.000000         376.000000   \n",
      "75%           ...              633.000000      667.000000        1106.000000   \n",
      "max           ...            21464.000000    12271.000000       43875.000000   \n",
      "\n",
      "       med_income_1500_walk  jobs_1500_walk  med_rent_1500_walk  \\\n",
      "count          6.198890e+05   619889.000000       619889.000000   \n",
      "mean           8.344331e+04     3186.207764         2202.296387   \n",
      "std            4.570446e+04     9871.583008         1375.862183   \n",
      "min           -5.800000e+03        0.000000           -1.000000   \n",
      "25%            6.240000e+04       44.000000         1679.000000   \n",
      "50%            8.400000e+04      929.000000         2425.000000   \n",
      "75%            1.070000e+05     3263.000000         3006.000000   \n",
      "max            1.397000e+06   201630.000000         9800.000000   \n",
      "\n",
      "       pop_white_1500_walk  pop_black_1500_walk  pop_asian_1500_walk  \\\n",
      "count        619889.000000        619889.000000        619889.000000   \n",
      "mean           3014.588623           316.472931          1455.853394   \n",
      "std            4400.088379           819.226746          2601.280518   \n",
      "min               0.000000             0.000000             0.000000   \n",
      "25%              95.000000             0.000000            31.000000   \n",
      "50%            1829.000000            47.000000           490.000000   \n",
      "75%            4271.000000           237.000000          1807.000000   \n",
      "max           56864.000000         10885.000000         34917.000000   \n",
      "\n",
      "       pop_hisp_1500_walk  \n",
      "count       619889.000000  \n",
      "mean          1058.294189  \n",
      "std           1630.667358  \n",
      "min              0.000000  \n",
      "25%             27.000000  \n",
      "50%            420.000000  \n",
      "75%           1448.000000  \n",
      "max          16286.000000  \n",
      "\n",
      "[8 rows x 32 columns]\n",
      "Time to execute step 'network_aggregations_walk': 636.80 s\n",
      "Total time to execute iteration 1 with iteration value None: 636.80 s\n"
     ]
    }
   ],
   "source": [
    "orca.run(['network_aggregations_walk'])"
   ]
  },
  {
   "cell_type": "code",
   "execution_count": null,
   "metadata": {},
   "outputs": [],
   "source": [
    "orca.list_tables()"
   ]
  },
  {
   "cell_type": "code",
   "execution_count": null,
   "metadata": {},
   "outputs": [],
   "source": [
    "print(orca.get_table('nodesdrive').to_frame().columns.tolist())"
   ]
  },
  {
   "cell_type": "code",
   "execution_count": null,
   "metadata": {
    "scrolled": true
   },
   "outputs": [],
   "source": [
    "nodesdrive = orca.get_table('nodesdrive').to_frame()"
   ]
  },
  {
   "cell_type": "code",
   "execution_count": null,
   "metadata": {},
   "outputs": [],
   "source": [
    "nodesdrive.to_csv('data/nodesdrive.csv')"
   ]
  },
  {
   "cell_type": "code",
   "execution_count": null,
   "metadata": {},
   "outputs": [],
   "source": [
    "nodessmall = orca.get_table('nodessmall').to_frame()"
   ]
  },
  {
   "cell_type": "code",
   "execution_count": null,
   "metadata": {},
   "outputs": [],
   "source": [
    "nodessmall.to_csv('data/nodessmall.csv')"
   ]
  },
  {
   "cell_type": "code",
   "execution_count": null,
   "metadata": {},
   "outputs": [],
   "source": [
    "rentals = orca.get_table('rentals').to_frame()"
   ]
  },
  {
   "cell_type": "code",
   "execution_count": null,
   "metadata": {
    "scrolled": true
   },
   "outputs": [],
   "source": [
    "rentals.head()"
   ]
  },
  {
   "cell_type": "code",
   "execution_count": null,
   "metadata": {},
   "outputs": [],
   "source": [
    "rentals.node_id_drive.isnull().sum()"
   ]
  },
  {
   "cell_type": "code",
   "execution_count": null,
   "metadata": {},
   "outputs": [],
   "source": [
    "print('{} nodes have median income zero or below'.format(len(nodessmall[nodessmall.med_income_10000 == -1])))\n",
    "\n",
    "print('Total nodes count {}'.format(len (nodessmall)))"
   ]
  },
  {
   "cell_type": "markdown",
   "metadata": {},
   "source": [
    "# Estimate a rental hedonic model\n",
    "\n",
    "The basic idea of the parcel template is that we create model steps by _passing arguments to classes_ rather than by writing Python functions and giving them Orca decorators, as we would for a fully custom model.\n",
    "\n",
    "Much of the functionality for this is already built into UrbanSim and Orca, we'll just need to extend things here and there.\n",
    "\n",
    "This demo uses a new RegressionStep() class that provides a full model development workflow: estimating a model, registering it with Orca, saving it for future use."
   ]
  },
  {
   "cell_type": "markdown",
   "metadata": {},
   "source": [
    "### Specify parameters and pass them to a model object"
   ]
  },
  {
   "cell_type": "code",
   "execution_count": 141,
   "metadata": {
    "scrolled": false
   },
   "outputs": [
    {
     "name": "stdout",
     "output_type": "stream",
     "text": [
      "                             OLS Regression Results                            \n",
      "===============================================================================\n",
      "Dep. Variable:     np.log1p(rent_sqft)   R-squared:                       0.381\n",
      "Model:                             OLS   Adj. R-squared:                  0.381\n",
      "Method:                  Least Squares   F-statistic:                 2.027e+04\n",
      "Date:                 Sun, 15 Jul 2018   Prob (F-statistic):               0.00\n",
      "Time:                         14:23:52   Log-Likelihood:                 76066.\n",
      "No. Observations:               362901   AIC:                        -1.521e+05\n",
      "Df Residuals:                   362889   BIC:                        -1.520e+05\n",
      "Df Model:                           11                                         \n",
      "Covariance Type:             nonrobust                                         \n",
      "==================================================================================================\n",
      "                                     coef    std err          t      P>|t|      [0.025      0.975]\n",
      "--------------------------------------------------------------------------------------------------\n",
      "Intercept                         -0.8138      0.011    -73.267      0.000      -0.836      -0.792\n",
      "np.log(units_500_walk + 1)        -0.0020      0.001     -3.767      0.000      -0.003      -0.001\n",
      "np.log(sqft_unit_500_walk + 2)    -0.0147      0.000    -83.977      0.000      -0.015      -0.014\n",
      "np.log(rich_500_walk + 1)          0.0267      0.001     51.266      0.000       0.026       0.028\n",
      "np.log(jobs_500_walk + 1)          0.0133      0.000     50.316      0.000       0.013       0.014\n",
      "np.log(jobs_1500_walk + 1)         0.0042      0.000     14.575      0.000       0.004       0.005\n",
      "np.log(jobs_10000 + 1)             0.0529      0.001     52.929      0.000       0.051       0.055\n",
      "np.log(jobs_25000 + 1)             0.1039      0.001    114.569      0.000       0.102       0.106\n",
      "np.log(pop_10000 + 1)              0.2007      0.002     85.592      0.000       0.196       0.205\n",
      "np.log(pop_black_10000 + 1)       -0.0329      0.000    -71.027      0.000      -0.034      -0.032\n",
      "np.log(pop_hisp_10000 + 1)        -0.1302      0.001   -110.479      0.000      -0.132      -0.128\n",
      "np.log(pop_asian_10000 + 1)       -0.0608      0.001    -73.967      0.000      -0.062      -0.059\n",
      "==============================================================================\n",
      "Omnibus:                    29256.588   Durbin-Watson:                   0.856\n",
      "Prob(Omnibus):                  0.000   Jarque-Bera (JB):           122643.646\n",
      "Skew:                          -0.310   Prob(JB):                         0.00\n",
      "Kurtosis:                       5.780   Cond. No.                     1.07e+03\n",
      "==============================================================================\n",
      "\n",
      "Warnings:\n",
      "[1] Standard Errors assume that the covariance matrix of the errors is correctly specified.\n",
      "[2] The condition number is large, 1.07e+03. This might indicate that there are\n",
      "strong multicollinearity or other numerical problems.\n"
     ]
    }
   ],
   "source": [
    "m = OLSRegressionStep()\n",
    "m.tables = ['rentals', 'nodessmall', 'nodeswalk']\n",
    "m.filters = ['rent_sqft < 10']\n",
    "m.model_expression = 'np.log1p(rent_sqft) ~ +  np.log(units_500_walk+1) + np.log(sqft_unit_500_walk+2)  + \\\n",
    "    np.log(rich_500_walk + 1) + \\\n",
    "    np.log(jobs_500_walk + 1) + np.log(jobs_1500_walk+1) + np.log(jobs_10000+1) + np.log(jobs_25000 + 1) + \\\n",
    "    np.log(pop_10000+1) + np.log(pop_black_10000+1) + np.log(pop_hisp_10000+1) + \\\n",
    "    np.log(pop_asian_10000+1)  '\n",
    "m.fit()"
   ]
  },
  {
   "cell_type": "code",
   "execution_count": 36,
   "metadata": {},
   "outputs": [
    {
     "data": {
      "text/plain": [
       "['parcels',\n",
       " 'buildings',\n",
       " 'craigslist',\n",
       " 'rentals',\n",
       " 'units',\n",
       " 'households',\n",
       " 'persons',\n",
       " 'jobs',\n",
       " 'nodessmall',\n",
       " 'nodeswalk']"
      ]
     },
     "execution_count": 36,
     "metadata": {},
     "output_type": "execute_result"
    }
   ],
   "source": [
    "orca.list_tables()"
   ]
  },
  {
   "cell_type": "code",
   "execution_count": 142,
   "metadata": {},
   "outputs": [],
   "source": [
    "rentals = orca.get_table('rentals').to_frame()\n",
    "rentals['predicted_ln_rent_sqft'] = 0.0\n",
    "orca.add_table('rentals', rentals)\n",
    "m.out_column = 'predicted_ln_rent_sqft'\n",
    "m.run()"
   ]
  },
  {
   "cell_type": "code",
   "execution_count": 143,
   "metadata": {},
   "outputs": [],
   "source": [
    "rentals['predicted_rent_sqft'] = np.exp(rentals['predicted_ln_rent_sqft'])"
   ]
  },
  {
   "cell_type": "code",
   "execution_count": 144,
   "metadata": {},
   "outputs": [],
   "source": [
    "rentals['residuals_rent_sqft'] = rentals.predicted_rent_sqft - rentals.rent_sqft"
   ]
  },
  {
   "cell_type": "code",
   "execution_count": 145,
   "metadata": {
    "scrolled": true
   },
   "outputs": [
    {
     "data": {
      "text/html": [
       "<div>\n",
       "<style scoped>\n",
       "    .dataframe tbody tr th:only-of-type {\n",
       "        vertical-align: middle;\n",
       "    }\n",
       "\n",
       "    .dataframe tbody tr th {\n",
       "        vertical-align: top;\n",
       "    }\n",
       "\n",
       "    .dataframe thead th {\n",
       "        text-align: right;\n",
       "    }\n",
       "</style>\n",
       "<table border=\"1\" class=\"dataframe\">\n",
       "  <thead>\n",
       "    <tr style=\"text-align: right;\">\n",
       "      <th></th>\n",
       "      <th>Unnamed: 0</th>\n",
       "      <th>date</th>\n",
       "      <th>region</th>\n",
       "      <th>neighborhood</th>\n",
       "      <th>rent</th>\n",
       "      <th>bedrooms</th>\n",
       "      <th>sqft</th>\n",
       "      <th>rent_sqft</th>\n",
       "      <th>longitude</th>\n",
       "      <th>latitude</th>\n",
       "      <th>county</th>\n",
       "      <th>fips_block</th>\n",
       "      <th>state</th>\n",
       "      <th>bathrooms</th>\n",
       "      <th>node_id_small</th>\n",
       "      <th>node_id_walk</th>\n",
       "      <th>predicted_ln_rent_sqft</th>\n",
       "      <th>predicted_rent_sqft</th>\n",
       "      <th>residuals_rent_sqft</th>\n",
       "    </tr>\n",
       "    <tr>\n",
       "      <th>pid</th>\n",
       "      <th></th>\n",
       "      <th></th>\n",
       "      <th></th>\n",
       "      <th></th>\n",
       "      <th></th>\n",
       "      <th></th>\n",
       "      <th></th>\n",
       "      <th></th>\n",
       "      <th></th>\n",
       "      <th></th>\n",
       "      <th></th>\n",
       "      <th></th>\n",
       "      <th></th>\n",
       "      <th></th>\n",
       "      <th></th>\n",
       "      <th></th>\n",
       "      <th></th>\n",
       "      <th></th>\n",
       "      <th></th>\n",
       "    </tr>\n",
       "  </thead>\n",
       "  <tbody>\n",
       "    <tr>\n",
       "      <th>5873885791</th>\n",
       "      <td>0</td>\n",
       "      <td>11/13/2016 0:00</td>\n",
       "      <td>sacramento</td>\n",
       "      <td></td>\n",
       "      <td>1717</td>\n",
       "      <td>2</td>\n",
       "      <td>943</td>\n",
       "      <td>1.820785</td>\n",
       "      <td>-121.962386</td>\n",
       "      <td>38.357364</td>\n",
       "      <td>Solano</td>\n",
       "      <td>6.095250e+13</td>\n",
       "      <td>CA</td>\n",
       "      <td></td>\n",
       "      <td>62413119</td>\n",
       "      <td>62413119</td>\n",
       "      <td>1.209947</td>\n",
       "      <td>3.353308</td>\n",
       "      <td>1.532523</td>\n",
       "    </tr>\n",
       "    <tr>\n",
       "      <th>5873796738</th>\n",
       "      <td>1</td>\n",
       "      <td>11/13/2016 0:00</td>\n",
       "      <td>sacramento</td>\n",
       "      <td>Fairfield</td>\n",
       "      <td>1275</td>\n",
       "      <td>2</td>\n",
       "      <td>900</td>\n",
       "      <td>1.416667</td>\n",
       "      <td>-122.019980</td>\n",
       "      <td>38.262374</td>\n",
       "      <td>Solano</td>\n",
       "      <td>6.095250e+13</td>\n",
       "      <td>CA</td>\n",
       "      <td></td>\n",
       "      <td>62388472</td>\n",
       "      <td>62424431</td>\n",
       "      <td>0.942277</td>\n",
       "      <td>2.565816</td>\n",
       "      <td>1.149149</td>\n",
       "    </tr>\n",
       "    <tr>\n",
       "      <th>5873897352</th>\n",
       "      <td>2</td>\n",
       "      <td>11/13/2016 0:00</td>\n",
       "      <td>sfbay</td>\n",
       "      <td>dublin / pleasanton / livermore</td>\n",
       "      <td>2250</td>\n",
       "      <td>1</td>\n",
       "      <td>687</td>\n",
       "      <td>3.275109</td>\n",
       "      <td>-121.888125</td>\n",
       "      <td>37.708458</td>\n",
       "      <td>Alameda</td>\n",
       "      <td>6.001450e+13</td>\n",
       "      <td>CA</td>\n",
       "      <td></td>\n",
       "      <td>3110365111</td>\n",
       "      <td>3110365111</td>\n",
       "      <td>1.421220</td>\n",
       "      <td>4.142170</td>\n",
       "      <td>0.867060</td>\n",
       "    </tr>\n",
       "    <tr>\n",
       "      <th>5873905471</th>\n",
       "      <td>3</td>\n",
       "      <td>11/13/2016 0:00</td>\n",
       "      <td>sfbay</td>\n",
       "      <td>potrero hill</td>\n",
       "      <td>5180</td>\n",
       "      <td>2</td>\n",
       "      <td>1060</td>\n",
       "      <td>4.886792</td>\n",
       "      <td>-122.403979</td>\n",
       "      <td>37.769428</td>\n",
       "      <td>San Francisco</td>\n",
       "      <td>6.075060e+13</td>\n",
       "      <td>CA</td>\n",
       "      <td></td>\n",
       "      <td>2304626340</td>\n",
       "      <td>3985226614</td>\n",
       "      <td>1.640927</td>\n",
       "      <td>5.159951</td>\n",
       "      <td>0.273158</td>\n",
       "    </tr>\n",
       "    <tr>\n",
       "      <th>5873905300</th>\n",
       "      <td>4</td>\n",
       "      <td>11/13/2016 0:00</td>\n",
       "      <td>sfbay</td>\n",
       "      <td>santa clara</td>\n",
       "      <td>2588</td>\n",
       "      <td>2</td>\n",
       "      <td>1070</td>\n",
       "      <td>2.418692</td>\n",
       "      <td>-121.959929</td>\n",
       "      <td>37.397865</td>\n",
       "      <td>Santa Clara</td>\n",
       "      <td>6.085500e+13</td>\n",
       "      <td>CA</td>\n",
       "      <td></td>\n",
       "      <td>1071836625</td>\n",
       "      <td>4106391993</td>\n",
       "      <td>1.463951</td>\n",
       "      <td>4.323008</td>\n",
       "      <td>1.904316</td>\n",
       "    </tr>\n",
       "  </tbody>\n",
       "</table>\n",
       "</div>"
      ],
      "text/plain": [
       "            Unnamed: 0             date      region  \\\n",
       "pid                                                   \n",
       "5873885791           0  11/13/2016 0:00  sacramento   \n",
       "5873796738           1  11/13/2016 0:00  sacramento   \n",
       "5873897352           2  11/13/2016 0:00       sfbay   \n",
       "5873905471           3  11/13/2016 0:00       sfbay   \n",
       "5873905300           4  11/13/2016 0:00       sfbay   \n",
       "\n",
       "                               neighborhood  rent  bedrooms  sqft  rent_sqft  \\\n",
       "pid                                                                            \n",
       "5873885791                                   1717         2   943   1.820785   \n",
       "5873796738                        Fairfield  1275         2   900   1.416667   \n",
       "5873897352  dublin / pleasanton / livermore  2250         1   687   3.275109   \n",
       "5873905471                     potrero hill  5180         2  1060   4.886792   \n",
       "5873905300                      santa clara  2588         2  1070   2.418692   \n",
       "\n",
       "             longitude   latitude         county    fips_block state  \\\n",
       "pid                                                                    \n",
       "5873885791 -121.962386  38.357364         Solano  6.095250e+13    CA   \n",
       "5873796738 -122.019980  38.262374         Solano  6.095250e+13    CA   \n",
       "5873897352 -121.888125  37.708458        Alameda  6.001450e+13    CA   \n",
       "5873905471 -122.403979  37.769428  San Francisco  6.075060e+13    CA   \n",
       "5873905300 -121.959929  37.397865    Santa Clara  6.085500e+13    CA   \n",
       "\n",
       "           bathrooms  node_id_small  node_id_walk  predicted_ln_rent_sqft  \\\n",
       "pid                                                                         \n",
       "5873885791                 62413119      62413119                1.209947   \n",
       "5873796738                 62388472      62424431                0.942277   \n",
       "5873897352               3110365111    3110365111                1.421220   \n",
       "5873905471               2304626340    3985226614                1.640927   \n",
       "5873905300               1071836625    4106391993                1.463951   \n",
       "\n",
       "            predicted_rent_sqft  residuals_rent_sqft  \n",
       "pid                                                   \n",
       "5873885791             3.353308             1.532523  \n",
       "5873796738             2.565816             1.149149  \n",
       "5873897352             4.142170             0.867060  \n",
       "5873905471             5.159951             0.273158  \n",
       "5873905300             4.323008             1.904316  "
      ]
     },
     "execution_count": 145,
     "metadata": {},
     "output_type": "execute_result"
    }
   ],
   "source": [
    "rentals.head()"
   ]
  },
  {
   "cell_type": "code",
   "execution_count": 147,
   "metadata": {},
   "outputs": [
    {
     "data": {
      "text/html": [
       "<div>\n",
       "<style scoped>\n",
       "    .dataframe tbody tr th:only-of-type {\n",
       "        vertical-align: middle;\n",
       "    }\n",
       "\n",
       "    .dataframe tbody tr th {\n",
       "        vertical-align: top;\n",
       "    }\n",
       "\n",
       "    .dataframe thead th {\n",
       "        text-align: right;\n",
       "    }\n",
       "</style>\n",
       "<table border=\"1\" class=\"dataframe\">\n",
       "  <thead>\n",
       "    <tr style=\"text-align: right;\">\n",
       "      <th></th>\n",
       "      <th>rent_sqft</th>\n",
       "      <th>predicted_rent_sqft</th>\n",
       "      <th>residuals_rent_sqft</th>\n",
       "    </tr>\n",
       "  </thead>\n",
       "  <tbody>\n",
       "    <tr>\n",
       "      <th>count</th>\n",
       "      <td>363055.000000</td>\n",
       "      <td>363055.000000</td>\n",
       "      <td>363055.000000</td>\n",
       "    </tr>\n",
       "    <tr>\n",
       "      <th>mean</th>\n",
       "      <td>3.177249</td>\n",
       "      <td>4.092501</td>\n",
       "      <td>0.915253</td>\n",
       "    </tr>\n",
       "    <tr>\n",
       "      <th>std</th>\n",
       "      <td>1.089517</td>\n",
       "      <td>0.607722</td>\n",
       "      <td>0.861962</td>\n",
       "    </tr>\n",
       "    <tr>\n",
       "      <th>min</th>\n",
       "      <td>0.283500</td>\n",
       "      <td>1.097679</td>\n",
       "      <td>-15.669708</td>\n",
       "    </tr>\n",
       "    <tr>\n",
       "      <th>25%</th>\n",
       "      <td>2.493750</td>\n",
       "      <td>3.685515</td>\n",
       "      <td>0.518947</td>\n",
       "    </tr>\n",
       "    <tr>\n",
       "      <th>50%</th>\n",
       "      <td>2.998120</td>\n",
       "      <td>4.125336</td>\n",
       "      <td>1.011312</td>\n",
       "    </tr>\n",
       "    <tr>\n",
       "      <th>75%</th>\n",
       "      <td>3.675385</td>\n",
       "      <td>4.482569</td>\n",
       "      <td>1.438966</td>\n",
       "    </tr>\n",
       "    <tr>\n",
       "      <th>max</th>\n",
       "      <td>19.609375</td>\n",
       "      <td>6.788840</td>\n",
       "      <td>5.633089</td>\n",
       "    </tr>\n",
       "  </tbody>\n",
       "</table>\n",
       "</div>"
      ],
      "text/plain": [
       "           rent_sqft  predicted_rent_sqft  residuals_rent_sqft\n",
       "count  363055.000000        363055.000000        363055.000000\n",
       "mean        3.177249             4.092501             0.915253\n",
       "std         1.089517             0.607722             0.861962\n",
       "min         0.283500             1.097679           -15.669708\n",
       "25%         2.493750             3.685515             0.518947\n",
       "50%         2.998120             4.125336             1.011312\n",
       "75%         3.675385             4.482569             1.438966\n",
       "max        19.609375             6.788840             5.633089"
      ]
     },
     "execution_count": 147,
     "metadata": {},
     "output_type": "execute_result"
    }
   ],
   "source": [
    "rentals[['rent_sqft','predicted_rent_sqft','residuals_rent_sqft']].describe()"
   ]
  },
  {
   "cell_type": "code",
   "execution_count": 148,
   "metadata": {},
   "outputs": [
    {
     "data": {
      "image/png": "[encoded data removed]",
      "text/plain": [
       "<Figure size 576x576 with 1 Axes>"
      ]
     },
     "metadata": {},
     "output_type": "display_data"
    }
   ],
   "source": [
    "from scipy.stats import norm\n",
    "plt.rcParams['figure.figsize']=8,8\n",
    "#plot(residuals.mean(),0, residuals.mean(), 2.25)\n",
    "sns.set_style(\"white\")\n",
    "sns.set_style(\"ticks\")\n",
    "ax = sns.distplot(rentals.residuals_rent_sqft, fit=norm, kde=False)"
   ]
  },
  {
   "cell_type": "code",
   "execution_count": 94,
   "metadata": {},
   "outputs": [
    {
     "data": {
      "image/png": "[encoded data removed]",
      "text/plain": [
       "<Figure size 576x576 with 1 Axes>"
      ]
     },
     "metadata": {},
     "output_type": "display_data"
    }
   ],
   "source": [
    "ax = sns.regplot(y = rentals.predicted_rent_sqft, x = rentals.rent_sqft, \\\n",
    "                 scatter_kws={\"color\":\"darkred\",\"alpha\":0.3,\"s\":1}\\\n",
    "               )"
   ]
  },
  {
   "cell_type": "code",
   "execution_count": 98,
   "metadata": {
    "scrolled": false
   },
   "outputs": [
    {
     "name": "stdout",
     "output_type": "stream",
     "text": [
      "                            OLS Regression Results                            \n",
      "==============================================================================\n",
      "Dep. Variable:         np.log1p(rent)   R-squared:                       0.601\n",
      "Model:                            OLS   Adj. R-squared:                  0.601\n",
      "Method:                 Least Squares   F-statistic:                 3.641e+04\n",
      "Date:                Sun, 15 Jul 2018   Prob (F-statistic):               0.00\n",
      "Time:                        12:54:34   Log-Likelihood:                 41128.\n",
      "No. Observations:              363055   AIC:                        -8.222e+04\n",
      "Df Residuals:                  363039   BIC:                        -8.205e+04\n",
      "Df Model:                          15                                         \n",
      "Covariance Type:            nonrobust                                         \n",
      "===============================================================================================\n",
      "                                  coef    std err          t      P>|t|      [0.025      0.975]\n",
      "-----------------------------------------------------------------------------------------------\n",
      "Intercept                       1.3794      0.016     87.906      0.000       1.349       1.410\n",
      "C(bedrooms)[T.1]               -0.0126      0.002     -8.199      0.000      -0.016      -0.010\n",
      "C(bedrooms)[T.2]                0.0286      0.002     15.983      0.000       0.025       0.032\n",
      "C(bedrooms)[T.3]                0.0831      0.002     35.769      0.000       0.079       0.088\n",
      "C(bedrooms)[T.4]                0.1108      0.003     35.775      0.000       0.105       0.117\n",
      "C(bedrooms)[T.5]                0.1712      0.005     32.276      0.000       0.161       0.182\n",
      "np.log(sqft)                    0.4847      0.002    297.463      0.000       0.481       0.488\n",
      "np.log(units_500_walk + 1)      0.0014      0.000      5.212      0.000       0.001       0.002\n",
      "np.log(jobs_500_walk + 1)       0.0202      0.000     71.792      0.000       0.020       0.021\n",
      "np.log(jobs_1500_walk + 1)      0.0055      0.000     17.472      0.000       0.005       0.006\n",
      "np.log(jobs_10000 + 1)          0.0611      0.001     55.392      0.000       0.059       0.063\n",
      "np.log(jobs_25000)              0.1477      0.001    148.970      0.000       0.146       0.150\n",
      "np.log(pop_10000 + 1)           0.3243      0.003    127.095      0.000       0.319       0.329\n",
      "np.log(pop_black_10000 + 1)    -0.0566      0.000   -116.171      0.000      -0.058      -0.056\n",
      "np.log(pop_hisp_10000 + 1)     -0.2051      0.001   -161.302      0.000      -0.208      -0.203\n",
      "np.log(pop_asian_10000 + 1)    -0.0818      0.001    -90.513      0.000      -0.084      -0.080\n",
      "==============================================================================\n",
      "Omnibus:                    80582.045   Durbin-Watson:                   0.742\n",
      "Prob(Omnibus):                  0.000   Jarque-Bera (JB):           621313.192\n",
      "Skew:                          -0.862   Prob(JB):                         0.00\n",
      "Kurtosis:                       9.172   Cond. No.                     1.37e+03\n",
      "==============================================================================\n",
      "\n",
      "Warnings:\n",
      "[1] Standard Errors assume that the covariance matrix of the errors is correctly specified.\n",
      "[2] The condition number is large, 1.37e+03. This might indicate that there are\n",
      "strong multicollinearity or other numerical problems.\n"
     ]
    }
   ],
   "source": [
    "m_rent = OLSRegressionStep()\n",
    "m_rent.tables = ['rentals', 'nodessmall', 'nodeswalk']\n",
    "m_rent.model_expression = 'np.log1p(rent) ~ + np.log(sqft) + C(bedrooms) + np.log(units_500_walk + 1) +\\\n",
    "    np.log(jobs_500_walk + 1) + np.log(jobs_1500_walk+1) + np.log(jobs_10000+1) + np.log(jobs_25000) + \\\n",
    "    np.log(pop_10000+1) + np.log(pop_black_10000+1) + np.log(pop_hisp_10000+1) + \\\n",
    "    np.log(pop_asian_10000+1)'\n",
    "m_rent.fit()"
   ]
  },
  {
   "cell_type": "code",
   "execution_count": 99,
   "metadata": {},
   "outputs": [],
   "source": [
    "rentals['predicted_ln_rent'] = 0.0\n",
    "m_rent.out_column = 'predicted_ln_rent'\n",
    "m_rent.run()\n",
    "rentals = orca.get_table('rentals').to_frame()\n",
    "rentals['predicted_rent'] = np.exp(rentals.predicted_ln_rent)\n",
    "rentals['residuals_rent'] = rentals.predicted_rent - rentals.rent"
   ]
  },
  {
   "cell_type": "code",
   "execution_count": 100,
   "metadata": {
    "scrolled": true
   },
   "outputs": [
    {
     "data": {
      "text/html": [
       "<div>\n",
       "<style scoped>\n",
       "    .dataframe tbody tr th:only-of-type {\n",
       "        vertical-align: middle;\n",
       "    }\n",
       "\n",
       "    .dataframe tbody tr th {\n",
       "        vertical-align: top;\n",
       "    }\n",
       "\n",
       "    .dataframe thead th {\n",
       "        text-align: right;\n",
       "    }\n",
       "</style>\n",
       "<table border=\"1\" class=\"dataframe\">\n",
       "  <thead>\n",
       "    <tr style=\"text-align: right;\">\n",
       "      <th></th>\n",
       "      <th>Unnamed: 0</th>\n",
       "      <th>date</th>\n",
       "      <th>region</th>\n",
       "      <th>neighborhood</th>\n",
       "      <th>rent</th>\n",
       "      <th>bedrooms</th>\n",
       "      <th>sqft</th>\n",
       "      <th>rent_sqft</th>\n",
       "      <th>longitude</th>\n",
       "      <th>latitude</th>\n",
       "      <th>...</th>\n",
       "      <th>state</th>\n",
       "      <th>bathrooms</th>\n",
       "      <th>node_id_small</th>\n",
       "      <th>node_id_walk</th>\n",
       "      <th>predicted_rent_sqft</th>\n",
       "      <th>residuals_rent_sqft</th>\n",
       "      <th>predicted_ln_rent_sqft</th>\n",
       "      <th>predicted_ln_rent</th>\n",
       "      <th>predicted_rent</th>\n",
       "      <th>residuals_rent</th>\n",
       "    </tr>\n",
       "    <tr>\n",
       "      <th>pid</th>\n",
       "      <th></th>\n",
       "      <th></th>\n",
       "      <th></th>\n",
       "      <th></th>\n",
       "      <th></th>\n",
       "      <th></th>\n",
       "      <th></th>\n",
       "      <th></th>\n",
       "      <th></th>\n",
       "      <th></th>\n",
       "      <th></th>\n",
       "      <th></th>\n",
       "      <th></th>\n",
       "      <th></th>\n",
       "      <th></th>\n",
       "      <th></th>\n",
       "      <th></th>\n",
       "      <th></th>\n",
       "      <th></th>\n",
       "      <th></th>\n",
       "      <th></th>\n",
       "    </tr>\n",
       "  </thead>\n",
       "  <tbody>\n",
       "    <tr>\n",
       "      <th>5873885791</th>\n",
       "      <td>0</td>\n",
       "      <td>11/13/2016 0:00</td>\n",
       "      <td>sacramento</td>\n",
       "      <td></td>\n",
       "      <td>1717</td>\n",
       "      <td>2</td>\n",
       "      <td>943</td>\n",
       "      <td>1.820785</td>\n",
       "      <td>-121.962386</td>\n",
       "      <td>38.357364</td>\n",
       "      <td>...</td>\n",
       "      <td>CA</td>\n",
       "      <td></td>\n",
       "      <td>62413119</td>\n",
       "      <td>62413119</td>\n",
       "      <td>3.299259</td>\n",
       "      <td>1.478474</td>\n",
       "      <td>1.193698</td>\n",
       "      <td>7.657601</td>\n",
       "      <td>2116.673233</td>\n",
       "      <td>399.673233</td>\n",
       "    </tr>\n",
       "    <tr>\n",
       "      <th>5873796738</th>\n",
       "      <td>1</td>\n",
       "      <td>11/13/2016 0:00</td>\n",
       "      <td>sacramento</td>\n",
       "      <td>Fairfield</td>\n",
       "      <td>1275</td>\n",
       "      <td>2</td>\n",
       "      <td>900</td>\n",
       "      <td>1.416667</td>\n",
       "      <td>-122.019980</td>\n",
       "      <td>38.262374</td>\n",
       "      <td>...</td>\n",
       "      <td>CA</td>\n",
       "      <td></td>\n",
       "      <td>62388472</td>\n",
       "      <td>62424431</td>\n",
       "      <td>2.623970</td>\n",
       "      <td>1.207303</td>\n",
       "      <td>0.964688</td>\n",
       "      <td>7.353227</td>\n",
       "      <td>1561.226418</td>\n",
       "      <td>286.226418</td>\n",
       "    </tr>\n",
       "    <tr>\n",
       "      <th>5873897352</th>\n",
       "      <td>2</td>\n",
       "      <td>11/13/2016 0:00</td>\n",
       "      <td>sfbay</td>\n",
       "      <td>dublin / pleasanton / livermore</td>\n",
       "      <td>2250</td>\n",
       "      <td>1</td>\n",
       "      <td>687</td>\n",
       "      <td>3.275109</td>\n",
       "      <td>-121.888125</td>\n",
       "      <td>37.708458</td>\n",
       "      <td>...</td>\n",
       "      <td>CA</td>\n",
       "      <td></td>\n",
       "      <td>3110365111</td>\n",
       "      <td>3110365111</td>\n",
       "      <td>4.160083</td>\n",
       "      <td>0.884974</td>\n",
       "      <td>1.425535</td>\n",
       "      <td>7.771571</td>\n",
       "      <td>2372.194640</td>\n",
       "      <td>122.194640</td>\n",
       "    </tr>\n",
       "    <tr>\n",
       "      <th>5873905471</th>\n",
       "      <td>3</td>\n",
       "      <td>11/13/2016 0:00</td>\n",
       "      <td>sfbay</td>\n",
       "      <td>potrero hill</td>\n",
       "      <td>5180</td>\n",
       "      <td>2</td>\n",
       "      <td>1060</td>\n",
       "      <td>4.886792</td>\n",
       "      <td>-122.403979</td>\n",
       "      <td>37.769428</td>\n",
       "      <td>...</td>\n",
       "      <td>CA</td>\n",
       "      <td></td>\n",
       "      <td>2304626340</td>\n",
       "      <td>3985226614</td>\n",
       "      <td>4.904011</td>\n",
       "      <td>0.017219</td>\n",
       "      <td>1.590054</td>\n",
       "      <td>8.218186</td>\n",
       "      <td>3707.769417</td>\n",
       "      <td>-1472.230583</td>\n",
       "    </tr>\n",
       "    <tr>\n",
       "      <th>5873905300</th>\n",
       "      <td>4</td>\n",
       "      <td>11/13/2016 0:00</td>\n",
       "      <td>sfbay</td>\n",
       "      <td>santa clara</td>\n",
       "      <td>2588</td>\n",
       "      <td>2</td>\n",
       "      <td>1070</td>\n",
       "      <td>2.418692</td>\n",
       "      <td>-121.959929</td>\n",
       "      <td>37.397865</td>\n",
       "      <td>...</td>\n",
       "      <td>CA</td>\n",
       "      <td></td>\n",
       "      <td>1071836625</td>\n",
       "      <td>4106391993</td>\n",
       "      <td>4.253634</td>\n",
       "      <td>1.834943</td>\n",
       "      <td>1.447774</td>\n",
       "      <td>8.074508</td>\n",
       "      <td>3211.547168</td>\n",
       "      <td>623.547168</td>\n",
       "    </tr>\n",
       "  </tbody>\n",
       "</table>\n",
       "<p>5 rows × 22 columns</p>\n",
       "</div>"
      ],
      "text/plain": [
       "            Unnamed: 0             date      region  \\\n",
       "pid                                                   \n",
       "5873885791           0  11/13/2016 0:00  sacramento   \n",
       "5873796738           1  11/13/2016 0:00  sacramento   \n",
       "5873897352           2  11/13/2016 0:00       sfbay   \n",
       "5873905471           3  11/13/2016 0:00       sfbay   \n",
       "5873905300           4  11/13/2016 0:00       sfbay   \n",
       "\n",
       "                               neighborhood  rent  bedrooms  sqft  rent_sqft  \\\n",
       "pid                                                                            \n",
       "5873885791                                   1717         2   943   1.820785   \n",
       "5873796738                        Fairfield  1275         2   900   1.416667   \n",
       "5873897352  dublin / pleasanton / livermore  2250         1   687   3.275109   \n",
       "5873905471                     potrero hill  5180         2  1060   4.886792   \n",
       "5873905300                      santa clara  2588         2  1070   2.418692   \n",
       "\n",
       "             longitude   latitude       ...       state  bathrooms  \\\n",
       "pid                                     ...                          \n",
       "5873885791 -121.962386  38.357364       ...          CA              \n",
       "5873796738 -122.019980  38.262374       ...          CA              \n",
       "5873897352 -121.888125  37.708458       ...          CA              \n",
       "5873905471 -122.403979  37.769428       ...          CA              \n",
       "5873905300 -121.959929  37.397865       ...          CA              \n",
       "\n",
       "           node_id_small node_id_walk  predicted_rent_sqft  \\\n",
       "pid                                                          \n",
       "5873885791      62413119     62413119             3.299259   \n",
       "5873796738      62388472     62424431             2.623970   \n",
       "5873897352    3110365111   3110365111             4.160083   \n",
       "5873905471    2304626340   3985226614             4.904011   \n",
       "5873905300    1071836625   4106391993             4.253634   \n",
       "\n",
       "            residuals_rent_sqft  predicted_ln_rent_sqft  predicted_ln_rent  \\\n",
       "pid                                                                          \n",
       "5873885791             1.478474                1.193698           7.657601   \n",
       "5873796738             1.207303                0.964688           7.353227   \n",
       "5873897352             0.884974                1.425535           7.771571   \n",
       "5873905471             0.017219                1.590054           8.218186   \n",
       "5873905300             1.834943                1.447774           8.074508   \n",
       "\n",
       "            predicted_rent  residuals_rent  \n",
       "pid                                         \n",
       "5873885791     2116.673233      399.673233  \n",
       "5873796738     1561.226418      286.226418  \n",
       "5873897352     2372.194640      122.194640  \n",
       "5873905471     3707.769417    -1472.230583  \n",
       "5873905300     3211.547168      623.547168  \n",
       "\n",
       "[5 rows x 22 columns]"
      ]
     },
     "execution_count": 100,
     "metadata": {},
     "output_type": "execute_result"
    }
   ],
   "source": [
    "rentals.head()"
   ]
  },
  {
   "cell_type": "code",
   "execution_count": null,
   "metadata": {},
   "outputs": [],
   "source": []
  },
  {
   "cell_type": "code",
   "execution_count": 101,
   "metadata": {},
   "outputs": [
    {
     "data": {
      "text/html": [
       "<div>\n",
       "<style scoped>\n",
       "    .dataframe tbody tr th:only-of-type {\n",
       "        vertical-align: middle;\n",
       "    }\n",
       "\n",
       "    .dataframe tbody tr th {\n",
       "        vertical-align: top;\n",
       "    }\n",
       "\n",
       "    .dataframe thead th {\n",
       "        text-align: right;\n",
       "    }\n",
       "</style>\n",
       "<table border=\"1\" class=\"dataframe\">\n",
       "  <thead>\n",
       "    <tr style=\"text-align: right;\">\n",
       "      <th></th>\n",
       "      <th>rent</th>\n",
       "      <th>predicted_rent</th>\n",
       "      <th>residuals_rent</th>\n",
       "    </tr>\n",
       "  </thead>\n",
       "  <tbody>\n",
       "    <tr>\n",
       "      <th>count</th>\n",
       "      <td>363055.000000</td>\n",
       "      <td>363055.000000</td>\n",
       "      <td>363055.000000</td>\n",
       "    </tr>\n",
       "    <tr>\n",
       "      <th>mean</th>\n",
       "      <td>2928.400578</td>\n",
       "      <td>2854.744078</td>\n",
       "      <td>-73.656500</td>\n",
       "    </tr>\n",
       "    <tr>\n",
       "      <th>std</th>\n",
       "      <td>1103.376658</td>\n",
       "      <td>769.067056</td>\n",
       "      <td>694.511661</td>\n",
       "    </tr>\n",
       "    <tr>\n",
       "      <th>min</th>\n",
       "      <td>905.000000</td>\n",
       "      <td>465.581220</td>\n",
       "      <td>-6642.274957</td>\n",
       "    </tr>\n",
       "    <tr>\n",
       "      <th>25%</th>\n",
       "      <td>2200.000000</td>\n",
       "      <td>2328.159406</td>\n",
       "      <td>-342.543711</td>\n",
       "    </tr>\n",
       "    <tr>\n",
       "      <th>50%</th>\n",
       "      <td>2695.000000</td>\n",
       "      <td>2754.677173</td>\n",
       "      <td>18.913014</td>\n",
       "    </tr>\n",
       "    <tr>\n",
       "      <th>75%</th>\n",
       "      <td>3400.000000</td>\n",
       "      <td>3281.467553</td>\n",
       "      <td>296.238999</td>\n",
       "    </tr>\n",
       "    <tr>\n",
       "      <th>max</th>\n",
       "      <td>9800.000000</td>\n",
       "      <td>9287.569689</td>\n",
       "      <td>7961.569689</td>\n",
       "    </tr>\n",
       "  </tbody>\n",
       "</table>\n",
       "</div>"
      ],
      "text/plain": [
       "                rent  predicted_rent  residuals_rent\n",
       "count  363055.000000   363055.000000   363055.000000\n",
       "mean     2928.400578     2854.744078      -73.656500\n",
       "std      1103.376658      769.067056      694.511661\n",
       "min       905.000000      465.581220    -6642.274957\n",
       "25%      2200.000000     2328.159406     -342.543711\n",
       "50%      2695.000000     2754.677173       18.913014\n",
       "75%      3400.000000     3281.467553      296.238999\n",
       "max      9800.000000     9287.569689     7961.569689"
      ]
     },
     "execution_count": 101,
     "metadata": {},
     "output_type": "execute_result"
    }
   ],
   "source": [
    "rentals[['rent','predicted_rent', 'residuals_rent']].describe()"
   ]
  },
  {
   "cell_type": "code",
   "execution_count": 102,
   "metadata": {
    "scrolled": false
   },
   "outputs": [
    {
     "data": {
      "image/png": "[encoded data removed]",
      "text/plain": [
       "<Figure size 576x576 with 1 Axes>"
      ]
     },
     "metadata": {},
     "output_type": "display_data"
    }
   ],
   "source": [
    "sns.set_style(\"white\")\n",
    "sns.set_style(\"ticks\")\n",
    "ax = sns.distplot(rentals.residuals_rent, fit=norm, kde=False)"
   ]
  },
  {
   "cell_type": "code",
   "execution_count": 103,
   "metadata": {},
   "outputs": [
    {
     "data": {
      "image/png": "[encoded data removed]",
      "text/plain": [
       "<Figure size 576x576 with 1 Axes>"
      ]
     },
     "metadata": {},
     "output_type": "display_data"
    }
   ],
   "source": [
    "ax = sns.regplot(y = rentals.predicted_rent, x = rentals.rent, \\\n",
    "                 scatter_kws={\"color\":\"darkred\",\"alpha\":0.3,\"s\":1}\\\n",
    "               )"
   ]
  },
  {
   "cell_type": "markdown",
   "metadata": {},
   "source": [
    "### If we like it, register it as an Orca step"
   ]
  },
  {
   "cell_type": "code",
   "execution_count": null,
   "metadata": {},
   "outputs": [],
   "source": [
    "model.register()"
   ]
  },
  {
   "cell_type": "code",
   "execution_count": null,
   "metadata": {},
   "outputs": [],
   "source": [
    "orca.list_steps()"
   ]
  },
  {
   "cell_type": "code",
   "execution_count": null,
   "metadata": {},
   "outputs": [],
   "source": []
  },
  {
   "cell_type": "markdown",
   "metadata": {},
   "source": [
    "### Run the Orca step"
   ]
  },
  {
   "cell_type": "code",
   "execution_count": null,
   "metadata": {},
   "outputs": [],
   "source": [
    "orca.run(['RegressionStep-20180214-210159'])"
   ]
  },
  {
   "cell_type": "code",
   "execution_count": null,
   "metadata": {},
   "outputs": [],
   "source": []
  },
  {
   "cell_type": "markdown",
   "metadata": {},
   "source": [
    "### Check the fitted values"
   ]
  },
  {
   "cell_type": "code",
   "execution_count": null,
   "metadata": {},
   "outputs": [],
   "source": [
    "df = orca.get_table('buildings').to_frame(['res_price_per_sqft', 'fitted_price'])\n",
    "df.loc[df.fitted_price > 0].describe()"
   ]
  },
  {
   "cell_type": "code",
   "execution_count": null,
   "metadata": {},
   "outputs": [],
   "source": []
  },
  {
   "cell_type": "markdown",
   "metadata": {},
   "source": [
    "### BONUS\n",
    "\n",
    "Running \"model.register()\" also registered the step with the new ModelManager extention, which saves it to disk so that it can be automatically re-loaded in the future.\n",
    "\n",
    "The \"test\" model steps here were estimated earlier and loaded from disk. They're fully functional: we can run them in Orca, inspect the estimation results, etc."
   ]
  },
  {
   "cell_type": "code",
   "execution_count": null,
   "metadata": {},
   "outputs": [],
   "source": [
    "mm.list_steps()"
   ]
  },
  {
   "cell_type": "code",
   "execution_count": null,
   "metadata": {},
   "outputs": [],
   "source": [
    "rs = mm.get_step('test-1')\n",
    "type(rs)"
   ]
  },
  {
   "cell_type": "code",
   "execution_count": null,
   "metadata": {},
   "outputs": [],
   "source": [
    "rs.model_expression"
   ]
  },
  {
   "cell_type": "code",
   "execution_count": null,
   "metadata": {},
   "outputs": [],
   "source": [
    "rs.model.report_fit()"
   ]
  },
  {
   "cell_type": "code",
   "execution_count": null,
   "metadata": {},
   "outputs": [],
   "source": []
  },
  {
   "cell_type": "code",
   "execution_count": null,
   "metadata": {},
   "outputs": [],
   "source": []
  },
  {
   "cell_type": "code",
   "execution_count": null,
   "metadata": {},
   "outputs": [],
   "source": []
  },
  {
   "cell_type": "code",
   "execution_count": null,
   "metadata": {},
   "outputs": [],
   "source": []
  },
  {
   "cell_type": "code",
   "execution_count": null,
   "metadata": {},
   "outputs": [],
   "source": []
  },
  {
   "cell_type": "code",
   "execution_count": null,
   "metadata": {},
   "outputs": [],
   "source": []
  }
 ],
 "metadata": {
  "kernelspec": {
   "display_name": "Python 3",
   "language": "python",
   "name": "python3"
  },
  "language_info": {
   "codemirror_mode": {
    "name": "ipython",
    "version": 3
   },
   "file_extension": ".py",
   "mimetype": "text/x-python",
   "name": "python",
   "nbconvert_exporter": "python",
   "pygments_lexer": "ipython3",
   "version": "3.6.5"
  }
 },
 "nbformat": 4,
 "nbformat_minor": 2
}
