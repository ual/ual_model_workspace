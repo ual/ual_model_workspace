{
 "cells": [
  {
   "cell_type": "code",
   "execution_count": 1,
   "metadata": {},
   "outputs": [],
   "source": [
    "import pandas as pd"
   ]
  },
  {
   "cell_type": "code",
   "execution_count": 2,
   "metadata": {},
   "outputs": [],
   "source": [
    "path = '../data/'"
   ]
  },
  {
   "cell_type": "code",
   "execution_count": 44,
   "metadata": {},
   "outputs": [],
   "source": [
    "sales = pd.read_csv(path+'sales.csv', low_memory=False,usecols=['sr_property_id', 'mm_fips_county_name',\n",
    "        'sr_val_transfer', 'sr_tax_transfer','sr_date_transfer','sr_arms_length_flag',\n",
    "        'distress_indicator', 'sa_x_coord', 'sa_y_coord','ucb_geo_id', 'use_code_std','sr_tran_type',\n",
    "       'ucb_price_sqft', 'ucb_price_sqft_adj', 'ucb_condo_subdiv_flag',\n",
    "       'ucb_condo_subdiv_sqft'])"
   ]
  },
  {
   "cell_type": "code",
   "execution_count": 45,
   "metadata": {},
   "outputs": [
    {
     "data": {
      "text/plain": [
       "Index(['sr_property_id', 'mm_fips_county_name', 'sr_val_transfer',\n",
       "       'sr_tax_transfer', 'sr_date_transfer', 'sr_tran_type',\n",
       "       'sr_arms_length_flag', 'distress_indicator', 'use_code_std',\n",
       "       'sa_x_coord', 'sa_y_coord', 'ucb_geo_id', 'ucb_price_sqft',\n",
       "       'ucb_price_sqft_adj', 'ucb_condo_subdiv_flag', 'ucb_condo_subdiv_sqft'],\n",
       "      dtype='object')"
      ]
     },
     "execution_count": 45,
     "metadata": {},
     "output_type": "execute_result"
    }
   ],
   "source": [
    "sales.columns"
   ]
  },
  {
   "cell_type": "code",
   "execution_count": 35,
   "metadata": {},
   "outputs": [],
   "source": [
    "assr = pd.read_csv(path+'assr.csv', low_memory=False, usecols=[\"SA_PROPERTY_ID\", \"SA_BLDG_SQFT\",\"SA_CONDITION_CODE\",\n",
    "        \"SA_CONSTRUCTION_CODE\",\"SA_CONSTRUCTION_QLTY\",\"SA_LOTSIZE\",\"SA_NBR_BATH\", \"SA_NBR_BEDRMS\", \"SA_NBR_STORIES\",\n",
    "        \"SA_NBR_UNITS\", \"SA_SQFT\", \"SA_YR_BLT\", \"SA_YR_BLT_EFFECT\", \"SA_CENSUS_TRACT\", \"SA_CENSUS_BLOCK_GROUP\"])"
   ]
  },
  {
   "cell_type": "code",
   "execution_count": 36,
   "metadata": {},
   "outputs": [
    {
     "data": {
      "text/plain": [
       "Index(['SA_PROPERTY_ID', 'SA_BLDG_SQFT', 'SA_CONDITION_CODE',\n",
       "       'SA_CONSTRUCTION_CODE', 'SA_CONSTRUCTION_QLTY', 'SA_LOTSIZE',\n",
       "       'SA_NBR_BATH', 'SA_NBR_BEDRMS', 'SA_NBR_STORIES', 'SA_NBR_UNITS',\n",
       "       'SA_SQFT', 'SA_YR_BLT', 'SA_YR_BLT_EFFECT', 'SA_CENSUS_TRACT',\n",
       "       'SA_CENSUS_BLOCK_GROUP'],\n",
       "      dtype='object')"
      ]
     },
     "execution_count": 36,
     "metadata": {},
     "output_type": "execute_result"
    }
   ],
   "source": [
    "assr.columns"
   ]
  },
  {
   "cell_type": "code",
   "execution_count": 37,
   "metadata": {},
   "outputs": [
    {
     "name": "stdout",
     "output_type": "stream",
     "text": [
      "0\n",
      "2147507\n"
     ]
    }
   ],
   "source": [
    "print(sales['sr_property_id'].isnull().sum())\n",
    "print(len(sales))"
   ]
  },
  {
   "cell_type": "code",
   "execution_count": 38,
   "metadata": {},
   "outputs": [
    {
     "name": "stdout",
     "output_type": "stream",
     "text": [
      "0\n",
      "2206509\n"
     ]
    }
   ],
   "source": [
    "print(assr['SA_PROPERTY_ID'].isnull().sum())\n",
    "print(len(assr))"
   ]
  },
  {
   "cell_type": "code",
   "execution_count": 46,
   "metadata": {},
   "outputs": [],
   "source": [
    "salemrg = pd.merge(sales, assr, left_on='sr_property_id', right_on='SA_PROPERTY_ID')"
   ]
  },
  {
   "cell_type": "code",
   "execution_count": 40,
   "metadata": {},
   "outputs": [
    {
     "data": {
      "text/plain": [
       "2147507"
      ]
     },
     "execution_count": 40,
     "metadata": {},
     "output_type": "execute_result"
    }
   ],
   "source": [
    "len(salemrg)"
   ]
  },
  {
   "cell_type": "code",
   "execution_count": 54,
   "metadata": {},
   "outputs": [],
   "source": [
    "salemrg = salemrg.drop(columns=['SA_PROPERTY_ID'])"
   ]
  },
  {
   "cell_type": "code",
   "execution_count": 55,
   "metadata": {},
   "outputs": [
    {
     "data": {
      "text/html": [
       "<div>\n",
       "<style scoped>\n",
       "    .dataframe tbody tr th:only-of-type {\n",
       "        vertical-align: middle;\n",
       "    }\n",
       "\n",
       "    .dataframe tbody tr th {\n",
       "        vertical-align: top;\n",
       "    }\n",
       "\n",
       "    .dataframe thead th {\n",
       "        text-align: right;\n",
       "    }\n",
       "</style>\n",
       "<table border=\"1\" class=\"dataframe\">\n",
       "  <thead>\n",
       "    <tr style=\"text-align: right;\">\n",
       "      <th></th>\n",
       "      <th>count</th>\n",
       "      <th>mean</th>\n",
       "      <th>std</th>\n",
       "      <th>min</th>\n",
       "      <th>25%</th>\n",
       "      <th>50%</th>\n",
       "      <th>75%</th>\n",
       "      <th>max</th>\n",
       "    </tr>\n",
       "  </thead>\n",
       "  <tbody>\n",
       "    <tr>\n",
       "      <th>sr_property_id</th>\n",
       "      <td>2147507.0</td>\n",
       "      <td>3.662581e+07</td>\n",
       "      <td>2.258623e+07</td>\n",
       "      <td>2.351883e+07</td>\n",
       "      <td>2.451169e+07</td>\n",
       "      <td>3.010591e+07</td>\n",
       "      <td>3.822686e+07</td>\n",
       "      <td>1.590131e+08</td>\n",
       "    </tr>\n",
       "    <tr>\n",
       "      <th>sr_val_transfer</th>\n",
       "      <td>2147507.0</td>\n",
       "      <td>4.098264e+05</td>\n",
       "      <td>5.958976e+05</td>\n",
       "      <td>1.810000e+02</td>\n",
       "      <td>1.950000e+05</td>\n",
       "      <td>3.185000e+05</td>\n",
       "      <td>5.160000e+05</td>\n",
       "      <td>2.347000e+08</td>\n",
       "    </tr>\n",
       "    <tr>\n",
       "      <th>sr_tax_transfer</th>\n",
       "      <td>1243013.0</td>\n",
       "      <td>8.507448e+02</td>\n",
       "      <td>2.168229e+03</td>\n",
       "      <td>0.000000e+00</td>\n",
       "      <td>2.970000e+02</td>\n",
       "      <td>4.785000e+02</td>\n",
       "      <td>7.370000e+02</td>\n",
       "      <td>7.000000e+05</td>\n",
       "    </tr>\n",
       "    <tr>\n",
       "      <th>sr_date_transfer</th>\n",
       "      <td>2147507.0</td>\n",
       "      <td>2.000214e+07</td>\n",
       "      <td>7.358406e+04</td>\n",
       "      <td>1.988010e+07</td>\n",
       "      <td>1.994051e+07</td>\n",
       "      <td>2.000102e+07</td>\n",
       "      <td>2.006021e+07</td>\n",
       "      <td>2.014070e+07</td>\n",
       "    </tr>\n",
       "    <tr>\n",
       "      <th>sr_arms_length_flag</th>\n",
       "      <td>2147507.0</td>\n",
       "      <td>1.000000e+00</td>\n",
       "      <td>0.000000e+00</td>\n",
       "      <td>1.000000e+00</td>\n",
       "      <td>1.000000e+00</td>\n",
       "      <td>1.000000e+00</td>\n",
       "      <td>1.000000e+00</td>\n",
       "      <td>1.000000e+00</td>\n",
       "    </tr>\n",
       "    <tr>\n",
       "      <th>sa_x_coord</th>\n",
       "      <td>2147507.0</td>\n",
       "      <td>1.221321e+02</td>\n",
       "      <td>2.804471e-01</td>\n",
       "      <td>1.214354e+02</td>\n",
       "      <td>1.219205e+02</td>\n",
       "      <td>1.220763e+02</td>\n",
       "      <td>1.223108e+02</td>\n",
       "      <td>1.235258e+02</td>\n",
       "    </tr>\n",
       "    <tr>\n",
       "      <th>sa_y_coord</th>\n",
       "      <td>2147507.0</td>\n",
       "      <td>3.776178e+01</td>\n",
       "      <td>3.468405e-01</td>\n",
       "      <td>3.696351e+01</td>\n",
       "      <td>3.748991e+01</td>\n",
       "      <td>3.775585e+01</td>\n",
       "      <td>3.797938e+01</td>\n",
       "      <td>3.884929e+01</td>\n",
       "    </tr>\n",
       "    <tr>\n",
       "      <th>ucb_geo_id</th>\n",
       "      <td>2147507.0</td>\n",
       "      <td>6.051575e+09</td>\n",
       "      <td>3.885467e+07</td>\n",
       "      <td>6.001352e+09</td>\n",
       "      <td>6.013307e+09</td>\n",
       "      <td>6.075025e+09</td>\n",
       "      <td>6.085507e+09</td>\n",
       "      <td>6.097202e+09</td>\n",
       "    </tr>\n",
       "    <tr>\n",
       "      <th>ucb_price_sqft</th>\n",
       "      <td>2147507.0</td>\n",
       "      <td>2.415059e+02</td>\n",
       "      <td>1.580509e+02</td>\n",
       "      <td>0.000000e+00</td>\n",
       "      <td>1.310000e+02</td>\n",
       "      <td>1.970000e+02</td>\n",
       "      <td>3.150000e+02</td>\n",
       "      <td>2.150000e+03</td>\n",
       "    </tr>\n",
       "    <tr>\n",
       "      <th>ucb_price_sqft_adj</th>\n",
       "      <td>2147507.0</td>\n",
       "      <td>2.949925e+02</td>\n",
       "      <td>1.634767e+02</td>\n",
       "      <td>0.000000e+00</td>\n",
       "      <td>1.840000e+02</td>\n",
       "      <td>2.610000e+02</td>\n",
       "      <td>3.720000e+02</td>\n",
       "      <td>2.007000e+03</td>\n",
       "    </tr>\n",
       "    <tr>\n",
       "      <th>ucb_condo_subdiv_flag</th>\n",
       "      <td>2147507.0</td>\n",
       "      <td>2.789281e-03</td>\n",
       "      <td>5.273995e-02</td>\n",
       "      <td>0.000000e+00</td>\n",
       "      <td>0.000000e+00</td>\n",
       "      <td>0.000000e+00</td>\n",
       "      <td>0.000000e+00</td>\n",
       "      <td>1.000000e+00</td>\n",
       "    </tr>\n",
       "    <tr>\n",
       "      <th>ucb_condo_subdiv_sqft</th>\n",
       "      <td>2147507.0</td>\n",
       "      <td>1.823385e+03</td>\n",
       "      <td>7.798902e+03</td>\n",
       "      <td>1.200000e+02</td>\n",
       "      <td>1.160000e+03</td>\n",
       "      <td>1.523000e+03</td>\n",
       "      <td>2.068000e+03</td>\n",
       "      <td>8.944000e+06</td>\n",
       "    </tr>\n",
       "    <tr>\n",
       "      <th>SA_BLDG_SQFT</th>\n",
       "      <td>2147479.0</td>\n",
       "      <td>1.651640e+03</td>\n",
       "      <td>1.175938e+03</td>\n",
       "      <td>0.000000e+00</td>\n",
       "      <td>1.086000e+03</td>\n",
       "      <td>1.500000e+03</td>\n",
       "      <td>2.079000e+03</td>\n",
       "      <td>3.271200e+04</td>\n",
       "    </tr>\n",
       "    <tr>\n",
       "      <th>SA_CONDITION_CODE</th>\n",
       "      <td>2147479.0</td>\n",
       "      <td>7.770605e-01</td>\n",
       "      <td>1.398536e+00</td>\n",
       "      <td>0.000000e+00</td>\n",
       "      <td>0.000000e+00</td>\n",
       "      <td>0.000000e+00</td>\n",
       "      <td>0.000000e+00</td>\n",
       "      <td>6.000000e+00</td>\n",
       "    </tr>\n",
       "    <tr>\n",
       "      <th>SA_CONSTRUCTION_CODE</th>\n",
       "      <td>1625164.0</td>\n",
       "      <td>3.106107e+00</td>\n",
       "      <td>1.659276e+00</td>\n",
       "      <td>0.000000e+00</td>\n",
       "      <td>4.000000e+00</td>\n",
       "      <td>4.000000e+00</td>\n",
       "      <td>4.000000e+00</td>\n",
       "      <td>1.000000e+01</td>\n",
       "    </tr>\n",
       "    <tr>\n",
       "      <th>SA_CONSTRUCTION_QLTY</th>\n",
       "      <td>2147507.0</td>\n",
       "      <td>4.274632e+00</td>\n",
       "      <td>3.313689e+00</td>\n",
       "      <td>0.000000e+00</td>\n",
       "      <td>0.000000e+00</td>\n",
       "      <td>6.000000e+00</td>\n",
       "      <td>6.000000e+00</td>\n",
       "      <td>1.000000e+01</td>\n",
       "    </tr>\n",
       "    <tr>\n",
       "      <th>SA_LOTSIZE</th>\n",
       "      <td>2147505.0</td>\n",
       "      <td>2.595338e+04</td>\n",
       "      <td>7.028965e+05</td>\n",
       "      <td>0.000000e+00</td>\n",
       "      <td>3.000000e+03</td>\n",
       "      <td>5.663000e+03</td>\n",
       "      <td>7.700000e+03</td>\n",
       "      <td>1.306800e+08</td>\n",
       "    </tr>\n",
       "    <tr>\n",
       "      <th>SA_NBR_BATH</th>\n",
       "      <td>2147507.0</td>\n",
       "      <td>2.166901e+00</td>\n",
       "      <td>2.109476e+00</td>\n",
       "      <td>0.000000e+00</td>\n",
       "      <td>1.500000e+00</td>\n",
       "      <td>2.000000e+00</td>\n",
       "      <td>2.500000e+00</td>\n",
       "      <td>5.710000e+02</td>\n",
       "    </tr>\n",
       "    <tr>\n",
       "      <th>SA_NBR_BEDRMS</th>\n",
       "      <td>2147507.0</td>\n",
       "      <td>3.056673e+00</td>\n",
       "      <td>2.822246e+00</td>\n",
       "      <td>0.000000e+00</td>\n",
       "      <td>2.000000e+00</td>\n",
       "      <td>3.000000e+00</td>\n",
       "      <td>4.000000e+00</td>\n",
       "      <td>9.750000e+02</td>\n",
       "    </tr>\n",
       "    <tr>\n",
       "      <th>SA_NBR_STORIES</th>\n",
       "      <td>2147480.0</td>\n",
       "      <td>1.350528e+00</td>\n",
       "      <td>1.202562e+00</td>\n",
       "      <td>0.000000e+00</td>\n",
       "      <td>1.000000e+00</td>\n",
       "      <td>1.000000e+00</td>\n",
       "      <td>2.000000e+00</td>\n",
       "      <td>2.250000e+02</td>\n",
       "    </tr>\n",
       "    <tr>\n",
       "      <th>SA_NBR_UNITS</th>\n",
       "      <td>2147506.0</td>\n",
       "      <td>4.506761e+00</td>\n",
       "      <td>6.567134e+01</td>\n",
       "      <td>0.000000e+00</td>\n",
       "      <td>1.000000e+00</td>\n",
       "      <td>1.000000e+00</td>\n",
       "      <td>1.000000e+00</td>\n",
       "      <td>9.100000e+03</td>\n",
       "    </tr>\n",
       "    <tr>\n",
       "      <th>SA_SQFT</th>\n",
       "      <td>2147507.0</td>\n",
       "      <td>1.802793e+03</td>\n",
       "      <td>7.479841e+03</td>\n",
       "      <td>4.800000e+01</td>\n",
       "      <td>1.160000e+03</td>\n",
       "      <td>1.521000e+03</td>\n",
       "      <td>2.062000e+03</td>\n",
       "      <td>8.944000e+06</td>\n",
       "    </tr>\n",
       "    <tr>\n",
       "      <th>SA_YR_BLT</th>\n",
       "      <td>2142913.0</td>\n",
       "      <td>1.969317e+03</td>\n",
       "      <td>2.582809e+01</td>\n",
       "      <td>5.800000e+01</td>\n",
       "      <td>1.954000e+03</td>\n",
       "      <td>1.973000e+03</td>\n",
       "      <td>1.989000e+03</td>\n",
       "      <td>2.013000e+03</td>\n",
       "    </tr>\n",
       "    <tr>\n",
       "      <th>SA_YR_BLT_EFFECT</th>\n",
       "      <td>1462480.0</td>\n",
       "      <td>1.973425e+03</td>\n",
       "      <td>2.278863e+01</td>\n",
       "      <td>1.840000e+03</td>\n",
       "      <td>1.960000e+03</td>\n",
       "      <td>1.976000e+03</td>\n",
       "      <td>1.990000e+03</td>\n",
       "      <td>2.013000e+03</td>\n",
       "    </tr>\n",
       "    <tr>\n",
       "      <th>SA_CENSUS_TRACT</th>\n",
       "      <td>2147507.0</td>\n",
       "      <td>3.684644e+05</td>\n",
       "      <td>1.605891e+05</td>\n",
       "      <td>1.300000e+03</td>\n",
       "      <td>2.529100e+05</td>\n",
       "      <td>4.065000e+05</td>\n",
       "      <td>5.036010e+05</td>\n",
       "      <td>9.832000e+05</td>\n",
       "    </tr>\n",
       "    <tr>\n",
       "      <th>SA_CENSUS_BLOCK_GROUP</th>\n",
       "      <td>2147507.0</td>\n",
       "      <td>2.108119e+00</td>\n",
       "      <td>1.111109e+00</td>\n",
       "      <td>1.000000e+00</td>\n",
       "      <td>1.000000e+00</td>\n",
       "      <td>2.000000e+00</td>\n",
       "      <td>3.000000e+00</td>\n",
       "      <td>7.000000e+00</td>\n",
       "    </tr>\n",
       "  </tbody>\n",
       "</table>\n",
       "</div>"
      ],
      "text/plain": [
       "                           count          mean           std           min  \\\n",
       "sr_property_id         2147507.0  3.662581e+07  2.258623e+07  2.351883e+07   \n",
       "sr_val_transfer        2147507.0  4.098264e+05  5.958976e+05  1.810000e+02   \n",
       "sr_tax_transfer        1243013.0  8.507448e+02  2.168229e+03  0.000000e+00   \n",
       "sr_date_transfer       2147507.0  2.000214e+07  7.358406e+04  1.988010e+07   \n",
       "sr_arms_length_flag    2147507.0  1.000000e+00  0.000000e+00  1.000000e+00   \n",
       "sa_x_coord             2147507.0  1.221321e+02  2.804471e-01  1.214354e+02   \n",
       "sa_y_coord             2147507.0  3.776178e+01  3.468405e-01  3.696351e+01   \n",
       "ucb_geo_id             2147507.0  6.051575e+09  3.885467e+07  6.001352e+09   \n",
       "ucb_price_sqft         2147507.0  2.415059e+02  1.580509e+02  0.000000e+00   \n",
       "ucb_price_sqft_adj     2147507.0  2.949925e+02  1.634767e+02  0.000000e+00   \n",
       "ucb_condo_subdiv_flag  2147507.0  2.789281e-03  5.273995e-02  0.000000e+00   \n",
       "ucb_condo_subdiv_sqft  2147507.0  1.823385e+03  7.798902e+03  1.200000e+02   \n",
       "SA_BLDG_SQFT           2147479.0  1.651640e+03  1.175938e+03  0.000000e+00   \n",
       "SA_CONDITION_CODE      2147479.0  7.770605e-01  1.398536e+00  0.000000e+00   \n",
       "SA_CONSTRUCTION_CODE   1625164.0  3.106107e+00  1.659276e+00  0.000000e+00   \n",
       "SA_CONSTRUCTION_QLTY   2147507.0  4.274632e+00  3.313689e+00  0.000000e+00   \n",
       "SA_LOTSIZE             2147505.0  2.595338e+04  7.028965e+05  0.000000e+00   \n",
       "SA_NBR_BATH            2147507.0  2.166901e+00  2.109476e+00  0.000000e+00   \n",
       "SA_NBR_BEDRMS          2147507.0  3.056673e+00  2.822246e+00  0.000000e+00   \n",
       "SA_NBR_STORIES         2147480.0  1.350528e+00  1.202562e+00  0.000000e+00   \n",
       "SA_NBR_UNITS           2147506.0  4.506761e+00  6.567134e+01  0.000000e+00   \n",
       "SA_SQFT                2147507.0  1.802793e+03  7.479841e+03  4.800000e+01   \n",
       "SA_YR_BLT              2142913.0  1.969317e+03  2.582809e+01  5.800000e+01   \n",
       "SA_YR_BLT_EFFECT       1462480.0  1.973425e+03  2.278863e+01  1.840000e+03   \n",
       "SA_CENSUS_TRACT        2147507.0  3.684644e+05  1.605891e+05  1.300000e+03   \n",
       "SA_CENSUS_BLOCK_GROUP  2147507.0  2.108119e+00  1.111109e+00  1.000000e+00   \n",
       "\n",
       "                                25%           50%           75%           max  \n",
       "sr_property_id         2.451169e+07  3.010591e+07  3.822686e+07  1.590131e+08  \n",
       "sr_val_transfer        1.950000e+05  3.185000e+05  5.160000e+05  2.347000e+08  \n",
       "sr_tax_transfer        2.970000e+02  4.785000e+02  7.370000e+02  7.000000e+05  \n",
       "sr_date_transfer       1.994051e+07  2.000102e+07  2.006021e+07  2.014070e+07  \n",
       "sr_arms_length_flag    1.000000e+00  1.000000e+00  1.000000e+00  1.000000e+00  \n",
       "sa_x_coord             1.219205e+02  1.220763e+02  1.223108e+02  1.235258e+02  \n",
       "sa_y_coord             3.748991e+01  3.775585e+01  3.797938e+01  3.884929e+01  \n",
       "ucb_geo_id             6.013307e+09  6.075025e+09  6.085507e+09  6.097202e+09  \n",
       "ucb_price_sqft         1.310000e+02  1.970000e+02  3.150000e+02  2.150000e+03  \n",
       "ucb_price_sqft_adj     1.840000e+02  2.610000e+02  3.720000e+02  2.007000e+03  \n",
       "ucb_condo_subdiv_flag  0.000000e+00  0.000000e+00  0.000000e+00  1.000000e+00  \n",
       "ucb_condo_subdiv_sqft  1.160000e+03  1.523000e+03  2.068000e+03  8.944000e+06  \n",
       "SA_BLDG_SQFT           1.086000e+03  1.500000e+03  2.079000e+03  3.271200e+04  \n",
       "SA_CONDITION_CODE      0.000000e+00  0.000000e+00  0.000000e+00  6.000000e+00  \n",
       "SA_CONSTRUCTION_CODE   4.000000e+00  4.000000e+00  4.000000e+00  1.000000e+01  \n",
       "SA_CONSTRUCTION_QLTY   0.000000e+00  6.000000e+00  6.000000e+00  1.000000e+01  \n",
       "SA_LOTSIZE             3.000000e+03  5.663000e+03  7.700000e+03  1.306800e+08  \n",
       "SA_NBR_BATH            1.500000e+00  2.000000e+00  2.500000e+00  5.710000e+02  \n",
       "SA_NBR_BEDRMS          2.000000e+00  3.000000e+00  4.000000e+00  9.750000e+02  \n",
       "SA_NBR_STORIES         1.000000e+00  1.000000e+00  2.000000e+00  2.250000e+02  \n",
       "SA_NBR_UNITS           1.000000e+00  1.000000e+00  1.000000e+00  9.100000e+03  \n",
       "SA_SQFT                1.160000e+03  1.521000e+03  2.062000e+03  8.944000e+06  \n",
       "SA_YR_BLT              1.954000e+03  1.973000e+03  1.989000e+03  2.013000e+03  \n",
       "SA_YR_BLT_EFFECT       1.960000e+03  1.976000e+03  1.990000e+03  2.013000e+03  \n",
       "SA_CENSUS_TRACT        2.529100e+05  4.065000e+05  5.036010e+05  9.832000e+05  \n",
       "SA_CENSUS_BLOCK_GROUP  1.000000e+00  2.000000e+00  3.000000e+00  7.000000e+00  "
      ]
     },
     "execution_count": 55,
     "metadata": {},
     "output_type": "execute_result"
    }
   ],
   "source": [
    "salemrg.describe().transpose()"
   ]
  },
  {
   "cell_type": "code",
   "execution_count": 47,
   "metadata": {},
   "outputs": [
    {
     "data": {
      "text/plain": [
       "SANTA CLARA      485745\n",
       "ALAMEDA          457115\n",
       "CONTRA COSTA     433133\n",
       "SAN MATEO        189084\n",
       "SOLANO           175947\n",
       "SAN FRANCISCO    153210\n",
       "SONOMA           145218\n",
       "MARIN             68551\n",
       "NAPA              39504\n",
       "Name: mm_fips_county_name, dtype: int64"
      ]
     },
     "execution_count": 47,
     "metadata": {},
     "output_type": "execute_result"
    }
   ],
   "source": [
    "salemrg.mm_fips_county_name.value_counts()"
   ]
  },
  {
   "cell_type": "code",
   "execution_count": 56,
   "metadata": {},
   "outputs": [],
   "source": [
    "salemrg.to_csv(path+'salemrg.csv')"
   ]
  },
  {
   "cell_type": "code",
   "execution_count": 50,
   "metadata": {},
   "outputs": [
    {
     "data": {
      "text/plain": [
       "0"
      ]
     },
     "execution_count": 50,
     "metadata": {},
     "output_type": "execute_result"
    }
   ],
   "source": [
    "salemrg.sa_y_coord.isnull().sum()"
   ]
  },
  {
   "cell_type": "code",
   "execution_count": null,
   "metadata": {},
   "outputs": [],
   "source": []
  }
 ],
 "metadata": {
  "kernelspec": {
   "display_name": "Python 3",
   "language": "python",
   "name": "python3"
  },
  "language_info": {
   "codemirror_mode": {
    "name": "ipython",
    "version": 3
   },
   "file_extension": ".py",
   "mimetype": "text/x-python",
   "name": "python",
   "nbconvert_exporter": "python",
   "pygments_lexer": "ipython3",
   "version": "3.6.5"
  }
 },
 "nbformat": 4,
 "nbformat_minor": 2
}
