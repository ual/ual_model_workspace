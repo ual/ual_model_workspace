{
 "cells": [
  {
   "cell_type": "code",
   "execution_count": 1,
   "metadata": {},
   "outputs": [],
   "source": [
    "import pandas as pd\n",
    "import csv"
   ]
  },
  {
   "cell_type": "code",
   "execution_count": 2,
   "metadata": {},
   "outputs": [],
   "source": [
    "counties = [\"ALAMEDA\", \"CONTRA_COSTA\", \"MARIN\", \"NAPA\", \"SAN_FRANCISCO\",\n",
    "        \"SAN_MATEO\", \"SANTA_CLARA\", \"SOLANO\", \"SONOMA\"]"
   ]
  },
  {
   "cell_type": "code",
   "execution_count": 3,
   "metadata": {
    "scrolled": true
   },
   "outputs": [
    {
     "data": {
      "text/plain": [
       "['ALAMEDA',\n",
       " 'CONTRA_COSTA',\n",
       " 'MARIN',\n",
       " 'NAPA',\n",
       " 'SAN_FRANCISCO',\n",
       " 'SAN_MATEO',\n",
       " 'SANTA_CLARA',\n",
       " 'SOLANO',\n",
       " 'SONOMA']"
      ]
     },
     "execution_count": 3,
     "metadata": {},
     "output_type": "execute_result"
    }
   ],
   "source": [
    "counties"
   ]
  },
  {
   "cell_type": "code",
   "execution_count": 16,
   "metadata": {},
   "outputs": [],
   "source": [
    "path = '../data/'\n",
    "df = pd.DataFrame()"
   ]
  },
  {
   "cell_type": "code",
   "execution_count": 6,
   "metadata": {},
   "outputs": [],
   "source": [
    "ALAMEDA = pd.read_csv(path+'ARB_HIST_'+'ALAMEDA'+'_v3.csv', low_memory=False)"
   ]
  },
  {
   "cell_type": "code",
   "execution_count": 7,
   "metadata": {},
   "outputs": [],
   "source": [
    "CONTRA_COSTA = pd.read_csv(path+'ARB_HIST_'+'CONTRA_COSTA'+'_v3.csv', low_memory=False)"
   ]
  },
  {
   "cell_type": "code",
   "execution_count": 8,
   "metadata": {},
   "outputs": [],
   "source": [
    "MARIN = pd.read_csv(path+'ARB_HIST_'+'MARIN'+'_v3.csv', low_memory=False)"
   ]
  },
  {
   "cell_type": "code",
   "execution_count": 9,
   "metadata": {},
   "outputs": [],
   "source": [
    "NAPA = pd.read_csv(path+'ARB_HIST_'+'NAPA'+'_v3.csv', low_memory=False)"
   ]
  },
  {
   "cell_type": "code",
   "execution_count": 10,
   "metadata": {},
   "outputs": [],
   "source": [
    "SAN_FRANCISCO = pd.read_csv(path+'ARB_HIST_'+'SAN_FRANCISCO'+'_v3.csv', low_memory=False)"
   ]
  },
  {
   "cell_type": "code",
   "execution_count": 11,
   "metadata": {},
   "outputs": [],
   "source": [
    "SAN_MATEO = pd.read_csv(path+'ARB_HIST_'+'SAN_MATEO'+'_v3.csv', low_memory=False)"
   ]
  },
  {
   "cell_type": "code",
   "execution_count": 12,
   "metadata": {},
   "outputs": [],
   "source": [
    "SANTA_CLARA = pd.read_csv(path+'ARB_HIST_'+'SANTA_CLARA'+'_v3.csv', low_memory=False)"
   ]
  },
  {
   "cell_type": "code",
   "execution_count": 13,
   "metadata": {},
   "outputs": [],
   "source": [
    "SOLANO = pd.read_csv(path+'ARB_HIST_'+'SOLANO'+'_v3.csv', low_memory=False)"
   ]
  },
  {
   "cell_type": "code",
   "execution_count": 14,
   "metadata": {},
   "outputs": [],
   "source": [
    "SONOMA = pd.read_csv(path+'ARB_HIST_'+'SONOMA'+'_v3.csv', low_memory=False)"
   ]
  },
  {
   "cell_type": "code",
   "execution_count": 17,
   "metadata": {},
   "outputs": [],
   "source": [
    "sales = df.append([ALAMEDA, CONTRA_COSTA, MARIN, NAPA, SAN_FRANCISCO,\n",
    "        SAN_MATEO, SANTA_CLARA, SOLANO, SONOMA]) "
   ]
  },
  {
   "cell_type": "code",
   "execution_count": 18,
   "metadata": {
    "scrolled": true
   },
   "outputs": [
    {
     "data": {
      "text/html": [
       "<div>\n",
       "<style scoped>\n",
       "    .dataframe tbody tr th:only-of-type {\n",
       "        vertical-align: middle;\n",
       "    }\n",
       "\n",
       "    .dataframe tbody tr th {\n",
       "        vertical-align: top;\n",
       "    }\n",
       "\n",
       "    .dataframe thead th {\n",
       "        text-align: right;\n",
       "    }\n",
       "</style>\n",
       "<table border=\"1\" class=\"dataframe\">\n",
       "  <thead>\n",
       "    <tr style=\"text-align: right;\">\n",
       "      <th></th>\n",
       "      <th>sr_unique_id</th>\n",
       "      <th>sr_property_id</th>\n",
       "      <th>sr_scm_id</th>\n",
       "      <th>mm_state_code</th>\n",
       "      <th>mm_muni_name</th>\n",
       "      <th>mm_fips_state_code</th>\n",
       "      <th>mm_fips_muni_code</th>\n",
       "      <th>mm_fips_county_name</th>\n",
       "      <th>sr_parcel_nbr_raw</th>\n",
       "      <th>sr_site_addr_raw</th>\n",
       "      <th>...</th>\n",
       "      <th>use_code_std</th>\n",
       "      <th>sa_sqft</th>\n",
       "      <th>sa_x_coord</th>\n",
       "      <th>sa_y_coord</th>\n",
       "      <th>sa_geo_qlty_code</th>\n",
       "      <th>ucb_geo_id</th>\n",
       "      <th>ucb_price_sqft</th>\n",
       "      <th>ucb_price_sqft_adj</th>\n",
       "      <th>ucb_condo_subdiv_flag</th>\n",
       "      <th>ucb_condo_subdiv_sqft</th>\n",
       "    </tr>\n",
       "  </thead>\n",
       "  <tbody>\n",
       "    <tr>\n",
       "      <th>0</th>\n",
       "      <td>24189040</td>\n",
       "      <td>38443515</td>\n",
       "      <td>33</td>\n",
       "      <td>CA</td>\n",
       "      <td>ALAMEDA</td>\n",
       "      <td>6</td>\n",
       "      <td>1</td>\n",
       "      <td>ALAMEDA</td>\n",
       "      <td>NaN</td>\n",
       "      <td>NaN</td>\n",
       "      <td>...</td>\n",
       "      <td>RSFR</td>\n",
       "      <td>1047</td>\n",
       "      <td>122.088274</td>\n",
       "      <td>37.641319</td>\n",
       "      <td>0</td>\n",
       "      <td>6001437400</td>\n",
       "      <td>112</td>\n",
       "      <td>206</td>\n",
       "      <td>0</td>\n",
       "      <td>1047</td>\n",
       "    </tr>\n",
       "    <tr>\n",
       "      <th>1</th>\n",
       "      <td>24189410</td>\n",
       "      <td>38275729</td>\n",
       "      <td>33</td>\n",
       "      <td>CA</td>\n",
       "      <td>ALAMEDA</td>\n",
       "      <td>6</td>\n",
       "      <td>1</td>\n",
       "      <td>ALAMEDA</td>\n",
       "      <td>NaN</td>\n",
       "      <td>NaN</td>\n",
       "      <td>...</td>\n",
       "      <td>RMFD</td>\n",
       "      <td>11880</td>\n",
       "      <td>122.268809</td>\n",
       "      <td>37.879121</td>\n",
       "      <td>0</td>\n",
       "      <td>6001421700</td>\n",
       "      <td>37</td>\n",
       "      <td>68</td>\n",
       "      <td>0</td>\n",
       "      <td>11880</td>\n",
       "    </tr>\n",
       "    <tr>\n",
       "      <th>2</th>\n",
       "      <td>24189724</td>\n",
       "      <td>38264302</td>\n",
       "      <td>33</td>\n",
       "      <td>CA</td>\n",
       "      <td>ALAMEDA</td>\n",
       "      <td>6</td>\n",
       "      <td>1</td>\n",
       "      <td>ALAMEDA</td>\n",
       "      <td>NaN</td>\n",
       "      <td>NaN</td>\n",
       "      <td>...</td>\n",
       "      <td>RSFR</td>\n",
       "      <td>2584</td>\n",
       "      <td>122.250448</td>\n",
       "      <td>37.862069</td>\n",
       "      <td>0</td>\n",
       "      <td>6001423700</td>\n",
       "      <td>152</td>\n",
       "      <td>281</td>\n",
       "      <td>0</td>\n",
       "      <td>2584</td>\n",
       "    </tr>\n",
       "    <tr>\n",
       "      <th>3</th>\n",
       "      <td>24189841</td>\n",
       "      <td>38377769</td>\n",
       "      <td>33</td>\n",
       "      <td>CA</td>\n",
       "      <td>ALAMEDA</td>\n",
       "      <td>6</td>\n",
       "      <td>1</td>\n",
       "      <td>ALAMEDA</td>\n",
       "      <td>NaN</td>\n",
       "      <td>NaN</td>\n",
       "      <td>...</td>\n",
       "      <td>RCON</td>\n",
       "      <td>1383</td>\n",
       "      <td>122.030843</td>\n",
       "      <td>37.536760</td>\n",
       "      <td>1</td>\n",
       "      <td>6001444400</td>\n",
       "      <td>90</td>\n",
       "      <td>167</td>\n",
       "      <td>0</td>\n",
       "      <td>1383</td>\n",
       "    </tr>\n",
       "    <tr>\n",
       "      <th>4</th>\n",
       "      <td>24189908</td>\n",
       "      <td>38490265</td>\n",
       "      <td>33</td>\n",
       "      <td>CA</td>\n",
       "      <td>ALAMEDA</td>\n",
       "      <td>6</td>\n",
       "      <td>1</td>\n",
       "      <td>ALAMEDA</td>\n",
       "      <td>NaN</td>\n",
       "      <td>NaN</td>\n",
       "      <td>...</td>\n",
       "      <td>RSFR</td>\n",
       "      <td>3499</td>\n",
       "      <td>121.916797</td>\n",
       "      <td>37.504846</td>\n",
       "      <td>0</td>\n",
       "      <td>6001443103</td>\n",
       "      <td>56</td>\n",
       "      <td>104</td>\n",
       "      <td>0</td>\n",
       "      <td>3499</td>\n",
       "    </tr>\n",
       "  </tbody>\n",
       "</table>\n",
       "<p>5 rows × 97 columns</p>\n",
       "</div>"
      ],
      "text/plain": [
       "   sr_unique_id  sr_property_id  sr_scm_id mm_state_code mm_muni_name  \\\n",
       "0      24189040        38443515         33            CA      ALAMEDA   \n",
       "1      24189410        38275729         33            CA      ALAMEDA   \n",
       "2      24189724        38264302         33            CA      ALAMEDA   \n",
       "3      24189841        38377769         33            CA      ALAMEDA   \n",
       "4      24189908        38490265         33            CA      ALAMEDA   \n",
       "\n",
       "   mm_fips_state_code  mm_fips_muni_code mm_fips_county_name  \\\n",
       "0                   6                  1             ALAMEDA   \n",
       "1                   6                  1             ALAMEDA   \n",
       "2                   6                  1             ALAMEDA   \n",
       "3                   6                  1             ALAMEDA   \n",
       "4                   6                  1             ALAMEDA   \n",
       "\n",
       "  sr_parcel_nbr_raw sr_site_addr_raw          ...          use_code_std  \\\n",
       "0               NaN              NaN          ...                  RSFR   \n",
       "1               NaN              NaN          ...                  RMFD   \n",
       "2               NaN              NaN          ...                  RSFR   \n",
       "3               NaN              NaN          ...                  RCON   \n",
       "4               NaN              NaN          ...                  RSFR   \n",
       "\n",
       "  sa_sqft  sa_x_coord sa_y_coord sa_geo_qlty_code  ucb_geo_id ucb_price_sqft  \\\n",
       "0    1047  122.088274  37.641319                0  6001437400            112   \n",
       "1   11880  122.268809  37.879121                0  6001421700             37   \n",
       "2    2584  122.250448  37.862069                0  6001423700            152   \n",
       "3    1383  122.030843  37.536760                1  6001444400             90   \n",
       "4    3499  121.916797  37.504846                0  6001443103             56   \n",
       "\n",
       "   ucb_price_sqft_adj ucb_condo_subdiv_flag ucb_condo_subdiv_sqft  \n",
       "0                 206                     0                  1047  \n",
       "1                  68                     0                 11880  \n",
       "2                 281                     0                  2584  \n",
       "3                 167                     0                  1383  \n",
       "4                 104                     0                  3499  \n",
       "\n",
       "[5 rows x 97 columns]"
      ]
     },
     "execution_count": 18,
     "metadata": {},
     "output_type": "execute_result"
    }
   ],
   "source": [
    "sales.head()"
   ]
  },
  {
   "cell_type": "code",
   "execution_count": 19,
   "metadata": {
    "scrolled": true
   },
   "outputs": [
    {
     "data": {
      "text/plain": [
       "208308179"
      ]
     },
     "execution_count": 19,
     "metadata": {},
     "output_type": "execute_result"
    }
   ],
   "source": [
    "sales.size"
   ]
  },
  {
   "cell_type": "markdown",
   "metadata": {},
   "source": [
    "I'm not sure why the following does not work. I've tried several variations and ended up doing it county by county, which is silly."
   ]
  },
  {
   "cell_type": "code",
   "execution_count": 23,
   "metadata": {},
   "outputs": [
    {
     "name": "stdout",
     "output_type": "stream",
     "text": [
      "ALAMEDA\n",
      "CONTRA_COSTA\n",
      "MARIN\n",
      "NAPA\n",
      "SAN_FRANCISCO\n",
      "SAN_MATEO\n",
      "SANTA_CLARA\n",
      "SOLANO\n",
      "SONOMA\n"
     ]
    }
   ],
   "source": [
    "dfsales = pd.DataFrame()\n",
    "for county in counties:\n",
    "    print(county)\n",
    "    temp = pd.read_csv(path+'ARB_ASSR_'+county+'_v3.csv', low_memory=False)\n",
    "    sales2 = dfsales.append(temp)"
   ]
  },
  {
   "cell_type": "code",
   "execution_count": 26,
   "metadata": {},
   "outputs": [
    {
     "data": {
      "text/plain": [
       "35827730"
      ]
     },
     "execution_count": 26,
     "metadata": {},
     "output_type": "execute_result"
    }
   ],
   "source": [
    "sales2.size"
   ]
  },
  {
   "cell_type": "code",
   "execution_count": 20,
   "metadata": {},
   "outputs": [],
   "source": [
    "sales.to_csv(path+'sales.csv')"
   ]
  },
  {
   "cell_type": "code",
   "execution_count": null,
   "metadata": {},
   "outputs": [],
   "source": []
  }
 ],
 "metadata": {
  "kernelspec": {
   "display_name": "Python 3",
   "language": "python",
   "name": "python3"
  },
  "language_info": {
   "codemirror_mode": {
    "name": "ipython",
    "version": 3
   },
   "file_extension": ".py",
   "mimetype": "text/x-python",
   "name": "python",
   "nbconvert_exporter": "python",
   "pygments_lexer": "ipython3",
   "version": "3.6.5"
  }
 },
 "nbformat": 4,
 "nbformat_minor": 2
}
