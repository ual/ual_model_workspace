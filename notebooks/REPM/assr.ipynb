{
 "cells": [
  {
   "cell_type": "code",
   "execution_count": 1,
   "metadata": {},
   "outputs": [],
   "source": [
    "import pandas as pd\n",
    "import csv"
   ]
  },
  {
   "cell_type": "code",
   "execution_count": 2,
   "metadata": {},
   "outputs": [],
   "source": [
    "counties = [\"ALAMEDA\", \"CONTRA_COSTA\", \"MARIN\", \"NAPA\", \"SAN_FRANCISCO\",\n",
    "        \"SAN_MATEO\", \"SANTA_CLARA\", \"SOLANO\", \"SONOMA\"]"
   ]
  },
  {
   "cell_type": "code",
   "execution_count": 3,
   "metadata": {
    "scrolled": true
   },
   "outputs": [
    {
     "data": {
      "text/plain": [
       "['ALAMEDA',\n",
       " 'CONTRA_COSTA',\n",
       " 'MARIN',\n",
       " 'NAPA',\n",
       " 'SAN_FRANCISCO',\n",
       " 'SAN_MATEO',\n",
       " 'SANTA_CLARA',\n",
       " 'SOLANO',\n",
       " 'SONOMA']"
      ]
     },
     "execution_count": 3,
     "metadata": {},
     "output_type": "execute_result"
    }
   ],
   "source": [
    "counties"
   ]
  },
  {
   "cell_type": "code",
   "execution_count": 4,
   "metadata": {},
   "outputs": [],
   "source": [
    "path = '../data/'\n",
    "df = pd.DataFrame()"
   ]
  },
  {
   "cell_type": "code",
   "execution_count": 8,
   "metadata": {},
   "outputs": [],
   "source": [
    "ALAMEDA = pd.read_csv(path+'ARB_ASSR_'+'ALAMEDA'+'.csv', low_memory=False)"
   ]
  },
  {
   "cell_type": "code",
   "execution_count": 9,
   "metadata": {},
   "outputs": [],
   "source": [
    "CONTRA_COSTA = pd.read_csv(path+'ARB_ASSR_'+'CONTRA_COSTA'+'.csv', low_memory=False)"
   ]
  },
  {
   "cell_type": "code",
   "execution_count": 10,
   "metadata": {},
   "outputs": [],
   "source": [
    "MARIN = pd.read_csv(path+'ARB_ASSR_'+'MARIN'+'.csv', low_memory=False)"
   ]
  },
  {
   "cell_type": "code",
   "execution_count": 11,
   "metadata": {},
   "outputs": [],
   "source": [
    "NAPA = pd.read_csv(path+'ARB_ASSR_'+'NAPA'+'.csv', low_memory=False)"
   ]
  },
  {
   "cell_type": "code",
   "execution_count": 12,
   "metadata": {},
   "outputs": [],
   "source": [
    "SAN_FRANCISCO = pd.read_csv(path+'ARB_ASSR_'+'SAN_FRANCISCO'+'.csv', low_memory=False)"
   ]
  },
  {
   "cell_type": "code",
   "execution_count": 13,
   "metadata": {},
   "outputs": [],
   "source": [
    "SAN_MATEO = pd.read_csv(path+'ARB_ASSR_'+'SAN_MATEO'+'.csv', low_memory=False)"
   ]
  },
  {
   "cell_type": "code",
   "execution_count": 14,
   "metadata": {},
   "outputs": [],
   "source": [
    "SANTA_CLARA = pd.read_csv(path+'ARB_ASSR_'+'SANTA_CLARA'+'.csv', low_memory=False)"
   ]
  },
  {
   "cell_type": "code",
   "execution_count": 15,
   "metadata": {},
   "outputs": [],
   "source": [
    "SOLANO = pd.read_csv(path+'ARB_ASSR_'+'SOLANO'+'.csv', low_memory=False)"
   ]
  },
  {
   "cell_type": "code",
   "execution_count": 16,
   "metadata": {},
   "outputs": [],
   "source": [
    "SONOMA = pd.read_csv(path+'ARB_ASSR_'+'SONOMA'+'.csv', low_memory=False)"
   ]
  },
  {
   "cell_type": "code",
   "execution_count": 18,
   "metadata": {},
   "outputs": [],
   "source": [
    "assr = df.append([ALAMEDA, CONTRA_COSTA, MARIN, NAPA, SAN_FRANCISCO,\n",
    "        SAN_MATEO, SANTA_CLARA, SOLANO, SONOMA]) "
   ]
  },
  {
   "cell_type": "code",
   "execution_count": 22,
   "metadata": {
    "scrolled": true
   },
   "outputs": [
    {
     "data": {
      "text/html": [
       "<div>\n",
       "<style scoped>\n",
       "    .dataframe tbody tr th:only-of-type {\n",
       "        vertical-align: middle;\n",
       "    }\n",
       "\n",
       "    .dataframe tbody tr th {\n",
       "        vertical-align: top;\n",
       "    }\n",
       "\n",
       "    .dataframe thead th {\n",
       "        text-align: right;\n",
       "    }\n",
       "</style>\n",
       "<table border=\"1\" class=\"dataframe\">\n",
       "  <thead>\n",
       "    <tr style=\"text-align: right;\">\n",
       "      <th></th>\n",
       "      <th>SA_PROPERTY_ID</th>\n",
       "      <th>SA_SCM_ID</th>\n",
       "      <th>MM_STATE_CODE</th>\n",
       "      <th>MM_MUNI_NAME</th>\n",
       "      <th>MM_FIPS_STATE_CODE</th>\n",
       "      <th>MM_FIPS_MUNI_CODE</th>\n",
       "      <th>MM_FIPS_COUNTY_NAME</th>\n",
       "      <th>SA_PARCEL_NBR_PRIMARY</th>\n",
       "      <th>SA_PARCEL_NBR_REFERENCE</th>\n",
       "      <th>SA_PARCEL_ACCOUNT_NBR</th>\n",
       "      <th>...</th>\n",
       "      <th>SA_Y_COORD</th>\n",
       "      <th>SA_GEO_QLTY_CODE</th>\n",
       "      <th>SA_CENSUS_TRACT</th>\n",
       "      <th>SA_CENSUS_BLOCK_GROUP</th>\n",
       "      <th>CORE_BASED_STATISTICAL_AREA_CODE</th>\n",
       "      <th>MINOR_CIVIL_DIVISION_CODE</th>\n",
       "      <th>FIPS_PLACE_CODE</th>\n",
       "      <th>SA_INACTIVE_PARCEL_FLAG</th>\n",
       "      <th>SA_SHELL_PARCEL_FLAG</th>\n",
       "      <th>FILLER</th>\n",
       "    </tr>\n",
       "  </thead>\n",
       "  <tbody>\n",
       "    <tr>\n",
       "      <th>188562</th>\n",
       "      <td>158941307</td>\n",
       "      <td>78</td>\n",
       "      <td>CA</td>\n",
       "      <td>SONOMA</td>\n",
       "      <td>6</td>\n",
       "      <td>97</td>\n",
       "      <td>SONOMA</td>\n",
       "      <td>2101055</td>\n",
       "      <td>NaN</td>\n",
       "      <td>NaN</td>\n",
       "      <td>...</td>\n",
       "      <td>0.0</td>\n",
       "      <td>9</td>\n",
       "      <td>NaN</td>\n",
       "      <td>NaN</td>\n",
       "      <td>NaN</td>\n",
       "      <td>NaN</td>\n",
       "      <td>NaN</td>\n",
       "      <td>NaN</td>\n",
       "      <td>Y</td>\n",
       "      <td>NaN</td>\n",
       "    </tr>\n",
       "    <tr>\n",
       "      <th>188563</th>\n",
       "      <td>158973980</td>\n",
       "      <td>78</td>\n",
       "      <td>CA</td>\n",
       "      <td>SONOMA</td>\n",
       "      <td>6</td>\n",
       "      <td>97</td>\n",
       "      <td>SONOMA</td>\n",
       "      <td>2101057</td>\n",
       "      <td>NaN</td>\n",
       "      <td>NaN</td>\n",
       "      <td>...</td>\n",
       "      <td>0.0</td>\n",
       "      <td>9</td>\n",
       "      <td>NaN</td>\n",
       "      <td>NaN</td>\n",
       "      <td>NaN</td>\n",
       "      <td>NaN</td>\n",
       "      <td>NaN</td>\n",
       "      <td>NaN</td>\n",
       "      <td>Y</td>\n",
       "      <td>NaN</td>\n",
       "    </tr>\n",
       "    <tr>\n",
       "      <th>188564</th>\n",
       "      <td>158981097</td>\n",
       "      <td>78</td>\n",
       "      <td>CA</td>\n",
       "      <td>SONOMA</td>\n",
       "      <td>6</td>\n",
       "      <td>97</td>\n",
       "      <td>SONOMA</td>\n",
       "      <td>2101062</td>\n",
       "      <td>NaN</td>\n",
       "      <td>NaN</td>\n",
       "      <td>...</td>\n",
       "      <td>0.0</td>\n",
       "      <td>9</td>\n",
       "      <td>NaN</td>\n",
       "      <td>NaN</td>\n",
       "      <td>NaN</td>\n",
       "      <td>NaN</td>\n",
       "      <td>NaN</td>\n",
       "      <td>NaN</td>\n",
       "      <td>Y</td>\n",
       "      <td>NaN</td>\n",
       "    </tr>\n",
       "    <tr>\n",
       "      <th>188565</th>\n",
       "      <td>158985576</td>\n",
       "      <td>78</td>\n",
       "      <td>CA</td>\n",
       "      <td>SONOMA</td>\n",
       "      <td>6</td>\n",
       "      <td>97</td>\n",
       "      <td>SONOMA</td>\n",
       "      <td>2101060</td>\n",
       "      <td>NaN</td>\n",
       "      <td>NaN</td>\n",
       "      <td>...</td>\n",
       "      <td>0.0</td>\n",
       "      <td>9</td>\n",
       "      <td>NaN</td>\n",
       "      <td>NaN</td>\n",
       "      <td>NaN</td>\n",
       "      <td>NaN</td>\n",
       "      <td>NaN</td>\n",
       "      <td>NaN</td>\n",
       "      <td>Y</td>\n",
       "      <td>NaN</td>\n",
       "    </tr>\n",
       "    <tr>\n",
       "      <th>188566</th>\n",
       "      <td>159066835</td>\n",
       "      <td>78</td>\n",
       "      <td>CA</td>\n",
       "      <td>SONOMA</td>\n",
       "      <td>6</td>\n",
       "      <td>97</td>\n",
       "      <td>SONOMA</td>\n",
       "      <td>8480068</td>\n",
       "      <td>NaN</td>\n",
       "      <td>NaN</td>\n",
       "      <td>...</td>\n",
       "      <td>0.0</td>\n",
       "      <td>9</td>\n",
       "      <td>NaN</td>\n",
       "      <td>NaN</td>\n",
       "      <td>NaN</td>\n",
       "      <td>NaN</td>\n",
       "      <td>NaN</td>\n",
       "      <td>NaN</td>\n",
       "      <td>Y</td>\n",
       "      <td>NaN</td>\n",
       "    </tr>\n",
       "  </tbody>\n",
       "</table>\n",
       "<p>5 rows × 190 columns</p>\n",
       "</div>"
      ],
      "text/plain": [
       "        SA_PROPERTY_ID  SA_SCM_ID MM_STATE_CODE MM_MUNI_NAME  \\\n",
       "188562       158941307         78            CA       SONOMA   \n",
       "188563       158973980         78            CA       SONOMA   \n",
       "188564       158981097         78            CA       SONOMA   \n",
       "188565       158985576         78            CA       SONOMA   \n",
       "188566       159066835         78            CA       SONOMA   \n",
       "\n",
       "        MM_FIPS_STATE_CODE  MM_FIPS_MUNI_CODE MM_FIPS_COUNTY_NAME  \\\n",
       "188562                   6                 97              SONOMA   \n",
       "188563                   6                 97              SONOMA   \n",
       "188564                   6                 97              SONOMA   \n",
       "188565                   6                 97              SONOMA   \n",
       "188566                   6                 97              SONOMA   \n",
       "\n",
       "       SA_PARCEL_NBR_PRIMARY  SA_PARCEL_NBR_REFERENCE SA_PARCEL_ACCOUNT_NBR  \\\n",
       "188562               2101055                      NaN                   NaN   \n",
       "188563               2101057                      NaN                   NaN   \n",
       "188564               2101062                      NaN                   NaN   \n",
       "188565               2101060                      NaN                   NaN   \n",
       "188566               8480068                      NaN                   NaN   \n",
       "\n",
       "        ...    SA_Y_COORD SA_GEO_QLTY_CODE  SA_CENSUS_TRACT  \\\n",
       "188562  ...           0.0                9              NaN   \n",
       "188563  ...           0.0                9              NaN   \n",
       "188564  ...           0.0                9              NaN   \n",
       "188565  ...           0.0                9              NaN   \n",
       "188566  ...           0.0                9              NaN   \n",
       "\n",
       "        SA_CENSUS_BLOCK_GROUP CORE_BASED_STATISTICAL_AREA_CODE  \\\n",
       "188562                    NaN                              NaN   \n",
       "188563                    NaN                              NaN   \n",
       "188564                    NaN                              NaN   \n",
       "188565                    NaN                              NaN   \n",
       "188566                    NaN                              NaN   \n",
       "\n",
       "       MINOR_CIVIL_DIVISION_CODE FIPS_PLACE_CODE SA_INACTIVE_PARCEL_FLAG  \\\n",
       "188562                       NaN             NaN                     NaN   \n",
       "188563                       NaN             NaN                     NaN   \n",
       "188564                       NaN             NaN                     NaN   \n",
       "188565                       NaN             NaN                     NaN   \n",
       "188566                       NaN             NaN                     NaN   \n",
       "\n",
       "       SA_SHELL_PARCEL_FLAG FILLER  \n",
       "188562                    Y    NaN  \n",
       "188563                    Y    NaN  \n",
       "188564                    Y    NaN  \n",
       "188565                    Y    NaN  \n",
       "188566                    Y    NaN  \n",
       "\n",
       "[5 rows x 190 columns]"
      ]
     },
     "execution_count": 22,
     "metadata": {},
     "output_type": "execute_result"
    }
   ],
   "source": [
    "assr.tail()"
   ]
  },
  {
   "cell_type": "code",
   "execution_count": 27,
   "metadata": {
    "scrolled": true
   },
   "outputs": [
    {
     "data": {
      "text/plain": [
       "419236710"
      ]
     },
     "execution_count": 27,
     "metadata": {},
     "output_type": "execute_result"
    }
   ],
   "source": [
    "assr.size"
   ]
  },
  {
   "cell_type": "markdown",
   "metadata": {},
   "source": [
    "I'm not sure why the following does not work. I've tried several variations and ended up doing it county by county, which is silly."
   ]
  },
  {
   "cell_type": "code",
   "execution_count": 23,
   "metadata": {},
   "outputs": [
    {
     "name": "stdout",
     "output_type": "stream",
     "text": [
      "ALAMEDA\n",
      "CONTRA_COSTA\n",
      "MARIN\n",
      "NAPA\n",
      "SAN_FRANCISCO\n",
      "SAN_MATEO\n",
      "SANTA_CLARA\n",
      "SOLANO\n",
      "SONOMA\n"
     ]
    }
   ],
   "source": [
    "dfassr = pd.DataFrame()\n",
    "for county in counties:\n",
    "    print(county)\n",
    "    temp = pd.read_csv(path+'ARB_ASSR_'+county+'.csv', low_memory=False)\n",
    "    assr2 = dfassr.append(temp)"
   ]
  },
  {
   "cell_type": "code",
   "execution_count": 26,
   "metadata": {},
   "outputs": [
    {
     "data": {
      "text/plain": [
       "35827730"
      ]
     },
     "execution_count": 26,
     "metadata": {},
     "output_type": "execute_result"
    }
   ],
   "source": [
    "assr2.size"
   ]
  },
  {
   "cell_type": "code",
   "execution_count": 28,
   "metadata": {},
   "outputs": [],
   "source": [
    "assr.to_csv(path+'assr.csv')"
   ]
  },
  {
   "cell_type": "code",
   "execution_count": null,
   "metadata": {},
   "outputs": [],
   "source": []
  }
 ],
 "metadata": {
  "kernelspec": {
   "display_name": "Python 3",
   "language": "python",
   "name": "python3"
  },
  "language_info": {
   "codemirror_mode": {
    "name": "ipython",
    "version": 3
   },
   "file_extension": ".py",
   "mimetype": "text/x-python",
   "name": "python",
   "nbconvert_exporter": "python",
   "pygments_lexer": "ipython3",
   "version": "3.6.5"
  }
 },
 "nbformat": 4,
 "nbformat_minor": 2
}
