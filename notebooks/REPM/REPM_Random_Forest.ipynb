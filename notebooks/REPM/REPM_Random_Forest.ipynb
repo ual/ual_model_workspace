{
 "cells": [
  {
   "cell_type": "markdown",
   "metadata": {},
   "source": [
    "# Predicting Rent per Sqft for Bay Area\n",
    "\n",
    "Arezoo Besharati, UrbanSim, July 2018"
   ]
  },
  {
   "cell_type": "code",
   "execution_count": 1,
   "metadata": {},
   "outputs": [],
   "source": [
    "from __future__ import print_function\n",
    "import warnings;warnings.simplefilter('ignore')\n",
    "\n",
    "import numpy as np\n",
    "import pandas as pd\n",
    "\n",
    "from scipy.stats import norm\n",
    "%matplotlib inline\n",
    "\n",
    "import matplotlib.pyplot as plt\n",
    "import seaborn as sns\n",
    "sns.set()"
   ]
  },
  {
   "cell_type": "code",
   "execution_count": 2,
   "metadata": {},
   "outputs": [],
   "source": [
    "import os; os.chdir('../..')"
   ]
  },
  {
   "cell_type": "code",
   "execution_count": 3,
   "metadata": {},
   "outputs": [],
   "source": [
    "import orca"
   ]
  },
  {
   "cell_type": "code",
   "execution_count": 4,
   "metadata": {},
   "outputs": [],
   "source": [
    "# Load any script-based Orca registrations\n",
    "from scripts import datasources\n",
    "from scripts import models"
   ]
  },
  {
   "cell_type": "code",
   "execution_count": 5,
   "metadata": {
    "scrolled": true
   },
   "outputs": [
    {
     "data": {
      "text/plain": [
       "['parcels',\n",
       " 'buildings',\n",
       " 'craigslist',\n",
       " 'rentals',\n",
       " 'nodessmall',\n",
       " 'nodeswalk',\n",
       " 'units',\n",
       " 'households',\n",
       " 'persons',\n",
       " 'jobs']"
      ]
     },
     "execution_count": 5,
     "metadata": {},
     "output_type": "execute_result"
    }
   ],
   "source": [
    "orca.list_tables()"
   ]
  },
  {
   "cell_type": "code",
   "execution_count": 6,
   "metadata": {},
   "outputs": [
    {
     "data": {
      "text/plain": [
       "(363055, 16)"
      ]
     },
     "execution_count": 6,
     "metadata": {},
     "output_type": "execute_result"
    }
   ],
   "source": [
    "rentals = orca.get_table('rentals').to_frame()\n",
    "rentals.shape"
   ]
  },
  {
   "cell_type": "code",
   "execution_count": 7,
   "metadata": {},
   "outputs": [
    {
     "data": {
      "text/plain": [
       "<orca.orca.DataFrameWrapper at 0x1013cb908>"
      ]
     },
     "execution_count": 7,
     "metadata": {},
     "output_type": "execute_result"
    }
   ],
   "source": [
    "rentals = orca.get_table('rentals').to_frame()\n",
    "rentals['pred_rent_sqft'] = 0.0\n",
    "rentals['res_sqft_per_unit'] = rentals['sqft']\n",
    "\n",
    "orca.add_table('rentals', rentals)"
   ]
  },
  {
   "cell_type": "code",
   "execution_count": 8,
   "metadata": {},
   "outputs": [
    {
     "data": {
      "text/plain": [
       "(363055, 107)"
      ]
     },
     "execution_count": 8,
     "metadata": {},
     "output_type": "execute_result"
    }
   ],
   "source": [
    "df = orca.merge_tables(target = 'rentals', tables = ['rentals','nodeswalk','nodessmall'])\n",
    "df.shape"
   ]
  },
  {
   "cell_type": "code",
   "execution_count": 9,
   "metadata": {},
   "outputs": [
    {
     "data": {
      "text/plain": [
       "19.609375"
      ]
     },
     "execution_count": 9,
     "metadata": {},
     "output_type": "execute_result"
    }
   ],
   "source": [
    "df.rent_sqft.max()"
   ]
  },
  {
   "cell_type": "code",
   "execution_count": 10,
   "metadata": {},
   "outputs": [],
   "source": [
    "#df.columns.tolist()"
   ]
  },
  {
   "cell_type": "code",
   "execution_count": 11,
   "metadata": {},
   "outputs": [],
   "source": [
    "df.drop(['state',\n",
    "         'bathrooms',\n",
    "         'rent',\n",
    "         'longitude',\n",
    "         'latitude',\n",
    "         'neighborhood',\n",
    "         'county',\n",
    "         'date',\n",
    "         'avg_rent_1500_walk',\n",
    "         'avg_rent_10000',\n",
    "         'region',\n",
    "         'avg_rent_25000',\n",
    "         'node_id_small',\n",
    "         'node_id_walk',\n",
    "         'Unnamed: 0',\n",
    "         'sqft',\n",
    "         'avg_rent_500_walk',\n",
    "         'fips_block'] , axis = 1, inplace = True)"
   ]
  },
  {
   "cell_type": "code",
   "execution_count": 12,
   "metadata": {},
   "outputs": [],
   "source": [
    "from scipy.stats import skew\n",
    "\n",
    "df.dtypes[df.dtypes != \"object\"]\n",
    "numeric_feats = df.dtypes[df.dtypes != \"object\"].index\n",
    "\n",
    "skewed_feats = df[numeric_feats].apply(lambda x: skew(x.dropna())) #compute skewness\n",
    "\n",
    "skewed_feats = skewed_feats[skewed_feats > 0.7]\n",
    "skewed_feats = skewed_feats.index\n",
    "\n",
    "df[skewed_feats] = np.log1p(df[skewed_feats])"
   ]
  },
  {
   "cell_type": "code",
   "execution_count": 13,
   "metadata": {},
   "outputs": [],
   "source": [
    "#print(df.shape)\n",
    "#df.columns.tolist()"
   ]
  },
  {
   "cell_type": "code",
   "execution_count": 14,
   "metadata": {},
   "outputs": [],
   "source": [
    "# all_data_na = (df.isnull().sum() / len(df)) * 100\n",
    "# all_data_na = all_data_na.drop(all_data_na[all_data_na == 0].index).sort_values(ascending=False)\n",
    "# missing_data = pd.DataFrame({'Missing Ratio' :all_data_na})\n",
    "# missing_data.head(20)"
   ]
  },
  {
   "cell_type": "code",
   "execution_count": 15,
   "metadata": {},
   "outputs": [],
   "source": [
    "df = df.dropna()"
   ]
  },
  {
   "cell_type": "code",
   "execution_count": 16,
   "metadata": {},
   "outputs": [],
   "source": [
    "#creating matrices for sklearn:\n",
    "X = df.loc[:, df.columns != 'rent_sqft']\n",
    "y = np.log1p(df.rent_sqft)"
   ]
  },
  {
   "cell_type": "markdown",
   "metadata": {},
   "source": [
    "## Spliting the dataset for validation"
   ]
  },
  {
   "cell_type": "code",
   "execution_count": 17,
   "metadata": {},
   "outputs": [],
   "source": [
    "from sklearn.model_selection import train_test_split\n",
    "\n",
    "X_train, X_test, y_train, y_test = train_test_split(X, y, test_size=0.33, random_state=42)"
   ]
  },
  {
   "cell_type": "code",
   "execution_count": 18,
   "metadata": {},
   "outputs": [
    {
     "data": {
      "text/plain": [
       "1.3317226100425972"
      ]
     },
     "execution_count": 18,
     "metadata": {},
     "output_type": "execute_result"
    }
   ],
   "source": [
    "y_train.max() "
   ]
  },
  {
   "cell_type": "code",
   "execution_count": 19,
   "metadata": {},
   "outputs": [
    {
     "data": {
      "text/plain": [
       "1.3927102525403174"
      ]
     },
     "execution_count": 19,
     "metadata": {},
     "output_type": "execute_result"
    }
   ],
   "source": [
    "y_test.max()"
   ]
  },
  {
   "cell_type": "markdown",
   "metadata": {},
   "source": [
    "## Model"
   ]
  },
  {
   "cell_type": "code",
   "execution_count": 20,
   "metadata": {},
   "outputs": [
    {
     "name": "stdout",
     "output_type": "stream",
     "text": [
      "Number of predictions = 115763\n"
     ]
    }
   ],
   "source": [
    "from sklearn.ensemble import RandomForestRegressor\n",
    "\n",
    "forest_model = RandomForestRegressor(n_estimators=100, max_features=30,n_jobs= -1)\n",
    "forest_model_2= RandomForestRegressor(n_estimators=200, max_features=.5,n_jobs= -1)\n",
    "forest_model = forest_model.fit(X_train, y_train)\n",
    "forest_model_2 = forest_model_2.fit(X_train, y_train)\n",
    "preds = forest_model.predict(X_test)\n",
    "preds_2 = forest_model_2.predict(X_test)\n",
    "print('Number of predictions = %2.f' % len(preds))"
   ]
  },
  {
   "cell_type": "markdown",
   "metadata": {},
   "source": [
    "## Prediction and Model evaluation "
   ]
  },
  {
   "cell_type": "code",
   "execution_count": 23,
   "metadata": {},
   "outputs": [
    {
     "name": "stdout",
     "output_type": "stream",
     "text": [
      "Mean squared error = 0.00\n",
      "RMSE = 0.04\n",
      "R2_score = 0.89\n",
      "R2_score = 0.89\n"
     ]
    }
   ],
   "source": [
    "from sklearn.metrics import mean_absolute_error, mean_squared_error, r2_score\n",
    "from math import sqrt\n",
    "# The mean squared error\n",
    "meanSquaredError = mean_squared_error(y_test, preds)\n",
    "print('Mean squared error = %.2f' %meanSquaredError)\n",
    "\n",
    "# rmse\n",
    "rootMeanSquaredError = sqrt(meanSquaredError)\n",
    "print('RMSE = %.2f' %rootMeanSquaredError)\n",
    "\n",
    "# Explained variance score: 1 is perfect prediction\n",
    "print('R2_score = %.2f' % r2_score(y_test, preds))\n",
    "\n",
    "\n",
    "print('R2_score = %.2f' % r2_score(y_test, preds_2))\n",
    "\n"
   ]
  },
  {
   "cell_type": "markdown",
   "metadata": {},
   "source": [
    "### Tuning the model for overfit"
   ]
  },
  {
   "cell_type": "code",
   "execution_count": 29,
   "metadata": {},
   "outputs": [
    {
     "name": "stdout",
     "output_type": "stream",
     "text": [
      "R2_score = 0.89\n"
     ]
    }
   ],
   "source": [
    "forest_model_3= RandomForestRegressor(n_estimators=100, max_features=30,n_jobs= -1, max_depth = 30)\n",
    "forest_model_3 = forest_model_3.fit(X_train, y_train)\n",
    "preds_3 = forest_model_3.predict(X_test)\n",
    "print('R2_score = %.2f' % r2_score(y_test, preds_3))"
   ]
  },
  {
   "cell_type": "code",
   "execution_count": null,
   "metadata": {},
   "outputs": [],
   "source": [
    "preds = np.exp(preds)-1\n",
    "y_test = np.exp(y_test) -1"
   ]
  },
  {
   "cell_type": "code",
   "execution_count": null,
   "metadata": {
    "scrolled": false
   },
   "outputs": [],
   "source": [
    "% matplotlib inline\n",
    "\n",
    "f, ax = plt.subplots(1, figsize=(10, 10))\n",
    "plt.title(\"Predicted vs Observed Rent per Sqft\", size = 30,color=\"b\",alpha=1)\n",
    "\n",
    "ax = sns.regplot(y = preds, x = y_test, \\\n",
    "                scatter_kws={\"color\":\"darkred\",\"alpha\":0.3,\"s\":1})\n",
    "\n",
    "ax.set_xlabel(\"Observed Values\",size = 20,color=\"b\",alpha=0.5)\n",
    "ax.set_ylabel(\"Predicted Values\",size = 20,color=\"b\",alpha=0.5)"
   ]
  },
  {
   "cell_type": "markdown",
   "metadata": {},
   "source": [
    "## Feature Importance"
   ]
  },
  {
   "cell_type": "code",
   "execution_count": null,
   "metadata": {
    "scrolled": true
   },
   "outputs": [],
   "source": [
    "sorted(zip(map(lambda x: round(x, 3), forest_model.feature_importances_), X_train.columns), reverse=True)[:15]"
   ]
  },
  {
   "cell_type": "code",
   "execution_count": null,
   "metadata": {},
   "outputs": [],
   "source": [
    "coef = pd.Series(map(lambda x: round(x, 3), forest_model.feature_importances_), index = X_train.columns)\n",
    "#print(\"Random Forest picked \" + str(sum(coef != 0)) + \" variables and eliminated the other \" +  str(sum(coef == 0)) + \" variables\")"
   ]
  },
  {
   "cell_type": "code",
   "execution_count": null,
   "metadata": {},
   "outputs": [],
   "source": [
    "% matplotlib inline\n",
    "\n",
    "from matplotlib.pyplot import *\n",
    "matplotlib.rcParams['figure.figsize'] = (8.0, 10.0)\n",
    "\n",
    "imp_coef = coef.sort_values().tail(10)\n",
    "imp_coef.plot(kind = \"barh\")\n",
    "\n",
    "plt.title(\"Coefficients in the Random Forest Model\")\n",
    "plt.show()"
   ]
  },
  {
   "cell_type": "markdown",
   "metadata": {},
   "source": [
    "### Try simple regression tree rather than random forest"
   ]
  },
  {
   "cell_type": "code",
   "execution_count": null,
   "metadata": {},
   "outputs": [],
   "source": [
    "df_small = df[['rent_sqft','res_sqft_per_unit','rich_1500_walk','avg_income_25000','bedrooms','units_mf_25000',\\\n",
    "         'avg_income_10000','jobs_25000','renters_25000','pop_white_2500_walk','units_25000','pop_asian_25000',\n",
    "        'jobs_10000','hh_25000','jobs_1500_walk','pop_black_10000']]"
   ]
  },
  {
   "cell_type": "code",
   "execution_count": null,
   "metadata": {},
   "outputs": [],
   "source": [
    "#creating matrices for sklearn:\n",
    "X = df_small.loc[:, df_small.columns != 'rent_sqft']\n",
    "y = np.log1p(df_small.rent_sqft)"
   ]
  },
  {
   "cell_type": "code",
   "execution_count": null,
   "metadata": {},
   "outputs": [],
   "source": [
    "X.head()"
   ]
  },
  {
   "cell_type": "code",
   "execution_count": null,
   "metadata": {},
   "outputs": [],
   "source": [
    "from sklearn.model_selection import train_test_split\n",
    "\n",
    "X_train, X_test, y_train, y_test = train_test_split(X, y, test_size=0.33, random_state=42)"
   ]
  },
  {
   "cell_type": "code",
   "execution_count": null,
   "metadata": {},
   "outputs": [],
   "source": [
    "from sklearn.tree import DecisionTreeRegressor\n",
    "\n",
    "dtr_1 = DecisionTreeRegressor(max_depth=2)\n",
    "dtr_2 = DecisionTreeRegressor(max_depth=4)\n",
    "\n",
    "dtr_1= dtr_1.fit(X_train, y_train)\n",
    "dtr_2= dtr_2.fit(X_train, y_train)\n",
    "\n",
    "\n",
    "preds_1= dtr_1.predict(X_test)\n",
    "preds_2= dtr_2.predict(X_test)\n",
    "\n",
    "\n",
    "preds_2_train = dtr_2.predict(X_train)"
   ]
  },
  {
   "cell_type": "code",
   "execution_count": null,
   "metadata": {},
   "outputs": [],
   "source": [
    "from sklearn.metrics import mean_absolute_error, mean_squared_error, r2_score\n",
    "from math import sqrt\n",
    "# The mean squared error\n",
    "meanSquaredError = mean_squared_error(y_test, preds_2)\n",
    "print('Mean squared error = %.2f' %meanSquaredError)\n",
    "\n",
    "# rmse\n",
    "rootMeanSquaredError = sqrt(meanSquaredError)\n",
    "print('RMSE = %.2f' %rootMeanSquaredError)\n",
    "\n",
    "# Explained variance score: 1 is perfect prediction\n",
    "print('R2_score = %.2f' % r2_score(y_test, preds_2))\n",
    "print('R2_score = %.2f' % r2_score(y_train, preds_2_train))"
   ]
  },
  {
   "cell_type": "code",
   "execution_count": null,
   "metadata": {},
   "outputs": [],
   "source": [
    "# Plot the results\n",
    "plt.figure()\n",
    "plt.scatter(X_test['res_sqft_per_unit'], y_test, s=20, edgecolor=\"black\",\n",
    "            c=\"darkorange\", label=\"data\")\n",
    "plt.plot(X_test['res_sqft_per_unit'], preds_1, color=\"cornflowerblue\",\n",
    "         label=\"max_depth=2\", linewidth=2)\n",
    "plt.plot(X_test['res_sqft_per_unit'], preds_2, color=\"yellowgreen\", label=\"max_depth=5\", linewidth=2)\n",
    "plt.xlabel(\"data\")\n",
    "plt.ylabel(\"target\")\n",
    "plt.title(\"Decision Tree Regression\")\n",
    "plt.legend()\n",
    "plt.show()"
   ]
  },
  {
   "cell_type": "code",
   "execution_count": null,
   "metadata": {},
   "outputs": [],
   "source": [
    "\n",
    "\n",
    "plt.figure(figsize=(8,6))\n",
    "plt.plot(X_test['res_sqft_per_unit'], y_test, 'o', label='observation')\n",
    "plt.plot(X_test['res_sqft_per_unit'], preds_2, linewidth=4, alpha=.7, label='prediction')\n",
    "plt.xlabel('temperature')\n",
    "plt.ylabel('bikes')\n",
    "plt.legend()\n",
    "plt.show()"
   ]
  },
  {
   "cell_type": "code",
   "execution_count": null,
   "metadata": {},
   "outputs": [],
   "source": [
    "from sklearn.tree import export_graphviz\n",
    "export_graphviz(dtr_2, out_file='tree.dot',feature_names=['res_sqft_per_unit','rich_1500_walk','avg_income_25000','bedrooms','units_mf_25000',\\\n",
    "         'avg_income_10000','jobs_25000','renters_25000','pop_white_2500_walk','units_25000','pop_asian_25000',\n",
    "        'jobs_10000','hh_25000','jobs_1500_walk','pop_black_10000'])"
   ]
  },
  {
   "cell_type": "code",
   "execution_count": null,
   "metadata": {},
   "outputs": [],
   "source": [
    "!dot -Tpng tree.dot > tree.png # to convert the tree in a png image\n"
   ]
  },
  {
   "cell_type": "code",
   "execution_count": null,
   "metadata": {},
   "outputs": [],
   "source": [
    "from IPython.display import Image\n",
    "Image(filename='tree.png')"
   ]
  },
  {
   "cell_type": "code",
   "execution_count": null,
   "metadata": {},
   "outputs": [],
   "source": [
    "from sklearn.externals.six import StringIO  \n",
    "from IPython.display import Image  \n",
    "from sklearn.tree import export_graphviz\n",
    "import pydotplus\n",
    "dot_data = StringIO()\n",
    "export_graphviz(dtr_2, out_file=dot_data,feature_names=['res_sqft_per_unit','rich_1500_walk','avg_income_25000','bedrooms','units_mf_25000',\\\n",
    "         'avg_income_10000','jobs_25000','renters_25000','pop_white_2500_walk','units_25000','pop_asian_25000',\n",
    "        'jobs_10000','hh_25000','jobs_1500_walk','pop_black_10000']  \n",
    "                ,filled=True, rounded=True,\n",
    "                special_characters=True, max_depth=None)\n",
    "graph = pydotplus.graph_from_dot_data(dot_data.getvalue())  \n",
    "Image(graph.create_png())"
   ]
  },
  {
   "cell_type": "code",
   "execution_count": null,
   "metadata": {},
   "outputs": [],
   "source": []
  }
 ],
 "metadata": {
  "kernelspec": {
   "display_name": "Python 3",
   "language": "python",
   "name": "python3"
  },
  "language_info": {
   "codemirror_mode": {
    "name": "ipython",
    "version": 3
   },
   "file_extension": ".py",
   "mimetype": "text/x-python",
   "name": "python",
   "nbconvert_exporter": "python",
   "pygments_lexer": "ipython3",
   "version": "3.6.5"
  },
  "toc": {
   "base_numbering": 1,
   "nav_menu": {},
   "number_sections": true,
   "sideBar": true,
   "skip_h1_title": false,
   "title_cell": "Table of Contents",
   "title_sidebar": "Contents",
   "toc_cell": false,
   "toc_position": {},
   "toc_section_display": true,
   "toc_window_display": false
  }
 },
 "nbformat": 4,
 "nbformat_minor": 2
}
