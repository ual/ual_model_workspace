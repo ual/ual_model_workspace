{
 "cells": [
  {
   "cell_type": "code",
   "execution_count": 1,
   "metadata": {},
   "outputs": [],
   "source": [
    "import pandas as pd"
   ]
  },
  {
   "cell_type": "code",
   "execution_count": 2,
   "metadata": {},
   "outputs": [],
   "source": [
    "path = '../data/'"
   ]
  },
  {
   "cell_type": "code",
   "execution_count": 7,
   "metadata": {},
   "outputs": [],
   "source": [
    "sales = pd.read_csv(path+'sales.csv', low_memory=False,usecols=['sr_property_id', 'mm_fips_county_name',\n",
    "        'sr_site_addr_raw','sr_val_transfer', 'sr_tax_transfer','sr_date_transfer','sr_arms_length_flag',\n",
    "        'distress_indicator', 'sa_sqft', 'sa_x_coord', 'sa_y_coord','ucb_geo_id',\n",
    "       'ucb_price_sqft', 'ucb_price_sqft_adj', 'ucb_condo_subdiv_flag',\n",
    "       'ucb_condo_subdiv_sqft'])"
   ]
  },
  {
   "cell_type": "code",
   "execution_count": 8,
   "metadata": {},
   "outputs": [
    {
     "data": {
      "text/plain": [
       "Index(['sr_property_id', 'mm_fips_county_name', 'sr_site_addr_raw',\n",
       "       'sr_val_transfer', 'sr_tax_transfer', 'sr_date_transfer',\n",
       "       'sr_arms_length_flag', 'distress_indicator', 'sa_sqft', 'sa_x_coord',\n",
       "       'sa_y_coord', 'ucb_geo_id', 'ucb_price_sqft', 'ucb_price_sqft_adj',\n",
       "       'ucb_condo_subdiv_flag', 'ucb_condo_subdiv_sqft'],\n",
       "      dtype='object')"
      ]
     },
     "execution_count": 8,
     "metadata": {},
     "output_type": "execute_result"
    }
   ],
   "source": [
    "sales.columns"
   ]
  },
  {
   "cell_type": "code",
   "execution_count": 10,
   "metadata": {},
   "outputs": [],
   "source": [
    "assr = pd.read_csv(path+'assr.csv', low_memory=False, usecols=[\"SA_PROPERTY_ID\", \"SA_BLDG_SQFT\",\"SA_CONDITION_CODE\",\n",
    "        \"SA_CONSTRUCTION_CODE\",\"SA_CONSTRUCTION_QLTY\",\"SA_LOTSIZE\",\"SA_NBR_BATH\", \"SA_NBR_BEDRMS\", \"SA_NBR_STORIES\",\n",
    "        \"SA_NBR_UNITS\", \"SA_SQFT\", \"SA_VIEW_CODE\", \"SA_YR_BLT\", \"SA_YR_BLT_EFFECT\",\"SA_CENSUS_BLOCK_GROUP\"])"
   ]
  },
  {
   "cell_type": "code",
   "execution_count": null,
   "metadata": {},
   "outputs": [],
   "source": []
  }
 ],
 "metadata": {
  "kernelspec": {
   "display_name": "Python 3",
   "language": "python",
   "name": "python3"
  },
  "language_info": {
   "codemirror_mode": {
    "name": "ipython",
    "version": 3
   },
   "file_extension": ".py",
   "mimetype": "text/x-python",
   "name": "python",
   "nbconvert_exporter": "python",
   "pygments_lexer": "ipython3",
   "version": "3.6.5"
  }
 },
 "nbformat": 4,
 "nbformat_minor": 2
}
