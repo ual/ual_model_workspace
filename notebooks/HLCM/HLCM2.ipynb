{
 "cells": [
  {
   "cell_type": "markdown",
   "metadata": {},
   "source": [
    "## HLCM 2 - with saved network vars\n",
    "Arezoo Besharati, UrbanSim, July 2018 \n"
   ]
  },
  {
   "cell_type": "code",
   "execution_count": null,
   "metadata": {},
   "outputs": [],
   "source": [
    "import os; os.chdir('../../')\n",
    "import numpy as np, pandas as pd \n",
    "import matplotlib.pyplot as plt\n",
    "import warnings;\n",
    "warnings.simplefilter('ignore')\n",
    "%load_ext autoreload\n",
    "%autoreload 2"
   ]
  },
  {
   "cell_type": "code",
   "execution_count": 2,
   "metadata": {},
   "outputs": [],
   "source": [
    "from urbansim_templates import modelmanager as mm\n",
    "from urbansim_templates.models import LargeMultinomialLogitStep\n",
    "import orca\n",
    "import seaborn as sns\n",
    "%matplotlib notebook"
   ]
  },
  {
   "cell_type": "markdown",
   "metadata": {},
   "source": [
    "### Load data"
   ]
  },
  {
   "cell_type": "code",
   "execution_count": 3,
   "metadata": {},
   "outputs": [],
   "source": [
    "# Load any script-based Orca registrations\n",
    "from scripts import datasources\n",
    "from scripts import models"
   ]
  },
  {
   "cell_type": "code",
   "execution_count": null,
   "metadata": {},
   "outputs": [],
   "source": [
    "#mm.list_steps()"
   ]
  },
  {
   "cell_type": "code",
   "execution_count": null,
   "metadata": {},
   "outputs": [],
   "source": [
    "#mm.initialize()"
   ]
  },
  {
   "cell_type": "code",
   "execution_count": null,
   "metadata": {},
   "outputs": [],
   "source": [
    "orca.list_tables()\n",
    "#orca.list_broadcasts()\n",
    "#orca.list_steps()"
   ]
  },
  {
   "cell_type": "markdown",
   "metadata": {},
   "source": [
    "### Load accessibility vars"
   ]
  },
  {
   "cell_type": "code",
   "execution_count": 4,
   "metadata": {},
   "outputs": [],
   "source": [
    "%%capture\n",
    "orca.run([\"initialize_network_walk\"])"
   ]
  },
  {
   "cell_type": "code",
   "execution_count": 5,
   "metadata": {},
   "outputs": [],
   "source": [
    "%%capture\n",
    "orca.run([\"initialize_network_small\"])"
   ]
  },
  {
   "cell_type": "markdown",
   "metadata": {},
   "source": [
    "### Explore the data"
   ]
  },
  {
   "cell_type": "code",
   "execution_count": 6,
   "metadata": {
    "scrolled": true
   },
   "outputs": [
    {
     "data": {
      "text/plain": [
       "['parcel_id',\n",
       " 'development_type_id',\n",
       " 'improvement_value',\n",
       " 'residential_units',\n",
       " 'residential_sqft',\n",
       " 'sqft_per_unit',\n",
       " 'non_residential_sqft',\n",
       " 'building_sqft',\n",
       " 'nonres_rent_per_sqft',\n",
       " 'res_price_per_sqft',\n",
       " 'stories',\n",
       " 'year_built',\n",
       " 'redfin_sale_price',\n",
       " 'redfin_sale_year',\n",
       " 'redfin_home_type',\n",
       " 'costar_property_type',\n",
       " 'costar_rent',\n",
       " 'building_type_id',\n",
       " 'res_sqft_per_unit',\n",
       " 'node_id_walk',\n",
       " 'node_id_small']"
      ]
     },
     "execution_count": 6,
     "metadata": {},
     "output_type": "execute_result"
    }
   ],
   "source": [
    "bld = orca.get_table('buildings').to_frame()\n",
    "bld.columns.tolist()"
   ]
  },
  {
   "cell_type": "code",
   "execution_count": 7,
   "metadata": {},
   "outputs": [
    {
     "data": {
      "text/plain": [
       "<orca.orca._SeriesWrapper at 0x1c1cc63ac8>"
      ]
     },
     "execution_count": 7,
     "metadata": {},
     "output_type": "execute_result"
    }
   ],
   "source": [
    "# building_type dummies\n",
    "bld.single_family = bld.building_type_id == 1\n",
    "bld.multi_family = bld.building_type_id == 3\n",
    "bld.mixed_use = bld.building_type_id > 3 \n",
    "# add the columns\n",
    "orca.add_column('buildings', 'single_family', bld.single_family)\n",
    "orca.add_column('buildings', 'multi_family', bld.multi_family)\n",
    "orca.add_column('buildings', 'mixed_use', bld.mixed_use)"
   ]
  },
  {
   "cell_type": "code",
   "execution_count": null,
   "metadata": {},
   "outputs": [],
   "source": [
    "bld = orca.get_table('buildings').to_frame()\n",
    "bld.head()"
   ]
  },
  {
   "cell_type": "code",
   "execution_count": 8,
   "metadata": {
    "scrolled": false
   },
   "outputs": [
    {
     "data": {
      "text/plain": [
       "['serialno',\n",
       " 'persons',\n",
       " 'building_type',\n",
       " 'cars',\n",
       " 'income',\n",
       " 'race_of_head',\n",
       " 'hispanic_head',\n",
       " 'age_of_head',\n",
       " 'workers',\n",
       " 'state',\n",
       " 'county',\n",
       " 'tract',\n",
       " 'block_group',\n",
       " 'children',\n",
       " 'tenure',\n",
       " 'recent_mover',\n",
       " 'block_group_id',\n",
       " 'single_family',\n",
       " 'unit_id',\n",
       " 'building_id',\n",
       " 'node_id_walk',\n",
       " 'node_id_small']"
      ]
     },
     "execution_count": 8,
     "metadata": {},
     "output_type": "execute_result"
    }
   ],
   "source": [
    "hh = orca.get_table('households').to_frame()\n",
    "hh.columns.tolist()"
   ]
  },
  {
   "cell_type": "code",
   "execution_count": 18,
   "metadata": {},
   "outputs": [
    {
     "data": {
      "text/plain": [
       "<orca.orca._SeriesWrapper at 0x1c21281ac8>"
      ]
     },
     "execution_count": 18,
     "metadata": {},
     "output_type": "execute_result"
    }
   ],
   "source": [
    "# scale income and create race dummies\n",
    "hh.income_k = hh.income/1000\n",
    "hh.white = hh.race_of_head == 1\n",
    "hh.black = hh.race_of_head == 2\n",
    "hh.asian = hh.race_of_head == 6\n",
    "hh.hisp = hh.hispanic_head == 'yes'\n",
    "# add the columns\n",
    "orca.add_column('households', 'income_k', hh.income_k)\n",
    "orca.add_column('households', 'white', hh.white)\n",
    "orca.add_column('households', 'black', hh.black)\n",
    "orca.add_column('households', 'asian', hh.asian)\n",
    "orca.add_column('households', 'hispanic', hh.hisp)"
   ]
  },
  {
   "cell_type": "code",
   "execution_count": null,
   "metadata": {},
   "outputs": [],
   "source": [
    "#bld.building_type_id.value_counts()"
   ]
  },
  {
   "cell_type": "code",
   "execution_count": 27,
   "metadata": {
    "scrolled": true
   },
   "outputs": [
    {
     "name": "stdout",
     "output_type": "stream",
     "text": [
      "['units_500_walk', 'sqft_unit_500_walk', 'singles_500_walk', 'elderly_hh_500_walk', 'children_500_walk', 'units_sf_500_walk', 'units_mf_500_walk', 'pop_500_walk', 'hh_500_walk', 'poor_500_walk', 'rich_500_walk', 'renters_500_walk', 'avg_income_500_walk', 'jobs_500_walk', 'avg_rent_500_walk', 'pop_white_500_walk', 'pop_black_500_walk', 'pop_asian_500_walk', 'pop_hisp_500_walk', 'units_1500_walk', 'sqft_unit_1500_walk', 'singles_1500_walk', 'elderly_hh_1500_walk', 'children_1500_walk', 'units_sf_1500_walk', 'units_mf_1500_walk', 'pop_1500_walk', 'hh_1500_walk', 'poor_1500_walk', 'rich_1500_walk', 'renters_1500_walk', 'avg_income_1500_walk', 'jobs_1500_walk', 'avg_rent_1500_walk', 'pop_white_1500_walk', 'pop_black_1500_walk', 'pop_asian_1500_walk', 'pop_hisp_1500_walk', 'pop_2500_walk', 'pop_white_2500_walk', 'pop_black_2500_walk', 'pop_asian_2500_walk', 'pop_hisp_2500_walk']\n",
      "['units_10000', 'units_sf_10000', 'units_mf_10000', 'pop_10000', 'hh_10000', 'poor_10000', 'renters_10000', 'med_income_10000', 'jobs_10000', 'med_rent_10000', 'pop_white_10000', 'pop_black_10000', 'pop_asian_10000', 'pop_hisp_10000', 'units_25000', 'units_sf_25000', 'units_mf_25000', 'pop_25000', 'hh_25000', 'poor_25000', 'renters_25000', 'med_income_25000', 'jobs_25000', 'med_rent_25000', 'pop_white_25000', 'pop_black_25000', 'pop_asian_25000', 'pop_hisp_25000']\n"
     ]
    }
   ],
   "source": [
    "nodeswalk = orca.get_table('nodeswalk').to_frame()\n",
    "nodessmall = orca.get_table('nodessmall').to_frame()\n",
    "print(nodeswalk.columns.tolist())\n",
    "print(nodessmall.columns.tolist())"
   ]
  },
  {
   "cell_type": "code",
   "execution_count": 28,
   "metadata": {},
   "outputs": [
    {
     "data": {
      "text/html": [
       "<div>\n",
       "<style scoped>\n",
       "    .dataframe tbody tr th:only-of-type {\n",
       "        vertical-align: middle;\n",
       "    }\n",
       "\n",
       "    .dataframe tbody tr th {\n",
       "        vertical-align: top;\n",
       "    }\n",
       "\n",
       "    .dataframe thead th {\n",
       "        text-align: right;\n",
       "    }\n",
       "</style>\n",
       "<table border=\"1\" class=\"dataframe\">\n",
       "  <thead>\n",
       "    <tr style=\"text-align: right;\">\n",
       "      <th></th>\n",
       "      <th>units_500_walk</th>\n",
       "      <th>sqft_unit_500_walk</th>\n",
       "      <th>singles_500_walk</th>\n",
       "      <th>elderly_hh_500_walk</th>\n",
       "      <th>children_500_walk</th>\n",
       "      <th>units_sf_500_walk</th>\n",
       "      <th>units_mf_500_walk</th>\n",
       "      <th>pop_500_walk</th>\n",
       "      <th>hh_500_walk</th>\n",
       "      <th>poor_500_walk</th>\n",
       "      <th>...</th>\n",
       "      <th>avg_rent_1500_walk</th>\n",
       "      <th>pop_white_1500_walk</th>\n",
       "      <th>pop_black_1500_walk</th>\n",
       "      <th>pop_asian_1500_walk</th>\n",
       "      <th>pop_hisp_1500_walk</th>\n",
       "      <th>pop_2500_walk</th>\n",
       "      <th>pop_white_2500_walk</th>\n",
       "      <th>pop_black_2500_walk</th>\n",
       "      <th>pop_asian_2500_walk</th>\n",
       "      <th>pop_hisp_2500_walk</th>\n",
       "    </tr>\n",
       "  </thead>\n",
       "  <tbody>\n",
       "    <tr>\n",
       "      <th>count</th>\n",
       "      <td>415716.000000</td>\n",
       "      <td>415716.000000</td>\n",
       "      <td>415716.000000</td>\n",
       "      <td>415716.000000</td>\n",
       "      <td>415716.000000</td>\n",
       "      <td>415716.000000</td>\n",
       "      <td>415716.000000</td>\n",
       "      <td>415716.000000</td>\n",
       "      <td>415716.000000</td>\n",
       "      <td>415716.000000</td>\n",
       "      <td>...</td>\n",
       "      <td>415716.000000</td>\n",
       "      <td>415716.000000</td>\n",
       "      <td>415716.000000</td>\n",
       "      <td>415716.000000</td>\n",
       "      <td>415716.000000</td>\n",
       "      <td>415716.000000</td>\n",
       "      <td>415716.000000</td>\n",
       "      <td>415716.000000</td>\n",
       "      <td>415716.000000</td>\n",
       "      <td>415716.000000</td>\n",
       "    </tr>\n",
       "    <tr>\n",
       "      <th>mean</th>\n",
       "      <td>356.008992</td>\n",
       "      <td>1245.544486</td>\n",
       "      <td>89.887320</td>\n",
       "      <td>60.195042</td>\n",
       "      <td>161.779883</td>\n",
       "      <td>163.916265</td>\n",
       "      <td>165.668045</td>\n",
       "      <td>802.340538</td>\n",
       "      <td>315.202367</td>\n",
       "      <td>81.442610</td>\n",
       "      <td>...</td>\n",
       "      <td>2544.887916</td>\n",
       "      <td>4185.756497</td>\n",
       "      <td>440.785231</td>\n",
       "      <td>2271.882773</td>\n",
       "      <td>1535.478952</td>\n",
       "      <td>22549.051672</td>\n",
       "      <td>11993.463444</td>\n",
       "      <td>1231.324772</td>\n",
       "      <td>6494.531692</td>\n",
       "      <td>4404.455121</td>\n",
       "    </tr>\n",
       "    <tr>\n",
       "      <th>std</th>\n",
       "      <td>1097.037701</td>\n",
       "      <td>979.879938</td>\n",
       "      <td>323.945632</td>\n",
       "      <td>240.503341</td>\n",
       "      <td>448.370273</td>\n",
       "      <td>704.597755</td>\n",
       "      <td>469.333758</td>\n",
       "      <td>2292.176423</td>\n",
       "      <td>964.220014</td>\n",
       "      <td>291.422578</td>\n",
       "      <td>...</td>\n",
       "      <td>1191.996469</td>\n",
       "      <td>6079.309178</td>\n",
       "      <td>980.706698</td>\n",
       "      <td>3078.791686</td>\n",
       "      <td>2156.729176</td>\n",
       "      <td>24397.165755</td>\n",
       "      <td>13934.759697</td>\n",
       "      <td>2429.742820</td>\n",
       "      <td>7756.703815</td>\n",
       "      <td>5093.802029</td>\n",
       "    </tr>\n",
       "    <tr>\n",
       "      <th>min</th>\n",
       "      <td>0.000000</td>\n",
       "      <td>0.000000</td>\n",
       "      <td>0.000000</td>\n",
       "      <td>0.000000</td>\n",
       "      <td>0.000000</td>\n",
       "      <td>0.000000</td>\n",
       "      <td>0.000000</td>\n",
       "      <td>0.000000</td>\n",
       "      <td>0.000000</td>\n",
       "      <td>0.000000</td>\n",
       "      <td>...</td>\n",
       "      <td>-1.000000</td>\n",
       "      <td>0.000000</td>\n",
       "      <td>0.000000</td>\n",
       "      <td>0.000000</td>\n",
       "      <td>0.000000</td>\n",
       "      <td>0.000000</td>\n",
       "      <td>0.000000</td>\n",
       "      <td>0.000000</td>\n",
       "      <td>0.000000</td>\n",
       "      <td>0.000000</td>\n",
       "    </tr>\n",
       "    <tr>\n",
       "      <th>25%</th>\n",
       "      <td>9.000000</td>\n",
       "      <td>458.249520</td>\n",
       "      <td>1.000000</td>\n",
       "      <td>1.000000</td>\n",
       "      <td>4.000000</td>\n",
       "      <td>2.000000</td>\n",
       "      <td>0.000000</td>\n",
       "      <td>20.750000</td>\n",
       "      <td>7.000000</td>\n",
       "      <td>1.000000</td>\n",
       "      <td>...</td>\n",
       "      <td>2200.000000</td>\n",
       "      <td>895.000000</td>\n",
       "      <td>17.000000</td>\n",
       "      <td>296.000000</td>\n",
       "      <td>150.000000</td>\n",
       "      <td>7446.750000</td>\n",
       "      <td>3808.000000</td>\n",
       "      <td>113.000000</td>\n",
       "      <td>1408.000000</td>\n",
       "      <td>768.000000</td>\n",
       "    </tr>\n",
       "    <tr>\n",
       "      <th>50%</th>\n",
       "      <td>188.000000</td>\n",
       "      <td>1315.694300</td>\n",
       "      <td>28.000000</td>\n",
       "      <td>29.000000</td>\n",
       "      <td>97.000000</td>\n",
       "      <td>98.000000</td>\n",
       "      <td>2.000000</td>\n",
       "      <td>458.000000</td>\n",
       "      <td>168.000000</td>\n",
       "      <td>27.000000</td>\n",
       "      <td>...</td>\n",
       "      <td>2617.000000</td>\n",
       "      <td>3023.000000</td>\n",
       "      <td>118.000000</td>\n",
       "      <td>1302.000000</td>\n",
       "      <td>840.000000</td>\n",
       "      <td>17378.000000</td>\n",
       "      <td>9132.000000</td>\n",
       "      <td>430.000000</td>\n",
       "      <td>4214.000000</td>\n",
       "      <td>2818.000000</td>\n",
       "    </tr>\n",
       "    <tr>\n",
       "      <th>75%</th>\n",
       "      <td>440.000000</td>\n",
       "      <td>1761.837925</td>\n",
       "      <td>86.000000</td>\n",
       "      <td>73.000000</td>\n",
       "      <td>233.000000</td>\n",
       "      <td>247.000000</td>\n",
       "      <td>159.000000</td>\n",
       "      <td>1082.000000</td>\n",
       "      <td>392.000000</td>\n",
       "      <td>83.000000</td>\n",
       "      <td>...</td>\n",
       "      <td>3200.000000</td>\n",
       "      <td>5636.000000</td>\n",
       "      <td>390.000000</td>\n",
       "      <td>3095.000000</td>\n",
       "      <td>2076.000000</td>\n",
       "      <td>30321.000000</td>\n",
       "      <td>16124.000000</td>\n",
       "      <td>1089.000000</td>\n",
       "      <td>8783.250000</td>\n",
       "      <td>6145.000000</td>\n",
       "    </tr>\n",
       "    <tr>\n",
       "      <th>max</th>\n",
       "      <td>184995.000000</td>\n",
       "      <td>30000.000000</td>\n",
       "      <td>45986.000000</td>\n",
       "      <td>41032.000000</td>\n",
       "      <td>81448.000000</td>\n",
       "      <td>136971.000000</td>\n",
       "      <td>48024.000000</td>\n",
       "      <td>397670.000000</td>\n",
       "      <td>162582.000000</td>\n",
       "      <td>42787.000000</td>\n",
       "      <td>...</td>\n",
       "      <td>9800.000000</td>\n",
       "      <td>326129.000000</td>\n",
       "      <td>18039.000000</td>\n",
       "      <td>34932.000000</td>\n",
       "      <td>67438.000000</td>\n",
       "      <td>406786.000000</td>\n",
       "      <td>334616.000000</td>\n",
       "      <td>21836.000000</td>\n",
       "      <td>58877.000000</td>\n",
       "      <td>67835.000000</td>\n",
       "    </tr>\n",
       "  </tbody>\n",
       "</table>\n",
       "<p>8 rows × 43 columns</p>\n",
       "</div>"
      ],
      "text/plain": [
       "       units_500_walk  sqft_unit_500_walk  singles_500_walk  \\\n",
       "count   415716.000000       415716.000000     415716.000000   \n",
       "mean       356.008992         1245.544486         89.887320   \n",
       "std       1097.037701          979.879938        323.945632   \n",
       "min          0.000000            0.000000          0.000000   \n",
       "25%          9.000000          458.249520          1.000000   \n",
       "50%        188.000000         1315.694300         28.000000   \n",
       "75%        440.000000         1761.837925         86.000000   \n",
       "max     184995.000000        30000.000000      45986.000000   \n",
       "\n",
       "       elderly_hh_500_walk  children_500_walk  units_sf_500_walk  \\\n",
       "count        415716.000000      415716.000000      415716.000000   \n",
       "mean             60.195042         161.779883         163.916265   \n",
       "std             240.503341         448.370273         704.597755   \n",
       "min               0.000000           0.000000           0.000000   \n",
       "25%               1.000000           4.000000           2.000000   \n",
       "50%              29.000000          97.000000          98.000000   \n",
       "75%              73.000000         233.000000         247.000000   \n",
       "max           41032.000000       81448.000000      136971.000000   \n",
       "\n",
       "       units_mf_500_walk   pop_500_walk    hh_500_walk  poor_500_walk  \\\n",
       "count      415716.000000  415716.000000  415716.000000  415716.000000   \n",
       "mean          165.668045     802.340538     315.202367      81.442610   \n",
       "std           469.333758    2292.176423     964.220014     291.422578   \n",
       "min             0.000000       0.000000       0.000000       0.000000   \n",
       "25%             0.000000      20.750000       7.000000       1.000000   \n",
       "50%             2.000000     458.000000     168.000000      27.000000   \n",
       "75%           159.000000    1082.000000     392.000000      83.000000   \n",
       "max         48024.000000  397670.000000  162582.000000   42787.000000   \n",
       "\n",
       "              ...          avg_rent_1500_walk  pop_white_1500_walk  \\\n",
       "count         ...               415716.000000        415716.000000   \n",
       "mean          ...                 2544.887916          4185.756497   \n",
       "std           ...                 1191.996469          6079.309178   \n",
       "min           ...                   -1.000000             0.000000   \n",
       "25%           ...                 2200.000000           895.000000   \n",
       "50%           ...                 2617.000000          3023.000000   \n",
       "75%           ...                 3200.000000          5636.000000   \n",
       "max           ...                 9800.000000        326129.000000   \n",
       "\n",
       "       pop_black_1500_walk  pop_asian_1500_walk  pop_hisp_1500_walk  \\\n",
       "count        415716.000000        415716.000000       415716.000000   \n",
       "mean            440.785231          2271.882773         1535.478952   \n",
       "std             980.706698          3078.791686         2156.729176   \n",
       "min               0.000000             0.000000            0.000000   \n",
       "25%              17.000000           296.000000          150.000000   \n",
       "50%             118.000000          1302.000000          840.000000   \n",
       "75%             390.000000          3095.000000         2076.000000   \n",
       "max           18039.000000         34932.000000        67438.000000   \n",
       "\n",
       "       pop_2500_walk  pop_white_2500_walk  pop_black_2500_walk  \\\n",
       "count  415716.000000        415716.000000        415716.000000   \n",
       "mean    22549.051672         11993.463444          1231.324772   \n",
       "std     24397.165755         13934.759697          2429.742820   \n",
       "min         0.000000             0.000000             0.000000   \n",
       "25%      7446.750000          3808.000000           113.000000   \n",
       "50%     17378.000000          9132.000000           430.000000   \n",
       "75%     30321.000000         16124.000000          1089.000000   \n",
       "max    406786.000000        334616.000000         21836.000000   \n",
       "\n",
       "       pop_asian_2500_walk  pop_hisp_2500_walk  \n",
       "count        415716.000000       415716.000000  \n",
       "mean           6494.531692         4404.455121  \n",
       "std            7756.703815         5093.802029  \n",
       "min               0.000000            0.000000  \n",
       "25%            1408.000000          768.000000  \n",
       "50%            4214.000000         2818.000000  \n",
       "75%            8783.250000         6145.000000  \n",
       "max           58877.000000        67835.000000  \n",
       "\n",
       "[8 rows x 43 columns]"
      ]
     },
     "execution_count": 28,
     "metadata": {},
     "output_type": "execute_result"
    }
   ],
   "source": [
    "nodeswalk.describe()"
   ]
  },
  {
   "cell_type": "code",
   "execution_count": null,
   "metadata": {},
   "outputs": [],
   "source": [
    "#bld.stories.value_counts().plot(kind='bar')\n",
    "#bld.stories.value_counts()"
   ]
  },
  {
   "cell_type": "markdown",
   "metadata": {},
   "source": [
    "## Get the predicted price from REPM"
   ]
  },
  {
   "cell_type": "code",
   "execution_count": null,
   "metadata": {},
   "outputs": [],
   "source": [
    "#orca.run(['hedonic_rent_sqft'])"
   ]
  },
  {
   "cell_type": "markdown",
   "metadata": {},
   "source": [
    "## Model Estimation"
   ]
  },
  {
   "cell_type": "code",
   "execution_count": 26,
   "metadata": {
    "scrolled": false
   },
   "outputs": [
    {
     "name": "stdout",
     "output_type": "stream",
     "text": [
      "                  CHOICEMODELS ESTIMATION RESULTS                  \n",
      "===================================================================\n",
      "Dep. Var.:                chosen   No. Observations:          1,217\n",
      "Model:         Multinomial Logit   Df Residuals:              1,205\n",
      "Method:       Maximum Likelihood   Df Model:                     12\n",
      "Date:                 2018-07-18   Pseudo R-squ.:             0.758\n",
      "Time:                      17:45   Pseudo R-bar-squ.:         0.755\n",
      "AIC:                   2,329.923   Log-Likelihood:       -1,152.961\n",
      "BIC:                   2,391.173   LL-Null:              -4,760.932\n",
      "=================================================================================================\n",
      "                                                  coef   std err         z     P>|z|   Conf. Int.\n",
      "-------------------------------------------------------------------------------------------------\n",
      "np.log(residential_units)                       1.0924     0.045    24.169     0.000             \n",
      "res_price_per_sqft                             -0.0102     0.002    -5.040     0.000             \n",
      "np.log(income):res_price_per_sqft               0.0008     0.000     4.294     0.000             \n",
      "np.log1p(sqft_per_unit)                        -0.0645     0.068    -0.951     0.342             \n",
      "np.log1p(jobs_1500_walk)                        1.1090     0.057    19.519     0.000             \n",
      "np.log1p(jobs_25000)                            5.0707     0.126    40.112     0.000             \n",
      "np.log(income):np.log(avg_income_1500_walk)     0.1973     0.005    40.030     0.000             \n",
      "np.log1p(pop_1500_walk)                       -19.0612     1.206   -15.809     0.000             \n",
      "np.log1p(pop_white_1500_walk)                   8.2615     0.668    12.370     0.000             \n",
      "np.log1p(pop_black_1500_walk)                   0.3726     0.088     4.214     0.000             \n",
      "np.log1p(pop_asian_1500_walk)                   3.0418     0.286    10.637     0.000             \n",
      "np.log1p(pop_hisp_1500_walk)                    6.4399     0.289    22.305     0.000             \n",
      "=================================================================================================\n",
      "CPU times: user 58.5 s, sys: 11.2 s, total: 1min 9s\n",
      "Wall time: 31.2 s\n"
     ]
    }
   ],
   "source": [
    "%%time\n",
    "m = LargeMultinomialLogitStep()\n",
    "m.choosers = ['households']\n",
    "m.alternatives = ['buildings','parcels','nodeswalk','nodessmall']\n",
    "m.choice_column = 'building_id'\n",
    "m.alt_sample_size = 50\n",
    "\n",
    "#Filters on choosers\n",
    "m.chooser_filters = ['white == 1 & household_id <50000 & recent_mover == 1 & 0 <income < 600000']\n",
    "\n",
    "#Filters on alternatives\n",
    "m.alt_filters = ['residential_units > 0',\n",
    "                 '0 < avg_income_500_walk < 500000',\n",
    "                 'sqft_per_unit > 0',\n",
    "                 'year_built > 1800']\n",
    "\n",
    "m.model_expression = 'np.log(residential_units) + \\\n",
    "res_price_per_sqft + \\\n",
    "np.log(income):res_price_per_sqft + \\\n",
    "np.log1p(sqft_per_unit) + \\\n",
    "np.log1p(jobs_1500_walk) + \\\n",
    "np.log1p(jobs_25000) + \\\n",
    "np.log(income):np.log(avg_income_1500_walk) + \\\n",
    "np.log1p(pop_1500_walk) + \\\n",
    "np.log1p(pop_white_1500_walk) + \\\n",
    "np.log1p(pop_black_1500_walk) + \\\n",
    "np.log1p(pop_asian_1500_walk) + \\\n",
    "np.log1p(pop_hisp_1500_walk) \\\n",
    "- 1'\n",
    "\n",
    "m.name = 'hlcm'\n",
    "m.tags = ['arezoo', 'test']\n",
    "m.fit()"
   ]
  },
  {
   "cell_type": "code",
   "execution_count": null,
   "metadata": {
    "scrolled": true
   },
   "outputs": [],
   "source": [
    "%%time\n",
    "m = LargeMultinomialLogitStep()\n",
    "m.choosers = ['households']\n",
    "m.alternatives = ['buildings','parcels','nodeswalk','nodessmall']\n",
    "m.choice_column = 'building_id'\n",
    "m.alt_sample_size = 500\n",
    "\n",
    "#Filters on choosers\n",
    "m.chooser_filters = ['household_id <100000 & recent_mover == 1 & 0 <income < 600000']\n",
    "\n",
    "#Filters on alternatives\n",
    "m.alt_filters = ['residential_units!=0',\n",
    "                 '0 < avg_income_500_walk < 300000',\n",
    "                 'sqft_per_unit > 0',\n",
    "                 'year_built > 1700',\n",
    "                 'stories > 0']\n",
    "\n",
    "m.model_expression = 'np.log1p(res_price_per_sqft)+\\\n",
    "np.log1p(jobs_1500_walk) + np.log(avg_income_500_walk) +np.log1p(jobs_25000)+\\\n",
    "np.log1p(pop_black_1500_walk)+ I(building_type_id==1) + year_built<1950 + year_built>2000+stories + np.log1p(sqft_per_unit) - 1'\n",
    "\n",
    "m.name = 'hlcm'\n",
    "m.tags = ['arezoo', 'test']\n",
    "m.fit()"
   ]
  },
  {
   "cell_type": "code",
   "execution_count": null,
   "metadata": {},
   "outputs": [],
   "source": [
    "%%time\n",
    "m = LargeMultinomialLogitStep()\n",
    "m.choosers = ['households']\n",
    "m.alternatives = ['buildings','parcels','nodeswalk','nodessmall']\n",
    "m.choice_column = 'building_id'\n",
    "m.alt_sample_size = 500\n",
    "\n",
    "#Filters on choosers\n",
    "m.chooser_filters = ['household_id <100000 & recent_mover == 1 & 0 <income < 600000']\n",
    "\n",
    "#Filters on alternatives\n",
    "m.alt_filters = ['residential_units!=0',\n",
    "                 '0 < avg_income_500_walk < 200000',\n",
    "                 'sqft_per_unit > 0',\n",
    "                 'year_built > 1700',\n",
    "                 'stories > 0']\n",
    "\n",
    "m.model_expression = 'np.log1p(res_price_per_sqft)+\\\n",
    "np.log1p(jobs_1500_walk) + np.log(avg_income_500_walk) +np.log1p(jobs_25000)+\\\n",
    "np.log1p(pop_black_1500_walk)+ I(building_type_id==1) + year_built<1950 + year_built>2000+stories  - 1'\n",
    "\n",
    "m.name = 'hlcm'\n",
    "m.tags = ['arezoo', 'test']\n",
    "m.fit()"
   ]
  },
  {
   "cell_type": "code",
   "execution_count": null,
   "metadata": {},
   "outputs": [],
   "source": [
    "## Check for multicolinearity"
   ]
  },
  {
   "cell_type": "code",
   "execution_count": null,
   "metadata": {},
   "outputs": [],
   "source": [
    "df = orca.merge_tables(target = 'buildings', tables = ['buildings','parcels','nodeswalk','nodessmall'])\n"
   ]
  },
  {
   "cell_type": "code",
   "execution_count": null,
   "metadata": {
    "scrolled": false
   },
   "outputs": [],
   "source": [
    "Selected_features = ['res_price_per_sqft', 'pop_500_walk', 'jobs_1500_walk',\n",
    "                     'avg_income_500_walk','pop_black_1500_walk', 'sqft_per_unit','jobs_25000']\n",
    "X = df[Selected_features]\n",
    "\n",
    "plt.subplots(figsize=(8, 8))\n",
    "sns.heatmap(X.corr(), annot=True, cmap=\"RdYlGn\")\n",
    "plt.show()"
   ]
  },
  {
   "cell_type": "code",
   "execution_count": null,
   "metadata": {},
   "outputs": [],
   "source": []
  }
 ],
 "metadata": {
  "kernelspec": {
   "display_name": "Python 3",
   "language": "python",
   "name": "python3"
  },
  "language_info": {
   "codemirror_mode": {
    "name": "ipython",
    "version": 3
   },
   "file_extension": ".py",
   "mimetype": "text/x-python",
   "name": "python",
   "nbconvert_exporter": "python",
   "pygments_lexer": "ipython3",
   "version": "3.6.5"
  },
  "toc": {
   "base_numbering": 1,
   "nav_menu": {},
   "number_sections": true,
   "sideBar": true,
   "skip_h1_title": false,
   "title_cell": "Table of Contents",
   "title_sidebar": "Contents",
   "toc_cell": false,
   "toc_position": {},
   "toc_section_display": true,
   "toc_window_display": false
  }
 },
 "nbformat": 4,
 "nbformat_minor": 2
}
