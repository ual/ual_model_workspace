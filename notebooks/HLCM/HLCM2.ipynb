{
 "cells": [
  {
   "cell_type": "markdown",
   "metadata": {},
   "source": [
    "# Household Location Choice Model (HLCM) for Single and Multi Family Housing  \n"
   ]
  },
  {
   "cell_type": "markdown",
   "metadata": {},
   "source": [
    "Arezoo Besharati, Paul Waddell, UrbanSim, July 2018 \n",
    "\n",
    "This notebook demonstrates the use of the LargeMultinomialLogit model template to construct, estimate, and evaluate a Household Location Choice Model for the San Francisco Bay Area.\n",
    "\n",
    "In the process of developing the model, we also demonstrate some data checking and transformations to improve the model.\n",
    "\n",
    "The model structure and specification are informed and limited by the available data, which is based on the data used by the Metropolitan Transportation Commission for their operational model."
   ]
  },
  {
   "cell_type": "markdown",
   "metadata": {
    "toc": true
   },
   "source": [
    "<h1>Table of Contents<span class=\"tocSkip\"></span></h1>\n",
    "<div class=\"toc\"><ul class=\"toc-item\"><li><span><a href=\"#Preliminaries\" data-toc-modified-id=\"Preliminaries-1\"><span class=\"toc-item-num\">1&nbsp;&nbsp;</span>Preliminaries</a></span><ul class=\"toc-item\"><li><span><a href=\"#Load-data\" data-toc-modified-id=\"Load-data-1.1\"><span class=\"toc-item-num\">1.1&nbsp;&nbsp;</span>Load data</a></span></li><li><span><a href=\"#Initialize-Networks\" data-toc-modified-id=\"Initialize-Networks-1.2\"><span class=\"toc-item-num\">1.2&nbsp;&nbsp;</span>Initialize Networks</a></span></li><li><span><a href=\"#Explore-the-data\" data-toc-modified-id=\"Explore-the-data-1.3\"><span class=\"toc-item-num\">1.3&nbsp;&nbsp;</span>Explore the data</a></span></li><li><span><a href=\"#Data-Cleaning\" data-toc-modified-id=\"Data-Cleaning-1.4\"><span class=\"toc-item-num\">1.4&nbsp;&nbsp;</span>Data Cleaning</a></span></li><li><span><a href=\"#Perform-desired-variable-creations-and-transformations¶\" data-toc-modified-id=\"Perform-desired-variable-creations-and-transformations¶-1.5\"><span class=\"toc-item-num\">1.5&nbsp;&nbsp;</span>Perform desired variable creations and transformations¶</a></span></li><li><span><a href=\"#Check-Distributions\" data-toc-modified-id=\"Check-Distributions-1.6\"><span class=\"toc-item-num\">1.6&nbsp;&nbsp;</span>Check Distributions</a></span></li><li><span><a href=\"#Check-for-Multicollinearity\" data-toc-modified-id=\"Check-for-Multicollinearity-1.7\"><span class=\"toc-item-num\">1.7&nbsp;&nbsp;</span>Check for Multicollinearity</a></span></li></ul></li><li><span><a href=\"#Model-Estimation\" data-toc-modified-id=\"Model-Estimation-2\"><span class=\"toc-item-num\">2&nbsp;&nbsp;</span>Model Estimation</a></span><ul class=\"toc-item\"><li><span><a href=\"#HLCM-for-Multi-Family\" data-toc-modified-id=\"HLCM-for-Multi-Family-2.1\"><span class=\"toc-item-num\">2.1&nbsp;&nbsp;</span>HLCM for Multi-Family</a></span></li><li><span><a href=\"#HLCM-for-Single-Family\" data-toc-modified-id=\"HLCM-for-Single-Family-2.2\"><span class=\"toc-item-num\">2.2&nbsp;&nbsp;</span>HLCM for Single-Family</a></span></li></ul></li></ul></div>"
   ]
  },
  {
   "cell_type": "markdown",
   "metadata": {},
   "source": [
    "## Preliminaries"
   ]
  },
  {
   "cell_type": "code",
   "execution_count": 1,
   "metadata": {},
   "outputs": [],
   "source": [
    "import os; os.chdir('../../')\n",
    "import numpy as np, pandas as pd \n",
    "import matplotlib.pyplot as plt\n",
    "import warnings;\n",
    "warnings.simplefilter('ignore')\n",
    "%load_ext autoreload\n",
    "%autoreload 2"
   ]
  },
  {
   "cell_type": "code",
   "execution_count": 2,
   "metadata": {},
   "outputs": [],
   "source": [
    "from urbansim_templates import modelmanager as mm\n",
    "from urbansim_templates.models import LargeMultinomialLogitStep\n",
    "import orca\n",
    "import seaborn as sns\n",
    "%matplotlib notebook"
   ]
  },
  {
   "cell_type": "code",
   "execution_count": 3,
   "metadata": {},
   "outputs": [],
   "source": [
    "pd.set_option('display.float_format', lambda x: '%.2f' % x)"
   ]
  },
  {
   "cell_type": "markdown",
   "metadata": {},
   "source": [
    "### Load data"
   ]
  },
  {
   "cell_type": "code",
   "execution_count": 5,
   "metadata": {},
   "outputs": [],
   "source": [
    "# Load any script-based Orca registrations\n",
    "from scripts import datasources\n",
    "from scripts import models"
   ]
  },
  {
   "cell_type": "code",
   "execution_count": 6,
   "metadata": {},
   "outputs": [
    {
     "data": {
      "text/plain": [
       "['parcels',\n",
       " 'buildings',\n",
       " 'craigslist',\n",
       " 'rentals',\n",
       " 'nodessmall',\n",
       " 'nodeswalk',\n",
       " 'units',\n",
       " 'households',\n",
       " 'persons',\n",
       " 'jobs']"
      ]
     },
     "execution_count": 6,
     "metadata": {},
     "output_type": "execute_result"
    }
   ],
   "source": [
    "orca.list_tables()\n",
    "#orca.list_steps()"
   ]
  },
  {
   "cell_type": "code",
   "execution_count": 7,
   "metadata": {},
   "outputs": [
    {
     "data": {
      "text/plain": [
       "[('parcels', 'buildings'),\n",
       " ('buildings', 'units'),\n",
       " ('units', 'households'),\n",
       " ('households', 'persons'),\n",
       " ('nodeswalk', 'rentals'),\n",
       " ('nodeswalk', 'parcels'),\n",
       " ('nodessmall', 'rentals'),\n",
       " ('nodessmall', 'parcels')]"
      ]
     },
     "execution_count": 7,
     "metadata": {},
     "output_type": "execute_result"
    }
   ],
   "source": [
    "orca.broadcast('nodeswalk', 'rentals', cast_index=True, onto_on='node_id_walk')\n",
    "orca.broadcast('nodeswalk', 'parcels', cast_index=True, onto_on='node_id_walk')\n",
    "orca.broadcast('nodessmall', 'rentals', cast_index=True, onto_on='node_id_small')\n",
    "orca.broadcast('nodessmall', 'parcels', cast_index=True, onto_on='node_id_small')\n",
    "orca.list_broadcasts()"
   ]
  },
  {
   "cell_type": "code",
   "execution_count": null,
   "metadata": {},
   "outputs": [],
   "source": [
    "#mm.list_steps()"
   ]
  },
  {
   "cell_type": "code",
   "execution_count": null,
   "metadata": {},
   "outputs": [],
   "source": [
    "#mm.initialize()"
   ]
  },
  {
   "cell_type": "markdown",
   "metadata": {},
   "source": [
    "### Initialize Networks\n",
    "\n",
    "Note that we have separately created a set of network accessibility variables and stored them. They are registered a orca objects."
   ]
  },
  {
   "cell_type": "code",
   "execution_count": null,
   "metadata": {},
   "outputs": [],
   "source": [
    "#%%capture\n",
    "#orca.run([\"initialize_network_walk\"])"
   ]
  },
  {
   "cell_type": "code",
   "execution_count": null,
   "metadata": {},
   "outputs": [],
   "source": [
    "#%%capture\n",
    "#orca.run([\"initialize_network_small\"])"
   ]
  },
  {
   "cell_type": "markdown",
   "metadata": {},
   "source": [
    "### Explore the data"
   ]
  },
  {
   "cell_type": "code",
   "execution_count": null,
   "metadata": {},
   "outputs": [],
   "source": [
    "nodeswalk = orca.get_table('nodeswalk').to_frame()\n",
    "nodessmall = orca.get_table('nodessmall').to_frame()"
   ]
  },
  {
   "cell_type": "code",
   "execution_count": null,
   "metadata": {},
   "outputs": [],
   "source": [
    "nodeswalk.describe().transpose()"
   ]
  },
  {
   "cell_type": "code",
   "execution_count": null,
   "metadata": {},
   "outputs": [],
   "source": [
    "nodessmall.describe().transpose()"
   ]
  },
  {
   "cell_type": "code",
   "execution_count": null,
   "metadata": {},
   "outputs": [],
   "source": [
    "parcel = orca.get_table('parcels').to_frame()\n",
    "parcel.columns"
   ]
  },
  {
   "cell_type": "code",
   "execution_count": 9,
   "metadata": {
    "scrolled": false
   },
   "outputs": [
    {
     "data": {
      "text/plain": [
       "Index(['parcel_id', 'development_type_id', 'improvement_value',\n",
       "       'residential_units', 'residential_sqft', 'sqft_per_unit',\n",
       "       'non_residential_sqft', 'building_sqft', 'nonres_rent_per_sqft',\n",
       "       'res_price_per_sqft', 'stories', 'year_built', 'redfin_sale_price',\n",
       "       'redfin_sale_year', 'redfin_home_type', 'costar_property_type',\n",
       "       'costar_rent', 'building_type_id', 'res_sqft_per_unit'],\n",
       "      dtype='object')"
      ]
     },
     "execution_count": 9,
     "metadata": {},
     "output_type": "execute_result"
    }
   ],
   "source": [
    "bld = orca.get_table('buildings').to_frame()\n",
    "bld.columns"
   ]
  },
  {
   "cell_type": "code",
   "execution_count": 52,
   "metadata": {
    "scrolled": false
   },
   "outputs": [
    {
     "data": {
      "text/plain": [
       "['serialno',\n",
       " 'persons',\n",
       " 'building_type',\n",
       " 'cars',\n",
       " 'income',\n",
       " 'race_of_head',\n",
       " 'hispanic_head',\n",
       " 'age_of_head',\n",
       " 'workers',\n",
       " 'state',\n",
       " 'county',\n",
       " 'tract',\n",
       " 'block_group',\n",
       " 'children',\n",
       " 'tenure',\n",
       " 'recent_mover',\n",
       " 'block_group_id',\n",
       " 'single_family',\n",
       " 'unit_id',\n",
       " 'building_id',\n",
       " 'income_k',\n",
       " 'white',\n",
       " 'black',\n",
       " 'asian',\n",
       " 'hispanic',\n",
       " 'elderly',\n",
       " 'single',\n",
       " 'hh_random',\n",
       " 'rich',\n",
       " 'poor',\n",
       " 'has_children']"
      ]
     },
     "execution_count": 52,
     "metadata": {},
     "output_type": "execute_result"
    }
   ],
   "source": [
    "hh = orca.get_table('households').to_frame()\n",
    "hh.columns.tolist()"
   ]
  },
  {
   "cell_type": "code",
   "execution_count": 57,
   "metadata": {},
   "outputs": [],
   "source": [
    "np.random.seed(12345)\n",
    "hh['hh_random'] = np.random.uniform(0,1,len(hh))"
   ]
  },
  {
   "cell_type": "code",
   "execution_count": null,
   "metadata": {},
   "outputs": [],
   "source": [
    "hh.head()"
   ]
  },
  {
   "cell_type": "code",
   "execution_count": null,
   "metadata": {
    "scrolled": false
   },
   "outputs": [],
   "source": [
    "hh.describe()"
   ]
  },
  {
   "cell_type": "code",
   "execution_count": null,
   "metadata": {},
   "outputs": [],
   "source": [
    "hh.dtypes"
   ]
  },
  {
   "cell_type": "code",
   "execution_count": 78,
   "metadata": {},
   "outputs": [
    {
     "data": {
      "text/plain": [
       "23839"
      ]
     },
     "execution_count": 78,
     "metadata": {},
     "output_type": "execute_result"
    }
   ],
   "source": [
    "hh_sf = hh[(hh['building_type'] == 2)  & (hh['recent_mover'] == 1) \\\n",
    "         & (hh['income'] > 0) & (hh['income'] < 1000000)]\n",
    "len(hh_sf)"
   ]
  },
  {
   "cell_type": "code",
   "execution_count": 79,
   "metadata": {},
   "outputs": [
    {
     "data": {
      "text/plain": [
       "21399"
      ]
     },
     "execution_count": 79,
     "metadata": {},
     "output_type": "execute_result"
    }
   ],
   "source": [
    "len(hh_sf.building_id.unique())"
   ]
  },
  {
   "cell_type": "code",
   "execution_count": 80,
   "metadata": {},
   "outputs": [
    {
     "data": {
      "text/html": [
       "<div>\n",
       "<style scoped>\n",
       "    .dataframe tbody tr th:only-of-type {\n",
       "        vertical-align: middle;\n",
       "    }\n",
       "\n",
       "    .dataframe tbody tr th {\n",
       "        vertical-align: top;\n",
       "    }\n",
       "\n",
       "    .dataframe thead th {\n",
       "        text-align: right;\n",
       "    }\n",
       "</style>\n",
       "<table border=\"1\" class=\"dataframe\">\n",
       "  <thead>\n",
       "    <tr style=\"text-align: right;\">\n",
       "      <th></th>\n",
       "      <th>sf_choice_set</th>\n",
       "    </tr>\n",
       "    <tr>\n",
       "      <th>building_id</th>\n",
       "      <th></th>\n",
       "    </tr>\n",
       "  </thead>\n",
       "  <tbody>\n",
       "    <tr>\n",
       "      <th>1579641</th>\n",
       "      <td>1</td>\n",
       "    </tr>\n",
       "    <tr>\n",
       "      <th>309589</th>\n",
       "      <td>1</td>\n",
       "    </tr>\n",
       "    <tr>\n",
       "      <th>647210</th>\n",
       "      <td>1</td>\n",
       "    </tr>\n",
       "    <tr>\n",
       "      <th>479369</th>\n",
       "      <td>1</td>\n",
       "    </tr>\n",
       "    <tr>\n",
       "      <th>1417430</th>\n",
       "      <td>1</td>\n",
       "    </tr>\n",
       "  </tbody>\n",
       "</table>\n",
       "</div>"
      ],
      "text/plain": [
       "             sf_choice_set\n",
       "building_id               \n",
       "1579641                  1\n",
       "309589                   1\n",
       "647210                   1\n",
       "479369                   1\n",
       "1417430                  1"
      ]
     },
     "execution_count": 80,
     "metadata": {},
     "output_type": "execute_result"
    }
   ],
   "source": [
    "sf_tmp = pd.DataFrame(hh_sf.building_id.unique(), columns=['building_id'])\n",
    "sf_tmp['sf_choice_set'] = 1\n",
    "sf_tmp = sf_tmp.set_index('building_id')\n",
    "#sf_tmp.head()"
   ]
  },
  {
   "cell_type": "code",
   "execution_count": 81,
   "metadata": {},
   "outputs": [
    {
     "data": {
      "text/html": [
       "<div>\n",
       "<style scoped>\n",
       "    .dataframe tbody tr th:only-of-type {\n",
       "        vertical-align: middle;\n",
       "    }\n",
       "\n",
       "    .dataframe tbody tr th {\n",
       "        vertical-align: top;\n",
       "    }\n",
       "\n",
       "    .dataframe thead th {\n",
       "        text-align: right;\n",
       "    }\n",
       "</style>\n",
       "<table border=\"1\" class=\"dataframe\">\n",
       "  <thead>\n",
       "    <tr style=\"text-align: right;\">\n",
       "      <th></th>\n",
       "      <th>mf_choice_set</th>\n",
       "    </tr>\n",
       "    <tr>\n",
       "      <th>building_id</th>\n",
       "      <th></th>\n",
       "    </tr>\n",
       "  </thead>\n",
       "  <tbody>\n",
       "    <tr>\n",
       "      <th>1365640</th>\n",
       "      <td>1</td>\n",
       "    </tr>\n",
       "    <tr>\n",
       "      <th>409168</th>\n",
       "      <td>1</td>\n",
       "    </tr>\n",
       "    <tr>\n",
       "      <th>1365633</th>\n",
       "      <td>1</td>\n",
       "    </tr>\n",
       "    <tr>\n",
       "      <th>309587</th>\n",
       "      <td>1</td>\n",
       "    </tr>\n",
       "    <tr>\n",
       "      <th>647202</th>\n",
       "      <td>1</td>\n",
       "    </tr>\n",
       "  </tbody>\n",
       "</table>\n",
       "</div>"
      ],
      "text/plain": [
       "             mf_choice_set\n",
       "building_id               \n",
       "1365640                  1\n",
       "409168                   1\n",
       "1365633                  1\n",
       "309587                   1\n",
       "647202                   1"
      ]
     },
     "execution_count": 81,
     "metadata": {},
     "output_type": "execute_result"
    }
   ],
   "source": [
    "mf_tmp = pd.DataFrame(hh_mf.building_id.unique(), columns=['building_id'])\n",
    "mf_tmp['mf_choice_set'] = 1\n",
    "mf_tmp = mf_tmp.set_index('building_id')\n",
    "#mf_tmp.head()"
   ]
  },
  {
   "cell_type": "code",
   "execution_count": 86,
   "metadata": {},
   "outputs": [],
   "source": [
    " bld2 = bld.merge(sf_tmp, how='left', left_index=True, right_index=True)"
   ]
  },
  {
   "cell_type": "code",
   "execution_count": 92,
   "metadata": {},
   "outputs": [
    {
     "data": {
      "text/plain": [
       "0.00    1802831\n",
       "1.00      21398\n",
       "Name: sf_choice_set, dtype: int64"
      ]
     },
     "execution_count": 92,
     "metadata": {},
     "output_type": "execute_result"
    }
   ],
   "source": [
    "bld2.sf_choice_set= bld2.sf_choice_set.fillna(0)\n",
    "bld2.sf_choice_set.value_counts()"
   ]
  },
  {
   "cell_type": "code",
   "execution_count": 124,
   "metadata": {},
   "outputs": [
    {
     "data": {
      "text/plain": [
       "76942"
      ]
     },
     "execution_count": 124,
     "metadata": {},
     "output_type": "execute_result"
    }
   ],
   "source": [
    "hh_mf = hh[(hh['building_type'] > 2) & (hh['recent_mover'] == 1) \\\n",
    "         & (hh['income'] > 0) & (hh['income'] < 500000)]\n",
    "len(hh_mf)"
   ]
  },
  {
   "cell_type": "code",
   "execution_count": 125,
   "metadata": {},
   "outputs": [
    {
     "data": {
      "text/plain": [
       "40857"
      ]
     },
     "execution_count": 125,
     "metadata": {},
     "output_type": "execute_result"
    }
   ],
   "source": [
    "len(hh_mf.building_id.unique())"
   ]
  },
  {
   "cell_type": "code",
   "execution_count": 126,
   "metadata": {},
   "outputs": [
    {
     "data": {
      "text/plain": [
       "0.00    1809475\n",
       "1.00      14754\n",
       "Name: mf_choice_set, dtype: int64"
      ]
     },
     "execution_count": 126,
     "metadata": {},
     "output_type": "execute_result"
    }
   ],
   "source": [
    "bld3 = bld2.merge(mf_tmp, how='left', left_index=True, right_index=True)\n",
    "bld3.mf_choice_set= bld3.mf_choice_set.fillna(0)\n",
    "bld3.mf_choice_set.value_counts()"
   ]
  },
  {
   "cell_type": "code",
   "execution_count": 127,
   "metadata": {},
   "outputs": [
    {
     "data": {
      "text/plain": [
       "<orca.orca.DataFrameWrapper at 0x1c25ba6860>"
      ]
     },
     "execution_count": 127,
     "metadata": {},
     "output_type": "execute_result"
    }
   ],
   "source": [
    "orca.add_table('buildings', bld3)"
   ]
  },
  {
   "cell_type": "code",
   "execution_count": null,
   "metadata": {
    "scrolled": true
   },
   "outputs": [],
   "source": [
    "parcel.describe().transpose()"
   ]
  },
  {
   "cell_type": "code",
   "execution_count": null,
   "metadata": {},
   "outputs": [],
   "source": [
    "bld.describe().transpose()"
   ]
  },
  {
   "cell_type": "code",
   "execution_count": null,
   "metadata": {},
   "outputs": [],
   "source": [
    "df = orca.merge_tables(target = 'buildings', tables = ['buildings','parcels','nodeswalk','nodessmall'])"
   ]
  },
  {
   "cell_type": "code",
   "execution_count": null,
   "metadata": {},
   "outputs": [],
   "source": [
    "df.describe().transpose()"
   ]
  },
  {
   "cell_type": "code",
   "execution_count": null,
   "metadata": {},
   "outputs": [],
   "source": [
    "hh_f.dtypes"
   ]
  },
  {
   "cell_type": "code",
   "execution_count": null,
   "metadata": {},
   "outputs": [],
   "source": [
    "hh_f_data = hh_f.merge(df, left_on='building_id', right_index=True)"
   ]
  },
  {
   "cell_type": "code",
   "execution_count": null,
   "metadata": {},
   "outputs": [],
   "source": [
    "hh_f_data.describe().transpose()"
   ]
  },
  {
   "cell_type": "code",
   "execution_count": null,
   "metadata": {},
   "outputs": [],
   "source": [
    "hh_f.head()"
   ]
  },
  {
   "cell_type": "code",
   "execution_count": null,
   "metadata": {},
   "outputs": [],
   "source": [
    "#bld.groupby('building_type_id')['residential_units'].sum()"
   ]
  },
  {
   "cell_type": "code",
   "execution_count": null,
   "metadata": {
    "scrolled": false
   },
   "outputs": [],
   "source": [
    "#bld.describe().transpose()"
   ]
  },
  {
   "cell_type": "code",
   "execution_count": null,
   "metadata": {},
   "outputs": [],
   "source": [
    "#bld.quantile(.99)"
   ]
  },
  {
   "cell_type": "code",
   "execution_count": null,
   "metadata": {},
   "outputs": [],
   "source": [
    "#bld[['residential_units','residential_sqft', 'non_residential_sqft']].sum()"
   ]
  },
  {
   "cell_type": "code",
   "execution_count": null,
   "metadata": {},
   "outputs": [],
   "source": [
    "#bld.building_type_id.value_counts()"
   ]
  },
  {
   "cell_type": "code",
   "execution_count": null,
   "metadata": {},
   "outputs": [],
   "source": [
    "# hh_sf=hh[hh['building_type']==2]\n",
    "# hh_mf=hh[hh['building_type']!=2]"
   ]
  },
  {
   "cell_type": "markdown",
   "metadata": {},
   "source": [
    "### Data Cleaning"
   ]
  },
  {
   "cell_type": "code",
   "execution_count": 23,
   "metadata": {
    "scrolled": true
   },
   "outputs": [],
   "source": [
    "nodeswalk = orca.get_table('nodeswalk').to_frame()\n",
    "nodessmall = orca.get_table('nodessmall').to_frame()\n",
    "#print(nodeswalk.columns.tolist())\n",
    "#print(nodessmall.columns.tolist())"
   ]
  },
  {
   "cell_type": "code",
   "execution_count": null,
   "metadata": {},
   "outputs": [],
   "source": []
  },
  {
   "cell_type": "code",
   "execution_count": 47,
   "metadata": {},
   "outputs": [],
   "source": [
    "nodeswalk['pop_jobs_ratio_1500_walk'] = nodeswalk['pop_1500_walk'] / (nodeswalk['jobs_500_walk']+1)\n",
    "nodessmall['pop_jobs_ratio_10000'] = nodessmall['pop_10000'] / (nodessmall['jobs_10000'] + 1)\n",
    "nodessmall['pop_jobs_ratio_25000'] = nodessmall['pop_25000'] / (nodessmall['jobs_25000'] + 1)\n",
    "nodeswalk['avg_hhs_500_walk'] = nodeswalk['pop_500_walk'] / (nodeswalk['hh_500_walk']+1)\n",
    "nodeswalk['avg_hhs_1500_walk'] = nodeswalk['pop_1500_walk'] / (nodeswalk['hh_1500_walk']+1)\n"
   ]
  },
  {
   "cell_type": "code",
   "execution_count": 48,
   "metadata": {},
   "outputs": [
    {
     "data": {
      "text/plain": [
       "<orca.orca.DataFrameWrapper at 0x1c221ce6a0>"
      ]
     },
     "execution_count": 48,
     "metadata": {},
     "output_type": "execute_result"
    }
   ],
   "source": [
    "orca.add_table('nodeswalk', nodeswalk)\n",
    "orca.add_table('nodessmall', nodessmall)"
   ]
  },
  {
   "cell_type": "code",
   "execution_count": null,
   "metadata": {
    "scrolled": true
   },
   "outputs": [],
   "source": [
    "#nodessmall.describe().transpose()"
   ]
  },
  {
   "cell_type": "code",
   "execution_count": null,
   "metadata": {},
   "outputs": [],
   "source": [
    "# nodessmall_upper = nodessmall.quantile(.99)\n",
    "#nodessmall_upper"
   ]
  },
  {
   "cell_type": "code",
   "execution_count": null,
   "metadata": {},
   "outputs": [],
   "source": [
    "# nodessmall_clipped = nodessmall.clip_upper(nodessmall_upper, axis=1) \n",
    "# nodessmall_clipped.describe().transpose()\n",
    "# orca.add_table('nodessmall', nodessmall_clipped);"
   ]
  },
  {
   "cell_type": "code",
   "execution_count": null,
   "metadata": {},
   "outputs": [],
   "source": [
    "# nodeswalk.describe().transpose()\n",
    "# nodeswalk_upper = nodeswalk.quantile(.99)\n",
    "#nodeswalk_upper"
   ]
  },
  {
   "cell_type": "code",
   "execution_count": null,
   "metadata": {
    "scrolled": true
   },
   "outputs": [],
   "source": [
    "# nodeswalk_clipped = nodeswalk.clip_upper(nodeswalk_upper, axis=1) \n",
    "# nodeswalk_clipped.describe().transpose()\n",
    "# orca.add_table('nodeswalk', nodeswalk_clipped);"
   ]
  },
  {
   "cell_type": "markdown",
   "metadata": {},
   "source": [
    "### Perform desired variable creations and transformations¶"
   ]
  },
  {
   "cell_type": "code",
   "execution_count": 128,
   "metadata": {},
   "outputs": [],
   "source": [
    "# scale income and create race dummies\n",
    "hh.income_k = hh.income/1000\n",
    "hh.white = (hh.race_of_head == 1).astype(int)\n",
    "hh.black = (hh.race_of_head == 2).astype(int)\n",
    "hh.asian = (hh.race_of_head == 6).astype(int)\n",
    "hh.hisp = (hh.hispanic_head == 'yes').astype(int)\n",
    "hh.single = (hh.persons == 1).astype(int)\n",
    "hh.elderly = (hh.age_of_head > 65).astype(int)\n",
    "hh.rich = (hh.income > 150000).astype(int)\n",
    "hh.poor = (hh.income < 40000).astype(int)\n",
    "hh.has_children = (hh.children > 0).astype(int)\n",
    "  \n",
    "# building_type dummies\n",
    "bld.single_family = (bld.building_type_id == 1).astype(int)\n",
    "bld.multi_family = (bld.building_type_id == 3).astype(int)\n",
    "bld.mixed_use = (bld.building_type_id > 3).astype(int)\n",
    "\n",
    "# add the columns\n",
    "\n",
    "orca.add_column('households', 'income_k', hh.income_k)\n",
    "orca.add_column('households', 'white', hh.white)\n",
    "orca.add_column('households', 'black', hh.black)\n",
    "orca.add_column('households', 'asian', hh.asian)\n",
    "orca.add_column('households', 'hispanic', hh.hisp)\n",
    "orca.add_column('households', 'elderly', hh.elderly)\n",
    "orca.add_column('households', 'rich', hh.rich)\n",
    "orca.add_column('households', 'poor', hh.poor)\n",
    "orca.add_column('households', 'has_children', hh.has_children)\n",
    "\n",
    "orca.add_column('households', 'hh_random', hh.hh_random)\n",
    "\n",
    "orca.add_column('buildings', 'single_family', bld.single_family)\n",
    "orca.add_column('buildings', 'multi_family', bld.multi_family)\n",
    "orca.add_column('buildings', 'mixed_use', bld.mixed_use);"
   ]
  },
  {
   "cell_type": "markdown",
   "metadata": {},
   "source": [
    "### Check Distributions"
   ]
  },
  {
   "cell_type": "code",
   "execution_count": null,
   "metadata": {},
   "outputs": [],
   "source": [
    "# hh_income_upper = hh_singlefamily.income.quantile(0.99)\n",
    "# len(hh[hh['income']>hh_income_upper])"
   ]
  },
  {
   "cell_type": "code",
   "execution_count": null,
   "metadata": {
    "scrolled": false
   },
   "outputs": [],
   "source": [
    "# %matplotlib notebook\n",
    "# hh_sf.income.plot(kind='hist',bins=100)\n",
    "# print(hh_sf.income.quantile([0.10,0.5,0.9,0.99,1]))"
   ]
  },
  {
   "cell_type": "code",
   "execution_count": null,
   "metadata": {
    "scrolled": false
   },
   "outputs": [],
   "source": [
    "# %matplotlib notebook\n",
    "# hh_mf.income.plot(kind='hist',bins=100)\n",
    "# print(hh_mf.income.quantile([0.10,0.5,0.9,0.99,1]))"
   ]
  },
  {
   "cell_type": "code",
   "execution_count": null,
   "metadata": {
    "scrolled": false
   },
   "outputs": [],
   "source": [
    "# %matplotlib notebook\n",
    "# ax = sns.boxplot(x = hh_sf.income,palette=\"Set2\", width=0.5)"
   ]
  },
  {
   "cell_type": "code",
   "execution_count": null,
   "metadata": {
    "scrolled": false
   },
   "outputs": [],
   "source": [
    "# %matplotlib notebook\n",
    "# ax = sns.boxplot(x = hh_mf.income,palette=\"Set2\", width=0.5)"
   ]
  },
  {
   "cell_type": "code",
   "execution_count": 111,
   "metadata": {},
   "outputs": [],
   "source": [
    "df = orca.merge_tables(target = 'buildings', tables = ['buildings','parcels','nodeswalk','nodessmall'])\n",
    "#df.columns.tolist()\n",
    "df_sf= df[df['residential_units']==1]\n",
    "df_mf= df[df['residential_units']>1]"
   ]
  },
  {
   "cell_type": "code",
   "execution_count": null,
   "metadata": {},
   "outputs": [],
   "source": [
    "# %matplotlib notebook\n",
    "# df_sf.avg_income_1500_walk.plot(kind='hist',bins=100)\n",
    "# plt.show()\n",
    "# print(df_sf.avg_income_1500_walk.quantile([0.10,0.5,0.9,0.99,1]))"
   ]
  },
  {
   "cell_type": "code",
   "execution_count": null,
   "metadata": {},
   "outputs": [],
   "source": [
    "# %matplotlib notebook\n",
    "# df_mf.avg_income_1500_walk.plot(kind='hist',bins=100)\n",
    "# plt.show()\n",
    "# print(df_mf.avg_income_1500_walk.quantile([0.10,0.5,0.9,0.99,1]))"
   ]
  },
  {
   "cell_type": "code",
   "execution_count": null,
   "metadata": {},
   "outputs": [],
   "source": [
    "#%matplotlib notebook\n",
    "#(df_mf.prop_black_500_walk).plot(kind='hist',bins=100)\n",
    "#(df_mf.prop_asian_500_walk).plot(kind='hist',bins=100)\n",
    "#(df_mf.prop_white_500_walk).plot(kind='hist',bins=100)\n",
    "#(df_mf.prop_hisp_500_walk).plot(kind='hist',bins=100)\n"
   ]
  },
  {
   "cell_type": "markdown",
   "metadata": {},
   "source": [
    "### Check for Multicollinearity"
   ]
  },
  {
   "cell_type": "code",
   "execution_count": null,
   "metadata": {},
   "outputs": [],
   "source": [
    "# %matplotlib inline\n",
    "# plt.subplots(figsize=(20, 20))\n",
    "\n",
    "\n",
    "# # Create correlation matrix\n",
    "# corr_matrix = df_sf.corr().abs()\n",
    "\n",
    "# # Select upper triangle of correlation matrix\n",
    "# upper = corr_matrix.where(np.triu(np.ones(corr_matrix.shape), k=1).astype(np.bool))\n",
    "# high_corr = [column for column in upper.columns if any(upper[column] > 0.98)]\n",
    "# X= df_sf[high_corr]\n",
    "# sns.heatmap(X.corr(), annot=True, cmap=\"RdYlGn\")"
   ]
  },
  {
   "cell_type": "code",
   "execution_count": null,
   "metadata": {},
   "outputs": [],
   "source": [
    "# %matplotlib inline\n",
    "# plt.subplots(figsize=(20, 20))\n",
    "\n",
    "# corr_matrix = df_mf.corr()\n",
    "\n",
    "# upper = corr_matrix.where(np.triu(np.ones(corr_matrix.shape), k=1).astype(np.bool))\n",
    "# high_corr = [column for column in upper.columns if any(upper[column] > 0.95)]\n",
    "# X= df_mf[high_corr]\n",
    "# plt.subplots(figsize=(20, 20))\n",
    "# sns.heatmap(X.corr(), annot=True, cmap=\"RdYlGn\")"
   ]
  },
  {
   "cell_type": "code",
   "execution_count": 112,
   "metadata": {
    "scrolled": false
   },
   "outputs": [
    {
     "data": {
      "image/png": "[encoded data removed]",
      "text/plain": [
       "<Figure size 864x864 with 2 Axes>"
      ]
     },
     "metadata": {},
     "output_type": "display_data"
    }
   ],
   "source": [
    "%matplotlib inline\n",
    "\n",
    "selected_features = ['residential_units','res_price_per_sqft', 'pop_1500_walk', 'jobs_1500_walk',\n",
    "                     'prop_singles_500_walk','prop_elderly_500_walk','prop_children_500_walk',\n",
    "                     'avg_income_1500_walk', 'sqft_per_unit',\n",
    "                     'jobs_25000','prop_white_500_walk','prop_black_500_walk','prop_asian_500_walk',\n",
    "                     'prop_hisp_500_walk','prop_rich_500_walk','prop_poor_500_walk']\n",
    "\n",
    "X = df_mf[selected_features]\n",
    "\n",
    "plt.subplots(figsize=(12, 12))\n",
    "sns.heatmap(X.corr(), annot=True, cmap=\"RdYlGn\")\n",
    "plt.show()"
   ]
  },
  {
   "cell_type": "markdown",
   "metadata": {},
   "source": [
    "# Model Estimation"
   ]
  },
  {
   "cell_type": "markdown",
   "metadata": {},
   "source": [
    "## Large Choice Set Single-Family "
   ]
  },
  {
   "cell_type": "code",
   "execution_count": 114,
   "metadata": {
    "scrolled": false
   },
   "outputs": [
    {
     "name": "stdout",
     "output_type": "stream",
     "text": [
      "                  CHOICEMODELS ESTIMATION RESULTS                  \n",
      "===================================================================\n",
      "Dep. Var.:                chosen   No. Observations:         15,768\n",
      "Model:         Multinomial Logit   Df Residuals:             15,755\n",
      "Method:       Maximum Likelihood   Df Model:                     13\n",
      "Date:                 2018-07-22   Pseudo R-squ.:             0.132\n",
      "Time:                      17:09   Pseudo R-bar-squ.:         0.132\n",
      "AIC:                 107,081.926   Log-Likelihood:      -53,527.963\n",
      "BIC:                 107,181.580   LL-Null:             -61,684.779\n",
      "==================================================================================================\n",
      "                                                   coef   std err         z     P>|z|   Conf. Int.\n",
      "--------------------------------------------------------------------------------------------------\n",
      "np.log1p(res_price_per_sqft)                    -1.9378     0.030   -63.829     0.000             \n",
      "np.log1p(income):np.log1p(res_price_per_sqft)    0.1668     0.003    64.294     0.000             \n",
      "persons:np.log1p(sqft_per_unit)                  0.0058     0.002     2.701     0.007             \n",
      "pop_jobs_ratio_25000                             0.2803     0.006    45.937     0.000             \n",
      "persons:avg_hhs_500_walk                         0.1831     0.005    39.151     0.000             \n",
      "rich:prop_rich_500_walk                          9.7934     0.130    75.169     0.000             \n",
      "poor:prop_poor_500_walk                          5.3280     0.238    22.373     0.000             \n",
      "single:prop_singles_500_walk                     3.4639     0.103    33.497     0.000             \n",
      "elderly:prop_elderly_500_walk                    6.5980     0.099    66.611     0.000             \n",
      "white:prop_white_500_walk                        2.7894     0.029    96.427     0.000             \n",
      "black:prop_black_500_walk                        9.0590     0.167    54.160     0.000             \n",
      "asian:prop_asian_500_walk                        2.8131     0.056    50.225     0.000             \n",
      "hispanic:prop_hisp_500_walk                      4.0645     0.070    57.944     0.000             \n",
      "==================================================================================================\n",
      "CPU times: user 2min 3s, sys: 22.8 s, total: 2min 26s\n",
      "Wall time: 47.1 s\n"
     ]
    }
   ],
   "source": [
    "%%time\n",
    "m1 = LargeMultinomialLogitStep()\n",
    "m1.choosers = ['households']\n",
    "m1.alternatives = ['buildings','parcels','nodeswalk','nodessmall']\n",
    "m1.choice_column = 'building_id'\n",
    "m1.alt_sample_size = 50\n",
    "\n",
    "#Filters on choosers\n",
    "m1.chooser_filters = ['building_type == 2 & recent_mover == 1 & 0 <income < 1000000']\n",
    "\n",
    "#Filters on alternatives\n",
    "m1.alt_filters = ['residential_units == 1',\n",
    "                 '0 < avg_income_500_walk < 500000',\n",
    "                 'sqft_per_unit > 0']\n",
    "\n",
    "\n",
    "m1.model_expression = ' \\\n",
    "np.log1p(res_price_per_sqft) + \\\n",
    "np.log1p(income):np.log1p(res_price_per_sqft) + \\\n",
    "persons:np.log1p(sqft_per_unit) + \\\n",
    "pop_jobs_ratio_25000 + \\\n",
    "persons:avg_hhs_500_walk + \\\n",
    "rich:prop_rich_500_walk + \\\n",
    "poor:prop_poor_500_walk + \\\n",
    "single:prop_singles_500_walk + \\\n",
    "elderly:prop_elderly_500_walk + \\\n",
    "white:prop_white_500_walk + \\\n",
    "black:prop_black_500_walk + \\\n",
    "asian:prop_asian_500_walk + \\\n",
    "hispanic:prop_hisp_500_walk\\\n",
    "- 1'\n",
    "\n",
    "m1.name = 'hlcm'\n",
    "m1.tags = ['single_family', 'test']\n",
    "m1.fit()"
   ]
  },
  {
   "cell_type": "code",
   "execution_count": 115,
   "metadata": {},
   "outputs": [
    {
     "data": {
      "text/plain": [
       "23102"
      ]
     },
     "execution_count": 115,
     "metadata": {},
     "output_type": "execute_result"
    }
   ],
   "source": [
    "len(m1._get_df(tables=m.choosers, filters=m.chooser_filters))"
   ]
  },
  {
   "cell_type": "markdown",
   "metadata": {},
   "source": [
    "## Large Choice Set Multi-Family "
   ]
  },
  {
   "cell_type": "code",
   "execution_count": 131,
   "metadata": {
    "scrolled": false
   },
   "outputs": [
    {
     "name": "stdout",
     "output_type": "stream",
     "text": [
      "                  CHOICEMODELS ESTIMATION RESULTS                   \n",
      "====================================================================\n",
      "Dep. Var.:                chosen   No. Observations:          52,244\n",
      "Model:         Multinomial Logit   Df Residuals:              52,230\n",
      "Method:       Maximum Likelihood   Df Model:                      14\n",
      "Date:                 2018-07-22   Pseudo R-squ.:              0.421\n",
      "Time:                      17:40   Pseudo R-bar-squ.:          0.421\n",
      "AIC:                 236,857.523   Log-Likelihood:      -118,414.761\n",
      "BIC:                 236,981.614   LL-Null:             -204,379.730\n",
      "==================================================================================================\n",
      "                                                   coef   std err         z     P>|z|   Conf. Int.\n",
      "--------------------------------------------------------------------------------------------------\n",
      "np.log(residential_units)                        1.1956     0.004   332.745     0.000             \n",
      "np.log1p(res_price_per_sqft)                    -0.2391     0.016   -15.391     0.000             \n",
      "np.log1p(income):np.log1p(res_price_per_sqft)    0.0050     0.001     3.747     0.000             \n",
      "persons:np.log1p(sqft_per_unit)                  0.0204     0.001    26.596     0.000             \n",
      "np.log1p(jobs_1500_walk)                         0.1132     0.003    36.662     0.000             \n",
      "np.log1p(jobs_25000)                             0.1494     0.003    50.426     0.000             \n",
      "rich:prop_rich_500_walk                          9.6482     0.110    87.701     0.000             \n",
      "poor:prop_poor_500_walk                          6.1358     0.096    64.005     0.000             \n",
      "single:prop_singles_500_walk                     3.7320     0.037   100.405     0.000             \n",
      "elderly:prop_elderly_500_walk                    5.8075     0.116    50.111     0.000             \n",
      "white:prop_white_500_walk                        1.6514     0.020    80.738     0.000             \n",
      "black:prop_black_500_walk                        8.5615     0.127    67.242     0.000             \n",
      "asian:prop_asian_500_walk                        4.1291     0.031   131.915     0.000             \n",
      "hispanic:prop_hisp_500_walk                      4.7961     0.042   114.722     0.000             \n",
      "==================================================================================================\n",
      "CPU times: user 8min 22s, sys: 58.7 s, total: 9min 21s\n",
      "Wall time: 2min 14s\n"
     ]
    }
   ],
   "source": [
    "%%time\n",
    "m2 = LargeMultinomialLogitStep()\n",
    "m2.choosers = ['households']\n",
    "m2.alternatives = ['buildings','parcels','nodeswalk','nodessmall']\n",
    "m2.choice_column = 'building_id'\n",
    "m2.alt_sample_size = 50\n",
    "\n",
    "#Filters on choosers\n",
    "m2.chooser_filters = ['building_type > 2 &\\\n",
    "                      recent_mover == 1 &\\\n",
    "                      0 <income < 500000']\n",
    "\n",
    "#Filters on alternatives\n",
    "m2.alt_filters = ['residential_units > 1',\n",
    "                 '0 < avg_income_500_walk < 500000',\n",
    "                 'pop_1500_walk > 0',\n",
    "                 'sqft_per_unit > 0']\n",
    "\n",
    "# m.alt_filters = ['mf_choice_set == 1']\n",
    "\n",
    "#\n",
    "\n",
    "\n",
    "m2.model_expression = ' np.log(residential_units) + \\\n",
    "np.log1p(res_price_per_sqft) + \\\n",
    "np.log1p(income):np.log1p(res_price_per_sqft) + \\\n",
    "persons:np.log1p(sqft_per_unit) + \\\n",
    "np.log1p(jobs_1500_walk) + \\\n",
    "np.log1p(jobs_25000) + \\\n",
    "rich:prop_rich_500_walk + \\\n",
    "poor:prop_poor_500_walk + \\\n",
    "single:prop_singles_500_walk + \\\n",
    "elderly:prop_elderly_500_walk + \\\n",
    "white:prop_white_500_walk + \\\n",
    "black:prop_black_500_walk + \\\n",
    "asian:prop_asian_500_walk + \\\n",
    "hispanic:prop_hisp_500_walk\\\n",
    "- 1'\n",
    "\n",
    "m2.name = 'hlcm'\n",
    "m2.tags = ['multi_family','test']\n",
    "m2.fit()"
   ]
  },
  {
   "cell_type": "code",
   "execution_count": 132,
   "metadata": {},
   "outputs": [
    {
     "data": {
      "text/plain": [
       "76942"
      ]
     },
     "execution_count": 132,
     "metadata": {},
     "output_type": "execute_result"
    }
   ],
   "source": [
    "len(m2._get_df(tables=m2.choosers, filters=m2.chooser_filters))"
   ]
  },
  {
   "cell_type": "markdown",
   "metadata": {},
   "source": [
    "## Constrained Choice Set Single_Family"
   ]
  },
  {
   "cell_type": "code",
   "execution_count": 119,
   "metadata": {},
   "outputs": [
    {
     "name": "stdout",
     "output_type": "stream",
     "text": [
      "                  CHOICEMODELS ESTIMATION RESULTS                  \n",
      "===================================================================\n",
      "Dep. Var.:                chosen   No. Observations:         22,458\n",
      "Model:         Multinomial Logit   Df Residuals:             22,445\n",
      "Method:       Maximum Likelihood   Df Model:                     13\n",
      "Date:                 2018-07-22   Pseudo R-squ.:             0.109\n",
      "Time:                      17:18   Pseudo R-bar-squ.:         0.109\n",
      "AIC:                 156,528.738   Log-Likelihood:      -78,251.369\n",
      "BIC:                 156,632.990   LL-Null:             -87,856.213\n",
      "===================================================================================================\n",
      "                                                   coef   std err          z     P>|z|   Conf. Int.\n",
      "---------------------------------------------------------------------------------------------------\n",
      "np.log1p(res_price_per_sqft)                    -3.8649     0.028   -136.047     0.000             \n",
      "np.log1p(income):np.log1p(res_price_per_sqft)    0.3263     0.002    147.783     0.000             \n",
      "pop_jobs_ratio_25000                             0.0413     0.005      7.583     0.000             \n",
      "np.log(jobs_25000)                               0.0226     0.005      4.452     0.000             \n",
      "persons:avg_hhs_500_walk                         0.0939     0.001     64.332     0.000             \n",
      "rich:prop_rich_500_walk                          7.1820     0.117     61.237     0.000             \n",
      "poor:prop_poor_500_walk                          5.3217     0.183     29.065     0.000             \n",
      "single:prop_singles_500_walk                     4.5121     0.082     54.707     0.000             \n",
      "elderly:prop_elderly_500_walk                    6.5326     0.091     71.915     0.000             \n",
      "white:prop_white_500_walk                        2.2515     0.024     93.235     0.000             \n",
      "black:prop_black_500_walk                        9.3950     0.147     63.750     0.000             \n",
      "asian:prop_asian_500_walk                        3.4990     0.046     75.872     0.000             \n",
      "hispanic:prop_hisp_500_walk                      4.5794     0.054     85.024     0.000             \n",
      "===================================================================================================\n",
      "CPU times: user 2min 37s, sys: 27 s, total: 3min 4s\n",
      "Wall time: 54.4 s\n"
     ]
    }
   ],
   "source": [
    "%%time\n",
    "m3 = LargeMultinomialLogitStep()\n",
    "m3.choosers = ['households']\n",
    "m3.alternatives = ['buildings','parcels','nodeswalk','nodessmall']\n",
    "m3.choice_column = 'building_id'\n",
    "m3.alt_sample_size = 50\n",
    "\n",
    "#Filters on choosers\n",
    "m3.chooser_filters = ['building_type == 2 & recent_mover == 1 & 0 <income < 1000000']\n",
    "\n",
    "m3.alt_filters = ['sf_choice_set == 1 & sqft_per_unit > 0']\n",
    "\n",
    "# np.log(residential_units) +\n",
    "# np.log(income):np.log(avg_income_500_walk) + \\\n",
    "# np.log1p(income):np.log1p(rich_1500_walk) + \\\n",
    "# np.log1p(income):np.log1p(poor_1500_walk) + \\\n",
    "# np.log1p(persons):np.log1p(sqft_per_unit) + \\\n",
    "\n",
    "m3.model_expression = ' \\\n",
    "np.log1p(res_price_per_sqft) + \\\n",
    "np.log1p(income):np.log1p(res_price_per_sqft) + \\\n",
    "pop_jobs_ratio_25000 + \\\n",
    "np.log(jobs_25000+1) + \\\n",
    "persons:avg_hhs_500_walk + \\\n",
    "rich:prop_rich_500_walk + \\\n",
    "poor:prop_poor_500_walk + \\\n",
    "single:prop_singles_500_walk + \\\n",
    "elderly:prop_elderly_500_walk + \\\n",
    "white:prop_white_500_walk + \\\n",
    "black:prop_black_500_walk + \\\n",
    "asian:prop_asian_500_walk + \\\n",
    "hispanic:prop_hisp_500_walk\\\n",
    "- 1'\n",
    "\n",
    "m3.name = 'hlcm'\n",
    "m3.tags = ['single_family', 'test']\n",
    "m3.fit()"
   ]
  },
  {
   "cell_type": "code",
   "execution_count": 117,
   "metadata": {},
   "outputs": [
    {
     "data": {
      "text/plain": [
       "23839"
      ]
     },
     "execution_count": 117,
     "metadata": {},
     "output_type": "execute_result"
    }
   ],
   "source": [
    "len(m3._get_df(tables=m3.choosers, filters=m3.chooser_filters))"
   ]
  },
  {
   "cell_type": "markdown",
   "metadata": {},
   "source": [
    "## Constrained Choice Set Multi_Family"
   ]
  },
  {
   "cell_type": "code",
   "execution_count": 129,
   "metadata": {
    "scrolled": false
   },
   "outputs": [
    {
     "name": "stdout",
     "output_type": "stream",
     "text": [
      "                  CHOICEMODELS ESTIMATION RESULTS                   \n",
      "====================================================================\n",
      "Dep. Var.:                chosen   No. Observations:          31,881\n",
      "Model:         Multinomial Logit   Df Residuals:              31,867\n",
      "Method:       Maximum Likelihood   Df Model:                      14\n",
      "Date:                 2018-07-22   Pseudo R-squ.:              0.203\n",
      "Time:                      17:36   Pseudo R-bar-squ.:          0.203\n",
      "AIC:                 198,727.499   Log-Likelihood:       -99,349.749\n",
      "BIC:                 198,844.676   LL-Null:             -124,719.205\n",
      "==================================================================================================\n",
      "                                                   coef   std err         z     P>|z|   Conf. Int.\n",
      "--------------------------------------------------------------------------------------------------\n",
      "np.log(residential_units)                        0.6708     0.003   192.230     0.000             \n",
      "np.log1p(res_price_per_sqft)                     0.1114     0.018     6.254     0.000             \n",
      "np.log1p(income):np.log1p(res_price_per_sqft)   -0.0130     0.002    -8.522     0.000             \n",
      "persons:np.log1p(sqft_per_unit)                  0.0293     0.001    32.623     0.000             \n",
      "np.log1p(jobs_1500_walk)                        -0.0091     0.004    -2.526     0.012             \n",
      "np.log1p(jobs_25000)                            -0.0885     0.003   -25.651     0.000             \n",
      "rich:prop_rich_500_walk                          9.5656     0.125    76.563     0.000             \n",
      "poor:prop_poor_500_walk                          4.0445     0.106    38.207     0.000             \n",
      "single:prop_singles_500_walk                     2.5201     0.041    62.199     0.000             \n",
      "elderly:prop_elderly_500_walk                    4.9800     0.118    42.177     0.000             \n",
      "white:prop_white_500_walk                        1.4477     0.024    61.476     0.000             \n",
      "black:prop_black_500_walk                        8.4643     0.140    60.385     0.000             \n",
      "asian:prop_asian_500_walk                        3.6352     0.035   103.662     0.000             \n",
      "hispanic:prop_hisp_500_walk                      4.7023     0.050    94.196     0.000             \n",
      "==================================================================================================\n",
      "CPU times: user 4min 9s, sys: 37.5 s, total: 4min 47s\n",
      "Wall time: 1min 15s\n"
     ]
    }
   ],
   "source": [
    "%%time\n",
    "m4 = LargeMultinomialLogitStep()\n",
    "m4.choosers = ['households']\n",
    "m4.alternatives = ['buildings','parcels','nodeswalk','nodessmall']\n",
    "m4.choice_column = 'building_id'\n",
    "m4.alt_sample_size = 50\n",
    "\n",
    "#Filters on choosers\n",
    "m4.chooser_filters = ['building_type > 2 &\\\n",
    "                      recent_mover == 1 &\\\n",
    "                      0 <income < 500000']\n",
    "\n",
    "#Filters on alternatives\n",
    "m4.alt_filters = ['residential_units > 1',\n",
    "                 '0 < avg_income_500_walk < 500000',\n",
    "                 'sqft_per_unit > 0',\n",
    "                 'mf_choice_set == 1']\n",
    "\n",
    "\n",
    "m4.model_expression = ' np.log(residential_units) + \\\n",
    "np.log1p(res_price_per_sqft) + \\\n",
    "np.log1p(income):np.log1p(res_price_per_sqft) + \\\n",
    "persons:np.log1p(sqft_per_unit) + \\\n",
    "np.log1p(jobs_1500_walk) + \\\n",
    "np.log1p(jobs_25000) + \\\n",
    "rich:prop_rich_500_walk + \\\n",
    "poor:prop_poor_500_walk + \\\n",
    "single:prop_singles_500_walk + \\\n",
    "elderly:prop_elderly_500_walk + \\\n",
    "white:prop_white_500_walk + \\\n",
    "black:prop_black_500_walk + \\\n",
    "asian:prop_asian_500_walk + \\\n",
    "hispanic:prop_hisp_500_walk\\\n",
    "- 1'\n",
    "\n",
    "m4.name = 'hlcm'\n",
    "m4.tags = ['multi_family','test']\n",
    "m4.fit()"
   ]
  },
  {
   "cell_type": "code",
   "execution_count": null,
   "metadata": {},
   "outputs": [],
   "source": []
  },
  {
   "cell_type": "code",
   "execution_count": 133,
   "metadata": {},
   "outputs": [
    {
     "data": {
      "text/plain": [
       "76942"
      ]
     },
     "execution_count": 133,
     "metadata": {},
     "output_type": "execute_result"
    }
   ],
   "source": [
    "len(m4._get_df(tables=m4.choosers, filters=m4.chooser_filters))"
   ]
  },
  {
   "cell_type": "code",
   "execution_count": null,
   "metadata": {},
   "outputs": [],
   "source": []
  },
  {
   "cell_type": "code",
   "execution_count": null,
   "metadata": {},
   "outputs": [],
   "source": []
  }
 ],
 "metadata": {
  "kernelspec": {
   "display_name": "Python 3",
   "language": "python",
   "name": "python3"
  },
  "language_info": {
   "codemirror_mode": {
    "name": "ipython",
    "version": 3
   },
   "file_extension": ".py",
   "mimetype": "text/x-python",
   "name": "python",
   "nbconvert_exporter": "python",
   "pygments_lexer": "ipython3",
   "version": "3.6.5"
  },
  "toc": {
   "base_numbering": "1",
   "nav_menu": {},
   "number_sections": true,
   "sideBar": true,
   "skip_h1_title": true,
   "title_cell": "Table of Contents",
   "title_sidebar": "Contents",
   "toc_cell": true,
   "toc_position": {
    "height": "calc(100% - 180px)",
    "left": "10px",
    "top": "150px",
    "width": "165px"
   },
   "toc_section_display": true,
   "toc_window_display": true
  }
 },
 "nbformat": 4,
 "nbformat_minor": 2
}
