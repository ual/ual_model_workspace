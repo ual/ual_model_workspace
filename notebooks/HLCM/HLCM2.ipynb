{
 "cells": [
  {
   "cell_type": "markdown",
   "metadata": {},
   "source": [
    "# Household Location Choice Model (HLCM) for Single and Multi Family Housing  \n"
   ]
  },
  {
   "cell_type": "markdown",
   "metadata": {},
   "source": [
    "Arezoo Besharati, Paul Waddell, UrbanSim, July 2018 \n",
    "\n",
    "This notebook demonstrates the use of the LargeMultinomialLogit model template to construct, estimate, and evaluate a Household Location Choice Model for the San Francisco Bay Area.\n",
    "\n",
    "In the process of developing the model, we also demonstrate some data checking and transformations to improve the model.\n",
    "\n",
    "The model structure and specification are informed and limited by the available data, which is based on the data used by the Metropolitan Transportation Commission for their operational model."
   ]
  },
  {
   "cell_type": "markdown",
   "metadata": {
    "toc": true
   },
   "source": [
    "<h1>Table of Contents<span class=\"tocSkip\"></span></h1>\n",
    "<div class=\"toc\"><ul class=\"toc-item\"><li><span><a href=\"#Preliminaries\" data-toc-modified-id=\"Preliminaries-1\"><span class=\"toc-item-num\">1&nbsp;&nbsp;</span>Preliminaries</a></span><ul class=\"toc-item\"><li><span><a href=\"#Load-data\" data-toc-modified-id=\"Load-data-1.1\"><span class=\"toc-item-num\">1.1&nbsp;&nbsp;</span>Load data</a></span></li><li><span><a href=\"#Initialize-Networks\" data-toc-modified-id=\"Initialize-Networks-1.2\"><span class=\"toc-item-num\">1.2&nbsp;&nbsp;</span>Initialize Networks</a></span></li><li><span><a href=\"#Explore-the-data\" data-toc-modified-id=\"Explore-the-data-1.3\"><span class=\"toc-item-num\">1.3&nbsp;&nbsp;</span>Explore the data</a></span></li><li><span><a href=\"#Data-Cleaning\" data-toc-modified-id=\"Data-Cleaning-1.4\"><span class=\"toc-item-num\">1.4&nbsp;&nbsp;</span>Data Cleaning</a></span></li><li><span><a href=\"#Perform-desired-variable-creations-and-transformations¶\" data-toc-modified-id=\"Perform-desired-variable-creations-and-transformations¶-1.5\"><span class=\"toc-item-num\">1.5&nbsp;&nbsp;</span>Perform desired variable creations and transformations¶</a></span></li><li><span><a href=\"#Check-Distributions\" data-toc-modified-id=\"Check-Distributions-1.6\"><span class=\"toc-item-num\">1.6&nbsp;&nbsp;</span>Check Distributions</a></span></li><li><span><a href=\"#Check-for-Multicollinearity\" data-toc-modified-id=\"Check-for-Multicollinearity-1.7\"><span class=\"toc-item-num\">1.7&nbsp;&nbsp;</span>Check for Multicollinearity</a></span></li></ul></li><li><span><a href=\"#Model-Estimation\" data-toc-modified-id=\"Model-Estimation-2\"><span class=\"toc-item-num\">2&nbsp;&nbsp;</span>Model Estimation</a></span><ul class=\"toc-item\"><li><span><a href=\"#HLCM-for-Multi-Family\" data-toc-modified-id=\"HLCM-for-Multi-Family-2.1\"><span class=\"toc-item-num\">2.1&nbsp;&nbsp;</span>HLCM for Multi-Family</a></span></li><li><span><a href=\"#HLCM-for-Single-Family\" data-toc-modified-id=\"HLCM-for-Single-Family-2.2\"><span class=\"toc-item-num\">2.2&nbsp;&nbsp;</span>HLCM for Single-Family</a></span></li></ul></li></ul></div>"
   ]
  },
  {
   "cell_type": "markdown",
   "metadata": {},
   "source": [
    "## Preliminaries"
   ]
  },
  {
   "cell_type": "code",
   "execution_count": 1,
   "metadata": {},
   "outputs": [],
   "source": [
    "import os; os.chdir('../../')\n",
    "import numpy as np, pandas as pd \n",
    "import matplotlib.pyplot as plt\n",
    "import warnings;\n",
    "warnings.simplefilter('ignore')\n",
    "%load_ext autoreload\n",
    "%autoreload 2"
   ]
  },
  {
   "cell_type": "code",
   "execution_count": 2,
   "metadata": {},
   "outputs": [],
   "source": [
    "from urbansim_templates import modelmanager as mm\n",
    "from urbansim_templates.models import LargeMultinomialLogitStep\n",
    "import orca\n",
    "import seaborn as sns\n",
    "%matplotlib notebook"
   ]
  },
  {
   "cell_type": "code",
   "execution_count": 3,
   "metadata": {},
   "outputs": [],
   "source": [
    "pd.set_option('display.float_format', lambda x: '%.2f' % x)"
   ]
  },
  {
   "cell_type": "markdown",
   "metadata": {},
   "source": [
    "### Load data"
   ]
  },
  {
   "cell_type": "code",
   "execution_count": 4,
   "metadata": {},
   "outputs": [],
   "source": [
    "# Load any script-based Orca registrations\n",
    "from scripts import datasources\n",
    "from scripts import models"
   ]
  },
  {
   "cell_type": "code",
   "execution_count": null,
   "metadata": {},
   "outputs": [],
   "source": [
    "orca.list_tables()\n",
    "#orca.list_steps()"
   ]
  },
  {
   "cell_type": "code",
   "execution_count": 5,
   "metadata": {},
   "outputs": [
    {
     "data": {
      "text/plain": [
       "[('parcels', 'buildings'),\n",
       " ('buildings', 'units'),\n",
       " ('units', 'households'),\n",
       " ('households', 'persons'),\n",
       " ('nodeswalk', 'rentals'),\n",
       " ('nodeswalk', 'parcels'),\n",
       " ('nodessmall', 'rentals'),\n",
       " ('nodessmall', 'parcels')]"
      ]
     },
     "execution_count": 5,
     "metadata": {},
     "output_type": "execute_result"
    }
   ],
   "source": [
    "orca.broadcast('nodeswalk', 'rentals', cast_index=True, onto_on='node_id_walk')\n",
    "orca.broadcast('nodeswalk', 'parcels', cast_index=True, onto_on='node_id_walk')\n",
    "orca.broadcast('nodessmall', 'rentals', cast_index=True, onto_on='node_id_walk')\n",
    "orca.broadcast('nodessmall', 'parcels', cast_index=True, onto_on='node_id_walk')\n",
    "orca.list_broadcasts()"
   ]
  },
  {
   "cell_type": "code",
   "execution_count": null,
   "metadata": {},
   "outputs": [],
   "source": [
    "#mm.list_steps()"
   ]
  },
  {
   "cell_type": "code",
   "execution_count": null,
   "metadata": {},
   "outputs": [],
   "source": [
    "#mm.initialize()"
   ]
  },
  {
   "cell_type": "markdown",
   "metadata": {},
   "source": [
    "### Initialize Networks\n",
    "\n",
    "Note that we have separately created a set of network accessibility variables and stored them. They are registered a orca objects."
   ]
  },
  {
   "cell_type": "code",
   "execution_count": null,
   "metadata": {},
   "outputs": [],
   "source": [
    "#%%capture\n",
    "#orca.run([\"initialize_network_walk\"])"
   ]
  },
  {
   "cell_type": "code",
   "execution_count": null,
   "metadata": {},
   "outputs": [],
   "source": [
    "#%%capture\n",
    "#orca.run([\"initialize_network_small\"])"
   ]
  },
  {
   "cell_type": "markdown",
   "metadata": {},
   "source": [
    "### Explore the data"
   ]
  },
  {
   "cell_type": "code",
   "execution_count": 6,
   "metadata": {},
   "outputs": [
    {
     "data": {
      "text/plain": [
       "Index(['development_type_id', 'land_value', 'acres', 'county_id', 'zone_id',\n",
       "       'proportion_undevelopable', 'tax_exempt_status', 'apn',\n",
       "       'parcel_id_local', 'geom_id', 'imputation_flag', 'x', 'y', 'shape_area',\n",
       "       'block_id', 'node_id', 'node_id_small', 'node_id_walk'],\n",
       "      dtype='object')"
      ]
     },
     "execution_count": 6,
     "metadata": {},
     "output_type": "execute_result"
    }
   ],
   "source": [
    "parcel = orca.get_table('parcels').to_frame()\n",
    "parcel.columns"
   ]
  },
  {
   "cell_type": "code",
   "execution_count": 7,
   "metadata": {
    "scrolled": false
   },
   "outputs": [],
   "source": [
    "bld = orca.get_table('buildings').to_frame()\n",
    "#bld.columns"
   ]
  },
  {
   "cell_type": "code",
   "execution_count": 13,
   "metadata": {
    "scrolled": false
   },
   "outputs": [],
   "source": [
    "hh = orca.get_table('households').to_frame()\n",
    "#hh.columns.tolist()"
   ]
  },
  {
   "cell_type": "code",
   "execution_count": 17,
   "metadata": {},
   "outputs": [],
   "source": [
    "hh['hh_random'] = np.random.uniform(0,1,len(hh))"
   ]
  },
  {
   "cell_type": "code",
   "execution_count": 18,
   "metadata": {},
   "outputs": [
    {
     "data": {
      "text/html": [
       "<div>\n",
       "<style scoped>\n",
       "    .dataframe tbody tr th:only-of-type {\n",
       "        vertical-align: middle;\n",
       "    }\n",
       "\n",
       "    .dataframe tbody tr th {\n",
       "        vertical-align: top;\n",
       "    }\n",
       "\n",
       "    .dataframe thead th {\n",
       "        text-align: right;\n",
       "    }\n",
       "</style>\n",
       "<table border=\"1\" class=\"dataframe\">\n",
       "  <thead>\n",
       "    <tr style=\"text-align: right;\">\n",
       "      <th></th>\n",
       "      <th>serialno</th>\n",
       "      <th>persons</th>\n",
       "      <th>building_type</th>\n",
       "      <th>cars</th>\n",
       "      <th>income</th>\n",
       "      <th>race_of_head</th>\n",
       "      <th>hispanic_head</th>\n",
       "      <th>age_of_head</th>\n",
       "      <th>workers</th>\n",
       "      <th>state</th>\n",
       "      <th>...</th>\n",
       "      <th>tract</th>\n",
       "      <th>block_group</th>\n",
       "      <th>children</th>\n",
       "      <th>tenure</th>\n",
       "      <th>recent_mover</th>\n",
       "      <th>block_group_id</th>\n",
       "      <th>single_family</th>\n",
       "      <th>unit_id</th>\n",
       "      <th>building_id</th>\n",
       "      <th>hh_random</th>\n",
       "    </tr>\n",
       "    <tr>\n",
       "      <th>household_id</th>\n",
       "      <th></th>\n",
       "      <th></th>\n",
       "      <th></th>\n",
       "      <th></th>\n",
       "      <th></th>\n",
       "      <th></th>\n",
       "      <th></th>\n",
       "      <th></th>\n",
       "      <th></th>\n",
       "      <th></th>\n",
       "      <th></th>\n",
       "      <th></th>\n",
       "      <th></th>\n",
       "      <th></th>\n",
       "      <th></th>\n",
       "      <th></th>\n",
       "      <th></th>\n",
       "      <th></th>\n",
       "      <th></th>\n",
       "      <th></th>\n",
       "      <th></th>\n",
       "    </tr>\n",
       "  </thead>\n",
       "  <tbody>\n",
       "    <tr>\n",
       "      <th>0</th>\n",
       "      <td>2010000487191</td>\n",
       "      <td>1</td>\n",
       "      <td>6.00</td>\n",
       "      <td>1.00</td>\n",
       "      <td>85000.00</td>\n",
       "      <td>1</td>\n",
       "      <td>no</td>\n",
       "      <td>47</td>\n",
       "      <td>1.00</td>\n",
       "      <td>6</td>\n",
       "      <td>...</td>\n",
       "      <td>500901</td>\n",
       "      <td>1</td>\n",
       "      <td>0.00</td>\n",
       "      <td>2</td>\n",
       "      <td>0</td>\n",
       "      <td>60855009011</td>\n",
       "      <td>False</td>\n",
       "      <td>1711366</td>\n",
       "      <td>409174</td>\n",
       "      <td>0.88</td>\n",
       "    </tr>\n",
       "    <tr>\n",
       "      <th>1</th>\n",
       "      <td>2013000554587</td>\n",
       "      <td>1</td>\n",
       "      <td>9.00</td>\n",
       "      <td>1.00</td>\n",
       "      <td>27000.00</td>\n",
       "      <td>6</td>\n",
       "      <td>no</td>\n",
       "      <td>52</td>\n",
       "      <td>1.00</td>\n",
       "      <td>6</td>\n",
       "      <td>...</td>\n",
       "      <td>500901</td>\n",
       "      <td>1</td>\n",
       "      <td>0.00</td>\n",
       "      <td>2</td>\n",
       "      <td>0</td>\n",
       "      <td>60855009011</td>\n",
       "      <td>False</td>\n",
       "      <td>1711818</td>\n",
       "      <td>1579443</td>\n",
       "      <td>0.55</td>\n",
       "    </tr>\n",
       "    <tr>\n",
       "      <th>2</th>\n",
       "      <td>2011001140920</td>\n",
       "      <td>2</td>\n",
       "      <td>2.00</td>\n",
       "      <td>1.00</td>\n",
       "      <td>6000.00</td>\n",
       "      <td>6</td>\n",
       "      <td>no</td>\n",
       "      <td>60</td>\n",
       "      <td>1.00</td>\n",
       "      <td>6</td>\n",
       "      <td>...</td>\n",
       "      <td>500901</td>\n",
       "      <td>1</td>\n",
       "      <td>0.00</td>\n",
       "      <td>2</td>\n",
       "      <td>0</td>\n",
       "      <td>60855009011</td>\n",
       "      <td>True</td>\n",
       "      <td>1711727</td>\n",
       "      <td>1365639</td>\n",
       "      <td>0.44</td>\n",
       "    </tr>\n",
       "    <tr>\n",
       "      <th>3</th>\n",
       "      <td>2012001376432</td>\n",
       "      <td>1</td>\n",
       "      <td>3.00</td>\n",
       "      <td>1.00</td>\n",
       "      <td>28000.00</td>\n",
       "      <td>8</td>\n",
       "      <td>yes</td>\n",
       "      <td>51</td>\n",
       "      <td>1.00</td>\n",
       "      <td>6</td>\n",
       "      <td>...</td>\n",
       "      <td>500901</td>\n",
       "      <td>1</td>\n",
       "      <td>0.00</td>\n",
       "      <td>2</td>\n",
       "      <td>0</td>\n",
       "      <td>60855009011</td>\n",
       "      <td>True</td>\n",
       "      <td>1711548</td>\n",
       "      <td>647211</td>\n",
       "      <td>0.91</td>\n",
       "    </tr>\n",
       "    <tr>\n",
       "      <th>4</th>\n",
       "      <td>2013000186929</td>\n",
       "      <td>1</td>\n",
       "      <td>6.00</td>\n",
       "      <td>1.00</td>\n",
       "      <td>10000.00</td>\n",
       "      <td>1</td>\n",
       "      <td>no</td>\n",
       "      <td>64</td>\n",
       "      <td>0.00</td>\n",
       "      <td>6</td>\n",
       "      <td>...</td>\n",
       "      <td>500901</td>\n",
       "      <td>1</td>\n",
       "      <td>0.00</td>\n",
       "      <td>2</td>\n",
       "      <td>0</td>\n",
       "      <td>60855009011</td>\n",
       "      <td>False</td>\n",
       "      <td>1711121</td>\n",
       "      <td>309586</td>\n",
       "      <td>0.23</td>\n",
       "    </tr>\n",
       "  </tbody>\n",
       "</table>\n",
       "<p>5 rows × 21 columns</p>\n",
       "</div>"
      ],
      "text/plain": [
       "                   serialno  persons  building_type  cars   income  \\\n",
       "household_id                                                         \n",
       "0             2010000487191        1           6.00  1.00 85000.00   \n",
       "1             2013000554587        1           9.00  1.00 27000.00   \n",
       "2             2011001140920        2           2.00  1.00  6000.00   \n",
       "3             2012001376432        1           3.00  1.00 28000.00   \n",
       "4             2013000186929        1           6.00  1.00 10000.00   \n",
       "\n",
       "              race_of_head hispanic_head  age_of_head  workers state  \\\n",
       "household_id                                                           \n",
       "0                        1            no           47     1.00     6   \n",
       "1                        6            no           52     1.00     6   \n",
       "2                        6            no           60     1.00     6   \n",
       "3                        8           yes           51     1.00     6   \n",
       "4                        1            no           64     0.00     6   \n",
       "\n",
       "                ...       tract block_group children  tenure  recent_mover  \\\n",
       "household_id    ...                                                          \n",
       "0               ...      500901           1     0.00       2             0   \n",
       "1               ...      500901           1     0.00       2             0   \n",
       "2               ...      500901           1     0.00       2             0   \n",
       "3               ...      500901           1     0.00       2             0   \n",
       "4               ...      500901           1     0.00       2             0   \n",
       "\n",
       "              block_group_id single_family  unit_id  building_id  hh_random  \n",
       "household_id                                                                 \n",
       "0                60855009011         False  1711366       409174       0.88  \n",
       "1                60855009011         False  1711818      1579443       0.55  \n",
       "2                60855009011          True  1711727      1365639       0.44  \n",
       "3                60855009011          True  1711548       647211       0.91  \n",
       "4                60855009011         False  1711121       309586       0.23  \n",
       "\n",
       "[5 rows x 21 columns]"
      ]
     },
     "execution_count": 18,
     "metadata": {},
     "output_type": "execute_result"
    }
   ],
   "source": [
    "hh.head()"
   ]
  },
  {
   "cell_type": "code",
   "execution_count": 19,
   "metadata": {
    "scrolled": false
   },
   "outputs": [
    {
     "data": {
      "text/html": [
       "<div>\n",
       "<style scoped>\n",
       "    .dataframe tbody tr th:only-of-type {\n",
       "        vertical-align: middle;\n",
       "    }\n",
       "\n",
       "    .dataframe tbody tr th {\n",
       "        vertical-align: top;\n",
       "    }\n",
       "\n",
       "    .dataframe thead th {\n",
       "        text-align: right;\n",
       "    }\n",
       "</style>\n",
       "<table border=\"1\" class=\"dataframe\">\n",
       "  <thead>\n",
       "    <tr style=\"text-align: right;\">\n",
       "      <th></th>\n",
       "      <th>serialno</th>\n",
       "      <th>persons</th>\n",
       "      <th>building_type</th>\n",
       "      <th>cars</th>\n",
       "      <th>income</th>\n",
       "      <th>race_of_head</th>\n",
       "      <th>age_of_head</th>\n",
       "      <th>workers</th>\n",
       "      <th>children</th>\n",
       "      <th>tenure</th>\n",
       "      <th>recent_mover</th>\n",
       "      <th>unit_id</th>\n",
       "      <th>building_id</th>\n",
       "      <th>hh_random</th>\n",
       "    </tr>\n",
       "  </thead>\n",
       "  <tbody>\n",
       "    <tr>\n",
       "      <th>count</th>\n",
       "      <td>2677468.00</td>\n",
       "      <td>2677468.00</td>\n",
       "      <td>2677468.00</td>\n",
       "      <td>2677468.00</td>\n",
       "      <td>2677468.00</td>\n",
       "      <td>2677468.00</td>\n",
       "      <td>2677468.00</td>\n",
       "      <td>2677468.00</td>\n",
       "      <td>2677468.00</td>\n",
       "      <td>2677468.00</td>\n",
       "      <td>2677468.00</td>\n",
       "      <td>2677468.00</td>\n",
       "      <td>2677468.00</td>\n",
       "      <td>2677468.00</td>\n",
       "    </tr>\n",
       "    <tr>\n",
       "      <th>mean</th>\n",
       "      <td>2011048463205.79</td>\n",
       "      <td>2.64</td>\n",
       "      <td>3.59</td>\n",
       "      <td>1.88</td>\n",
       "      <td>113128.36</td>\n",
       "      <td>2.84</td>\n",
       "      <td>52.97</td>\n",
       "      <td>1.30</td>\n",
       "      <td>0.56</td>\n",
       "      <td>1.43</td>\n",
       "      <td>0.04</td>\n",
       "      <td>1288427.13</td>\n",
       "      <td>858095.84</td>\n",
       "      <td>0.50</td>\n",
       "    </tr>\n",
       "    <tr>\n",
       "      <th>std</th>\n",
       "      <td>1416905562.31</td>\n",
       "      <td>1.57</td>\n",
       "      <td>2.34</td>\n",
       "      <td>1.14</td>\n",
       "      <td>107952.60</td>\n",
       "      <td>2.66</td>\n",
       "      <td>15.69</td>\n",
       "      <td>1.00</td>\n",
       "      <td>0.97</td>\n",
       "      <td>0.49</td>\n",
       "      <td>0.19</td>\n",
       "      <td>849779.84</td>\n",
       "      <td>561165.80</td>\n",
       "      <td>0.29</td>\n",
       "    </tr>\n",
       "    <tr>\n",
       "      <th>min</th>\n",
       "      <td>2009000000022.00</td>\n",
       "      <td>1.00</td>\n",
       "      <td>1.00</td>\n",
       "      <td>0.00</td>\n",
       "      <td>-11600.00</td>\n",
       "      <td>1.00</td>\n",
       "      <td>15.00</td>\n",
       "      <td>0.00</td>\n",
       "      <td>0.00</td>\n",
       "      <td>1.00</td>\n",
       "      <td>0.00</td>\n",
       "      <td>-1.00</td>\n",
       "      <td>-1.00</td>\n",
       "      <td>0.00</td>\n",
       "    </tr>\n",
       "    <tr>\n",
       "      <th>25%</th>\n",
       "      <td>2010000424551.00</td>\n",
       "      <td>1.00</td>\n",
       "      <td>2.00</td>\n",
       "      <td>1.00</td>\n",
       "      <td>40320.00</td>\n",
       "      <td>1.00</td>\n",
       "      <td>41.00</td>\n",
       "      <td>1.00</td>\n",
       "      <td>0.00</td>\n",
       "      <td>1.00</td>\n",
       "      <td>0.00</td>\n",
       "      <td>540970.75</td>\n",
       "      <td>359954.75</td>\n",
       "      <td>0.25</td>\n",
       "    </tr>\n",
       "    <tr>\n",
       "      <th>50%</th>\n",
       "      <td>2011000848265.00</td>\n",
       "      <td>2.00</td>\n",
       "      <td>2.00</td>\n",
       "      <td>2.00</td>\n",
       "      <td>84000.00</td>\n",
       "      <td>1.00</td>\n",
       "      <td>53.00</td>\n",
       "      <td>1.00</td>\n",
       "      <td>0.00</td>\n",
       "      <td>1.00</td>\n",
       "      <td>0.00</td>\n",
       "      <td>1272990.50</td>\n",
       "      <td>837858.50</td>\n",
       "      <td>0.50</td>\n",
       "    </tr>\n",
       "    <tr>\n",
       "      <th>75%</th>\n",
       "      <td>2012001211486.00</td>\n",
       "      <td>4.00</td>\n",
       "      <td>5.00</td>\n",
       "      <td>2.00</td>\n",
       "      <td>150100.00</td>\n",
       "      <td>6.00</td>\n",
       "      <td>63.00</td>\n",
       "      <td>2.00</td>\n",
       "      <td>1.00</td>\n",
       "      <td>2.00</td>\n",
       "      <td>0.00</td>\n",
       "      <td>2024749.25</td>\n",
       "      <td>1341263.25</td>\n",
       "      <td>0.75</td>\n",
       "    </tr>\n",
       "    <tr>\n",
       "      <th>max</th>\n",
       "      <td>2013001492566.00</td>\n",
       "      <td>20.00</td>\n",
       "      <td>10.00</td>\n",
       "      <td>6.00</td>\n",
       "      <td>1397000.00</td>\n",
       "      <td>9.00</td>\n",
       "      <td>94.00</td>\n",
       "      <td>13.00</td>\n",
       "      <td>9.00</td>\n",
       "      <td>2.00</td>\n",
       "      <td>1.00</td>\n",
       "      <td>2781489.00</td>\n",
       "      <td>1843272.00</td>\n",
       "      <td>1.00</td>\n",
       "    </tr>\n",
       "  </tbody>\n",
       "</table>\n",
       "</div>"
      ],
      "text/plain": [
       "              serialno    persons  building_type       cars     income  \\\n",
       "count       2677468.00 2677468.00     2677468.00 2677468.00 2677468.00   \n",
       "mean  2011048463205.79       2.64           3.59       1.88  113128.36   \n",
       "std      1416905562.31       1.57           2.34       1.14  107952.60   \n",
       "min   2009000000022.00       1.00           1.00       0.00  -11600.00   \n",
       "25%   2010000424551.00       1.00           2.00       1.00   40320.00   \n",
       "50%   2011000848265.00       2.00           2.00       2.00   84000.00   \n",
       "75%   2012001211486.00       4.00           5.00       2.00  150100.00   \n",
       "max   2013001492566.00      20.00          10.00       6.00 1397000.00   \n",
       "\n",
       "       race_of_head  age_of_head    workers   children     tenure  \\\n",
       "count    2677468.00   2677468.00 2677468.00 2677468.00 2677468.00   \n",
       "mean           2.84        52.97       1.30       0.56       1.43   \n",
       "std            2.66        15.69       1.00       0.97       0.49   \n",
       "min            1.00        15.00       0.00       0.00       1.00   \n",
       "25%            1.00        41.00       1.00       0.00       1.00   \n",
       "50%            1.00        53.00       1.00       0.00       1.00   \n",
       "75%            6.00        63.00       2.00       1.00       2.00   \n",
       "max            9.00        94.00      13.00       9.00       2.00   \n",
       "\n",
       "       recent_mover    unit_id  building_id  hh_random  \n",
       "count    2677468.00 2677468.00   2677468.00 2677468.00  \n",
       "mean           0.04 1288427.13    858095.84       0.50  \n",
       "std            0.19  849779.84    561165.80       0.29  \n",
       "min            0.00      -1.00        -1.00       0.00  \n",
       "25%            0.00  540970.75    359954.75       0.25  \n",
       "50%            0.00 1272990.50    837858.50       0.50  \n",
       "75%            0.00 2024749.25   1341263.25       0.75  \n",
       "max            1.00 2781489.00   1843272.00       1.00  "
      ]
     },
     "execution_count": 19,
     "metadata": {},
     "output_type": "execute_result"
    }
   ],
   "source": [
    "hh.describe()"
   ]
  },
  {
   "cell_type": "code",
   "execution_count": 27,
   "metadata": {},
   "outputs": [
    {
     "data": {
      "text/plain": [
       "serialno            int64\n",
       "persons             int64\n",
       "building_type     float64\n",
       "cars              float64\n",
       "income            float64\n",
       "race_of_head        int64\n",
       "hispanic_head      object\n",
       "age_of_head         int64\n",
       "workers           float64\n",
       "state              object\n",
       "county             object\n",
       "tract              object\n",
       "block_group        object\n",
       "children          float64\n",
       "tenure              int64\n",
       "recent_mover        int64\n",
       "block_group_id     object\n",
       "single_family        bool\n",
       "unit_id             int64\n",
       "building_id         int64\n",
       "hh_random         float64\n",
       "dtype: object"
      ]
     },
     "execution_count": 27,
     "metadata": {},
     "output_type": "execute_result"
    }
   ],
   "source": [
    "hh.dtypes"
   ]
  },
  {
   "cell_type": "code",
   "execution_count": 38,
   "metadata": {},
   "outputs": [
    {
     "data": {
      "text/plain": [
       "15308"
      ]
     },
     "execution_count": 38,
     "metadata": {},
     "output_type": "execute_result"
    }
   ],
   "source": [
    "hh_f = hh[(hh['building_type'] > 2) & (hh['hh_random'] < .2) & (hh['recent_mover'] == 1) \\\n",
    "         & (hh['income'] > 0) & (hh['income'] < 500000)]\n",
    "len(hh_f)"
   ]
  },
  {
   "cell_type": "code",
   "execution_count": null,
   "metadata": {},
   "outputs": [],
   "source": [
    "#bld.groupby('building_type_id')['residential_units'].sum()"
   ]
  },
  {
   "cell_type": "code",
   "execution_count": null,
   "metadata": {
    "scrolled": false
   },
   "outputs": [],
   "source": [
    "#bld.describe().transpose()"
   ]
  },
  {
   "cell_type": "code",
   "execution_count": null,
   "metadata": {},
   "outputs": [],
   "source": [
    "#bld.quantile(.99)"
   ]
  },
  {
   "cell_type": "code",
   "execution_count": null,
   "metadata": {},
   "outputs": [],
   "source": [
    "#bld[['residential_units','residential_sqft', 'non_residential_sqft']].sum()"
   ]
  },
  {
   "cell_type": "code",
   "execution_count": null,
   "metadata": {},
   "outputs": [],
   "source": [
    "#bld.building_type_id.value_counts()"
   ]
  },
  {
   "cell_type": "code",
   "execution_count": null,
   "metadata": {},
   "outputs": [],
   "source": [
    "# hh_sf=hh[hh['building_type']==2]\n",
    "# hh_mf=hh[hh['building_type']!=2]"
   ]
  },
  {
   "cell_type": "markdown",
   "metadata": {},
   "source": [
    "### Data Cleaning"
   ]
  },
  {
   "cell_type": "code",
   "execution_count": null,
   "metadata": {
    "scrolled": true
   },
   "outputs": [],
   "source": [
    "# nodeswalk = orca.get_table('nodeswalk').to_frame()\n",
    "# nodessmall = orca.get_table('nodessmall').to_frame()\n",
    "#print(nodeswalk.columns.tolist())\n",
    "#print(nodessmall.columns.tolist())"
   ]
  },
  {
   "cell_type": "code",
   "execution_count": null,
   "metadata": {
    "scrolled": true
   },
   "outputs": [],
   "source": [
    "#nodessmall.describe().transpose()"
   ]
  },
  {
   "cell_type": "code",
   "execution_count": null,
   "metadata": {},
   "outputs": [],
   "source": [
    "# nodessmall_upper = nodessmall.quantile(.99)\n",
    "#nodessmall_upper"
   ]
  },
  {
   "cell_type": "code",
   "execution_count": null,
   "metadata": {},
   "outputs": [],
   "source": [
    "# nodessmall_clipped = nodessmall.clip_upper(nodessmall_upper, axis=1) \n",
    "# nodessmall_clipped.describe().transpose()\n",
    "# orca.add_table('nodessmall', nodessmall_clipped);"
   ]
  },
  {
   "cell_type": "code",
   "execution_count": null,
   "metadata": {},
   "outputs": [],
   "source": [
    "# nodeswalk.describe().transpose()\n",
    "# nodeswalk_upper = nodeswalk.quantile(.99)\n",
    "#nodeswalk_upper"
   ]
  },
  {
   "cell_type": "code",
   "execution_count": null,
   "metadata": {
    "scrolled": true
   },
   "outputs": [],
   "source": [
    "# nodeswalk_clipped = nodeswalk.clip_upper(nodeswalk_upper, axis=1) \n",
    "# nodeswalk_clipped.describe().transpose()\n",
    "# orca.add_table('nodeswalk', nodeswalk_clipped);"
   ]
  },
  {
   "cell_type": "markdown",
   "metadata": {},
   "source": [
    "### Perform desired variable creations and transformations¶"
   ]
  },
  {
   "cell_type": "code",
   "execution_count": 22,
   "metadata": {},
   "outputs": [],
   "source": [
    "# scale income and create race dummies\n",
    "hh.income_k = hh.income/1000\n",
    "hh.white = (hh.race_of_head == 1).astype(int)\n",
    "hh.black = (hh.race_of_head == 2).astype(int)\n",
    "hh.asian = (hh.race_of_head == 6).astype(int)\n",
    "hh.hisp = (hh.hispanic_head == 'yes').astype(int)\n",
    "hh.single = (hh.persons == 1).astype(int)\n",
    "hh.elderly = (hh.age_of_head > 65).astype(int)\n",
    "\n",
    "  \n",
    "# building_type dummies\n",
    "bld.single_family = (bld.building_type_id == 1).astype(int)\n",
    "bld.multi_family = (bld.building_type_id == 3).astype(int)\n",
    "bld.mixed_use = (bld.building_type_id > 3).astype(int)\n",
    "\n",
    "# add the columns\n",
    "\n",
    "orca.add_column('households', 'income_k', hh.income_k)\n",
    "orca.add_column('households', 'white', hh.white)\n",
    "orca.add_column('households', 'black', hh.black)\n",
    "orca.add_column('households', 'asian', hh.asian)\n",
    "orca.add_column('households', 'hispanic', hh.hisp)\n",
    "orca.add_column('households', 'elderly', hh.elderly)\n",
    "orca.add_column('households', 'single', hh.single)\n",
    "orca.add_column('households', 'hh_random', hh.hh_random)\n",
    "\n",
    "orca.add_column('buildings', 'single_family', bld.single_family)\n",
    "orca.add_column('buildings', 'multi_family', bld.multi_family)\n",
    "orca.add_column('buildings', 'mixed_use', bld.mixed_use);"
   ]
  },
  {
   "cell_type": "code",
   "execution_count": null,
   "metadata": {},
   "outputs": [],
   "source": [
    "# nodeswalk['prop_children_500_walk'] = (nodeswalk['children_500_walk'] > 0).astype(int) / nodeswalk['hh_500_walk']\n",
    "# nodeswalk['prop_singles_500_walk'] = nodeswalk['singles_500_walk'] / nodeswalk['hh_500_walk']\n",
    "# nodeswalk['prop_elderly_500_walk'] = nodeswalk['elderly_hh_500_walk'] / nodeswalk['hh_500_walk']\n",
    "# nodeswalk['prop_black_500_walk'] = nodeswalk['pop_black_500_walk'] / nodeswalk['pop_500_walk']\n",
    "# nodeswalk['prop_white_500_walk'] = nodeswalk['pop_white_500_walk'] / nodeswalk['pop_500_walk']\n",
    "# nodeswalk['prop_asian_500_walk'] = nodeswalk['pop_asian_500_walk'] / nodeswalk['pop_500_walk']\n",
    "# nodeswalk['prop_hisp_500_walk'] = nodeswalk['pop_hisp_500_walk'] / nodeswalk['pop_500_walk']\n",
    "# nodeswalk['prop_rich_500_walk'] = nodeswalk['rich_500_walk'] / nodeswalk['pop_500_walk']\n",
    "# nodeswalk['prop_poor_500_walk'] = nodeswalk['poor_500_walk'] / nodeswalk['pop_500_walk']\n",
    "\n",
    "# nodeswalk['prop_children_1500_walk'] = (nodeswalk['children_1500_walk'] > 0).astype(int) / nodeswalk['hh_1500_walk']\n",
    "# nodeswalk['prop_singles_1500_walk'] = nodeswalk['singles_1500_walk'] / nodeswalk['hh_1500_walk']\n",
    "# nodeswalk['prop_elderly_1500_walk'] = nodeswalk['elderly_hh_1500_walk'] / nodeswalk['hh_1500_walk']\n",
    "# nodeswalk['prop_black_1500_walk'] = nodeswalk['pop_black_1500_walk'] / nodeswalk['pop_1500_walk']\n",
    "# nodeswalk['prop_white_1500_walk'] = nodeswalk['pop_white_1500_walk'] / nodeswalk['pop_1500_walk']\n",
    "# nodeswalk['prop_asian_1500_walk'] = nodeswalk['pop_asian_1500_walk'] / nodeswalk['pop_1500_walk']\n",
    "# nodeswalk['prop_hisp_1500_walk'] = nodeswalk['pop_hisp_1500_walk'] / nodeswalk['pop_1500_walk']\n",
    "# nodeswalk['prop_rich_1500_walk'] = nodeswalk['rich_1500_walk'] / nodeswalk['pop_1500_walk']\n",
    "# nodeswalk['prop_poor_1500_walk'] = nodeswalk['poor_1500_walk'] / nodeswalk['pop_1500_walk']\n",
    "\n",
    "\n",
    "# orca.add_column('nodeswalk', 'prop_children_500_walk', nodeswalk['prop_children_500_walk'])\n",
    "# orca.add_column('nodeswalk', 'prop_singles_500_walk', nodeswalk['prop_singles_500_walk'])\n",
    "# orca.add_column('nodeswalk', 'prop_elderly_500_walk', nodeswalk['prop_elderly_500_walk'])\n",
    "# orca.add_column('nodeswalk', 'prop_black_500_walk', nodeswalk['prop_black_500_walk'])\n",
    "# orca.add_column('nodeswalk', 'prop_white_500_walk', nodeswalk['prop_white_500_walk'])\n",
    "# orca.add_column('nodeswalk', 'prop_asian_500_walk', nodeswalk['prop_asian_500_walk'])\n",
    "# orca.add_column('nodeswalk', 'prop_hisp_500_walk', nodeswalk['prop_hisp_500_walk'])\n",
    "# orca.add_column('nodeswalk', 'prop_rich_500_walk', nodeswalk['prop_rich_500_walk'])\n",
    "# orca.add_column('nodeswalk', 'prop_poor_500_walk', nodeswalk['prop_poor_500_walk'])\n",
    "\n",
    "# orca.add_column('nodeswalk', 'prop_children_1500_walk', nodeswalk['prop_children_1500_walk'])\n",
    "# orca.add_column('nodeswalk', 'prop_singles_1500_walk', nodeswalk['prop_singles_1500_walk'])\n",
    "# orca.add_column('nodeswalk', 'prop_elderly_1500_walk', nodeswalk['prop_elderly_1500_walk'])\n",
    "# orca.add_column('nodeswalk', 'prop_black_1500_walk', nodeswalk['prop_black_1500_walk'])\n",
    "# orca.add_column('nodeswalk', 'prop_white_1500_walk', nodeswalk['prop_white_1500_walk'])\n",
    "# orca.add_column('nodeswalk', 'prop_asian_1500_walk', nodeswalk['prop_asian_1500_walk'])\n",
    "# orca.add_column('nodeswalk', 'prop_hisp_1500_walk', nodeswalk['prop_hisp_1500_walk'])\n",
    "# orca.add_column('nodeswalk', 'prop_rich_1500_walk', nodeswalk['prop_rich_1500_walk'])\n",
    "# orca.add_column('nodeswalk', 'prop_poor_1500_walk', nodeswalk['prop_poor_1500_walk'])"
   ]
  },
  {
   "cell_type": "markdown",
   "metadata": {},
   "source": [
    "### Check Distributions"
   ]
  },
  {
   "cell_type": "code",
   "execution_count": null,
   "metadata": {},
   "outputs": [],
   "source": [
    "# hh_income_upper = hh_singlefamily.income.quantile(0.99)\n",
    "# len(hh[hh['income']>hh_income_upper])"
   ]
  },
  {
   "cell_type": "code",
   "execution_count": null,
   "metadata": {
    "scrolled": false
   },
   "outputs": [],
   "source": [
    "# %matplotlib notebook\n",
    "# hh_sf.income.plot(kind='hist',bins=100)\n",
    "# print(hh_sf.income.quantile([0.10,0.5,0.9,0.99,1]))"
   ]
  },
  {
   "cell_type": "code",
   "execution_count": null,
   "metadata": {
    "scrolled": false
   },
   "outputs": [],
   "source": [
    "# %matplotlib notebook\n",
    "# hh_mf.income.plot(kind='hist',bins=100)\n",
    "# print(hh_mf.income.quantile([0.10,0.5,0.9,0.99,1]))"
   ]
  },
  {
   "cell_type": "code",
   "execution_count": null,
   "metadata": {
    "scrolled": false
   },
   "outputs": [],
   "source": [
    "# %matplotlib notebook\n",
    "# ax = sns.boxplot(x = hh_sf.income,palette=\"Set2\", width=0.5)"
   ]
  },
  {
   "cell_type": "code",
   "execution_count": null,
   "metadata": {
    "scrolled": false
   },
   "outputs": [],
   "source": [
    "# %matplotlib notebook\n",
    "# ax = sns.boxplot(x = hh_mf.income,palette=\"Set2\", width=0.5)"
   ]
  },
  {
   "cell_type": "code",
   "execution_count": null,
   "metadata": {},
   "outputs": [],
   "source": [
    "df = orca.merge_tables(target = 'buildings', tables = ['buildings','parcels','nodeswalk','nodessmall'])\n",
    "#df.columns.tolist()\n",
    "df_sf= df[df['residential_units']==1]\n",
    "df_mf= df[df['residential_units']>1]"
   ]
  },
  {
   "cell_type": "code",
   "execution_count": null,
   "metadata": {},
   "outputs": [],
   "source": [
    "# %matplotlib notebook\n",
    "# df_sf.avg_income_1500_walk.plot(kind='hist',bins=100)\n",
    "# plt.show()\n",
    "# print(df_sf.avg_income_1500_walk.quantile([0.10,0.5,0.9,0.99,1]))"
   ]
  },
  {
   "cell_type": "code",
   "execution_count": null,
   "metadata": {},
   "outputs": [],
   "source": [
    "# %matplotlib notebook\n",
    "# df_mf.avg_income_1500_walk.plot(kind='hist',bins=100)\n",
    "# plt.show()\n",
    "# print(df_mf.avg_income_1500_walk.quantile([0.10,0.5,0.9,0.99,1]))"
   ]
  },
  {
   "cell_type": "code",
   "execution_count": null,
   "metadata": {},
   "outputs": [],
   "source": [
    "#%matplotlib notebook\n",
    "#(df_mf.prop_black_500_walk).plot(kind='hist',bins=100)\n",
    "#(df_mf.prop_asian_500_walk).plot(kind='hist',bins=100)\n",
    "#(df_mf.prop_white_500_walk).plot(kind='hist',bins=100)\n",
    "#(df_mf.prop_hisp_500_walk).plot(kind='hist',bins=100)\n"
   ]
  },
  {
   "cell_type": "markdown",
   "metadata": {},
   "source": [
    "### Check for Multicollinearity"
   ]
  },
  {
   "cell_type": "code",
   "execution_count": null,
   "metadata": {},
   "outputs": [],
   "source": [
    "# %matplotlib inline\n",
    "# plt.subplots(figsize=(20, 20))\n",
    "\n",
    "\n",
    "# # Create correlation matrix\n",
    "# corr_matrix = df_sf.corr().abs()\n",
    "\n",
    "# # Select upper triangle of correlation matrix\n",
    "# upper = corr_matrix.where(np.triu(np.ones(corr_matrix.shape), k=1).astype(np.bool))\n",
    "# high_corr = [column for column in upper.columns if any(upper[column] > 0.98)]\n",
    "# X= df_sf[high_corr]\n",
    "# sns.heatmap(X.corr(), annot=True, cmap=\"RdYlGn\")"
   ]
  },
  {
   "cell_type": "code",
   "execution_count": null,
   "metadata": {},
   "outputs": [],
   "source": [
    "# %matplotlib inline\n",
    "# plt.subplots(figsize=(20, 20))\n",
    "\n",
    "# corr_matrix = df_mf.corr()\n",
    "\n",
    "# upper = corr_matrix.where(np.triu(np.ones(corr_matrix.shape), k=1).astype(np.bool))\n",
    "# high_corr = [column for column in upper.columns if any(upper[column] > 0.95)]\n",
    "# X= df_mf[high_corr]\n",
    "# plt.subplots(figsize=(20, 20))\n",
    "# sns.heatmap(X.corr(), annot=True, cmap=\"RdYlGn\")"
   ]
  },
  {
   "cell_type": "code",
   "execution_count": null,
   "metadata": {
    "scrolled": false
   },
   "outputs": [],
   "source": [
    "%matplotlib inline\n",
    "\n",
    "selected_features = ['residential_units','res_price_per_sqft', 'pop_1500_walk', 'jobs_1500_walk',\n",
    "                     'prop_singles_1500_walk','prop_elderly_1500_walk','prop_children_1500_walk',\n",
    "                     'avg_income_1500_walk','prop_black_1500_walk', 'sqft_per_unit','prop_poor_1500_walk',\n",
    "                     'jobs_25000','prop_white_1500_walk','prop_black_1500_walk','prop_asian_1500_walk',\n",
    "                     'prop_hisp_1500_walk']\n",
    "\n",
    "X = df_mf[selected_features]\n",
    "\n",
    "plt.subplots(figsize=(12, 12))\n",
    "sns.heatmap(X.corr(), annot=True, cmap=\"RdYlGn\")\n",
    "plt.show()"
   ]
  },
  {
   "cell_type": "markdown",
   "metadata": {},
   "source": [
    "## Model Estimation"
   ]
  },
  {
   "cell_type": "markdown",
   "metadata": {},
   "source": [
    "### HLCM for Multi-Family "
   ]
  },
  {
   "cell_type": "code",
   "execution_count": 23,
   "metadata": {
    "scrolled": false
   },
   "outputs": [
    {
     "name": "stdout",
     "output_type": "stream",
     "text": [
      "                  CHOICEMODELS ESTIMATION RESULTS                  \n",
      "===================================================================\n",
      "Dep. Var.:                chosen   No. Observations:            455\n",
      "Model:         Multinomial Logit   Df Residuals:                443\n",
      "Method:       Maximum Likelihood   Df Model:                     12\n",
      "Date:                 2018-07-20   Pseudo R-squ.:             0.334\n",
      "Time:                      16:44   Pseudo R-bar-squ.:         0.328\n",
      "AIC:                   2,393.378   Log-Likelihood:       -1,184.689\n",
      "BIC:                   2,442.822   LL-Null:              -1,779.970\n",
      "================================================================================================\n",
      "                                                 coef   std err         z     P>|z|   Conf. Int.\n",
      "------------------------------------------------------------------------------------------------\n",
      "np.log(residential_units)                      1.0703     0.044    24.248     0.000             \n",
      "np.log1p(res_price_per_sqft)                  -0.2152     0.051    -4.206     0.000             \n",
      "np.log1p(sqft_per_unit)                       -0.4491     0.190    -2.366     0.018             \n",
      "np.log1p(income):np.log1p(sqft_per_unit)       0.0386     0.018     2.144     0.032             \n",
      "np.log1p(jobs_1500_walk)                       0.2452     0.078     3.143     0.002             \n",
      "np.log1p(jobs_25000)                          -0.0556     0.130    -0.426     0.670             \n",
      "np.log(income):np.log(avg_income_1500_walk)   -0.0028     0.010    -0.277     0.781             \n",
      "np.log1p(pop_1500_walk)                       -0.0385     0.137    -0.282     0.778             \n",
      "white:prop_white_500_walk                      1.1493     0.263     4.376     0.000             \n",
      "black:prop_black_500_walk                      8.6488     1.373     6.298     0.000             \n",
      "asian:prop_asian_500_walk                      2.8366     0.409     6.943     0.000             \n",
      "hispanic:prop_hisp_500_walk                    5.3456     0.466    11.472     0.000             \n",
      "================================================================================================\n",
      "CPU times: user 18 s, sys: 3.27 s, total: 21.2 s\n",
      "Wall time: 14.2 s\n"
     ]
    }
   ],
   "source": [
    "%%time\n",
    "m = LargeMultinomialLogitStep()\n",
    "m.choosers = ['households']\n",
    "m.alternatives = ['buildings','parcels','nodeswalk','nodessmall']\n",
    "m.choice_column = 'building_id'\n",
    "m.alt_sample_size = 50\n",
    "\n",
    "#Filters on choosers\n",
    "m.chooser_filters = ['building_type > 2 &\\\n",
    "                      hh_random < .2 &\\\n",
    "                      recent_mover == 1 &\\\n",
    "                      0 <income < 500000']\n",
    "\n",
    "#Filters on alternatives\n",
    "m.alt_filters = ['residential_units > 1',\n",
    "                 '0 < avg_income_500_walk < 500000',\n",
    "                 'pop_1500_walk > 0',\n",
    "                 'sqft_per_unit > 0']\n",
    "\n",
    "\n",
    "m.model_expression = ' np.log(residential_units) + \\\n",
    "np.log1p(res_price_per_sqft) + \\\n",
    "np.log1p(sqft_per_unit) + \\\n",
    "np.log1p(income):np.log1p(sqft_per_unit) + \\\n",
    "np.log1p(jobs_1500_walk) + \\\n",
    "np.log1p(jobs_25000) + \\\n",
    "np.log(income):np.log(avg_income_1500_walk) + \\\n",
    "np.log1p(pop_1500_walk) + \\\n",
    "white:prop_white_500_walk + \\\n",
    "black:prop_black_500_walk + \\\n",
    "asian:prop_asian_500_walk + \\\n",
    "hispanic:prop_hisp_500_walk\\\n",
    "- 1'\n",
    "\n",
    "m.name = 'hlcm'\n",
    "m.tags = ['multi_family','test']\n",
    "m.fit()"
   ]
  },
  {
   "cell_type": "code",
   "execution_count": null,
   "metadata": {},
   "outputs": [],
   "source": []
  },
  {
   "cell_type": "markdown",
   "metadata": {},
   "source": [
    "### HLCM for Single-Family "
   ]
  },
  {
   "cell_type": "code",
   "execution_count": null,
   "metadata": {
    "scrolled": false
   },
   "outputs": [],
   "source": [
    "%%time\n",
    "m = LargeMultinomialLogitStep()\n",
    "m.choosers = ['households']\n",
    "m.alternatives = ['buildings','parcels','nodeswalk','nodessmall']\n",
    "m.choice_column = 'building_id'\n",
    "m.alt_sample_size = 50\n",
    "\n",
    "#Filters on choosers\n",
    "m.chooser_filters = ['building_type == 2 & household_id <3000000 & recent_mover == 1 & 0 <income < 1000000']\n",
    "\n",
    "#Filters on alternatives\n",
    "m.alt_filters = ['residential_units == 1',\n",
    "                 '0 < avg_income_500_walk < 500000',\n",
    "                 'sqft_per_unit > 0']\n",
    "\n",
    "# np.log(residential_units) +\n",
    "# np.log(income):np.log(avg_income_500_walk) + \\\n",
    "# np.log1p(income):np.log1p(rich_1500_walk) + \\\n",
    "# np.log1p(income):np.log1p(poor_1500_walk) + \\\n",
    "# np.log1p(persons):np.log1p(sqft_per_unit) + \\\n",
    "\n",
    "m.model_expression = ' \\\n",
    "np.log1p(res_price_per_sqft) + \\\n",
    "np.log1p(income):np.log1p(res_price_per_sqft) + \\\n",
    "np.log1p(sqft_per_unit) + \\\n",
    "np.log1p(income):np.log1p(sqft_per_unit) + \\\n",
    "np.log1p(acres) + \\\n",
    "np.log1p(income):np.log1p(acres) + \\\n",
    "np.log1p(pop_1500_walk) + \\\n",
    "np.log1p(jobs_1500_walk) + \\\n",
    "np.log1p(jobs_25000) + \\\n",
    "single:np.log1p(singles_1500_walk) + \\\n",
    "elderly:np.log1p(elderly_hh_1500_walk) + \\\n",
    "children:np.log1p(children_1500_walk) + \\\n",
    "white:np.log1p(pop_white_1500_walk) + \\\n",
    "black:np.log1p(pop_black_1500_walk) + \\\n",
    "asian:np.log1p(pop_asian_1500_walk) + \\\n",
    "hispanic:np.log1p(pop_hisp_1500_walk) \\\n",
    "- 1'\n",
    "\n",
    "m.name = 'hlcm'\n",
    "m.tags = ['single_family', 'test']\n",
    "m.fit()"
   ]
  },
  {
   "cell_type": "code",
   "execution_count": null,
   "metadata": {},
   "outputs": [],
   "source": []
  }
 ],
 "metadata": {
  "kernelspec": {
   "display_name": "Python 3",
   "language": "python",
   "name": "python3"
  },
  "language_info": {
   "codemirror_mode": {
    "name": "ipython",
    "version": 3
   },
   "file_extension": ".py",
   "mimetype": "text/x-python",
   "name": "python",
   "nbconvert_exporter": "python",
   "pygments_lexer": "ipython3",
   "version": "3.6.5"
  },
  "toc": {
   "base_numbering": "1",
   "nav_menu": {},
   "number_sections": true,
   "sideBar": true,
   "skip_h1_title": true,
   "title_cell": "Table of Contents",
   "title_sidebar": "Contents",
   "toc_cell": true,
   "toc_position": {
    "height": "calc(100% - 180px)",
    "left": "10px",
    "top": "150px",
    "width": "165px"
   },
   "toc_section_display": true,
   "toc_window_display": true
  }
 },
 "nbformat": 4,
 "nbformat_minor": 2
}
