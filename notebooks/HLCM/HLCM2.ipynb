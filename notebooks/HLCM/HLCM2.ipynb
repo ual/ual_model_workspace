{
 "cells": [
  {
   "cell_type": "markdown",
   "metadata": {},
   "source": [
    "## HLCM 2 - with saved network vars\n",
    "Arezoo Besharati, UrbanSim, July 2018 \n"
   ]
  },
  {
   "cell_type": "code",
   "execution_count": null,
   "metadata": {},
   "outputs": [],
   "source": [
    "import os; os.chdir('../../')\n",
    "import numpy as np, pandas as pd \n",
    "import matplotlib.pyplot as plt\n",
    "import warnings;\n",
    "warnings.simplefilter('ignore')\n",
    "%load_ext autoreload\n",
    "%autoreload 2"
   ]
  },
  {
   "cell_type": "code",
   "execution_count": null,
   "metadata": {},
   "outputs": [],
   "source": [
    "from urbansim_templates import modelmanager as mm\n",
    "from urbansim_templates.models import LargeMultinomialLogitStep\n",
    "import orca\n",
    "import seaborn as sns\n",
    "%matplotlib notebook"
   ]
  },
  {
   "cell_type": "code",
   "execution_count": null,
   "metadata": {},
   "outputs": [],
   "source": [
    "pd.set_option('display.float_format', lambda x: '%.2f' % x)"
   ]
  },
  {
   "cell_type": "markdown",
   "metadata": {},
   "source": [
    "### Load data"
   ]
  },
  {
   "cell_type": "code",
   "execution_count": null,
   "metadata": {},
   "outputs": [],
   "source": [
    "# Load any script-based Orca registrations\n",
    "from scripts import datasources\n",
    "from scripts import models"
   ]
  },
  {
   "cell_type": "code",
   "execution_count": null,
   "metadata": {},
   "outputs": [],
   "source": [
    "#mm.list_steps()"
   ]
  },
  {
   "cell_type": "code",
   "execution_count": null,
   "metadata": {},
   "outputs": [],
   "source": [
    "#mm.initialize()"
   ]
  },
  {
   "cell_type": "code",
   "execution_count": null,
   "metadata": {},
   "outputs": [],
   "source": [
    "orca.list_tables()\n",
    "#orca.list_broadcasts()\n",
    "#orca.list_steps()"
   ]
  },
  {
   "cell_type": "markdown",
   "metadata": {},
   "source": [
    "### Load accessibility vars"
   ]
  },
  {
   "cell_type": "code",
   "execution_count": null,
   "metadata": {},
   "outputs": [],
   "source": [
    "%%capture\n",
    "orca.run([\"initialize_network_walk\"])"
   ]
  },
  {
   "cell_type": "code",
   "execution_count": null,
   "metadata": {},
   "outputs": [],
   "source": [
    "%%capture\n",
    "orca.run([\"initialize_network_small\"])"
   ]
  },
  {
   "cell_type": "markdown",
   "metadata": {},
   "source": [
    "### Explore the data"
   ]
  },
  {
   "cell_type": "code",
   "execution_count": null,
   "metadata": {},
   "outputs": [],
   "source": [
    "parcel = orca.get_table('parcels').to_frame()\n",
    "parcel.columns"
   ]
  },
  {
   "cell_type": "code",
   "execution_count": null,
   "metadata": {
    "scrolled": false
   },
   "outputs": [],
   "source": [
    "bld = orca.get_table('buildings').to_frame()\n",
    "bld.columns"
   ]
  },
  {
   "cell_type": "code",
   "execution_count": null,
   "metadata": {},
   "outputs": [],
   "source": [
    "bld.head()"
   ]
  },
  {
   "cell_type": "code",
   "execution_count": null,
   "metadata": {},
   "outputs": [],
   "source": [
    "bld.groupby('building_type_id')['residential_units'].sum()"
   ]
  },
  {
   "cell_type": "code",
   "execution_count": null,
   "metadata": {
    "scrolled": false
   },
   "outputs": [],
   "source": [
    "bld.describe().transpose()"
   ]
  },
  {
   "cell_type": "code",
   "execution_count": null,
   "metadata": {},
   "outputs": [],
   "source": [
    "bld.quantile(.99)"
   ]
  },
  {
   "cell_type": "code",
   "execution_count": null,
   "metadata": {},
   "outputs": [],
   "source": [
    "bld[['residential_units','residential_sqft', 'non_residential_sqft']].sum()"
   ]
  },
  {
   "cell_type": "code",
   "execution_count": null,
   "metadata": {},
   "outputs": [],
   "source": [
    "bld.building_type_id.value_counts()"
   ]
  },
  {
   "cell_type": "code",
   "execution_count": null,
   "metadata": {},
   "outputs": [],
   "source": [
    "# building_type dummies\n",
    "bld.single_family = (bld.building_type_id == 1).astype(int)\n",
    "bld.multi_family = (bld.building_type_id == 3).astype(int)\n",
    "bld.mixed_use = (bld.building_type_id > 3).astype(int)\n",
    "# add the columns\n",
    "orca.add_column('buildings', 'single_family', bld.single_family)\n",
    "orca.add_column('buildings', 'multi_family', bld.multi_family)\n",
    "orca.add_column('buildings', 'mixed_use', bld.mixed_use)"
   ]
  },
  {
   "cell_type": "code",
   "execution_count": null,
   "metadata": {},
   "outputs": [],
   "source": [
    "bld = orca.get_table('buildings').to_frame()\n",
    "bld.head()"
   ]
  },
  {
   "cell_type": "code",
   "execution_count": null,
   "metadata": {
    "scrolled": false
   },
   "outputs": [],
   "source": [
    "hh = orca.get_table('households').to_frame()\n",
    "hh.columns.tolist()"
   ]
  },
  {
   "cell_type": "code",
   "execution_count": null,
   "metadata": {},
   "outputs": [],
   "source": [
    "# scale income and create race dummies\n",
    "hh.income_k = hh.income/1000\n",
    "hh.white = (hh.race_of_head == 1).astype(int)\n",
    "hh.black = (hh.race_of_head == 2).astype(int)\n",
    "hh.asian = (hh.race_of_head == 6).astype(int)\n",
    "hh.hisp = (hh.hispanic_head == 'yes').astype(int)\n",
    "hh.single = (hh.persons == 1).astype(int)\n",
    "hh.elderly = (hh.age_of_head > 65).astype(int)\n",
    "# add the columns\n",
    "orca.add_column('households', 'income_k', hh.income_k)\n",
    "orca.add_column('households', 'white', hh.white)\n",
    "orca.add_column('households', 'black', hh.black)\n",
    "orca.add_column('households', 'asian', hh.asian)\n",
    "orca.add_column('households', 'hispanic', hh.hisp)\n",
    "orca.add_column('households', 'elderly', hh.elderly)\n",
    "orca.add_column('households', 'single', hh.single)\n"
   ]
  },
  {
   "cell_type": "code",
   "execution_count": null,
   "metadata": {},
   "outputs": [],
   "source": [
    "#bld.building_type_id.value_counts()"
   ]
  },
  {
   "cell_type": "code",
   "execution_count": null,
   "metadata": {
    "scrolled": true
   },
   "outputs": [],
   "source": [
    "nodeswalk = orca.get_table('nodeswalk').to_frame()\n",
    "nodessmall = orca.get_table('nodessmall').to_frame()\n",
    "print(nodeswalk.columns.tolist())\n",
    "print(nodessmall.columns.tolist())"
   ]
  },
  {
   "cell_type": "code",
   "execution_count": null,
   "metadata": {
    "scrolled": true
   },
   "outputs": [],
   "source": [
    "nodessmall.describe().transpose()"
   ]
  },
  {
   "cell_type": "code",
   "execution_count": null,
   "metadata": {},
   "outputs": [],
   "source": [
    "nodessmall_upper = nodessmall.quantile(.99)\n",
    "nodessmall_upper"
   ]
  },
  {
   "cell_type": "code",
   "execution_count": null,
   "metadata": {},
   "outputs": [],
   "source": [
    "nodessmall_clipped = nodessmall.clip_upper(nodessmall_upper, axis=1) \n",
    "nodessmall_clipped.describe().transpose()"
   ]
  },
  {
   "cell_type": "code",
   "execution_count": null,
   "metadata": {},
   "outputs": [],
   "source": [
    "orca.add_table('nodessmall', nodessmall_clipped)"
   ]
  },
  {
   "cell_type": "code",
   "execution_count": null,
   "metadata": {
    "scrolled": false
   },
   "outputs": [],
   "source": [
    "nodeswalk.describe().transpose()"
   ]
  },
  {
   "cell_type": "code",
   "execution_count": null,
   "metadata": {
    "scrolled": true
   },
   "outputs": [],
   "source": [
    "nodeswalk_upper = nodeswalk.quantile(.99)\n",
    "nodeswalk_upper"
   ]
  },
  {
   "cell_type": "code",
   "execution_count": null,
   "metadata": {
    "scrolled": true
   },
   "outputs": [],
   "source": [
    "#DataFrame.clip_upper(threshold, axis=None, inplace=False)\n",
    "nodeswalk_clipped = nodeswalk.clip_upper(nodeswalk_upper, axis=1) \n",
    "nodeswalk_clipped.describe().transpose()"
   ]
  },
  {
   "cell_type": "code",
   "execution_count": null,
   "metadata": {},
   "outputs": [],
   "source": [
    "nodeswalk['prop_children_500_walk'] = (nodeswalk['children_500_walk'] > 0).astype(int) / nodeswalk['hh_500_walk']\n",
    "nodeswalk['prop_singles_500_walk'] = nodeswalk['singles_500_walk'] / nodeswalk['hh_500_walk']\n",
    "nodeswalk['prop_elderly_500_walk'] = nodeswalk['elderly_hh_500_walk'] / nodeswalk['hh_500_walk']\n",
    "nodeswalk['prop_black_500_walk'] = nodeswalk['pop_black_500_walk'] / nodeswalk['pop_500_walk']\n",
    "nodeswalk['prop_white_500_walk'] = nodeswalk['pop_white_500_walk'] / nodeswalk['pop_500_walk']\n",
    "nodeswalk['prop_asian_500_walk'] = nodeswalk['pop_asian_500_walk'] / nodeswalk['pop_500_walk']\n",
    "nodeswalk['prop_hisp_500_walk'] = nodeswalk['pop_hisp_500_walk'] / nodeswalk['pop_500_walk']\n",
    "nodeswalk['prop_rich_500_walk'] = nodeswalk['rich_500_walk'] / nodeswalk['pop_500_walk']\n",
    "nodeswalk['prop_poor_500_walk'] = nodeswalk['poor_500_walk'] / nodeswalk['pop_500_walk']\n",
    "\n",
    "nodeswalk['prop_children_1500_walk'] = (nodeswalk['children_1500_walk'] > 0).astype(int) / nodeswalk['hh_1500_walk']\n",
    "nodeswalk['prop_singles_1500_walk'] = nodeswalk['singles_1500_walk'] / nodeswalk['hh_1500_walk']\n",
    "nodeswalk['prop_elderly_1500_walk'] = nodeswalk['elderly_hh_1500_walk'] / nodeswalk['hh_1500_walk']\n",
    "nodeswalk['prop_black_1500_walk'] = nodeswalk['pop_black_1500_walk'] / nodeswalk['pop_1500_walk']\n",
    "nodeswalk['prop_white_1500_walk'] = nodeswalk['pop_white_1500_walk'] / nodeswalk['pop_1500_walk']\n",
    "nodeswalk['prop_asian_1500_walk'] = nodeswalk['pop_asian_1500_walk'] / nodeswalk['pop_1500_walk']\n",
    "nodeswalk['prop_hisp_1500_walk'] = nodeswalk['pop_hisp_1500_walk'] / nodeswalk['pop_1500_walk']\n",
    "nodeswalk['prop_rich_1500_walk'] = nodeswalk['rich_1500_walk'] / nodeswalk['pop_1500_walk']\n",
    "nodeswalk['prop_poor_1500_walk'] = nodeswalk['poor_1500_walk'] / nodeswalk['pop_1500_walk']"
   ]
  },
  {
   "cell_type": "code",
   "execution_count": null,
   "metadata": {},
   "outputs": [],
   "source": [
    "orca.add_table('nodeswalk', nodeswalk_clipped)"
   ]
  },
  {
   "cell_type": "code",
   "execution_count": null,
   "metadata": {},
   "outputs": [],
   "source": [
    "#bld.stories.value_counts().plot(kind='bar')\n",
    "#bld.stories.value_counts()"
   ]
  },
  {
   "cell_type": "markdown",
   "metadata": {},
   "source": [
    "## Get the predicted price from REPM"
   ]
  },
  {
   "cell_type": "code",
   "execution_count": null,
   "metadata": {},
   "outputs": [],
   "source": [
    "#orca.run(['hedonic_rent_sqft'])"
   ]
  },
  {
   "cell_type": "markdown",
   "metadata": {},
   "source": [
    "## Check Distributions"
   ]
  },
  {
   "cell_type": "code",
   "execution_count": null,
   "metadata": {},
   "outputs": [],
   "source": [
    "hh['building_type']= hh['building_type'].astype(int)\n",
    "hh_singlefamily=hh[hh['building_type']==2]\n",
    "hh_multifamily=hh[hh['building_type']!=2]"
   ]
  },
  {
   "cell_type": "code",
   "execution_count": null,
   "metadata": {},
   "outputs": [],
   "source": [
    "hh_income_upper = hh_singlefamily.income.quantile(0.99)\n",
    "len(hh[hh['income']>hh_income_upper])"
   ]
  },
  {
   "cell_type": "code",
   "execution_count": null,
   "metadata": {
    "scrolled": false
   },
   "outputs": [],
   "source": [
    "hh_singlefamily.income.plot(kind='hist',bins=100)\n",
    "print(hh_singlefamily.income.quantile([0.10,0.5,0.9,0.99,1]))"
   ]
  },
  {
   "cell_type": "code",
   "execution_count": null,
   "metadata": {},
   "outputs": [],
   "source": [
    "hh_singlefamily.income.plot(kind='hist',bins=100)\n",
    "print(hh_singlefamily.income.quantile([0.10,0.5,0.9,0.99,1]))"
   ]
  },
  {
   "cell_type": "code",
   "execution_count": null,
   "metadata": {
    "scrolled": false
   },
   "outputs": [],
   "source": [
    "%matplotlib notebook\n",
    "ax = sns.boxplot(x = hh_singlefamily.income,palette=\"Set2\", width=0.5)\n"
   ]
  },
  {
   "cell_type": "code",
   "execution_count": null,
   "metadata": {
    "scrolled": false
   },
   "outputs": [],
   "source": [
    "%matplotlib notebook\n",
    "ax = sns.boxplot(x = hh_multifamily.income,palette=\"Set2\", width=0.5)"
   ]
  },
  {
   "cell_type": "code",
   "execution_count": null,
   "metadata": {
    "scrolled": false
   },
   "outputs": [],
   "source": [
    "%matplotlib notebook\n",
    "hh_multifamily.income.plot(kind='hist',bins=100)\n",
    "print(hh_multifamily.income.quantile([0.10,0.5,0.9,0.99,1]))"
   ]
  },
  {
   "cell_type": "code",
   "execution_count": null,
   "metadata": {},
   "outputs": [],
   "source": [
    "%matplotlib notebook\n",
    "hh_singlefamily.income.plot(kind='hist',bins=100)\n",
    "print(hh_singlefamily.income.quantile([0.10,0.5,0.9,0.99,1]))"
   ]
  },
  {
   "cell_type": "markdown",
   "metadata": {},
   "source": [
    "## Check for Multicollinearity"
   ]
  },
  {
   "cell_type": "code",
   "execution_count": null,
   "metadata": {},
   "outputs": [],
   "source": [
    "df = orca.merge_tables(target = 'buildings', tables = ['buildings','parcels','nodeswalk','nodessmall'])\n",
    "#df.columns.tolist()\n",
    "df_sf= df[df['residential_units']==1]\n",
    "df_mf= df[df['residential_units']>1]"
   ]
  },
  {
   "cell_type": "code",
   "execution_count": null,
   "metadata": {},
   "outputs": [],
   "source": [
    "%matplotlib notebook\n",
    "df_sf.avg_income_1500_walk.plot(kind='hist',bins=100)\n",
    "plt.show()\n",
    "print(df_sf.avg_income_1500_walk.quantile([0.10,0.5,0.9,0.99,1]))"
   ]
  },
  {
   "cell_type": "code",
   "execution_count": null,
   "metadata": {},
   "outputs": [],
   "source": [
    "%matplotlib notebook\n",
    "\n",
    "df_mf.avg_income_1500_walk.plot(kind='hist',bins=100)\n",
    "plt.show()\n",
    "print(df_mf.avg_income_1500_walk.quantile([0.10,0.5,0.9,0.99,1]))"
   ]
  },
  {
   "cell_type": "code",
   "execution_count": null,
   "metadata": {},
   "outputs": [],
   "source": [
    "%matplotlib inline\n",
    "plt.subplots(figsize=(20, 20))\n",
    "\n",
    "\n",
    "# Create correlation matrix\n",
    "corr_matrix = df_sf.corr().abs()\n",
    "\n",
    "# Select upper triangle of correlation matrix\n",
    "upper = corr_matrix.where(np.triu(np.ones(corr_matrix.shape), k=1).astype(np.bool))\n",
    "high_corr = [column for column in upper.columns if any(upper[column] > 0.98)]\n",
    "X= df_sf[high_corr]\n",
    "sns.heatmap(X.corr(), annot=True, cmap=\"RdYlGn\")"
   ]
  },
  {
   "cell_type": "code",
   "execution_count": null,
   "metadata": {},
   "outputs": [],
   "source": [
    "%matplotlib inline\n",
    "plt.subplots(figsize=(20, 20))\n",
    "\n",
    "# Create correlation matrix\n",
    "corr_matrix = df_mf.corr()\n",
    "\n",
    "# Select upper triangle of correlation matrix\n",
    "upper = corr_matrix.where(np.triu(np.ones(corr_matrix.shape), k=1).astype(np.bool))\n",
    "high_corr = [column for column in upper.columns if any(upper[column] > 0.95)]\n",
    "X= df_mf[high_corr]\n",
    "plt.subplots(figsize=(20, 20))\n",
    "sns.heatmap(X.corr(), annot=True, cmap=\"RdYlGn\")"
   ]
  },
  {
   "cell_type": "code",
   "execution_count": null,
   "metadata": {},
   "outputs": [],
   "source": []
  },
  {
   "cell_type": "markdown",
   "metadata": {},
   "source": [
    "## Model Estimation"
   ]
  },
  {
   "cell_type": "code",
   "execution_count": null,
   "metadata": {
    "scrolled": false
   },
   "outputs": [],
   "source": [
    "%%time\n",
    "m = LargeMultinomialLogitStep()\n",
    "m.choosers = ['households']\n",
    "m.alternatives = ['buildings','parcels','nodeswalk','nodessmall']\n",
    "m.choice_column = 'building_id'\n",
    "m.alt_sample_size = 50\n",
    "\n",
    "#Filters on choosers\n",
    "m.chooser_filters = ['building_type == 2 & household_id <3000000 & recent_mover == 1 & 0 <income < 1000000']\n",
    "\n",
    "#Filters on alternatives\n",
    "m.alt_filters = ['residential_units == 1',\n",
    "                 '0 < avg_income_500_walk < 500000',\n",
    "                 'sqft_per_unit > 0']\n",
    "\n",
    "# np.log(residential_units) +\n",
    "# np.log(income):np.log(avg_income_500_walk) + \\\n",
    "# np.log1p(income):np.log1p(rich_1500_walk) + \\\n",
    "# np.log1p(income):np.log1p(poor_1500_walk) + \\\n",
    "# np.log1p(persons):np.log1p(sqft_per_unit) + \\\n",
    "\n",
    "m.model_expression = ' \\\n",
    "np.log1p(res_price_per_sqft) + \\\n",
    "np.log1p(income):np.log1p(res_price_per_sqft) + \\\n",
    "np.log1p(sqft_per_unit) + \\\n",
    "np.log1p(income):np.log1p(sqft_per_unit) + \\\n",
    "np.log1p(acres) + \\\n",
    "np.log1p(income):np.log1p(acres) + \\\n",
    "np.log1p(pop_1500_walk) + \\\n",
    "np.log1p(jobs_1500_walk) + \\\n",
    "np.log1p(jobs_25000) + \\\n",
    "single:np.log1p(singles_1500_walk) + \\\n",
    "elderly:np.log1p(elderly_hh_1500_walk) + \\\n",
    "children:np.log1p(children_1500_walk) + \\\n",
    "white:np.log1p(pop_white_1500_walk) + \\\n",
    "black:np.log1p(pop_black_1500_walk) + \\\n",
    "asian:np.log1p(pop_asian_1500_walk) + \\\n",
    "hispanic:np.log1p(pop_hisp_1500_walk) \\\n",
    "- 1'\n",
    "\n",
    "m.name = 'hlcm'\n",
    "m.tags = ['arezoo', 'test']\n",
    "m.fit()"
   ]
  },
  {
   "cell_type": "code",
   "execution_count": null,
   "metadata": {},
   "outputs": [],
   "source": [
    "%%time\n",
    "m = LargeMultinomialLogitStep()\n",
    "m.choosers = ['households']\n",
    "m.alternatives = ['buildings','parcels','nodeswalk','nodessmall']\n",
    "m.choice_column = 'building_id'\n",
    "m.alt_sample_size = 50\n",
    "\n",
    "#Filters on choosers\n",
    "m.chooser_filters = ['building_type > 2 & household_id <1000000 & recent_mover == 1 & 0 <income < 600000']\n",
    "\n",
    "#Filters on alternatives\n",
    "m.alt_filters = ['residential_units > 1',\n",
    "                 '0 < avg_income_500_walk < 500000',\n",
    "                 'sqft_per_unit > 0']\n",
    "\n",
    "# np.log(residential_units) +\n",
    "\n",
    "m.model_expression = ' np.log(residential_units) + \\\n",
    "np.log1p(res_price_per_sqft) + \\\n",
    "np.log1p(sqft_per_unit) + \\\n",
    "np.log1p(income):np.log1p(sqft_per_unit) + \\\n",
    "np.log1p(jobs_1500_walk) + \\\n",
    "np.log1p(jobs_25000) + \\\n",
    "np.log(income):np.log(avg_income_1500_walk) + \\\n",
    "np.log1p(pop_1500_walk) + \\\n",
    "white:np.log1p(pop_white_1500_walk) + \\\n",
    "black:np.log1p(pop_black_1500_walk) + \\\n",
    "asian:np.log1p(pop_asian_1500_walk) + \\\n",
    "hispanic:np.log1p(pop_hisp_1500_walk) \\\n",
    "- 1'\n",
    "\n",
    "m.name = 'hlcm'\n",
    "m.tags = ['arezoo', 'test']\n",
    "m.fit()"
   ]
  },
  {
   "cell_type": "code",
   "execution_count": null,
   "metadata": {},
   "outputs": [],
   "source": [
    "## Check for multicolinearity"
   ]
  },
  {
   "cell_type": "code",
   "execution_count": null,
   "metadata": {},
   "outputs": [],
   "source": [
    "df = orca.merge_tables(target = 'buildings', tables = ['buildings','parcels','nodeswalk','nodessmall'])\n"
   ]
  },
  {
   "cell_type": "code",
   "execution_count": null,
   "metadata": {
    "scrolled": false
   },
   "outputs": [],
   "source": [
    "Selected_features = ['residential_units','res_price_per_sqft', 'pop_500_walk', 'jobs_1500_walk','singles_1500_walk',\n",
    "                     'elderly_hh_1500_walk','children_1500_walk',\n",
    "                     'avg_income_1500_walk','pop_black_1500_walk', 'sqft_per_unit',\n",
    "                     'jobs_25000','pop_white_1500_walk','pop_black_1500_walk','pop_asian_1500_walk',\n",
    "                     'pop_hisp_1500_walk']\n",
    "\n",
    "X = df_mf[Selected_features]\n",
    "\n",
    "plt.subplots(figsize=(12, 12))\n",
    "sns.heatmap(X.corr(), annot=True, cmap=\"RdYlGn\")\n",
    "plt.show()"
   ]
  },
  {
   "cell_type": "code",
   "execution_count": null,
   "metadata": {},
   "outputs": [],
   "source": []
  }
 ],
 "metadata": {
  "kernelspec": {
   "display_name": "Python 3",
   "language": "python",
   "name": "python3"
  },
  "language_info": {
   "codemirror_mode": {
    "name": "ipython",
    "version": 3
   },
   "file_extension": ".py",
   "mimetype": "text/x-python",
   "name": "python",
   "nbconvert_exporter": "python",
   "pygments_lexer": "ipython3",
   "version": "3.6.5"
  },
  "toc": {
   "base_numbering": 1,
   "nav_menu": {},
   "number_sections": true,
   "sideBar": true,
   "skip_h1_title": false,
   "title_cell": "Table of Contents",
   "title_sidebar": "Contents",
   "toc_cell": false,
   "toc_position": {},
   "toc_section_display": true,
   "toc_window_display": false
  }
 },
 "nbformat": 4,
 "nbformat_minor": 2
}
