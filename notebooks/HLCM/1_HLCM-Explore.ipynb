{
 "cells": [
  {
   "cell_type": "markdown",
   "metadata": {},
   "source": [
    "## HLCM Experiment\n",
    "Arezoo Besharati, UrbanSim, July 2018 \n"
   ]
  },
  {
   "cell_type": "code",
   "execution_count": null,
   "metadata": {},
   "outputs": [],
   "source": [
    "import os; os.chdir('../../')\n",
    "import numpy as np, pandas as pd \n",
    "import matplotlib.pyplot as plt\n",
    "import warnings;\n",
    "warnings.simplefilter('ignore')"
   ]
  },
  {
   "cell_type": "code",
   "execution_count": null,
   "metadata": {},
   "outputs": [],
   "source": [
    "from urbansim_templates import modelmanager as mm\n",
    "from urbansim_templates.models import LargeMultinomialLogitStep\n",
    "import orca\n",
    "import seaborn as sns\n",
    "%matplotlib notebook"
   ]
  },
  {
   "cell_type": "markdown",
   "metadata": {},
   "source": [
    "### Load data"
   ]
  },
  {
   "cell_type": "code",
   "execution_count": null,
   "metadata": {},
   "outputs": [],
   "source": [
    "# Load any script-based Orca registrations\n",
    "from scripts import datasources\n",
    "from scripts import models"
   ]
  },
  {
   "cell_type": "code",
   "execution_count": null,
   "metadata": {},
   "outputs": [],
   "source": [
    "#mm.list_steps()"
   ]
  },
  {
   "cell_type": "code",
   "execution_count": null,
   "metadata": {},
   "outputs": [],
   "source": [
    "#mm.initialize()"
   ]
  },
  {
   "cell_type": "code",
   "execution_count": null,
   "metadata": {},
   "outputs": [],
   "source": [
    "orca.list_tables()\n",
    "orca.list_broadcasts()\n",
    "#orca.list_steps()"
   ]
  },
  {
   "cell_type": "markdown",
   "metadata": {},
   "source": [
    "### Load accessibility vars"
   ]
  },
  {
   "cell_type": "code",
   "execution_count": null,
   "metadata": {},
   "outputs": [],
   "source": [
    "%%capture\n",
    "orca.run([\"initialize_network_walk\"])"
   ]
  },
  {
   "cell_type": "code",
   "execution_count": null,
   "metadata": {},
   "outputs": [],
   "source": [
    "%%capture\n",
    "orca.run([\"initialize_network_small\"])"
   ]
  },
  {
   "cell_type": "markdown",
   "metadata": {},
   "source": [
    "### Explore the data"
   ]
  },
  {
   "cell_type": "code",
   "execution_count": null,
   "metadata": {},
   "outputs": [],
   "source": [
    "bld = orca.get_table('buildings').to_frame()\n",
    "bld.columns.tolist()"
   ]
  },
  {
   "cell_type": "code",
   "execution_count": null,
   "metadata": {
    "scrolled": false
   },
   "outputs": [],
   "source": [
    "hh = orca.get_table('households').to_frame()\n",
    "hh.columns.tolist()"
   ]
  },
  {
   "cell_type": "markdown",
   "metadata": {},
   "source": [
    "### Some Data Processing"
   ]
  },
  {
   "cell_type": "code",
   "execution_count": null,
   "metadata": {},
   "outputs": [],
   "source": [
    "# scale the income\n",
    "hh.income_cl= hh.income/1000\n",
    "# update the column\n",
    "orca.get_table('households').update_col_from_series('income', hh.income_cl)"
   ]
  },
  {
   "cell_type": "code",
   "execution_count": null,
   "metadata": {},
   "outputs": [],
   "source": [
    "hh.building_type.head()"
   ]
  },
  {
   "cell_type": "code",
   "execution_count": null,
   "metadata": {},
   "outputs": [],
   "source": [
    "hh['building_type']= hh['building_type'].astype(int)\n",
    "hh_singlefamily=hh[hh['building_type']==2]\n",
    "hh_multifamily=hh[hh['building_type']!=2]"
   ]
  },
  {
   "cell_type": "code",
   "execution_count": null,
   "metadata": {
    "scrolled": false
   },
   "outputs": [],
   "source": [
    "hh_singlefamily.income.plot(kind='hist',bins=100)\n",
    "print(hh_singlefamily.income.quantile([0.10,0.5,0.9,0.99,1]))"
   ]
  },
  {
   "cell_type": "code",
   "execution_count": null,
   "metadata": {},
   "outputs": [],
   "source": [
    "hh_singlefamily.income.plot(kind='hist',bins=100)\n",
    "print(hh_singlefamily.income.quantile([0.10,0.5,0.9,0.99,1]))"
   ]
  },
  {
   "cell_type": "code",
   "execution_count": null,
   "metadata": {
    "scrolled": false
   },
   "outputs": [],
   "source": [
    "%matplotlib notebook\n",
    "ax = sns.boxplot(x = hh_singlefamily.income,palette=\"Set2\", width=0.5)\n"
   ]
  },
  {
   "cell_type": "code",
   "execution_count": null,
   "metadata": {
    "scrolled": false
   },
   "outputs": [],
   "source": [
    "%matplotlib notebook\n",
    "ax = sns.boxplot(x = hh_multifamily.income,palette=\"Set2\", width=0.5)"
   ]
  },
  {
   "cell_type": "code",
   "execution_count": null,
   "metadata": {},
   "outputs": [],
   "source": [
    "hh_multifamily.income.plot(kind='hist',bins=100)\n",
    "print(hh_multifamily.income.quantile([0.10,0.5,0.9,0.99,1]))"
   ]
  },
  {
   "cell_type": "code",
   "execution_count": null,
   "metadata": {},
   "outputs": [],
   "source": [
    "# Create a dummy for if a building type is single family \n",
    "bld.is_building_type_id_1=(bld.building_type_id == 1).astype(int)\n",
    "orca.add_column('buildings', 'is_building_type_id_1', bld.is_building_type_id_1)\n",
    "\n",
    "\n",
    "# Create a dummy for if a year built is after 1950\n",
    "bld.is_year_built_after_1950=(bld.year_built>1950).astype(int)\n",
    "orca.add_column('buildings', 'is_year_built_after_1950', bld.is_year_built_after_1950)\n",
    "\n",
    "# Create a dummy for if a building stories is less than 5\n",
    "bld.is_stories_less_than_5=(bld.stories<5).astype(int)\n",
    "orca.add_column('buildings', 'is_stories_less_than_5', bld.is_stories_less_than_5)\n",
    "\n",
    "# Create dummy for white\n",
    "\n",
    "hh.white = (hh.race_of_head == 1).astype(int)\n",
    "hh.hisp = (hh.hispanic_head == 'yes').astype(int)\n",
    "\n",
    "orca.add_column('households', 'white', hh.white)\n",
    "orca.add_column('households', 'hispanic', hh.hisp)\n"
   ]
  },
  {
   "cell_type": "code",
   "execution_count": null,
   "metadata": {},
   "outputs": [],
   "source": [
    "nodeswalk= orca.get_table('nodeswalk').to_frame()\n",
    "nodessmall= orca.get_table('nodessmall').to_frame()\n",
    "print(nodeswalk.columns.tolist())\n",
    "print(nodessmall.columns.tolist())"
   ]
  },
  {
   "cell_type": "code",
   "execution_count": null,
   "metadata": {},
   "outputs": [],
   "source": [
    "\n",
    "#np.log1p(nodeswalk.pop_white_500_walk[nodeswalk['pop_white_500_walk']>0]).plot(kind='hist', bins= 100)\n",
    "#nodeswalk.pop_white_500_walk.quantile([0.10,0.5,0.9,0.99,1])\n",
    "#np.log(nodeswalk.pop_white_1500_walk+1).plot(kind='hist', bins= 100)\n",
    "# nodeswalk.pop_1500_walk.plot(kind='hist',bins=100)\n",
    "# nodeswalk.pop_1500_walk.quantile([0.10,0.5,0.9,0.99,1])\n",
    "#np.cbrt(nodeswalk.pop_1500_walk).plot(kind='hist', bins= 100)\n",
    "#np.log1p(nodeswalk.pop_1500_walk).plot(kind='hist', bins= 100)\n",
    "# hh.building_type.value_counts().plot(kind='bar')\n",
    "# hh.building_type.value_counts()\n",
    "\n",
    "# bld.building_type_id.value_counts().sort_index().plot(kind='bar')\n",
    "# bld.building_type_id.value_counts().sort_index()\n",
    "\n",
    "#bld.stories.value_counts().plot(kind='bar')\n",
    "#bld.stories.value_counts()"
   ]
  },
  {
   "cell_type": "markdown",
   "metadata": {},
   "source": [
    "## Get the predicted price from REPM"
   ]
  },
  {
   "cell_type": "code",
   "execution_count": null,
   "metadata": {},
   "outputs": [],
   "source": [
    "#orca.run(['hedonic_rent_sqft'])"
   ]
  },
  {
   "cell_type": "markdown",
   "metadata": {},
   "source": [
    "## Model Estimation"
   ]
  },
  {
   "cell_type": "code",
   "execution_count": null,
   "metadata": {
    "scrolled": true
   },
   "outputs": [],
   "source": [
    "%%time\n",
    "m = LargeMultinomialLogitStep()\n",
    "m.choosers = ['households']\n",
    "m.alternatives = ['buildings','parcels','nodeswalk','nodessmall']\n",
    "m.choice_column = 'building_id'\n",
    "m.alt_sample_size = 50\n",
    "\n",
    "#Filters on choosers\n",
    "m.chooser_filters = ['household_id <50000 & recent_mover == 1 & 0 <income < 600000']\n",
    "\n",
    "#Filters on alternatives\n",
    "m.alt_filters = ['residential_units!=0',\n",
    "                 '0 < avg_income_500_walk < 300000',\n",
    "                 '0 < pop_1500_walk < 50000',\n",
    "                 '0 < pop_white_1500_walk < 30000',\n",
    "                 'sqft_per_unit > 0',\n",
    "                 'stories > 0']\n",
    "\n",
    "m.model_expression = 'np.log1p(res_price_per_sqft)+\\\n",
    "                      np.log(residential_units)+\\\n",
    "                      np.cbrt(pop_1500_walk)+\\\n",
    "                      np.log(avg_income_500_walk):np.log(income)+\\\n",
    "                      np.log1p(pop_hisp_1500_walk)+\\\n",
    "                      np.log1p(pop_black_1500_walk)+\\\n",
    "                      np.log1p(jobs_25000)+\\\n",
    "                      np.log1p(pop_white_1500_walk):white +\\\n",
    "                      is_year_built_after_1950+\\\n",
    "                      is_stories_less_than_5+\\\n",
    "                      np.log1p(sqft_per_unit) - 1'\n",
    "\n",
    "m.name = 'hlcm'\n",
    "m.tags = ['arezoo', 'test']\n",
    "m.fit()"
   ]
  },
  {
   "cell_type": "markdown",
   "metadata": {},
   "source": [
    "### Check for multicolinearity"
   ]
  },
  {
   "cell_type": "code",
   "execution_count": null,
   "metadata": {},
   "outputs": [],
   "source": [
    "df = orca.merge_tables(target = 'buildings', tables = ['buildings','parcels','nodeswalk','nodessmall'])\n",
    "#df.columns.tolist()\n",
    "df_sf= df[df['residential_units']==1]\n",
    "df_mf= df[(df['residential_units']!=1)&(df['residential_units']!=0)]"
   ]
  },
  {
   "cell_type": "code",
   "execution_count": null,
   "metadata": {},
   "outputs": [],
   "source": [
    "%matplotlib notebook\n",
    "\n",
    "df_sf.avg_income_1500_walk.plot(kind='hist',bins=100)\n",
    "plt.show()\n",
    "print(df_sf.avg_income_1500_walk.quantile([0.10,0.5,0.9,0.99,1]))"
   ]
  },
  {
   "cell_type": "code",
   "execution_count": null,
   "metadata": {},
   "outputs": [],
   "source": [
    "%matplotlib notebook\n",
    "\n",
    "df_mf.avg_income_1500_walk.plot(kind='hist',bins=100)\n",
    "plt.show()\n",
    "print(df_mf.avg_income_1500_walk.quantile([0.10,0.5,0.9,0.99,1]))"
   ]
  },
  {
   "cell_type": "code",
   "execution_count": null,
   "metadata": {},
   "outputs": [],
   "source": [
    "%matplotlib inline\n",
    "plt.subplots(figsize=(20, 20))\n",
    "\n",
    "\n",
    "# Create correlation matrix\n",
    "corr_matrix = df_sf.corr()\n",
    "\n",
    "# Select upper triangle of correlation matrix\n",
    "upper = corr_matrix.where(np.triu(np.ones(corr_matrix.shape), k=1).astype(np.bool))\n",
    "high_corr = [column for column in upper.columns if any(upper[column] > 0.95)]\n",
    "X= df_sf[high_corr]\n",
    "sns.heatmap(X.corr(), annot=True, cmap=\"RdYlGn\")"
   ]
  },
  {
   "cell_type": "code",
   "execution_count": null,
   "metadata": {},
   "outputs": [],
   "source": [
    "%matplotlib inline\n",
    "plt.subplots(figsize=(20, 20))\n",
    "\n",
    "# Create correlation matrix\n",
    "corr_matrix = df_mf.corr()\n",
    "\n",
    "# Select upper triangle of correlation matrix\n",
    "upper = corr_matrix.where(np.triu(np.ones(corr_matrix.shape), k=1).astype(np.bool))\n",
    "high_corr = [column for column in upper.columns if any(upper[column] > 0.95)]\n",
    "X= df_mf[high_corr]\n",
    "plt.subplots(figsize=(20, 20))\n",
    "sns.heatmap(X.corr(), annot=True, cmap=\"RdYlGn\")"
   ]
  },
  {
   "cell_type": "code",
   "execution_count": null,
   "metadata": {
    "scrolled": false
   },
   "outputs": [],
   "source": [
    "%matplotlib inline\n",
    "Selected_features = ['res_price_per_sqft', 'residential_units','pop_500_walk',\n",
    "                     'jobs_1500_walk','pop_white_500_walk',\n",
    "                     'avg_income_500_walk','pop_black_1500_walk', 'sqft_per_unit','jobs_25000']\n",
    "X = df[Selected_features]\n",
    "\n",
    "plt.subplots(figsize=(8, 8))\n",
    "sns.heatmap(X.corr(), annot=True, cmap=\"RdYlGn\")\n",
    "plt.show()"
   ]
  },
  {
   "cell_type": "code",
   "execution_count": null,
   "metadata": {},
   "outputs": [],
   "source": []
  }
 ],
 "metadata": {
  "kernelspec": {
   "display_name": "Python 3",
   "language": "python",
   "name": "python3"
  },
  "language_info": {
   "codemirror_mode": {
    "name": "ipython",
    "version": 3
   },
   "file_extension": ".py",
   "mimetype": "text/x-python",
   "name": "python",
   "nbconvert_exporter": "python",
   "pygments_lexer": "ipython3",
   "version": "3.6.5"
  },
  "toc": {
   "base_numbering": 1,
   "nav_menu": {},
   "number_sections": true,
   "sideBar": true,
   "skip_h1_title": false,
   "title_cell": "Table of Contents",
   "title_sidebar": "Contents",
   "toc_cell": false,
   "toc_position": {},
   "toc_section_display": true,
   "toc_window_display": false
  }
 },
 "nbformat": 4,
 "nbformat_minor": 2
}
