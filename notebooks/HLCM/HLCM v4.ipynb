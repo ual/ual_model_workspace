{
 "cells": [
  {
   "cell_type": "markdown",
   "metadata": {},
   "source": [
    "# Household Location Choice Model (HLCM) for Single and Multi Family Housing  \n"
   ]
  },
  {
   "cell_type": "markdown",
   "metadata": {},
   "source": [
    "Arezoo Besharati, Paul Waddell, UrbanSim, July 2018 \n",
    "\n",
    "This notebook demonstrates the use of the LargeMultinomialLogit model template to construct, estimate, and evaluate a Household Location Choice Model for the San Francisco Bay Area.\n",
    "\n",
    "In the process of developing the model, we also demonstrate some data checking and transformations to improve the model.\n",
    "\n",
    "The model structure and specification are informed and limited by the available data, which is based on the data used by the Metropolitan Transportation Commission for their operational model."
   ]
  },
  {
   "cell_type": "markdown",
   "metadata": {
    "toc": true
   },
   "source": [
    "<h1>Table of Contents<span class=\"tocSkip\"></span></h1>\n",
    "<div class=\"toc\"><ul class=\"toc-item\"><li><span><a href=\"#Preliminaries\" data-toc-modified-id=\"Preliminaries-1\"><span class=\"toc-item-num\">1&nbsp;&nbsp;</span>Preliminaries</a></span><ul class=\"toc-item\"><li><span><a href=\"#Load-data\" data-toc-modified-id=\"Load-data-1.1\"><span class=\"toc-item-num\">1.1&nbsp;&nbsp;</span>Load data</a></span></li></ul></li><li><span><a href=\"#Create-Additional-Household-and-Building-Variables\" data-toc-modified-id=\"Create-Additional-Household-and-Building-Variables-2\"><span class=\"toc-item-num\">2&nbsp;&nbsp;</span>Create Additional Household and Building Variables</a></span></li><li><span><a href=\"#Model-Estimation\" data-toc-modified-id=\"Model-Estimation-3\"><span class=\"toc-item-num\">3&nbsp;&nbsp;</span>Model Estimation</a></span><ul class=\"toc-item\"><li><span><a href=\"#Initialize-rent_sqft-by-Running-the-Hedonic-Regression\" data-toc-modified-id=\"Initialize-rent_sqft-by-Running-the-Hedonic-Regression-3.1\"><span class=\"toc-item-num\">3.1&nbsp;&nbsp;</span>Initialize rent_sqft by Running the Hedonic Regression</a></span></li><li><span><a href=\"#Large-Choice-Set-Single-Family\" data-toc-modified-id=\"Large-Choice-Set-Single-Family-3.2\"><span class=\"toc-item-num\">3.2&nbsp;&nbsp;</span>Large Choice Set Single-Family</a></span></li><li><span><a href=\"#Large-Choice-Set-Multi-Family\" data-toc-modified-id=\"Large-Choice-Set-Multi-Family-3.3\"><span class=\"toc-item-num\">3.3&nbsp;&nbsp;</span>Large Choice Set Multi-Family</a></span></li></ul></li><li><span><a href=\"#Create-a-Chooser-Filter-and-Tag-Their-Buildings\" data-toc-modified-id=\"Create-a-Chooser-Filter-and-Tag-Their-Buildings-4\"><span class=\"toc-item-num\">4&nbsp;&nbsp;</span>Create a Chooser Filter and Tag Their Buildings</a></span></li><li><span><a href=\"#Add-Flag-to-Buildings-Table-Identifying-Chosen-Buildings\" data-toc-modified-id=\"Add-Flag-to-Buildings-Table-Identifying-Chosen-Buildings-5\"><span class=\"toc-item-num\">5&nbsp;&nbsp;</span>Add Flag to Buildings Table Identifying Chosen Buildings</a></span><ul class=\"toc-item\"><li><span><a href=\"#Constrained-Choice-Set-Single_Family\" data-toc-modified-id=\"Constrained-Choice-Set-Single_Family-5.1\"><span class=\"toc-item-num\">5.1&nbsp;&nbsp;</span>Constrained Choice Set Single_Family</a></span></li><li><span><a href=\"#Constrained-Choice-Set-Multi_Family\" data-toc-modified-id=\"Constrained-Choice-Set-Multi_Family-5.2\"><span class=\"toc-item-num\">5.2&nbsp;&nbsp;</span>Constrained Choice Set Multi_Family</a></span></li></ul></li><li><span><a href=\"#Model-Prediction\" data-toc-modified-id=\"Model-Prediction-6\"><span class=\"toc-item-num\">6&nbsp;&nbsp;</span>Model Prediction</a></span></li></ul></div>"
   ]
  },
  {
   "cell_type": "markdown",
   "metadata": {},
   "source": [
    "## Preliminaries"
   ]
  },
  {
   "cell_type": "code",
   "execution_count": 1,
   "metadata": {},
   "outputs": [],
   "source": [
    "import os; os.chdir('../../')\n",
    "import numpy as np, pandas as pd \n",
    "import matplotlib.pyplot as plt\n",
    "import warnings;\n",
    "warnings.simplefilter('ignore')\n",
    "%load_ext autoreload\n",
    "%autoreload 2\n",
    "from urbansim_templates import modelmanager as mm\n",
    "from urbansim_templates.models import LargeMultinomialLogitStep\n",
    "import orca\n",
    "import seaborn as sns\n",
    "%matplotlib notebook\n",
    "pd.set_option('display.float_format', lambda x: '%.2f' % x)"
   ]
  },
  {
   "cell_type": "code",
   "execution_count": 2,
   "metadata": {},
   "outputs": [
    {
     "name": "stdout",
     "output_type": "stream",
     "text": [
      "Loading model step 'hlcm_constrained_sf'\n",
      "Loading model step 'hedonic_price_sqft_single_family'\n",
      "Loading model step 'hedonic_price_sqft_multi_family'\n",
      "Loading model step 'hedonic_rent_sqft'\n"
     ]
    }
   ],
   "source": [
    "mm.initialize()"
   ]
  },
  {
   "cell_type": "markdown",
   "metadata": {},
   "source": [
    "### Load data"
   ]
  },
  {
   "cell_type": "markdown",
   "metadata": {},
   "source": [
    "First we import data sources which contains the references to all the actual data sources.  Then we import models, which contains the code to initialize networks and do network aggregations."
   ]
  },
  {
   "cell_type": "code",
   "execution_count": 3,
   "metadata": {},
   "outputs": [],
   "source": [
    "# Load any script-based Orca registrations\n",
    "from scripts import datasources\n",
    "from scripts import models"
   ]
  },
  {
   "cell_type": "markdown",
   "metadata": {},
   "source": [
    "Orca uses 'lazy evaluation' which means it won't load data until we do something that requires it."
   ]
  },
  {
   "cell_type": "code",
   "execution_count": 4,
   "metadata": {
    "scrolled": true
   },
   "outputs": [
    {
     "data": {
      "text/plain": [
       "['parcels',\n",
       " 'buildings',\n",
       " 'craigslist',\n",
       " 'rentals',\n",
       " 'nodessmall',\n",
       " 'nodeswalk',\n",
       " 'units',\n",
       " 'households',\n",
       " 'persons',\n",
       " 'jobs']"
      ]
     },
     "execution_count": 4,
     "metadata": {},
     "output_type": "execute_result"
    }
   ],
   "source": [
    "orca.list_tables()"
   ]
  },
  {
   "cell_type": "markdown",
   "metadata": {},
   "source": [
    "Orca also uses 'broadcasts' to explitly indicate the merge relationships for doing table merges."
   ]
  },
  {
   "cell_type": "code",
   "execution_count": 5,
   "metadata": {},
   "outputs": [
    {
     "data": {
      "text/plain": [
       "[('parcels', 'buildings'),\n",
       " ('buildings', 'units'),\n",
       " ('units', 'households'),\n",
       " ('households', 'persons'),\n",
       " ('nodeswalk', 'rentals'),\n",
       " ('nodeswalk', 'parcels'),\n",
       " ('nodessmall', 'rentals'),\n",
       " ('nodessmall', 'parcels')]"
      ]
     },
     "execution_count": 5,
     "metadata": {},
     "output_type": "execute_result"
    }
   ],
   "source": [
    "orca.list_broadcasts()"
   ]
  },
  {
   "cell_type": "markdown",
   "metadata": {},
   "source": [
    "## Create Additional Household and Building Variables"
   ]
  },
  {
   "cell_type": "code",
   "execution_count": 16,
   "metadata": {},
   "outputs": [
    {
     "data": {
      "text/plain": [
       "<orca.orca._SeriesWrapper at 0x116997978>"
      ]
     },
     "execution_count": 16,
     "metadata": {},
     "output_type": "execute_result"
    }
   ],
   "source": [
    "# scale income and create race dummies\n",
    "hh = orca.get_table('households').to_frame()\n",
    "hh.income_k = hh.income/1000\n",
    "hh.white = (hh.race_of_head == 1).astype(int)\n",
    "hh.black = (hh.race_of_head == 2).astype(int)\n",
    "hh.asian = (hh.race_of_head == 6).astype(int)\n",
    "hh.hisp = (hh.hispanic_head == 'yes').astype(int)\n",
    "hh.single = (hh.persons == 1).astype(int)\n",
    "hh.elderly = (hh.age_of_head > 65).astype(int)\n",
    "hh.rich = (hh.income > 150000).astype(int)\n",
    "hh.poor = (hh.income < 40000).astype(int)\n",
    "hh.has_children = (hh.children > 0).astype(int)\n",
    "  \n",
    "# building_type dummies\n",
    "bld = orca.get_table('buildings').to_frame()\n",
    "bld.single_family = (bld.building_type_id == 1).astype(int)\n",
    "bld.multi_family = (bld.building_type_id == 3).astype(int)\n",
    "bld.mixed_use = (bld.building_type_id > 3).astype(int)\n",
    "bld.two_four_stories = ((bld.stories > 1) & (bld.stories < 5)).astype(int)\n",
    "bld.five_six_stories = ((bld.stories > 5) & (bld.stories < 7)).astype(int)\n",
    "bld.sevenplus_stories = (bld.stories > 6).astype(int)\n",
    "bld.yrblt_2000 = (bld.year_built > 2000).astype(int)\n",
    "bld.two_four_new = (bld.yrblt_2000 * bld.two_four_stories).astype(int)\n",
    "bld.five_six_new = (bld.yrblt_2000 * bld.five_six_stories).astype(int)\n",
    "bld.sevenplus_new = (bld.yrblt_2000 * bld.sevenplus_stories).astype(int)\n",
    "bld.three_plus_stories = (bld.stories > 2).astype(int)\n",
    "\n",
    "# add the columns\n",
    "\n",
    "orca.add_column('households', 'income_k', hh.income_k)\n",
    "orca.add_column('households', 'white', hh.white)\n",
    "orca.add_column('households', 'black', hh.black)\n",
    "orca.add_column('households', 'asian', hh.asian)\n",
    "orca.add_column('households', 'hispanic', hh.hisp)\n",
    "orca.add_column('households', 'elderly', hh.elderly)\n",
    "orca.add_column('households', 'rich', hh.rich)\n",
    "orca.add_column('households', 'poor', hh.poor)\n",
    "orca.add_column('households', 'has_children', hh.has_children)\n",
    "orca.add_column('households', 'single', hh.single)\n",
    "\n",
    "orca.add_column('buildings', 'single_family', bld.single_family)\n",
    "orca.add_column('buildings', 'multi_family', bld.multi_family)\n",
    "orca.add_column('buildings', 'mixed_use', bld.mixed_use)\n",
    "orca.add_column('buildings', 'two_four_stories', bld.two_four_stories)\n",
    "orca.add_column('buildings', 'five_six_stories', bld.five_six_stories)\n",
    "orca.add_column('buildings', 'yrblt_2000', bld.yrblt_2000)\n",
    "orca.add_column('buildings', 'two_four_new', bld.two_four_new)\n",
    "orca.add_column('buildings', 'five_six_new', bld.five_six_new)\n",
    "orca.add_column('buildings', 'sevenplus_new', bld.sevenplus_new)\n",
    "orca.add_column('buildings', 'three_plus_stories', bld.three_plus_stories)"
   ]
  },
  {
   "cell_type": "code",
   "execution_count": 20,
   "metadata": {},
   "outputs": [
    {
     "data": {
      "text/plain": [
       "<orca.orca._SeriesWrapper at 0x116998cc0>"
      ]
     },
     "execution_count": 20,
     "metadata": {},
     "output_type": "execute_result"
    }
   ],
   "source": [
    "# Assign a random number to each household (with a fixed seed) to be able to select random samples\n",
    "np.random.seed(12345)\n",
    "hh['hh_random'] = np.random.uniform(0,1,len(hh))\n",
    "orca.add_column('households', 'hh_random', hh.hh_random)"
   ]
  },
  {
   "cell_type": "markdown",
   "metadata": {},
   "source": [
    "## Model Estimation"
   ]
  },
  {
   "cell_type": "markdown",
   "metadata": {},
   "source": [
    "### Initialize rent_sqft by Running the Hedonic Regression"
   ]
  },
  {
   "cell_type": "markdown",
   "metadata": {},
   "source": [
    "Note below the use of modelmanager to get the regression model step we registered earlier, from yaml.  We then update some attributes of the model to switch from estimating the model on rental listings, to using the fitted model to predict rent_sqft on buildings"
   ]
  },
  {
   "cell_type": "code",
   "execution_count": 9,
   "metadata": {},
   "outputs": [
    {
     "data": {
      "text/plain": [
       "['buildings', 'parcels', 'nodessmall', 'nodeswalk']"
      ]
     },
     "execution_count": 9,
     "metadata": {},
     "output_type": "execute_result"
    }
   ],
   "source": [
    "mrent = mm.get_step('hedonic_rent_sqft')\n",
    "mrent.tables = ['buildings', 'parcels', 'nodessmall', 'nodeswalk']\n",
    "mrent.out_filters = ['residential_units > 0']\n",
    "mrent.out_column = 'rent_sqft'\n",
    "mrent.tables"
   ]
  },
  {
   "cell_type": "code",
   "execution_count": 10,
   "metadata": {},
   "outputs": [
    {
     "data": {
      "text/plain": [
       "<orca.orca.DataFrameWrapper at 0x10ae638d0>"
      ]
     },
     "execution_count": 10,
     "metadata": {},
     "output_type": "execute_result"
    }
   ],
   "source": [
    "bld = orca.get_table('buildings').to_frame()\n",
    "bld['rent_sqft'] = 0\n",
    "orca.add_table('buildings', bld)"
   ]
  },
  {
   "cell_type": "code",
   "execution_count": 11,
   "metadata": {},
   "outputs": [
    {
     "name": "stdout",
     "output_type": "stream",
     "text": [
      "CPU times: user 17.3 s, sys: 3.02 s, total: 20.3 s\n",
      "Wall time: 12.1 s\n"
     ]
    }
   ],
   "source": [
    "%%time\n",
    "mrent.run()"
   ]
  },
  {
   "cell_type": "markdown",
   "metadata": {},
   "source": [
    "### Large Choice Set Single-Family "
   ]
  },
  {
   "cell_type": "code",
   "execution_count": 18,
   "metadata": {
    "scrolled": false
   },
   "outputs": [
    {
     "name": "stdout",
     "output_type": "stream",
     "text": [
      "                  CHOICEMODELS ESTIMATION RESULTS                  \n",
      "===================================================================\n",
      "Dep. Var.:                chosen   No. Observations:         10,484\n",
      "Model:         Multinomial Logit   Df Residuals:             10,470\n",
      "Method:       Maximum Likelihood   Df Model:                     14\n",
      "Date:                 2018-07-25   Pseudo R-squ.:             0.137\n",
      "Time:                      14:32   Pseudo R-bar-squ.:         0.136\n",
      "AIC:                  70,848.632   Log-Likelihood:      -35,410.316\n",
      "BIC:                  70,950.238   LL-Null:             -41,013.649\n",
      "=======================================================================================\n",
      "                                        coef   std err         z     P>|z|   Conf. Int.\n",
      "---------------------------------------------------------------------------------------\n",
      "np.log1p(rent_sqft)                  -4.5043     0.209   -21.538     0.000             \n",
      "np.log(income):np.log1p(rent_sqft)    0.3770     0.018    21.121     0.000             \n",
      "persons:np.log(res_sqft_per_unit)     0.0009     0.003     0.337     0.736             \n",
      "np.log1p(acres)                      -0.3153     0.042    -7.488     0.000             \n",
      "pop_jobs_ratio_25000                  0.2843     0.006    45.427     0.000             \n",
      "persons:avg_hhs_500_walk              0.1746     0.006    27.956     0.000             \n",
      "rich:prop_rich_500_walk              10.5017     0.147    71.566     0.000             \n",
      "poor:prop_poor_500_walk               5.7320     0.332    17.242     0.000             \n",
      "single:prop_singles_500_walk          4.0246     0.158    25.489     0.000             \n",
      "elderly:prop_elderly_500_walk         7.2297     0.184    39.374     0.000             \n",
      "white:prop_white_500_walk             3.1567     0.035    91.429     0.000             \n",
      "black:prop_black_500_walk             8.0706     0.178    45.239     0.000             \n",
      "asian:prop_asian_500_walk             2.5345     0.061    41.256     0.000             \n",
      "hispanic:prop_hisp_500_walk           4.5930     0.084    54.600     0.000             \n",
      "=======================================================================================\n",
      "CPU times: user 1min 15s, sys: 18.5 s, total: 1min 34s\n",
      "Wall time: 33 s\n"
     ]
    }
   ],
   "source": [
    "%%time\n",
    "m1 = LargeMultinomialLogitStep()\n",
    "m1.choosers = ['households']\n",
    "m1.alternatives = ['buildings','parcels','nodeswalk','nodessmall']\n",
    "m1.choice_column = 'building_id'\n",
    "m1.alt_sample_size = 50\n",
    "\n",
    "#Filters on choosers\n",
    "m1.chooser_filters = ['building_type == 2 & recent_mover == 1 & 0 <income < 1000000']\n",
    "\n",
    "#Filters on alternatives\n",
    "m1.alt_filters = ['residential_units == 1',\n",
    "                 '0 < avg_income_500_walk < 500000',\n",
    "                 'sqft_per_unit > 0']\n",
    "\n",
    "\n",
    "m1.model_expression = ' \\\n",
    "np.log1p(rent_sqft) + \\\n",
    "np.log(income):np.log1p(rent_sqft) + \\\n",
    "persons:np.log(res_sqft_per_unit) + \\\n",
    "np.log1p(acres) + \\\n",
    "pop_jobs_ratio_25000 + \\\n",
    "persons:avg_hhs_500_walk + \\\n",
    "rich:prop_rich_500_walk + \\\n",
    "poor:prop_poor_500_walk + \\\n",
    "single:prop_singles_500_walk + \\\n",
    "elderly:prop_elderly_500_walk + \\\n",
    "white:prop_white_500_walk + \\\n",
    "black:prop_black_500_walk + \\\n",
    "asian:prop_asian_500_walk + \\\n",
    "hispanic:prop_hisp_500_walk\\\n",
    "- 1'\n",
    "\n",
    "m1.name = 'hlcm'\n",
    "m1.tags = ['single_family', 'test']\n",
    "m1.fit()"
   ]
  },
  {
   "cell_type": "markdown",
   "metadata": {},
   "source": [
    "### Large Choice Set Multi-Family "
   ]
  },
  {
   "cell_type": "code",
   "execution_count": 21,
   "metadata": {
    "scrolled": false
   },
   "outputs": [
    {
     "name": "stdout",
     "output_type": "stream",
     "text": [
      "                  CHOICEMODELS ESTIMATION RESULTS                  \n",
      "===================================================================\n",
      "Dep. Var.:                chosen   No. Observations:         20,907\n",
      "Model:         Multinomial Logit   Df Residuals:             20,891\n",
      "Method:       Maximum Likelihood   Df Model:                     16\n",
      "Date:                 2018-07-25   Pseudo R-squ.:             0.409\n",
      "Time:                      14:36   Pseudo R-bar-squ.:         0.409\n",
      "AIC:                  96,739.599   Log-Likelihood:      -48,353.799\n",
      "BIC:                  96,866.764   LL-Null:             -81,788.665\n",
      "=================================================================================================\n",
      "                                                  coef   std err         z     P>|z|   Conf. Int.\n",
      "-------------------------------------------------------------------------------------------------\n",
      "np.log(residential_units)                       1.1660     0.006   180.839     0.000             \n",
      "yrblt_2000:np.log(residential_units)           -0.0627     0.007    -9.003     0.000             \n",
      "year_built                                      0.0071     0.000    59.675     0.000             \n",
      "np.log1p(rent_sqft)                            -2.3148     0.184   -12.581     0.000             \n",
      "np.log(income):np.log1p(rent_sqft)              0.2150     0.013    16.144     0.000             \n",
      "np.log1p(income):np.log1p(res_sqft_per_unit)    0.0043     0.002     2.136     0.033             \n",
      "np.log1p(units_500_walk)                        0.1344     0.012    11.677     0.000             \n",
      "np.log1p(jobs_25000)                            0.0423     0.020     2.100     0.036             \n",
      "rich:prop_rich_500_walk                         9.9394     0.170    58.494     0.000             \n",
      "poor:prop_poor_500_walk                         8.0902     0.164    49.182     0.000             \n",
      "single:prop_singles_500_walk                    3.8367     0.048    80.517     0.000             \n",
      "elderly:prop_elderly_500_walk                   6.0441     0.219    27.544     0.000             \n",
      "white:prop_white_500_walk                       2.0505     0.034    59.853     0.000             \n",
      "black:prop_black_500_walk                       7.3275     0.190    38.488     0.000             \n",
      "asian:prop_asian_500_walk                       3.9294     0.047    83.173     0.000             \n",
      "hispanic:prop_hisp_500_walk                     5.0193     0.066    75.726     0.000             \n",
      "=================================================================================================\n",
      "CPU times: user 7min 30s, sys: 36 s, total: 8min 6s\n",
      "Wall time: 1min 42s\n"
     ]
    }
   ],
   "source": [
    "%%time\n",
    "m2 = LargeMultinomialLogitStep()\n",
    "m2.choosers = ['households']\n",
    "m2.alternatives = ['buildings','parcels','nodeswalk','nodessmall']\n",
    "m2.choice_column = 'building_id'\n",
    "m2.alt_sample_size = 50\n",
    "\n",
    "#Filters on choosers\n",
    "m2.chooser_filters = ['building_type > 2 &\\\n",
    "                      recent_mover == 1 &\\\n",
    "                      hh_random < .5 & \\\n",
    "                      persons < 8 & \\\n",
    "                      workers < 4 & \\\n",
    "                      0 <income < 500000']\n",
    "\n",
    "#Filters on alternatives\n",
    "m2.alt_filters = ['residential_units > 1',\n",
    "                 '0 < avg_income_500_walk < 500000',\n",
    "                 '0 < rent_sqft < 1000',\n",
    "                 'pop_1500_walk > 0',\n",
    "                 'res_price_per_sqft < 1500',\n",
    "                 'res_sqft_per_unit < 6000',\n",
    "                 'residential_units < 1000',\n",
    "                 'sqft_per_unit > 0']\n",
    "\n",
    "\n",
    "m2.model_expression = ' np.log(residential_units) + \\\n",
    "yrblt_2000:np.log(residential_units) + \\\n",
    "year_built + \\\n",
    "np.log1p(rent_sqft) + \\\n",
    "np.log(income):np.log1p(rent_sqft) + \\\n",
    "np.log1p(income):np.log1p(res_sqft_per_unit) + \\\n",
    "np.log1p(units_500_walk) + \\\n",
    "np.log1p(jobs_25000) + \\\n",
    "rich:prop_rich_500_walk + \\\n",
    "poor:prop_poor_500_walk + \\\n",
    "single:prop_singles_500_walk + \\\n",
    "elderly:prop_elderly_500_walk + \\\n",
    "white:prop_white_500_walk + \\\n",
    "black:prop_black_500_walk + \\\n",
    "asian:prop_asian_500_walk + \\\n",
    "hispanic:prop_hisp_500_walk\\\n",
    "- 1'\n",
    "\n",
    "m2.name = 'hlcm'\n",
    "m2.tags = ['multi_family','test']\n",
    "m2.fit()"
   ]
  },
  {
   "cell_type": "markdown",
   "metadata": {},
   "source": [
    "## Create a Chooser Filter and Tag Their Buildings"
   ]
  },
  {
   "cell_type": "markdown",
   "metadata": {},
   "source": [
    "Here we create a flag on the buildings table to identify which buildings our filtered choosers are located in.  We will use this later to constrain the universal choice set for model estimation to  these buildings.  This is an effort to approximate both the choice set that these recent_movers actually had available to them in the market when they were searching, and also to approximate the way that the simulation will work: with only units that are vacant being used to create the universal choice set.  Note that in general practice this restriction has not been used.  Our testing suggests that the constraint provides more realistic results."
   ]
  },
  {
   "cell_type": "code",
   "execution_count": null,
   "metadata": {
    "scrolled": false
   },
   "outputs": [],
   "source": [
    "hh = orca.get_table('households').to_frame()\n",
    "hh.columns"
   ]
  },
  {
   "cell_type": "code",
   "execution_count": null,
   "metadata": {},
   "outputs": [],
   "source": [
    "# Apply the filtering we will use when we estimate the single family model\n",
    "hh_sf = hh[(hh['building_type'] == 2)  & (hh['recent_mover'] == 1) \\\n",
    "         & (hh['income'] > 0) & (hh['income'] < 1000000)]\n",
    "len(hh_sf)"
   ]
  },
  {
   "cell_type": "code",
   "execution_count": null,
   "metadata": {},
   "outputs": [],
   "source": [
    "sf_tmp = pd.DataFrame(hh_sf.building_id.unique(), columns=['building_id'])\n",
    "sf_tmp['sf_choice_set'] = 1\n",
    "sf_tmp = sf_tmp.set_index('building_id')"
   ]
  },
  {
   "cell_type": "code",
   "execution_count": null,
   "metadata": {},
   "outputs": [],
   "source": [
    "# Apply the filtering we will use when we estimate the multi family model\n",
    "hh_mf = hh[(hh['building_type'] > 2) &  (hh['hh_random'] < .5) & (hh['recent_mover'] == 1) \\\n",
    "         & (hh['income'] > 0) & (hh['income'] < 500000)]\n",
    "len(hh_mf)"
   ]
  },
  {
   "cell_type": "code",
   "execution_count": null,
   "metadata": {
    "scrolled": true
   },
   "outputs": [],
   "source": [
    "mf_tmp = pd.DataFrame(hh_mf.building_id.unique(), columns=['building_id'])\n",
    "mf_tmp['mf_choice_set'] = 1\n",
    "mf_tmp = mf_tmp.set_index('building_id')"
   ]
  },
  {
   "cell_type": "markdown",
   "metadata": {},
   "source": [
    "## Add Flag to Buildings Table Identifying Chosen Buildings"
   ]
  },
  {
   "cell_type": "code",
   "execution_count": null,
   "metadata": {
    "scrolled": false
   },
   "outputs": [],
   "source": [
    "bld = orca.get_table('buildings').to_frame()\n",
    "bld2 = bld.merge(sf_tmp, how='left', left_index=True, right_index=True)\n",
    "bld2.sf_choice_set= bld2.sf_choice_set.fillna(0)\n",
    "bld3 = bld2.merge(mf_tmp, how='left', left_index=True, right_index=True)\n",
    "bld3.mf_choice_set= bld3.mf_choice_set.fillna(0)\n",
    "bld = bld3\n",
    "orca.add_column('buildings', 'sf_choice_set', bld.sf_choice_set)\n",
    "orca.add_column('buildings', 'mf_choice_set', bld.mf_choice_set)"
   ]
  },
  {
   "cell_type": "markdown",
   "metadata": {},
   "source": [
    "### Constrained Choice Set Single_Family"
   ]
  },
  {
   "cell_type": "code",
   "execution_count": null,
   "metadata": {},
   "outputs": [],
   "source": [
    "%%time\n",
    "m3 = LargeMultinomialLogitStep()\n",
    "m3.choosers = ['households']\n",
    "m3.alternatives = ['buildings','parcels','nodeswalk','nodessmall']\n",
    "m3.choice_column = 'building_id'\n",
    "m3.alt_sample_size = 50\n",
    "\n",
    "#Filters on choosers\n",
    "m3.chooser_filters = ['building_type == 2 & recent_mover == 1 & 0 <income < 1000000']\n",
    "\n",
    "m3.alt_filters = ['sf_choice_set == 1 & sqft_per_unit > 0']\n",
    "\n",
    "# np.log(residential_units) +\n",
    "# np.log(income):np.log(avg_income_500_walk) + \\\n",
    "# np.log1p(income):np.log1p(rich_1500_walk) + \\\n",
    "# np.log1p(income):np.log1p(poor_1500_walk) + \\\n",
    "# np.log1p(persons):np.log1p(sqft_per_unit) + \\\n",
    "\n",
    "#np.log1p(res_price_per_sqft) + \\\n",
    "#np.log1p(income):np.log1p(res_price_per_sqft) + \\\n",
    "\n",
    "\n",
    "m3.model_expression = ' \\\n",
    "np.log1p(rent_sqft) + \\\n",
    "np.log(income):np.log1p(rent_sqft) + \\\n",
    "np.log1p(income):np.log(res_sqft_per_unit) + \\\n",
    "np.log1p(income):np.log(acres) + \\\n",
    "pop_jobs_ratio_25000 + \\\n",
    "np.log(jobs_25000+1) + \\\n",
    "persons:avg_hhs_500_walk + \\\n",
    "rich:prop_rich_500_walk + \\\n",
    "poor:prop_poor_500_walk + \\\n",
    "single:prop_singles_500_walk + \\\n",
    "elderly:prop_elderly_500_walk + \\\n",
    "white:prop_white_500_walk + \\\n",
    "black:prop_black_500_walk + \\\n",
    "asian:prop_asian_500_walk + \\\n",
    "hispanic:prop_hisp_500_walk\\\n",
    "- 1'\n",
    "\n",
    "m3.name = 'hlcm_constrained_sf'\n",
    "m3.tags = ['single_family', 'constrained']\n",
    "m3.fit()"
   ]
  },
  {
   "cell_type": "code",
   "execution_count": null,
   "metadata": {},
   "outputs": [],
   "source": [
    "# register the model\n",
    "m3.register()"
   ]
  },
  {
   "cell_type": "code",
   "execution_count": null,
   "metadata": {},
   "outputs": [],
   "source": [
    "len(m3._get_df(tables=m3.choosers, filters=m3.chooser_filters))"
   ]
  },
  {
   "cell_type": "markdown",
   "metadata": {},
   "source": [
    "### Constrained Choice Set Multi_Family"
   ]
  },
  {
   "cell_type": "code",
   "execution_count": null,
   "metadata": {},
   "outputs": [],
   "source": []
  },
  {
   "cell_type": "code",
   "execution_count": null,
   "metadata": {
    "scrolled": false
   },
   "outputs": [],
   "source": [
    "%%time\n",
    "m4 = LargeMultinomialLogitStep()\n",
    "m4.choosers = ['households']\n",
    "m4.alternatives = ['buildings','parcels','nodeswalk','nodessmall']\n",
    "m4.choice_column = 'building_id'\n",
    "m4.alt_sample_size = 50\n",
    "\n",
    "#Filters on choosers\n",
    "m4.chooser_filters = ['building_type > 2 & \\\n",
    "                      hh_random < .5 & \\\n",
    "                      recent_mover == 1 & \\\n",
    "                      persons < 8 & \\\n",
    "                      workers < 4 & \\\n",
    "                      0 <income < 500000']\n",
    "\n",
    "#Filters on alternatives\n",
    "m4.alt_filters = ['residential_units > 1',\n",
    "                 '0 < avg_income_500_walk < 500000',\n",
    "                 '0 < rent_sqft < 1000',\n",
    "                 'res_sqft_per_unit < 6000',\n",
    "                  'sqft_per_unit > 0',\n",
    "                  'residential_units < 1000',\n",
    "                 'mf_choice_set == 1']\n",
    "\n",
    "m4.model_expression = ' np.log(residential_units) + \\\n",
    "yrblt_2000:np.log(residential_units) + \\\n",
    "year_built + \\\n",
    "np.log1p(rent_sqft) + \\\n",
    "np.log(income):np.log1p(rent_sqft) + \\\n",
    "np.log1p(income):np.log1p(res_sqft_per_unit) + \\\n",
    "np.log1p(units_500_walk) + \\\n",
    "np.log1p(jobs_25000) + \\\n",
    "rich:prop_rich_500_walk + \\\n",
    "poor:prop_poor_500_walk + \\\n",
    "single:prop_singles_500_walk + \\\n",
    "elderly:prop_elderly_500_walk + \\\n",
    "white:prop_white_500_walk + \\\n",
    "black:prop_black_500_walk + \\\n",
    "asian:prop_asian_500_walk + \\\n",
    "hispanic:prop_hisp_500_walk\\\n",
    "- 1'\n",
    "\n",
    "m4.name = 'hlcm_constrained_mf'\n",
    "m4.tags = ['multi_family','constrained', 'hlcm']\n",
    "m4.fit()"
   ]
  },
  {
   "cell_type": "code",
   "execution_count": null,
   "metadata": {},
   "outputs": [],
   "source": [
    "# register the model\n",
    "m4.register()"
   ]
  },
  {
   "cell_type": "code",
   "execution_count": null,
   "metadata": {},
   "outputs": [],
   "source": [
    "tmp = m4.mergedchoicetable.to_frame()"
   ]
  },
  {
   "cell_type": "code",
   "execution_count": null,
   "metadata": {
    "scrolled": true
   },
   "outputs": [],
   "source": [
    "tmp.head()"
   ]
  },
  {
   "cell_type": "code",
   "execution_count": null,
   "metadata": {},
   "outputs": [],
   "source": [
    "tmp.shape"
   ]
  },
  {
   "cell_type": "code",
   "execution_count": null,
   "metadata": {},
   "outputs": [],
   "source": [
    "tmp.shape[0]/50"
   ]
  },
  {
   "cell_type": "code",
   "execution_count": null,
   "metadata": {},
   "outputs": [],
   "source": [
    "len(m4._get_df(tables=m4.choosers, filters=m4.chooser_filters))"
   ]
  },
  {
   "cell_type": "code",
   "execution_count": null,
   "metadata": {},
   "outputs": [],
   "source": [
    "chosen = tmp[tmp['chosen']==1]"
   ]
  },
  {
   "cell_type": "code",
   "execution_count": null,
   "metadata": {},
   "outputs": [],
   "source": [
    "tmp_d = chosen.describe().transpose()"
   ]
  },
  {
   "cell_type": "code",
   "execution_count": null,
   "metadata": {},
   "outputs": [],
   "source": [
    "# number of choosers/agents/households/observations\n",
    "len(m_mf._get_df(tables=m_mf.choosers, filters=m_mf.chooser_filters))"
   ]
  },
  {
   "cell_type": "code",
   "execution_count": null,
   "metadata": {},
   "outputs": [],
   "source": [
    "m_mf.fitted_parameters\n",
    "#or\n",
    "#mm.get_step('hlcm_multi_family').fitted_parameters"
   ]
  },
  {
   "cell_type": "markdown",
   "metadata": {},
   "source": [
    "## Model Prediction"
   ]
  },
  {
   "cell_type": "code",
   "execution_count": null,
   "metadata": {},
   "outputs": [],
   "source": [
    "m3.out_chooser_filters = ['building_type > 2 &\\\n",
    "                          hh_random < .2 &\\\n",
    "                          recent_mover == 1 &\\\n",
    "                          0 <income < 500000']\n",
    "\n",
    "m.out_alt_filters = ['residential_units == 1',\n",
    "                         '0 < avg_income_500_walk < 500000',\n",
    "                         'sqft_per_unit > 0']"
   ]
  },
  {
   "cell_type": "code",
   "execution_count": null,
   "metadata": {},
   "outputs": [],
   "source": [
    "%%time\n",
    "m_mf.run()"
   ]
  },
  {
   "cell_type": "code",
   "execution_count": null,
   "metadata": {},
   "outputs": [],
   "source": [
    "print(m_mf.probabilities.shape)\n",
    "m_mf.probabilities.head()"
   ]
  },
  {
   "cell_type": "code",
   "execution_count": null,
   "metadata": {},
   "outputs": [],
   "source": [
    "### number of observations/choosers\n",
    "print(len(m_mf.probabilities.observation_id.unique()))\n",
    "### or \n",
    "#len(m_mf.choices)\n",
    "\n",
    "### number of unique alternatives\n",
    "print(len(m_mf.probabilities.building_id.unique()))\n",
    "\n",
    "### number of alternatives\n",
    "print(len(m_mf.probabilities.building_id))"
   ]
  },
  {
   "cell_type": "code",
   "execution_count": null,
   "metadata": {},
   "outputs": [],
   "source": [
    "# summed probability \n",
    "\n",
    "predict_df=m_mf.probabilities.groupby('building_id')['probability'].sum().to_frame()\n",
    "predict_df.head()"
   ]
  },
  {
   "cell_type": "code",
   "execution_count": null,
   "metadata": {},
   "outputs": [],
   "source": [
    "plt.hist(predict_df['probability'],bins= 100);\n"
   ]
  },
  {
   "cell_type": "code",
   "execution_count": null,
   "metadata": {},
   "outputs": [],
   "source": [
    "# Check that choices are plausible\n",
    "choices = pd.DataFrame(m_mf.choices)\n",
    "df = pd.merge(m_mf.probabilities, choices, left_on='observation_id', right_index=True)\n",
    "df['chosen'] = 0\n",
    "df.loc[df.building_id == df.choice, 'chosen'] = 1\n",
    "print(df.head())"
   ]
  },
  {
   "cell_type": "code",
   "execution_count": null,
   "metadata": {},
   "outputs": [],
   "source": [
    "print(np.corrcoef(df.probability, df.chosen))"
   ]
  },
  {
   "cell_type": "code",
   "execution_count": null,
   "metadata": {},
   "outputs": [],
   "source": [
    "### join predicted df and df \n",
    "#hh_f = hh[(hh['building_type'] > 2) & (hh['hh_random'] < .2) & (hh['recent_mover'] == 1)\\\n",
    "#        & (hh['income'] > 0) & (hh['income'] < 500000)]\n",
    "             \n",
    "#df = orca.merge_tables(target = 'buildings', tables = ['buildings','parcels','nodeswalk','nodessmall'])\n",
    "  \n",
    "#hh_f_data = hh_f.merge(df, left_on='building_id', right_index=True)\n",
    "#hh_f_data.columns.tolist()\n",
    "\n",
    "#predict= pd.merge(predict_df,hh_f_data, left_index=True,right_on='building_id',how='left', sort=False)\n",
    "#predict[['probability','building_id']].head()\n",
    "\n",
    "#predict_2= pd.merge(predict_df,df, left_index=True,right_index=True,how='left', sort=False)\n",
    "#predict_2.head()"
   ]
  },
  {
   "cell_type": "code",
   "execution_count": null,
   "metadata": {},
   "outputs": [],
   "source": []
  }
 ],
 "metadata": {
  "kernelspec": {
   "display_name": "Python 3",
   "language": "python",
   "name": "python3"
  },
  "language_info": {
   "codemirror_mode": {
    "name": "ipython",
    "version": 3
   },
   "file_extension": ".py",
   "mimetype": "text/x-python",
   "name": "python",
   "nbconvert_exporter": "python",
   "pygments_lexer": "ipython3",
   "version": "3.6.5"
  },
  "toc": {
   "base_numbering": "1",
   "nav_menu": {},
   "number_sections": true,
   "sideBar": true,
   "skip_h1_title": true,
   "title_cell": "Table of Contents",
   "title_sidebar": "Contents",
   "toc_cell": true,
   "toc_position": {
    "height": "511.2px",
    "left": "63px",
    "top": "180px",
    "width": "205.4px"
   },
   "toc_section_display": true,
   "toc_window_display": true
  }
 },
 "nbformat": 4,
 "nbformat_minor": 2
}
