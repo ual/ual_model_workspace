{
 "cells": [
  {
   "cell_type": "markdown",
   "metadata": {},
   "source": [
    "## HLCM - Data Preprocessing & Model Estimation\n",
    "\n",
    "Arezoo Besharati, UrbanSim, June 2018 \n"
   ]
  },
  {
   "cell_type": "code",
   "execution_count": 1,
   "metadata": {},
   "outputs": [],
   "source": [
    "import os; os.chdir('../../')\n",
    "import numpy as np, pandas as pd \n",
    "import matplotlib\n",
    "import matplotlib.pyplot as plt\n",
    "from scipy.stats import skew\n",
    "import warnings;\n",
    "warnings.simplefilter('ignore')"
   ]
  },
  {
   "cell_type": "code",
   "execution_count": 2,
   "metadata": {},
   "outputs": [],
   "source": [
    "class color:\n",
    "    BOLD = '\\033[1m'\n",
    "    END = '\\033[0m'\n",
    "    RED = '\\033[91m'\n",
    "    PURPLE = '\\033[95m'\n",
    "    BLUE = '\\033[94m'\n",
    "    GREEN = '\\033[92m'"
   ]
  },
  {
   "cell_type": "code",
   "execution_count": 3,
   "metadata": {},
   "outputs": [],
   "source": [
    "from urbansim_templates import modelmanager as mm\n",
    "from urbansim_templates.models import LargeMultinomialLogitStep\n",
    "import orca"
   ]
  },
  {
   "cell_type": "markdown",
   "metadata": {},
   "source": [
    "### Load data"
   ]
  },
  {
   "cell_type": "code",
   "execution_count": 4,
   "metadata": {},
   "outputs": [],
   "source": [
    "# Load any script-based Orca registrations\n",
    "from scripts import datasources\n",
    "from scripts import models"
   ]
  },
  {
   "cell_type": "code",
   "execution_count": 5,
   "metadata": {},
   "outputs": [
    {
     "data": {
      "text/plain": [
       "['parcels', 'buildings', 'rentals', 'units', 'households', 'persons', 'jobs']"
      ]
     },
     "execution_count": 5,
     "metadata": {},
     "output_type": "execute_result"
    }
   ],
   "source": [
    "orca.list_tables()"
   ]
  },
  {
   "cell_type": "markdown",
   "metadata": {},
   "source": [
    "### Generate Node variables"
   ]
  },
  {
   "cell_type": "code",
   "execution_count": null,
   "metadata": {},
   "outputs": [],
   "source": [
    "orca.run(['initialize_network'])"
   ]
  },
  {
   "cell_type": "code",
   "execution_count": null,
   "metadata": {
    "scrolled": true
   },
   "outputs": [],
   "source": [
    "orca.run(['network_aggregations'])"
   ]
  },
  {
   "cell_type": "code",
   "execution_count": null,
   "metadata": {
    "scrolled": true
   },
   "outputs": [],
   "source": [
    "for table_name in orca.list_tables():\n",
    "    print(table_name.upper())\n",
    "    print(orca.get_table(table_name).to_frame().columns.tolist())\n",
    "    print()"
   ]
  },
  {
   "cell_type": "code",
   "execution_count": null,
   "metadata": {},
   "outputs": [],
   "source": [
    "#orca.list_broadcasts()"
   ]
  },
  {
   "cell_type": "markdown",
   "metadata": {},
   "source": [
    "## Data Cleaning"
   ]
  },
  {
   "cell_type": "markdown",
   "metadata": {},
   "source": [
    " - Handling missing values\n",
    " - Checking the data types\n",
    " - Normalization: check for feature's distributions (the skewness)\n",
    " - Scalling: Check the units of data\n",
    " - Create dummy variables if needed\n"
   ]
  },
  {
   "cell_type": "markdown",
   "metadata": {},
   "source": [
    "## 1. Buildings Table"
   ]
  },
  {
   "cell_type": "markdown",
   "metadata": {},
   "source": [
    "### 1. 1. Missing values and data types"
   ]
  },
  {
   "cell_type": "code",
   "execution_count": null,
   "metadata": {},
   "outputs": [],
   "source": [
    "# Does data have missing values? \n",
    "bld = orca.get_table('buildings').to_frame()\n",
    "print(color.RED + 'Data has missing values'+ color.END if bld.isnull().values.any() else 'Data doesnt have missing values')\n",
    "print ('')\n",
    "\n",
    "# What columns/ variables\n",
    "print (color.BOLD +'Columns with missing values :\\n'+ color.END + '{}'.format(bld.columns[bld.isna().any()].tolist()))\n",
    "print ('')\n",
    "\n",
    "# Check features datatypes and see if there is any string feature that needs to be int/float\n",
    "print(color.BOLD + 'String Features: \\n'+ color.END+ '{}'.format(bld.dtypes[bld.dtypes == \"object\"]))\n"
   ]
  },
  {
   "cell_type": "markdown",
   "metadata": {},
   "source": [
    "costar_rent should be integer. "
   ]
  },
  {
   "cell_type": "code",
   "execution_count": null,
   "metadata": {},
   "outputs": [],
   "source": [
    "# change the data type and update the column\n",
    "bld.costar_rent = pd.to_numeric(bld.costar_rent, errors='coerce')\n",
    "\n",
    "# Take a count of missing values. What proportion of the data is missing? \n",
    "missing_values_count_bld = bld[['redfin_sale_price', 'redfin_sale_year', 'redfin_home_type', 'costar_property_type', 'costar_rent', 'node_id']].isnull().sum()\n",
    "print ('')\n",
    "print(color.BOLD + 'BUILDINGS' + color.END + '\\nCount of missing points: \\n{}'.format (missing_values_count_bld))\n",
    "print('Proportion of missing points: \\n{}'.format (missing_values_count_bld/ len (bld.costar_rent)))\n",
    "print ('')\n"
   ]
  },
  {
   "cell_type": "markdown",
   "metadata": {},
   "source": [
    "- 99% of costar rent is missing!! Don't use this feature\n",
    "- 40 percent of redfin sale price and year is missing  "
   ]
  },
  {
   "cell_type": "code",
   "execution_count": null,
   "metadata": {},
   "outputs": [],
   "source": [
    "# drop the missing rows for \"redfin_home_type\" and \"costar_property_type\"       \n",
    "bld.dropna(subset=['redfin_home_type', 'costar_property_type'],inplace = True)\n",
    "\n",
    "## Update the whole table\n",
    "orca.add_table('buildings', bld)"
   ]
  },
  {
   "cell_type": "code",
   "execution_count": null,
   "metadata": {},
   "outputs": [],
   "source": [
    "#bld.redfin_home_type.value_counts()"
   ]
  },
  {
   "cell_type": "code",
   "execution_count": null,
   "metadata": {},
   "outputs": [],
   "source": [
    "#bld = bld[(bld.redfin_home_type !='Ranch')&(bld.redfin_home_type !='Timeshare')&(bld.redfin_home_type !='Other')& (bld.redfin_home_type !='Unknown')]"
   ]
  },
  {
   "cell_type": "markdown",
   "metadata": {},
   "source": [
    "### 1. 2. Normalization"
   ]
  },
  {
   "cell_type": "code",
   "execution_count": null,
   "metadata": {},
   "outputs": [],
   "source": [
    "numeric_feats = bld.dtypes[bld.dtypes != \"object\"].index\n",
    "\n",
    "skewed_feats = bld[numeric_feats].apply(lambda x: skew(x.dropna())) #compute skewness\n",
    "skewed_feats = skewed_feats[skewed_feats > 1]\n",
    "print(color.BOLD +'Skewed features are as follows'+ color.END + '\\n{}'.format (skewed_feats))"
   ]
  },
  {
   "cell_type": "code",
   "execution_count": null,
   "metadata": {},
   "outputs": [],
   "source": [
    "skewed_feats = skewed_feats[['improvement_value', 'residential_sqft', 'sqft_per_unit','non_residential_sqft',\n",
    "                            'building_sqft','nonres_rent_per_sqft','res_price_per_sqft','redfin_sale_price']]"
   ]
  },
  {
   "cell_type": "code",
   "execution_count": null,
   "metadata": {},
   "outputs": [],
   "source": [
    "skewed_feats = skewed_feats.index\n",
    "\n",
    "bld[skewed_feats] = np.log1p(bld[skewed_feats])\n",
    "\n",
    "# Update the building table \n",
    "orca.add_table('buildings', bld)"
   ]
  },
  {
   "cell_type": "markdown",
   "metadata": {},
   "source": [
    "_____________________________________________________________________________________________________"
   ]
  },
  {
   "cell_type": "markdown",
   "metadata": {},
   "source": [
    "## 2. Households Table"
   ]
  },
  {
   "cell_type": "markdown",
   "metadata": {},
   "source": [
    "### 2. 1. Missing values and data types"
   ]
  },
  {
   "cell_type": "code",
   "execution_count": null,
   "metadata": {},
   "outputs": [],
   "source": [
    "# Does data have missing values? \n",
    "households= orca.get_table('households').to_frame()\n",
    "print(color.RED + 'Data has missing values'+ color.END if households.isnull().values.any() else 'Data doesnt have missing values')\n",
    "print ('')\n",
    "\n",
    "# What columns/ variables\n",
    "print ('Columns with missing values : {}'.format(households.columns[households.isna().any()].tolist()))\n",
    "print ('')\n",
    "\n",
    "# Check features datatypes and see if there is any string feature that needs to be int/float\n",
    "print(color.BOLD + 'String Features: \\n'+ color.END+ '{}'.format(households.dtypes[households.dtypes == \"object\"]))"
   ]
  },
  {
   "cell_type": "code",
   "execution_count": null,
   "metadata": {},
   "outputs": [],
   "source": [
    "# Take a count of missing values. What proportion of the data is missing? \n",
    "missing_values_count_hh = households[['workers', 'children', 'node_id']].isnull().sum()\n",
    "print ('')\n",
    "print(color.BOLD + 'HOUSEHOLDS' + color.END + '\\nCount of missing points: \\n{}'.format (missing_values_count_hh))\n",
    "print('Proportion of missing points: \\n{}'.format (missing_values_count_hh/ len (households.node_id)))"
   ]
  },
  {
   "cell_type": "markdown",
   "metadata": {},
   "source": [
    "### Handling missing values"
   ]
  },
  {
   "cell_type": "markdown",
   "metadata": {},
   "source": [
    "#### Option 1: Not using the features with missing values !"
   ]
  },
  {
   "cell_type": "markdown",
   "metadata": {},
   "source": [
    "#### Option 2: Deleting/ignoring the missing values !!!"
   ]
  },
  {
   "cell_type": "code",
   "execution_count": null,
   "metadata": {},
   "outputs": [],
   "source": [
    "##I don't recommend this method at all. But in case one wants to do it \n",
    "\n",
    "#households.dropna(axis=0, how='any', inplace = True)\n",
    "\n",
    "## Update the whole table\n",
    "#orca.add_table('households', households)"
   ]
  },
  {
   "cell_type": "markdown",
   "metadata": {},
   "source": [
    "#### Option 3:  Filling in the Value"
   ]
  },
  {
   "cell_type": "code",
   "execution_count": null,
   "metadata": {},
   "outputs": [],
   "source": [
    "# Impute with mean \n",
    "households.workers.fillna(households.workers.mean(), inplace = True)\n",
    "\n",
    "# Update column\n",
    "orca.get_table('households').update_col_from_series('workers', households.workers)"
   ]
  },
  {
   "cell_type": "markdown",
   "metadata": {},
   "source": [
    "### 2. 2. Normalizing"
   ]
  },
  {
   "cell_type": "code",
   "execution_count": null,
   "metadata": {},
   "outputs": [],
   "source": [
    "# Only income needs to be normalized\n",
    "households.income = np.log1p(households.income)\n",
    "\n",
    "# Update column\n",
    "orca.get_table('households').update_col_from_series('income', households.income)"
   ]
  },
  {
   "cell_type": "markdown",
   "metadata": {},
   "source": [
    "_____________________________________________________________________________________________________"
   ]
  },
  {
   "cell_type": "markdown",
   "metadata": {},
   "source": [
    "## 3. Parcels Table"
   ]
  },
  {
   "cell_type": "code",
   "execution_count": null,
   "metadata": {
    "scrolled": false
   },
   "outputs": [],
   "source": [
    "# Does data have missing values? \n",
    "parcels= orca.get_table('parcels').to_frame()\n",
    "print(color.RED + 'Data has missing values'+ color.END if parcels.isnull().values.any() else 'Data doesnt have missing values')\n",
    "print ('')\n",
    "\n",
    "# What columns/ variables\n",
    "print ('Columns with missing values : {}'.format(parcels.columns[parcels.isna().any()].tolist()))\n",
    "print ('')\n",
    "\n",
    "\n",
    "#Check features datatypes and see if there is any string feature that needs to be int/float\n",
    "print(color.BOLD + 'String Features: \\n'+ color.END + '{}'.format(parcels.dtypes[parcels.dtypes == \"object\"]))\n",
    "print ('')\n",
    "\n",
    "# Take a count of missing values. What proportion of the data is missing? \n",
    "missing_values_count_parcels = parcels[['x', 'y', 'block_id', 'node_id']].isnull().sum()\n",
    "print(color.BOLD + 'PARCELS' + color.END + '\\nCount of missing points: \\n {}'.format(missing_values_count_parcels))\n",
    "print('Proportion of missing points: \\n{}'.format(missing_values_count_parcels/ len(parcels.node_id)))"
   ]
  },
  {
   "cell_type": "markdown",
   "metadata": {},
   "source": [
    "## 4. Node Variables\n"
   ]
  },
  {
   "cell_type": "code",
   "execution_count": null,
   "metadata": {},
   "outputs": [],
   "source": [
    "# Does data have missing values? \n",
    "nodes = orca.get_table('nodes').to_frame()\n",
    "print(color.RED + 'Data has missing values'+ color.END if nodes.isnull().values.any() else 'Data doesnt have missing values')\n",
    "print ('')\n",
    "\n",
    "print ('Nodes table shape{}'.format(nodes.shape))\n",
    "print ('')\n",
    "\n",
    "# Normalizing\n",
    "numeric_feats = nodes.dtypes[nodes.dtypes != \"object\"].index\n",
    "\n",
    "skewed_feats = nodes[numeric_feats].apply(lambda x: skew(x.dropna())) #compute skewness\n",
    "skewed_feats = skewed_feats[skewed_feats > 0.75]\n",
    "print(color.BOLD +'Skewed features are as follows'+ color.END + '\\n{}'.format (skewed_feats))"
   ]
  },
  {
   "cell_type": "code",
   "execution_count": null,
   "metadata": {},
   "outputs": [],
   "source": [
    "\n",
    "nodes = nodes[nodes.ave_income_500 > 0]\n",
    "\n",
    "orca.add_table('nodes', nodes)\n",
    "print ('Nodes table shape{}'.format(nodes.shape))\n"
   ]
  },
  {
   "cell_type": "markdown",
   "metadata": {},
   "source": [
    "## Model Estimation"
   ]
  },
  {
   "cell_type": "markdown",
   "metadata": {},
   "source": [
    "### Renters"
   ]
  },
  {
   "cell_type": "code",
   "execution_count": null,
   "metadata": {},
   "outputs": [],
   "source": [
    "df = orca.merge_tables(target='units', tables=['units','buildings','nodes'])"
   ]
  },
  {
   "cell_type": "code",
   "execution_count": null,
   "metadata": {},
   "outputs": [],
   "source": [
    "m = LargeMultinomialLogitStep()\n",
    "m.choosers = ['households']\n",
    "m.alternatives = ['units','buildings','nodes']\n",
    "m.choice_column = 'unit_id'\n",
    "m.alt_sample_size = 50\n",
    "m.chooser_filters = ['tenure == 2 & household_id <1000']\n",
    "\n",
    "m.model_expression = 'res_price_per_sqft + population + ave_income_500 + job_500 + renters - 1'\n",
    "\n",
    "m.name = 'hlcm_renter'\n",
    "m.tags = ['arezoo', 'test']\n",
    "m.fit()"
   ]
  },
  {
   "cell_type": "code",
   "execution_count": null,
   "metadata": {},
   "outputs": [],
   "source": [
    "m2 = LargeMultinomialLogitStep()\n",
    "m2.choosers = ['households']\n",
    "m2.alternatives = ['units','buildings','nodes']\n",
    "m2.choice_column = 'unit_id'\n",
    "m2.alt_sample_size = 50\n",
    "m2.chooser_filters = ['tenure == 2 & household_id <1000']\n",
    "\n",
    "m2.model_expression = 'res_price_per_sqft + population + ave_income_500:income + job_500 + renters - 1'\n",
    "\n",
    "m2.name = 'hlcm_renter_2'\n",
    "m2.tags = ['arezoo', 'test']\n",
    "m2.fit()"
   ]
  },
  {
   "cell_type": "code",
   "execution_count": null,
   "metadata": {},
   "outputs": [],
   "source": [
    "m3 = LargeMultinomialLogitStep()\n",
    "m3.choosers = ['households']\n",
    "m3.alternatives = ['units','buildings','nodes']\n",
    "m3.choice_column = 'unit_id'\n",
    "m3.alt_sample_size = 50\n",
    "m3.chooser_filters = ['tenure == 2 & household_id <1000']\n",
    "\n",
    "m3.model_expression = 'res_price_per_sqft + population + ave_income_500 + job_500+ renters + redfin_home_type - 1'\n",
    "\n",
    "m3.name = 'hlcm_renter_3'\n",
    "m3.tags = ['arezoo', 'test']\n",
    "m3.fit()"
   ]
  },
  {
   "cell_type": "markdown",
   "metadata": {},
   "source": [
    "### Owners"
   ]
  },
  {
   "cell_type": "code",
   "execution_count": null,
   "metadata": {},
   "outputs": [],
   "source": [
    "m3 = LargeMultinomialLogitStep()\n",
    "m3.choosers = ['households']\n",
    "m3.alternatives = ['units','buildings','nodes']\n",
    "m3.choice_column = 'unit_id'\n",
    "m3.alt_sample_size = 50\n",
    "m3.chooser_filters = ['tenure == 1 & household_id <1000']\n",
    "\n",
    "m3.model_expression = ' population +ave_income_500 + job_500 + renters +year_built - 1'\n",
    "\n",
    "m3.name = 'hlcm_owner'\n",
    "m3.tags = ['arezoo', 'test','hlcm','owner']\n",
    "m3.fit()\n"
   ]
  },
  {
   "cell_type": "markdown",
   "metadata": {},
   "source": [
    "### Warnings:\n",
    "\n",
    "Updating a column gives error if you want to convert obj (string) to integer\n"
   ]
  },
  {
   "cell_type": "markdown",
   "metadata": {},
   "source": [
    "### To Do:\n",
    "    \n",
    "- create more node variables such as average household size \n",
    "- clean the redfin_home_type var from Buildings table\n",
    "- check the skewness for node variables\n"
   ]
  },
  {
   "cell_type": "markdown",
   "metadata": {},
   "source": [
    "### Cheat Sheet"
   ]
  },
  {
   "cell_type": "code",
   "execution_count": null,
   "metadata": {},
   "outputs": [],
   "source": [
    "# To add a new column to an existing orca table\n",
    "#orca.add_column('name_of_the_table', 'new_column_name', new_column, cache=False, cache_scope='forever')"
   ]
  },
  {
   "cell_type": "code",
   "execution_count": null,
   "metadata": {},
   "outputs": [],
   "source": []
  }
 ],
 "metadata": {
  "kernelspec": {
   "display_name": "Python 3",
   "language": "python",
   "name": "python3"
  },
  "language_info": {
   "codemirror_mode": {
    "name": "ipython",
    "version": 3
   },
   "file_extension": ".py",
   "mimetype": "text/x-python",
   "name": "python",
   "nbconvert_exporter": "python",
   "pygments_lexer": "ipython3",
   "version": "3.6.5"
  }
 },
 "nbformat": 4,
 "nbformat_minor": 2
}
