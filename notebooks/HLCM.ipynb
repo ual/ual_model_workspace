{
 "cells": [
  {
   "cell_type": "markdown",
   "metadata": {},
   "source": [
    "## HLCM  \n",
    "\n",
    "Arezoo Besharati, UrbanSim, June 2018 \n",
    "\n",
    "This notebook is a primary model estimation for HLCM Bay Area\n"
   ]
  },
  {
   "cell_type": "code",
   "execution_count": null,
   "metadata": {},
   "outputs": [],
   "source": [
    "import os; os.chdir('../')\n",
    "import numpy as np, pandas as pd "
   ]
  },
  {
   "cell_type": "code",
   "execution_count": null,
   "metadata": {},
   "outputs": [],
   "source": [
    "from urbansim_templates import modelmanager as mm\n",
    "from urbansim_templates.models import LargeMultinomialLogitStep\n",
    "import orca"
   ]
  },
  {
   "cell_type": "markdown",
   "metadata": {},
   "source": [
    "### Load data"
   ]
  },
  {
   "cell_type": "code",
   "execution_count": null,
   "metadata": {},
   "outputs": [],
   "source": [
    "# Load any script-based Orca registrations\n",
    "from scripts import datasources\n",
    "from scripts import models"
   ]
  },
  {
   "cell_type": "markdown",
   "metadata": {},
   "source": [
    "#### Tables loaded by datasources.py"
   ]
  },
  {
   "cell_type": "code",
   "execution_count": null,
   "metadata": {},
   "outputs": [],
   "source": [
    "for table_name in orca.list_tables():\n",
    "    print(table_name.upper())\n",
    "    print(orca.get_table(table_name).to_frame().columns.tolist())\n",
    "    print()"
   ]
  },
  {
   "cell_type": "code",
   "execution_count": null,
   "metadata": {},
   "outputs": [],
   "source": [
    "## If you wanna make a df for any of the tables\n",
    "#households = orca.get_table('households').to_frame()\n",
    "#units = orca.get_table('units').to_frame()    "
   ]
  },
  {
   "cell_type": "markdown",
   "metadata": {},
   "source": [
    "### Generate accessibility measures"
   ]
  },
  {
   "cell_type": "code",
   "execution_count": null,
   "metadata": {},
   "outputs": [],
   "source": [
    "#orca.list_steps()"
   ]
  },
  {
   "cell_type": "code",
   "execution_count": null,
   "metadata": {},
   "outputs": [],
   "source": [
    "orca.run(['initialize_network'])"
   ]
  },
  {
   "cell_type": "code",
   "execution_count": null,
   "metadata": {
    "scrolled": true
   },
   "outputs": [],
   "source": [
    "orca.run(['network_aggregations'])"
   ]
  },
  {
   "cell_type": "code",
   "execution_count": null,
   "metadata": {
    "scrolled": false
   },
   "outputs": [],
   "source": [
    "for table_name in orca.list_tables():\n",
    "    print(table_name.upper())\n",
    "    print(orca.get_table(table_name).to_frame().columns.tolist())\n",
    "    print()"
   ]
  },
  {
   "cell_type": "markdown",
   "metadata": {},
   "source": [
    "## Model Estimation"
   ]
  },
  {
   "cell_type": "markdown",
   "metadata": {},
   "source": [
    "### First model: includes only building related variables\n"
   ]
  },
  {
   "cell_type": "code",
   "execution_count": null,
   "metadata": {},
   "outputs": [],
   "source": [
    "m1 = LargeMultinomialLogitStep()\n",
    "m1.choosers = ['households']\n",
    "m1.alternatives = ['buildings']\n",
    "m1.choice_column = 'unit_id'\n",
    "m1.alt_sample_size = 10\n",
    "\n",
    "m1.model_expression = 'res_price_per_sqft + non_residential_sqft - 1'\n",
    "\n",
    "m1.name = 'hlcm1'\n",
    "m1.tags = ['arezoo', 'test', 'buildingsVar']"
   ]
  },
  {
   "cell_type": "code",
   "execution_count": null,
   "metadata": {},
   "outputs": [],
   "source": [
    "%%time\n",
    "m1.fit()"
   ]
  },
  {
   "cell_type": "markdown",
   "metadata": {},
   "source": [
    "### Second model: includes only neighborhood variables "
   ]
  },
  {
   "cell_type": "markdown",
   "metadata": {},
   "source": [
    "Warning: there should be no missing values in columns that we put in model expression"
   ]
  },
  {
   "cell_type": "code",
   "execution_count": null,
   "metadata": {},
   "outputs": [],
   "source": [
    "# Handling missing data"
   ]
  },
  {
   "cell_type": "code",
   "execution_count": null,
   "metadata": {},
   "outputs": [],
   "source": [
    "nds = orca.get_table('nodes').to_frame()  "
   ]
  },
  {
   "cell_type": "code",
   "execution_count": null,
   "metadata": {},
   "outputs": [],
   "source": [
    "#nodes.dropna(axis=0, how='any', inplace = True)\n",
    "nds.fillna(nds.mean())\n",
    "# Update column\n",
    "orca.get_table('nodes').update_col_from_series('residential_units_500', nds.residential_units_500)"
   ]
  },
  {
   "cell_type": "code",
   "execution_count": null,
   "metadata": {},
   "outputs": [],
   "source": [
    "m2 = LargeMultinomialLogitStep()\n",
    "m2.choosers = ['households']\n",
    "m2.alternatives = ['nodes']\n",
    "m2.choice_column = 'unit_id'\n",
    "m2.alt_sample_size = 10\n",
    "\n",
    "m2.model_expression = 'residential_units_500 - 1'\n",
    "\n",
    "m2.name = 'hlcm2'\n",
    "m2.tags = ['arezoo', 'test', 'neighborhoodVar']"
   ]
  },
  {
   "cell_type": "code",
   "execution_count": null,
   "metadata": {},
   "outputs": [],
   "source": [
    "%%time\n",
    "m2.fit()"
   ]
  },
  {
   "cell_type": "markdown",
   "metadata": {},
   "source": [
    "### Third model: includes variables from different tables"
   ]
  },
  {
   "cell_type": "code",
   "execution_count": null,
   "metadata": {},
   "outputs": [],
   "source": [
    "m3 = LargeMultinomialLogitStep()\n",
    "m3.choosers = ['households']\n",
    "m3.alternatives = ['buildings','nodes']\n",
    "m3.choice_column = 'unit_id'\n",
    "m3.alt_sample_size = 10\n",
    "\n",
    "m3.model_expression = 'res_price_per_sqft + residential_units_500 - 1'\n",
    "\n",
    "m3.name = 'hlcm3'\n",
    "m3.tags = ['arezoo', 'test', 'mixedVar']"
   ]
  },
  {
   "cell_type": "markdown",
   "metadata": {},
   "source": [
    "m3.fit()"
   ]
  },
  {
   "cell_type": "markdown",
   "metadata": {},
   "source": [
    "LargeMNL can't fit the model when alternatrives are drawn from more than one table. "
   ]
  },
  {
   "cell_type": "code",
   "execution_count": null,
   "metadata": {},
   "outputs": [],
   "source": []
  }
 ],
 "metadata": {
  "kernelspec": {
   "display_name": "Python 3",
   "language": "python",
   "name": "python3"
  },
  "language_info": {
   "codemirror_mode": {
    "name": "ipython",
    "version": 3
   },
   "file_extension": ".py",
   "mimetype": "text/x-python",
   "name": "python",
   "nbconvert_exporter": "python",
   "pygments_lexer": "ipython3",
   "version": "3.6.5"
  }
 },
 "nbformat": 4,
 "nbformat_minor": 2
}
