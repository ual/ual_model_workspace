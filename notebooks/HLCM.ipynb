{
 "cells": [
  {
   "cell_type": "markdown",
   "metadata": {},
   "source": [
    "## HLCM - Data Preprocessing & Model Estimation\n",
    "\n",
    "Arezoo Besharati, UrbanSim, June 2018 \n"
   ]
  },
  {
   "cell_type": "code",
   "execution_count": 1,
   "metadata": {},
   "outputs": [],
   "source": [
    "import os; os.chdir('../')\n",
    "import numpy as np, pandas as pd \n",
    "# import matplotlib\n",
    "# import matplotlib.pyplot as plt\n",
    "from scipy.stats import skew"
   ]
  },
  {
   "cell_type": "code",
   "execution_count": 2,
   "metadata": {},
   "outputs": [],
   "source": [
    "class color:\n",
    "    BOLD = '\\033[1m'\n",
    "    END = '\\033[0m'\n",
    "    RED = '\\033[91m'\n",
    "    PURPLE = '\\033[95m'\n",
    "    BLUE = '\\033[94m'\n",
    "    GREEN = '\\033[92m'"
   ]
  },
  {
   "cell_type": "code",
   "execution_count": 3,
   "metadata": {},
   "outputs": [
    {
     "name": "stderr",
     "output_type": "stream",
     "text": [
      "/Users/arezoobzadeh/anaconda2/envs/ual-model/lib/python3.6/site-packages/statsmodels/compat/pandas.py:56: FutureWarning: The pandas.core.datetools module is deprecated and will be removed in a future version. Please use the pandas.tseries module instead.\n",
      "  from pandas.core import datetools\n"
     ]
    }
   ],
   "source": [
    "from urbansim_templates import modelmanager as mm\n",
    "from urbansim_templates.models import LargeMultinomialLogitStep\n",
    "import orca"
   ]
  },
  {
   "cell_type": "markdown",
   "metadata": {},
   "source": [
    "### Load data"
   ]
  },
  {
   "cell_type": "code",
   "execution_count": 4,
   "metadata": {},
   "outputs": [],
   "source": [
    "# Load any script-based Orca registrations\n",
    "from scripts import datasources\n",
    "from scripts import models"
   ]
  },
  {
   "cell_type": "code",
   "execution_count": 5,
   "metadata": {},
   "outputs": [
    {
     "data": {
      "text/plain": [
       "['parcels', 'buildings', 'units', 'households', 'persons', 'jobs']"
      ]
     },
     "execution_count": 5,
     "metadata": {},
     "output_type": "execute_result"
    }
   ],
   "source": [
    "orca.list_tables()"
   ]
  },
  {
   "cell_type": "markdown",
   "metadata": {},
   "source": [
    "### Generate Node variables"
   ]
  },
  {
   "cell_type": "code",
   "execution_count": 7,
   "metadata": {},
   "outputs": [
    {
     "name": "stdout",
     "output_type": "stream",
     "text": [
      "Running step 'initialize_network'\n",
      "Time to execute step 'initialize_network': 16.18 s\n",
      "Total time to execute iteration 1 with iteration value None: 16.18 s\n"
     ]
    }
   ],
   "source": [
    "orca.run(['initialize_network'])"
   ]
  },
  {
   "cell_type": "code",
   "execution_count": 8,
   "metadata": {
    "scrolled": true
   },
   "outputs": [
    {
     "name": "stdout",
     "output_type": "stream",
     "text": [
      "Running step 'network_aggregations'\n",
      "Computing accessibility variables\n",
      "Computing sum_income_3000\n",
      "Removed 189769 rows because they contain missing values\n",
      "Computing residential_units_500\n",
      "Removed 4 rows because they contain missing values\n",
      "Computing residential_units_1500\n",
      "Removed 4 rows because they contain missing values\n",
      "Computing population\n",
      "Removed 189769 rows because they contain missing values\n",
      "Computing poor\n",
      "Removed 53114 rows because they contain missing values\n",
      "Computing renters\n",
      "Removed 102597 rows because they contain missing values\n",
      "Computing ave_income_500\n",
      "Removed 189769 rows because they contain missing values\n",
      "Computing job_500\n",
      "Computing job_1500\n",
      "       sum_income_3000  residential_units_500  residential_units_1500  \\\n",
      "count     3.082600e+04           30826.000000            30826.000000   \n",
      "mean      1.478451e+09               4.360019                6.175426   \n",
      "std       1.927634e+09               2.391179                2.258851   \n",
      "min       0.000000e+00               0.000000                0.000000   \n",
      "25%       4.960627e+08               2.993019                5.718709   \n",
      "50%       1.068240e+09               5.298047                7.001040   \n",
      "75%       1.818217e+09               6.110861                7.536843   \n",
      "max       1.568729e+10               8.692843               10.171852   \n",
      "\n",
      "         population          poor       renters  ave_income_500       job_500  \\\n",
      "count  30826.000000  30826.000000  30826.000000    3.082600e+04  30826.000000   \n",
      "mean       6.964574      5.264183      5.140188            -inf     12.542326   \n",
      "std        2.421620      2.210156      2.218855             NaN      8.921499   \n",
      "min        0.000000      0.000000      0.000000            -inf      0.000000   \n",
      "25%        6.571062      4.496625      4.276326    1.080773e+01      0.000000   \n",
      "50%        7.884789      5.893643      5.750208    1.128979e+01     17.538377   \n",
      "75%        8.420608      6.709006      6.635617    1.160824e+01     19.568737   \n",
      "max       10.476329      9.721747      9.963508    1.382249e+01     24.713303   \n",
      "\n",
      "           job_1500  \n",
      "count  30826.000000  \n",
      "mean      16.846310  \n",
      "std        7.808977  \n",
      "min        0.000000  \n",
      "25%       17.670300  \n",
      "50%       20.297541  \n",
      "75%       21.383206  \n",
      "max       24.732031  \n",
      "Time to execute step 'network_aggregations': 39.20 s\n",
      "Total time to execute iteration 1 with iteration value None: 39.21 s\n"
     ]
    }
   ],
   "source": [
    "orca.run(['network_aggregations'])"
   ]
  },
  {
   "cell_type": "code",
   "execution_count": 9,
   "metadata": {
    "scrolled": true
   },
   "outputs": [
    {
     "name": "stdout",
     "output_type": "stream",
     "text": [
      "PARCELS\n",
      "['development_type_id', 'land_value', 'acres', 'county_id', 'zone_id', 'proportion_undevelopable', 'tax_exempt_status', 'apn', 'parcel_id_local', 'geom_id', 'imputation_flag', 'x', 'y', 'shape_area', 'block_id', 'node_id']\n",
      "\n",
      "BUILDINGS\n",
      "['parcel_id', 'development_type_id', 'improvement_value', 'residential_units', 'residential_sqft', 'sqft_per_unit', 'non_residential_sqft', 'building_sqft', 'nonres_rent_per_sqft', 'res_price_per_sqft', 'stories', 'year_built', 'redfin_sale_price', 'redfin_sale_year', 'redfin_home_type', 'costar_property_type', 'costar_rent', 'building_type_id', 'node_id']\n",
      "\n",
      "UNITS\n",
      "['Unnamed: 0', 'building_id', 'num_units', 'tenure', 'unit_num', 'unit_residential_price', 'unit_residential_rent', 'node_id']\n",
      "\n",
      "HOUSEHOLDS\n",
      "['household_id', 'serialno', 'persons', 'building_type', 'cars', 'income', 'race_of_head', 'hispanic_head', 'age_of_head', 'workers', 'state', 'county', 'tract', 'block group', 'children', 'tenure', 'recent_mover', 'block_group_id', 'single_family', 'unit_id', 'node_id']\n",
      "\n",
      "PERSONS\n",
      "['Unnamed: 0', 'member_id', 'age', 'relate', 'edu', 'sex', 'hours', 'hispanic', 'earning', 'race_id', 'hispanic.1', 'household_id', 'student', 'work_at_home', 'worker', 'node_id']\n",
      "\n",
      "JOBS\n",
      "['job_id', 'building_id', 'naics', 'occupation_id', 'node_id']\n",
      "\n",
      "NODES\n",
      "['sum_income_3000', 'residential_units_500', 'residential_units_1500', 'population', 'poor', 'renters', 'ave_income_500', 'job_500', 'job_1500']\n",
      "\n"
     ]
    }
   ],
   "source": [
    "for table_name in orca.list_tables():\n",
    "    print(table_name.upper())\n",
    "    print(orca.get_table(table_name).to_frame().columns.tolist())\n",
    "    print()"
   ]
  },
  {
   "cell_type": "code",
   "execution_count": 10,
   "metadata": {},
   "outputs": [],
   "source": [
    "#orca.list_broadcasts()"
   ]
  },
  {
   "cell_type": "markdown",
   "metadata": {},
   "source": [
    "## Data Cleaning"
   ]
  },
  {
   "cell_type": "markdown",
   "metadata": {},
   "source": [
    " - Handling missing values\n",
    " - Checking the data types\n",
    " - Normalization: check for feature's distributions (the skewness)\n",
    " - Scalling: Check the units of data\n",
    " - Create dummy variables if needed\n"
   ]
  },
  {
   "cell_type": "markdown",
   "metadata": {},
   "source": [
    "## 1. Buildings Table"
   ]
  },
  {
   "cell_type": "markdown",
   "metadata": {},
   "source": [
    "### 1. 1. Missing values and data types"
   ]
  },
  {
   "cell_type": "code",
   "execution_count": 11,
   "metadata": {},
   "outputs": [
    {
     "name": "stdout",
     "output_type": "stream",
     "text": [
      "\u001b[91mData has missing values\u001b[0m\n",
      "\n",
      "\u001b[1mColumns with missing values :\n",
      "\u001b[0m['redfin_sale_price', 'redfin_sale_year', 'redfin_home_type', 'costar_property_type', 'costar_rent', 'node_id']\n",
      "\n",
      "\u001b[1mString Features: \n",
      "\u001b[0mredfin_home_type        object\n",
      "costar_property_type    object\n",
      "costar_rent             object\n",
      "node_id                 object\n",
      "dtype: object\n"
     ]
    }
   ],
   "source": [
    "# Does data have missing values? \n",
    "bld = orca.get_table('buildings').to_frame()\n",
    "print(color.RED + 'Data has missing values'+ color.END if bld.isnull().values.any() else 'Data doesnt have missing values')\n",
    "print ('')\n",
    "\n",
    "# What columns/ variables\n",
    "print (color.BOLD +'Columns with missing values :\\n'+ color.END + '{}'.format(bld.columns[bld.isna().any()].tolist()))\n",
    "print ('')\n",
    "\n",
    "# Check features datatypes and see if there is any string feature that needs to be int/float\n",
    "print(color.BOLD + 'String Features: \\n'+ color.END+ '{}'.format(bld.dtypes[bld.dtypes == \"object\"]))\n"
   ]
  },
  {
   "cell_type": "markdown",
   "metadata": {},
   "source": [
    "costar_rent should be integer. "
   ]
  },
  {
   "cell_type": "code",
   "execution_count": 12,
   "metadata": {},
   "outputs": [
    {
     "name": "stdout",
     "output_type": "stream",
     "text": [
      "\n",
      "\u001b[1mBUILDINGS\u001b[0m\n",
      "Count of missing points: \n",
      "redfin_sale_price        755143\n",
      "redfin_sale_year         755143\n",
      "redfin_home_type             78\n",
      "costar_property_type         78\n",
      "costar_rent             1835287\n",
      "node_id                       4\n",
      "dtype: int64\n",
      "Proportion of missing points: \n",
      "redfin_sale_price       0.409658\n",
      "redfin_sale_year        0.409658\n",
      "redfin_home_type        0.000042\n",
      "costar_property_type    0.000042\n",
      "costar_rent             0.995625\n",
      "node_id                 0.000002\n",
      "dtype: float64\n",
      "\n"
     ]
    }
   ],
   "source": [
    "# change the data type and update the column\n",
    "bld.costar_rent = pd.to_numeric(bld.costar_rent, errors='coerce')\n",
    "\n",
    "# Take a count of missing values. What proportion of the data is missing? \n",
    "missing_values_count_bld = bld[['redfin_sale_price', 'redfin_sale_year', 'redfin_home_type', 'costar_property_type', 'costar_rent', 'node_id']].isnull().sum()\n",
    "print ('')\n",
    "print(color.BOLD + 'BUILDINGS' + color.END + '\\nCount of missing points: \\n{}'.format (missing_values_count_bld))\n",
    "print('Proportion of missing points: \\n{}'.format (missing_values_count_bld/ len (bld.costar_rent)))\n",
    "print ('')\n"
   ]
  },
  {
   "cell_type": "markdown",
   "metadata": {},
   "source": [
    "- 99% of costar rent is missing!! Don't use this feature\n",
    "- 40 percent of redfin sale price and year is missing  "
   ]
  },
  {
   "cell_type": "code",
   "execution_count": 13,
   "metadata": {},
   "outputs": [
    {
     "data": {
      "text/plain": [
       "<orca.orca.DataFrameWrapper at 0x135118ac8>"
      ]
     },
     "execution_count": 13,
     "metadata": {},
     "output_type": "execute_result"
    }
   ],
   "source": [
    "# drop the missing rows for \"redfin_home_type\" and \"costar_property_type\"       \n",
    "bld.dropna(subset=['redfin_home_type', 'costar_property_type'],inplace = True)\n",
    "\n",
    "## Update the whole table\n",
    "orca.add_table('buildings', bld)"
   ]
  },
  {
   "cell_type": "markdown",
   "metadata": {},
   "source": [
    "### 1. 2. Normalization"
   ]
  },
  {
   "cell_type": "code",
   "execution_count": 14,
   "metadata": {},
   "outputs": [
    {
     "name": "stdout",
     "output_type": "stream",
     "text": [
      "\u001b[1mSkewed features are as follows\u001b[0m\n",
      "development_type_id       5.016580\n",
      "improvement_value       426.810509\n",
      "residential_units        75.680060\n",
      "residential_sqft        268.555659\n",
      "sqft_per_unit             7.572658\n",
      "non_residential_sqft    263.049391\n",
      "building_sqft           182.761042\n",
      "nonres_rent_per_sqft      5.122268\n",
      "res_price_per_sqft       15.235614\n",
      "stories                  15.571113\n",
      "redfin_sale_price        62.174607\n",
      "costar_rent               9.356972\n",
      "building_type_id          4.316059\n",
      "dtype: float64\n"
     ]
    }
   ],
   "source": [
    "numeric_feats = bld.dtypes[bld.dtypes != \"object\"].index\n",
    "\n",
    "skewed_feats = bld[numeric_feats].apply(lambda x: skew(x.dropna())) #compute skewness\n",
    "skewed_feats = skewed_feats[skewed_feats > 1]\n",
    "print(color.BOLD +'Skewed features are as follows'+ color.END + '\\n{}'.format (skewed_feats))"
   ]
  },
  {
   "cell_type": "code",
   "execution_count": 15,
   "metadata": {},
   "outputs": [],
   "source": [
    "skewed_feats = skewed_feats[['improvement_value', 'residential_sqft', 'sqft_per_unit','non_residential_sqft',\n",
    "                            'building_sqft','nonres_rent_per_sqft','res_price_per_sqft','redfin_sale_price']]"
   ]
  },
  {
   "cell_type": "code",
   "execution_count": 16,
   "metadata": {},
   "outputs": [
    {
     "data": {
      "text/plain": [
       "<orca.orca.DataFrameWrapper at 0x119607b00>"
      ]
     },
     "execution_count": 16,
     "metadata": {},
     "output_type": "execute_result"
    }
   ],
   "source": [
    "skewed_feats = skewed_feats.index\n",
    "\n",
    "bld[skewed_feats] = np.log1p(bld[skewed_feats])\n",
    "\n",
    "# Update the building table \n",
    "orca.add_table('buildings', bld)"
   ]
  },
  {
   "cell_type": "markdown",
   "metadata": {},
   "source": [
    "_____________________________________________________________________________________________________"
   ]
  },
  {
   "cell_type": "markdown",
   "metadata": {},
   "source": [
    "## 2. Households Table"
   ]
  },
  {
   "cell_type": "markdown",
   "metadata": {},
   "source": [
    "### 2. 1. Missing values and data types"
   ]
  },
  {
   "cell_type": "code",
   "execution_count": 17,
   "metadata": {},
   "outputs": [
    {
     "name": "stdout",
     "output_type": "stream",
     "text": [
      "\u001b[91mData has missing values\u001b[0m\n",
      "\n",
      "Columns with missing values : ['workers', 'children', 'node_id']\n",
      "\n",
      "\u001b[1mString Features: \n",
      "\u001b[0mhispanic_head    object\n",
      "node_id          object\n",
      "dtype: object\n"
     ]
    }
   ],
   "source": [
    "# Does data have missing values? \n",
    "households= orca.get_table('households').to_frame()\n",
    "print(color.RED + 'Data has missing values'+ color.END if households.isnull().values.any() else 'Data doesnt have missing values')\n",
    "print ('')\n",
    "\n",
    "# What columns/ variables\n",
    "print ('Columns with missing values : {}'.format(households.columns[households.isna().any()].tolist()))\n",
    "print ('')\n",
    "\n",
    "# Check features datatypes and see if there is any string feature that needs to be int/float\n",
    "print(color.BOLD + 'String Features: \\n'+ color.END+ '{}'.format(households.dtypes[households.dtypes == \"object\"]))"
   ]
  },
  {
   "cell_type": "code",
   "execution_count": 18,
   "metadata": {},
   "outputs": [
    {
     "name": "stdout",
     "output_type": "stream",
     "text": [
      "\n",
      "\u001b[1mHOUSEHOLDS\u001b[0m\n",
      "Count of missing points: \n",
      "workers      581022\n",
      "children    1835041\n",
      "node_id      191984\n",
      "dtype: int64\n",
      "Proportion of missing points: \n",
      "workers     0.216825\n",
      "children    0.684798\n",
      "node_id     0.071644\n",
      "dtype: float64\n"
     ]
    }
   ],
   "source": [
    "# Take a count of missing values. What proportion of the data is missing? \n",
    "missing_values_count_hh = households[['workers', 'children', 'node_id']].isnull().sum()\n",
    "print ('')\n",
    "print(color.BOLD + 'HOUSEHOLDS' + color.END + '\\nCount of missing points: \\n{}'.format (missing_values_count_hh))\n",
    "print('Proportion of missing points: \\n{}'.format (missing_values_count_hh/ len (households.node_id)))"
   ]
  },
  {
   "cell_type": "markdown",
   "metadata": {},
   "source": [
    "### Handling missing values"
   ]
  },
  {
   "cell_type": "markdown",
   "metadata": {},
   "source": [
    "#### Option 1: Not using the features with missing values !"
   ]
  },
  {
   "cell_type": "markdown",
   "metadata": {},
   "source": [
    "#### Option 2: Deleting/ignoring the missing values !!!"
   ]
  },
  {
   "cell_type": "code",
   "execution_count": 19,
   "metadata": {},
   "outputs": [],
   "source": [
    "##I don't recommend this method at all. But in case one wants to do it \n",
    "\n",
    "#households.dropna(axis=0, how='any', inplace = True)\n",
    "\n",
    "## Update the whole table\n",
    "#orca.add_table('households', households)"
   ]
  },
  {
   "cell_type": "markdown",
   "metadata": {},
   "source": [
    "#### Option 3:  Filling in the Value"
   ]
  },
  {
   "cell_type": "code",
   "execution_count": 20,
   "metadata": {},
   "outputs": [],
   "source": [
    "# Impute with mean \n",
    "households.workers.fillna(households.workers.mean(), inplace = True)\n",
    "\n",
    "# Update column\n",
    "orca.get_table('households').update_col_from_series('workers', households.workers)"
   ]
  },
  {
   "cell_type": "markdown",
   "metadata": {},
   "source": [
    "### 2. 2. Normalizing"
   ]
  },
  {
   "cell_type": "code",
   "execution_count": 21,
   "metadata": {},
   "outputs": [
    {
     "name": "stderr",
     "output_type": "stream",
     "text": [
      "/Users/arezoobzadeh/anaconda2/envs/ual-model/lib/python3.6/site-packages/ipykernel_launcher.py:2: RuntimeWarning: invalid value encountered in log1p\n",
      "  \n"
     ]
    }
   ],
   "source": [
    "# Only income needs to be normalized\n",
    "households.income = np.log1p(households.income)\n",
    "\n",
    "# Update column\n",
    "orca.get_table('households').update_col_from_series('income', households.income)"
   ]
  },
  {
   "cell_type": "markdown",
   "metadata": {},
   "source": [
    "_____________________________________________________________________________________________________"
   ]
  },
  {
   "cell_type": "markdown",
   "metadata": {},
   "source": [
    "## 3. Parcels Table"
   ]
  },
  {
   "cell_type": "code",
   "execution_count": 22,
   "metadata": {},
   "outputs": [
    {
     "name": "stdout",
     "output_type": "stream",
     "text": [
      "\u001b[91mData has missing values\u001b[0m\n",
      "\n",
      "Columns with missing values : ['x', 'y', 'block_id', 'node_id']\n",
      "\n",
      "\u001b[1mString Features: \n",
      "\u001b[0mapn                object\n",
      "parcel_id_local    object\n",
      "imputation_flag    object\n",
      "block_id           object\n",
      "node_id            object\n",
      "dtype: object\n",
      "\n",
      "\u001b[1mPARCELS\u001b[0m\n",
      "Count of missing points: \n",
      " x           4\n",
      "y           4\n",
      "block_id    5\n",
      "node_id     4\n",
      "dtype: int64\n",
      "Proportion of missing points: \n",
      "x           0.000002\n",
      "y           0.000002\n",
      "block_id    0.000003\n",
      "node_id     0.000002\n",
      "dtype: float64\n"
     ]
    }
   ],
   "source": [
    "# Does data have missing values? \n",
    "parcels= orca.get_table('parcels').to_frame()\n",
    "print(color.RED + 'Data has missing values'+ color.END if parcels.isnull().values.any() else 'Data doesnt have missing values')\n",
    "print ('')\n",
    "\n",
    "# What columns/ variables\n",
    "print ('Columns with missing values : {}'.format(parcels.columns[parcels.isna().any()].tolist()))\n",
    "print ('')\n",
    "\n",
    "\n",
    "#Check features datatypes and see if there is any string feature that needs to be int/float\n",
    "print(color.BOLD + 'String Features: \\n'+ color.END + '{}'.format(parcels.dtypes[parcels.dtypes == \"object\"]))\n",
    "print ('')\n",
    "\n",
    "# Take a count of missing values. What proportion of the data is missing? \n",
    "missing_values_count_parcels = parcels[['x', 'y', 'block_id', 'node_id']].isnull().sum()\n",
    "print(color.BOLD + 'PARCELS' + color.END + '\\nCount of missing points: \\n {}'.format(missing_values_count_parcels))\n",
    "print('Proportion of missing points: \\n{}'.format(missing_values_count_parcels/ len(parcels.node_id)))"
   ]
  },
  {
   "cell_type": "markdown",
   "metadata": {},
   "source": [
    "## Model Estimation"
   ]
  },
  {
   "cell_type": "markdown",
   "metadata": {},
   "source": [
    "### Renters"
   ]
  },
  {
   "cell_type": "code",
   "execution_count": 23,
   "metadata": {},
   "outputs": [],
   "source": [
    "df = orca.merge_tables(target='units', tables=['units','buildings','nodes'])"
   ]
  },
  {
   "cell_type": "code",
   "execution_count": 24,
   "metadata": {},
   "outputs": [
    {
     "name": "stdout",
     "output_type": "stream",
     "text": [
      "                  CHOICEMODELS ESTIMATION RESULTS                  \n",
      "===================================================================\n",
      "Dep. Var.:                chosen   No. Observations:               \n",
      "Model:         Multinomial Logit   Df Residuals:                   \n",
      "Method:       Maximum Likelihood   Df Model:                       \n",
      "Date:                              Pseudo R-squ.:                  \n",
      "Time:                              Pseudo R-bar-squ.:              \n",
      "AIC:                               Log-Likelihood:       -1,843.741\n",
      "BIC:                               LL-Null:              -3,211.771\n",
      "=======================================================================\n",
      "                        coef   std err         z     P>|z|   Conf. Int.\n",
      "-----------------------------------------------------------------------\n",
      "res_price_per_sqft   -0.9154     0.045   -20.392                       \n",
      "population           -3.2970     0.208   -15.869                       \n",
      "ave_income_500       -1.1700     0.046   -25.532                       \n",
      "job_500               0.0431     0.010     4.374                       \n",
      "renters               2.3931     0.212    11.291                       \n",
      "=======================================================================\n"
     ]
    }
   ],
   "source": [
    "m = LargeMultinomialLogitStep()\n",
    "m.choosers = ['households']\n",
    "m.alternatives = ['units','buildings','nodes']\n",
    "m.choice_column = 'unit_id'\n",
    "m.alt_sample_size = 50\n",
    "m.chooser_filters = ['tenure == 2 & household_id <1000']\n",
    "\n",
    "m.model_expression = 'res_price_per_sqft + population + ave_income_500 + job_500 + renters - 1'\n",
    "\n",
    "m.name = 'hlcm_renter'\n",
    "m.tags = ['arezoo', 'test']\n",
    "m.fit()"
   ]
  },
  {
   "cell_type": "code",
   "execution_count": 28,
   "metadata": {},
   "outputs": [
    {
     "name": "stdout",
     "output_type": "stream",
     "text": [
      "                  CHOICEMODELS ESTIMATION RESULTS                  \n",
      "===================================================================\n",
      "Dep. Var.:                chosen   No. Observations:               \n",
      "Model:         Multinomial Logit   Df Residuals:                   \n",
      "Method:       Maximum Likelihood   Df Model:                       \n",
      "Date:                              Pseudo R-squ.:                  \n",
      "Time:                              Pseudo R-bar-squ.:              \n",
      "AIC:                               Log-Likelihood:       -1,849.557\n",
      "BIC:                               LL-Null:              -3,211.771\n",
      "==========================================================================\n",
      "                           coef   std err         z     P>|z|   Conf. Int.\n",
      "--------------------------------------------------------------------------\n",
      "res_price_per_sqft      -0.9049     0.041   -22.140                       \n",
      "population              -3.3162     0.197   -16.815                       \n",
      "ave_income_500:income   -0.1136     0.002   -50.915                       \n",
      "job_500                  0.0415     0.010     4.219                       \n",
      "renters                  2.4270     0.210    11.530                       \n",
      "==========================================================================\n"
     ]
    }
   ],
   "source": [
    "m2 = LargeMultinomialLogitStep()\n",
    "m2.choosers = ['households']\n",
    "m2.alternatives = ['units','buildings','nodes']\n",
    "m2.choice_column = 'unit_id'\n",
    "m2.alt_sample_size = 50\n",
    "m2.chooser_filters = ['tenure == 2 & household_id <1000']\n",
    "\n",
    "m2.model_expression = 'res_price_per_sqft + population + ave_income_500:income + job_500 + renters - 1'\n",
    "\n",
    "m2.name = 'hlcm_renter_2'\n",
    "m2.tags = ['arezoo', 'test']\n",
    "m2.fit()"
   ]
  },
  {
   "cell_type": "markdown",
   "metadata": {},
   "source": [
    "### Owners"
   ]
  },
  {
   "cell_type": "code",
   "execution_count": 26,
   "metadata": {},
   "outputs": [
    {
     "name": "stdout",
     "output_type": "stream",
     "text": [
      "                  CHOICEMODELS ESTIMATION RESULTS                  \n",
      "===================================================================\n",
      "Dep. Var.:                chosen   No. Observations:               \n",
      "Model:         Multinomial Logit   Df Residuals:                   \n",
      "Method:       Maximum Likelihood   Df Model:                       \n",
      "Date:                              Pseudo R-squ.:                  \n",
      "Time:                              Pseudo R-bar-squ.:              \n",
      "AIC:                               Log-Likelihood:         -546.277\n",
      "BIC:                               LL-Null:                -700.252\n",
      "===================================================================\n",
      "                    coef   std err         z     P>|z|   Conf. Int.\n",
      "-------------------------------------------------------------------\n",
      "population       -3.1556     0.387    -8.145                       \n",
      "ave_income_500    0.1490     0.348     0.428                       \n",
      "job_500          -0.0213     0.020    -1.043                       \n",
      "renters           2.1796     0.385     5.656                       \n",
      "year_built       -0.0129     0.002    -7.228                       \n",
      "===================================================================\n"
     ]
    }
   ],
   "source": [
    "m3 = LargeMultinomialLogitStep()\n",
    "m3.choosers = ['households']\n",
    "m3.alternatives = ['units','buildings','nodes']\n",
    "m3.choice_column = 'unit_id'\n",
    "m3.alt_sample_size = 50\n",
    "m3.chooser_filters = ['tenure == 1 & household_id <1000']\n",
    "\n",
    "m3.model_expression = ' population + ave_income_500 + job_500 + renters +year_built - 1'\n",
    "\n",
    "m3.name = 'hlcm_owner'\n",
    "m3.tags = ['arezoo', 'test','hlcm','owner']\n",
    "m3.fit()\n"
   ]
  },
  {
   "cell_type": "markdown",
   "metadata": {},
   "source": [
    "### Warnings:\n",
    "\n",
    "Updating a column gives error if you want to convert obj (string) to integer\n"
   ]
  },
  {
   "cell_type": "markdown",
   "metadata": {},
   "source": [
    "### To Do:\n",
    "    \n",
    "- create more node variables such as average household size \n",
    "- clean the redfin_home_type var from Buildings table\n",
    "- check the skewness for node variables\n"
   ]
  },
  {
   "cell_type": "markdown",
   "metadata": {},
   "source": [
    "### Cheat Sheet"
   ]
  },
  {
   "cell_type": "code",
   "execution_count": 27,
   "metadata": {},
   "outputs": [],
   "source": [
    "# To add a new column to an existing orca table\n",
    "#orca.add_column('name_of_the_table', 'new_column_name', new_column, cache=False, cache_scope='forever')"
   ]
  },
  {
   "cell_type": "code",
   "execution_count": null,
   "metadata": {},
   "outputs": [],
   "source": []
  }
 ],
 "metadata": {
  "kernelspec": {
   "display_name": "Python 3",
   "language": "python",
   "name": "python3"
  },
  "language_info": {
   "codemirror_mode": {
    "name": "ipython",
    "version": 3
   },
   "file_extension": ".py",
   "mimetype": "text/x-python",
   "name": "python",
   "nbconvert_exporter": "python",
   "pygments_lexer": "ipython3",
   "version": "3.6.5"
  }
 },
 "nbformat": 4,
 "nbformat_minor": 2
}
