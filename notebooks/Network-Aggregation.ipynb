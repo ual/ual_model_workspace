{
 "cells": [
  {
   "cell_type": "markdown",
   "metadata": {},
   "source": [
    "## BayArea Data Exploration\n",
    "\n",
    "Arezoo Besharati, UrbanSim, June 2018 \n"
   ]
  },
  {
   "cell_type": "code",
   "execution_count": 1,
   "metadata": {},
   "outputs": [],
   "source": [
    "import os; os.chdir('../')\n",
    "import numpy as np, pandas as pd \n",
    "import matplotlib\n",
    "import matplotlib.pyplot as plt\n",
    "from scipy.stats import skew\n",
    "import warnings;\n",
    "warnings.simplefilter('ignore')"
   ]
  },
  {
   "cell_type": "code",
   "execution_count": 2,
   "metadata": {},
   "outputs": [],
   "source": [
    "class color:\n",
    "    BOLD = '\\033[1m'\n",
    "    END = '\\033[0m'"
   ]
  },
  {
   "cell_type": "code",
   "execution_count": 3,
   "metadata": {},
   "outputs": [],
   "source": [
    "from urbansim_templates import modelmanager as mm\n",
    "from urbansim_templates.models import LargeMultinomialLogitStep\n",
    "import orca"
   ]
  },
  {
   "cell_type": "markdown",
   "metadata": {},
   "source": [
    "### Load data"
   ]
  },
  {
   "cell_type": "code",
   "execution_count": 4,
   "metadata": {},
   "outputs": [],
   "source": [
    "# Load any script-based Orca registrations\n",
    "from scripts import datasources\n",
    "from scripts import models"
   ]
  },
  {
   "cell_type": "code",
   "execution_count": 5,
   "metadata": {},
   "outputs": [
    {
     "data": {
      "text/plain": [
       "['parcels', 'buildings', 'rentals', 'units', 'households', 'persons', 'jobs']"
      ]
     },
     "execution_count": 5,
     "metadata": {},
     "output_type": "execute_result"
    }
   ],
   "source": [
    "# get a list of all existing tables\n",
    "orca.list_tables()"
   ]
  },
  {
   "cell_type": "code",
   "execution_count": null,
   "metadata": {},
   "outputs": [],
   "source": [
    "# make dataframes for all tables\n",
    "frames = {name: orca.get_table(name).to_frame() for name in orca.list_tables()}"
   ]
  },
  {
   "cell_type": "markdown",
   "metadata": {},
   "source": [
    "### Generate Node variables"
   ]
  },
  {
   "cell_type": "code",
   "execution_count": 8,
   "metadata": {},
   "outputs": [
    {
     "name": "stdout",
     "output_type": "stream",
     "text": [
      "Running step 'initialize_network'\n",
      "Time to execute step 'initialize_network': 18.35 s\n",
      "Total time to execute iteration 1 with iteration value None: 18.36 s\n"
     ]
    }
   ],
   "source": [
    "orca.run(['initialize_network'])"
   ]
  },
  {
   "cell_type": "code",
   "execution_count": 9,
   "metadata": {
    "scrolled": false
   },
   "outputs": [
    {
     "name": "stdout",
     "output_type": "stream",
     "text": [
      "Running step 'network_aggregations'\n",
      "Computing accessibility variables\n",
      "Computing residential_units_500\n",
      "Removed 4 rows because they contain missing values\n",
      "Computing residential_units_1500\n",
      "Removed 4 rows because they contain missing values\n",
      "Computing population_1500\n",
      "Removed 189769 rows because they contain missing values\n",
      "Computing poor_1500\n",
      "Removed 53114 rows because they contain missing values\n",
      "Computing renters_1500\n",
      "Removed 102597 rows because they contain missing values\n",
      "Computing med_income_500\n",
      "Removed 189769 rows because they contain missing values\n",
      "Computing med_income_500_log1p\n",
      "Removed 189769 rows because they contain missing values\n",
      "Computing med_income_500_log\n",
      "Removed 189769 rows because they contain missing values\n",
      "Computing job_1500\n",
      "Computing med_rent_per_sqft_log\n",
      "Computing med_rent_per_sqft\n",
      "Computing ave_hhsize\n",
      "Removed 189769 rows because they contain missing values\n",
      "       residential_units_500  residential_units_1500  population_1500  \\\n",
      "count           30826.000000            30826.000000     30826.000000   \n",
      "mean                4.360019                6.175426         6.964574   \n",
      "std                 2.391179                2.258851         2.421620   \n",
      "min                 0.000000                0.000000         0.000000   \n",
      "25%                 2.993019                5.718709         6.571062   \n",
      "50%                 5.298047                7.001040         7.884789   \n",
      "75%                 6.110861                7.536843         8.420608   \n",
      "max                 8.692843               10.171852        10.476329   \n",
      "\n",
      "          poor_1500  renters_1500  med_income_500  med_income_500_log1p  \\\n",
      "count  30826.000000  30826.000000    3.082600e+04          3.082600e+04   \n",
      "mean       5.264183      5.140188    7.976662e+04                  -inf   \n",
      "std        2.210156      2.218855    5.314166e+04                   NaN   \n",
      "min        0.000000      0.000000   -1.000000e+00                  -inf   \n",
      "25%        4.496625      4.276326    4.940000e+04          1.080773e+01   \n",
      "50%        5.893643      5.750208    8.000000e+04          1.128979e+01   \n",
      "75%        6.709006      6.635617    1.100000e+05          1.160824e+01   \n",
      "max        9.721747      9.963508    1.007000e+06          1.382249e+01   \n",
      "\n",
      "       med_income_500_log      job_1500  med_rent_per_sqft_log  \\\n",
      "count        30826.000000  30826.000000           3.082600e+04   \n",
      "mean             9.548852     19.039450                   -inf   \n",
      "std              4.181036      5.135336                    NaN   \n",
      "min              0.000000      0.000000                   -inf   \n",
      "25%             10.807706     18.786140                   -inf   \n",
      "50%             11.289782     20.329606           1.029687e+00   \n",
      "75%             11.608235     21.501802           1.258040e+00   \n",
      "max             13.822486     26.167675           7.111512e+00   \n",
      "\n",
      "       med_rent_per_sqft    ave_hhsize  \n",
      "count       30826.000000  30826.000000  \n",
      "mean            1.417615      1.216286  \n",
      "std            14.046918      0.332457  \n",
      "min            -1.000000      0.000000  \n",
      "25%            -1.000000      1.194292  \n",
      "50%             1.800188      1.280934  \n",
      "75%             2.518518      1.376780  \n",
      "max          1225.000000      2.302585  \n",
      "Time to execute step 'network_aggregations': 49.09 s\n",
      "Total time to execute iteration 1 with iteration value None: 49.09 s\n"
     ]
    }
   ],
   "source": [
    "orca.run(['network_aggregations'])"
   ]
  },
  {
   "cell_type": "code",
   "execution_count": null,
   "metadata": {
    "scrolled": true
   },
   "outputs": [],
   "source": [
    "# for table_name in orca.list_tables():\n",
    "#     print(table_name.upper())\n",
    "#     print(orca.get_table(table_name).to_frame().columns.tolist())\n",
    "#     print()"
   ]
  },
  {
   "cell_type": "markdown",
   "metadata": {},
   "source": [
    "## Data Cleaning"
   ]
  },
  {
   "cell_type": "markdown",
   "metadata": {},
   "source": [
    " - Handling missing values\n",
    " - Checking the data types\n",
    " - Normalization: check for feature's distributions (the skewness)\n",
    " - Scalling: Check the units of data\n",
    " - Create dummy variables if needed\n"
   ]
  },
  {
   "cell_type": "markdown",
   "metadata": {},
   "source": [
    "## 1. Buildings Table"
   ]
  },
  {
   "cell_type": "markdown",
   "metadata": {},
   "source": [
    "### 1. 1. Missing values and data types"
   ]
  },
  {
   "cell_type": "code",
   "execution_count": null,
   "metadata": {},
   "outputs": [],
   "source": [
    "# Does data have missing values? \n",
    "bld = orca.get_table('buildings').to_frame()\n",
    "print(color.RED + 'Data has missing values'+ color.END if bld.isnull().values.any() else 'Data doesnt have missing values')\n",
    "print ('')\n",
    "\n",
    "# What columns/ fields/ variables\n",
    "print (color.BOLD +'Columns with missing values :\\n'+ color.END + '{}'.format(bld.columns[bld.isna().any()].tolist()))\n",
    "print ('')\n",
    "\n",
    "# Check features datatypes and see if there is any string feature that needs to be int/float\n",
    "print(color.BOLD + 'String Features: \\n'+ color.END + '{}'.format(bld.dtypes[bld.dtypes == \"object\"]))\n"
   ]
  },
  {
   "cell_type": "markdown",
   "metadata": {},
   "source": [
    "costar_rent should be integer. "
   ]
  },
  {
   "cell_type": "code",
   "execution_count": null,
   "metadata": {},
   "outputs": [],
   "source": [
    "# change the data type and update the column\n",
    "bld.costar_rent = pd.to_numeric(bld.costar_rent, errors='coerce')\n",
    "\n",
    "# Take a count of missing values. What proportion of the data is missing? \n",
    "missing_values_count_bld = bld[['redfin_sale_price', 'redfin_sale_year', 'redfin_home_type', 'costar_property_type', 'costar_rent', 'node_id']].isnull().sum()\n",
    "print ('')\n",
    "print(color.BOLD + 'BUILDINGS' + color.END + '\\nCount of missing points: \\n{}'.format (missing_values_count_bld))\n",
    "print('Proportion of missing points: \\n{}'.format (missing_values_count_bld/ len (bld.costar_rent)))\n",
    "print ('')\n"
   ]
  },
  {
   "cell_type": "markdown",
   "metadata": {},
   "source": [
    "- 99% of costar rent is missing!! Don't use this feature\n",
    "- 40 percent of redfin sale price and year is missing  "
   ]
  },
  {
   "cell_type": "code",
   "execution_count": null,
   "metadata": {},
   "outputs": [],
   "source": [
    "# drop the missing rows for \"redfin_home_type\" and \"costar_property_type\"       \n",
    "bld.dropna(subset=['redfin_home_type', 'costar_property_type'],inplace = True)\n",
    "\n",
    "## Update the whole table\n",
    "orca.add_table('buildings', bld)"
   ]
  },
  {
   "cell_type": "code",
   "execution_count": null,
   "metadata": {},
   "outputs": [],
   "source": [
    "#bld.redfin_home_type.unique()"
   ]
  },
  {
   "cell_type": "code",
   "execution_count": null,
   "metadata": {},
   "outputs": [],
   "source": [
    "#bld = bld[(bld.redfin_home_type !='Ranch')&(bld.redfin_home_type !='Timeshare')&(bld.redfin_home_type !='Other')& (bld.redfin_home_type !='Unknown')&(bld.redfin_home_type !='')]\n",
    "## Update the whole table\n",
    "#orca.add_table('buildings', bld)"
   ]
  },
  {
   "cell_type": "markdown",
   "metadata": {},
   "source": [
    "### 1. 2. Normalization"
   ]
  },
  {
   "cell_type": "code",
   "execution_count": null,
   "metadata": {},
   "outputs": [],
   "source": [
    "numeric_feats = bld.dtypes[bld.dtypes != \"object\"].index\n",
    "\n",
    "skewed_feats = bld[numeric_feats].apply(lambda x: skew(x.dropna())) #compute skewness\n",
    "skewed_feats = skewed_feats[skewed_feats > 1]\n",
    "print(color.BOLD +'Skewed features are as follows'+ color.END + '\\n{}'.format (skewed_feats))"
   ]
  },
  {
   "cell_type": "code",
   "execution_count": null,
   "metadata": {},
   "outputs": [],
   "source": [
    "skewed_feats = skewed_feats[['improvement_value', 'residential_sqft', 'sqft_per_unit','non_residential_sqft',\n",
    "                            'building_sqft','nonres_rent_per_sqft','res_price_per_sqft','redfin_sale_price']]"
   ]
  },
  {
   "cell_type": "code",
   "execution_count": null,
   "metadata": {},
   "outputs": [],
   "source": [
    "skewed_feats = skewed_feats.index\n",
    "\n",
    "bld[skewed_feats] = np.log1p(bld[skewed_feats])\n",
    "\n",
    "# Update the building table \n",
    "orca.add_table('buildings', bld)"
   ]
  },
  {
   "cell_type": "markdown",
   "metadata": {},
   "source": [
    "_____________________________________________________________________________________________________"
   ]
  },
  {
   "cell_type": "markdown",
   "metadata": {},
   "source": [
    "## 2. Households Table"
   ]
  },
  {
   "cell_type": "markdown",
   "metadata": {},
   "source": [
    "### 2. 1. Missing values and data types"
   ]
  },
  {
   "cell_type": "code",
   "execution_count": null,
   "metadata": {},
   "outputs": [],
   "source": [
    "# Does data have missing values? \n",
    "households= orca.get_table('households').to_frame()\n",
    "print(color.RED + 'Data has missing values'+ color.END if households.isnull().values.any() else 'Data doesnt have missing values')\n",
    "print ('')\n",
    "\n",
    "# What columns/ variables\n",
    "print ('Columns with missing values : {}'.format(households.columns[households.isna().any()].tolist()))\n",
    "print ('')\n",
    "\n",
    "# Check features datatypes and see if there is any string feature that needs to be int/float\n",
    "print(color.BOLD + 'String Features: \\n'+ color.END + '{}'.format(households.dtypes[households.dtypes == \"object\"]))"
   ]
  },
  {
   "cell_type": "code",
   "execution_count": null,
   "metadata": {},
   "outputs": [],
   "source": [
    "# Take a count of missing values. What proportion of the data is missing? \n",
    "missing_values_count_hh = households[['workers', 'children', 'node_id']].isnull().sum()\n",
    "print ('')\n",
    "print(color.BOLD + 'HOUSEHOLDS' + color.END + '\\nCount of missing points: \\n{}'.format (missing_values_count_hh))\n",
    "print('Proportion of missing points: \\n{}'.format (missing_values_count_hh/ len (households.node_id)))"
   ]
  },
  {
   "cell_type": "markdown",
   "metadata": {},
   "source": [
    "### Handling missing values"
   ]
  },
  {
   "cell_type": "markdown",
   "metadata": {},
   "source": [
    "#### Option 1: Not using the features with missing values !"
   ]
  },
  {
   "cell_type": "markdown",
   "metadata": {},
   "source": [
    "#### Option 2: Deleting/ignoring the missing values !!!"
   ]
  },
  {
   "cell_type": "code",
   "execution_count": null,
   "metadata": {},
   "outputs": [],
   "source": [
    "##I don't recommend this method at all. But in case one wants to do it \n",
    "\n",
    "#households.dropna(axis=0, how='any', inplace = True)\n",
    "\n",
    "## Update the whole table\n",
    "#orca.add_table('households', households)"
   ]
  },
  {
   "cell_type": "markdown",
   "metadata": {},
   "source": [
    "#### Option 3:  Filling in the Value"
   ]
  },
  {
   "cell_type": "code",
   "execution_count": null,
   "metadata": {},
   "outputs": [],
   "source": [
    "# Impute with mean \n",
    "households.workers.fillna(households.workers.mean(), inplace = True)\n",
    "\n",
    "# Update column\n",
    "orca.get_table('households').update_col_from_series('workers', households.workers)"
   ]
  },
  {
   "cell_type": "markdown",
   "metadata": {},
   "source": [
    "### 2. 2. Normalizing"
   ]
  },
  {
   "cell_type": "code",
   "execution_count": null,
   "metadata": {},
   "outputs": [],
   "source": [
    "# Only income needs to be normalized\n",
    "households.income = np.log1p(households.income)\n",
    "\n",
    "# Update column\n",
    "orca.get_table('households').update_col_from_series('income', households.income)"
   ]
  },
  {
   "cell_type": "markdown",
   "metadata": {},
   "source": [
    "_____________________________________________________________________________________________________"
   ]
  },
  {
   "cell_type": "markdown",
   "metadata": {},
   "source": [
    "## 3. Parcels Table"
   ]
  },
  {
   "cell_type": "code",
   "execution_count": null,
   "metadata": {
    "scrolled": false
   },
   "outputs": [],
   "source": [
    "# Does data have missing values? \n",
    "parcels= orca.get_table('parcels').to_frame()\n",
    "print(color.RED + 'Data has missing values'+ color.END if parcels.isnull().values.any() else 'Data doesnt have missing values')\n",
    "print ('')\n",
    "\n",
    "# What columns/ variables\n",
    "print ('Columns with missing values : {}'.format(parcels.columns[parcels.isna().any()].tolist()))\n",
    "print ('')\n",
    "\n",
    "\n",
    "#Check features datatypes and see if there is any string feature that needs to be int/float\n",
    "print(color.BOLD + 'String Features: \\n'+ color.END + '{}'.format(parcels.dtypes[parcels.dtypes == \"object\"]))\n",
    "print ('')\n",
    "\n",
    "# Take a count of missing values. What proportion of the data is missing? \n",
    "missing_values_count_parcels = parcels[['x', 'y', 'block_id', 'node_id']].isnull().sum()\n",
    "print(color.BOLD + 'PARCELS' + color.END + '\\nCount of missing points: \\n {}'.format(missing_values_count_parcels))\n",
    "print('Proportion of missing points: \\n{}'.format(missing_values_count_parcels/ len(parcels.node_id)))"
   ]
  },
  {
   "cell_type": "markdown",
   "metadata": {},
   "source": [
    "## 4. Node Variables\n"
   ]
  },
  {
   "cell_type": "code",
   "execution_count": null,
   "metadata": {},
   "outputs": [],
   "source": [
    "# Does data have missing values? \n",
    "nodes = orca.get_table('nodes').to_frame()\n",
    "print(color.RED + 'Data has missing values'+ color.END if nodes.isnull().values.any() else 'Data doesnt have missing values')\n",
    "print ('')\n",
    "print ('Nodes table shape{}'.format(nodes.shape))\n"
   ]
  },
  {
   "cell_type": "code",
   "execution_count": null,
   "metadata": {},
   "outputs": [],
   "source": [
    "#nodes = nodes[(nodes.med_income_500 > 0) & (nodes.med_rent_per_sqft_log > 0)]\n",
    "#orca.add_table('nodes', nodes)\n",
    "#print ('Nodes table shape{}'.format(nodes.shape))\n"
   ]
  },
  {
   "cell_type": "code",
   "execution_count": null,
   "metadata": {},
   "outputs": [],
   "source": [
    "rentals = orca.get_table('rentals').to_frame()\n",
    "\n",
    "rentals.head()\n",
    "med_rent = rentals.groupby(\"node_id\").median()\n",
    "med_rent['price_per_sqft']\n",
    "\n",
    "# Add this column to node table (they have node_id as their index)\n",
    "orca.add_column('nodes', 'med_price_per_sqft', med_rent['price_per_sqft'], cache=False, cache_scope='forever')"
   ]
  },
  {
   "cell_type": "code",
   "execution_count": null,
   "metadata": {},
   "outputs": [],
   "source": [
    "nodes = orca.get_table('nodes').to_frame()\n",
    "nodes.head()\n",
    "# What columns/ variables\n",
    "print ('Columns with missing values : {}'.format(nodes.columns[nodes.isna().any()].tolist()))\n",
    "print ('')\n",
    "\n",
    "\n",
    "# Take a count of missing values. What proportion of the data is missing? \n",
    "missing_values_count_nodes = nodes[['med_price_per_sqft']].isnull().sum()\n",
    "print(color.BOLD + 'NODES' + color.END + '\\nCount of missing points: \\n {}'.format(missing_values_count_nodes))\n",
    "print('Proportion of missing points: \\n{}'.format(missing_values_count_nodes/ len(nodes)))\n",
    "\n",
    "##I don't recommend this method at all. But in case one wants to do it \n",
    "\n",
    "nodes.dropna(axis=0, how='any', inplace = True)\n",
    "\n",
    "## Update the whole table\n",
    "orca.add_table('nodes', nodes)\n"
   ]
  },
  {
   "cell_type": "code",
   "execution_count": null,
   "metadata": {},
   "outputs": [],
   "source": [
    "numeric_feats = nodes.dtypes[nodes.dtypes != \"object\"].index\n",
    "\n",
    "skewed_feats = nodes[numeric_feats].apply(lambda x: skew(x)) #compute skewness\n",
    "print(color.BOLD +'Skewed features are as follows'+ color.END + '\\n{}'.format (skewed_feats))"
   ]
  },
  {
   "cell_type": "code",
   "execution_count": null,
   "metadata": {},
   "outputs": [],
   "source": [
    "# Only income needs to be normalized\n",
    "households.income = np.log1p(households.income)\n",
    "\n",
    "# Update column\n",
    "orca.get_table('households').update_col_from_series('income', households.income)"
   ]
  },
  {
   "cell_type": "code",
   "execution_count": 10,
   "metadata": {},
   "outputs": [],
   "source": [
    "df = orca.merge_tables(target='units', tables=['units','buildings','nodes'])"
   ]
  },
  {
   "cell_type": "code",
   "execution_count": null,
   "metadata": {},
   "outputs": [],
   "source": [
    "print(len(units))\n",
    "print(len(df))"
   ]
  },
  {
   "cell_type": "code",
   "execution_count": null,
   "metadata": {},
   "outputs": [],
   "source": [
    "len (df[df.non_residential_sqft != 0])"
   ]
  },
  {
   "cell_type": "code",
   "execution_count": null,
   "metadata": {},
   "outputs": [],
   "source": [
    "len (df[df.res_price_per_sqft == 0])\n"
   ]
  },
  {
   "cell_type": "code",
   "execution_count": null,
   "metadata": {},
   "outputs": [],
   "source": [
    "df.redfin_home_type.value_counts()"
   ]
  },
  {
   "cell_type": "code",
   "execution_count": null,
   "metadata": {
    "scrolled": true
   },
   "outputs": [],
   "source": [
    "df.costar_property_type.value_counts()"
   ]
  },
  {
   "cell_type": "code",
   "execution_count": null,
   "metadata": {},
   "outputs": [],
   "source": [
    "nodes = orca.get_table('nodes').to_frame()\n",
    "print('{} nodes have median income zero or below'.format(len(nodes[nodes.med_income_500 <= 0])))\n",
    "print('Total nodes count {}'.format(len (nodes)))\n",
    "\n"
   ]
  },
  {
   "cell_type": "code",
   "execution_count": null,
   "metadata": {},
   "outputs": [],
   "source": [
    "households= orca.get_table('households').to_frame()\n",
    "len(households[households.income <= 0])"
   ]
  },
  {
   "cell_type": "markdown",
   "metadata": {},
   "source": [
    "### Warnings:\n",
    "\n",
    "Updating a column gives error if you want to convert obj (string) to integer\n"
   ]
  },
  {
   "cell_type": "markdown",
   "metadata": {},
   "source": [
    "### To Do:\n",
    "    \n",
    "- clean the redfin_home_type var from Buildings table\n",
    "- check the quality of nodes variables\n"
   ]
  },
  {
   "cell_type": "markdown",
   "metadata": {},
   "source": [
    "### Cheat Sheet"
   ]
  },
  {
   "cell_type": "code",
   "execution_count": null,
   "metadata": {},
   "outputs": [],
   "source": [
    "# To add a new column to an existing orca table\n",
    "#orca.add_column('name_of_the_table', 'new_column_name', new_column, cache=False, cache_scope='forever')"
   ]
  },
  {
   "cell_type": "code",
   "execution_count": null,
   "metadata": {},
   "outputs": [],
   "source": []
  }
 ],
 "metadata": {
  "kernelspec": {
   "display_name": "Python 3",
   "language": "python",
   "name": "python3"
  },
  "language_info": {
   "codemirror_mode": {
    "name": "ipython",
    "version": 3
   },
   "file_extension": ".py",
   "mimetype": "text/x-python",
   "name": "python",
   "nbconvert_exporter": "python",
   "pygments_lexer": "ipython3",
   "version": "3.6.5"
  }
 },
 "nbformat": 4,
 "nbformat_minor": 2
}
