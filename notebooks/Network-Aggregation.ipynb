{
 "cells": [
  {
   "cell_type": "markdown",
   "metadata": {},
   "source": [
    "## Generating Accessibility Vars\n",
    "\n",
    "Arezoo Besharati, UrbanSim, July 2018 \n"
   ]
  },
  {
   "cell_type": "code",
   "execution_count": 1,
   "metadata": {},
   "outputs": [],
   "source": [
    "import os; os.chdir('../')\n",
    "import numpy as np, pandas as pd \n",
    "import orca"
   ]
  },
  {
   "cell_type": "markdown",
   "metadata": {},
   "source": [
    "### Load data"
   ]
  },
  {
   "cell_type": "code",
   "execution_count": 2,
   "metadata": {},
   "outputs": [],
   "source": [
    "# Load any script-based Orca registrations\n",
    "from scripts import datasources\n",
    "from scripts import models"
   ]
  },
  {
   "cell_type": "code",
   "execution_count": 3,
   "metadata": {},
   "outputs": [
    {
     "data": {
      "text/plain": [
       "['parcels', 'buildings', 'rentals', 'units', 'households', 'persons', 'jobs']"
      ]
     },
     "execution_count": 3,
     "metadata": {},
     "output_type": "execute_result"
    }
   ],
   "source": [
    "# get a list of all existing tables\n",
    "orca.list_tables()"
   ]
  },
  {
   "cell_type": "markdown",
   "metadata": {},
   "source": [
    "### Generate Node variables"
   ]
  },
  {
   "cell_type": "code",
   "execution_count": 5,
   "metadata": {},
   "outputs": [
    {
     "name": "stdout",
     "output_type": "stream",
     "text": [
      "Running step 'initialize_network'\n",
      "Time to execute step 'initialize_network': 18.77 s\n",
      "Total time to execute iteration 1 with iteration value None: 18.78 s\n"
     ]
    }
   ],
   "source": [
    "orca.run(['initialize_network'])"
   ]
  },
  {
   "cell_type": "code",
   "execution_count": 6,
   "metadata": {
    "scrolled": true
   },
   "outputs": [
    {
     "name": "stdout",
     "output_type": "stream",
     "text": [
      "Running step 'network_aggregations'\n",
      "Computing accessibility variables\n",
      "Computing residential_units_500\n",
      "Removed 4 rows because they contain missing values\n",
      "Computing residential_units_1500\n",
      "Removed 4 rows because they contain missing values\n",
      "Computing population_1500\n",
      "Removed 189769 rows because they contain missing values\n",
      "Computing poor_1500\n",
      "Removed 53114 rows because they contain missing values\n",
      "Computing renters_1500\n",
      "Removed 102597 rows because they contain missing values\n",
      "Computing med_income_500\n",
      "Removed 189769 rows because they contain missing values\n",
      "Computing med_income_500_log\n",
      "Removed 189769 rows because they contain missing values\n",
      "Computing job_1500\n",
      "Computing job_25km\n",
      "Computing ave_hhsize\n",
      "Removed 189769 rows because they contain missing values\n",
      "Computing med_rent_sqft_1500\n",
      "       residential_units_500  residential_units_1500  population_1500  \\\n",
      "count           30826.000000            30826.000000     30826.000000   \n",
      "mean                4.360019                6.175426      3243.875000   \n",
      "std                 2.391179                2.258851      3562.560059   \n",
      "min                 0.000000                0.000000         0.000000   \n",
      "25%                 2.993019                5.718709       713.128159   \n",
      "50%                 5.298047                7.001040      2655.563354   \n",
      "75%                 6.110861                7.536843      4538.661377   \n",
      "max                 8.692843               10.171852     35464.972656   \n",
      "\n",
      "          poor_1500  renters_1500  med_income_500  med_income_500_log  \\\n",
      "count  30826.000000  30826.000000    3.082600e+04        30826.000000   \n",
      "mean       5.264183      5.140188    7.976662e+04            9.548852   \n",
      "std        2.210156      2.218855    5.314166e+04            4.181036   \n",
      "min        0.000000      0.000000   -1.000000e+00            0.000000   \n",
      "25%        4.496625      4.276326    4.940000e+04           10.807706   \n",
      "50%        5.893643      5.750208    8.000000e+04           11.289782   \n",
      "75%        6.709006      6.635617    1.100000e+05           11.608235   \n",
      "max        9.721747      9.963508    1.007000e+06           13.822486   \n",
      "\n",
      "           job_1500      job_25km    ave_hhsize  med_rent_sqft_1500  \n",
      "count  30826.000000  30826.000000  30826.000000        30826.000000  \n",
      "mean      19.039450     25.153519      1.216286            1.955190  \n",
      "std        5.135336      2.371782      0.332457            1.341586  \n",
      "min        0.000000      0.000000      0.000000           -1.000000  \n",
      "25%       18.786140     25.027816      1.194292            1.555556  \n",
      "50%       20.329606     25.552179      1.280934            2.201671  \n",
      "75%       21.501802     26.013742      1.376780            2.750000  \n",
      "max       26.167675     27.553993      2.302585           14.000000  \n",
      "Time to execute step 'network_aggregations': 129.65 s\n",
      "Total time to execute iteration 1 with iteration value None: 129.66 s\n"
     ]
    }
   ],
   "source": [
    "orca.run(['network_aggregations'])"
   ]
  },
  {
   "cell_type": "code",
   "execution_count": 7,
   "metadata": {},
   "outputs": [
    {
     "data": {
      "text/plain": [
       "['parcels',\n",
       " 'buildings',\n",
       " 'rentals',\n",
       " 'units',\n",
       " 'households',\n",
       " 'persons',\n",
       " 'jobs',\n",
       " 'nodes']"
      ]
     },
     "execution_count": 7,
     "metadata": {},
     "output_type": "execute_result"
    }
   ],
   "source": [
    "orca.list_tables()"
   ]
  },
  {
   "cell_type": "code",
   "execution_count": 8,
   "metadata": {},
   "outputs": [],
   "source": [
    "## make dataframes for all tables\n",
    "frames = {name: orca.get_table(name).to_frame() for name in orca.list_tables()}"
   ]
  },
  {
   "cell_type": "code",
   "execution_count": 10,
   "metadata": {},
   "outputs": [
    {
     "name": "stdout",
     "output_type": "stream",
     "text": [
      "4917 nodes have median income zero or below\n",
      "Total nodes count 30826\n"
     ]
    }
   ],
   "source": [
    "nodes = frames['nodes']\n",
    "print('{} nodes have median income zero or below'.format(len(nodes[nodes.med_income_500 <= 0])))\n",
    "print('Total nodes count {}'.format(len (nodes)))"
   ]
  },
  {
   "cell_type": "code",
   "execution_count": 11,
   "metadata": {},
   "outputs": [
    {
     "name": "stdout",
     "output_type": "stream",
     "text": [
      "3838 nodes have median rent zero or below\n",
      "Total nodes count 30826\n"
     ]
    }
   ],
   "source": [
    "print('{} nodes have median rent zero or below'.format(len(nodes[nodes.med_rent_sqft_1500 <= 0])))\n",
    "print('Total nodes count {}'.format(len (nodes)))"
   ]
  },
  {
   "cell_type": "code",
   "execution_count": null,
   "metadata": {},
   "outputs": [],
   "source": []
  }
 ],
 "metadata": {
  "kernelspec": {
   "display_name": "Python 3",
   "language": "python",
   "name": "python3"
  },
  "language_info": {
   "codemirror_mode": {
    "name": "ipython",
    "version": 3
   },
   "file_extension": ".py",
   "mimetype": "text/x-python",
   "name": "python",
   "nbconvert_exporter": "python",
   "pygments_lexer": "ipython3",
   "version": "3.6.5"
  }
 },
 "nbformat": 4,
 "nbformat_minor": 2
}
