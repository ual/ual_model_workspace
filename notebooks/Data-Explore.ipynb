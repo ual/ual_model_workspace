{
 "cells": [
  {
   "cell_type": "markdown",
   "metadata": {},
   "source": [
    "## BayArea Data Exploration\n",
    "\n",
    "Arezoo Besharati, UrbanSim, July 2018 \n"
   ]
  },
  {
   "cell_type": "code",
   "execution_count": 33,
   "metadata": {},
   "outputs": [],
   "source": [
    "import os; os.chdir('../')\n",
    "import numpy as np, pandas as pd \n",
    "from scipy.stats import skew\n",
    "import warnings;warnings.simplefilter('ignore')\n",
    "import orca\n",
    "class color:\n",
    "    BOLD = '\\033[1m'\n",
    "    END = '\\033[0m'\n",
    "    \n",
    "# Suppress scientific notation in the Pandas display output\n",
    "pd.set_option('display.float_format', lambda x: '%.3f' % x)"
   ]
  },
  {
   "cell_type": "markdown",
   "metadata": {},
   "source": [
    "### Load data"
   ]
  },
  {
   "cell_type": "code",
   "execution_count": 2,
   "metadata": {},
   "outputs": [],
   "source": [
    "# Load any script-based Orca registrations\n",
    "from scripts import datasources\n",
    "from scripts import models"
   ]
  },
  {
   "cell_type": "code",
   "execution_count": 3,
   "metadata": {},
   "outputs": [
    {
     "data": {
      "text/plain": [
       "['parcels', 'buildings', 'rentals', 'units', 'households', 'persons', 'jobs']"
      ]
     },
     "execution_count": 3,
     "metadata": {},
     "output_type": "execute_result"
    }
   ],
   "source": [
    "# get a list of all existing tables\n",
    "orca.list_tables()"
   ]
  },
  {
   "cell_type": "markdown",
   "metadata": {},
   "source": [
    "### Generate Node variables"
   ]
  },
  {
   "cell_type": "code",
   "execution_count": 4,
   "metadata": {},
   "outputs": [
    {
     "name": "stdout",
     "output_type": "stream",
     "text": [
      "Running step 'initialize_network'\n",
      "Time to execute step 'initialize_network': 19.77 s\n",
      "Total time to execute iteration 1 with iteration value None: 19.78 s\n"
     ]
    }
   ],
   "source": [
    "orca.run(['initialize_network'])"
   ]
  },
  {
   "cell_type": "code",
   "execution_count": 5,
   "metadata": {
    "scrolled": true
   },
   "outputs": [
    {
     "name": "stdout",
     "output_type": "stream",
     "text": [
      "Running step 'network_aggregations'\n",
      "Computing accessibility variables\n",
      "Computing residential_units_500\n",
      "Removed 4 rows because they contain missing values\n",
      "Computing residential_units_1500\n",
      "Removed 4 rows because they contain missing values\n",
      "Computing population_1500\n",
      "Removed 189769 rows because they contain missing values\n",
      "Computing poor_1500\n",
      "Removed 53114 rows because they contain missing values\n",
      "Computing renters_1500\n",
      "Removed 102597 rows because they contain missing values\n",
      "Computing med_income_1500\n",
      "Removed 189769 rows because they contain missing values\n",
      "Computing job_1500\n",
      "Computing job_25km\n",
      "Computing ave_hhsize\n",
      "Removed 189769 rows because they contain missing values\n",
      "Computing med_rent_sqft_1500\n",
      "Computing med_rent_sqft_7000\n",
      "       residential_units_500  residential_units_1500  population_1500  \\\n",
      "count           30826.000000            30826.000000     30826.000000   \n",
      "mean                4.360019                6.175426      3243.875000   \n",
      "std                 2.391179                2.258851      3562.560059   \n",
      "min                 0.000000                0.000000         0.000000   \n",
      "25%                 2.993019                5.718709       713.128159   \n",
      "50%                 5.298047                7.001040      2655.563354   \n",
      "75%                 6.110861                7.536843      4538.661377   \n",
      "max                 8.692843               10.171852     35464.972656   \n",
      "\n",
      "          poor_1500  renters_1500  med_income_1500      job_1500  \\\n",
      "count  30826.000000  30826.000000     30826.000000  30826.000000   \n",
      "mean       5.264183      5.140188     87013.539062     19.039450   \n",
      "std        2.210156      2.218855     42413.285156      5.135336   \n",
      "min        0.000000      0.000000        -1.000000      0.000000   \n",
      "25%        4.496625      4.276326     61600.000000     18.786140   \n",
      "50%        5.893643      5.750208     84500.000000     20.329606   \n",
      "75%        6.709006      6.635617    110000.000000     21.501802   \n",
      "max        9.721747      9.963508    528000.000000     26.167675   \n",
      "\n",
      "           job_25km    ave_hhsize  med_rent_sqft_1500  med_rent_sqft_7000  \n",
      "count  30826.000000  30826.000000        30826.000000        30826.000000  \n",
      "mean      25.153519      1.216286            1.955190            2.358348  \n",
      "std        2.371782      0.332457            1.341586            0.861105  \n",
      "min        0.000000      0.000000           -1.000000           -1.000000  \n",
      "25%       25.027816      1.194292            1.555556            1.890244  \n",
      "50%       25.552179      1.280934            2.201671            2.464789  \n",
      "75%       26.013742      1.376780            2.750000            2.815700  \n",
      "max       27.553993      2.302585           14.000000            5.423488  \n",
      "Time to execute step 'network_aggregations': 147.55 s\n",
      "Total time to execute iteration 1 with iteration value None: 147.55 s\n"
     ]
    }
   ],
   "source": [
    "orca.run(['network_aggregations'])"
   ]
  },
  {
   "cell_type": "code",
   "execution_count": 6,
   "metadata": {},
   "outputs": [],
   "source": [
    "# make dataframes for all tables\n",
    "frames = {name: orca.get_table(name).to_frame() for name in orca.list_tables()}"
   ]
  },
  {
   "cell_type": "code",
   "execution_count": 44,
   "metadata": {
    "scrolled": true
   },
   "outputs": [
    {
     "name": "stdout",
     "output_type": "stream",
     "text": [
      "PARCELS\n",
      "['development_type_id', 'land_value', 'acres', 'county_id', 'zone_id', 'proportion_undevelopable', 'tax_exempt_status', 'apn', 'parcel_id_local', 'geom_id', 'imputation_flag', 'x', 'y', 'shape_area', 'block_id', 'node_id']\n",
      "\n",
      "BUILDINGS\n",
      "['parcel_id', 'development_type_id', 'improvement_value', 'residential_units', 'residential_sqft', 'sqft_per_unit', 'non_residential_sqft', 'building_sqft', 'nonres_rent_per_sqft', 'res_price_per_sqft', 'stories', 'year_built', 'redfin_sale_price', 'redfin_sale_year', 'redfin_home_type', 'costar_property_type', 'costar_rent', 'building_type_id', 'node_id']\n",
      "\n",
      "RENTALS\n",
      "['neighborhood', 'price', 'bedrooms', 'date', 'sqft_per_unit', 'lon', 'lat', 'price_per_sqft', 'node_id']\n",
      "\n",
      "UNITS\n",
      "['Unnamed: 0', 'building_id', 'num_units', 'tenure', 'unit_num', 'unit_residential_price', 'unit_residential_rent', 'node_id']\n",
      "\n",
      "HOUSEHOLDS\n",
      "['household_id', 'serialno', 'persons', 'building_type', 'cars', 'income', 'race_of_head', 'hispanic_head', 'age_of_head', 'workers', 'state', 'county', 'tract', 'block group', 'children', 'tenure', 'recent_mover', 'block_group_id', 'single_family', 'unit_id', 'node_id']\n",
      "\n",
      "PERSONS\n",
      "['Unnamed: 0', 'member_id', 'age', 'relate', 'edu', 'sex', 'hours', 'hispanic', 'earning', 'race_id', 'hispanic.1', 'household_id', 'student', 'work_at_home', 'worker', 'node_id']\n",
      "\n",
      "JOBS\n",
      "['job_id', 'building_id', 'naics', 'occupation_id', 'node_id']\n",
      "\n",
      "NODES\n",
      "['residential_units_500', 'residential_units_1500', 'population_1500', 'poor_1500', 'renters_1500', 'med_income_1500', 'job_1500', 'job_25km', 'ave_hhsize', 'med_rent_sqft_1500', 'med_rent_sqft_7000']\n",
      "\n"
     ]
    }
   ],
   "source": [
    "for table_name in orca.list_tables():\n",
    "    print(table_name.upper())\n",
    "    print(orca.get_table(table_name).to_frame().columns.tolist())\n",
    "    print()"
   ]
  },
  {
   "cell_type": "markdown",
   "metadata": {},
   "source": [
    "## Data Quality Check"
   ]
  },
  {
   "cell_type": "markdown",
   "metadata": {},
   "source": [
    " - Checking missing values\n",
    " - Checking the data types\n",
    " - Check for feature's distributions (the skewness)\n"
   ]
  },
  {
   "cell_type": "markdown",
   "metadata": {},
   "source": [
    "## 1. Buildings Table"
   ]
  },
  {
   "cell_type": "code",
   "execution_count": 8,
   "metadata": {},
   "outputs": [
    {
     "name": "stdout",
     "output_type": "stream",
     "text": [
      "<class 'pandas.core.frame.DataFrame'>\n",
      "Int64Index: 1843351 entries, 1 to 1843351\n",
      "Data columns (total 19 columns):\n",
      "parcel_id               int64\n",
      "development_type_id     int64\n",
      "improvement_value       float64\n",
      "residential_units       int64\n",
      "residential_sqft        int64\n",
      "sqft_per_unit           float64\n",
      "non_residential_sqft    int64\n",
      "building_sqft           float64\n",
      "nonres_rent_per_sqft    float64\n",
      "res_price_per_sqft      float64\n",
      "stories                 int64\n",
      "year_built              int64\n",
      "redfin_sale_price       float64\n",
      "redfin_sale_year        float64\n",
      "redfin_home_type        object\n",
      "costar_property_type    object\n",
      "costar_rent             object\n",
      "building_type_id        int64\n",
      "node_id                 object\n",
      "dtypes: float64(7), int64(8), object(4)\n",
      "memory usage: 281.3+ MB\n"
     ]
    }
   ],
   "source": [
    "bld = frames['buildings']\n",
    "bld.info()"
   ]
  },
  {
   "cell_type": "markdown",
   "metadata": {},
   "source": [
    "### 1. 1. Missing values and data types"
   ]
  },
  {
   "cell_type": "code",
   "execution_count": 9,
   "metadata": {},
   "outputs": [
    {
     "name": "stdout",
     "output_type": "stream",
     "text": [
      "\u001b[1mData has missing values\u001b[0m\n",
      "\n",
      "\u001b[1mColumns with missing values :\n",
      "\u001b[0m['redfin_sale_price', 'redfin_sale_year', 'redfin_home_type', 'costar_property_type', 'costar_rent', 'node_id']\n",
      "\n",
      "\u001b[1mString Features: \n",
      "\u001b[0mredfin_home_type        object\n",
      "costar_property_type    object\n",
      "costar_rent             object\n",
      "node_id                 object\n",
      "dtype: object\n"
     ]
    }
   ],
   "source": [
    "# Does data have missing values? \n",
    "\n",
    "print(color.BOLD + 'Data has missing values'+ color.END if bld.isnull().values.any() else 'Data doesnt have missing values')\n",
    "print ('')\n",
    "\n",
    "# What columns/ fields/ variables\n",
    "print (color.BOLD +'Columns with missing values :\\n'+ color.END + '{}'.format(bld.columns[bld.isna().any()].tolist()))\n",
    "print ('')\n",
    "\n",
    "# Check features datatypes and see if there is any string feature that needs to be int/float\n",
    "print(color.BOLD + 'String Features: \\n'+ color.END + '{}'.format(bld.dtypes[bld.dtypes == \"object\"]))\n"
   ]
  },
  {
   "cell_type": "markdown",
   "metadata": {},
   "source": [
    "costar_rent should be integer. "
   ]
  },
  {
   "cell_type": "code",
   "execution_count": 10,
   "metadata": {},
   "outputs": [
    {
     "name": "stdout",
     "output_type": "stream",
     "text": [
      "\n",
      "\u001b[1mBUILDINGS\u001b[0m\n",
      "Count of missing points: \n",
      "redfin_sale_price        755143\n",
      "redfin_sale_year         755143\n",
      "redfin_home_type             78\n",
      "costar_property_type         78\n",
      "costar_rent             1835287\n",
      "dtype: int64\n",
      "Proportion of missing points: \n",
      "redfin_sale_price       0.409658\n",
      "redfin_sale_year        0.409658\n",
      "redfin_home_type        0.000042\n",
      "costar_property_type    0.000042\n",
      "costar_rent             0.995625\n",
      "dtype: float64\n",
      "\n"
     ]
    }
   ],
   "source": [
    "# change the data type and update the column\n",
    "bld.costar_rent = pd.to_numeric(bld.costar_rent, errors='coerce')\n",
    "\n",
    "# Take a count of missing values. What proportion of the data is missing? \n",
    "missing_values_count_bld = bld[['redfin_sale_price', 'redfin_sale_year', 'redfin_home_type', 'costar_property_type', 'costar_rent']].isnull().sum()\n",
    "print ('')\n",
    "print(color.BOLD + 'BUILDINGS' + color.END + '\\nCount of missing points: \\n{}'.format (missing_values_count_bld))\n",
    "print('Proportion of missing points: \\n{}'.format (missing_values_count_bld/ len (bld.costar_rent)))\n",
    "print ('')\n"
   ]
  },
  {
   "cell_type": "markdown",
   "metadata": {},
   "source": [
    "- 99% of costar rent is missing!! Don't use this feature\n",
    "- 40 percent of redfin sale price and year is missing \n",
    "\n",
    "Let's find out what proportion of the missing values is associated with rental units"
   ]
  },
  {
   "cell_type": "code",
   "execution_count": 11,
   "metadata": {},
   "outputs": [
    {
     "name": "stdout",
     "output_type": "stream",
     "text": [
      "0.23 of data are rentals\n"
     ]
    }
   ],
   "source": [
    "df = orca.merge_tables(target='units', tables = ['units','buildings'])\n",
    "# Renters\n",
    "prop_rentals = len(df[(df['redfin_sale_price'].isna() == True)&(df['tenure'] == 2)])/len(df)\n",
    "print('{0:.2f} of data are rentals'.format(prop_rentals))"
   ]
  },
  {
   "cell_type": "markdown",
   "metadata": {},
   "source": [
    "So in fact 17% of the redfin data is missing"
   ]
  },
  {
   "cell_type": "code",
   "execution_count": 12,
   "metadata": {},
   "outputs": [
    {
     "name": "stdout",
     "output_type": "stream",
     "text": [
      "['' 'Condo/Coop' 'Single Family Residential' 'Townhouse'\n",
      " 'Multi-Family (2-4 Unit)' 'Vacant Land' 'Other' 'Multi-Family (5+ Unit)'\n",
      " 'Mobile/Manufactured Home' 'Unknown' 'Timeshare' 'Ranch' None]\n",
      "\n",
      "Single Family Residential    949541\n",
      "                             755065\n",
      "Multi-Family (2-4 Unit)       52348\n",
      "Condo/Coop                    45274\n",
      "Townhouse                     16022\n",
      "Multi-Family (5+ Unit)        10957\n",
      "Other                          6312\n",
      "Vacant Land                    5642\n",
      "Unknown                        1250\n",
      "Mobile/Manufactured Home        859\n",
      "Ranch                             2\n",
      "Timeshare                         1\n",
      "Name: redfin_home_type, dtype: int64\n"
     ]
    }
   ],
   "source": [
    "## let's look at the redfin_home_type\n",
    "print (bld.redfin_home_type.unique())\n",
    "print (\"\")\n",
    "print(bld.redfin_home_type.value_counts())"
   ]
  },
  {
   "cell_type": "code",
   "execution_count": 13,
   "metadata": {},
   "outputs": [
    {
     "name": "stdout",
     "output_type": "stream",
     "text": [
      "0.41 of data missing home type\n"
     ]
    }
   ],
   "source": [
    "# See what proportion of building type is missing\n",
    "\n",
    "missing_home_type = len(bld[(bld.redfin_home_type =='Other')|(bld.redfin_home_type =='Unknown')\\\n",
    "                            |(bld.redfin_home_type == '')])/len(bld)\n",
    "\n",
    "print('{0:.2f} of data missing home type'.format(missing_home_type))"
   ]
  },
  {
   "cell_type": "code",
   "execution_count": 31,
   "metadata": {},
   "outputs": [
    {
     "data": {
      "text/plain": [
       "count   1843351.00\n",
       "mean        289.68\n",
       "std         265.06\n",
       "min           0.00\n",
       "25%         148.11\n",
       "50%         252.34\n",
       "75%         368.13\n",
       "max       50161.09\n",
       "Name: res_price_per_sqft, dtype: float64"
      ]
     },
     "execution_count": 31,
     "metadata": {},
     "output_type": "execute_result"
    }
   ],
   "source": [
    "# check the \"res_price_per_sqft\" var\n",
    "\n",
    "bld.res_price_per_sqft.describe()"
   ]
  },
  {
   "cell_type": "code",
   "execution_count": 74,
   "metadata": {},
   "outputs": [
    {
     "data": {
      "application/javascript": [
       "/* Put everything inside the global mpl namespace */\n",
       "window.mpl = {};\n",
       "\n",
       "\n",
       "mpl.get_websocket_type = function() {\n",
       "    if (typeof(WebSocket) !== 'undefined') {\n",
       "        return WebSocket;\n",
       "    } else if (typeof(MozWebSocket) !== 'undefined') {\n",
       "        return MozWebSocket;\n",
       "    } else {\n",
       "        alert('Your browser does not have WebSocket support.' +\n",
       "              'Please try Chrome, Safari or Firefox ≥ 6. ' +\n",
       "              'Firefox 4 and 5 are also supported but you ' +\n",
       "              'have to enable WebSockets in about:config.');\n",
       "    };\n",
       "}\n",
       "\n",
       "mpl.figure = function(figure_id, websocket, ondownload, parent_element) {\n",
       "    this.id = figure_id;\n",
       "\n",
       "    this.ws = websocket;\n",
       "\n",
       "    this.supports_binary = (this.ws.binaryType != undefined);\n",
       "\n",
       "    if (!this.supports_binary) {\n",
       "        var warnings = document.getElementById(\"mpl-warnings\");\n",
       "        if (warnings) {\n",
       "            warnings.style.display = 'block';\n",
       "            warnings.textContent = (\n",
       "                \"This browser does not support binary websocket messages. \" +\n",
       "                    \"Performance may be slow.\");\n",
       "        }\n",
       "    }\n",
       "\n",
       "    this.imageObj = new Image();\n",
       "\n",
       "    this.context = undefined;\n",
       "    this.message = undefined;\n",
       "    this.canvas = undefined;\n",
       "    this.rubberband_canvas = undefined;\n",
       "    this.rubberband_context = undefined;\n",
       "    this.format_dropdown = undefined;\n",
       "\n",
       "    this.image_mode = 'full';\n",
       "\n",
       "    this.root = $('<div/>');\n",
       "    this._root_extra_style(this.root)\n",
       "    this.root.attr('style', 'display: inline-block');\n",
       "\n",
       "    $(parent_element).append(this.root);\n",
       "\n",
       "    this._init_header(this);\n",
       "    this._init_canvas(this);\n",
       "    this._init_toolbar(this);\n",
       "\n",
       "    var fig = this;\n",
       "\n",
       "    this.waiting = false;\n",
       "\n",
       "    this.ws.onopen =  function () {\n",
       "            fig.send_message(\"supports_binary\", {value: fig.supports_binary});\n",
       "            fig.send_message(\"send_image_mode\", {});\n",
       "            if (mpl.ratio != 1) {\n",
       "                fig.send_message(\"set_dpi_ratio\", {'dpi_ratio': mpl.ratio});\n",
       "            }\n",
       "            fig.send_message(\"refresh\", {});\n",
       "        }\n",
       "\n",
       "    this.imageObj.onload = function() {\n",
       "            if (fig.image_mode == 'full') {\n",
       "                // Full images could contain transparency (where diff images\n",
       "                // almost always do), so we need to clear the canvas so that\n",
       "                // there is no ghosting.\n",
       "                fig.context.clearRect(0, 0, fig.canvas.width, fig.canvas.height);\n",
       "            }\n",
       "            fig.context.drawImage(fig.imageObj, 0, 0);\n",
       "        };\n",
       "\n",
       "    this.imageObj.onunload = function() {\n",
       "        fig.ws.close();\n",
       "    }\n",
       "\n",
       "    this.ws.onmessage = this._make_on_message_function(this);\n",
       "\n",
       "    this.ondownload = ondownload;\n",
       "}\n",
       "\n",
       "mpl.figure.prototype._init_header = function() {\n",
       "    var titlebar = $(\n",
       "        '<div class=\"ui-dialog-titlebar ui-widget-header ui-corner-all ' +\n",
       "        'ui-helper-clearfix\"/>');\n",
       "    var titletext = $(\n",
       "        '<div class=\"ui-dialog-title\" style=\"width: 100%; ' +\n",
       "        'text-align: center; padding: 3px;\"/>');\n",
       "    titlebar.append(titletext)\n",
       "    this.root.append(titlebar);\n",
       "    this.header = titletext[0];\n",
       "}\n",
       "\n",
       "\n",
       "\n",
       "mpl.figure.prototype._canvas_extra_style = function(canvas_div) {\n",
       "\n",
       "}\n",
       "\n",
       "\n",
       "mpl.figure.prototype._root_extra_style = function(canvas_div) {\n",
       "\n",
       "}\n",
       "\n",
       "mpl.figure.prototype._init_canvas = function() {\n",
       "    var fig = this;\n",
       "\n",
       "    var canvas_div = $('<div/>');\n",
       "\n",
       "    canvas_div.attr('style', 'position: relative; clear: both; outline: 0');\n",
       "\n",
       "    function canvas_keyboard_event(event) {\n",
       "        return fig.key_event(event, event['data']);\n",
       "    }\n",
       "\n",
       "    canvas_div.keydown('key_press', canvas_keyboard_event);\n",
       "    canvas_div.keyup('key_release', canvas_keyboard_event);\n",
       "    this.canvas_div = canvas_div\n",
       "    this._canvas_extra_style(canvas_div)\n",
       "    this.root.append(canvas_div);\n",
       "\n",
       "    var canvas = $('<canvas/>');\n",
       "    canvas.addClass('mpl-canvas');\n",
       "    canvas.attr('style', \"left: 0; top: 0; z-index: 0; outline: 0\")\n",
       "\n",
       "    this.canvas = canvas[0];\n",
       "    this.context = canvas[0].getContext(\"2d\");\n",
       "\n",
       "    var backingStore = this.context.backingStorePixelRatio ||\n",
       "\tthis.context.webkitBackingStorePixelRatio ||\n",
       "\tthis.context.mozBackingStorePixelRatio ||\n",
       "\tthis.context.msBackingStorePixelRatio ||\n",
       "\tthis.context.oBackingStorePixelRatio ||\n",
       "\tthis.context.backingStorePixelRatio || 1;\n",
       "\n",
       "    mpl.ratio = (window.devicePixelRatio || 1) / backingStore;\n",
       "\n",
       "    var rubberband = $('<canvas/>');\n",
       "    rubberband.attr('style', \"position: absolute; left: 0; top: 0; z-index: 1;\")\n",
       "\n",
       "    var pass_mouse_events = true;\n",
       "\n",
       "    canvas_div.resizable({\n",
       "        start: function(event, ui) {\n",
       "            pass_mouse_events = false;\n",
       "        },\n",
       "        resize: function(event, ui) {\n",
       "            fig.request_resize(ui.size.width, ui.size.height);\n",
       "        },\n",
       "        stop: function(event, ui) {\n",
       "            pass_mouse_events = true;\n",
       "            fig.request_resize(ui.size.width, ui.size.height);\n",
       "        },\n",
       "    });\n",
       "\n",
       "    function mouse_event_fn(event) {\n",
       "        if (pass_mouse_events)\n",
       "            return fig.mouse_event(event, event['data']);\n",
       "    }\n",
       "\n",
       "    rubberband.mousedown('button_press', mouse_event_fn);\n",
       "    rubberband.mouseup('button_release', mouse_event_fn);\n",
       "    // Throttle sequential mouse events to 1 every 20ms.\n",
       "    rubberband.mousemove('motion_notify', mouse_event_fn);\n",
       "\n",
       "    rubberband.mouseenter('figure_enter', mouse_event_fn);\n",
       "    rubberband.mouseleave('figure_leave', mouse_event_fn);\n",
       "\n",
       "    canvas_div.on(\"wheel\", function (event) {\n",
       "        event = event.originalEvent;\n",
       "        event['data'] = 'scroll'\n",
       "        if (event.deltaY < 0) {\n",
       "            event.step = 1;\n",
       "        } else {\n",
       "            event.step = -1;\n",
       "        }\n",
       "        mouse_event_fn(event);\n",
       "    });\n",
       "\n",
       "    canvas_div.append(canvas);\n",
       "    canvas_div.append(rubberband);\n",
       "\n",
       "    this.rubberband = rubberband;\n",
       "    this.rubberband_canvas = rubberband[0];\n",
       "    this.rubberband_context = rubberband[0].getContext(\"2d\");\n",
       "    this.rubberband_context.strokeStyle = \"#000000\";\n",
       "\n",
       "    this._resize_canvas = function(width, height) {\n",
       "        // Keep the size of the canvas, canvas container, and rubber band\n",
       "        // canvas in synch.\n",
       "        canvas_div.css('width', width)\n",
       "        canvas_div.css('height', height)\n",
       "\n",
       "        canvas.attr('width', width * mpl.ratio);\n",
       "        canvas.attr('height', height * mpl.ratio);\n",
       "        canvas.attr('style', 'width: ' + width + 'px; height: ' + height + 'px;');\n",
       "\n",
       "        rubberband.attr('width', width);\n",
       "        rubberband.attr('height', height);\n",
       "    }\n",
       "\n",
       "    // Set the figure to an initial 600x600px, this will subsequently be updated\n",
       "    // upon first draw.\n",
       "    this._resize_canvas(600, 600);\n",
       "\n",
       "    // Disable right mouse context menu.\n",
       "    $(this.rubberband_canvas).bind(\"contextmenu\",function(e){\n",
       "        return false;\n",
       "    });\n",
       "\n",
       "    function set_focus () {\n",
       "        canvas.focus();\n",
       "        canvas_div.focus();\n",
       "    }\n",
       "\n",
       "    window.setTimeout(set_focus, 100);\n",
       "}\n",
       "\n",
       "mpl.figure.prototype._init_toolbar = function() {\n",
       "    var fig = this;\n",
       "\n",
       "    var nav_element = $('<div/>')\n",
       "    nav_element.attr('style', 'width: 100%');\n",
       "    this.root.append(nav_element);\n",
       "\n",
       "    // Define a callback function for later on.\n",
       "    function toolbar_event(event) {\n",
       "        return fig.toolbar_button_onclick(event['data']);\n",
       "    }\n",
       "    function toolbar_mouse_event(event) {\n",
       "        return fig.toolbar_button_onmouseover(event['data']);\n",
       "    }\n",
       "\n",
       "    for(var toolbar_ind in mpl.toolbar_items) {\n",
       "        var name = mpl.toolbar_items[toolbar_ind][0];\n",
       "        var tooltip = mpl.toolbar_items[toolbar_ind][1];\n",
       "        var image = mpl.toolbar_items[toolbar_ind][2];\n",
       "        var method_name = mpl.toolbar_items[toolbar_ind][3];\n",
       "\n",
       "        if (!name) {\n",
       "            // put a spacer in here.\n",
       "            continue;\n",
       "        }\n",
       "        var button = $('<button/>');\n",
       "        button.addClass('ui-button ui-widget ui-state-default ui-corner-all ' +\n",
       "                        'ui-button-icon-only');\n",
       "        button.attr('role', 'button');\n",
       "        button.attr('aria-disabled', 'false');\n",
       "        button.click(method_name, toolbar_event);\n",
       "        button.mouseover(tooltip, toolbar_mouse_event);\n",
       "\n",
       "        var icon_img = $('<span/>');\n",
       "        icon_img.addClass('ui-button-icon-primary ui-icon');\n",
       "        icon_img.addClass(image);\n",
       "        icon_img.addClass('ui-corner-all');\n",
       "\n",
       "        var tooltip_span = $('<span/>');\n",
       "        tooltip_span.addClass('ui-button-text');\n",
       "        tooltip_span.html(tooltip);\n",
       "\n",
       "        button.append(icon_img);\n",
       "        button.append(tooltip_span);\n",
       "\n",
       "        nav_element.append(button);\n",
       "    }\n",
       "\n",
       "    var fmt_picker_span = $('<span/>');\n",
       "\n",
       "    var fmt_picker = $('<select/>');\n",
       "    fmt_picker.addClass('mpl-toolbar-option ui-widget ui-widget-content');\n",
       "    fmt_picker_span.append(fmt_picker);\n",
       "    nav_element.append(fmt_picker_span);\n",
       "    this.format_dropdown = fmt_picker[0];\n",
       "\n",
       "    for (var ind in mpl.extensions) {\n",
       "        var fmt = mpl.extensions[ind];\n",
       "        var option = $(\n",
       "            '<option/>', {selected: fmt === mpl.default_extension}).html(fmt);\n",
       "        fmt_picker.append(option)\n",
       "    }\n",
       "\n",
       "    // Add hover states to the ui-buttons\n",
       "    $( \".ui-button\" ).hover(\n",
       "        function() { $(this).addClass(\"ui-state-hover\");},\n",
       "        function() { $(this).removeClass(\"ui-state-hover\");}\n",
       "    );\n",
       "\n",
       "    var status_bar = $('<span class=\"mpl-message\"/>');\n",
       "    nav_element.append(status_bar);\n",
       "    this.message = status_bar[0];\n",
       "}\n",
       "\n",
       "mpl.figure.prototype.request_resize = function(x_pixels, y_pixels) {\n",
       "    // Request matplotlib to resize the figure. Matplotlib will then trigger a resize in the client,\n",
       "    // which will in turn request a refresh of the image.\n",
       "    this.send_message('resize', {'width': x_pixels, 'height': y_pixels});\n",
       "}\n",
       "\n",
       "mpl.figure.prototype.send_message = function(type, properties) {\n",
       "    properties['type'] = type;\n",
       "    properties['figure_id'] = this.id;\n",
       "    this.ws.send(JSON.stringify(properties));\n",
       "}\n",
       "\n",
       "mpl.figure.prototype.send_draw_message = function() {\n",
       "    if (!this.waiting) {\n",
       "        this.waiting = true;\n",
       "        this.ws.send(JSON.stringify({type: \"draw\", figure_id: this.id}));\n",
       "    }\n",
       "}\n",
       "\n",
       "\n",
       "mpl.figure.prototype.handle_save = function(fig, msg) {\n",
       "    var format_dropdown = fig.format_dropdown;\n",
       "    var format = format_dropdown.options[format_dropdown.selectedIndex].value;\n",
       "    fig.ondownload(fig, format);\n",
       "}\n",
       "\n",
       "\n",
       "mpl.figure.prototype.handle_resize = function(fig, msg) {\n",
       "    var size = msg['size'];\n",
       "    if (size[0] != fig.canvas.width || size[1] != fig.canvas.height) {\n",
       "        fig._resize_canvas(size[0], size[1]);\n",
       "        fig.send_message(\"refresh\", {});\n",
       "    };\n",
       "}\n",
       "\n",
       "mpl.figure.prototype.handle_rubberband = function(fig, msg) {\n",
       "    var x0 = msg['x0'] / mpl.ratio;\n",
       "    var y0 = (fig.canvas.height - msg['y0']) / mpl.ratio;\n",
       "    var x1 = msg['x1'] / mpl.ratio;\n",
       "    var y1 = (fig.canvas.height - msg['y1']) / mpl.ratio;\n",
       "    x0 = Math.floor(x0) + 0.5;\n",
       "    y0 = Math.floor(y0) + 0.5;\n",
       "    x1 = Math.floor(x1) + 0.5;\n",
       "    y1 = Math.floor(y1) + 0.5;\n",
       "    var min_x = Math.min(x0, x1);\n",
       "    var min_y = Math.min(y0, y1);\n",
       "    var width = Math.abs(x1 - x0);\n",
       "    var height = Math.abs(y1 - y0);\n",
       "\n",
       "    fig.rubberband_context.clearRect(\n",
       "        0, 0, fig.canvas.width, fig.canvas.height);\n",
       "\n",
       "    fig.rubberband_context.strokeRect(min_x, min_y, width, height);\n",
       "}\n",
       "\n",
       "mpl.figure.prototype.handle_figure_label = function(fig, msg) {\n",
       "    // Updates the figure title.\n",
       "    fig.header.textContent = msg['label'];\n",
       "}\n",
       "\n",
       "mpl.figure.prototype.handle_cursor = function(fig, msg) {\n",
       "    var cursor = msg['cursor'];\n",
       "    switch(cursor)\n",
       "    {\n",
       "    case 0:\n",
       "        cursor = 'pointer';\n",
       "        break;\n",
       "    case 1:\n",
       "        cursor = 'default';\n",
       "        break;\n",
       "    case 2:\n",
       "        cursor = 'crosshair';\n",
       "        break;\n",
       "    case 3:\n",
       "        cursor = 'move';\n",
       "        break;\n",
       "    }\n",
       "    fig.rubberband_canvas.style.cursor = cursor;\n",
       "}\n",
       "\n",
       "mpl.figure.prototype.handle_message = function(fig, msg) {\n",
       "    fig.message.textContent = msg['message'];\n",
       "}\n",
       "\n",
       "mpl.figure.prototype.handle_draw = function(fig, msg) {\n",
       "    // Request the server to send over a new figure.\n",
       "    fig.send_draw_message();\n",
       "}\n",
       "\n",
       "mpl.figure.prototype.handle_image_mode = function(fig, msg) {\n",
       "    fig.image_mode = msg['mode'];\n",
       "}\n",
       "\n",
       "mpl.figure.prototype.updated_canvas_event = function() {\n",
       "    // Called whenever the canvas gets updated.\n",
       "    this.send_message(\"ack\", {});\n",
       "}\n",
       "\n",
       "// A function to construct a web socket function for onmessage handling.\n",
       "// Called in the figure constructor.\n",
       "mpl.figure.prototype._make_on_message_function = function(fig) {\n",
       "    return function socket_on_message(evt) {\n",
       "        if (evt.data instanceof Blob) {\n",
       "            /* FIXME: We get \"Resource interpreted as Image but\n",
       "             * transferred with MIME type text/plain:\" errors on\n",
       "             * Chrome.  But how to set the MIME type?  It doesn't seem\n",
       "             * to be part of the websocket stream */\n",
       "            evt.data.type = \"image/png\";\n",
       "\n",
       "            /* Free the memory for the previous frames */\n",
       "            if (fig.imageObj.src) {\n",
       "                (window.URL || window.webkitURL).revokeObjectURL(\n",
       "                    fig.imageObj.src);\n",
       "            }\n",
       "\n",
       "            fig.imageObj.src = (window.URL || window.webkitURL).createObjectURL(\n",
       "                evt.data);\n",
       "            fig.updated_canvas_event();\n",
       "            fig.waiting = false;\n",
       "            return;\n",
       "        }\n",
       "        else if (typeof evt.data === 'string' && evt.data.slice(0, 21) == \"data:image/png;base64\") {\n",
       "            fig.imageObj.src = evt.data;\n",
       "            fig.updated_canvas_event();\n",
       "            fig.waiting = false;\n",
       "            return;\n",
       "        }\n",
       "\n",
       "        var msg = JSON.parse(evt.data);\n",
       "        var msg_type = msg['type'];\n",
       "\n",
       "        // Call the  \"handle_{type}\" callback, which takes\n",
       "        // the figure and JSON message as its only arguments.\n",
       "        try {\n",
       "            var callback = fig[\"handle_\" + msg_type];\n",
       "        } catch (e) {\n",
       "            console.log(\"No handler for the '\" + msg_type + \"' message type: \", msg);\n",
       "            return;\n",
       "        }\n",
       "\n",
       "        if (callback) {\n",
       "            try {\n",
       "                // console.log(\"Handling '\" + msg_type + \"' message: \", msg);\n",
       "                callback(fig, msg);\n",
       "            } catch (e) {\n",
       "                console.log(\"Exception inside the 'handler_\" + msg_type + \"' callback:\", e, e.stack, msg);\n",
       "            }\n",
       "        }\n",
       "    };\n",
       "}\n",
       "\n",
       "// from http://stackoverflow.com/questions/1114465/getting-mouse-location-in-canvas\n",
       "mpl.findpos = function(e) {\n",
       "    //this section is from http://www.quirksmode.org/js/events_properties.html\n",
       "    var targ;\n",
       "    if (!e)\n",
       "        e = window.event;\n",
       "    if (e.target)\n",
       "        targ = e.target;\n",
       "    else if (e.srcElement)\n",
       "        targ = e.srcElement;\n",
       "    if (targ.nodeType == 3) // defeat Safari bug\n",
       "        targ = targ.parentNode;\n",
       "\n",
       "    // jQuery normalizes the pageX and pageY\n",
       "    // pageX,Y are the mouse positions relative to the document\n",
       "    // offset() returns the position of the element relative to the document\n",
       "    var x = e.pageX - $(targ).offset().left;\n",
       "    var y = e.pageY - $(targ).offset().top;\n",
       "\n",
       "    return {\"x\": x, \"y\": y};\n",
       "};\n",
       "\n",
       "/*\n",
       " * return a copy of an object with only non-object keys\n",
       " * we need this to avoid circular references\n",
       " * http://stackoverflow.com/a/24161582/3208463\n",
       " */\n",
       "function simpleKeys (original) {\n",
       "  return Object.keys(original).reduce(function (obj, key) {\n",
       "    if (typeof original[key] !== 'object')\n",
       "        obj[key] = original[key]\n",
       "    return obj;\n",
       "  }, {});\n",
       "}\n",
       "\n",
       "mpl.figure.prototype.mouse_event = function(event, name) {\n",
       "    var canvas_pos = mpl.findpos(event)\n",
       "\n",
       "    if (name === 'button_press')\n",
       "    {\n",
       "        this.canvas.focus();\n",
       "        this.canvas_div.focus();\n",
       "    }\n",
       "\n",
       "    var x = canvas_pos.x * mpl.ratio;\n",
       "    var y = canvas_pos.y * mpl.ratio;\n",
       "\n",
       "    this.send_message(name, {x: x, y: y, button: event.button,\n",
       "                             step: event.step,\n",
       "                             guiEvent: simpleKeys(event)});\n",
       "\n",
       "    /* This prevents the web browser from automatically changing to\n",
       "     * the text insertion cursor when the button is pressed.  We want\n",
       "     * to control all of the cursor setting manually through the\n",
       "     * 'cursor' event from matplotlib */\n",
       "    event.preventDefault();\n",
       "    return false;\n",
       "}\n",
       "\n",
       "mpl.figure.prototype._key_event_extra = function(event, name) {\n",
       "    // Handle any extra behaviour associated with a key event\n",
       "}\n",
       "\n",
       "mpl.figure.prototype.key_event = function(event, name) {\n",
       "\n",
       "    // Prevent repeat events\n",
       "    if (name == 'key_press')\n",
       "    {\n",
       "        if (event.which === this._key)\n",
       "            return;\n",
       "        else\n",
       "            this._key = event.which;\n",
       "    }\n",
       "    if (name == 'key_release')\n",
       "        this._key = null;\n",
       "\n",
       "    var value = '';\n",
       "    if (event.ctrlKey && event.which != 17)\n",
       "        value += \"ctrl+\";\n",
       "    if (event.altKey && event.which != 18)\n",
       "        value += \"alt+\";\n",
       "    if (event.shiftKey && event.which != 16)\n",
       "        value += \"shift+\";\n",
       "\n",
       "    value += 'k';\n",
       "    value += event.which.toString();\n",
       "\n",
       "    this._key_event_extra(event, name);\n",
       "\n",
       "    this.send_message(name, {key: value,\n",
       "                             guiEvent: simpleKeys(event)});\n",
       "    return false;\n",
       "}\n",
       "\n",
       "mpl.figure.prototype.toolbar_button_onclick = function(name) {\n",
       "    if (name == 'download') {\n",
       "        this.handle_save(this, null);\n",
       "    } else {\n",
       "        this.send_message(\"toolbar_button\", {name: name});\n",
       "    }\n",
       "};\n",
       "\n",
       "mpl.figure.prototype.toolbar_button_onmouseover = function(tooltip) {\n",
       "    this.message.textContent = tooltip;\n",
       "};\n",
       "mpl.toolbar_items = [[\"Home\", \"Reset original view\", \"fa fa-home icon-home\", \"home\"], [\"Back\", \"Back to  previous view\", \"fa fa-arrow-left icon-arrow-left\", \"back\"], [\"Forward\", \"Forward to next view\", \"fa fa-arrow-right icon-arrow-right\", \"forward\"], [\"\", \"\", \"\", \"\"], [\"Pan\", \"Pan axes with left mouse, zoom with right\", \"fa fa-arrows icon-move\", \"pan\"], [\"Zoom\", \"Zoom to rectangle\", \"fa fa-square-o icon-check-empty\", \"zoom\"], [\"\", \"\", \"\", \"\"], [\"Download\", \"Download plot\", \"fa fa-floppy-o icon-save\", \"download\"]];\n",
       "\n",
       "mpl.extensions = [\"eps\", \"pdf\", \"png\", \"ps\", \"raw\", \"svg\"];\n",
       "\n",
       "mpl.default_extension = \"png\";var comm_websocket_adapter = function(comm) {\n",
       "    // Create a \"websocket\"-like object which calls the given IPython comm\n",
       "    // object with the appropriate methods. Currently this is a non binary\n",
       "    // socket, so there is still some room for performance tuning.\n",
       "    var ws = {};\n",
       "\n",
       "    ws.close = function() {\n",
       "        comm.close()\n",
       "    };\n",
       "    ws.send = function(m) {\n",
       "        //console.log('sending', m);\n",
       "        comm.send(m);\n",
       "    };\n",
       "    // Register the callback with on_msg.\n",
       "    comm.on_msg(function(msg) {\n",
       "        //console.log('receiving', msg['content']['data'], msg);\n",
       "        // Pass the mpl event to the overridden (by mpl) onmessage function.\n",
       "        ws.onmessage(msg['content']['data'])\n",
       "    });\n",
       "    return ws;\n",
       "}\n",
       "\n",
       "mpl.mpl_figure_comm = function(comm, msg) {\n",
       "    // This is the function which gets called when the mpl process\n",
       "    // starts-up an IPython Comm through the \"matplotlib\" channel.\n",
       "\n",
       "    var id = msg.content.data.id;\n",
       "    // Get hold of the div created by the display call when the Comm\n",
       "    // socket was opened in Python.\n",
       "    var element = $(\"#\" + id);\n",
       "    var ws_proxy = comm_websocket_adapter(comm)\n",
       "\n",
       "    function ondownload(figure, format) {\n",
       "        window.open(figure.imageObj.src);\n",
       "    }\n",
       "\n",
       "    var fig = new mpl.figure(id, ws_proxy,\n",
       "                           ondownload,\n",
       "                           element.get(0));\n",
       "\n",
       "    // Call onopen now - mpl needs it, as it is assuming we've passed it a real\n",
       "    // web socket which is closed, not our websocket->open comm proxy.\n",
       "    ws_proxy.onopen();\n",
       "\n",
       "    fig.parent_element = element.get(0);\n",
       "    fig.cell_info = mpl.find_output_cell(\"<div id='\" + id + \"'></div>\");\n",
       "    if (!fig.cell_info) {\n",
       "        console.error(\"Failed to find cell for figure\", id, fig);\n",
       "        return;\n",
       "    }\n",
       "\n",
       "    var output_index = fig.cell_info[2]\n",
       "    var cell = fig.cell_info[0];\n",
       "\n",
       "};\n",
       "\n",
       "mpl.figure.prototype.handle_close = function(fig, msg) {\n",
       "    var width = fig.canvas.width/mpl.ratio\n",
       "    fig.root.unbind('remove')\n",
       "\n",
       "    // Update the output cell to use the data from the current canvas.\n",
       "    fig.push_to_output();\n",
       "    var dataURL = fig.canvas.toDataURL();\n",
       "    // Re-enable the keyboard manager in IPython - without this line, in FF,\n",
       "    // the notebook keyboard shortcuts fail.\n",
       "    IPython.keyboard_manager.enable()\n",
       "    $(fig.parent_element).html('<img src=\"' + dataURL + '\" width=\"' + width + '\">');\n",
       "    fig.close_ws(fig, msg);\n",
       "}\n",
       "\n",
       "mpl.figure.prototype.close_ws = function(fig, msg){\n",
       "    fig.send_message('closing', msg);\n",
       "    // fig.ws.close()\n",
       "}\n",
       "\n",
       "mpl.figure.prototype.push_to_output = function(remove_interactive) {\n",
       "    // Turn the data on the canvas into data in the output cell.\n",
       "    var width = this.canvas.width/mpl.ratio\n",
       "    var dataURL = this.canvas.toDataURL();\n",
       "    this.cell_info[1]['text/html'] = '<img src=\"' + dataURL + '\" width=\"' + width + '\">';\n",
       "}\n",
       "\n",
       "mpl.figure.prototype.updated_canvas_event = function() {\n",
       "    // Tell IPython that the notebook contents must change.\n",
       "    IPython.notebook.set_dirty(true);\n",
       "    this.send_message(\"ack\", {});\n",
       "    var fig = this;\n",
       "    // Wait a second, then push the new image to the DOM so\n",
       "    // that it is saved nicely (might be nice to debounce this).\n",
       "    setTimeout(function () { fig.push_to_output() }, 1000);\n",
       "}\n",
       "\n",
       "mpl.figure.prototype._init_toolbar = function() {\n",
       "    var fig = this;\n",
       "\n",
       "    var nav_element = $('<div/>')\n",
       "    nav_element.attr('style', 'width: 100%');\n",
       "    this.root.append(nav_element);\n",
       "\n",
       "    // Define a callback function for later on.\n",
       "    function toolbar_event(event) {\n",
       "        return fig.toolbar_button_onclick(event['data']);\n",
       "    }\n",
       "    function toolbar_mouse_event(event) {\n",
       "        return fig.toolbar_button_onmouseover(event['data']);\n",
       "    }\n",
       "\n",
       "    for(var toolbar_ind in mpl.toolbar_items){\n",
       "        var name = mpl.toolbar_items[toolbar_ind][0];\n",
       "        var tooltip = mpl.toolbar_items[toolbar_ind][1];\n",
       "        var image = mpl.toolbar_items[toolbar_ind][2];\n",
       "        var method_name = mpl.toolbar_items[toolbar_ind][3];\n",
       "\n",
       "        if (!name) { continue; };\n",
       "\n",
       "        var button = $('<button class=\"btn btn-default\" href=\"#\" title=\"' + name + '\"><i class=\"fa ' + image + ' fa-lg\"></i></button>');\n",
       "        button.click(method_name, toolbar_event);\n",
       "        button.mouseover(tooltip, toolbar_mouse_event);\n",
       "        nav_element.append(button);\n",
       "    }\n",
       "\n",
       "    // Add the status bar.\n",
       "    var status_bar = $('<span class=\"mpl-message\" style=\"text-align:right; float: right;\"/>');\n",
       "    nav_element.append(status_bar);\n",
       "    this.message = status_bar[0];\n",
       "\n",
       "    // Add the close button to the window.\n",
       "    var buttongrp = $('<div class=\"btn-group inline pull-right\"></div>');\n",
       "    var button = $('<button class=\"btn btn-mini btn-primary\" href=\"#\" title=\"Stop Interaction\"><i class=\"fa fa-power-off icon-remove icon-large\"></i></button>');\n",
       "    button.click(function (evt) { fig.handle_close(fig, {}); } );\n",
       "    button.mouseover('Stop Interaction', toolbar_mouse_event);\n",
       "    buttongrp.append(button);\n",
       "    var titlebar = this.root.find($('.ui-dialog-titlebar'));\n",
       "    titlebar.prepend(buttongrp);\n",
       "}\n",
       "\n",
       "mpl.figure.prototype._root_extra_style = function(el){\n",
       "    var fig = this\n",
       "    el.on(\"remove\", function(){\n",
       "\tfig.close_ws(fig, {});\n",
       "    });\n",
       "}\n",
       "\n",
       "mpl.figure.prototype._canvas_extra_style = function(el){\n",
       "    // this is important to make the div 'focusable\n",
       "    el.attr('tabindex', 0)\n",
       "    // reach out to IPython and tell the keyboard manager to turn it's self\n",
       "    // off when our div gets focus\n",
       "\n",
       "    // location in version 3\n",
       "    if (IPython.notebook.keyboard_manager) {\n",
       "        IPython.notebook.keyboard_manager.register_events(el);\n",
       "    }\n",
       "    else {\n",
       "        // location in version 2\n",
       "        IPython.keyboard_manager.register_events(el);\n",
       "    }\n",
       "\n",
       "}\n",
       "\n",
       "mpl.figure.prototype._key_event_extra = function(event, name) {\n",
       "    var manager = IPython.notebook.keyboard_manager;\n",
       "    if (!manager)\n",
       "        manager = IPython.keyboard_manager;\n",
       "\n",
       "    // Check for shift+enter\n",
       "    if (event.shiftKey && event.which == 13) {\n",
       "        this.canvas_div.blur();\n",
       "        event.shiftKey = false;\n",
       "        // Send a \"J\" for go to next cell\n",
       "        event.which = 74;\n",
       "        event.keyCode = 74;\n",
       "        manager.command_mode();\n",
       "        manager.handle_keydown(event);\n",
       "    }\n",
       "}\n",
       "\n",
       "mpl.figure.prototype.handle_save = function(fig, msg) {\n",
       "    fig.ondownload(fig, null);\n",
       "}\n",
       "\n",
       "\n",
       "mpl.find_output_cell = function(html_output) {\n",
       "    // Return the cell and output element which can be found *uniquely* in the notebook.\n",
       "    // Note - this is a bit hacky, but it is done because the \"notebook_saving.Notebook\"\n",
       "    // IPython event is triggered only after the cells have been serialised, which for\n",
       "    // our purposes (turning an active figure into a static one), is too late.\n",
       "    var cells = IPython.notebook.get_cells();\n",
       "    var ncells = cells.length;\n",
       "    for (var i=0; i<ncells; i++) {\n",
       "        var cell = cells[i];\n",
       "        if (cell.cell_type === 'code'){\n",
       "            for (var j=0; j<cell.output_area.outputs.length; j++) {\n",
       "                var data = cell.output_area.outputs[j];\n",
       "                if (data.data) {\n",
       "                    // IPython >= 3 moved mimebundle to data attribute of output\n",
       "                    data = data.data;\n",
       "                }\n",
       "                if (data['text/html'] == html_output) {\n",
       "                    return [cell, data, j];\n",
       "                }\n",
       "            }\n",
       "        }\n",
       "    }\n",
       "}\n",
       "\n",
       "// Register the function which deals with the matplotlib target/channel.\n",
       "// The kernel may be null if the page has been refreshed.\n",
       "if (IPython.notebook.kernel != null) {\n",
       "    IPython.notebook.kernel.comm_manager.register_target('matplotlib', mpl.mpl_figure_comm);\n",
       "}\n"
      ],
      "text/plain": [
       "<IPython.core.display.Javascript object>"
      ]
     },
     "metadata": {},
     "output_type": "display_data"
    },
    {
     "data": {
      "text/html": [
       "<img src=\"data:image/png;base64,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\" width=\"431.6666781019284\">"
      ],
      "text/plain": [
       "<IPython.core.display.HTML object>"
      ]
     },
     "metadata": {},
     "output_type": "display_data"
    }
   ],
   "source": [
    "import matplotlib.pylab as plt\n",
    "% matplotlib notebook\n",
    "plt.hist(bld.res_price_per_sqft,bins =500);\n",
    "plt.show()"
   ]
  },
  {
   "cell_type": "code",
   "execution_count": 42,
   "metadata": {},
   "outputs": [
    {
     "name": "stdout",
     "output_type": "stream",
     "text": [
      "The residential price per sqft for 0.08 of data is zero\n"
     ]
    }
   ],
   "source": [
    "residential_price_zero = len(bld[bld.res_price_per_sqft == 0])/len(bld)\n",
    "print('The residential price per sqft for {0:.2f} of data is zero'.format(residential_price_zero))"
   ]
  },
  {
   "cell_type": "code",
   "execution_count": 53,
   "metadata": {},
   "outputs": [
    {
     "name": "stdout",
     "output_type": "stream",
     "text": [
      "0.92 of building are residential\n",
      "0.08 of building are non-residential\n"
     ]
    }
   ],
   "source": [
    "#Proportion of residential and non-residential buildings\n",
    "\n",
    "non_residential_bld = len (bld[bld['residential_units']==0])/len(bld)\n",
    "print('{0:.2f} of building are residential'.format(1- non_residential_bld))\n",
    "print('{0:.2f} of building are non-residential'.format(non_residential_bld))\n"
   ]
  },
  {
   "cell_type": "markdown",
   "metadata": {},
   "source": [
    "### 1. 2. Skewness"
   ]
  },
  {
   "cell_type": "code",
   "execution_count": 14,
   "metadata": {},
   "outputs": [
    {
     "name": "stdout",
     "output_type": "stream",
     "text": [
      "\u001b[1mSkewed features are as follows\u001b[0m\n",
      "development_type_id       5.016555\n",
      "improvement_value       426.819356\n",
      "residential_units        81.661524\n",
      "residential_sqft        268.561217\n",
      "sqft_per_unit             7.571696\n",
      "non_residential_sqft    262.976882\n",
      "building_sqft           182.739753\n",
      "nonres_rent_per_sqft      5.122144\n",
      "res_price_per_sqft       15.234865\n",
      "stories                  15.571343\n",
      "redfin_sale_price        62.174607\n",
      "costar_rent               9.356972\n",
      "building_type_id          4.316067\n",
      "dtype: float64\n"
     ]
    }
   ],
   "source": [
    "numeric_feats = bld.dtypes[bld.dtypes != \"object\"].index\n",
    "\n",
    "skewed_feats = bld[numeric_feats].apply(lambda x: skew(x.dropna()))\n",
    "skewed_feats = skewed_feats[skewed_feats > 0.5]\n",
    "print(color.BOLD +'Skewed features are as follows'+ color.END + '\\n{}'.format (skewed_feats))"
   ]
  },
  {
   "cell_type": "markdown",
   "metadata": {},
   "source": [
    "_____________________________________________________________________________________________________"
   ]
  },
  {
   "cell_type": "markdown",
   "metadata": {},
   "source": [
    "## 2. Households Table"
   ]
  },
  {
   "cell_type": "code",
   "execution_count": 15,
   "metadata": {},
   "outputs": [
    {
     "name": "stdout",
     "output_type": "stream",
     "text": [
      "<class 'pandas.core.frame.DataFrame'>\n",
      "RangeIndex: 2679684 entries, 0 to 2679683\n",
      "Data columns (total 21 columns):\n",
      "household_id      int64\n",
      "serialno          int64\n",
      "persons           int64\n",
      "building_type     float64\n",
      "cars              float64\n",
      "income            float64\n",
      "race_of_head      int64\n",
      "hispanic_head     object\n",
      "age_of_head       int64\n",
      "workers           float64\n",
      "state             int64\n",
      "county            int64\n",
      "tract             int64\n",
      "block group       int64\n",
      "children          float64\n",
      "tenure            int64\n",
      "recent_mover      int64\n",
      "block_group_id    int64\n",
      "single_family     bool\n",
      "unit_id           int64\n",
      "node_id           object\n",
      "dtypes: bool(1), float64(5), int64(13), object(2)\n",
      "memory usage: 411.4+ MB\n"
     ]
    }
   ],
   "source": [
    "households = frames['households']\n",
    "households.info()"
   ]
  },
  {
   "cell_type": "markdown",
   "metadata": {},
   "source": [
    "### 2. 1. Missing values and data types"
   ]
  },
  {
   "cell_type": "code",
   "execution_count": 16,
   "metadata": {},
   "outputs": [
    {
     "name": "stdout",
     "output_type": "stream",
     "text": [
      "\u001b[1mData has missing values\u001b[0m\n",
      "\n",
      "Columns with missing values : ['workers', 'children', 'node_id']\n",
      "\n",
      "\u001b[1mString Features: \n",
      "\u001b[0mhispanic_head    object\n",
      "node_id          object\n",
      "dtype: object\n"
     ]
    }
   ],
   "source": [
    "# Does data have missing values? \n",
    "print(color.BOLD + 'Data has missing values'+ color.END if households.isnull().values.any() else 'Data doesnt have missing values')\n",
    "print ('')\n",
    "\n",
    "# What columns/ variables\n",
    "print ('Columns with missing values : {}'.format(households.columns[households.isna().any()].tolist()))\n",
    "print ('')\n",
    "\n",
    "# Check features datatypes and see if there is any string feature that needs to be int/float\n",
    "print(color.BOLD + 'String Features: \\n'+ color.END + '{}'.format(households.dtypes[households.dtypes == \"object\"]))"
   ]
  },
  {
   "cell_type": "code",
   "execution_count": 17,
   "metadata": {},
   "outputs": [
    {
     "name": "stdout",
     "output_type": "stream",
     "text": [
      "\n",
      "\u001b[1mHOUSEHOLDS\u001b[0m\n",
      "Count of missing points: \n",
      "workers      581022\n",
      "children    1835041\n",
      "node_id      189769\n",
      "dtype: int64\n",
      "Proportion of missing points: \n",
      "workers     0.216825\n",
      "children    0.684798\n",
      "node_id     0.070818\n",
      "dtype: float64\n"
     ]
    }
   ],
   "source": [
    "# Take a count of missing values. What proportion of the data is missing? \n",
    "missing_values_count_hh = households[['workers', 'children', 'node_id']].isnull().sum()\n",
    "print ('')\n",
    "print(color.BOLD + 'HOUSEHOLDS' + color.END + '\\nCount of missing points: \\n{}'.format (missing_values_count_hh))\n",
    "print('Proportion of missing points: \\n{}'.format (missing_values_count_hh/ len (households.node_id)))"
   ]
  },
  {
   "cell_type": "markdown",
   "metadata": {},
   "source": [
    "_____________________________________________________________________________________________________"
   ]
  },
  {
   "cell_type": "markdown",
   "metadata": {},
   "source": [
    "## 3. Parcels Table"
   ]
  },
  {
   "cell_type": "code",
   "execution_count": 18,
   "metadata": {},
   "outputs": [
    {
     "name": "stdout",
     "output_type": "stream",
     "text": [
      "<class 'pandas.core.frame.DataFrame'>\n",
      "Int64Index: 1956212 entries, 229116 to 572927\n",
      "Data columns (total 16 columns):\n",
      "development_type_id         int64\n",
      "land_value                  float64\n",
      "acres                       float64\n",
      "county_id                   int64\n",
      "zone_id                     int64\n",
      "proportion_undevelopable    float64\n",
      "tax_exempt_status           int64\n",
      "apn                         object\n",
      "parcel_id_local             object\n",
      "geom_id                     int64\n",
      "imputation_flag             object\n",
      "x                           float64\n",
      "y                           float64\n",
      "shape_area                  float64\n",
      "block_id                    object\n",
      "node_id                     object\n",
      "dtypes: float64(6), int64(5), object(5)\n",
      "memory usage: 253.7+ MB\n"
     ]
    }
   ],
   "source": [
    "parcels = frames['parcels']\n",
    "parcels.info()"
   ]
  },
  {
   "cell_type": "code",
   "execution_count": 19,
   "metadata": {
    "scrolled": true
   },
   "outputs": [
    {
     "name": "stdout",
     "output_type": "stream",
     "text": [
      "\u001b[1mData has missing values\u001b[0m\n",
      "\n",
      "Columns with missing values : ['x', 'y', 'block_id', 'node_id']\n",
      "\n",
      "\u001b[1mString Features: \n",
      "\u001b[0mapn                object\n",
      "parcel_id_local    object\n",
      "imputation_flag    object\n",
      "block_id           object\n",
      "node_id            object\n",
      "dtype: object\n",
      "\n",
      "\u001b[1mPARCELS\u001b[0m\n",
      "Count of missing points: \n",
      " x           4\n",
      "y           4\n",
      "block_id    5\n",
      "node_id     4\n",
      "dtype: int64\n",
      "Proportion of missing points: \n",
      "x           0.000002\n",
      "y           0.000002\n",
      "block_id    0.000003\n",
      "node_id     0.000002\n",
      "dtype: float64\n"
     ]
    }
   ],
   "source": [
    "# Does data have missing values? \n",
    "print(color.BOLD + 'Data has missing values'+ color.END if parcels.isnull().values.any() else 'Data doesnt have missing values')\n",
    "print ('')\n",
    "\n",
    "# What columns/ variables\n",
    "print ('Columns with missing values : {}'.format(parcels.columns[parcels.isna().any()].tolist()))\n",
    "print ('')\n",
    "\n",
    "\n",
    "#Check features datatypes and see if there is any string feature that needs to be int/float\n",
    "print(color.BOLD + 'String Features: \\n'+ color.END + '{}'.format(parcels.dtypes[parcels.dtypes == \"object\"]))\n",
    "print ('')\n",
    "\n",
    "# Take a count of missing values. What proportion of the data is missing? \n",
    "missing_values_count_parcels = parcels[['x', 'y', 'block_id', 'node_id']].isnull().sum()\n",
    "print(color.BOLD + 'PARCELS' + color.END + '\\nCount of missing points: \\n {}'.format(missing_values_count_parcels))\n",
    "print('Proportion of missing points: \\n{}'.format(missing_values_count_parcels/ len(parcels.node_id)))"
   ]
  },
  {
   "cell_type": "markdown",
   "metadata": {},
   "source": [
    "_____________________________________________________________________________________________________"
   ]
  },
  {
   "cell_type": "markdown",
   "metadata": {},
   "source": [
    "## 4. Node Variables\n"
   ]
  },
  {
   "cell_type": "code",
   "execution_count": 20,
   "metadata": {},
   "outputs": [
    {
     "name": "stdout",
     "output_type": "stream",
     "text": [
      "<class 'pandas.core.frame.DataFrame'>\n",
      "Int64Index: 30826 entries, 281266 to 5461052801\n",
      "Data columns (total 11 columns):\n",
      "residential_units_500     30826 non-null float32\n",
      "residential_units_1500    30826 non-null float32\n",
      "population_1500           30826 non-null float32\n",
      "poor_1500                 30826 non-null float32\n",
      "renters_1500              30826 non-null float32\n",
      "med_income_1500           30826 non-null float32\n",
      "job_1500                  30826 non-null float32\n",
      "job_25km                  30826 non-null float32\n",
      "ave_hhsize                30826 non-null float32\n",
      "med_rent_sqft_1500        30826 non-null float32\n",
      "med_rent_sqft_7000        30826 non-null float32\n",
      "dtypes: float32(11)\n",
      "memory usage: 1.5 MB\n"
     ]
    }
   ],
   "source": [
    "nodes = frames['nodes']\n",
    "nodes.info()"
   ]
  },
  {
   "cell_type": "markdown",
   "metadata": {},
   "source": [
    "### 4. 1. Missing values and Data types"
   ]
  },
  {
   "cell_type": "code",
   "execution_count": 21,
   "metadata": {},
   "outputs": [
    {
     "name": "stdout",
     "output_type": "stream",
     "text": [
      "Data doesnt have missing values\n",
      "\n",
      "Nodes table shape(30826, 11)\n"
     ]
    }
   ],
   "source": [
    "# Does data have missing values? \n",
    "print(color.BOLD + 'Data has missing values'+ color.END if nodes.isnull().values.any() else 'Data doesnt have missing values')\n",
    "print ('')\n",
    "print ('Nodes table shape{}'.format(nodes.shape))\n"
   ]
  },
  {
   "cell_type": "markdown",
   "metadata": {},
   "source": [
    "### 4. 2. Skewness"
   ]
  },
  {
   "cell_type": "code",
   "execution_count": 22,
   "metadata": {},
   "outputs": [
    {
     "name": "stdout",
     "output_type": "stream",
     "text": [
      "\u001b[1mSkewed features are as follows\u001b[0m\n",
      "residential_units_500    -0.831149\n",
      "residential_units_1500   -1.568542\n",
      "population_1500           3.155539\n",
      "poor_1500                -1.123878\n",
      "renters_1500             -0.984857\n",
      "med_income_1500           0.944540\n",
      "job_1500                 -2.902729\n",
      "job_25km                 -5.457487\n",
      "ave_hhsize               -2.768345\n",
      "med_rent_sqft_1500       -0.800983\n",
      "med_rent_sqft_7000       -0.892179\n",
      "dtype: float64\n"
     ]
    }
   ],
   "source": [
    "numeric_feats = nodes.dtypes[nodes.dtypes != \"object\"].index\n",
    "\n",
    "skewed_feats = nodes[numeric_feats].apply(lambda x: skew(x))\n",
    "print(color.BOLD +'Skewed features are as follows'+ color.END + '\\n{}'.format (skewed_feats))"
   ]
  },
  {
   "cell_type": "markdown",
   "metadata": {},
   "source": [
    "## Anomaly Detection"
   ]
  },
  {
   "cell_type": "code",
   "execution_count": 23,
   "metadata": {},
   "outputs": [],
   "source": [
    "df = orca.merge_tables(target='units', tables=['units','buildings','nodes'])"
   ]
  },
  {
   "cell_type": "code",
   "execution_count": 24,
   "metadata": {},
   "outputs": [
    {
     "name": "stdout",
     "output_type": "stream",
     "text": [
      "0.036 of data has non_residential space\n"
     ]
    }
   ],
   "source": [
    "non_residential_sqft = len(df[df.non_residential_sqft != 0])/len(df)\n",
    "\n",
    "print('{0:.3f} of data has non_residential space'.format(non_residential_sqft))"
   ]
  },
  {
   "cell_type": "code",
   "execution_count": 25,
   "metadata": {},
   "outputs": [
    {
     "name": "stdout",
     "output_type": "stream",
     "text": [
      "0.002 of data is probably not residential\n"
     ]
    }
   ],
   "source": [
    "res_price_per_sqft = len (df[df.res_price_per_sqft == 0])/ len(df)\n",
    "\n",
    "print('{0:.3f} of data is probably not residential'.format(res_price_per_sqft))"
   ]
  },
  {
   "cell_type": "code",
   "execution_count": null,
   "metadata": {},
   "outputs": [],
   "source": []
  }
 ],
 "metadata": {
  "kernelspec": {
   "display_name": "Python 3",
   "language": "python",
   "name": "python3"
  },
  "language_info": {
   "codemirror_mode": {
    "name": "ipython",
    "version": 3
   },
   "file_extension": ".py",
   "mimetype": "text/x-python",
   "name": "python",
   "nbconvert_exporter": "python",
   "pygments_lexer": "ipython3",
   "version": "3.6.5"
  }
 },
 "nbformat": 4,
 "nbformat_minor": 2
}
