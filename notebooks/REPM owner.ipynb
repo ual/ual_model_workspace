{
 "cells": [
  {
   "cell_type": "markdown",
   "metadata": {},
   "source": [
    "# Real estate price model workflow\n",
    "\n",
    "Sam Maurer, Feb 2018; Paul Waddell, June 2018\n",
    "\n",
    "Python 3.6, intended to be backward compatible with 2.7"
   ]
  },
  {
   "cell_type": "code",
   "execution_count": 1,
   "metadata": {},
   "outputs": [],
   "source": [
    "from __future__ import print_function\n",
    "\n",
    "import numpy as np\n",
    "import pandas as pd"
   ]
  },
  {
   "cell_type": "code",
   "execution_count": 2,
   "metadata": {},
   "outputs": [],
   "source": [
    "# Standard to run UrbanSim from the root level of the project directory\n",
    "\n",
    "import os; os.chdir('../')"
   ]
  },
  {
   "cell_type": "code",
   "execution_count": 3,
   "metadata": {},
   "outputs": [
    {
     "name": "stderr",
     "output_type": "stream",
     "text": [
      "/Users/waddell/anaconda3/envs/ual-model/lib/python3.6/site-packages/statsmodels/compat/pandas.py:56: FutureWarning: The pandas.core.datetools module is deprecated and will be removed in a future version. Please use the pandas.tseries module instead.\n",
      "  from pandas.core import datetools\n"
     ]
    }
   ],
   "source": [
    "from urbansim_templates import modelmanager as mm\n",
    "from urbansim_templates.models import OLSRegressionStep\n",
    "import orca"
   ]
  },
  {
   "cell_type": "code",
   "execution_count": null,
   "metadata": {},
   "outputs": [],
   "source": []
  },
  {
   "cell_type": "code",
   "execution_count": 4,
   "metadata": {},
   "outputs": [],
   "source": [
    "# Load any script-based Orca registrations\n",
    "from scripts import datasources\n",
    "from scripts import models"
   ]
  },
  {
   "cell_type": "markdown",
   "metadata": {},
   "source": [
    "## Explore the Orca registrations"
   ]
  },
  {
   "cell_type": "code",
   "execution_count": 5,
   "metadata": {},
   "outputs": [
    {
     "data": {
      "text/plain": [
       "['parcels', 'buildings', 'sales', 'units', 'households', 'persons', 'jobs']"
      ]
     },
     "execution_count": 5,
     "metadata": {},
     "output_type": "execute_result"
    }
   ],
   "source": [
    "orca.list_tables()"
   ]
  },
  {
   "cell_type": "code",
   "execution_count": null,
   "metadata": {},
   "outputs": [],
   "source": [
    "for table_name in orca.list_tables():\n",
    "    print(table_name.upper())\n",
    "    print(orca.get_table(table_name).to_frame().columns.tolist())\n",
    "    print()"
   ]
  },
  {
   "cell_type": "code",
   "execution_count": null,
   "metadata": {},
   "outputs": [],
   "source": [
    "orca.list_broadcasts()"
   ]
  },
  {
   "cell_type": "code",
   "execution_count": null,
   "metadata": {},
   "outputs": [],
   "source": [
    "orca.list_steps()"
   ]
  },
  {
   "cell_type": "code",
   "execution_count": null,
   "metadata": {},
   "outputs": [],
   "source": []
  },
  {
   "cell_type": "markdown",
   "metadata": {},
   "source": [
    "## Explore the data\n",
    "\n",
    "Orca doesn't execute code to load the registered objects until it needs to."
   ]
  },
  {
   "cell_type": "code",
   "execution_count": null,
   "metadata": {},
   "outputs": [],
   "source": [
    "orca.get_table('parcels').to_frame().describe()"
   ]
  },
  {
   "cell_type": "code",
   "execution_count": null,
   "metadata": {},
   "outputs": [],
   "source": [
    "orca.get_table('buildings').to_frame().describe()"
   ]
  },
  {
   "cell_type": "code",
   "execution_count": null,
   "metadata": {},
   "outputs": [],
   "source": [
    "orca.get_table('units').to_frame().describe()"
   ]
  },
  {
   "cell_type": "code",
   "execution_count": 6,
   "metadata": {},
   "outputs": [
    {
     "name": "stderr",
     "output_type": "stream",
     "text": [
      "/Users/waddell/anaconda3/envs/ual-model/lib/python3.6/site-packages/orca/orca.py:1069: DtypeWarning: Columns (0,1,2,5,6,8,9,10,11,12,13,14,15,16,17,18,19,20,21,22,23,24,25,26,27,28,29,30,31,32,33,34,37,38,39,40,41,42,44,47,50,51,52,53,54,55,56,58,59,61,63,64,65,66,67,68,69,70,71,72,73,74,75,76,77,78,79,80,81,82,83,84,86,88,89,90,91,92,93,94,95,96) have mixed types. Specify dtype option on import or set low_memory=False.\n",
      "  table = table()\n"
     ]
    },
    {
     "data": {
      "text/html": [
       "<div>\n",
       "<style scoped>\n",
       "    .dataframe tbody tr th:only-of-type {\n",
       "        vertical-align: middle;\n",
       "    }\n",
       "\n",
       "    .dataframe tbody tr th {\n",
       "        vertical-align: top;\n",
       "    }\n",
       "\n",
       "    .dataframe thead th {\n",
       "        text-align: right;\n",
       "    }\n",
       "</style>\n",
       "<table border=\"1\" class=\"dataframe\">\n",
       "  <thead>\n",
       "    <tr style=\"text-align: right;\">\n",
       "      <th></th>\n",
       "      <th>sr_unique_id</th>\n",
       "      <th>sr_property_id</th>\n",
       "      <th>sr_scm_id</th>\n",
       "      <th>mm_state_code</th>\n",
       "      <th>mm_muni_name</th>\n",
       "      <th>mm_fips_state_code</th>\n",
       "      <th>mm_fips_muni_code</th>\n",
       "      <th>mm_fips_county_name</th>\n",
       "      <th>sr_parcel_nbr_raw</th>\n",
       "      <th>sr_site_addr_raw</th>\n",
       "      <th>...</th>\n",
       "      <th>use_code_std</th>\n",
       "      <th>sa_sqft</th>\n",
       "      <th>sa_x_coord</th>\n",
       "      <th>sa_y_coord</th>\n",
       "      <th>sa_geo_qlty_code</th>\n",
       "      <th>ucb_geo_id</th>\n",
       "      <th>ucb_price_sqft</th>\n",
       "      <th>ucb_price_sqft_adj</th>\n",
       "      <th>ucb_condo_subdiv_flag</th>\n",
       "      <th>ucb_condo_subdiv_sqft</th>\n",
       "    </tr>\n",
       "  </thead>\n",
       "  <tbody>\n",
       "    <tr>\n",
       "      <th>count</th>\n",
       "      <td>2147515</td>\n",
       "      <td>2147515</td>\n",
       "      <td>2147515</td>\n",
       "      <td>2147515</td>\n",
       "      <td>2147515</td>\n",
       "      <td>2147515</td>\n",
       "      <td>2147515</td>\n",
       "      <td>2147515</td>\n",
       "      <td>691804</td>\n",
       "      <td>913221</td>\n",
       "      <td>...</td>\n",
       "      <td>2147515</td>\n",
       "      <td>2147515</td>\n",
       "      <td>2.147515e+06</td>\n",
       "      <td>2.147515e+06</td>\n",
       "      <td>2147515</td>\n",
       "      <td>2147515</td>\n",
       "      <td>2147515</td>\n",
       "      <td>2147515</td>\n",
       "      <td>2147515</td>\n",
       "      <td>2147515</td>\n",
       "    </tr>\n",
       "    <tr>\n",
       "      <th>unique</th>\n",
       "      <td>2147508</td>\n",
       "      <td>1177568</td>\n",
       "      <td>19</td>\n",
       "      <td>2</td>\n",
       "      <td>10</td>\n",
       "      <td>3</td>\n",
       "      <td>19</td>\n",
       "      <td>10</td>\n",
       "      <td>596470</td>\n",
       "      <td>737291</td>\n",
       "      <td>...</td>\n",
       "      <td>12</td>\n",
       "      <td>15239</td>\n",
       "      <td>6.836970e+05</td>\n",
       "      <td>7.166460e+05</td>\n",
       "      <td>8</td>\n",
       "      <td>3154</td>\n",
       "      <td>3086</td>\n",
       "      <td>3165</td>\n",
       "      <td>5</td>\n",
       "      <td>16199</td>\n",
       "    </tr>\n",
       "    <tr>\n",
       "      <th>top</th>\n",
       "      <td>sr_unique_id</td>\n",
       "      <td>23529393</td>\n",
       "      <td>68</td>\n",
       "      <td>CA</td>\n",
       "      <td>SANTA CLARA</td>\n",
       "      <td>6</td>\n",
       "      <td>85</td>\n",
       "      <td>SANTA CLARA</td>\n",
       "      <td>230   29    106</td>\n",
       "      <td>1000 PINE ST</td>\n",
       "      <td>...</td>\n",
       "      <td>RSFR</td>\n",
       "      <td>1000</td>\n",
       "      <td>1.222952e+02</td>\n",
       "      <td>3.783943e+01</td>\n",
       "      <td>0</td>\n",
       "      <td>6013355108</td>\n",
       "      <td>125</td>\n",
       "      <td>215</td>\n",
       "      <td>0</td>\n",
       "      <td>1000</td>\n",
       "    </tr>\n",
       "    <tr>\n",
       "      <th>freq</th>\n",
       "      <td>8</td>\n",
       "      <td>122</td>\n",
       "      <td>483328</td>\n",
       "      <td>2147507</td>\n",
       "      <td>485745</td>\n",
       "      <td>2081979</td>\n",
       "      <td>483328</td>\n",
       "      <td>485745</td>\n",
       "      <td>118</td>\n",
       "      <td>31</td>\n",
       "      <td>...</td>\n",
       "      <td>1578663</td>\n",
       "      <td>9580</td>\n",
       "      <td>1.014000e+03</td>\n",
       "      <td>1.018000e+03</td>\n",
       "      <td>1942970</td>\n",
       "      <td>7327</td>\n",
       "      <td>9892</td>\n",
       "      <td>7249</td>\n",
       "      <td>2076195</td>\n",
       "      <td>9557</td>\n",
       "    </tr>\n",
       "  </tbody>\n",
       "</table>\n",
       "<p>4 rows × 97 columns</p>\n",
       "</div>"
      ],
      "text/plain": [
       "        sr_unique_id  sr_property_id  sr_scm_id mm_state_code mm_muni_name  \\\n",
       "count        2147515         2147515    2147515       2147515      2147515   \n",
       "unique       2147508         1177568         19             2           10   \n",
       "top     sr_unique_id        23529393         68            CA  SANTA CLARA   \n",
       "freq               8             122     483328       2147507       485745   \n",
       "\n",
       "        mm_fips_state_code  mm_fips_muni_code mm_fips_county_name  \\\n",
       "count              2147515            2147515             2147515   \n",
       "unique                   3                 19                  10   \n",
       "top                      6                 85         SANTA CLARA   \n",
       "freq               2081979             483328              485745   \n",
       "\n",
       "       sr_parcel_nbr_raw sr_site_addr_raw          ...          use_code_std  \\\n",
       "count             691804           913221          ...               2147515   \n",
       "unique            596470           737291          ...                    12   \n",
       "top      230   29    106     1000 PINE ST          ...                  RSFR   \n",
       "freq                 118               31          ...               1578663   \n",
       "\n",
       "        sa_sqft    sa_x_coord    sa_y_coord sa_geo_qlty_code  ucb_geo_id  \\\n",
       "count   2147515  2.147515e+06  2.147515e+06          2147515     2147515   \n",
       "unique    15239  6.836970e+05  7.166460e+05                8        3154   \n",
       "top        1000  1.222952e+02  3.783943e+01                0  6013355108   \n",
       "freq       9580  1.014000e+03  1.018000e+03          1942970        7327   \n",
       "\n",
       "       ucb_price_sqft ucb_price_sqft_adj ucb_condo_subdiv_flag  \\\n",
       "count         2147515            2147515               2147515   \n",
       "unique           3086               3165                     5   \n",
       "top               125                215                     0   \n",
       "freq             9892               7249               2076195   \n",
       "\n",
       "       ucb_condo_subdiv_sqft  \n",
       "count                2147515  \n",
       "unique                 16199  \n",
       "top                     1000  \n",
       "freq                    9557  \n",
       "\n",
       "[4 rows x 97 columns]"
      ]
     },
     "execution_count": 6,
     "metadata": {},
     "output_type": "execute_result"
    }
   ],
   "source": [
    "orca.get_table('sales').to_frame().describe()"
   ]
  },
  {
   "cell_type": "markdown",
   "metadata": {},
   "source": [
    "## Generate accessibility measures for the price model\n",
    "\n",
    "The network accessibility metrics are not stored on disk; for now we'll generate them using legacy code."
   ]
  },
  {
   "cell_type": "code",
   "execution_count": null,
   "metadata": {},
   "outputs": [],
   "source": [
    "orca.run(['initialize_network'])"
   ]
  },
  {
   "cell_type": "code",
   "execution_count": null,
   "metadata": {
    "scrolled": true
   },
   "outputs": [],
   "source": [
    "orca.run(['network_aggregations'])"
   ]
  },
  {
   "cell_type": "code",
   "execution_count": null,
   "metadata": {},
   "outputs": [],
   "source": [
    "%%capture\n",
    "orca.run(['neighborhood_vars'])"
   ]
  },
  {
   "cell_type": "code",
   "execution_count": null,
   "metadata": {},
   "outputs": [],
   "source": [
    "orca.list_tables()"
   ]
  },
  {
   "cell_type": "code",
   "execution_count": null,
   "metadata": {},
   "outputs": [],
   "source": [
    "print(orca.get_table('nodes').to_frame().columns.tolist())"
   ]
  },
  {
   "cell_type": "code",
   "execution_count": null,
   "metadata": {},
   "outputs": [],
   "source": []
  },
  {
   "cell_type": "markdown",
   "metadata": {},
   "source": [
    "# Estimate a price model\n",
    "\n",
    "The basic idea of the parcel template is that we create model steps by _passing arguments to classes_ rather than by writing Python functions and giving them Orca decorators, as we would for a fully custom model.\n",
    "\n",
    "Much of the functionality for this is already built into UrbanSim and Orca, we'll just need to extend things here and there.\n",
    "\n",
    "This demo uses a new RegressionStep() class that provides a full model development workflow: estimating a model, registering it with Orca, saving it for future use."
   ]
  },
  {
   "cell_type": "markdown",
   "metadata": {},
   "source": [
    "### Specify parameters and pass them to a model object"
   ]
  },
  {
   "cell_type": "code",
   "execution_count": null,
   "metadata": {},
   "outputs": [],
   "source": [
    "# Specify the model expression and names of tables to draw data from (the first table\n",
    "# is the primary one; additional tables must be able to merge onto it unambiguously)\n",
    "\n",
    "tables = ['buildings', 'parcels', 'nodes']\n",
    "\n",
    "model_expression = (\n",
    "    \"np.log1p(res_price_per_sqft) ~ \"\n",
    "        \"parcel_acres + \"\n",
    "        \"year_built + \"\n",
    "        \"ave_income + \"\n",
    "        \"distance_to_freeway + \"\n",
    "        \"population_400m + \"\n",
    "        \"jobs_3000m\")\n",
    "\n",
    "# Give the prospective model step some tags, and a name if desired\n",
    "\n",
    "name = None\n",
    "tags = ['residential-price-hedonic', 'sam', '201802']\n",
    "\n",
    "# For prediction, specify destination column (if different from the dependent variable\n",
    "# used for estimation), and how to reverse the left-hand-side transformation\n",
    "\n",
    "out_fname = 'fitted_price'\n",
    "ytransform = np.exp"
   ]
  },
  {
   "cell_type": "code",
   "execution_count": null,
   "metadata": {},
   "outputs": [],
   "source": [
    "# Generate a new column to store the fitted prices\n",
    "\n",
    "zeros = np.repeat(0.0, len(orca.get_table('buildings')))\n",
    "orca.get_table('buildings').update_col('fitted_price', zeros)"
   ]
  },
  {
   "cell_type": "code",
   "execution_count": null,
   "metadata": {},
   "outputs": [],
   "source": [
    "# Create the model object\n",
    "\n",
    "model = RegressionStep(model_expression, tables, name=name, tags=tags,\n",
    "                       out_fname=out_fname, ytransform=ytransform)"
   ]
  },
  {
   "cell_type": "code",
   "execution_count": null,
   "metadata": {},
   "outputs": [],
   "source": []
  },
  {
   "cell_type": "markdown",
   "metadata": {},
   "source": [
    "### Fit the model"
   ]
  },
  {
   "cell_type": "code",
   "execution_count": null,
   "metadata": {},
   "outputs": [],
   "source": [
    "model.fit()"
   ]
  },
  {
   "cell_type": "code",
   "execution_count": null,
   "metadata": {},
   "outputs": [],
   "source": []
  },
  {
   "cell_type": "markdown",
   "metadata": {},
   "source": [
    "### If we like it, register it as an Orca step"
   ]
  },
  {
   "cell_type": "code",
   "execution_count": null,
   "metadata": {},
   "outputs": [],
   "source": [
    "model.register()"
   ]
  },
  {
   "cell_type": "code",
   "execution_count": null,
   "metadata": {},
   "outputs": [],
   "source": [
    "orca.list_steps()"
   ]
  },
  {
   "cell_type": "code",
   "execution_count": null,
   "metadata": {},
   "outputs": [],
   "source": []
  },
  {
   "cell_type": "markdown",
   "metadata": {},
   "source": [
    "### Run the Orca step"
   ]
  },
  {
   "cell_type": "code",
   "execution_count": null,
   "metadata": {},
   "outputs": [],
   "source": [
    "orca.run(['RegressionStep-20180214-210159'])"
   ]
  },
  {
   "cell_type": "code",
   "execution_count": null,
   "metadata": {},
   "outputs": [],
   "source": []
  },
  {
   "cell_type": "markdown",
   "metadata": {},
   "source": [
    "### Check the fitted values"
   ]
  },
  {
   "cell_type": "code",
   "execution_count": null,
   "metadata": {},
   "outputs": [],
   "source": [
    "df = orca.get_table('buildings').to_frame(['res_price_per_sqft', 'fitted_price'])\n",
    "df.loc[df.fitted_price > 0].describe()"
   ]
  },
  {
   "cell_type": "code",
   "execution_count": null,
   "metadata": {},
   "outputs": [],
   "source": []
  },
  {
   "cell_type": "markdown",
   "metadata": {},
   "source": [
    "### BONUS\n",
    "\n",
    "Running \"model.register()\" also registered the step with the new ModelManager extention, which saves it to disk so that it can be automatically re-loaded in the future.\n",
    "\n",
    "The \"test\" model steps here were estimated earlier and loaded from disk. They're fully functional: we can run them in Orca, inspect the estimation results, etc."
   ]
  },
  {
   "cell_type": "code",
   "execution_count": null,
   "metadata": {},
   "outputs": [],
   "source": [
    "mm.list_steps()"
   ]
  },
  {
   "cell_type": "code",
   "execution_count": null,
   "metadata": {},
   "outputs": [],
   "source": [
    "rs = mm.get_step('test-1')\n",
    "type(rs)"
   ]
  },
  {
   "cell_type": "code",
   "execution_count": null,
   "metadata": {},
   "outputs": [],
   "source": [
    "rs.model_expression"
   ]
  },
  {
   "cell_type": "code",
   "execution_count": null,
   "metadata": {},
   "outputs": [],
   "source": [
    "rs.model.report_fit()"
   ]
  },
  {
   "cell_type": "code",
   "execution_count": null,
   "metadata": {},
   "outputs": [],
   "source": []
  },
  {
   "cell_type": "code",
   "execution_count": null,
   "metadata": {},
   "outputs": [],
   "source": []
  },
  {
   "cell_type": "code",
   "execution_count": null,
   "metadata": {},
   "outputs": [],
   "source": []
  },
  {
   "cell_type": "code",
   "execution_count": null,
   "metadata": {},
   "outputs": [],
   "source": []
  },
  {
   "cell_type": "code",
   "execution_count": null,
   "metadata": {},
   "outputs": [],
   "source": []
  },
  {
   "cell_type": "code",
   "execution_count": null,
   "metadata": {},
   "outputs": [],
   "source": []
  }
 ],
 "metadata": {
  "kernelspec": {
   "display_name": "Python 3",
   "language": "python",
   "name": "python3"
  },
  "language_info": {
   "codemirror_mode": {
    "name": "ipython",
    "version": 3
   },
   "file_extension": ".py",
   "mimetype": "text/x-python",
   "name": "python",
   "nbconvert_exporter": "python",
   "pygments_lexer": "ipython3",
   "version": "3.6.5"
  }
 },
 "nbformat": 4,
 "nbformat_minor": 2
}
