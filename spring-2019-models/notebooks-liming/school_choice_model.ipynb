{
 "cells": [
  {
   "cell_type": "markdown",
   "metadata": {},
   "source": [
    "# Specify tables and columns"
   ]
  },
  {
   "cell_type": "code",
   "execution_count": 1,
   "metadata": {},
   "outputs": [],
   "source": [
    "import numpy as np\n",
    "import pandas as pd\n",
    "import orca\n",
    "import os; os.chdir('../')\n",
    "import warnings; warnings.simplefilter('ignore')\n",
    "\n",
    "# Set data directory\n",
    "\n",
    "d = '/home/data/fall_2018/'\n",
    "\n",
    "if 'data_directory' in orca.list_injectables():\n",
    "    d = orca.get_injectable('data_directory')\n",
    "    \n",
    "#from scripts import datasources, models, variables"
   ]
  },
  {
   "cell_type": "code",
   "execution_count": 2,
   "metadata": {},
   "outputs": [
    {
     "data": {
      "text/plain": [
       "<orca.orca.DataFrameWrapper at 0x7f2415fee630>"
      ]
     },
     "execution_count": 2,
     "metadata": {},
     "output_type": "execute_result"
    }
   ],
   "source": [
    "@orca.table(cache=True)\n",
    "def persons():\n",
    "    df = pd.read_csv(\n",
    "        d + 'chts_persons_w_zone_ids.csv',\n",
    "        index_col = [\"SAMPN\", \"PERNO\"]\n",
    "    )\n",
    "    return df\n",
    "\n",
    "#persons_chts = persons_df1.join(persons_df2, how=\"left\")\n",
    "\n",
    "persons = orca.get_table('persons').to_frame()\n",
    "students = persons.loc[persons['STUDE'].isin([1, 2])# full time & part time students\n",
    "                 & persons['SCHOL'].isin([3,  # Kindergarten to grade 8\n",
    "                                          4,  # Grades 9 to 12 \n",
    "                                          6,  # 2-year college (community college) \n",
    "                                          7,  # 4-year college or university \n",
    "                                          8]) # Graduate school / Professional \n",
    "                 & (~persons['SNAME_lookup'].isna()) \n",
    "                 & (persons['SNAME_lookup'] != \"DK/RF\")]\n",
    "len(students)\n",
    "\n",
    "schools_raw = students.groupby(by=[\"SCHOL\", \"SNAME_lookup\", \"SZIP_lookup\"]) \\\n",
    "                      .size().reset_index(name='enrollment')\n",
    "# There are 3505 unique \"schools\", most of them have 1 student in the CHTS sample\n",
    "# For now, keep only schools with 3+ students in the CHTS sample\n",
    "schools = schools_raw.loc[schools_raw['enrollment'] >= 3].reset_index(drop=True) #.drop(columns=[\"enrollment\"])\n",
    "schools.index.name = \"school_id\"\n",
    "schools.reset_index(inplace=True)\n",
    "\n",
    "students = pd.merge(students, schools.drop(columns=[\"enrollment\"]), \n",
    "                    how=\"inner\", on=[\"SCHOL\", \"SNAME_lookup\", \"SZIP_lookup\"])\n",
    "#students = students.loc[~students['school_id'].isna()]\n",
    "\n",
    "orca.add_table('students', students)\n",
    "orca.add_table('schools', schools)\n",
    "#len(students)\n",
    "#len(schools)"
   ]
  },
  {
   "cell_type": "code",
   "execution_count": 3,
   "metadata": {},
   "outputs": [],
   "source": [
    "## DIAGNOSTICS\n",
    "#schools\n",
    "#students[[\"index\", \"school_id\"]]"
   ]
  },
  {
   "cell_type": "code",
   "execution_count": 4,
   "metadata": {},
   "outputs": [],
   "source": [
    "@orca.column('students', 'is_college_student', cache=True)\n",
    "def is_college_student(students):\n",
    "    is_college_map = {3: 0,\n",
    "                      4: 0,\n",
    "                      6: 1,\n",
    "                      7: 1,\n",
    "                      8: 1}\n",
    "    return students.SCHOL.map(is_college_map)\n",
    "\n",
    "#@orca.column('students', 'school_id', cache=True)\n",
    "#def school_id(students, schools):\n",
    "#    misc.reindex()\n",
    "#    return pd.merge(students, schools, how=\"left\", on=[\"SCHOL\", \"SNAME_lookup\", \"SZIP_lookup\"])[\"school_id\"]"
   ]
  },
  {
   "cell_type": "markdown",
   "metadata": {},
   "source": [
    "# Configure models"
   ]
  },
  {
   "cell_type": "code",
   "execution_count": 5,
   "metadata": {},
   "outputs": [
    {
     "name": "stdout",
     "output_type": "stream",
     "text": [
      "Registering model step 'auto_ownership'\n",
      "Registering model step 'TOD_choice'\n",
      "Registering model step 'primary_mode_choice'\n",
      "Registering model step 'WLCM'\n",
      "                  CHOICEMODELS ESTIMATION RESULTS                  \n",
      "===================================================================\n",
      "Dep. Var.:                chosen   No. Observations:          1,595\n",
      "Model:         Multinomial Logit   Df Residuals:              1,593\n",
      "Method:       Maximum Likelihood   Df Model:                      2\n",
      "Date:                 2019-03-11   Pseudo R-squ.:             0.040\n",
      "Time:                      18:39   Pseudo R-bar-squ.:         0.039\n",
      "AIC:                   9,181.624   Log-Likelihood:       -4,588.812\n",
      "BIC:                   9,192.373   LL-Null:              -4,778.193\n",
      "===============================================================\n",
      "                coef   std err         z     P>|z|   Conf. Int.\n",
      "---------------------------------------------------------------\n",
      "Intercept    -0.0000     0.035    -0.000     1.000             \n",
      "enrollment    0.0746     0.003    22.400     0.000             \n",
      "===============================================================\n"
     ]
    }
   ],
   "source": [
    "from urbansim_templates import modelmanager\n",
    "from urbansim_templates.models import SmallMultinomialLogitStep, LargeMultinomialLogitStep, SegmentedLargeMultinomialLogitStep\n",
    "\n",
    "modelmanager.initialize()\n",
    "\n",
    "m0 = LargeMultinomialLogitStep(\n",
    "      choosers=\"students\",\n",
    "      alternatives=\"schools\",\n",
    "      model_expression=\"enrollment\",\n",
    "      choice_column=\"school_id\",\n",
    "      alt_sample_size = 20\n",
    ")\n",
    "m0.fit()"
   ]
  },
  {
   "cell_type": "code",
   "execution_count": 6,
   "metadata": {},
   "outputs": [
    {
     "name": "stdout",
     "output_type": "stream",
     "text": [
      "Building submodels for 2 categories: [0 1]\n",
      "################## SEGMENT: is_college_student = 0 ###################\n",
      "                  CHOICEMODELS ESTIMATION RESULTS                  \n",
      "===================================================================\n",
      "Dep. Var.:                chosen   No. Observations:          1,073\n",
      "Model:         Multinomial Logit   Df Residuals:              1,071\n",
      "Method:       Maximum Likelihood   Df Model:                      2\n",
      "Date:                 2019-03-11   Pseudo R-squ.:             0.000\n",
      "Time:                      18:39   Pseudo R-bar-squ.:        -0.001\n",
      "AIC:                   6,432.834   Log-Likelihood:       -3,214.417\n",
      "BIC:                   6,442.791   LL-Null:              -3,214.421\n",
      "===============================================================\n",
      "                coef   std err         z     P>|z|   Conf. Int.\n",
      "---------------------------------------------------------------\n",
      "Intercept    -0.0000     0.075    -0.000     1.000             \n",
      "enrollment    0.0007     0.014     0.050     0.960             \n",
      "===============================================================\n",
      "################## SEGMENT: is_college_student = 1 ###################\n",
      "                  CHOICEMODELS ESTIMATION RESULTS                  \n",
      "===================================================================\n",
      "Dep. Var.:                chosen   No. Observations:            522\n",
      "Model:         Multinomial Logit   Df Residuals:                520\n",
      "Method:       Maximum Likelihood   Df Model:                      2\n",
      "Date:                 2019-03-11   Pseudo R-squ.:             0.196\n",
      "Time:                      18:39   Pseudo R-bar-squ.:         0.194\n",
      "AIC:                   2,519.718   Log-Likelihood:       -1,257.859\n",
      "BIC:                   2,528.233   LL-Null:              -1,563.772\n",
      "===============================================================\n",
      "                coef   std err         z     P>|z|   Conf. Int.\n",
      "---------------------------------------------------------------\n",
      "Intercept    -0.0000     0.068    -0.000     1.000             \n",
      "enrollment    0.1360     0.004    31.511     0.000             \n",
      "===============================================================\n"
     ]
    }
   ],
   "source": [
    "from urbansim_templates.models import SegmentedLargeMultinomialLogitStep\n",
    "\n",
    "m = SegmentedLargeMultinomialLogitStep(\n",
    "      defaults = m0,\n",
    "      name = \"school-choice-model\",\n",
    "      segmentation_column = \"is_college_student\",\n",
    "      )\n",
    "\n",
    "m.fit_all()"
   ]
  }
 ],
 "metadata": {
  "kernelspec": {
   "display_name": "Python 3",
   "language": "python",
   "name": "python3"
  },
  "language_info": {
   "codemirror_mode": {
    "name": "ipython",
    "version": 3
   },
   "file_extension": ".py",
   "mimetype": "text/x-python",
   "name": "python",
   "nbconvert_exporter": "python",
   "pygments_lexer": "ipython3",
   "version": "3.6.8"
  }
 },
 "nbformat": 4,
 "nbformat_minor": 2
}
