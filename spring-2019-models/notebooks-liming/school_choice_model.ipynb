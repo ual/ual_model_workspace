{
 "cells": [
  {
   "cell_type": "markdown",
   "metadata": {},
   "source": [
    "# Specify tables and columns"
   ]
  },
  {
   "cell_type": "code",
   "execution_count": null,
   "metadata": {},
   "outputs": [],
   "source": [
    "import numpy as np\n",
    "import pandas as pd\n",
    "import orca\n",
    "import os; os.chdir('../')\n",
    "import warnings; warnings.simplefilter('ignore')\n",
    "\n",
    "# Set data directory\n",
    "\n",
    "d = '/home/data/fall_2018/'\n",
    "\n",
    "if 'data_directory' in orca.list_injectables():\n",
    "    d = orca.get_injectable('data_directory')\n",
    "    \n",
    "#from scripts import datasources, models, variables"
   ]
  },
  {
   "cell_type": "code",
   "execution_count": null,
   "metadata": {},
   "outputs": [],
   "source": [
    "# override orca persons and students tables for estimation\n",
    "# \n",
    "@orca.table(cache=True)\n",
    "def persons():\n",
    "    df = pd.read_csv(\n",
    "        d + 'chts_persons_w_zone_ids.csv',\n",
    "        index_col = [\"SAMPN\", \"PERNO\"]\n",
    "    )\n",
    "    return df\n",
    "\n",
    "#persons_chts = persons_df1.join(persons_df2, how=\"left\")\n",
    "\n",
    "persons = orca.get_table('persons').to_frame()\n",
    "students = persons.loc[persons['STUDE'].isin([1, 2])# full time & part time students\n",
    "                 & persons['SCHOL'].isin([3,  # Kindergarten to grade 8\n",
    "                                          4,  # Grades 9 to 12 \n",
    "                                          6,  # 2-year college (community college) \n",
    "                                          7,  # 4-year college or university \n",
    "                                          8]) # Graduate school / Professional \n",
    "                 & (~persons['SNAME_lookup'].isna()) \n",
    "                 & (persons['SNAME_lookup'] != \"DK/RF\")]\n",
    "len(students)\n",
    "\n",
    "schools_raw = students.groupby(by=[\"SCHOL\", \"SNAME_lookup\", \"SZIP_lookup\"]) \\\n",
    "                      .size().reset_index(name='enrollment')\n",
    "# There are 3505 unique \"schools\", most of them have 1 student in the CHTS sample\n",
    "# For now, keep only schools with 3+ students in the CHTS sample\n",
    "schools = schools_raw.loc[schools_raw['enrollment'] >= 3].reset_index(drop=True) #.drop(columns=[\"enrollment\"])\n",
    "schools.index.name = \"school_id\"\n",
    "schools.reset_index(inplace=True)\n",
    "\n",
    "students = pd.merge(students, schools.drop(columns=[\"enrollment\"]), \n",
    "                    how=\"inner\", on=[\"SCHOL\", \"SNAME_lookup\", \"SZIP_lookup\"])\n",
    "schools = schools[['school_id', 'enrollment']]\n",
    "#students = students.loc[~students['school_id'].isna()]\n",
    "\n",
    "orca.add_table('students', students)\n",
    "orca.add_table('schools', schools)\n",
    "#len(students)\n",
    "#len(schools)"
   ]
  },
  {
   "cell_type": "code",
   "execution_count": null,
   "metadata": {},
   "outputs": [],
   "source": [
    "## DIAGNOSTICS\n",
    "#schools\n",
    "#students[[\"index\", \"school_id\"]]"
   ]
  },
  {
   "cell_type": "code",
   "execution_count": null,
   "metadata": {},
   "outputs": [],
   "source": [
    "# To be moved to scripts/variables.py\n",
    "\n",
    "@orca.column('students', 'is_college_student', cache=True)\n",
    "def is_college_student(students):\n",
    "    is_college_map = {3: 0, # Kindergarten to grade 8\n",
    "                      4: 0, # Grades 9 to 12 \n",
    "                      6: 1, # 2-year college (community college) \n",
    "                      7: 1, # 4-year college or university \n",
    "                      8: 1} # Graduate school / Professional \n",
    "    return students.SCHOL.map(is_college_map)\n",
    "\n",
    "#@orca.column('students', 'school_id', cache=True)\n",
    "#def school_id(students, schools):\n",
    "#    misc.reindex()\n",
    "#    return pd.merge(students, schools, how=\"left\", on=[\"SCHOL\", \"SNAME_lookup\", \"SZIP_lookup\"])[\"school_id\"]\n",
    "\n",
    "@orca.column(\"students\")\n",
    "def zone_id_school(students, persons):\n",
    "    fake_zone_id_school = np.random.choice(np.unique(persons.zone_id_home), len(students.school_id))\n",
    "    return fake_zone_id_school\n"
   ]
  },
  {
   "cell_type": "markdown",
   "metadata": {},
   "source": [
    "## load skims for interaction terms"
   ]
  },
  {
   "cell_type": "code",
   "execution_count": null,
   "metadata": {},
   "outputs": [],
   "source": [
    "# Travel Time\n",
    "skims = pd.read_csv(d + '/mtc_skims/TimeSkimsDatabaseAM.csv')\n",
    "interaction_terms_tt = skims[['orig', 'dest', 'da', 'wTrnW']].rename(\n",
    "    columns={'orig': 'zone_id_home', 'dest': 'zone_id_school', 'da': 'tt_da', 'wTrnW': 'tt_wTrnW'})\n",
    "interaction_terms_tt.set_index(['zone_id_home', 'zone_id_school'], inplace=True)\n",
    "#interaction_terms.to_csv('./data/WLCM_interaction_terms_tt.csv')\n",
    "\n",
    "# Distance\n",
    "skims = pd.read_csv(d + '/mtc_skims/DistanceSkimsDatabaseAM.csv')\n",
    "interaction_terms_dist = skims[['orig', 'dest', 'da', 'walk']].rename(\n",
    "    columns={'orig': 'zone_id_home', 'dest': 'zone_id_school', 'da': 'dist_da', 'walk': 'dist_walk'})\n",
    "interaction_terms_dist.set_index(['zone_id_home', 'zone_id_school'], inplace=True)\n",
    "#interaction_terms_dist.to_csv('./data/WLCM_interaction_terms_dist.csv')\n",
    "\n",
    "# Cost\n",
    "skims = pd.read_csv(d + '/mtc_skims/CostSkimsDatabaseAM.csv')\n",
    "interaction_terms_cost = skims[['orig', 'dest', 'daToll', 'wTrnW']].rename(\n",
    "    columns={'orig': 'zone_id_home', 'dest': 'zone_id_school', 'daToll': 'cost_da_toll', 'wTrnW': 'cost_wTrnW'})\n",
    "interaction_terms_cost.set_index(['zone_id_home', 'zone_id_school'], inplace=True)\n",
    "#interaction_terms_cost.to_csv('./data/WLCM_interaction_terms_cost.csv')\n"
   ]
  },
  {
   "cell_type": "code",
   "execution_count": null,
   "metadata": {},
   "outputs": [],
   "source": [
    "from choicemodels.tools import MergedChoiceTable\n",
    "\n",
    "students = orca.get_table(\"students\")\n",
    "students.zone_id_home\n",
    "students.zone_id_school\n",
    "students = students.to_frame()\n",
    "\n",
    "schools = orca.get_table(\"schools\").to_frame()"
   ]
  },
  {
   "cell_type": "code",
   "execution_count": null,
   "metadata": {},
   "outputs": [],
   "source": [
    "#%%time\n",
    "#%memit\n",
    "mct = MergedChoiceTable(students, schools, chosen_alternatives='school_id',\n",
    "                        sample_size=10, interaction_terms=[\n",
    "                            interaction_terms_tt, interaction_terms_dist, interaction_terms_cost])"
   ]
  },
  {
   "cell_type": "markdown",
   "metadata": {},
   "source": [
    "# Configure models"
   ]
  },
  {
   "cell_type": "code",
   "execution_count": null,
   "metadata": {},
   "outputs": [],
   "source": [
    "from urbansim_templates import modelmanager\n",
    "from urbansim_templates.models import SmallMultinomialLogitStep, LargeMultinomialLogitStep, SegmentedLargeMultinomialLogitStep\n",
    "\n",
    "modelmanager.initialize()\n",
    "\n",
    "m0 = LargeMultinomialLogitStep(\n",
    "    constrained_choices=True,\n",
    "    alt_sample_size=10\n",
    ")"
   ]
  },
  {
   "cell_type": "code",
   "execution_count": null,
   "metadata": {},
   "outputs": [],
   "source": [
    "m0.model_expression = (\n",
    "    'tt_da'\n",
    ")\n",
    "\n",
    "m0.fit(mct)"
   ]
  },
  {
   "cell_type": "code",
   "execution_count": null,
   "metadata": {},
   "outputs": [],
   "source": [
    "from urbansim_templates.models import SegmentedLargeMultinomialLogitStep\n",
    "\n",
    "m = SegmentedLargeMultinomialLogitStep(\n",
    "      defaults = m0,\n",
    "      name = \"school-choice-model\",\n",
    "      segmentation_column = \"is_college_student\",\n",
    "      )"
   ]
  },
  {
   "cell_type": "code",
   "execution_count": null,
   "metadata": {},
   "outputs": [],
   "source": [
    "m.model_expression = (\n",
    "    'tt_da'\n",
    ")\n",
    "# this is not working yet, as m.fit_all() does not accept mct argument\n",
    "m.fit_all(mct)"
   ]
  },
  {
   "cell_type": "code",
   "execution_count": null,
   "metadata": {},
   "outputs": [],
   "source": [
    "m.name = 'School-Choice-Model'\n",
    "mm.register(m)"
   ]
  }
 ],
 "metadata": {
  "kernelspec": {
   "display_name": "Python 3",
   "language": "python",
   "name": "python3"
  },
  "language_info": {
   "codemirror_mode": {
    "name": "ipython",
    "version": 3
   },
   "file_extension": ".py",
   "mimetype": "text/x-python",
   "name": "python",
   "nbconvert_exporter": "python",
   "pygments_lexer": "ipython3",
   "version": "3.6.7"
  }
 },
 "nbformat": 4,
 "nbformat_minor": 2
}
