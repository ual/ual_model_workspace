{
 "cells": [
  {
   "cell_type": "code",
   "execution_count": 1,
   "metadata": {},
   "outputs": [],
   "source": [
    "import numpy as np\n",
    "import pandas as pd\n",
    "import orca\n",
    "import os; os.chdir('../')\n",
    "import warnings; warnings.simplefilter('ignore')\n",
    "from urbansim.utils import misc\n",
    "import pandana as pdna\n",
    "    \n",
    "from urbansim_templates import modelmanager as mm\n",
    "from urbansim_templates.models import LargeMultinomialLogitStep\n",
    "import pandas as pd\n",
    "import orca\n",
    "# import os; os.chdir('/home/juan/ual_model_workspace/spring-2019-models/')\n",
    "import warnings; warnings.simplefilter('ignore')\n",
    "from matplotlib import pyplot as plt\n",
    "import matplotlib.animation as animation\n",
    "import seaborn as sns\n",
    "\n",
    "# from scripts import datasources, models, variables, utils"
   ]
  },
  {
   "cell_type": "code",
   "execution_count": 2,
   "metadata": {},
   "outputs": [
    {
     "name": "stdout",
     "output_type": "stream",
     "text": [
      "Registering model step 'auto_ownership'\n",
      "Registering model step 'TOD_choice'\n",
      "Registering model step 'primary_mode_choice'\n",
      "Registering model step 'WLCM'\n"
     ]
    }
   ],
   "source": [
    "from scripts import datasources, models, variables, utils"
   ]
  },
  {
   "cell_type": "code",
   "execution_count": 3,
   "metadata": {},
   "outputs": [
    {
     "data": {
      "text/plain": [
       "'0.1.1'"
      ]
     },
     "execution_count": 3,
     "metadata": {},
     "output_type": "execute_result"
    }
   ],
   "source": [
    "import urbansim_templates\n",
    "urbansim_templates.__version__"
   ]
  },
  {
   "cell_type": "markdown",
   "metadata": {},
   "source": [
    "# Loading data"
   ]
  },
  {
   "cell_type": "code",
   "execution_count": 4,
   "metadata": {},
   "outputs": [
    {
     "name": "stdout",
     "output_type": "stream",
     "text": [
      "Running step 'initialize_network_small'\n",
      "Time to execute step 'initialize_network_small': 0.00 s\n",
      "Running step 'initialize_network_walk'\n",
      "Time to execute step 'initialize_network_walk': 0.00 s\n",
      "Running step 'impute_missing_skims'\n",
      "Time to execute step 'impute_missing_skims': 95.98 s\n",
      "Total time to execute iteration 1 with iteration value None: 95.98 s\n"
     ]
    }
   ],
   "source": [
    "orca.run(['initialize_network_small', 'initialize_network_walk','impute_missing_skims']) "
   ]
  },
  {
   "cell_type": "code",
   "execution_count": 52,
   "metadata": {},
   "outputs": [],
   "source": [
    "#Loading Data \n",
    "beam_skims = orca.get_table('beam_skims').to_frame()\n",
    "reset_beam_skims = beam_skims.reset_index()\n",
    "students = pd.read_csv('/home/juan/ual_model_workspace/spring-2019-models/notebooks-juan/students_with_school_id.csv')\n",
    "schools = pd.read_csv('/home/juan/ual_model_workspace/spring-2019-models/notebooks-juan/schools.csv').rename({\"parcel_id\": \"school_parcel_id\"}, axis=1)\n",
    "parcels = orca.get_table('parcels').to_frame()\n",
    "\n",
    "#Preprocessing\n",
    "students = students[students.AGE <= 18]"
   ]
  },
  {
   "cell_type": "code",
   "execution_count": 33,
   "metadata": {},
   "outputs": [],
   "source": [
    "#Adding list of grades offered by each school\n",
    "list_grades = []\n",
    "for index, row in schools.loc[:,schools.columns.str.startswith(\"grade_\")].iterrows():\n",
    "    x = np.array(row)\n",
    "    list_grades.append(x)\n",
    "    \n",
    "schools['list_grades'] = list_grades"
   ]
  },
  {
   "cell_type": "markdown",
   "metadata": {},
   "source": [
    "## Defining set choice contrains"
   ]
  },
  {
   "cell_type": "code",
   "execution_count": 34,
   "metadata": {},
   "outputs": [],
   "source": [
    "#Small netwrok \n",
    "nodessmall = pd.read_csv('/home/data/fall_2018/bay_area_tertiary_strongly_nodes.csv').set_index('osmid')\n",
    "edgessmall = pd.read_csv('/home/data/fall_2018/bay_area_tertiary_strongly_edges.csv')\n",
    "netsmall = pdna.Network(nodessmall.x, nodessmall.y, edgessmall.u,\n",
    "                                edgessmall.v, edgessmall[['length']],\n",
    "                                twoway=False)\n",
    "netsmall.precompute(25000)\n",
    "\n",
    "def node_id_small(x, y, netsmall):\n",
    "    \"\"\" Return the node ID given a pair of coordinates\"\"\"\n",
    "    idssmall = netsmall.get_node_ids(x, y)\n",
    "    return idssmall\n",
    "\n",
    "# schools['nodeID'] = node_id_small(schools, netsmall)"
   ]
  },
  {
   "cell_type": "code",
   "execution_count": 35,
   "metadata": {},
   "outputs": [],
   "source": [
    "#Merging students and schools \n",
    "students_1 = students.merge(schools, how = 'left', on = 'school_id')\n",
    "\n",
    "# Droping students with no assigned school\n",
    "students_1 = students_1.dropna(subset=['school_id'])"
   ]
  },
  {
   "cell_type": "code",
   "execution_count": 36,
   "metadata": {},
   "outputs": [],
   "source": [
    "#Define the node ID for each home and school location in students dataset\n",
    "students_1['node_id_home'] = node_id_small(students_1.HXCORD, students_1.HYCORD, netsmall)\n",
    "students_1['node_id_school'] = node_id_small(students_1.Longitude, students_1.Latitude, netsmall)\n",
    "\n",
    "#Creating a df for public shcools only\n",
    "df_public = students_1[students_1.school_id <= 2827].loc[:,['SAMPN', 'PERNO', 'school_id',\n",
    "                                                        'AGE','HCITY','HYCORD','HXCORD',\n",
    "                                                        'SNAME_lookup','SCITY_lookup', \n",
    "                                                        'node_id_home', 'node_id_school']]\n",
    "\n",
    "#Creating a df for private shcools only\n",
    "df_private = students_1[students_1.school_id > 2827].loc[:,['SAMPN', 'PERNO', 'school_id',\n",
    "                                                        'AGE','HCITY','HYCORD','HXCORD',\n",
    "                                                        'SNAME_lookup','SCITY_lookup', \n",
    "                                                        'node_id_home', 'node_id_school']]"
   ]
  },
  {
   "cell_type": "code",
   "execution_count": 37,
   "metadata": {},
   "outputs": [],
   "source": [
    "#Setting public and private schools as POIs. \n",
    "netsmall.set_pois('public_school', 500000, 10000, \n",
    "                  schools[schools.type == 'public'].Longitude, \n",
    "                  schools[schools.type == 'public'].Latitude, )\n",
    "\n",
    "netsmall.set_pois('private_school', 500000, 10000, \n",
    "                  schools[schools.type == 'private'].Longitude, \n",
    "                  schools[schools.type == 'private'].Latitude)"
   ]
  },
  {
   "cell_type": "code",
   "execution_count": 38,
   "metadata": {},
   "outputs": [
    {
     "data": {
      "text/plain": [
       "0.9131504922644164"
      ]
     },
     "execution_count": 38,
     "metadata": {},
     "output_type": "execute_result"
    }
   ],
   "source": [
    "#Public schools. 95% of the time, the school is within the x's closest schools. Finding x\n",
    "n =50\n",
    "\n",
    "# n closest public schools per each node in netsmall\n",
    "distance_matrix_public = netsmall.nearest_pois(200000, \n",
    "                                               'public_school', \n",
    "                                               num_pois=n,\n",
    "                                               include_poi_ids=True)\n",
    "\n",
    "# Selects POIS id's only \n",
    "public_nodes = distance_matrix_public.iloc[:,n:]\n",
    "\n",
    "# Creates a list of n closest POIs for each node\n",
    "list_values = []\n",
    "for index, row in public_nodes.iterrows():\n",
    "    x = np.array(row)\n",
    "    x = x[~np.isnan(x)]\n",
    "    list_values.append(x)\n",
    "\n",
    "#Add created list to public nodes \n",
    "public_nodes['list_values'] = list_values\n",
    "\n",
    "\n",
    "merge = df_public.merge(public_nodes.loc[:,['list_values']], how = 'left', left_on = 'node_id_home', right_index= True)\n",
    "\n",
    "school_position = []\n",
    "for index, row in merge.iterrows():\n",
    "    school_position.append(np.isin(row['school_id']-1000,row['list_values'])==True)\n",
    "    \n",
    "merge['school_position'] = school_position\n",
    "\n",
    "merge.school_position.mean()"
   ]
  },
  {
   "cell_type": "code",
   "execution_count": 39,
   "metadata": {},
   "outputs": [
    {
     "data": {
      "text/plain": [
       "0.8758465011286681"
      ]
     },
     "execution_count": 39,
     "metadata": {},
     "output_type": "execute_result"
    }
   ],
   "source": [
    "#Private schools. 95% of the time, the school is within the x's closest schools. Finding x\n",
    "n =100\n",
    "\n",
    "distance_matrix_private = netsmall.nearest_pois(100000, \n",
    "                                                'private_school', \n",
    "                                                num_pois=n, \n",
    "                                                include_poi_ids=True)\n",
    "\n",
    "private_nodes = distance_matrix_private.iloc[:,n:]\n",
    "\n",
    "list_values = []\n",
    "for index, row in private_nodes.iterrows():\n",
    "    x = np.array(row)\n",
    "    x = x[~np.isnan(x)]\n",
    "    list_values.append(x)\n",
    "    \n",
    "private_nodes['list_values'] = list_values\n",
    "\n",
    "\n",
    "merge = df_private.merge(private_nodes.loc[:,['list_values']], how = 'left', left_on = 'node_id_home', right_index= True)\n",
    "\n",
    "school_position = []\n",
    "for index, row in merge.iterrows():\n",
    "    school_position.append(np.isin(row['school_id']-1000,row['list_values'])==True)\n",
    "    \n",
    "merge['school_position'] = school_position\n",
    "\n",
    "merge.school_position.mean()"
   ]
  },
  {
   "cell_type": "code",
   "execution_count": 40,
   "metadata": {},
   "outputs": [],
   "source": [
    "# students = students[students.AGE <= 18]"
   ]
  },
  {
   "cell_type": "code",
   "execution_count": 41,
   "metadata": {},
   "outputs": [],
   "source": [
    "def school_available(age, grades_offered):\n",
    "    \"\"\" Checks if a school offers a grade according to the age range\n",
    "    Input: Age: int in range (5-18)\n",
    "           grades_offered: 13 element array\n",
    "    Output: True if grade if offered acoording to age, false otherwise. \n",
    "     \"\"\"\n",
    "    index = age - 6\n",
    "    \n",
    "    if index < 0:\n",
    "        index = 0\n",
    "\n",
    "    if index < 12:\n",
    "        result = (grades_offered[index] == 1) | (grades_offered[index + 1] == 1)\n",
    "        \n",
    "    elif index == 12:\n",
    "        result = (grades_offered[index] == 1)\n",
    "    \n",
    "    return result"
   ]
  },
  {
   "cell_type": "code",
   "execution_count": 42,
   "metadata": {},
   "outputs": [],
   "source": [
    "def school_choice_set(house_node_id, kid_age):\n",
    "    \"\"\" Determines the school choice set given home node id and age of the student (4-18)\n",
    "    Output: Pandas series with available school IDs\"\"\"\n",
    "    \n",
    "    public_id = distance_matrix_public.iloc[:,50:].loc[house_node_id] + 1000\n",
    "    private_id = distance_matrix_private.iloc[:,100:].loc[house_node_id] + 1000\n",
    "    schools_filter = pd.concat([public_id, private_id])\n",
    "    schools_set = schools[schools.school_id.isin(schools_filter)]\n",
    "    school_availability = [school_available(kid_age, x) for x in schools_set.list_grades]\n",
    "    schools_available = schools_set[school_availability].school_id\n",
    "    try:\n",
    "        schools_available = schools_set[school_availability].school_id\n",
    "        return schools_available\n",
    "    except Exception as e:\n",
    "        print(e)\n",
    "        print(\"empty dataframe?\")\n",
    "    \n",
    "    return np.nan"
   ]
  },
  {
   "cell_type": "code",
   "execution_count": 43,
   "metadata": {},
   "outputs": [],
   "source": [
    "def get_zone_id(parcel_id):\n",
    "    '''gets the zone_id (TAZ) of school and home locations by the parcel id'''\n",
    "    try: \n",
    "        parcel_id = (parcels.iloc[parcel_id])[\"zone_id\"]\n",
    "\n",
    "    except Exception as e:\n",
    "#         print(e)\n",
    "        parcel_id = np.nan\n",
    "    return parcel_id"
   ]
  },
  {
   "cell_type": "code",
   "execution_count": 44,
   "metadata": {},
   "outputs": [
    {
     "data": {
      "text/plain": [
       "Index(['level_0', 'SAMPN', 'PERNO', 'Unnamed: 0', 'index', 'RELAT', 'GEND',\n",
       "       'AGE', 'AGEB', 'HISP',\n",
       "       ...\n",
       "       'sw_rank_2017', 'sw_rank_2016', 'ss_rank_2018_', 'ss_rank_2017',\n",
       "       'ss_rank_2016', 'nodeID', 'school_parcel_id', 'list_grades',\n",
       "       'node_id_home', 'node_id_school'],\n",
       "      dtype='object', length=246)"
      ]
     },
     "execution_count": 44,
     "metadata": {},
     "output_type": "execute_result"
    }
   ],
   "source": [
    "students_1.columns"
   ]
  },
  {
   "cell_type": "markdown",
   "metadata": {},
   "source": [
    "## Create parameters table with distances and generalized cost"
   ]
  },
  {
   "cell_type": "code",
   "execution_count": 49,
   "metadata": {},
   "outputs": [],
   "source": [
    "stu = students_1[[\"node_id_home\", \"AGE\", \"school_parcel_id\", \"parcel_id_home\"]] \n",
    "dfs = []\n",
    "for index, record in stu.iterrows():\n",
    "    age = int(record[\"AGE\"])\n",
    "    parcel_id_home = int(record[\"parcel_id_home\"])\n",
    "    node_id_home = int(record[\"node_id_home\"])\n",
    "    school_choices = school_choice_set(node_id_home, age)\n",
    "    school_parcel_id = [schools[schools[\"school_id\"] == choice][\"school_parcel_id\"].values[0] for choice in school_choices]\n",
    "    df = pd.DataFrame({\"node_id_home\": node_id_home, \"parcel_id_home\": parcel_id_home, \"age\": age,\n",
    "                       \"school_choice\": school_choices, \"parcel_id_school\": school_parcel_id})\n",
    "    df[\"school_zone_id\"] = df[\"parcel_id_school\"].apply(get_zone_id)\n",
    "    df[\"home_zone_id\"] = df[\"parcel_id_home\"].apply(get_zone_id)\n",
    "\n",
    "    \n",
    "    dfs.append(df)\n",
    "    \n",
    "all_choices = pd.concat(dfs, axis=0)"
   ]
  },
  {
   "cell_type": "code",
   "execution_count": 53,
   "metadata": {},
   "outputs": [],
   "source": [
    "all_choices_costs = pd.merge(all_choices, reset_beam_skims,  how='left', left_on=['school_zone_id','home_zone_id'], right_on = ['to_zone_id','from_zone_id'])\n",
    "all_choices_costs = all_choices_costs.set_index(\"node_id_home\")\n",
    "all_choices_costs.head()\n",
    "all_choices_costs.to_csv(\"all_choices_costs.csv\")"
   ]
  },
  {
   "cell_type": "code",
   "execution_count": 54,
   "metadata": {},
   "outputs": [
    {
     "name": "stdout",
     "output_type": "stream",
     "text": [
      "291109\n",
      "291109\n"
     ]
    }
   ],
   "source": [
    "print(len(all_choices))\n",
    "print(len(all_choices_costs))"
   ]
  },
  {
   "cell_type": "code",
   "execution_count": 58,
   "metadata": {},
   "outputs": [
    {
     "data": {
      "text/html": [
       "<div>\n",
       "<style scoped>\n",
       "    .dataframe tbody tr th:only-of-type {\n",
       "        vertical-align: middle;\n",
       "    }\n",
       "\n",
       "    .dataframe tbody tr th {\n",
       "        vertical-align: top;\n",
       "    }\n",
       "\n",
       "    .dataframe thead th {\n",
       "        text-align: right;\n",
       "    }\n",
       "</style>\n",
       "<table border=\"1\" class=\"dataframe\">\n",
       "  <thead>\n",
       "    <tr style=\"text-align: right;\">\n",
       "      <th></th>\n",
       "      <th>parcel_id_home</th>\n",
       "      <th>age</th>\n",
       "      <th>school_choice</th>\n",
       "      <th>parcel_id_school</th>\n",
       "      <th>school_zone_id</th>\n",
       "      <th>home_zone_id</th>\n",
       "      <th>from_zone_id</th>\n",
       "      <th>to_zone_id</th>\n",
       "      <th>dist</th>\n",
       "      <th>gen_cost_BIKE</th>\n",
       "      <th>...</th>\n",
       "      <th>gen_cost_WALK</th>\n",
       "      <th>gen_cost_WALK_TRANSIT</th>\n",
       "      <th>gen_tt_BIKE</th>\n",
       "      <th>gen_tt_CAR</th>\n",
       "      <th>gen_tt_DRIVE_TRANSIT</th>\n",
       "      <th>gen_tt_RIDE_HAIL</th>\n",
       "      <th>gen_tt_RIDE_HAIL_POOLED</th>\n",
       "      <th>gen_tt_RIDE_HAIL_TRANSIT</th>\n",
       "      <th>gen_tt_WALK</th>\n",
       "      <th>gen_tt_WALK_TRANSIT</th>\n",
       "    </tr>\n",
       "    <tr>\n",
       "      <th>node_id_home</th>\n",
       "      <th></th>\n",
       "      <th></th>\n",
       "      <th></th>\n",
       "      <th></th>\n",
       "      <th></th>\n",
       "      <th></th>\n",
       "      <th></th>\n",
       "      <th></th>\n",
       "      <th></th>\n",
       "      <th></th>\n",
       "      <th></th>\n",
       "      <th></th>\n",
       "      <th></th>\n",
       "      <th></th>\n",
       "      <th></th>\n",
       "      <th></th>\n",
       "      <th></th>\n",
       "      <th></th>\n",
       "      <th></th>\n",
       "      <th></th>\n",
       "      <th></th>\n",
       "    </tr>\n",
       "  </thead>\n",
       "  <tbody>\n",
       "    <tr>\n",
       "      <th>65497078</th>\n",
       "      <td>1195607</td>\n",
       "      <td>17</td>\n",
       "      <td>2021</td>\n",
       "      <td>1195135</td>\n",
       "      <td>901.0</td>\n",
       "      <td>742.0</td>\n",
       "      <td>742.0</td>\n",
       "      <td>901.0</td>\n",
       "      <td>36161.8698</td>\n",
       "      <td>46.519338</td>\n",
       "      <td>...</td>\n",
       "      <td>5338.670369</td>\n",
       "      <td>2064.891192</td>\n",
       "      <td>150.786537</td>\n",
       "      <td>32.394499</td>\n",
       "      <td>53.645277</td>\n",
       "      <td>58.084325</td>\n",
       "      <td>45.132109</td>\n",
       "      <td>51.227852</td>\n",
       "      <td>635.884119</td>\n",
       "      <td>2156.841723</td>\n",
       "    </tr>\n",
       "    <tr>\n",
       "      <th>65497078</th>\n",
       "      <td>1195607</td>\n",
       "      <td>17</td>\n",
       "      <td>2093</td>\n",
       "      <td>1171860</td>\n",
       "      <td>1273.0</td>\n",
       "      <td>742.0</td>\n",
       "      <td>742.0</td>\n",
       "      <td>1273.0</td>\n",
       "      <td>89382.7436</td>\n",
       "      <td>114.983713</td>\n",
       "      <td>...</td>\n",
       "      <td>13195.805621</td>\n",
       "      <td>5103.874356</td>\n",
       "      <td>372.705131</td>\n",
       "      <td>80.070782</td>\n",
       "      <td>132.597183</td>\n",
       "      <td>143.569354</td>\n",
       "      <td>111.554843</td>\n",
       "      <td>126.621935</td>\n",
       "      <td>1571.740275</td>\n",
       "      <td>5331.152172</td>\n",
       "    </tr>\n",
       "    <tr>\n",
       "      <th>65497078</th>\n",
       "      <td>1195607</td>\n",
       "      <td>17</td>\n",
       "      <td>2094</td>\n",
       "      <td>1186767</td>\n",
       "      <td>1085.0</td>\n",
       "      <td>742.0</td>\n",
       "      <td>742.0</td>\n",
       "      <td>1085.0</td>\n",
       "      <td>65387.4842</td>\n",
       "      <td>84.115741</td>\n",
       "      <td>...</td>\n",
       "      <td>9653.323413</td>\n",
       "      <td>3733.712911</td>\n",
       "      <td>272.650512</td>\n",
       "      <td>58.575367</td>\n",
       "      <td>97.000784</td>\n",
       "      <td>105.027419</td>\n",
       "      <td>81.607369</td>\n",
       "      <td>92.629622</td>\n",
       "      <td>1149.798476</td>\n",
       "      <td>3899.976823</td>\n",
       "    </tr>\n",
       "    <tr>\n",
       "      <th>65497078</th>\n",
       "      <td>1195607</td>\n",
       "      <td>17</td>\n",
       "      <td>2095</td>\n",
       "      <td>1195560</td>\n",
       "      <td>883.0</td>\n",
       "      <td>742.0</td>\n",
       "      <td>742.0</td>\n",
       "      <td>883.0</td>\n",
       "      <td>32782.2558</td>\n",
       "      <td>42.171736</td>\n",
       "      <td>...</td>\n",
       "      <td>4839.729213</td>\n",
       "      <td>1871.910706</td>\n",
       "      <td>136.694338</td>\n",
       "      <td>29.366976</td>\n",
       "      <td>48.631700</td>\n",
       "      <td>52.655883</td>\n",
       "      <td>40.914155</td>\n",
       "      <td>46.440202</td>\n",
       "      <td>576.455697</td>\n",
       "      <td>1955.267730</td>\n",
       "    </tr>\n",
       "    <tr>\n",
       "      <th>65497078</th>\n",
       "      <td>1195607</td>\n",
       "      <td>17</td>\n",
       "      <td>2097</td>\n",
       "      <td>1192891</td>\n",
       "      <td>761.0</td>\n",
       "      <td>742.0</td>\n",
       "      <td>742.0</td>\n",
       "      <td>761.0</td>\n",
       "      <td>26087.4014</td>\n",
       "      <td>33.559344</td>\n",
       "      <td>...</td>\n",
       "      <td>3851.350542</td>\n",
       "      <td>1489.625555</td>\n",
       "      <td>108.778361</td>\n",
       "      <td>23.369596</td>\n",
       "      <td>38.700042</td>\n",
       "      <td>41.902399</td>\n",
       "      <td>32.558589</td>\n",
       "      <td>36.956096</td>\n",
       "      <td>458.730822</td>\n",
       "      <td>1555.959249</td>\n",
       "    </tr>\n",
       "  </tbody>\n",
       "</table>\n",
       "<p>5 rows × 25 columns</p>\n",
       "</div>"
      ],
      "text/plain": [
       "              parcel_id_home  age  school_choice  parcel_id_school  \\\n",
       "node_id_home                                                         \n",
       "65497078             1195607   17           2021           1195135   \n",
       "65497078             1195607   17           2093           1171860   \n",
       "65497078             1195607   17           2094           1186767   \n",
       "65497078             1195607   17           2095           1195560   \n",
       "65497078             1195607   17           2097           1192891   \n",
       "\n",
       "              school_zone_id  home_zone_id  from_zone_id  to_zone_id  \\\n",
       "node_id_home                                                           \n",
       "65497078               901.0         742.0         742.0       901.0   \n",
       "65497078              1273.0         742.0         742.0      1273.0   \n",
       "65497078              1085.0         742.0         742.0      1085.0   \n",
       "65497078               883.0         742.0         742.0       883.0   \n",
       "65497078               761.0         742.0         742.0       761.0   \n",
       "\n",
       "                    dist  gen_cost_BIKE         ...           gen_cost_WALK  \\\n",
       "node_id_home                                    ...                           \n",
       "65497078      36161.8698      46.519338         ...             5338.670369   \n",
       "65497078      89382.7436     114.983713         ...            13195.805621   \n",
       "65497078      65387.4842      84.115741         ...             9653.323413   \n",
       "65497078      32782.2558      42.171736         ...             4839.729213   \n",
       "65497078      26087.4014      33.559344         ...             3851.350542   \n",
       "\n",
       "              gen_cost_WALK_TRANSIT  gen_tt_BIKE  gen_tt_CAR  \\\n",
       "node_id_home                                                   \n",
       "65497078                2064.891192   150.786537   32.394499   \n",
       "65497078                5103.874356   372.705131   80.070782   \n",
       "65497078                3733.712911   272.650512   58.575367   \n",
       "65497078                1871.910706   136.694338   29.366976   \n",
       "65497078                1489.625555   108.778361   23.369596   \n",
       "\n",
       "              gen_tt_DRIVE_TRANSIT  gen_tt_RIDE_HAIL  gen_tt_RIDE_HAIL_POOLED  \\\n",
       "node_id_home                                                                    \n",
       "65497078                 53.645277         58.084325                45.132109   \n",
       "65497078                132.597183        143.569354               111.554843   \n",
       "65497078                 97.000784        105.027419                81.607369   \n",
       "65497078                 48.631700         52.655883                40.914155   \n",
       "65497078                 38.700042         41.902399                32.558589   \n",
       "\n",
       "              gen_tt_RIDE_HAIL_TRANSIT  gen_tt_WALK  gen_tt_WALK_TRANSIT  \n",
       "node_id_home                                                              \n",
       "65497078                     51.227852   635.884119          2156.841723  \n",
       "65497078                    126.621935  1571.740275          5331.152172  \n",
       "65497078                     92.629622  1149.798476          3899.976823  \n",
       "65497078                     46.440202   576.455697          1955.267730  \n",
       "65497078                     36.956096   458.730822          1555.959249  \n",
       "\n",
       "[5 rows x 25 columns]"
      ]
     },
     "execution_count": 58,
     "metadata": {},
     "output_type": "execute_result"
    }
   ],
   "source": [
    "all_choices_costs.head()"
   ]
  },
  {
   "cell_type": "code",
   "execution_count": 29,
   "metadata": {},
   "outputs": [
    {
     "data": {
      "text/plain": [
       "944    1944\n",
       "946    1946\n",
       "947    1947\n",
       "948    1948\n",
       "949    1949\n",
       "Name: school_id, dtype: int64"
      ]
     },
     "execution_count": 29,
     "metadata": {},
     "output_type": "execute_result"
    }
   ],
   "source": [
    "school_choice_set(5418694673, 5).head()"
   ]
  },
  {
   "cell_type": "markdown",
   "metadata": {},
   "source": [
    "## Model estimation"
   ]
  },
  {
   "cell_type": "code",
   "execution_count": 49,
   "metadata": {},
   "outputs": [],
   "source": [
    "import pylogit as pl \n",
    "import math \n",
    "from collections import OrderedDict "
   ]
  },
  {
   "cell_type": "code",
   "execution_count": 88,
   "metadata": {},
   "outputs": [
    {
     "data": {
      "text/html": [
       "<div>\n",
       "<style scoped>\n",
       "    .dataframe tbody tr th:only-of-type {\n",
       "        vertical-align: middle;\n",
       "    }\n",
       "\n",
       "    .dataframe tbody tr th {\n",
       "        vertical-align: top;\n",
       "    }\n",
       "\n",
       "    .dataframe thead th {\n",
       "        text-align: right;\n",
       "    }\n",
       "</style>\n",
       "<table border=\"1\" class=\"dataframe\">\n",
       "  <thead>\n",
       "    <tr style=\"text-align: right;\">\n",
       "      <th></th>\n",
       "      <th>household_id</th>\n",
       "      <th>school_id</th>\n",
       "      <th>choice</th>\n",
       "      <th>travel_distance_car</th>\n",
       "    </tr>\n",
       "  </thead>\n",
       "  <tbody>\n",
       "    <tr>\n",
       "      <th>0</th>\n",
       "      <td>1</td>\n",
       "      <td>1</td>\n",
       "      <td>1</td>\n",
       "      <td>2</td>\n",
       "    </tr>\n",
       "    <tr>\n",
       "      <th>1</th>\n",
       "      <td>1</td>\n",
       "      <td>2</td>\n",
       "      <td>0</td>\n",
       "      <td>4</td>\n",
       "    </tr>\n",
       "    <tr>\n",
       "      <th>2</th>\n",
       "      <td>1</td>\n",
       "      <td>3</td>\n",
       "      <td>0</td>\n",
       "      <td>6</td>\n",
       "    </tr>\n",
       "    <tr>\n",
       "      <th>3</th>\n",
       "      <td>2</td>\n",
       "      <td>6</td>\n",
       "      <td>1</td>\n",
       "      <td>4</td>\n",
       "    </tr>\n",
       "    <tr>\n",
       "      <th>4</th>\n",
       "      <td>2</td>\n",
       "      <td>3</td>\n",
       "      <td>0</td>\n",
       "      <td>5</td>\n",
       "    </tr>\n",
       "    <tr>\n",
       "      <th>5</th>\n",
       "      <td>2</td>\n",
       "      <td>8</td>\n",
       "      <td>0</td>\n",
       "      <td>6</td>\n",
       "    </tr>\n",
       "    <tr>\n",
       "      <th>6</th>\n",
       "      <td>3</td>\n",
       "      <td>7</td>\n",
       "      <td>0</td>\n",
       "      <td>8</td>\n",
       "    </tr>\n",
       "    <tr>\n",
       "      <th>7</th>\n",
       "      <td>3</td>\n",
       "      <td>8</td>\n",
       "      <td>1</td>\n",
       "      <td>9</td>\n",
       "    </tr>\n",
       "  </tbody>\n",
       "</table>\n",
       "</div>"
      ],
      "text/plain": [
       "   household_id  school_id  choice  travel_distance_car\n",
       "0             1          1       1                    2\n",
       "1             1          2       0                    4\n",
       "2             1          3       0                    6\n",
       "3             2          6       1                    4\n",
       "4             2          3       0                    5\n",
       "5             2          8       0                    6\n",
       "6             3          7       0                    8\n",
       "7             3          8       1                    9"
      ]
     },
     "execution_count": 88,
     "metadata": {},
     "output_type": "execute_result"
    }
   ],
   "source": [
    "data_long = pd.DataFrame({'household_id': [1,1,1,2,2,2,3,3], \n",
    "                          'school_id': [1,2,3,6,3,8,7,8],\n",
    "                          'choice': [1,0,0,1,0,0,0,1],\n",
    "                          'travel_distance_car': [2,4,6,4,5,6,8,9]})\n",
    "data_long"
   ]
  },
  {
   "cell_type": "code",
   "execution_count": 89,
   "metadata": {},
   "outputs": [],
   "source": [
    "# # Specify the nesting values\n",
    "# nest_membership = OrderedDict()\n",
    "# nest_membership[\"Ride alone\"] = [1,2,3]\n",
    "# nest_membership[\"Shared option\"] = [6,7,8]\n",
    "\n",
    "# def logit(x):\n",
    "#     \"\"\"\n",
    "#     Parameters\n",
    "#     ----------\n",
    "#     x : int, float, or 1D ndarray.\n",
    "#         If an array, all elements should be ints or floats. All\n",
    "#         elements should be between zero and one, exclusive of 1.0.\n",
    "\n",
    "#     Returns\n",
    "#     -------\n",
    "#     The logit of x:  `np.log(x / (1.0 - x))`.\n",
    "#     \"\"\"\n",
    "#     return np.log(x/(1.0 - x))"
   ]
  },
  {
   "cell_type": "code",
   "execution_count": 147,
   "metadata": {},
   "outputs": [],
   "source": [
    "# basic_specification = OrderedDict()\n",
    "# basic_names = OrderedDict()\n",
    "\n",
    "# basic_specification[\"travel_distance_car\"] = [[1,2,3,6,7,8]]\n",
    "# basic_names[\"travel_distance_car\"] = ['Travel Time']"
   ]
  },
  {
   "cell_type": "code",
   "execution_count": 148,
   "metadata": {
    "scrolled": true
   },
   "outputs": [],
   "source": [
    "# # Estimate the nested multinomial logit model (MNL)\n",
    "# SLCM = pl.create_choice_model(data = data_long,\n",
    "#                                         alt_id_col = 'school_id',\n",
    "#                                         obs_id_col = 'household_id',\n",
    "#                                         choice_col = 'choice',\n",
    "#                                         specification = basic_specification,\n",
    "#                                         model_type=\"Nested Logit\",\n",
    "#                                         names=basic_names,\n",
    "#                                         nest_spec=nest_membership)\n",
    "\n",
    "# # Specify the initial values and method for the optimization.\n",
    "# SLCM.fit_mle(np.zeros(3),constrained_pos=[0])\n",
    "\n",
    "# type(SLCM.get_statsmodels_summary())"
   ]
  },
  {
   "cell_type": "code",
   "execution_count": 149,
   "metadata": {},
   "outputs": [],
   "source": [
    "# SLCM.get_statsmodels_summary().add_table_params"
   ]
  },
  {
   "cell_type": "code",
   "execution_count": 152,
   "metadata": {},
   "outputs": [],
   "source": [
    "#Orca step\n",
    "data_long = pd.DataFrame({'household_id': [1,1,1,2,2,2,3,3], \n",
    "                          'school_id': [1,2,3,6,3,8,7,8],\n",
    "                          'choice': [1,0,0,1,0,0,0,1],\n",
    "                          'travel_distance_car': [2,4,6,4,5,6,8,9]})\n",
    "\n",
    "@orca.injectable(autocall=False)\n",
    "def SLCM(data_long):\n",
    "    # Specify the nested structure\n",
    "    nest_membership = OrderedDict()\n",
    "    nest_membership[\"Public School\"] = [1,2,3]\n",
    "    nest_membership[\"Private School\"] = [6,7,8]\n",
    "    \n",
    "    #Model especification\n",
    "    basic_specification = OrderedDict()\n",
    "    basic_names = OrderedDict()\n",
    "    \n",
    "    # Travel time\n",
    "    basic_specification[\"travel_distance_car\"] = [[1,2,3,6,7,8]]\n",
    "    basic_names[\"travel_distance_car\"] = ['Travel Time']\n",
    "\n",
    "    # Estimate the nested multinomial logit model (MNL)\n",
    "    SLCM = pl.create_choice_model(data = data_long,\n",
    "                                        alt_id_col = 'school_id',\n",
    "                                        obs_id_col = 'household_id',\n",
    "                                        choice_col = 'choice',\n",
    "                                        specification = basic_specification,\n",
    "                                        model_type=\"Nested Logit\",\n",
    "                                        names=basic_names,\n",
    "                                        nest_spec=nest_membership)\n",
    "\n",
    "    # Specify the initial values and method for the optimization.\n",
    "    SLCM.fit_mle(np.zeros(3),constrained_pos=[0])\n",
    "        \n",
    "    #Resutls\n",
    "    return SLCM"
   ]
  },
  {
   "cell_type": "code",
   "execution_count": 153,
   "metadata": {},
   "outputs": [
    {
     "name": "stdout",
     "output_type": "stream",
     "text": [
      "Log-likelihood at zero: -3.0197\n",
      "Initial Log-likelihood: -3.0197\n",
      "Estimation Time for Point Estimation: 0.22 seconds.\n",
      "Final log-likelihood: -1.7142\n"
     ]
    },
    {
     "data": {
      "text/plain": [
       "<bound method Summary.add_table_params of <class 'statsmodels.iolib.summary.Summary'>\n",
       "\"\"\"\n",
       "                    Nested Logit Model Regression Results                     \n",
       "==============================================================================\n",
       "Dep. Variable:                 choice   No. Observations:                    3\n",
       "Model:             Nested Logit Model   Df Residuals:                        0\n",
       "Method:                           MLE   Df Model:                            3\n",
       "Date:                Mon, 17 Jun 2019   Pseudo R-squ.:                   0.432\n",
       "Time:                        20:10:57   Pseudo R-bar-squ.:              -0.561\n",
       "AIC:                            9.428   Log-Likelihood:                 -1.714\n",
       "BIC:                            6.724   LL-Null:                        -3.020\n",
       "==================================================================================\n",
       "                     coef    std err          z      P>|z|      [0.025      0.975]\n",
       "----------------------------------------------------------------------------------\n",
       "Public School           0        nan        nan        nan         nan         nan\n",
       "Private School    15.5584   5.17e+06   3.01e-06      1.000   -1.01e+07    1.01e+07\n",
       "Travel Time       -0.7971      1.185     -0.673      0.501      -3.119       1.525\n",
       "==================================================================================\n",
       "\"\"\">"
      ]
     },
     "execution_count": 153,
     "metadata": {},
     "output_type": "execute_result"
    }
   ],
   "source": [
    "orca.get_injectable('SLCM')(data_long).get_statsmodels_summary().add_table_params"
   ]
  },
  {
   "cell_type": "markdown",
   "metadata": {},
   "source": [
    "# Additional code"
   ]
  },
  {
   "cell_type": "code",
   "execution_count": 154,
   "metadata": {},
   "outputs": [],
   "source": [
    "#'network_aggregations_small'])\n",
    "# orca.run(['initialize_network_walk', 'network_aggregations_walk'])\n",
    "\n",
    "# orca.get_table('nodeswalk').to_frame().to_csv('./data/walk_net_vars.csv')\n",
    "# orca.get_table('nodessmall').to_frame().to_csv('./data/drive_net_vars.csv')\n",
    "# orca.get_table('zones').to_frame().to_csv('./data/zones_w_access_vars-2025-b-lt.csv')"
   ]
  },
  {
   "cell_type": "code",
   "execution_count": 155,
   "metadata": {},
   "outputs": [],
   "source": [
    "# os.listdir(\"/home/data/spring_2019/2025\")"
   ]
  },
  {
   "cell_type": "code",
   "execution_count": 156,
   "metadata": {},
   "outputs": [],
   "source": [
    "# a = students.loc[:,['SAMPN', 'PERNO', 'AGE', 'HPrimaryCity','school_id']].merge(schools.loc[:,['school_id','City','District']], how = 'inner', on = 'school_id')\n",
    "# students[students.SAMPN == 1342402].loc[:,['SNAME_lookup','school_id', 'HPrimaryCity']]\n",
    "# schools[schools.school_id == 1710]"
   ]
  },
  {
   "cell_type": "code",
   "execution_count": null,
   "metadata": {},
   "outputs": [],
   "source": []
  }
 ],
 "metadata": {
  "celltoolbar": "Format de la Cellule Texte Brut",
  "kernelspec": {
   "display_name": "Python 3",
   "language": "python",
   "name": "python3"
  },
  "language_info": {
   "codemirror_mode": {
    "name": "ipython",
    "version": 3
   },
   "file_extension": ".py",
   "mimetype": "text/x-python",
   "name": "python",
   "nbconvert_exporter": "python",
   "pygments_lexer": "ipython3",
   "version": "3.6.7"
  }
 },
 "nbformat": 4,
 "nbformat_minor": 2
}
