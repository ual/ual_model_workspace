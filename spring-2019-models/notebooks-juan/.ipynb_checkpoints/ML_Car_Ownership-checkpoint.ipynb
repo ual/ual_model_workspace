{
 "cells": [
  {
   "cell_type": "code",
   "execution_count": 1,
   "metadata": {},
   "outputs": [],
   "source": [
    "import warnings;\n",
    "warnings.simplefilter('ignore')"
   ]
  },
  {
   "cell_type": "code",
   "execution_count": 279,
   "metadata": {},
   "outputs": [],
   "source": [
    "from urbansim_templates import modelmanager as mm\n",
    "from urbansim_templates.models import LargeMultinomialLogitStep\n",
    "import orca\n",
    "import os; os.chdir('../')\n",
    "\n",
    "import pandas as pd\n",
    "import numpy as np\n",
    "\n",
    "from matplotlib import pyplot as plt\n",
    "%matplotlib inline\n",
    "\n",
    "from sklearn import tree\n",
    "from sklearn.model_selection import KFold, train_test_split\n",
    "from sklearn.model_selection import cross_validate\n",
    "from sklearn.ensemble import RandomForestClassifier\n",
    "from sklearn.ensemble import AdaBoostRegressor\n",
    "from sklearn.ensemble import GradientBoostingClassifier\n",
    "import matplotlib.pyplot as plt\n",
    "from collections import OrderedDict\n",
    "\n",
    "from urbansim_templates.models import SmallMultinomialLogitStep\n",
    "import seaborn as sns\n",
    "\n",
    "from scripts import datasources\n",
    "from scripts import variables\n",
    "# from scripts import utils\n",
    "from scripts import models\n",
    "# from scripts import datasources, models, variables"
   ]
  },
  {
   "cell_type": "code",
   "execution_count": 5,
   "metadata": {},
   "outputs": [],
   "source": [
    "# from scripts import datasources, models, variables, utils"
   ]
  },
  {
   "cell_type": "code",
   "execution_count": 293,
   "metadata": {},
   "outputs": [],
   "source": [
    "from urbansim_templates import modelmanager as mm"
   ]
  },
  {
   "cell_type": "code",
   "execution_count": 298,
   "metadata": {},
   "outputs": [
    {
     "data": {
      "text/plain": [
       "['parcel-model',\n",
       " 'fall-2018-models',\n",
       " 'environment.yml',\n",
       " 'spring-2019-models',\n",
       " 'summer-2018-model',\n",
       " '.git',\n",
       " 'LICENSE',\n",
       " 'README.md',\n",
       " 'configs',\n",
       " '.ipynb_checkpoints',\n",
       " 'unit-model']"
      ]
     },
     "execution_count": 298,
     "metadata": {},
     "output_type": "execute_result"
    }
   ],
   "source": [
    "os.listdir(\"/home/juan/ual_model_workspace/configs/\")"
   ]
  },
  {
   "cell_type": "code",
   "execution_count": 299,
   "metadata": {},
   "outputs": [
    {
     "name": "stdout",
     "output_type": "stream",
     "text": [
      "No yaml files found in path '/home/juan/ual_model_workspace/configs'\n"
     ]
    }
   ],
   "source": [
    "mm.initialize(path = '/home/juan/ual_model_workspace/configs')"
   ]
  },
  {
   "cell_type": "markdown",
   "metadata": {},
   "source": [
    "## Generating accesibility variables"
   ]
  },
  {
   "cell_type": "code",
   "execution_count": 3,
   "metadata": {},
   "outputs": [
    {
     "name": "stdout",
     "output_type": "stream",
     "text": [
      "Running step 'initialize_network_small'\n",
      "Time to execute step 'initialize_network_small': 0.00 s\n",
      "Running step 'network_aggregations_small'\n",
      "Computing accessibility variables\n",
      "Computing units_10000\n",
      "Computing units_sf_10000\n",
      "Computing units_mf_10000\n",
      "Computing pop_10000\n",
      "Computing hh_10000\n",
      "Computing poor_10000\n",
      "Computing renters_10000\n",
      "Computing avg_income_10000\n",
      "Computing jobs_10000\n",
      "Computing avg_rent_10000\n",
      "Computing med_rent_10000\n",
      "Computing pop_white_10000\n",
      "Computing pop_black_10000\n",
      "Computing pop_asian_10000\n",
      "Computing pop_hisp_10000\n",
      "Computing units_25000\n",
      "Computing units_sf_25000\n",
      "Computing units_mf_25000\n",
      "Computing pop_25000\n",
      "Computing hh_25000\n",
      "Computing poor_25000\n",
      "Computing renters_25000\n",
      "Computing avg_income_25000\n",
      "Computing jobs_25000\n",
      "Computing avg_rent_25000\n",
      "Computing pop_white_25000\n",
      "Computing pop_black_25000\n",
      "Computing pop_asian_25000\n",
      "Computing pop_hisp_25000\n",
      "Computing jobs_10000_retail\n",
      "Computing jobs_25000_retail\n",
      "Computing jobs_10000_fire\n",
      "Computing jobs_25000_fire\n",
      "Computing jobs_10000_tech\n",
      "Computing jobs_25000_tech\n",
      "Computing jobs_10000_serv\n",
      "Computing jobs_25000_serv\n",
      "compute additional aggregation variables\n",
      "        units_10000  units_sf_10000  units_mf_10000     pop_10000  \\\n",
      "count   30826.00000    30826.000000    30826.000000  3.082600e+04   \n",
      "mean   123478.57604    59685.754688    45085.221955  3.173505e+05   \n",
      "std     97670.45433    36332.680273    44514.362334  2.359256e+05   \n",
      "min         0.00000        0.000000        0.000000  0.000000e+00   \n",
      "25%     46582.50000    31102.500000    10519.500000  1.230942e+05   \n",
      "50%    103126.00000    58914.000000    32007.500000  2.728665e+05   \n",
      "75%    186203.25000    88261.000000    68992.500000  4.842512e+05   \n",
      "max    439744.00000   144430.000000   197201.000000  1.004838e+06   \n",
      "\n",
      "            hh_10000     poor_10000  renters_10000  avg_income_10000  \\\n",
      "count   30826.000000   30826.000000        30826.0      30826.000000   \n",
      "mean   121527.818205   33317.494874            0.0     111952.856399   \n",
      "std     96125.755835   29872.612658            0.0      28722.182244   \n",
      "min         0.000000       0.000000            0.0          0.000000   \n",
      "25%     45993.000000   11097.500000            0.0      94230.246868   \n",
      "50%    101909.000000   24134.000000            0.0     113791.677666   \n",
      "75%    182454.500000   48014.250000            0.0     130068.165168   \n",
      "max    435385.000000  134801.000000            0.0     222905.786893   \n",
      "\n",
      "          jobs_10000  avg_rent_10000       ...         pop_asian_25000  \\\n",
      "count   30826.000000    30826.000000       ...            30826.000000   \n",
      "mean   207342.424804     8647.580797       ...           343478.623727   \n",
      "std    218670.930744    16417.784771       ...           244932.232904   \n",
      "min         0.000000        0.000000       ...                0.000000   \n",
      "25%     38953.000000     2523.717778       ...            89146.000000   \n",
      "50%    134126.500000     3722.877044       ...           373899.000000   \n",
      "75%    310105.500000     6309.534791       ...           554744.750000   \n",
      "max    962458.000000   359042.471026       ...           779705.000000   \n",
      "\n",
      "       pop_hisp_25000  jobs_10000_retail  jobs_25000_retail  jobs_10000_fire  \\\n",
      "count    30826.000000       30826.000000       30826.000000     30826.000000   \n",
      "mean    220619.911601       15918.176831       55025.652826     21095.094660   \n",
      "std     131177.373546       12909.411320       31474.505013     31109.869691   \n",
      "min          0.000000           0.000000           0.000000         0.000000   \n",
      "25%     101678.000000        5653.000000       25188.000000      2545.000000   \n",
      "50%     228551.000000       13897.000000       61369.000000     10608.500000   \n",
      "75%     352321.750000       20619.500000       84616.000000     28217.000000   \n",
      "max     416087.000000       55407.000000       99959.000000    150806.000000   \n",
      "\n",
      "       jobs_25000_fire  jobs_10000_tech  jobs_25000_tech  jobs_10000_serv  \\\n",
      "count     30826.000000     30826.000000     30826.000000     30826.000000   \n",
      "mean      71779.411990     38787.196328    131684.304191     19369.726886   \n",
      "std       60582.770494     52492.659322    106568.149002     21592.943853   \n",
      "min           0.000000         0.000000         0.000000         0.000000   \n",
      "25%       15875.750000      4080.250000     25563.000000      4027.000000   \n",
      "50%       65031.500000     17206.000000    124535.000000     12596.000000   \n",
      "75%      100146.500000     54899.500000    195256.750000     27379.250000   \n",
      "max      203825.000000    242834.000000    353450.000000    101257.000000   \n",
      "\n",
      "       jobs_25000_serv  \n",
      "count     30826.000000  \n",
      "mean      64773.327483  \n",
      "std       46553.601262  \n",
      "min           0.000000  \n",
      "25%       18681.000000  \n",
      "50%       64473.500000  \n",
      "75%       94226.000000  \n",
      "max      164680.000000  \n",
      "\n",
      "[8 rows x 37 columns]\n",
      "Time to execute step 'network_aggregations_small': 850.27 s\n",
      "Total time to execute iteration 1 with iteration value None: 850.27 s\n",
      "Running step 'initialize_network_walk'\n",
      "Time to execute step 'initialize_network_walk': 0.00 s\n",
      "Running step 'network_aggregations_walk'\n",
      "Computing accessibility variables\n",
      "Computing units_500_walk\n",
      "Computing sqft_unit_500_walk\n",
      "Computing singles_500_walk\n",
      "Computing elderly_hh_500_walk\n",
      "Computing children_500_walk\n",
      "Computing units_sf_500_walk\n",
      "Computing units_mf_500_walk\n",
      "Computing pop_500_walk\n",
      "Computing hh_500_walk\n",
      "Computing poor_500_walk\n",
      "Computing rich_500_walk\n",
      "Computing renters_500_walk\n",
      "Computing avg_income_500_walk\n",
      "Computing jobs_500_walk\n",
      "Computing avg_rent_500_walk\n",
      "Computing pop_white_500_walk\n",
      "Computing pop_black_500_walk\n",
      "Computing pop_asian_500_walk\n",
      "Computing pop_hisp_500_walk\n",
      "Computing units_1500_walk\n",
      "Computing sqft_unit_1500_walk\n",
      "Computing singles_1500_walk\n",
      "Computing elderly_hh_1500_walk\n",
      "Computing children_1500_walk\n",
      "Computing units_sf_1500_walk\n",
      "Computing units_mf_1500_walk\n",
      "Computing pop_1500_walk\n",
      "Computing hh_1500_walk\n",
      "Computing poor_1500_walk\n",
      "Computing rich_1500_walk\n",
      "Computing renters_1500_walk\n",
      "Computing avg_income_1500_walk\n",
      "Computing jobs_1500_walk\n",
      "Computing avg_rent_1500_walk\n",
      "Computing pop_white_1500_walk\n",
      "Computing pop_black_1500_walk\n",
      "Computing pop_asian_1500_walk\n",
      "Computing pop_hisp_1500_walk\n",
      "Computing pop_2500_walk\n",
      "Computing pop_white_2500_walk\n",
      "Computing pop_black_2500_walk\n",
      "Computing pop_asian_2500_walk\n",
      "Computing pop_hisp_2500_walk\n",
      "Computing jobs_500_walk_retail\n",
      "Computing jobs_1500_walk_retail\n",
      "Computing jobs_2500_walk_retail\n",
      "Computing jobs_500_walk_fire\n",
      "Computing jobs_1500_walk_fire\n",
      "Computing jobs_2500_walk_fire\n",
      "Computing jobs_500_walk_tech\n",
      "Computing jobs_1500_walk_tech\n",
      "Computing jobs_2500_walk_tech\n",
      "Computing jobs_500_walk_serv\n",
      "Computing jobs_1500_walk_serv\n",
      "Computing jobs_2500_walk_serv\n",
      "compute additional aggregation variables\n",
      "       units_500_walk  sqft_unit_500_walk  singles_500_walk  \\\n",
      "count   415716.000000       415716.000000     415716.000000   \n",
      "mean       395.923799         2366.706757        115.857804   \n",
      "std       1174.997326         1520.313354        404.829400   \n",
      "min          0.000000            0.000000          0.000000   \n",
      "25%         14.000000         1522.430044          2.000000   \n",
      "50%        207.000000         1973.190074         36.000000   \n",
      "75%        480.000000         2887.559244        111.000000   \n",
      "max     209235.000000         6000.000000      57775.000000   \n",
      "\n",
      "       elderly_hh_500_walk  children_500_walk  units_sf_500_walk  \\\n",
      "count        415716.000000      415716.000000      415716.000000   \n",
      "mean             73.572788         200.210709         161.382165   \n",
      "std             284.655286         548.671915         700.844374   \n",
      "min               0.000000           0.000000           0.000000   \n",
      "25%               2.000000           7.000000           2.000000   \n",
      "50%              38.000000         120.000000          96.000000   \n",
      "75%              88.000000         285.000000         243.000000   \n",
      "max           51166.000000      104127.000000      136919.000000   \n",
      "\n",
      "       units_mf_500_walk   pop_500_walk    hh_500_walk  poor_500_walk  \\\n",
      "count      415716.000000  415716.000000  415716.000000  415716.000000   \n",
      "mean          161.894228     980.109435     389.590379     117.496151   \n",
      "std           456.399539    2739.467344    1156.876817     418.729334   \n",
      "min             0.000000       0.000000       0.000000       0.000000   \n",
      "25%             0.000000      38.000000      14.000000       2.000000   \n",
      "50%             2.000000     565.000000     206.000000      37.000000   \n",
      "75%           156.000000    1300.000000     474.000000     116.000000   \n",
      "max         47787.000000  503027.000000  203602.000000   59388.000000   \n",
      "\n",
      "             ...          prop_singles_1500_walk  prop_elderly_1500_walk  \\\n",
      "count        ...                   415716.000000           415716.000000   \n",
      "mean         ...                        0.216714                0.179893   \n",
      "std          ...                        0.118671                0.095276   \n",
      "min          ...                        0.000000                0.000000   \n",
      "25%          ...                        0.153117                0.141384   \n",
      "50%          ...                        0.217573                0.181238   \n",
      "75%          ...                        0.280899                0.222479   \n",
      "max          ...                        1.000000                1.000000   \n",
      "\n",
      "       prop_black_1500_walk  prop_white_1500_walk  prop_asian_1500_walk  \\\n",
      "count         415716.000000         415716.000000         415716.000000   \n",
      "mean               0.041385              0.517036              0.254525   \n",
      "std                0.062307              0.236541              0.181644   \n",
      "min                0.000000              0.000000              0.000000   \n",
      "25%                0.009501              0.374822              0.127006   \n",
      "50%                0.020633              0.547549              0.222461   \n",
      "75%                0.040917              0.698605              0.356485   \n",
      "max                1.000000              1.000000              1.000000   \n",
      "\n",
      "       prop_hisp_1500_walk  prop_rich_1500_walk  prop_poor_1500_walk  \\\n",
      "count        415716.000000        415716.000000        415716.000000   \n",
      "mean              0.166527             0.105043             0.085995   \n",
      "std               0.142341             0.067848             0.060209   \n",
      "min               0.000000             0.000000             0.000000   \n",
      "25%               0.067359             0.058980             0.052566   \n",
      "50%               0.132857             0.103540             0.079459   \n",
      "75%               0.229840             0.148479             0.111978   \n",
      "max               1.000000             1.000000             1.000000   \n",
      "\n",
      "       avg_hhs_500_walk  avg_hhs_1500_walk  \n",
      "count     415716.000000      415716.000000  \n",
      "mean           2.185777           2.487081  \n",
      "std            1.168390           0.857623  \n",
      "min            0.000000           0.000000  \n",
      "25%            2.000000           2.377028  \n",
      "50%            2.555785           2.646081  \n",
      "75%            2.911538           2.922624  \n",
      "max           19.000000          19.000000  \n",
      "\n",
      "[8 rows x 75 columns]\n",
      "Time to execute step 'network_aggregations_walk': 612.24 s\n",
      "Total time to execute iteration 1 with iteration value None: 612.24 s\n",
      "\n"
     ]
    }
   ],
   "source": [
    "orca.run(['initialize_network_small', 'network_aggregations_small'])\n",
    "\n",
    "orca.run(['initialize_network_walk', 'network_aggregations_walk'])\n",
    "\n",
    "print()"
   ]
  },
  {
   "cell_type": "markdown",
   "metadata": {},
   "source": [
    "### Some additional functions"
   ]
  },
  {
   "cell_type": "code",
   "execution_count": 4,
   "metadata": {},
   "outputs": [],
   "source": [
    "def normalize(data):\n",
    "    ''' \n",
    "    Normalizes values in a Series\n",
    "    Input: \n",
    "    data: Series-like\n",
    "    \n",
    "    Return: Normalized Series-like object\n",
    "    '''\n",
    "    if data.dtype == 'O':\n",
    "        return 0\n",
    "    else:\n",
    "        return (data - np.mean(data)) / np.std(data)"
   ]
  },
  {
   "cell_type": "markdown",
   "metadata": {},
   "source": [
    "## Loading data"
   ]
  },
  {
   "cell_type": "code",
   "execution_count": 5,
   "metadata": {},
   "outputs": [],
   "source": [
    "#Loading am peak transit accessibility varaibles\n",
    "@orca.table(cache=False)\n",
    "def am_acc():\n",
    "    df = pd.read_csv('/home/data/urbanaccess_transit/access_indicators_ampeak.csv',dtype = {'block_id':str})\n",
    "    df.block_id = df.block_id.str.zfill(15)\n",
    "    return df\n",
    "\n",
    "households = orca.get_table('households').to_frame()\n",
    "# persons = orca.get_table('persons').to_frame()\n",
    "persons = pd.read_csv('/home/data/spring_2019/2025/persons.csv', \n",
    "                      index_col='member_id', dtype={'member_id': int, 'household_id': int})\n",
    "\n",
    "parcels = orca.get_table('parcels').to_frame()\n",
    "nodessmall = orca.get_table('nodessmall').to_frame()\n",
    "# nodessmall = pd.read_csv('/home/data/2018-07/nodessmall_vars.csv')\n",
    "nodessmall.index.name = 'node_id_small'\n",
    "nodeswalk = orca.get_table('nodeswalk').to_frame()\n",
    "# nodeswalk = pd.read_csv('/home/data/2018-07/nodeswalk_vars.csv')\n",
    "nodeswalk.index.name = 'node_id_walk'\n",
    "am_acc = orca.get_table('am_acc').to_frame()"
   ]
  },
  {
   "cell_type": "code",
   "execution_count": 6,
   "metadata": {},
   "outputs": [
    {
     "data": {
      "text/html": [
       "<div>\n",
       "<style scoped>\n",
       "    .dataframe tbody tr th:only-of-type {\n",
       "        vertical-align: middle;\n",
       "    }\n",
       "\n",
       "    .dataframe tbody tr th {\n",
       "        vertical-align: top;\n",
       "    }\n",
       "\n",
       "    .dataframe thead th {\n",
       "        text-align: right;\n",
       "    }\n",
       "</style>\n",
       "<table border=\"1\" class=\"dataframe\">\n",
       "  <thead>\n",
       "    <tr style=\"text-align: right;\">\n",
       "      <th></th>\n",
       "      <th>Unnamed: 0</th>\n",
       "      <th>student</th>\n",
       "      <th>household_id</th>\n",
       "      <th>age</th>\n",
       "      <th>primary_commute_mode</th>\n",
       "      <th>worker</th>\n",
       "      <th>work_at_home</th>\n",
       "      <th>sex</th>\n",
       "      <th>hours</th>\n",
       "      <th>hispanic</th>\n",
       "      <th>race_id</th>\n",
       "      <th>member_id</th>\n",
       "      <th>edu</th>\n",
       "      <th>relate</th>\n",
       "      <th>earning</th>\n",
       "    </tr>\n",
       "  </thead>\n",
       "  <tbody>\n",
       "    <tr>\n",
       "      <th>0</th>\n",
       "      <td>0</td>\n",
       "      <td>0</td>\n",
       "      <td>0</td>\n",
       "      <td>47</td>\n",
       "      <td>1.0</td>\n",
       "      <td>1</td>\n",
       "      <td>0</td>\n",
       "      <td>1</td>\n",
       "      <td>40.0</td>\n",
       "      <td>1</td>\n",
       "      <td>1</td>\n",
       "      <td>1</td>\n",
       "      <td>22.0</td>\n",
       "      <td>0</td>\n",
       "      <td>85000.0</td>\n",
       "    </tr>\n",
       "    <tr>\n",
       "      <th>1</th>\n",
       "      <td>1</td>\n",
       "      <td>0</td>\n",
       "      <td>670</td>\n",
       "      <td>47</td>\n",
       "      <td>1.0</td>\n",
       "      <td>1</td>\n",
       "      <td>0</td>\n",
       "      <td>1</td>\n",
       "      <td>40.0</td>\n",
       "      <td>1</td>\n",
       "      <td>1</td>\n",
       "      <td>1</td>\n",
       "      <td>22.0</td>\n",
       "      <td>0</td>\n",
       "      <td>85000.0</td>\n",
       "    </tr>\n",
       "    <tr>\n",
       "      <th>2</th>\n",
       "      <td>2</td>\n",
       "      <td>0</td>\n",
       "      <td>740</td>\n",
       "      <td>47</td>\n",
       "      <td>1.0</td>\n",
       "      <td>1</td>\n",
       "      <td>0</td>\n",
       "      <td>1</td>\n",
       "      <td>40.0</td>\n",
       "      <td>1</td>\n",
       "      <td>1</td>\n",
       "      <td>1</td>\n",
       "      <td>22.0</td>\n",
       "      <td>0</td>\n",
       "      <td>85000.0</td>\n",
       "    </tr>\n",
       "    <tr>\n",
       "      <th>3</th>\n",
       "      <td>3</td>\n",
       "      <td>0</td>\n",
       "      <td>975</td>\n",
       "      <td>47</td>\n",
       "      <td>1.0</td>\n",
       "      <td>1</td>\n",
       "      <td>0</td>\n",
       "      <td>1</td>\n",
       "      <td>40.0</td>\n",
       "      <td>1</td>\n",
       "      <td>1</td>\n",
       "      <td>1</td>\n",
       "      <td>22.0</td>\n",
       "      <td>0</td>\n",
       "      <td>85000.0</td>\n",
       "    </tr>\n",
       "    <tr>\n",
       "      <th>4</th>\n",
       "      <td>4</td>\n",
       "      <td>0</td>\n",
       "      <td>977</td>\n",
       "      <td>47</td>\n",
       "      <td>1.0</td>\n",
       "      <td>1</td>\n",
       "      <td>0</td>\n",
       "      <td>1</td>\n",
       "      <td>40.0</td>\n",
       "      <td>1</td>\n",
       "      <td>1</td>\n",
       "      <td>1</td>\n",
       "      <td>22.0</td>\n",
       "      <td>0</td>\n",
       "      <td>85000.0</td>\n",
       "    </tr>\n",
       "  </tbody>\n",
       "</table>\n",
       "</div>"
      ],
      "text/plain": [
       "   Unnamed: 0  student  household_id  age  primary_commute_mode  worker  \\\n",
       "0           0        0             0   47                   1.0       1   \n",
       "1           1        0           670   47                   1.0       1   \n",
       "2           2        0           740   47                   1.0       1   \n",
       "3           3        0           975   47                   1.0       1   \n",
       "4           4        0           977   47                   1.0       1   \n",
       "\n",
       "   work_at_home  sex  hours  hispanic  race_id  member_id   edu  relate  \\\n",
       "0             0    1   40.0         1        1          1  22.0       0   \n",
       "1             0    1   40.0         1        1          1  22.0       0   \n",
       "2             0    1   40.0         1        1          1  22.0       0   \n",
       "3             0    1   40.0         1        1          1  22.0       0   \n",
       "4             0    1   40.0         1        1          1  22.0       0   \n",
       "\n",
       "   earning  \n",
       "0  85000.0  \n",
       "1  85000.0  \n",
       "2  85000.0  \n",
       "3  85000.0  \n",
       "4  85000.0  "
      ]
     },
     "execution_count": 6,
     "metadata": {},
     "output_type": "execute_result"
    }
   ],
   "source": [
    "\n",
    "\n",
    "persons = pd.read_csv('/home/data/spring_2019/2025/persons.csv',) \n",
    "#                       index_col='member_id', dtype={'member_id': int, 'household_id': int})\n",
    "persons.head()"
   ]
  },
  {
   "cell_type": "code",
   "execution_count": 7,
   "metadata": {},
   "outputs": [],
   "source": [
    "#Creating a Parcel Table with accessibility variables \n",
    "\n",
    "# Merging transit accessibility to parcels (Have to do this manually because orca.merge_tables performs inner merge only)\n",
    "parcels_acc = parcels.reset_index().merge(am_acc, how='left', on='block_id').set_index('parcel_id')\n",
    "\n",
    "#Filling transit accessibility NA with median value and adding columns to the parcelDataFrame in orca\n",
    "for acc_col in set(parcels_acc.columns) - set(parcels):\n",
    "    parcels_acc[acc_col].fillna(parcels_acc[acc_col].median())\n",
    "\n",
    "parcels_acc = parcels_acc.reset_index().merge(nodessmall, \n",
    "                                          how='left', \n",
    "                                          left_on='node_id_small',\n",
    "                                          right_index= True).set_index('parcel_id')\n",
    "\n",
    "parcels_acc = parcels_acc.reset_index().merge(nodeswalk, \n",
    "                                          how='left', \n",
    "                                          left_on='node_id_walk',\n",
    "                                          right_index= True).set_index('parcel_id')\n",
    "\n"
   ]
  },
  {
   "cell_type": "markdown",
   "metadata": {},
   "source": [
    "## Merging process"
   ]
  },
  {
   "cell_type": "markdown",
   "metadata": {},
   "source": [
    "### Synthetic population"
   ]
  },
  {
   "cell_type": "code",
   "execution_count": 15,
   "metadata": {},
   "outputs": [
    {
     "ename": "KeyError",
     "evalue": "'primary_id'",
     "output_type": "error",
     "traceback": [
      "\u001b[0;31m---------------------------------------------------------------------------\u001b[0m",
      "\u001b[0;31mKeyError\u001b[0m                                  Traceback (most recent call last)",
      "\u001b[0;32m~/anaconda3/envs/template-env/lib/python3.6/site-packages/pandas/core/indexes/base.py\u001b[0m in \u001b[0;36mget_loc\u001b[0;34m(self, key, method, tolerance)\u001b[0m\n\u001b[1;32m   3077\u001b[0m             \u001b[0;32mtry\u001b[0m\u001b[0;34m:\u001b[0m\u001b[0;34m\u001b[0m\u001b[0;34m\u001b[0m\u001b[0m\n\u001b[0;32m-> 3078\u001b[0;31m                 \u001b[0;32mreturn\u001b[0m \u001b[0mself\u001b[0m\u001b[0;34m.\u001b[0m\u001b[0m_engine\u001b[0m\u001b[0;34m.\u001b[0m\u001b[0mget_loc\u001b[0m\u001b[0;34m(\u001b[0m\u001b[0mkey\u001b[0m\u001b[0;34m)\u001b[0m\u001b[0;34m\u001b[0m\u001b[0;34m\u001b[0m\u001b[0m\n\u001b[0m\u001b[1;32m   3079\u001b[0m             \u001b[0;32mexcept\u001b[0m \u001b[0mKeyError\u001b[0m\u001b[0;34m:\u001b[0m\u001b[0;34m\u001b[0m\u001b[0;34m\u001b[0m\u001b[0m\n",
      "\u001b[0;32mpandas/_libs/index.pyx\u001b[0m in \u001b[0;36mpandas._libs.index.IndexEngine.get_loc\u001b[0;34m()\u001b[0m\n",
      "\u001b[0;32mpandas/_libs/index.pyx\u001b[0m in \u001b[0;36mpandas._libs.index.IndexEngine.get_loc\u001b[0;34m()\u001b[0m\n",
      "\u001b[0;32mpandas/_libs/hashtable_class_helper.pxi\u001b[0m in \u001b[0;36mpandas._libs.hashtable.PyObjectHashTable.get_item\u001b[0;34m()\u001b[0m\n",
      "\u001b[0;32mpandas/_libs/hashtable_class_helper.pxi\u001b[0m in \u001b[0;36mpandas._libs.hashtable.PyObjectHashTable.get_item\u001b[0;34m()\u001b[0m\n",
      "\u001b[0;31mKeyError\u001b[0m: 'primary_id'",
      "\nDuring handling of the above exception, another exception occurred:\n",
      "\u001b[0;31mKeyError\u001b[0m                                  Traceback (most recent call last)",
      "\u001b[0;32m<ipython-input-15-7647f7cad997>\u001b[0m in \u001b[0;36m<module>\u001b[0;34m\u001b[0m\n\u001b[1;32m      1\u001b[0m \u001b[0;31m# Merging transit accessibility to parcels (Have to do this manually because orca.merge_tables performs inner merge only)\u001b[0m\u001b[0;34m\u001b[0m\u001b[0;34m\u001b[0m\u001b[0;34m\u001b[0m\u001b[0m\n\u001b[0;32m----> 2\u001b[0;31m \u001b[0mparcels_with_acc\u001b[0m \u001b[0;34m=\u001b[0m \u001b[0mparcels\u001b[0m\u001b[0;34m.\u001b[0m\u001b[0mreset_index\u001b[0m\u001b[0;34m(\u001b[0m\u001b[0;34m)\u001b[0m\u001b[0;34m.\u001b[0m\u001b[0mmerge\u001b[0m\u001b[0;34m(\u001b[0m\u001b[0mam_acc\u001b[0m\u001b[0;34m,\u001b[0m \u001b[0mhow\u001b[0m\u001b[0;34m=\u001b[0m\u001b[0;34m'left'\u001b[0m\u001b[0;34m,\u001b[0m \u001b[0mon\u001b[0m\u001b[0;34m=\u001b[0m\u001b[0;34m'block_id'\u001b[0m\u001b[0;34m)\u001b[0m\u001b[0;34m.\u001b[0m\u001b[0mset_index\u001b[0m\u001b[0;34m(\u001b[0m\u001b[0;34m'primary_id'\u001b[0m\u001b[0;34m)\u001b[0m\u001b[0;34m\u001b[0m\u001b[0;34m\u001b[0m\u001b[0m\n\u001b[0m\u001b[1;32m      3\u001b[0m \u001b[0;34m\u001b[0m\u001b[0m\n\u001b[1;32m      4\u001b[0m \u001b[0;31m#Filling transit accessibility NA with median value and adding columns to the parcelDataFrame in orca\u001b[0m\u001b[0;34m\u001b[0m\u001b[0;34m\u001b[0m\u001b[0;34m\u001b[0m\u001b[0m\n\u001b[1;32m      5\u001b[0m \u001b[0;32mfor\u001b[0m \u001b[0macc_col\u001b[0m \u001b[0;32min\u001b[0m \u001b[0mset\u001b[0m\u001b[0;34m(\u001b[0m\u001b[0mparcels_with_acc\u001b[0m\u001b[0;34m.\u001b[0m\u001b[0mcolumns\u001b[0m\u001b[0;34m)\u001b[0m \u001b[0;34m-\u001b[0m \u001b[0mset\u001b[0m\u001b[0;34m(\u001b[0m\u001b[0mparcels\u001b[0m\u001b[0;34m)\u001b[0m\u001b[0;34m:\u001b[0m\u001b[0;34m\u001b[0m\u001b[0;34m\u001b[0m\u001b[0m\n",
      "\u001b[0;32m~/anaconda3/envs/template-env/lib/python3.6/site-packages/pandas/core/frame.py\u001b[0m in \u001b[0;36mset_index\u001b[0;34m(self, keys, drop, append, inplace, verify_integrity)\u001b[0m\n\u001b[1;32m   3907\u001b[0m                 \u001b[0mnames\u001b[0m\u001b[0;34m.\u001b[0m\u001b[0mappend\u001b[0m\u001b[0;34m(\u001b[0m\u001b[0;32mNone\u001b[0m\u001b[0;34m)\u001b[0m\u001b[0;34m\u001b[0m\u001b[0;34m\u001b[0m\u001b[0m\n\u001b[1;32m   3908\u001b[0m             \u001b[0;32melse\u001b[0m\u001b[0;34m:\u001b[0m\u001b[0;34m\u001b[0m\u001b[0;34m\u001b[0m\u001b[0m\n\u001b[0;32m-> 3909\u001b[0;31m                 \u001b[0mlevel\u001b[0m \u001b[0;34m=\u001b[0m \u001b[0mframe\u001b[0m\u001b[0;34m[\u001b[0m\u001b[0mcol\u001b[0m\u001b[0;34m]\u001b[0m\u001b[0;34m.\u001b[0m\u001b[0m_values\u001b[0m\u001b[0;34m\u001b[0m\u001b[0;34m\u001b[0m\u001b[0m\n\u001b[0m\u001b[1;32m   3910\u001b[0m                 \u001b[0mnames\u001b[0m\u001b[0;34m.\u001b[0m\u001b[0mappend\u001b[0m\u001b[0;34m(\u001b[0m\u001b[0mcol\u001b[0m\u001b[0;34m)\u001b[0m\u001b[0;34m\u001b[0m\u001b[0;34m\u001b[0m\u001b[0m\n\u001b[1;32m   3911\u001b[0m                 \u001b[0;32mif\u001b[0m \u001b[0mdrop\u001b[0m\u001b[0;34m:\u001b[0m\u001b[0;34m\u001b[0m\u001b[0;34m\u001b[0m\u001b[0m\n",
      "\u001b[0;32m~/anaconda3/envs/template-env/lib/python3.6/site-packages/pandas/core/frame.py\u001b[0m in \u001b[0;36m__getitem__\u001b[0;34m(self, key)\u001b[0m\n\u001b[1;32m   2686\u001b[0m             \u001b[0;32mreturn\u001b[0m \u001b[0mself\u001b[0m\u001b[0;34m.\u001b[0m\u001b[0m_getitem_multilevel\u001b[0m\u001b[0;34m(\u001b[0m\u001b[0mkey\u001b[0m\u001b[0;34m)\u001b[0m\u001b[0;34m\u001b[0m\u001b[0;34m\u001b[0m\u001b[0m\n\u001b[1;32m   2687\u001b[0m         \u001b[0;32melse\u001b[0m\u001b[0;34m:\u001b[0m\u001b[0;34m\u001b[0m\u001b[0;34m\u001b[0m\u001b[0m\n\u001b[0;32m-> 2688\u001b[0;31m             \u001b[0;32mreturn\u001b[0m \u001b[0mself\u001b[0m\u001b[0;34m.\u001b[0m\u001b[0m_getitem_column\u001b[0m\u001b[0;34m(\u001b[0m\u001b[0mkey\u001b[0m\u001b[0;34m)\u001b[0m\u001b[0;34m\u001b[0m\u001b[0;34m\u001b[0m\u001b[0m\n\u001b[0m\u001b[1;32m   2689\u001b[0m \u001b[0;34m\u001b[0m\u001b[0m\n\u001b[1;32m   2690\u001b[0m     \u001b[0;32mdef\u001b[0m \u001b[0m_getitem_column\u001b[0m\u001b[0;34m(\u001b[0m\u001b[0mself\u001b[0m\u001b[0;34m,\u001b[0m \u001b[0mkey\u001b[0m\u001b[0;34m)\u001b[0m\u001b[0;34m:\u001b[0m\u001b[0;34m\u001b[0m\u001b[0;34m\u001b[0m\u001b[0m\n",
      "\u001b[0;32m~/anaconda3/envs/template-env/lib/python3.6/site-packages/pandas/core/frame.py\u001b[0m in \u001b[0;36m_getitem_column\u001b[0;34m(self, key)\u001b[0m\n\u001b[1;32m   2693\u001b[0m         \u001b[0;31m# get column\u001b[0m\u001b[0;34m\u001b[0m\u001b[0;34m\u001b[0m\u001b[0;34m\u001b[0m\u001b[0m\n\u001b[1;32m   2694\u001b[0m         \u001b[0;32mif\u001b[0m \u001b[0mself\u001b[0m\u001b[0;34m.\u001b[0m\u001b[0mcolumns\u001b[0m\u001b[0;34m.\u001b[0m\u001b[0mis_unique\u001b[0m\u001b[0;34m:\u001b[0m\u001b[0;34m\u001b[0m\u001b[0;34m\u001b[0m\u001b[0m\n\u001b[0;32m-> 2695\u001b[0;31m             \u001b[0;32mreturn\u001b[0m \u001b[0mself\u001b[0m\u001b[0;34m.\u001b[0m\u001b[0m_get_item_cache\u001b[0m\u001b[0;34m(\u001b[0m\u001b[0mkey\u001b[0m\u001b[0;34m)\u001b[0m\u001b[0;34m\u001b[0m\u001b[0;34m\u001b[0m\u001b[0m\n\u001b[0m\u001b[1;32m   2696\u001b[0m \u001b[0;34m\u001b[0m\u001b[0m\n\u001b[1;32m   2697\u001b[0m         \u001b[0;31m# duplicate columns & possible reduce dimensionality\u001b[0m\u001b[0;34m\u001b[0m\u001b[0;34m\u001b[0m\u001b[0;34m\u001b[0m\u001b[0m\n",
      "\u001b[0;32m~/anaconda3/envs/template-env/lib/python3.6/site-packages/pandas/core/generic.py\u001b[0m in \u001b[0;36m_get_item_cache\u001b[0;34m(self, item)\u001b[0m\n\u001b[1;32m   2487\u001b[0m         \u001b[0mres\u001b[0m \u001b[0;34m=\u001b[0m \u001b[0mcache\u001b[0m\u001b[0;34m.\u001b[0m\u001b[0mget\u001b[0m\u001b[0;34m(\u001b[0m\u001b[0mitem\u001b[0m\u001b[0;34m)\u001b[0m\u001b[0;34m\u001b[0m\u001b[0;34m\u001b[0m\u001b[0m\n\u001b[1;32m   2488\u001b[0m         \u001b[0;32mif\u001b[0m \u001b[0mres\u001b[0m \u001b[0;32mis\u001b[0m \u001b[0;32mNone\u001b[0m\u001b[0;34m:\u001b[0m\u001b[0;34m\u001b[0m\u001b[0;34m\u001b[0m\u001b[0m\n\u001b[0;32m-> 2489\u001b[0;31m             \u001b[0mvalues\u001b[0m \u001b[0;34m=\u001b[0m \u001b[0mself\u001b[0m\u001b[0;34m.\u001b[0m\u001b[0m_data\u001b[0m\u001b[0;34m.\u001b[0m\u001b[0mget\u001b[0m\u001b[0;34m(\u001b[0m\u001b[0mitem\u001b[0m\u001b[0;34m)\u001b[0m\u001b[0;34m\u001b[0m\u001b[0;34m\u001b[0m\u001b[0m\n\u001b[0m\u001b[1;32m   2490\u001b[0m             \u001b[0mres\u001b[0m \u001b[0;34m=\u001b[0m \u001b[0mself\u001b[0m\u001b[0;34m.\u001b[0m\u001b[0m_box_item_values\u001b[0m\u001b[0;34m(\u001b[0m\u001b[0mitem\u001b[0m\u001b[0;34m,\u001b[0m \u001b[0mvalues\u001b[0m\u001b[0;34m)\u001b[0m\u001b[0;34m\u001b[0m\u001b[0;34m\u001b[0m\u001b[0m\n\u001b[1;32m   2491\u001b[0m             \u001b[0mcache\u001b[0m\u001b[0;34m[\u001b[0m\u001b[0mitem\u001b[0m\u001b[0;34m]\u001b[0m \u001b[0;34m=\u001b[0m \u001b[0mres\u001b[0m\u001b[0;34m\u001b[0m\u001b[0;34m\u001b[0m\u001b[0m\n",
      "\u001b[0;32m~/anaconda3/envs/template-env/lib/python3.6/site-packages/pandas/core/internals.py\u001b[0m in \u001b[0;36mget\u001b[0;34m(self, item, fastpath)\u001b[0m\n\u001b[1;32m   4113\u001b[0m \u001b[0;34m\u001b[0m\u001b[0m\n\u001b[1;32m   4114\u001b[0m             \u001b[0;32mif\u001b[0m \u001b[0;32mnot\u001b[0m \u001b[0misna\u001b[0m\u001b[0;34m(\u001b[0m\u001b[0mitem\u001b[0m\u001b[0;34m)\u001b[0m\u001b[0;34m:\u001b[0m\u001b[0;34m\u001b[0m\u001b[0;34m\u001b[0m\u001b[0m\n\u001b[0;32m-> 4115\u001b[0;31m                 \u001b[0mloc\u001b[0m \u001b[0;34m=\u001b[0m \u001b[0mself\u001b[0m\u001b[0;34m.\u001b[0m\u001b[0mitems\u001b[0m\u001b[0;34m.\u001b[0m\u001b[0mget_loc\u001b[0m\u001b[0;34m(\u001b[0m\u001b[0mitem\u001b[0m\u001b[0;34m)\u001b[0m\u001b[0;34m\u001b[0m\u001b[0;34m\u001b[0m\u001b[0m\n\u001b[0m\u001b[1;32m   4116\u001b[0m             \u001b[0;32melse\u001b[0m\u001b[0;34m:\u001b[0m\u001b[0;34m\u001b[0m\u001b[0;34m\u001b[0m\u001b[0m\n\u001b[1;32m   4117\u001b[0m                 \u001b[0mindexer\u001b[0m \u001b[0;34m=\u001b[0m \u001b[0mnp\u001b[0m\u001b[0;34m.\u001b[0m\u001b[0marange\u001b[0m\u001b[0;34m(\u001b[0m\u001b[0mlen\u001b[0m\u001b[0;34m(\u001b[0m\u001b[0mself\u001b[0m\u001b[0;34m.\u001b[0m\u001b[0mitems\u001b[0m\u001b[0;34m)\u001b[0m\u001b[0;34m)\u001b[0m\u001b[0;34m[\u001b[0m\u001b[0misna\u001b[0m\u001b[0;34m(\u001b[0m\u001b[0mself\u001b[0m\u001b[0;34m.\u001b[0m\u001b[0mitems\u001b[0m\u001b[0;34m)\u001b[0m\u001b[0;34m]\u001b[0m\u001b[0;34m\u001b[0m\u001b[0;34m\u001b[0m\u001b[0m\n",
      "\u001b[0;32m~/anaconda3/envs/template-env/lib/python3.6/site-packages/pandas/core/indexes/base.py\u001b[0m in \u001b[0;36mget_loc\u001b[0;34m(self, key, method, tolerance)\u001b[0m\n\u001b[1;32m   3078\u001b[0m                 \u001b[0;32mreturn\u001b[0m \u001b[0mself\u001b[0m\u001b[0;34m.\u001b[0m\u001b[0m_engine\u001b[0m\u001b[0;34m.\u001b[0m\u001b[0mget_loc\u001b[0m\u001b[0;34m(\u001b[0m\u001b[0mkey\u001b[0m\u001b[0;34m)\u001b[0m\u001b[0;34m\u001b[0m\u001b[0;34m\u001b[0m\u001b[0m\n\u001b[1;32m   3079\u001b[0m             \u001b[0;32mexcept\u001b[0m \u001b[0mKeyError\u001b[0m\u001b[0;34m:\u001b[0m\u001b[0;34m\u001b[0m\u001b[0;34m\u001b[0m\u001b[0m\n\u001b[0;32m-> 3080\u001b[0;31m                 \u001b[0;32mreturn\u001b[0m \u001b[0mself\u001b[0m\u001b[0;34m.\u001b[0m\u001b[0m_engine\u001b[0m\u001b[0;34m.\u001b[0m\u001b[0mget_loc\u001b[0m\u001b[0;34m(\u001b[0m\u001b[0mself\u001b[0m\u001b[0;34m.\u001b[0m\u001b[0m_maybe_cast_indexer\u001b[0m\u001b[0;34m(\u001b[0m\u001b[0mkey\u001b[0m\u001b[0;34m)\u001b[0m\u001b[0;34m)\u001b[0m\u001b[0;34m\u001b[0m\u001b[0;34m\u001b[0m\u001b[0m\n\u001b[0m\u001b[1;32m   3081\u001b[0m \u001b[0;34m\u001b[0m\u001b[0m\n\u001b[1;32m   3082\u001b[0m         \u001b[0mindexer\u001b[0m \u001b[0;34m=\u001b[0m \u001b[0mself\u001b[0m\u001b[0;34m.\u001b[0m\u001b[0mget_indexer\u001b[0m\u001b[0;34m(\u001b[0m\u001b[0;34m[\u001b[0m\u001b[0mkey\u001b[0m\u001b[0;34m]\u001b[0m\u001b[0;34m,\u001b[0m \u001b[0mmethod\u001b[0m\u001b[0;34m=\u001b[0m\u001b[0mmethod\u001b[0m\u001b[0;34m,\u001b[0m \u001b[0mtolerance\u001b[0m\u001b[0;34m=\u001b[0m\u001b[0mtolerance\u001b[0m\u001b[0;34m)\u001b[0m\u001b[0;34m\u001b[0m\u001b[0;34m\u001b[0m\u001b[0m\n",
      "\u001b[0;32mpandas/_libs/index.pyx\u001b[0m in \u001b[0;36mpandas._libs.index.IndexEngine.get_loc\u001b[0;34m()\u001b[0m\n",
      "\u001b[0;32mpandas/_libs/index.pyx\u001b[0m in \u001b[0;36mpandas._libs.index.IndexEngine.get_loc\u001b[0;34m()\u001b[0m\n",
      "\u001b[0;32mpandas/_libs/hashtable_class_helper.pxi\u001b[0m in \u001b[0;36mpandas._libs.hashtable.PyObjectHashTable.get_item\u001b[0;34m()\u001b[0m\n",
      "\u001b[0;32mpandas/_libs/hashtable_class_helper.pxi\u001b[0m in \u001b[0;36mpandas._libs.hashtable.PyObjectHashTable.get_item\u001b[0;34m()\u001b[0m\n",
      "\u001b[0;31mKeyError\u001b[0m: 'primary_id'"
     ]
    }
   ],
   "source": [
    "# Merging transit accessibility to parcels (Have to do this manually because orca.merge_tables performs inner merge only)\n",
    "parcels_with_acc = parcels.reset_index().merge(am_acc, how='left', on='block_id').set_index('primary_id')\n",
    "\n",
    "#Filling transit accessibility NA with median value and adding columns to the parcelDataFrame in orca\n",
    "for acc_col in set(parcels_with_acc.columns) - set(parcels):\n",
    "    orca.add_column('parcels',acc_col,\n",
    "         parcels_with_acc[acc_col].fillna(parcels_with_acc[acc_col].median())\n",
    "                   )\n",
    "\n",
    "#Merging parcel to househols\n",
    "@orca.table(cache=False)\n",
    "def hh_merged():\n",
    "    df = orca.merge_tables(target = 'households',tables = ['households','units','buildings','parcels'])\n",
    "    return df\n",
    "\n",
    "#Uploading merge df\n",
    "hh_merged = orca.get_table('hh_merged').to_frame()\n",
    "\n",
    "#Merging nodessmall and nodeswalk to household\n",
    "hh_merged = hh_merged.merge(nodessmall, how = 'left', left_on = 'node_id_small', right_index= True\n",
    "                           ).merge(nodeswalk, how = 'left', left_on = 'node_id_walk', right_index= True )\n",
    "\n",
    "#Generating household variables from the persons table \n",
    "hh_16_younger = persons[persons['age'] < 16].groupby(by='household_id').agg({'age':'count'}).rename(columns={'age': 'hh_16_younger'})\n",
    "hh_70_older = persons[persons['age'] > 70].groupby(by='household_id').agg({'age':'count'}).rename(columns={'age': 'hh_70_older'})\n",
    "hh_students = persons[persons['student'] == 1].groupby(by='household_id').agg({'student':'count'}).rename(columns={'student': 'hh_student'})\n",
    "hh_work_home = persons[persons['work_at_home'] == 1].groupby(by='household_id').agg({'work_at_home':'count'}).rename(columns={'work_at_home': 'hh_work_home'})\n",
    "\n",
    "# Merging variables to hh_merged\n",
    "hh_merged = hh_merged .merge(hh_16_younger, on = 'household_id', how = 'left'\n",
    "                           ).merge(hh_70_older, on ='household_id', how = 'left'\n",
    "                                  ).merge(hh_students, on= 'household_id',how = 'left'\n",
    "                                         ).merge(hh_work_home, on= 'household_id', how = 'left')\n",
    "\n",
    "# Filling NA with zeros \n",
    "values = {'hh_16_younger': 0, 'hh_70_older': 0, 'hh_student': 0, 'hh_work_home': 0}\n",
    "hh_merged = hh_merged.fillna(value=values)\n",
    "\n",
    "\n",
    "#Filter repited values is any\n",
    "filter_col = [col for col in hh_merged if (col.endswith('_y')) | (col.endswith('_x'))]\n",
    "\n",
    "if len(filter_col) != 0:\n",
    "    hh_merged = hh_merged.drop(columns=filter_col)"
   ]
  },
  {
   "cell_type": "code",
   "execution_count": null,
   "metadata": {},
   "outputs": [],
   "source": [
    "# Additional Jayne's code for MNL \n",
    "# # income bins\n",
    "# income_bins = pd.cut(orca.get_table('households').to_frame().income,\n",
    "#       bins = [0,20000,40000,60000,80000,100000,120000,np.inf],\n",
    "#       labels = ['2','4','6','8','10','12','12p'],include_lowest = True)\n",
    "# income_bin_dummies = pd.get_dummies(income_bins,prefix = 'income')\n",
    "# for i in income_bin_dummies.columns:\n",
    "#     orca.add_column('households',i,income_bin_dummies[i])\n",
    "\n",
    "# # tenure type dummy\n",
    "# orca.add_column('households','tenure_1',(orca.get_table('households').to_frame()['tenure']==1).astype(int))\n",
    "# orca.add_column('households','tenure_2',(orca.get_table('households').to_frame()['tenure']==2).astype(int))\n",
    "# orca.add_column('households','tenure_3',(orca.get_table('households').to_frame()['tenure']==3).astype(int))\n",
    "# orca.add_column('households','tenure_4',(orca.get_table('households').to_frame()['tenure']==4).astype(int))\n",
    "\n",
    "# # single family as integer\n",
    "# orca.add_column('households','single_family_int',(orca.get_table('households').to_frame()['single_family'].astype(int)))\n",
    "\n",
    "# # building type dummy\n",
    "# orca.add_column('households','building_type_2',(orca.get_table('households').to_frame()['building_type']==2).astype(int))\n",
    "\n",
    "# county_dummies = pd.get_dummies(parcels['county_id'].astype(int),prefix='county')\n",
    "# for i in county_dummies.columns:\n",
    "#     orca.add_column('parcels',i,county_dummies[i])\n",
    "\n",
    "# acc_cols = list(orca.get_table('nodessmall').to_frame().columns) + list(orca.get_table('nodeswalk').to_frame().columns) + list(set(parcels_with_acc.columns) - set(parcels))"
   ]
  },
  {
   "cell_type": "markdown",
   "metadata": {},
   "source": [
    "### CHTS data"
   ]
  },
  {
   "cell_type": "code",
   "execution_count": 611,
   "metadata": {},
   "outputs": [],
   "source": [
    "persons_chts = pd.read_csv('/home/data/fall_2018/chts_persons_w_zone_ids.csv')\n",
    "household_chts = pd.read_csv(\"/home/data/fall_2018/CHTS_csv_format/data/Deliv_HH.csv\")"
   ]
  },
  {
   "cell_type": "code",
   "execution_count": 612,
   "metadata": {},
   "outputs": [],
   "source": [
    "# Variables in the persons table\n",
    "# persons_chts['worker'] = [1 if x == 1 else 0 for x in persons_chts['EMPLY']]\n",
    "persons_chts['children'] = [1 if x < 18 else 0 for x in persons_chts.AGE]\n",
    "persons_chts['TransitPass'] = persons_chts.TRANS.apply(lambda x: 1 if x == 1 else 0)\n",
    "\n",
    "#Age categories \n",
    "persons_chts['age_0_15'] = [1 if x < 16 else 0 for x in persons_chts.AGE]\n",
    "persons_chts['age_16_17'] = [1 if (x >= 16) & (x <=17) else 0 for x in persons_chts.AGE]\n",
    "persons_chts['age_18_25'] = [1 if (x >= 18) & (x <=23) else 0 for x in persons_chts.AGE]\n",
    "persons_chts['age_25_40'] = [1 if (x >= 24) & (x <=38) else 0 for x in persons_chts.AGE]\n",
    "persons_chts['age_40_60'] = [1 if (x >= 39) & (x <=60) else 0 for x in persons_chts.AGE]\n",
    "persons_chts['age_60'] = [1 if x > 60 else 0 for x in persons_chts.AGE]\n",
    "\n",
    "#Occupation Categories \n",
    "persons_chts['worker_student'] = [1 if (persons_chts.EMPLY[x] == 1) & (persons_chts.STUDE[x] <=2) else 0 for x in range(len(persons_chts.EMPLY))]\n",
    "persons_chts['non_worker_non_student'] = [1 if (persons_chts.EMPLY[x] != 1) & (persons_chts.STUDE[x] > 2) else 0 for x in range(len(persons_chts.EMPLY))]\n",
    "persons_chts['worker'] = [1 if (persons_chts.EMPLY[x] == 1) & (persons_chts.worker_student[x] != 1) else 0 for x in range(len(persons_chts.EMPLY))]\n",
    "persons_chts['student'] = [1 if (persons_chts.STUDE[x] <= 2) & (persons_chts.worker_student[x] != 1) else 0 for x in range(len(persons_chts.EMPLY))]\n",
    "\n",
    "\n",
    "# #Creating person-based variables to merge onto Household table\n",
    "person_var = persons_chts.groupby(by ='SAMPN').agg({'PERNO': 'count',\n",
    "                                                    'AGE': 'max',\n",
    "                                                    'zone_id_home': 'first',\n",
    "                                                    'EMPLY':'sum', \n",
    "                                                    'children':'sum',\n",
    "                                                    'TransitPass':'sum',\n",
    "                                                    'parcel_id_home': 'first',\n",
    "                                                    'age_0_15': 'sum',\n",
    "                                                    'age_16_17': 'sum',\n",
    "                                                    'age_18_25': 'sum',\n",
    "                                                    'age_25_40': 'sum',\n",
    "                                                    'age_40_60': 'sum',\n",
    "                                                    'age_60': 'sum', \n",
    "                                                    'non_worker_non_student': 'sum',\n",
    "                                                    'worker_student':'sum',\n",
    "                                                    'worker': 'sum',\n",
    "                                                    'student': 'sum'})\n",
    "\n",
    "household_chts = household_chts.merge(person_var, how = 'left', left_on = 'SAMPN', right_index=True )\n",
    "household_chts = household_chts.dropna(subset=['PERNO', 'AGE', 'zone_id_home', 'children'])\n",
    "household_chts['max_35'] = [1 if x <=35 else 0 for x in household_chts.AGE]\n",
    "\n",
    "#Creating a Parcel Table with accessibility variables \n",
    "# Merging transit accessibility to parcels (Have to do this manually because orca.merge_tables performs inner merge only)\n",
    "parcels_acc = parcels.reset_index().merge(am_acc, how='left', on='block_id').set_index('parcel_id')\n",
    "\n",
    "#Filling transit accessibility NA \n",
    "for acc_col in set(parcels_acc.columns) - set(parcels):\n",
    "    parcels_acc[acc_col].fillna(parcels_acc[acc_col].median())\n",
    "\n",
    "parcels_acc = parcels_acc.reset_index().merge(nodessmall, \n",
    "                                          how='left', \n",
    "                                          left_on='node_id_small',\n",
    "                                          right_index= True).set_index('parcel_id')\n",
    "\n",
    "parcels_acc = parcels_acc.reset_index().merge(nodeswalk, \n",
    "                                          how='left', \n",
    "                                          left_on='node_id_walk',\n",
    "                                          right_index= True).set_index('parcel_id')\n",
    "\n",
    "\n",
    "#Merging parcels onto household\n",
    "df_merge = household_chts.merge(parcels_acc, how = 'left', left_on ='parcel_id_home', right_index= True )\n",
    "\n",
    "df_merge = df_merge[df_merge.INCOM<50]"
   ]
  },
  {
   "cell_type": "code",
   "execution_count": 613,
   "metadata": {},
   "outputs": [],
   "source": [
    "df_merge['cars_alt'] = df_merge['HHVEH'].apply(lambda x: 0*(x==0)+ 1*(x==1)+ 2*(x==2)+3*(x>=3))\n",
    "df_merge['RESTY'] = [1 if (x>=4) & (x<=6) else 0 for x in df_merge.RESTY]\n",
    "df_merge['single_family'] = [1 if x >= 1 else 0 for x in df_merge.HHSIZ]"
   ]
  },
  {
   "cell_type": "code",
   "execution_count": 614,
   "metadata": {},
   "outputs": [],
   "source": [
    "# df_merge.isnull().sum()"
   ]
  },
  {
   "cell_type": "code",
   "execution_count": 615,
   "metadata": {},
   "outputs": [],
   "source": [
    "# sns.catplot(x = 'cars_alt', kind=\"count\", palette=\"ch:.25\", data=df_merge)\n",
    "# plt.xlabel('Number of cars per household')\n",
    "# plt.ylabel('Households');"
   ]
  },
  {
   "cell_type": "code",
   "execution_count": 616,
   "metadata": {},
   "outputs": [],
   "source": [
    "#Getting variables names for each data source\n",
    "accessibility_var = set(parcels_acc) - set(parcels)\n",
    "parcel_var = set(parcels.columns) - set(accessibility_var)\n",
    "households_var_continious = ['INCOM','AGE', 'children', 'TransitPass'] # ,'PERNO', 'EMPLY'                   \n",
    "households_var_dummy = ['max_35', 'age_0_15', \n",
    "                    'age_16_17', 'age_18_25', 'age_25_40','age_40_60',\n",
    "                    'age_60', 'worker_student', 'non_worker_non_student',\n",
    "                   'worker','student','RESTY', 'TEN']#, 'HHLIC', ]\n",
    "dependent_var = ['cars_alt']"
   ]
  },
  {
   "cell_type": "code",
   "execution_count": 617,
   "metadata": {},
   "outputs": [],
   "source": [
    "final_var = list(accessibility_var) + households_var_continious + households_var_dummy + dependent_var\n",
    "\n",
    "#Creating a dataset with varaibles needed\n",
    "df = df_merge.loc[:,final_var]"
   ]
  },
  {
   "cell_type": "markdown",
   "metadata": {},
   "source": [
    "## Machine Learning approach"
   ]
  },
  {
   "cell_type": "code",
   "execution_count": 618,
   "metadata": {},
   "outputs": [],
   "source": [
    "df_ml = df_merge.loc[:,final_var]\n",
    "\n",
    "to_normalize =  households_var_continious + list(accessibility_var) \n",
    "\n",
    "for i in to_normalize:\n",
    "    df_ml[i] = normalize(df_ml[i])\n",
    "\n",
    "df_ml = df_ml.dropna(axis=1)\n",
    "\n",
    "## EDA CHTS data"
   ]
  },
  {
   "cell_type": "code",
   "execution_count": 619,
   "metadata": {},
   "outputs": [],
   "source": [
    "#Splitting the data\n",
    "x = df_ml.drop(['cars_alt'], axis = 1)\n",
    "y = df_ml.loc[:,'cars_alt']\n",
    "X_train, X_test, y_train, y_test = train_test_split(x, y, test_size=0.33, random_state= 2348)"
   ]
  },
  {
   "cell_type": "markdown",
   "metadata": {},
   "source": [
    "### Decission tree"
   ]
  },
  {
   "cell_type": "code",
   "execution_count": null,
   "metadata": {},
   "outputs": [],
   "source": [
    "result_train = []\n",
    "result_test = []\n",
    "max_depth = range(1,20)\n",
    "for i in max_depth:\n",
    "    clf = tree.DecisionTreeClassifier(criterion='entropy',max_depth=i)\n",
    "    scores = cross_validate(clf, X_train, y_train, cv=3, return_train_score=True)\n",
    "    result_train.append(scores['train_score'].mean())\n",
    "    result_test.append(scores['test_score'].mean()) \n",
    "    \n",
    "plt.figure()\n",
    "plt.plot(max_depth, result_train, '-o',color='blue',label='Train')\n",
    "plt.plot(max_depth, result_test, '-o',color='red',label='Test')\n",
    "plt.xlabel('Max depth')\n",
    "plt.ylabel('Accuracy')\n",
    "plt.legend()"
   ]
  },
  {
   "cell_type": "code",
   "execution_count": null,
   "metadata": {},
   "outputs": [],
   "source": [
    "clf = tree.DecisionTreeClassifier(criterion='entropy', splitter = 'best', \n",
    "                                  max_depth= 5, class_weight ={0: 1, 1: 1})#, \n",
    "#                                   min_weight_fraction_leaf = 0.2 )\n",
    "clf.fit(X_train, y_train)\n",
    "\n",
    "aa = pd.DataFrame({'importances':clf.feature_importances_,\n",
    "                   'variables':X_train.columns}).sort_values(by = 'importances', ascending= False)\n",
    "\n",
    "aa[:20].plot.barh(x = 'variables', y='importances', color ='lightsteelblue')#, figsize =(15,5) )\n",
    "plt.yticks()#(fontsize = 10)\n",
    "# plt.tight_layout()"
   ]
  },
  {
   "cell_type": "code",
   "execution_count": null,
   "metadata": {},
   "outputs": [],
   "source": [
    "pd.crosstab( y_test, clf.predict(X_test))#,normalize = 'index')"
   ]
  },
  {
   "cell_type": "code",
   "execution_count": null,
   "metadata": {},
   "outputs": [],
   "source": [
    "clf.score(X_test, y_test)"
   ]
  },
  {
   "cell_type": "markdown",
   "metadata": {},
   "source": [
    "### Gradient Boosting"
   ]
  },
  {
   "cell_type": "code",
   "execution_count": 441,
   "metadata": {},
   "outputs": [
    {
     "data": {
      "text/plain": [
       "0.6399169837426496"
      ]
     },
     "execution_count": 441,
     "metadata": {},
     "output_type": "execute_result"
    }
   ],
   "source": [
    "model = GradientBoostingClassifier(max_depth=3, n_estimators=100)\n",
    "model.fit(X_train, y_train)\n",
    "importances = model.feature_importances_\n",
    "pd.crosstab( y_test, model.predict(X_test))\n",
    "model.score(X_test, y_test)"
   ]
  },
  {
   "cell_type": "code",
   "execution_count": 450,
   "metadata": {},
   "outputs": [
    {
     "data": {
      "image/png": "[encoded data removed]",
      "text/plain": [
       "<Figure size 432x288 with 1 Axes>"
      ]
     },
     "metadata": {
      "needs_background": "light"
     },
     "output_type": "display_data"
    }
   ],
   "source": [
    "bb = pd.DataFrame({'importances':model.feature_importances_,\n",
    "                   'variables':X_train.columns}).sort_values(by = 'importances', ascending= True)\n",
    "\n",
    "bb[-20:].plot.barh(x = 'variables', y='importances', color ='lightsteelblue')#, figsize =(15,5) )\n",
    "plt.yticks();#(fontsize = 10)"
   ]
  },
  {
   "cell_type": "code",
   "execution_count": 451,
   "metadata": {},
   "outputs": [
    {
     "data": {
      "text/html": [
       "<div>\n",
       "<style scoped>\n",
       "    .dataframe tbody tr th:only-of-type {\n",
       "        vertical-align: middle;\n",
       "    }\n",
       "\n",
       "    .dataframe tbody tr th {\n",
       "        vertical-align: top;\n",
       "    }\n",
       "\n",
       "    .dataframe thead th {\n",
       "        text-align: right;\n",
       "    }\n",
       "</style>\n",
       "<table border=\"1\" class=\"dataframe\">\n",
       "  <thead>\n",
       "    <tr style=\"text-align: right;\">\n",
       "      <th>col_0</th>\n",
       "      <th>0</th>\n",
       "      <th>1</th>\n",
       "      <th>2</th>\n",
       "      <th>3</th>\n",
       "    </tr>\n",
       "    <tr>\n",
       "      <th>cars_alt</th>\n",
       "      <th></th>\n",
       "      <th></th>\n",
       "      <th></th>\n",
       "      <th></th>\n",
       "    </tr>\n",
       "  </thead>\n",
       "  <tbody>\n",
       "    <tr>\n",
       "      <th>0</th>\n",
       "      <td>310</td>\n",
       "      <td>248</td>\n",
       "      <td>39</td>\n",
       "      <td>1</td>\n",
       "    </tr>\n",
       "    <tr>\n",
       "      <th>1</th>\n",
       "      <td>62</td>\n",
       "      <td>1980</td>\n",
       "      <td>616</td>\n",
       "      <td>25</td>\n",
       "    </tr>\n",
       "    <tr>\n",
       "      <th>2</th>\n",
       "      <td>15</td>\n",
       "      <td>469</td>\n",
       "      <td>3239</td>\n",
       "      <td>152</td>\n",
       "    </tr>\n",
       "    <tr>\n",
       "      <th>3</th>\n",
       "      <td>3</td>\n",
       "      <td>92</td>\n",
       "      <td>797</td>\n",
       "      <td>710</td>\n",
       "    </tr>\n",
       "  </tbody>\n",
       "</table>\n",
       "</div>"
      ],
      "text/plain": [
       "col_0       0     1     2    3\n",
       "cars_alt                      \n",
       "0         310   248    39    1\n",
       "1          62  1980   616   25\n",
       "2          15   469  3239  152\n",
       "3           3    92   797  710"
      ]
     },
     "execution_count": 451,
     "metadata": {},
     "output_type": "execute_result"
    }
   ],
   "source": [
    "pd.crosstab( y, model.predict(x))"
   ]
  },
  {
   "cell_type": "code",
   "execution_count": 452,
   "metadata": {},
   "outputs": [
    {
     "data": {
      "text/plain": [
       "0.6399169837426496"
      ]
     },
     "execution_count": 452,
     "metadata": {},
     "output_type": "execute_result"
    }
   ],
   "source": [
    "model.score(X_test, y_test)"
   ]
  },
  {
   "cell_type": "markdown",
   "metadata": {},
   "source": [
    "## MLN model"
   ]
  },
  {
   "cell_type": "markdown",
   "metadata": {},
   "source": [
    "*Select the fetures that are greater than the feature importances meam*"
   ]
  },
  {
   "cell_type": "code",
   "execution_count": 567,
   "metadata": {
    "scrolled": true
   },
   "outputs": [
    {
     "data": {
      "text/html": [
       "<div>\n",
       "<style scoped>\n",
       "    .dataframe tbody tr th:only-of-type {\n",
       "        vertical-align: middle;\n",
       "    }\n",
       "\n",
       "    .dataframe tbody tr th {\n",
       "        vertical-align: top;\n",
       "    }\n",
       "\n",
       "    .dataframe thead th {\n",
       "        text-align: right;\n",
       "    }\n",
       "</style>\n",
       "<table border=\"1\" class=\"dataframe\">\n",
       "  <thead>\n",
       "    <tr style=\"text-align: right;\">\n",
       "      <th></th>\n",
       "      <th>jobs_10000_serv</th>\n",
       "      <th>sqft_unit_500_walk</th>\n",
       "      <th>prop_singles_1500_walk</th>\n",
       "      <th>avg_hhs_1500_walk</th>\n",
       "      <th>jobs_25000</th>\n",
       "      <th>prop_poor_500_walk</th>\n",
       "      <th>jobs_10000_tech</th>\n",
       "      <th>population_20</th>\n",
       "      <th>jobs_25000_tech</th>\n",
       "      <th>poor_10000</th>\n",
       "      <th>...</th>\n",
       "      <th>age_0_15</th>\n",
       "      <th>worker_student</th>\n",
       "      <th>age_18_25</th>\n",
       "      <th>non_worker_non_student</th>\n",
       "      <th>age_60</th>\n",
       "      <th>age_40_60</th>\n",
       "      <th>RESTY</th>\n",
       "      <th>INCOM</th>\n",
       "      <th>worker</th>\n",
       "      <th>cars_alt</th>\n",
       "    </tr>\n",
       "  </thead>\n",
       "  <tbody>\n",
       "    <tr>\n",
       "      <th>0</th>\n",
       "      <td>903.0</td>\n",
       "      <td>2174.249180</td>\n",
       "      <td>0.174290</td>\n",
       "      <td>2.829462</td>\n",
       "      <td>108826.0</td>\n",
       "      <td>0.066431</td>\n",
       "      <td>524.0</td>\n",
       "      <td>1.658212e+03</td>\n",
       "      <td>9350.0</td>\n",
       "      <td>3881.0</td>\n",
       "      <td>...</td>\n",
       "      <td>0.0</td>\n",
       "      <td>0.0</td>\n",
       "      <td>0.0</td>\n",
       "      <td>2.0</td>\n",
       "      <td>2.0</td>\n",
       "      <td>0.0</td>\n",
       "      <td>0</td>\n",
       "      <td>3</td>\n",
       "      <td>0.0</td>\n",
       "      <td>2</td>\n",
       "    </tr>\n",
       "    <tr>\n",
       "      <th>7</th>\n",
       "      <td>42412.0</td>\n",
       "      <td>1242.885626</td>\n",
       "      <td>0.235703</td>\n",
       "      <td>2.788168</td>\n",
       "      <td>1168866.0</td>\n",
       "      <td>0.086816</td>\n",
       "      <td>60686.0</td>\n",
       "      <td>1.563817e+06</td>\n",
       "      <td>279166.0</td>\n",
       "      <td>79089.0</td>\n",
       "      <td>...</td>\n",
       "      <td>0.0</td>\n",
       "      <td>0.0</td>\n",
       "      <td>0.0</td>\n",
       "      <td>0.0</td>\n",
       "      <td>0.0</td>\n",
       "      <td>1.0</td>\n",
       "      <td>0</td>\n",
       "      <td>6</td>\n",
       "      <td>1.0</td>\n",
       "      <td>0</td>\n",
       "    </tr>\n",
       "    <tr>\n",
       "      <th>19</th>\n",
       "      <td>18766.0</td>\n",
       "      <td>1712.247767</td>\n",
       "      <td>0.148062</td>\n",
       "      <td>3.664858</td>\n",
       "      <td>984441.0</td>\n",
       "      <td>0.097056</td>\n",
       "      <td>49477.0</td>\n",
       "      <td>4.843735e+05</td>\n",
       "      <td>191851.0</td>\n",
       "      <td>18784.0</td>\n",
       "      <td>...</td>\n",
       "      <td>0.0</td>\n",
       "      <td>0.0</td>\n",
       "      <td>0.0</td>\n",
       "      <td>0.0</td>\n",
       "      <td>0.0</td>\n",
       "      <td>1.0</td>\n",
       "      <td>0</td>\n",
       "      <td>1</td>\n",
       "      <td>0.0</td>\n",
       "      <td>0</td>\n",
       "    </tr>\n",
       "    <tr>\n",
       "      <th>26</th>\n",
       "      <td>18515.0</td>\n",
       "      <td>2009.915994</td>\n",
       "      <td>0.270658</td>\n",
       "      <td>2.497773</td>\n",
       "      <td>1108731.0</td>\n",
       "      <td>0.053883</td>\n",
       "      <td>43065.0</td>\n",
       "      <td>7.927423e+04</td>\n",
       "      <td>210073.0</td>\n",
       "      <td>24156.0</td>\n",
       "      <td>...</td>\n",
       "      <td>0.0</td>\n",
       "      <td>0.0</td>\n",
       "      <td>0.0</td>\n",
       "      <td>2.0</td>\n",
       "      <td>2.0</td>\n",
       "      <td>0.0</td>\n",
       "      <td>0</td>\n",
       "      <td>7</td>\n",
       "      <td>0.0</td>\n",
       "      <td>1</td>\n",
       "    </tr>\n",
       "    <tr>\n",
       "      <th>28</th>\n",
       "      <td>16654.0</td>\n",
       "      <td>1766.089503</td>\n",
       "      <td>0.227596</td>\n",
       "      <td>2.641892</td>\n",
       "      <td>609762.0</td>\n",
       "      <td>0.059639</td>\n",
       "      <td>36645.0</td>\n",
       "      <td>8.341534e+04</td>\n",
       "      <td>128822.0</td>\n",
       "      <td>17696.0</td>\n",
       "      <td>...</td>\n",
       "      <td>0.0</td>\n",
       "      <td>0.0</td>\n",
       "      <td>0.0</td>\n",
       "      <td>2.0</td>\n",
       "      <td>2.0</td>\n",
       "      <td>0.0</td>\n",
       "      <td>0</td>\n",
       "      <td>7</td>\n",
       "      <td>0.0</td>\n",
       "      <td>2</td>\n",
       "    </tr>\n",
       "  </tbody>\n",
       "</table>\n",
       "<p>5 rows × 25 columns</p>\n",
       "</div>"
      ],
      "text/plain": [
       "    jobs_10000_serv  sqft_unit_500_walk  prop_singles_1500_walk  \\\n",
       "0             903.0         2174.249180                0.174290   \n",
       "7           42412.0         1242.885626                0.235703   \n",
       "19          18766.0         1712.247767                0.148062   \n",
       "26          18515.0         2009.915994                0.270658   \n",
       "28          16654.0         1766.089503                0.227596   \n",
       "\n",
       "    avg_hhs_1500_walk  jobs_25000  prop_poor_500_walk  jobs_10000_tech  \\\n",
       "0            2.829462    108826.0            0.066431            524.0   \n",
       "7            2.788168   1168866.0            0.086816          60686.0   \n",
       "19           3.664858    984441.0            0.097056          49477.0   \n",
       "26           2.497773   1108731.0            0.053883          43065.0   \n",
       "28           2.641892    609762.0            0.059639          36645.0   \n",
       "\n",
       "    population_20  jobs_25000_tech  poor_10000    ...     age_0_15  \\\n",
       "0    1.658212e+03           9350.0      3881.0    ...          0.0   \n",
       "7    1.563817e+06         279166.0     79089.0    ...          0.0   \n",
       "19   4.843735e+05         191851.0     18784.0    ...          0.0   \n",
       "26   7.927423e+04         210073.0     24156.0    ...          0.0   \n",
       "28   8.341534e+04         128822.0     17696.0    ...          0.0   \n",
       "\n",
       "    worker_student  age_18_25  non_worker_non_student  age_60  age_40_60  \\\n",
       "0              0.0        0.0                     2.0     2.0        0.0   \n",
       "7              0.0        0.0                     0.0     0.0        1.0   \n",
       "19             0.0        0.0                     0.0     0.0        1.0   \n",
       "26             0.0        0.0                     2.0     2.0        0.0   \n",
       "28             0.0        0.0                     2.0     2.0        0.0   \n",
       "\n",
       "    RESTY  INCOM  worker  cars_alt  \n",
       "0       0      3     0.0         2  \n",
       "7       0      6     1.0         0  \n",
       "19      0      1     0.0         0  \n",
       "26      0      7     0.0         1  \n",
       "28      0      7     0.0         2  \n",
       "\n",
       "[5 rows x 25 columns]"
      ]
     },
     "execution_count": 567,
     "metadata": {},
     "output_type": "execute_result"
    }
   ],
   "source": [
    "df_mnl = df[list(bb[bb.importances>bb.importances.mean()].variables)]\n",
    "df_mnl['cars_alt'] = df['cars_alt']\n",
    "df_mnl.head()"
   ]
  },
  {
   "cell_type": "code",
   "execution_count": 568,
   "metadata": {},
   "outputs": [],
   "source": [
    "continous_var = ['jobs_10000_serv', 'sqft_unit_500_walk', 'prop_singles_1500_walk',\n",
    "                 'avg_hhs_1500_walk', 'jobs_25000', 'prop_poor_500_walk','jobs_10000_tech', \n",
    "                 'population_20', 'jobs_25000_tech', 'poor_10000']\n",
    "\n",
    "dumy_var = ['TransitPass', 'age_0_15','worker_student', 'age_18_25', 'non_worker_non_student', \n",
    "            'age_60', 'age_40_60', 'RESTY', 'INCOM', 'worker']\n",
    "\n",
    "dependet_variable = ['cars_alt']"
   ]
  },
  {
   "cell_type": "code",
   "execution_count": 570,
   "metadata": {},
   "outputs": [
    {
     "data": {
      "text/html": [
       "<div>\n",
       "<style scoped>\n",
       "    .dataframe tbody tr th:only-of-type {\n",
       "        vertical-align: middle;\n",
       "    }\n",
       "\n",
       "    .dataframe tbody tr th {\n",
       "        vertical-align: top;\n",
       "    }\n",
       "\n",
       "    .dataframe thead th {\n",
       "        text-align: right;\n",
       "    }\n",
       "</style>\n",
       "<table border=\"1\" class=\"dataframe\">\n",
       "  <thead>\n",
       "    <tr style=\"text-align: right;\">\n",
       "      <th></th>\n",
       "      <th>jobs_10000_serv</th>\n",
       "      <th>sqft_unit_500_walk</th>\n",
       "      <th>prop_singles_1500_walk</th>\n",
       "      <th>avg_hhs_1500_walk</th>\n",
       "      <th>jobs_25000</th>\n",
       "      <th>prop_poor_500_walk</th>\n",
       "      <th>jobs_10000_tech</th>\n",
       "      <th>population_20</th>\n",
       "      <th>jobs_25000_tech</th>\n",
       "      <th>poor_10000</th>\n",
       "      <th>...</th>\n",
       "      <th>cars_alt</th>\n",
       "      <th>income__2</th>\n",
       "      <th>income__3</th>\n",
       "      <th>income__4</th>\n",
       "      <th>income__5</th>\n",
       "      <th>income__6</th>\n",
       "      <th>income__7</th>\n",
       "      <th>income__8</th>\n",
       "      <th>income__9</th>\n",
       "      <th>income__10</th>\n",
       "    </tr>\n",
       "  </thead>\n",
       "  <tbody>\n",
       "    <tr>\n",
       "      <th>0</th>\n",
       "      <td>903.0</td>\n",
       "      <td>2174.249180</td>\n",
       "      <td>0.174290</td>\n",
       "      <td>2.829462</td>\n",
       "      <td>108826.0</td>\n",
       "      <td>0.066431</td>\n",
       "      <td>524.0</td>\n",
       "      <td>1.658212e+03</td>\n",
       "      <td>9350.0</td>\n",
       "      <td>3881.0</td>\n",
       "      <td>...</td>\n",
       "      <td>2</td>\n",
       "      <td>0</td>\n",
       "      <td>1</td>\n",
       "      <td>0</td>\n",
       "      <td>0</td>\n",
       "      <td>0</td>\n",
       "      <td>0</td>\n",
       "      <td>0</td>\n",
       "      <td>0</td>\n",
       "      <td>0</td>\n",
       "    </tr>\n",
       "    <tr>\n",
       "      <th>7</th>\n",
       "      <td>42412.0</td>\n",
       "      <td>1242.885626</td>\n",
       "      <td>0.235703</td>\n",
       "      <td>2.788168</td>\n",
       "      <td>1168866.0</td>\n",
       "      <td>0.086816</td>\n",
       "      <td>60686.0</td>\n",
       "      <td>1.563817e+06</td>\n",
       "      <td>279166.0</td>\n",
       "      <td>79089.0</td>\n",
       "      <td>...</td>\n",
       "      <td>0</td>\n",
       "      <td>0</td>\n",
       "      <td>0</td>\n",
       "      <td>0</td>\n",
       "      <td>0</td>\n",
       "      <td>1</td>\n",
       "      <td>0</td>\n",
       "      <td>0</td>\n",
       "      <td>0</td>\n",
       "      <td>0</td>\n",
       "    </tr>\n",
       "    <tr>\n",
       "      <th>19</th>\n",
       "      <td>18766.0</td>\n",
       "      <td>1712.247767</td>\n",
       "      <td>0.148062</td>\n",
       "      <td>3.664858</td>\n",
       "      <td>984441.0</td>\n",
       "      <td>0.097056</td>\n",
       "      <td>49477.0</td>\n",
       "      <td>4.843735e+05</td>\n",
       "      <td>191851.0</td>\n",
       "      <td>18784.0</td>\n",
       "      <td>...</td>\n",
       "      <td>0</td>\n",
       "      <td>0</td>\n",
       "      <td>0</td>\n",
       "      <td>0</td>\n",
       "      <td>0</td>\n",
       "      <td>0</td>\n",
       "      <td>0</td>\n",
       "      <td>0</td>\n",
       "      <td>0</td>\n",
       "      <td>0</td>\n",
       "    </tr>\n",
       "    <tr>\n",
       "      <th>26</th>\n",
       "      <td>18515.0</td>\n",
       "      <td>2009.915994</td>\n",
       "      <td>0.270658</td>\n",
       "      <td>2.497773</td>\n",
       "      <td>1108731.0</td>\n",
       "      <td>0.053883</td>\n",
       "      <td>43065.0</td>\n",
       "      <td>7.927423e+04</td>\n",
       "      <td>210073.0</td>\n",
       "      <td>24156.0</td>\n",
       "      <td>...</td>\n",
       "      <td>1</td>\n",
       "      <td>0</td>\n",
       "      <td>0</td>\n",
       "      <td>0</td>\n",
       "      <td>0</td>\n",
       "      <td>0</td>\n",
       "      <td>1</td>\n",
       "      <td>0</td>\n",
       "      <td>0</td>\n",
       "      <td>0</td>\n",
       "    </tr>\n",
       "    <tr>\n",
       "      <th>28</th>\n",
       "      <td>16654.0</td>\n",
       "      <td>1766.089503</td>\n",
       "      <td>0.227596</td>\n",
       "      <td>2.641892</td>\n",
       "      <td>609762.0</td>\n",
       "      <td>0.059639</td>\n",
       "      <td>36645.0</td>\n",
       "      <td>8.341534e+04</td>\n",
       "      <td>128822.0</td>\n",
       "      <td>17696.0</td>\n",
       "      <td>...</td>\n",
       "      <td>2</td>\n",
       "      <td>0</td>\n",
       "      <td>0</td>\n",
       "      <td>0</td>\n",
       "      <td>0</td>\n",
       "      <td>0</td>\n",
       "      <td>1</td>\n",
       "      <td>0</td>\n",
       "      <td>0</td>\n",
       "      <td>0</td>\n",
       "    </tr>\n",
       "  </tbody>\n",
       "</table>\n",
       "<p>5 rows × 33 columns</p>\n",
       "</div>"
      ],
      "text/plain": [
       "    jobs_10000_serv  sqft_unit_500_walk  prop_singles_1500_walk  \\\n",
       "0             903.0         2174.249180                0.174290   \n",
       "7           42412.0         1242.885626                0.235703   \n",
       "19          18766.0         1712.247767                0.148062   \n",
       "26          18515.0         2009.915994                0.270658   \n",
       "28          16654.0         1766.089503                0.227596   \n",
       "\n",
       "    avg_hhs_1500_walk  jobs_25000  prop_poor_500_walk  jobs_10000_tech  \\\n",
       "0            2.829462    108826.0            0.066431            524.0   \n",
       "7            2.788168   1168866.0            0.086816          60686.0   \n",
       "19           3.664858    984441.0            0.097056          49477.0   \n",
       "26           2.497773   1108731.0            0.053883          43065.0   \n",
       "28           2.641892    609762.0            0.059639          36645.0   \n",
       "\n",
       "    population_20  jobs_25000_tech  poor_10000     ...      cars_alt  \\\n",
       "0    1.658212e+03           9350.0      3881.0     ...             2   \n",
       "7    1.563817e+06         279166.0     79089.0     ...             0   \n",
       "19   4.843735e+05         191851.0     18784.0     ...             0   \n",
       "26   7.927423e+04         210073.0     24156.0     ...             1   \n",
       "28   8.341534e+04         128822.0     17696.0     ...             2   \n",
       "\n",
       "    income__2  income__3  income__4  income__5  income__6  income__7  \\\n",
       "0           0          1          0          0          0          0   \n",
       "7           0          0          0          0          1          0   \n",
       "19          0          0          0          0          0          0   \n",
       "26          0          0          0          0          0          1   \n",
       "28          0          0          0          0          0          1   \n",
       "\n",
       "    income__8  income__9  income__10  \n",
       "0           0          0           0  \n",
       "7           0          0           0  \n",
       "19          0          0           0  \n",
       "26          0          0           0  \n",
       "28          0          0           0  \n",
       "\n",
       "[5 rows x 33 columns]"
      ]
     },
     "execution_count": 570,
     "metadata": {},
     "output_type": "execute_result"
    }
   ],
   "source": [
    "df_mnl_1 = pd.concat([df_mnl, pd.get_dummies(df_mnl['INCOM'], prefix = 'income_', drop_first=True)], axis = 1)\n",
    "df_mnl_1.drop(['INCOM'], axis = 1, inplace = True)\n",
    "\n",
    "df_mnl_1.head()\n",
    "\n",
    "\n",
    "# df_mnl_1 = df_mnl.loc[:,continous_var + dumy_var + dependet_variable]\n",
    "# df_mnl_1['obs_id'] = df_mnl_1.index\n",
    "# orca.add_table('x_matrix', df_mnl_1)"
   ]
  },
  {
   "cell_type": "code",
   "execution_count": 579,
   "metadata": {},
   "outputs": [],
   "source": [
    "#Splitting the data\n",
    "x = df_mnl_1.drop(['cars_alt', 'AGE'], axis = 1)\n",
    "y = df_mnl_1.loc[:,'cars_alt']\n",
    "X_train, X_test, y_train, y_test = train_test_split(x, y, test_size=0.33, random_state= 2348)"
   ]
  },
  {
   "cell_type": "code",
   "execution_count": 576,
   "metadata": {},
   "outputs": [
    {
     "data": {
      "text/plain": [
       "(5867, 32)"
      ]
     },
     "execution_count": 576,
     "metadata": {},
     "output_type": "execute_result"
    }
   ],
   "source": [
    "X_train.shape"
   ]
  },
  {
   "cell_type": "code",
   "execution_count": 581,
   "metadata": {},
   "outputs": [
    {
     "name": "stdout",
     "output_type": "stream",
     "text": [
      "Optimization terminated successfully.\n",
      "         Current function value: 0.825017\n",
      "         Iterations 9\n"
     ]
    },
    {
     "data": {
      "text/html": [
       "<table class=\"simpletable\">\n",
       "<caption>MNLogit Regression Results</caption>\n",
       "<tr>\n",
       "  <th>Dep. Variable:</th>     <td>cars_alt</td>     <th>  No. Observations:  </th>  <td>  5867</td> \n",
       "</tr>\n",
       "<tr>\n",
       "  <th>Model:</th>              <td>MNLogit</td>     <th>  Df Residuals:      </th>  <td>  5774</td> \n",
       "</tr>\n",
       "<tr>\n",
       "  <th>Method:</th>               <td>MLE</td>       <th>  Df Model:          </th>  <td>    90</td> \n",
       "</tr>\n",
       "<tr>\n",
       "  <th>Date:</th>          <td>Tue, 30 Apr 2019</td> <th>  Pseudo R-squ.:     </th>  <td>0.3209</td> \n",
       "</tr>\n",
       "<tr>\n",
       "  <th>Time:</th>              <td>10:20:38</td>     <th>  Log-Likelihood:    </th> <td> -4840.4</td>\n",
       "</tr>\n",
       "<tr>\n",
       "  <th>converged:</th>           <td>True</td>       <th>  LL-Null:           </th> <td> -7127.1</td>\n",
       "</tr>\n",
       "<tr>\n",
       "  <th> </th>                      <td> </td>        <th>  LLR p-value:       </th>  <td> 0.000</td> \n",
       "</tr>\n",
       "</table>\n",
       "<table class=\"simpletable\">\n",
       "<tr>\n",
       "        <th>cars_alt=1</th>          <th>coef</th>     <th>std err</th>      <th>z</th>      <th>P>|z|</th>  <th>[0.025</th>    <th>0.975]</th>  \n",
       "</tr>\n",
       "<tr>\n",
       "  <th>jobs_10000_serv</th>        <td>-5.951e-06</td> <td> 2.95e-05</td> <td>   -0.202</td> <td> 0.840</td> <td>-6.37e-05</td> <td> 5.18e-05</td>\n",
       "</tr>\n",
       "<tr>\n",
       "  <th>sqft_unit_500_walk</th>     <td>   -0.0002</td> <td>    0.000</td> <td>   -1.478</td> <td> 0.139</td> <td>   -0.000</td> <td> 5.62e-05</td>\n",
       "</tr>\n",
       "<tr>\n",
       "  <th>prop_singles_1500_walk</th> <td>    0.9267</td> <td>    1.005</td> <td>    0.922</td> <td> 0.356</td> <td>   -1.043</td> <td>    2.897</td>\n",
       "</tr>\n",
       "<tr>\n",
       "  <th>avg_hhs_1500_walk</th>      <td>    0.2795</td> <td>    0.116</td> <td>    2.400</td> <td> 0.016</td> <td>    0.051</td> <td>    0.508</td>\n",
       "</tr>\n",
       "<tr>\n",
       "  <th>jobs_25000</th>             <td> 7.045e-07</td> <td> 1.08e-06</td> <td>    0.654</td> <td> 0.513</td> <td>-1.41e-06</td> <td> 2.82e-06</td>\n",
       "</tr>\n",
       "<tr>\n",
       "  <th>prop_poor_500_walk</th>     <td>   -4.5735</td> <td>    1.341</td> <td>   -3.411</td> <td> 0.001</td> <td>   -7.201</td> <td>   -1.946</td>\n",
       "</tr>\n",
       "<tr>\n",
       "  <th>jobs_10000_tech</th>        <td> 1.199e-06</td> <td> 9.17e-06</td> <td>    0.131</td> <td> 0.896</td> <td>-1.68e-05</td> <td> 1.92e-05</td>\n",
       "</tr>\n",
       "<tr>\n",
       "  <th>population_20</th>          <td>-3.912e-07</td> <td> 1.87e-07</td> <td>   -2.090</td> <td> 0.037</td> <td>-7.58e-07</td> <td>-2.43e-08</td>\n",
       "</tr>\n",
       "<tr>\n",
       "  <th>jobs_25000_tech</th>        <td>-1.596e-05</td> <td> 5.98e-06</td> <td>   -2.666</td> <td> 0.008</td> <td>-2.77e-05</td> <td>-4.23e-06</td>\n",
       "</tr>\n",
       "<tr>\n",
       "  <th>poor_10000</th>             <td>-1.354e-05</td> <td> 8.55e-06</td> <td>   -1.585</td> <td> 0.113</td> <td>-3.03e-05</td> <td> 3.21e-06</td>\n",
       "</tr>\n",
       "<tr>\n",
       "  <th>TEN</th>                    <td>   -0.0009</td> <td>    0.006</td> <td>   -0.150</td> <td> 0.881</td> <td>   -0.012</td> <td>    0.010</td>\n",
       "</tr>\n",
       "<tr>\n",
       "  <th>age_25_40</th>              <td>    0.3916</td> <td>    0.308</td> <td>    1.270</td> <td> 0.204</td> <td>   -0.213</td> <td>    0.996</td>\n",
       "</tr>\n",
       "<tr>\n",
       "  <th>jobs_25000_serv</th>        <td> 3.461e-05</td> <td> 1.85e-05</td> <td>    1.869</td> <td> 0.062</td> <td>-1.69e-06</td> <td> 7.09e-05</td>\n",
       "</tr>\n",
       "<tr>\n",
       "  <th>TransitPass</th>            <td>   -0.8280</td> <td>    0.105</td> <td>   -7.879</td> <td> 0.000</td> <td>   -1.034</td> <td>   -0.622</td>\n",
       "</tr>\n",
       "<tr>\n",
       "  <th>age_0_15</th>               <td>    0.3172</td> <td>    0.151</td> <td>    2.098</td> <td> 0.036</td> <td>    0.021</td> <td>    0.614</td>\n",
       "</tr>\n",
       "<tr>\n",
       "  <th>worker_student</th>         <td>    0.0411</td> <td>    0.329</td> <td>    0.125</td> <td> 0.901</td> <td>   -0.604</td> <td>    0.687</td>\n",
       "</tr>\n",
       "<tr>\n",
       "  <th>age_18_25</th>              <td>    0.6263</td> <td>    0.333</td> <td>    1.878</td> <td> 0.060</td> <td>   -0.027</td> <td>    1.280</td>\n",
       "</tr>\n",
       "<tr>\n",
       "  <th>non_worker_non_student</th> <td>    0.0996</td> <td>    0.254</td> <td>    0.391</td> <td> 0.696</td> <td>   -0.399</td> <td>    0.598</td>\n",
       "</tr>\n",
       "<tr>\n",
       "  <th>age_60</th>                 <td>    0.5357</td> <td>    0.288</td> <td>    1.861</td> <td> 0.063</td> <td>   -0.028</td> <td>    1.100</td>\n",
       "</tr>\n",
       "<tr>\n",
       "  <th>age_40_60</th>              <td>    0.2396</td> <td>    0.286</td> <td>    0.837</td> <td> 0.403</td> <td>   -0.322</td> <td>    0.801</td>\n",
       "</tr>\n",
       "<tr>\n",
       "  <th>RESTY</th>                  <td>   -0.6343</td> <td>    0.159</td> <td>   -3.999</td> <td> 0.000</td> <td>   -0.945</td> <td>   -0.323</td>\n",
       "</tr>\n",
       "<tr>\n",
       "  <th>worker</th>                 <td>    0.5392</td> <td>    0.263</td> <td>    2.050</td> <td> 0.040</td> <td>    0.024</td> <td>    1.055</td>\n",
       "</tr>\n",
       "<tr>\n",
       "  <th>income__2</th>              <td>    0.6987</td> <td>    0.260</td> <td>    2.684</td> <td> 0.007</td> <td>    0.188</td> <td>    1.209</td>\n",
       "</tr>\n",
       "<tr>\n",
       "  <th>income__3</th>              <td>    1.2990</td> <td>    0.285</td> <td>    4.562</td> <td> 0.000</td> <td>    0.741</td> <td>    1.857</td>\n",
       "</tr>\n",
       "<tr>\n",
       "  <th>income__4</th>              <td>    1.8406</td> <td>    0.290</td> <td>    6.341</td> <td> 0.000</td> <td>    1.272</td> <td>    2.409</td>\n",
       "</tr>\n",
       "<tr>\n",
       "  <th>income__5</th>              <td>    2.7490</td> <td>    0.303</td> <td>    9.078</td> <td> 0.000</td> <td>    2.155</td> <td>    3.343</td>\n",
       "</tr>\n",
       "<tr>\n",
       "  <th>income__6</th>              <td>    2.6814</td> <td>    0.325</td> <td>    8.245</td> <td> 0.000</td> <td>    2.044</td> <td>    3.319</td>\n",
       "</tr>\n",
       "<tr>\n",
       "  <th>income__7</th>              <td>    2.4906</td> <td>    0.318</td> <td>    7.838</td> <td> 0.000</td> <td>    1.868</td> <td>    3.113</td>\n",
       "</tr>\n",
       "<tr>\n",
       "  <th>income__8</th>              <td>    2.5578</td> <td>    0.415</td> <td>    6.156</td> <td> 0.000</td> <td>    1.743</td> <td>    3.372</td>\n",
       "</tr>\n",
       "<tr>\n",
       "  <th>income__9</th>              <td>    2.5911</td> <td>    0.516</td> <td>    5.021</td> <td> 0.000</td> <td>    1.580</td> <td>    3.603</td>\n",
       "</tr>\n",
       "<tr>\n",
       "  <th>income__10</th>             <td>    3.2468</td> <td>    0.680</td> <td>    4.771</td> <td> 0.000</td> <td>    1.913</td> <td>    4.580</td>\n",
       "</tr>\n",
       "<tr>\n",
       "        <th>cars_alt=2</th>          <th>coef</th>     <th>std err</th>      <th>z</th>      <th>P>|z|</th>  <th>[0.025</th>    <th>0.975]</th>  \n",
       "</tr>\n",
       "<tr>\n",
       "  <th>jobs_10000_serv</th>        <td>-1.469e-05</td> <td> 3.25e-05</td> <td>   -0.453</td> <td> 0.651</td> <td>-7.83e-05</td> <td> 4.89e-05</td>\n",
       "</tr>\n",
       "<tr>\n",
       "  <th>sqft_unit_500_walk</th>     <td>   -0.0001</td> <td>    0.000</td> <td>   -0.799</td> <td> 0.424</td> <td>   -0.000</td> <td>    0.000</td>\n",
       "</tr>\n",
       "<tr>\n",
       "  <th>prop_singles_1500_walk</th> <td>   -4.1626</td> <td>    1.165</td> <td>   -3.572</td> <td> 0.000</td> <td>   -6.447</td> <td>   -1.878</td>\n",
       "</tr>\n",
       "<tr>\n",
       "  <th>avg_hhs_1500_walk</th>      <td>   -0.6025</td> <td>    0.144</td> <td>   -4.189</td> <td> 0.000</td> <td>   -0.884</td> <td>   -0.321</td>\n",
       "</tr>\n",
       "<tr>\n",
       "  <th>jobs_25000</th>             <td> 1.071e-06</td> <td> 1.15e-06</td> <td>    0.931</td> <td> 0.352</td> <td>-1.18e-06</td> <td> 3.33e-06</td>\n",
       "</tr>\n",
       "<tr>\n",
       "  <th>prop_poor_500_walk</th>     <td>   -5.2199</td> <td>    1.594</td> <td>   -3.274</td> <td> 0.001</td> <td>   -8.344</td> <td>   -2.095</td>\n",
       "</tr>\n",
       "<tr>\n",
       "  <th>jobs_10000_tech</th>        <td>-2.717e-06</td> <td> 1.01e-05</td> <td>   -0.270</td> <td> 0.788</td> <td>-2.25e-05</td> <td>  1.7e-05</td>\n",
       "</tr>\n",
       "<tr>\n",
       "  <th>population_20</th>          <td>-6.948e-07</td> <td> 2.07e-07</td> <td>   -3.362</td> <td> 0.001</td> <td> -1.1e-06</td> <td> -2.9e-07</td>\n",
       "</tr>\n",
       "<tr>\n",
       "  <th>jobs_25000_tech</th>        <td>-1.765e-05</td> <td> 6.38e-06</td> <td>   -2.768</td> <td> 0.006</td> <td>-3.01e-05</td> <td>-5.15e-06</td>\n",
       "</tr>\n",
       "<tr>\n",
       "  <th>poor_10000</th>             <td>-5.174e-06</td> <td> 9.49e-06</td> <td>   -0.545</td> <td> 0.586</td> <td>-2.38e-05</td> <td> 1.34e-05</td>\n",
       "</tr>\n",
       "<tr>\n",
       "  <th>TEN</th>                    <td>    0.0013</td> <td>    0.006</td> <td>    0.202</td> <td> 0.840</td> <td>   -0.011</td> <td>    0.014</td>\n",
       "</tr>\n",
       "<tr>\n",
       "  <th>age_25_40</th>              <td>    2.0016</td> <td>    0.327</td> <td>    6.118</td> <td> 0.000</td> <td>    1.360</td> <td>    2.643</td>\n",
       "</tr>\n",
       "<tr>\n",
       "  <th>jobs_25000_serv</th>        <td> 3.136e-05</td> <td> 1.98e-05</td> <td>    1.583</td> <td> 0.113</td> <td>-7.47e-06</td> <td> 7.02e-05</td>\n",
       "</tr>\n",
       "<tr>\n",
       "  <th>TransitPass</th>            <td>   -1.2593</td> <td>    0.113</td> <td>  -11.108</td> <td> 0.000</td> <td>   -1.481</td> <td>   -1.037</td>\n",
       "</tr>\n",
       "<tr>\n",
       "  <th>age_0_15</th>               <td>    0.6218</td> <td>    0.155</td> <td>    4.003</td> <td> 0.000</td> <td>    0.317</td> <td>    0.926</td>\n",
       "</tr>\n",
       "<tr>\n",
       "  <th>worker_student</th>         <td>    0.3817</td> <td>    0.350</td> <td>    1.091</td> <td> 0.275</td> <td>   -0.304</td> <td>    1.067</td>\n",
       "</tr>\n",
       "<tr>\n",
       "  <th>age_18_25</th>              <td>    1.2271</td> <td>    0.353</td> <td>    3.480</td> <td> 0.001</td> <td>    0.536</td> <td>    1.918</td>\n",
       "</tr>\n",
       "<tr>\n",
       "  <th>non_worker_non_student</th> <td>   -0.0575</td> <td>    0.267</td> <td>   -0.216</td> <td> 0.829</td> <td>   -0.580</td> <td>    0.465</td>\n",
       "</tr>\n",
       "<tr>\n",
       "  <th>age_60</th>                 <td>    2.3965</td> <td>    0.304</td> <td>    7.880</td> <td> 0.000</td> <td>    1.800</td> <td>    2.993</td>\n",
       "</tr>\n",
       "<tr>\n",
       "  <th>age_40_60</th>              <td>    2.1091</td> <td>    0.303</td> <td>    6.955</td> <td> 0.000</td> <td>    1.515</td> <td>    2.703</td>\n",
       "</tr>\n",
       "<tr>\n",
       "  <th>RESTY</th>                  <td>   -1.2409</td> <td>    0.185</td> <td>   -6.721</td> <td> 0.000</td> <td>   -1.603</td> <td>   -0.879</td>\n",
       "</tr>\n",
       "<tr>\n",
       "  <th>worker</th>                 <td>    0.7898</td> <td>    0.277</td> <td>    2.847</td> <td> 0.004</td> <td>    0.246</td> <td>    1.334</td>\n",
       "</tr>\n",
       "<tr>\n",
       "  <th>income__2</th>              <td>    0.3628</td> <td>    0.377</td> <td>    0.963</td> <td> 0.335</td> <td>   -0.375</td> <td>    1.101</td>\n",
       "</tr>\n",
       "<tr>\n",
       "  <th>income__3</th>              <td>    1.2842</td> <td>    0.386</td> <td>    3.323</td> <td> 0.001</td> <td>    0.527</td> <td>    2.042</td>\n",
       "</tr>\n",
       "<tr>\n",
       "  <th>income__4</th>              <td>    2.2866</td> <td>    0.384</td> <td>    5.957</td> <td> 0.000</td> <td>    1.534</td> <td>    3.039</td>\n",
       "</tr>\n",
       "<tr>\n",
       "  <th>income__5</th>              <td>    3.5623</td> <td>    0.389</td> <td>    9.155</td> <td> 0.000</td> <td>    2.800</td> <td>    4.325</td>\n",
       "</tr>\n",
       "<tr>\n",
       "  <th>income__6</th>              <td>    3.7816</td> <td>    0.405</td> <td>    9.332</td> <td> 0.000</td> <td>    2.987</td> <td>    4.576</td>\n",
       "</tr>\n",
       "<tr>\n",
       "  <th>income__7</th>              <td>    3.8872</td> <td>    0.398</td> <td>    9.763</td> <td> 0.000</td> <td>    3.107</td> <td>    4.668</td>\n",
       "</tr>\n",
       "<tr>\n",
       "  <th>income__8</th>              <td>    4.3215</td> <td>    0.481</td> <td>    8.976</td> <td> 0.000</td> <td>    3.378</td> <td>    5.265</td>\n",
       "</tr>\n",
       "<tr>\n",
       "  <th>income__9</th>              <td>    4.2046</td> <td>    0.577</td> <td>    7.282</td> <td> 0.000</td> <td>    3.073</td> <td>    5.336</td>\n",
       "</tr>\n",
       "<tr>\n",
       "  <th>income__10</th>             <td>    5.2069</td> <td>    0.725</td> <td>    7.187</td> <td> 0.000</td> <td>    3.787</td> <td>    6.627</td>\n",
       "</tr>\n",
       "<tr>\n",
       "        <th>cars_alt=3</th>          <th>coef</th>     <th>std err</th>      <th>z</th>      <th>P>|z|</th>  <th>[0.025</th>    <th>0.975]</th>  \n",
       "</tr>\n",
       "<tr>\n",
       "  <th>jobs_10000_serv</th>        <td>-2.775e-05</td> <td> 3.69e-05</td> <td>   -0.753</td> <td> 0.452</td> <td>  -0.0001</td> <td> 4.45e-05</td>\n",
       "</tr>\n",
       "<tr>\n",
       "  <th>sqft_unit_500_walk</th>     <td>   -0.0002</td> <td>    0.000</td> <td>   -1.275</td> <td> 0.202</td> <td>   -0.000</td> <td>    0.000</td>\n",
       "</tr>\n",
       "<tr>\n",
       "  <th>prop_singles_1500_walk</th> <td>   -8.3118</td> <td>    1.348</td> <td>   -6.164</td> <td> 0.000</td> <td>  -10.955</td> <td>   -5.669</td>\n",
       "</tr>\n",
       "<tr>\n",
       "  <th>avg_hhs_1500_walk</th>      <td>   -1.3987</td> <td>    0.175</td> <td>   -8.001</td> <td> 0.000</td> <td>   -1.741</td> <td>   -1.056</td>\n",
       "</tr>\n",
       "<tr>\n",
       "  <th>jobs_25000</th>             <td> 1.286e-06</td> <td> 1.26e-06</td> <td>    1.024</td> <td> 0.306</td> <td>-1.18e-06</td> <td> 3.75e-06</td>\n",
       "</tr>\n",
       "<tr>\n",
       "  <th>prop_poor_500_walk</th>     <td>   -6.0244</td> <td>    1.885</td> <td>   -3.195</td> <td> 0.001</td> <td>   -9.720</td> <td>   -2.329</td>\n",
       "</tr>\n",
       "<tr>\n",
       "  <th>jobs_10000_tech</th>        <td> 2.372e-06</td> <td> 1.14e-05</td> <td>    0.208</td> <td> 0.836</td> <td>   -2e-05</td> <td> 2.48e-05</td>\n",
       "</tr>\n",
       "<tr>\n",
       "  <th>population_20</th>          <td>-8.976e-07</td> <td> 2.37e-07</td> <td>   -3.784</td> <td> 0.000</td> <td>-1.36e-06</td> <td>-4.33e-07</td>\n",
       "</tr>\n",
       "<tr>\n",
       "  <th>jobs_25000_tech</th>        <td>-1.998e-05</td> <td> 6.96e-06</td> <td>   -2.870</td> <td> 0.004</td> <td>-3.36e-05</td> <td>-6.33e-06</td>\n",
       "</tr>\n",
       "<tr>\n",
       "  <th>poor_10000</th>             <td>-7.683e-06</td> <td> 1.09e-05</td> <td>   -0.706</td> <td> 0.480</td> <td> -2.9e-05</td> <td> 1.37e-05</td>\n",
       "</tr>\n",
       "<tr>\n",
       "  <th>TEN</th>                    <td>    0.0223</td> <td>    0.007</td> <td>    3.220</td> <td> 0.001</td> <td>    0.009</td> <td>    0.036</td>\n",
       "</tr>\n",
       "<tr>\n",
       "  <th>age_25_40</th>              <td>    2.7540</td> <td>    0.342</td> <td>    8.056</td> <td> 0.000</td> <td>    2.084</td> <td>    3.424</td>\n",
       "</tr>\n",
       "<tr>\n",
       "  <th>jobs_25000_serv</th>        <td> 3.244e-05</td> <td> 2.16e-05</td> <td>    1.503</td> <td> 0.133</td> <td>-9.87e-06</td> <td> 7.47e-05</td>\n",
       "</tr>\n",
       "<tr>\n",
       "  <th>TransitPass</th>            <td>   -1.5608</td> <td>    0.127</td> <td>  -12.320</td> <td> 0.000</td> <td>   -1.809</td> <td>   -1.312</td>\n",
       "</tr>\n",
       "<tr>\n",
       "  <th>age_0_15</th>               <td>    0.3561</td> <td>    0.163</td> <td>    2.189</td> <td> 0.029</td> <td>    0.037</td> <td>    0.675</td>\n",
       "</tr>\n",
       "<tr>\n",
       "  <th>worker_student</th>         <td>    1.1565</td> <td>    0.365</td> <td>    3.167</td> <td> 0.002</td> <td>    0.441</td> <td>    1.872</td>\n",
       "</tr>\n",
       "<tr>\n",
       "  <th>age_18_25</th>              <td>    2.1430</td> <td>    0.362</td> <td>    5.926</td> <td> 0.000</td> <td>    1.434</td> <td>    2.852</td>\n",
       "</tr>\n",
       "<tr>\n",
       "  <th>non_worker_non_student</th> <td>    0.1902</td> <td>    0.279</td> <td>    0.681</td> <td> 0.496</td> <td>   -0.357</td> <td>    0.738</td>\n",
       "</tr>\n",
       "<tr>\n",
       "  <th>age_60</th>                 <td>    2.9634</td> <td>    0.317</td> <td>    9.362</td> <td> 0.000</td> <td>    2.343</td> <td>    3.584</td>\n",
       "</tr>\n",
       "<tr>\n",
       "  <th>age_40_60</th>              <td>    2.8963</td> <td>    0.317</td> <td>    9.124</td> <td> 0.000</td> <td>    2.274</td> <td>    3.518</td>\n",
       "</tr>\n",
       "<tr>\n",
       "  <th>RESTY</th>                  <td>   -1.4435</td> <td>    0.258</td> <td>   -5.589</td> <td> 0.000</td> <td>   -1.950</td> <td>   -0.937</td>\n",
       "</tr>\n",
       "<tr>\n",
       "  <th>worker</th>                 <td>    1.3221</td> <td>    0.291</td> <td>    4.542</td> <td> 0.000</td> <td>    0.752</td> <td>    1.893</td>\n",
       "</tr>\n",
       "<tr>\n",
       "  <th>income__2</th>              <td>   -0.4718</td> <td>    0.535</td> <td>   -0.882</td> <td> 0.378</td> <td>   -1.520</td> <td>    0.576</td>\n",
       "</tr>\n",
       "<tr>\n",
       "  <th>income__3</th>              <td>    0.4583</td> <td>    0.525</td> <td>    0.873</td> <td> 0.383</td> <td>   -0.570</td> <td>    1.487</td>\n",
       "</tr>\n",
       "<tr>\n",
       "  <th>income__4</th>              <td>    1.6022</td> <td>    0.502</td> <td>    3.193</td> <td> 0.001</td> <td>    0.619</td> <td>    2.586</td>\n",
       "</tr>\n",
       "<tr>\n",
       "  <th>income__5</th>              <td>    3.5614</td> <td>    0.490</td> <td>    7.267</td> <td> 0.000</td> <td>    2.601</td> <td>    4.522</td>\n",
       "</tr>\n",
       "<tr>\n",
       "  <th>income__6</th>              <td>    3.4552</td> <td>    0.503</td> <td>    6.863</td> <td> 0.000</td> <td>    2.468</td> <td>    4.442</td>\n",
       "</tr>\n",
       "<tr>\n",
       "  <th>income__7</th>              <td>    3.6048</td> <td>    0.495</td> <td>    7.281</td> <td> 0.000</td> <td>    2.634</td> <td>    4.575</td>\n",
       "</tr>\n",
       "<tr>\n",
       "  <th>income__8</th>              <td>    4.0723</td> <td>    0.568</td> <td>    7.168</td> <td> 0.000</td> <td>    2.959</td> <td>    5.186</td>\n",
       "</tr>\n",
       "<tr>\n",
       "  <th>income__9</th>              <td>    4.3821</td> <td>    0.654</td> <td>    6.698</td> <td> 0.000</td> <td>    3.100</td> <td>    5.664</td>\n",
       "</tr>\n",
       "<tr>\n",
       "  <th>income__10</th>             <td>    5.2158</td> <td>    0.788</td> <td>    6.617</td> <td> 0.000</td> <td>    3.671</td> <td>    6.761</td>\n",
       "</tr>\n",
       "</table>"
      ],
      "text/plain": [
       "<class 'statsmodels.iolib.summary.Summary'>\n",
       "\"\"\"\n",
       "                          MNLogit Regression Results                          \n",
       "==============================================================================\n",
       "Dep. Variable:               cars_alt   No. Observations:                 5867\n",
       "Model:                        MNLogit   Df Residuals:                     5774\n",
       "Method:                           MLE   Df Model:                           90\n",
       "Date:                Tue, 30 Apr 2019   Pseudo R-squ.:                  0.3209\n",
       "Time:                        10:20:38   Log-Likelihood:                -4840.4\n",
       "converged:                       True   LL-Null:                       -7127.1\n",
       "                                        LLR p-value:                     0.000\n",
       "==========================================================================================\n",
       "            cars_alt=1       coef    std err          z      P>|z|      [0.025      0.975]\n",
       "------------------------------------------------------------------------------------------\n",
       "jobs_10000_serv        -5.951e-06   2.95e-05     -0.202      0.840   -6.37e-05    5.18e-05\n",
       "sqft_unit_500_walk        -0.0002      0.000     -1.478      0.139      -0.000    5.62e-05\n",
       "prop_singles_1500_walk     0.9267      1.005      0.922      0.356      -1.043       2.897\n",
       "avg_hhs_1500_walk          0.2795      0.116      2.400      0.016       0.051       0.508\n",
       "jobs_25000              7.045e-07   1.08e-06      0.654      0.513   -1.41e-06    2.82e-06\n",
       "prop_poor_500_walk        -4.5735      1.341     -3.411      0.001      -7.201      -1.946\n",
       "jobs_10000_tech         1.199e-06   9.17e-06      0.131      0.896   -1.68e-05    1.92e-05\n",
       "population_20          -3.912e-07   1.87e-07     -2.090      0.037   -7.58e-07   -2.43e-08\n",
       "jobs_25000_tech        -1.596e-05   5.98e-06     -2.666      0.008   -2.77e-05   -4.23e-06\n",
       "poor_10000             -1.354e-05   8.55e-06     -1.585      0.113   -3.03e-05    3.21e-06\n",
       "TEN                       -0.0009      0.006     -0.150      0.881      -0.012       0.010\n",
       "age_25_40                  0.3916      0.308      1.270      0.204      -0.213       0.996\n",
       "jobs_25000_serv         3.461e-05   1.85e-05      1.869      0.062   -1.69e-06    7.09e-05\n",
       "TransitPass               -0.8280      0.105     -7.879      0.000      -1.034      -0.622\n",
       "age_0_15                   0.3172      0.151      2.098      0.036       0.021       0.614\n",
       "worker_student             0.0411      0.329      0.125      0.901      -0.604       0.687\n",
       "age_18_25                  0.6263      0.333      1.878      0.060      -0.027       1.280\n",
       "non_worker_non_student     0.0996      0.254      0.391      0.696      -0.399       0.598\n",
       "age_60                     0.5357      0.288      1.861      0.063      -0.028       1.100\n",
       "age_40_60                  0.2396      0.286      0.837      0.403      -0.322       0.801\n",
       "RESTY                     -0.6343      0.159     -3.999      0.000      -0.945      -0.323\n",
       "worker                     0.5392      0.263      2.050      0.040       0.024       1.055\n",
       "income__2                  0.6987      0.260      2.684      0.007       0.188       1.209\n",
       "income__3                  1.2990      0.285      4.562      0.000       0.741       1.857\n",
       "income__4                  1.8406      0.290      6.341      0.000       1.272       2.409\n",
       "income__5                  2.7490      0.303      9.078      0.000       2.155       3.343\n",
       "income__6                  2.6814      0.325      8.245      0.000       2.044       3.319\n",
       "income__7                  2.4906      0.318      7.838      0.000       1.868       3.113\n",
       "income__8                  2.5578      0.415      6.156      0.000       1.743       3.372\n",
       "income__9                  2.5911      0.516      5.021      0.000       1.580       3.603\n",
       "income__10                 3.2468      0.680      4.771      0.000       1.913       4.580\n",
       "------------------------------------------------------------------------------------------\n",
       "            cars_alt=2       coef    std err          z      P>|z|      [0.025      0.975]\n",
       "------------------------------------------------------------------------------------------\n",
       "jobs_10000_serv        -1.469e-05   3.25e-05     -0.453      0.651   -7.83e-05    4.89e-05\n",
       "sqft_unit_500_walk        -0.0001      0.000     -0.799      0.424      -0.000       0.000\n",
       "prop_singles_1500_walk    -4.1626      1.165     -3.572      0.000      -6.447      -1.878\n",
       "avg_hhs_1500_walk         -0.6025      0.144     -4.189      0.000      -0.884      -0.321\n",
       "jobs_25000              1.071e-06   1.15e-06      0.931      0.352   -1.18e-06    3.33e-06\n",
       "prop_poor_500_walk        -5.2199      1.594     -3.274      0.001      -8.344      -2.095\n",
       "jobs_10000_tech        -2.717e-06   1.01e-05     -0.270      0.788   -2.25e-05     1.7e-05\n",
       "population_20          -6.948e-07   2.07e-07     -3.362      0.001    -1.1e-06    -2.9e-07\n",
       "jobs_25000_tech        -1.765e-05   6.38e-06     -2.768      0.006   -3.01e-05   -5.15e-06\n",
       "poor_10000             -5.174e-06   9.49e-06     -0.545      0.586   -2.38e-05    1.34e-05\n",
       "TEN                        0.0013      0.006      0.202      0.840      -0.011       0.014\n",
       "age_25_40                  2.0016      0.327      6.118      0.000       1.360       2.643\n",
       "jobs_25000_serv         3.136e-05   1.98e-05      1.583      0.113   -7.47e-06    7.02e-05\n",
       "TransitPass               -1.2593      0.113    -11.108      0.000      -1.481      -1.037\n",
       "age_0_15                   0.6218      0.155      4.003      0.000       0.317       0.926\n",
       "worker_student             0.3817      0.350      1.091      0.275      -0.304       1.067\n",
       "age_18_25                  1.2271      0.353      3.480      0.001       0.536       1.918\n",
       "non_worker_non_student    -0.0575      0.267     -0.216      0.829      -0.580       0.465\n",
       "age_60                     2.3965      0.304      7.880      0.000       1.800       2.993\n",
       "age_40_60                  2.1091      0.303      6.955      0.000       1.515       2.703\n",
       "RESTY                     -1.2409      0.185     -6.721      0.000      -1.603      -0.879\n",
       "worker                     0.7898      0.277      2.847      0.004       0.246       1.334\n",
       "income__2                  0.3628      0.377      0.963      0.335      -0.375       1.101\n",
       "income__3                  1.2842      0.386      3.323      0.001       0.527       2.042\n",
       "income__4                  2.2866      0.384      5.957      0.000       1.534       3.039\n",
       "income__5                  3.5623      0.389      9.155      0.000       2.800       4.325\n",
       "income__6                  3.7816      0.405      9.332      0.000       2.987       4.576\n",
       "income__7                  3.8872      0.398      9.763      0.000       3.107       4.668\n",
       "income__8                  4.3215      0.481      8.976      0.000       3.378       5.265\n",
       "income__9                  4.2046      0.577      7.282      0.000       3.073       5.336\n",
       "income__10                 5.2069      0.725      7.187      0.000       3.787       6.627\n",
       "------------------------------------------------------------------------------------------\n",
       "            cars_alt=3       coef    std err          z      P>|z|      [0.025      0.975]\n",
       "------------------------------------------------------------------------------------------\n",
       "jobs_10000_serv        -2.775e-05   3.69e-05     -0.753      0.452     -0.0001    4.45e-05\n",
       "sqft_unit_500_walk        -0.0002      0.000     -1.275      0.202      -0.000       0.000\n",
       "prop_singles_1500_walk    -8.3118      1.348     -6.164      0.000     -10.955      -5.669\n",
       "avg_hhs_1500_walk         -1.3987      0.175     -8.001      0.000      -1.741      -1.056\n",
       "jobs_25000              1.286e-06   1.26e-06      1.024      0.306   -1.18e-06    3.75e-06\n",
       "prop_poor_500_walk        -6.0244      1.885     -3.195      0.001      -9.720      -2.329\n",
       "jobs_10000_tech         2.372e-06   1.14e-05      0.208      0.836      -2e-05    2.48e-05\n",
       "population_20          -8.976e-07   2.37e-07     -3.784      0.000   -1.36e-06   -4.33e-07\n",
       "jobs_25000_tech        -1.998e-05   6.96e-06     -2.870      0.004   -3.36e-05   -6.33e-06\n",
       "poor_10000             -7.683e-06   1.09e-05     -0.706      0.480    -2.9e-05    1.37e-05\n",
       "TEN                        0.0223      0.007      3.220      0.001       0.009       0.036\n",
       "age_25_40                  2.7540      0.342      8.056      0.000       2.084       3.424\n",
       "jobs_25000_serv         3.244e-05   2.16e-05      1.503      0.133   -9.87e-06    7.47e-05\n",
       "TransitPass               -1.5608      0.127    -12.320      0.000      -1.809      -1.312\n",
       "age_0_15                   0.3561      0.163      2.189      0.029       0.037       0.675\n",
       "worker_student             1.1565      0.365      3.167      0.002       0.441       1.872\n",
       "age_18_25                  2.1430      0.362      5.926      0.000       1.434       2.852\n",
       "non_worker_non_student     0.1902      0.279      0.681      0.496      -0.357       0.738\n",
       "age_60                     2.9634      0.317      9.362      0.000       2.343       3.584\n",
       "age_40_60                  2.8963      0.317      9.124      0.000       2.274       3.518\n",
       "RESTY                     -1.4435      0.258     -5.589      0.000      -1.950      -0.937\n",
       "worker                     1.3221      0.291      4.542      0.000       0.752       1.893\n",
       "income__2                 -0.4718      0.535     -0.882      0.378      -1.520       0.576\n",
       "income__3                  0.4583      0.525      0.873      0.383      -0.570       1.487\n",
       "income__4                  1.6022      0.502      3.193      0.001       0.619       2.586\n",
       "income__5                  3.5614      0.490      7.267      0.000       2.601       4.522\n",
       "income__6                  3.4552      0.503      6.863      0.000       2.468       4.442\n",
       "income__7                  3.6048      0.495      7.281      0.000       2.634       4.575\n",
       "income__8                  4.0723      0.568      7.168      0.000       2.959       5.186\n",
       "income__9                  4.3821      0.654      6.698      0.000       3.100       5.664\n",
       "income__10                 5.2158      0.788      6.617      0.000       3.671       6.761\n",
       "==========================================================================================\n",
       "\"\"\""
      ]
     },
     "execution_count": 581,
     "metadata": {},
     "output_type": "execute_result"
    }
   ],
   "source": [
    "from statsmodels.discrete.discrete_model import MNLogit\n",
    "model = MNLogit(y_train, X_train)\n",
    "result = model.fit()\n",
    "result.summary()"
   ]
  },
  {
   "cell_type": "code",
   "execution_count": 603,
   "metadata": {},
   "outputs": [
    {
     "data": {
      "text/html": [
       "<div>\n",
       "<style scoped>\n",
       "    .dataframe tbody tr th:only-of-type {\n",
       "        vertical-align: middle;\n",
       "    }\n",
       "\n",
       "    .dataframe tbody tr th {\n",
       "        vertical-align: top;\n",
       "    }\n",
       "\n",
       "    .dataframe thead th {\n",
       "        text-align: right;\n",
       "    }\n",
       "</style>\n",
       "<table border=\"1\" class=\"dataframe\">\n",
       "  <thead>\n",
       "    <tr style=\"text-align: right;\">\n",
       "      <th>predicted</th>\n",
       "      <th>0</th>\n",
       "      <th>1</th>\n",
       "      <th>2</th>\n",
       "      <th>3</th>\n",
       "    </tr>\n",
       "    <tr>\n",
       "      <th>cars_alt</th>\n",
       "      <th></th>\n",
       "      <th></th>\n",
       "      <th></th>\n",
       "      <th></th>\n",
       "    </tr>\n",
       "  </thead>\n",
       "  <tbody>\n",
       "    <tr>\n",
       "      <th>0</th>\n",
       "      <td>0.398964</td>\n",
       "      <td>0.533679</td>\n",
       "      <td>0.067358</td>\n",
       "      <td>0.000000</td>\n",
       "    </tr>\n",
       "    <tr>\n",
       "      <th>1</th>\n",
       "      <td>0.039535</td>\n",
       "      <td>0.662791</td>\n",
       "      <td>0.282558</td>\n",
       "      <td>0.015116</td>\n",
       "    </tr>\n",
       "    <tr>\n",
       "      <th>2</th>\n",
       "      <td>0.003925</td>\n",
       "      <td>0.129513</td>\n",
       "      <td>0.813187</td>\n",
       "      <td>0.053375</td>\n",
       "    </tr>\n",
       "    <tr>\n",
       "      <th>3</th>\n",
       "      <td>0.000000</td>\n",
       "      <td>0.042553</td>\n",
       "      <td>0.590426</td>\n",
       "      <td>0.367021</td>\n",
       "    </tr>\n",
       "  </tbody>\n",
       "</table>\n",
       "</div>"
      ],
      "text/plain": [
       "predicted         0         1         2         3\n",
       "cars_alt                                         \n",
       "0          0.398964  0.533679  0.067358  0.000000\n",
       "1          0.039535  0.662791  0.282558  0.015116\n",
       "2          0.003925  0.129513  0.813187  0.053375\n",
       "3          0.000000  0.042553  0.590426  0.367021"
      ]
     },
     "execution_count": 603,
     "metadata": {},
     "output_type": "execute_result"
    }
   ],
   "source": [
    "\n",
    "mnl_result = result.predict(X_test)\n",
    "mnl_result['predicted'] = mnl_result.idxmax(axis=1, skipna=True)\n",
    "\n",
    "pd.crosstab( y_test, mnl_result['predicted'], normalize= 'index')"
   ]
  },
  {
   "cell_type": "code",
   "execution_count": 609,
   "metadata": {},
   "outputs": [
    {
     "data": {
      "text/html": [
       "<div>\n",
       "<style scoped>\n",
       "    .dataframe tbody tr th:only-of-type {\n",
       "        vertical-align: middle;\n",
       "    }\n",
       "\n",
       "    .dataframe tbody tr th {\n",
       "        vertical-align: top;\n",
       "    }\n",
       "\n",
       "    .dataframe thead th {\n",
       "        text-align: right;\n",
       "    }\n",
       "</style>\n",
       "<table border=\"1\" class=\"dataframe\">\n",
       "  <thead>\n",
       "    <tr style=\"text-align: right;\">\n",
       "      <th>predicted</th>\n",
       "      <th>0</th>\n",
       "      <th>1</th>\n",
       "      <th>2</th>\n",
       "      <th>3</th>\n",
       "    </tr>\n",
       "    <tr>\n",
       "      <th>cars_alt</th>\n",
       "      <th></th>\n",
       "      <th></th>\n",
       "      <th></th>\n",
       "      <th></th>\n",
       "    </tr>\n",
       "  </thead>\n",
       "  <tbody>\n",
       "    <tr>\n",
       "      <th>0</th>\n",
       "      <td>77</td>\n",
       "      <td>103</td>\n",
       "      <td>13</td>\n",
       "      <td>0</td>\n",
       "    </tr>\n",
       "    <tr>\n",
       "      <th>1</th>\n",
       "      <td>34</td>\n",
       "      <td>570</td>\n",
       "      <td>243</td>\n",
       "      <td>13</td>\n",
       "    </tr>\n",
       "    <tr>\n",
       "      <th>2</th>\n",
       "      <td>5</td>\n",
       "      <td>165</td>\n",
       "      <td>1036</td>\n",
       "      <td>68</td>\n",
       "    </tr>\n",
       "    <tr>\n",
       "      <th>3</th>\n",
       "      <td>0</td>\n",
       "      <td>24</td>\n",
       "      <td>333</td>\n",
       "      <td>207</td>\n",
       "    </tr>\n",
       "  </tbody>\n",
       "</table>\n",
       "</div>"
      ],
      "text/plain": [
       "predicted   0    1     2    3\n",
       "cars_alt                     \n",
       "0          77  103    13    0\n",
       "1          34  570   243   13\n",
       "2           5  165  1036   68\n",
       "3           0   24   333  207"
      ]
     },
     "execution_count": 609,
     "metadata": {},
     "output_type": "execute_result"
    }
   ],
   "source": [
    "pd.crosstab( y_test, mnl_result['predicted'])"
   ]
  },
  {
   "cell_type": "code",
   "execution_count": 610,
   "metadata": {},
   "outputs": [
    {
     "data": {
      "text/plain": [
       "(2891,)"
      ]
     },
     "execution_count": 610,
     "metadata": {},
     "output_type": "execute_result"
    }
   ],
   "source": [
    "y_test.shape"
   ]
  },
  {
   "cell_type": "code",
   "execution_count": 523,
   "metadata": {},
   "outputs": [],
   "source": [
    "basic_specification = OrderedDict()\n",
    "basic_specification[\"intercept\"] = [0,1,2]\n",
    "# basic_specification[\"RESTY\"] = [1,2,3]\n",
    "# basic_specification[\"TransitPass\"] = [1,2,3]\n",
    "# basic_specification[\"age_0_15\"] = [1,2,3]\n",
    "# basic_specification[\"worker_student\"] =[1,2,3]\n",
    "\n",
    "# basic_specification['jobs_10000_tech'] = [0,1,2]\n",
    "# basic_specification['sqft_unit_500_walk'] = [0,1,2]\n",
    "# basic_specification['prop_singles_1500_walk'] = [0,1,2]"
   ]
  },
  {
   "cell_type": "code",
   "execution_count": 524,
   "metadata": {},
   "outputs": [],
   "source": [
    "# m = SmallMultinomialLogitStep()\n",
    "# m.name = 'car_ownership_model'\n",
    "# m.tables = ['x_matrix']\n",
    "# m.choice_column = 'cars_alt'\n",
    "# m.model_expression = basic_specification"
   ]
  },
  {
   "cell_type": "code",
   "execution_count": 544,
   "metadata": {},
   "outputs": [],
   "source": [
    "# m.fit()"
   ]
  },
  {
   "cell_type": "code",
   "execution_count": 505,
   "metadata": {},
   "outputs": [
    {
     "data": {
      "text/plain": [
       "2    3875\n",
       "1    2683\n",
       "3    1602\n",
       "0     598\n",
       "Name: cars_alt, dtype: int64"
      ]
     },
     "execution_count": 505,
     "metadata": {},
     "output_type": "execute_result"
    }
   ],
   "source": [
    "df_mnl_1.cars_alt.value_counts()"
   ]
  },
  {
   "cell_type": "code",
   "execution_count": null,
   "metadata": {},
   "outputs": [],
   "source": []
  },
  {
   "cell_type": "code",
   "execution_count": null,
   "metadata": {},
   "outputs": [],
   "source": []
  },
  {
   "cell_type": "code",
   "execution_count": 543,
   "metadata": {},
   "outputs": [
    {
     "name": "stdout",
     "output_type": "stream",
     "text": [
      "Optimization terminated successfully.\n",
      "         Current function value: 1.122949\n",
      "         Iterations 7\n"
     ]
    },
    {
     "data": {
      "text/html": [
       "<table class=\"simpletable\">\n",
       "<caption>MNLogit Regression Results</caption>\n",
       "<tr>\n",
       "  <th>Dep. Variable:</th>     <td>cars_alt</td>     <th>  No. Observations:  </th>  <td>  8758</td> \n",
       "</tr>\n",
       "<tr>\n",
       "  <th>Model:</th>              <td>MNLogit</td>     <th>  Df Residuals:      </th>  <td>  8752</td> \n",
       "</tr>\n",
       "<tr>\n",
       "  <th>Method:</th>               <td>MLE</td>       <th>  Df Model:          </th>  <td>     3</td> \n",
       "</tr>\n",
       "<tr>\n",
       "  <th>Date:</th>          <td>Mon, 29 Apr 2019</td> <th>  Pseudo R-squ.:     </th>  <td>0.07744</td>\n",
       "</tr>\n",
       "<tr>\n",
       "  <th>Time:</th>              <td>23:52:35</td>     <th>  Log-Likelihood:    </th> <td> -9834.8</td>\n",
       "</tr>\n",
       "<tr>\n",
       "  <th>converged:</th>           <td>True</td>       <th>  LL-Null:           </th> <td> -10660.</td>\n",
       "</tr>\n",
       "<tr>\n",
       "  <th> </th>                      <td> </td>        <th>  LLR p-value:       </th>  <td> 0.000</td> \n",
       "</tr>\n",
       "</table>\n",
       "<table class=\"simpletable\">\n",
       "<tr>\n",
       "  <th>cars_alt=1</th>    <th>coef</th>     <th>std err</th>      <th>z</th>      <th>P>|z|</th>  <th>[0.025</th>    <th>0.975]</th>  \n",
       "</tr>\n",
       "<tr>\n",
       "  <th>RESTY</th>      <td>   -1.5760</td> <td>    0.098</td> <td>  -16.110</td> <td> 0.000</td> <td>   -1.768</td> <td>   -1.384</td>\n",
       "</tr>\n",
       "<tr>\n",
       "  <th>intercept</th>  <td>    2.2977</td> <td>    0.077</td> <td>   29.710</td> <td> 0.000</td> <td>    2.146</td> <td>    2.449</td>\n",
       "</tr>\n",
       "<tr>\n",
       "  <th>cars_alt=2</th>    <th>coef</th>     <th>std err</th>      <th>z</th>      <th>P>|z|</th>  <th>[0.025</th>    <th>0.975]</th>  \n",
       "</tr>\n",
       "<tr>\n",
       "  <th>RESTY</th>      <td>   -3.2052</td> <td>    0.106</td> <td>  -30.261</td> <td> 0.000</td> <td>   -3.413</td> <td>   -2.998</td>\n",
       "</tr>\n",
       "<tr>\n",
       "  <th>intercept</th>  <td>    2.9600</td> <td>    0.076</td> <td>   39.151</td> <td> 0.000</td> <td>    2.812</td> <td>    3.108</td>\n",
       "</tr>\n",
       "<tr>\n",
       "  <th>cars_alt=3</th>    <th>coef</th>     <th>std err</th>      <th>z</th>      <th>P>|z|</th>  <th>[0.025</th>    <th>0.975]</th>  \n",
       "</tr>\n",
       "<tr>\n",
       "  <th>RESTY</th>      <td>   -4.0926</td> <td>    0.160</td> <td>  -25.510</td> <td> 0.000</td> <td>   -4.407</td> <td>   -3.778</td>\n",
       "</tr>\n",
       "<tr>\n",
       "  <th>intercept</th>  <td>    2.1272</td> <td>    0.078</td> <td>   27.275</td> <td> 0.000</td> <td>    1.974</td> <td>    2.280</td>\n",
       "</tr>\n",
       "</table>"
      ],
      "text/plain": [
       "<class 'statsmodels.iolib.summary.Summary'>\n",
       "\"\"\"\n",
       "                          MNLogit Regression Results                          \n",
       "==============================================================================\n",
       "Dep. Variable:               cars_alt   No. Observations:                 8758\n",
       "Model:                        MNLogit   Df Residuals:                     8752\n",
       "Method:                           MLE   Df Model:                            3\n",
       "Date:                Mon, 29 Apr 2019   Pseudo R-squ.:                 0.07744\n",
       "Time:                        23:52:35   Log-Likelihood:                -9834.8\n",
       "converged:                       True   LL-Null:                       -10660.\n",
       "                                        LLR p-value:                     0.000\n",
       "==============================================================================\n",
       "cars_alt=1       coef    std err          z      P>|z|      [0.025      0.975]\n",
       "------------------------------------------------------------------------------\n",
       "RESTY         -1.5760      0.098    -16.110      0.000      -1.768      -1.384\n",
       "intercept      2.2977      0.077     29.710      0.000       2.146       2.449\n",
       "------------------------------------------------------------------------------\n",
       "cars_alt=2       coef    std err          z      P>|z|      [0.025      0.975]\n",
       "------------------------------------------------------------------------------\n",
       "RESTY         -3.2052      0.106    -30.261      0.000      -3.413      -2.998\n",
       "intercept      2.9600      0.076     39.151      0.000       2.812       3.108\n",
       "------------------------------------------------------------------------------\n",
       "cars_alt=3       coef    std err          z      P>|z|      [0.025      0.975]\n",
       "------------------------------------------------------------------------------\n",
       "RESTY         -4.0926      0.160    -25.510      0.000      -4.407      -3.778\n",
       "intercept      2.1272      0.078     27.275      0.000       1.974       2.280\n",
       "==============================================================================\n",
       "\"\"\""
      ]
     },
     "execution_count": 543,
     "metadata": {},
     "output_type": "execute_result"
    }
   ],
   "source": []
  },
  {
   "cell_type": "code",
   "execution_count": null,
   "metadata": {},
   "outputs": [],
   "source": []
  },
  {
   "cell_type": "code",
   "execution_count": null,
   "metadata": {},
   "outputs": [],
   "source": []
  },
  {
   "cell_type": "code",
   "execution_count": null,
   "metadata": {},
   "outputs": [],
   "source": []
  },
  {
   "cell_type": "code",
   "execution_count": null,
   "metadata": {},
   "outputs": [],
   "source": []
  },
  {
   "cell_type": "code",
   "execution_count": 223,
   "metadata": {},
   "outputs": [
    {
     "data": {
      "image/png": "[encoded data removed]",
      "text/plain": [
       "<Figure size 1440x720 with 2 Axes>"
      ]
     },
     "metadata": {
      "needs_background": "light"
     },
     "output_type": "display_data"
    }
   ],
   "source": [
    "import seaborn as sns\n",
    "plt.figure(figsize=(20,10))\n",
    "corr = df.corr()\n",
    "sns.heatmap(corr, \n",
    "            xticklabels=corr.columns.values,\n",
    "            yticklabels=corr.columns.values);"
   ]
  },
  {
   "cell_type": "code",
   "execution_count": 374,
   "metadata": {},
   "outputs": [
    {
     "data": {
      "text/plain": [
       "Index(['base_income_quartile', 'building_id', 'block_group_id', 'serialno',\n",
       "       'workers', 'recent_mover', 'unit_id', 'base_income_octile', 'children',\n",
       "       'persons', 'state', 'block_group', 'income', 'tract', 'tenure',\n",
       "       'hispanic_head', 'building_type', 'race_of_head', 'age_of_head',\n",
       "       'single_family', 'cars', 'node_id_small', 'node_id_walk',\n",
       "       'hh_inc_under_25k', 'hh_inc_25_to_75k', 'hh_inc_75_to_200k', 'tenure_1',\n",
       "       'tenure_2', 'tenure_3', 'tenure_4', 'single_family_int',\n",
       "       'building_type_2', 'hh_inc_150kplus', 'hh_size_1per'],\n",
       "      dtype='object')"
      ]
     },
     "execution_count": 374,
     "metadata": {},
     "output_type": "execute_result"
    }
   ],
   "source": [
    "households.columns"
   ]
  },
  {
   "cell_type": "code",
   "execution_count": 257,
   "metadata": {},
   "outputs": [
    {
     "data": {
      "text/plain": [
       "Index(['pop_black_500_walk', 'units_25000', 'population_40',\n",
       "       'children_1500_walk', 'population_20', 'pop_500_walk',\n",
       "       'renters_1500_walk', 'jobs_1500_walk', 'hh_1500_walk',\n",
       "       'prop_black_500_walk', 'units_mf_500_walk', 'pop_asian_10000',\n",
       "       'units_sf_25000', 'jobs_1500_walk_retail', 'jobs_10000_serv',\n",
       "       'jobs_500_walk_serv', 'avg_income_10000', 'prop_children_1500_walk',\n",
       "       'pop_white_1500_walk', 'renters_10000', 'rich_1500_walk',\n",
       "       'above_jobs_20', 'units_500_walk', 'avg_rent_500_walk',\n",
       "       'jobs_10000_tech', 'prop_black_1500_walk', 'pop_25000',\n",
       "       'jobs_10000_fire', 'pop_asian_2500_walk', 'pop_white_2500_walk',\n",
       "       'pop_jobs_ratio_25000', 'prop_elderly_500_walk',\n",
       "       'prop_singles_500_walk', 'prop_rich_1500_walk', 'employment_60',\n",
       "       'prop_asian_1500_walk', 'pop_asian_25000', 'avg_hhs_1500_walk',\n",
       "       'population_60', 'hh_25000', 'jobs_25000_serv', 'jobs_10000_retail',\n",
       "       'units_mf_10000', 'jobs_25000', 'prop_elderly_1500_walk',\n",
       "       'jobs_25000_tech', 'pop_asian_1500_walk', 'pop_hisp_500_walk',\n",
       "       'pop_black_25000', 'below_jobs_40', 'units_sf_10000',\n",
       "       'prop_singles_1500_walk', 'poor_1500_walk', 'renters_500_walk',\n",
       "       'below_jobs_20', 'average_income_20', 'elderly_hh_500_walk',\n",
       "       'jobs_2500_walk_serv', 'hh_10000', 'jobs_1500_walk_tech',\n",
       "       'elderly_hh_1500_walk', 'jobs_500_walk', 'poor_10000',\n",
       "       'singles_500_walk', 'prop_asian_500_walk', 'prop_poor_500_walk',\n",
       "       'pop_10000', 'med_rent_10000', 'prop_rich_500_walk',\n",
       "       'units_sf_500_walk', 'prop_white_1500_walk', 'prop_poor_1500_walk',\n",
       "       'poor_25000', 'hh_500_walk', 'pop_hisp_25000', 'employment_40',\n",
       "       'units_1500_walk', 'pop_1500_walk', 'INCOM', 'PERNO', 'AGE', 'EMPLY',\n",
       "       'children', 'TransitPass', 'zone_id_home', 'max_35', 'cars_alt'],\n",
       "      dtype='object')"
      ]
     },
     "execution_count": 257,
     "metadata": {},
     "output_type": "execute_result"
    }
   ],
   "source": [
    "df_eda = df_merge.loc[:,final_var]\n",
    "df_eda.columns[50:]"
   ]
  },
  {
   "cell_type": "code",
   "execution_count": 262,
   "metadata": {},
   "outputs": [
    {
     "data": {
      "text/html": [
       "<div>\n",
       "<style scoped>\n",
       "    .dataframe tbody tr th:only-of-type {\n",
       "        vertical-align: middle;\n",
       "    }\n",
       "\n",
       "    .dataframe tbody tr th {\n",
       "        vertical-align: top;\n",
       "    }\n",
       "\n",
       "    .dataframe thead th {\n",
       "        text-align: right;\n",
       "    }\n",
       "</style>\n",
       "<table border=\"1\" class=\"dataframe\">\n",
       "  <thead>\n",
       "    <tr style=\"text-align: right;\">\n",
       "      <th></th>\n",
       "    </tr>\n",
       "  </thead>\n",
       "  <tbody>\n",
       "  </tbody>\n",
       "</table>\n",
       "</div>"
      ],
      "text/plain": [
       "Empty DataFrame\n",
       "Columns: []\n",
       "Index: []"
      ]
     },
     "execution_count": 262,
     "metadata": {},
     "output_type": "execute_result"
    }
   ],
   "source": [
    "# sns.catplot(x=\"cars_alt\", y='max_35', kind=\"box\", data=df_eda);\n",
    "# sns.catplot(x=\"cars_alt\", y='EMPLY', kind=\"box\", data=df_eda);\n",
    "# sns.catplot(x=\"cars_alt\", y='TransitPass', kind=\"boxen\", data=df_eda);\n",
    "# sns.catplot(x=\"cars_alt\", y='children', kind=\"boxen\", data=df_eda);\n",
    "\n",
    "pd.crosstab(df_eda.max_35, df_eda.cars_alt)#, normalize='index')"
   ]
  },
  {
   "cell_type": "code",
   "execution_count": 265,
   "metadata": {},
   "outputs": [
    {
     "data": {
      "text/plain": [
       "0       NaN\n",
       "7       NaN\n",
       "19      NaN\n",
       "26      NaN\n",
       "28      NaN\n",
       "29      NaN\n",
       "32      NaN\n",
       "33      NaN\n",
       "42      NaN\n",
       "46      NaN\n",
       "54      NaN\n",
       "55      NaN\n",
       "58      NaN\n",
       "64      NaN\n",
       "66      NaN\n",
       "68      NaN\n",
       "69      NaN\n",
       "71      NaN\n",
       "72      NaN\n",
       "74      NaN\n",
       "77      NaN\n",
       "85      NaN\n",
       "102     NaN\n",
       "104     NaN\n",
       "113     NaN\n",
       "120     NaN\n",
       "121     NaN\n",
       "135     NaN\n",
       "136     NaN\n",
       "139     NaN\n",
       "         ..\n",
       "42339   NaN\n",
       "42340   NaN\n",
       "42341   NaN\n",
       "42342   NaN\n",
       "42343   NaN\n",
       "42344   NaN\n",
       "42345   NaN\n",
       "42346   NaN\n",
       "42347   NaN\n",
       "42388   NaN\n",
       "42389   NaN\n",
       "42390   NaN\n",
       "42391   NaN\n",
       "42392   NaN\n",
       "42393   NaN\n",
       "42394   NaN\n",
       "42395   NaN\n",
       "42396   NaN\n",
       "42397   NaN\n",
       "42398   NaN\n",
       "42399   NaN\n",
       "42400   NaN\n",
       "42402   NaN\n",
       "42404   NaN\n",
       "42406   NaN\n",
       "42407   NaN\n",
       "42408   NaN\n",
       "42409   NaN\n",
       "42410   NaN\n",
       "42411   NaN\n",
       "Name: cars_alt, Length: 8758, dtype: float64"
      ]
     },
     "execution_count": 265,
     "metadata": {},
     "output_type": "execute_result"
    }
   ],
   "source": [
    "df_eda.cars_alt"
   ]
  },
  {
   "cell_type": "code",
   "execution_count": 516,
   "metadata": {},
   "outputs": [
    {
     "data": {
      "text/plain": [
       "0.6845382220684885"
      ]
     },
     "execution_count": 516,
     "metadata": {},
     "output_type": "execute_result"
    }
   ],
   "source": [
    "from sklearn.neural_network import MLPClassifier\n",
    "\n"
   ]
  },
  {
   "cell_type": "code",
   "execution_count": 526,
   "metadata": {},
   "outputs": [
    {
     "data": {
      "text/plain": [
       "0.6997578692493946"
      ]
     },
     "execution_count": 526,
     "metadata": {},
     "output_type": "execute_result"
    }
   ],
   "source": [
    "mlp = MLPClassifier(hidden_layer_sizes=(5,15), activation = 'logistic')\n",
    "\n",
    "mlp.fit(X_train, y_train)\n",
    "# mlp.score(X_train, y_train)\n",
    "mlp.score(X_test, y_test)"
   ]
  },
  {
   "cell_type": "code",
   "execution_count": 527,
   "metadata": {},
   "outputs": [
    {
     "data": {
      "text/plain": [
       "<matplotlib.legend.Legend at 0x7f89c84d58d0>"
      ]
     },
     "execution_count": 527,
     "metadata": {},
     "output_type": "execute_result"
    },
    {
     "data": {
      "image/png": "[encoded data removed]",
      "text/plain": [
       "<Figure size 432x288 with 1 Axes>"
      ]
     },
     "metadata": {
      "needs_background": "light"
     },
     "output_type": "display_data"
    }
   ],
   "source": [
    "result_train_rf = []\n",
    "result_test_rf = []\n",
    "# tree_num = range(100,1001,100)\n",
    "max_depth = range(1,20)\n",
    "for i in max_depth:\n",
    "    mlp = MLPClassifier(hidden_layer_sizes=(5,15), activation = 'logistic')\n",
    "    scores = cross_validate(mlp, X_train, y_train, cv=3, return_train_score=True)\n",
    "    result_train_rf.append(scores['train_score'].mean())\n",
    "    result_test_rf.append(scores['test_score'].mean()) \n",
    "\n",
    "plt.figure()\n",
    "plt.plot(max_depth, result_train_rf, '-o',color='blue',label='Train')\n",
    "plt.plot(max_depth, result_test_rf, '-o',color='red',label='Test')\n",
    "plt.xlabel('max_depth')\n",
    "plt.ylabel('Accuracy')\n",
    "plt.legend()"
   ]
  },
  {
   "cell_type": "code",
   "execution_count": null,
   "metadata": {},
   "outputs": [],
   "source": []
  },
  {
   "cell_type": "code",
   "execution_count": null,
   "metadata": {},
   "outputs": [],
   "source": []
  },
  {
   "cell_type": "markdown",
   "metadata": {},
   "source": [
    "## Data cleaning"
   ]
  },
  {
   "cell_type": "code",
   "execution_count": 13,
   "metadata": {},
   "outputs": [],
   "source": [
    "# hh_merged.columns[:100]  #'building_type', 'land_value', 'acres', 'tract'"
   ]
  },
  {
   "cell_type": "code",
   "execution_count": 41,
   "metadata": {},
   "outputs": [],
   "source": [
    "def normalize(data):\n",
    "    ''' \n",
    "    Normalizes values in a Series\n",
    "    Input: \n",
    "    data: Series-like\n",
    "    \n",
    "    Return: Normalized Series-like object\n",
    "    '''\n",
    "    if data.dtype == 'O':\n",
    "        return 0\n",
    "    else:\n",
    "        return (data - np.mean(data)) / np.std(data)"
   ]
  },
  {
   "cell_type": "code",
   "execution_count": 15,
   "metadata": {},
   "outputs": [],
   "source": [
    "#Creating our dependent varaible\n",
    "hh_merged['cars_alt'] = hh_merged['cars'].apply(lambda x: 0*(x==0)+ 1*(x==1)+2*(x==2)+3*(x>=3))\n",
    "# hh_merged['cars_alt'] = hh_merged['cars'].apply(lambda x: 0*(x==0)+ 1*(x>=1))"
   ]
  },
  {
   "cell_type": "code",
   "execution_count": 27,
   "metadata": {},
   "outputs": [],
   "source": [
    "#Getting variables names for each data source\n",
    "transit_acc_var = set(parcels_with_acc.columns) - set(parcels.columns)\n",
    "nodessmall_var = set(nodessmall) - set(households)\n",
    "nodeswalk_var = set(nodeswalk) - set(households)\n",
    "parcel_var = set(parcels.columns) - set(filter_col) - set(transit_acc_var)\n",
    "# buildings_var = set(orca.get_table('buildings').to_frame().columns)\n",
    "# units_var = set(orca.get_table('units').to_frame().columns)\n",
    "households_var_continious = ['age_of_head','children','hh_16_younger','hh_70_older',\n",
    "                            'hh_student','hh_work_home','income',\n",
    "                            'land_value', 'acres']\n",
    "households_var_dummy = ['tract','hispanic_head','recent_mover','race_of_head',\n",
    "                        'hh_size_1per', 'building_type','persons','workers']\n",
    "dependent_var = ['cars_alt']\n"
   ]
  },
  {
   "cell_type": "code",
   "execution_count": 28,
   "metadata": {},
   "outputs": [],
   "source": [
    "final_var = (list((transit_acc_var and nodessmall_var and nodeswalk_var )) +\n",
    "             households_var_continious + households_var_dummy + dependent_var)\n",
    "\n",
    "#Creating a dataset with varaibles needed\n",
    "df = hh_merged.loc[:,['serialno'] + final_var]\n",
    "\n",
    "#Modifying Hispanic head varaible\n",
    "df.hispanic_head = df.hispanic_head.apply(lambda x: 1 if x=='yes' else 0)"
   ]
  },
  {
   "cell_type": "code",
   "execution_count": 29,
   "metadata": {},
   "outputs": [],
   "source": [
    "to_normalize = list((transit_acc_var and nodessmall_var and nodeswalk_var )) + households_var_continious\n",
    "\n",
    "for i in to_normalize:\n",
    "    df[i] = normalize(df[i])"
   ]
  },
  {
   "cell_type": "code",
   "execution_count": 19,
   "metadata": {},
   "outputs": [],
   "source": [
    "# df.sample(5000).corr()['cars_alt'].sort_values()\n"
   ]
  },
  {
   "cell_type": "markdown",
   "metadata": {},
   "source": [
    "## EDA"
   ]
  },
  {
   "cell_type": "code",
   "execution_count": 20,
   "metadata": {},
   "outputs": [],
   "source": [
    "import seaborn as sns"
   ]
  },
  {
   "cell_type": "code",
   "execution_count": 33,
   "metadata": {},
   "outputs": [],
   "source": [
    "eda_df = df.sample(5000)"
   ]
  },
  {
   "cell_type": "code",
   "execution_count": 34,
   "metadata": {},
   "outputs": [
    {
     "data": {
      "image/png": "[encoded data removed]",
      "text/plain": [
       "<Figure size 360x360 with 1 Axes>"
      ]
     },
     "metadata": {
      "needs_background": "light"
     },
     "output_type": "display_data"
    }
   ],
   "source": [
    "sns.catplot(x=\"cars_alt\", kind=\"count\", palette=\"ch:.25\", data=eda_df)\n",
    "plt.xlabel('Number of cars per household')\n",
    "plt.ylabel('Households');"
   ]
  },
  {
   "cell_type": "code",
   "execution_count": 35,
   "metadata": {},
   "outputs": [
    {
     "data": {
      "image/png": "[encoded data removed]",
      "text/plain": [
       "<Figure size 360x360 with 1 Axes>"
      ]
     },
     "metadata": {
      "needs_background": "light"
     },
     "output_type": "display_data"
    }
   ],
   "source": [
    "sns.catplot(x=\"cars_alt\", y=\"income\", kind=\"box\", data=eda_df);"
   ]
  },
  {
   "cell_type": "code",
   "execution_count": 36,
   "metadata": {},
   "outputs": [
    {
     "data": {
      "image/png": "[encoded data removed]",
      "text/plain": [
       "<Figure size 360x360 with 1 Axes>"
      ]
     },
     "metadata": {
      "needs_background": "light"
     },
     "output_type": "display_data"
    }
   ],
   "source": [
    "sns.catplot(x=\"cars_alt\", y=\"jobs_500_walk\", kind=\"box\", data=eda_df);"
   ]
  },
  {
   "cell_type": "code",
   "execution_count": 37,
   "metadata": {},
   "outputs": [
    {
     "data": {
      "image/png": "[encoded data removed]",
      "text/plain": [
       "<Figure size 360x360 with 1 Axes>"
      ]
     },
     "metadata": {
      "needs_background": "light"
     },
     "output_type": "display_data"
    }
   ],
   "source": [
    "sns.catplot(x=\"cars_alt\", y=\"persons\", kind=\"box\", data=eda_df);"
   ]
  },
  {
   "cell_type": "code",
   "execution_count": 38,
   "metadata": {},
   "outputs": [
    {
     "data": {
      "image/png": "[encoded data removed]",
      "text/plain": [
       "<Figure size 406.875x360 with 1 Axes>"
      ]
     },
     "metadata": {
      "needs_background": "light"
     },
     "output_type": "display_data"
    }
   ],
   "source": [
    "sns.catplot(x=\"persons\", y=\"income\", hue=\"cars_alt\", kind=\"swarm\", data=eda_df);"
   ]
  },
  {
   "cell_type": "code",
   "execution_count": 74,
   "metadata": {},
   "outputs": [
    {
     "data": {
      "text/plain": [
       "Index(['serialno', 'jobs_500_walk', 'prop_elderly_500_walk',\n",
       "       'units_mf_500_walk', 'prop_poor_500_walk', 'pop_1500_walk',\n",
       "       'pop_black_1500_walk', 'avg_income_500_walk', 'jobs_1500_walk_tech',\n",
       "       'jobs_500_walk_retail', 'jobs_2500_walk_serv', 'rich_500_walk',\n",
       "       'pop_hisp_500_walk', 'pop_asian_1500_walk', 'prop_white_500_walk',\n",
       "       'jobs_500_walk_fire', 'prop_asian_500_walk', 'jobs_500_walk_tech',\n",
       "       'units_mf_1500_walk', 'children_500_walk', 'prop_hisp_1500_walk',\n",
       "       'avg_hhs_500_walk', 'pop_white_500_walk', 'units_1500_walk',\n",
       "       'hh_500_walk', 'prop_asian_1500_walk', 'prop_singles_500_walk',\n",
       "       'prop_rich_500_walk', 'sqft_unit_500_walk', 'prop_black_500_walk',\n",
       "       'prop_singles_1500_walk', 'avg_rent_500_walk', 'pop_asian_500_walk',\n",
       "       'singles_1500_walk', 'pop_white_2500_walk', 'jobs_1500_walk_fire',\n",
       "       'avg_hhs_1500_walk', 'prop_children_500_walk', 'avg_income_1500_walk',\n",
       "       'units_sf_1500_walk', 'pop_jobs_ratio_1500_walk', 'poor_1500_walk',\n",
       "       'units_500_walk', 'jobs_1500_walk_serv', 'singles_500_walk',\n",
       "       'pop_black_2500_walk', 'elderly_hh_1500_walk', 'pop_500_walk',\n",
       "       'jobs_1500_walk_retail', 'jobs_2500_walk_fire',\n",
       "       'prop_elderly_1500_walk', 'prop_black_1500_walk', 'hh_1500_walk',\n",
       "       'sqft_unit_1500_walk', 'rich_1500_walk', 'avg_rent_1500_walk',\n",
       "       'renters_1500_walk', 'prop_children_1500_walk', 'children_1500_walk',\n",
       "       'prop_poor_1500_walk', 'jobs_500_walk_serv', 'prop_rich_1500_walk',\n",
       "       'pop_white_1500_walk', 'pop_black_500_walk', 'jobs_2500_walk_tech',\n",
       "       'poor_500_walk', 'jobs_1500_walk', 'renters_500_walk', 'pop_2500_walk',\n",
       "       'pop_hisp_2500_walk', 'units_sf_500_walk', 'pop_hisp_1500_walk',\n",
       "       'elderly_hh_500_walk', 'jobs_2500_walk_retail', 'prop_hisp_500_walk',\n",
       "       'prop_white_1500_walk', 'pop_asian_2500_walk', 'age_of_head',\n",
       "       'children', 'hh_16_younger', 'hh_70_older', 'hh_student',\n",
       "       'hh_work_home', 'income', 'persons', 'workers', 'land_value', 'acres',\n",
       "       'tract', 'hispanic_head', 'recent_mover', 'race_of_head',\n",
       "       'hh_size_1per', 'building_type', 'cars_alt'],\n",
       "      dtype='object')"
      ]
     },
     "execution_count": 74,
     "metadata": {},
     "output_type": "execute_result"
    }
   ],
   "source": [
    "df.columns"
   ]
  },
  {
   "cell_type": "code",
   "execution_count": 39,
   "metadata": {},
   "outputs": [],
   "source": [
    "#Training and test index\n",
    "import random\n",
    "index_list = df.serialno.unique()\n",
    "\n",
    "# train_index = np.array(random.sample(list(index_list), int(len(index_list)*0.66) ))\n",
    "train_index = np.array(random.sample(list(index_list), 1000,  ))\n",
    "test_index = index_list[~np.isin(index_list,train_index )]\n",
    "\n",
    "#Training and test set \n",
    "X_train = df[df.serialno.isin(train_index)].drop(['serialno', 'cars_alt'], axis=1)\n",
    "y_train = df[df.serialno.isin(train_index)].loc[:,['cars_alt']].cars_alt\n",
    "\n",
    "X_test = df[df.serialno.isin(test_index)].drop(['serialno', 'cars_alt'], axis=1)\n",
    "y_test = df[df.serialno.isin(test_index)].loc[:,['cars_alt']].cars_alt"
   ]
  },
  {
   "cell_type": "markdown",
   "metadata": {},
   "source": [
    "# Machine Learning Approach "
   ]
  },
  {
   "cell_type": "markdown",
   "metadata": {},
   "source": [
    "## Decision Tree"
   ]
  },
  {
   "cell_type": "code",
   "execution_count": 40,
   "metadata": {},
   "outputs": [],
   "source": [
    "from sklearn import tree\n",
    "from sklearn.model_selection import KFold, train_test_split\n",
    "from sklearn.model_selection import cross_validate\n",
    "from sklearn.ensemble import AdaBoostRegressor\n",
    "import matplotlib.pyplot as plt"
   ]
  },
  {
   "cell_type": "code",
   "execution_count": 89,
   "metadata": {},
   "outputs": [],
   "source": [
    "# #Splitting the data\n",
    "# x = df_data.drop('cars_alt', axis = 1)\n",
    "# y = df_data.loc[:,'cars_alt']\n",
    "# X_train, X_test, y_train, y_test = train_test_split(x, y, test_size=0.33, random_state= 2348)"
   ]
  },
  {
   "cell_type": "code",
   "execution_count": 42,
   "metadata": {},
   "outputs": [
    {
     "data": {
      "text/plain": [
       "{'fit_time': array([0.73664927, 0.96458364, 0.98184776]),\n",
       " 'score_time': array([0.05609798, 0.05450416, 0.05286956]),\n",
       " 'test_score': array([0.91579527, 0.83376909, 0.7648273 ]),\n",
       " 'train_score': array([0.99621577, 0.98878569, 0.98424493])}"
      ]
     },
     "execution_count": 42,
     "metadata": {},
     "output_type": "execute_result"
    }
   ],
   "source": [
    "clf = tree.DecisionTreeClassifier(criterion='entropy',max_depth=7)\n",
    "scores = cross_validate(clf, X_train, y_train, cv=3, return_train_score=True)\n",
    "scores"
   ]
  },
  {
   "cell_type": "code",
   "execution_count": 43,
   "metadata": {},
   "outputs": [],
   "source": [
    "result_train = []\n",
    "result_test = []\n",
    "max_depth = range(1,10)\n",
    "for i in max_depth:\n",
    "    clf = tree.DecisionTreeClassifier(criterion='entropy',max_depth=i)\n",
    "    scores = cross_validate(clf, X_train, y_train, cv=3, return_train_score=True)\n",
    "    result_train.append(scores['train_score'].mean())\n",
    "    result_test.append(scores['test_score'].mean()) \n"
   ]
  },
  {
   "cell_type": "code",
   "execution_count": 44,
   "metadata": {},
   "outputs": [
    {
     "data": {
      "text/plain": [
       "<matplotlib.legend.Legend at 0x7ff30e630eb8>"
      ]
     },
     "execution_count": 44,
     "metadata": {},
     "output_type": "execute_result"
    },
    {
     "data": {
      "image/png": "[encoded data removed]",
      "text/plain": [
       "<Figure size 432x288 with 1 Axes>"
      ]
     },
     "metadata": {
      "needs_background": "light"
     },
     "output_type": "display_data"
    }
   ],
   "source": [
    "plt.figure()\n",
    "plt.plot(max_depth, result_train, '-o',color='blue',label='Train')\n",
    "plt.plot(max_depth, result_test, '-o',color='red',label='Test')\n",
    "plt.xlabel('Max depth')\n",
    "plt.ylabel('Accuracy')\n",
    "plt.legend()"
   ]
  },
  {
   "cell_type": "code",
   "execution_count": 51,
   "metadata": {},
   "outputs": [
    {
     "data": {
      "text/plain": [
       "DecisionTreeClassifier(class_weight=None, criterion='entropy', max_depth=10,\n",
       "            max_features=None, max_leaf_nodes=None,\n",
       "            min_impurity_decrease=0.0, min_impurity_split=None,\n",
       "            min_samples_leaf=1, min_samples_split=2,\n",
       "            min_weight_fraction_leaf=0.0, presort=False, random_state=None,\n",
       "            splitter='best')"
      ]
     },
     "execution_count": 51,
     "metadata": {},
     "output_type": "execute_result"
    }
   ],
   "source": [
    "clf = tree.DecisionTreeClassifier(criterion='entropy',max_depth=10)\n",
    "clf.fit(X_train, y_train)"
   ]
  },
  {
   "cell_type": "code",
   "execution_count": 52,
   "metadata": {},
   "outputs": [],
   "source": [
    "# clf.fit(X_train, y_train)\n",
    "# tree_importance = clf.feature_importances_"
   ]
  },
  {
   "cell_type": "code",
   "execution_count": 53,
   "metadata": {},
   "outputs": [
    {
     "data": {
      "text/html": [
       "<div>\n",
       "<style scoped>\n",
       "    .dataframe tbody tr th:only-of-type {\n",
       "        vertical-align: middle;\n",
       "    }\n",
       "\n",
       "    .dataframe tbody tr th {\n",
       "        vertical-align: top;\n",
       "    }\n",
       "\n",
       "    .dataframe thead th {\n",
       "        text-align: right;\n",
       "    }\n",
       "</style>\n",
       "<table border=\"1\" class=\"dataframe\">\n",
       "  <thead>\n",
       "    <tr style=\"text-align: right;\">\n",
       "      <th></th>\n",
       "      <th>importances</th>\n",
       "      <th>variables</th>\n",
       "    </tr>\n",
       "  </thead>\n",
       "  <tbody>\n",
       "    <tr>\n",
       "      <th>87</th>\n",
       "      <td>0.265513</td>\n",
       "      <td>tract</td>\n",
       "    </tr>\n",
       "    <tr>\n",
       "      <th>82</th>\n",
       "      <td>0.246260</td>\n",
       "      <td>income</td>\n",
       "    </tr>\n",
       "    <tr>\n",
       "      <th>92</th>\n",
       "      <td>0.167300</td>\n",
       "      <td>building_type</td>\n",
       "    </tr>\n",
       "    <tr>\n",
       "      <th>76</th>\n",
       "      <td>0.129312</td>\n",
       "      <td>age_of_head</td>\n",
       "    </tr>\n",
       "    <tr>\n",
       "      <th>28</th>\n",
       "      <td>0.025571</td>\n",
       "      <td>prop_black_500_walk</td>\n",
       "    </tr>\n",
       "    <tr>\n",
       "      <th>91</th>\n",
       "      <td>0.023788</td>\n",
       "      <td>hh_size_1per</td>\n",
       "    </tr>\n",
       "    <tr>\n",
       "      <th>89</th>\n",
       "      <td>0.020534</td>\n",
       "      <td>recent_mover</td>\n",
       "    </tr>\n",
       "    <tr>\n",
       "      <th>63</th>\n",
       "      <td>0.017834</td>\n",
       "      <td>jobs_2500_walk_tech</td>\n",
       "    </tr>\n",
       "    <tr>\n",
       "      <th>79</th>\n",
       "      <td>0.017376</td>\n",
       "      <td>hh_70_older</td>\n",
       "    </tr>\n",
       "    <tr>\n",
       "      <th>77</th>\n",
       "      <td>0.015577</td>\n",
       "      <td>children</td>\n",
       "    </tr>\n",
       "  </tbody>\n",
       "</table>\n",
       "</div>"
      ],
      "text/plain": [
       "    importances            variables\n",
       "87     0.265513                tract\n",
       "82     0.246260               income\n",
       "92     0.167300        building_type\n",
       "76     0.129312          age_of_head\n",
       "28     0.025571  prop_black_500_walk\n",
       "91     0.023788         hh_size_1per\n",
       "89     0.020534         recent_mover\n",
       "63     0.017834  jobs_2500_walk_tech\n",
       "79     0.017376          hh_70_older\n",
       "77     0.015577             children"
      ]
     },
     "execution_count": 53,
     "metadata": {},
     "output_type": "execute_result"
    }
   ],
   "source": [
    "aa = pd.DataFrame({'importances':clf.feature_importances_,\n",
    "                   'variables':X_train.columns}).sort_values(by = 'importances', ascending= False)\n",
    "\n",
    "# aa.plot.barh(x = 'variables', y='importances', color ='lightsteelblue')#, figsize =(15,5) )\n",
    "# plt.yticks()#(fontsize = 10)\n",
    "# plt.tight_layout()\n",
    "aa[:10]"
   ]
  },
  {
   "cell_type": "code",
   "execution_count": 54,
   "metadata": {},
   "outputs": [
    {
     "data": {
      "text/html": [
       "<div>\n",
       "<style scoped>\n",
       "    .dataframe tbody tr th:only-of-type {\n",
       "        vertical-align: middle;\n",
       "    }\n",
       "\n",
       "    .dataframe tbody tr th {\n",
       "        vertical-align: top;\n",
       "    }\n",
       "\n",
       "    .dataframe thead th {\n",
       "        text-align: right;\n",
       "    }\n",
       "</style>\n",
       "<table border=\"1\" class=\"dataframe\">\n",
       "  <thead>\n",
       "    <tr style=\"text-align: right;\">\n",
       "      <th>col_0</th>\n",
       "      <th>0</th>\n",
       "      <th>1</th>\n",
       "    </tr>\n",
       "    <tr>\n",
       "      <th>cars_alt</th>\n",
       "      <th></th>\n",
       "      <th></th>\n",
       "    </tr>\n",
       "  </thead>\n",
       "  <tbody>\n",
       "    <tr>\n",
       "      <th>0</th>\n",
       "      <td>0.422603</td>\n",
       "      <td>0.577397</td>\n",
       "    </tr>\n",
       "    <tr>\n",
       "      <th>1</th>\n",
       "      <td>0.052196</td>\n",
       "      <td>0.947804</td>\n",
       "    </tr>\n",
       "  </tbody>\n",
       "</table>\n",
       "</div>"
      ],
      "text/plain": [
       "col_0            0         1\n",
       "cars_alt                    \n",
       "0         0.422603  0.577397\n",
       "1         0.052196  0.947804"
      ]
     },
     "execution_count": 54,
     "metadata": {},
     "output_type": "execute_result"
    }
   ],
   "source": [
    "pd.crosstab( y_test, clf.predict(X_test), normalize = 'index')"
   ]
  },
  {
   "cell_type": "code",
   "execution_count": 55,
   "metadata": {},
   "outputs": [
    {
     "data": {
      "text/plain": [
       "0.9043058165040957"
      ]
     },
     "execution_count": 55,
     "metadata": {},
     "output_type": "execute_result"
    }
   ],
   "source": [
    "clf.score(X_test, y_test)"
   ]
  },
  {
   "cell_type": "markdown",
   "metadata": {},
   "source": [
    "## Random Forest"
   ]
  },
  {
   "cell_type": "code",
   "execution_count": 116,
   "metadata": {},
   "outputs": [],
   "source": [
    "from sklearn.ensemble import RandomForestClassifier"
   ]
  },
  {
   "cell_type": "code",
   "execution_count": 117,
   "metadata": {},
   "outputs": [
    {
     "data": {
      "text/plain": [
       "{'fit_time': array([38.94936776, 38.15188956, 41.07851458]),\n",
       " 'score_time': array([0.65718699, 0.61905003, 0.57831907]),\n",
       " 'test_score': array([0.5617013 , 0.52985137, 0.52904731]),\n",
       " 'train_score': array([0.64631605, 0.6767145 , 0.66101318])}"
      ]
     },
     "execution_count": 117,
     "metadata": {},
     "output_type": "execute_result"
    }
   ],
   "source": [
    "clf = RandomForestClassifier(n_estimators=100,criterion='entropy',max_depth=20)\n",
    "scores = cross_validate(clf, X_train, y_train.cars_alt, cv=3, return_train_score=True)\n",
    "scores"
   ]
  },
  {
   "cell_type": "code",
   "execution_count": 254,
   "metadata": {},
   "outputs": [
    {
     "data": {
      "text/plain": [
       "(438258, 1)"
      ]
     },
     "execution_count": 254,
     "metadata": {},
     "output_type": "execute_result"
    }
   ],
   "source": [
    "y_train.shape"
   ]
  },
  {
   "cell_type": "code",
   "execution_count": 39,
   "metadata": {},
   "outputs": [],
   "source": [
    "# clf = RandomForestClassifier(n_estimators=1500,criterion='entropy',max_depth=20)\n",
    "# clf.fit(X_train, y_train)"
   ]
  },
  {
   "cell_type": "code",
   "execution_count": null,
   "metadata": {},
   "outputs": [],
   "source": [
    "aa = pd.DataFrame({'importances':clf.feature_importances_,\n",
    "                   'variables':X_train.columns}).sort_values(by = 'importances', ascending= False)\n",
    "\n",
    "# aa.plot.barh(x = 'variables', y='importances', color ='lightsteelblue')#, figsize =(15,5) )\n",
    "# plt.yticks()#(fontsize = 10)\n",
    "# plt.tight_layout()\n",
    "aa[:10]"
   ]
  },
  {
   "cell_type": "code",
   "execution_count": null,
   "metadata": {},
   "outputs": [],
   "source": [
    "pd.crosstab( y_test.cars_alt, clf.predict(X_test), normalize = 'index')"
   ]
  },
  {
   "cell_type": "code",
   "execution_count": null,
   "metadata": {},
   "outputs": [],
   "source": [
    "clf.score(X_test, y_test)"
   ]
  },
  {
   "cell_type": "code",
   "execution_count": null,
   "metadata": {},
   "outputs": [],
   "source": []
  },
  {
   "cell_type": "code",
   "execution_count": 40,
   "metadata": {},
   "outputs": [],
   "source": [
    "# result_train_rf = []\n",
    "# result_test_rf = []\n",
    "# tree_num = range(100,1001,100)\n",
    "# for i in tree_num:\n",
    "#     clf = RandomForestClassifier(n_estimators=i,criterion='entropy',max_depth=20)\n",
    "#     scores = cross_validate(clf, X_train, y_train.cars_alt, cv=3, return_train_score=True)\n",
    "#     result_train_rf.append(scores['train_score'].mean())\n",
    "#     result_test_rf.append(scores['test_score'].mean()) \n",
    "\n",
    "# plt.figure()\n",
    "# plt.plot(tree_num, result_train_rf, '-o',color='blue',label='Train')\n",
    "# plt.plot(tree_num, result_test_rf, '-o',color='red',label='Test')\n",
    "# plt.xlabel('Number of trees')\n",
    "# plt.ylabel('Accuracy')\n",
    "# plt.legend()"
   ]
  },
  {
   "cell_type": "code",
   "execution_count": null,
   "metadata": {
    "scrolled": true
   },
   "outputs": [],
   "source": [
    "clf_rf = RandomForestClassifier(criterion='entropy',max_depth=30, n_estimators=50)\n",
    "# scores = cross_validate(clf, X_train, y_train, cv=3, return_train_score=True)\n",
    "# print (scores)\n",
    "\n",
    "clf_rf.fit(X_train, y_train)\n",
    "\n",
    "aa = pd.DataFrame({'importances':clf_rf.feature_importances_,\n",
    "                   'variables':X_train.columns}).sort_values(by = 'importances', ascending= True)\n",
    "\n",
    "aa.plot.barh(x = 'variables', y='importances', color ='lightsteelblue')#, figsize =(15,5) )\n",
    "plt.yticks()#(fontsize = 10)\n",
    "plt.tight_layout()\n"
   ]
  },
  {
   "cell_type": "code",
   "execution_count": null,
   "metadata": {},
   "outputs": [],
   "source": [
    "pd.crosstab( y_test, clf_rf.predict(X_test),normalize = 'index')"
   ]
  },
  {
   "cell_type": "code",
   "execution_count": 180,
   "metadata": {},
   "outputs": [
    {
     "data": {
      "text/plain": [
       "0.9226607027788842"
      ]
     },
     "execution_count": 180,
     "metadata": {},
     "output_type": "execute_result"
    }
   ],
   "source": [
    "clf_rf.score(X_test, y_test)"
   ]
  },
  {
   "cell_type": "markdown",
   "metadata": {},
   "source": [
    "## Nueral network"
   ]
  },
  {
   "cell_type": "code",
   "execution_count": null,
   "metadata": {},
   "outputs": [],
   "source": [
    "from sklearn.neural_network import MLPClassifier"
   ]
  },
  {
   "cell_type": "code",
   "execution_count": null,
   "metadata": {},
   "outputs": [],
   "source": []
  }
 ],
 "metadata": {
  "kernelspec": {
   "display_name": "Python 3",
   "language": "python",
   "name": "python3"
  },
  "language_info": {
   "codemirror_mode": {
    "name": "ipython",
    "version": 3
   },
   "file_extension": ".py",
   "mimetype": "text/x-python",
   "name": "python",
   "nbconvert_exporter": "python",
   "pygments_lexer": "ipython3",
   "version": "3.6.7"
  }
 },
 "nbformat": 4,
 "nbformat_minor": 2
}
