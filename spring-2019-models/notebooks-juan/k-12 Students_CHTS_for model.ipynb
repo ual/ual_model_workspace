{
 "cells": [
  {
   "cell_type": "code",
   "execution_count": 1,
   "metadata": {},
   "outputs": [],
   "source": [
    "import orca\n",
    "import pandana as pdna\n",
    "import pandas as pd\n",
    "import scipy.stats as st\n",
    "import numpy as np\n",
    "import os\n",
    "\n",
    "from urbansim.utils import networks\n",
    "from urbansim_templates import modelmanager as mm\n",
    "from urbansim_templates.models import LargeMultinomialLogitStep\n",
    "\n",
    "from urbansim.utils import misc\n",
    "\n",
    "from difflib import SequenceMatcher\n",
    "\n",
    "import warnings\n",
    "warnings.filterwarnings(\"ignore\")"
   ]
  },
  {
   "cell_type": "markdown",
   "metadata": {},
   "source": [
    "# Loading the data"
   ]
  },
  {
   "cell_type": "code",
   "execution_count": 33,
   "metadata": {
    "scrolled": true
   },
   "outputs": [],
   "source": [
    "# Set data directory\n",
    "d = '/home/data/fall_2018/'\n",
    "\n",
    "if 'data_directory' in orca.list_injectables():\n",
    "    d = orca.get_injectable('data_directory')\n",
    "    \n",
    "# School database \n",
    "schools = pd.read_csv('schools.csv')\n",
    "\n",
    "#CHTS data\n",
    "@orca.table(cache=True)\n",
    "def persons():\n",
    "    df = pd.read_csv(\n",
    "        d + 'chts_persons_w_zone_ids.csv',\n",
    "        index_col = [\"SAMPN\", \"PERNO\"]\n",
    "    )\n",
    "    return df\n",
    "\n",
    "# Schools standard name transformation \n",
    "s_name = pd.read_excel('chts school cleaning.xlsx', \n",
    "                       names=['SAMPN', 'PERNO', 'SNAME_lookup_y', 'SNAME',\n",
    "                                 'SZIP_lookup_y', 'SZIP', 'SCITY_lookup_y', 'SCITY',\n",
    "                                  'similarity', 'Matched?' ])\n",
    "# os.listdir(\"/home/data/CHTS_csv_format/data\")"
   ]
  },
  {
   "cell_type": "markdown",
   "metadata": {},
   "source": [
    "# Cleaning school database"
   ]
  },
  {
   "cell_type": "code",
   "execution_count": 34,
   "metadata": {},
   "outputs": [],
   "source": [
    "# School database \n",
    "schools['School'] = schools['School'].str.lower()\n",
    "schools['City'] = schools['City'].str.lower()\n",
    "schools.Zip = [x[:5] for x in schools.Zip]\n",
    "schools['school_city_zip'] = schools['School'] + ' '+ schools['City'] + '' + schools['Zip']"
   ]
  },
  {
   "cell_type": "markdown",
   "metadata": {},
   "source": [
    "# Cleaning CHTS "
   ]
  },
  {
   "cell_type": "code",
   "execution_count": 35,
   "metadata": {},
   "outputs": [
    {
     "data": {
      "text/plain": [
       "(3385, 203)"
      ]
     },
     "execution_count": 35,
     "metadata": {},
     "output_type": "execute_result"
    }
   ],
   "source": [
    "#Create a dataframe for persons data. \n",
    "persons = orca.get_table('persons').to_frame()\n",
    "\n",
    "#Create a dataframe selects person that are students. \n",
    "students = persons.loc[persons['STUDE'].isin([1, 2])# full time & part time students\n",
    "                 & persons['SCHOL'].isin([3,  # Kindergarten to grade 8\n",
    "                                          4])  # Grades 9 to 12 \n",
    "                 & (~persons['SNAME_lookup'].isna()) \n",
    "                 & (persons['SNAME_lookup'] != \"DK/RF\")]\n",
    "\n",
    "#Standarazing school names\n",
    "students = pd.merge(students, s_name, how=\"outer\", on=['SAMPN', 'PERNO'])\n",
    "\n",
    "#Deleting unmatched schools \n",
    "students = students[students.SNAME != 'DELETE']\n",
    "students = students[students['Matched?'] != 'INCLUDE']\n",
    "students = students.reset_index()\n",
    "\n",
    "#CLEANING: \n",
    "#School and city name in lowercase \n",
    "students['SNAME'] = students['SNAME'].str.lower()\n",
    "students['SCITY'] = students['SCITY'].str.lower()\n",
    "students['SNAME_lookup'] = students['SNAME_lookup'].str.lower()\n",
    "students['SCITY_lookup'] = students['SCITY_lookup'].str.lower()\n",
    "\n",
    "#String zipcode with 5 characters. \n",
    "students['SZIP'] = students['SZIP'].astype(str)\n",
    "students['SZIP'] = [x[:5] for x in students['SZIP']]\n",
    "students['SZIP_lookup'] = students['SZIP_lookup'].astype(str)\n",
    "students['SZIP_lookup'] = [x[:5] for x in students['SZIP_lookup']]\n",
    "\n",
    "# Deleting the word school from school name\n",
    "students['SNAME_lookup'] = [x.replace(' school', '') for x in students['SNAME_lookup']]\n",
    "\n",
    "# Creting school + zipcode in 1 column\n",
    "students['NAME_CITY_ZIP_lookup'] = students['SNAME_lookup'] + ' ' +students['SCITY_lookup']+' ' + students['SZIP_lookup']\n",
    "\n",
    "# #CREATING A CHTS SCHOOL DATABASE\n",
    "# # schools_chts = students.groupby(by=[\"SNAME_lookup\", \"SZIP_lookup\"]).agg({\"RELAT\": 'count'})\n",
    "# schools_chts = students.groupby(by=[\"SNAME\", \"SZIP\", \"SCITY\"]).size().reset_index(name='enrollment')\n",
    "# schools_chts\n",
    "students.shape"
   ]
  },
  {
   "cell_type": "markdown",
   "metadata": {},
   "source": [
    "## Merging CHTS and school dataset"
   ]
  },
  {
   "cell_type": "code",
   "execution_count": 63,
   "metadata": {},
   "outputs": [
    {
     "data": {
      "text/plain": [
       "(1110,)"
      ]
     },
     "execution_count": 63,
     "metadata": {},
     "output_type": "execute_result"
    }
   ],
   "source": [
    "students_standarize_school_name = pd.merge(students, schools.loc[:,['School', 'Zip','CDSCode']], \n",
    "                    how=\"left\", left_on=['SNAME', 'SZIP'],\n",
    "                       right_on = ['School', 'Zip'])\n",
    "\n",
    "#Checking the number of unique schools\n",
    "students_standarize_school_name.groupby(by = 'SNAME').size().shape"
   ]
  },
  {
   "cell_type": "code",
   "execution_count": 64,
   "metadata": {},
   "outputs": [],
   "source": [
    "#Assinging studnets to Keys Family Day School according to their age (Same school name but different grades)\n",
    "mask = (students_standarize_school_name.CDSCode == '43696416141899') & (students_standarize_school_name.AGE > 10)\n",
    "students_standarize_school_name = students_standarize_school_name[~mask]"
   ]
  },
  {
   "cell_type": "code",
   "execution_count": 65,
   "metadata": {},
   "outputs": [],
   "source": [
    "students_standarize_school_name.to_csv('students_standarize_school_name.csv') #Exporting the database to excel"
   ]
  },
  {
   "cell_type": "markdown",
   "metadata": {},
   "source": [
    "## Additional code\n",
    "#### Do not run!!"
   ]
  },
  {
   "cell_type": "code",
   "execution_count": 69,
   "metadata": {},
   "outputs": [],
   "source": [
    "def similar(a, b):\n",
    "    return SequenceMatcher(None, a, b).ratio()\n",
    "\n",
    "#Calculates the similarity index for each school + city + zipcode\n",
    "max_probabilities = []\n",
    "max_probabilities_index = []\n",
    "\n",
    "for school in students['NAME_CITY_ZIP_lookup']:\n",
    "    prob = []\n",
    "    for name in schools['school_city_zip']:\n",
    "        similar_probaility = similar(name, school)\n",
    "        prob.append(similar_probaility)\n",
    "    \n",
    "    max_prob = np.max(prob)\n",
    "    max_prob_index = np.argsort(prob)[-10:]\n",
    "    max_probabilities.append(max_prob)\n",
    "    max_probabilities_index.append(max_prob_index)\n",
    "\n",
    "len(max_probabilities)\n",
    "\n",
    "# Assignes the value with the greates similairty index to each school in CHTS observation. \n",
    "schools['School'][max_probabilities_index[0][9]]\n",
    "school_name = [schools['School'][max_probabilities_index[x][9]] for x in range(len(max_probabilities_index))]\n",
    "school_zipcode = [schools['Zip'][max_probabilities_index[x][9]] for x in range(len(max_probabilities_index))]\n",
    "school_city = [schools['City'][max_probabilities_index[x][9]] for x in range(len(max_probabilities_index))]\n",
    "\n",
    "#Add de assigned values to a unique dataframe\n",
    "students['SNAME_similarity_resulst'] = school_name\n",
    "students['ZipCode'] = school_zipcode\n",
    "students['CityName'] = school_city\n",
    "students['similarity'] = max_probabilities\n",
    "\n",
    "#Export restul to excel for human verification \n",
    "students.loc[:,['SNAME_lookup', 'SZIP_lookup',\n",
    "                'SCITY_lookup' ,'SNAME_similarity_resulst',\n",
    "                'ZipCode', 'CityName','similarity' ]].to_csv('merge_school.csv')"
   ]
  },
  {
   "cell_type": "code",
   "execution_count": null,
   "metadata": {},
   "outputs": [],
   "source": []
  }
 ],
 "metadata": {
  "kernelspec": {
   "display_name": "Python 3",
   "language": "python",
   "name": "python3"
  },
  "language_info": {
   "codemirror_mode": {
    "name": "ipython",
    "version": 3
   },
   "file_extension": ".py",
   "mimetype": "text/x-python",
   "name": "python",
   "nbconvert_exporter": "python",
   "pygments_lexer": "ipython3",
   "version": "3.6.7"
  }
 },
 "nbformat": 4,
 "nbformat_minor": 2
}
