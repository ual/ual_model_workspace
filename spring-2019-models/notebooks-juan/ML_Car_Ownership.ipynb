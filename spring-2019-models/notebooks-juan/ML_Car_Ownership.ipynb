{
 "cells": [
  {
   "cell_type": "code",
   "execution_count": 1,
   "metadata": {},
   "outputs": [],
   "source": [
    "import warnings;\n",
    "warnings.simplefilter('ignore')"
   ]
  },
  {
   "cell_type": "code",
   "execution_count": 6,
   "metadata": {},
   "outputs": [],
   "source": [
    "from urbansim_templates import modelmanager as mm\n",
    "from urbansim_templates.models import LargeMultinomialLogitStep\n",
    "import orca\n",
    "import os; os.chdir('../')\n",
    "\n",
    "import pandas as pd\n",
    "import numpy as np\n",
    "\n",
    "from scripts import datasources\n",
    "from scripts import models\n",
    "from scripts import variables"
   ]
  },
  {
   "cell_type": "code",
   "execution_count": 7,
   "metadata": {},
   "outputs": [],
   "source": [
    "# mm.initialize()"
   ]
  },
  {
   "cell_type": "markdown",
   "metadata": {},
   "source": [
    "## Generating accesibility variables"
   ]
  },
  {
   "cell_type": "code",
   "execution_count": 8,
   "metadata": {},
   "outputs": [
    {
     "name": "stdout",
     "output_type": "stream",
     "text": [
      "Running step 'initialize_network_small'\n",
      "Time to execute step 'initialize_network_small': 0.00 s\n",
      "Running step 'network_aggregations_small'\n",
      "Computing accessibility variables\n"
     ]
    },
    {
     "ename": "FileNotFoundError",
     "evalue": "[Errno 2] No such file or directory: './configs/network_aggregations_small.yaml'",
     "output_type": "error",
     "traceback": [
      "\u001b[0;31m---------------------------------------------------------------------------\u001b[0m",
      "\u001b[0;31mFileNotFoundError\u001b[0m                         Traceback (most recent call last)",
      "\u001b[0;32m<ipython-input-8-351d12519384>\u001b[0m in \u001b[0;36m<module>\u001b[0;34m\u001b[0m\n\u001b[0;32m----> 1\u001b[0;31m \u001b[0morca\u001b[0m\u001b[0;34m.\u001b[0m\u001b[0mrun\u001b[0m\u001b[0;34m(\u001b[0m\u001b[0;34m[\u001b[0m\u001b[0;34m'initialize_network_small'\u001b[0m\u001b[0;34m,\u001b[0m \u001b[0;34m'network_aggregations_small'\u001b[0m\u001b[0;34m]\u001b[0m\u001b[0;34m)\u001b[0m\u001b[0;34m\u001b[0m\u001b[0;34m\u001b[0m\u001b[0m\n\u001b[0m",
      "\u001b[0;32m~/anaconda3/envs/template-env/lib/python3.6/site-packages/orca/orca.py\u001b[0m in \u001b[0;36mrun\u001b[0;34m(steps, iter_vars, data_out, out_interval, out_base_tables, out_run_tables, compress, out_base_local, out_run_local)\u001b[0m\n\u001b[1;32m   1990\u001b[0m                 \u001b[0mstep\u001b[0m \u001b[0;34m=\u001b[0m \u001b[0mget_step\u001b[0m\u001b[0;34m(\u001b[0m\u001b[0mstep_name\u001b[0m\u001b[0;34m)\u001b[0m\u001b[0;34m\u001b[0m\u001b[0;34m\u001b[0m\u001b[0m\n\u001b[1;32m   1991\u001b[0m                 \u001b[0mt2\u001b[0m \u001b[0;34m=\u001b[0m \u001b[0mtime\u001b[0m\u001b[0;34m.\u001b[0m\u001b[0mtime\u001b[0m\u001b[0;34m(\u001b[0m\u001b[0;34m)\u001b[0m\u001b[0;34m\u001b[0m\u001b[0;34m\u001b[0m\u001b[0m\n\u001b[0;32m-> 1992\u001b[0;31m                 \u001b[0mstep\u001b[0m\u001b[0;34m(\u001b[0m\u001b[0;34m)\u001b[0m\u001b[0;34m\u001b[0m\u001b[0;34m\u001b[0m\u001b[0m\n\u001b[0m\u001b[1;32m   1993\u001b[0m                 print(\"Time to execute step '{}': {:.2f} s\".format(\n\u001b[1;32m   1994\u001b[0m                       step_name, time.time() - t2))\n",
      "\u001b[0;32m~/anaconda3/envs/template-env/lib/python3.6/site-packages/orca/orca.py\u001b[0m in \u001b[0;36m__call__\u001b[0;34m(self)\u001b[0m\n\u001b[1;32m    795\u001b[0m             kwargs = _collect_variables(names=self._argspec.args,\n\u001b[1;32m    796\u001b[0m                                         expressions=self._argspec.defaults)\n\u001b[0;32m--> 797\u001b[0;31m             \u001b[0;32mreturn\u001b[0m \u001b[0mself\u001b[0m\u001b[0;34m.\u001b[0m\u001b[0m_func\u001b[0m\u001b[0;34m(\u001b[0m\u001b[0;34m**\u001b[0m\u001b[0mkwargs\u001b[0m\u001b[0;34m)\u001b[0m\u001b[0;34m\u001b[0m\u001b[0;34m\u001b[0m\u001b[0m\n\u001b[0m\u001b[1;32m    798\u001b[0m \u001b[0;34m\u001b[0m\u001b[0m\n\u001b[1;32m    799\u001b[0m     \u001b[0;32mdef\u001b[0m \u001b[0m_tables_used\u001b[0m\u001b[0;34m(\u001b[0m\u001b[0mself\u001b[0m\u001b[0;34m)\u001b[0m\u001b[0;34m:\u001b[0m\u001b[0;34m\u001b[0m\u001b[0;34m\u001b[0m\u001b[0m\n",
      "\u001b[0;32m~/ual_model_workspace/spring-2019-models/scripts/models.py\u001b[0m in \u001b[0;36mnetwork_aggregations_small\u001b[0;34m(netsmall)\u001b[0m\n\u001b[1;32m     89\u001b[0m     \"\"\"\n\u001b[1;32m     90\u001b[0m     nodessmall = networks.from_yaml(\n\u001b[0;32m---> 91\u001b[0;31m         netsmall, 'network_aggregations_small.yaml')\n\u001b[0m\u001b[1;32m     92\u001b[0m     \u001b[0mnodessmall\u001b[0m \u001b[0;34m=\u001b[0m \u001b[0mnodessmall\u001b[0m\u001b[0;34m.\u001b[0m\u001b[0mfillna\u001b[0m\u001b[0;34m(\u001b[0m\u001b[0;36m0\u001b[0m\u001b[0;34m)\u001b[0m\u001b[0;34m\u001b[0m\u001b[0;34m\u001b[0m\u001b[0m\n\u001b[1;32m     93\u001b[0m \u001b[0;34m\u001b[0m\u001b[0m\n",
      "\u001b[0;32m~/anaconda3/envs/template-env/lib/python3.6/site-packages/urbansim-3.1.1-py3.6.egg/urbansim/utils/networks.py\u001b[0m in \u001b[0;36mfrom_yaml\u001b[0;34m(net, cfgname)\u001b[0m\n\u001b[1;32m     16\u001b[0m \u001b[0;32mdef\u001b[0m \u001b[0mfrom_yaml\u001b[0m\u001b[0;34m(\u001b[0m\u001b[0mnet\u001b[0m\u001b[0;34m,\u001b[0m \u001b[0mcfgname\u001b[0m\u001b[0;34m)\u001b[0m\u001b[0;34m:\u001b[0m\u001b[0;34m\u001b[0m\u001b[0;34m\u001b[0m\u001b[0m\n\u001b[1;32m     17\u001b[0m     \u001b[0mprint\u001b[0m\u001b[0;34m(\u001b[0m\u001b[0;34m\"Computing accessibility variables\"\u001b[0m\u001b[0;34m)\u001b[0m\u001b[0;34m\u001b[0m\u001b[0;34m\u001b[0m\u001b[0m\n\u001b[0;32m---> 18\u001b[0;31m     \u001b[0mcfg\u001b[0m \u001b[0;34m=\u001b[0m \u001b[0myaml\u001b[0m\u001b[0;34m.\u001b[0m\u001b[0mload\u001b[0m\u001b[0;34m(\u001b[0m\u001b[0mopen\u001b[0m\u001b[0;34m(\u001b[0m\u001b[0mmisc\u001b[0m\u001b[0;34m.\u001b[0m\u001b[0mconfig\u001b[0m\u001b[0;34m(\u001b[0m\u001b[0mcfgname\u001b[0m\u001b[0;34m)\u001b[0m\u001b[0;34m)\u001b[0m\u001b[0;34m)\u001b[0m\u001b[0;34m\u001b[0m\u001b[0;34m\u001b[0m\u001b[0m\n\u001b[0m\u001b[1;32m     19\u001b[0m \u001b[0;34m\u001b[0m\u001b[0m\n\u001b[1;32m     20\u001b[0m     \u001b[0mnodes\u001b[0m \u001b[0;34m=\u001b[0m \u001b[0mpd\u001b[0m\u001b[0;34m.\u001b[0m\u001b[0mDataFrame\u001b[0m\u001b[0;34m(\u001b[0m\u001b[0mindex\u001b[0m\u001b[0;34m=\u001b[0m\u001b[0mnet\u001b[0m\u001b[0;34m.\u001b[0m\u001b[0mnode_ids\u001b[0m\u001b[0;34m)\u001b[0m\u001b[0;34m\u001b[0m\u001b[0;34m\u001b[0m\u001b[0m\n",
      "\u001b[0;31mFileNotFoundError\u001b[0m: [Errno 2] No such file or directory: './configs/network_aggregations_small.yaml'"
     ]
    }
   ],
   "source": [
    "orca.run(['initialize_network_small', 'network_aggregations_small'])"
   ]
  },
  {
   "cell_type": "code",
   "execution_count": null,
   "metadata": {},
   "outputs": [],
   "source": [
    "orca.run(['initialize_network_walk', 'network_aggregations_walk'])"
   ]
  },
  {
   "cell_type": "markdown",
   "metadata": {},
   "source": [
    "## Loading data"
   ]
  },
  {
   "cell_type": "code",
   "execution_count": 4,
   "metadata": {},
   "outputs": [
    {
     "ename": "KeyError",
     "evalue": "'netsmall'",
     "output_type": "error",
     "traceback": [
      "\u001b[0;31m---------------------------------------------------------------------------\u001b[0m",
      "\u001b[0;31mKeyError\u001b[0m                                  Traceback (most recent call last)",
      "\u001b[0;32m<ipython-input-4-3421b58b74d7>\u001b[0m in \u001b[0;36m<module>\u001b[0;34m\u001b[0m\n\u001b[1;32m      6\u001b[0m     \u001b[0;32mreturn\u001b[0m \u001b[0mdf\u001b[0m\u001b[0;34m\u001b[0m\u001b[0;34m\u001b[0m\u001b[0m\n\u001b[1;32m      7\u001b[0m \u001b[0;34m\u001b[0m\u001b[0m\n\u001b[0;32m----> 8\u001b[0;31m \u001b[0mhouseholds\u001b[0m \u001b[0;34m=\u001b[0m \u001b[0morca\u001b[0m\u001b[0;34m.\u001b[0m\u001b[0mget_table\u001b[0m\u001b[0;34m(\u001b[0m\u001b[0;34m'households'\u001b[0m\u001b[0;34m)\u001b[0m\u001b[0;34m.\u001b[0m\u001b[0mto_frame\u001b[0m\u001b[0;34m(\u001b[0m\u001b[0;34m)\u001b[0m\u001b[0;34m\u001b[0m\u001b[0;34m\u001b[0m\u001b[0m\n\u001b[0m\u001b[1;32m      9\u001b[0m \u001b[0mpersons\u001b[0m \u001b[0;34m=\u001b[0m \u001b[0morca\u001b[0m\u001b[0;34m.\u001b[0m\u001b[0mget_table\u001b[0m\u001b[0;34m(\u001b[0m\u001b[0;34m'persons'\u001b[0m\u001b[0;34m)\u001b[0m\u001b[0;34m.\u001b[0m\u001b[0mto_frame\u001b[0m\u001b[0;34m(\u001b[0m\u001b[0;34m)\u001b[0m\u001b[0;34m\u001b[0m\u001b[0;34m\u001b[0m\u001b[0m\n\u001b[1;32m     10\u001b[0m \u001b[0mparcels\u001b[0m \u001b[0;34m=\u001b[0m \u001b[0morca\u001b[0m\u001b[0;34m.\u001b[0m\u001b[0mget_table\u001b[0m\u001b[0;34m(\u001b[0m\u001b[0;34m'parcels'\u001b[0m\u001b[0;34m)\u001b[0m\u001b[0;34m.\u001b[0m\u001b[0mto_frame\u001b[0m\u001b[0;34m(\u001b[0m\u001b[0;34m)\u001b[0m\u001b[0;34m\u001b[0m\u001b[0;34m\u001b[0m\u001b[0m\n",
      "\u001b[0;32m~/anaconda3/envs/template-env/lib/python3.6/site-packages/orca/orca.py\u001b[0m in \u001b[0;36mto_frame\u001b[0;34m(self, columns)\u001b[0m\n\u001b[1;32m    233\u001b[0m                             name, self.name),\n\u001b[1;32m    234\u001b[0m                         logger):\n\u001b[0;32m--> 235\u001b[0;31m                     \u001b[0mdf\u001b[0m\u001b[0;34m[\u001b[0m\u001b[0mname\u001b[0m\u001b[0;34m]\u001b[0m \u001b[0;34m=\u001b[0m \u001b[0mcol\u001b[0m\u001b[0;34m(\u001b[0m\u001b[0;34m)\u001b[0m\u001b[0;34m\u001b[0m\u001b[0;34m\u001b[0m\u001b[0m\n\u001b[0m\u001b[1;32m    236\u001b[0m \u001b[0;34m\u001b[0m\u001b[0m\n\u001b[1;32m    237\u001b[0m         \u001b[0;32mreturn\u001b[0m \u001b[0mdf\u001b[0m\u001b[0;34m\u001b[0m\u001b[0;34m\u001b[0m\u001b[0m\n",
      "\u001b[0;32m~/anaconda3/envs/template-env/lib/python3.6/site-packages/orca/orca.py\u001b[0m in \u001b[0;36m__call__\u001b[0;34m(self)\u001b[0m\n\u001b[1;32m    637\u001b[0m             kwargs = _collect_variables(names=self._argspec.args,\n\u001b[1;32m    638\u001b[0m                                         expressions=self._argspec.defaults)\n\u001b[0;32m--> 639\u001b[0;31m             \u001b[0mcol\u001b[0m \u001b[0;34m=\u001b[0m \u001b[0mself\u001b[0m\u001b[0;34m.\u001b[0m\u001b[0m_func\u001b[0m\u001b[0;34m(\u001b[0m\u001b[0;34m**\u001b[0m\u001b[0mkwargs\u001b[0m\u001b[0;34m)\u001b[0m\u001b[0;34m\u001b[0m\u001b[0;34m\u001b[0m\u001b[0m\n\u001b[0m\u001b[1;32m    640\u001b[0m \u001b[0;34m\u001b[0m\u001b[0m\n\u001b[1;32m    641\u001b[0m         \u001b[0;32mif\u001b[0m \u001b[0mself\u001b[0m\u001b[0;34m.\u001b[0m\u001b[0mcache\u001b[0m\u001b[0;34m:\u001b[0m\u001b[0;34m\u001b[0m\u001b[0;34m\u001b[0m\u001b[0m\n",
      "\u001b[0;32m~/ual_model_workspace/spring-2019-models/scripts/variables.py\u001b[0m in \u001b[0;36mnode_id_small\u001b[0;34m(units, households)\u001b[0m\n\u001b[1;32m     34\u001b[0m \u001b[0;34m@\u001b[0m\u001b[0morca\u001b[0m\u001b[0;34m.\u001b[0m\u001b[0mcolumn\u001b[0m\u001b[0;34m(\u001b[0m\u001b[0;34m'households'\u001b[0m\u001b[0;34m)\u001b[0m\u001b[0;34m\u001b[0m\u001b[0;34m\u001b[0m\u001b[0m\n\u001b[1;32m     35\u001b[0m \u001b[0;32mdef\u001b[0m \u001b[0mnode_id_small\u001b[0m\u001b[0;34m(\u001b[0m\u001b[0munits\u001b[0m\u001b[0;34m,\u001b[0m \u001b[0mhouseholds\u001b[0m\u001b[0;34m)\u001b[0m\u001b[0;34m:\u001b[0m\u001b[0;34m\u001b[0m\u001b[0;34m\u001b[0m\u001b[0m\n\u001b[0;32m---> 36\u001b[0;31m     \u001b[0;32mreturn\u001b[0m \u001b[0mmisc\u001b[0m\u001b[0;34m.\u001b[0m\u001b[0mreindex\u001b[0m\u001b[0;34m(\u001b[0m\u001b[0munits\u001b[0m\u001b[0;34m.\u001b[0m\u001b[0mnode_id_small\u001b[0m\u001b[0;34m,\u001b[0m \u001b[0mhouseholds\u001b[0m\u001b[0;34m.\u001b[0m\u001b[0munit_id\u001b[0m\u001b[0;34m)\u001b[0m\u001b[0;34m\u001b[0m\u001b[0;34m\u001b[0m\u001b[0m\n\u001b[0m\u001b[1;32m     37\u001b[0m \u001b[0;34m\u001b[0m\u001b[0m\n\u001b[1;32m     38\u001b[0m \u001b[0;34m\u001b[0m\u001b[0m\n",
      "\u001b[0;32m~/anaconda3/envs/template-env/lib/python3.6/site-packages/orca/orca.py\u001b[0m in \u001b[0;36m__getattr__\u001b[0;34m(self, key)\u001b[0m\n\u001b[1;32m    291\u001b[0m \u001b[0;34m\u001b[0m\u001b[0m\n\u001b[1;32m    292\u001b[0m     \u001b[0;32mdef\u001b[0m \u001b[0m__getattr__\u001b[0m\u001b[0;34m(\u001b[0m\u001b[0mself\u001b[0m\u001b[0;34m,\u001b[0m \u001b[0mkey\u001b[0m\u001b[0;34m)\u001b[0m\u001b[0;34m:\u001b[0m\u001b[0;34m\u001b[0m\u001b[0;34m\u001b[0m\u001b[0m\n\u001b[0;32m--> 293\u001b[0;31m         \u001b[0;32mreturn\u001b[0m \u001b[0mself\u001b[0m\u001b[0;34m.\u001b[0m\u001b[0mget_column\u001b[0m\u001b[0;34m(\u001b[0m\u001b[0mkey\u001b[0m\u001b[0;34m)\u001b[0m\u001b[0;34m\u001b[0m\u001b[0;34m\u001b[0m\u001b[0m\n\u001b[0m\u001b[1;32m    294\u001b[0m \u001b[0;34m\u001b[0m\u001b[0m\n\u001b[1;32m    295\u001b[0m     \u001b[0;32mdef\u001b[0m \u001b[0mcolumn_type\u001b[0m\u001b[0;34m(\u001b[0m\u001b[0mself\u001b[0m\u001b[0;34m,\u001b[0m \u001b[0mcolumn_name\u001b[0m\u001b[0;34m)\u001b[0m\u001b[0;34m:\u001b[0m\u001b[0;34m\u001b[0m\u001b[0;34m\u001b[0m\u001b[0m\n",
      "\u001b[0;32m~/anaconda3/envs/template-env/lib/python3.6/site-packages/orca/orca.py\u001b[0m in \u001b[0;36mget_column\u001b[0;34m(self, column_name)\u001b[0m\n\u001b[1;32m    279\u001b[0m                             column_name, self.name),\n\u001b[1;32m    280\u001b[0m                         logger):\n\u001b[0;32m--> 281\u001b[0;31m                     \u001b[0mcolumn\u001b[0m \u001b[0;34m=\u001b[0m \u001b[0mextra_cols\u001b[0m\u001b[0;34m[\u001b[0m\u001b[0mcolumn_name\u001b[0m\u001b[0;34m]\u001b[0m\u001b[0;34m(\u001b[0m\u001b[0;34m)\u001b[0m\u001b[0;34m\u001b[0m\u001b[0;34m\u001b[0m\u001b[0m\n\u001b[0m\u001b[1;32m    282\u001b[0m             \u001b[0;32melse\u001b[0m\u001b[0;34m:\u001b[0m\u001b[0;34m\u001b[0m\u001b[0;34m\u001b[0m\u001b[0m\n\u001b[1;32m    283\u001b[0m                 \u001b[0mcolumn\u001b[0m \u001b[0;34m=\u001b[0m \u001b[0mself\u001b[0m\u001b[0;34m.\u001b[0m\u001b[0mlocal\u001b[0m\u001b[0;34m[\u001b[0m\u001b[0mcolumn_name\u001b[0m\u001b[0;34m]\u001b[0m\u001b[0;34m\u001b[0m\u001b[0;34m\u001b[0m\u001b[0m\n",
      "\u001b[0;32m~/anaconda3/envs/template-env/lib/python3.6/site-packages/orca/orca.py\u001b[0m in \u001b[0;36m__call__\u001b[0;34m(self)\u001b[0m\n\u001b[1;32m    637\u001b[0m             kwargs = _collect_variables(names=self._argspec.args,\n\u001b[1;32m    638\u001b[0m                                         expressions=self._argspec.defaults)\n\u001b[0;32m--> 639\u001b[0;31m             \u001b[0mcol\u001b[0m \u001b[0;34m=\u001b[0m \u001b[0mself\u001b[0m\u001b[0;34m.\u001b[0m\u001b[0m_func\u001b[0m\u001b[0;34m(\u001b[0m\u001b[0;34m**\u001b[0m\u001b[0mkwargs\u001b[0m\u001b[0;34m)\u001b[0m\u001b[0;34m\u001b[0m\u001b[0;34m\u001b[0m\u001b[0m\n\u001b[0m\u001b[1;32m    640\u001b[0m \u001b[0;34m\u001b[0m\u001b[0m\n\u001b[1;32m    641\u001b[0m         \u001b[0;32mif\u001b[0m \u001b[0mself\u001b[0m\u001b[0;34m.\u001b[0m\u001b[0mcache\u001b[0m\u001b[0;34m:\u001b[0m\u001b[0;34m\u001b[0m\u001b[0;34m\u001b[0m\u001b[0m\n",
      "\u001b[0;32m~/ual_model_workspace/spring-2019-models/scripts/variables.py\u001b[0m in \u001b[0;36mnode_id_small\u001b[0;34m(buildings, units)\u001b[0m\n\u001b[1;32m     29\u001b[0m \u001b[0;34m@\u001b[0m\u001b[0morca\u001b[0m\u001b[0;34m.\u001b[0m\u001b[0mcolumn\u001b[0m\u001b[0;34m(\u001b[0m\u001b[0;34m'units'\u001b[0m\u001b[0;34m)\u001b[0m\u001b[0;34m\u001b[0m\u001b[0;34m\u001b[0m\u001b[0m\n\u001b[1;32m     30\u001b[0m \u001b[0;32mdef\u001b[0m \u001b[0mnode_id_small\u001b[0m\u001b[0;34m(\u001b[0m\u001b[0mbuildings\u001b[0m\u001b[0;34m,\u001b[0m \u001b[0munits\u001b[0m\u001b[0;34m)\u001b[0m\u001b[0;34m:\u001b[0m\u001b[0;34m\u001b[0m\u001b[0;34m\u001b[0m\u001b[0m\n\u001b[0;32m---> 31\u001b[0;31m     \u001b[0;32mreturn\u001b[0m \u001b[0mmisc\u001b[0m\u001b[0;34m.\u001b[0m\u001b[0mreindex\u001b[0m\u001b[0;34m(\u001b[0m\u001b[0mbuildings\u001b[0m\u001b[0;34m.\u001b[0m\u001b[0mnode_id_small\u001b[0m\u001b[0;34m,\u001b[0m \u001b[0munits\u001b[0m\u001b[0;34m.\u001b[0m\u001b[0mbuilding_id\u001b[0m\u001b[0;34m)\u001b[0m\u001b[0;34m\u001b[0m\u001b[0;34m\u001b[0m\u001b[0m\n\u001b[0m\u001b[1;32m     32\u001b[0m \u001b[0;34m\u001b[0m\u001b[0m\n\u001b[1;32m     33\u001b[0m \u001b[0;34m\u001b[0m\u001b[0m\n",
      "\u001b[0;32m~/anaconda3/envs/template-env/lib/python3.6/site-packages/orca/orca.py\u001b[0m in \u001b[0;36m__getattr__\u001b[0;34m(self, key)\u001b[0m\n\u001b[1;32m    291\u001b[0m \u001b[0;34m\u001b[0m\u001b[0m\n\u001b[1;32m    292\u001b[0m     \u001b[0;32mdef\u001b[0m \u001b[0m__getattr__\u001b[0m\u001b[0;34m(\u001b[0m\u001b[0mself\u001b[0m\u001b[0;34m,\u001b[0m \u001b[0mkey\u001b[0m\u001b[0;34m)\u001b[0m\u001b[0;34m:\u001b[0m\u001b[0;34m\u001b[0m\u001b[0;34m\u001b[0m\u001b[0m\n\u001b[0;32m--> 293\u001b[0;31m         \u001b[0;32mreturn\u001b[0m \u001b[0mself\u001b[0m\u001b[0;34m.\u001b[0m\u001b[0mget_column\u001b[0m\u001b[0;34m(\u001b[0m\u001b[0mkey\u001b[0m\u001b[0;34m)\u001b[0m\u001b[0;34m\u001b[0m\u001b[0;34m\u001b[0m\u001b[0m\n\u001b[0m\u001b[1;32m    294\u001b[0m \u001b[0;34m\u001b[0m\u001b[0m\n\u001b[1;32m    295\u001b[0m     \u001b[0;32mdef\u001b[0m \u001b[0mcolumn_type\u001b[0m\u001b[0;34m(\u001b[0m\u001b[0mself\u001b[0m\u001b[0;34m,\u001b[0m \u001b[0mcolumn_name\u001b[0m\u001b[0;34m)\u001b[0m\u001b[0;34m:\u001b[0m\u001b[0;34m\u001b[0m\u001b[0;34m\u001b[0m\u001b[0m\n",
      "\u001b[0;32m~/anaconda3/envs/template-env/lib/python3.6/site-packages/orca/orca.py\u001b[0m in \u001b[0;36mget_column\u001b[0;34m(self, column_name)\u001b[0m\n\u001b[1;32m    279\u001b[0m                             column_name, self.name),\n\u001b[1;32m    280\u001b[0m                         logger):\n\u001b[0;32m--> 281\u001b[0;31m                     \u001b[0mcolumn\u001b[0m \u001b[0;34m=\u001b[0m \u001b[0mextra_cols\u001b[0m\u001b[0;34m[\u001b[0m\u001b[0mcolumn_name\u001b[0m\u001b[0;34m]\u001b[0m\u001b[0;34m(\u001b[0m\u001b[0;34m)\u001b[0m\u001b[0;34m\u001b[0m\u001b[0;34m\u001b[0m\u001b[0m\n\u001b[0m\u001b[1;32m    282\u001b[0m             \u001b[0;32melse\u001b[0m\u001b[0;34m:\u001b[0m\u001b[0;34m\u001b[0m\u001b[0;34m\u001b[0m\u001b[0m\n\u001b[1;32m    283\u001b[0m                 \u001b[0mcolumn\u001b[0m \u001b[0;34m=\u001b[0m \u001b[0mself\u001b[0m\u001b[0;34m.\u001b[0m\u001b[0mlocal\u001b[0m\u001b[0;34m[\u001b[0m\u001b[0mcolumn_name\u001b[0m\u001b[0;34m]\u001b[0m\u001b[0;34m\u001b[0m\u001b[0;34m\u001b[0m\u001b[0m\n",
      "\u001b[0;32m~/anaconda3/envs/template-env/lib/python3.6/site-packages/orca/orca.py\u001b[0m in \u001b[0;36m__call__\u001b[0;34m(self)\u001b[0m\n\u001b[1;32m    637\u001b[0m             kwargs = _collect_variables(names=self._argspec.args,\n\u001b[1;32m    638\u001b[0m                                         expressions=self._argspec.defaults)\n\u001b[0;32m--> 639\u001b[0;31m             \u001b[0mcol\u001b[0m \u001b[0;34m=\u001b[0m \u001b[0mself\u001b[0m\u001b[0;34m.\u001b[0m\u001b[0m_func\u001b[0m\u001b[0;34m(\u001b[0m\u001b[0;34m**\u001b[0m\u001b[0mkwargs\u001b[0m\u001b[0;34m)\u001b[0m\u001b[0;34m\u001b[0m\u001b[0;34m\u001b[0m\u001b[0m\n\u001b[0m\u001b[1;32m    640\u001b[0m \u001b[0;34m\u001b[0m\u001b[0m\n\u001b[1;32m    641\u001b[0m         \u001b[0;32mif\u001b[0m \u001b[0mself\u001b[0m\u001b[0;34m.\u001b[0m\u001b[0mcache\u001b[0m\u001b[0;34m:\u001b[0m\u001b[0;34m\u001b[0m\u001b[0;34m\u001b[0m\u001b[0m\n",
      "\u001b[0;32m~/ual_model_workspace/spring-2019-models/scripts/variables.py\u001b[0m in \u001b[0;36mnode_id_small\u001b[0;34m(parcels, buildings)\u001b[0m\n\u001b[1;32m     24\u001b[0m \u001b[0;34m@\u001b[0m\u001b[0morca\u001b[0m\u001b[0;34m.\u001b[0m\u001b[0mcolumn\u001b[0m\u001b[0;34m(\u001b[0m\u001b[0;34m'buildings'\u001b[0m\u001b[0;34m)\u001b[0m\u001b[0;34m\u001b[0m\u001b[0;34m\u001b[0m\u001b[0m\n\u001b[1;32m     25\u001b[0m \u001b[0;32mdef\u001b[0m \u001b[0mnode_id_small\u001b[0m\u001b[0;34m(\u001b[0m\u001b[0mparcels\u001b[0m\u001b[0;34m,\u001b[0m \u001b[0mbuildings\u001b[0m\u001b[0;34m)\u001b[0m\u001b[0;34m:\u001b[0m\u001b[0;34m\u001b[0m\u001b[0;34m\u001b[0m\u001b[0m\n\u001b[0;32m---> 26\u001b[0;31m     \u001b[0;32mreturn\u001b[0m \u001b[0mmisc\u001b[0m\u001b[0;34m.\u001b[0m\u001b[0mreindex\u001b[0m\u001b[0;34m(\u001b[0m\u001b[0mparcels\u001b[0m\u001b[0;34m.\u001b[0m\u001b[0mnode_id_small\u001b[0m\u001b[0;34m,\u001b[0m \u001b[0mbuildings\u001b[0m\u001b[0;34m.\u001b[0m\u001b[0mparcel_id\u001b[0m\u001b[0;34m)\u001b[0m\u001b[0;34m\u001b[0m\u001b[0;34m\u001b[0m\u001b[0m\n\u001b[0m\u001b[1;32m     27\u001b[0m \u001b[0;34m\u001b[0m\u001b[0m\n\u001b[1;32m     28\u001b[0m \u001b[0;34m\u001b[0m\u001b[0m\n",
      "\u001b[0;32m~/anaconda3/envs/template-env/lib/python3.6/site-packages/orca/orca.py\u001b[0m in \u001b[0;36m__getattr__\u001b[0;34m(self, key)\u001b[0m\n\u001b[1;32m    291\u001b[0m \u001b[0;34m\u001b[0m\u001b[0m\n\u001b[1;32m    292\u001b[0m     \u001b[0;32mdef\u001b[0m \u001b[0m__getattr__\u001b[0m\u001b[0;34m(\u001b[0m\u001b[0mself\u001b[0m\u001b[0;34m,\u001b[0m \u001b[0mkey\u001b[0m\u001b[0;34m)\u001b[0m\u001b[0;34m:\u001b[0m\u001b[0;34m\u001b[0m\u001b[0;34m\u001b[0m\u001b[0m\n\u001b[0;32m--> 293\u001b[0;31m         \u001b[0;32mreturn\u001b[0m \u001b[0mself\u001b[0m\u001b[0;34m.\u001b[0m\u001b[0mget_column\u001b[0m\u001b[0;34m(\u001b[0m\u001b[0mkey\u001b[0m\u001b[0;34m)\u001b[0m\u001b[0;34m\u001b[0m\u001b[0;34m\u001b[0m\u001b[0m\n\u001b[0m\u001b[1;32m    294\u001b[0m \u001b[0;34m\u001b[0m\u001b[0m\n\u001b[1;32m    295\u001b[0m     \u001b[0;32mdef\u001b[0m \u001b[0mcolumn_type\u001b[0m\u001b[0;34m(\u001b[0m\u001b[0mself\u001b[0m\u001b[0;34m,\u001b[0m \u001b[0mcolumn_name\u001b[0m\u001b[0;34m)\u001b[0m\u001b[0;34m:\u001b[0m\u001b[0;34m\u001b[0m\u001b[0;34m\u001b[0m\u001b[0m\n",
      "\u001b[0;32m~/anaconda3/envs/template-env/lib/python3.6/site-packages/orca/orca.py\u001b[0m in \u001b[0;36mget_column\u001b[0;34m(self, column_name)\u001b[0m\n\u001b[1;32m    279\u001b[0m                             column_name, self.name),\n\u001b[1;32m    280\u001b[0m                         logger):\n\u001b[0;32m--> 281\u001b[0;31m                     \u001b[0mcolumn\u001b[0m \u001b[0;34m=\u001b[0m \u001b[0mextra_cols\u001b[0m\u001b[0;34m[\u001b[0m\u001b[0mcolumn_name\u001b[0m\u001b[0;34m]\u001b[0m\u001b[0;34m(\u001b[0m\u001b[0;34m)\u001b[0m\u001b[0;34m\u001b[0m\u001b[0;34m\u001b[0m\u001b[0m\n\u001b[0m\u001b[1;32m    282\u001b[0m             \u001b[0;32melse\u001b[0m\u001b[0;34m:\u001b[0m\u001b[0;34m\u001b[0m\u001b[0;34m\u001b[0m\u001b[0m\n\u001b[1;32m    283\u001b[0m                 \u001b[0mcolumn\u001b[0m \u001b[0;34m=\u001b[0m \u001b[0mself\u001b[0m\u001b[0;34m.\u001b[0m\u001b[0mlocal\u001b[0m\u001b[0;34m[\u001b[0m\u001b[0mcolumn_name\u001b[0m\u001b[0;34m]\u001b[0m\u001b[0;34m\u001b[0m\u001b[0;34m\u001b[0m\u001b[0m\n",
      "\u001b[0;32m~/anaconda3/envs/template-env/lib/python3.6/site-packages/orca/orca.py\u001b[0m in \u001b[0;36m__call__\u001b[0;34m(self)\u001b[0m\n\u001b[1;32m    636\u001b[0m                  ).format(self.name, self.table_name), logger):\n\u001b[1;32m    637\u001b[0m             kwargs = _collect_variables(names=self._argspec.args,\n\u001b[0;32m--> 638\u001b[0;31m                                         expressions=self._argspec.defaults)\n\u001b[0m\u001b[1;32m    639\u001b[0m             \u001b[0mcol\u001b[0m \u001b[0;34m=\u001b[0m \u001b[0mself\u001b[0m\u001b[0;34m.\u001b[0m\u001b[0m_func\u001b[0m\u001b[0;34m(\u001b[0m\u001b[0;34m**\u001b[0m\u001b[0mkwargs\u001b[0m\u001b[0;34m)\u001b[0m\u001b[0;34m\u001b[0m\u001b[0;34m\u001b[0m\u001b[0m\n\u001b[1;32m    640\u001b[0m \u001b[0;34m\u001b[0m\u001b[0m\n",
      "\u001b[0;32m~/anaconda3/envs/template-env/lib/python3.6/site-packages/orca/orca.py\u001b[0m in \u001b[0;36m_collect_variables\u001b[0;34m(names, expressions)\u001b[0m\n\u001b[1;32m    953\u001b[0m             \u001b[0mvariables\u001b[0m\u001b[0;34m[\u001b[0m\u001b[0mlabel\u001b[0m\u001b[0;34m]\u001b[0m \u001b[0;34m=\u001b[0m \u001b[0mtable\u001b[0m\u001b[0;34m.\u001b[0m\u001b[0mget_column\u001b[0m\u001b[0;34m(\u001b[0m\u001b[0mcolumn_name\u001b[0m\u001b[0;34m)\u001b[0m\u001b[0;34m\u001b[0m\u001b[0;34m\u001b[0m\u001b[0m\n\u001b[1;32m    954\u001b[0m         \u001b[0;32melse\u001b[0m\u001b[0;34m:\u001b[0m\u001b[0;34m\u001b[0m\u001b[0;34m\u001b[0m\u001b[0m\n\u001b[0;32m--> 955\u001b[0;31m             \u001b[0mthing\u001b[0m \u001b[0;34m=\u001b[0m \u001b[0mall_variables\u001b[0m\u001b[0;34m[\u001b[0m\u001b[0mexpression\u001b[0m\u001b[0;34m]\u001b[0m\u001b[0;34m\u001b[0m\u001b[0;34m\u001b[0m\u001b[0m\n\u001b[0m\u001b[1;32m    956\u001b[0m             \u001b[0;32mif\u001b[0m \u001b[0misinstance\u001b[0m\u001b[0;34m(\u001b[0m\u001b[0mthing\u001b[0m\u001b[0;34m,\u001b[0m \u001b[0;34m(\u001b[0m\u001b[0m_InjectableFuncWrapper\u001b[0m\u001b[0;34m,\u001b[0m \u001b[0mTableFuncWrapper\u001b[0m\u001b[0;34m)\u001b[0m\u001b[0;34m)\u001b[0m\u001b[0;34m:\u001b[0m\u001b[0;34m\u001b[0m\u001b[0;34m\u001b[0m\u001b[0m\n\u001b[1;32m    957\u001b[0m                 \u001b[0;31m# Registered variable object is function.\u001b[0m\u001b[0;34m\u001b[0m\u001b[0;34m\u001b[0m\u001b[0;34m\u001b[0m\u001b[0m\n",
      "\u001b[0;31mKeyError\u001b[0m: 'netsmall'"
     ]
    }
   ],
   "source": [
    "#Loading am peak transit accessibility varaibles\n",
    "@orca.table(cache=False)\n",
    "def am_acc():\n",
    "    df = pd.read_csv('/home/data/urbanaccess_transit/access_indicators_ampeak.csv',dtype = {'block_id':str})\n",
    "    df.block_id = df.block_id.str.zfill(15)\n",
    "    return df\n",
    "\n",
    "households = orca.get_table('households').to_frame()\n",
    "persons = orca.get_table('persons').to_frame()\n",
    "parcels = orca.get_table('parcels').to_frame()\n",
    "nodessmall = orca.get_table('nodessmall').to_frame()\n",
    "nodessmall.index.name = 'node_id_small'\n",
    "nodeswalk = orca.get_table('nodeswalk').to_frame()\n",
    "nodeswalk.index.name = 'node_id_walk'\n",
    "am_acc = orca.get_table('am_acc').to_frame()"
   ]
  },
  {
   "cell_type": "code",
   "execution_count": null,
   "metadata": {},
   "outputs": [],
   "source": [
    "#Generating boradcastings\n",
    "orca.broadcast(cast = 'am_acc', onto = 'parcels', cast_on = 'block_id', onto_on = 'block_id')\n",
    "orca.broadcast(cast = 'nodessmall', onto = 'households', cast_index = True, onto_on = 'node_id_small')\n",
    "orca.broadcast(cast = 'nodeswalk', onto = 'households', cast_index = True, onto_on = 'node_id_walk')\n",
    "# Parcel onto building onto units onto Households is predefined\n",
    "\n",
    "#Merging tables\n",
    "@orca.table(cache=False)\n",
    "def hh_merged():\n",
    "    df = orca.merge_tables(target = 'households',tables = ['households','units','buildings','parcels'])\n",
    "    return df"
   ]
  },
  {
   "cell_type": "code",
   "execution_count": null,
   "metadata": {},
   "outputs": [],
   "source": [
    "orca.get_table('households').to_frame().head(5)"
   ]
  },
  {
   "cell_type": "code",
   "execution_count": null,
   "metadata": {},
   "outputs": [],
   "source": [
    "hh_merged = orca.get_table('hh_merged').to_frame()"
   ]
  },
  {
   "cell_type": "code",
   "execution_count": 16,
   "metadata": {},
   "outputs": [],
   "source": [
    "hh_merged = orca.get_table('hh_merged').to_frame()\n",
    "#Generating household variables from the persons table \n",
    "hh_16_younger = persons[persons['age'] < 16].groupby(by='household_id').agg({'age':'count'}).rename(columns={'age': 'hh_16_younger'})\n",
    "hh_70_older = persons[persons['age'] > 70].groupby(by='household_id').agg({'age':'count'}).rename(columns={'age': 'hh_70_older'})\n",
    "hh_students = persons[persons['student'] == 1].groupby(by='household_id').agg({'student':'count'}).rename(columns={'student': 'hh_student'})\n",
    "hh_work_home = persons[persons['work_at_home'] == 1].groupby(by='household_id').agg({'work_at_home':'count'}).rename(columns={'work_at_home': 'hh_work_home'})\n",
    "\n",
    "# Merging variables to hh_merge\n",
    "hh_merged = hh_merged .merge(hh_16_younger, on = 'household_id', how = 'left'\n",
    "                           ).merge(hh_70_older, on ='household_id', how = 'left'\n",
    "                                  ).merge(hh_students, on= 'household_id',how = 'left'\n",
    "                                         ).merge(hh_work_home, on= 'household_id', how = 'left')"
   ]
  },
  {
   "cell_type": "code",
   "execution_count": null,
   "metadata": {},
   "outputs": [],
   "source": [
    "households.shape"
   ]
  },
  {
   "cell_type": "code",
   "execution_count": null,
   "metadata": {},
   "outputs": [],
   "source": [
    "hh_merged.shape"
   ]
  },
  {
   "cell_type": "code",
   "execution_count": 23,
   "metadata": {},
   "outputs": [
    {
     "data": {
      "text/plain": [
       "(2335, 203)"
      ]
     },
     "execution_count": 23,
     "metadata": {},
     "output_type": "execute_result"
    }
   ],
   "source": [
    "list(set(am_acc.columns))\n",
    "hh_merged.loc[:,list(set(am_acc.columns))].isnull().sum()\n",
    "hh_merged.shape"
   ]
  },
  {
   "cell_type": "code",
   "execution_count": null,
   "metadata": {},
   "outputs": [],
   "source": [
    "#Impute missing infomration in the parcel/trasint accessibility table (Fill NA with median value)\n",
    "for acc_col in set(am_acc.columns):\n",
    "    hh_merge[acc_col].fillna(hh_merge[acc_col].median())\n",
    "#     orca.add_column('parcels',acc_col,\n",
    "#          parcels_with_acc[acc_col].fillna(parcels_with_acc[acc_col].median())"
   ]
  },
  {
   "cell_type": "code",
   "execution_count": 94,
   "metadata": {},
   "outputs": [
    {
     "data": {
      "text/plain": [
       "Index(['osmid', 'units_10000', 'units_sf_10000', 'units_mf_10000', 'pop_10000',\n",
       "       'hh_10000', 'poor_10000', 'renters_10000', 'med_income_10000',\n",
       "       'jobs_10000', 'med_rent_10000', 'pop_white_10000', 'pop_black_10000',\n",
       "       'pop_asian_10000', 'pop_hisp_10000', 'units_25000', 'units_sf_25000',\n",
       "       'units_mf_25000', 'pop_25000', 'hh_25000', 'poor_25000',\n",
       "       'renters_25000', 'med_income_25000', 'jobs_25000', 'med_rent_25000',\n",
       "       'pop_white_25000', 'pop_black_25000', 'pop_asian_25000',\n",
       "       'pop_hisp_25000'],\n",
       "      dtype='object')"
      ]
     },
     "execution_count": 94,
     "metadata": {},
     "output_type": "execute_result"
    }
   ],
   "source": [
    "df = pd.read_csv('/home/data/2018-07/nodessmall_vars.csv')\n",
    "df.columns"
   ]
  },
  {
   "cell_type": "code",
   "execution_count": 4,
   "metadata": {},
   "outputs": [
    {
     "name": "stdout",
     "output_type": "stream",
     "text": [
      "Running step 'initialize_network_small'\n",
      "Time to execute step 'initialize_network_small': 0.00 s\n",
      "Running step 'initialize_network_walk'\n",
      "Time to execute step 'initialize_network_walk': 0.00 s\n",
      "Total time to execute iteration 1 with iteration value None: 0.00 s\n"
     ]
    }
   ],
   "source": [
    "#initialization only\n",
    "orca.run(['initialize_network_small','initialize_network_walk'])"
   ]
  },
  {
   "cell_type": "code",
   "execution_count": 37,
   "metadata": {},
   "outputs": [],
   "source": [
    "households = orca.get_table('households').to_frame()\n",
    "persons = orca.get_table('persons').to_frame()\n",
    "jobs = orca.get_table('jobs').to_frame()"
   ]
  },
  {
   "cell_type": "code",
   "execution_count": 15,
   "metadata": {},
   "outputs": [
    {
     "data": {
      "text/plain": [
       "Index(['serialno', 'persons', 'building_type', 'cars', 'income',\n",
       "       'race_of_head', 'hispanic_head', 'age_of_head', 'workers', 'state',\n",
       "       'county', 'tract', 'block_group', 'children', 'tenure', 'recent_mover',\n",
       "       'block_group_id', 'single_family', 'unit_id', 'building_id',\n",
       "       'node_id_small', 'node_id_walk', 'hh_inc_under_25k', 'hh_inc_25_to_75k',\n",
       "       'hh_inc_75_to_200k', 'tenure_1', 'tenure_2', 'tenure_3', 'tenure_4',\n",
       "       'single_family_int', 'building_type_2', 'hh_inc_150kplus',\n",
       "       'hh_size_1per'],\n",
       "      dtype='object')"
      ]
     },
     "execution_count": 15,
     "metadata": {},
     "output_type": "execute_result"
    }
   ],
   "source": [
    "households.columns"
   ]
  },
  {
   "cell_type": "code",
   "execution_count": 11,
   "metadata": {},
   "outputs": [
    {
     "data": {
      "text/plain": [
       "Index(['member_id', 'age', 'primary_commute_mode', 'relate', 'edu', 'sex',\n",
       "       'hours', 'hispanic', 'earning', 'race_id', 'student', 'work_at_home',\n",
       "       'worker', 'household_id', 'node_id_small', 'node_id_walk',\n",
       "       'no_higher_ed', 'age_under_45', 'zone_id_home', 'lessGED', 'GED',\n",
       "       'somebach', 'Assoc', 'Bach', 'female', 'white', 'minority',\n",
       "       'age_16less25'],\n",
       "      dtype='object')"
      ]
     },
     "execution_count": 11,
     "metadata": {},
     "output_type": "execute_result"
    }
   ],
   "source": [
    "persons.columns"
   ]
  },
  {
   "cell_type": "code",
   "execution_count": 40,
   "metadata": {},
   "outputs": [],
   "source": [
    "hh_16_younger = persons[persons['age'] < 16].groupby(by='household_id').agg({'age':'count'}).rename(columns={'age': 'hh_16_younger'})\n",
    "hh_70_older = persons[persons['age'] > 70].groupby(by='household_id').agg({'age':'count'}).rename(columns={'age': 'hh_70_older'})\n",
    "hh_students = persons[persons['student'] == 1].groupby(by='household_id').agg({'student':'count'}).rename(columns={'student': 'hh_student'})\n",
    "hh_work_home = persons[persons['work_at_home'] == 1].groupby(by='household_id').agg({'work_at_home':'count'}).rename(columns={'work_at_home': 'hh_work_home'})\n"
   ]
  },
  {
   "cell_type": "code",
   "execution_count": 43,
   "metadata": {},
   "outputs": [
    {
     "data": {
      "text/html": [
       "<div>\n",
       "<style scoped>\n",
       "    .dataframe tbody tr th:only-of-type {\n",
       "        vertical-align: middle;\n",
       "    }\n",
       "\n",
       "    .dataframe tbody tr th {\n",
       "        vertical-align: top;\n",
       "    }\n",
       "\n",
       "    .dataframe thead th {\n",
       "        text-align: right;\n",
       "    }\n",
       "</style>\n",
       "<table border=\"1\" class=\"dataframe\">\n",
       "  <thead>\n",
       "    <tr style=\"text-align: right;\">\n",
       "      <th></th>\n",
       "      <th>serialno</th>\n",
       "      <th>persons</th>\n",
       "      <th>building_type</th>\n",
       "      <th>cars</th>\n",
       "      <th>income</th>\n",
       "      <th>race_of_head</th>\n",
       "      <th>hispanic_head</th>\n",
       "      <th>age_of_head</th>\n",
       "      <th>workers</th>\n",
       "      <th>state</th>\n",
       "      <th>...</th>\n",
       "      <th>tenure_3</th>\n",
       "      <th>tenure_4</th>\n",
       "      <th>single_family_int</th>\n",
       "      <th>building_type_2</th>\n",
       "      <th>hh_inc_150kplus</th>\n",
       "      <th>hh_size_1per</th>\n",
       "      <th>hh_16_younger</th>\n",
       "      <th>hh_70_older</th>\n",
       "      <th>hh_student</th>\n",
       "      <th>hh_work_home</th>\n",
       "    </tr>\n",
       "    <tr>\n",
       "      <th>household_id</th>\n",
       "      <th></th>\n",
       "      <th></th>\n",
       "      <th></th>\n",
       "      <th></th>\n",
       "      <th></th>\n",
       "      <th></th>\n",
       "      <th></th>\n",
       "      <th></th>\n",
       "      <th></th>\n",
       "      <th></th>\n",
       "      <th></th>\n",
       "      <th></th>\n",
       "      <th></th>\n",
       "      <th></th>\n",
       "      <th></th>\n",
       "      <th></th>\n",
       "      <th></th>\n",
       "      <th></th>\n",
       "      <th></th>\n",
       "      <th></th>\n",
       "      <th></th>\n",
       "    </tr>\n",
       "  </thead>\n",
       "  <tbody>\n",
       "    <tr>\n",
       "      <th>14127</th>\n",
       "      <td>2009001190619</td>\n",
       "      <td>3.0</td>\n",
       "      <td>2.0</td>\n",
       "      <td>2.0</td>\n",
       "      <td>66600.0</td>\n",
       "      <td>1</td>\n",
       "      <td>yes</td>\n",
       "      <td>76</td>\n",
       "      <td>2.0</td>\n",
       "      <td>6</td>\n",
       "      <td>...</td>\n",
       "      <td>0</td>\n",
       "      <td>0</td>\n",
       "      <td>1</td>\n",
       "      <td>1</td>\n",
       "      <td>0</td>\n",
       "      <td>0</td>\n",
       "      <td>1</td>\n",
       "      <td>1</td>\n",
       "      <td>1</td>\n",
       "      <td>1</td>\n",
       "    </tr>\n",
       "    <tr>\n",
       "      <th>17257</th>\n",
       "      <td>2009001190619</td>\n",
       "      <td>3.0</td>\n",
       "      <td>2.0</td>\n",
       "      <td>2.0</td>\n",
       "      <td>66600.0</td>\n",
       "      <td>1</td>\n",
       "      <td>yes</td>\n",
       "      <td>76</td>\n",
       "      <td>2.0</td>\n",
       "      <td>6</td>\n",
       "      <td>...</td>\n",
       "      <td>0</td>\n",
       "      <td>0</td>\n",
       "      <td>1</td>\n",
       "      <td>1</td>\n",
       "      <td>0</td>\n",
       "      <td>0</td>\n",
       "      <td>1</td>\n",
       "      <td>1</td>\n",
       "      <td>1</td>\n",
       "      <td>1</td>\n",
       "    </tr>\n",
       "    <tr>\n",
       "      <th>24020</th>\n",
       "      <td>2009001190619</td>\n",
       "      <td>3.0</td>\n",
       "      <td>2.0</td>\n",
       "      <td>2.0</td>\n",
       "      <td>66600.0</td>\n",
       "      <td>1</td>\n",
       "      <td>yes</td>\n",
       "      <td>76</td>\n",
       "      <td>2.0</td>\n",
       "      <td>6</td>\n",
       "      <td>...</td>\n",
       "      <td>0</td>\n",
       "      <td>0</td>\n",
       "      <td>1</td>\n",
       "      <td>1</td>\n",
       "      <td>0</td>\n",
       "      <td>0</td>\n",
       "      <td>1</td>\n",
       "      <td>1</td>\n",
       "      <td>1</td>\n",
       "      <td>1</td>\n",
       "    </tr>\n",
       "    <tr>\n",
       "      <th>28196</th>\n",
       "      <td>2009001190619</td>\n",
       "      <td>3.0</td>\n",
       "      <td>2.0</td>\n",
       "      <td>2.0</td>\n",
       "      <td>66600.0</td>\n",
       "      <td>1</td>\n",
       "      <td>yes</td>\n",
       "      <td>76</td>\n",
       "      <td>2.0</td>\n",
       "      <td>6</td>\n",
       "      <td>...</td>\n",
       "      <td>0</td>\n",
       "      <td>0</td>\n",
       "      <td>1</td>\n",
       "      <td>1</td>\n",
       "      <td>0</td>\n",
       "      <td>0</td>\n",
       "      <td>1</td>\n",
       "      <td>1</td>\n",
       "      <td>1</td>\n",
       "      <td>1</td>\n",
       "    </tr>\n",
       "    <tr>\n",
       "      <th>33517</th>\n",
       "      <td>2013000084437</td>\n",
       "      <td>5.0</td>\n",
       "      <td>8.0</td>\n",
       "      <td>3.0</td>\n",
       "      <td>75700.0</td>\n",
       "      <td>1</td>\n",
       "      <td>no</td>\n",
       "      <td>71</td>\n",
       "      <td>4.0</td>\n",
       "      <td>6</td>\n",
       "      <td>...</td>\n",
       "      <td>0</td>\n",
       "      <td>0</td>\n",
       "      <td>0</td>\n",
       "      <td>0</td>\n",
       "      <td>0</td>\n",
       "      <td>0</td>\n",
       "      <td>1</td>\n",
       "      <td>1</td>\n",
       "      <td>3</td>\n",
       "      <td>2</td>\n",
       "    </tr>\n",
       "  </tbody>\n",
       "</table>\n",
       "<p>5 rows × 37 columns</p>\n",
       "</div>"
      ],
      "text/plain": [
       "                   serialno  persons  building_type  cars   income  \\\n",
       "household_id                                                         \n",
       "14127         2009001190619      3.0            2.0   2.0  66600.0   \n",
       "17257         2009001190619      3.0            2.0   2.0  66600.0   \n",
       "24020         2009001190619      3.0            2.0   2.0  66600.0   \n",
       "28196         2009001190619      3.0            2.0   2.0  66600.0   \n",
       "33517         2013000084437      5.0            8.0   3.0  75700.0   \n",
       "\n",
       "              race_of_head hispanic_head  age_of_head  workers state  \\\n",
       "household_id                                                           \n",
       "14127                    1           yes           76      2.0     6   \n",
       "17257                    1           yes           76      2.0     6   \n",
       "24020                    1           yes           76      2.0     6   \n",
       "28196                    1           yes           76      2.0     6   \n",
       "33517                    1            no           71      4.0     6   \n",
       "\n",
       "                  ...      tenure_3 tenure_4 single_family_int  \\\n",
       "household_id      ...                                            \n",
       "14127             ...             0        0                 1   \n",
       "17257             ...             0        0                 1   \n",
       "24020             ...             0        0                 1   \n",
       "28196             ...             0        0                 1   \n",
       "33517             ...             0        0                 0   \n",
       "\n",
       "              building_type_2  hh_inc_150kplus  hh_size_1per hh_16_younger  \\\n",
       "household_id                                                                 \n",
       "14127                       1                0             0             1   \n",
       "17257                       1                0             0             1   \n",
       "24020                       1                0             0             1   \n",
       "28196                       1                0             0             1   \n",
       "33517                       0                0             0             1   \n",
       "\n",
       "              hh_70_older  hh_student  hh_work_home  \n",
       "household_id                                         \n",
       "14127                   1           1             1  \n",
       "17257                   1           1             1  \n",
       "24020                   1           1             1  \n",
       "28196                   1           1             1  \n",
       "33517                   1           3             2  \n",
       "\n",
       "[5 rows x 37 columns]"
      ]
     },
     "execution_count": 43,
     "metadata": {},
     "output_type": "execute_result"
    }
   ],
   "source": [
    "hh_merge = households.merge(hh_16_younger, on = 'household_id',\n",
    "                           ).merge(hh_70_older, on ='household_id',\n",
    "                                  ).merge(hh_students, on= 'household_id',\n",
    "                                         ).merge(hh_work_home, on= 'household_id' )\n",
    "\n",
    "hh_merge.head(5)"
   ]
  },
  {
   "cell_type": "code",
   "execution_count": 47,
   "metadata": {},
   "outputs": [],
   "source": [
    "hh_merge['cars_alt'] = hh_merge['cars'].apply(lambda x: 0*(x==0)+ 1*(x==1)+2*(x==2)+3*(x>=3))"
   ]
  },
  {
   "cell_type": "code",
   "execution_count": 48,
   "metadata": {
    "scrolled": true
   },
   "outputs": [
    {
     "data": {
      "text/html": [
       "<div>\n",
       "<style scoped>\n",
       "    .dataframe tbody tr th:only-of-type {\n",
       "        vertical-align: middle;\n",
       "    }\n",
       "\n",
       "    .dataframe tbody tr th {\n",
       "        vertical-align: top;\n",
       "    }\n",
       "\n",
       "    .dataframe thead th {\n",
       "        text-align: right;\n",
       "    }\n",
       "</style>\n",
       "<table border=\"1\" class=\"dataframe\">\n",
       "  <thead>\n",
       "    <tr style=\"text-align: right;\">\n",
       "      <th></th>\n",
       "      <th>serialno</th>\n",
       "      <th>persons</th>\n",
       "      <th>building_type</th>\n",
       "      <th>cars</th>\n",
       "      <th>income</th>\n",
       "      <th>race_of_head</th>\n",
       "      <th>hispanic_head</th>\n",
       "      <th>age_of_head</th>\n",
       "      <th>workers</th>\n",
       "      <th>state</th>\n",
       "      <th>...</th>\n",
       "      <th>tenure_4</th>\n",
       "      <th>single_family_int</th>\n",
       "      <th>building_type_2</th>\n",
       "      <th>hh_inc_150kplus</th>\n",
       "      <th>hh_size_1per</th>\n",
       "      <th>hh_16_younger</th>\n",
       "      <th>hh_70_older</th>\n",
       "      <th>hh_student</th>\n",
       "      <th>hh_work_home</th>\n",
       "      <th>cars_alt</th>\n",
       "    </tr>\n",
       "    <tr>\n",
       "      <th>household_id</th>\n",
       "      <th></th>\n",
       "      <th></th>\n",
       "      <th></th>\n",
       "      <th></th>\n",
       "      <th></th>\n",
       "      <th></th>\n",
       "      <th></th>\n",
       "      <th></th>\n",
       "      <th></th>\n",
       "      <th></th>\n",
       "      <th></th>\n",
       "      <th></th>\n",
       "      <th></th>\n",
       "      <th></th>\n",
       "      <th></th>\n",
       "      <th></th>\n",
       "      <th></th>\n",
       "      <th></th>\n",
       "      <th></th>\n",
       "      <th></th>\n",
       "      <th></th>\n",
       "    </tr>\n",
       "  </thead>\n",
       "  <tbody>\n",
       "    <tr>\n",
       "      <th>14127</th>\n",
       "      <td>2009001190619</td>\n",
       "      <td>3.0</td>\n",
       "      <td>2.0</td>\n",
       "      <td>2.0</td>\n",
       "      <td>66600.0</td>\n",
       "      <td>1</td>\n",
       "      <td>yes</td>\n",
       "      <td>76</td>\n",
       "      <td>2.0</td>\n",
       "      <td>6</td>\n",
       "      <td>...</td>\n",
       "      <td>0</td>\n",
       "      <td>1</td>\n",
       "      <td>1</td>\n",
       "      <td>0</td>\n",
       "      <td>0</td>\n",
       "      <td>1</td>\n",
       "      <td>1</td>\n",
       "      <td>1</td>\n",
       "      <td>1</td>\n",
       "      <td>2</td>\n",
       "    </tr>\n",
       "    <tr>\n",
       "      <th>17257</th>\n",
       "      <td>2009001190619</td>\n",
       "      <td>3.0</td>\n",
       "      <td>2.0</td>\n",
       "      <td>2.0</td>\n",
       "      <td>66600.0</td>\n",
       "      <td>1</td>\n",
       "      <td>yes</td>\n",
       "      <td>76</td>\n",
       "      <td>2.0</td>\n",
       "      <td>6</td>\n",
       "      <td>...</td>\n",
       "      <td>0</td>\n",
       "      <td>1</td>\n",
       "      <td>1</td>\n",
       "      <td>0</td>\n",
       "      <td>0</td>\n",
       "      <td>1</td>\n",
       "      <td>1</td>\n",
       "      <td>1</td>\n",
       "      <td>1</td>\n",
       "      <td>2</td>\n",
       "    </tr>\n",
       "    <tr>\n",
       "      <th>24020</th>\n",
       "      <td>2009001190619</td>\n",
       "      <td>3.0</td>\n",
       "      <td>2.0</td>\n",
       "      <td>2.0</td>\n",
       "      <td>66600.0</td>\n",
       "      <td>1</td>\n",
       "      <td>yes</td>\n",
       "      <td>76</td>\n",
       "      <td>2.0</td>\n",
       "      <td>6</td>\n",
       "      <td>...</td>\n",
       "      <td>0</td>\n",
       "      <td>1</td>\n",
       "      <td>1</td>\n",
       "      <td>0</td>\n",
       "      <td>0</td>\n",
       "      <td>1</td>\n",
       "      <td>1</td>\n",
       "      <td>1</td>\n",
       "      <td>1</td>\n",
       "      <td>2</td>\n",
       "    </tr>\n",
       "    <tr>\n",
       "      <th>28196</th>\n",
       "      <td>2009001190619</td>\n",
       "      <td>3.0</td>\n",
       "      <td>2.0</td>\n",
       "      <td>2.0</td>\n",
       "      <td>66600.0</td>\n",
       "      <td>1</td>\n",
       "      <td>yes</td>\n",
       "      <td>76</td>\n",
       "      <td>2.0</td>\n",
       "      <td>6</td>\n",
       "      <td>...</td>\n",
       "      <td>0</td>\n",
       "      <td>1</td>\n",
       "      <td>1</td>\n",
       "      <td>0</td>\n",
       "      <td>0</td>\n",
       "      <td>1</td>\n",
       "      <td>1</td>\n",
       "      <td>1</td>\n",
       "      <td>1</td>\n",
       "      <td>2</td>\n",
       "    </tr>\n",
       "    <tr>\n",
       "      <th>33517</th>\n",
       "      <td>2013000084437</td>\n",
       "      <td>5.0</td>\n",
       "      <td>8.0</td>\n",
       "      <td>3.0</td>\n",
       "      <td>75700.0</td>\n",
       "      <td>1</td>\n",
       "      <td>no</td>\n",
       "      <td>71</td>\n",
       "      <td>4.0</td>\n",
       "      <td>6</td>\n",
       "      <td>...</td>\n",
       "      <td>0</td>\n",
       "      <td>0</td>\n",
       "      <td>0</td>\n",
       "      <td>0</td>\n",
       "      <td>0</td>\n",
       "      <td>1</td>\n",
       "      <td>1</td>\n",
       "      <td>3</td>\n",
       "      <td>2</td>\n",
       "      <td>3</td>\n",
       "    </tr>\n",
       "  </tbody>\n",
       "</table>\n",
       "<p>5 rows × 38 columns</p>\n",
       "</div>"
      ],
      "text/plain": [
       "                   serialno  persons  building_type  cars   income  \\\n",
       "household_id                                                         \n",
       "14127         2009001190619      3.0            2.0   2.0  66600.0   \n",
       "17257         2009001190619      3.0            2.0   2.0  66600.0   \n",
       "24020         2009001190619      3.0            2.0   2.0  66600.0   \n",
       "28196         2009001190619      3.0            2.0   2.0  66600.0   \n",
       "33517         2013000084437      5.0            8.0   3.0  75700.0   \n",
       "\n",
       "              race_of_head hispanic_head  age_of_head  workers state  \\\n",
       "household_id                                                           \n",
       "14127                    1           yes           76      2.0     6   \n",
       "17257                    1           yes           76      2.0     6   \n",
       "24020                    1           yes           76      2.0     6   \n",
       "28196                    1           yes           76      2.0     6   \n",
       "33517                    1            no           71      4.0     6   \n",
       "\n",
       "                ...    tenure_4 single_family_int building_type_2  \\\n",
       "household_id    ...                                                 \n",
       "14127           ...           0                 1               1   \n",
       "17257           ...           0                 1               1   \n",
       "24020           ...           0                 1               1   \n",
       "28196           ...           0                 1               1   \n",
       "33517           ...           0                 0               0   \n",
       "\n",
       "              hh_inc_150kplus  hh_size_1per  hh_16_younger hh_70_older  \\\n",
       "household_id                                                             \n",
       "14127                       0             0              1           1   \n",
       "17257                       0             0              1           1   \n",
       "24020                       0             0              1           1   \n",
       "28196                       0             0              1           1   \n",
       "33517                       0             0              1           1   \n",
       "\n",
       "              hh_student  hh_work_home  cars_alt  \n",
       "household_id                                      \n",
       "14127                  1             1         2  \n",
       "17257                  1             1         2  \n",
       "24020                  1             1         2  \n",
       "28196                  1             1         2  \n",
       "33517                  3             2         3  \n",
       "\n",
       "[5 rows x 38 columns]"
      ]
     },
     "execution_count": 48,
     "metadata": {},
     "output_type": "execute_result"
    }
   ],
   "source": [
    "hh_merge.head(5)"
   ]
  },
  {
   "cell_type": "code",
   "execution_count": 22,
   "metadata": {},
   "outputs": [
    {
     "data": {
      "text/plain": [
       "<orca.orca._SeriesWrapper at 0x7f45afa9e128>"
      ]
     },
     "execution_count": 22,
     "metadata": {},
     "output_type": "execute_result"
    }
   ],
   "source": [
    "# cars_alt = orca.get_table('households').to_frame()['cars'].apply(lambda x: 0*(x==0)+ 1*(x==1)+2*(x==2)+3*(x>=3))\n",
    "# orca.add_column('households', 'cars_alt', cars_alt)"
   ]
  },
  {
   "cell_type": "code",
   "execution_count": 23,
   "metadata": {},
   "outputs": [
    {
     "data": {
      "text/plain": [
       "<orca.orca._SeriesWrapper at 0x7f4616391cc0>"
      ]
     },
     "execution_count": 23,
     "metadata": {},
     "output_type": "execute_result"
    }
   ],
   "source": [
    "# # income bins\n",
    "# income_bins = pd.cut(orca.get_table('households').to_frame().income,\n",
    "#       bins = [0,20000,40000,60000,80000,100000,120000,np.inf],\n",
    "#       labels = ['2','4','6','8','10','12','12p'],include_lowest = True)\n",
    "# income_bin_dummies = pd.get_dummies(income_bins,prefix = 'income')\n",
    "# for i in income_bin_dummies.columns:\n",
    "#     orca.add_column('households',i,income_bin_dummies[i])\n",
    "\n",
    "# # tenure type dummy\n",
    "# orca.add_column('households','tenure_1',(orca.get_table('households').to_frame()['tenure']==1).astype(int))\n",
    "# orca.add_column('households','tenure_2',(orca.get_table('households').to_frame()['tenure']==2).astype(int))\n",
    "# orca.add_column('households','tenure_3',(orca.get_table('households').to_frame()['tenure']==3).astype(int))\n",
    "# orca.add_column('households','tenure_4',(orca.get_table('households').to_frame()['tenure']==4).astype(int))\n",
    "\n",
    "# # single family as integer\n",
    "# orca.add_column('households','single_family_int',(orca.get_table('households').to_frame()['single_family'].astype(int)))\n",
    "\n",
    "# # building type dummy\n",
    "# orca.add_column('households','building_type_2',(orca.get_table('households').to_frame()['building_type']==2).astype(int))"
   ]
  },
  {
   "cell_type": "code",
   "execution_count": 56,
   "metadata": {},
   "outputs": [],
   "source": [
    "parcels = orca.get_table('parcels').to_frame()"
   ]
  },
  {
   "cell_type": "code",
   "execution_count": 70,
   "metadata": {},
   "outputs": [
    {
     "data": {
      "text/plain": [
       "['access_indicators_latenight.csv',\n",
       " 'access_indicators_pmpeak.csv',\n",
       " 'access_indicators_noon.csv',\n",
       " 'access_indicators_ampeak.csv']"
      ]
     },
     "execution_count": 70,
     "metadata": {},
     "output_type": "execute_result"
    }
   ],
   "source": [
    "os.listdir(\"/home/data/urbanaccess_transit\")"
   ]
  },
  {
   "cell_type": "code",
   "execution_count": 57,
   "metadata": {},
   "outputs": [],
   "source": [
    "# load UrbanAccess transit accessibility variables\n",
    "am_acc = pd.read_csv('/home/data/urbanaccess_transit/access_indicators_ampeak.csv',dtype = {'block_id':str})\n",
    "am_acc.block_id = am_acc.block_id.str.zfill(15)\n",
    "parcels_with_acc = parcels.merge(am_acc, how='left', on='block_id').reindex(index = parcels.index) # reorder to align with parcels table"
   ]
  },
  {
   "cell_type": "code",
   "execution_count": 77,
   "metadata": {},
   "outputs": [
    {
     "data": {
      "text/plain": [
       "Index(['development_type_id', 'land_value', 'acres', 'county_id', 'zone_id',\n",
       "       'proportion_undevelopable', 'tax_exempt_status', 'apn',\n",
       "       'parcel_id_local', 'geom_id', 'imputation_flag', 'x', 'y', 'shape_area',\n",
       "       'block_id', 'node_id', 'node_id_small', 'node_id_walk'],\n",
       "      dtype='object')"
      ]
     },
     "execution_count": 77,
     "metadata": {},
     "output_type": "execute_result"
    }
   ],
   "source": [
    "parcels.columns"
   ]
  },
  {
   "cell_type": "code",
   "execution_count": 72,
   "metadata": {},
   "outputs": [
    {
     "data": {
      "text/plain": [
       "Index(['block_id', 'above_jobs_20', 'above_jobs_40', 'above_jobs_60',\n",
       "       'average_income_20', 'below_jobs_20', 'below_jobs_40', 'below_jobs_60',\n",
       "       'employment_20', 'employment_40', 'employment_60', 'population_20',\n",
       "       'population_40', 'population_60'],\n",
       "      dtype='object')"
      ]
     },
     "execution_count": 72,
     "metadata": {},
     "output_type": "execute_result"
    }
   ],
   "source": [
    "am_acc.columns"
   ]
  },
  {
   "cell_type": "code",
   "execution_count": 58,
   "metadata": {},
   "outputs": [
    {
     "data": {
      "text/plain": [
       "Index(['development_type_id', 'land_value', 'acres', 'county_id', 'zone_id',\n",
       "       'proportion_undevelopable', 'tax_exempt_status', 'apn',\n",
       "       'parcel_id_local', 'geom_id', 'imputation_flag', 'x', 'y', 'shape_area',\n",
       "       'block_id', 'node_id', 'node_id_small', 'node_id_walk', 'above_jobs_20',\n",
       "       'above_jobs_40', 'above_jobs_60', 'average_income_20', 'below_jobs_20',\n",
       "       'below_jobs_40', 'below_jobs_60', 'employment_20', 'employment_40',\n",
       "       'employment_60', 'population_20', 'population_40', 'population_60'],\n",
       "      dtype='object')"
      ]
     },
     "execution_count": 58,
     "metadata": {},
     "output_type": "execute_result"
    }
   ],
   "source": [
    "parcels_with_acc.columns"
   ]
  },
  {
   "cell_type": "code",
   "execution_count": 80,
   "metadata": {},
   "outputs": [
    {
     "data": {
      "text/plain": [
       "(1956207, 31)"
      ]
     },
     "execution_count": 80,
     "metadata": {},
     "output_type": "execute_result"
    }
   ],
   "source": [
    "parcels_with_acc.shape"
   ]
  },
  {
   "cell_type": "code",
   "execution_count": 81,
   "metadata": {},
   "outputs": [],
   "source": [
    "for acc_col in set(parcels_with_acc.columns) - set(parcels):\n",
    "    # fill NA with median value\n",
    "    orca.add_column('parcels',acc_col,\n",
    "         parcels_with_acc[acc_col].fillna(parcels_with_acc[acc_col].median())\n",
    "                   )"
   ]
  },
  {
   "cell_type": "code",
   "execution_count": 91,
   "metadata": {},
   "outputs": [
    {
     "data": {
      "text/plain": [
       "Index(['units_10000', 'units_sf_10000', 'units_mf_10000', 'pop_10000',\n",
       "       'hh_10000', 'poor_10000', 'renters_10000', 'med_income_10000',\n",
       "       'jobs_10000', 'med_rent_10000', 'pop_white_10000', 'pop_black_10000',\n",
       "       'pop_asian_10000', 'pop_hisp_10000', 'units_25000', 'units_sf_25000',\n",
       "       'units_mf_25000', 'pop_25000', 'hh_25000', 'poor_25000',\n",
       "       'renters_25000', 'med_income_25000', 'jobs_25000', 'med_rent_25000',\n",
       "       'pop_white_25000', 'pop_black_25000', 'pop_asian_25000',\n",
       "       'pop_hisp_25000'],\n",
       "      dtype='object')"
      ]
     },
     "execution_count": 91,
     "metadata": {},
     "output_type": "execute_result"
    }
   ],
   "source": [
    "nodessmall = orca.get_table('nodessmall').to_frame()\n",
    "nodessmall.columns"
   ]
  },
  {
   "cell_type": "code",
   "execution_count": 96,
   "metadata": {},
   "outputs": [
    {
     "data": {
      "text/plain": [
       "Index(['units_500_walk', 'sqft_unit_500_walk', 'singles_500_walk',\n",
       "       'elderly_hh_500_walk', 'children_500_walk', 'units_sf_500_walk',\n",
       "       'units_mf_500_walk', 'pop_500_walk', 'hh_500_walk', 'poor_500_walk',\n",
       "       'rich_500_walk', 'renters_500_walk', 'avg_income_500_walk',\n",
       "       'jobs_500_walk', 'avg_rent_500_walk', 'pop_white_500_walk',\n",
       "       'pop_black_500_walk', 'pop_asian_500_walk', 'pop_hisp_500_walk',\n",
       "       'units_1500_walk', 'sqft_unit_1500_walk', 'singles_1500_walk',\n",
       "       'elderly_hh_1500_walk', 'children_1500_walk', 'units_sf_1500_walk',\n",
       "       'units_mf_1500_walk', 'pop_1500_walk', 'hh_1500_walk', 'poor_1500_walk',\n",
       "       'rich_1500_walk', 'renters_1500_walk', 'avg_income_1500_walk',\n",
       "       'jobs_1500_walk', 'avg_rent_1500_walk', 'pop_white_1500_walk',\n",
       "       'pop_black_1500_walk', 'pop_asian_1500_walk', 'pop_hisp_1500_walk',\n",
       "       'pop_2500_walk', 'pop_white_2500_walk', 'pop_black_2500_walk',\n",
       "       'pop_asian_2500_walk', 'pop_hisp_2500_walk', 'prop_children_500_walk',\n",
       "       'prop_singles_500_walk', 'prop_elderly_500_walk', 'prop_black_500_walk',\n",
       "       'prop_white_500_walk', 'prop_asian_500_walk', 'prop_hisp_500_walk',\n",
       "       'prop_rich_500_walk', 'prop_poor_500_walk', 'prop_children_1500_walk',\n",
       "       'prop_singles_1500_walk', 'prop_elderly_1500_walk',\n",
       "       'prop_black_1500_walk', 'prop_white_1500_walk', 'prop_asian_1500_walk',\n",
       "       'prop_hisp_1500_walk', 'prop_rich_1500_walk', 'prop_poor_1500_walk',\n",
       "       'pop_jobs_ratio_1500_walk', 'avg_hhs_500_walk', 'avg_hhs_1500_walk'],\n",
       "      dtype='object')"
      ]
     },
     "execution_count": 96,
     "metadata": {},
     "output_type": "execute_result"
    }
   ],
   "source": [
    "nodeswalk = orca.get_table('nodeswalk').to_frame()\n",
    "nodeswalk.columns"
   ]
  },
  {
   "cell_type": "code",
   "execution_count": 84,
   "metadata": {},
   "outputs": [],
   "source": [
    "county_dummies = pd.get_dummies(parcels['county_id'].astype(int),prefix='county')\n",
    "for i in county_dummies.columns:\n",
    "    orca.add_column('parcels',i,county_dummies[i])"
   ]
  },
  {
   "cell_type": "code",
   "execution_count": 97,
   "metadata": {},
   "outputs": [],
   "source": [
    "@orca.table(cache=False)\n",
    "def hh_merged():\n",
    "    df = orca.merge_tables(target = 'households',tables = ['households','units','buildings','parcels'\n",
    "                                                          ,'nodessmall','nodeswalk'\n",
    "                                                          ])\n",
    "    return df"
   ]
  },
  {
   "cell_type": "code",
   "execution_count": 99,
   "metadata": {},
   "outputs": [
    {
     "data": {
      "text/plain": [
       "(2487699, 185)"
      ]
     },
     "execution_count": 99,
     "metadata": {},
     "output_type": "execute_result"
    }
   ],
   "source": [
    "\n",
    "\n",
    "acc_cols = list(orca.get_table('nodessmall').to_frame().columns) + list(orca.get_table('nodeswalk').to_frame().columns) + list(set(parcels_with_acc.columns) - set(parcels))\n",
    "\n",
    "df = orca.get_table('hh_merged').to_frame()\n",
    "df.shape"
   ]
  },
  {
   "cell_type": "code",
   "execution_count": null,
   "metadata": {},
   "outputs": [],
   "source": [
    "#Exclude\n",
    "'serialno', 'cars',  'tract', 'block_group'\n",
    "\n",
    "#Binary Choices\n",
    "'hispanic_head','recent_mover', 'single_family'\n",
    "\n",
    "#Continous\n",
    "'building_type', 'income', 'race_of_head', 'age_of_head', 'workers','county', 'children', 'tenure',"
   ]
  },
  {
   "cell_type": "code",
   "execution_count": 108,
   "metadata": {},
   "outputs": [],
   "source": [
    "df['cars_alt'] = df['cars'].apply(lambda x: 0*(x==0)+ 1*(x==1)+2*(x==2)+3*(x>=3))"
   ]
  },
  {
   "cell_type": "code",
   "execution_count": 112,
   "metadata": {
    "scrolled": true
   },
   "outputs": [
    {
     "data": {
      "text/plain": [
       "Index(['serialno', 'persons', 'building_type', 'cars', 'income',\n",
       "       'race_of_head', 'hispanic_head', 'age_of_head', 'workers', 'state',\n",
       "       'county', 'tract', 'block_group', 'children', 'tenure', 'recent_mover',\n",
       "       'block_group_id', 'single_family', 'unit_id', 'building_id',\n",
       "       'node_id_small', 'node_id_walk', 'hh_inc_under_25k', 'hh_inc_25_to_75k',\n",
       "       'hh_inc_75_to_200k', 'tenure_1', 'tenure_2', 'tenure_3', 'tenure_4',\n",
       "       'single_family_int', 'building_type_2', 'hh_inc_150kplus',\n",
       "       'hh_size_1per', 'num_units', 'unit_num', 'unit_residential_price',\n",
       "       'unit_residential_rent', 'parcel_id', 'development_type_id',\n",
       "       'improvement_value', 'residential_units', 'residential_sqft',\n",
       "       'sqft_per_unit', 'non_residential_sqft', 'building_sqft',\n",
       "       'nonres_rent_per_sqft', 'res_price_per_sqft', 'stories', 'year_built',\n",
       "       'redfin_sale_price', 'redfin_sale_year', 'redfin_home_type',\n",
       "       'costar_property_type', 'costar_rent', 'building_type_id',\n",
       "       'res_sqft_per_unit', 'land_value', 'acres', 'county_id', 'zone_id',\n",
       "       'proportion_undevelopable', 'tax_exempt_status', 'apn',\n",
       "       'parcel_id_local', 'geom_id', 'imputation_flag', 'x', 'y', 'shape_area',\n",
       "       'block_id', 'node_id', 'population_60', 'below_jobs_20',\n",
       "       'below_jobs_60', 'below_jobs_40', 'employment_20', 'above_jobs_40',\n",
       "       'average_income_20', 'population_20', 'employment_40', 'population_40',\n",
       "       'employment_60', 'above_jobs_60', 'above_jobs_20', 'county_1',\n",
       "       'county_13', 'county_41', 'county_55', 'county_75', 'county_81',\n",
       "       'county_85', 'county_95', 'county_97', 'units_500_walk',\n",
       "       'sqft_unit_500_walk', 'singles_500_walk', 'elderly_hh_500_walk',\n",
       "       'children_500_walk', 'units_sf_500_walk', 'units_mf_500_walk'],\n",
       "      dtype='object')"
      ]
     },
     "execution_count": 112,
     "metadata": {},
     "output_type": "execute_result"
    }
   ],
   "source": [
    "df.columns[:100] "
   ]
  },
  {
   "cell_type": "code",
   "execution_count": 14,
   "metadata": {},
   "outputs": [],
   "source": [
    "#Defining a set of Variables for the model \n"
   ]
  },
  {
   "cell_type": "code",
   "execution_count": 15,
   "metadata": {},
   "outputs": [],
   "source": [
    "X = df.drop(labels = 'cars_alt', axis =1)\n",
    "y = df['cars_alt']"
   ]
  },
  {
   "cell_type": "code",
   "execution_count": null,
   "metadata": {},
   "outputs": [],
   "source": [
    "# sample_size = 100000\n",
    "# df_data_jayne = df.sample(n= sample_size, random_state= 234)\n",
    "# x = df_data_jayne.drop(labels = 'cars_alt', axis =1)\n",
    "# y = df_data_jayne['cars_alt']\n",
    "# X_train, X_test, y_train, y_test = train_test_split(x, y, test_size=0.33, random_state= 2348)\n",
    "    \n",
    "# result_train = []\n",
    "# result_test = []\n",
    "# max_depth = range(1,30)\n",
    "# for i in max_depth:\n",
    "#     clf = tree.DecisionTreeClassifier(criterion='entropy',max_depth=i)\n",
    "#     scores = cross_validate(clf, X_train, y_train, cv=3, return_train_score=True)\n",
    "#     result_train.append(scores['train_score'].mean())\n",
    "#     result_test.append(scores['test_score'].mean()) \n",
    "     \n",
    "# plt.figure()\n",
    "# plt.plot(max_depth, result_train, '-o',color='blue',label='Train')\n",
    "# plt.plot(max_depth, result_test, '-o',color='red',label='Test')\n",
    "# plt.xlabel('Max depth')\n",
    "# plt.ylabel('Accuracy')\n",
    "# plt.title('Random sample =' + str(sample_size))\n",
    "# plt.legend()"
   ]
  },
  {
   "cell_type": "code",
   "execution_count": null,
   "metadata": {},
   "outputs": [],
   "source": [
    "# clf = tree.DecisionTreeClassifier(criterion='entropy',max_depth=8)\n",
    "# clf.fit(X_train, y_train)\n",
    "\n",
    "# aa = pd.DataFrame({'importances':clf.feature_importances_,\n",
    "#                    'variables':X_train.columns}).sort_values(by = 'importances', ascending= True)\n",
    "\n",
    "# aa.plot.barh(x = 'variables', y='importances', color ='lightsteelblue', figsize =(5,15) )\n",
    "# plt.yticks()#(fontsize = 10)\n",
    "# plt.tight_layout()"
   ]
  },
  {
   "cell_type": "code",
   "execution_count": 243,
   "metadata": {},
   "outputs": [
    {
     "name": "stdout",
     "output_type": "stream",
     "text": [
      "0.6116060606060606\n"
     ]
    },
    {
     "data": {
      "text/html": [
       "<div>\n",
       "<style scoped>\n",
       "    .dataframe tbody tr th:only-of-type {\n",
       "        vertical-align: middle;\n",
       "    }\n",
       "\n",
       "    .dataframe tbody tr th {\n",
       "        vertical-align: top;\n",
       "    }\n",
       "\n",
       "    .dataframe thead th {\n",
       "        text-align: right;\n",
       "    }\n",
       "</style>\n",
       "<table border=\"1\" class=\"dataframe\">\n",
       "  <thead>\n",
       "    <tr style=\"text-align: right;\">\n",
       "      <th>col_0</th>\n",
       "      <th>0</th>\n",
       "      <th>1</th>\n",
       "      <th>2</th>\n",
       "      <th>3</th>\n",
       "    </tr>\n",
       "    <tr>\n",
       "      <th>cars_alt</th>\n",
       "      <th></th>\n",
       "      <th></th>\n",
       "      <th></th>\n",
       "      <th></th>\n",
       "    </tr>\n",
       "  </thead>\n",
       "  <tbody>\n",
       "    <tr>\n",
       "      <th>0</th>\n",
       "      <td>0.386697</td>\n",
       "      <td>0.500188</td>\n",
       "      <td>0.090943</td>\n",
       "      <td>0.022172</td>\n",
       "    </tr>\n",
       "    <tr>\n",
       "      <th>1</th>\n",
       "      <td>0.053884</td>\n",
       "      <td>0.683865</td>\n",
       "      <td>0.224602</td>\n",
       "      <td>0.037649</td>\n",
       "    </tr>\n",
       "    <tr>\n",
       "      <th>2</th>\n",
       "      <td>0.009274</td>\n",
       "      <td>0.196963</td>\n",
       "      <td>0.666968</td>\n",
       "      <td>0.126795</td>\n",
       "    </tr>\n",
       "    <tr>\n",
       "      <th>3</th>\n",
       "      <td>0.004067</td>\n",
       "      <td>0.068893</td>\n",
       "      <td>0.414222</td>\n",
       "      <td>0.512817</td>\n",
       "    </tr>\n",
       "  </tbody>\n",
       "</table>\n",
       "</div>"
      ],
      "text/plain": [
       "col_0            0         1         2         3\n",
       "cars_alt                                        \n",
       "0         0.386697  0.500188  0.090943  0.022172\n",
       "1         0.053884  0.683865  0.224602  0.037649\n",
       "2         0.009274  0.196963  0.666968  0.126795\n",
       "3         0.004067  0.068893  0.414222  0.512817"
      ]
     },
     "execution_count": 243,
     "metadata": {},
     "output_type": "execute_result"
    }
   ],
   "source": [
    "# print (clf.score(X_test, y_test))\n",
    "# pd.crosstab( y_test, clf.predict(X_test),normalize = 'index')"
   ]
  },
  {
   "cell_type": "code",
   "execution_count": 59,
   "metadata": {},
   "outputs": [
    {
     "data": {
      "text/plain": [
       "<orca.orca.DataFrameWrapper at 0x7fc9a996ef98>"
      ]
     },
     "execution_count": 59,
     "metadata": {},
     "output_type": "execute_result"
    }
   ],
   "source": [
    "df_a = pd.DataFrame(\n",
    "    {'a': [0, 1]},\n",
    "    index=['a0', 'a1'])\n",
    "df_b = pd.DataFrame(\n",
    "    {'b': [2, 3, 4, 5, 6],\n",
    "     'a_id': ['a0', 'a1', 'a1', 'a0', 'a1']},\n",
    "    index=['b0', 'b1', 'b2', 'b3', 'b4'])\n",
    "df_c = pd.DataFrame(\n",
    "    {'c': [7, 8, 9]},\n",
    "    index=['c0', 'c1', 'c2'])\n",
    "df_d = pd.DataFrame(\n",
    "    {'d': [10, 11, 12, 13, 15, 16, 16, 17, 18, 19],\n",
    "     'b_id': ['b2', 'b0', 'b3', 'b3', 'b1', 'b4', 'b1', 'b4', 'b3', 'b3'],\n",
    "     'c_id': ['c0', 'c1', 'c1', 'c0', 'c0', 'c2', 'c1', 'c2', 'c1', 'c2']},\n",
    "    index=['d0', 'd1', 'd2', 'd3', 'd4', 'd5', 'd6', 'd7', 'd8', 'd9'])\n",
    "\n",
    "orca.add_table('a', df_a)\n",
    "orca.add_table('b', df_b)\n",
    "orca.add_table('c', df_c)\n",
    "orca.add_table('d', df_d)"
   ]
  },
  {
   "cell_type": "code",
   "execution_count": 60,
   "metadata": {},
   "outputs": [],
   "source": [
    "orca.broadcast(cast='a', onto='b', cast_index=True, onto_on='a_id')\n",
    "orca.broadcast(cast='b', onto='d', cast_index=True, onto_on='b_id')\n",
    "orca.broadcast(cast='c', onto='d', cast_index=True, onto_on='c_id')"
   ]
  },
  {
   "cell_type": "code",
   "execution_count": null,
   "metadata": {},
   "outputs": [],
   "source": []
  },
  {
   "cell_type": "markdown",
   "metadata": {},
   "source": [
    "# Data "
   ]
  },
  {
   "cell_type": "markdown",
   "metadata": {},
   "source": [
    "## Reading & Merging data "
   ]
  },
  {
   "cell_type": "code",
   "execution_count": 122,
   "metadata": {},
   "outputs": [],
   "source": [
    "@orca.table(cache=False)\n",
    "def nodessmall():\n",
    "    df = pd.read_csv('/home/data/2018-07/nodessmall_vars.csv')\n",
    "    df.rename(columns = {'osmid':'node_id_small'}, inplace = True)\n",
    "    df.set_index('node_id_small',inplace = True)\n",
    "    return df\n",
    "\n",
    "@orca.table(cache=False)\n",
    "def nodeswalk():\n",
    "    df = pd.read_csv('/home/data/2018-07/nodeswalk_vars.csv')\n",
    "    df.rename(columns = {'osmid':'node_id_walk'}, inplace = True)\n",
    "    df.set_index('node_id_walk',inplace = True)\n",
    "    return df\n",
    "\n",
    "@orca.table(cache=False)\n",
    "def am_acc():\n",
    "    df = pd.read_csv('/home/data/urbanaccess_transit/access_indicators_ampeak.csv',dtype = {'block_id':str})\n",
    "    df.block_id = df.block_id.str.zfill(15)\n",
    "    return df\n",
    "\n",
    "households = orca.get_table('households').to_frame()\n",
    "persons = orca.get_table('persons').to_frame()\n",
    "parcels = orca.get_table('parcels').to_frame()\n",
    "nodessmall = orca.get_table('nodessmall').to_frame()\n",
    "nodeswalk = orca.get_table('nodeswalk').to_frame()\n",
    "am_acc = orca.get_table('am_acc').to_frame()\n",
    "\n",
    "# # load UrbanAccess transit accessibility variables\n",
    "# am_acc = pd.read_csv('/home/data/urbanaccess_transit/access_indicators_ampeak.csv',dtype = {'block_id':str})\n",
    "# am_acc.block_id = am_acc.block_id.str.zfill(15)\n",
    "# parcels_with_acc = parcels.merge(am_acc, how='left', on='block_id').reindex(index = parcels.index)\n",
    "\n",
    "# #Creating a county dummy \n",
    "# county_dummies = pd.get_dummies(parcels['county_id'].astype(int),prefix='county')\n",
    "# for i in county_dummies.columns:\n",
    "#     orca.add_column('parcels',i,county_dummies[i])"
   ]
  },
  {
   "cell_type": "code",
   "execution_count": 148,
   "metadata": {},
   "outputs": [
    {
     "data": {
      "text/plain": [
       "Index(['serialno', 'persons', 'building_type', 'cars', 'income',\n",
       "       'race_of_head', 'hispanic_head', 'age_of_head', 'workers', 'state',\n",
       "       'county', 'tract', 'block_group', 'children', 'tenure', 'recent_mover',\n",
       "       'block_group_id', 'single_family', 'unit_id', 'building_id',\n",
       "       'node_id_small', 'node_id_walk', 'hh_inc_under_25k', 'hh_inc_25_to_75k',\n",
       "       'hh_inc_75_to_200k', 'tenure_1', 'tenure_2', 'tenure_3', 'tenure_4',\n",
       "       'single_family_int', 'building_type_2', 'hh_inc_150kplus',\n",
       "       'hh_size_1per'],\n",
       "      dtype='object')"
      ]
     },
     "execution_count": 148,
     "metadata": {},
     "output_type": "execute_result"
    }
   ],
   "source": [
    "# persons.columns\n",
    "households.columns"
   ]
  },
  {
   "cell_type": "code",
   "execution_count": 149,
   "metadata": {},
   "outputs": [
    {
     "data": {
      "text/plain": [
       "Index(['development_type_id', 'land_value', 'acres', 'county_id', 'zone_id',\n",
       "       'proportion_undevelopable', 'tax_exempt_status', 'apn',\n",
       "       'parcel_id_local', 'geom_id', 'imputation_flag', 'x', 'y', 'shape_area',\n",
       "       'block_id', 'node_id', 'node_id_small', 'node_id_walk', 'population_60',\n",
       "       'below_jobs_20', 'below_jobs_60', 'below_jobs_40', 'employment_20',\n",
       "       'above_jobs_40', 'average_income_20', 'population_20', 'employment_40',\n",
       "       'population_40', 'employment_60', 'above_jobs_60', 'above_jobs_20',\n",
       "       'county_1', 'county_13', 'county_41', 'county_55', 'county_75',\n",
       "       'county_81', 'county_85', 'county_95', 'county_97'],\n",
       "      dtype='object')"
      ]
     },
     "execution_count": 149,
     "metadata": {},
     "output_type": "execute_result"
    }
   ],
   "source": [
    "parcels.columns"
   ]
  },
  {
   "cell_type": "code",
   "execution_count": 146,
   "metadata": {},
   "outputs": [],
   "source": [
    "#Broadcasting tables \n",
    "orca.broadcast(cast = 'am_acc', onto = 'parcels', cast_on = 'block_id', onto_on = 'block_id')\n",
    "orca.broadcast(cast = 'persons', onto = 'households', cast_on ='household_id', onto_index = True)"
   ]
  },
  {
   "cell_type": "code",
   "execution_count": 150,
   "metadata": {},
   "outputs": [
    {
     "data": {
      "text/plain": [
       "[('parcels', 'buildings'),\n",
       " ('buildings', 'units'),\n",
       " ('units', 'households'),\n",
       " ('households', 'persons'),\n",
       " ('buildings', 'jobs'),\n",
       " ('buildings', 'establishments'),\n",
       " ('nodeswalk', 'parcels'),\n",
       " ('nodeswalk', 'rentals'),\n",
       " ('nodessmall', 'rentals'),\n",
       " ('nodessmall', 'parcels'),\n",
       " ('a', 'b'),\n",
       " ('b', 'd'),\n",
       " ('c', 'd'),\n",
       " ('persons', 'households'),\n",
       " ('am_acc', 'parcels')]"
      ]
     },
     "execution_count": 150,
     "metadata": {},
     "output_type": "execute_result"
    }
   ],
   "source": [
    "orca.list_broadcasts()"
   ]
  },
  {
   "cell_type": "code",
   "execution_count": null,
   "metadata": {},
   "outputs": [],
   "source": [
    "# More household varibles from the persons table. \n",
    "hh_16_younger = persons[persons['age'] < 16].groupby(by='household_id').agg({'age':'count'}).rename(columns={'age': 'hh_16_younger'})\n",
    "hh_70_older = persons[persons['age'] > 70].groupby(by='household_id').agg({'age':'count'}).rename(columns={'age': 'hh_70_older'})\n",
    "hh_students = persons[persons['student'] == 1].groupby(by='household_id').agg({'student':'count'}).rename(columns={'student': 'hh_student'})\n",
    "hh_work_home = persons[persons['work_at_home'] == 1].groupby(by='household_id').agg({'work_at_home':'count'}).rename(columns={'work_at_home': 'hh_work_home'})\n",
    "\n",
    "#Mergin new varaibles to the household table \n",
    "## CHANGE THIS TO ORCA PIPELINE FLOW\n",
    "hh_merge = households.merge(hh_16_younger, on = 'household_id',\n",
    "                           ).merge(hh_70_older, on ='household_id',\n",
    "                                  ).merge(hh_students, on= 'household_id',\n",
    "                                         ).merge(hh_work_home, on= 'household_id' )\n",
    "\n",
    "hh_merge.head(5)\n",
    "\n",
    "#Example of how to use ORCA flow\n",
    "# cars_alt = orca.get_table('households').to_frame()['cars'].apply(lambda x: 0*(x==0)+ 1*(x==1)+2*(x==2)+3*(x>=3))\n",
    "# orca.add_column('households', 'cars_alt', cars_alt)\n",
    "\n",
    "\n",
    "#Creating the dependent variables 0, 1 ,2 or +3 cars \n",
    "hh_merge['cars_alt'] = hh_merge['cars'].apply(lambda x: 0*(x==0)+ 1*(x==1)+2*(x==2)+3*(x>=3))\n",
    "\n",
    "#Impute missing infomration in the parcel/trasint accessibility table \n",
    "for acc_col in set(parcels_with_acc.columns) - set(parcels):\n",
    "    # fill NA with median value\n",
    "    orca.add_column('parcels',acc_col,\n",
    "         parcels_with_acc[acc_col].fillna(parcels_with_acc[acc_col].median())\n",
    "                   )"
   ]
  },
  {
   "cell_type": "code",
   "execution_count": null,
   "metadata": {},
   "outputs": [],
   "source": [
    "#Merging \n",
    "@orca.table(cache=False)\n",
    "def hh_merged():\n",
    "    df = orca.merge_tables(target = 'households',tables = ['households','units','buildings','parcels'\n",
    "                                                          ,'nodessmall','nodeswalk'\n",
    "                                                          ])\n",
    "    return df"
   ]
  },
  {
   "cell_type": "code",
   "execution_count": null,
   "metadata": {},
   "outputs": [],
   "source": [
    "#Final Data set \n",
    "df = orca.get_table('hh_merged').to_frame()"
   ]
  },
  {
   "cell_type": "markdown",
   "metadata": {},
   "source": [
    "## Data cleaning"
   ]
  },
  {
   "cell_type": "code",
   "execution_count": 96,
   "metadata": {},
   "outputs": [],
   "source": [
    "#Importing data \n",
    "df = orca.get_table('households').to_frame()\n",
    "df_data = df.loc[:,['serialno','persons', 'income','race_of_head','age_of_head', \n",
    "                    'workers','children', 'tenure','cars_alt']]"
   ]
  },
  {
   "cell_type": "code",
   "execution_count": 97,
   "metadata": {},
   "outputs": [],
   "source": [
    "def normalize(data):\n",
    "    ''' \n",
    "    Normalizes values in a Series\n",
    "    Input: \n",
    "    data: Series-like\n",
    "    \n",
    "    Return: Normalized Series-like object\n",
    "    '''\n",
    "    return (data - np.mean(data)) / np.std(data)\n",
    "\n",
    "to_normalize = ['income', 'age_of_head', 'workers', 'children', 'tenure' ]\n",
    "\n",
    "for i in to_normalize:\n",
    "    df_data[i] = normalize(df_data[[i]])"
   ]
  },
  {
   "cell_type": "code",
   "execution_count": 98,
   "metadata": {},
   "outputs": [],
   "source": [
    "#Training and test index\n",
    "import random\n",
    "index_list = df_data.serialno.unique()\n",
    "\n",
    "train_index = np.array(random.sample(list(index_list), int(len(index_list)*0.66) ))\n",
    "test_index = index_list[~np.isin(index_list, train)]\n",
    "\n",
    "#Training and test set \n",
    "X_train = df_data[df_data.serialno.isin(train_index)].drop(['serialno', 'cars_alt'], axis=1)\n",
    "y_train = df_data[df_data.serialno.isin(train_index)].loc[:,['cars_alt']]\n",
    "\n",
    "X_test = df_data[df_data.serialno.isin(test_index)].drop(['serialno', 'cars_alt'], axis=1)\n",
    "y_test = df_data[df_data.serialno.isin(test_index)].loc[:,['cars_alt']]"
   ]
  },
  {
   "cell_type": "code",
   "execution_count": 95,
   "metadata": {},
   "outputs": [],
   "source": [
    "# df_data = df.loc[:,['persons', 'income','race_of_head', 'age_of_head', \n",
    "#                     'workers','children', 'tenure', 'recent_mover',\n",
    "#                     'sqft_per_unit', 'res_price_per_sqft',\n",
    "#                     'land_value', 'county_id', 'zone_id','tax_exempt_status',\n",
    "#                     'development_type_id', 'cars_alt' ]]"
   ]
  },
  {
   "cell_type": "markdown",
   "metadata": {},
   "source": [
    "# Machine Learning Approach "
   ]
  },
  {
   "cell_type": "markdown",
   "metadata": {},
   "source": [
    "## Decision Tree"
   ]
  },
  {
   "cell_type": "code",
   "execution_count": 100,
   "metadata": {},
   "outputs": [],
   "source": [
    "from sklearn import tree\n",
    "from sklearn.model_selection import KFold, train_test_split\n",
    "from sklearn.model_selection import cross_validate"
   ]
  },
  {
   "cell_type": "code",
   "execution_count": 113,
   "metadata": {},
   "outputs": [],
   "source": [
    "# #Splitting the data\n",
    "# x = df_data.drop('cars_alt', axis = 1)\n",
    "# y = df_data.loc[:,'cars_alt']\n",
    "# X_train, X_test, y_train, y_test = train_test_split(x, y, test_size=0.33, random_state= 2348)"
   ]
  },
  {
   "cell_type": "code",
   "execution_count": 101,
   "metadata": {},
   "outputs": [
    {
     "data": {
      "text/plain": [
       "{'fit_time': array([4.05221915, 4.80237389, 4.34162521]),\n",
       " 'score_time': array([0.27604175, 0.35442281, 0.47262359]),\n",
       " 'test_score': array([0.60409366, 0.58960749, 0.55634496]),\n",
       " 'train_score': array([0.5756823 , 0.58155577, 0.60081105])}"
      ]
     },
     "execution_count": 101,
     "metadata": {},
     "output_type": "execute_result"
    }
   ],
   "source": [
    "clf = tree.DecisionTreeClassifier(criterion='entropy',max_depth=5)\n",
    "scores = cross_validate(clf, X_train, y_train, cv=3, return_train_score=True)\n",
    "scores"
   ]
  },
  {
   "cell_type": "code",
   "execution_count": 114,
   "metadata": {},
   "outputs": [],
   "source": [
    "result_train = []\n",
    "result_test = []\n",
    "max_depth = range(1,20)\n",
    "for i in max_depth:\n",
    "    clf = tree.DecisionTreeClassifier(criterion='entropy',max_depth=i)\n",
    "    scores = cross_validate(clf, X_train, y_train, cv=3, return_train_score=True)\n",
    "    result_train.append(scores['train_score'].mean())\n",
    "    result_test.append(scores['test_score'].mean()) \n"
   ]
  },
  {
   "cell_type": "code",
   "execution_count": 115,
   "metadata": {},
   "outputs": [
    {
     "data": {
      "text/plain": [
       "<matplotlib.legend.Legend at 0x7f4613716d30>"
      ]
     },
     "execution_count": 115,
     "metadata": {},
     "output_type": "execute_result"
    },
    {
     "data": {
      "image/png": "[encoded data removed]",
      "text/plain": [
       "<Figure size 432x288 with 1 Axes>"
      ]
     },
     "metadata": {
      "needs_background": "light"
     },
     "output_type": "display_data"
    }
   ],
   "source": [
    "plt.figure()\n",
    "plt.plot(max_depth, result_train, '-o',color='blue',label='Train')\n",
    "plt.plot(max_depth, result_test, '-o',color='red',label='Test')\n",
    "plt.xlabel('Max depth')\n",
    "plt.ylabel('Accuracy')\n",
    "plt.legend()"
   ]
  },
  {
   "cell_type": "code",
   "execution_count": 116,
   "metadata": {},
   "outputs": [
    {
     "data": {
      "text/plain": [
       "DecisionTreeClassifier(class_weight=None, criterion='entropy', max_depth=7,\n",
       "            max_features=None, max_leaf_nodes=None,\n",
       "            min_impurity_decrease=0.0, min_impurity_split=None,\n",
       "            min_samples_leaf=1, min_samples_split=2,\n",
       "            min_weight_fraction_leaf=0.0, presort=False, random_state=None,\n",
       "            splitter='best')"
      ]
     },
     "execution_count": 116,
     "metadata": {},
     "output_type": "execute_result"
    }
   ],
   "source": [
    "clf = tree.DecisionTreeClassifier(criterion='entropy',max_depth=7)\n",
    "clf.fit(X_train, y_train)"
   ]
  },
  {
   "cell_type": "code",
   "execution_count": 117,
   "metadata": {},
   "outputs": [
    {
     "data": {
      "text/plain": [
       "DecisionTreeClassifier(class_weight=None, criterion='entropy', max_depth=7,\n",
       "            max_features=None, max_leaf_nodes=None,\n",
       "            min_impurity_decrease=0.0, min_impurity_split=None,\n",
       "            min_samples_leaf=1, min_samples_split=2,\n",
       "            min_weight_fraction_leaf=0.0, presort=False, random_state=None,\n",
       "            splitter='best')"
      ]
     },
     "execution_count": 117,
     "metadata": {},
     "output_type": "execute_result"
    }
   ],
   "source": [
    "clf.fit(X_train, y_train)\n",
    "# tree_importance = clf.feature_importances_"
   ]
  },
  {
   "cell_type": "code",
   "execution_count": 118,
   "metadata": {},
   "outputs": [
    {
     "data": {
      "image/png": "[encoded data removed]",
      "text/plain": [
       "<Figure size 432x288 with 1 Axes>"
      ]
     },
     "metadata": {
      "needs_background": "light"
     },
     "output_type": "display_data"
    }
   ],
   "source": [
    "aa = pd.DataFrame({'importances':clf.feature_importances_,\n",
    "                   'variables':X_train.columns}).sort_values(by = 'importances', ascending= True)\n",
    "\n",
    "aa.plot.barh(x = 'variables', y='importances', color ='lightsteelblue')#, figsize =(15,5) )\n",
    "plt.yticks()#(fontsize = 10)\n",
    "plt.tight_layout()\n"
   ]
  },
  {
   "cell_type": "code",
   "execution_count": 119,
   "metadata": {},
   "outputs": [
    {
     "data": {
      "text/html": [
       "<div>\n",
       "<style scoped>\n",
       "    .dataframe tbody tr th:only-of-type {\n",
       "        vertical-align: middle;\n",
       "    }\n",
       "\n",
       "    .dataframe tbody tr th {\n",
       "        vertical-align: top;\n",
       "    }\n",
       "\n",
       "    .dataframe thead th {\n",
       "        text-align: right;\n",
       "    }\n",
       "</style>\n",
       "<table border=\"1\" class=\"dataframe\">\n",
       "  <thead>\n",
       "    <tr style=\"text-align: right;\">\n",
       "      <th>col_0</th>\n",
       "      <th>0</th>\n",
       "      <th>1</th>\n",
       "      <th>2</th>\n",
       "      <th>3</th>\n",
       "    </tr>\n",
       "    <tr>\n",
       "      <th>cars_alt</th>\n",
       "      <th></th>\n",
       "      <th></th>\n",
       "      <th></th>\n",
       "      <th></th>\n",
       "    </tr>\n",
       "  </thead>\n",
       "  <tbody>\n",
       "    <tr>\n",
       "      <th>0</th>\n",
       "      <td>0.224144</td>\n",
       "      <td>0.535961</td>\n",
       "      <td>0.192114</td>\n",
       "      <td>0.047781</td>\n",
       "    </tr>\n",
       "    <tr>\n",
       "      <th>1</th>\n",
       "      <td>0.033347</td>\n",
       "      <td>0.628202</td>\n",
       "      <td>0.292679</td>\n",
       "      <td>0.045772</td>\n",
       "    </tr>\n",
       "    <tr>\n",
       "      <th>2</th>\n",
       "      <td>0.003101</td>\n",
       "      <td>0.149735</td>\n",
       "      <td>0.747225</td>\n",
       "      <td>0.099940</td>\n",
       "    </tr>\n",
       "    <tr>\n",
       "      <th>3</th>\n",
       "      <td>0.001783</td>\n",
       "      <td>0.050780</td>\n",
       "      <td>0.477248</td>\n",
       "      <td>0.470188</td>\n",
       "    </tr>\n",
       "  </tbody>\n",
       "</table>\n",
       "</div>"
      ],
      "text/plain": [
       "col_0            0         1         2         3\n",
       "cars_alt                                        \n",
       "0         0.224144  0.535961  0.192114  0.047781\n",
       "1         0.033347  0.628202  0.292679  0.045772\n",
       "2         0.003101  0.149735  0.747225  0.099940\n",
       "3         0.001783  0.050780  0.477248  0.470188"
      ]
     },
     "execution_count": 119,
     "metadata": {},
     "output_type": "execute_result"
    }
   ],
   "source": [
    "pd.crosstab( y_test.cars_alt, clf.predict(X_test), normalize = 'index')"
   ]
  },
  {
   "cell_type": "code",
   "execution_count": 120,
   "metadata": {},
   "outputs": [
    {
     "data": {
      "text/plain": [
       "0.6012145748987854"
      ]
     },
     "execution_count": 120,
     "metadata": {},
     "output_type": "execute_result"
    }
   ],
   "source": [
    "clf.score(X_test, y_test)"
   ]
  },
  {
   "cell_type": "markdown",
   "metadata": {},
   "source": [
    "## Random Forest"
   ]
  },
  {
   "cell_type": "code",
   "execution_count": 121,
   "metadata": {},
   "outputs": [],
   "source": [
    "from sklearn.ensemble import RandomForestClassifier"
   ]
  },
  {
   "cell_type": "code",
   "execution_count": 124,
   "metadata": {},
   "outputs": [
    {
     "data": {
      "text/plain": [
       "{'fit_time': array([78.75218916, 76.88757825, 79.99825883]),\n",
       " 'score_time': array([4.74883509, 4.70474243, 4.69060802]),\n",
       " 'test_score': array([0.61092496, 0.58981243, 0.55823212]),\n",
       " 'train_score': array([0.57861722, 0.58653409, 0.60453241])}"
      ]
     },
     "execution_count": 124,
     "metadata": {},
     "output_type": "execute_result"
    }
   ],
   "source": [
    "clf = RandomForestClassifier(n_estimators=100,criterion='entropy',max_depth=5)\n",
    "scores = cross_validate(clf, X_train, y_train.cars_alt, cv=3, return_train_score=True)\n",
    "scores"
   ]
  },
  {
   "cell_type": "code",
   "execution_count": 125,
   "metadata": {},
   "outputs": [
    {
     "data": {
      "text/plain": [
       "<matplotlib.legend.Legend at 0x7f461361a828>"
      ]
     },
     "execution_count": 125,
     "metadata": {},
     "output_type": "execute_result"
    },
    {
     "data": {
      "image/png": "[encoded data removed]",
      "text/plain": [
       "<Figure size 432x288 with 1 Axes>"
      ]
     },
     "metadata": {
      "needs_background": "light"
     },
     "output_type": "display_data"
    }
   ],
   "source": [
    "result_train_rf = []\n",
    "result_test_rf = []\n",
    "tree_num = range(10,102,10)\n",
    "for i in tree_num:\n",
    "    clf = RandomForestClassifier(n_estimators=i,criterion='entropy',max_depth=5)\n",
    "    scores = cross_validate(clf, X_train, y_train.cars_alt, cv=3, return_train_score=True)\n",
    "    result_train_rf.append(scores['train_score'].mean())\n",
    "    result_test_rf.append(scores['test_score'].mean()) \n",
    "\n",
    "plt.figure()\n",
    "plt.plot(tree_num, result_train_rf, '-o',color='blue',label='Train')\n",
    "plt.plot(tree_num, result_test_rf, '-o',color='red',label='Test')\n",
    "plt.xlabel('Number of trees')\n",
    "plt.ylabel('Accuracy')\n",
    "plt.legend()"
   ]
  },
  {
   "cell_type": "code",
   "execution_count": 178,
   "metadata": {
    "scrolled": true
   },
   "outputs": [
    {
     "data": {
      "application/javascript": [
       "/* Put everything inside the global mpl namespace */\n",
       "window.mpl = {};\n",
       "\n",
       "\n",
       "mpl.get_websocket_type = function() {\n",
       "    if (typeof(WebSocket) !== 'undefined') {\n",
       "        return WebSocket;\n",
       "    } else if (typeof(MozWebSocket) !== 'undefined') {\n",
       "        return MozWebSocket;\n",
       "    } else {\n",
       "        alert('Your browser does not have WebSocket support.' +\n",
       "              'Please try Chrome, Safari or Firefox ≥ 6. ' +\n",
       "              'Firefox 4 and 5 are also supported but you ' +\n",
       "              'have to enable WebSockets in about:config.');\n",
       "    };\n",
       "}\n",
       "\n",
       "mpl.figure = function(figure_id, websocket, ondownload, parent_element) {\n",
       "    this.id = figure_id;\n",
       "\n",
       "    this.ws = websocket;\n",
       "\n",
       "    this.supports_binary = (this.ws.binaryType != undefined);\n",
       "\n",
       "    if (!this.supports_binary) {\n",
       "        var warnings = document.getElementById(\"mpl-warnings\");\n",
       "        if (warnings) {\n",
       "            warnings.style.display = 'block';\n",
       "            warnings.textContent = (\n",
       "                \"This browser does not support binary websocket messages. \" +\n",
       "                    \"Performance may be slow.\");\n",
       "        }\n",
       "    }\n",
       "\n",
       "    this.imageObj = new Image();\n",
       "\n",
       "    this.context = undefined;\n",
       "    this.message = undefined;\n",
       "    this.canvas = undefined;\n",
       "    this.rubberband_canvas = undefined;\n",
       "    this.rubberband_context = undefined;\n",
       "    this.format_dropdown = undefined;\n",
       "\n",
       "    this.image_mode = 'full';\n",
       "\n",
       "    this.root = $('<div/>');\n",
       "    this._root_extra_style(this.root)\n",
       "    this.root.attr('style', 'display: inline-block');\n",
       "\n",
       "    $(parent_element).append(this.root);\n",
       "\n",
       "    this._init_header(this);\n",
       "    this._init_canvas(this);\n",
       "    this._init_toolbar(this);\n",
       "\n",
       "    var fig = this;\n",
       "\n",
       "    this.waiting = false;\n",
       "\n",
       "    this.ws.onopen =  function () {\n",
       "            fig.send_message(\"supports_binary\", {value: fig.supports_binary});\n",
       "            fig.send_message(\"send_image_mode\", {});\n",
       "            if (mpl.ratio != 1) {\n",
       "                fig.send_message(\"set_dpi_ratio\", {'dpi_ratio': mpl.ratio});\n",
       "            }\n",
       "            fig.send_message(\"refresh\", {});\n",
       "        }\n",
       "\n",
       "    this.imageObj.onload = function() {\n",
       "            if (fig.image_mode == 'full') {\n",
       "                // Full images could contain transparency (where diff images\n",
       "                // almost always do), so we need to clear the canvas so that\n",
       "                // there is no ghosting.\n",
       "                fig.context.clearRect(0, 0, fig.canvas.width, fig.canvas.height);\n",
       "            }\n",
       "            fig.context.drawImage(fig.imageObj, 0, 0);\n",
       "        };\n",
       "\n",
       "    this.imageObj.onunload = function() {\n",
       "        fig.ws.close();\n",
       "    }\n",
       "\n",
       "    this.ws.onmessage = this._make_on_message_function(this);\n",
       "\n",
       "    this.ondownload = ondownload;\n",
       "}\n",
       "\n",
       "mpl.figure.prototype._init_header = function() {\n",
       "    var titlebar = $(\n",
       "        '<div class=\"ui-dialog-titlebar ui-widget-header ui-corner-all ' +\n",
       "        'ui-helper-clearfix\"/>');\n",
       "    var titletext = $(\n",
       "        '<div class=\"ui-dialog-title\" style=\"width: 100%; ' +\n",
       "        'text-align: center; padding: 3px;\"/>');\n",
       "    titlebar.append(titletext)\n",
       "    this.root.append(titlebar);\n",
       "    this.header = titletext[0];\n",
       "}\n",
       "\n",
       "\n",
       "\n",
       "mpl.figure.prototype._canvas_extra_style = function(canvas_div) {\n",
       "\n",
       "}\n",
       "\n",
       "\n",
       "mpl.figure.prototype._root_extra_style = function(canvas_div) {\n",
       "\n",
       "}\n",
       "\n",
       "mpl.figure.prototype._init_canvas = function() {\n",
       "    var fig = this;\n",
       "\n",
       "    var canvas_div = $('<div/>');\n",
       "\n",
       "    canvas_div.attr('style', 'position: relative; clear: both; outline: 0');\n",
       "\n",
       "    function canvas_keyboard_event(event) {\n",
       "        return fig.key_event(event, event['data']);\n",
       "    }\n",
       "\n",
       "    canvas_div.keydown('key_press', canvas_keyboard_event);\n",
       "    canvas_div.keyup('key_release', canvas_keyboard_event);\n",
       "    this.canvas_div = canvas_div\n",
       "    this._canvas_extra_style(canvas_div)\n",
       "    this.root.append(canvas_div);\n",
       "\n",
       "    var canvas = $('<canvas/>');\n",
       "    canvas.addClass('mpl-canvas');\n",
       "    canvas.attr('style', \"left: 0; top: 0; z-index: 0; outline: 0\")\n",
       "\n",
       "    this.canvas = canvas[0];\n",
       "    this.context = canvas[0].getContext(\"2d\");\n",
       "\n",
       "    var backingStore = this.context.backingStorePixelRatio ||\n",
       "\tthis.context.webkitBackingStorePixelRatio ||\n",
       "\tthis.context.mozBackingStorePixelRatio ||\n",
       "\tthis.context.msBackingStorePixelRatio ||\n",
       "\tthis.context.oBackingStorePixelRatio ||\n",
       "\tthis.context.backingStorePixelRatio || 1;\n",
       "\n",
       "    mpl.ratio = (window.devicePixelRatio || 1) / backingStore;\n",
       "\n",
       "    var rubberband = $('<canvas/>');\n",
       "    rubberband.attr('style', \"position: absolute; left: 0; top: 0; z-index: 1;\")\n",
       "\n",
       "    var pass_mouse_events = true;\n",
       "\n",
       "    canvas_div.resizable({\n",
       "        start: function(event, ui) {\n",
       "            pass_mouse_events = false;\n",
       "        },\n",
       "        resize: function(event, ui) {\n",
       "            fig.request_resize(ui.size.width, ui.size.height);\n",
       "        },\n",
       "        stop: function(event, ui) {\n",
       "            pass_mouse_events = true;\n",
       "            fig.request_resize(ui.size.width, ui.size.height);\n",
       "        },\n",
       "    });\n",
       "\n",
       "    function mouse_event_fn(event) {\n",
       "        if (pass_mouse_events)\n",
       "            return fig.mouse_event(event, event['data']);\n",
       "    }\n",
       "\n",
       "    rubberband.mousedown('button_press', mouse_event_fn);\n",
       "    rubberband.mouseup('button_release', mouse_event_fn);\n",
       "    // Throttle sequential mouse events to 1 every 20ms.\n",
       "    rubberband.mousemove('motion_notify', mouse_event_fn);\n",
       "\n",
       "    rubberband.mouseenter('figure_enter', mouse_event_fn);\n",
       "    rubberband.mouseleave('figure_leave', mouse_event_fn);\n",
       "\n",
       "    canvas_div.on(\"wheel\", function (event) {\n",
       "        event = event.originalEvent;\n",
       "        event['data'] = 'scroll'\n",
       "        if (event.deltaY < 0) {\n",
       "            event.step = 1;\n",
       "        } else {\n",
       "            event.step = -1;\n",
       "        }\n",
       "        mouse_event_fn(event);\n",
       "    });\n",
       "\n",
       "    canvas_div.append(canvas);\n",
       "    canvas_div.append(rubberband);\n",
       "\n",
       "    this.rubberband = rubberband;\n",
       "    this.rubberband_canvas = rubberband[0];\n",
       "    this.rubberband_context = rubberband[0].getContext(\"2d\");\n",
       "    this.rubberband_context.strokeStyle = \"#000000\";\n",
       "\n",
       "    this._resize_canvas = function(width, height) {\n",
       "        // Keep the size of the canvas, canvas container, and rubber band\n",
       "        // canvas in synch.\n",
       "        canvas_div.css('width', width)\n",
       "        canvas_div.css('height', height)\n",
       "\n",
       "        canvas.attr('width', width * mpl.ratio);\n",
       "        canvas.attr('height', height * mpl.ratio);\n",
       "        canvas.attr('style', 'width: ' + width + 'px; height: ' + height + 'px;');\n",
       "\n",
       "        rubberband.attr('width', width);\n",
       "        rubberband.attr('height', height);\n",
       "    }\n",
       "\n",
       "    // Set the figure to an initial 600x600px, this will subsequently be updated\n",
       "    // upon first draw.\n",
       "    this._resize_canvas(600, 600);\n",
       "\n",
       "    // Disable right mouse context menu.\n",
       "    $(this.rubberband_canvas).bind(\"contextmenu\",function(e){\n",
       "        return false;\n",
       "    });\n",
       "\n",
       "    function set_focus () {\n",
       "        canvas.focus();\n",
       "        canvas_div.focus();\n",
       "    }\n",
       "\n",
       "    window.setTimeout(set_focus, 100);\n",
       "}\n",
       "\n",
       "mpl.figure.prototype._init_toolbar = function() {\n",
       "    var fig = this;\n",
       "\n",
       "    var nav_element = $('<div/>')\n",
       "    nav_element.attr('style', 'width: 100%');\n",
       "    this.root.append(nav_element);\n",
       "\n",
       "    // Define a callback function for later on.\n",
       "    function toolbar_event(event) {\n",
       "        return fig.toolbar_button_onclick(event['data']);\n",
       "    }\n",
       "    function toolbar_mouse_event(event) {\n",
       "        return fig.toolbar_button_onmouseover(event['data']);\n",
       "    }\n",
       "\n",
       "    for(var toolbar_ind in mpl.toolbar_items) {\n",
       "        var name = mpl.toolbar_items[toolbar_ind][0];\n",
       "        var tooltip = mpl.toolbar_items[toolbar_ind][1];\n",
       "        var image = mpl.toolbar_items[toolbar_ind][2];\n",
       "        var method_name = mpl.toolbar_items[toolbar_ind][3];\n",
       "\n",
       "        if (!name) {\n",
       "            // put a spacer in here.\n",
       "            continue;\n",
       "        }\n",
       "        var button = $('<button/>');\n",
       "        button.addClass('ui-button ui-widget ui-state-default ui-corner-all ' +\n",
       "                        'ui-button-icon-only');\n",
       "        button.attr('role', 'button');\n",
       "        button.attr('aria-disabled', 'false');\n",
       "        button.click(method_name, toolbar_event);\n",
       "        button.mouseover(tooltip, toolbar_mouse_event);\n",
       "\n",
       "        var icon_img = $('<span/>');\n",
       "        icon_img.addClass('ui-button-icon-primary ui-icon');\n",
       "        icon_img.addClass(image);\n",
       "        icon_img.addClass('ui-corner-all');\n",
       "\n",
       "        var tooltip_span = $('<span/>');\n",
       "        tooltip_span.addClass('ui-button-text');\n",
       "        tooltip_span.html(tooltip);\n",
       "\n",
       "        button.append(icon_img);\n",
       "        button.append(tooltip_span);\n",
       "\n",
       "        nav_element.append(button);\n",
       "    }\n",
       "\n",
       "    var fmt_picker_span = $('<span/>');\n",
       "\n",
       "    var fmt_picker = $('<select/>');\n",
       "    fmt_picker.addClass('mpl-toolbar-option ui-widget ui-widget-content');\n",
       "    fmt_picker_span.append(fmt_picker);\n",
       "    nav_element.append(fmt_picker_span);\n",
       "    this.format_dropdown = fmt_picker[0];\n",
       "\n",
       "    for (var ind in mpl.extensions) {\n",
       "        var fmt = mpl.extensions[ind];\n",
       "        var option = $(\n",
       "            '<option/>', {selected: fmt === mpl.default_extension}).html(fmt);\n",
       "        fmt_picker.append(option)\n",
       "    }\n",
       "\n",
       "    // Add hover states to the ui-buttons\n",
       "    $( \".ui-button\" ).hover(\n",
       "        function() { $(this).addClass(\"ui-state-hover\");},\n",
       "        function() { $(this).removeClass(\"ui-state-hover\");}\n",
       "    );\n",
       "\n",
       "    var status_bar = $('<span class=\"mpl-message\"/>');\n",
       "    nav_element.append(status_bar);\n",
       "    this.message = status_bar[0];\n",
       "}\n",
       "\n",
       "mpl.figure.prototype.request_resize = function(x_pixels, y_pixels) {\n",
       "    // Request matplotlib to resize the figure. Matplotlib will then trigger a resize in the client,\n",
       "    // which will in turn request a refresh of the image.\n",
       "    this.send_message('resize', {'width': x_pixels, 'height': y_pixels});\n",
       "}\n",
       "\n",
       "mpl.figure.prototype.send_message = function(type, properties) {\n",
       "    properties['type'] = type;\n",
       "    properties['figure_id'] = this.id;\n",
       "    this.ws.send(JSON.stringify(properties));\n",
       "}\n",
       "\n",
       "mpl.figure.prototype.send_draw_message = function() {\n",
       "    if (!this.waiting) {\n",
       "        this.waiting = true;\n",
       "        this.ws.send(JSON.stringify({type: \"draw\", figure_id: this.id}));\n",
       "    }\n",
       "}\n",
       "\n",
       "\n",
       "mpl.figure.prototype.handle_save = function(fig, msg) {\n",
       "    var format_dropdown = fig.format_dropdown;\n",
       "    var format = format_dropdown.options[format_dropdown.selectedIndex].value;\n",
       "    fig.ondownload(fig, format);\n",
       "}\n",
       "\n",
       "\n",
       "mpl.figure.prototype.handle_resize = function(fig, msg) {\n",
       "    var size = msg['size'];\n",
       "    if (size[0] != fig.canvas.width || size[1] != fig.canvas.height) {\n",
       "        fig._resize_canvas(size[0], size[1]);\n",
       "        fig.send_message(\"refresh\", {});\n",
       "    };\n",
       "}\n",
       "\n",
       "mpl.figure.prototype.handle_rubberband = function(fig, msg) {\n",
       "    var x0 = msg['x0'] / mpl.ratio;\n",
       "    var y0 = (fig.canvas.height - msg['y0']) / mpl.ratio;\n",
       "    var x1 = msg['x1'] / mpl.ratio;\n",
       "    var y1 = (fig.canvas.height - msg['y1']) / mpl.ratio;\n",
       "    x0 = Math.floor(x0) + 0.5;\n",
       "    y0 = Math.floor(y0) + 0.5;\n",
       "    x1 = Math.floor(x1) + 0.5;\n",
       "    y1 = Math.floor(y1) + 0.5;\n",
       "    var min_x = Math.min(x0, x1);\n",
       "    var min_y = Math.min(y0, y1);\n",
       "    var width = Math.abs(x1 - x0);\n",
       "    var height = Math.abs(y1 - y0);\n",
       "\n",
       "    fig.rubberband_context.clearRect(\n",
       "        0, 0, fig.canvas.width, fig.canvas.height);\n",
       "\n",
       "    fig.rubberband_context.strokeRect(min_x, min_y, width, height);\n",
       "}\n",
       "\n",
       "mpl.figure.prototype.handle_figure_label = function(fig, msg) {\n",
       "    // Updates the figure title.\n",
       "    fig.header.textContent = msg['label'];\n",
       "}\n",
       "\n",
       "mpl.figure.prototype.handle_cursor = function(fig, msg) {\n",
       "    var cursor = msg['cursor'];\n",
       "    switch(cursor)\n",
       "    {\n",
       "    case 0:\n",
       "        cursor = 'pointer';\n",
       "        break;\n",
       "    case 1:\n",
       "        cursor = 'default';\n",
       "        break;\n",
       "    case 2:\n",
       "        cursor = 'crosshair';\n",
       "        break;\n",
       "    case 3:\n",
       "        cursor = 'move';\n",
       "        break;\n",
       "    }\n",
       "    fig.rubberband_canvas.style.cursor = cursor;\n",
       "}\n",
       "\n",
       "mpl.figure.prototype.handle_message = function(fig, msg) {\n",
       "    fig.message.textContent = msg['message'];\n",
       "}\n",
       "\n",
       "mpl.figure.prototype.handle_draw = function(fig, msg) {\n",
       "    // Request the server to send over a new figure.\n",
       "    fig.send_draw_message();\n",
       "}\n",
       "\n",
       "mpl.figure.prototype.handle_image_mode = function(fig, msg) {\n",
       "    fig.image_mode = msg['mode'];\n",
       "}\n",
       "\n",
       "mpl.figure.prototype.updated_canvas_event = function() {\n",
       "    // Called whenever the canvas gets updated.\n",
       "    this.send_message(\"ack\", {});\n",
       "}\n",
       "\n",
       "// A function to construct a web socket function for onmessage handling.\n",
       "// Called in the figure constructor.\n",
       "mpl.figure.prototype._make_on_message_function = function(fig) {\n",
       "    return function socket_on_message(evt) {\n",
       "        if (evt.data instanceof Blob) {\n",
       "            /* FIXME: We get \"Resource interpreted as Image but\n",
       "             * transferred with MIME type text/plain:\" errors on\n",
       "             * Chrome.  But how to set the MIME type?  It doesn't seem\n",
       "             * to be part of the websocket stream */\n",
       "            evt.data.type = \"image/png\";\n",
       "\n",
       "            /* Free the memory for the previous frames */\n",
       "            if (fig.imageObj.src) {\n",
       "                (window.URL || window.webkitURL).revokeObjectURL(\n",
       "                    fig.imageObj.src);\n",
       "            }\n",
       "\n",
       "            fig.imageObj.src = (window.URL || window.webkitURL).createObjectURL(\n",
       "                evt.data);\n",
       "            fig.updated_canvas_event();\n",
       "            fig.waiting = false;\n",
       "            return;\n",
       "        }\n",
       "        else if (typeof evt.data === 'string' && evt.data.slice(0, 21) == \"data:image/png;base64\") {\n",
       "            fig.imageObj.src = evt.data;\n",
       "            fig.updated_canvas_event();\n",
       "            fig.waiting = false;\n",
       "            return;\n",
       "        }\n",
       "\n",
       "        var msg = JSON.parse(evt.data);\n",
       "        var msg_type = msg['type'];\n",
       "\n",
       "        // Call the  \"handle_{type}\" callback, which takes\n",
       "        // the figure and JSON message as its only arguments.\n",
       "        try {\n",
       "            var callback = fig[\"handle_\" + msg_type];\n",
       "        } catch (e) {\n",
       "            console.log(\"No handler for the '\" + msg_type + \"' message type: \", msg);\n",
       "            return;\n",
       "        }\n",
       "\n",
       "        if (callback) {\n",
       "            try {\n",
       "                // console.log(\"Handling '\" + msg_type + \"' message: \", msg);\n",
       "                callback(fig, msg);\n",
       "            } catch (e) {\n",
       "                console.log(\"Exception inside the 'handler_\" + msg_type + \"' callback:\", e, e.stack, msg);\n",
       "            }\n",
       "        }\n",
       "    };\n",
       "}\n",
       "\n",
       "// from http://stackoverflow.com/questions/1114465/getting-mouse-location-in-canvas\n",
       "mpl.findpos = function(e) {\n",
       "    //this section is from http://www.quirksmode.org/js/events_properties.html\n",
       "    var targ;\n",
       "    if (!e)\n",
       "        e = window.event;\n",
       "    if (e.target)\n",
       "        targ = e.target;\n",
       "    else if (e.srcElement)\n",
       "        targ = e.srcElement;\n",
       "    if (targ.nodeType == 3) // defeat Safari bug\n",
       "        targ = targ.parentNode;\n",
       "\n",
       "    // jQuery normalizes the pageX and pageY\n",
       "    // pageX,Y are the mouse positions relative to the document\n",
       "    // offset() returns the position of the element relative to the document\n",
       "    var x = e.pageX - $(targ).offset().left;\n",
       "    var y = e.pageY - $(targ).offset().top;\n",
       "\n",
       "    return {\"x\": x, \"y\": y};\n",
       "};\n",
       "\n",
       "/*\n",
       " * return a copy of an object with only non-object keys\n",
       " * we need this to avoid circular references\n",
       " * http://stackoverflow.com/a/24161582/3208463\n",
       " */\n",
       "function simpleKeys (original) {\n",
       "  return Object.keys(original).reduce(function (obj, key) {\n",
       "    if (typeof original[key] !== 'object')\n",
       "        obj[key] = original[key]\n",
       "    return obj;\n",
       "  }, {});\n",
       "}\n",
       "\n",
       "mpl.figure.prototype.mouse_event = function(event, name) {\n",
       "    var canvas_pos = mpl.findpos(event)\n",
       "\n",
       "    if (name === 'button_press')\n",
       "    {\n",
       "        this.canvas.focus();\n",
       "        this.canvas_div.focus();\n",
       "    }\n",
       "\n",
       "    var x = canvas_pos.x * mpl.ratio;\n",
       "    var y = canvas_pos.y * mpl.ratio;\n",
       "\n",
       "    this.send_message(name, {x: x, y: y, button: event.button,\n",
       "                             step: event.step,\n",
       "                             guiEvent: simpleKeys(event)});\n",
       "\n",
       "    /* This prevents the web browser from automatically changing to\n",
       "     * the text insertion cursor when the button is pressed.  We want\n",
       "     * to control all of the cursor setting manually through the\n",
       "     * 'cursor' event from matplotlib */\n",
       "    event.preventDefault();\n",
       "    return false;\n",
       "}\n",
       "\n",
       "mpl.figure.prototype._key_event_extra = function(event, name) {\n",
       "    // Handle any extra behaviour associated with a key event\n",
       "}\n",
       "\n",
       "mpl.figure.prototype.key_event = function(event, name) {\n",
       "\n",
       "    // Prevent repeat events\n",
       "    if (name == 'key_press')\n",
       "    {\n",
       "        if (event.which === this._key)\n",
       "            return;\n",
       "        else\n",
       "            this._key = event.which;\n",
       "    }\n",
       "    if (name == 'key_release')\n",
       "        this._key = null;\n",
       "\n",
       "    var value = '';\n",
       "    if (event.ctrlKey && event.which != 17)\n",
       "        value += \"ctrl+\";\n",
       "    if (event.altKey && event.which != 18)\n",
       "        value += \"alt+\";\n",
       "    if (event.shiftKey && event.which != 16)\n",
       "        value += \"shift+\";\n",
       "\n",
       "    value += 'k';\n",
       "    value += event.which.toString();\n",
       "\n",
       "    this._key_event_extra(event, name);\n",
       "\n",
       "    this.send_message(name, {key: value,\n",
       "                             guiEvent: simpleKeys(event)});\n",
       "    return false;\n",
       "}\n",
       "\n",
       "mpl.figure.prototype.toolbar_button_onclick = function(name) {\n",
       "    if (name == 'download') {\n",
       "        this.handle_save(this, null);\n",
       "    } else {\n",
       "        this.send_message(\"toolbar_button\", {name: name});\n",
       "    }\n",
       "};\n",
       "\n",
       "mpl.figure.prototype.toolbar_button_onmouseover = function(tooltip) {\n",
       "    this.message.textContent = tooltip;\n",
       "};\n",
       "mpl.toolbar_items = [[\"Home\", \"Reset original view\", \"fa fa-home icon-home\", \"home\"], [\"Back\", \"Back to  previous view\", \"fa fa-arrow-left icon-arrow-left\", \"back\"], [\"Forward\", \"Forward to next view\", \"fa fa-arrow-right icon-arrow-right\", \"forward\"], [\"\", \"\", \"\", \"\"], [\"Pan\", \"Pan axes with left mouse, zoom with right\", \"fa fa-arrows icon-move\", \"pan\"], [\"Zoom\", \"Zoom to rectangle\", \"fa fa-square-o icon-check-empty\", \"zoom\"], [\"\", \"\", \"\", \"\"], [\"Download\", \"Download plot\", \"fa fa-floppy-o icon-save\", \"download\"]];\n",
       "\n",
       "mpl.extensions = [\"eps\", \"pdf\", \"png\", \"ps\", \"raw\", \"svg\"];\n",
       "\n",
       "mpl.default_extension = \"png\";var comm_websocket_adapter = function(comm) {\n",
       "    // Create a \"websocket\"-like object which calls the given IPython comm\n",
       "    // object with the appropriate methods. Currently this is a non binary\n",
       "    // socket, so there is still some room for performance tuning.\n",
       "    var ws = {};\n",
       "\n",
       "    ws.close = function() {\n",
       "        comm.close()\n",
       "    };\n",
       "    ws.send = function(m) {\n",
       "        //console.log('sending', m);\n",
       "        comm.send(m);\n",
       "    };\n",
       "    // Register the callback with on_msg.\n",
       "    comm.on_msg(function(msg) {\n",
       "        //console.log('receiving', msg['content']['data'], msg);\n",
       "        // Pass the mpl event to the overridden (by mpl) onmessage function.\n",
       "        ws.onmessage(msg['content']['data'])\n",
       "    });\n",
       "    return ws;\n",
       "}\n",
       "\n",
       "mpl.mpl_figure_comm = function(comm, msg) {\n",
       "    // This is the function which gets called when the mpl process\n",
       "    // starts-up an IPython Comm through the \"matplotlib\" channel.\n",
       "\n",
       "    var id = msg.content.data.id;\n",
       "    // Get hold of the div created by the display call when the Comm\n",
       "    // socket was opened in Python.\n",
       "    var element = $(\"#\" + id);\n",
       "    var ws_proxy = comm_websocket_adapter(comm)\n",
       "\n",
       "    function ondownload(figure, format) {\n",
       "        window.open(figure.imageObj.src);\n",
       "    }\n",
       "\n",
       "    var fig = new mpl.figure(id, ws_proxy,\n",
       "                           ondownload,\n",
       "                           element.get(0));\n",
       "\n",
       "    // Call onopen now - mpl needs it, as it is assuming we've passed it a real\n",
       "    // web socket which is closed, not our websocket->open comm proxy.\n",
       "    ws_proxy.onopen();\n",
       "\n",
       "    fig.parent_element = element.get(0);\n",
       "    fig.cell_info = mpl.find_output_cell(\"<div id='\" + id + \"'></div>\");\n",
       "    if (!fig.cell_info) {\n",
       "        console.error(\"Failed to find cell for figure\", id, fig);\n",
       "        return;\n",
       "    }\n",
       "\n",
       "    var output_index = fig.cell_info[2]\n",
       "    var cell = fig.cell_info[0];\n",
       "\n",
       "};\n",
       "\n",
       "mpl.figure.prototype.handle_close = function(fig, msg) {\n",
       "    var width = fig.canvas.width/mpl.ratio\n",
       "    fig.root.unbind('remove')\n",
       "\n",
       "    // Update the output cell to use the data from the current canvas.\n",
       "    fig.push_to_output();\n",
       "    var dataURL = fig.canvas.toDataURL();\n",
       "    // Re-enable the keyboard manager in IPython - without this line, in FF,\n",
       "    // the notebook keyboard shortcuts fail.\n",
       "    IPython.keyboard_manager.enable()\n",
       "    $(fig.parent_element).html('<img src=\"' + dataURL + '\" width=\"' + width + '\">');\n",
       "    fig.close_ws(fig, msg);\n",
       "}\n",
       "\n",
       "mpl.figure.prototype.close_ws = function(fig, msg){\n",
       "    fig.send_message('closing', msg);\n",
       "    // fig.ws.close()\n",
       "}\n",
       "\n",
       "mpl.figure.prototype.push_to_output = function(remove_interactive) {\n",
       "    // Turn the data on the canvas into data in the output cell.\n",
       "    var width = this.canvas.width/mpl.ratio\n",
       "    var dataURL = this.canvas.toDataURL();\n",
       "    this.cell_info[1]['text/html'] = '<img src=\"' + dataURL + '\" width=\"' + width + '\">';\n",
       "}\n",
       "\n",
       "mpl.figure.prototype.updated_canvas_event = function() {\n",
       "    // Tell IPython that the notebook contents must change.\n",
       "    IPython.notebook.set_dirty(true);\n",
       "    this.send_message(\"ack\", {});\n",
       "    var fig = this;\n",
       "    // Wait a second, then push the new image to the DOM so\n",
       "    // that it is saved nicely (might be nice to debounce this).\n",
       "    setTimeout(function () { fig.push_to_output() }, 1000);\n",
       "}\n",
       "\n",
       "mpl.figure.prototype._init_toolbar = function() {\n",
       "    var fig = this;\n",
       "\n",
       "    var nav_element = $('<div/>')\n",
       "    nav_element.attr('style', 'width: 100%');\n",
       "    this.root.append(nav_element);\n",
       "\n",
       "    // Define a callback function for later on.\n",
       "    function toolbar_event(event) {\n",
       "        return fig.toolbar_button_onclick(event['data']);\n",
       "    }\n",
       "    function toolbar_mouse_event(event) {\n",
       "        return fig.toolbar_button_onmouseover(event['data']);\n",
       "    }\n",
       "\n",
       "    for(var toolbar_ind in mpl.toolbar_items){\n",
       "        var name = mpl.toolbar_items[toolbar_ind][0];\n",
       "        var tooltip = mpl.toolbar_items[toolbar_ind][1];\n",
       "        var image = mpl.toolbar_items[toolbar_ind][2];\n",
       "        var method_name = mpl.toolbar_items[toolbar_ind][3];\n",
       "\n",
       "        if (!name) { continue; };\n",
       "\n",
       "        var button = $('<button class=\"btn btn-default\" href=\"#\" title=\"' + name + '\"><i class=\"fa ' + image + ' fa-lg\"></i></button>');\n",
       "        button.click(method_name, toolbar_event);\n",
       "        button.mouseover(tooltip, toolbar_mouse_event);\n",
       "        nav_element.append(button);\n",
       "    }\n",
       "\n",
       "    // Add the status bar.\n",
       "    var status_bar = $('<span class=\"mpl-message\" style=\"text-align:right; float: right;\"/>');\n",
       "    nav_element.append(status_bar);\n",
       "    this.message = status_bar[0];\n",
       "\n",
       "    // Add the close button to the window.\n",
       "    var buttongrp = $('<div class=\"btn-group inline pull-right\"></div>');\n",
       "    var button = $('<button class=\"btn btn-mini btn-primary\" href=\"#\" title=\"Stop Interaction\"><i class=\"fa fa-power-off icon-remove icon-large\"></i></button>');\n",
       "    button.click(function (evt) { fig.handle_close(fig, {}); } );\n",
       "    button.mouseover('Stop Interaction', toolbar_mouse_event);\n",
       "    buttongrp.append(button);\n",
       "    var titlebar = this.root.find($('.ui-dialog-titlebar'));\n",
       "    titlebar.prepend(buttongrp);\n",
       "}\n",
       "\n",
       "mpl.figure.prototype._root_extra_style = function(el){\n",
       "    var fig = this\n",
       "    el.on(\"remove\", function(){\n",
       "\tfig.close_ws(fig, {});\n",
       "    });\n",
       "}\n",
       "\n",
       "mpl.figure.prototype._canvas_extra_style = function(el){\n",
       "    // this is important to make the div 'focusable\n",
       "    el.attr('tabindex', 0)\n",
       "    // reach out to IPython and tell the keyboard manager to turn it's self\n",
       "    // off when our div gets focus\n",
       "\n",
       "    // location in version 3\n",
       "    if (IPython.notebook.keyboard_manager) {\n",
       "        IPython.notebook.keyboard_manager.register_events(el);\n",
       "    }\n",
       "    else {\n",
       "        // location in version 2\n",
       "        IPython.keyboard_manager.register_events(el);\n",
       "    }\n",
       "\n",
       "}\n",
       "\n",
       "mpl.figure.prototype._key_event_extra = function(event, name) {\n",
       "    var manager = IPython.notebook.keyboard_manager;\n",
       "    if (!manager)\n",
       "        manager = IPython.keyboard_manager;\n",
       "\n",
       "    // Check for shift+enter\n",
       "    if (event.shiftKey && event.which == 13) {\n",
       "        this.canvas_div.blur();\n",
       "        event.shiftKey = false;\n",
       "        // Send a \"J\" for go to next cell\n",
       "        event.which = 74;\n",
       "        event.keyCode = 74;\n",
       "        manager.command_mode();\n",
       "        manager.handle_keydown(event);\n",
       "    }\n",
       "}\n",
       "\n",
       "mpl.figure.prototype.handle_save = function(fig, msg) {\n",
       "    fig.ondownload(fig, null);\n",
       "}\n",
       "\n",
       "\n",
       "mpl.find_output_cell = function(html_output) {\n",
       "    // Return the cell and output element which can be found *uniquely* in the notebook.\n",
       "    // Note - this is a bit hacky, but it is done because the \"notebook_saving.Notebook\"\n",
       "    // IPython event is triggered only after the cells have been serialised, which for\n",
       "    // our purposes (turning an active figure into a static one), is too late.\n",
       "    var cells = IPython.notebook.get_cells();\n",
       "    var ncells = cells.length;\n",
       "    for (var i=0; i<ncells; i++) {\n",
       "        var cell = cells[i];\n",
       "        if (cell.cell_type === 'code'){\n",
       "            for (var j=0; j<cell.output_area.outputs.length; j++) {\n",
       "                var data = cell.output_area.outputs[j];\n",
       "                if (data.data) {\n",
       "                    // IPython >= 3 moved mimebundle to data attribute of output\n",
       "                    data = data.data;\n",
       "                }\n",
       "                if (data['text/html'] == html_output) {\n",
       "                    return [cell, data, j];\n",
       "                }\n",
       "            }\n",
       "        }\n",
       "    }\n",
       "}\n",
       "\n",
       "// Register the function which deals with the matplotlib target/channel.\n",
       "// The kernel may be null if the page has been refreshed.\n",
       "if (IPython.notebook.kernel != null) {\n",
       "    IPython.notebook.kernel.comm_manager.register_target('matplotlib', mpl.mpl_figure_comm);\n",
       "}\n"
      ],
      "text/plain": [
       "<IPython.core.display.Javascript object>"
      ]
     },
     "metadata": {},
     "output_type": "display_data"
    },
    {
     "data": {
      "text/html": [
       "<img src=\"data:image/png;base64,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\" width=\"640\">"
      ],
      "text/plain": [
       "<IPython.core.display.HTML object>"
      ]
     },
     "metadata": {},
     "output_type": "display_data"
    }
   ],
   "source": [
    "clf_rf = RandomForestClassifier(criterion='entropy',max_depth=30, n_estimators=50)\n",
    "# scores = cross_validate(clf, X_train, y_train, cv=3, return_train_score=True)\n",
    "# print (scores)\n",
    "\n",
    "clf_rf.fit(X_train, y_train)\n",
    "\n",
    "aa = pd.DataFrame({'importances':clf_rf.feature_importances_,\n",
    "                   'variables':X_train.columns}).sort_values(by = 'importances', ascending= True)\n",
    "\n",
    "aa.plot.barh(x = 'variables', y='importances', color ='lightsteelblue')#, figsize =(15,5) )\n",
    "plt.yticks()#(fontsize = 10)\n",
    "plt.tight_layout()\n"
   ]
  },
  {
   "cell_type": "code",
   "execution_count": 179,
   "metadata": {},
   "outputs": [
    {
     "data": {
      "text/html": [
       "<div>\n",
       "<style scoped>\n",
       "    .dataframe tbody tr th:only-of-type {\n",
       "        vertical-align: middle;\n",
       "    }\n",
       "\n",
       "    .dataframe tbody tr th {\n",
       "        vertical-align: top;\n",
       "    }\n",
       "\n",
       "    .dataframe thead th {\n",
       "        text-align: right;\n",
       "    }\n",
       "</style>\n",
       "<table border=\"1\" class=\"dataframe\">\n",
       "  <thead>\n",
       "    <tr style=\"text-align: right;\">\n",
       "      <th>col_0</th>\n",
       "      <th>0</th>\n",
       "      <th>1</th>\n",
       "      <th>2</th>\n",
       "      <th>3</th>\n",
       "    </tr>\n",
       "    <tr>\n",
       "      <th>cars_alt</th>\n",
       "      <th></th>\n",
       "      <th></th>\n",
       "      <th></th>\n",
       "      <th></th>\n",
       "    </tr>\n",
       "  </thead>\n",
       "  <tbody>\n",
       "    <tr>\n",
       "      <th>0</th>\n",
       "      <td>0.861206</td>\n",
       "      <td>0.113906</td>\n",
       "      <td>0.019540</td>\n",
       "      <td>0.005348</td>\n",
       "    </tr>\n",
       "    <tr>\n",
       "      <th>1</th>\n",
       "      <td>0.011591</td>\n",
       "      <td>0.945425</td>\n",
       "      <td>0.038812</td>\n",
       "      <td>0.004173</td>\n",
       "    </tr>\n",
       "    <tr>\n",
       "      <th>2</th>\n",
       "      <td>0.001643</td>\n",
       "      <td>0.040070</td>\n",
       "      <td>0.942567</td>\n",
       "      <td>0.015720</td>\n",
       "    </tr>\n",
       "    <tr>\n",
       "      <th>3</th>\n",
       "      <td>0.000787</td>\n",
       "      <td>0.016385</td>\n",
       "      <td>0.098023</td>\n",
       "      <td>0.884805</td>\n",
       "    </tr>\n",
       "  </tbody>\n",
       "</table>\n",
       "</div>"
      ],
      "text/plain": [
       "col_0            0         1         2         3\n",
       "cars_alt                                        \n",
       "0         0.861206  0.113906  0.019540  0.005348\n",
       "1         0.011591  0.945425  0.038812  0.004173\n",
       "2         0.001643  0.040070  0.942567  0.015720\n",
       "3         0.000787  0.016385  0.098023  0.884805"
      ]
     },
     "execution_count": 179,
     "metadata": {},
     "output_type": "execute_result"
    }
   ],
   "source": [
    "pd.crosstab( y_test, clf_rf.predict(X_test),normalize = 'index')"
   ]
  },
  {
   "cell_type": "code",
   "execution_count": 180,
   "metadata": {},
   "outputs": [
    {
     "data": {
      "text/plain": [
       "0.9226607027788842"
      ]
     },
     "execution_count": 180,
     "metadata": {},
     "output_type": "execute_result"
    }
   ],
   "source": [
    "clf_rf.score(X_test, y_test)"
   ]
  },
  {
   "cell_type": "markdown",
   "metadata": {},
   "source": [
    "## Nueral network"
   ]
  },
  {
   "cell_type": "code",
   "execution_count": null,
   "metadata": {},
   "outputs": [],
   "source": [
    "from sklearn.neural_network import MLPClassifier"
   ]
  },
  {
   "cell_type": "code",
   "execution_count": null,
   "metadata": {},
   "outputs": [],
   "source": []
  }
 ],
 "metadata": {
  "kernelspec": {
   "display_name": "Python 3",
   "language": "python",
   "name": "python3"
  },
  "language_info": {
   "codemirror_mode": {
    "name": "ipython",
    "version": 3
   },
   "file_extension": ".py",
   "mimetype": "text/x-python",
   "name": "python",
   "nbconvert_exporter": "python",
   "pygments_lexer": "ipython3",
   "version": "3.6.7"
  }
 },
 "nbformat": 4,
 "nbformat_minor": 2
}
