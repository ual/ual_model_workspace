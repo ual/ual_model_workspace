{
 "cells": [
  {
   "cell_type": "code",
   "execution_count": 7,
   "metadata": {},
   "outputs": [],
   "source": [
    "import numpy as np\n",
    "import pandas as pd\n",
    "import orca\n",
    "import os; os.chdir('../')\n",
    "import warnings; warnings.simplefilter('ignore')\n",
    "from urbansim.utils import misc\n",
    "\n",
    "    \n",
    "from urbansim_templates import modelmanager as mm\n",
    "from urbansim_templates.models import LargeMultinomialLogitStep\n",
    "import pandas as pd\n",
    "import orca\n",
    "# import os; os.chdir('/home/juan/ual_model_workspace/spring-2019-models/')\n",
    "import warnings; warnings.simplefilter('ignore')\n",
    "from matplotlib import pyplot as plt\n",
    "import matplotlib.animation as animation\n",
    "\n",
    "# from scripts import datasources, models, variables, utils"
   ]
  },
  {
   "cell_type": "code",
   "execution_count": 4,
   "metadata": {},
   "outputs": [
    {
     "data": {
      "text/plain": [
       "'/home/juan/ual_model_workspace'"
      ]
     },
     "execution_count": 4,
     "metadata": {},
     "output_type": "execute_result"
    }
   ],
   "source": [
    "os.getcwd()"
   ]
  },
  {
   "cell_type": "code",
   "execution_count": 5,
   "metadata": {},
   "outputs": [],
   "source": [
    "# hi\n"
   ]
  },
  {
   "cell_type": "code",
   "execution_count": 6,
   "metadata": {},
   "outputs": [
    {
     "ename": "ImportError",
     "evalue": "cannot import name 'datasources' from 'scripts' (/home/juan/anaconda3/lib/python3.7/site-packages/scripts/__init__.py)",
     "output_type": "error",
     "traceback": [
      "\u001b[0;31m---------------------------------------------------------------------------\u001b[0m",
      "\u001b[0;31mImportError\u001b[0m                               Traceback (most recent call last)",
      "\u001b[0;32m<ipython-input-6-366d9d1ee6d6>\u001b[0m in \u001b[0;36m<module>\u001b[0;34m()\u001b[0m\n\u001b[0;32m----> 1\u001b[0;31m \u001b[0;32mfrom\u001b[0m \u001b[0mscripts\u001b[0m \u001b[0;32mimport\u001b[0m \u001b[0mdatasources\u001b[0m\u001b[0;34m,\u001b[0m \u001b[0mmodels\u001b[0m\u001b[0;34m,\u001b[0m \u001b[0mvariables\u001b[0m\u001b[0;34m,\u001b[0m \u001b[0mutils\u001b[0m\u001b[0;34m\u001b[0m\u001b[0;34m\u001b[0m\u001b[0m\n\u001b[0m",
      "\u001b[0;31mImportError\u001b[0m: cannot import name 'datasources' from 'scripts' (/home/juan/anaconda3/lib/python3.7/site-packages/scripts/__init__.py)"
     ]
    }
   ],
   "source": [
    "from scripts import datasources, models, variables, utils"
   ]
  },
  {
   "cell_type": "code",
   "execution_count": 46,
   "metadata": {},
   "outputs": [
    {
     "data": {
      "text/plain": [
       "'0.1.1'"
      ]
     },
     "execution_count": 46,
     "metadata": {},
     "output_type": "execute_result"
    }
   ],
   "source": [
    "import urbansim_templates\n",
    "urbansim_templates.__version__"
   ]
  },
  {
   "cell_type": "markdown",
   "metadata": {},
   "source": [
    "# Loading data"
   ]
  },
  {
   "cell_type": "code",
   "execution_count": 47,
   "metadata": {},
   "outputs": [
    {
     "data": {
      "text/plain": [
       "['buildings.csv',\n",
       " 'jobs.csv',\n",
       " 'bayarea_walk_edges.csv',\n",
       " 'bay_area_tertiary_strongly_edges.csv',\n",
       " 'persons.csv',\n",
       " 'units.csv',\n",
       " 'bay_area_tertiary_strongly_nodes.csv',\n",
       " 'drive_net_vars.csv',\n",
       " 'bayarea_walk_nodes.csv',\n",
       " 'beam_skims.csv',\n",
       " 'establishments.csv',\n",
       " 'walk_net_vars.csv',\n",
       " 'zones.csv',\n",
       " 'parcels.csv',\n",
       " 'skims.csv',\n",
       " 'households.csv',\n",
       " 'craigslist.csv']"
      ]
     },
     "execution_count": 47,
     "metadata": {},
     "output_type": "execute_result"
    }
   ],
   "source": [
    "os.listdir(\"/home/data/spring_2019/2025\")"
   ]
  },
  {
   "cell_type": "code",
   "execution_count": 48,
   "metadata": {},
   "outputs": [],
   "source": [
    "a = pd.read_csv('/home/data/spring_2019/2025/skims.csv')"
   ]
  },
  {
   "cell_type": "code",
   "execution_count": 49,
   "metadata": {},
   "outputs": [
    {
     "ename": "KeyError",
     "evalue": "'no step named initialize_network_walk'",
     "output_type": "error",
     "traceback": [
      "\u001b[0;31m---------------------------------------------------------------------------\u001b[0m",
      "\u001b[0;31mKeyError\u001b[0m                                  Traceback (most recent call last)",
      "\u001b[0;32m<ipython-input-49-d9b03975ea42>\u001b[0m in \u001b[0;36m<module>\u001b[0;34m()\u001b[0m\n\u001b[0;32m----> 1\u001b[0;31m \u001b[0morca\u001b[0m\u001b[0;34m.\u001b[0m\u001b[0mrun\u001b[0m\u001b[0;34m(\u001b[0m\u001b[0;34m[\u001b[0m\u001b[0;34m'initialize_network_walk'\u001b[0m\u001b[0;34m,\u001b[0m\u001b[0;34m'initialize_network_walk'\u001b[0m\u001b[0;34m]\u001b[0m\u001b[0;34m)\u001b[0m\u001b[0;34m\u001b[0m\u001b[0;34m\u001b[0m\u001b[0m\n\u001b[0m",
      "\u001b[0;32m~/anaconda3/lib/python3.7/site-packages/orca-1.5.1-py3.7.egg/orca/orca.py\u001b[0m in \u001b[0;36mrun\u001b[0;34m(steps, iter_vars, data_out, out_interval, out_base_tables, out_run_tables, compress, out_base_local, out_run_local)\u001b[0m\n\u001b[1;32m   1957\u001b[0m     \u001b[0;31m# get the tables to write out\u001b[0m\u001b[0;34m\u001b[0m\u001b[0;34m\u001b[0m\u001b[0;34m\u001b[0m\u001b[0m\n\u001b[1;32m   1958\u001b[0m     \u001b[0;32mif\u001b[0m \u001b[0mout_base_tables\u001b[0m \u001b[0;32mis\u001b[0m \u001b[0;32mNone\u001b[0m \u001b[0;32mor\u001b[0m \u001b[0mout_run_tables\u001b[0m \u001b[0;32mis\u001b[0m \u001b[0;32mNone\u001b[0m\u001b[0;34m:\u001b[0m\u001b[0;34m\u001b[0m\u001b[0;34m\u001b[0m\u001b[0m\n\u001b[0;32m-> 1959\u001b[0;31m         \u001b[0mstep_tables\u001b[0m \u001b[0;34m=\u001b[0m \u001b[0mget_step_table_names\u001b[0m\u001b[0;34m(\u001b[0m\u001b[0msteps\u001b[0m\u001b[0;34m)\u001b[0m\u001b[0;34m\u001b[0m\u001b[0;34m\u001b[0m\u001b[0m\n\u001b[0m\u001b[1;32m   1960\u001b[0m \u001b[0;34m\u001b[0m\u001b[0m\n\u001b[1;32m   1961\u001b[0m         \u001b[0;32mif\u001b[0m \u001b[0mout_base_tables\u001b[0m \u001b[0;32mis\u001b[0m \u001b[0;32mNone\u001b[0m\u001b[0;34m:\u001b[0m\u001b[0;34m\u001b[0m\u001b[0;34m\u001b[0m\u001b[0m\n",
      "\u001b[0;32m~/anaconda3/lib/python3.7/site-packages/orca-1.5.1-py3.7.egg/orca/orca.py\u001b[0m in \u001b[0;36mget_step_table_names\u001b[0;34m(steps)\u001b[0m\n\u001b[1;32m   1860\u001b[0m     \u001b[0mtable_names\u001b[0m \u001b[0;34m=\u001b[0m \u001b[0mset\u001b[0m\u001b[0;34m(\u001b[0m\u001b[0;34m)\u001b[0m\u001b[0;34m\u001b[0m\u001b[0;34m\u001b[0m\u001b[0m\n\u001b[1;32m   1861\u001b[0m     \u001b[0;32mfor\u001b[0m \u001b[0ms\u001b[0m \u001b[0;32min\u001b[0m \u001b[0msteps\u001b[0m\u001b[0;34m:\u001b[0m\u001b[0;34m\u001b[0m\u001b[0;34m\u001b[0m\u001b[0m\n\u001b[0;32m-> 1862\u001b[0;31m         \u001b[0mtable_names\u001b[0m \u001b[0;34m|=\u001b[0m \u001b[0mget_step\u001b[0m\u001b[0;34m(\u001b[0m\u001b[0ms\u001b[0m\u001b[0;34m)\u001b[0m\u001b[0;34m.\u001b[0m\u001b[0m_tables_used\u001b[0m\u001b[0;34m(\u001b[0m\u001b[0;34m)\u001b[0m\u001b[0;34m\u001b[0m\u001b[0;34m\u001b[0m\u001b[0m\n\u001b[0m\u001b[1;32m   1863\u001b[0m     \u001b[0;32mreturn\u001b[0m \u001b[0mlist\u001b[0m\u001b[0;34m(\u001b[0m\u001b[0mtable_names\u001b[0m\u001b[0;34m)\u001b[0m\u001b[0;34m\u001b[0m\u001b[0;34m\u001b[0m\u001b[0m\n\u001b[1;32m   1864\u001b[0m \u001b[0;34m\u001b[0m\u001b[0m\n",
      "\u001b[0;32m~/anaconda3/lib/python3.7/site-packages/orca-1.5.1-py3.7.egg/orca/orca.py\u001b[0m in \u001b[0;36mget_step\u001b[0;34m(step_name)\u001b[0m\n\u001b[1;32m   1546\u001b[0m         \u001b[0;32mreturn\u001b[0m \u001b[0m_STEPS\u001b[0m\u001b[0;34m[\u001b[0m\u001b[0mstep_name\u001b[0m\u001b[0;34m]\u001b[0m\u001b[0;34m\u001b[0m\u001b[0;34m\u001b[0m\u001b[0m\n\u001b[1;32m   1547\u001b[0m     \u001b[0;32melse\u001b[0m\u001b[0;34m:\u001b[0m\u001b[0;34m\u001b[0m\u001b[0;34m\u001b[0m\u001b[0m\n\u001b[0;32m-> 1548\u001b[0;31m         \u001b[0;32mraise\u001b[0m \u001b[0mKeyError\u001b[0m\u001b[0;34m(\u001b[0m\u001b[0;34m'no step named {}'\u001b[0m\u001b[0;34m.\u001b[0m\u001b[0mformat\u001b[0m\u001b[0;34m(\u001b[0m\u001b[0mstep_name\u001b[0m\u001b[0;34m)\u001b[0m\u001b[0;34m)\u001b[0m\u001b[0;34m\u001b[0m\u001b[0;34m\u001b[0m\u001b[0m\n\u001b[0m\u001b[1;32m   1549\u001b[0m \u001b[0;34m\u001b[0m\u001b[0m\n\u001b[1;32m   1550\u001b[0m \u001b[0;34m\u001b[0m\u001b[0m\n",
      "\u001b[0;31mKeyError\u001b[0m: 'no step named initialize_network_walk'"
     ]
    }
   ],
   "source": [
    "orca.run(['initialize_network_walk','initialize_network_walk'])"
   ]
  },
  {
   "cell_type": "code",
   "execution_count": null,
   "metadata": {},
   "outputs": [],
   "source": [
    "orca.run([\n",
    "#     'network_aggregations_small', 'network_aggregations_walk',\n",
    "    'impute_missing_skims',\n",
    "    'skims_aggregations_drive', 'skims_aggregations_other'])\n",
    "\n",
    "# orca.get_table('nodeswalk').to_frame().to_csv('./data/walk_net_vars.csv')\n",
    "# orca.get_table('nodessmall').to_frame().to_csv('./data/drive_net_vars.csv')\n",
    "# orca.get_table('zones').to_frame().to_csv('./data/zones_w_access_vars-2025-b-lt.csv')"
   ]
  },
  {
   "cell_type": "code",
   "execution_count": null,
   "metadata": {},
   "outputs": [],
   "source": [
    "beam_skims = orca.get_table('beam_skims').to_frame()\n",
    "students = pd.read_csv('/home/juan/ual_model_workspace/spring-2019-models/notebooks-juan/students_with_school_id.csv')\n",
    "schools = pd.read_csv('/home/juan/ual_model_workspace/spring-2019-models/notebooks-juan/schools.csv')"
   ]
  },
  {
   "cell_type": "code",
   "execution_count": 61,
   "metadata": {},
   "outputs": [
    {
     "data": {
      "text/plain": [
       "(2114116, 17)"
      ]
     },
     "execution_count": 61,
     "metadata": {},
     "output_type": "execute_result"
    }
   ],
   "source": [
    "beam_skims.shape"
   ]
  },
  {
   "cell_type": "code",
   "execution_count": 62,
   "metadata": {},
   "outputs": [
    {
     "data": {
      "text/plain": [
       "(3385, 195)"
      ]
     },
     "execution_count": 62,
     "metadata": {},
     "output_type": "execute_result"
    }
   ],
   "source": [
    "students.shape"
   ]
  },
  {
   "cell_type": "code",
   "execution_count": 63,
   "metadata": {},
   "outputs": [
    {
     "data": {
      "text/plain": [
       "(2547, 49)"
      ]
     },
     "execution_count": 63,
     "metadata": {},
     "output_type": "execute_result"
    }
   ],
   "source": [
    "schools.shape"
   ]
  },
  {
   "cell_type": "code",
   "execution_count": 17,
   "metadata": {},
   "outputs": [],
   "source": [
    "students = pd.read_csv('/home/juan/ual_model_workspace/spring-2019-models/notebooks-juan/students_with_school_id.csv')\n",
    "schools = pd.read_csv('/home/juan/ual_model_workspace/spring-2019-models/notebooks-juan/schools.csv')"
   ]
  },
  {
   "cell_type": "code",
   "execution_count": 10,
   "metadata": {},
   "outputs": [
    {
     "data": {
      "text/plain": [
       "Index(['level_0', 'SAMPN', 'PERNO', 'Unnamed: 0', 'index', 'RELAT', 'GEND',\n",
       "       'AGE', 'AGEB', 'HISP', 'RACE1', 'RACE2', 'RACE3', 'RACE4', 'O_RACE',\n",
       "       'NTVTY', 'CNTRY', 'LIC', 'USER', 'TRANS', 'TPTYP1', 'TPTYP2', 'TPTYP3',\n",
       "       'TPTYP4', 'TPTYP5', 'TPTYP6', 'TPTYP7', 'O_TPTYP', 'CLIP1', 'CLIP2',\n",
       "       'CLIP3', 'COMP', 'MET', 'PASSTL', 'FLEX', 'EMPLY', 'WKSTAT', 'O_WKSTAT',\n",
       "       'JOBS', 'WLOC', 'WNAME_persons', 'WCITY_persons', 'WSTAT',\n",
       "       'WZIP_persons', 'WXST1_persons', 'WXST2_persons', 'WXCORD_persons',\n",
       "       'WYCORD_persons', 'WDAYS', 'WDAY1', 'WDAY2', 'WDAY3', 'WDAY4', 'WDAY5',\n",
       "       'WDAY6', 'WDAY7', 'HOURS', 'WSCHED', 'COMPR', 'WMODE', 'INDUS',\n",
       "       'O_INDUS', 'OCCUP', 'O_OCCUP', 'WLOC2', 'WNAME2_persons',\n",
       "       'WCITY2_persons', 'WSTAT2', 'WZIP2_persons', 'WXST2_1_persons',\n",
       "       'WXST2_2_persons', 'WDAYS2', 'DISAB', 'DTYPE1', 'DTYPE2', 'DTYPE3',\n",
       "       'DTYPE4', 'DTYPE5', 'DTYPE6', 'DTYPE7', 'O_DTYPE', 'DSLIC', 'EDIS',\n",
       "       'TTRIP', 'TRNSUB', 'SUBAMT', 'SUBUNT', 'O_SUBUNT', 'WTRIP', 'BTRIP',\n",
       "       'STUDE', 'SCHOL', 'O_SCHOL', 'SLOC', 'SONLN', 'PRESCH', 'O_PRESCH',\n",
       "       'SNAME_persons', 'SCITY_persons', 'SSTAT'],\n",
       "      dtype='object')"
      ]
     },
     "execution_count": 10,
     "metadata": {},
     "output_type": "execute_result"
    }
   ],
   "source": [
    "students.columns[0:100]"
   ]
  },
  {
   "cell_type": "code",
   "execution_count": 11,
   "metadata": {},
   "outputs": [
    {
     "data": {
      "text/plain": [
       "Index(['SZIP_persons', 'SXST1_persons', 'SXST2_persons', 'SXCORD_persons',\n",
       "       'SYCORD_persons', 'SMODE', 'EDUCA', 'O_EDUCA', 'INTRV', 'PROXY',\n",
       "       'CMPLG', 'HVLOG', 'PTRIPS', 'TOLLF', 'TOLLR1', 'TOLLR2', 'TOLLR3',\n",
       "       'TOLLR4', 'TOLLR5', 'TOLLR6', 'TOLLR7', 'TOLLR8', 'TOLLR9', 'TOLLR10',\n",
       "       'TOLLB1', 'TOLLB2', 'TOLLB3', 'TOLLB4', 'TOLLB5', 'TOLLB6', 'TOLLB7',\n",
       "       'TOLLB8', 'TOLLB9', 'TOLLB10', 'HOVL', 'NOGOWHY', 'NOGOWHY_O',\n",
       "       'InComplete', 'Moto_trip', 'WCTFIP_persons', 'WTRACT_persons',\n",
       "       'SCTFIP_persons', 'STRACT_persons', 'WPrimaryCity_persons',\n",
       "       'WSTFIP_persons', 'W2PrimaryCity_persons', 'W2STFIP_persons',\n",
       "       'SPrimaryCity_persons', 'SSTFIP_persons', 'PERWGT', 'EXPPERWGT',\n",
       "       'WNAME_lookup', 'WCITY_lookup', 'WZIP_lookup', 'WXST1_lookup',\n",
       "       'WXST2_lookup', 'WXCORD_lookup', 'WYCORD_lookup', 'WNAME2_lookup',\n",
       "       'WCITY2_lookup', 'WZIP2_lookup', 'WXST2_1_lookup', 'WXST2_2_lookup',\n",
       "       'SNAME_lookup', 'SCITY_lookup', 'SZIP_lookup', 'SXST1_lookup',\n",
       "       'SXST2_lookup', 'SXCORD_lookup', 'SYCORD_lookup', 'WCTFIP_lookup',\n",
       "       'WTRACT_lookup', 'WBLOCK', 'WPrimaryCity_lookup', 'WSTFIP_lookup',\n",
       "       'W2PrimaryCity_lookup', 'W2STFIP_lookup', 'SCTFIP_lookup',\n",
       "       'STRACT_lookup', 'SBLOCK', 'SPrimaryCity_lookup', 'SSTFIP_lookup',\n",
       "       'HCITY', 'HZIP', 'HXCORD', 'HYCORD', 'HBLOCK', 'HTRACT', 'HCTFIP',\n",
       "       'HPrimaryCity', 'parcel_id_home', 'parcel_id_work', 'zone_id_home',\n",
       "       'zone_id_work', 'school_id'],\n",
       "      dtype='object')"
      ]
     },
     "execution_count": 11,
     "metadata": {},
     "output_type": "execute_result"
    }
   ],
   "source": [
    "students.columns[100:195]"
   ]
  },
  {
   "cell_type": "code",
   "execution_count": 19,
   "metadata": {},
   "outputs": [],
   "source": [
    "# students.HPrimaryCity\n",
    "# schools.City"
   ]
  },
  {
   "cell_type": "code",
   "execution_count": 13,
   "metadata": {},
   "outputs": [
    {
     "data": {
      "text/plain": [
       "Index(['CDSCode', 'School', 'District', 'County', 'Street', 'City', 'Zip',\n",
       "       'State', 'Latitude', 'Longitude', 'type', 'grade_0', 'grade_1',\n",
       "       'grade_2', 'grade_3', 'grade_4', 'grade_5', 'grade_6', 'grade_7',\n",
       "       'grade_8', 'grade_9', 'grade_10', 'grade_11', 'grade_12',\n",
       "       'Kindergarten Enrollment', 'Grade 1 Enrollment', 'Grade 2 Enrollment',\n",
       "       'Grade 3 Enrollment', 'Grade 4 Enrollment', 'Grade 5 Enrollment',\n",
       "       'Grade 6 Enrollment', 'Grade 7 Enrollment', 'Grade 8 Enrollment',\n",
       "       'Ungraded Elementary Enrollmnet', 'Grade 9 Enrollment',\n",
       "       'Grade 10 Enrollment', 'Grade 11 Enrollment', 'Grade 12 Enrollment',\n",
       "       'Ungraded Secondary Enrollment', 'Total Enrollment', 'sw_rank_2108',\n",
       "       'sw_rank_2017', 'sw_rank_2016', 'ss_rank_2018_', 'ss_rank_2017',\n",
       "       'ss_rank_2016', 'nodeID', 'parcel_id', 'school_id'],\n",
       "      dtype='object')"
      ]
     },
     "execution_count": 13,
     "metadata": {},
     "output_type": "execute_result"
    }
   ],
   "source": [
    "schoo"
   ]
  },
  {
   "cell_type": "code",
   "execution_count": 21,
   "metadata": {},
   "outputs": [],
   "source": [
    "a = students.loc[:,['SAMPN', 'PERNO', 'AGE', 'HPrimaryCity','school_id']].merge(schools.loc[:,['school_id','City','District']], how = 'inner', on = 'school_id')\n"
   ]
  },
  {
   "cell_type": "code",
   "execution_count": 33,
   "metadata": {},
   "outputs": [
    {
     "data": {
      "text/html": [
       "<div>\n",
       "<style scoped>\n",
       "    .dataframe tbody tr th:only-of-type {\n",
       "        vertical-align: middle;\n",
       "    }\n",
       "\n",
       "    .dataframe tbody tr th {\n",
       "        vertical-align: top;\n",
       "    }\n",
       "\n",
       "    .dataframe thead th {\n",
       "        text-align: right;\n",
       "    }\n",
       "</style>\n",
       "<table border=\"1\" class=\"dataframe\">\n",
       "  <thead>\n",
       "    <tr style=\"text-align: right;\">\n",
       "      <th></th>\n",
       "      <th>SNAME_lookup</th>\n",
       "      <th>school_id</th>\n",
       "      <th>HPrimaryCity</th>\n",
       "    </tr>\n",
       "  </thead>\n",
       "  <tbody>\n",
       "    <tr>\n",
       "      <th>199</th>\n",
       "      <td>novato hs</td>\n",
       "      <td>1710.0</td>\n",
       "      <td>SAN RAFAEL</td>\n",
       "    </tr>\n",
       "  </tbody>\n",
       "</table>\n",
       "</div>"
      ],
      "text/plain": [
       "    SNAME_lookup  school_id HPrimaryCity\n",
       "199    novato hs     1710.0   SAN RAFAEL"
      ]
     },
     "execution_count": 33,
     "metadata": {},
     "output_type": "execute_result"
    }
   ],
   "source": [
    "students[students.SAMPN == 1342402].loc[:,['SNAME_lookup','school_id', 'HPrimaryCity']]"
   ]
  },
  {
   "cell_type": "code",
   "execution_count": 32,
   "metadata": {},
   "outputs": [
    {
     "data": {
      "text/html": [
       "<div>\n",
       "<style scoped>\n",
       "    .dataframe tbody tr th:only-of-type {\n",
       "        vertical-align: middle;\n",
       "    }\n",
       "\n",
       "    .dataframe tbody tr th {\n",
       "        vertical-align: top;\n",
       "    }\n",
       "\n",
       "    .dataframe thead th {\n",
       "        text-align: right;\n",
       "    }\n",
       "</style>\n",
       "<table border=\"1\" class=\"dataframe\">\n",
       "  <thead>\n",
       "    <tr style=\"text-align: right;\">\n",
       "      <th></th>\n",
       "      <th>CDSCode</th>\n",
       "      <th>School</th>\n",
       "      <th>District</th>\n",
       "      <th>County</th>\n",
       "      <th>Street</th>\n",
       "      <th>City</th>\n",
       "      <th>Zip</th>\n",
       "      <th>State</th>\n",
       "      <th>Latitude</th>\n",
       "      <th>Longitude</th>\n",
       "      <th>...</th>\n",
       "      <th>Total Enrollment</th>\n",
       "      <th>sw_rank_2108</th>\n",
       "      <th>sw_rank_2017</th>\n",
       "      <th>sw_rank_2016</th>\n",
       "      <th>ss_rank_2018_</th>\n",
       "      <th>ss_rank_2017</th>\n",
       "      <th>ss_rank_2016</th>\n",
       "      <th>nodeID</th>\n",
       "      <th>parcel_id</th>\n",
       "      <th>school_id</th>\n",
       "    </tr>\n",
       "  </thead>\n",
       "  <tbody>\n",
       "    <tr>\n",
       "      <th>710</th>\n",
       "      <td>21654172132272</td>\n",
       "      <td>Novato High</td>\n",
       "      <td>Novato Unified</td>\n",
       "      <td>Marin</td>\n",
       "      <td>625 Arthur Street</td>\n",
       "      <td>Novato</td>\n",
       "      <td>94947-4499</td>\n",
       "      <td>CA</td>\n",
       "      <td>38.090633</td>\n",
       "      <td>-122.57293</td>\n",
       "      <td>...</td>\n",
       "      <td>1378.0</td>\n",
       "      <td>8.0</td>\n",
       "      <td>8.0</td>\n",
       "      <td>10.0</td>\n",
       "      <td>NaN</td>\n",
       "      <td>6.0</td>\n",
       "      <td>10.0</td>\n",
       "      <td>2807230972</td>\n",
       "      <td>809605</td>\n",
       "      <td>1710</td>\n",
       "    </tr>\n",
       "  </tbody>\n",
       "</table>\n",
       "<p>1 rows × 49 columns</p>\n",
       "</div>"
      ],
      "text/plain": [
       "            CDSCode       School        District County             Street  \\\n",
       "710  21654172132272  Novato High  Novato Unified  Marin  625 Arthur Street   \n",
       "\n",
       "       City         Zip State   Latitude  Longitude    ...      \\\n",
       "710  Novato  94947-4499    CA  38.090633 -122.57293    ...       \n",
       "\n",
       "    Total Enrollment  sw_rank_2108  sw_rank_2017  sw_rank_2016  ss_rank_2018_  \\\n",
       "710           1378.0           8.0           8.0          10.0            NaN   \n",
       "\n",
       "     ss_rank_2017  ss_rank_2016      nodeID  parcel_id  school_id  \n",
       "710           6.0          10.0  2807230972     809605       1710  \n",
       "\n",
       "[1 rows x 49 columns]"
      ]
     },
     "execution_count": 32,
     "metadata": {},
     "output_type": "execute_result"
    }
   ],
   "source": [
    "schools[schools.school_id == 1710]"
   ]
  },
  {
   "cell_type": "code",
   "execution_count": null,
   "metadata": {},
   "outputs": [],
   "source": []
  }
 ],
 "metadata": {
  "kernelspec": {
   "display_name": "Python 3",
   "language": "python",
   "name": "python3"
  },
  "language_info": {
   "codemirror_mode": {
    "name": "ipython",
    "version": 3
   },
   "file_extension": ".py",
   "mimetype": "text/x-python",
   "name": "python",
   "nbconvert_exporter": "python",
   "pygments_lexer": "ipython3",
   "version": "3.7.2"
  }
 },
 "nbformat": 4,
 "nbformat_minor": 2
}
